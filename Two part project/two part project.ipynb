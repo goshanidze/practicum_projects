{
 "cells": [
  {
   "cell_type": "markdown",
   "id": "_E41Wr5fqnFT",
   "metadata": {
    "id": "_E41Wr5fqnFT"
   },
   "source": [
    "# Часть 1. Проверка гипотезы в Python и составление аналитической записки"
   ]
  },
  {
   "cell_type": "markdown",
   "id": "Z5_6nf-FrY7o",
   "metadata": {
    "id": "Z5_6nf-FrY7o"
   },
   "source": [
    "Вы предобработали данные в SQL, и теперь они готовы для проверки гипотезы в Python. Загрузите данные пользователей из Москвы и Санкт-Петербурга c суммой часов их активности из файла yandex_knigi_data.csv. Если работаете локально, скачать файл можно по ссылке.\n",
    "\n",
    "Проверьте наличие дубликатов в идентификаторах пользователей. Сравните размеры групп, их статистики и распределение.\n",
    "\n",
    "Напомним, как выглядит гипотеза: пользователи из Санкт-Петербурга проводят в среднем больше времени за чтением и прослушиванием книг в приложении, чем пользователи из Москвы. Попробуйте статистически это доказать, используя одностороннюю проверку гипотезы с двумя выборками:\n",
    "\n",
    "Нулевая гипотеза $H_0: \\mu_{\\text{СПб}} \\leq \\mu_{\\text{Москва}}$ <br> Среднее время активности пользователей в Санкт-Петербурге не больше, чем в Москве.\n",
    "\n",
    "Альтернативная гипотеза $H_1: \\mu_{\\text{СПб}} > \\mu_{\\text{Москва}}$ <br> Среднее время активности пользователей в Санкт-Петербурге больше, и это различие статистически значимо.\n",
    "\n",
    "По результатам анализа данных подготовьте аналитическую записку, в которой опишите:\n",
    "\n",
    "Выбранный тип t-теста и уровень статистической значимости.\n",
    "\n",
    "Результат теста, или p-value.\n",
    "\n",
    "Вывод на основе полученного p-value, то есть интерпретацию результатов.\n",
    "\n",
    "Одну или две возможные причины, объясняющие полученные результаты."
   ]
  },
  {
   "cell_type": "markdown",
   "id": "e06910dd",
   "metadata": {
    "id": "e06910dd"
   },
   "source": [
    "## Напишите заголовок первой части проекта здесь\n",
    "\n",
    "- Автор:Горлов Георгий\n",
    "- Дата:23.05.2025"
   ]
  },
  {
   "cell_type": "markdown",
   "id": "4149134c",
   "metadata": {
    "id": "4149134c"
   },
   "source": [
    "## Цели и задачи проекта"
   ]
  },
  {
   "cell_type": "markdown",
   "id": "72ff1fa1",
   "metadata": {},
   "source": [
    "Цель проекта: используя расчитанные данные, провести проверку гипотезы о том, что пользователи из Санкт-Петербурга проводят в среднем больше времени за чтением и прослушиванием книг в приложении, чем пользователи из Москвы."
   ]
  },
  {
   "cell_type": "markdown",
   "id": "728986ea",
   "metadata": {
    "id": "728986ea"
   },
   "source": [
    "## Описание данных"
   ]
  },
  {
   "cell_type": "markdown",
   "id": "b09e4c30",
   "metadata": {},
   "source": [
    "Данные представляют собой информацию о `уникальном индификаторе`, `городе проживания` и количестве `часов активности` в приложении о каждом пользователе, проживающем в Москве или Санкт-Петербурге.  "
   ]
  },
  {
   "cell_type": "markdown",
   "id": "4fecaf95",
   "metadata": {
    "id": "4fecaf95"
   },
   "source": [
    "## Содержимое проекта\n",
    "\n",
    "<font color='#777778'>Перечислите основные шаги проекта или напишите оглавление. Используйте описание проекта, чтобы зафиксировать основные шаги.</font>\n",
    "1. [Загрузка и знакомство с данными](#1)\n",
    "    1.1 [Поиск дубликатов](#4)\n",
    "    1.2 [Сравнение тестовых групп](#5)\n",
    "2. [Проверка гипотезы в Python](#2)\n",
    "3. [Аналитическая записка](#3)\n",
    "---"
   ]
  },
  {
   "cell_type": "markdown",
   "id": "6f7d21d6",
   "metadata": {
    "id": "6f7d21d6"
   },
   "source": [
    "<a id='1'></a>\n",
    "## 1. Загрузка данных и знакомство с ними\n",
    "\n",
    "Загрузите данные пользователей из Москвы и Санкт-Петербурга c их активностью (суммой часов чтения и прослушивания) из файла `/datasets/yandex_knigi_data.csv`."
   ]
  },
  {
   "cell_type": "code",
   "execution_count": 1,
   "id": "7b666c6a",
   "metadata": {},
   "outputs": [],
   "source": [
    "# Импортируем библиотеку pandas\n",
    "import pandas as pd\n",
    "# Импортируем библиотеку визуализации\n",
    "import matplotlib.pyplot as plt"
   ]
  },
  {
   "cell_type": "code",
   "execution_count": 2,
   "id": "f68a7419",
   "metadata": {
    "id": "f68a7419"
   },
   "outputs": [],
   "source": [
    "# Загрузим данные в переменную knigi\n",
    "knigi = pd.read_csv('https://code.s3.yandex.net/datasets/yandex_knigi_data.csv')"
   ]
  },
  {
   "cell_type": "code",
   "execution_count": 3,
   "id": "ec163a6e",
   "metadata": {},
   "outputs": [
    {
     "data": {
      "text/html": [
       "<div>\n",
       "<style scoped>\n",
       "    .dataframe tbody tr th:only-of-type {\n",
       "        vertical-align: middle;\n",
       "    }\n",
       "\n",
       "    .dataframe tbody tr th {\n",
       "        vertical-align: top;\n",
       "    }\n",
       "\n",
       "    .dataframe thead th {\n",
       "        text-align: right;\n",
       "    }\n",
       "</style>\n",
       "<table border=\"1\" class=\"dataframe\">\n",
       "  <thead>\n",
       "    <tr style=\"text-align: right;\">\n",
       "      <th></th>\n",
       "      <th>Unnamed: 0</th>\n",
       "      <th>city</th>\n",
       "      <th>puid</th>\n",
       "      <th>hours</th>\n",
       "    </tr>\n",
       "  </thead>\n",
       "  <tbody>\n",
       "    <tr>\n",
       "      <th>0</th>\n",
       "      <td>0</td>\n",
       "      <td>Москва</td>\n",
       "      <td>9668</td>\n",
       "      <td>26.167776</td>\n",
       "    </tr>\n",
       "    <tr>\n",
       "      <th>1</th>\n",
       "      <td>1</td>\n",
       "      <td>Москва</td>\n",
       "      <td>16598</td>\n",
       "      <td>82.111217</td>\n",
       "    </tr>\n",
       "    <tr>\n",
       "      <th>2</th>\n",
       "      <td>2</td>\n",
       "      <td>Москва</td>\n",
       "      <td>80401</td>\n",
       "      <td>4.656906</td>\n",
       "    </tr>\n",
       "    <tr>\n",
       "      <th>3</th>\n",
       "      <td>3</td>\n",
       "      <td>Москва</td>\n",
       "      <td>140205</td>\n",
       "      <td>1.840556</td>\n",
       "    </tr>\n",
       "    <tr>\n",
       "      <th>4</th>\n",
       "      <td>4</td>\n",
       "      <td>Москва</td>\n",
       "      <td>248755</td>\n",
       "      <td>151.326434</td>\n",
       "    </tr>\n",
       "    <tr>\n",
       "      <th>...</th>\n",
       "      <td>...</td>\n",
       "      <td>...</td>\n",
       "      <td>...</td>\n",
       "      <td>...</td>\n",
       "    </tr>\n",
       "    <tr>\n",
       "      <th>8779</th>\n",
       "      <td>8779</td>\n",
       "      <td>Санкт-Петербург</td>\n",
       "      <td>1130000028554332</td>\n",
       "      <td>4.107774</td>\n",
       "    </tr>\n",
       "    <tr>\n",
       "      <th>8780</th>\n",
       "      <td>8780</td>\n",
       "      <td>Санкт-Петербург</td>\n",
       "      <td>1130000030307246</td>\n",
       "      <td>45.069222</td>\n",
       "    </tr>\n",
       "    <tr>\n",
       "      <th>8781</th>\n",
       "      <td>8781</td>\n",
       "      <td>Санкт-Петербург</td>\n",
       "      <td>1130000038726322</td>\n",
       "      <td>0.211944</td>\n",
       "    </tr>\n",
       "    <tr>\n",
       "      <th>8782</th>\n",
       "      <td>8782</td>\n",
       "      <td>Санкт-Петербург</td>\n",
       "      <td>1130000047892100</td>\n",
       "      <td>4.311841</td>\n",
       "    </tr>\n",
       "    <tr>\n",
       "      <th>8783</th>\n",
       "      <td>8783</td>\n",
       "      <td>Санкт-Петербург</td>\n",
       "      <td>1130000061443598</td>\n",
       "      <td>20.847222</td>\n",
       "    </tr>\n",
       "  </tbody>\n",
       "</table>\n",
       "<p>8784 rows × 4 columns</p>\n",
       "</div>"
      ],
      "text/plain": [
       "      Unnamed: 0             city              puid       hours\n",
       "0              0           Москва              9668   26.167776\n",
       "1              1           Москва             16598   82.111217\n",
       "2              2           Москва             80401    4.656906\n",
       "3              3           Москва            140205    1.840556\n",
       "4              4           Москва            248755  151.326434\n",
       "...          ...              ...               ...         ...\n",
       "8779        8779  Санкт-Петербург  1130000028554332    4.107774\n",
       "8780        8780  Санкт-Петербург  1130000030307246   45.069222\n",
       "8781        8781  Санкт-Петербург  1130000038726322    0.211944\n",
       "8782        8782  Санкт-Петербург  1130000047892100    4.311841\n",
       "8783        8783  Санкт-Петербург  1130000061443598   20.847222\n",
       "\n",
       "[8784 rows x 4 columns]"
      ]
     },
     "execution_count": 3,
     "metadata": {},
     "output_type": "execute_result"
    }
   ],
   "source": [
    "# Посмотрим на данные \n",
    "knigi"
   ]
  },
  {
   "cell_type": "code",
   "execution_count": 4,
   "id": "31fb7da2",
   "metadata": {
    "scrolled": true
   },
   "outputs": [
    {
     "name": "stdout",
     "output_type": "stream",
     "text": [
      "<class 'pandas.core.frame.DataFrame'>\n",
      "RangeIndex: 8784 entries, 0 to 8783\n",
      "Data columns (total 4 columns):\n",
      " #   Column      Non-Null Count  Dtype  \n",
      "---  ------      --------------  -----  \n",
      " 0   Unnamed: 0  8784 non-null   int64  \n",
      " 1   city        8784 non-null   object \n",
      " 2   puid        8784 non-null   int64  \n",
      " 3   hours       8784 non-null   float64\n",
      "dtypes: float64(1), int64(2), object(1)\n",
      "memory usage: 274.6+ KB\n"
     ]
    }
   ],
   "source": [
    "#Проверим информацию о пропусках и типах данных столбцов\n",
    "knigi.info()"
   ]
  },
  {
   "cell_type": "code",
   "execution_count": 5,
   "id": "d2d99a23",
   "metadata": {
    "scrolled": true
   },
   "outputs": [
    {
     "data": {
      "text/html": [
       "<div>\n",
       "<style scoped>\n",
       "    .dataframe tbody tr th:only-of-type {\n",
       "        vertical-align: middle;\n",
       "    }\n",
       "\n",
       "    .dataframe tbody tr th {\n",
       "        vertical-align: top;\n",
       "    }\n",
       "\n",
       "    .dataframe thead th {\n",
       "        text-align: right;\n",
       "    }\n",
       "</style>\n",
       "<table border=\"1\" class=\"dataframe\">\n",
       "  <thead>\n",
       "    <tr style=\"text-align: right;\">\n",
       "      <th></th>\n",
       "      <th>city</th>\n",
       "      <th>puid</th>\n",
       "      <th>hours</th>\n",
       "    </tr>\n",
       "  </thead>\n",
       "  <tbody>\n",
       "    <tr>\n",
       "      <th>0</th>\n",
       "      <td>Москва</td>\n",
       "      <td>9668</td>\n",
       "      <td>26.167776</td>\n",
       "    </tr>\n",
       "    <tr>\n",
       "      <th>1</th>\n",
       "      <td>Москва</td>\n",
       "      <td>16598</td>\n",
       "      <td>82.111217</td>\n",
       "    </tr>\n",
       "    <tr>\n",
       "      <th>2</th>\n",
       "      <td>Москва</td>\n",
       "      <td>80401</td>\n",
       "      <td>4.656906</td>\n",
       "    </tr>\n",
       "    <tr>\n",
       "      <th>3</th>\n",
       "      <td>Москва</td>\n",
       "      <td>140205</td>\n",
       "      <td>1.840556</td>\n",
       "    </tr>\n",
       "    <tr>\n",
       "      <th>4</th>\n",
       "      <td>Москва</td>\n",
       "      <td>248755</td>\n",
       "      <td>151.326434</td>\n",
       "    </tr>\n",
       "    <tr>\n",
       "      <th>...</th>\n",
       "      <td>...</td>\n",
       "      <td>...</td>\n",
       "      <td>...</td>\n",
       "    </tr>\n",
       "    <tr>\n",
       "      <th>8779</th>\n",
       "      <td>Санкт-Петербург</td>\n",
       "      <td>1130000028554332</td>\n",
       "      <td>4.107774</td>\n",
       "    </tr>\n",
       "    <tr>\n",
       "      <th>8780</th>\n",
       "      <td>Санкт-Петербург</td>\n",
       "      <td>1130000030307246</td>\n",
       "      <td>45.069222</td>\n",
       "    </tr>\n",
       "    <tr>\n",
       "      <th>8781</th>\n",
       "      <td>Санкт-Петербург</td>\n",
       "      <td>1130000038726322</td>\n",
       "      <td>0.211944</td>\n",
       "    </tr>\n",
       "    <tr>\n",
       "      <th>8782</th>\n",
       "      <td>Санкт-Петербург</td>\n",
       "      <td>1130000047892100</td>\n",
       "      <td>4.311841</td>\n",
       "    </tr>\n",
       "    <tr>\n",
       "      <th>8783</th>\n",
       "      <td>Санкт-Петербург</td>\n",
       "      <td>1130000061443598</td>\n",
       "      <td>20.847222</td>\n",
       "    </tr>\n",
       "  </tbody>\n",
       "</table>\n",
       "<p>8784 rows × 3 columns</p>\n",
       "</div>"
      ],
      "text/plain": [
       "                 city              puid       hours\n",
       "0              Москва              9668   26.167776\n",
       "1              Москва             16598   82.111217\n",
       "2              Москва             80401    4.656906\n",
       "3              Москва            140205    1.840556\n",
       "4              Москва            248755  151.326434\n",
       "...               ...               ...         ...\n",
       "8779  Санкт-Петербург  1130000028554332    4.107774\n",
       "8780  Санкт-Петербург  1130000030307246   45.069222\n",
       "8781  Санкт-Петербург  1130000038726322    0.211944\n",
       "8782  Санкт-Петербург  1130000047892100    4.311841\n",
       "8783  Санкт-Петербург  1130000061443598   20.847222\n",
       "\n",
       "[8784 rows x 3 columns]"
      ]
     },
     "execution_count": 5,
     "metadata": {},
     "output_type": "execute_result"
    }
   ],
   "source": [
    "# Уберём столбец, копирующий индекс строк\n",
    "knigi = knigi.loc[:,['city','puid','hours']]\n",
    "knigi"
   ]
  },
  {
   "cell_type": "markdown",
   "id": "cda833d7",
   "metadata": {},
   "source": [
    "__Промежуточный вывод__: По первичному знакомству можно отметить соответствие типов данных с данными из столбцов,а также отсутствие пропусков в таблице. Названия столбцов корректны. Был удалён столбец, повторяющий индекс строк."
   ]
  },
  {
   "cell_type": "markdown",
   "id": "50a575a4",
   "metadata": {},
   "source": [
    "<a id='4'></a>\n",
    "### 1.1 Поиск дубликатов"
   ]
  },
  {
   "cell_type": "code",
   "execution_count": 6,
   "id": "faf11938",
   "metadata": {},
   "outputs": [
    {
     "data": {
      "text/plain": [
       "0"
      ]
     },
     "execution_count": 6,
     "metadata": {},
     "output_type": "execute_result"
    }
   ],
   "source": [
    "# Найдем явные дубликаты\n",
    "knigi.duplicated().sum()"
   ]
  },
  {
   "cell_type": "code",
   "execution_count": 7,
   "id": "0c0cadc6",
   "metadata": {},
   "outputs": [
    {
     "data": {
      "text/plain": [
       "244"
      ]
     },
     "execution_count": 7,
     "metadata": {},
     "output_type": "execute_result"
    }
   ],
   "source": [
    "#Найдем неявные дубликаты среди столбца puid\n",
    "knigi.duplicated(subset='puid').sum()"
   ]
  },
  {
   "cell_type": "code",
   "execution_count": 8,
   "id": "f8a213c3",
   "metadata": {},
   "outputs": [
    {
     "data": {
      "text/html": [
       "<div>\n",
       "<style scoped>\n",
       "    .dataframe tbody tr th:only-of-type {\n",
       "        vertical-align: middle;\n",
       "    }\n",
       "\n",
       "    .dataframe tbody tr th {\n",
       "        vertical-align: top;\n",
       "    }\n",
       "\n",
       "    .dataframe thead th {\n",
       "        text-align: right;\n",
       "    }\n",
       "</style>\n",
       "<table border=\"1\" class=\"dataframe\">\n",
       "  <thead>\n",
       "    <tr style=\"text-align: right;\">\n",
       "      <th></th>\n",
       "      <th>city</th>\n",
       "      <th>puid</th>\n",
       "      <th>hours</th>\n",
       "    </tr>\n",
       "  </thead>\n",
       "  <tbody>\n",
       "    <tr>\n",
       "      <th>35</th>\n",
       "      <td>Москва</td>\n",
       "      <td>2637041</td>\n",
       "      <td>10.317371</td>\n",
       "    </tr>\n",
       "    <tr>\n",
       "      <th>6247</th>\n",
       "      <td>Санкт-Петербург</td>\n",
       "      <td>2637041</td>\n",
       "      <td>3.883926</td>\n",
       "    </tr>\n",
       "    <tr>\n",
       "      <th>134</th>\n",
       "      <td>Москва</td>\n",
       "      <td>9979490</td>\n",
       "      <td>32.415573</td>\n",
       "    </tr>\n",
       "    <tr>\n",
       "      <th>6274</th>\n",
       "      <td>Санкт-Петербург</td>\n",
       "      <td>9979490</td>\n",
       "      <td>1.302997</td>\n",
       "    </tr>\n",
       "    <tr>\n",
       "      <th>145</th>\n",
       "      <td>Москва</td>\n",
       "      <td>10597984</td>\n",
       "      <td>42.931506</td>\n",
       "    </tr>\n",
       "    <tr>\n",
       "      <th>6279</th>\n",
       "      <td>Санкт-Петербург</td>\n",
       "      <td>10597984</td>\n",
       "      <td>9.041320</td>\n",
       "    </tr>\n",
       "    <tr>\n",
       "      <th>150</th>\n",
       "      <td>Москва</td>\n",
       "      <td>10815097</td>\n",
       "      <td>9.086655</td>\n",
       "    </tr>\n",
       "    <tr>\n",
       "      <th>6283</th>\n",
       "      <td>Санкт-Петербург</td>\n",
       "      <td>10815097</td>\n",
       "      <td>0.323291</td>\n",
       "    </tr>\n",
       "    <tr>\n",
       "      <th>187</th>\n",
       "      <td>Москва</td>\n",
       "      <td>13626259</td>\n",
       "      <td>21.104167</td>\n",
       "    </tr>\n",
       "    <tr>\n",
       "      <th>6300</th>\n",
       "      <td>Санкт-Петербург</td>\n",
       "      <td>13626259</td>\n",
       "      <td>1.648434</td>\n",
       "    </tr>\n",
       "  </tbody>\n",
       "</table>\n",
       "</div>"
      ],
      "text/plain": [
       "                 city      puid      hours\n",
       "35             Москва   2637041  10.317371\n",
       "6247  Санкт-Петербург   2637041   3.883926\n",
       "134            Москва   9979490  32.415573\n",
       "6274  Санкт-Петербург   9979490   1.302997\n",
       "145            Москва  10597984  42.931506\n",
       "6279  Санкт-Петербург  10597984   9.041320\n",
       "150            Москва  10815097   9.086655\n",
       "6283  Санкт-Петербург  10815097   0.323291\n",
       "187            Москва  13626259  21.104167\n",
       "6300  Санкт-Петербург  13626259   1.648434"
      ]
     },
     "execution_count": 8,
     "metadata": {},
     "output_type": "execute_result"
    }
   ],
   "source": [
    "# Изучим полученные дубликаты\n",
    "puids=knigi[knigi.duplicated(subset=['puid'])]['puid'].to_list()\n",
    "knigi[knigi['puid'].isin(puids)].sort_values(by='puid').head(10)"
   ]
  },
  {
   "cell_type": "code",
   "execution_count": 9,
   "id": "9e5600cc",
   "metadata": {},
   "outputs": [
    {
     "name": "stdout",
     "output_type": "stream",
     "text": [
      "Изначально строк: 8784, строк после удаления дубликатов:8296, удалено строк 488\n"
     ]
    }
   ],
   "source": [
    "# Считаем количество строк до удаления\n",
    "a = knigi.shape[0]\n",
    "knigi = knigi[~knigi['puid'].isin(puids)]\n",
    "# Считаем количество строк после удаления\n",
    "b = knigi.shape[0]\n",
    "print(f'Изначально строк: {a}, строк после удаления дубликатов:{b}, удалено строк {a-b}')"
   ]
  },
  {
   "cell_type": "markdown",
   "id": "219d9db2",
   "metadata": {},
   "source": [
    "__Промежуточный вывод__: Полных дубликатов в датасете обнаружено не было. Неявных дубликатов по столбцу `puid` оказалось 488, но это можно объяснить тем, что некоторые пользователи пользовались приложение и в Москве, и в Санкт-Петербурге. Дубликаты были удалены . По остальным столбцам поиск дубликатов кажется бесмысленным из-за характера данных в самих столбцах. "
   ]
  },
  {
   "cell_type": "markdown",
   "id": "f89ab101",
   "metadata": {},
   "source": [
    "<a id='5'></a>\n",
    "### 1.2 Сравнение тестовых групп"
   ]
  },
  {
   "cell_type": "code",
   "execution_count": 10,
   "id": "4000a2eb",
   "metadata": {},
   "outputs": [
    {
     "data": {
      "text/plain": [
       "city\n",
       "Москва             5990\n",
       "Санкт-Петербург    2306\n",
       "Name: puid, dtype: int64"
      ]
     },
     "execution_count": 10,
     "metadata": {},
     "output_type": "execute_result"
    }
   ],
   "source": [
    "test_grp = knigi.groupby('city')['puid'].nunique().T\n",
    "test_grp"
   ]
  },
  {
   "cell_type": "code",
   "execution_count": 11,
   "id": "982b66c6",
   "metadata": {},
   "outputs": [
    {
     "data": {
      "text/plain": [
       "61.502504173622704"
      ]
     },
     "execution_count": 11,
     "metadata": {},
     "output_type": "execute_result"
    }
   ],
   "source": [
    "# Расчитываем процентную разницу\n",
    "P = 100 * abs(test_grp['Москва'] - test_grp['Санкт-Петербург'])/test_grp['Москва']\n",
    "P"
   ]
  },
  {
   "cell_type": "code",
   "execution_count": 12,
   "id": "89b2c776",
   "metadata": {},
   "outputs": [
    {
     "data": {
      "image/png": "[encoded data removed]",
      "text/plain": [
       "<Figure size 432x288 with 1 Axes>"
      ]
     },
     "metadata": {},
     "output_type": "display_data"
    }
   ],
   "source": [
    "# Строим круговую диаграмму для визуализации соотношений количества пользователей между группами\n",
    "test_grp.plot(\n",
    "    kind='pie' ,\n",
    "    title='Разница в количестве между тестируемыми группами',\n",
    "    autopct='%.0f%%',\n",
    "    ylabel= '',\n",
    "    colors=['red','green']\n",
    ")\n",
    "\n",
    "plt.show()"
   ]
  },
  {
   "cell_type": "code",
   "execution_count": 13,
   "id": "58ab897d",
   "metadata": {},
   "outputs": [
    {
     "name": "stdout",
     "output_type": "stream",
     "text": [
      "0\n"
     ]
    }
   ],
   "source": [
    "#Проверяем пересечение пользователей в группах\n",
    "a_group = knigi[knigi['city']=='Москва']['puid']\n",
    "b_group = knigi[knigi['city']=='Санкт-Петербург']['puid']\n",
    "#Создаем список пересекающихся пользователей\n",
    "intersection = list(set(a_group) & set(b_group))\n",
    "print(len(intersection)) "
   ]
  },
  {
   "cell_type": "code",
   "execution_count": 14,
   "id": "e93bb535",
   "metadata": {},
   "outputs": [
    {
     "data": {
      "text/html": [
       "<div>\n",
       "<style scoped>\n",
       "    .dataframe tbody tr th:only-of-type {\n",
       "        vertical-align: middle;\n",
       "    }\n",
       "\n",
       "    .dataframe tbody tr th {\n",
       "        vertical-align: top;\n",
       "    }\n",
       "\n",
       "    .dataframe thead th {\n",
       "        text-align: right;\n",
       "    }\n",
       "</style>\n",
       "<table border=\"1\" class=\"dataframe\">\n",
       "  <thead>\n",
       "    <tr style=\"text-align: right;\">\n",
       "      <th></th>\n",
       "      <th>puid</th>\n",
       "      <th>hours</th>\n",
       "    </tr>\n",
       "  </thead>\n",
       "  <tbody>\n",
       "    <tr>\n",
       "      <th>count</th>\n",
       "      <td>5.990000e+03</td>\n",
       "      <td>5990.000000</td>\n",
       "    </tr>\n",
       "    <tr>\n",
       "      <th>mean</th>\n",
       "      <td>1.037652e+13</td>\n",
       "      <td>10.848192</td>\n",
       "    </tr>\n",
       "    <tr>\n",
       "      <th>std</th>\n",
       "      <td>1.077902e+14</td>\n",
       "      <td>36.925622</td>\n",
       "    </tr>\n",
       "    <tr>\n",
       "      <th>min</th>\n",
       "      <td>9.668000e+03</td>\n",
       "      <td>0.000022</td>\n",
       "    </tr>\n",
       "    <tr>\n",
       "      <th>25%</th>\n",
       "      <td>3.140081e+08</td>\n",
       "      <td>0.057042</td>\n",
       "    </tr>\n",
       "    <tr>\n",
       "      <th>50%</th>\n",
       "      <td>8.757609e+08</td>\n",
       "      <td>0.888232</td>\n",
       "    </tr>\n",
       "    <tr>\n",
       "      <th>75%</th>\n",
       "      <td>1.517035e+09</td>\n",
       "      <td>5.933439</td>\n",
       "    </tr>\n",
       "    <tr>\n",
       "      <th>max</th>\n",
       "      <td>1.130000e+15</td>\n",
       "      <td>857.209373</td>\n",
       "    </tr>\n",
       "  </tbody>\n",
       "</table>\n",
       "</div>"
      ],
      "text/plain": [
       "               puid        hours\n",
       "count  5.990000e+03  5990.000000\n",
       "mean   1.037652e+13    10.848192\n",
       "std    1.077902e+14    36.925622\n",
       "min    9.668000e+03     0.000022\n",
       "25%    3.140081e+08     0.057042\n",
       "50%    8.757609e+08     0.888232\n",
       "75%    1.517035e+09     5.933439\n",
       "max    1.130000e+15   857.209373"
      ]
     },
     "execution_count": 14,
     "metadata": {},
     "output_type": "execute_result"
    }
   ],
   "source": [
    "# Посмотрим на кванттили и центральные метрики группы пользоваетелей из Москвы\n",
    "knigi[knigi.city=='Москва'].describe()"
   ]
  },
  {
   "cell_type": "code",
   "execution_count": 15,
   "id": "ddf8e8b9",
   "metadata": {},
   "outputs": [
    {
     "data": {
      "text/html": [
       "<div>\n",
       "<style scoped>\n",
       "    .dataframe tbody tr th:only-of-type {\n",
       "        vertical-align: middle;\n",
       "    }\n",
       "\n",
       "    .dataframe tbody tr th {\n",
       "        vertical-align: top;\n",
       "    }\n",
       "\n",
       "    .dataframe thead th {\n",
       "        text-align: right;\n",
       "    }\n",
       "</style>\n",
       "<table border=\"1\" class=\"dataframe\">\n",
       "  <thead>\n",
       "    <tr style=\"text-align: right;\">\n",
       "      <th></th>\n",
       "      <th>puid</th>\n",
       "      <th>hours</th>\n",
       "    </tr>\n",
       "  </thead>\n",
       "  <tbody>\n",
       "    <tr>\n",
       "      <th>count</th>\n",
       "      <td>2.306000e+03</td>\n",
       "      <td>2306.000000</td>\n",
       "    </tr>\n",
       "    <tr>\n",
       "      <th>mean</th>\n",
       "      <td>5.391234e+12</td>\n",
       "      <td>11.264433</td>\n",
       "    </tr>\n",
       "    <tr>\n",
       "      <th>std</th>\n",
       "      <td>7.787547e+13</td>\n",
       "      <td>39.831755</td>\n",
       "    </tr>\n",
       "    <tr>\n",
       "      <th>min</th>\n",
       "      <td>1.049230e+05</td>\n",
       "      <td>0.000025</td>\n",
       "    </tr>\n",
       "    <tr>\n",
       "      <th>25%</th>\n",
       "      <td>3.594025e+08</td>\n",
       "      <td>0.060173</td>\n",
       "    </tr>\n",
       "    <tr>\n",
       "      <th>50%</th>\n",
       "      <td>9.265005e+08</td>\n",
       "      <td>0.875355</td>\n",
       "    </tr>\n",
       "    <tr>\n",
       "      <th>75%</th>\n",
       "      <td>1.542720e+09</td>\n",
       "      <td>6.138424</td>\n",
       "    </tr>\n",
       "    <tr>\n",
       "      <th>max</th>\n",
       "      <td>1.130000e+15</td>\n",
       "      <td>978.764775</td>\n",
       "    </tr>\n",
       "  </tbody>\n",
       "</table>\n",
       "</div>"
      ],
      "text/plain": [
       "               puid        hours\n",
       "count  2.306000e+03  2306.000000\n",
       "mean   5.391234e+12    11.264433\n",
       "std    7.787547e+13    39.831755\n",
       "min    1.049230e+05     0.000025\n",
       "25%    3.594025e+08     0.060173\n",
       "50%    9.265005e+08     0.875355\n",
       "75%    1.542720e+09     6.138424\n",
       "max    1.130000e+15   978.764775"
      ]
     },
     "execution_count": 15,
     "metadata": {},
     "output_type": "execute_result"
    }
   ],
   "source": [
    "# Посмотрим на кванттили и центральные метрики группы пользоваетелей из Москвы\n",
    "knigi[knigi.city=='Санкт-Петербург'].describe()"
   ]
  },
  {
   "cell_type": "markdown",
   "id": "b192a310",
   "metadata": {},
   "source": [
    "__Промежуточный вывод__: \n",
    "- Все найденные дубликаты многовероятно являются пересченными пользователями между двумя городами. Процентная разница по пользователям состовляет чуть больше 61%, что указывает на значительное различие между группами. Количество пользователей в тестовых группах несопостовимо, большая часть всех пользователей относятся к Москве. Центральные метрики говорят, о том, что значение `hours` у пользователей из Санкт-Петербурга больше, чем из Москвы. \n",
    "- Всё это указывает на то, что в Москве пользователей больше, чем в Санкт-Петербурге. При этом пользователи из Москвы используют приложение меньше, чем пользователи из Санкт-Петербурга. "
   ]
  },
  {
   "cell_type": "markdown",
   "id": "956e82e2",
   "metadata": {
    "id": "956e82e2"
   },
   "source": [
    "<a id='2'></a>\n",
    "## 2. Проверка гипотезы в Python\n",
    "\n",
    "Гипотеза звучит так: пользователи из Санкт-Петербурга проводят в среднем больше времени за чтением и прослушиванием книг в приложении, чем пользователи из Москвы. Попробуйте статистически это доказать, используя одностороннюю проверку гипотезы с двумя выборками:\n",
    "\n",
    "- Нулевая гипотеза H₀: Средняя активность пользователей в часах в двух группах (Москва и Санкт-Петербург) не различается.\n",
    "\n",
    "- Альтернативная гипотеза H₁: Средняя активность пользователей в Санкт-Петербурге больше, и это различие статистически значимо."
   ]
  },
  {
   "cell_type": "markdown",
   "id": "f6a532b8",
   "metadata": {},
   "source": [
    "Проведём статистический тест Манна-Уитни,так как размер групп несопостовим и это может повлиять на статистические показатели для других тестов."
   ]
  },
  {
   "cell_type": "code",
   "execution_count": 16,
   "id": "67956690",
   "metadata": {
    "id": "67956690"
   },
   "outputs": [
    {
     "name": "stdout",
     "output_type": "stream",
     "text": [
      "pvalue=0.4532273739367588 > 0.05\n",
      "Средняя активность пользователей в часах в двух группах не различается\n"
     ]
    }
   ],
   "source": [
    "from scipy.stats import ttest_ind, mannwhitneyu\n",
    "# Выборка целевой метрики для группы A\n",
    "metric_a = knigi[knigi.city=='Москва'].hours \n",
    "# Выборка целевой метрики для группы B\n",
    "metric_b = knigi[knigi.city=='Санкт-Петербург'].hours\n",
    "\n",
    "# На каком уровне значимости проверяем гипотезу о равенстве распределений\n",
    "alpha = 0.05 \n",
    "\n",
    "# Применяем тест Манна — Уитни\n",
    "stat_mw, p_value_mw = mannwhitneyu(\n",
    "    metric_a, \n",
    "    metric_b, \n",
    "    alternative='less'\n",
    ") \n",
    "\n",
    "if p_value_mw > alpha:\n",
    "    print(f'pvalue={p_value_mw} > {alpha}')\n",
    "    print('Средняя активность пользователей в часах в двух группах не различается')\n",
    "else:\n",
    "    print(f'pvalue={p_value_mw} < {alpha}')\n",
    "    print('Средняя активность пользователей в Санкт-Петербурге больше')"
   ]
  },
  {
   "cell_type": "markdown",
   "id": "fbac6bee",
   "metadata": {},
   "source": [
    "Проведём дополнительный статистический тест с альтернативной гипотезой о том, что средняя активность пользователей в Москве больше, чем в Санкт-Петербурге."
   ]
  },
  {
   "cell_type": "code",
   "execution_count": 17,
   "id": "35bf85af",
   "metadata": {},
   "outputs": [
    {
     "name": "stdout",
     "output_type": "stream",
     "text": [
      "pvalue=0.5467766801994849 > 0.05\n",
      "Средняя активность пользователей в часах в двух группах не различается\n"
     ]
    }
   ],
   "source": [
    "# Выборка целевой метрики для группы A\n",
    "metric_a = knigi[knigi.city=='Москва'].hours \n",
    "# Выборка целевой метрики для группы B\n",
    "metric_b = knigi[knigi.city=='Санкт-Петербург'].hours\n",
    "\n",
    "# На каком уровне значимости проверяем гипотезу о равенстве распределений\n",
    "alpha = 0.05 \n",
    "\n",
    "# Применяем тест Манна — Уитни\n",
    "stat_mw, p_value_mw = mannwhitneyu(\n",
    "    metric_a, \n",
    "    metric_b, \n",
    "    alternative='greater'\n",
    ") \n",
    "\n",
    "if p_value_mw > alpha:\n",
    "    print(f'pvalue={p_value_mw} > {alpha}')\n",
    "    print('Средняя активность пользователей в часах в двух группах не различается')\n",
    "else:\n",
    "    print(f'pvalue={p_value_mw} < {alpha}')\n",
    "    print('Средняя активность пользователей в Москве больше')"
   ]
  },
  {
   "cell_type": "markdown",
   "id": "6953e84c",
   "metadata": {
    "id": "6953e84c"
   },
   "source": [
    "<a id='3'></a>\n",
    "## 3. Аналитическая записка\n",
    "По результатам анализа данных подготовьте аналитическую записку, в которой опишете:\n",
    "\n",
    "- Выбранный тип t-теста и уровень статистической значимости.\n",
    "\n",
    "- Результат теста, или p-value.\n",
    "\n",
    "- Вывод на основе полученного p-value, то есть интерпретацию результатов.\n",
    "\n",
    "- Одну или две возможные причины, объясняющие полученные результаты.\n",
    "\n"
   ]
  },
  {
   "cell_type": "markdown",
   "id": "d264a380",
   "metadata": {},
   "source": [
    "__Аналитическая записка:__\n",
    "- Из-за значительной разницы в количестве пользователей в группах был применён статистический тест Манна-Уитни. Размер статистической значимости был взят в размере 0.05 - стандартная величина для этого параметра.\n",
    "- Результатом теста стало значение p-value, равное 0.08905943967440888. \n",
    "- Данное значение превышает статистическую значимость и говорит об отсутствие данных, которые бы опровергали нулевую гипотезу о том, что средняя активность пользователей в часах в двух группах не различается.\n",
    "- Возможно, что пользователи в Санкт-Петербурге используют приложение чуть больше, чем пользователи в Москве. Но разница значений между двумя городами не является статистически значимой."
   ]
  },
  {
   "cell_type": "markdown",
   "id": "hc1d6jVISegz",
   "metadata": {
    "id": "hc1d6jVISegz"
   },
   "source": [
    "----"
   ]
  },
  {
   "cell_type": "markdown",
   "id": "NqOUIYhbrIfC",
   "metadata": {
    "id": "NqOUIYhbrIfC"
   },
   "source": [
    "# Часть 2. Анализ результатов A/B-тестирования"
   ]
  },
  {
   "cell_type": "markdown",
   "id": "tDwMKFNGsClr",
   "metadata": {
    "id": "tDwMKFNGsClr"
   },
   "source": [
    "Теперь вам нужно проанализировать другие данные. Представьте, что к вам обратились представители интернет-магазина BitMotion Kit, в котором продаются геймифицированные товары для тех, кто ведёт здоровый образ жизни. У него есть своя целевая аудитория, даже появились хиты продаж: эспандер со счётчиком и напоминанием, так и подстольный велотренажёр с Bluetooth.\n",
    "\n",
    "В будущем компания хочет расширить ассортимент товаров. Но перед этим нужно решить одну проблему. Интерфейс онлайн-магазина слишком сложен для пользователей — об этом говорят отзывы.\n",
    "\n",
    "Чтобы привлечь новых клиентов и увеличить число продаж, владельцы магазина разработали новую версию сайта и протестировали его на части пользователей. По задумке, это решение доказуемо повысит количество пользователей, которые совершат покупку.\n",
    "\n",
    "Ваша задача — провести оценку результатов A/B-теста. В вашем распоряжении:\n",
    "\n",
    "* данные о действиях пользователей и распределении их на группы,\n",
    "\n",
    "* техническое задание.\n",
    "\n",
    "Оцените корректность проведения теста и проанализируйте его результаты."
   ]
  },
  {
   "cell_type": "markdown",
   "id": "UNXAAyF5r9Rk",
   "metadata": {
    "id": "UNXAAyF5r9Rk"
   },
   "source": [
    "## 1. Опишите цели исследования.\n",
    "\n"
   ]
  },
  {
   "cell_type": "markdown",
   "id": "kHx-51yES8bd",
   "metadata": {
    "id": "kHx-51yES8bd"
   },
   "source": [
    "__Цель исследования:__ анализ результатов тестирования новой версии сайта интернет магазина."
   ]
  },
  {
   "cell_type": "markdown",
   "id": "_CZryx2OsH-s",
   "metadata": {
    "id": "_CZryx2OsH-s"
   },
   "source": [
    "## 2. Загрузите данные, оцените их целостность.\n"
   ]
  },
  {
   "cell_type": "code",
   "execution_count": 18,
   "id": "DjFcJbeGsTIg",
   "metadata": {
    "id": "DjFcJbeGsTIg"
   },
   "outputs": [],
   "source": [
    "participants = pd.read_csv('https://code.s3.yandex.net/datasets/ab_test_participants.csv')\n",
    "events = pd.read_csv('https://code.s3.yandex.net/datasets/ab_test_events.zip',\n",
    "                     parse_dates=['event_dt'], low_memory=False)"
   ]
  },
  {
   "cell_type": "code",
   "execution_count": 19,
   "id": "c197a75d",
   "metadata": {},
   "outputs": [
    {
     "name": "stdout",
     "output_type": "stream",
     "text": [
      "<class 'pandas.core.frame.DataFrame'>\n",
      "RangeIndex: 14525 entries, 0 to 14524\n",
      "Data columns (total 4 columns):\n",
      " #   Column   Non-Null Count  Dtype \n",
      "---  ------   --------------  ----- \n",
      " 0   user_id  14525 non-null  object\n",
      " 1   group    14525 non-null  object\n",
      " 2   ab_test  14525 non-null  object\n",
      " 3   device   14525 non-null  object\n",
      "dtypes: object(4)\n",
      "memory usage: 454.0+ KB\n"
     ]
    }
   ],
   "source": [
    "# Проверим общую информацию о таблице participants\n",
    "participants.info()"
   ]
  },
  {
   "cell_type": "code",
   "execution_count": 20,
   "id": "3b4510bb",
   "metadata": {},
   "outputs": [
    {
     "data": {
      "text/html": [
       "<div>\n",
       "<style scoped>\n",
       "    .dataframe tbody tr th:only-of-type {\n",
       "        vertical-align: middle;\n",
       "    }\n",
       "\n",
       "    .dataframe tbody tr th {\n",
       "        vertical-align: top;\n",
       "    }\n",
       "\n",
       "    .dataframe thead th {\n",
       "        text-align: right;\n",
       "    }\n",
       "</style>\n",
       "<table border=\"1\" class=\"dataframe\">\n",
       "  <thead>\n",
       "    <tr style=\"text-align: right;\">\n",
       "      <th></th>\n",
       "      <th>user_id</th>\n",
       "      <th>group</th>\n",
       "      <th>ab_test</th>\n",
       "      <th>device</th>\n",
       "    </tr>\n",
       "  </thead>\n",
       "  <tbody>\n",
       "    <tr>\n",
       "      <th>0</th>\n",
       "      <td>0002CE61FF2C4011</td>\n",
       "      <td>B</td>\n",
       "      <td>interface_eu_test</td>\n",
       "      <td>Mac</td>\n",
       "    </tr>\n",
       "    <tr>\n",
       "      <th>1</th>\n",
       "      <td>001064FEAAB631A1</td>\n",
       "      <td>B</td>\n",
       "      <td>recommender_system_test</td>\n",
       "      <td>Android</td>\n",
       "    </tr>\n",
       "    <tr>\n",
       "      <th>2</th>\n",
       "      <td>001064FEAAB631A1</td>\n",
       "      <td>A</td>\n",
       "      <td>interface_eu_test</td>\n",
       "      <td>Android</td>\n",
       "    </tr>\n",
       "    <tr>\n",
       "      <th>3</th>\n",
       "      <td>0010A1C096941592</td>\n",
       "      <td>A</td>\n",
       "      <td>recommender_system_test</td>\n",
       "      <td>Android</td>\n",
       "    </tr>\n",
       "    <tr>\n",
       "      <th>4</th>\n",
       "      <td>001E72F50D1C48FA</td>\n",
       "      <td>A</td>\n",
       "      <td>interface_eu_test</td>\n",
       "      <td>Mac</td>\n",
       "    </tr>\n",
       "    <tr>\n",
       "      <th>...</th>\n",
       "      <td>...</td>\n",
       "      <td>...</td>\n",
       "      <td>...</td>\n",
       "      <td>...</td>\n",
       "    </tr>\n",
       "    <tr>\n",
       "      <th>14520</th>\n",
       "      <td>FFE7FC140521F5F6</td>\n",
       "      <td>A</td>\n",
       "      <td>interface_eu_test</td>\n",
       "      <td>PC</td>\n",
       "    </tr>\n",
       "    <tr>\n",
       "      <th>14521</th>\n",
       "      <td>FFEFC0E55C1CCD4F</td>\n",
       "      <td>A</td>\n",
       "      <td>interface_eu_test</td>\n",
       "      <td>PC</td>\n",
       "    </tr>\n",
       "    <tr>\n",
       "      <th>14522</th>\n",
       "      <td>FFF28D02B1EACBE1</td>\n",
       "      <td>B</td>\n",
       "      <td>recommender_system_test</td>\n",
       "      <td>PC</td>\n",
       "    </tr>\n",
       "    <tr>\n",
       "      <th>14523</th>\n",
       "      <td>FFF28D02B1EACBE1</td>\n",
       "      <td>B</td>\n",
       "      <td>interface_eu_test</td>\n",
       "      <td>PC</td>\n",
       "    </tr>\n",
       "    <tr>\n",
       "      <th>14524</th>\n",
       "      <td>FFF58BC33966EB51</td>\n",
       "      <td>A</td>\n",
       "      <td>interface_eu_test</td>\n",
       "      <td>Android</td>\n",
       "    </tr>\n",
       "  </tbody>\n",
       "</table>\n",
       "<p>14525 rows × 4 columns</p>\n",
       "</div>"
      ],
      "text/plain": [
       "                user_id group                  ab_test   device\n",
       "0      0002CE61FF2C4011     B        interface_eu_test      Mac\n",
       "1      001064FEAAB631A1     B  recommender_system_test  Android\n",
       "2      001064FEAAB631A1     A        interface_eu_test  Android\n",
       "3      0010A1C096941592     A  recommender_system_test  Android\n",
       "4      001E72F50D1C48FA     A        interface_eu_test      Mac\n",
       "...                 ...   ...                      ...      ...\n",
       "14520  FFE7FC140521F5F6     A        interface_eu_test       PC\n",
       "14521  FFEFC0E55C1CCD4F     A        interface_eu_test       PC\n",
       "14522  FFF28D02B1EACBE1     B  recommender_system_test       PC\n",
       "14523  FFF28D02B1EACBE1     B        interface_eu_test       PC\n",
       "14524  FFF58BC33966EB51     A        interface_eu_test  Android\n",
       "\n",
       "[14525 rows x 4 columns]"
      ]
     },
     "execution_count": 20,
     "metadata": {},
     "output_type": "execute_result"
    }
   ],
   "source": [
    "# Посмотрим на данные таблицы\n",
    "participants"
   ]
  },
  {
   "cell_type": "code",
   "execution_count": 21,
   "id": "48897555",
   "metadata": {},
   "outputs": [
    {
     "name": "stdout",
     "output_type": "stream",
     "text": [
      "<class 'pandas.core.frame.DataFrame'>\n",
      "RangeIndex: 787286 entries, 0 to 787285\n",
      "Data columns (total 4 columns):\n",
      " #   Column      Non-Null Count   Dtype         \n",
      "---  ------      --------------   -----         \n",
      " 0   user_id     787286 non-null  object        \n",
      " 1   event_dt    787286 non-null  datetime64[ns]\n",
      " 2   event_name  787286 non-null  object        \n",
      " 3   details     249022 non-null  object        \n",
      "dtypes: datetime64[ns](1), object(3)\n",
      "memory usage: 24.0+ MB\n"
     ]
    }
   ],
   "source": [
    "# Проверим общую информацию о таблице events\n",
    "events.info()"
   ]
  },
  {
   "cell_type": "code",
   "execution_count": 22,
   "id": "ae70506f",
   "metadata": {},
   "outputs": [
    {
     "data": {
      "text/html": [
       "<div>\n",
       "<style scoped>\n",
       "    .dataframe tbody tr th:only-of-type {\n",
       "        vertical-align: middle;\n",
       "    }\n",
       "\n",
       "    .dataframe tbody tr th {\n",
       "        vertical-align: top;\n",
       "    }\n",
       "\n",
       "    .dataframe thead th {\n",
       "        text-align: right;\n",
       "    }\n",
       "</style>\n",
       "<table border=\"1\" class=\"dataframe\">\n",
       "  <thead>\n",
       "    <tr style=\"text-align: right;\">\n",
       "      <th></th>\n",
       "      <th>user_id</th>\n",
       "      <th>event_dt</th>\n",
       "      <th>event_name</th>\n",
       "      <th>details</th>\n",
       "    </tr>\n",
       "  </thead>\n",
       "  <tbody>\n",
       "    <tr>\n",
       "      <th>0</th>\n",
       "      <td>GLOBAL</td>\n",
       "      <td>2020-12-01 00:00:00</td>\n",
       "      <td>End of Black Friday Ads Campaign</td>\n",
       "      <td>ZONE_CODE15</td>\n",
       "    </tr>\n",
       "    <tr>\n",
       "      <th>1</th>\n",
       "      <td>CCBE9E7E99F94A08</td>\n",
       "      <td>2020-12-01 00:00:11</td>\n",
       "      <td>registration</td>\n",
       "      <td>0.0</td>\n",
       "    </tr>\n",
       "    <tr>\n",
       "      <th>2</th>\n",
       "      <td>GLOBAL</td>\n",
       "      <td>2020-12-01 00:00:25</td>\n",
       "      <td>product_page</td>\n",
       "      <td>NaN</td>\n",
       "    </tr>\n",
       "    <tr>\n",
       "      <th>3</th>\n",
       "      <td>CCBE9E7E99F94A08</td>\n",
       "      <td>2020-12-01 00:00:33</td>\n",
       "      <td>login</td>\n",
       "      <td>NaN</td>\n",
       "    </tr>\n",
       "    <tr>\n",
       "      <th>4</th>\n",
       "      <td>CCBE9E7E99F94A08</td>\n",
       "      <td>2020-12-01 00:00:52</td>\n",
       "      <td>product_page</td>\n",
       "      <td>NaN</td>\n",
       "    </tr>\n",
       "    <tr>\n",
       "      <th>...</th>\n",
       "      <td>...</td>\n",
       "      <td>...</td>\n",
       "      <td>...</td>\n",
       "      <td>...</td>\n",
       "    </tr>\n",
       "    <tr>\n",
       "      <th>787281</th>\n",
       "      <td>1A655C280B064708</td>\n",
       "      <td>2020-12-31 23:57:44</td>\n",
       "      <td>product_page</td>\n",
       "      <td>NaN</td>\n",
       "    </tr>\n",
       "    <tr>\n",
       "      <th>787282</th>\n",
       "      <td>B77B2F4BCA134618</td>\n",
       "      <td>2020-12-31 23:58:23</td>\n",
       "      <td>registration</td>\n",
       "      <td>0.0</td>\n",
       "    </tr>\n",
       "    <tr>\n",
       "      <th>787283</th>\n",
       "      <td>GLOBAL</td>\n",
       "      <td>2020-12-31 23:58:30</td>\n",
       "      <td>product_cart</td>\n",
       "      <td>NaN</td>\n",
       "    </tr>\n",
       "    <tr>\n",
       "      <th>787284</th>\n",
       "      <td>B12AD1623E494FAD</td>\n",
       "      <td>2020-12-31 23:58:34</td>\n",
       "      <td>registration</td>\n",
       "      <td>-6.52</td>\n",
       "    </tr>\n",
       "    <tr>\n",
       "      <th>787285</th>\n",
       "      <td>5456977474344433</td>\n",
       "      <td>2020-12-31 23:59:48</td>\n",
       "      <td>registration</td>\n",
       "      <td>-3.67</td>\n",
       "    </tr>\n",
       "  </tbody>\n",
       "</table>\n",
       "<p>787286 rows × 4 columns</p>\n",
       "</div>"
      ],
      "text/plain": [
       "                 user_id            event_dt  \\\n",
       "0                 GLOBAL 2020-12-01 00:00:00   \n",
       "1       CCBE9E7E99F94A08 2020-12-01 00:00:11   \n",
       "2                 GLOBAL 2020-12-01 00:00:25   \n",
       "3       CCBE9E7E99F94A08 2020-12-01 00:00:33   \n",
       "4       CCBE9E7E99F94A08 2020-12-01 00:00:52   \n",
       "...                  ...                 ...   \n",
       "787281  1A655C280B064708 2020-12-31 23:57:44   \n",
       "787282  B77B2F4BCA134618 2020-12-31 23:58:23   \n",
       "787283            GLOBAL 2020-12-31 23:58:30   \n",
       "787284  B12AD1623E494FAD 2020-12-31 23:58:34   \n",
       "787285  5456977474344433 2020-12-31 23:59:48   \n",
       "\n",
       "                              event_name      details  \n",
       "0       End of Black Friday Ads Campaign  ZONE_CODE15  \n",
       "1                           registration          0.0  \n",
       "2                           product_page          NaN  \n",
       "3                                  login          NaN  \n",
       "4                           product_page          NaN  \n",
       "...                                  ...          ...  \n",
       "787281                      product_page          NaN  \n",
       "787282                      registration          0.0  \n",
       "787283                      product_cart          NaN  \n",
       "787284                      registration        -6.52  \n",
       "787285                      registration        -3.67  \n",
       "\n",
       "[787286 rows x 4 columns]"
      ]
     },
     "execution_count": 22,
     "metadata": {},
     "output_type": "execute_result"
    }
   ],
   "source": [
    "# Просмотрим на данные таблицы\n",
    "events"
   ]
  },
  {
   "cell_type": "markdown",
   "id": "b737466b",
   "metadata": {},
   "source": [
    "---\n",
    "В таблице `participants` отсутствуют пропуски, тип данных столбцов соотностися со значениями в них. В таблице `events`, в столбце `details` из 787286 строк только 249022 не являются пустыми, однако в столбце содержится лишь дополнительная информация. Все остальные столбцы не содержат пропусков, а их тип данных соответствуют смыслу информации в столбце.\n",
    "\n",
    "---"
   ]
  },
  {
   "cell_type": "markdown",
   "id": "CnzA-efasUrk",
   "metadata": {
    "id": "CnzA-efasUrk"
   },
   "source": [
    "## 3. По таблице `ab_test_participants` оцените корректность проведения теста:\n",
    "\n",
    "   3\\.1 Выделите пользователей, участвующих в тесте, и проверьте:\n",
    "\n",
    "   - соответствие требованиям технического задания,\n",
    "\n",
    "   - равномерность распределения пользователей по группам теста,\n",
    "\n",
    "   - отсутствие пересечений с конкурирующим тестом (нет пользователей, участвующих одновременно в двух тестовых группах)."
   ]
  },
  {
   "cell_type": "code",
   "execution_count": 23,
   "id": "1a2cafd0",
   "metadata": {},
   "outputs": [
    {
     "name": "stdout",
     "output_type": "stream",
     "text": [
      "887\n"
     ]
    }
   ],
   "source": [
    "#Проверяем пересечение пользователей в группах\n",
    "a_group = participants[participants['ab_test']=='interface_eu_test']['user_id']\n",
    "b_group = participants[participants['ab_test']=='recommender_system_test']['user_id']\n",
    "#Создаем список пересекающихся пользователей\n",
    "intersection = list(set(a_group) & set(b_group))\n",
    "print(len(intersection)) "
   ]
  },
  {
   "cell_type": "code",
   "execution_count": 24,
   "id": "2d7d13e7",
   "metadata": {},
   "outputs": [
    {
     "data": {
      "text/html": [
       "<div>\n",
       "<style scoped>\n",
       "    .dataframe tbody tr th:only-of-type {\n",
       "        vertical-align: middle;\n",
       "    }\n",
       "\n",
       "    .dataframe tbody tr th {\n",
       "        vertical-align: top;\n",
       "    }\n",
       "\n",
       "    .dataframe thead th {\n",
       "        text-align: right;\n",
       "    }\n",
       "</style>\n",
       "<table border=\"1\" class=\"dataframe\">\n",
       "  <thead>\n",
       "    <tr style=\"text-align: right;\">\n",
       "      <th></th>\n",
       "      <th>user_id</th>\n",
       "      <th>group</th>\n",
       "      <th>ab_test</th>\n",
       "      <th>device</th>\n",
       "    </tr>\n",
       "  </thead>\n",
       "  <tbody>\n",
       "    <tr>\n",
       "      <th>0</th>\n",
       "      <td>0002CE61FF2C4011</td>\n",
       "      <td>B</td>\n",
       "      <td>interface_eu_test</td>\n",
       "      <td>Mac</td>\n",
       "    </tr>\n",
       "    <tr>\n",
       "      <th>3</th>\n",
       "      <td>0010A1C096941592</td>\n",
       "      <td>A</td>\n",
       "      <td>recommender_system_test</td>\n",
       "      <td>Android</td>\n",
       "    </tr>\n",
       "    <tr>\n",
       "      <th>4</th>\n",
       "      <td>001E72F50D1C48FA</td>\n",
       "      <td>A</td>\n",
       "      <td>interface_eu_test</td>\n",
       "      <td>Mac</td>\n",
       "    </tr>\n",
       "    <tr>\n",
       "      <th>5</th>\n",
       "      <td>002412F1EB3F6E38</td>\n",
       "      <td>B</td>\n",
       "      <td>interface_eu_test</td>\n",
       "      <td>Mac</td>\n",
       "    </tr>\n",
       "    <tr>\n",
       "      <th>6</th>\n",
       "      <td>002540BE89C930FB</td>\n",
       "      <td>B</td>\n",
       "      <td>interface_eu_test</td>\n",
       "      <td>Android</td>\n",
       "    </tr>\n",
       "    <tr>\n",
       "      <th>...</th>\n",
       "      <td>...</td>\n",
       "      <td>...</td>\n",
       "      <td>...</td>\n",
       "      <td>...</td>\n",
       "    </tr>\n",
       "    <tr>\n",
       "      <th>14518</th>\n",
       "      <td>FFE5B14BD55C1C5C</td>\n",
       "      <td>A</td>\n",
       "      <td>interface_eu_test</td>\n",
       "      <td>PC</td>\n",
       "    </tr>\n",
       "    <tr>\n",
       "      <th>14519</th>\n",
       "      <td>FFE600EEC4BA7685</td>\n",
       "      <td>B</td>\n",
       "      <td>interface_eu_test</td>\n",
       "      <td>Android</td>\n",
       "    </tr>\n",
       "    <tr>\n",
       "      <th>14520</th>\n",
       "      <td>FFE7FC140521F5F6</td>\n",
       "      <td>A</td>\n",
       "      <td>interface_eu_test</td>\n",
       "      <td>PC</td>\n",
       "    </tr>\n",
       "    <tr>\n",
       "      <th>14521</th>\n",
       "      <td>FFEFC0E55C1CCD4F</td>\n",
       "      <td>A</td>\n",
       "      <td>interface_eu_test</td>\n",
       "      <td>PC</td>\n",
       "    </tr>\n",
       "    <tr>\n",
       "      <th>14524</th>\n",
       "      <td>FFF58BC33966EB51</td>\n",
       "      <td>A</td>\n",
       "      <td>interface_eu_test</td>\n",
       "      <td>Android</td>\n",
       "    </tr>\n",
       "  </tbody>\n",
       "</table>\n",
       "<p>12751 rows × 4 columns</p>\n",
       "</div>"
      ],
      "text/plain": [
       "                user_id group                  ab_test   device\n",
       "0      0002CE61FF2C4011     B        interface_eu_test      Mac\n",
       "3      0010A1C096941592     A  recommender_system_test  Android\n",
       "4      001E72F50D1C48FA     A        interface_eu_test      Mac\n",
       "5      002412F1EB3F6E38     B        interface_eu_test      Mac\n",
       "6      002540BE89C930FB     B        interface_eu_test  Android\n",
       "...                 ...   ...                      ...      ...\n",
       "14518  FFE5B14BD55C1C5C     A        interface_eu_test       PC\n",
       "14519  FFE600EEC4BA7685     B        interface_eu_test  Android\n",
       "14520  FFE7FC140521F5F6     A        interface_eu_test       PC\n",
       "14521  FFEFC0E55C1CCD4F     A        interface_eu_test       PC\n",
       "14524  FFF58BC33966EB51     A        interface_eu_test  Android\n",
       "\n",
       "[12751 rows x 4 columns]"
      ]
     },
     "execution_count": 24,
     "metadata": {},
     "output_type": "execute_result"
    }
   ],
   "source": [
    "# Уберём пересекающихся в тестах пользователей\n",
    "participants = participants[~participants['user_id'].isin(intersection)]\n",
    "participants"
   ]
  },
  {
   "cell_type": "code",
   "execution_count": 25,
   "id": "aNa3zHrKslEN",
   "metadata": {
    "id": "aNa3zHrKslEN"
   },
   "outputs": [
    {
     "data": {
      "text/html": [
       "<div>\n",
       "<style scoped>\n",
       "    .dataframe tbody tr th:only-of-type {\n",
       "        vertical-align: middle;\n",
       "    }\n",
       "\n",
       "    .dataframe tbody tr th {\n",
       "        vertical-align: top;\n",
       "    }\n",
       "\n",
       "    .dataframe thead th {\n",
       "        text-align: right;\n",
       "    }\n",
       "</style>\n",
       "<table border=\"1\" class=\"dataframe\">\n",
       "  <thead>\n",
       "    <tr style=\"text-align: right;\">\n",
       "      <th></th>\n",
       "      <th>user_id</th>\n",
       "      <th>group</th>\n",
       "      <th>ab_test</th>\n",
       "      <th>device</th>\n",
       "    </tr>\n",
       "  </thead>\n",
       "  <tbody>\n",
       "    <tr>\n",
       "      <th>0</th>\n",
       "      <td>0002CE61FF2C4011</td>\n",
       "      <td>B</td>\n",
       "      <td>interface_eu_test</td>\n",
       "      <td>Mac</td>\n",
       "    </tr>\n",
       "    <tr>\n",
       "      <th>4</th>\n",
       "      <td>001E72F50D1C48FA</td>\n",
       "      <td>A</td>\n",
       "      <td>interface_eu_test</td>\n",
       "      <td>Mac</td>\n",
       "    </tr>\n",
       "    <tr>\n",
       "      <th>5</th>\n",
       "      <td>002412F1EB3F6E38</td>\n",
       "      <td>B</td>\n",
       "      <td>interface_eu_test</td>\n",
       "      <td>Mac</td>\n",
       "    </tr>\n",
       "    <tr>\n",
       "      <th>6</th>\n",
       "      <td>002540BE89C930FB</td>\n",
       "      <td>B</td>\n",
       "      <td>interface_eu_test</td>\n",
       "      <td>Android</td>\n",
       "    </tr>\n",
       "    <tr>\n",
       "      <th>7</th>\n",
       "      <td>0031F1B5E9FBF708</td>\n",
       "      <td>A</td>\n",
       "      <td>interface_eu_test</td>\n",
       "      <td>Android</td>\n",
       "    </tr>\n",
       "    <tr>\n",
       "      <th>...</th>\n",
       "      <td>...</td>\n",
       "      <td>...</td>\n",
       "      <td>...</td>\n",
       "      <td>...</td>\n",
       "    </tr>\n",
       "    <tr>\n",
       "      <th>14518</th>\n",
       "      <td>FFE5B14BD55C1C5C</td>\n",
       "      <td>A</td>\n",
       "      <td>interface_eu_test</td>\n",
       "      <td>PC</td>\n",
       "    </tr>\n",
       "    <tr>\n",
       "      <th>14519</th>\n",
       "      <td>FFE600EEC4BA7685</td>\n",
       "      <td>B</td>\n",
       "      <td>interface_eu_test</td>\n",
       "      <td>Android</td>\n",
       "    </tr>\n",
       "    <tr>\n",
       "      <th>14520</th>\n",
       "      <td>FFE7FC140521F5F6</td>\n",
       "      <td>A</td>\n",
       "      <td>interface_eu_test</td>\n",
       "      <td>PC</td>\n",
       "    </tr>\n",
       "    <tr>\n",
       "      <th>14521</th>\n",
       "      <td>FFEFC0E55C1CCD4F</td>\n",
       "      <td>A</td>\n",
       "      <td>interface_eu_test</td>\n",
       "      <td>PC</td>\n",
       "    </tr>\n",
       "    <tr>\n",
       "      <th>14524</th>\n",
       "      <td>FFF58BC33966EB51</td>\n",
       "      <td>A</td>\n",
       "      <td>interface_eu_test</td>\n",
       "      <td>Android</td>\n",
       "    </tr>\n",
       "  </tbody>\n",
       "</table>\n",
       "<p>9963 rows × 4 columns</p>\n",
       "</div>"
      ],
      "text/plain": [
       "                user_id group            ab_test   device\n",
       "0      0002CE61FF2C4011     B  interface_eu_test      Mac\n",
       "4      001E72F50D1C48FA     A  interface_eu_test      Mac\n",
       "5      002412F1EB3F6E38     B  interface_eu_test      Mac\n",
       "6      002540BE89C930FB     B  interface_eu_test  Android\n",
       "7      0031F1B5E9FBF708     A  interface_eu_test  Android\n",
       "...                 ...   ...                ...      ...\n",
       "14518  FFE5B14BD55C1C5C     A  interface_eu_test       PC\n",
       "14519  FFE600EEC4BA7685     B  interface_eu_test  Android\n",
       "14520  FFE7FC140521F5F6     A  interface_eu_test       PC\n",
       "14521  FFEFC0E55C1CCD4F     A  interface_eu_test       PC\n",
       "14524  FFF58BC33966EB51     A  interface_eu_test  Android\n",
       "\n",
       "[9963 rows x 4 columns]"
      ]
     },
     "execution_count": 25,
     "metadata": {},
     "output_type": "execute_result"
    }
   ],
   "source": [
    "# Выделим только пользователей, которые участвуют в тесте\n",
    "new_participants = participants[participants.ab_test=='interface_eu_test']\n",
    "new_participants "
   ]
  },
  {
   "cell_type": "code",
   "execution_count": 26,
   "id": "dc532d09",
   "metadata": {},
   "outputs": [
    {
     "data": {
      "text/plain": [
       "group\n",
       "A    4952\n",
       "B    5011\n",
       "Name: user_id, dtype: int64"
      ]
     },
     "execution_count": 26,
     "metadata": {},
     "output_type": "execute_result"
    }
   ],
   "source": [
    "# Сгруппируем данные по группам тестирования\n",
    "group_data = new_participants.groupby('group')['user_id'].nunique()\n",
    "group_data"
   ]
  },
  {
   "cell_type": "code",
   "execution_count": 27,
   "id": "8f0e2aa5",
   "metadata": {},
   "outputs": [
    {
     "data": {
      "text/plain": [
       "1.191437802907916"
      ]
     },
     "execution_count": 27,
     "metadata": {},
     "output_type": "execute_result"
    }
   ],
   "source": [
    "# Расчитываем процентную разницу\n",
    "P = 100 * abs(group_data['A'] - group_data['B'])/group_data['A']\n",
    "P"
   ]
  },
  {
   "cell_type": "code",
   "execution_count": 28,
   "id": "934ae090",
   "metadata": {},
   "outputs": [
    {
     "data": {
      "image/png": "[encoded data removed]",
      "text/plain": [
       "<Figure size 432x288 with 1 Axes>"
      ]
     },
     "metadata": {},
     "output_type": "display_data"
    }
   ],
   "source": [
    "# Визуализируем сгруппированыые данные\n",
    "group_data.plot(\n",
    "    kind='pie' ,\n",
    "    title='Разница в количестве между тестируемыми группами',\n",
    "    autopct='%.0f%%',\n",
    "    ylabel= '',\n",
    "    colors=['red','lightblue']\n",
    ")\n",
    "\n",
    "plt.show()"
   ]
  },
  {
   "cell_type": "code",
   "execution_count": 29,
   "id": "8384883a",
   "metadata": {},
   "outputs": [
    {
     "name": "stdout",
     "output_type": "stream",
     "text": [
      "[]\n"
     ]
    }
   ],
   "source": [
    "#Проверяем пересечение пользователей в группах\n",
    "a_group = new_participants[new_participants['group']=='A']['user_id']\n",
    "b_group = new_participants[new_participants['group']=='B']['user_id']\n",
    "#Создаем список пересекающихся пользователей\n",
    "intersection = list(set(a_group) & set(b_group))\n",
    "print(intersection) "
   ]
  },
  {
   "cell_type": "code",
   "execution_count": 30,
   "id": "1fdf7d4e",
   "metadata": {},
   "outputs": [
    {
     "data": {
      "text/plain": [
       "0"
      ]
     },
     "execution_count": 30,
     "metadata": {},
     "output_type": "execute_result"
    }
   ],
   "source": [
    "# Проверим таблицу на дубликаты\n",
    "new_participants.duplicated().sum()"
   ]
  },
  {
   "cell_type": "markdown",
   "id": "385c8704",
   "metadata": {},
   "source": [
    "---\n",
    "- Проверка таблицы `participants` показала, что пользователи равномерно распределены по группам тестирования, а разница в количестве пользователей состовляет ~1.2%, при допустимых 10-15%\n",
    "- В группах отсутствуют пересекающиеся пользователи.\n",
    "\n",
    "---"
   ]
  },
  {
   "cell_type": "markdown",
   "id": "GjulgSrlsqUU",
   "metadata": {
    "id": "GjulgSrlsqUU"
   },
   "source": [
    "3\\.2 Проанализируйте данные о пользовательской активности по таблице `ab_test_events`:\n",
    "\n",
    "- оставьте только события, связанные с участвующими в изучаемом тесте пользователями;"
   ]
  },
  {
   "cell_type": "code",
   "execution_count": 31,
   "id": "d91aebd1",
   "metadata": {},
   "outputs": [],
   "source": [
    "# Соберём все id пользователей из таблицы new_participants\n",
    "ids = new_participants.user_id.to_list()"
   ]
  },
  {
   "cell_type": "code",
   "execution_count": 32,
   "id": "QMt0Ybo_swDK",
   "metadata": {
    "id": "QMt0Ybo_swDK"
   },
   "outputs": [
    {
     "data": {
      "text/html": [
       "<div>\n",
       "<style scoped>\n",
       "    .dataframe tbody tr th:only-of-type {\n",
       "        vertical-align: middle;\n",
       "    }\n",
       "\n",
       "    .dataframe tbody tr th {\n",
       "        vertical-align: top;\n",
       "    }\n",
       "\n",
       "    .dataframe thead th {\n",
       "        text-align: right;\n",
       "    }\n",
       "</style>\n",
       "<table border=\"1\" class=\"dataframe\">\n",
       "  <thead>\n",
       "    <tr style=\"text-align: right;\">\n",
       "      <th></th>\n",
       "      <th>index</th>\n",
       "      <th>user_id</th>\n",
       "      <th>event_dt</th>\n",
       "      <th>event_name</th>\n",
       "      <th>details</th>\n",
       "    </tr>\n",
       "  </thead>\n",
       "  <tbody>\n",
       "    <tr>\n",
       "      <th>0</th>\n",
       "      <td>64672</td>\n",
       "      <td>5F506CEBEDC05D30</td>\n",
       "      <td>2020-12-06 14:10:01</td>\n",
       "      <td>registration</td>\n",
       "      <td>0.0</td>\n",
       "    </tr>\n",
       "    <tr>\n",
       "      <th>1</th>\n",
       "      <td>64946</td>\n",
       "      <td>51278A006E918D97</td>\n",
       "      <td>2020-12-06 14:37:25</td>\n",
       "      <td>registration</td>\n",
       "      <td>-3.8</td>\n",
       "    </tr>\n",
       "    <tr>\n",
       "      <th>2</th>\n",
       "      <td>66585</td>\n",
       "      <td>A0C1E8EFAD874D8B</td>\n",
       "      <td>2020-12-06 17:20:22</td>\n",
       "      <td>registration</td>\n",
       "      <td>-3.32</td>\n",
       "    </tr>\n",
       "    <tr>\n",
       "      <th>3</th>\n",
       "      <td>67873</td>\n",
       "      <td>275A8D6254ACF530</td>\n",
       "      <td>2020-12-06 19:36:54</td>\n",
       "      <td>registration</td>\n",
       "      <td>-0.48</td>\n",
       "    </tr>\n",
       "    <tr>\n",
       "      <th>4</th>\n",
       "      <td>67930</td>\n",
       "      <td>0B704EB2DC7FCA4B</td>\n",
       "      <td>2020-12-06 19:42:20</td>\n",
       "      <td>registration</td>\n",
       "      <td>0.0</td>\n",
       "    </tr>\n",
       "    <tr>\n",
       "      <th>...</th>\n",
       "      <td>...</td>\n",
       "      <td>...</td>\n",
       "      <td>...</td>\n",
       "      <td>...</td>\n",
       "      <td>...</td>\n",
       "    </tr>\n",
       "    <tr>\n",
       "      <th>73810</th>\n",
       "      <td>777479</td>\n",
       "      <td>F80C9BDDEA02E53C</td>\n",
       "      <td>2020-12-30 10:02:43</td>\n",
       "      <td>purchase</td>\n",
       "      <td>4.49</td>\n",
       "    </tr>\n",
       "    <tr>\n",
       "      <th>73811</th>\n",
       "      <td>777488</td>\n",
       "      <td>F80C9BDDEA02E53C</td>\n",
       "      <td>2020-12-30 10:03:51</td>\n",
       "      <td>purchase</td>\n",
       "      <td>4.49</td>\n",
       "    </tr>\n",
       "    <tr>\n",
       "      <th>73812</th>\n",
       "      <td>777489</td>\n",
       "      <td>F80C9BDDEA02E53C</td>\n",
       "      <td>2020-12-30 10:03:52</td>\n",
       "      <td>product_cart</td>\n",
       "      <td>NaN</td>\n",
       "    </tr>\n",
       "    <tr>\n",
       "      <th>73813</th>\n",
       "      <td>778138</td>\n",
       "      <td>6181F3835EBE66BF</td>\n",
       "      <td>2020-12-30 12:10:39</td>\n",
       "      <td>product_cart</td>\n",
       "      <td>NaN</td>\n",
       "    </tr>\n",
       "    <tr>\n",
       "      <th>73814</th>\n",
       "      <td>780371</td>\n",
       "      <td>9DF4F595A906A0BA</td>\n",
       "      <td>2020-12-30 18:34:08</td>\n",
       "      <td>product_page</td>\n",
       "      <td>NaN</td>\n",
       "    </tr>\n",
       "  </tbody>\n",
       "</table>\n",
       "<p>73815 rows × 5 columns</p>\n",
       "</div>"
      ],
      "text/plain": [
       "        index           user_id            event_dt    event_name details\n",
       "0       64672  5F506CEBEDC05D30 2020-12-06 14:10:01  registration     0.0\n",
       "1       64946  51278A006E918D97 2020-12-06 14:37:25  registration    -3.8\n",
       "2       66585  A0C1E8EFAD874D8B 2020-12-06 17:20:22  registration   -3.32\n",
       "3       67873  275A8D6254ACF530 2020-12-06 19:36:54  registration   -0.48\n",
       "4       67930  0B704EB2DC7FCA4B 2020-12-06 19:42:20  registration     0.0\n",
       "...       ...               ...                 ...           ...     ...\n",
       "73810  777479  F80C9BDDEA02E53C 2020-12-30 10:02:43      purchase    4.49\n",
       "73811  777488  F80C9BDDEA02E53C 2020-12-30 10:03:51      purchase    4.49\n",
       "73812  777489  F80C9BDDEA02E53C 2020-12-30 10:03:52  product_cart     NaN\n",
       "73813  778138  6181F3835EBE66BF 2020-12-30 12:10:39  product_cart     NaN\n",
       "73814  780371  9DF4F595A906A0BA 2020-12-30 18:34:08  product_page     NaN\n",
       "\n",
       "[73815 rows x 5 columns]"
      ]
     },
     "execution_count": 32,
     "metadata": {},
     "output_type": "execute_result"
    }
   ],
   "source": [
    "# Выберем события, связанные с пользователями из теста\n",
    "new_ab_test = events[events['user_id'].isin(ids)].reset_index()\n",
    "new_ab_test"
   ]
  },
  {
   "cell_type": "markdown",
   "id": "fBZ4DC2xswZJ",
   "metadata": {
    "id": "fBZ4DC2xswZJ"
   },
   "source": [
    "- определите горизонт анализа: рассчитайте время (лайфтайм) совершения события пользователем после регистрации и оставьте только те события, которые были выполнены в течение первых семи дней с момента регистрации;"
   ]
  },
  {
   "cell_type": "code",
   "execution_count": 33,
   "id": "806aba91",
   "metadata": {},
   "outputs": [],
   "source": [
    "# Создадим таблицу, которая будет хранить дату регистрации пользователей\n",
    "user_registration = new_ab_test[new_ab_test['event_name'] == 'registration'][['user_id','event_dt']]\n",
    "user_registration.rename(columns={'event_dt': 'registration_dt'}, inplace=True)\n",
    "# Объединим таблицы\n",
    "new_ab_test = pd.merge(new_ab_test, user_registration, on='user_id', how='left')\n",
    "# Вычислим, сколько дней прошло от момента активности с момента регистрации\n",
    "new_ab_test['days_from_registration'] = new_ab_test['event_dt'] - new_ab_test['registration_dt']\n",
    "#Отфильтруем по количеству дней\n",
    "new_ab_test = new_ab_test[new_ab_test['days_from_registration'] <= pd.Timedelta(days=7)]\n"
   ]
  },
  {
   "cell_type": "code",
   "execution_count": 34,
   "id": "15922d00",
   "metadata": {},
   "outputs": [
    {
     "data": {
      "text/html": [
       "<div>\n",
       "<style scoped>\n",
       "    .dataframe tbody tr th:only-of-type {\n",
       "        vertical-align: middle;\n",
       "    }\n",
       "\n",
       "    .dataframe tbody tr th {\n",
       "        vertical-align: top;\n",
       "    }\n",
       "\n",
       "    .dataframe thead th {\n",
       "        text-align: right;\n",
       "    }\n",
       "</style>\n",
       "<table border=\"1\" class=\"dataframe\">\n",
       "  <thead>\n",
       "    <tr style=\"text-align: right;\">\n",
       "      <th></th>\n",
       "      <th>user_id</th>\n",
       "      <th>event_dt</th>\n",
       "      <th>event_name</th>\n",
       "      <th>details</th>\n",
       "      <th>registration_dt</th>\n",
       "      <th>days_from_registration</th>\n",
       "    </tr>\n",
       "  </thead>\n",
       "  <tbody>\n",
       "    <tr>\n",
       "      <th>0</th>\n",
       "      <td>5F506CEBEDC05D30</td>\n",
       "      <td>2020-12-06 14:10:01</td>\n",
       "      <td>registration</td>\n",
       "      <td>0.0</td>\n",
       "      <td>2020-12-06 14:10:01</td>\n",
       "      <td>0 days 00:00:00</td>\n",
       "    </tr>\n",
       "    <tr>\n",
       "      <th>1</th>\n",
       "      <td>51278A006E918D97</td>\n",
       "      <td>2020-12-06 14:37:25</td>\n",
       "      <td>registration</td>\n",
       "      <td>-3.8</td>\n",
       "      <td>2020-12-06 14:37:25</td>\n",
       "      <td>0 days 00:00:00</td>\n",
       "    </tr>\n",
       "    <tr>\n",
       "      <th>2</th>\n",
       "      <td>A0C1E8EFAD874D8B</td>\n",
       "      <td>2020-12-06 17:20:22</td>\n",
       "      <td>registration</td>\n",
       "      <td>-3.32</td>\n",
       "      <td>2020-12-06 17:20:22</td>\n",
       "      <td>0 days 00:00:00</td>\n",
       "    </tr>\n",
       "    <tr>\n",
       "      <th>3</th>\n",
       "      <td>275A8D6254ACF530</td>\n",
       "      <td>2020-12-06 19:36:54</td>\n",
       "      <td>registration</td>\n",
       "      <td>-0.48</td>\n",
       "      <td>2020-12-06 19:36:54</td>\n",
       "      <td>0 days 00:00:00</td>\n",
       "    </tr>\n",
       "    <tr>\n",
       "      <th>4</th>\n",
       "      <td>0B704EB2DC7FCA4B</td>\n",
       "      <td>2020-12-06 19:42:20</td>\n",
       "      <td>registration</td>\n",
       "      <td>0.0</td>\n",
       "      <td>2020-12-06 19:42:20</td>\n",
       "      <td>0 days 00:00:00</td>\n",
       "    </tr>\n",
       "    <tr>\n",
       "      <th>...</th>\n",
       "      <td>...</td>\n",
       "      <td>...</td>\n",
       "      <td>...</td>\n",
       "      <td>...</td>\n",
       "      <td>...</td>\n",
       "      <td>...</td>\n",
       "    </tr>\n",
       "    <tr>\n",
       "      <th>63800</th>\n",
       "      <td>E89AF4EFC757D283</td>\n",
       "      <td>2020-12-29 21:46:43</td>\n",
       "      <td>product_cart</td>\n",
       "      <td>NaN</td>\n",
       "      <td>2020-12-23 09:35:48</td>\n",
       "      <td>6 days 12:10:55</td>\n",
       "    </tr>\n",
       "    <tr>\n",
       "      <th>63801</th>\n",
       "      <td>E89AF4EFC757D283</td>\n",
       "      <td>2020-12-29 21:47:56</td>\n",
       "      <td>product_cart</td>\n",
       "      <td>NaN</td>\n",
       "      <td>2020-12-23 09:35:48</td>\n",
       "      <td>6 days 12:12:08</td>\n",
       "    </tr>\n",
       "    <tr>\n",
       "      <th>63802</th>\n",
       "      <td>A6AFDC94A0D3B23D</td>\n",
       "      <td>2020-12-29 22:47:00</td>\n",
       "      <td>product_page</td>\n",
       "      <td>NaN</td>\n",
       "      <td>2020-12-23 13:53:33</td>\n",
       "      <td>6 days 08:53:27</td>\n",
       "    </tr>\n",
       "    <tr>\n",
       "      <th>63803</th>\n",
       "      <td>A6AFDC94A0D3B23D</td>\n",
       "      <td>2020-12-29 22:48:46</td>\n",
       "      <td>product_page</td>\n",
       "      <td>NaN</td>\n",
       "      <td>2020-12-23 13:53:33</td>\n",
       "      <td>6 days 08:55:13</td>\n",
       "    </tr>\n",
       "    <tr>\n",
       "      <th>63804</th>\n",
       "      <td>31DBDCA380DD035F</td>\n",
       "      <td>2020-12-29 23:41:16</td>\n",
       "      <td>product_page</td>\n",
       "      <td>NaN</td>\n",
       "      <td>2020-12-23 18:11:40</td>\n",
       "      <td>6 days 05:29:36</td>\n",
       "    </tr>\n",
       "  </tbody>\n",
       "</table>\n",
       "<p>63805 rows × 6 columns</p>\n",
       "</div>"
      ],
      "text/plain": [
       "                user_id            event_dt    event_name details  \\\n",
       "0      5F506CEBEDC05D30 2020-12-06 14:10:01  registration     0.0   \n",
       "1      51278A006E918D97 2020-12-06 14:37:25  registration    -3.8   \n",
       "2      A0C1E8EFAD874D8B 2020-12-06 17:20:22  registration   -3.32   \n",
       "3      275A8D6254ACF530 2020-12-06 19:36:54  registration   -0.48   \n",
       "4      0B704EB2DC7FCA4B 2020-12-06 19:42:20  registration     0.0   \n",
       "...                 ...                 ...           ...     ...   \n",
       "63800  E89AF4EFC757D283 2020-12-29 21:46:43  product_cart     NaN   \n",
       "63801  E89AF4EFC757D283 2020-12-29 21:47:56  product_cart     NaN   \n",
       "63802  A6AFDC94A0D3B23D 2020-12-29 22:47:00  product_page     NaN   \n",
       "63803  A6AFDC94A0D3B23D 2020-12-29 22:48:46  product_page     NaN   \n",
       "63804  31DBDCA380DD035F 2020-12-29 23:41:16  product_page     NaN   \n",
       "\n",
       "          registration_dt days_from_registration  \n",
       "0     2020-12-06 14:10:01        0 days 00:00:00  \n",
       "1     2020-12-06 14:37:25        0 days 00:00:00  \n",
       "2     2020-12-06 17:20:22        0 days 00:00:00  \n",
       "3     2020-12-06 19:36:54        0 days 00:00:00  \n",
       "4     2020-12-06 19:42:20        0 days 00:00:00  \n",
       "...                   ...                    ...  \n",
       "63800 2020-12-23 09:35:48        6 days 12:10:55  \n",
       "63801 2020-12-23 09:35:48        6 days 12:12:08  \n",
       "63802 2020-12-23 13:53:33        6 days 08:53:27  \n",
       "63803 2020-12-23 13:53:33        6 days 08:55:13  \n",
       "63804 2020-12-23 18:11:40        6 days 05:29:36  \n",
       "\n",
       "[63805 rows x 6 columns]"
      ]
     },
     "execution_count": 34,
     "metadata": {},
     "output_type": "execute_result"
    }
   ],
   "source": [
    "# Уберём столбец со старыми индексами\n",
    "new_ab_test = new_ab_test.iloc[:,1:].reset_index()\n",
    "new_ab_test = new_ab_test.iloc[:,1:]\n",
    "new_ab_test"
   ]
  },
  {
   "cell_type": "code",
   "execution_count": 35,
   "id": "d2dc7f52",
   "metadata": {
    "scrolled": true
   },
   "outputs": [
    {
     "name": "stdout",
     "output_type": "stream",
     "text": [
      "Максимальное время между регистрацией и действием пользователя: 6 days 23:58:10\n"
     ]
    }
   ],
   "source": [
    "print('Максимальное время между регистрацией и действием пользователя:',new_ab_test['days_from_registration'].max())"
   ]
  },
  {
   "cell_type": "markdown",
   "id": "7cf1df48",
   "metadata": {},
   "source": [
    "Оцените достаточность выборки для получения статистически значимых результатов A/B-теста. Заданные параметры:\n",
    "\n",
    "- базовый показатель конверсии — 30%,\n",
    "\n",
    "- мощность теста — 80%,\n",
    "\n",
    "- достоверность теста — 95%."
   ]
  },
  {
   "cell_type": "code",
   "execution_count": 36,
   "id": "7d97b466",
   "metadata": {},
   "outputs": [
    {
     "name": "stdout",
     "output_type": "stream",
     "text": [
      "Необходимый размер выборки для каждой группы: 144\n"
     ]
    }
   ],
   "source": [
    "from statsmodels.stats.power import NormalIndPower\n",
    "\n",
    "# Задаём параметры\n",
    "alpha = 0.05  # Уровень значимости\n",
    "power = 0.8  # Мощность теста\n",
    "conversion = 0.3 \n",
    "mde = 0.03 # Минимальный детектируемый эффект\n",
    "effect_size = conversion + mde\n",
    "# Инициализируем класс NormalIndPower\n",
    "power_analysis = NormalIndPower()\n",
    "\n",
    "# Рассчитываем размер выборки\n",
    "sample_size = power_analysis.solve_power(\n",
    "    effect_size = effect_size,\n",
    "    power = power,\n",
    "    alpha = alpha,\n",
    "    ratio = 1 # Равномерное распределение выборок\n",
    ")\n",
    "\n",
    "print(f\"Необходимый размер выборки для каждой группы: {int(sample_size)}\")"
   ]
  },
  {
   "cell_type": "markdown",
   "id": "SadyUDgZs0t3",
   "metadata": {
    "id": "SadyUDgZs0t3"
   },
   "source": [
    "- рассчитайте для каждой группы количество посетителей, сделавших покупку, и общее количество посетителей."
   ]
  },
  {
   "cell_type": "code",
   "execution_count": 37,
   "id": "7ph853Xks4sy",
   "metadata": {
    "id": "7ph853Xks4sy"
   },
   "outputs": [
    {
     "data": {
      "text/html": [
       "<div>\n",
       "<style scoped>\n",
       "    .dataframe tbody tr th:only-of-type {\n",
       "        vertical-align: middle;\n",
       "    }\n",
       "\n",
       "    .dataframe tbody tr th {\n",
       "        vertical-align: top;\n",
       "    }\n",
       "\n",
       "    .dataframe thead th {\n",
       "        text-align: right;\n",
       "    }\n",
       "</style>\n",
       "<table border=\"1\" class=\"dataframe\">\n",
       "  <thead>\n",
       "    <tr style=\"text-align: right;\">\n",
       "      <th></th>\n",
       "      <th>user_id</th>\n",
       "      <th>group</th>\n",
       "      <th>ab_test</th>\n",
       "      <th>device</th>\n",
       "      <th>event_dt</th>\n",
       "      <th>event_name</th>\n",
       "      <th>details</th>\n",
       "      <th>registration_dt</th>\n",
       "      <th>days_from_registration</th>\n",
       "    </tr>\n",
       "  </thead>\n",
       "  <tbody>\n",
       "    <tr>\n",
       "      <th>0</th>\n",
       "      <td>0002CE61FF2C4011</td>\n",
       "      <td>B</td>\n",
       "      <td>interface_eu_test</td>\n",
       "      <td>Mac</td>\n",
       "      <td>2020-12-07 04:37:31</td>\n",
       "      <td>registration</td>\n",
       "      <td>-2.38</td>\n",
       "      <td>2020-12-07 04:37:31</td>\n",
       "      <td>0 days 00:00:00</td>\n",
       "    </tr>\n",
       "    <tr>\n",
       "      <th>1</th>\n",
       "      <td>0002CE61FF2C4011</td>\n",
       "      <td>B</td>\n",
       "      <td>interface_eu_test</td>\n",
       "      <td>Mac</td>\n",
       "      <td>2020-12-07 04:37:49</td>\n",
       "      <td>login</td>\n",
       "      <td>NaN</td>\n",
       "      <td>2020-12-07 04:37:31</td>\n",
       "      <td>0 days 00:00:18</td>\n",
       "    </tr>\n",
       "    <tr>\n",
       "      <th>2</th>\n",
       "      <td>0002CE61FF2C4011</td>\n",
       "      <td>B</td>\n",
       "      <td>interface_eu_test</td>\n",
       "      <td>Mac</td>\n",
       "      <td>2020-12-07 04:37:57</td>\n",
       "      <td>login</td>\n",
       "      <td>NaN</td>\n",
       "      <td>2020-12-07 04:37:31</td>\n",
       "      <td>0 days 00:00:26</td>\n",
       "    </tr>\n",
       "    <tr>\n",
       "      <th>3</th>\n",
       "      <td>0002CE61FF2C4011</td>\n",
       "      <td>B</td>\n",
       "      <td>interface_eu_test</td>\n",
       "      <td>Mac</td>\n",
       "      <td>2020-12-07 04:38:54</td>\n",
       "      <td>login</td>\n",
       "      <td>NaN</td>\n",
       "      <td>2020-12-07 04:37:31</td>\n",
       "      <td>0 days 00:01:23</td>\n",
       "    </tr>\n",
       "    <tr>\n",
       "      <th>4</th>\n",
       "      <td>0002CE61FF2C4011</td>\n",
       "      <td>B</td>\n",
       "      <td>interface_eu_test</td>\n",
       "      <td>Mac</td>\n",
       "      <td>2020-12-08 22:15:35</td>\n",
       "      <td>login</td>\n",
       "      <td>NaN</td>\n",
       "      <td>2020-12-07 04:37:31</td>\n",
       "      <td>1 days 17:38:04</td>\n",
       "    </tr>\n",
       "    <tr>\n",
       "      <th>...</th>\n",
       "      <td>...</td>\n",
       "      <td>...</td>\n",
       "      <td>...</td>\n",
       "      <td>...</td>\n",
       "      <td>...</td>\n",
       "      <td>...</td>\n",
       "      <td>...</td>\n",
       "      <td>...</td>\n",
       "      <td>...</td>\n",
       "    </tr>\n",
       "    <tr>\n",
       "      <th>63800</th>\n",
       "      <td>FFEFC0E55C1CCD4F</td>\n",
       "      <td>A</td>\n",
       "      <td>interface_eu_test</td>\n",
       "      <td>PC</td>\n",
       "      <td>2020-12-13 23:52:15</td>\n",
       "      <td>registration</td>\n",
       "      <td>0.0</td>\n",
       "      <td>2020-12-13 23:52:15</td>\n",
       "      <td>0 days 00:00:00</td>\n",
       "    </tr>\n",
       "    <tr>\n",
       "      <th>63801</th>\n",
       "      <td>FFEFC0E55C1CCD4F</td>\n",
       "      <td>A</td>\n",
       "      <td>interface_eu_test</td>\n",
       "      <td>PC</td>\n",
       "      <td>2020-12-13 23:52:22</td>\n",
       "      <td>login</td>\n",
       "      <td>NaN</td>\n",
       "      <td>2020-12-13 23:52:15</td>\n",
       "      <td>0 days 00:00:07</td>\n",
       "    </tr>\n",
       "    <tr>\n",
       "      <th>63802</th>\n",
       "      <td>FFF58BC33966EB51</td>\n",
       "      <td>A</td>\n",
       "      <td>interface_eu_test</td>\n",
       "      <td>Android</td>\n",
       "      <td>2020-12-13 17:37:34</td>\n",
       "      <td>registration</td>\n",
       "      <td>-0.45</td>\n",
       "      <td>2020-12-13 17:37:34</td>\n",
       "      <td>0 days 00:00:00</td>\n",
       "    </tr>\n",
       "    <tr>\n",
       "      <th>63803</th>\n",
       "      <td>FFF58BC33966EB51</td>\n",
       "      <td>A</td>\n",
       "      <td>interface_eu_test</td>\n",
       "      <td>Android</td>\n",
       "      <td>2020-12-13 17:56:02</td>\n",
       "      <td>login</td>\n",
       "      <td>NaN</td>\n",
       "      <td>2020-12-13 17:37:34</td>\n",
       "      <td>0 days 00:18:28</td>\n",
       "    </tr>\n",
       "    <tr>\n",
       "      <th>63804</th>\n",
       "      <td>FFF58BC33966EB51</td>\n",
       "      <td>A</td>\n",
       "      <td>interface_eu_test</td>\n",
       "      <td>Android</td>\n",
       "      <td>2020-12-17 03:21:02</td>\n",
       "      <td>login</td>\n",
       "      <td>NaN</td>\n",
       "      <td>2020-12-13 17:37:34</td>\n",
       "      <td>3 days 09:43:28</td>\n",
       "    </tr>\n",
       "  </tbody>\n",
       "</table>\n",
       "<p>63805 rows × 9 columns</p>\n",
       "</div>"
      ],
      "text/plain": [
       "                user_id group            ab_test   device            event_dt  \\\n",
       "0      0002CE61FF2C4011     B  interface_eu_test      Mac 2020-12-07 04:37:31   \n",
       "1      0002CE61FF2C4011     B  interface_eu_test      Mac 2020-12-07 04:37:49   \n",
       "2      0002CE61FF2C4011     B  interface_eu_test      Mac 2020-12-07 04:37:57   \n",
       "3      0002CE61FF2C4011     B  interface_eu_test      Mac 2020-12-07 04:38:54   \n",
       "4      0002CE61FF2C4011     B  interface_eu_test      Mac 2020-12-08 22:15:35   \n",
       "...                 ...   ...                ...      ...                 ...   \n",
       "63800  FFEFC0E55C1CCD4F     A  interface_eu_test       PC 2020-12-13 23:52:15   \n",
       "63801  FFEFC0E55C1CCD4F     A  interface_eu_test       PC 2020-12-13 23:52:22   \n",
       "63802  FFF58BC33966EB51     A  interface_eu_test  Android 2020-12-13 17:37:34   \n",
       "63803  FFF58BC33966EB51     A  interface_eu_test  Android 2020-12-13 17:56:02   \n",
       "63804  FFF58BC33966EB51     A  interface_eu_test  Android 2020-12-17 03:21:02   \n",
       "\n",
       "         event_name details     registration_dt days_from_registration  \n",
       "0      registration   -2.38 2020-12-07 04:37:31        0 days 00:00:00  \n",
       "1             login     NaN 2020-12-07 04:37:31        0 days 00:00:18  \n",
       "2             login     NaN 2020-12-07 04:37:31        0 days 00:00:26  \n",
       "3             login     NaN 2020-12-07 04:37:31        0 days 00:01:23  \n",
       "4             login     NaN 2020-12-07 04:37:31        1 days 17:38:04  \n",
       "...             ...     ...                 ...                    ...  \n",
       "63800  registration     0.0 2020-12-13 23:52:15        0 days 00:00:00  \n",
       "63801         login     NaN 2020-12-13 23:52:15        0 days 00:00:07  \n",
       "63802  registration   -0.45 2020-12-13 17:37:34        0 days 00:00:00  \n",
       "63803         login     NaN 2020-12-13 17:37:34        0 days 00:18:28  \n",
       "63804         login     NaN 2020-12-13 17:37:34        3 days 09:43:28  \n",
       "\n",
       "[63805 rows x 9 columns]"
      ]
     },
     "execution_count": 37,
     "metadata": {},
     "output_type": "execute_result"
    }
   ],
   "source": [
    "# Объединим таблицы с пользователями и действиями пользователей\n",
    "union_table = pd.merge(new_participants,new_ab_test,on = 'user_id')\n",
    "union_table"
   ]
  },
  {
   "cell_type": "code",
   "execution_count": 38,
   "id": "03ef2ab9",
   "metadata": {
    "scrolled": true
   },
   "outputs": [
    {
     "data": {
      "text/html": [
       "<div>\n",
       "<style scoped>\n",
       "    .dataframe tbody tr th:only-of-type {\n",
       "        vertical-align: middle;\n",
       "    }\n",
       "\n",
       "    .dataframe tbody tr th {\n",
       "        vertical-align: top;\n",
       "    }\n",
       "\n",
       "    .dataframe thead th {\n",
       "        text-align: right;\n",
       "    }\n",
       "</style>\n",
       "<table border=\"1\" class=\"dataframe\">\n",
       "  <thead>\n",
       "    <tr style=\"text-align: right;\">\n",
       "      <th></th>\n",
       "      <th>purchase_users</th>\n",
       "      <th>all_users</th>\n",
       "    </tr>\n",
       "    <tr>\n",
       "      <th>group</th>\n",
       "      <th></th>\n",
       "      <th></th>\n",
       "    </tr>\n",
       "  </thead>\n",
       "  <tbody>\n",
       "    <tr>\n",
       "      <th>A</th>\n",
       "      <td>1377</td>\n",
       "      <td>4952</td>\n",
       "    </tr>\n",
       "    <tr>\n",
       "      <th>B</th>\n",
       "      <td>1480</td>\n",
       "      <td>5011</td>\n",
       "    </tr>\n",
       "  </tbody>\n",
       "</table>\n",
       "</div>"
      ],
      "text/plain": [
       "       purchase_users  all_users\n",
       "group                           \n",
       "A                1377       4952\n",
       "B                1480       5011"
      ]
     },
     "execution_count": 38,
     "metadata": {},
     "output_type": "execute_result"
    }
   ],
   "source": [
    "# Сгруппируем данные по группам тестирования\n",
    "union_grp = union_table.groupby('group').agg(\n",
    "    purchase_users=('user_id', lambda x: union_table.loc[(union_table['event_name'] == 'purchase') & (union_table['user_id'].isin(x)), 'user_id'].nunique()),\n",
    "    all_users=('user_id', 'nunique')\n",
    ")\n",
    "union_grp"
   ]
  },
  {
   "cell_type": "code",
   "execution_count": 39,
   "id": "2c51af7f",
   "metadata": {},
   "outputs": [
    {
     "data": {
      "text/plain": [
       "7.480029048656499"
      ]
     },
     "execution_count": 39,
     "metadata": {},
     "output_type": "execute_result"
    }
   ],
   "source": [
    "# Расчитываем процентную разницу\n",
    "P = 100 * abs(union_grp['purchase_users']['A'] - union_grp['purchase_users']['B'])/union_grp['purchase_users']['A']\n",
    "P"
   ]
  },
  {
   "cell_type": "markdown",
   "id": "sh1JpGvAs5E3",
   "metadata": {
    "id": "sh1JpGvAs5E3"
   },
   "source": [
    "- сделайте предварительный общий вывод об изменении пользовательской активности в тестовой группе по сравнению с контрольной."
   ]
  },
  {
   "cell_type": "markdown",
   "id": "9ddd61c4",
   "metadata": {
    "id": "hHTHPkJYs8mE"
   },
   "source": [
    "__Промежуточный вывод:__ \n",
    "После проведённой агрегации данных, можно увидеть, что показатель пользователей, сделавших покупку, в тестовой группе выше, чем в контрольной групее. Процентная разница состовляет больше ~7.5%. "
   ]
  },
  {
   "cell_type": "markdown",
   "id": "IKZ1Oo3Ws919",
   "metadata": {
    "id": "IKZ1Oo3Ws919"
   },
   "source": [
    "## 4. Проведите оценку результатов A/B-тестирования:"
   ]
  },
  {
   "cell_type": "markdown",
   "id": "dcUdBSmvtC-E",
   "metadata": {
    "id": "dcUdBSmvtC-E"
   },
   "source": [
    "- Проверьте изменение конверсии подходящим статистическим тестом, учитывая все этапы проверки гипотез."
   ]
  },
  {
   "cell_type": "markdown",
   "id": "1fec045f",
   "metadata": {},
   "source": [
    "___\n",
    "Предыдущий аналитик проверял полное обновление дизайна сайта. Гипотеза заключается в следующем: упрощение интерфейса приведёт к тому, что в течение семи дней после регистрации в системе конверсия зарегистрированных пользователей в покупателей увеличится как минимум на три процентных пункта. \n",
    "Проверим гипотезу, использовав Z-тест пропорций. \n",
    "___"
   ]
  },
  {
   "cell_type": "code",
   "execution_count": 40,
   "id": "l_KOziBQtL3t",
   "metadata": {
    "id": "l_KOziBQtL3t"
   },
   "outputs": [
    {
     "name": "stdout",
     "output_type": "stream",
     "text": [
      "Предпосылка о достаточном количестве данных выполняется!\n",
      "pvalue=5.5618798640599e-18\n",
      "Упрощение интерфейса показало эффект\n"
     ]
    }
   ],
   "source": [
    "# Используем Z-тест пропорций для анализа изменении конверсии пользователей\n",
    "from statsmodels.stats.proportion import proportions_ztest\n",
    "\n",
    "\n",
    "n_a = union_table[ \n",
    "    union_table.group=='A'\n",
    "].shape[0] \n",
    "\n",
    "n_b = union_table[ \n",
    "    union_table.group=='B'\n",
    "].shape[0] \n",
    "\n",
    "\n",
    "m_a = union_table[ \n",
    "    (union_table.group=='A')&(union_table.event_name=='purchase')\n",
    "].shape[0] \n",
    "\n",
    "m_b = union_table[ \n",
    "    (union_table.group=='B')&(union_table.event_name=='purchase')\n",
    "].shape[0] \n",
    "\n",
    "p_a, p_b = m_a/n_a, m_b/n_b \n",
    "\n",
    "if (p_a*n_a > 10)and((1-p_a)*n_a > 10)and(p_b*n_b > 10)and((1-p_b)*n_b > 10):\n",
    "    print('Предпосылка о достаточном количестве данных выполняется!')\n",
    "else:\n",
    "    print('Предпосылка о достаточном количестве данных НЕ выполняется!')\n",
    "\n",
    "\n",
    "stat_ztest, p_value_ztest = proportions_ztest( \n",
    "    [m_a,m_b],\n",
    "    [n_a,n_b],\n",
    "\talternative='smaller'\n",
    ")\n",
    "\n",
    "alpha = 0.05\n",
    "\n",
    "print(f'pvalue={p_value_ztest}') \n",
    "\n",
    "if p_value_ztest > alpha:\n",
    "    print('Упрощение интерфейса не показало эффекта') \n",
    "else:\n",
    "    print('Упрощение интерфейса показало эффект')"
   ]
  },
  {
   "cell_type": "markdown",
   "id": "9jkyKOjgtGoc",
   "metadata": {
    "id": "9jkyKOjgtGoc"
   },
   "source": [
    "- Опишите выводы по проведённой оценке результатов A/B-тестирования. Что можно сказать про результаты A/B-тестирования? Был ли достигнут ожидаемый эффект в изменении конверсии?"
   ]
  },
  {
   "cell_type": "markdown",
   "id": "c5af1e7e",
   "metadata": {},
   "source": [
    "__Выводы о проведённой оценке результатов A/B тестирования__\n",
    "\n",
    "---\n",
    "- По результатам тестрования можно сделать вывод, что упрощения интерфейса оказалось в пользу интернет-магазину. Покупающих пользователей в тестируемой группе оказалось больше, чем в контрольной группе.\n",
    "- Гипотеза о том, что упрощение интерфейса приведёт к тому, что в течение семи дней после регистрации в системе конверсия  пользователей в покупателей увеличится как минимум на три процентных пункта подтверждается.\n",
    "- Конверсия увеличилась на ~7.5%\n",
    "\n",
    "---"
   ]
  }
 ],
 "metadata": {
  "ExecuteTimeLog": [
   {
    "duration": 51,
    "start_time": "2025-05-23T12:36:02.439Z"
   },
   {
    "duration": 6,
    "start_time": "2025-05-23T12:37:05.534Z"
   },
   {
    "duration": 431,
    "start_time": "2025-05-23T12:37:06.973Z"
   },
   {
    "duration": 47,
    "start_time": "2025-05-23T12:37:08.126Z"
   },
   {
    "duration": 25,
    "start_time": "2025-05-23T12:37:33.869Z"
   },
   {
    "duration": 11,
    "start_time": "2025-05-23T12:52:46.814Z"
   },
   {
    "duration": 52,
    "start_time": "2025-05-23T19:20:58.040Z"
   },
   {
    "duration": 4,
    "start_time": "2025-05-23T19:21:03.781Z"
   },
   {
    "duration": 71,
    "start_time": "2025-05-23T19:21:03.787Z"
   },
   {
    "duration": 485,
    "start_time": "2025-05-23T19:21:03.860Z"
   },
   {
    "duration": 50,
    "start_time": "2025-05-23T19:21:04.347Z"
   },
   {
    "duration": 20,
    "start_time": "2025-05-23T19:21:04.399Z"
   },
   {
    "duration": 35,
    "start_time": "2025-05-23T19:21:04.420Z"
   },
   {
    "duration": 2084,
    "start_time": "2025-05-23T19:21:04.457Z"
   },
   {
    "duration": 7,
    "start_time": "2025-05-23T20:06:33.869Z"
   },
   {
    "duration": 5,
    "start_time": "2025-05-23T20:07:03.099Z"
   },
   {
    "duration": 5,
    "start_time": "2025-05-23T20:07:14.159Z"
   },
   {
    "duration": 6,
    "start_time": "2025-05-23T20:07:30.068Z"
   },
   {
    "duration": 4,
    "start_time": "2025-05-23T20:07:36.442Z"
   },
   {
    "duration": 6,
    "start_time": "2025-05-23T20:13:04.823Z"
   },
   {
    "duration": 7,
    "start_time": "2025-05-23T20:13:14.948Z"
   },
   {
    "duration": 6,
    "start_time": "2025-05-23T20:13:17.379Z"
   },
   {
    "duration": 10,
    "start_time": "2025-05-23T20:15:17.577Z"
   },
   {
    "duration": 74,
    "start_time": "2025-05-23T20:16:44.491Z"
   },
   {
    "duration": 12,
    "start_time": "2025-05-23T20:17:19.222Z"
   },
   {
    "duration": 13,
    "start_time": "2025-05-23T20:18:49.959Z"
   },
   {
    "duration": 8,
    "start_time": "2025-05-23T20:19:29.370Z"
   },
   {
    "duration": 7,
    "start_time": "2025-05-23T20:50:05.494Z"
   },
   {
    "duration": 6,
    "start_time": "2025-05-23T20:50:25.760Z"
   },
   {
    "duration": 8,
    "start_time": "2025-05-23T20:50:29.431Z"
   },
   {
    "duration": 1406,
    "start_time": "2025-05-23T20:54:44.008Z"
   },
   {
    "duration": 2,
    "start_time": "2025-05-23T20:54:56.158Z"
   },
   {
    "duration": 5,
    "start_time": "2025-05-23T20:55:07.258Z"
   },
   {
    "duration": 543,
    "start_time": "2025-05-23T20:55:40.688Z"
   },
   {
    "duration": 3,
    "start_time": "2025-05-23T20:56:02.416Z"
   },
   {
    "duration": 94,
    "start_time": "2025-05-23T20:56:04.638Z"
   },
   {
    "duration": 3,
    "start_time": "2025-05-23T20:56:35.300Z"
   },
   {
    "duration": 84,
    "start_time": "2025-05-23T20:56:37.409Z"
   },
   {
    "duration": 85,
    "start_time": "2025-05-23T20:58:22.571Z"
   },
   {
    "duration": 17,
    "start_time": "2025-05-23T21:43:47.489Z"
   },
   {
    "duration": 11,
    "start_time": "2025-05-23T21:53:15.453Z"
   },
   {
    "duration": 230,
    "start_time": "2025-05-23T21:55:01.710Z"
   },
   {
    "duration": 182,
    "start_time": "2025-05-23T22:17:47.899Z"
   },
   {
    "duration": 179,
    "start_time": "2025-05-23T22:20:13.229Z"
   },
   {
    "duration": 176,
    "start_time": "2025-05-23T22:21:11.919Z"
   },
   {
    "duration": 1315,
    "start_time": "2025-05-23T22:23:01.704Z"
   },
   {
    "duration": 192,
    "start_time": "2025-05-23T22:23:26.115Z"
   },
   {
    "duration": 1303,
    "start_time": "2025-05-23T22:23:47.756Z"
   },
   {
    "duration": 1246,
    "start_time": "2025-05-23T22:23:53.315Z"
   },
   {
    "duration": 178,
    "start_time": "2025-05-23T22:31:09.919Z"
   },
   {
    "duration": 236,
    "start_time": "2025-05-23T22:31:33.843Z"
   },
   {
    "duration": 316,
    "start_time": "2025-05-23T22:31:43.814Z"
   },
   {
    "duration": 247,
    "start_time": "2025-05-23T22:34:18.846Z"
   },
   {
    "duration": 250,
    "start_time": "2025-05-23T22:35:22.613Z"
   },
   {
    "duration": 5,
    "start_time": "2025-05-23T22:46:29.209Z"
   },
   {
    "duration": 4,
    "start_time": "2025-05-23T22:46:36.879Z"
   },
   {
    "duration": 248,
    "start_time": "2025-05-23T22:47:36.989Z"
   },
   {
    "duration": 239,
    "start_time": "2025-05-23T22:47:54.553Z"
   },
   {
    "duration": 1200,
    "start_time": "2025-05-23T22:48:55.212Z"
   },
   {
    "duration": 311,
    "start_time": "2025-05-23T22:49:09.656Z"
   },
   {
    "duration": 164,
    "start_time": "2025-05-23T22:52:46.891Z"
   },
   {
    "duration": 49995,
    "start_time": "2025-05-23T22:53:03.839Z"
   },
   {
    "duration": 152,
    "start_time": "2025-05-23T22:54:03.572Z"
   },
   {
    "duration": 249,
    "start_time": "2025-05-23T22:54:11.805Z"
   },
   {
    "duration": 266,
    "start_time": "2025-05-23T22:55:25.127Z"
   },
   {
    "duration": 247,
    "start_time": "2025-05-23T22:56:24.558Z"
   },
   {
    "duration": 16,
    "start_time": "2025-05-23T22:58:43.559Z"
   },
   {
    "duration": 106,
    "start_time": "2025-05-23T22:59:13.714Z"
   },
   {
    "duration": 4,
    "start_time": "2025-05-23T23:00:04.827Z"
   },
   {
    "duration": 13,
    "start_time": "2025-05-23T23:00:17.161Z"
   },
   {
    "duration": 12,
    "start_time": "2025-05-23T23:01:32.686Z"
   },
   {
    "duration": 13,
    "start_time": "2025-05-23T23:01:37.541Z"
   },
   {
    "duration": 5,
    "start_time": "2025-05-23T23:01:50.015Z"
   },
   {
    "duration": 6,
    "start_time": "2025-05-23T23:01:54.439Z"
   },
   {
    "duration": 4,
    "start_time": "2025-05-23T23:02:03.290Z"
   },
   {
    "duration": 9,
    "start_time": "2025-05-23T23:02:03.296Z"
   },
   {
    "duration": 433,
    "start_time": "2025-05-23T23:02:03.307Z"
   },
   {
    "duration": 302,
    "start_time": "2025-05-23T23:02:03.742Z"
   },
   {
    "duration": 20,
    "start_time": "2025-05-23T23:02:04.046Z"
   },
   {
    "duration": 25,
    "start_time": "2025-05-23T23:02:04.069Z"
   },
   {
    "duration": 54,
    "start_time": "2025-05-23T23:02:04.096Z"
   },
   {
    "duration": 20,
    "start_time": "2025-05-23T23:02:04.151Z"
   },
   {
    "duration": 11,
    "start_time": "2025-05-23T23:02:04.173Z"
   },
   {
    "duration": 15,
    "start_time": "2025-05-23T23:02:04.186Z"
   },
   {
    "duration": 16,
    "start_time": "2025-05-23T23:02:04.203Z"
   },
   {
    "duration": 133,
    "start_time": "2025-05-23T23:02:04.221Z"
   },
   {
    "duration": 297,
    "start_time": "2025-05-23T23:02:04.356Z"
   },
   {
    "duration": 117,
    "start_time": "2025-05-23T23:02:04.654Z"
   },
   {
    "duration": 280,
    "start_time": "2025-05-23T23:02:04.773Z"
   },
   {
    "duration": 1979,
    "start_time": "2025-05-23T23:02:05.055Z"
   },
   {
    "duration": 1474,
    "start_time": "2025-05-23T23:12:12.843Z"
   },
   {
    "duration": 10,
    "start_time": "2025-05-23T23:12:40.227Z"
   },
   {
    "duration": 13,
    "start_time": "2025-05-23T23:12:53.820Z"
   },
   {
    "duration": 78,
    "start_time": "2025-05-23T23:13:03.522Z"
   },
   {
    "duration": 9,
    "start_time": "2025-05-23T23:13:08.647Z"
   },
   {
    "duration": 51,
    "start_time": "2025-05-24T13:10:53.834Z"
   },
   {
    "duration": 4,
    "start_time": "2025-05-24T13:11:05.037Z"
   },
   {
    "duration": 6,
    "start_time": "2025-05-24T13:11:05.043Z"
   },
   {
    "duration": 445,
    "start_time": "2025-05-24T13:11:05.051Z"
   },
   {
    "duration": 104,
    "start_time": "2025-05-24T13:11:05.498Z"
   },
   {
    "duration": 20,
    "start_time": "2025-05-24T13:11:05.604Z"
   },
   {
    "duration": 14,
    "start_time": "2025-05-24T13:11:05.626Z"
   },
   {
    "duration": 15,
    "start_time": "2025-05-24T13:11:05.642Z"
   },
   {
    "duration": 8,
    "start_time": "2025-05-24T13:11:05.658Z"
   },
   {
    "duration": 136,
    "start_time": "2025-05-24T13:11:05.668Z"
   },
   {
    "duration": 30,
    "start_time": "2025-05-24T13:11:05.806Z"
   },
   {
    "duration": 7,
    "start_time": "2025-05-24T13:11:05.838Z"
   },
   {
    "duration": 20,
    "start_time": "2025-05-24T13:11:05.846Z"
   },
   {
    "duration": 609,
    "start_time": "2025-05-24T13:11:05.868Z"
   },
   {
    "duration": 115,
    "start_time": "2025-05-24T13:11:06.479Z"
   },
   {
    "duration": 9,
    "start_time": "2025-05-24T13:11:06.596Z"
   },
   {
    "duration": 1564,
    "start_time": "2025-05-24T13:11:06.607Z"
   },
   {
    "duration": 82,
    "start_time": "2025-05-24T13:11:18.093Z"
   },
   {
    "duration": 9,
    "start_time": "2025-05-24T13:37:15.673Z"
   },
   {
    "duration": 5,
    "start_time": "2025-05-24T13:37:17.919Z"
   },
   {
    "duration": 85,
    "start_time": "2025-05-24T13:37:22.577Z"
   },
   {
    "duration": 9,
    "start_time": "2025-05-24T13:37:25.546Z"
   },
   {
    "duration": 96,
    "start_time": "2025-05-24T15:40:38.917Z"
   },
   {
    "duration": 13,
    "start_time": "2025-05-24T15:40:45.438Z"
   },
   {
    "duration": 601,
    "start_time": "2025-05-24T15:41:59.335Z"
   },
   {
    "duration": 16,
    "start_time": "2025-05-24T15:42:03.222Z"
   },
   {
    "duration": 16,
    "start_time": "2025-05-24T15:43:00.042Z"
   },
   {
    "duration": 18,
    "start_time": "2025-05-24T15:58:01.807Z"
   },
   {
    "duration": 25,
    "start_time": "2025-05-24T16:04:33.350Z"
   },
   {
    "duration": 13,
    "start_time": "2025-05-24T16:04:38.581Z"
   },
   {
    "duration": 11,
    "start_time": "2025-05-24T16:04:46.575Z"
   },
   {
    "duration": 15,
    "start_time": "2025-05-24T16:04:50.697Z"
   },
   {
    "duration": 8,
    "start_time": "2025-05-24T16:04:57.639Z"
   },
   {
    "duration": 7,
    "start_time": "2025-05-24T16:05:08.409Z"
   },
   {
    "duration": 25,
    "start_time": "2025-05-24T16:05:24.856Z"
   },
   {
    "duration": 18,
    "start_time": "2025-05-24T16:05:36.046Z"
   },
   {
    "duration": 14,
    "start_time": "2025-05-24T16:05:45.697Z"
   },
   {
    "duration": 13,
    "start_time": "2025-05-24T16:06:04.798Z"
   },
   {
    "duration": 22,
    "start_time": "2025-05-24T16:08:09.586Z"
   },
   {
    "duration": 18,
    "start_time": "2025-05-24T16:08:24.428Z"
   },
   {
    "duration": 10,
    "start_time": "2025-05-24T16:09:15.308Z"
   },
   {
    "duration": 18,
    "start_time": "2025-05-24T16:09:30.578Z"
   },
   {
    "duration": 19,
    "start_time": "2025-05-24T16:09:39.751Z"
   },
   {
    "duration": 15,
    "start_time": "2025-05-24T16:09:46.457Z"
   },
   {
    "duration": 18,
    "start_time": "2025-05-24T16:09:51.860Z"
   },
   {
    "duration": 10,
    "start_time": "2025-05-24T16:10:03.934Z"
   },
   {
    "duration": 17,
    "start_time": "2025-05-24T16:10:10.433Z"
   },
   {
    "duration": 18,
    "start_time": "2025-05-24T16:12:16.665Z"
   },
   {
    "duration": 3,
    "start_time": "2025-05-24T16:40:08.341Z"
   },
   {
    "duration": 11,
    "start_time": "2025-05-24T16:40:08.346Z"
   },
   {
    "duration": 434,
    "start_time": "2025-05-24T16:40:08.358Z"
   },
   {
    "duration": 47,
    "start_time": "2025-05-24T16:40:08.794Z"
   },
   {
    "duration": 20,
    "start_time": "2025-05-24T16:40:08.843Z"
   },
   {
    "duration": 11,
    "start_time": "2025-05-24T16:40:08.865Z"
   },
   {
    "duration": 13,
    "start_time": "2025-05-24T16:40:08.878Z"
   },
   {
    "duration": 6,
    "start_time": "2025-05-24T16:40:08.893Z"
   },
   {
    "duration": 5,
    "start_time": "2025-05-24T16:40:08.901Z"
   },
   {
    "duration": 90,
    "start_time": "2025-05-24T16:40:08.907Z"
   },
   {
    "duration": 9,
    "start_time": "2025-05-24T16:40:08.998Z"
   },
   {
    "duration": 5,
    "start_time": "2025-05-24T16:40:09.009Z"
   },
   {
    "duration": 247,
    "start_time": "2025-05-24T16:40:09.016Z"
   },
   {
    "duration": 110,
    "start_time": "2025-05-24T16:40:09.266Z"
   },
   {
    "duration": 10,
    "start_time": "2025-05-24T16:40:09.377Z"
   },
   {
    "duration": 17,
    "start_time": "2025-05-24T16:40:09.389Z"
   },
   {
    "duration": 17,
    "start_time": "2025-05-24T16:40:09.408Z"
   },
   {
    "duration": 530,
    "start_time": "2025-05-24T16:40:09.426Z"
   },
   {
    "duration": 15,
    "start_time": "2025-05-24T16:40:09.960Z"
   },
   {
    "duration": 1637,
    "start_time": "2025-05-24T16:40:09.977Z"
   },
   {
    "duration": 107,
    "start_time": "2025-05-24T16:43:34.483Z"
   },
   {
    "duration": 10,
    "start_time": "2025-05-24T16:43:36.931Z"
   },
   {
    "duration": 12,
    "start_time": "2025-05-24T17:00:19.100Z"
   },
   {
    "duration": 14,
    "start_time": "2025-05-24T17:00:52.531Z"
   },
   {
    "duration": 5,
    "start_time": "2025-05-24T17:01:41.667Z"
   },
   {
    "duration": 14,
    "start_time": "2025-05-24T17:03:41.256Z"
   },
   {
    "duration": 11,
    "start_time": "2025-05-24T17:03:50.035Z"
   },
   {
    "duration": 10,
    "start_time": "2025-05-24T17:11:35.956Z"
   },
   {
    "duration": 13,
    "start_time": "2025-05-24T17:11:40.564Z"
   },
   {
    "duration": 123,
    "start_time": "2025-05-24T17:11:57.050Z"
   },
   {
    "duration": 12,
    "start_time": "2025-05-24T17:12:16.712Z"
   },
   {
    "duration": 15,
    "start_time": "2025-05-24T17:12:35.164Z"
   },
   {
    "duration": 53,
    "start_time": "2025-05-24T17:14:14.162Z"
   },
   {
    "duration": 13,
    "start_time": "2025-05-24T17:14:25.323Z"
   },
   {
    "duration": 6,
    "start_time": "2025-05-24T17:30:14.390Z"
   },
   {
    "duration": 9,
    "start_time": "2025-05-24T17:30:19.816Z"
   },
   {
    "duration": 9,
    "start_time": "2025-05-24T17:31:07.412Z"
   },
   {
    "duration": 4,
    "start_time": "2025-05-24T17:31:10.332Z"
   },
   {
    "duration": 89,
    "start_time": "2025-05-24T17:31:48.697Z"
   },
   {
    "duration": 87,
    "start_time": "2025-05-24T17:32:08.054Z"
   },
   {
    "duration": 109,
    "start_time": "2025-05-24T17:32:15.699Z"
   },
   {
    "duration": 80,
    "start_time": "2025-05-24T17:32:33.102Z"
   },
   {
    "duration": 85,
    "start_time": "2025-05-24T17:32:36.789Z"
   },
   {
    "duration": 84,
    "start_time": "2025-05-24T17:32:50.202Z"
   },
   {
    "duration": 11,
    "start_time": "2025-05-24T17:34:30.889Z"
   },
   {
    "duration": 11,
    "start_time": "2025-05-24T17:41:58.277Z"
   },
   {
    "duration": 53,
    "start_time": "2025-05-24T17:50:13.916Z"
   },
   {
    "duration": 15,
    "start_time": "2025-05-24T17:54:19.225Z"
   },
   {
    "duration": 3,
    "start_time": "2025-05-24T17:54:29.131Z"
   },
   {
    "duration": 100,
    "start_time": "2025-05-24T17:55:24.437Z"
   },
   {
    "duration": 97,
    "start_time": "2025-05-24T17:55:49.701Z"
   },
   {
    "duration": 1142,
    "start_time": "2025-05-24T18:20:44.269Z"
   },
   {
    "duration": 1172,
    "start_time": "2025-05-24T18:20:56.962Z"
   },
   {
    "duration": 1201,
    "start_time": "2025-05-24T18:21:25.534Z"
   },
   {
    "duration": 14,
    "start_time": "2025-05-24T18:21:45.400Z"
   },
   {
    "duration": 34,
    "start_time": "2025-05-24T18:22:51.632Z"
   },
   {
    "duration": 37,
    "start_time": "2025-05-24T18:23:02.142Z"
   },
   {
    "duration": 22,
    "start_time": "2025-05-24T18:23:07.422Z"
   },
   {
    "duration": 36,
    "start_time": "2025-05-24T18:23:14.069Z"
   },
   {
    "duration": 31,
    "start_time": "2025-05-24T18:29:44.008Z"
   },
   {
    "duration": 1277,
    "start_time": "2025-05-24T18:29:48.055Z"
   },
   {
    "duration": 33,
    "start_time": "2025-05-24T18:29:52.032Z"
   },
   {
    "duration": 45,
    "start_time": "2025-05-24T18:30:17.028Z"
   },
   {
    "duration": 1272,
    "start_time": "2025-05-24T18:36:26.845Z"
   },
   {
    "duration": 27,
    "start_time": "2025-05-24T18:37:00.868Z"
   },
   {
    "duration": 10,
    "start_time": "2025-05-24T18:42:20.402Z"
   },
   {
    "duration": 1182,
    "start_time": "2025-05-24T18:42:27.408Z"
   },
   {
    "duration": 26,
    "start_time": "2025-05-24T18:42:44.261Z"
   },
   {
    "duration": 20,
    "start_time": "2025-05-24T18:43:17.543Z"
   },
   {
    "duration": 3,
    "start_time": "2025-05-24T18:43:25.001Z"
   },
   {
    "duration": 4,
    "start_time": "2025-05-24T18:43:25.006Z"
   },
   {
    "duration": 395,
    "start_time": "2025-05-24T18:43:25.012Z"
   },
   {
    "duration": 92,
    "start_time": "2025-05-24T18:43:25.409Z"
   },
   {
    "duration": 20,
    "start_time": "2025-05-24T18:43:25.503Z"
   },
   {
    "duration": 12,
    "start_time": "2025-05-24T18:43:25.525Z"
   },
   {
    "duration": 12,
    "start_time": "2025-05-24T18:43:25.539Z"
   },
   {
    "duration": 7,
    "start_time": "2025-05-24T18:43:25.553Z"
   },
   {
    "duration": 5,
    "start_time": "2025-05-24T18:43:25.562Z"
   },
   {
    "duration": 13,
    "start_time": "2025-05-24T18:43:25.570Z"
   },
   {
    "duration": 9,
    "start_time": "2025-05-24T18:43:25.584Z"
   },
   {
    "duration": 5,
    "start_time": "2025-05-24T18:43:25.596Z"
   },
   {
    "duration": 361,
    "start_time": "2025-05-24T18:43:25.604Z"
   },
   {
    "duration": 116,
    "start_time": "2025-05-24T18:43:25.967Z"
   },
   {
    "duration": 12,
    "start_time": "2025-05-24T18:43:26.085Z"
   },
   {
    "duration": 19,
    "start_time": "2025-05-24T18:43:26.099Z"
   },
   {
    "duration": 51,
    "start_time": "2025-05-24T18:43:26.120Z"
   },
   {
    "duration": 510,
    "start_time": "2025-05-24T18:43:26.173Z"
   },
   {
    "duration": 18,
    "start_time": "2025-05-24T18:43:26.685Z"
   },
   {
    "duration": 1706,
    "start_time": "2025-05-24T18:43:26.705Z"
   },
   {
    "duration": 14,
    "start_time": "2025-05-24T18:43:28.412Z"
   },
   {
    "duration": 10,
    "start_time": "2025-05-24T18:43:28.428Z"
   },
   {
    "duration": 143,
    "start_time": "2025-05-24T18:43:28.440Z"
   },
   {
    "duration": 12,
    "start_time": "2025-05-24T18:43:28.585Z"
   },
   {
    "duration": 12,
    "start_time": "2025-05-24T18:43:28.602Z"
   },
   {
    "duration": 8,
    "start_time": "2025-05-24T18:43:28.616Z"
   },
   {
    "duration": 35,
    "start_time": "2025-05-24T18:43:28.626Z"
   },
   {
    "duration": 98,
    "start_time": "2025-05-24T18:43:28.663Z"
   },
   {
    "duration": 11,
    "start_time": "2025-05-24T18:43:28.762Z"
   },
   {
    "duration": 9,
    "start_time": "2025-05-24T18:43:28.775Z"
   },
   {
    "duration": 3,
    "start_time": "2025-05-24T18:43:28.786Z"
   },
   {
    "duration": 143,
    "start_time": "2025-05-24T18:43:28.791Z"
   },
   {
    "duration": 89,
    "start_time": "2025-05-24T18:43:28.936Z"
   },
   {
    "duration": 26,
    "start_time": "2025-05-24T18:43:29.028Z"
   },
   {
    "duration": 4,
    "start_time": "2025-05-24T18:46:02.289Z"
   },
   {
    "duration": 7,
    "start_time": "2025-05-24T18:46:02.295Z"
   },
   {
    "duration": 421,
    "start_time": "2025-05-24T18:46:02.304Z"
   },
   {
    "duration": 73,
    "start_time": "2025-05-24T18:46:02.727Z"
   },
   {
    "duration": 21,
    "start_time": "2025-05-24T18:46:02.802Z"
   },
   {
    "duration": 30,
    "start_time": "2025-05-24T18:46:02.824Z"
   },
   {
    "duration": 42,
    "start_time": "2025-05-24T18:46:02.856Z"
   },
   {
    "duration": 11,
    "start_time": "2025-05-24T18:46:02.900Z"
   },
   {
    "duration": 6,
    "start_time": "2025-05-24T18:46:02.912Z"
   },
   {
    "duration": 47,
    "start_time": "2025-05-24T18:46:02.920Z"
   },
   {
    "duration": 15,
    "start_time": "2025-05-24T18:46:02.971Z"
   },
   {
    "duration": 7,
    "start_time": "2025-05-24T18:46:02.987Z"
   },
   {
    "duration": 245,
    "start_time": "2025-05-24T18:46:02.996Z"
   },
   {
    "duration": 104,
    "start_time": "2025-05-24T18:46:03.243Z"
   },
   {
    "duration": 17,
    "start_time": "2025-05-24T18:46:03.349Z"
   },
   {
    "duration": 37,
    "start_time": "2025-05-24T18:46:03.368Z"
   },
   {
    "duration": 19,
    "start_time": "2025-05-24T18:46:03.407Z"
   },
   {
    "duration": 540,
    "start_time": "2025-05-24T18:46:03.427Z"
   },
   {
    "duration": 18,
    "start_time": "2025-05-24T18:46:03.969Z"
   },
   {
    "duration": 1545,
    "start_time": "2025-05-24T18:46:03.989Z"
   },
   {
    "duration": 25,
    "start_time": "2025-05-24T18:46:05.536Z"
   },
   {
    "duration": 12,
    "start_time": "2025-05-24T18:46:05.562Z"
   },
   {
    "duration": 133,
    "start_time": "2025-05-24T18:46:05.576Z"
   },
   {
    "duration": 13,
    "start_time": "2025-05-24T18:46:05.711Z"
   },
   {
    "duration": 37,
    "start_time": "2025-05-24T18:46:05.726Z"
   },
   {
    "duration": 15,
    "start_time": "2025-05-24T18:46:05.765Z"
   },
   {
    "duration": 6,
    "start_time": "2025-05-24T18:46:05.784Z"
   },
   {
    "duration": 124,
    "start_time": "2025-05-24T18:46:05.792Z"
   },
   {
    "duration": 11,
    "start_time": "2025-05-24T18:46:05.920Z"
   },
   {
    "duration": 55,
    "start_time": "2025-05-24T18:46:05.933Z"
   },
   {
    "duration": 3,
    "start_time": "2025-05-24T18:46:05.990Z"
   },
   {
    "duration": 117,
    "start_time": "2025-05-24T18:46:05.994Z"
   },
   {
    "duration": 52,
    "start_time": "2025-05-24T18:48:42.257Z"
   },
   {
    "duration": 4,
    "start_time": "2025-05-24T18:48:50.825Z"
   },
   {
    "duration": 2,
    "start_time": "2025-05-24T18:48:50.831Z"
   },
   {
    "duration": 484,
    "start_time": "2025-05-24T18:48:50.835Z"
   },
   {
    "duration": 52,
    "start_time": "2025-05-24T18:48:51.321Z"
   },
   {
    "duration": 34,
    "start_time": "2025-05-24T18:48:51.374Z"
   },
   {
    "duration": 13,
    "start_time": "2025-05-24T18:48:51.410Z"
   },
   {
    "duration": 12,
    "start_time": "2025-05-24T18:48:51.425Z"
   },
   {
    "duration": 6,
    "start_time": "2025-05-24T18:48:51.439Z"
   },
   {
    "duration": 16,
    "start_time": "2025-05-24T18:48:51.448Z"
   },
   {
    "duration": 23,
    "start_time": "2025-05-24T18:48:51.466Z"
   },
   {
    "duration": 7,
    "start_time": "2025-05-24T18:48:51.491Z"
   },
   {
    "duration": 11,
    "start_time": "2025-05-24T18:48:51.500Z"
   },
   {
    "duration": 286,
    "start_time": "2025-05-24T18:48:51.513Z"
   },
   {
    "duration": 108,
    "start_time": "2025-05-24T18:48:51.801Z"
   },
   {
    "duration": 9,
    "start_time": "2025-05-24T18:48:51.911Z"
   },
   {
    "duration": 79,
    "start_time": "2025-05-24T18:48:51.922Z"
   },
   {
    "duration": 16,
    "start_time": "2025-05-24T18:48:52.003Z"
   },
   {
    "duration": 548,
    "start_time": "2025-05-24T18:48:52.021Z"
   },
   {
    "duration": 16,
    "start_time": "2025-05-24T18:48:52.570Z"
   },
   {
    "duration": 1550,
    "start_time": "2025-05-24T18:48:52.588Z"
   },
   {
    "duration": 23,
    "start_time": "2025-05-24T18:48:54.141Z"
   },
   {
    "duration": 11,
    "start_time": "2025-05-24T18:48:54.166Z"
   },
   {
    "duration": 130,
    "start_time": "2025-05-24T18:48:54.179Z"
   },
   {
    "duration": 13,
    "start_time": "2025-05-24T18:48:54.313Z"
   },
   {
    "duration": 13,
    "start_time": "2025-05-24T18:48:54.328Z"
   },
   {
    "duration": 9,
    "start_time": "2025-05-24T18:48:54.361Z"
   },
   {
    "duration": 5,
    "start_time": "2025-05-24T18:48:54.371Z"
   },
   {
    "duration": 103,
    "start_time": "2025-05-24T18:48:54.378Z"
   },
   {
    "duration": 11,
    "start_time": "2025-05-24T18:48:54.483Z"
   },
   {
    "duration": 12,
    "start_time": "2025-05-24T18:48:54.496Z"
   },
   {
    "duration": 3,
    "start_time": "2025-05-24T18:48:54.510Z"
   },
   {
    "duration": 132,
    "start_time": "2025-05-24T18:48:54.514Z"
   },
   {
    "duration": 52,
    "start_time": "2025-05-24T18:56:57.385Z"
   },
   {
    "duration": 4,
    "start_time": "2025-05-24T18:57:04.204Z"
   },
   {
    "duration": 7,
    "start_time": "2025-05-24T18:57:04.210Z"
   },
   {
    "duration": 410,
    "start_time": "2025-05-24T18:57:04.219Z"
   },
   {
    "duration": 51,
    "start_time": "2025-05-24T18:57:04.631Z"
   },
   {
    "duration": 24,
    "start_time": "2025-05-24T18:57:04.684Z"
   },
   {
    "duration": 13,
    "start_time": "2025-05-24T18:57:04.710Z"
   },
   {
    "duration": 15,
    "start_time": "2025-05-24T18:57:04.726Z"
   },
   {
    "duration": 32,
    "start_time": "2025-05-24T18:57:04.743Z"
   },
   {
    "duration": 19,
    "start_time": "2025-05-24T18:57:04.778Z"
   },
   {
    "duration": 17,
    "start_time": "2025-05-24T18:57:04.799Z"
   },
   {
    "duration": 11,
    "start_time": "2025-05-24T18:57:04.819Z"
   },
   {
    "duration": 13,
    "start_time": "2025-05-24T18:57:04.832Z"
   },
   {
    "duration": 290,
    "start_time": "2025-05-24T18:57:04.847Z"
   },
   {
    "duration": 110,
    "start_time": "2025-05-24T18:57:05.139Z"
   },
   {
    "duration": 23,
    "start_time": "2025-05-24T18:57:05.251Z"
   },
   {
    "duration": 31,
    "start_time": "2025-05-24T18:57:05.275Z"
   },
   {
    "duration": 108,
    "start_time": "2025-05-24T18:57:05.307Z"
   },
   {
    "duration": 601,
    "start_time": "2025-05-24T18:57:05.416Z"
   },
   {
    "duration": 17,
    "start_time": "2025-05-24T18:57:06.019Z"
   },
   {
    "duration": 1753,
    "start_time": "2025-05-24T18:57:06.038Z"
   },
   {
    "duration": 13,
    "start_time": "2025-05-24T18:57:07.793Z"
   },
   {
    "duration": 11,
    "start_time": "2025-05-24T18:57:07.808Z"
   },
   {
    "duration": 153,
    "start_time": "2025-05-24T18:57:07.820Z"
   },
   {
    "duration": 13,
    "start_time": "2025-05-24T18:57:07.975Z"
   },
   {
    "duration": 84,
    "start_time": "2025-05-24T18:57:07.990Z"
   },
   {
    "duration": 10,
    "start_time": "2025-05-24T18:57:08.075Z"
   },
   {
    "duration": 4,
    "start_time": "2025-05-24T18:57:08.087Z"
   },
   {
    "duration": 98,
    "start_time": "2025-05-24T18:57:08.093Z"
   },
   {
    "duration": 10,
    "start_time": "2025-05-24T18:57:08.194Z"
   },
   {
    "duration": 9,
    "start_time": "2025-05-24T18:57:08.206Z"
   },
   {
    "duration": 3,
    "start_time": "2025-05-24T18:57:08.217Z"
   },
   {
    "duration": 132,
    "start_time": "2025-05-24T18:57:08.222Z"
   },
   {
    "duration": 154,
    "start_time": "2025-05-24T18:57:08.361Z"
   },
   {
    "duration": 34,
    "start_time": "2025-05-24T18:59:38.603Z"
   },
   {
    "duration": 14,
    "start_time": "2025-05-24T19:00:09.053Z"
   },
   {
    "duration": 16,
    "start_time": "2025-05-24T19:02:38.299Z"
   },
   {
    "duration": 21,
    "start_time": "2025-05-24T19:03:21.000Z"
   },
   {
    "duration": 17,
    "start_time": "2025-05-24T19:03:25.447Z"
   },
   {
    "duration": 15,
    "start_time": "2025-05-24T19:03:44.263Z"
   },
   {
    "duration": 13,
    "start_time": "2025-05-24T19:12:52.279Z"
   },
   {
    "duration": 13,
    "start_time": "2025-05-24T19:13:03.733Z"
   },
   {
    "duration": 1248,
    "start_time": "2025-05-24T19:13:16.891Z"
   },
   {
    "duration": 1268,
    "start_time": "2025-05-24T19:13:36.680Z"
   },
   {
    "duration": 1171,
    "start_time": "2025-05-24T19:14:12.612Z"
   },
   {
    "duration": 1507,
    "start_time": "2025-05-24T19:14:42.672Z"
   },
   {
    "duration": 1241,
    "start_time": "2025-05-24T19:17:03.434Z"
   },
   {
    "duration": 4,
    "start_time": "2025-05-24T19:17:31.288Z"
   },
   {
    "duration": 17,
    "start_time": "2025-05-24T19:17:31.295Z"
   },
   {
    "duration": 493,
    "start_time": "2025-05-24T19:17:31.314Z"
   },
   {
    "duration": 47,
    "start_time": "2025-05-24T19:17:31.809Z"
   },
   {
    "duration": 19,
    "start_time": "2025-05-24T19:17:31.858Z"
   },
   {
    "duration": 37,
    "start_time": "2025-05-24T19:17:31.879Z"
   },
   {
    "duration": 17,
    "start_time": "2025-05-24T19:17:31.918Z"
   },
   {
    "duration": 10,
    "start_time": "2025-05-24T19:17:31.937Z"
   },
   {
    "duration": 13,
    "start_time": "2025-05-24T19:17:31.949Z"
   },
   {
    "duration": 27,
    "start_time": "2025-05-24T19:17:31.965Z"
   },
   {
    "duration": 74,
    "start_time": "2025-05-24T19:17:31.994Z"
   },
   {
    "duration": 10,
    "start_time": "2025-05-24T19:17:32.070Z"
   },
   {
    "duration": 262,
    "start_time": "2025-05-24T19:17:32.082Z"
   },
   {
    "duration": 109,
    "start_time": "2025-05-24T19:17:32.346Z"
   },
   {
    "duration": 10,
    "start_time": "2025-05-24T19:17:32.460Z"
   },
   {
    "duration": 19,
    "start_time": "2025-05-24T19:17:32.472Z"
   },
   {
    "duration": 17,
    "start_time": "2025-05-24T19:17:32.493Z"
   },
   {
    "duration": 553,
    "start_time": "2025-05-24T19:17:32.511Z"
   },
   {
    "duration": 16,
    "start_time": "2025-05-24T19:17:33.066Z"
   },
   {
    "duration": 1645,
    "start_time": "2025-05-24T19:17:33.084Z"
   },
   {
    "duration": 13,
    "start_time": "2025-05-24T19:17:34.731Z"
   },
   {
    "duration": 21,
    "start_time": "2025-05-24T19:17:34.746Z"
   },
   {
    "duration": 133,
    "start_time": "2025-05-24T19:17:34.768Z"
   },
   {
    "duration": 13,
    "start_time": "2025-05-24T19:17:34.902Z"
   },
   {
    "duration": 20,
    "start_time": "2025-05-24T19:17:34.917Z"
   },
   {
    "duration": 23,
    "start_time": "2025-05-24T19:17:34.939Z"
   },
   {
    "duration": 4,
    "start_time": "2025-05-24T19:17:34.963Z"
   },
   {
    "duration": 100,
    "start_time": "2025-05-24T19:17:34.971Z"
   },
   {
    "duration": 32,
    "start_time": "2025-05-24T19:17:35.072Z"
   },
   {
    "duration": 35,
    "start_time": "2025-05-24T19:17:35.106Z"
   },
   {
    "duration": 3,
    "start_time": "2025-05-24T19:17:35.142Z"
   },
   {
    "duration": 105,
    "start_time": "2025-05-24T19:17:35.147Z"
   },
   {
    "duration": 75,
    "start_time": "2025-05-24T19:17:35.254Z"
   },
   {
    "duration": 34,
    "start_time": "2025-05-24T19:18:10.269Z"
   },
   {
    "duration": 1342,
    "start_time": "2025-05-24T19:18:47.821Z"
   },
   {
    "duration": 3,
    "start_time": "2025-05-24T19:18:54.738Z"
   },
   {
    "duration": 21,
    "start_time": "2025-05-24T19:18:54.743Z"
   },
   {
    "duration": 437,
    "start_time": "2025-05-24T19:18:54.766Z"
   },
   {
    "duration": 62,
    "start_time": "2025-05-24T19:18:55.205Z"
   },
   {
    "duration": 19,
    "start_time": "2025-05-24T19:18:55.270Z"
   },
   {
    "duration": 12,
    "start_time": "2025-05-24T19:18:55.291Z"
   },
   {
    "duration": 17,
    "start_time": "2025-05-24T19:18:55.305Z"
   },
   {
    "duration": 23,
    "start_time": "2025-05-24T19:18:55.323Z"
   },
   {
    "duration": 120,
    "start_time": "2025-05-24T19:18:55.348Z"
   },
   {
    "duration": 17,
    "start_time": "2025-05-24T19:18:55.470Z"
   },
   {
    "duration": 8,
    "start_time": "2025-05-24T19:18:55.490Z"
   },
   {
    "duration": 5,
    "start_time": "2025-05-24T19:18:55.499Z"
   },
   {
    "duration": 264,
    "start_time": "2025-05-24T19:18:55.505Z"
   },
   {
    "duration": 125,
    "start_time": "2025-05-24T19:18:55.771Z"
   },
   {
    "duration": 10,
    "start_time": "2025-05-24T19:18:55.897Z"
   },
   {
    "duration": 18,
    "start_time": "2025-05-24T19:18:55.909Z"
   },
   {
    "duration": 45,
    "start_time": "2025-05-24T19:18:55.929Z"
   },
   {
    "duration": 828,
    "start_time": "2025-05-24T19:18:55.976Z"
   },
   {
    "duration": 73,
    "start_time": "2025-05-24T19:18:56.806Z"
   },
   {
    "duration": 2614,
    "start_time": "2025-05-24T19:18:56.881Z"
   },
   {
    "duration": 13,
    "start_time": "2025-05-24T19:18:59.497Z"
   },
   {
    "duration": 11,
    "start_time": "2025-05-24T19:18:59.512Z"
   },
   {
    "duration": 140,
    "start_time": "2025-05-24T19:18:59.525Z"
   },
   {
    "duration": 12,
    "start_time": "2025-05-24T19:18:59.667Z"
   },
   {
    "duration": 12,
    "start_time": "2025-05-24T19:18:59.681Z"
   },
   {
    "duration": 8,
    "start_time": "2025-05-24T19:18:59.695Z"
   },
   {
    "duration": 5,
    "start_time": "2025-05-24T19:18:59.705Z"
   },
   {
    "duration": 154,
    "start_time": "2025-05-24T19:18:59.711Z"
   },
   {
    "duration": 9,
    "start_time": "2025-05-24T19:18:59.869Z"
   },
   {
    "duration": 17,
    "start_time": "2025-05-24T19:18:59.880Z"
   },
   {
    "duration": 3,
    "start_time": "2025-05-24T19:18:59.898Z"
   },
   {
    "duration": 261,
    "start_time": "2025-05-24T19:18:59.903Z"
   },
   {
    "duration": 131,
    "start_time": "2025-05-24T19:19:00.166Z"
   },
   {
    "duration": 71,
    "start_time": "2025-05-24T19:19:00.299Z"
   },
   {
    "duration": 4,
    "start_time": "2025-05-24T19:20:49.142Z"
   },
   {
    "duration": 3,
    "start_time": "2025-05-24T19:20:49.148Z"
   },
   {
    "duration": 444,
    "start_time": "2025-05-24T19:20:49.152Z"
   },
   {
    "duration": 47,
    "start_time": "2025-05-24T19:20:49.598Z"
   },
   {
    "duration": 20,
    "start_time": "2025-05-24T19:20:49.649Z"
   },
   {
    "duration": 12,
    "start_time": "2025-05-24T19:20:49.670Z"
   },
   {
    "duration": 12,
    "start_time": "2025-05-24T19:20:49.684Z"
   },
   {
    "duration": 9,
    "start_time": "2025-05-24T19:20:49.697Z"
   },
   {
    "duration": 6,
    "start_time": "2025-05-24T19:20:49.707Z"
   },
   {
    "duration": 14,
    "start_time": "2025-05-24T19:20:49.714Z"
   },
   {
    "duration": 10,
    "start_time": "2025-05-24T19:20:49.761Z"
   },
   {
    "duration": 6,
    "start_time": "2025-05-24T19:20:49.773Z"
   },
   {
    "duration": 258,
    "start_time": "2025-05-24T19:20:49.782Z"
   },
   {
    "duration": 111,
    "start_time": "2025-05-24T19:20:50.042Z"
   },
   {
    "duration": 12,
    "start_time": "2025-05-24T19:20:50.161Z"
   },
   {
    "duration": 20,
    "start_time": "2025-05-24T19:20:50.175Z"
   },
   {
    "duration": 17,
    "start_time": "2025-05-24T19:20:50.197Z"
   },
   {
    "duration": 551,
    "start_time": "2025-05-24T19:20:50.216Z"
   },
   {
    "duration": 16,
    "start_time": "2025-05-24T19:20:50.772Z"
   },
   {
    "duration": 1524,
    "start_time": "2025-05-24T19:20:50.789Z"
   },
   {
    "duration": 13,
    "start_time": "2025-05-24T19:20:52.315Z"
   },
   {
    "duration": 31,
    "start_time": "2025-05-24T19:20:52.330Z"
   },
   {
    "duration": 127,
    "start_time": "2025-05-24T19:20:52.362Z"
   },
   {
    "duration": 19,
    "start_time": "2025-05-24T19:20:52.490Z"
   },
   {
    "duration": 13,
    "start_time": "2025-05-24T19:20:52.511Z"
   },
   {
    "duration": 58,
    "start_time": "2025-05-24T19:20:52.526Z"
   },
   {
    "duration": 23,
    "start_time": "2025-05-24T19:20:52.586Z"
   },
   {
    "duration": 82,
    "start_time": "2025-05-24T19:20:52.610Z"
   },
   {
    "duration": 10,
    "start_time": "2025-05-24T19:20:52.694Z"
   },
   {
    "duration": 21,
    "start_time": "2025-05-24T19:20:52.705Z"
   },
   {
    "duration": 14,
    "start_time": "2025-05-24T19:20:52.728Z"
   },
   {
    "duration": 116,
    "start_time": "2025-05-24T19:20:52.744Z"
   },
   {
    "duration": 130,
    "start_time": "2025-05-24T19:20:52.861Z"
   },
   {
    "duration": 0,
    "start_time": "2025-05-24T19:20:52.992Z"
   },
   {
    "duration": 7,
    "start_time": "2025-05-24T19:21:20.969Z"
   },
   {
    "duration": 13,
    "start_time": "2025-05-24T19:21:20.979Z"
   },
   {
    "duration": 514,
    "start_time": "2025-05-24T19:21:20.994Z"
   },
   {
    "duration": 61,
    "start_time": "2025-05-24T19:21:21.510Z"
   },
   {
    "duration": 22,
    "start_time": "2025-05-24T19:21:21.578Z"
   },
   {
    "duration": 15,
    "start_time": "2025-05-24T19:21:21.602Z"
   },
   {
    "duration": 21,
    "start_time": "2025-05-24T19:21:21.620Z"
   },
   {
    "duration": 39,
    "start_time": "2025-05-24T19:21:21.643Z"
   },
   {
    "duration": 7,
    "start_time": "2025-05-24T19:21:21.684Z"
   },
   {
    "duration": 12,
    "start_time": "2025-05-24T19:21:21.694Z"
   },
   {
    "duration": 6,
    "start_time": "2025-05-24T19:21:21.708Z"
   },
   {
    "duration": 6,
    "start_time": "2025-05-24T19:21:21.715Z"
   },
   {
    "duration": 297,
    "start_time": "2025-05-24T19:21:21.724Z"
   },
   {
    "duration": 113,
    "start_time": "2025-05-24T19:21:22.022Z"
   },
   {
    "duration": 9,
    "start_time": "2025-05-24T19:21:22.137Z"
   },
   {
    "duration": 28,
    "start_time": "2025-05-24T19:21:22.160Z"
   },
   {
    "duration": 25,
    "start_time": "2025-05-24T19:21:22.190Z"
   },
   {
    "duration": 539,
    "start_time": "2025-05-24T19:21:22.217Z"
   },
   {
    "duration": 26,
    "start_time": "2025-05-24T19:21:22.760Z"
   },
   {
    "duration": 2447,
    "start_time": "2025-05-24T19:21:22.788Z"
   },
   {
    "duration": 24,
    "start_time": "2025-05-24T19:21:25.236Z"
   },
   {
    "duration": 13,
    "start_time": "2025-05-24T19:21:25.267Z"
   },
   {
    "duration": 148,
    "start_time": "2025-05-24T19:21:25.282Z"
   },
   {
    "duration": 13,
    "start_time": "2025-05-24T19:21:25.432Z"
   },
   {
    "duration": 57,
    "start_time": "2025-05-24T19:21:25.447Z"
   },
   {
    "duration": 21,
    "start_time": "2025-05-24T19:21:25.505Z"
   },
   {
    "duration": 5,
    "start_time": "2025-05-24T19:21:25.528Z"
   },
   {
    "duration": 89,
    "start_time": "2025-05-24T19:21:25.535Z"
   },
   {
    "duration": 10,
    "start_time": "2025-05-24T19:21:25.626Z"
   },
   {
    "duration": 28,
    "start_time": "2025-05-24T19:21:25.637Z"
   },
   {
    "duration": 9,
    "start_time": "2025-05-24T19:21:25.667Z"
   },
   {
    "duration": 131,
    "start_time": "2025-05-24T19:21:25.678Z"
   },
   {
    "duration": 128,
    "start_time": "2025-05-24T19:21:25.812Z"
   },
   {
    "duration": 30,
    "start_time": "2025-05-24T19:21:25.942Z"
   },
   {
    "duration": 4,
    "start_time": "2025-05-24T19:23:05.674Z"
   },
   {
    "duration": 29,
    "start_time": "2025-05-24T19:23:05.680Z"
   },
   {
    "duration": 404,
    "start_time": "2025-05-24T19:23:05.711Z"
   },
   {
    "duration": 56,
    "start_time": "2025-05-24T19:23:06.117Z"
   },
   {
    "duration": 23,
    "start_time": "2025-05-24T19:23:06.175Z"
   },
   {
    "duration": 12,
    "start_time": "2025-05-24T19:23:06.199Z"
   },
   {
    "duration": 15,
    "start_time": "2025-05-24T19:23:06.213Z"
   },
   {
    "duration": 10,
    "start_time": "2025-05-24T19:23:06.229Z"
   },
   {
    "duration": 11,
    "start_time": "2025-05-24T19:23:06.266Z"
   },
   {
    "duration": 23,
    "start_time": "2025-05-24T19:23:06.278Z"
   },
   {
    "duration": 9,
    "start_time": "2025-05-24T19:23:06.305Z"
   },
   {
    "duration": 5,
    "start_time": "2025-05-24T19:23:06.315Z"
   },
   {
    "duration": 289,
    "start_time": "2025-05-24T19:23:06.323Z"
   },
   {
    "duration": 123,
    "start_time": "2025-05-24T19:23:06.614Z"
   },
   {
    "duration": 26,
    "start_time": "2025-05-24T19:23:06.739Z"
   },
   {
    "duration": 30,
    "start_time": "2025-05-24T19:23:06.771Z"
   },
   {
    "duration": 19,
    "start_time": "2025-05-24T19:23:06.803Z"
   },
   {
    "duration": 552,
    "start_time": "2025-05-24T19:23:06.824Z"
   },
   {
    "duration": 16,
    "start_time": "2025-05-24T19:23:07.378Z"
   },
   {
    "duration": 1722,
    "start_time": "2025-05-24T19:23:07.395Z"
   },
   {
    "duration": 14,
    "start_time": "2025-05-24T19:23:09.119Z"
   },
   {
    "duration": 30,
    "start_time": "2025-05-24T19:23:09.135Z"
   },
   {
    "duration": 124,
    "start_time": "2025-05-24T19:23:09.176Z"
   },
   {
    "duration": 14,
    "start_time": "2025-05-24T19:23:09.302Z"
   },
   {
    "duration": 24,
    "start_time": "2025-05-24T19:23:09.318Z"
   },
   {
    "duration": 22,
    "start_time": "2025-05-24T19:23:09.344Z"
   },
   {
    "duration": 69,
    "start_time": "2025-05-24T19:23:09.367Z"
   },
   {
    "duration": 128,
    "start_time": "2025-05-24T19:23:09.437Z"
   },
   {
    "duration": 11,
    "start_time": "2025-05-24T19:23:09.574Z"
   },
   {
    "duration": 10,
    "start_time": "2025-05-24T19:23:09.587Z"
   },
   {
    "duration": 3,
    "start_time": "2025-05-24T19:23:09.598Z"
   },
   {
    "duration": 118,
    "start_time": "2025-05-24T19:23:09.602Z"
   },
   {
    "duration": 87,
    "start_time": "2025-05-24T19:23:09.722Z"
   },
   {
    "duration": 21,
    "start_time": "2025-05-24T19:23:09.810Z"
   },
   {
    "duration": 4,
    "start_time": "2025-05-24T19:26:58.005Z"
   },
   {
    "duration": 82,
    "start_time": "2025-05-24T19:26:58.011Z"
   },
   {
    "duration": 399,
    "start_time": "2025-05-24T19:26:58.095Z"
   },
   {
    "duration": 49,
    "start_time": "2025-05-24T19:26:58.497Z"
   },
   {
    "duration": 19,
    "start_time": "2025-05-24T19:26:58.548Z"
   },
   {
    "duration": 13,
    "start_time": "2025-05-24T19:26:58.568Z"
   },
   {
    "duration": 14,
    "start_time": "2025-05-24T19:26:58.583Z"
   },
   {
    "duration": 7,
    "start_time": "2025-05-24T19:26:58.598Z"
   },
   {
    "duration": 6,
    "start_time": "2025-05-24T19:26:58.607Z"
   },
   {
    "duration": 47,
    "start_time": "2025-05-24T19:26:58.615Z"
   },
   {
    "duration": 8,
    "start_time": "2025-05-24T19:26:58.664Z"
   },
   {
    "duration": 4,
    "start_time": "2025-05-24T19:26:58.673Z"
   },
   {
    "duration": 245,
    "start_time": "2025-05-24T19:26:58.679Z"
   },
   {
    "duration": 123,
    "start_time": "2025-05-24T19:26:58.925Z"
   },
   {
    "duration": 16,
    "start_time": "2025-05-24T19:26:59.051Z"
   },
   {
    "duration": 85,
    "start_time": "2025-05-24T19:26:59.069Z"
   },
   {
    "duration": 18,
    "start_time": "2025-05-24T19:26:59.156Z"
   },
   {
    "duration": 494,
    "start_time": "2025-05-24T19:26:59.176Z"
   },
   {
    "duration": 15,
    "start_time": "2025-05-24T19:26:59.672Z"
   },
   {
    "duration": 1767,
    "start_time": "2025-05-24T19:26:59.689Z"
   },
   {
    "duration": 13,
    "start_time": "2025-05-24T19:27:01.461Z"
   },
   {
    "duration": 28,
    "start_time": "2025-05-24T19:27:01.475Z"
   },
   {
    "duration": 144,
    "start_time": "2025-05-24T19:27:01.505Z"
   },
   {
    "duration": 22,
    "start_time": "2025-05-24T19:27:01.650Z"
   },
   {
    "duration": 18,
    "start_time": "2025-05-24T19:27:01.673Z"
   },
   {
    "duration": 9,
    "start_time": "2025-05-24T19:27:01.693Z"
   },
   {
    "duration": 5,
    "start_time": "2025-05-24T19:27:01.703Z"
   },
   {
    "duration": 109,
    "start_time": "2025-05-24T19:27:01.711Z"
   },
   {
    "duration": 10,
    "start_time": "2025-05-24T19:27:01.822Z"
   },
   {
    "duration": 37,
    "start_time": "2025-05-24T19:27:01.833Z"
   },
   {
    "duration": 2,
    "start_time": "2025-05-24T19:27:01.872Z"
   },
   {
    "duration": 110,
    "start_time": "2025-05-24T19:27:01.876Z"
   },
   {
    "duration": 74,
    "start_time": "2025-05-24T19:27:01.987Z"
   },
   {
    "duration": 50,
    "start_time": "2025-05-24T19:27:02.063Z"
   },
   {
    "duration": 136,
    "start_time": "2025-05-24T19:31:12.086Z"
   },
   {
    "duration": 84,
    "start_time": "2025-05-24T19:31:24.008Z"
   },
   {
    "duration": 3,
    "start_time": "2025-05-24T19:31:29.545Z"
   },
   {
    "duration": 6,
    "start_time": "2025-05-24T19:31:29.550Z"
   },
   {
    "duration": 446,
    "start_time": "2025-05-24T19:31:29.558Z"
   },
   {
    "duration": 49,
    "start_time": "2025-05-24T19:31:30.006Z"
   },
   {
    "duration": 50,
    "start_time": "2025-05-24T19:31:30.057Z"
   },
   {
    "duration": 13,
    "start_time": "2025-05-24T19:31:30.109Z"
   },
   {
    "duration": 11,
    "start_time": "2025-05-24T19:31:30.124Z"
   },
   {
    "duration": 18,
    "start_time": "2025-05-24T19:31:30.137Z"
   },
   {
    "duration": 16,
    "start_time": "2025-05-24T19:31:30.157Z"
   },
   {
    "duration": 13,
    "start_time": "2025-05-24T19:31:30.176Z"
   },
   {
    "duration": 8,
    "start_time": "2025-05-24T19:31:30.192Z"
   },
   {
    "duration": 6,
    "start_time": "2025-05-24T19:31:30.202Z"
   },
   {
    "duration": 287,
    "start_time": "2025-05-24T19:31:30.210Z"
   },
   {
    "duration": 108,
    "start_time": "2025-05-24T19:31:30.499Z"
   },
   {
    "duration": 10,
    "start_time": "2025-05-24T19:31:30.609Z"
   },
   {
    "duration": 17,
    "start_time": "2025-05-24T19:31:30.621Z"
   },
   {
    "duration": 48,
    "start_time": "2025-05-24T19:31:30.639Z"
   },
   {
    "duration": 540,
    "start_time": "2025-05-24T19:31:30.689Z"
   },
   {
    "duration": 17,
    "start_time": "2025-05-24T19:31:31.231Z"
   },
   {
    "duration": 1757,
    "start_time": "2025-05-24T19:31:31.260Z"
   },
   {
    "duration": 14,
    "start_time": "2025-05-24T19:31:33.019Z"
   },
   {
    "duration": 38,
    "start_time": "2025-05-24T19:31:33.034Z"
   },
   {
    "duration": 217,
    "start_time": "2025-05-24T19:31:33.074Z"
   },
   {
    "duration": 12,
    "start_time": "2025-05-24T19:31:33.293Z"
   },
   {
    "duration": 30,
    "start_time": "2025-05-24T19:31:33.306Z"
   },
   {
    "duration": 9,
    "start_time": "2025-05-24T19:31:33.338Z"
   },
   {
    "duration": 17,
    "start_time": "2025-05-24T19:31:33.349Z"
   },
   {
    "duration": 81,
    "start_time": "2025-05-24T19:31:33.368Z"
   },
   {
    "duration": 57,
    "start_time": "2025-05-24T19:31:33.453Z"
   },
   {
    "duration": 23,
    "start_time": "2025-05-24T19:31:33.512Z"
   },
   {
    "duration": 3,
    "start_time": "2025-05-24T19:31:33.537Z"
   },
   {
    "duration": 132,
    "start_time": "2025-05-24T19:31:33.542Z"
   },
   {
    "duration": 57,
    "start_time": "2025-05-24T19:31:33.676Z"
   },
   {
    "duration": 76,
    "start_time": "2025-05-24T19:31:33.735Z"
   },
   {
    "duration": 0,
    "start_time": "2025-05-24T19:31:33.813Z"
   },
   {
    "duration": 73,
    "start_time": "2025-05-24T19:32:16.746Z"
   },
   {
    "duration": 112,
    "start_time": "2025-05-24T19:32:20.820Z"
   },
   {
    "duration": 4,
    "start_time": "2025-05-24T19:32:27.105Z"
   },
   {
    "duration": 4,
    "start_time": "2025-05-24T19:32:35.804Z"
   },
   {
    "duration": 17,
    "start_time": "2025-05-24T19:32:45.715Z"
   },
   {
    "duration": 18,
    "start_time": "2025-05-24T19:35:02.929Z"
   },
   {
    "duration": 19,
    "start_time": "2025-05-24T19:35:41.985Z"
   },
   {
    "duration": 18,
    "start_time": "2025-05-24T19:37:59.404Z"
   },
   {
    "duration": 20,
    "start_time": "2025-05-24T19:38:09.848Z"
   },
   {
    "duration": 25,
    "start_time": "2025-05-24T19:38:37.558Z"
   },
   {
    "duration": 3,
    "start_time": "2025-05-24T19:39:09.292Z"
   },
   {
    "duration": 6,
    "start_time": "2025-05-24T19:39:09.297Z"
   },
   {
    "duration": 385,
    "start_time": "2025-05-24T19:39:09.304Z"
   },
   {
    "duration": 48,
    "start_time": "2025-05-24T19:39:09.691Z"
   },
   {
    "duration": 20,
    "start_time": "2025-05-24T19:39:09.741Z"
   },
   {
    "duration": 11,
    "start_time": "2025-05-24T19:39:09.763Z"
   },
   {
    "duration": 12,
    "start_time": "2025-05-24T19:39:09.776Z"
   },
   {
    "duration": 7,
    "start_time": "2025-05-24T19:39:09.790Z"
   },
   {
    "duration": 5,
    "start_time": "2025-05-24T19:39:09.799Z"
   },
   {
    "duration": 12,
    "start_time": "2025-05-24T19:39:09.806Z"
   },
   {
    "duration": 44,
    "start_time": "2025-05-24T19:39:09.820Z"
   },
   {
    "duration": 22,
    "start_time": "2025-05-24T19:39:09.866Z"
   },
   {
    "duration": 261,
    "start_time": "2025-05-24T19:39:09.890Z"
   },
   {
    "duration": 112,
    "start_time": "2025-05-24T19:39:10.154Z"
   },
   {
    "duration": 10,
    "start_time": "2025-05-24T19:39:10.268Z"
   },
   {
    "duration": 18,
    "start_time": "2025-05-24T19:39:10.280Z"
   },
   {
    "duration": 17,
    "start_time": "2025-05-24T19:39:10.299Z"
   },
   {
    "duration": 547,
    "start_time": "2025-05-24T19:39:10.318Z"
   },
   {
    "duration": 15,
    "start_time": "2025-05-24T19:39:10.867Z"
   },
   {
    "duration": 1817,
    "start_time": "2025-05-24T19:39:10.884Z"
   },
   {
    "duration": 15,
    "start_time": "2025-05-24T19:39:12.703Z"
   },
   {
    "duration": 17,
    "start_time": "2025-05-24T19:39:12.720Z"
   },
   {
    "duration": 137,
    "start_time": "2025-05-24T19:39:12.739Z"
   },
   {
    "duration": 13,
    "start_time": "2025-05-24T19:39:12.878Z"
   },
   {
    "duration": 14,
    "start_time": "2025-05-24T19:39:12.892Z"
   },
   {
    "duration": 10,
    "start_time": "2025-05-24T19:39:12.907Z"
   },
   {
    "duration": 4,
    "start_time": "2025-05-24T19:39:12.919Z"
   },
   {
    "duration": 82,
    "start_time": "2025-05-24T19:39:12.961Z"
   },
   {
    "duration": 23,
    "start_time": "2025-05-24T19:39:13.045Z"
   },
   {
    "duration": 21,
    "start_time": "2025-05-24T19:39:13.070Z"
   },
   {
    "duration": 73,
    "start_time": "2025-05-24T19:39:13.093Z"
   },
   {
    "duration": 112,
    "start_time": "2025-05-24T19:39:13.168Z"
   },
   {
    "duration": 60,
    "start_time": "2025-05-24T19:39:13.282Z"
   },
   {
    "duration": 36,
    "start_time": "2025-05-24T19:39:13.344Z"
   },
   {
    "duration": 5,
    "start_time": "2025-05-24T19:39:13.382Z"
   },
   {
    "duration": 31,
    "start_time": "2025-05-24T19:40:14.314Z"
   },
   {
    "duration": 3,
    "start_time": "2025-05-25T12:03:53.915Z"
   },
   {
    "duration": 14,
    "start_time": "2025-05-25T12:03:53.920Z"
   },
   {
    "duration": 423,
    "start_time": "2025-05-25T12:03:53.935Z"
   },
   {
    "duration": 75,
    "start_time": "2025-05-25T12:03:54.359Z"
   },
   {
    "duration": 25,
    "start_time": "2025-05-25T12:03:54.438Z"
   },
   {
    "duration": 12,
    "start_time": "2025-05-25T12:03:54.466Z"
   },
   {
    "duration": 58,
    "start_time": "2025-05-25T12:03:54.480Z"
   },
   {
    "duration": 24,
    "start_time": "2025-05-25T12:03:54.540Z"
   },
   {
    "duration": 5,
    "start_time": "2025-05-25T12:03:54.566Z"
   },
   {
    "duration": 11,
    "start_time": "2025-05-25T12:03:54.572Z"
   },
   {
    "duration": 7,
    "start_time": "2025-05-25T12:03:54.586Z"
   },
   {
    "duration": 5,
    "start_time": "2025-05-25T12:03:54.594Z"
   },
   {
    "duration": 428,
    "start_time": "2025-05-25T12:03:54.600Z"
   },
   {
    "duration": 109,
    "start_time": "2025-05-25T12:03:55.030Z"
   },
   {
    "duration": 9,
    "start_time": "2025-05-25T12:03:55.141Z"
   },
   {
    "duration": 27,
    "start_time": "2025-05-25T12:03:55.152Z"
   },
   {
    "duration": 18,
    "start_time": "2025-05-25T12:03:55.181Z"
   },
   {
    "duration": 528,
    "start_time": "2025-05-25T12:03:55.201Z"
   },
   {
    "duration": 18,
    "start_time": "2025-05-25T12:03:55.730Z"
   },
   {
    "duration": 1570,
    "start_time": "2025-05-25T12:03:55.749Z"
   },
   {
    "duration": 17,
    "start_time": "2025-05-25T12:03:57.321Z"
   },
   {
    "duration": 10,
    "start_time": "2025-05-25T12:03:57.340Z"
   },
   {
    "duration": 123,
    "start_time": "2025-05-25T12:03:57.352Z"
   },
   {
    "duration": 12,
    "start_time": "2025-05-25T12:03:57.477Z"
   },
   {
    "duration": 26,
    "start_time": "2025-05-25T12:03:57.490Z"
   },
   {
    "duration": 7,
    "start_time": "2025-05-25T12:03:57.518Z"
   },
   {
    "duration": 12,
    "start_time": "2025-05-25T12:03:57.527Z"
   },
   {
    "duration": 77,
    "start_time": "2025-05-25T12:03:57.541Z"
   },
   {
    "duration": 9,
    "start_time": "2025-05-25T12:03:57.639Z"
   },
   {
    "duration": 8,
    "start_time": "2025-05-25T12:03:57.650Z"
   },
   {
    "duration": 2,
    "start_time": "2025-05-25T12:03:57.660Z"
   },
   {
    "duration": 125,
    "start_time": "2025-05-25T12:03:57.664Z"
   },
   {
    "duration": 59,
    "start_time": "2025-05-25T12:03:57.790Z"
   },
   {
    "duration": 22,
    "start_time": "2025-05-25T12:03:57.851Z"
   },
   {
    "duration": 4,
    "start_time": "2025-05-25T12:03:57.874Z"
   },
   {
    "duration": 20,
    "start_time": "2025-05-25T12:03:57.880Z"
   },
   {
    "duration": 99,
    "start_time": "2025-05-25T12:06:59.748Z"
   },
   {
    "duration": 11,
    "start_time": "2025-05-25T12:07:09.486Z"
   },
   {
    "duration": 15,
    "start_time": "2025-05-25T12:07:15.520Z"
   },
   {
    "duration": 16,
    "start_time": "2025-05-25T12:07:17.484Z"
   },
   {
    "duration": 1677,
    "start_time": "2025-05-25T12:10:39.604Z"
   },
   {
    "duration": 1576,
    "start_time": "2025-05-25T12:10:45.771Z"
   },
   {
    "duration": 1239,
    "start_time": "2025-05-25T12:12:07.169Z"
   },
   {
    "duration": 1281,
    "start_time": "2025-05-25T12:12:20.011Z"
   },
   {
    "duration": 1329,
    "start_time": "2025-05-25T12:15:03.289Z"
   },
   {
    "duration": 1257,
    "start_time": "2025-05-25T12:15:13.121Z"
   },
   {
    "duration": 1216,
    "start_time": "2025-05-25T12:17:07.179Z"
   },
   {
    "duration": 1222,
    "start_time": "2025-05-25T12:17:27.101Z"
   },
   {
    "duration": 43,
    "start_time": "2025-05-25T12:18:46.395Z"
   },
   {
    "duration": 14,
    "start_time": "2025-05-25T12:25:28.432Z"
   },
   {
    "duration": 14,
    "start_time": "2025-05-25T12:25:30.712Z"
   },
   {
    "duration": 14,
    "start_time": "2025-05-25T12:35:24.842Z"
   },
   {
    "duration": 9,
    "start_time": "2025-05-25T12:41:43.533Z"
   },
   {
    "duration": 19,
    "start_time": "2025-05-25T12:43:34.375Z"
   },
   {
    "duration": 43,
    "start_time": "2025-05-25T12:44:37.205Z"
   },
   {
    "duration": 44,
    "start_time": "2025-05-25T12:44:51.765Z"
   },
   {
    "duration": 22,
    "start_time": "2025-05-25T12:45:10.781Z"
   },
   {
    "duration": 43,
    "start_time": "2025-05-25T12:45:17.831Z"
   },
   {
    "duration": 33,
    "start_time": "2025-05-25T12:45:46.590Z"
   },
   {
    "duration": 16,
    "start_time": "2025-05-25T12:46:01.043Z"
   },
   {
    "duration": 42,
    "start_time": "2025-05-25T12:50:01.033Z"
   },
   {
    "duration": 42,
    "start_time": "2025-05-25T12:50:27.365Z"
   },
   {
    "duration": 41,
    "start_time": "2025-05-25T12:50:33.778Z"
   },
   {
    "duration": 40,
    "start_time": "2025-05-25T12:50:39.591Z"
   },
   {
    "duration": 15,
    "start_time": "2025-05-25T12:55:48.189Z"
   },
   {
    "duration": 44,
    "start_time": "2025-05-25T12:58:55.686Z"
   },
   {
    "duration": 20,
    "start_time": "2025-05-25T13:05:54.916Z"
   },
   {
    "duration": 24,
    "start_time": "2025-05-25T13:06:11.754Z"
   },
   {
    "duration": 12,
    "start_time": "2025-05-25T13:51:05.850Z"
   },
   {
    "duration": 1198,
    "start_time": "2025-05-25T14:19:49.084Z"
   },
   {
    "duration": 5,
    "start_time": "2025-05-25T14:20:40.954Z"
   },
   {
    "duration": 15,
    "start_time": "2025-05-25T14:51:58.066Z"
   },
   {
    "duration": 84,
    "start_time": "2025-05-25T15:09:37.217Z"
   },
   {
    "duration": 52,
    "start_time": "2025-05-25T15:09:52.599Z"
   },
   {
    "duration": 4,
    "start_time": "2025-05-25T15:46:10.395Z"
   },
   {
    "duration": 9,
    "start_time": "2025-05-25T15:46:10.401Z"
   },
   {
    "duration": 439,
    "start_time": "2025-05-25T15:46:10.412Z"
   },
   {
    "duration": 81,
    "start_time": "2025-05-25T15:46:10.853Z"
   },
   {
    "duration": 19,
    "start_time": "2025-05-25T15:46:10.936Z"
   },
   {
    "duration": 10,
    "start_time": "2025-05-25T15:46:10.957Z"
   },
   {
    "duration": 11,
    "start_time": "2025-05-25T15:46:10.969Z"
   },
   {
    "duration": 10,
    "start_time": "2025-05-25T15:46:10.981Z"
   },
   {
    "duration": 19,
    "start_time": "2025-05-25T15:46:10.994Z"
   },
   {
    "duration": 28,
    "start_time": "2025-05-25T15:46:11.014Z"
   },
   {
    "duration": 6,
    "start_time": "2025-05-25T15:46:11.044Z"
   },
   {
    "duration": 6,
    "start_time": "2025-05-25T15:46:11.051Z"
   },
   {
    "duration": 230,
    "start_time": "2025-05-25T15:46:11.058Z"
   },
   {
    "duration": 103,
    "start_time": "2025-05-25T15:46:11.289Z"
   },
   {
    "duration": 9,
    "start_time": "2025-05-25T15:46:11.393Z"
   },
   {
    "duration": 54,
    "start_time": "2025-05-25T15:46:11.404Z"
   },
   {
    "duration": 18,
    "start_time": "2025-05-25T15:46:11.460Z"
   },
   {
    "duration": 479,
    "start_time": "2025-05-25T15:46:11.480Z"
   },
   {
    "duration": 16,
    "start_time": "2025-05-25T15:46:11.961Z"
   },
   {
    "duration": 1758,
    "start_time": "2025-05-25T15:46:11.978Z"
   },
   {
    "duration": 13,
    "start_time": "2025-05-25T15:46:13.738Z"
   },
   {
    "duration": 18,
    "start_time": "2025-05-25T15:46:13.752Z"
   },
   {
    "duration": 127,
    "start_time": "2025-05-25T15:46:13.772Z"
   },
   {
    "duration": 12,
    "start_time": "2025-05-25T15:46:13.902Z"
   },
   {
    "duration": 25,
    "start_time": "2025-05-25T15:46:13.915Z"
   },
   {
    "duration": 8,
    "start_time": "2025-05-25T15:46:13.941Z"
   },
   {
    "duration": 4,
    "start_time": "2025-05-25T15:46:13.951Z"
   },
   {
    "duration": 93,
    "start_time": "2025-05-25T15:46:13.956Z"
   },
   {
    "duration": 9,
    "start_time": "2025-05-25T15:46:14.051Z"
   },
   {
    "duration": 8,
    "start_time": "2025-05-25T15:46:14.061Z"
   },
   {
    "duration": 2,
    "start_time": "2025-05-25T15:46:14.071Z"
   },
   {
    "duration": 118,
    "start_time": "2025-05-25T15:46:14.075Z"
   },
   {
    "duration": 58,
    "start_time": "2025-05-25T15:46:14.195Z"
   },
   {
    "duration": 21,
    "start_time": "2025-05-25T15:46:14.255Z"
   },
   {
    "duration": 15,
    "start_time": "2025-05-25T15:46:14.277Z"
   },
   {
    "duration": 30,
    "start_time": "2025-05-25T15:46:14.293Z"
   },
   {
    "duration": 42,
    "start_time": "2025-05-25T15:46:14.325Z"
   },
   {
    "duration": 69,
    "start_time": "2025-05-25T15:46:14.369Z"
   },
   {
    "duration": 7,
    "start_time": "2025-05-25T15:46:14.440Z"
   },
   {
    "duration": 57,
    "start_time": "2025-05-25T15:46:14.449Z"
   },
   {
    "duration": 3,
    "start_time": "2025-05-25T15:59:39.895Z"
   },
   {
    "duration": 20,
    "start_time": "2025-05-25T15:59:39.900Z"
   },
   {
    "duration": 439,
    "start_time": "2025-05-25T15:59:39.922Z"
   },
   {
    "duration": 46,
    "start_time": "2025-05-25T15:59:40.364Z"
   },
   {
    "duration": 20,
    "start_time": "2025-05-25T15:59:40.412Z"
   },
   {
    "duration": 11,
    "start_time": "2025-05-25T15:59:40.434Z"
   },
   {
    "duration": 48,
    "start_time": "2025-05-25T15:59:40.447Z"
   },
   {
    "duration": 23,
    "start_time": "2025-05-25T15:59:40.497Z"
   },
   {
    "duration": 30,
    "start_time": "2025-05-25T15:59:40.521Z"
   },
   {
    "duration": 26,
    "start_time": "2025-05-25T15:59:40.554Z"
   },
   {
    "duration": 28,
    "start_time": "2025-05-25T15:59:40.582Z"
   },
   {
    "duration": 31,
    "start_time": "2025-05-25T15:59:40.611Z"
   },
   {
    "duration": 260,
    "start_time": "2025-05-25T15:59:40.644Z"
   },
   {
    "duration": 111,
    "start_time": "2025-05-25T15:59:40.906Z"
   },
   {
    "duration": 9,
    "start_time": "2025-05-25T15:59:41.019Z"
   },
   {
    "duration": 21,
    "start_time": "2025-05-25T15:59:41.037Z"
   },
   {
    "duration": 24,
    "start_time": "2025-05-25T15:59:41.060Z"
   },
   {
    "duration": 544,
    "start_time": "2025-05-25T15:59:41.086Z"
   },
   {
    "duration": 16,
    "start_time": "2025-05-25T15:59:41.631Z"
   },
   {
    "duration": 1680,
    "start_time": "2025-05-25T15:59:41.648Z"
   },
   {
    "duration": 18,
    "start_time": "2025-05-25T15:59:43.329Z"
   },
   {
    "duration": 35,
    "start_time": "2025-05-25T15:59:43.349Z"
   },
   {
    "duration": 111,
    "start_time": "2025-05-25T15:59:43.386Z"
   },
   {
    "duration": 12,
    "start_time": "2025-05-25T15:59:43.499Z"
   },
   {
    "duration": 29,
    "start_time": "2025-05-25T15:59:43.513Z"
   },
   {
    "duration": 9,
    "start_time": "2025-05-25T15:59:43.543Z"
   },
   {
    "duration": 8,
    "start_time": "2025-05-25T15:59:43.553Z"
   },
   {
    "duration": 105,
    "start_time": "2025-05-25T15:59:43.564Z"
   },
   {
    "duration": 10,
    "start_time": "2025-05-25T15:59:43.670Z"
   },
   {
    "duration": 9,
    "start_time": "2025-05-25T15:59:43.682Z"
   },
   {
    "duration": 3,
    "start_time": "2025-05-25T15:59:43.693Z"
   },
   {
    "duration": 122,
    "start_time": "2025-05-25T15:59:43.697Z"
   },
   {
    "duration": 61,
    "start_time": "2025-05-25T15:59:43.821Z"
   },
   {
    "duration": 23,
    "start_time": "2025-05-25T15:59:43.884Z"
   },
   {
    "duration": 5,
    "start_time": "2025-05-25T15:59:43.909Z"
   },
   {
    "duration": 37,
    "start_time": "2025-05-25T15:59:43.915Z"
   },
   {
    "duration": 41,
    "start_time": "2025-05-25T15:59:43.953Z"
   },
   {
    "duration": 68,
    "start_time": "2025-05-25T15:59:43.996Z"
   },
   {
    "duration": 5,
    "start_time": "2025-05-25T15:59:44.065Z"
   },
   {
    "duration": 73,
    "start_time": "2025-05-25T15:59:44.072Z"
   },
   {
    "duration": 50,
    "start_time": "2025-05-26T16:28:26.224Z"
   },
   {
    "duration": 7,
    "start_time": "2025-05-26T16:28:40.761Z"
   },
   {
    "duration": 3,
    "start_time": "2025-05-26T16:44:05.732Z"
   },
   {
    "duration": 14,
    "start_time": "2025-05-26T16:44:05.736Z"
   },
   {
    "duration": 416,
    "start_time": "2025-05-26T16:44:05.752Z"
   },
   {
    "duration": 322,
    "start_time": "2025-05-26T16:44:06.170Z"
   },
   {
    "duration": 19,
    "start_time": "2025-05-26T16:44:06.494Z"
   },
   {
    "duration": 11,
    "start_time": "2025-05-26T16:44:06.515Z"
   },
   {
    "duration": 14,
    "start_time": "2025-05-26T16:44:06.527Z"
   },
   {
    "duration": 12,
    "start_time": "2025-05-26T16:44:06.542Z"
   },
   {
    "duration": 5,
    "start_time": "2025-05-26T16:44:06.556Z"
   },
   {
    "duration": 58,
    "start_time": "2025-05-26T16:44:06.562Z"
   },
   {
    "duration": 11,
    "start_time": "2025-05-26T16:44:06.623Z"
   },
   {
    "duration": 5,
    "start_time": "2025-05-26T16:44:06.635Z"
   },
   {
    "duration": 395,
    "start_time": "2025-05-26T16:44:06.642Z"
   },
   {
    "duration": 107,
    "start_time": "2025-05-26T16:44:07.039Z"
   },
   {
    "duration": 14,
    "start_time": "2025-05-26T16:44:07.147Z"
   },
   {
    "duration": 17,
    "start_time": "2025-05-26T16:44:07.163Z"
   },
   {
    "duration": 16,
    "start_time": "2025-05-26T16:44:07.182Z"
   },
   {
    "duration": 524,
    "start_time": "2025-05-26T16:44:07.199Z"
   },
   {
    "duration": 15,
    "start_time": "2025-05-26T16:44:07.725Z"
   },
   {
    "duration": 1552,
    "start_time": "2025-05-26T16:44:07.741Z"
   },
   {
    "duration": 12,
    "start_time": "2025-05-26T16:44:09.294Z"
   },
   {
    "duration": 9,
    "start_time": "2025-05-26T16:44:09.308Z"
   },
   {
    "duration": 127,
    "start_time": "2025-05-26T16:44:09.319Z"
   },
   {
    "duration": 19,
    "start_time": "2025-05-26T16:44:09.447Z"
   },
   {
    "duration": 13,
    "start_time": "2025-05-26T16:44:09.467Z"
   },
   {
    "duration": 7,
    "start_time": "2025-05-26T16:44:09.482Z"
   },
   {
    "duration": 4,
    "start_time": "2025-05-26T16:44:09.491Z"
   },
   {
    "duration": 103,
    "start_time": "2025-05-26T16:44:09.497Z"
   },
   {
    "duration": 9,
    "start_time": "2025-05-26T16:44:09.603Z"
   },
   {
    "duration": 9,
    "start_time": "2025-05-26T16:44:09.613Z"
   },
   {
    "duration": 3,
    "start_time": "2025-05-26T16:44:09.623Z"
   },
   {
    "duration": 114,
    "start_time": "2025-05-26T16:44:09.628Z"
   },
   {
    "duration": 58,
    "start_time": "2025-05-26T16:44:09.743Z"
   },
   {
    "duration": 22,
    "start_time": "2025-05-26T16:44:09.803Z"
   },
   {
    "duration": 3,
    "start_time": "2025-05-26T16:44:09.827Z"
   },
   {
    "duration": 42,
    "start_time": "2025-05-26T16:44:09.832Z"
   },
   {
    "duration": 45,
    "start_time": "2025-05-26T16:44:09.875Z"
   },
   {
    "duration": 60,
    "start_time": "2025-05-26T16:44:09.922Z"
   },
   {
    "duration": 4,
    "start_time": "2025-05-26T16:44:09.984Z"
   },
   {
    "duration": 113,
    "start_time": "2025-05-26T16:44:09.989Z"
   },
   {
    "duration": 4,
    "start_time": "2025-05-26T17:12:24.432Z"
   },
   {
    "duration": 4,
    "start_time": "2025-05-26T17:12:28.449Z"
   },
   {
    "duration": 115,
    "start_time": "2025-05-26T17:16:31.142Z"
   },
   {
    "duration": 9,
    "start_time": "2025-05-26T17:16:40.960Z"
   },
   {
    "duration": 6,
    "start_time": "2025-05-26T17:16:59.297Z"
   },
   {
    "duration": 7,
    "start_time": "2025-05-26T17:18:07.424Z"
   },
   {
    "duration": 387,
    "start_time": "2025-05-26T17:18:17.493Z"
   },
   {
    "duration": 46,
    "start_time": "2025-05-26T17:18:17.882Z"
   },
   {
    "duration": 38,
    "start_time": "2025-05-26T17:18:17.929Z"
   },
   {
    "duration": 17,
    "start_time": "2025-05-26T17:18:17.971Z"
   },
   {
    "duration": 13,
    "start_time": "2025-05-26T17:18:17.990Z"
   },
   {
    "duration": 6,
    "start_time": "2025-05-26T17:18:18.005Z"
   },
   {
    "duration": 9,
    "start_time": "2025-05-26T17:18:18.013Z"
   },
   {
    "duration": 35,
    "start_time": "2025-05-26T17:18:18.024Z"
   },
   {
    "duration": 6,
    "start_time": "2025-05-26T17:18:18.060Z"
   },
   {
    "duration": 101,
    "start_time": "2025-05-26T17:18:18.070Z"
   },
   {
    "duration": 19,
    "start_time": "2025-05-26T17:18:18.173Z"
   },
   {
    "duration": 226,
    "start_time": "2025-05-26T17:18:18.194Z"
   },
   {
    "duration": 105,
    "start_time": "2025-05-26T17:18:18.421Z"
   },
   {
    "duration": 9,
    "start_time": "2025-05-26T17:18:18.528Z"
   },
   {
    "duration": 33,
    "start_time": "2025-05-26T17:18:18.538Z"
   },
   {
    "duration": 15,
    "start_time": "2025-05-26T17:18:18.572Z"
   },
   {
    "duration": 501,
    "start_time": "2025-05-26T17:18:18.588Z"
   },
   {
    "duration": 14,
    "start_time": "2025-05-26T17:18:19.091Z"
   },
   {
    "duration": 2784,
    "start_time": "2025-05-26T17:18:19.107Z"
   },
   {
    "duration": 12,
    "start_time": "2025-05-26T17:18:21.893Z"
   },
   {
    "duration": 51,
    "start_time": "2025-05-26T17:18:21.907Z"
   },
   {
    "duration": 113,
    "start_time": "2025-05-26T17:18:21.960Z"
   },
   {
    "duration": 18,
    "start_time": "2025-05-26T17:18:22.076Z"
   },
   {
    "duration": 92,
    "start_time": "2025-05-26T17:18:22.096Z"
   },
   {
    "duration": 9,
    "start_time": "2025-05-26T17:18:22.190Z"
   },
   {
    "duration": 6,
    "start_time": "2025-05-26T17:18:22.200Z"
   },
   {
    "duration": 80,
    "start_time": "2025-05-26T17:18:22.207Z"
   },
   {
    "duration": 9,
    "start_time": "2025-05-26T17:18:22.291Z"
   },
   {
    "duration": 8,
    "start_time": "2025-05-26T17:18:22.301Z"
   },
   {
    "duration": 3,
    "start_time": "2025-05-26T17:18:22.310Z"
   },
   {
    "duration": 132,
    "start_time": "2025-05-26T17:18:22.314Z"
   },
   {
    "duration": 51,
    "start_time": "2025-05-26T17:18:22.448Z"
   },
   {
    "duration": 20,
    "start_time": "2025-05-26T17:18:22.501Z"
   },
   {
    "duration": 5,
    "start_time": "2025-05-26T17:18:22.523Z"
   },
   {
    "duration": 19,
    "start_time": "2025-05-26T17:18:22.558Z"
   },
   {
    "duration": 38,
    "start_time": "2025-05-26T17:18:22.579Z"
   },
   {
    "duration": 67,
    "start_time": "2025-05-26T17:18:22.619Z"
   },
   {
    "duration": 6,
    "start_time": "2025-05-26T17:18:22.687Z"
   },
   {
    "duration": 76,
    "start_time": "2025-05-26T17:18:22.695Z"
   },
   {
    "duration": 421,
    "start_time": "2025-05-26T17:22:40.926Z"
   },
   {
    "duration": 77,
    "start_time": "2025-05-26T17:22:41.349Z"
   },
   {
    "duration": 19,
    "start_time": "2025-05-26T17:22:41.427Z"
   },
   {
    "duration": 13,
    "start_time": "2025-05-26T17:22:41.448Z"
   },
   {
    "duration": 13,
    "start_time": "2025-05-26T17:22:41.462Z"
   },
   {
    "duration": 7,
    "start_time": "2025-05-26T17:22:41.477Z"
   },
   {
    "duration": 5,
    "start_time": "2025-05-26T17:22:41.486Z"
   },
   {
    "duration": 11,
    "start_time": "2025-05-26T17:22:41.493Z"
   },
   {
    "duration": 1021,
    "start_time": "2025-05-26T17:22:41.506Z"
   },
   {
    "duration": 0,
    "start_time": "2025-05-26T17:22:42.530Z"
   },
   {
    "duration": 0,
    "start_time": "2025-05-26T17:22:42.531Z"
   },
   {
    "duration": 0,
    "start_time": "2025-05-26T17:22:42.533Z"
   },
   {
    "duration": 0,
    "start_time": "2025-05-26T17:22:42.534Z"
   },
   {
    "duration": 0,
    "start_time": "2025-05-26T17:22:42.536Z"
   },
   {
    "duration": 0,
    "start_time": "2025-05-26T17:22:42.537Z"
   },
   {
    "duration": 0,
    "start_time": "2025-05-26T17:22:42.558Z"
   },
   {
    "duration": 0,
    "start_time": "2025-05-26T17:22:42.560Z"
   },
   {
    "duration": 0,
    "start_time": "2025-05-26T17:22:42.562Z"
   },
   {
    "duration": 0,
    "start_time": "2025-05-26T17:22:42.563Z"
   },
   {
    "duration": 0,
    "start_time": "2025-05-26T17:22:42.564Z"
   },
   {
    "duration": 0,
    "start_time": "2025-05-26T17:22:42.566Z"
   },
   {
    "duration": 0,
    "start_time": "2025-05-26T17:22:42.567Z"
   },
   {
    "duration": 0,
    "start_time": "2025-05-26T17:22:42.568Z"
   },
   {
    "duration": 0,
    "start_time": "2025-05-26T17:22:42.570Z"
   },
   {
    "duration": 0,
    "start_time": "2025-05-26T17:22:42.571Z"
   },
   {
    "duration": 0,
    "start_time": "2025-05-26T17:22:42.573Z"
   },
   {
    "duration": 0,
    "start_time": "2025-05-26T17:22:42.574Z"
   },
   {
    "duration": 0,
    "start_time": "2025-05-26T17:22:42.575Z"
   },
   {
    "duration": 0,
    "start_time": "2025-05-26T17:22:42.577Z"
   },
   {
    "duration": 0,
    "start_time": "2025-05-26T17:22:42.578Z"
   },
   {
    "duration": 0,
    "start_time": "2025-05-26T17:22:42.580Z"
   },
   {
    "duration": 0,
    "start_time": "2025-05-26T17:22:42.581Z"
   },
   {
    "duration": 0,
    "start_time": "2025-05-26T17:22:42.582Z"
   },
   {
    "duration": 0,
    "start_time": "2025-05-26T17:22:42.584Z"
   },
   {
    "duration": 0,
    "start_time": "2025-05-26T17:22:42.585Z"
   },
   {
    "duration": 0,
    "start_time": "2025-05-26T17:22:42.587Z"
   },
   {
    "duration": 0,
    "start_time": "2025-05-26T17:22:42.588Z"
   },
   {
    "duration": 0,
    "start_time": "2025-05-26T17:22:42.590Z"
   },
   {
    "duration": 0,
    "start_time": "2025-05-26T17:22:42.591Z"
   },
   {
    "duration": 420,
    "start_time": "2025-05-26T17:26:39.226Z"
   },
   {
    "duration": 56,
    "start_time": "2025-05-26T17:26:39.647Z"
   },
   {
    "duration": 17,
    "start_time": "2025-05-26T17:26:39.705Z"
   },
   {
    "duration": 11,
    "start_time": "2025-05-26T17:26:39.724Z"
   },
   {
    "duration": 13,
    "start_time": "2025-05-26T17:26:39.736Z"
   },
   {
    "duration": 7,
    "start_time": "2025-05-26T17:26:39.751Z"
   },
   {
    "duration": 12,
    "start_time": "2025-05-26T17:26:39.759Z"
   },
   {
    "duration": 11,
    "start_time": "2025-05-26T17:26:39.772Z"
   },
   {
    "duration": 5,
    "start_time": "2025-05-26T17:26:39.785Z"
   },
   {
    "duration": 7,
    "start_time": "2025-05-26T17:26:39.794Z"
   },
   {
    "duration": 3,
    "start_time": "2025-05-26T17:26:39.803Z"
   },
   {
    "duration": 258,
    "start_time": "2025-05-26T17:26:39.808Z"
   },
   {
    "duration": 95,
    "start_time": "2025-05-26T17:26:40.068Z"
   },
   {
    "duration": 10,
    "start_time": "2025-05-26T17:26:40.165Z"
   },
   {
    "duration": 29,
    "start_time": "2025-05-26T17:26:40.177Z"
   },
   {
    "duration": 16,
    "start_time": "2025-05-26T17:26:40.208Z"
   },
   {
    "duration": 506,
    "start_time": "2025-05-26T17:26:40.225Z"
   },
   {
    "duration": 26,
    "start_time": "2025-05-26T17:26:40.733Z"
   },
   {
    "duration": 2252,
    "start_time": "2025-05-26T17:26:40.761Z"
   },
   {
    "duration": 13,
    "start_time": "2025-05-26T17:26:43.014Z"
   },
   {
    "duration": 13,
    "start_time": "2025-05-26T17:26:43.028Z"
   },
   {
    "duration": 127,
    "start_time": "2025-05-26T17:26:43.042Z"
   },
   {
    "duration": 11,
    "start_time": "2025-05-26T17:26:43.171Z"
   },
   {
    "duration": 19,
    "start_time": "2025-05-26T17:26:43.184Z"
   },
   {
    "duration": 7,
    "start_time": "2025-05-26T17:26:43.204Z"
   },
   {
    "duration": 65,
    "start_time": "2025-05-26T17:26:43.212Z"
   },
   {
    "duration": 79,
    "start_time": "2025-05-26T17:26:43.279Z"
   },
   {
    "duration": 10,
    "start_time": "2025-05-26T17:26:43.361Z"
   },
   {
    "duration": 12,
    "start_time": "2025-05-26T17:26:43.372Z"
   },
   {
    "duration": 3,
    "start_time": "2025-05-26T17:26:43.385Z"
   },
   {
    "duration": 98,
    "start_time": "2025-05-26T17:26:43.390Z"
   },
   {
    "duration": 48,
    "start_time": "2025-05-26T17:26:43.489Z"
   },
   {
    "duration": 37,
    "start_time": "2025-05-26T17:26:43.539Z"
   },
   {
    "duration": 4,
    "start_time": "2025-05-26T17:26:43.577Z"
   },
   {
    "duration": 20,
    "start_time": "2025-05-26T17:26:43.582Z"
   },
   {
    "duration": 57,
    "start_time": "2025-05-26T17:26:43.603Z"
   },
   {
    "duration": 41,
    "start_time": "2025-05-26T17:26:43.661Z"
   },
   {
    "duration": 4,
    "start_time": "2025-05-26T17:26:43.704Z"
   },
   {
    "duration": 71,
    "start_time": "2025-05-26T17:26:43.709Z"
   },
   {
    "duration": 400,
    "start_time": "2025-05-26T17:30:11.821Z"
   },
   {
    "duration": 48,
    "start_time": "2025-05-26T17:30:12.223Z"
   },
   {
    "duration": 18,
    "start_time": "2025-05-26T17:30:12.272Z"
   },
   {
    "duration": 11,
    "start_time": "2025-05-26T17:30:12.291Z"
   },
   {
    "duration": 13,
    "start_time": "2025-05-26T17:30:12.304Z"
   },
   {
    "duration": 8,
    "start_time": "2025-05-26T17:30:12.318Z"
   },
   {
    "duration": 33,
    "start_time": "2025-05-26T17:30:12.328Z"
   },
   {
    "duration": 13,
    "start_time": "2025-05-26T17:30:12.363Z"
   },
   {
    "duration": 6,
    "start_time": "2025-05-26T17:30:12.378Z"
   },
   {
    "duration": 7,
    "start_time": "2025-05-26T17:30:12.389Z"
   },
   {
    "duration": 5,
    "start_time": "2025-05-26T17:30:12.397Z"
   },
   {
    "duration": 269,
    "start_time": "2025-05-26T17:30:12.404Z"
   },
   {
    "duration": 100,
    "start_time": "2025-05-26T17:30:12.674Z"
   },
   {
    "duration": 9,
    "start_time": "2025-05-26T17:30:12.775Z"
   },
   {
    "duration": 22,
    "start_time": "2025-05-26T17:30:12.786Z"
   },
   {
    "duration": 15,
    "start_time": "2025-05-26T17:30:12.810Z"
   },
   {
    "duration": 510,
    "start_time": "2025-05-26T17:30:12.827Z"
   },
   {
    "duration": 14,
    "start_time": "2025-05-26T17:30:13.339Z"
   },
   {
    "duration": 2094,
    "start_time": "2025-05-26T17:30:13.357Z"
   },
   {
    "duration": 11,
    "start_time": "2025-05-26T17:30:15.453Z"
   },
   {
    "duration": 29,
    "start_time": "2025-05-26T17:30:15.466Z"
   },
   {
    "duration": 116,
    "start_time": "2025-05-26T17:30:15.496Z"
   },
   {
    "duration": 11,
    "start_time": "2025-05-26T17:30:15.614Z"
   },
   {
    "duration": 12,
    "start_time": "2025-05-26T17:30:15.627Z"
   },
   {
    "duration": 23,
    "start_time": "2025-05-26T17:30:15.640Z"
   },
   {
    "duration": 4,
    "start_time": "2025-05-26T17:30:15.665Z"
   },
   {
    "duration": 90,
    "start_time": "2025-05-26T17:30:15.671Z"
   },
   {
    "duration": 10,
    "start_time": "2025-05-26T17:30:15.764Z"
   },
   {
    "duration": 22,
    "start_time": "2025-05-26T17:30:15.775Z"
   },
   {
    "duration": 2,
    "start_time": "2025-05-26T17:30:15.799Z"
   },
   {
    "duration": 104,
    "start_time": "2025-05-26T17:30:15.804Z"
   },
   {
    "duration": 96,
    "start_time": "2025-05-26T17:30:15.910Z"
   },
   {
    "duration": 22,
    "start_time": "2025-05-26T17:30:16.008Z"
   },
   {
    "duration": 5,
    "start_time": "2025-05-26T17:30:16.032Z"
   },
   {
    "duration": 19,
    "start_time": "2025-05-26T17:30:16.057Z"
   },
   {
    "duration": 38,
    "start_time": "2025-05-26T17:30:16.078Z"
   },
   {
    "duration": 62,
    "start_time": "2025-05-26T17:30:16.118Z"
   },
   {
    "duration": 54,
    "start_time": "2025-05-26T17:30:16.182Z"
   },
   {
    "duration": 55,
    "start_time": "2025-05-26T17:30:16.238Z"
   },
   {
    "duration": 4,
    "start_time": "2025-05-26T17:31:02.671Z"
   },
   {
    "duration": 97,
    "start_time": "2025-05-26T17:32:29.735Z"
   },
   {
    "duration": 658,
    "start_time": "2025-05-26T17:35:34.124Z"
   },
   {
    "duration": 47,
    "start_time": "2025-05-26T17:35:34.783Z"
   },
   {
    "duration": 15,
    "start_time": "2025-05-26T17:35:34.832Z"
   },
   {
    "duration": 13,
    "start_time": "2025-05-26T17:35:34.849Z"
   },
   {
    "duration": 14,
    "start_time": "2025-05-26T17:35:34.863Z"
   },
   {
    "duration": 7,
    "start_time": "2025-05-26T17:35:34.878Z"
   },
   {
    "duration": 8,
    "start_time": "2025-05-26T17:35:34.886Z"
   },
   {
    "duration": 45,
    "start_time": "2025-05-26T17:35:34.896Z"
   },
   {
    "duration": 5,
    "start_time": "2025-05-26T17:35:34.943Z"
   },
   {
    "duration": 11,
    "start_time": "2025-05-26T17:35:34.950Z"
   },
   {
    "duration": 37,
    "start_time": "2025-05-26T17:35:34.962Z"
   },
   {
    "duration": 153,
    "start_time": "2025-05-26T17:35:35.001Z"
   },
   {
    "duration": 12,
    "start_time": "2025-05-26T17:35:35.157Z"
   },
   {
    "duration": 35,
    "start_time": "2025-05-26T17:35:35.172Z"
   },
   {
    "duration": 20,
    "start_time": "2025-05-26T17:35:35.209Z"
   },
   {
    "duration": 507,
    "start_time": "2025-05-26T17:35:35.231Z"
   },
   {
    "duration": 19,
    "start_time": "2025-05-26T17:35:35.740Z"
   },
   {
    "duration": 1527,
    "start_time": "2025-05-26T17:35:35.760Z"
   },
   {
    "duration": 13,
    "start_time": "2025-05-26T17:35:37.289Z"
   },
   {
    "duration": 29,
    "start_time": "2025-05-26T17:35:37.303Z"
   },
   {
    "duration": 115,
    "start_time": "2025-05-26T17:35:37.333Z"
   },
   {
    "duration": 15,
    "start_time": "2025-05-26T17:35:37.450Z"
   },
   {
    "duration": 11,
    "start_time": "2025-05-26T17:35:37.467Z"
   },
   {
    "duration": 7,
    "start_time": "2025-05-26T17:35:37.480Z"
   },
   {
    "duration": 10,
    "start_time": "2025-05-26T17:35:37.488Z"
   },
   {
    "duration": 100,
    "start_time": "2025-05-26T17:35:37.499Z"
   },
   {
    "duration": 9,
    "start_time": "2025-05-26T17:35:37.601Z"
   },
   {
    "duration": 8,
    "start_time": "2025-05-26T17:35:37.613Z"
   },
   {
    "duration": 2,
    "start_time": "2025-05-26T17:35:37.623Z"
   },
   {
    "duration": 111,
    "start_time": "2025-05-26T17:35:37.627Z"
   },
   {
    "duration": 61,
    "start_time": "2025-05-26T17:35:37.739Z"
   },
   {
    "duration": 23,
    "start_time": "2025-05-26T17:35:37.801Z"
   },
   {
    "duration": 3,
    "start_time": "2025-05-26T17:35:37.826Z"
   },
   {
    "duration": 35,
    "start_time": "2025-05-26T17:35:37.831Z"
   },
   {
    "duration": 39,
    "start_time": "2025-05-26T17:35:37.867Z"
   },
   {
    "duration": 63,
    "start_time": "2025-05-26T17:35:37.908Z"
   },
   {
    "duration": 18,
    "start_time": "2025-05-26T17:35:37.973Z"
   },
   {
    "duration": 53,
    "start_time": "2025-05-26T17:35:37.993Z"
   },
   {
    "duration": 11,
    "start_time": "2025-05-26T19:03:09.914Z"
   },
   {
    "duration": 9,
    "start_time": "2025-05-26T19:03:18.883Z"
   },
   {
    "duration": 607,
    "start_time": "2025-05-26T19:03:39.588Z"
   },
   {
    "duration": 69,
    "start_time": "2025-05-26T19:03:40.197Z"
   },
   {
    "duration": 15,
    "start_time": "2025-05-26T19:03:40.267Z"
   },
   {
    "duration": 83,
    "start_time": "2025-05-26T19:03:40.284Z"
   },
   {
    "duration": 35,
    "start_time": "2025-05-26T19:03:40.368Z"
   },
   {
    "duration": 6,
    "start_time": "2025-05-26T19:03:40.404Z"
   },
   {
    "duration": 7,
    "start_time": "2025-05-26T19:03:40.412Z"
   },
   {
    "duration": 11,
    "start_time": "2025-05-26T19:03:40.421Z"
   },
   {
    "duration": 5,
    "start_time": "2025-05-26T19:03:40.433Z"
   },
   {
    "duration": 18,
    "start_time": "2025-05-26T19:03:40.440Z"
   },
   {
    "duration": 4,
    "start_time": "2025-05-26T19:03:40.460Z"
   },
   {
    "duration": 103,
    "start_time": "2025-05-26T19:03:40.465Z"
   },
   {
    "duration": 16,
    "start_time": "2025-05-26T19:03:40.569Z"
   },
   {
    "duration": 21,
    "start_time": "2025-05-26T19:03:40.587Z"
   },
   {
    "duration": 15,
    "start_time": "2025-05-26T19:03:40.610Z"
   },
   {
    "duration": 522,
    "start_time": "2025-05-26T19:03:40.626Z"
   },
   {
    "duration": 19,
    "start_time": "2025-05-26T19:03:41.150Z"
   },
   {
    "duration": 2188,
    "start_time": "2025-05-26T19:03:41.171Z"
   },
   {
    "duration": 12,
    "start_time": "2025-05-26T19:03:43.361Z"
   },
   {
    "duration": 13,
    "start_time": "2025-05-26T19:03:43.375Z"
   },
   {
    "duration": 130,
    "start_time": "2025-05-26T19:03:43.389Z"
   },
   {
    "duration": 12,
    "start_time": "2025-05-26T19:03:43.521Z"
   },
   {
    "duration": 64,
    "start_time": "2025-05-26T19:03:43.534Z"
   },
   {
    "duration": 9,
    "start_time": "2025-05-26T19:03:43.600Z"
   },
   {
    "duration": 4,
    "start_time": "2025-05-26T19:03:43.611Z"
   },
   {
    "duration": 91,
    "start_time": "2025-05-26T19:03:43.617Z"
   },
   {
    "duration": 9,
    "start_time": "2025-05-26T19:03:43.709Z"
   },
   {
    "duration": 10,
    "start_time": "2025-05-26T19:03:43.721Z"
   },
   {
    "duration": 27,
    "start_time": "2025-05-26T19:03:43.732Z"
   },
   {
    "duration": 99,
    "start_time": "2025-05-26T19:03:43.761Z"
   },
   {
    "duration": 50,
    "start_time": "2025-05-26T19:03:43.862Z"
   },
   {
    "duration": 23,
    "start_time": "2025-05-26T19:03:43.914Z"
   },
   {
    "duration": 21,
    "start_time": "2025-05-26T19:03:43.939Z"
   },
   {
    "duration": 16,
    "start_time": "2025-05-26T19:03:43.962Z"
   },
   {
    "duration": 38,
    "start_time": "2025-05-26T19:03:43.980Z"
   },
   {
    "duration": 67,
    "start_time": "2025-05-26T19:03:44.020Z"
   },
   {
    "duration": 5,
    "start_time": "2025-05-26T19:03:44.088Z"
   },
   {
    "duration": 65,
    "start_time": "2025-05-26T19:03:44.094Z"
   },
   {
    "duration": 1387,
    "start_time": "2025-05-26T19:05:45.465Z"
   },
   {
    "duration": 1307,
    "start_time": "2025-05-26T19:06:24.217Z"
   },
   {
    "duration": 9,
    "start_time": "2025-05-26T19:06:46.275Z"
   },
   {
    "duration": 9,
    "start_time": "2025-05-26T19:09:14.590Z"
   },
   {
    "duration": 10,
    "start_time": "2025-05-26T19:09:31.099Z"
   },
   {
    "duration": 17,
    "start_time": "2025-05-26T19:12:12.270Z"
   },
   {
    "duration": 13,
    "start_time": "2025-05-26T19:12:48.846Z"
   },
   {
    "duration": 633,
    "start_time": "2025-05-26T19:13:25.178Z"
   },
   {
    "duration": 45,
    "start_time": "2025-05-26T19:13:25.813Z"
   },
   {
    "duration": 22,
    "start_time": "2025-05-26T19:13:25.860Z"
   },
   {
    "duration": 11,
    "start_time": "2025-05-26T19:13:25.885Z"
   },
   {
    "duration": 12,
    "start_time": "2025-05-26T19:13:25.898Z"
   },
   {
    "duration": 13,
    "start_time": "2025-05-26T19:13:25.912Z"
   },
   {
    "duration": 32,
    "start_time": "2025-05-26T19:13:25.927Z"
   },
   {
    "duration": 12,
    "start_time": "2025-05-26T19:13:25.960Z"
   },
   {
    "duration": 6,
    "start_time": "2025-05-26T19:13:25.974Z"
   },
   {
    "duration": 9,
    "start_time": "2025-05-26T19:13:25.982Z"
   },
   {
    "duration": 4,
    "start_time": "2025-05-26T19:13:25.993Z"
   },
   {
    "duration": 132,
    "start_time": "2025-05-26T19:13:25.998Z"
   },
   {
    "duration": 9,
    "start_time": "2025-05-26T19:13:26.132Z"
   },
   {
    "duration": 28,
    "start_time": "2025-05-26T19:13:26.142Z"
   },
   {
    "duration": 16,
    "start_time": "2025-05-26T19:13:26.171Z"
   },
   {
    "duration": 498,
    "start_time": "2025-05-26T19:13:26.188Z"
   },
   {
    "duration": 15,
    "start_time": "2025-05-26T19:13:26.687Z"
   },
   {
    "duration": 2178,
    "start_time": "2025-05-26T19:13:26.704Z"
   },
   {
    "duration": 12,
    "start_time": "2025-05-26T19:13:28.884Z"
   },
   {
    "duration": 15,
    "start_time": "2025-05-26T19:13:28.897Z"
   },
   {
    "duration": 196,
    "start_time": "2025-05-26T19:13:28.913Z"
   },
   {
    "duration": 12,
    "start_time": "2025-05-26T19:13:29.111Z"
   },
   {
    "duration": 12,
    "start_time": "2025-05-26T19:13:29.124Z"
   },
   {
    "duration": 30,
    "start_time": "2025-05-26T19:13:29.137Z"
   },
   {
    "duration": 8,
    "start_time": "2025-05-26T19:13:29.168Z"
   },
   {
    "duration": 5,
    "start_time": "2025-05-26T19:13:29.177Z"
   },
   {
    "duration": 165,
    "start_time": "2025-05-26T19:13:29.183Z"
   },
   {
    "duration": 9,
    "start_time": "2025-05-26T19:13:29.352Z"
   },
   {
    "duration": 35,
    "start_time": "2025-05-26T19:13:29.363Z"
   },
   {
    "duration": 3,
    "start_time": "2025-05-26T19:13:29.400Z"
   },
   {
    "duration": 99,
    "start_time": "2025-05-26T19:13:29.405Z"
   },
   {
    "duration": 64,
    "start_time": "2025-05-26T19:13:29.506Z"
   },
   {
    "duration": 21,
    "start_time": "2025-05-26T19:13:29.571Z"
   },
   {
    "duration": 12,
    "start_time": "2025-05-26T19:13:29.594Z"
   },
   {
    "duration": 17,
    "start_time": "2025-05-26T19:13:29.608Z"
   },
   {
    "duration": 55,
    "start_time": "2025-05-26T19:13:29.627Z"
   },
   {
    "duration": 41,
    "start_time": "2025-05-26T19:13:29.684Z"
   },
   {
    "duration": 5,
    "start_time": "2025-05-26T19:13:29.726Z"
   },
   {
    "duration": 71,
    "start_time": "2025-05-26T19:13:29.732Z"
   },
   {
    "duration": 12,
    "start_time": "2025-05-26T19:15:29.512Z"
   },
   {
    "duration": 666,
    "start_time": "2025-05-26T19:16:10.921Z"
   },
   {
    "duration": 125,
    "start_time": "2025-05-26T19:16:11.590Z"
   },
   {
    "duration": 17,
    "start_time": "2025-05-26T19:16:11.717Z"
   },
   {
    "duration": 34,
    "start_time": "2025-05-26T19:16:11.736Z"
   },
   {
    "duration": 13,
    "start_time": "2025-05-26T19:16:11.771Z"
   },
   {
    "duration": 7,
    "start_time": "2025-05-26T19:16:11.786Z"
   },
   {
    "duration": 5,
    "start_time": "2025-05-26T19:16:11.795Z"
   },
   {
    "duration": 11,
    "start_time": "2025-05-26T19:16:11.802Z"
   },
   {
    "duration": 5,
    "start_time": "2025-05-26T19:16:11.814Z"
   },
   {
    "duration": 8,
    "start_time": "2025-05-26T19:16:11.858Z"
   },
   {
    "duration": 4,
    "start_time": "2025-05-26T19:16:11.867Z"
   },
   {
    "duration": 112,
    "start_time": "2025-05-26T19:16:11.873Z"
   },
   {
    "duration": 9,
    "start_time": "2025-05-26T19:16:11.987Z"
   },
   {
    "duration": 23,
    "start_time": "2025-05-26T19:16:11.998Z"
   },
   {
    "duration": 14,
    "start_time": "2025-05-26T19:16:12.023Z"
   },
   {
    "duration": 754,
    "start_time": "2025-05-26T19:16:12.040Z"
   },
   {
    "duration": 67,
    "start_time": "2025-05-26T19:16:12.796Z"
   },
   {
    "duration": 1676,
    "start_time": "2025-05-26T19:16:12.864Z"
   },
   {
    "duration": 20,
    "start_time": "2025-05-26T19:16:14.542Z"
   },
   {
    "duration": 73,
    "start_time": "2025-05-26T19:16:14.563Z"
   },
   {
    "duration": 111,
    "start_time": "2025-05-26T19:16:14.638Z"
   },
   {
    "duration": 11,
    "start_time": "2025-05-26T19:16:14.751Z"
   },
   {
    "duration": 46,
    "start_time": "2025-05-26T19:16:14.764Z"
   },
   {
    "duration": 12,
    "start_time": "2025-05-26T19:16:14.811Z"
   },
   {
    "duration": 8,
    "start_time": "2025-05-26T19:16:14.824Z"
   },
   {
    "duration": 4,
    "start_time": "2025-05-26T19:16:14.834Z"
   },
   {
    "duration": 82,
    "start_time": "2025-05-26T19:16:14.839Z"
   },
   {
    "duration": 10,
    "start_time": "2025-05-26T19:16:14.926Z"
   },
   {
    "duration": 122,
    "start_time": "2025-05-26T19:16:14.938Z"
   },
   {
    "duration": 6,
    "start_time": "2025-05-26T19:16:15.062Z"
   },
   {
    "duration": 120,
    "start_time": "2025-05-26T19:16:15.070Z"
   },
   {
    "duration": 78,
    "start_time": "2025-05-26T19:16:15.193Z"
   },
   {
    "duration": 69,
    "start_time": "2025-05-26T19:16:15.273Z"
   },
   {
    "duration": 4,
    "start_time": "2025-05-26T19:16:15.344Z"
   },
   {
    "duration": 26,
    "start_time": "2025-05-26T19:16:15.350Z"
   },
   {
    "duration": 38,
    "start_time": "2025-05-26T19:16:15.377Z"
   },
   {
    "duration": 56,
    "start_time": "2025-05-26T19:16:15.416Z"
   },
   {
    "duration": 5,
    "start_time": "2025-05-26T19:16:15.473Z"
   },
   {
    "duration": 52,
    "start_time": "2025-05-26T19:16:15.479Z"
   },
   {
    "duration": 12,
    "start_time": "2025-05-26T19:22:27.452Z"
   },
   {
    "duration": 12,
    "start_time": "2025-05-26T19:23:08.406Z"
   },
   {
    "duration": 639,
    "start_time": "2025-05-26T19:23:30.678Z"
   },
   {
    "duration": 77,
    "start_time": "2025-05-26T19:23:31.319Z"
   },
   {
    "duration": 16,
    "start_time": "2025-05-26T19:23:31.397Z"
   },
   {
    "duration": 16,
    "start_time": "2025-05-26T19:23:31.415Z"
   },
   {
    "duration": 35,
    "start_time": "2025-05-26T19:23:31.433Z"
   },
   {
    "duration": 8,
    "start_time": "2025-05-26T19:23:31.469Z"
   },
   {
    "duration": 5,
    "start_time": "2025-05-26T19:23:31.478Z"
   },
   {
    "duration": 12,
    "start_time": "2025-05-26T19:23:31.485Z"
   },
   {
    "duration": 9,
    "start_time": "2025-05-26T19:23:31.499Z"
   },
   {
    "duration": 8,
    "start_time": "2025-05-26T19:23:31.512Z"
   },
   {
    "duration": 39,
    "start_time": "2025-05-26T19:23:31.522Z"
   },
   {
    "duration": 129,
    "start_time": "2025-05-26T19:23:31.564Z"
   },
   {
    "duration": 10,
    "start_time": "2025-05-26T19:23:31.694Z"
   },
   {
    "duration": 26,
    "start_time": "2025-05-26T19:23:31.706Z"
   },
   {
    "duration": 32,
    "start_time": "2025-05-26T19:23:31.734Z"
   },
   {
    "duration": 838,
    "start_time": "2025-05-26T19:23:31.768Z"
   },
   {
    "duration": 16,
    "start_time": "2025-05-26T19:23:32.659Z"
   },
   {
    "duration": 1737,
    "start_time": "2025-05-26T19:23:32.676Z"
   },
   {
    "duration": 13,
    "start_time": "2025-05-26T19:23:34.415Z"
   },
   {
    "duration": 45,
    "start_time": "2025-05-26T19:23:34.430Z"
   },
   {
    "duration": 116,
    "start_time": "2025-05-26T19:23:34.477Z"
   },
   {
    "duration": 12,
    "start_time": "2025-05-26T19:23:34.595Z"
   },
   {
    "duration": 77,
    "start_time": "2025-05-26T19:23:34.609Z"
   },
   {
    "duration": 12,
    "start_time": "2025-05-26T19:23:34.688Z"
   },
   {
    "duration": 12,
    "start_time": "2025-05-26T19:23:34.702Z"
   },
   {
    "duration": 19,
    "start_time": "2025-05-26T19:23:34.715Z"
   },
   {
    "duration": 13,
    "start_time": "2025-05-26T19:23:34.736Z"
   },
   {
    "duration": 76,
    "start_time": "2025-05-26T19:23:34.754Z"
   },
   {
    "duration": 10,
    "start_time": "2025-05-26T19:23:34.832Z"
   },
   {
    "duration": 31,
    "start_time": "2025-05-26T19:23:34.843Z"
   },
   {
    "duration": 3,
    "start_time": "2025-05-26T19:23:34.876Z"
   },
   {
    "duration": 94,
    "start_time": "2025-05-26T19:23:34.880Z"
   },
   {
    "duration": 96,
    "start_time": "2025-05-26T19:23:34.975Z"
   },
   {
    "duration": 20,
    "start_time": "2025-05-26T19:23:35.073Z"
   },
   {
    "duration": 3,
    "start_time": "2025-05-26T19:23:35.095Z"
   },
   {
    "duration": 48,
    "start_time": "2025-05-26T19:23:35.100Z"
   },
   {
    "duration": 54,
    "start_time": "2025-05-26T19:23:35.150Z"
   },
   {
    "duration": 56,
    "start_time": "2025-05-26T19:23:35.206Z"
   },
   {
    "duration": 5,
    "start_time": "2025-05-26T19:23:35.263Z"
   },
   {
    "duration": 108,
    "start_time": "2025-05-26T19:23:35.269Z"
   },
   {
    "duration": 635,
    "start_time": "2025-05-26T19:31:44.888Z"
   },
   {
    "duration": 45,
    "start_time": "2025-05-26T19:31:45.525Z"
   },
   {
    "duration": 16,
    "start_time": "2025-05-26T19:31:45.572Z"
   },
   {
    "duration": 66,
    "start_time": "2025-05-26T19:31:45.590Z"
   },
   {
    "duration": 16,
    "start_time": "2025-05-26T19:31:45.658Z"
   },
   {
    "duration": 7,
    "start_time": "2025-05-26T19:31:45.676Z"
   },
   {
    "duration": 7,
    "start_time": "2025-05-26T19:31:45.684Z"
   },
   {
    "duration": 19,
    "start_time": "2025-05-26T19:31:45.693Z"
   },
   {
    "duration": 6,
    "start_time": "2025-05-26T19:31:45.714Z"
   },
   {
    "duration": 8,
    "start_time": "2025-05-26T19:31:45.723Z"
   },
   {
    "duration": 30,
    "start_time": "2025-05-26T19:31:45.732Z"
   },
   {
    "duration": 107,
    "start_time": "2025-05-26T19:31:45.764Z"
   },
   {
    "duration": 10,
    "start_time": "2025-05-26T19:31:45.873Z"
   },
   {
    "duration": 16,
    "start_time": "2025-05-26T19:31:45.885Z"
   },
   {
    "duration": 16,
    "start_time": "2025-05-26T19:31:45.902Z"
   },
   {
    "duration": 525,
    "start_time": "2025-05-26T19:31:45.919Z"
   },
   {
    "duration": 20,
    "start_time": "2025-05-26T19:31:46.445Z"
   },
   {
    "duration": 1441,
    "start_time": "2025-05-26T19:31:46.467Z"
   },
   {
    "duration": 12,
    "start_time": "2025-05-26T19:31:47.909Z"
   },
   {
    "duration": 21,
    "start_time": "2025-05-26T19:31:47.923Z"
   },
   {
    "duration": 126,
    "start_time": "2025-05-26T19:31:47.946Z"
   },
   {
    "duration": 13,
    "start_time": "2025-05-26T19:31:48.073Z"
   },
   {
    "duration": 14,
    "start_time": "2025-05-26T19:31:48.087Z"
   },
   {
    "duration": 12,
    "start_time": "2025-05-26T19:31:48.103Z"
   },
   {
    "duration": 12,
    "start_time": "2025-05-26T19:31:48.116Z"
   },
   {
    "duration": 34,
    "start_time": "2025-05-26T19:31:48.129Z"
   },
   {
    "duration": 4,
    "start_time": "2025-05-26T19:31:48.165Z"
   },
   {
    "duration": 92,
    "start_time": "2025-05-26T19:31:48.171Z"
   },
   {
    "duration": 10,
    "start_time": "2025-05-26T19:31:48.264Z"
   },
   {
    "duration": 13,
    "start_time": "2025-05-26T19:31:48.275Z"
   },
   {
    "duration": 2,
    "start_time": "2025-05-26T19:31:48.290Z"
   },
   {
    "duration": 104,
    "start_time": "2025-05-26T19:31:48.294Z"
   },
   {
    "duration": 130,
    "start_time": "2025-05-26T19:31:48.400Z"
   },
   {
    "duration": 22,
    "start_time": "2025-05-26T19:31:48.532Z"
   },
   {
    "duration": 4,
    "start_time": "2025-05-26T19:31:48.555Z"
   },
   {
    "duration": 20,
    "start_time": "2025-05-26T19:31:48.561Z"
   },
   {
    "duration": 34,
    "start_time": "2025-05-26T19:31:48.582Z"
   },
   {
    "duration": 59,
    "start_time": "2025-05-26T19:31:48.618Z"
   },
   {
    "duration": 10,
    "start_time": "2025-05-26T19:31:48.679Z"
   },
   {
    "duration": 52,
    "start_time": "2025-05-26T19:31:48.690Z"
   },
   {
    "duration": 672,
    "start_time": "2025-05-26T19:35:03.250Z"
   },
   {
    "duration": 49,
    "start_time": "2025-05-26T19:35:03.924Z"
   },
   {
    "duration": 15,
    "start_time": "2025-05-26T19:35:03.975Z"
   },
   {
    "duration": 11,
    "start_time": "2025-05-26T19:35:03.992Z"
   },
   {
    "duration": 23,
    "start_time": "2025-05-26T19:35:04.005Z"
   },
   {
    "duration": 9,
    "start_time": "2025-05-26T19:35:04.030Z"
   },
   {
    "duration": 18,
    "start_time": "2025-05-26T19:35:04.041Z"
   },
   {
    "duration": 13,
    "start_time": "2025-05-26T19:35:04.061Z"
   },
   {
    "duration": 6,
    "start_time": "2025-05-26T19:35:04.076Z"
   },
   {
    "duration": 8,
    "start_time": "2025-05-26T19:35:04.084Z"
   },
   {
    "duration": 5,
    "start_time": "2025-05-26T19:35:04.093Z"
   },
   {
    "duration": 134,
    "start_time": "2025-05-26T19:35:04.100Z"
   },
   {
    "duration": 9,
    "start_time": "2025-05-26T19:35:04.235Z"
   },
   {
    "duration": 16,
    "start_time": "2025-05-26T19:35:04.257Z"
   },
   {
    "duration": 15,
    "start_time": "2025-05-26T19:35:04.274Z"
   },
   {
    "duration": 445,
    "start_time": "2025-05-26T19:35:04.290Z"
   },
   {
    "duration": 23,
    "start_time": "2025-05-26T19:35:04.737Z"
   },
   {
    "duration": 1587,
    "start_time": "2025-05-26T19:35:04.762Z"
   },
   {
    "duration": 15,
    "start_time": "2025-05-26T19:35:06.351Z"
   },
   {
    "duration": 9,
    "start_time": "2025-05-26T19:35:06.368Z"
   },
   {
    "duration": 209,
    "start_time": "2025-05-26T19:35:06.378Z"
   },
   {
    "duration": 11,
    "start_time": "2025-05-26T19:35:06.589Z"
   },
   {
    "duration": 12,
    "start_time": "2025-05-26T19:35:06.602Z"
   },
   {
    "duration": 16,
    "start_time": "2025-05-26T19:35:06.615Z"
   },
   {
    "duration": 95,
    "start_time": "2025-05-26T19:35:06.632Z"
   },
   {
    "duration": 9,
    "start_time": "2025-05-26T19:35:06.729Z"
   },
   {
    "duration": 22,
    "start_time": "2025-05-26T19:35:06.740Z"
   },
   {
    "duration": 88,
    "start_time": "2025-05-26T19:35:06.764Z"
   },
   {
    "duration": 10,
    "start_time": "2025-05-26T19:35:06.854Z"
   },
   {
    "duration": 15,
    "start_time": "2025-05-26T19:35:06.866Z"
   },
   {
    "duration": 3,
    "start_time": "2025-05-26T19:35:06.882Z"
   },
   {
    "duration": 104,
    "start_time": "2025-05-26T19:35:06.887Z"
   },
   {
    "duration": 122,
    "start_time": "2025-05-26T19:35:06.993Z"
   },
   {
    "duration": 22,
    "start_time": "2025-05-26T19:35:07.117Z"
   },
   {
    "duration": 5,
    "start_time": "2025-05-26T19:35:07.141Z"
   },
   {
    "duration": 26,
    "start_time": "2025-05-26T19:35:07.147Z"
   },
   {
    "duration": 38,
    "start_time": "2025-05-26T19:35:07.174Z"
   },
   {
    "duration": 62,
    "start_time": "2025-05-26T19:35:07.214Z"
   },
   {
    "duration": 5,
    "start_time": "2025-05-26T19:35:07.278Z"
   },
   {
    "duration": 103,
    "start_time": "2025-05-26T19:35:07.284Z"
   }
  ],
  "colab": {
   "provenance": [],
   "toc_visible": true
  },
  "kernelspec": {
   "display_name": "Python 3 (ipykernel)",
   "language": "python",
   "name": "python3"
  },
  "language_info": {
   "codemirror_mode": {
    "name": "ipython",
    "version": 3
   },
   "file_extension": ".py",
   "mimetype": "text/x-python",
   "name": "python",
   "nbconvert_exporter": "python",
   "pygments_lexer": "ipython3",
   "version": "3.9.7"
  },
  "toc": {
   "base_numbering": 1,
   "nav_menu": {},
   "number_sections": true,
   "sideBar": true,
   "skip_h1_title": true,
   "title_cell": "Table of Contents",
   "title_sidebar": "Contents",
   "toc_cell": false,
   "toc_position": {
    "height": "calc(100% - 180px)",
    "left": "10px",
    "top": "150px",
    "width": "294.389px"
   },
   "toc_section_display": true,
   "toc_window_display": true
  }
 },
 "nbformat": 4,
 "nbformat_minor": 5
}
