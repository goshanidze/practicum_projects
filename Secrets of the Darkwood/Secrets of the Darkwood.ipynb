{
 "cells": [
  {
   "cell_type": "markdown",
   "id": "e06910dd",
   "metadata": {
    "id": "e06910dd"
   },
   "source": [
    "# Анализ и обработка данных о развитии индустрии игр в начале XXI века для команды  \"Секреты Темнолесья\"\n",
    "\n",
    "- Автор: Горлов Георгий\n",
    "- Дата:23.02.2025"
   ]
  },
  {
   "cell_type": "markdown",
   "id": "5c6db5e6",
   "metadata": {
    "id": "4149134c"
   },
   "source": [
    "### Цели и задачи проекта\n",
    "\n",
    "В этой тетрадке проведём анализ и обработку данных из файла `new_games.csv`для команды \"Секреты Темнолесья\". Данные содержат информацию о продажах игр, сделанных в разных жанрах и выпущенных на разных платформах, а также пользовательские и экспертные оценки игр."
   ]
  },
  {
   "cell_type": "markdown",
   "id": "4fecaf95",
   "metadata": {
    "id": "4fecaf95"
   },
   "source": [
    "### Содержимое проекта\n",
    "\n",
    "1. [Загрузка и знакомство с данными](#1)\n",
    "2. [Проверка ошибок в данных и их предобработка](#2)\n",
    "3. [Фильтрация данных](#3)\n",
    "4. [Категоризация данных](#4)\n",
    "\n",
    "---"
   ]
  },
  {
   "cell_type": "markdown",
   "id": "6f7d21d6",
   "metadata": {
    "id": "6f7d21d6"
   },
   "source": [
    "<a id='1'></a>\n",
    "## 1. Загрузка данных и знакомство с ними\n",
    "\n",
    "- Загрузите необходимые библиотеки Python и данные датасета `/datasets/new_games.csv`.  \n"
   ]
  },
  {
   "cell_type": "markdown",
   "id": "e0a8705f",
   "metadata": {
    "id": "e0a8705f"
   },
   "source": [
    "- Познакомьтесь с данными: выведите первые строки и результат метода `info()`.\n"
   ]
  },
  {
   "cell_type": "code",
   "execution_count": 4,
   "id": "48efc052",
   "metadata": {},
   "outputs": [],
   "source": [
    "# Импортируем библиотеку pandas\n",
    "import pandas as pd"
   ]
  },
  {
   "cell_type": "code",
   "execution_count": 5,
   "id": "4c5eaeff",
   "metadata": {},
   "outputs": [],
   "source": [
    "# Импортируем библиотеку numpy\n",
    "import numpy as np"
   ]
  },
  {
   "cell_type": "code",
   "execution_count": 6,
   "id": "d7c8eb4b",
   "metadata": {
    "id": "d7c8eb4b"
   },
   "outputs": [],
   "source": [
    "# Выгружаем данные из датасета hotel_dataset.csv в датафрейм hotels\n",
    "df = pd.read_csv('https://code.s3.yandex.net/datasets/new_games.csv')"
   ]
  },
  {
   "cell_type": "code",
   "execution_count": 7,
   "id": "fc561cac",
   "metadata": {
    "id": "fc561cac"
   },
   "outputs": [
    {
     "name": "stdout",
     "output_type": "stream",
     "text": [
      "<class 'pandas.core.frame.DataFrame'>\n",
      "RangeIndex: 16956 entries, 0 to 16955\n",
      "Data columns (total 11 columns):\n",
      " #   Column           Non-Null Count  Dtype  \n",
      "---  ------           --------------  -----  \n",
      " 0   Name             16954 non-null  object \n",
      " 1   Platform         16956 non-null  object \n",
      " 2   Year of Release  16681 non-null  float64\n",
      " 3   Genre            16954 non-null  object \n",
      " 4   NA sales         16956 non-null  float64\n",
      " 5   EU sales         16956 non-null  object \n",
      " 6   JP sales         16956 non-null  object \n",
      " 7   Other sales      16956 non-null  float64\n",
      " 8   Critic Score     8242 non-null   float64\n",
      " 9   User Score       10152 non-null  object \n",
      " 10  Rating           10085 non-null  object \n",
      "dtypes: float64(4), object(7)\n",
      "memory usage: 1.4+ MB\n"
     ]
    }
   ],
   "source": [
    "# Выводим общую информацию о датасете\n",
    "df.info()"
   ]
  },
  {
   "cell_type": "markdown",
   "id": "105fac06",
   "metadata": {},
   "source": [
    "- Выведем первые 5 и последние 5 строк датасета"
   ]
  },
  {
   "cell_type": "code",
   "execution_count": 8,
   "id": "8ed7d4e2",
   "metadata": {},
   "outputs": [
    {
     "data": {
      "text/html": [
       "<div>\n",
       "<style scoped>\n",
       "    .dataframe tbody tr th:only-of-type {\n",
       "        vertical-align: middle;\n",
       "    }\n",
       "\n",
       "    .dataframe tbody tr th {\n",
       "        vertical-align: top;\n",
       "    }\n",
       "\n",
       "    .dataframe thead th {\n",
       "        text-align: right;\n",
       "    }\n",
       "</style>\n",
       "<table border=\"1\" class=\"dataframe\">\n",
       "  <thead>\n",
       "    <tr style=\"text-align: right;\">\n",
       "      <th></th>\n",
       "      <th>Name</th>\n",
       "      <th>Platform</th>\n",
       "      <th>Year of Release</th>\n",
       "      <th>Genre</th>\n",
       "      <th>NA sales</th>\n",
       "      <th>EU sales</th>\n",
       "      <th>JP sales</th>\n",
       "      <th>Other sales</th>\n",
       "      <th>Critic Score</th>\n",
       "      <th>User Score</th>\n",
       "      <th>Rating</th>\n",
       "    </tr>\n",
       "  </thead>\n",
       "  <tbody>\n",
       "    <tr>\n",
       "      <th>0</th>\n",
       "      <td>Wii Sports</td>\n",
       "      <td>Wii</td>\n",
       "      <td>2006.0</td>\n",
       "      <td>Sports</td>\n",
       "      <td>41.36</td>\n",
       "      <td>28.96</td>\n",
       "      <td>3.77</td>\n",
       "      <td>8.45</td>\n",
       "      <td>76.0</td>\n",
       "      <td>8</td>\n",
       "      <td>E</td>\n",
       "    </tr>\n",
       "    <tr>\n",
       "      <th>1</th>\n",
       "      <td>Super Mario Bros.</td>\n",
       "      <td>NES</td>\n",
       "      <td>1985.0</td>\n",
       "      <td>Platform</td>\n",
       "      <td>29.08</td>\n",
       "      <td>3.58</td>\n",
       "      <td>6.81</td>\n",
       "      <td>0.77</td>\n",
       "      <td>NaN</td>\n",
       "      <td>NaN</td>\n",
       "      <td>NaN</td>\n",
       "    </tr>\n",
       "    <tr>\n",
       "      <th>2</th>\n",
       "      <td>Mario Kart Wii</td>\n",
       "      <td>Wii</td>\n",
       "      <td>2008.0</td>\n",
       "      <td>Racing</td>\n",
       "      <td>15.68</td>\n",
       "      <td>12.76</td>\n",
       "      <td>3.79</td>\n",
       "      <td>3.29</td>\n",
       "      <td>82.0</td>\n",
       "      <td>8.3</td>\n",
       "      <td>E</td>\n",
       "    </tr>\n",
       "    <tr>\n",
       "      <th>3</th>\n",
       "      <td>Wii Sports Resort</td>\n",
       "      <td>Wii</td>\n",
       "      <td>2009.0</td>\n",
       "      <td>Sports</td>\n",
       "      <td>15.61</td>\n",
       "      <td>10.93</td>\n",
       "      <td>3.28</td>\n",
       "      <td>2.95</td>\n",
       "      <td>80.0</td>\n",
       "      <td>8</td>\n",
       "      <td>E</td>\n",
       "    </tr>\n",
       "    <tr>\n",
       "      <th>4</th>\n",
       "      <td>Pokemon Red/Pokemon Blue</td>\n",
       "      <td>GB</td>\n",
       "      <td>1996.0</td>\n",
       "      <td>Role-Playing</td>\n",
       "      <td>11.27</td>\n",
       "      <td>8.89</td>\n",
       "      <td>10.22</td>\n",
       "      <td>1.00</td>\n",
       "      <td>NaN</td>\n",
       "      <td>NaN</td>\n",
       "      <td>NaN</td>\n",
       "    </tr>\n",
       "  </tbody>\n",
       "</table>\n",
       "</div>"
      ],
      "text/plain": [
       "                       Name Platform  Year of Release         Genre  NA sales  \\\n",
       "0                Wii Sports      Wii           2006.0        Sports     41.36   \n",
       "1         Super Mario Bros.      NES           1985.0      Platform     29.08   \n",
       "2            Mario Kart Wii      Wii           2008.0        Racing     15.68   \n",
       "3         Wii Sports Resort      Wii           2009.0        Sports     15.61   \n",
       "4  Pokemon Red/Pokemon Blue       GB           1996.0  Role-Playing     11.27   \n",
       "\n",
       "  EU sales JP sales  Other sales  Critic Score User Score Rating  \n",
       "0    28.96     3.77         8.45          76.0          8      E  \n",
       "1     3.58     6.81         0.77           NaN        NaN    NaN  \n",
       "2    12.76     3.79         3.29          82.0        8.3      E  \n",
       "3    10.93     3.28         2.95          80.0          8      E  \n",
       "4     8.89    10.22         1.00           NaN        NaN    NaN  "
      ]
     },
     "execution_count": 8,
     "metadata": {},
     "output_type": "execute_result"
    }
   ],
   "source": [
    "# Выведем первые 5 строк датафрейма\n",
    "df.head()"
   ]
  },
  {
   "cell_type": "code",
   "execution_count": 9,
   "id": "6b012860",
   "metadata": {},
   "outputs": [
    {
     "data": {
      "text/html": [
       "<div>\n",
       "<style scoped>\n",
       "    .dataframe tbody tr th:only-of-type {\n",
       "        vertical-align: middle;\n",
       "    }\n",
       "\n",
       "    .dataframe tbody tr th {\n",
       "        vertical-align: top;\n",
       "    }\n",
       "\n",
       "    .dataframe thead th {\n",
       "        text-align: right;\n",
       "    }\n",
       "</style>\n",
       "<table border=\"1\" class=\"dataframe\">\n",
       "  <thead>\n",
       "    <tr style=\"text-align: right;\">\n",
       "      <th></th>\n",
       "      <th>Name</th>\n",
       "      <th>Platform</th>\n",
       "      <th>Year of Release</th>\n",
       "      <th>Genre</th>\n",
       "      <th>NA sales</th>\n",
       "      <th>EU sales</th>\n",
       "      <th>JP sales</th>\n",
       "      <th>Other sales</th>\n",
       "      <th>Critic Score</th>\n",
       "      <th>User Score</th>\n",
       "      <th>Rating</th>\n",
       "    </tr>\n",
       "  </thead>\n",
       "  <tbody>\n",
       "    <tr>\n",
       "      <th>16951</th>\n",
       "      <td>Samurai Warriors: Sanada Maru</td>\n",
       "      <td>PS3</td>\n",
       "      <td>2016.0</td>\n",
       "      <td>Action</td>\n",
       "      <td>0.00</td>\n",
       "      <td>0.0</td>\n",
       "      <td>0.01</td>\n",
       "      <td>0.0</td>\n",
       "      <td>NaN</td>\n",
       "      <td>NaN</td>\n",
       "      <td>NaN</td>\n",
       "    </tr>\n",
       "    <tr>\n",
       "      <th>16952</th>\n",
       "      <td>LMA Manager 2007</td>\n",
       "      <td>X360</td>\n",
       "      <td>2006.0</td>\n",
       "      <td>Sports</td>\n",
       "      <td>0.00</td>\n",
       "      <td>0.01</td>\n",
       "      <td>0.0</td>\n",
       "      <td>0.0</td>\n",
       "      <td>NaN</td>\n",
       "      <td>NaN</td>\n",
       "      <td>NaN</td>\n",
       "    </tr>\n",
       "    <tr>\n",
       "      <th>16953</th>\n",
       "      <td>Haitaka no Psychedelica</td>\n",
       "      <td>PSV</td>\n",
       "      <td>2016.0</td>\n",
       "      <td>Adventure</td>\n",
       "      <td>0.00</td>\n",
       "      <td>0.0</td>\n",
       "      <td>0.01</td>\n",
       "      <td>0.0</td>\n",
       "      <td>NaN</td>\n",
       "      <td>NaN</td>\n",
       "      <td>NaN</td>\n",
       "    </tr>\n",
       "    <tr>\n",
       "      <th>16954</th>\n",
       "      <td>Spirits &amp; Spells</td>\n",
       "      <td>GBA</td>\n",
       "      <td>2003.0</td>\n",
       "      <td>Platform</td>\n",
       "      <td>0.01</td>\n",
       "      <td>0.0</td>\n",
       "      <td>0.0</td>\n",
       "      <td>0.0</td>\n",
       "      <td>NaN</td>\n",
       "      <td>NaN</td>\n",
       "      <td>NaN</td>\n",
       "    </tr>\n",
       "    <tr>\n",
       "      <th>16955</th>\n",
       "      <td>Winning Post 8 2016</td>\n",
       "      <td>PSV</td>\n",
       "      <td>2016.0</td>\n",
       "      <td>Simulation</td>\n",
       "      <td>0.00</td>\n",
       "      <td>0.0</td>\n",
       "      <td>0.01</td>\n",
       "      <td>0.0</td>\n",
       "      <td>NaN</td>\n",
       "      <td>NaN</td>\n",
       "      <td>NaN</td>\n",
       "    </tr>\n",
       "  </tbody>\n",
       "</table>\n",
       "</div>"
      ],
      "text/plain": [
       "                                Name Platform  Year of Release       Genre  \\\n",
       "16951  Samurai Warriors: Sanada Maru      PS3           2016.0      Action   \n",
       "16952               LMA Manager 2007     X360           2006.0      Sports   \n",
       "16953        Haitaka no Psychedelica      PSV           2016.0   Adventure   \n",
       "16954               Spirits & Spells      GBA           2003.0    Platform   \n",
       "16955            Winning Post 8 2016      PSV           2016.0  Simulation   \n",
       "\n",
       "       NA sales EU sales JP sales  Other sales  Critic Score User Score Rating  \n",
       "16951      0.00      0.0     0.01          0.0           NaN        NaN    NaN  \n",
       "16952      0.00     0.01      0.0          0.0           NaN        NaN    NaN  \n",
       "16953      0.00      0.0     0.01          0.0           NaN        NaN    NaN  \n",
       "16954      0.01      0.0      0.0          0.0           NaN        NaN    NaN  \n",
       "16955      0.00      0.0     0.01          0.0           NaN        NaN    NaN  "
      ]
     },
     "execution_count": 9,
     "metadata": {},
     "output_type": "execute_result"
    }
   ],
   "source": [
    "## Выведем последние 5 строк датафрейма\n",
    "df.tail()"
   ]
  },
  {
   "cell_type": "markdown",
   "id": "26267bc0",
   "metadata": {
    "id": "26267bc0"
   },
   "source": [
    "- Сделайте вывод о полученных данных: данные какого объёма вам предоставили, соответствуют ли они описанию, встречаются ли в них пропуски, используются ли верные типы данных.\n",
    "- Отметьте другие особенности данных, которые вы обнаружили и на которые стоит обратить внимание при предобработке. Например, вы можете проверить названия столбцов: все ли названия отражают содержимое данных и прописаны в удобном для работы виде."
   ]
  },
  {
   "cell_type": "markdown",
   "id": "725033a2",
   "metadata": {},
   "source": [
    "**Промежуточные вывода:** \n",
    "    Всего в датафрейме 16956 строк и 11 столбцов. Из 11 столбцов 4 имеют тип данных `float64` и 7 столбцов типа `object`. При этом для столбцов `EU sales, JP sales, User Score` стоит изменить тип данных с `object` на `float64`.А столбец `Year of Release` стоит преобразовать к типу данных `datetime64`. Столбцы `Critic Score, User Score, Rating` отличаются по количеству пропусков от остальных столбцов. Самое большое количество пропусков в столбце `Critic Score`. Названия всех столбцов начинаются с заглавной буквы и имеют пробелы между словами в названии.\n",
    "    "
   ]
  },
  {
   "cell_type": "code",
   "execution_count": null,
   "id": "191981db",
   "metadata": {
    "id": "191981db"
   },
   "outputs": [],
   "source": []
  },
  {
   "cell_type": "markdown",
   "id": "774bf76e",
   "metadata": {
    "id": "774bf76e"
   },
   "source": [
    "---\n",
    "<a id='2'></a>\n",
    "## 2.  Проверка ошибок в данных и их предобработка\n",
    "\n",
    "\n",
    "### 2.1. Названия, или метки, столбцов датафрейма\n",
    "\n",
    "- Выведите на экран названия всех столбцов датафрейма и проверьте их стиль написания.\n",
    "- Приведите все столбцы к стилю snake case. Названия должны быть в нижнем регистре, а вместо пробелов — подчёркивания."
   ]
  },
  {
   "cell_type": "markdown",
   "id": "b34b0cfc",
   "metadata": {},
   "source": [
    "Проведём предобработку стобцов датафрейма. Выведем все названия столбцов."
   ]
  },
  {
   "cell_type": "code",
   "execution_count": 10,
   "id": "b9276a2b",
   "metadata": {
    "id": "b9276a2b"
   },
   "outputs": [
    {
     "data": {
      "text/plain": [
       "['Name',\n",
       " 'Platform',\n",
       " 'Year of Release',\n",
       " 'Genre',\n",
       " 'NA sales',\n",
       " 'EU sales',\n",
       " 'JP sales',\n",
       " 'Other sales',\n",
       " 'Critic Score',\n",
       " 'User Score',\n",
       " 'Rating']"
      ]
     },
     "execution_count": 10,
     "metadata": {},
     "output_type": "execute_result"
    }
   ],
   "source": [
    "#Выведем названия столбцов\n",
    "df.columns.tolist()"
   ]
  },
  {
   "cell_type": "code",
   "execution_count": 11,
   "id": "76b4799a",
   "metadata": {},
   "outputs": [
    {
     "data": {
      "text/plain": [
       "['name',\n",
       " 'platform',\n",
       " 'year_of_release',\n",
       " 'genre',\n",
       " 'na_sales',\n",
       " 'eu_sales',\n",
       " 'jp_sales',\n",
       " 'other_sales',\n",
       " 'critic_score',\n",
       " 'user_score',\n",
       " 'rating']"
      ]
     },
     "execution_count": 11,
     "metadata": {},
     "output_type": "execute_result"
    }
   ],
   "source": [
    "#Приведём все названия к стилю snake_case\n",
    "df.columns = df.columns.str.lower().str.replace(' ','_')\n",
    "df.columns.tolist()"
   ]
  },
  {
   "cell_type": "code",
   "execution_count": 12,
   "id": "1fc8b6a0",
   "metadata": {},
   "outputs": [
    {
     "data": {
      "text/html": [
       "<div>\n",
       "<style scoped>\n",
       "    .dataframe tbody tr th:only-of-type {\n",
       "        vertical-align: middle;\n",
       "    }\n",
       "\n",
       "    .dataframe tbody tr th {\n",
       "        vertical-align: top;\n",
       "    }\n",
       "\n",
       "    .dataframe thead th {\n",
       "        text-align: right;\n",
       "    }\n",
       "</style>\n",
       "<table border=\"1\" class=\"dataframe\">\n",
       "  <thead>\n",
       "    <tr style=\"text-align: right;\">\n",
       "      <th></th>\n",
       "      <th>name</th>\n",
       "      <th>platform</th>\n",
       "      <th>year_of_release</th>\n",
       "      <th>genre</th>\n",
       "      <th>na_sales</th>\n",
       "      <th>eu_sales</th>\n",
       "      <th>jp_sales</th>\n",
       "      <th>other_sales</th>\n",
       "      <th>critic_score</th>\n",
       "      <th>user_score</th>\n",
       "      <th>rating</th>\n",
       "    </tr>\n",
       "  </thead>\n",
       "  <tbody>\n",
       "    <tr>\n",
       "      <th>0</th>\n",
       "      <td>Wii Sports</td>\n",
       "      <td>Wii</td>\n",
       "      <td>2006.0</td>\n",
       "      <td>Sports</td>\n",
       "      <td>41.36</td>\n",
       "      <td>28.96</td>\n",
       "      <td>3.77</td>\n",
       "      <td>8.45</td>\n",
       "      <td>76.0</td>\n",
       "      <td>8</td>\n",
       "      <td>E</td>\n",
       "    </tr>\n",
       "    <tr>\n",
       "      <th>1</th>\n",
       "      <td>Super Mario Bros.</td>\n",
       "      <td>NES</td>\n",
       "      <td>1985.0</td>\n",
       "      <td>Platform</td>\n",
       "      <td>29.08</td>\n",
       "      <td>3.58</td>\n",
       "      <td>6.81</td>\n",
       "      <td>0.77</td>\n",
       "      <td>NaN</td>\n",
       "      <td>NaN</td>\n",
       "      <td>NaN</td>\n",
       "    </tr>\n",
       "    <tr>\n",
       "      <th>2</th>\n",
       "      <td>Mario Kart Wii</td>\n",
       "      <td>Wii</td>\n",
       "      <td>2008.0</td>\n",
       "      <td>Racing</td>\n",
       "      <td>15.68</td>\n",
       "      <td>12.76</td>\n",
       "      <td>3.79</td>\n",
       "      <td>3.29</td>\n",
       "      <td>82.0</td>\n",
       "      <td>8.3</td>\n",
       "      <td>E</td>\n",
       "    </tr>\n",
       "    <tr>\n",
       "      <th>3</th>\n",
       "      <td>Wii Sports Resort</td>\n",
       "      <td>Wii</td>\n",
       "      <td>2009.0</td>\n",
       "      <td>Sports</td>\n",
       "      <td>15.61</td>\n",
       "      <td>10.93</td>\n",
       "      <td>3.28</td>\n",
       "      <td>2.95</td>\n",
       "      <td>80.0</td>\n",
       "      <td>8</td>\n",
       "      <td>E</td>\n",
       "    </tr>\n",
       "    <tr>\n",
       "      <th>4</th>\n",
       "      <td>Pokemon Red/Pokemon Blue</td>\n",
       "      <td>GB</td>\n",
       "      <td>1996.0</td>\n",
       "      <td>Role-Playing</td>\n",
       "      <td>11.27</td>\n",
       "      <td>8.89</td>\n",
       "      <td>10.22</td>\n",
       "      <td>1.00</td>\n",
       "      <td>NaN</td>\n",
       "      <td>NaN</td>\n",
       "      <td>NaN</td>\n",
       "    </tr>\n",
       "    <tr>\n",
       "      <th>...</th>\n",
       "      <td>...</td>\n",
       "      <td>...</td>\n",
       "      <td>...</td>\n",
       "      <td>...</td>\n",
       "      <td>...</td>\n",
       "      <td>...</td>\n",
       "      <td>...</td>\n",
       "      <td>...</td>\n",
       "      <td>...</td>\n",
       "      <td>...</td>\n",
       "      <td>...</td>\n",
       "    </tr>\n",
       "    <tr>\n",
       "      <th>16951</th>\n",
       "      <td>Samurai Warriors: Sanada Maru</td>\n",
       "      <td>PS3</td>\n",
       "      <td>2016.0</td>\n",
       "      <td>Action</td>\n",
       "      <td>0.00</td>\n",
       "      <td>0.0</td>\n",
       "      <td>0.01</td>\n",
       "      <td>0.00</td>\n",
       "      <td>NaN</td>\n",
       "      <td>NaN</td>\n",
       "      <td>NaN</td>\n",
       "    </tr>\n",
       "    <tr>\n",
       "      <th>16952</th>\n",
       "      <td>LMA Manager 2007</td>\n",
       "      <td>X360</td>\n",
       "      <td>2006.0</td>\n",
       "      <td>Sports</td>\n",
       "      <td>0.00</td>\n",
       "      <td>0.01</td>\n",
       "      <td>0.0</td>\n",
       "      <td>0.00</td>\n",
       "      <td>NaN</td>\n",
       "      <td>NaN</td>\n",
       "      <td>NaN</td>\n",
       "    </tr>\n",
       "    <tr>\n",
       "      <th>16953</th>\n",
       "      <td>Haitaka no Psychedelica</td>\n",
       "      <td>PSV</td>\n",
       "      <td>2016.0</td>\n",
       "      <td>Adventure</td>\n",
       "      <td>0.00</td>\n",
       "      <td>0.0</td>\n",
       "      <td>0.01</td>\n",
       "      <td>0.00</td>\n",
       "      <td>NaN</td>\n",
       "      <td>NaN</td>\n",
       "      <td>NaN</td>\n",
       "    </tr>\n",
       "    <tr>\n",
       "      <th>16954</th>\n",
       "      <td>Spirits &amp; Spells</td>\n",
       "      <td>GBA</td>\n",
       "      <td>2003.0</td>\n",
       "      <td>Platform</td>\n",
       "      <td>0.01</td>\n",
       "      <td>0.0</td>\n",
       "      <td>0.0</td>\n",
       "      <td>0.00</td>\n",
       "      <td>NaN</td>\n",
       "      <td>NaN</td>\n",
       "      <td>NaN</td>\n",
       "    </tr>\n",
       "    <tr>\n",
       "      <th>16955</th>\n",
       "      <td>Winning Post 8 2016</td>\n",
       "      <td>PSV</td>\n",
       "      <td>2016.0</td>\n",
       "      <td>Simulation</td>\n",
       "      <td>0.00</td>\n",
       "      <td>0.0</td>\n",
       "      <td>0.01</td>\n",
       "      <td>0.00</td>\n",
       "      <td>NaN</td>\n",
       "      <td>NaN</td>\n",
       "      <td>NaN</td>\n",
       "    </tr>\n",
       "  </tbody>\n",
       "</table>\n",
       "<p>16956 rows × 11 columns</p>\n",
       "</div>"
      ],
      "text/plain": [
       "                                name platform  year_of_release         genre  \\\n",
       "0                         Wii Sports      Wii           2006.0        Sports   \n",
       "1                  Super Mario Bros.      NES           1985.0      Platform   \n",
       "2                     Mario Kart Wii      Wii           2008.0        Racing   \n",
       "3                  Wii Sports Resort      Wii           2009.0        Sports   \n",
       "4           Pokemon Red/Pokemon Blue       GB           1996.0  Role-Playing   \n",
       "...                              ...      ...              ...           ...   \n",
       "16951  Samurai Warriors: Sanada Maru      PS3           2016.0        Action   \n",
       "16952               LMA Manager 2007     X360           2006.0        Sports   \n",
       "16953        Haitaka no Psychedelica      PSV           2016.0     Adventure   \n",
       "16954               Spirits & Spells      GBA           2003.0      Platform   \n",
       "16955            Winning Post 8 2016      PSV           2016.0    Simulation   \n",
       "\n",
       "       na_sales eu_sales jp_sales  other_sales  critic_score user_score rating  \n",
       "0         41.36    28.96     3.77         8.45          76.0          8      E  \n",
       "1         29.08     3.58     6.81         0.77           NaN        NaN    NaN  \n",
       "2         15.68    12.76     3.79         3.29          82.0        8.3      E  \n",
       "3         15.61    10.93     3.28         2.95          80.0          8      E  \n",
       "4         11.27     8.89    10.22         1.00           NaN        NaN    NaN  \n",
       "...         ...      ...      ...          ...           ...        ...    ...  \n",
       "16951      0.00      0.0     0.01         0.00           NaN        NaN    NaN  \n",
       "16952      0.00     0.01      0.0         0.00           NaN        NaN    NaN  \n",
       "16953      0.00      0.0     0.01         0.00           NaN        NaN    NaN  \n",
       "16954      0.01      0.0      0.0         0.00           NaN        NaN    NaN  \n",
       "16955      0.00      0.0     0.01         0.00           NaN        NaN    NaN  \n",
       "\n",
       "[16956 rows x 11 columns]"
      ]
     },
     "metadata": {},
     "output_type": "display_data"
    }
   ],
   "source": [
    "#Проверим названия в датафрейме\n",
    "display(df)"
   ]
  },
  {
   "cell_type": "markdown",
   "id": "de33a23e",
   "metadata": {},
   "source": [
    " "
   ]
  },
  {
   "cell_type": "markdown",
   "id": "68880bc7",
   "metadata": {},
   "source": [
    " "
   ]
  },
  {
   "cell_type": "markdown",
   "id": "41bc6bf8",
   "metadata": {
    "id": "41bc6bf8"
   },
   "source": [
    "### 2.2. Типы данных\n",
    "\n",
    "- Если встречаются некорректные типы данных, предположите их причины.\n",
    "- При необходимости проведите преобразование типов данных. Помните, что столбцы с числовыми данными и пропусками нельзя преобразовать к типу `int64`. Сначала вам понадобится обработать пропуски, а затем преобразовать типы данных."
   ]
  },
  {
   "cell_type": "code",
   "execution_count": 14,
   "id": "83ec8025",
   "metadata": {},
   "outputs": [
    {
     "data": {
      "text/plain": [
       "16956"
      ]
     },
     "execution_count": 14,
     "metadata": {},
     "output_type": "execute_result"
    }
   ],
   "source": [
    "# Проведем контролько размера датасета перед обработкой\n",
    "tmp = df.copy() # создаем копию датасета до преобразования\n",
    "len(tmp)"
   ]
  },
  {
   "cell_type": "markdown",
   "id": "f1a85b0d",
   "metadata": {},
   "source": [
    "Возможно, что в столбцах `eu_sales, jp_sales, user_score` находятся не подходящие строковые значения. Из-за этого стобец имеет тип данных `object`. Также столбец `year_of_release`имеет тип данных `float64`.  Попробуем изменить некорректный тип данных для столбца года выпуска видеоигр, а также найти некорректные данные,заменить их  и изменить тип данных стобцов `eu_sales, jp_sales, user_score`."
   ]
  },
  {
   "cell_type": "markdown",
   "id": "63378edf",
   "metadata": {
    "id": "63378edf"
   },
   "source": [
    "- В числовых столбцах могут встретиться строковые значения, например `unknown` или другие. Приводите такие столбцы к числовому типу данных, заменив строковые значения на пропуски."
   ]
  },
  {
   "cell_type": "code",
   "execution_count": 15,
   "id": "3506fe33",
   "metadata": {},
   "outputs": [
    {
     "data": {
      "text/plain": [
       "array([2006., 1985., 2008., 2009., 1996., 1989., 1984., 2005., 1999.,\n",
       "       2007., 2010., 2013., 2004., 1990., 1988., 2002., 2001., 2011.,\n",
       "       1998., 2015., 2012., 2014., 1992., 1997., 1993., 1994., 1982.,\n",
       "       2016., 2003., 1986., 2000.,   nan, 1995., 1991., 1981., 1987.,\n",
       "       1980., 1983.])"
      ]
     },
     "execution_count": 15,
     "metadata": {},
     "output_type": "execute_result"
    }
   ],
   "source": [
    "#Проведем анализ и выясним почему столбцы числовых данных не имеют числовой тип данных\n",
    "# Значения таблицы year_of_releasew\n",
    "tmp['year_of_release'].unique()"
   ]
  },
  {
   "cell_type": "code",
   "execution_count": 16,
   "id": "75cf2d2c",
   "metadata": {},
   "outputs": [
    {
     "data": {
      "text/plain": [
       "<class 'float'>    16956\n",
       "Name: year_of_release, dtype: int64"
      ]
     },
     "execution_count": 16,
     "metadata": {},
     "output_type": "execute_result"
    }
   ],
   "source": [
    "# Проверим и подсчитаем типы данных значений в столбце \n",
    "tmp['year_of_release'].apply(type).value_counts()"
   ]
  },
  {
   "cell_type": "code",
   "execution_count": 17,
   "id": "e08f6641",
   "metadata": {},
   "outputs": [
    {
     "data": {
      "text/plain": [
       "array(['28.96', '3.58', '12.76', '10.93', '8.89', '2.26', '9.14', '9.18',\n",
       "       '6.94', '0.63', '10.95', '7.47', '6.18', '8.03', '4.89', '8.49',\n",
       "       '9.09', '0.4', '3.75', '9.2', '4.46', '2.71', '3.44', '5.14',\n",
       "       '5.49', '3.9', '5.35', '3.17', '5.09', '4.24', '5.04', '5.86',\n",
       "       '3.68', '4.19', '5.73', '3.59', '4.51', '2.55', '4.02', '4.37',\n",
       "       '6.31', '3.45', '2.81', '2.85', '3.49', '0.01', '3.35', '2.04',\n",
       "       '3.07', '3.87', '3.0', '4.82', '3.64', '2.15', '3.69', '2.65',\n",
       "       '2.56', '3.11', '3.14', '1.94', '1.95', '2.47', '2.28', '3.42',\n",
       "       '3.63', '2.36', '1.71', '1.85', '2.79', '1.24', '6.12', '1.53',\n",
       "       '3.47', '2.24', '5.01', '2.01', '1.72', '2.07', '6.42', '3.86',\n",
       "       '0.45', '3.48', '1.89', '5.75', '2.17', '1.37', '2.35', '1.18',\n",
       "       '2.11', '1.88', '2.83', '2.99', '2.89', '3.27', '2.22', '2.14',\n",
       "       '1.45', '1.75', '1.04', '1.77', '3.02', '2.75', '2.16', '1.9',\n",
       "       '2.59', '2.2', '4.3', '0.93', '2.53', '2.52', '1.79', '1.3', '2.6',\n",
       "       '1.58', '1.2', '1.56', '1.34', '1.26', '0.83', '6.21', '2.8',\n",
       "       '1.59', '1.73', '4.33', '1.83', '0.0', '2.18', '1.98', '1.47',\n",
       "       '0.67', '1.55', '1.91', '0.69', '0.6', '1.93', '1.64', '0.55',\n",
       "       '2.19', '1.11', '2.29', '2.5', '0.96', '1.21', '1.12', '0.77',\n",
       "       '1.69', '1.08', '0.79', '2.37', '2.46', '0.26', '0.75', '1.25',\n",
       "       '2.43', '0.98', '0.74', '2.23', '0.61', '2.45', '1.41', '1.8',\n",
       "       '3.28', '1.16', '1.99', '1.38', '1.36', '1.17', '1.19', '0.99',\n",
       "       '1.68', '2.0', '1.33', '1.57', '1.48', '2.1', '1.27', '1.97',\n",
       "       '0.91', '1.39', '1.96', '0.24', '1.51', '0.14', '1.29', '2.39',\n",
       "       '1.03', '0.5', '0.58', '1.31', '2.02', '1.32', '1.01', '2.27',\n",
       "       '2.3', '1.82', '2.78', '0.44', '0.48', '0.27', '0.21', '2.48',\n",
       "       '0.51', '1.52', '0.04', '0.28', '1.35', '0.87', '2.13', '1.13',\n",
       "       '1.76', '0.76', '2.12', '0.66', '1.6', '1.44', '1.43', '1.7',\n",
       "       '0.47', '1.87', '0.86', '0.73', '1.28', '0.81', '1.09', '0.68',\n",
       "       '1.22', '1.4', '1.02', '1.49', '1.14', '0.49', '0.9', '0.38',\n",
       "       '1.42', '0.95', '1.62', '0.71', '1.05', '0.92', '0.33', '0.3',\n",
       "       '1.67', '1.0', '0.89', '0.1', '0.72', '0.59', '0.56', '0.16',\n",
       "       '0.97', '0.62', 'unknown', '0.85', '0.94', '0.88', '0.84', '1.06',\n",
       "       '0.2', '1.15', '0.8', '1.1', '0.7', '1.92', '0.32', '0.15', '0.53',\n",
       "       '0.09', '1.46', '0.29', '0.22', '1.23', '0.07', '0.17', '0.54',\n",
       "       '0.36', '0.31', '1.84', '0.52', '0.11', '0.64', '0.12', '2.05',\n",
       "       '1.63', '0.82', '0.08', '0.57', '1.65', '0.19', '0.02', '0.43',\n",
       "       '0.25', '1.5', '0.18', '0.39', '0.13', '1.07', '0.46', '0.41',\n",
       "       '0.06', '0.03', '0.37', '0.05', '0.23', '0.65', '0.42', '0.34',\n",
       "       '0.35', '0.78'], dtype=object)"
      ]
     },
     "execution_count": 17,
     "metadata": {},
     "output_type": "execute_result"
    }
   ],
   "source": [
    "# Значения таблицы eu_sales\n",
    "tmp['eu_sales'].unique()"
   ]
  },
  {
   "cell_type": "code",
   "execution_count": 18,
   "id": "fe305eb5",
   "metadata": {},
   "outputs": [
    {
     "data": {
      "text/plain": [
       "<class 'str'>    16956\n",
       "Name: eu_sales, dtype: int64"
      ]
     },
     "execution_count": 18,
     "metadata": {},
     "output_type": "execute_result"
    }
   ],
   "source": [
    "# Проверим и подсчитаем типы данных значений в столбце\n",
    "tmp['eu_sales'].apply(type).value_counts()"
   ]
  },
  {
   "cell_type": "code",
   "execution_count": 19,
   "id": "ac5bc072",
   "metadata": {},
   "outputs": [
    {
     "data": {
      "text/plain": [
       "array(['3.77', '6.81', '3.79', '3.28', '10.22', '4.22', '6.5', '2.93',\n",
       "       '4.7', '0.28', '1.93', '4.13', '7.2', '3.6', '0.24', '2.53',\n",
       "       '0.98', '0.41', '3.54', '4.16', '6.04', '4.18', '3.84', '0.06',\n",
       "       '0.47', '5.38', '5.32', '5.65', '1.87', '0.13', '3.12', '0.36',\n",
       "       '0.11', '4.35', '0.65', '0.07', '0.08', '0.49', '0.3', '2.66',\n",
       "       '2.69', '0.48', '0.38', '5.33', '1.91', '3.96', '3.1', '1.1',\n",
       "       '1.2', '0.14', '2.54', '2.14', '0.81', '2.12', '0.44', '3.15',\n",
       "       '1.25', '0.04', '0.0', '2.47', '2.23', '1.69', '0.01', '3.0',\n",
       "       '0.02', '4.39', '1.98', '0.1', '3.81', '0.05', '2.49', '1.58',\n",
       "       '3.14', '2.73', '0.66', '0.22', '3.63', '1.45', '1.31', '2.43',\n",
       "       '0.7', '0.35', '1.4', '0.6', '2.26', '1.42', '1.28', '1.39',\n",
       "       '0.87', '0.17', '0.94', '0.19', '0.21', '1.6', '0.16', '1.03',\n",
       "       '0.25', '2.06', '1.49', '1.29', '0.09', '2.87', '0.03', '0.78',\n",
       "       '0.83', '2.33', '2.02', '1.36', '1.81', '1.97', '0.91', '0.99',\n",
       "       '0.95', '2.0', '1.01', '2.78', '2.11', '1.09', '0.2', '1.9',\n",
       "       '1.27', '3.61', '1.57', '2.2', '1.7', '1.08', '0.15', '1.11',\n",
       "       '0.29', '1.54', '0.12', '0.89', '4.87', '1.52', '1.32', '1.15',\n",
       "       '4.1', '1.46', '0.46', '1.05', '1.61', '0.26', '1.38', '0.62',\n",
       "       '0.73', '0.57', '0.31', '0.58', '1.76', '2.1', '0.9', '0.51',\n",
       "       '0.64', '2.46', '0.23', '0.37', '0.92', '1.07', '2.62', '1.12',\n",
       "       '0.54', '0.27', '0.59', '3.67', '0.55', '1.75', '3.44', '0.33',\n",
       "       '2.55', '2.32', '2.79', '0.74', '3.18', '0.82', '0.77', '0.4',\n",
       "       '2.35', '3.19', '0.8', '0.76', '3.03', '0.88', 'unknown', '0.45',\n",
       "       '1.16', '0.34', '1.19', '1.13', '2.13', '1.96', '0.71', '1.04',\n",
       "       '2.68', '0.68', '2.65', '0.96', '2.41', '0.52', '0.18', '1.34',\n",
       "       '1.48', '2.34', '1.06', '1.21', '2.29', '1.63', '2.05', '2.17',\n",
       "       '1.56', '1.35', '1.33', '0.63', '0.79', '0.75', '0.53', '1.53',\n",
       "       '1.3', '0.39', '0.69', '0.42', '0.93', '0.56', '0.84', '0.72',\n",
       "       '0.32', '1.71', '1.65', '0.61', '1.51', '1.5', '1.44', '1.24',\n",
       "       '1.18', '1.37', '1.0', '1.26', '0.85', '0.43', '0.67', '1.14',\n",
       "       '0.86', '1.17', '0.5', '1.02', '0.97'], dtype=object)"
      ]
     },
     "execution_count": 19,
     "metadata": {},
     "output_type": "execute_result"
    }
   ],
   "source": [
    "# Значения таблицы jp_sales\n",
    "tmp['jp_sales'].unique()"
   ]
  },
  {
   "cell_type": "code",
   "execution_count": 20,
   "id": "0b2b9808",
   "metadata": {},
   "outputs": [
    {
     "data": {
      "text/plain": [
       "<class 'str'>    16956\n",
       "Name: jp_sales, dtype: int64"
      ]
     },
     "execution_count": 20,
     "metadata": {},
     "output_type": "execute_result"
    }
   ],
   "source": [
    "# Проверим и подсчитаем типы данных значений в столбце\n",
    "tmp['jp_sales'].apply(type).value_counts()"
   ]
  },
  {
   "cell_type": "code",
   "execution_count": 21,
   "id": "72cb235e",
   "metadata": {},
   "outputs": [
    {
     "data": {
      "text/plain": [
       "array(['8', nan, '8.3', '8.5', '6.6', '8.4', '8.6', '7.7', '6.3', '7.4',\n",
       "       '8.2', '9', '7.9', '8.1', '8.7', '7.1', '3.4', '5.3', '4.8', '3.2',\n",
       "       '8.9', '6.4', '7.8', '7.5', '2.6', '7.2', '9.2', '7', '7.3', '4.3',\n",
       "       '7.6', '5.7', '5', '9.1', '6.5', 'tbd', '8.8', '6.9', '9.4', '6.8',\n",
       "       '6.1', '6.7', '5.4', '4', '4.9', '4.5', '9.3', '6.2', '4.2', '6',\n",
       "       '3.7', '4.1', '5.8', '5.6', '5.5', '4.4', '4.6', '5.9', '3.9',\n",
       "       '3.1', '2.9', '5.2', '3.3', '4.7', '5.1', '3.5', '2.5', '1.9', '3',\n",
       "       '2.7', '2.2', '2', '9.5', '2.1', '3.6', '2.8', '1.8', '3.8', '0',\n",
       "       '1.6', '9.6', '2.4', '1.7', '1.1', '0.3', '1.5', '0.7', '1.2',\n",
       "       '2.3', '0.5', '1.3', '0.2', '0.6', '1.4', '0.9', '1', '9.7'],\n",
       "      dtype=object)"
      ]
     },
     "execution_count": 21,
     "metadata": {},
     "output_type": "execute_result"
    }
   ],
   "source": [
    "# Значения таблицы user_score\n",
    "tmp['user_score'].unique()"
   ]
  },
  {
   "cell_type": "code",
   "execution_count": 22,
   "id": "5f2cd426",
   "metadata": {},
   "outputs": [
    {
     "data": {
      "text/plain": [
       "<class 'str'>      10152\n",
       "<class 'float'>     6804\n",
       "Name: user_score, dtype: int64"
      ]
     },
     "execution_count": 22,
     "metadata": {},
     "output_type": "execute_result"
    }
   ],
   "source": [
    "# Проверим и подсчитаем типы данных значений в столбце\n",
    "tmp['user_score'].apply(type).value_counts()"
   ]
  },
  {
   "cell_type": "markdown",
   "id": "6eafd8cc",
   "metadata": {},
   "source": [
    "**Промежуточный выовод:** можем заметить, что в столбце `year_of_release` присутствуют пустые значения, что не даёт возможности сразу изменить тип данных столбцы на `datetime64`. Также отметим, что в столбцах `eu_sales` и `jp_sales`присутствует значение  *unknown*, а также то, что все значения в этих столбцах имеют тип данных `str`. В столбце `user_score` 10152 значений типа `str` и 6804 типа `float` - это может быть связано с пустыми значениям в столбце."
   ]
  },
  {
   "cell_type": "code",
   "execution_count": 23,
   "id": "db9f4612",
   "metadata": {},
   "outputs": [
    {
     "data": {
      "text/html": [
       "<div>\n",
       "<style scoped>\n",
       "    .dataframe tbody tr th:only-of-type {\n",
       "        vertical-align: middle;\n",
       "    }\n",
       "\n",
       "    .dataframe tbody tr th {\n",
       "        vertical-align: top;\n",
       "    }\n",
       "\n",
       "    .dataframe thead th {\n",
       "        text-align: right;\n",
       "    }\n",
       "</style>\n",
       "<table border=\"1\" class=\"dataframe\">\n",
       "  <thead>\n",
       "    <tr style=\"text-align: right;\">\n",
       "      <th></th>\n",
       "      <th>name</th>\n",
       "      <th>platform</th>\n",
       "      <th>year_of_release</th>\n",
       "      <th>genre</th>\n",
       "      <th>na_sales</th>\n",
       "      <th>eu_sales</th>\n",
       "      <th>jp_sales</th>\n",
       "      <th>other_sales</th>\n",
       "      <th>critic_score</th>\n",
       "      <th>user_score</th>\n",
       "      <th>rating</th>\n",
       "    </tr>\n",
       "  </thead>\n",
       "  <tbody>\n",
       "    <tr>\n",
       "      <th>118</th>\n",
       "      <td>Uncharted 3: Drake's Deception</td>\n",
       "      <td>PS3</td>\n",
       "      <td>2011.0</td>\n",
       "      <td>Action</td>\n",
       "      <td>2.77</td>\n",
       "      <td>2.75</td>\n",
       "      <td>0.19</td>\n",
       "      <td>1.03</td>\n",
       "      <td>92.0</td>\n",
       "      <td>8.3</td>\n",
       "      <td>T</td>\n",
       "    </tr>\n",
       "    <tr>\n",
       "      <th>119</th>\n",
       "      <td>Zumba Fitness</td>\n",
       "      <td>Wii</td>\n",
       "      <td>2010.0</td>\n",
       "      <td>Sports</td>\n",
       "      <td>3.45</td>\n",
       "      <td>2.59</td>\n",
       "      <td>0.0</td>\n",
       "      <td>0.66</td>\n",
       "      <td>NaN</td>\n",
       "      <td>tbd</td>\n",
       "      <td>E</td>\n",
       "    </tr>\n",
       "  </tbody>\n",
       "</table>\n",
       "</div>"
      ],
      "text/plain": [
       "                               name platform  year_of_release   genre  \\\n",
       "118  Uncharted 3: Drake's Deception      PS3           2011.0  Action   \n",
       "119                   Zumba Fitness      Wii           2010.0  Sports   \n",
       "\n",
       "     na_sales eu_sales jp_sales  other_sales  critic_score user_score rating  \n",
       "118      2.77     2.75     0.19         1.03          92.0        8.3      T  \n",
       "119      3.45     2.59      0.0         0.66           NaN        tbd      E  "
      ]
     },
     "execution_count": 23,
     "metadata": {},
     "output_type": "execute_result"
    }
   ],
   "source": [
    "# Возьмем срез датафрейма для отслеживания заменяемых значений \n",
    "df[118:120]"
   ]
  },
  {
   "cell_type": "code",
   "execution_count": 24,
   "id": "8f0a1c16",
   "metadata": {},
   "outputs": [],
   "source": [
    "# Заменим некорректные значения в датафрейме на None\n",
    "df = df.replace('unknown', np.nan) # Изменено f = df.replace(['unknown','tbd'], None)\n",
    "df = df.replace('tbd',np.nan)"
   ]
  },
  {
   "cell_type": "code",
   "execution_count": 25,
   "id": "ed1a4815",
   "metadata": {},
   "outputs": [
    {
     "data": {
      "text/html": [
       "<div>\n",
       "<style scoped>\n",
       "    .dataframe tbody tr th:only-of-type {\n",
       "        vertical-align: middle;\n",
       "    }\n",
       "\n",
       "    .dataframe tbody tr th {\n",
       "        vertical-align: top;\n",
       "    }\n",
       "\n",
       "    .dataframe thead th {\n",
       "        text-align: right;\n",
       "    }\n",
       "</style>\n",
       "<table border=\"1\" class=\"dataframe\">\n",
       "  <thead>\n",
       "    <tr style=\"text-align: right;\">\n",
       "      <th></th>\n",
       "      <th>name</th>\n",
       "      <th>platform</th>\n",
       "      <th>year_of_release</th>\n",
       "      <th>genre</th>\n",
       "      <th>na_sales</th>\n",
       "      <th>eu_sales</th>\n",
       "      <th>jp_sales</th>\n",
       "      <th>other_sales</th>\n",
       "      <th>critic_score</th>\n",
       "      <th>user_score</th>\n",
       "      <th>rating</th>\n",
       "    </tr>\n",
       "  </thead>\n",
       "  <tbody>\n",
       "    <tr>\n",
       "      <th>118</th>\n",
       "      <td>Uncharted 3: Drake's Deception</td>\n",
       "      <td>PS3</td>\n",
       "      <td>2011.0</td>\n",
       "      <td>Action</td>\n",
       "      <td>2.77</td>\n",
       "      <td>2.75</td>\n",
       "      <td>0.19</td>\n",
       "      <td>1.03</td>\n",
       "      <td>92.0</td>\n",
       "      <td>8.3</td>\n",
       "      <td>T</td>\n",
       "    </tr>\n",
       "    <tr>\n",
       "      <th>119</th>\n",
       "      <td>Zumba Fitness</td>\n",
       "      <td>Wii</td>\n",
       "      <td>2010.0</td>\n",
       "      <td>Sports</td>\n",
       "      <td>3.45</td>\n",
       "      <td>2.59</td>\n",
       "      <td>0.0</td>\n",
       "      <td>0.66</td>\n",
       "      <td>NaN</td>\n",
       "      <td>NaN</td>\n",
       "      <td>E</td>\n",
       "    </tr>\n",
       "  </tbody>\n",
       "</table>\n",
       "</div>"
      ],
      "text/plain": [
       "                               name platform  year_of_release   genre  \\\n",
       "118  Uncharted 3: Drake's Deception      PS3           2011.0  Action   \n",
       "119                   Zumba Fitness      Wii           2010.0  Sports   \n",
       "\n",
       "     na_sales eu_sales jp_sales  other_sales  critic_score user_score rating  \n",
       "118      2.77     2.75     0.19         1.03          92.0        8.3      T  \n",
       "119      3.45     2.59      0.0         0.66           NaN        NaN      E  "
      ]
     },
     "execution_count": 25,
     "metadata": {},
     "output_type": "execute_result"
    }
   ],
   "source": [
    "# Проверим результат замены значений\n",
    "df[118:120]"
   ]
  },
  {
   "cell_type": "code",
   "execution_count": 28,
   "id": "6a215297",
   "metadata": {
    "id": "8adaac81"
   },
   "outputs": [
    {
     "name": "stdout",
     "output_type": "stream",
     "text": [
      "<class 'pandas.core.frame.DataFrame'>\n",
      "RangeIndex: 16956 entries, 0 to 16955\n",
      "Data columns (total 11 columns):\n",
      " #   Column           Non-Null Count  Dtype  \n",
      "---  ------           --------------  -----  \n",
      " 0   name             16954 non-null  object \n",
      " 1   platform         16956 non-null  object \n",
      " 2   year_of_release  16681 non-null  float64\n",
      " 3   genre            16954 non-null  object \n",
      " 4   na_sales         16956 non-null  float64\n",
      " 5   eu_sales         16950 non-null  float64\n",
      " 6   jp_sales         16952 non-null  float64\n",
      " 7   other_sales      16956 non-null  float64\n",
      " 8   critic_score     8242 non-null   float64\n",
      " 9   user_score       7688 non-null   float64\n",
      " 10  rating           10085 non-null  object \n",
      "dtypes: float64(7), object(4)\n",
      "memory usage: 1.4+ MB\n"
     ]
    },
    {
     "data": {
      "text/plain": [
       "None"
      ]
     },
     "metadata": {},
     "output_type": "display_data"
    }
   ],
   "source": [
    "#Изменим тип данных столбцов\n",
    "df[['eu_sales','jp_sales','user_score']]=df[['eu_sales','jp_sales','user_score']].astype('float64')\n",
    "display(df.info())"
   ]
  },
  {
   "cell_type": "markdown",
   "id": "b39893cb",
   "metadata": {
    "id": "b39893cb"
   },
   "source": [
    "### 2.3. Наличие пропусков в данных\n",
    "\n",
    "- Посчитайте количество пропусков в каждом столбце в абсолютных и относительных значениях.\n"
   ]
  },
  {
   "cell_type": "code",
   "execution_count": 29,
   "id": "0f1c91a8",
   "metadata": {
    "id": "0f1c91a8",
    "scrolled": true
   },
   "outputs": [
    {
     "data": {
      "text/plain": [
       "name                  2\n",
       "platform              0\n",
       "year_of_release     275\n",
       "genre                 2\n",
       "na_sales              0\n",
       "eu_sales              6\n",
       "jp_sales              4\n",
       "other_sales           0\n",
       "critic_score       8714\n",
       "user_score         9268\n",
       "rating             6871\n",
       "dtype: int64"
      ]
     },
     "execution_count": 29,
     "metadata": {},
     "output_type": "execute_result"
    }
   ],
   "source": [
    "# Количество пропусков в каждом столлбце в абсолютном значении\n",
    "df.isna().sum()"
   ]
  },
  {
   "cell_type": "code",
   "execution_count": 30,
   "id": "86cd1cc1",
   "metadata": {
    "id": "86cd1cc1"
   },
   "outputs": [
    {
     "data": {
      "text/plain": [
       "name                0.01\n",
       "platform            0.00\n",
       "year_of_release     1.62\n",
       "genre               0.01\n",
       "na_sales            0.00\n",
       "eu_sales            0.04\n",
       "jp_sales            0.02\n",
       "other_sales         0.00\n",
       "critic_score       51.39\n",
       "user_score         54.66\n",
       "rating             40.52\n",
       "dtype: float64"
      ]
     },
     "execution_count": 30,
     "metadata": {},
     "output_type": "execute_result"
    }
   ],
   "source": [
    "# Количество пропусков в каждом столлбце в относительном значении\n",
    "round(df.isna().sum()/df.shape[0] * 100,2)"
   ]
  },
  {
   "cell_type": "markdown",
   "id": "cf796f51",
   "metadata": {
    "id": "cf796f51"
   },
   "source": [
    "- Изучите данные с пропущенными значениями. Напишите промежуточный вывод: для каких столбцов характерны пропуски и сколько их. Предположите, почему пропуски могли возникнуть. Укажите, какие действия с этими данными можно сделать и почему.\n"
   ]
  },
  {
   "cell_type": "markdown",
   "id": "aeb026ee",
   "metadata": {
    "id": "cc2d1374"
   },
   "source": [
    "**Промежуточный выовод:** большое количество пропусков относится к столбцам с оценкой игр критиков, игроков, а также к рейтингу самих игр. Возможно это связано с тем, что большое количество игр выпускается инди-разработчиками. Подобные игры малы в маштабе и неизвестны для большинства игроков, не говоря уже и о критиках. Поэтому объяснить то, что количество отстствующих оценок критиков больше, чем у игроков можно тем, что внушающее количество игр из датафрейма могла пройти мимо самих критиков."
   ]
  },
  {
   "cell_type": "markdown",
   "id": "c435b1f9",
   "metadata": {},
   "source": [
    "При всём этом, количество пропущенных значений в столбце оценок игроков всё равно остаётся большим. Это можно объяснить тем, что определённый процент игроков не ставит оценки играм. Возможно такие игры не засветились в инфополе, а возможно этим играм не хватило достаточного количество оценок для определения значения стобца `user_score`."
   ]
  },
  {
   "cell_type": "markdown",
   "id": "4732df8b",
   "metadata": {},
   "source": [
    "Количество пропусков в столбце `rating` примерно схоже со столбцом `user_score`. В данном случае рейтинг выставляется специальной организацией **ESRB**. Поэтому возможно, что какое то количество игр также прошло мимо организации."
   ]
  },
  {
   "cell_type": "markdown",
   "id": "bbbe3bda",
   "metadata": {
    "id": "bbbe3bda"
   },
   "source": [
    "- Обработайте пропущенные значения. Для каждого случая вы можете выбрать оптимальный, на ваш взгляд, вариант: заменить на определённое значение, оставить как есть или удалить.\n",
    "- Если вы решите заменить пропуски на значение-индикатор, то убедитесь, что предложенное значение не может быть использовано в данных.\n",
    "- Если вы нашли пропуски в данных с количеством проданных копий игры в том или ином регионе, их можно заменить на среднее значение в зависимости от названия платформы и года выхода игры."
   ]
  },
  {
   "cell_type": "markdown",
   "id": "b6a3754d",
   "metadata": {
    "id": "154be65d"
   },
   "source": [
    "Возможно внесение изменений или удаление строк без оценок игроков, критиков, а также без рейтинга может быть не лучшим вариатом. Проставить среднее значение -  не лучший варинт для пропущенных значений. Тоже самое с медианным значением. Рейтинг также не может быть заполнен данными значениями."
   ]
  },
  {
   "cell_type": "code",
   "execution_count": 32,
   "id": "ddad0d2b",
   "metadata": {},
   "outputs": [
    {
     "data": {
      "text/plain": [
       "16956"
      ]
     },
     "execution_count": 32,
     "metadata": {},
     "output_type": "execute_result"
    }
   ],
   "source": [
    "# Сохраним копию датасета перед началом обработки пустых значений, чтобы сохранить возможность обратиться \n",
    "# к первоначальному датасету\n",
    "tmp = df.copy()\n",
    "len(tmp)"
   ]
  },
  {
   "cell_type": "code",
   "execution_count": 33,
   "id": "82fabff9",
   "metadata": {},
   "outputs": [],
   "source": [
    "# Удалим строки из столбцов name и genre с пропусками\n",
    "df = df.dropna(subset=['name','genre'])"
   ]
  },
  {
   "cell_type": "code",
   "execution_count": 34,
   "id": "16874b5d",
   "metadata": {},
   "outputs": [
    {
     "data": {
      "text/plain": [
       "name                  0\n",
       "platform              0\n",
       "year_of_release     275\n",
       "genre                 0\n",
       "na_sales              0\n",
       "eu_sales              6\n",
       "jp_sales              4\n",
       "other_sales           0\n",
       "critic_score       8712\n",
       "user_score         9266\n",
       "rating             6869\n",
       "dtype: int64"
      ]
     },
     "execution_count": 34,
     "metadata": {},
     "output_type": "execute_result"
    }
   ],
   "source": [
    "# Проверим пропущенные значения в датафрейме \n",
    "df.isna().sum()"
   ]
  },
  {
   "cell_type": "code",
   "execution_count": 35,
   "id": "6fada609",
   "metadata": {},
   "outputs": [],
   "source": [
    "# Удалим строки из столбцa year_of_release с пропусками\n",
    "df = df.dropna(subset=['year_of_release'])"
   ]
  },
  {
   "cell_type": "code",
   "execution_count": 36,
   "id": "94036665",
   "metadata": {},
   "outputs": [
    {
     "data": {
      "text/plain": [
       "name                  0\n",
       "platform              0\n",
       "year_of_release       0\n",
       "genre                 0\n",
       "na_sales              0\n",
       "eu_sales              6\n",
       "jp_sales              4\n",
       "other_sales           0\n",
       "critic_score       8594\n",
       "user_score         9121\n",
       "rating             6778\n",
       "dtype: int64"
      ]
     },
     "execution_count": 36,
     "metadata": {},
     "output_type": "execute_result"
    }
   ],
   "source": [
    "# Проверим пропущенные значения в датафрейме \n",
    "df.isna().sum()"
   ]
  },
  {
   "cell_type": "code",
   "execution_count": 37,
   "id": "60304837",
   "metadata": {},
   "outputs": [],
   "source": [
    "# Заменим пропущенные значения в столбце rating заглушками\n",
    "df['rating'] = df['rating'].fillna('unknown')"
   ]
  },
  {
   "cell_type": "code",
   "execution_count": 38,
   "id": "d4da6593",
   "metadata": {},
   "outputs": [
    {
     "data": {
      "text/plain": [
       "array(['E', 'unknown', 'M', 'T', 'E10+', 'K-A', 'AO', 'EC', 'RP'],\n",
       "      dtype=object)"
      ]
     },
     "execution_count": 38,
     "metadata": {},
     "output_type": "execute_result"
    }
   ],
   "source": [
    "# Проверим уникуальные значения\n",
    "df['rating'].unique()"
   ]
  },
  {
   "cell_type": "code",
   "execution_count": 39,
   "id": "1b1c6c32",
   "metadata": {},
   "outputs": [
    {
     "data": {
      "text/plain": [
       "name                  0\n",
       "platform              0\n",
       "year_of_release       0\n",
       "genre                 0\n",
       "na_sales              0\n",
       "eu_sales              6\n",
       "jp_sales              4\n",
       "other_sales           0\n",
       "critic_score       8594\n",
       "user_score         9121\n",
       "rating                0\n",
       "dtype: int64"
      ]
     },
     "execution_count": 39,
     "metadata": {},
     "output_type": "execute_result"
    }
   ],
   "source": [
    "# Проверим количество пропусков в датафрейме\n",
    "df.isna().sum()"
   ]
  },
  {
   "cell_type": "code",
   "execution_count": 40,
   "id": "e1e5f6d5",
   "metadata": {},
   "outputs": [
    {
     "data": {
      "text/plain": [
       "16679"
      ]
     },
     "execution_count": 40,
     "metadata": {},
     "output_type": "execute_result"
    }
   ],
   "source": [
    "# Проверим количество строк после удаления строк с пустыми значениями\n",
    "len(df)"
   ]
  },
  {
   "cell_type": "code",
   "execution_count": 41,
   "id": "e4f2e037",
   "metadata": {},
   "outputs": [],
   "source": [
    "# Заменим пропущенные значения в столбце critic_score цифровыми заглушками\n",
    "df['critic_score'] = df['critic_score'].fillna(-1)"
   ]
  },
  {
   "cell_type": "code",
   "execution_count": 42,
   "id": "a6e21a35",
   "metadata": {},
   "outputs": [
    {
     "data": {
      "text/plain": [
       "array([76., -1., 82., 80., 89., 58., 87., 91., 61., 97., 95., 77., 88.,\n",
       "       83., 94., 93., 85., 86., 98., 96., 90., 84., 73., 74., 78., 92.,\n",
       "       71., 72., 68., 62., 49., 67., 81., 66., 56., 79., 70., 59., 64.,\n",
       "       75., 60., 63., 69., 50., 25., 42., 44., 55., 48., 57., 29., 47.,\n",
       "       65., 54., 20., 53., 37., 38., 33., 52., 30., 32., 43., 45., 51.,\n",
       "       40., 46., 39., 34., 41., 36., 31., 27., 35., 26., 19., 28., 23.,\n",
       "       24., 21., 17., 13.])"
      ]
     },
     "execution_count": 42,
     "metadata": {},
     "output_type": "execute_result"
    }
   ],
   "source": [
    "# Проверим уникальные значения\n",
    "df['critic_score'].unique()"
   ]
  },
  {
   "cell_type": "code",
   "execution_count": 43,
   "id": "4c950e37",
   "metadata": {},
   "outputs": [],
   "source": [
    "# Меняем тип данных столбца critic_score\n",
    "df['critic_score'] = df['critic_score'].astype('int64') "
   ]
  },
  {
   "cell_type": "code",
   "execution_count": 44,
   "id": "74499ce2",
   "metadata": {},
   "outputs": [],
   "source": [
    "# Меняем тип данных столбца year_of_release\n",
    "df['year_of_release'] = df['year_of_release'].astype('int64') "
   ]
  },
  {
   "cell_type": "code",
   "execution_count": 45,
   "id": "52f024d2",
   "metadata": {},
   "outputs": [
    {
     "name": "stdout",
     "output_type": "stream",
     "text": [
      "<class 'pandas.core.frame.DataFrame'>\n",
      "Int64Index: 16679 entries, 0 to 16955\n",
      "Data columns (total 11 columns):\n",
      " #   Column           Non-Null Count  Dtype  \n",
      "---  ------           --------------  -----  \n",
      " 0   name             16679 non-null  object \n",
      " 1   platform         16679 non-null  object \n",
      " 2   year_of_release  16679 non-null  int64  \n",
      " 3   genre            16679 non-null  object \n",
      " 4   na_sales         16679 non-null  float64\n",
      " 5   eu_sales         16673 non-null  float64\n",
      " 6   jp_sales         16675 non-null  float64\n",
      " 7   other_sales      16679 non-null  float64\n",
      " 8   critic_score     16679 non-null  int64  \n",
      " 9   user_score       7558 non-null   float64\n",
      " 10  rating           16679 non-null  object \n",
      "dtypes: float64(5), int64(2), object(4)\n",
      "memory usage: 1.5+ MB\n"
     ]
    }
   ],
   "source": [
    "# Проверяем тип данных\n",
    "df.info()"
   ]
  },
  {
   "cell_type": "markdown",
   "id": "a63363fd",
   "metadata": {
    "id": "a63363fd"
   },
   "source": [
    "### 2.4. Явные и неявные дубликаты в данных\n",
    "\n",
    "- Изучите уникальные значения в категориальных данных, например с названиями жанра игры, платформы, рейтинга и года выпуска. Проверьте, встречаются ли среди данных неявные дубликаты, связанные с опечатками или разным способом написания.\n",
    "- При необходимости проведите нормализацию данных с текстовыми значениями. Названия или жанры игр можно привести к нижнему регистру, а названия рейтинга — к верхнему."
   ]
  },
  {
   "cell_type": "code",
   "execution_count": 46,
   "id": "491c9c39",
   "metadata": {
    "id": "491c9c39"
   },
   "outputs": [
    {
     "name": "stdout",
     "output_type": "stream",
     "text": [
      "name : 11426\n",
      "platform : 31\n",
      "year_of_release : 37\n",
      "genre : 24\n",
      "na_sales : 401\n",
      "eu_sales : 307\n",
      "jp_sales : 244\n",
      "other_sales : 155\n",
      "critic_score : 82\n",
      "user_score : 95\n",
      "rating : 9\n"
     ]
    }
   ],
   "source": [
    "# Находим уникальные количество уникальных значений для столбцов датафрейма\n",
    "unique_values = {col : df[col].nunique() for col in df.columns}\n",
    "for col, values in unique_values.items():\n",
    "    print(col,':',values)"
   ]
  },
  {
   "cell_type": "code",
   "execution_count": 47,
   "id": "df58c024",
   "metadata": {},
   "outputs": [
    {
     "name": "stdout",
     "output_type": "stream",
     "text": [
      "name : ['Wii Sports' 'Super Mario Bros.' 'Mario Kart Wii' ...\n",
      " 'Woody Woodpecker in Crazy Castle 5' 'LMA Manager 2007'\n",
      " 'Haitaka no Psychedelica']\n",
      "platform : ['Wii' 'NES' 'GB' 'DS' 'X360' 'PS3' 'PS2' 'SNES' 'GBA' 'PS4' '3DS' 'N64'\n",
      " 'PS' 'XB' 'PC' '2600' 'PSP' 'XOne' 'WiiU' 'GC' 'GEN' 'DC' 'PSV' 'SAT'\n",
      " 'SCD' 'WS' 'NG' 'TG16' '3DO' 'GG' 'PCFX']\n",
      "year_of_release : [2006 1985 2008 2009 1996 1989 1984 2005 1999 2007 2010 2013 2004 1990\n",
      " 1988 2002 2001 2011 1998 2015 2012 2014 1992 1997 1993 1994 1982 2016\n",
      " 2003 1986 2000 1995 1991 1981 1987 1980 1983]\n",
      "genre : ['Sports' 'Platform' 'Racing' 'Role-Playing' 'Puzzle' 'Misc' 'Shooter'\n",
      " 'Simulation' 'Action' 'Fighting' 'Adventure' 'Strategy' 'MISC'\n",
      " 'ROLE-PLAYING' 'RACING' 'ACTION' 'SHOOTER' 'FIGHTING' 'SPORTS' 'PLATFORM'\n",
      " 'ADVENTURE' 'SIMULATION' 'PUZZLE' 'STRATEGY']\n",
      "na_sales : [4.136e+01 2.908e+01 1.568e+01 1.561e+01 1.127e+01 2.320e+01 1.128e+01\n",
      " 1.396e+01 1.444e+01 2.693e+01 9.050e+00 9.710e+00 9.000e+00 8.920e+00\n",
      " 1.500e+01 9.010e+00 7.020e+00 9.430e+00 1.278e+01 4.740e+00 6.380e+00\n",
      " 1.083e+01 9.540e+00 9.660e+00 8.410e+00 6.060e+00 3.430e+00 5.510e+00\n",
      " 6.850e+00 9.040e+00 5.890e+00 6.030e+00 9.700e+00 5.280e+00 4.990e+00\n",
      " 8.250e+00 8.520e+00 5.540e+00 6.990e+00 6.620e+00 5.030e+00 5.990e+00\n",
      " 3.960e+00 2.500e+00 7.970e+00 6.910e+00 4.340e+00 4.350e+00 3.010e+00\n",
      " 6.160e+00 6.760e+00 4.020e+00 4.890e+00 2.960e+00 4.760e+00 5.010e+00\n",
      " 6.730e+00 5.950e+00 3.660e+00 5.550e+00 7.040e+00 6.650e+00 3.880e+00\n",
      " 5.800e+00 4.100e+00 5.930e+00 4.360e+00 5.700e+00 2.030e+00 4.400e+00\n",
      " 5.050e+00 3.540e+00 1.120e+00 6.820e+00 1.750e+00 3.740e+00 1.060e+00\n",
      " 2.790e+00 2.910e+00 9.900e-01 2.570e+00 2.990e+00 2.280e+00 7.280e+00\n",
      " 2.760e+00 2.900e+00 2.810e+00 6.600e-01 3.780e+00 3.270e+00 3.560e+00\n",
      " 5.390e+00 4.590e+00 4.810e+00 4.460e+00 3.480e+00 2.850e+00 2.530e+00\n",
      " 2.980e+00 3.680e+00 3.150e+00 4.410e+00 4.120e+00 2.710e+00 2.930e+00\n",
      " 3.230e+00 4.050e+00 4.150e+00 2.770e+00 3.450e+00 3.110e+00 8.400e-01\n",
      " 1.660e+00 7.800e-01 2.640e+00 3.170e+00 4.980e+00 2.550e+00 3.640e+00\n",
      " 3.700e+00 4.010e+00 2.470e+00 8.000e-02 3.920e+00 8.000e-01 2.450e+00\n",
      " 4.470e+00 3.180e+00 2.630e+00 1.880e+00 2.410e+00 2.800e+00 6.300e-01\n",
      " 2.260e+00 2.490e+00 3.570e+00 3.070e+00 2.970e+00 2.950e+00 2.540e+00\n",
      " 3.280e+00 3.140e+00 4.700e-01 2.620e+00 3.210e+00 2.070e+00 2.730e+00\n",
      " 1.850e+00 2.180e+00 1.740e+00 3.020e+00 1.620e+00 3.130e+00 1.920e+00\n",
      " 3.330e+00 3.220e+00 2.300e+00 9.700e-01 6.500e-01 1.210e+00 1.090e+00\n",
      " 2.100e+00 2.440e+00 1.980e+00 3.810e+00 3.590e+00 1.630e+00 1.960e+00\n",
      " 3.400e+00 6.100e-01 2.050e+00 1.700e+00 3.420e+00 3.360e+00 3.490e+00\n",
      " 3.050e+00 1.830e+00 2.310e+00 3.980e+00 0.000e+00 2.600e+00 1.910e+00\n",
      " 2.740e+00 2.830e+00 2.360e+00 1.730e+00 1.940e+00 2.290e+00 1.820e+00\n",
      " 2.420e+00 3.040e+00 1.800e+00 2.080e+00 1.870e+00 4.180e+00 3.190e+00\n",
      " 4.210e+00 3.630e+00 2.780e+00 2.000e-01 1.610e+00 1.540e+00 2.520e+00\n",
      " 2.660e+00 1.000e-01 2.820e+00 2.190e+00 1.560e+00 3.030e+00 2.200e+00\n",
      " 2.090e+00 2.110e+00 1.480e+00 4.000e+00 5.800e-01 2.510e+00 3.000e+00\n",
      " 2.240e+00 1.460e+00 1.410e+00 9.200e-01 8.800e-01 1.280e+00 2.250e+00\n",
      " 3.380e+00 2.040e+00 3.790e+00 4.030e+00 1.650e+00 7.100e-01 1.420e+00\n",
      " 1.100e+00 2.320e+00 1.200e-01 2.350e+00 2.120e+00 1.400e+00 1.680e+00\n",
      " 1.130e+00 1.220e+00 2.670e+00 1.020e+00 1.190e+00 1.530e+00 2.150e+00\n",
      " 9.000e-01 1.970e+00 6.800e-01 1.160e+00 9.300e-01 1.440e+00 1.600e-01\n",
      " 2.130e+00 2.210e+00 1.780e+00 8.600e-01 1.350e+00 1.050e+00 2.230e+00\n",
      " 2.400e+00 1.370e+00 1.300e+00 1.950e+00 1.930e+00 1.330e+00 1.490e+00\n",
      " 1.580e+00 5.000e-02 6.000e-01 2.020e+00 2.380e+00 1.600e+00 2.010e+00\n",
      " 1.570e+00 1.230e+00 1.900e+00 2.140e+00 1.170e+00 2.270e+00 1.640e+00\n",
      " 5.900e-01 1.550e+00 4.600e-01 8.100e-01 1.450e+00 2.700e-01 1.470e+00\n",
      " 1.990e+00 1.500e+00 9.000e-02 2.610e+00 1.890e+00 5.000e-01 8.900e-01\n",
      " 9.500e-01 2.340e+00 7.200e-01 1.720e+00 1.180e+00 1.760e+00 7.300e-01\n",
      " 1.270e+00 2.060e+00 5.500e-01 1.520e+00 1.690e+00 2.170e+00 5.100e-01\n",
      " 1.000e+00 1.290e+00 1.380e+00 1.150e+00 1.670e+00 1.360e+00 1.010e+00\n",
      " 1.040e+00 1.840e+00 2.220e+00 7.900e-01 1.510e+00 1.070e+00 1.320e+00\n",
      " 1.590e+00 2.000e-02 2.900e-01 1.250e+00 2.560e+00 1.430e+00 1.200e+00\n",
      " 4.100e-01 2.800e-01 4.300e-01 6.900e-01 2.000e+00 7.600e-01 1.860e+00\n",
      " 4.800e-01 6.200e-01 1.310e+00 3.700e-01 1.500e-01 6.400e-01 2.600e-01\n",
      " 4.900e-01 1.110e+00 1.300e-01 1.810e+00 1.030e+00 1.260e+00 8.700e-01\n",
      " 7.700e-01 9.600e-01 1.390e+00 1.080e+00 8.500e-01 9.100e-01 3.000e-01\n",
      " 3.800e-01 9.400e-01 7.000e-02 1.340e+00 1.240e+00 3.400e-01 1.400e-01\n",
      " 1.000e-02 5.200e-01 8.200e-01 8.300e-01 1.100e-01 2.500e-01 1.770e+00\n",
      " 3.600e-01 7.500e-01 7.400e-01 1.800e-01 2.200e-01 5.300e-01 4.200e-01\n",
      " 3.200e-01 3.900e-01 2.400e-01 2.300e-01 6.000e-02 4.500e-01 7.000e-01\n",
      " 6.700e-01 3.500e-01 5.600e-01 1.140e+00 9.800e-01 5.700e-01 5.400e-01\n",
      " 4.000e-02 1.700e-01 4.400e-01 3.000e-02 3.300e-01 3.100e-01 4.000e-01\n",
      " 2.100e-01 1.900e-01]\n",
      "eu_sales : [2.896e+01 3.580e+00 1.276e+01 1.093e+01 8.890e+00 2.260e+00 9.140e+00\n",
      " 9.180e+00 6.940e+00 6.300e-01 1.095e+01 7.470e+00 6.180e+00 8.030e+00\n",
      " 4.890e+00 8.490e+00 9.090e+00 4.000e-01 3.750e+00 9.200e+00 4.460e+00\n",
      " 2.710e+00 3.440e+00 5.140e+00 5.490e+00 3.900e+00 5.350e+00 3.170e+00\n",
      " 5.090e+00 4.240e+00 5.040e+00 5.860e+00 3.680e+00 4.190e+00 5.730e+00\n",
      " 3.590e+00 4.510e+00 2.550e+00 4.020e+00 4.370e+00 6.310e+00 3.450e+00\n",
      " 2.810e+00 2.850e+00 3.490e+00 1.000e-02 3.350e+00 2.040e+00 3.070e+00\n",
      " 3.870e+00 3.000e+00 4.820e+00 3.640e+00 2.150e+00 3.690e+00 2.650e+00\n",
      " 2.560e+00 3.110e+00 3.140e+00 1.940e+00 1.950e+00 2.470e+00 2.280e+00\n",
      " 3.420e+00 3.630e+00 2.360e+00 1.710e+00 1.850e+00 2.790e+00 1.240e+00\n",
      " 6.120e+00 1.530e+00 3.470e+00 2.240e+00 5.010e+00 2.010e+00 1.720e+00\n",
      " 2.070e+00 6.420e+00 3.860e+00 4.500e-01 3.480e+00 1.890e+00 5.750e+00\n",
      " 2.170e+00 1.370e+00 2.350e+00 1.180e+00 2.110e+00 1.880e+00 2.830e+00\n",
      " 2.990e+00 2.890e+00 3.270e+00 2.220e+00 2.140e+00 1.450e+00 1.750e+00\n",
      " 1.040e+00 1.770e+00 3.020e+00 2.750e+00 2.160e+00 1.900e+00 2.590e+00\n",
      " 2.200e+00 4.300e+00 9.300e-01 2.530e+00 2.520e+00 1.790e+00 1.300e+00\n",
      " 2.600e+00 1.580e+00 1.200e+00 1.560e+00 1.340e+00 1.260e+00 8.300e-01\n",
      " 6.210e+00 2.800e+00 1.590e+00 1.730e+00 4.330e+00 1.830e+00 0.000e+00\n",
      " 2.180e+00 1.980e+00 1.470e+00 6.700e-01 1.550e+00 1.910e+00 6.900e-01\n",
      " 6.000e-01 1.930e+00 1.640e+00 5.500e-01 2.190e+00 1.110e+00 2.290e+00\n",
      " 2.500e+00 9.600e-01 1.210e+00 1.120e+00 7.700e-01 1.690e+00 1.080e+00\n",
      " 7.900e-01 2.370e+00 2.460e+00 7.500e-01 1.250e+00 2.430e+00 9.800e-01\n",
      " 7.400e-01 2.230e+00 6.100e-01 2.450e+00 1.410e+00 1.800e+00 3.280e+00\n",
      " 1.160e+00 1.990e+00 1.380e+00 1.360e+00 1.170e+00 1.190e+00 9.900e-01\n",
      " 2.600e-01 1.680e+00 2.000e+00 1.330e+00 1.570e+00 1.480e+00 2.100e+00\n",
      " 1.270e+00 1.970e+00 9.100e-01 1.390e+00 1.960e+00 2.400e-01 1.510e+00\n",
      " 1.400e-01 1.290e+00 2.390e+00 1.030e+00 5.000e-01 5.800e-01 1.310e+00\n",
      " 2.020e+00 1.320e+00 1.010e+00 2.270e+00 2.300e+00 1.820e+00 2.780e+00\n",
      " 4.400e-01 4.800e-01 2.700e-01 2.100e-01 2.480e+00 5.100e-01 1.520e+00\n",
      " 4.000e-02 2.800e-01 1.350e+00 8.700e-01 2.130e+00 1.130e+00 1.760e+00\n",
      " 7.600e-01 2.120e+00 6.600e-01 1.600e+00 1.440e+00 1.430e+00 1.700e+00\n",
      " 4.700e-01 1.870e+00 8.600e-01 7.300e-01 1.280e+00 8.100e-01 1.090e+00\n",
      " 6.800e-01 1.220e+00 1.400e+00 1.020e+00 1.490e+00 1.140e+00 4.900e-01\n",
      " 9.000e-01 3.800e-01 1.420e+00 9.500e-01 1.620e+00 7.100e-01 1.050e+00\n",
      " 9.200e-01 3.300e-01 3.000e-01 1.670e+00 1.000e+00 8.900e-01 1.000e-01\n",
      " 7.200e-01 5.900e-01 5.600e-01 1.600e-01 9.700e-01 6.200e-01       nan\n",
      " 8.500e-01 9.400e-01 8.800e-01 8.400e-01 1.060e+00 2.000e-01 1.150e+00\n",
      " 8.000e-01 1.100e+00 7.000e-01 1.920e+00 3.200e-01 1.500e-01 5.300e-01\n",
      " 9.000e-02 1.460e+00 2.900e-01 2.200e-01 1.230e+00 7.000e-02 1.700e-01\n",
      " 5.400e-01 3.600e-01 3.100e-01 1.840e+00 5.200e-01 1.100e-01 6.400e-01\n",
      " 1.200e-01 2.050e+00 1.630e+00 8.200e-01 8.000e-02 5.700e-01 1.650e+00\n",
      " 1.900e-01 2.000e-02 4.300e-01 2.500e-01 1.500e+00 1.800e-01 3.900e-01\n",
      " 1.300e-01 1.070e+00 4.600e-01 4.100e-01 6.000e-02 3.000e-02 3.700e-01\n",
      " 5.000e-02 2.300e-01 6.500e-01 4.200e-01 3.400e-01 3.500e-01 7.800e-01]\n",
      "jp_sales : [3.770e+00 6.810e+00 3.790e+00 3.280e+00 1.022e+01 4.220e+00 6.500e+00\n",
      " 2.930e+00 4.700e+00 2.800e-01 1.930e+00 4.130e+00 7.200e+00 3.600e+00\n",
      " 2.400e-01 2.530e+00 9.800e-01 4.100e-01 3.540e+00 4.160e+00 6.040e+00\n",
      " 4.180e+00 3.840e+00 6.000e-02 4.700e-01 5.380e+00 5.320e+00 5.650e+00\n",
      " 1.870e+00 1.300e-01 3.120e+00 3.600e-01 1.100e-01 4.350e+00 6.500e-01\n",
      " 7.000e-02 8.000e-02 4.900e-01 3.000e-01 2.660e+00 2.690e+00 4.800e-01\n",
      " 3.800e-01 5.330e+00 1.910e+00 3.960e+00 3.100e+00 1.100e+00 1.200e+00\n",
      " 1.400e-01 2.540e+00 2.140e+00 8.100e-01 2.120e+00 4.400e-01 3.150e+00\n",
      " 1.250e+00 4.000e-02 0.000e+00 2.470e+00 2.230e+00 1.690e+00 1.000e-02\n",
      " 3.000e+00 2.000e-02 4.390e+00 1.980e+00 1.000e-01 3.810e+00 5.000e-02\n",
      " 2.490e+00 1.580e+00 3.140e+00 2.730e+00 6.600e-01 2.200e-01 3.630e+00\n",
      " 1.450e+00 1.310e+00 2.430e+00 7.000e-01 3.500e-01 1.400e+00 6.000e-01\n",
      " 2.260e+00 1.420e+00 1.280e+00 1.390e+00 8.700e-01 1.700e-01 9.400e-01\n",
      " 1.900e-01 2.100e-01 1.600e+00 1.600e-01 1.030e+00 2.500e-01 2.060e+00\n",
      " 1.490e+00 1.290e+00 9.000e-02 2.870e+00 3.000e-02 7.800e-01 8.300e-01\n",
      " 2.330e+00 2.020e+00 1.360e+00 1.810e+00 1.970e+00 9.100e-01 9.900e-01\n",
      " 9.500e-01 2.000e+00 1.010e+00 2.780e+00 2.110e+00 1.090e+00 2.000e-01\n",
      " 1.900e+00 1.270e+00 3.610e+00 1.570e+00 2.200e+00 1.700e+00 1.080e+00\n",
      " 1.500e-01 1.110e+00 2.900e-01 1.540e+00 1.200e-01 8.900e-01 4.870e+00\n",
      " 1.520e+00 1.320e+00 1.150e+00 4.100e+00 1.460e+00 4.600e-01 1.050e+00\n",
      " 1.610e+00 2.600e-01 1.380e+00 6.200e-01 7.300e-01 5.700e-01 3.100e-01\n",
      " 5.800e-01 1.760e+00 2.100e+00 9.000e-01 5.100e-01 6.400e-01 2.460e+00\n",
      " 2.300e-01 3.700e-01 9.200e-01 1.070e+00 2.620e+00 1.120e+00 5.400e-01\n",
      " 2.700e-01 5.900e-01 3.670e+00 5.500e-01 1.750e+00 3.440e+00 3.300e-01\n",
      " 2.550e+00 2.320e+00 2.790e+00 7.400e-01 3.180e+00 8.200e-01 7.700e-01\n",
      " 4.000e-01 2.350e+00 3.190e+00 8.000e-01 7.600e-01 3.030e+00 8.800e-01\n",
      "       nan 4.500e-01 1.160e+00 3.400e-01 1.190e+00 1.130e+00 2.130e+00\n",
      " 1.960e+00 7.100e-01 1.040e+00 2.680e+00 6.800e-01 2.650e+00 9.600e-01\n",
      " 2.410e+00 5.200e-01 1.800e-01 1.340e+00 1.480e+00 2.340e+00 1.060e+00\n",
      " 1.210e+00 2.290e+00 1.630e+00 2.050e+00 2.170e+00 1.560e+00 1.350e+00\n",
      " 1.330e+00 6.300e-01 7.900e-01 7.500e-01 5.300e-01 1.530e+00 1.300e+00\n",
      " 3.900e-01 6.900e-01 4.200e-01 9.300e-01 5.600e-01 8.400e-01 7.200e-01\n",
      " 3.200e-01 1.710e+00 1.650e+00 6.100e-01 1.510e+00 1.500e+00 1.440e+00\n",
      " 1.240e+00 1.180e+00 1.370e+00 1.000e+00 1.260e+00 8.500e-01 4.300e-01\n",
      " 6.700e-01 1.140e+00 8.600e-01 1.170e+00 5.000e-01 1.020e+00 9.700e-01]\n",
      "other_sales : [8.450e+00 7.700e-01 3.290e+00 2.950e+00 1.000e+00 5.800e-01 2.880e+00\n",
      " 2.840e+00 2.240e+00 4.700e-01 2.740e+00 1.900e+00 7.100e-01 2.150e+00\n",
      " 1.690e+00 1.770e+00 3.960e+00 1.057e+01 5.500e-01 2.040e+00 1.360e+00\n",
      " 4.200e-01 4.600e-01 1.410e+00 1.780e+00 5.000e-01 1.180e+00 8.000e-01\n",
      " 1.160e+00 1.320e+00 5.900e-01 2.380e+00 1.130e+00 7.800e-01 2.420e+00\n",
      " 1.120e+00 1.280e+00 1.570e+00 1.300e+00 1.010e+00 9.100e-01 1.790e+00\n",
      " 1.970e+00 8.600e-01 1.210e+00 2.300e-01 7.600e-01 7.400e-01 7.530e+00\n",
      " 2.900e-01 1.030e+00 5.200e-01 2.110e+00 1.600e+00 1.610e+00 3.500e-01\n",
      " 9.700e-01 1.060e+00 6.300e-01 1.500e-01 7.900e-01 9.600e-01 1.250e+00\n",
      " 9.000e-01 8.100e-01 3.900e-01 6.800e-01 8.500e-01 1.800e-01 8.000e-02\n",
      " 6.700e-01 7.000e-01 4.100e-01 3.300e-01 6.000e-01 5.400e-01 1.730e+00\n",
      " 1.230e+00 1.600e-01 1.110e+00 3.100e-01 4.800e-01 6.200e-01 1.900e-01\n",
      " 6.900e-01 1.020e+00 7.300e-01 1.080e+00 4.500e-01 2.800e-01 5.100e-01\n",
      " 2.200e-01 1.090e+00 9.900e-01 3.000e-01 6.400e-01 6.600e-01 9.800e-01\n",
      " 1.390e+00 1.400e-01 1.370e+00 7.000e-02 2.100e-01 6.100e-01 1.700e-01\n",
      " 1.200e-01 0.000e+00 7.200e-01 2.400e-01 8.200e-01 1.740e+00 8.700e-01\n",
      " 9.200e-01 5.700e-01 1.100e-01 4.000e-02 5.600e-01 2.000e-01 3.400e-01\n",
      " 9.000e-02 8.300e-01 4.400e-01 6.000e-02 3.200e-01 3.800e-01 1.480e+00\n",
      " 3.700e-01 1.000e-01 2.500e-01 3.600e-01 1.300e-01 4.300e-01 5.000e-02\n",
      " 2.000e-02 2.600e-01 4.000e-01 7.500e-01 1.930e+00 8.400e-01 5.300e-01\n",
      " 8.900e-01 1.670e+00 2.700e-01 2.930e+00 4.900e-01 1.000e-02 2.460e+00\n",
      " 3.000e-02 1.510e+00 2.050e+00 1.680e+00 1.820e+00 1.330e+00 9.400e-01\n",
      " 9.300e-01]\n",
      "critic_score : [76 -1 82 80 89 58 87 91 61 97 95 77 88 83 94 93 85 86 98 96 90 84 73 74\n",
      " 78 92 71 72 68 62 49 67 81 66 56 79 70 59 64 75 60 63 69 50 25 42 44 55\n",
      " 48 57 29 47 65 54 20 53 37 38 33 52 30 32 43 45 51 40 46 39 34 41 36 31\n",
      " 27 35 26 19 28 23 24 21 17 13]\n",
      "user_score : [8.  nan 8.3 8.5 6.6 8.4 8.6 7.7 6.3 7.4 8.2 9.  7.9 8.1 8.7 7.1 3.4 5.3\n",
      " 4.8 3.2 8.9 6.4 7.8 7.5 2.6 7.2 9.2 7.  7.3 4.3 7.6 5.7 5.  9.1 6.5 8.8\n",
      " 6.9 9.4 6.8 6.1 6.7 5.4 4.  4.9 4.5 9.3 6.2 4.2 6.  3.7 4.1 5.8 5.6 5.5\n",
      " 4.4 4.6 5.9 3.9 3.1 2.9 5.2 3.3 4.7 5.1 3.5 2.5 1.9 3.  2.7 2.2 2.  9.5\n",
      " 2.1 3.6 2.8 1.8 3.8 0.  1.6 9.6 2.4 1.7 1.1 0.3 1.5 0.7 1.2 2.3 0.5 1.3\n",
      " 0.2 0.6 1.4 0.9 1.  9.7]\n",
      "rating : ['E' 'unknown' 'M' 'T' 'E10+' 'K-A' 'AO' 'EC' 'RP']\n"
     ]
    }
   ],
   "source": [
    "# # Находим уникальные значения для столбцов датафрейма\n",
    "unique_values = {col : df[col].unique() for col in df.columns}\n",
    "for col, values in unique_values.items():\n",
    "    print(col,':',values)"
   ]
  },
  {
   "cell_type": "code",
   "execution_count": 48,
   "id": "69ddae1c",
   "metadata": {},
   "outputs": [],
   "source": [
    "# Проводим нормализацию данных в столбцах name, genre, rating\n",
    "df['name'] = df['name'].str.lower()\n",
    "df['genre'] = df['genre'].str.lower()\n",
    "df['rating'] = df['rating'].str.upper() "
   ]
  },
  {
   "cell_type": "code",
   "execution_count": 49,
   "id": "cda3ec2d",
   "metadata": {},
   "outputs": [
    {
     "name": "stdout",
     "output_type": "stream",
     "text": [
      "name : 11426\n",
      "platform : 31\n",
      "year_of_release : 37\n",
      "genre : 12\n",
      "na_sales : 401\n",
      "eu_sales : 307\n",
      "jp_sales : 244\n",
      "other_sales : 155\n",
      "critic_score : 82\n",
      "user_score : 95\n",
      "rating : 9\n"
     ]
    }
   ],
   "source": [
    "# Заново проверим на количество уникальных значений\n",
    "unique_values = {col : df[col].nunique() for col in df.columns}\n",
    "for col, values in unique_values.items():\n",
    "    print(col,':',values)"
   ]
  },
  {
   "cell_type": "markdown",
   "id": "d2d1eaf8",
   "metadata": {},
   "source": [
    "Как видим, количество жанров сократилось в 2 раза. При этом количество уникальных наименований и уникальных рейтингов не изменилось "
   ]
  },
  {
   "cell_type": "markdown",
   "id": "fc3d3db4",
   "metadata": {
    "id": "fc3d3db4"
   },
   "source": [
    "- После того как нормализуете данные и устраните неявные дубликаты, проверьте наличие явных дубликатов в данных."
   ]
  },
  {
   "cell_type": "code",
   "execution_count": 50,
   "id": "dcd1628e",
   "metadata": {},
   "outputs": [
    {
     "data": {
      "text/plain": [
       "235"
      ]
     },
     "execution_count": 50,
     "metadata": {},
     "output_type": "execute_result"
    }
   ],
   "source": [
    "#Находим число явных дубликатов\n",
    "df.duplicated().sum()\n"
   ]
  },
  {
   "cell_type": "code",
   "execution_count": 51,
   "id": "2f61e076",
   "metadata": {
    "id": "2f61e076"
   },
   "outputs": [
    {
     "data": {
      "text/html": [
       "<div>\n",
       "<style scoped>\n",
       "    .dataframe tbody tr th:only-of-type {\n",
       "        vertical-align: middle;\n",
       "    }\n",
       "\n",
       "    .dataframe tbody tr th {\n",
       "        vertical-align: top;\n",
       "    }\n",
       "\n",
       "    .dataframe thead th {\n",
       "        text-align: right;\n",
       "    }\n",
       "</style>\n",
       "<table border=\"1\" class=\"dataframe\">\n",
       "  <thead>\n",
       "    <tr style=\"text-align: right;\">\n",
       "      <th></th>\n",
       "      <th>name</th>\n",
       "      <th>platform</th>\n",
       "      <th>year_of_release</th>\n",
       "      <th>genre</th>\n",
       "      <th>na_sales</th>\n",
       "      <th>eu_sales</th>\n",
       "      <th>jp_sales</th>\n",
       "      <th>other_sales</th>\n",
       "      <th>critic_score</th>\n",
       "      <th>user_score</th>\n",
       "      <th>rating</th>\n",
       "    </tr>\n",
       "  </thead>\n",
       "  <tbody>\n",
       "    <tr>\n",
       "      <th>15192</th>\n",
       "      <td>beyblade burst</td>\n",
       "      <td>3DS</td>\n",
       "      <td>2016</td>\n",
       "      <td>role-playing</td>\n",
       "      <td>0.00</td>\n",
       "      <td>0.00</td>\n",
       "      <td>0.03</td>\n",
       "      <td>0.00</td>\n",
       "      <td>-1</td>\n",
       "      <td>NaN</td>\n",
       "      <td>UNKNOWN</td>\n",
       "    </tr>\n",
       "    <tr>\n",
       "      <th>15302</th>\n",
       "      <td>11eyes: crossover</td>\n",
       "      <td>X360</td>\n",
       "      <td>2009</td>\n",
       "      <td>adventure</td>\n",
       "      <td>0.00</td>\n",
       "      <td>0.00</td>\n",
       "      <td>0.02</td>\n",
       "      <td>0.00</td>\n",
       "      <td>-1</td>\n",
       "      <td>NaN</td>\n",
       "      <td>UNKNOWN</td>\n",
       "    </tr>\n",
       "    <tr>\n",
       "      <th>4861</th>\n",
       "      <td>18 wheeler: american pro trucker</td>\n",
       "      <td>PS2</td>\n",
       "      <td>2001</td>\n",
       "      <td>racing</td>\n",
       "      <td>0.20</td>\n",
       "      <td>0.15</td>\n",
       "      <td>0.00</td>\n",
       "      <td>0.05</td>\n",
       "      <td>61</td>\n",
       "      <td>5.7</td>\n",
       "      <td>E</td>\n",
       "    </tr>\n",
       "    <tr>\n",
       "      <th>13099</th>\n",
       "      <td>4 elements</td>\n",
       "      <td>PC</td>\n",
       "      <td>2009</td>\n",
       "      <td>puzzle</td>\n",
       "      <td>0.00</td>\n",
       "      <td>0.04</td>\n",
       "      <td>0.00</td>\n",
       "      <td>0.01</td>\n",
       "      <td>-1</td>\n",
       "      <td>7.4</td>\n",
       "      <td>E</td>\n",
       "    </tr>\n",
       "    <tr>\n",
       "      <th>5236</th>\n",
       "      <td>999: nine hours, nine persons, nine doors</td>\n",
       "      <td>DS</td>\n",
       "      <td>2009</td>\n",
       "      <td>adventure</td>\n",
       "      <td>0.31</td>\n",
       "      <td>0.00</td>\n",
       "      <td>0.03</td>\n",
       "      <td>0.02</td>\n",
       "      <td>-1</td>\n",
       "      <td>NaN</td>\n",
       "      <td>UNKNOWN</td>\n",
       "    </tr>\n",
       "    <tr>\n",
       "      <th>...</th>\n",
       "      <td>...</td>\n",
       "      <td>...</td>\n",
       "      <td>...</td>\n",
       "      <td>...</td>\n",
       "      <td>...</td>\n",
       "      <td>...</td>\n",
       "      <td>...</td>\n",
       "      <td>...</td>\n",
       "      <td>...</td>\n",
       "      <td>...</td>\n",
       "      <td>...</td>\n",
       "    </tr>\n",
       "    <tr>\n",
       "      <th>16104</th>\n",
       "      <td>yoake yori ruriiro na portable</td>\n",
       "      <td>PSP</td>\n",
       "      <td>2010</td>\n",
       "      <td>adventure</td>\n",
       "      <td>0.00</td>\n",
       "      <td>0.00</td>\n",
       "      <td>0.02</td>\n",
       "      <td>0.00</td>\n",
       "      <td>-1</td>\n",
       "      <td>NaN</td>\n",
       "      <td>UNKNOWN</td>\n",
       "    </tr>\n",
       "    <tr>\n",
       "      <th>10662</th>\n",
       "      <td>yu-gi-oh! 5d's wheelie breakers</td>\n",
       "      <td>Wii</td>\n",
       "      <td>2009</td>\n",
       "      <td>racing</td>\n",
       "      <td>0.09</td>\n",
       "      <td>0.01</td>\n",
       "      <td>0.00</td>\n",
       "      <td>0.01</td>\n",
       "      <td>-1</td>\n",
       "      <td>NaN</td>\n",
       "      <td>UNKNOWN</td>\n",
       "    </tr>\n",
       "    <tr>\n",
       "      <th>2909</th>\n",
       "      <td>yu-gi-oh! the falsebound kingdom</td>\n",
       "      <td>GC</td>\n",
       "      <td>2002</td>\n",
       "      <td>strategy</td>\n",
       "      <td>0.49</td>\n",
       "      <td>0.13</td>\n",
       "      <td>0.07</td>\n",
       "      <td>0.02</td>\n",
       "      <td>-1</td>\n",
       "      <td>NaN</td>\n",
       "      <td>UNKNOWN</td>\n",
       "    </tr>\n",
       "    <tr>\n",
       "      <th>6696</th>\n",
       "      <td>zoo resort 3d</td>\n",
       "      <td>3DS</td>\n",
       "      <td>2011</td>\n",
       "      <td>simulation</td>\n",
       "      <td>0.11</td>\n",
       "      <td>0.09</td>\n",
       "      <td>0.03</td>\n",
       "      <td>0.02</td>\n",
       "      <td>-1</td>\n",
       "      <td>NaN</td>\n",
       "      <td>E</td>\n",
       "    </tr>\n",
       "    <tr>\n",
       "      <th>8157</th>\n",
       "      <td>zumba fitness rush</td>\n",
       "      <td>X360</td>\n",
       "      <td>2012</td>\n",
       "      <td>sports</td>\n",
       "      <td>0.00</td>\n",
       "      <td>0.16</td>\n",
       "      <td>0.00</td>\n",
       "      <td>0.02</td>\n",
       "      <td>73</td>\n",
       "      <td>6.2</td>\n",
       "      <td>E10+</td>\n",
       "    </tr>\n",
       "  </tbody>\n",
       "</table>\n",
       "<p>235 rows × 11 columns</p>\n",
       "</div>"
      ],
      "text/plain": [
       "                                            name platform  year_of_release  \\\n",
       "15192                             beyblade burst      3DS             2016   \n",
       "15302                          11eyes: crossover     X360             2009   \n",
       "4861            18 wheeler: american pro trucker      PS2             2001   \n",
       "13099                                 4 elements       PC             2009   \n",
       "5236   999: nine hours, nine persons, nine doors       DS             2009   \n",
       "...                                          ...      ...              ...   \n",
       "16104             yoake yori ruriiro na portable      PSP             2010   \n",
       "10662            yu-gi-oh! 5d's wheelie breakers      Wii             2009   \n",
       "2909            yu-gi-oh! the falsebound kingdom       GC             2002   \n",
       "6696                               zoo resort 3d      3DS             2011   \n",
       "8157                          zumba fitness rush     X360             2012   \n",
       "\n",
       "              genre  na_sales  eu_sales  jp_sales  other_sales  critic_score  \\\n",
       "15192  role-playing      0.00      0.00      0.03         0.00            -1   \n",
       "15302     adventure      0.00      0.00      0.02         0.00            -1   \n",
       "4861         racing      0.20      0.15      0.00         0.05            61   \n",
       "13099        puzzle      0.00      0.04      0.00         0.01            -1   \n",
       "5236      adventure      0.31      0.00      0.03         0.02            -1   \n",
       "...             ...       ...       ...       ...          ...           ...   \n",
       "16104     adventure      0.00      0.00      0.02         0.00            -1   \n",
       "10662        racing      0.09      0.01      0.00         0.01            -1   \n",
       "2909       strategy      0.49      0.13      0.07         0.02            -1   \n",
       "6696     simulation      0.11      0.09      0.03         0.02            -1   \n",
       "8157         sports      0.00      0.16      0.00         0.02            73   \n",
       "\n",
       "       user_score   rating  \n",
       "15192         NaN  UNKNOWN  \n",
       "15302         NaN  UNKNOWN  \n",
       "4861          5.7        E  \n",
       "13099         7.4        E  \n",
       "5236          NaN  UNKNOWN  \n",
       "...           ...      ...  \n",
       "16104         NaN  UNKNOWN  \n",
       "10662         NaN  UNKNOWN  \n",
       "2909          NaN  UNKNOWN  \n",
       "6696          NaN        E  \n",
       "8157          6.2     E10+  \n",
       "\n",
       "[235 rows x 11 columns]"
      ]
     },
     "execution_count": 51,
     "metadata": {},
     "output_type": "execute_result"
    }
   ],
   "source": [
    "# Находим строки-дубликаты\n",
    "df= df.sort_values(by=df.columns.tolist())\n",
    "duplicates = df[df.duplicated()]\n",
    "duplicates"
   ]
  },
  {
   "cell_type": "code",
   "execution_count": 52,
   "id": "29e57705",
   "metadata": {
    "id": "29e57705"
   },
   "outputs": [
    {
     "data": {
      "text/plain": [
       "16444"
      ]
     },
     "execution_count": 52,
     "metadata": {},
     "output_type": "execute_result"
    }
   ],
   "source": [
    "# Удаляем строки дубликаты\n",
    "df_no_duplicates = df.drop_duplicates()\n",
    "df_no_duplicates.shape[0]"
   ]
  },
  {
   "cell_type": "code",
   "execution_count": 53,
   "id": "9d46811d",
   "metadata": {},
   "outputs": [
    {
     "name": "stdout",
     "output_type": "stream",
     "text": [
      "<class 'pandas.core.frame.DataFrame'>\n",
      "Int64Index: 16444 entries, 15191 to 9260\n",
      "Data columns (total 11 columns):\n",
      " #   Column           Non-Null Count  Dtype  \n",
      "---  ------           --------------  -----  \n",
      " 0   name             16444 non-null  object \n",
      " 1   platform         16444 non-null  object \n",
      " 2   year_of_release  16444 non-null  int64  \n",
      " 3   genre            16444 non-null  object \n",
      " 4   na_sales         16444 non-null  float64\n",
      " 5   eu_sales         16438 non-null  float64\n",
      " 6   jp_sales         16440 non-null  float64\n",
      " 7   other_sales      16444 non-null  float64\n",
      " 8   critic_score     16444 non-null  int64  \n",
      " 9   user_score       7463 non-null   float64\n",
      " 10  rating           16444 non-null  object \n",
      "dtypes: float64(5), int64(2), object(4)\n",
      "memory usage: 1.5+ MB\n"
     ]
    }
   ],
   "source": [
    "# Проверяем общую информацию о новом датафрейме\n",
    "df_no_duplicates.info()"
   ]
  },
  {
   "cell_type": "markdown",
   "id": "54616bae",
   "metadata": {
    "id": "54616bae"
   },
   "source": [
    "- Напишите промежуточный вывод: укажите количество найденных дубликатов и действия по их обработке."
   ]
  },
  {
   "cell_type": "markdown",
   "id": "9ee11f19",
   "metadata": {
    "id": "8548f894"
   },
   "source": [
    "**Промежуточный выовод:** количество дубликатов было равно 235. При обработке мы отсортировали датафрейм,вывели новый датафрейм с дубликатами и создали новый датафрейм, где сохранили \"оригинал\" и удалили его дубликат. "
   ]
  },
  {
   "cell_type": "markdown",
   "id": "72645ae9",
   "metadata": {
    "id": "72645ae9"
   },
   "source": [
    "- В процессе подготовки данных вы могли что-либо удалять, например строки с пропусками или ошибками, дубликаты и прочее. В этом случае посчитайте количество удалённых строк в абсолютном и относительном значениях."
   ]
  },
  {
   "cell_type": "code",
   "execution_count": 54,
   "id": "f9d8ee19",
   "metadata": {
    "id": "f9d8ee19"
   },
   "outputs": [
    {
     "name": "stdout",
     "output_type": "stream",
     "text": [
      "Изначальное количество строк:16956\n",
      "Количство строк после обработки:16444\n",
      "Абсолютное значение удаленных строк:512\n",
      "Относительно значение удаленных строк :3.02\n"
     ]
    }
   ],
   "source": [
    "# Находим число дубликатов из изначального датафрейма и находим абсолютное и относительно значение\n",
    "\n",
    "abs_deleted_rows= tmp.shape[0] - df_no_duplicates.shape[0] # Ипсправлено df.duplicated().sum()\n",
    "rel_deleted_rows = round(abs_deleted_rows/tmp.shape[0]*100,2) #rel_deleted_rows = round(abs_deleted_rows/df.shape[0],2)\n",
    "print(f'Изначальное количество строк:{tmp.shape[0]}\\nКоличство строк после обработки:{df_no_duplicates.shape[0]}\\nАбсолютное значение удаленных строк:{abs_deleted_rows}\\nОтносительно значение удаленных строк :{rel_deleted_rows}')"
   ]
  },
  {
   "cell_type": "markdown",
   "id": "47613d75",
   "metadata": {
    "id": "47613d75"
   },
   "source": [
    "- После проведения предобработки данных напишите общий промежуточный вывод."
   ]
  },
  {
   "cell_type": "markdown",
   "id": "8cf3d4c4",
   "metadata": {
    "id": "5166fdf8"
   },
   "source": [
    "**Промежуточный выовод:** по результатам предобработки смогли сократить число уникальных жанров в с толбце `genre` с 24 до 12.Также узнали количество уникальных значений для каждого столбца. Из 16679 строк очищенного датафрейма только 11426 имеют уникальное значение. Также были изменены типы данных столбцов `user_score, eu_sales, jp_sales,year_of_release`"
   ]
  },
  {
   "cell_type": "markdown",
   "id": "613f0eb0",
   "metadata": {
    "id": "613f0eb0"
   },
   "source": [
    "---\n",
    "<a id='3'></a>\n",
    "## 3. Фильтрация данных\n",
    "\n",
    "Коллеги хотят изучить историю продаж игр в начале XXI века, и их интересует период с 2000 по 2013 год включительно. Отберите данные по этому показателю. Сохраните новый срез данных в отдельном датафрейме, например `df_actual`."
   ]
  },
  {
   "cell_type": "code",
   "execution_count": 68,
   "id": "2344916d",
   "metadata": {
    "id": "2344916d"
   },
   "outputs": [
    {
     "data": {
      "text/html": [
       "<div>\n",
       "<style scoped>\n",
       "    .dataframe tbody tr th:only-of-type {\n",
       "        vertical-align: middle;\n",
       "    }\n",
       "\n",
       "    .dataframe tbody tr th {\n",
       "        vertical-align: top;\n",
       "    }\n",
       "\n",
       "    .dataframe thead th {\n",
       "        text-align: right;\n",
       "    }\n",
       "</style>\n",
       "<table border=\"1\" class=\"dataframe\">\n",
       "  <thead>\n",
       "    <tr style=\"text-align: right;\">\n",
       "      <th></th>\n",
       "      <th>name</th>\n",
       "      <th>platform</th>\n",
       "      <th>year_of_release</th>\n",
       "      <th>genre</th>\n",
       "      <th>na_sales</th>\n",
       "      <th>eu_sales</th>\n",
       "      <th>jp_sales</th>\n",
       "      <th>other_sales</th>\n",
       "      <th>critic_score</th>\n",
       "      <th>user_score</th>\n",
       "      <th>rating</th>\n",
       "    </tr>\n",
       "  </thead>\n",
       "  <tbody>\n",
       "    <tr>\n",
       "      <th>4188</th>\n",
       "      <td>gauntlet legends</td>\n",
       "      <td>PS</td>\n",
       "      <td>2000</td>\n",
       "      <td>action</td>\n",
       "      <td>0.26</td>\n",
       "      <td>0.18</td>\n",
       "      <td>0.00</td>\n",
       "      <td>0.03</td>\n",
       "      <td>-1</td>\n",
       "      <td>NaN</td>\n",
       "      <td>UNKNOWN</td>\n",
       "    </tr>\n",
       "    <tr>\n",
       "      <th>7298</th>\n",
       "      <td>mega man 64</td>\n",
       "      <td>N64</td>\n",
       "      <td>2000</td>\n",
       "      <td>action</td>\n",
       "      <td>0.14</td>\n",
       "      <td>0.03</td>\n",
       "      <td>0.05</td>\n",
       "      <td>0.00</td>\n",
       "      <td>-1</td>\n",
       "      <td>NaN</td>\n",
       "      <td>UNKNOWN</td>\n",
       "    </tr>\n",
       "    <tr>\n",
       "      <th>15685</th>\n",
       "      <td>rat attack!</td>\n",
       "      <td>N64</td>\n",
       "      <td>2000</td>\n",
       "      <td>puzzle</td>\n",
       "      <td>0.02</td>\n",
       "      <td>0.00</td>\n",
       "      <td>0.00</td>\n",
       "      <td>0.00</td>\n",
       "      <td>-1</td>\n",
       "      <td>NaN</td>\n",
       "      <td>UNKNOWN</td>\n",
       "    </tr>\n",
       "    <tr>\n",
       "      <th>16863</th>\n",
       "      <td>crossroad crisis</td>\n",
       "      <td>PS</td>\n",
       "      <td>2000</td>\n",
       "      <td>puzzle</td>\n",
       "      <td>0.01</td>\n",
       "      <td>0.00</td>\n",
       "      <td>0.00</td>\n",
       "      <td>0.00</td>\n",
       "      <td>-1</td>\n",
       "      <td>NaN</td>\n",
       "      <td>UNKNOWN</td>\n",
       "    </tr>\n",
       "    <tr>\n",
       "      <th>7499</th>\n",
       "      <td>cruis'n exotica</td>\n",
       "      <td>N64</td>\n",
       "      <td>2000</td>\n",
       "      <td>racing</td>\n",
       "      <td>0.17</td>\n",
       "      <td>0.04</td>\n",
       "      <td>0.00</td>\n",
       "      <td>0.00</td>\n",
       "      <td>-1</td>\n",
       "      <td>NaN</td>\n",
       "      <td>UNKNOWN</td>\n",
       "    </tr>\n",
       "    <tr>\n",
       "      <th>...</th>\n",
       "      <td>...</td>\n",
       "      <td>...</td>\n",
       "      <td>...</td>\n",
       "      <td>...</td>\n",
       "      <td>...</td>\n",
       "      <td>...</td>\n",
       "      <td>...</td>\n",
       "      <td>...</td>\n",
       "      <td>...</td>\n",
       "      <td>...</td>\n",
       "      <td>...</td>\n",
       "    </tr>\n",
       "    <tr>\n",
       "      <th>7069</th>\n",
       "      <td>the legend of heroes: trails of cold steel</td>\n",
       "      <td>PSV</td>\n",
       "      <td>2013</td>\n",
       "      <td>role-playing</td>\n",
       "      <td>0.05</td>\n",
       "      <td>0.02</td>\n",
       "      <td>0.14</td>\n",
       "      <td>0.02</td>\n",
       "      <td>77</td>\n",
       "      <td>7.5</td>\n",
       "      <td>T</td>\n",
       "    </tr>\n",
       "    <tr>\n",
       "      <th>1022</th>\n",
       "      <td>wii party u</td>\n",
       "      <td>WiiU</td>\n",
       "      <td>2013</td>\n",
       "      <td>misc</td>\n",
       "      <td>0.30</td>\n",
       "      <td>0.56</td>\n",
       "      <td>0.84</td>\n",
       "      <td>0.05</td>\n",
       "      <td>65</td>\n",
       "      <td>6.8</td>\n",
       "      <td>E</td>\n",
       "    </tr>\n",
       "    <tr>\n",
       "      <th>7717</th>\n",
       "      <td>the legend of heroes: trails of cold steel</td>\n",
       "      <td>PS3</td>\n",
       "      <td>2013</td>\n",
       "      <td>role-playing</td>\n",
       "      <td>0.05</td>\n",
       "      <td>0.02</td>\n",
       "      <td>0.12</td>\n",
       "      <td>0.01</td>\n",
       "      <td>86</td>\n",
       "      <td>7.7</td>\n",
       "      <td>T</td>\n",
       "    </tr>\n",
       "    <tr>\n",
       "      <th>14041</th>\n",
       "      <td>painkiller: hell &amp; damnation</td>\n",
       "      <td>PS3</td>\n",
       "      <td>2013</td>\n",
       "      <td>shooter</td>\n",
       "      <td>0.02</td>\n",
       "      <td>0.01</td>\n",
       "      <td>0.00</td>\n",
       "      <td>0.01</td>\n",
       "      <td>-1</td>\n",
       "      <td>NaN</td>\n",
       "      <td>UNKNOWN</td>\n",
       "    </tr>\n",
       "    <tr>\n",
       "      <th>3394</th>\n",
       "      <td>frozen: olaf's quest</td>\n",
       "      <td>3DS</td>\n",
       "      <td>2013</td>\n",
       "      <td>platform</td>\n",
       "      <td>0.27</td>\n",
       "      <td>0.27</td>\n",
       "      <td>0.00</td>\n",
       "      <td>0.05</td>\n",
       "      <td>-1</td>\n",
       "      <td>NaN</td>\n",
       "      <td>UNKNOWN</td>\n",
       "    </tr>\n",
       "  </tbody>\n",
       "</table>\n",
       "<p>12781 rows × 11 columns</p>\n",
       "</div>"
      ],
      "text/plain": [
       "                                             name platform  year_of_release  \\\n",
       "4188                             gauntlet legends       PS             2000   \n",
       "7298                                  mega man 64      N64             2000   \n",
       "15685                                 rat attack!      N64             2000   \n",
       "16863                            crossroad crisis       PS             2000   \n",
       "7499                              cruis'n exotica      N64             2000   \n",
       "...                                           ...      ...              ...   \n",
       "7069   the legend of heroes: trails of cold steel      PSV             2013   \n",
       "1022                                  wii party u     WiiU             2013   \n",
       "7717   the legend of heroes: trails of cold steel      PS3             2013   \n",
       "14041                painkiller: hell & damnation      PS3             2013   \n",
       "3394                         frozen: olaf's quest      3DS             2013   \n",
       "\n",
       "              genre  na_sales  eu_sales  jp_sales  other_sales  critic_score  \\\n",
       "4188         action      0.26      0.18      0.00         0.03            -1   \n",
       "7298         action      0.14      0.03      0.05         0.00            -1   \n",
       "15685        puzzle      0.02      0.00      0.00         0.00            -1   \n",
       "16863        puzzle      0.01      0.00      0.00         0.00            -1   \n",
       "7499         racing      0.17      0.04      0.00         0.00            -1   \n",
       "...             ...       ...       ...       ...          ...           ...   \n",
       "7069   role-playing      0.05      0.02      0.14         0.02            77   \n",
       "1022           misc      0.30      0.56      0.84         0.05            65   \n",
       "7717   role-playing      0.05      0.02      0.12         0.01            86   \n",
       "14041       shooter      0.02      0.01      0.00         0.01            -1   \n",
       "3394       platform      0.27      0.27      0.00         0.05            -1   \n",
       "\n",
       "       user_score   rating  \n",
       "4188          NaN  UNKNOWN  \n",
       "7298          NaN  UNKNOWN  \n",
       "15685         NaN  UNKNOWN  \n",
       "16863         NaN  UNKNOWN  \n",
       "7499          NaN  UNKNOWN  \n",
       "...           ...      ...  \n",
       "7069          7.5        T  \n",
       "1022          6.8        E  \n",
       "7717          7.7        T  \n",
       "14041         NaN  UNKNOWN  \n",
       "3394          NaN  UNKNOWN  \n",
       "\n",
       "[12781 rows x 11 columns]"
      ]
     },
     "execution_count": 68,
     "metadata": {},
     "output_type": "execute_result"
    }
   ],
   "source": [
    "# Фильтруем датафрейм по году выхода игр\n",
    "df_actual = df_no_duplicates[(df_no_duplicates['year_of_release'] >=2000) & (df_no_duplicates['year_of_release'] <=2013)]\n",
    "df_actual.sort_values(by='year_of_release')"
   ]
  },
  {
   "cell_type": "markdown",
   "id": "a6f10b01",
   "metadata": {
    "id": "a6f10b01"
   },
   "source": [
    "---\n",
    "<a id='4'></a>\n",
    "## 4. Категоризация данных\n",
    "    \n",
    "Проведите категоризацию данных:\n",
    "- Разделите все игры по оценкам пользователей и выделите такие категории: высокая оценка (от 8 до 10 включительно), средняя оценка (от 3 до 8, не включая правую границу интервала) и низкая оценка (от 0 до 3, не включая правую границу интервала)."
   ]
  },
  {
   "cell_type": "code",
   "execution_count": 58,
   "id": "3db87229",
   "metadata": {
    "id": "3db87229"
   },
   "outputs": [],
   "source": [
    "# Создаём функцию, которая категоризирует игры по оценкам пользователй\n",
    "\n",
    "def user_catigorize_game(row):\n",
    "    if row['user_score'] >= 8 and row['user_score'] <= 10:\n",
    "        return \"высокая оценка\"\n",
    "    elif row['user_score'] >= 3 and row['user_score'] < 8: # Исправлено условие elif row['user_score'] > 3 and row['user_score'] < 8 :\n",
    "        return \"средняя оценка\"\n",
    "    elif row['user_score'] < 3:\n",
    "        return \"низкая оценка\"\n",
    "    else:\n",
    "        return \"нет оценки\""
   ]
  },
  {
   "cell_type": "code",
   "execution_count": 59,
   "id": "35438bd6",
   "metadata": {
    "id": "35438bd6"
   },
   "outputs": [],
   "source": [
    "# Добавляем столбец с категориями\n",
    "import warnings\n",
    "warnings.filterwarnings(\"ignore\")\n",
    "df_actual['user_category'] = df_actual.apply(user_catigorize_game, axis = 1)"
   ]
  },
  {
   "cell_type": "code",
   "execution_count": 60,
   "id": "a7f14595",
   "metadata": {},
   "outputs": [
    {
     "data": {
      "text/html": [
       "<div>\n",
       "<style scoped>\n",
       "    .dataframe tbody tr th:only-of-type {\n",
       "        vertical-align: middle;\n",
       "    }\n",
       "\n",
       "    .dataframe tbody tr th {\n",
       "        vertical-align: top;\n",
       "    }\n",
       "\n",
       "    .dataframe thead th {\n",
       "        text-align: right;\n",
       "    }\n",
       "</style>\n",
       "<table border=\"1\" class=\"dataframe\">\n",
       "  <thead>\n",
       "    <tr style=\"text-align: right;\">\n",
       "      <th></th>\n",
       "      <th>name</th>\n",
       "      <th>platform</th>\n",
       "      <th>year_of_release</th>\n",
       "      <th>genre</th>\n",
       "      <th>na_sales</th>\n",
       "      <th>eu_sales</th>\n",
       "      <th>jp_sales</th>\n",
       "      <th>other_sales</th>\n",
       "      <th>critic_score</th>\n",
       "      <th>user_score</th>\n",
       "      <th>rating</th>\n",
       "      <th>user_category</th>\n",
       "    </tr>\n",
       "  </thead>\n",
       "  <tbody>\n",
       "    <tr>\n",
       "      <th>3394</th>\n",
       "      <td>frozen: olaf's quest</td>\n",
       "      <td>3DS</td>\n",
       "      <td>2013</td>\n",
       "      <td>platform</td>\n",
       "      <td>0.27</td>\n",
       "      <td>0.27</td>\n",
       "      <td>0.00</td>\n",
       "      <td>0.05</td>\n",
       "      <td>-1</td>\n",
       "      <td>NaN</td>\n",
       "      <td>UNKNOWN</td>\n",
       "      <td>нет оценки</td>\n",
       "    </tr>\n",
       "    <tr>\n",
       "      <th>3906</th>\n",
       "      <td>frozen: olaf's quest</td>\n",
       "      <td>DS</td>\n",
       "      <td>2013</td>\n",
       "      <td>platform</td>\n",
       "      <td>0.21</td>\n",
       "      <td>0.26</td>\n",
       "      <td>0.00</td>\n",
       "      <td>0.04</td>\n",
       "      <td>-1</td>\n",
       "      <td>NaN</td>\n",
       "      <td>UNKNOWN</td>\n",
       "      <td>нет оценки</td>\n",
       "    </tr>\n",
       "    <tr>\n",
       "      <th>2478</th>\n",
       "      <td>tales of xillia 2</td>\n",
       "      <td>PS3</td>\n",
       "      <td>2012</td>\n",
       "      <td>role-playing</td>\n",
       "      <td>0.20</td>\n",
       "      <td>0.12</td>\n",
       "      <td>0.45</td>\n",
       "      <td>0.07</td>\n",
       "      <td>71</td>\n",
       "      <td>7.9</td>\n",
       "      <td>T</td>\n",
       "      <td>средняя оценка</td>\n",
       "    </tr>\n",
       "    <tr>\n",
       "      <th>8460</th>\n",
       "      <td>.hack//g.u. vol.1//rebirth</td>\n",
       "      <td>PS2</td>\n",
       "      <td>2006</td>\n",
       "      <td>role-playing</td>\n",
       "      <td>0.00</td>\n",
       "      <td>0.00</td>\n",
       "      <td>0.17</td>\n",
       "      <td>0.00</td>\n",
       "      <td>-1</td>\n",
       "      <td>NaN</td>\n",
       "      <td>UNKNOWN</td>\n",
       "      <td>нет оценки</td>\n",
       "    </tr>\n",
       "    <tr>\n",
       "      <th>7182</th>\n",
       "      <td>.hack//g.u. vol.2//reminisce</td>\n",
       "      <td>PS2</td>\n",
       "      <td>2006</td>\n",
       "      <td>role-playing</td>\n",
       "      <td>0.11</td>\n",
       "      <td>0.09</td>\n",
       "      <td>0.00</td>\n",
       "      <td>0.03</td>\n",
       "      <td>-1</td>\n",
       "      <td>NaN</td>\n",
       "      <td>UNKNOWN</td>\n",
       "      <td>нет оценки</td>\n",
       "    </tr>\n",
       "    <tr>\n",
       "      <th>...</th>\n",
       "      <td>...</td>\n",
       "      <td>...</td>\n",
       "      <td>...</td>\n",
       "      <td>...</td>\n",
       "      <td>...</td>\n",
       "      <td>...</td>\n",
       "      <td>...</td>\n",
       "      <td>...</td>\n",
       "      <td>...</td>\n",
       "      <td>...</td>\n",
       "      <td>...</td>\n",
       "      <td>...</td>\n",
       "    </tr>\n",
       "    <tr>\n",
       "      <th>7233</th>\n",
       "      <td>zumba fitness: world party</td>\n",
       "      <td>Wii</td>\n",
       "      <td>2013</td>\n",
       "      <td>misc</td>\n",
       "      <td>0.11</td>\n",
       "      <td>0.10</td>\n",
       "      <td>0.00</td>\n",
       "      <td>0.02</td>\n",
       "      <td>-1</td>\n",
       "      <td>NaN</td>\n",
       "      <td>E</td>\n",
       "      <td>нет оценки</td>\n",
       "    </tr>\n",
       "    <tr>\n",
       "      <th>6970</th>\n",
       "      <td>zumba fitness: world party</td>\n",
       "      <td>XOne</td>\n",
       "      <td>2013</td>\n",
       "      <td>misc</td>\n",
       "      <td>0.17</td>\n",
       "      <td>0.05</td>\n",
       "      <td>0.00</td>\n",
       "      <td>0.02</td>\n",
       "      <td>73</td>\n",
       "      <td>6.2</td>\n",
       "      <td>E</td>\n",
       "      <td>средняя оценка</td>\n",
       "    </tr>\n",
       "    <tr>\n",
       "      <th>15739</th>\n",
       "      <td>zwei!!</td>\n",
       "      <td>PSP</td>\n",
       "      <td>2008</td>\n",
       "      <td>role-playing</td>\n",
       "      <td>0.00</td>\n",
       "      <td>0.00</td>\n",
       "      <td>0.02</td>\n",
       "      <td>0.00</td>\n",
       "      <td>-1</td>\n",
       "      <td>NaN</td>\n",
       "      <td>UNKNOWN</td>\n",
       "      <td>нет оценки</td>\n",
       "    </tr>\n",
       "    <tr>\n",
       "      <th>13138</th>\n",
       "      <td>zyuden sentai kyoryuger: game de gaburincho!!</td>\n",
       "      <td>3DS</td>\n",
       "      <td>2013</td>\n",
       "      <td>action</td>\n",
       "      <td>0.00</td>\n",
       "      <td>0.00</td>\n",
       "      <td>0.05</td>\n",
       "      <td>0.00</td>\n",
       "      <td>-1</td>\n",
       "      <td>NaN</td>\n",
       "      <td>UNKNOWN</td>\n",
       "      <td>нет оценки</td>\n",
       "    </tr>\n",
       "    <tr>\n",
       "      <th>9260</th>\n",
       "      <td>¡shin chan flipa en colores!</td>\n",
       "      <td>DS</td>\n",
       "      <td>2007</td>\n",
       "      <td>platform</td>\n",
       "      <td>0.00</td>\n",
       "      <td>0.00</td>\n",
       "      <td>0.14</td>\n",
       "      <td>0.00</td>\n",
       "      <td>-1</td>\n",
       "      <td>NaN</td>\n",
       "      <td>UNKNOWN</td>\n",
       "      <td>нет оценки</td>\n",
       "    </tr>\n",
       "  </tbody>\n",
       "</table>\n",
       "<p>12781 rows × 12 columns</p>\n",
       "</div>"
      ],
      "text/plain": [
       "                                                name platform  \\\n",
       "3394                            frozen: olaf's quest      3DS   \n",
       "3906                            frozen: olaf's quest       DS   \n",
       "2478                               tales of xillia 2      PS3   \n",
       "8460                      .hack//g.u. vol.1//rebirth      PS2   \n",
       "7182                    .hack//g.u. vol.2//reminisce      PS2   \n",
       "...                                              ...      ...   \n",
       "7233                      zumba fitness: world party      Wii   \n",
       "6970                      zumba fitness: world party     XOne   \n",
       "15739                                         zwei!!      PSP   \n",
       "13138  zyuden sentai kyoryuger: game de gaburincho!!      3DS   \n",
       "9260                    ¡shin chan flipa en colores!       DS   \n",
       "\n",
       "       year_of_release         genre  na_sales  eu_sales  jp_sales  \\\n",
       "3394              2013      platform      0.27      0.27      0.00   \n",
       "3906              2013      platform      0.21      0.26      0.00   \n",
       "2478              2012  role-playing      0.20      0.12      0.45   \n",
       "8460              2006  role-playing      0.00      0.00      0.17   \n",
       "7182              2006  role-playing      0.11      0.09      0.00   \n",
       "...                ...           ...       ...       ...       ...   \n",
       "7233              2013          misc      0.11      0.10      0.00   \n",
       "6970              2013          misc      0.17      0.05      0.00   \n",
       "15739             2008  role-playing      0.00      0.00      0.02   \n",
       "13138             2013        action      0.00      0.00      0.05   \n",
       "9260              2007      platform      0.00      0.00      0.14   \n",
       "\n",
       "       other_sales  critic_score  user_score   rating   user_category  \n",
       "3394          0.05            -1         NaN  UNKNOWN      нет оценки  \n",
       "3906          0.04            -1         NaN  UNKNOWN      нет оценки  \n",
       "2478          0.07            71         7.9        T  средняя оценка  \n",
       "8460          0.00            -1         NaN  UNKNOWN      нет оценки  \n",
       "7182          0.03            -1         NaN  UNKNOWN      нет оценки  \n",
       "...            ...           ...         ...      ...             ...  \n",
       "7233          0.02            -1         NaN        E      нет оценки  \n",
       "6970          0.02            73         6.2        E  средняя оценка  \n",
       "15739         0.00            -1         NaN  UNKNOWN      нет оценки  \n",
       "13138         0.00            -1         NaN  UNKNOWN      нет оценки  \n",
       "9260          0.00            -1         NaN  UNKNOWN      нет оценки  \n",
       "\n",
       "[12781 rows x 12 columns]"
      ]
     },
     "execution_count": 60,
     "metadata": {},
     "output_type": "execute_result"
    }
   ],
   "source": [
    "# Смотрим на результат\n",
    "df_actual"
   ]
  },
  {
   "cell_type": "markdown",
   "id": "f8f34b40",
   "metadata": {
    "id": "f8f34b40"
   },
   "source": [
    "- Разделите все игры по оценкам критиков и выделите такие категории: высокая оценка (от 80 до 100 включительно), средняя оценка (от 30 до 80, не включая правую границу интервала) и низкая оценка (от 0 до 30, не включая правую границу интервала)."
   ]
  },
  {
   "cell_type": "code",
   "execution_count": 61,
   "id": "e3f7acb0",
   "metadata": {
    "id": "e3f7acb0"
   },
   "outputs": [],
   "source": [
    "# Создаём функцию, которая категоризирует игры по оценкам критиков\n",
    "\n",
    "def critic_catigorize_game(row):\n",
    "    if  row['critic_score'] >= 80 and row['critic_score'] <= 100: \n",
    "        return \"высокая оценка\"\n",
    "    elif row['critic_score'] >= 30 and row['critic_score'] < 80:\n",
    "        return \"средняя оценка\"\n",
    "    elif row['critic_score'] < 30 and row['critic_score'] >= 0: # Исправлено условие elif row['critic_score'] < 30:\n",
    "        return \"низкая оценка\"\n",
    "    else:\n",
    "        return \"нет оценки\""
   ]
  },
  {
   "cell_type": "code",
   "execution_count": 62,
   "id": "548fde17",
   "metadata": {
    "id": "548fde17"
   },
   "outputs": [],
   "source": [
    "# Добавляем столбец с категориями\n",
    "df_actual['critic_category'] = df_actual.apply(critic_catigorize_game, axis = 1)"
   ]
  },
  {
   "cell_type": "code",
   "execution_count": 63,
   "id": "8e172568",
   "metadata": {},
   "outputs": [
    {
     "name": "stdout",
     "output_type": "stream",
     "text": [
      "Оценка 8 должна относиться категории 'высокая оценка' здесь это ['высокая оценка']\n",
      "Оценка 3 должна относиться категории 'средняя оценка' здесь это ['средняя оценка']\n",
      "Оценка 0 должна относиться категории 'низкая оценка' здесь это ['низкая оценка']\n",
      "=================================\n",
      "Оценка 80 должна относиться категории 'высокая оценка' здесь это ['высокая оценка']\n",
      "Оценка 30 должна относиться категории 'средняя оценка' здесь это ['средняя оценка']\n",
      "Оценка 0 должна относиться категории 'низкая оценка' здесь это []\n"
     ]
    }
   ],
   "source": [
    "# Проверяем границы категорий по заданию брифа и созданные в проекте\n",
    "tmp0, u_s, c_s = df_actual.copy(), 'user_score', 'critic_score'\n",
    "cat_u, cat_c = 'user_category', 'critic_category'\n",
    "print(\"Оценка 8 должна относиться категории 'высокая оценка'\", \"здесь это\",\n",
    "      tmp0[tmp0[u_s] == 8][cat_u].unique())\n",
    "print(\"Оценка 3 должна относиться категории 'средняя оценка'\", \"здесь это\",\n",
    "      tmp0[tmp0[u_s] == 3][cat_u].unique())\n",
    "print(\"Оценка 0 должна относиться категории 'низкая оценка'\", \"здесь это\",\n",
    "      tmp0[tmp0[u_s] == 0][cat_u].unique())\n",
    "print(\"=================================\")\n",
    "print(\"Оценка 80 должна относиться категории 'высокая оценка'\", \"здесь это\",\n",
    "      tmp0[tmp0[c_s] == 80][cat_c].unique())\n",
    "print(\"Оценка 30 должна относиться категории 'средняя оценка'\", \"здесь это\",\n",
    "      tmp0[tmp0[c_s] == 30][cat_c].unique())\n",
    "print(\"Оценка 0 должна относиться категории 'низкая оценка'\", \"здесь это\",\n",
    "      tmp0[tmp0[c_s] == 0][cat_c].unique())"
   ]
  },
  {
   "cell_type": "code",
   "execution_count": 64,
   "id": "d136d06b",
   "metadata": {
    "id": "d136d06b"
   },
   "outputs": [
    {
     "data": {
      "text/html": [
       "<div>\n",
       "<style scoped>\n",
       "    .dataframe tbody tr th:only-of-type {\n",
       "        vertical-align: middle;\n",
       "    }\n",
       "\n",
       "    .dataframe tbody tr th {\n",
       "        vertical-align: top;\n",
       "    }\n",
       "\n",
       "    .dataframe thead th {\n",
       "        text-align: right;\n",
       "    }\n",
       "</style>\n",
       "<table border=\"1\" class=\"dataframe\">\n",
       "  <thead>\n",
       "    <tr style=\"text-align: right;\">\n",
       "      <th></th>\n",
       "      <th>name</th>\n",
       "      <th>platform</th>\n",
       "      <th>year_of_release</th>\n",
       "      <th>genre</th>\n",
       "      <th>na_sales</th>\n",
       "      <th>eu_sales</th>\n",
       "      <th>jp_sales</th>\n",
       "      <th>other_sales</th>\n",
       "      <th>critic_score</th>\n",
       "      <th>user_score</th>\n",
       "      <th>rating</th>\n",
       "      <th>user_category</th>\n",
       "      <th>critic_category</th>\n",
       "    </tr>\n",
       "  </thead>\n",
       "  <tbody>\n",
       "    <tr>\n",
       "      <th>3394</th>\n",
       "      <td>frozen: olaf's quest</td>\n",
       "      <td>3DS</td>\n",
       "      <td>2013</td>\n",
       "      <td>platform</td>\n",
       "      <td>0.27</td>\n",
       "      <td>0.27</td>\n",
       "      <td>0.00</td>\n",
       "      <td>0.05</td>\n",
       "      <td>-1</td>\n",
       "      <td>NaN</td>\n",
       "      <td>UNKNOWN</td>\n",
       "      <td>нет оценки</td>\n",
       "      <td>нет оценки</td>\n",
       "    </tr>\n",
       "    <tr>\n",
       "      <th>3906</th>\n",
       "      <td>frozen: olaf's quest</td>\n",
       "      <td>DS</td>\n",
       "      <td>2013</td>\n",
       "      <td>platform</td>\n",
       "      <td>0.21</td>\n",
       "      <td>0.26</td>\n",
       "      <td>0.00</td>\n",
       "      <td>0.04</td>\n",
       "      <td>-1</td>\n",
       "      <td>NaN</td>\n",
       "      <td>UNKNOWN</td>\n",
       "      <td>нет оценки</td>\n",
       "      <td>нет оценки</td>\n",
       "    </tr>\n",
       "    <tr>\n",
       "      <th>2478</th>\n",
       "      <td>tales of xillia 2</td>\n",
       "      <td>PS3</td>\n",
       "      <td>2012</td>\n",
       "      <td>role-playing</td>\n",
       "      <td>0.20</td>\n",
       "      <td>0.12</td>\n",
       "      <td>0.45</td>\n",
       "      <td>0.07</td>\n",
       "      <td>71</td>\n",
       "      <td>7.9</td>\n",
       "      <td>T</td>\n",
       "      <td>средняя оценка</td>\n",
       "      <td>средняя оценка</td>\n",
       "    </tr>\n",
       "    <tr>\n",
       "      <th>8460</th>\n",
       "      <td>.hack//g.u. vol.1//rebirth</td>\n",
       "      <td>PS2</td>\n",
       "      <td>2006</td>\n",
       "      <td>role-playing</td>\n",
       "      <td>0.00</td>\n",
       "      <td>0.00</td>\n",
       "      <td>0.17</td>\n",
       "      <td>0.00</td>\n",
       "      <td>-1</td>\n",
       "      <td>NaN</td>\n",
       "      <td>UNKNOWN</td>\n",
       "      <td>нет оценки</td>\n",
       "      <td>нет оценки</td>\n",
       "    </tr>\n",
       "    <tr>\n",
       "      <th>7182</th>\n",
       "      <td>.hack//g.u. vol.2//reminisce</td>\n",
       "      <td>PS2</td>\n",
       "      <td>2006</td>\n",
       "      <td>role-playing</td>\n",
       "      <td>0.11</td>\n",
       "      <td>0.09</td>\n",
       "      <td>0.00</td>\n",
       "      <td>0.03</td>\n",
       "      <td>-1</td>\n",
       "      <td>NaN</td>\n",
       "      <td>UNKNOWN</td>\n",
       "      <td>нет оценки</td>\n",
       "      <td>нет оценки</td>\n",
       "    </tr>\n",
       "    <tr>\n",
       "      <th>...</th>\n",
       "      <td>...</td>\n",
       "      <td>...</td>\n",
       "      <td>...</td>\n",
       "      <td>...</td>\n",
       "      <td>...</td>\n",
       "      <td>...</td>\n",
       "      <td>...</td>\n",
       "      <td>...</td>\n",
       "      <td>...</td>\n",
       "      <td>...</td>\n",
       "      <td>...</td>\n",
       "      <td>...</td>\n",
       "      <td>...</td>\n",
       "    </tr>\n",
       "    <tr>\n",
       "      <th>7233</th>\n",
       "      <td>zumba fitness: world party</td>\n",
       "      <td>Wii</td>\n",
       "      <td>2013</td>\n",
       "      <td>misc</td>\n",
       "      <td>0.11</td>\n",
       "      <td>0.10</td>\n",
       "      <td>0.00</td>\n",
       "      <td>0.02</td>\n",
       "      <td>-1</td>\n",
       "      <td>NaN</td>\n",
       "      <td>E</td>\n",
       "      <td>нет оценки</td>\n",
       "      <td>нет оценки</td>\n",
       "    </tr>\n",
       "    <tr>\n",
       "      <th>6970</th>\n",
       "      <td>zumba fitness: world party</td>\n",
       "      <td>XOne</td>\n",
       "      <td>2013</td>\n",
       "      <td>misc</td>\n",
       "      <td>0.17</td>\n",
       "      <td>0.05</td>\n",
       "      <td>0.00</td>\n",
       "      <td>0.02</td>\n",
       "      <td>73</td>\n",
       "      <td>6.2</td>\n",
       "      <td>E</td>\n",
       "      <td>средняя оценка</td>\n",
       "      <td>средняя оценка</td>\n",
       "    </tr>\n",
       "    <tr>\n",
       "      <th>15739</th>\n",
       "      <td>zwei!!</td>\n",
       "      <td>PSP</td>\n",
       "      <td>2008</td>\n",
       "      <td>role-playing</td>\n",
       "      <td>0.00</td>\n",
       "      <td>0.00</td>\n",
       "      <td>0.02</td>\n",
       "      <td>0.00</td>\n",
       "      <td>-1</td>\n",
       "      <td>NaN</td>\n",
       "      <td>UNKNOWN</td>\n",
       "      <td>нет оценки</td>\n",
       "      <td>нет оценки</td>\n",
       "    </tr>\n",
       "    <tr>\n",
       "      <th>13138</th>\n",
       "      <td>zyuden sentai kyoryuger: game de gaburincho!!</td>\n",
       "      <td>3DS</td>\n",
       "      <td>2013</td>\n",
       "      <td>action</td>\n",
       "      <td>0.00</td>\n",
       "      <td>0.00</td>\n",
       "      <td>0.05</td>\n",
       "      <td>0.00</td>\n",
       "      <td>-1</td>\n",
       "      <td>NaN</td>\n",
       "      <td>UNKNOWN</td>\n",
       "      <td>нет оценки</td>\n",
       "      <td>нет оценки</td>\n",
       "    </tr>\n",
       "    <tr>\n",
       "      <th>9260</th>\n",
       "      <td>¡shin chan flipa en colores!</td>\n",
       "      <td>DS</td>\n",
       "      <td>2007</td>\n",
       "      <td>platform</td>\n",
       "      <td>0.00</td>\n",
       "      <td>0.00</td>\n",
       "      <td>0.14</td>\n",
       "      <td>0.00</td>\n",
       "      <td>-1</td>\n",
       "      <td>NaN</td>\n",
       "      <td>UNKNOWN</td>\n",
       "      <td>нет оценки</td>\n",
       "      <td>нет оценки</td>\n",
       "    </tr>\n",
       "  </tbody>\n",
       "</table>\n",
       "<p>12781 rows × 13 columns</p>\n",
       "</div>"
      ],
      "text/plain": [
       "                                                name platform  \\\n",
       "3394                            frozen: olaf's quest      3DS   \n",
       "3906                            frozen: olaf's quest       DS   \n",
       "2478                               tales of xillia 2      PS3   \n",
       "8460                      .hack//g.u. vol.1//rebirth      PS2   \n",
       "7182                    .hack//g.u. vol.2//reminisce      PS2   \n",
       "...                                              ...      ...   \n",
       "7233                      zumba fitness: world party      Wii   \n",
       "6970                      zumba fitness: world party     XOne   \n",
       "15739                                         zwei!!      PSP   \n",
       "13138  zyuden sentai kyoryuger: game de gaburincho!!      3DS   \n",
       "9260                    ¡shin chan flipa en colores!       DS   \n",
       "\n",
       "       year_of_release         genre  na_sales  eu_sales  jp_sales  \\\n",
       "3394              2013      platform      0.27      0.27      0.00   \n",
       "3906              2013      platform      0.21      0.26      0.00   \n",
       "2478              2012  role-playing      0.20      0.12      0.45   \n",
       "8460              2006  role-playing      0.00      0.00      0.17   \n",
       "7182              2006  role-playing      0.11      0.09      0.00   \n",
       "...                ...           ...       ...       ...       ...   \n",
       "7233              2013          misc      0.11      0.10      0.00   \n",
       "6970              2013          misc      0.17      0.05      0.00   \n",
       "15739             2008  role-playing      0.00      0.00      0.02   \n",
       "13138             2013        action      0.00      0.00      0.05   \n",
       "9260              2007      platform      0.00      0.00      0.14   \n",
       "\n",
       "       other_sales  critic_score  user_score   rating   user_category  \\\n",
       "3394          0.05            -1         NaN  UNKNOWN      нет оценки   \n",
       "3906          0.04            -1         NaN  UNKNOWN      нет оценки   \n",
       "2478          0.07            71         7.9        T  средняя оценка   \n",
       "8460          0.00            -1         NaN  UNKNOWN      нет оценки   \n",
       "7182          0.03            -1         NaN  UNKNOWN      нет оценки   \n",
       "...            ...           ...         ...      ...             ...   \n",
       "7233          0.02            -1         NaN        E      нет оценки   \n",
       "6970          0.02            73         6.2        E  средняя оценка   \n",
       "15739         0.00            -1         NaN  UNKNOWN      нет оценки   \n",
       "13138         0.00            -1         NaN  UNKNOWN      нет оценки   \n",
       "9260          0.00            -1         NaN  UNKNOWN      нет оценки   \n",
       "\n",
       "      critic_category  \n",
       "3394       нет оценки  \n",
       "3906       нет оценки  \n",
       "2478   средняя оценка  \n",
       "8460       нет оценки  \n",
       "7182       нет оценки  \n",
       "...               ...  \n",
       "7233       нет оценки  \n",
       "6970   средняя оценка  \n",
       "15739      нет оценки  \n",
       "13138      нет оценки  \n",
       "9260       нет оценки  \n",
       "\n",
       "[12781 rows x 13 columns]"
      ]
     },
     "execution_count": 64,
     "metadata": {},
     "output_type": "execute_result"
    }
   ],
   "source": [
    "# Смотрим на результат\n",
    "df_actual"
   ]
  },
  {
   "cell_type": "markdown",
   "id": "olkTlTlAUDR9",
   "metadata": {
    "id": "olkTlTlAUDR9"
   },
   "source": [
    "- После категоризации данных проверьте результат: сгруппируйте данные по выделенным категориям и посчитайте количество игр в каждой категории."
   ]
  },
  {
   "cell_type": "code",
   "execution_count": 65,
   "id": "063f7d0a",
   "metadata": {},
   "outputs": [
    {
     "data": {
      "text/html": [
       "<div>\n",
       "<style scoped>\n",
       "    .dataframe tbody tr th:only-of-type {\n",
       "        vertical-align: middle;\n",
       "    }\n",
       "\n",
       "    .dataframe tbody tr th {\n",
       "        vertical-align: top;\n",
       "    }\n",
       "\n",
       "    .dataframe thead th {\n",
       "        text-align: right;\n",
       "    }\n",
       "</style>\n",
       "<table border=\"1\" class=\"dataframe\">\n",
       "  <thead>\n",
       "    <tr style=\"text-align: right;\">\n",
       "      <th></th>\n",
       "      <th>user_category</th>\n",
       "      <th>name</th>\n",
       "    </tr>\n",
       "  </thead>\n",
       "  <tbody>\n",
       "    <tr>\n",
       "      <th>0</th>\n",
       "      <td>высокая оценка</td>\n",
       "      <td>2286</td>\n",
       "    </tr>\n",
       "    <tr>\n",
       "      <th>1</th>\n",
       "      <td>нет оценки</td>\n",
       "      <td>6298</td>\n",
       "    </tr>\n",
       "    <tr>\n",
       "      <th>2</th>\n",
       "      <td>низкая оценка</td>\n",
       "      <td>116</td>\n",
       "    </tr>\n",
       "    <tr>\n",
       "      <th>3</th>\n",
       "      <td>средняя оценка</td>\n",
       "      <td>4081</td>\n",
       "    </tr>\n",
       "  </tbody>\n",
       "</table>\n",
       "</div>"
      ],
      "text/plain": [
       "    user_category  name\n",
       "0  высокая оценка  2286\n",
       "1      нет оценки  6298\n",
       "2   низкая оценка   116\n",
       "3  средняя оценка  4081"
      ]
     },
     "metadata": {},
     "output_type": "display_data"
    },
    {
     "data": {
      "text/html": [
       "<div>\n",
       "<style scoped>\n",
       "    .dataframe tbody tr th:only-of-type {\n",
       "        vertical-align: middle;\n",
       "    }\n",
       "\n",
       "    .dataframe tbody tr th {\n",
       "        vertical-align: top;\n",
       "    }\n",
       "\n",
       "    .dataframe thead th {\n",
       "        text-align: right;\n",
       "    }\n",
       "</style>\n",
       "<table border=\"1\" class=\"dataframe\">\n",
       "  <thead>\n",
       "    <tr style=\"text-align: right;\">\n",
       "      <th></th>\n",
       "      <th>critic_category</th>\n",
       "      <th>name</th>\n",
       "    </tr>\n",
       "  </thead>\n",
       "  <tbody>\n",
       "    <tr>\n",
       "      <th>0</th>\n",
       "      <td>высокая оценка</td>\n",
       "      <td>1692</td>\n",
       "    </tr>\n",
       "    <tr>\n",
       "      <th>1</th>\n",
       "      <td>нет оценки</td>\n",
       "      <td>5612</td>\n",
       "    </tr>\n",
       "    <tr>\n",
       "      <th>2</th>\n",
       "      <td>низкая оценка</td>\n",
       "      <td>55</td>\n",
       "    </tr>\n",
       "    <tr>\n",
       "      <th>3</th>\n",
       "      <td>средняя оценка</td>\n",
       "      <td>5422</td>\n",
       "    </tr>\n",
       "  </tbody>\n",
       "</table>\n",
       "</div>"
      ],
      "text/plain": [
       "  critic_category  name\n",
       "0  высокая оценка  1692\n",
       "1      нет оценки  5612\n",
       "2   низкая оценка    55\n",
       "3  средняя оценка  5422"
      ]
     },
     "metadata": {},
     "output_type": "display_data"
    }
   ],
   "source": [
    "# Создаем сгруппированный датафрейм \n",
    "grouped_data_user_score = df_actual.groupby(['user_category'], as_index = False)['name'].count()\n",
    "grouped_data_critic_score = df_actual.groupby(['critic_category'], as_index = False)['name'].count()\n",
    "# Выводим на экран\n",
    "display(grouped_data_user_score,grouped_data_critic_score)"
   ]
  },
  {
   "cell_type": "code",
   "execution_count": 66,
   "id": "HW0Nsp-4UMSL",
   "metadata": {
    "id": "HW0Nsp-4UMSL"
   },
   "outputs": [
    {
     "data": {
      "text/html": [
       "<div>\n",
       "<style scoped>\n",
       "    .dataframe tbody tr th:only-of-type {\n",
       "        vertical-align: middle;\n",
       "    }\n",
       "\n",
       "    .dataframe tbody tr th {\n",
       "        vertical-align: top;\n",
       "    }\n",
       "\n",
       "    .dataframe thead th {\n",
       "        text-align: right;\n",
       "    }\n",
       "</style>\n",
       "<table border=\"1\" class=\"dataframe\">\n",
       "  <thead>\n",
       "    <tr style=\"text-align: right;\">\n",
       "      <th></th>\n",
       "      <th>user_category</th>\n",
       "      <th>critic_category</th>\n",
       "      <th>name</th>\n",
       "    </tr>\n",
       "  </thead>\n",
       "  <tbody>\n",
       "    <tr>\n",
       "      <th>0</th>\n",
       "      <td>высокая оценка</td>\n",
       "      <td>высокая оценка</td>\n",
       "      <td>1017</td>\n",
       "    </tr>\n",
       "    <tr>\n",
       "      <th>1</th>\n",
       "      <td>высокая оценка</td>\n",
       "      <td>нет оценки</td>\n",
       "      <td>101</td>\n",
       "    </tr>\n",
       "    <tr>\n",
       "      <th>2</th>\n",
       "      <td>высокая оценка</td>\n",
       "      <td>низкая оценка</td>\n",
       "      <td>1</td>\n",
       "    </tr>\n",
       "    <tr>\n",
       "      <th>3</th>\n",
       "      <td>высокая оценка</td>\n",
       "      <td>средняя оценка</td>\n",
       "      <td>1167</td>\n",
       "    </tr>\n",
       "    <tr>\n",
       "      <th>4</th>\n",
       "      <td>нет оценки</td>\n",
       "      <td>высокая оценка</td>\n",
       "      <td>33</td>\n",
       "    </tr>\n",
       "    <tr>\n",
       "      <th>5</th>\n",
       "      <td>нет оценки</td>\n",
       "      <td>нет оценки</td>\n",
       "      <td>5237</td>\n",
       "    </tr>\n",
       "    <tr>\n",
       "      <th>6</th>\n",
       "      <td>нет оценки</td>\n",
       "      <td>низкая оценка</td>\n",
       "      <td>7</td>\n",
       "    </tr>\n",
       "    <tr>\n",
       "      <th>7</th>\n",
       "      <td>нет оценки</td>\n",
       "      <td>средняя оценка</td>\n",
       "      <td>1021</td>\n",
       "    </tr>\n",
       "    <tr>\n",
       "      <th>8</th>\n",
       "      <td>низкая оценка</td>\n",
       "      <td>высокая оценка</td>\n",
       "      <td>1</td>\n",
       "    </tr>\n",
       "    <tr>\n",
       "      <th>9</th>\n",
       "      <td>низкая оценка</td>\n",
       "      <td>нет оценки</td>\n",
       "      <td>21</td>\n",
       "    </tr>\n",
       "    <tr>\n",
       "      <th>10</th>\n",
       "      <td>низкая оценка</td>\n",
       "      <td>низкая оценка</td>\n",
       "      <td>17</td>\n",
       "    </tr>\n",
       "    <tr>\n",
       "      <th>11</th>\n",
       "      <td>низкая оценка</td>\n",
       "      <td>средняя оценка</td>\n",
       "      <td>77</td>\n",
       "    </tr>\n",
       "    <tr>\n",
       "      <th>12</th>\n",
       "      <td>средняя оценка</td>\n",
       "      <td>высокая оценка</td>\n",
       "      <td>641</td>\n",
       "    </tr>\n",
       "    <tr>\n",
       "      <th>13</th>\n",
       "      <td>средняя оценка</td>\n",
       "      <td>нет оценки</td>\n",
       "      <td>253</td>\n",
       "    </tr>\n",
       "    <tr>\n",
       "      <th>14</th>\n",
       "      <td>средняя оценка</td>\n",
       "      <td>низкая оценка</td>\n",
       "      <td>30</td>\n",
       "    </tr>\n",
       "    <tr>\n",
       "      <th>15</th>\n",
       "      <td>средняя оценка</td>\n",
       "      <td>средняя оценка</td>\n",
       "      <td>3157</td>\n",
       "    </tr>\n",
       "  </tbody>\n",
       "</table>\n",
       "</div>"
      ],
      "text/plain": [
       "     user_category critic_category  name\n",
       "0   высокая оценка  высокая оценка  1017\n",
       "1   высокая оценка      нет оценки   101\n",
       "2   высокая оценка   низкая оценка     1\n",
       "3   высокая оценка  средняя оценка  1167\n",
       "4       нет оценки  высокая оценка    33\n",
       "5       нет оценки      нет оценки  5237\n",
       "6       нет оценки   низкая оценка     7\n",
       "7       нет оценки  средняя оценка  1021\n",
       "8    низкая оценка  высокая оценка     1\n",
       "9    низкая оценка      нет оценки    21\n",
       "10   низкая оценка   низкая оценка    17\n",
       "11   низкая оценка  средняя оценка    77\n",
       "12  средняя оценка  высокая оценка   641\n",
       "13  средняя оценка      нет оценки   253\n",
       "14  средняя оценка   низкая оценка    30\n",
       "15  средняя оценка  средняя оценка  3157"
      ]
     },
     "metadata": {},
     "output_type": "display_data"
    }
   ],
   "source": [
    "# Создаем сгруппированный по двум столбцам датафрейм \n",
    "grouped_data = df_actual.groupby(['user_category','critic_category'], as_index = False)['name'].count()\n",
    "# Выводим на экран\n",
    "display(grouped_data)"
   ]
  },
  {
   "cell_type": "markdown",
   "id": "6a98444c",
   "metadata": {
    "id": "6a98444c"
   },
   "source": [
    "- Выделите топ-7 платформ по количеству игр, выпущенных за весь актуальный период."
   ]
  },
  {
   "cell_type": "code",
   "execution_count": 67,
   "id": "003caa2c",
   "metadata": {
    "id": "003caa2c"
   },
   "outputs": [
    {
     "data": {
      "text/plain": [
       "platform\n",
       "PS2     2127\n",
       "DS      2120\n",
       "Wii     1275\n",
       "PSP     1180\n",
       "X360    1121\n",
       "PS3     1087\n",
       "GBA      811\n",
       "Name: name, dtype: int64"
      ]
     },
     "metadata": {},
     "output_type": "display_data"
    }
   ],
   "source": [
    "# Создаем новый сгруппированный датафрейм по платформам\n",
    "new_grouped_data = df_actual.groupby(['platform'])['name'].count()\n",
    "# Выводим на экран\n",
    "display(new_grouped_data.sort_values(ascending = False).head(7))"
   ]
  },
  {
   "cell_type": "markdown",
   "id": "c0158881",
   "metadata": {
    "id": "c0158881"
   },
   "source": [
    "---\n",
    "\n",
    "## 5. Итоговый вывод\n",
    "\n",
    "В конце напишите основной вывод и отразите, какую работу проделали. Не забудьте указать описание среза данных и новых полей, которые добавили в исходный датасет."
   ]
  },
  {
   "cell_type": "markdown",
   "id": "9d221975",
   "metadata": {},
   "source": [
    "В проекте перед нами стояли задачи: познакомиться с данными, проверить их корректность и провести предобработку, получив необходимый срез данных. Познакомившись с данными, было отмечено несоответствие у некоторых значений в столбцах датасета с их логическим, или корректным для них, типом данных."
   ]
  },
  {
   "cell_type": "markdown",
   "id": "5b682a27",
   "metadata": {
    "id": "0c1afc40"
   },
   "source": [
    "Были проведены поиски ошибок в данных и их предобработка. Проведена нормализация названий игр и жанров. Каждое значение в этих столбцах было приведенок формату *snake_case* в рамках нормализации. Датасет был очищен от строк с пропущенными значениями в столбцах `name` и `genre`, а также из столбца `year_of_release`. Столбцы `year_of_release` и `critic_score` были приведены к корректному типу данных - `int64` или к целым числам, а столбцы `eu_sales','jp_sales','user_score` - к `float64` или целым числам с плавающей точкой.  Помимо этого были удалены строки-дубликаты. Всего датасет был очищен от 512 строк. Пустые значения в столбце `rating` были заменены на значение *unknown* для удобного анализа датасета. Проведён срез данных с 2000 по 2013 год. Проведена категоризация оценок и добавление в датафрейм новых столбцов: `user_category` и `critic_category`. По этим данным сгруппированна и подсчитана инфомация о самой популярной игровой платформе, категории оценок \" оценки пользователь-критик\", \" оценки пользователей\" и \"оценки критиков\"."
   ]
  },
  {
   "cell_type": "markdown",
   "id": "d2d7dc2e",
   "metadata": {
    "id": "20175f5b"
   },
   "source": [
    "По завершению работы над датасетом можно сделать вывод, что большинство игр осталось без оценки пользователей или критиков.\n",
    "Большинство игр за период с 2000 по 2013 не имели оценок в датасете. Самой многочисленной группой игр, у которых есть оценки пользователей и критиков, является группа игр со \"средней оценкой\" и пользователей и критиков. Самой популярной платформой за период 2000-2013 гг. является PlayStation 2. За ней с небольшим отстованием следует Nintendo DS. Отсутствие рейтинга от ESRB у некоторых игр, а таких в датасете ~ 40%,  может говорить о том, что данные игры не были выпущены для США и Канады или нацелены на игроков, проживающих в них. Примером таких игр могут быть игры жанра JRPG - японская ролевая игра, пользующееся популярностью преимущественно в Японии."
   ]
  },
  {
   "cell_type": "markdown",
   "id": "a158dc2a",
   "metadata": {},
   "source": [
    "По данным сгруппированых оценок можно увидеть, что критики чаще ставят высокие оценки играм,чем обычные пользователи. При этом обычные пользователи чаще критиков ставят играм \"среднюю\" оценку. Несмотря на различия, чаще всего и критики и пользователи сходятся во мнении насчёт игр \"средней\" категории - 3157 игр,которые критики и пользователи отметили как \"средние\". "
   ]
  }
 ],
 "metadata": {
  "ExecuteTimeLog": [
   {
    "duration": 4,
    "start_time": "2025-02-23T15:08:14.202Z"
   },
   {
    "duration": 7,
    "start_time": "2025-02-23T15:08:14.207Z"
   },
   {
    "duration": 8,
    "start_time": "2025-02-23T15:08:14.216Z"
   },
   {
    "duration": 3,
    "start_time": "2025-02-23T15:08:40.360Z"
   },
   {
    "duration": 14,
    "start_time": "2025-02-23T15:08:40.365Z"
   },
   {
    "duration": 3,
    "start_time": "2025-02-23T15:08:40.382Z"
   },
   {
    "duration": 4,
    "start_time": "2025-02-23T15:10:03.060Z"
   },
   {
    "duration": 57,
    "start_time": "2025-02-23T15:10:03.065Z"
   },
   {
    "duration": 10,
    "start_time": "2025-02-23T15:10:03.124Z"
   },
   {
    "duration": 4,
    "start_time": "2025-02-23T15:11:26.828Z"
   },
   {
    "duration": 7,
    "start_time": "2025-02-23T15:11:26.834Z"
   },
   {
    "duration": 3,
    "start_time": "2025-02-23T15:11:26.843Z"
   },
   {
    "duration": 50,
    "start_time": "2025-02-23T15:15:42.128Z"
   },
   {
    "duration": 446,
    "start_time": "2025-02-23T15:16:08.563Z"
   },
   {
    "duration": 93,
    "start_time": "2025-02-23T15:16:09.608Z"
   },
   {
    "duration": 17,
    "start_time": "2025-02-23T15:16:10.710Z"
   },
   {
    "duration": 20,
    "start_time": "2025-02-23T15:20:44.807Z"
   },
   {
    "duration": 14,
    "start_time": "2025-02-23T15:21:29.405Z"
   },
   {
    "duration": 13,
    "start_time": "2025-02-23T15:21:53.258Z"
   },
   {
    "duration": 15,
    "start_time": "2025-02-23T15:22:05.027Z"
   },
   {
    "duration": 3,
    "start_time": "2025-02-23T15:26:45.168Z"
   },
   {
    "duration": 15,
    "start_time": "2025-02-23T15:26:45.173Z"
   },
   {
    "duration": 31,
    "start_time": "2025-02-23T15:26:45.190Z"
   },
   {
    "duration": 441,
    "start_time": "2025-02-23T15:26:45.222Z"
   },
   {
    "duration": 99,
    "start_time": "2025-02-23T15:26:45.665Z"
   },
   {
    "duration": 21,
    "start_time": "2025-02-23T15:26:45.766Z"
   },
   {
    "duration": 20,
    "start_time": "2025-02-23T15:26:45.789Z"
   },
   {
    "duration": 14,
    "start_time": "2025-02-23T15:26:45.811Z"
   },
   {
    "duration": 4,
    "start_time": "2025-02-23T15:27:30.837Z"
   },
   {
    "duration": 3,
    "start_time": "2025-02-23T15:27:30.843Z"
   },
   {
    "duration": 27,
    "start_time": "2025-02-23T15:27:30.847Z"
   },
   {
    "duration": 473,
    "start_time": "2025-02-23T15:27:30.882Z"
   },
   {
    "duration": 110,
    "start_time": "2025-02-23T15:27:31.358Z"
   },
   {
    "duration": 26,
    "start_time": "2025-02-23T15:27:31.470Z"
   },
   {
    "duration": 21,
    "start_time": "2025-02-23T15:27:31.498Z"
   },
   {
    "duration": 13,
    "start_time": "2025-02-23T15:27:31.521Z"
   },
   {
    "duration": 3,
    "start_time": "2025-02-23T15:28:52.907Z"
   },
   {
    "duration": 3,
    "start_time": "2025-02-23T15:28:52.912Z"
   },
   {
    "duration": 10,
    "start_time": "2025-02-23T15:28:52.917Z"
   },
   {
    "duration": 377,
    "start_time": "2025-02-23T15:28:52.929Z"
   },
   {
    "duration": 121,
    "start_time": "2025-02-23T15:28:53.309Z"
   },
   {
    "duration": 16,
    "start_time": "2025-02-23T15:28:53.432Z"
   },
   {
    "duration": 19,
    "start_time": "2025-02-23T15:28:53.450Z"
   },
   {
    "duration": 20,
    "start_time": "2025-02-23T15:28:53.471Z"
   },
   {
    "duration": 3,
    "start_time": "2025-02-23T17:05:43.238Z"
   },
   {
    "duration": 20,
    "start_time": "2025-02-23T17:05:43.243Z"
   },
   {
    "duration": 4,
    "start_time": "2025-02-23T17:05:43.264Z"
   },
   {
    "duration": 422,
    "start_time": "2025-02-23T17:05:43.270Z"
   },
   {
    "duration": 204,
    "start_time": "2025-02-23T17:05:43.694Z"
   },
   {
    "duration": 17,
    "start_time": "2025-02-23T17:05:43.900Z"
   },
   {
    "duration": 20,
    "start_time": "2025-02-23T17:05:43.920Z"
   },
   {
    "duration": 35,
    "start_time": "2025-02-23T17:05:43.942Z"
   },
   {
    "duration": 4,
    "start_time": "2025-02-23T17:07:08.590Z"
   },
   {
    "duration": 67,
    "start_time": "2025-02-23T17:17:55.738Z"
   },
   {
    "duration": 3,
    "start_time": "2025-02-23T17:18:14.614Z"
   },
   {
    "duration": 7,
    "start_time": "2025-02-23T17:18:17.570Z"
   },
   {
    "duration": 3,
    "start_time": "2025-02-23T17:19:54.207Z"
   },
   {
    "duration": 10,
    "start_time": "2025-02-23T17:19:54.212Z"
   },
   {
    "duration": 5,
    "start_time": "2025-02-23T17:19:54.224Z"
   },
   {
    "duration": 362,
    "start_time": "2025-02-23T17:19:54.231Z"
   },
   {
    "duration": 151,
    "start_time": "2025-02-23T17:19:54.595Z"
   },
   {
    "duration": 16,
    "start_time": "2025-02-23T17:19:54.748Z"
   },
   {
    "duration": 20,
    "start_time": "2025-02-23T17:19:54.766Z"
   },
   {
    "duration": 31,
    "start_time": "2025-02-23T17:19:54.787Z"
   },
   {
    "duration": 8,
    "start_time": "2025-02-23T17:19:54.820Z"
   },
   {
    "duration": 8,
    "start_time": "2025-02-23T17:19:54.829Z"
   },
   {
    "duration": 88,
    "start_time": "2025-02-23T17:20:01.287Z"
   },
   {
    "duration": 7,
    "start_time": "2025-02-23T17:20:48.692Z"
   },
   {
    "duration": 7,
    "start_time": "2025-02-23T17:25:34.801Z"
   },
   {
    "duration": 9,
    "start_time": "2025-02-23T17:25:48.068Z"
   },
   {
    "duration": 4,
    "start_time": "2025-02-23T17:25:56.115Z"
   },
   {
    "duration": 8,
    "start_time": "2025-02-23T17:25:56.121Z"
   },
   {
    "duration": 15,
    "start_time": "2025-02-23T17:25:56.131Z"
   },
   {
    "duration": 435,
    "start_time": "2025-02-23T17:25:56.148Z"
   },
   {
    "duration": 106,
    "start_time": "2025-02-23T17:25:56.585Z"
   },
   {
    "duration": 17,
    "start_time": "2025-02-23T17:25:56.693Z"
   },
   {
    "duration": 20,
    "start_time": "2025-02-23T17:25:56.711Z"
   },
   {
    "duration": 13,
    "start_time": "2025-02-23T17:25:56.733Z"
   },
   {
    "duration": 5,
    "start_time": "2025-02-23T17:25:56.774Z"
   },
   {
    "duration": 4,
    "start_time": "2025-02-23T17:25:56.780Z"
   },
   {
    "duration": 67,
    "start_time": "2025-02-23T17:26:08.975Z"
   },
   {
    "duration": 7,
    "start_time": "2025-02-23T17:26:18.874Z"
   },
   {
    "duration": 7,
    "start_time": "2025-02-23T17:26:22.629Z"
   },
   {
    "duration": 4,
    "start_time": "2025-02-23T17:26:32.456Z"
   },
   {
    "duration": 18,
    "start_time": "2025-02-23T17:26:32.462Z"
   },
   {
    "duration": 5,
    "start_time": "2025-02-23T17:26:32.483Z"
   },
   {
    "duration": 407,
    "start_time": "2025-02-23T17:26:32.490Z"
   },
   {
    "duration": 107,
    "start_time": "2025-02-23T17:26:32.899Z"
   },
   {
    "duration": 17,
    "start_time": "2025-02-23T17:26:33.008Z"
   },
   {
    "duration": 22,
    "start_time": "2025-02-23T17:26:33.027Z"
   },
   {
    "duration": 25,
    "start_time": "2025-02-23T17:26:33.052Z"
   },
   {
    "duration": 13,
    "start_time": "2025-02-23T17:26:33.079Z"
   },
   {
    "duration": 14,
    "start_time": "2025-02-23T17:26:56.400Z"
   },
   {
    "duration": 4,
    "start_time": "2025-02-23T17:27:01.471Z"
   },
   {
    "duration": 4,
    "start_time": "2025-02-23T17:27:04.915Z"
   },
   {
    "duration": 4,
    "start_time": "2025-02-23T17:27:16.487Z"
   },
   {
    "duration": 64,
    "start_time": "2025-02-23T17:27:18.698Z"
   },
   {
    "duration": 7,
    "start_time": "2025-02-23T17:27:27.045Z"
   },
   {
    "duration": 7,
    "start_time": "2025-02-23T17:27:50.662Z"
   },
   {
    "duration": 7,
    "start_time": "2025-02-23T17:27:53.588Z"
   },
   {
    "duration": 7,
    "start_time": "2025-02-23T17:28:20.444Z"
   },
   {
    "duration": 8,
    "start_time": "2025-02-23T17:28:26.128Z"
   },
   {
    "duration": 52,
    "start_time": "2025-02-23T17:28:34.557Z"
   },
   {
    "duration": 3,
    "start_time": "2025-02-23T17:28:38.335Z"
   },
   {
    "duration": 3,
    "start_time": "2025-02-23T17:28:38.340Z"
   },
   {
    "duration": 3,
    "start_time": "2025-02-23T17:28:38.345Z"
   },
   {
    "duration": 440,
    "start_time": "2025-02-23T17:28:38.350Z"
   },
   {
    "duration": 167,
    "start_time": "2025-02-23T17:28:38.792Z"
   },
   {
    "duration": 17,
    "start_time": "2025-02-23T17:28:38.960Z"
   },
   {
    "duration": 20,
    "start_time": "2025-02-23T17:28:38.979Z"
   },
   {
    "duration": 14,
    "start_time": "2025-02-23T17:28:39.001Z"
   },
   {
    "duration": 5,
    "start_time": "2025-02-23T17:28:39.017Z"
   },
   {
    "duration": 5,
    "start_time": "2025-02-23T17:28:53.951Z"
   },
   {
    "duration": 65,
    "start_time": "2025-02-23T17:29:35.436Z"
   },
   {
    "duration": 4,
    "start_time": "2025-02-23T17:29:43.977Z"
   },
   {
    "duration": 68,
    "start_time": "2025-02-23T17:29:46.008Z"
   },
   {
    "duration": 9,
    "start_time": "2025-02-23T17:30:12.354Z"
   },
   {
    "duration": 8,
    "start_time": "2025-02-23T17:30:14.044Z"
   },
   {
    "duration": 4,
    "start_time": "2025-02-23T17:30:26.997Z"
   },
   {
    "duration": 19,
    "start_time": "2025-02-23T17:30:27.003Z"
   },
   {
    "duration": 3,
    "start_time": "2025-02-23T17:30:27.024Z"
   },
   {
    "duration": 379,
    "start_time": "2025-02-23T17:30:27.029Z"
   },
   {
    "duration": 82,
    "start_time": "2025-02-23T17:30:27.409Z"
   },
   {
    "duration": 17,
    "start_time": "2025-02-23T17:30:27.493Z"
   },
   {
    "duration": 19,
    "start_time": "2025-02-23T17:30:27.512Z"
   },
   {
    "duration": 13,
    "start_time": "2025-02-23T17:30:27.533Z"
   },
   {
    "duration": 30,
    "start_time": "2025-02-23T17:30:27.547Z"
   },
   {
    "duration": 5,
    "start_time": "2025-02-23T17:30:27.580Z"
   },
   {
    "duration": 4,
    "start_time": "2025-02-23T17:30:34.246Z"
   },
   {
    "duration": 4,
    "start_time": "2025-02-23T17:30:36.188Z"
   },
   {
    "duration": 6,
    "start_time": "2025-02-23T17:31:00.888Z"
   },
   {
    "duration": 15,
    "start_time": "2025-02-23T17:34:25.228Z"
   },
   {
    "duration": 81,
    "start_time": "2025-02-23T17:34:38.923Z"
   },
   {
    "duration": 22,
    "start_time": "2025-02-23T17:34:44.207Z"
   },
   {
    "duration": 12,
    "start_time": "2025-02-23T17:47:13.763Z"
   },
   {
    "duration": 14,
    "start_time": "2025-02-23T17:47:30.134Z"
   },
   {
    "duration": 13,
    "start_time": "2025-02-23T17:47:44.069Z"
   },
   {
    "duration": 1058,
    "start_time": "2025-02-23T17:58:24.103Z"
   },
   {
    "duration": 20,
    "start_time": "2025-02-23T17:58:52.079Z"
   },
   {
    "duration": 37,
    "start_time": "2025-02-23T18:04:15.661Z"
   },
   {
    "duration": 4,
    "start_time": "2025-02-23T18:04:49.218Z"
   },
   {
    "duration": 3,
    "start_time": "2025-02-23T18:04:49.225Z"
   },
   {
    "duration": 8,
    "start_time": "2025-02-23T18:04:49.230Z"
   },
   {
    "duration": 415,
    "start_time": "2025-02-23T18:04:49.241Z"
   },
   {
    "duration": 175,
    "start_time": "2025-02-23T18:04:49.658Z"
   },
   {
    "duration": 20,
    "start_time": "2025-02-23T18:04:49.835Z"
   },
   {
    "duration": 33,
    "start_time": "2025-02-23T18:04:49.858Z"
   },
   {
    "duration": 14,
    "start_time": "2025-02-23T18:04:49.892Z"
   },
   {
    "duration": 4,
    "start_time": "2025-02-23T18:04:49.908Z"
   },
   {
    "duration": 15,
    "start_time": "2025-02-23T18:04:49.914Z"
   },
   {
    "duration": 23,
    "start_time": "2025-02-23T18:04:49.931Z"
   },
   {
    "duration": 47,
    "start_time": "2025-02-23T18:04:49.956Z"
   },
   {
    "duration": 88,
    "start_time": "2025-02-23T18:04:50.005Z"
   },
   {
    "duration": 15,
    "start_time": "2025-02-23T18:05:47.917Z"
   },
   {
    "duration": 16,
    "start_time": "2025-02-23T18:05:49.840Z"
   },
   {
    "duration": 3,
    "start_time": "2025-02-23T18:06:14.521Z"
   },
   {
    "duration": 17,
    "start_time": "2025-02-23T18:06:25.945Z"
   },
   {
    "duration": 18,
    "start_time": "2025-02-23T18:06:28.151Z"
   },
   {
    "duration": 31,
    "start_time": "2025-02-23T18:07:39.891Z"
   },
   {
    "duration": 24,
    "start_time": "2025-02-23T18:07:53.534Z"
   },
   {
    "duration": 30,
    "start_time": "2025-02-23T18:08:37.873Z"
   },
   {
    "duration": 9,
    "start_time": "2025-02-23T18:13:32.489Z"
   },
   {
    "duration": 7,
    "start_time": "2025-02-23T18:13:56.663Z"
   },
   {
    "duration": 17,
    "start_time": "2025-02-23T18:14:16.837Z"
   },
   {
    "duration": 67,
    "start_time": "2025-02-23T18:14:28.853Z"
   },
   {
    "duration": 45,
    "start_time": "2025-02-23T18:14:34.051Z"
   },
   {
    "duration": 35,
    "start_time": "2025-02-23T18:15:05.009Z"
   },
   {
    "duration": 13,
    "start_time": "2025-02-23T18:15:38.746Z"
   },
   {
    "duration": 13,
    "start_time": "2025-02-23T18:16:36.794Z"
   },
   {
    "duration": 15,
    "start_time": "2025-02-23T18:16:56.153Z"
   },
   {
    "duration": 34,
    "start_time": "2025-02-23T18:17:08.883Z"
   },
   {
    "duration": 34,
    "start_time": "2025-02-23T18:17:19.178Z"
   },
   {
    "duration": 39,
    "start_time": "2025-02-23T18:17:48.721Z"
   },
   {
    "duration": 3,
    "start_time": "2025-02-23T18:18:01.154Z"
   },
   {
    "duration": 23,
    "start_time": "2025-02-23T18:18:01.159Z"
   },
   {
    "duration": 20,
    "start_time": "2025-02-23T18:18:01.183Z"
   },
   {
    "duration": 414,
    "start_time": "2025-02-23T18:18:01.205Z"
   },
   {
    "duration": 105,
    "start_time": "2025-02-23T18:18:01.621Z"
   },
   {
    "duration": 18,
    "start_time": "2025-02-23T18:18:01.727Z"
   },
   {
    "duration": 37,
    "start_time": "2025-02-23T18:18:01.747Z"
   },
   {
    "duration": 24,
    "start_time": "2025-02-23T18:18:01.786Z"
   },
   {
    "duration": 12,
    "start_time": "2025-02-23T18:18:01.813Z"
   },
   {
    "duration": 8,
    "start_time": "2025-02-23T18:18:01.827Z"
   },
   {
    "duration": 25,
    "start_time": "2025-02-23T18:18:01.837Z"
   },
   {
    "duration": 66,
    "start_time": "2025-02-23T18:18:01.864Z"
   },
   {
    "duration": 23,
    "start_time": "2025-02-23T18:18:01.932Z"
   },
   {
    "duration": 23,
    "start_time": "2025-02-23T18:18:01.957Z"
   },
   {
    "duration": 16,
    "start_time": "2025-02-23T18:18:55.469Z"
   },
   {
    "duration": 20,
    "start_time": "2025-02-23T18:19:04.530Z"
   },
   {
    "duration": 86,
    "start_time": "2025-02-23T18:19:43.509Z"
   },
   {
    "duration": 17,
    "start_time": "2025-02-23T18:20:42.028Z"
   },
   {
    "duration": 15,
    "start_time": "2025-02-23T18:21:06.672Z"
   },
   {
    "duration": 14,
    "start_time": "2025-02-23T18:21:13.514Z"
   },
   {
    "duration": 18,
    "start_time": "2025-02-23T18:21:32.627Z"
   },
   {
    "duration": 13,
    "start_time": "2025-02-23T18:21:40.538Z"
   },
   {
    "duration": 18,
    "start_time": "2025-02-23T18:22:44.851Z"
   },
   {
    "duration": 66,
    "start_time": "2025-02-23T18:24:33.285Z"
   },
   {
    "duration": 16,
    "start_time": "2025-02-23T18:24:35.252Z"
   },
   {
    "duration": 25,
    "start_time": "2025-02-23T18:25:04.223Z"
   },
   {
    "duration": 14,
    "start_time": "2025-02-23T18:25:06.793Z"
   },
   {
    "duration": 14,
    "start_time": "2025-02-23T18:25:10.040Z"
   },
   {
    "duration": 20,
    "start_time": "2025-02-23T18:25:16.026Z"
   },
   {
    "duration": 25,
    "start_time": "2025-02-23T18:25:34.031Z"
   },
   {
    "duration": 4,
    "start_time": "2025-02-23T18:25:40.942Z"
   },
   {
    "duration": 11,
    "start_time": "2025-02-23T18:25:40.947Z"
   },
   {
    "duration": 8,
    "start_time": "2025-02-23T18:25:40.960Z"
   },
   {
    "duration": 466,
    "start_time": "2025-02-23T18:25:40.971Z"
   },
   {
    "duration": 155,
    "start_time": "2025-02-23T18:25:41.439Z"
   },
   {
    "duration": 16,
    "start_time": "2025-02-23T18:25:41.596Z"
   },
   {
    "duration": 21,
    "start_time": "2025-02-23T18:25:41.614Z"
   },
   {
    "duration": 14,
    "start_time": "2025-02-23T18:25:41.637Z"
   },
   {
    "duration": 4,
    "start_time": "2025-02-23T18:25:41.653Z"
   },
   {
    "duration": 12,
    "start_time": "2025-02-23T18:25:41.676Z"
   },
   {
    "duration": 23,
    "start_time": "2025-02-23T18:25:41.691Z"
   },
   {
    "duration": 21,
    "start_time": "2025-02-23T18:25:41.716Z"
   },
   {
    "duration": 63,
    "start_time": "2025-02-23T18:25:41.738Z"
   },
   {
    "duration": 24,
    "start_time": "2025-02-23T18:25:41.802Z"
   },
   {
    "duration": 3,
    "start_time": "2025-02-23T18:26:10.421Z"
   },
   {
    "duration": 3,
    "start_time": "2025-02-23T18:26:10.426Z"
   },
   {
    "duration": 15,
    "start_time": "2025-02-23T18:26:10.430Z"
   },
   {
    "duration": 452,
    "start_time": "2025-02-23T18:26:10.447Z"
   },
   {
    "duration": 93,
    "start_time": "2025-02-23T18:26:10.901Z"
   },
   {
    "duration": 18,
    "start_time": "2025-02-23T18:26:10.996Z"
   },
   {
    "duration": 21,
    "start_time": "2025-02-23T18:26:11.015Z"
   },
   {
    "duration": 14,
    "start_time": "2025-02-23T18:26:11.038Z"
   },
   {
    "duration": 25,
    "start_time": "2025-02-23T18:26:11.054Z"
   },
   {
    "duration": 6,
    "start_time": "2025-02-23T18:26:11.082Z"
   },
   {
    "duration": 28,
    "start_time": "2025-02-23T18:26:11.089Z"
   },
   {
    "duration": 17,
    "start_time": "2025-02-23T18:26:11.119Z"
   },
   {
    "duration": 57,
    "start_time": "2025-02-23T18:26:11.137Z"
   },
   {
    "duration": 14,
    "start_time": "2025-02-23T18:31:25.386Z"
   },
   {
    "duration": 7,
    "start_time": "2025-02-23T18:31:35.780Z"
   },
   {
    "duration": 14,
    "start_time": "2025-02-23T18:31:35.789Z"
   },
   {
    "duration": 22,
    "start_time": "2025-02-23T18:31:35.804Z"
   },
   {
    "duration": 8,
    "start_time": "2025-02-23T18:31:35.828Z"
   },
   {
    "duration": 98,
    "start_time": "2025-02-23T18:31:35.838Z"
   },
   {
    "duration": 16,
    "start_time": "2025-02-23T18:31:35.938Z"
   },
   {
    "duration": 39,
    "start_time": "2025-02-23T18:31:35.955Z"
   },
   {
    "duration": 25,
    "start_time": "2025-02-23T18:31:35.995Z"
   },
   {
    "duration": 25,
    "start_time": "2025-02-23T18:31:36.022Z"
   },
   {
    "duration": 47,
    "start_time": "2025-02-23T18:31:36.049Z"
   },
   {
    "duration": 38,
    "start_time": "2025-02-23T18:31:36.098Z"
   },
   {
    "duration": 20,
    "start_time": "2025-02-23T18:31:36.138Z"
   },
   {
    "duration": 29,
    "start_time": "2025-02-23T18:31:36.160Z"
   },
   {
    "duration": 4,
    "start_time": "2025-02-23T18:39:18.088Z"
   },
   {
    "duration": 5,
    "start_time": "2025-02-23T18:39:18.094Z"
   },
   {
    "duration": 3,
    "start_time": "2025-02-23T18:39:18.101Z"
   },
   {
    "duration": 404,
    "start_time": "2025-02-23T18:39:18.106Z"
   },
   {
    "duration": 100,
    "start_time": "2025-02-23T18:39:18.513Z"
   },
   {
    "duration": 19,
    "start_time": "2025-02-23T18:39:18.615Z"
   },
   {
    "duration": 40,
    "start_time": "2025-02-23T18:39:18.636Z"
   },
   {
    "duration": 19,
    "start_time": "2025-02-23T18:39:18.678Z"
   },
   {
    "duration": 5,
    "start_time": "2025-02-23T18:39:18.699Z"
   },
   {
    "duration": 8,
    "start_time": "2025-02-23T18:39:18.706Z"
   },
   {
    "duration": 23,
    "start_time": "2025-02-23T18:39:18.716Z"
   },
   {
    "duration": 58,
    "start_time": "2025-02-23T18:39:18.740Z"
   },
   {
    "duration": 35,
    "start_time": "2025-02-23T18:39:18.801Z"
   },
   {
    "duration": 22,
    "start_time": "2025-02-23T18:40:52.794Z"
   },
   {
    "duration": 12,
    "start_time": "2025-02-23T18:41:10.192Z"
   },
   {
    "duration": 19,
    "start_time": "2025-02-23T18:41:45.252Z"
   },
   {
    "duration": 10,
    "start_time": "2025-02-23T18:41:51.121Z"
   },
   {
    "duration": 66,
    "start_time": "2025-02-23T18:44:04.943Z"
   },
   {
    "duration": 9,
    "start_time": "2025-02-23T18:44:35.737Z"
   },
   {
    "duration": 14,
    "start_time": "2025-02-23T18:46:46.066Z"
   },
   {
    "duration": 13,
    "start_time": "2025-02-23T18:49:07.996Z"
   },
   {
    "duration": 11,
    "start_time": "2025-02-23T18:49:33.701Z"
   },
   {
    "duration": 5,
    "start_time": "2025-02-23T18:50:22.222Z"
   },
   {
    "duration": 8,
    "start_time": "2025-02-23T18:50:22.229Z"
   },
   {
    "duration": 14,
    "start_time": "2025-02-23T18:50:22.239Z"
   },
   {
    "duration": 468,
    "start_time": "2025-02-23T18:50:22.255Z"
   },
   {
    "duration": 91,
    "start_time": "2025-02-23T18:50:22.726Z"
   },
   {
    "duration": 16,
    "start_time": "2025-02-23T18:50:22.819Z"
   },
   {
    "duration": 24,
    "start_time": "2025-02-23T18:50:22.837Z"
   },
   {
    "duration": 25,
    "start_time": "2025-02-23T18:50:22.863Z"
   },
   {
    "duration": 11,
    "start_time": "2025-02-23T18:50:22.890Z"
   },
   {
    "duration": 6,
    "start_time": "2025-02-23T18:50:22.903Z"
   },
   {
    "duration": 30,
    "start_time": "2025-02-23T18:50:22.912Z"
   },
   {
    "duration": 44,
    "start_time": "2025-02-23T18:50:22.944Z"
   },
   {
    "duration": 15,
    "start_time": "2025-02-23T18:50:22.990Z"
   },
   {
    "duration": 12,
    "start_time": "2025-02-23T18:50:44.219Z"
   },
   {
    "duration": 22,
    "start_time": "2025-02-23T18:50:46.866Z"
   },
   {
    "duration": 11,
    "start_time": "2025-02-23T19:06:35.222Z"
   },
   {
    "duration": 11,
    "start_time": "2025-02-23T19:06:46.135Z"
   },
   {
    "duration": 3,
    "start_time": "2025-02-23T19:17:47.715Z"
   },
   {
    "duration": 14,
    "start_time": "2025-02-23T19:17:47.719Z"
   },
   {
    "duration": 10,
    "start_time": "2025-02-23T19:17:47.736Z"
   },
   {
    "duration": 443,
    "start_time": "2025-02-23T19:17:47.748Z"
   },
   {
    "duration": 120,
    "start_time": "2025-02-23T19:17:48.193Z"
   },
   {
    "duration": 16,
    "start_time": "2025-02-23T19:17:48.315Z"
   },
   {
    "duration": 19,
    "start_time": "2025-02-23T19:17:48.333Z"
   },
   {
    "duration": 22,
    "start_time": "2025-02-23T19:17:48.354Z"
   },
   {
    "duration": 5,
    "start_time": "2025-02-23T19:17:48.377Z"
   },
   {
    "duration": 18,
    "start_time": "2025-02-23T19:17:48.383Z"
   },
   {
    "duration": 22,
    "start_time": "2025-02-23T19:17:48.403Z"
   },
   {
    "duration": 19,
    "start_time": "2025-02-23T19:17:48.427Z"
   },
   {
    "duration": 42,
    "start_time": "2025-02-23T19:17:48.447Z"
   },
   {
    "duration": 8,
    "start_time": "2025-02-23T19:17:48.490Z"
   },
   {
    "duration": 11,
    "start_time": "2025-02-23T19:17:48.500Z"
   },
   {
    "duration": 72,
    "start_time": "2025-02-23T19:23:26.639Z"
   },
   {
    "duration": 9,
    "start_time": "2025-02-23T19:24:37.186Z"
   },
   {
    "duration": 10,
    "start_time": "2025-02-23T19:24:53.251Z"
   },
   {
    "duration": 14,
    "start_time": "2025-02-23T19:24:58.795Z"
   },
   {
    "duration": 10,
    "start_time": "2025-02-23T19:25:11.030Z"
   },
   {
    "duration": 5,
    "start_time": "2025-02-23T19:25:58.537Z"
   },
   {
    "duration": 5,
    "start_time": "2025-02-23T19:26:00.763Z"
   },
   {
    "duration": 6,
    "start_time": "2025-02-23T19:26:21.463Z"
   },
   {
    "duration": 6,
    "start_time": "2025-02-23T19:26:31.085Z"
   },
   {
    "duration": 8,
    "start_time": "2025-02-23T19:26:49.263Z"
   },
   {
    "duration": 7,
    "start_time": "2025-02-23T19:27:11.532Z"
   },
   {
    "duration": 11,
    "start_time": "2025-02-23T19:27:25.433Z"
   },
   {
    "duration": 6,
    "start_time": "2025-02-23T19:29:30.941Z"
   },
   {
    "duration": 8,
    "start_time": "2025-02-23T19:31:17.874Z"
   },
   {
    "duration": 6,
    "start_time": "2025-02-23T19:31:21.178Z"
   },
   {
    "duration": 15,
    "start_time": "2025-02-23T19:31:33.456Z"
   },
   {
    "duration": 7,
    "start_time": "2025-02-23T19:32:03.236Z"
   },
   {
    "duration": 5,
    "start_time": "2025-02-23T19:32:31.420Z"
   },
   {
    "duration": 4,
    "start_time": "2025-02-23T19:36:36.244Z"
   },
   {
    "duration": 3,
    "start_time": "2025-02-23T19:36:38.375Z"
   },
   {
    "duration": 3,
    "start_time": "2025-02-23T19:36:51.097Z"
   },
   {
    "duration": 3,
    "start_time": "2025-02-23T19:36:55.610Z"
   },
   {
    "duration": 17,
    "start_time": "2025-02-23T19:37:06.131Z"
   },
   {
    "duration": 7,
    "start_time": "2025-02-23T19:37:59.421Z"
   },
   {
    "duration": 15,
    "start_time": "2025-02-23T19:38:17.601Z"
   },
   {
    "duration": 16,
    "start_time": "2025-02-23T19:38:19.927Z"
   },
   {
    "duration": 7,
    "start_time": "2025-02-23T19:38:51.325Z"
   },
   {
    "duration": 18,
    "start_time": "2025-02-23T19:39:03.920Z"
   },
   {
    "duration": 18,
    "start_time": "2025-02-23T19:40:56.745Z"
   },
   {
    "duration": 73,
    "start_time": "2025-02-23T19:41:10.346Z"
   },
   {
    "duration": 21,
    "start_time": "2025-02-23T19:41:17.294Z"
   },
   {
    "duration": 20,
    "start_time": "2025-02-23T19:41:38.398Z"
   },
   {
    "duration": 26,
    "start_time": "2025-02-23T19:41:47.954Z"
   },
   {
    "duration": 15,
    "start_time": "2025-02-23T19:53:02.800Z"
   },
   {
    "duration": 9,
    "start_time": "2025-02-23T19:57:10.666Z"
   },
   {
    "duration": 108,
    "start_time": "2025-02-23T20:00:21.213Z"
   },
   {
    "duration": 4,
    "start_time": "2025-02-23T20:00:29.491Z"
   },
   {
    "duration": 9,
    "start_time": "2025-02-23T20:00:52.617Z"
   },
   {
    "duration": 9,
    "start_time": "2025-02-23T20:01:33.954Z"
   },
   {
    "duration": 10,
    "start_time": "2025-02-23T20:01:36.286Z"
   },
   {
    "duration": 15,
    "start_time": "2025-02-23T20:02:06.554Z"
   },
   {
    "duration": 17,
    "start_time": "2025-02-23T20:02:15.915Z"
   },
   {
    "duration": 21,
    "start_time": "2025-02-23T20:02:17.044Z"
   },
   {
    "duration": 21,
    "start_time": "2025-02-23T20:03:57.409Z"
   },
   {
    "duration": 21,
    "start_time": "2025-02-23T20:04:00.804Z"
   },
   {
    "duration": 17,
    "start_time": "2025-02-23T20:06:44.250Z"
   },
   {
    "duration": 48,
    "start_time": "2025-02-23T20:11:29.811Z"
   },
   {
    "duration": 67,
    "start_time": "2025-02-23T20:13:50.608Z"
   },
   {
    "duration": 67,
    "start_time": "2025-02-23T20:14:52.264Z"
   },
   {
    "duration": 66,
    "start_time": "2025-02-23T20:15:27.504Z"
   },
   {
    "duration": 25,
    "start_time": "2025-02-23T20:18:03.161Z"
   },
   {
    "duration": 22,
    "start_time": "2025-02-23T20:18:09.339Z"
   },
   {
    "duration": 3,
    "start_time": "2025-02-23T20:18:42.815Z"
   },
   {
    "duration": 6,
    "start_time": "2025-02-23T20:18:42.820Z"
   },
   {
    "duration": 8,
    "start_time": "2025-02-23T20:18:42.827Z"
   },
   {
    "duration": 394,
    "start_time": "2025-02-23T20:18:42.837Z"
   },
   {
    "duration": 157,
    "start_time": "2025-02-23T20:18:43.233Z"
   },
   {
    "duration": 16,
    "start_time": "2025-02-23T20:18:43.391Z"
   },
   {
    "duration": 19,
    "start_time": "2025-02-23T20:18:43.408Z"
   },
   {
    "duration": 12,
    "start_time": "2025-02-23T20:18:43.429Z"
   },
   {
    "duration": 31,
    "start_time": "2025-02-23T20:18:43.444Z"
   },
   {
    "duration": 5,
    "start_time": "2025-02-23T20:18:43.476Z"
   },
   {
    "duration": 21,
    "start_time": "2025-02-23T20:18:43.483Z"
   },
   {
    "duration": 17,
    "start_time": "2025-02-23T20:18:43.506Z"
   },
   {
    "duration": 52,
    "start_time": "2025-02-23T20:18:43.525Z"
   },
   {
    "duration": 10,
    "start_time": "2025-02-23T20:18:43.578Z"
   },
   {
    "duration": 11,
    "start_time": "2025-02-23T20:18:43.589Z"
   },
   {
    "duration": 19,
    "start_time": "2025-02-23T20:18:43.602Z"
   },
   {
    "duration": 53,
    "start_time": "2025-02-23T20:18:43.622Z"
   },
   {
    "duration": 21,
    "start_time": "2025-02-23T20:18:43.677Z"
   },
   {
    "duration": 19,
    "start_time": "2025-02-23T20:18:43.700Z"
   },
   {
    "duration": 92,
    "start_time": "2025-02-23T20:18:43.721Z"
   },
   {
    "duration": 25,
    "start_time": "2025-02-23T20:18:43.815Z"
   },
   {
    "duration": 18,
    "start_time": "2025-02-23T20:22:37.439Z"
   },
   {
    "duration": 17,
    "start_time": "2025-02-23T20:22:41.689Z"
   },
   {
    "duration": 17,
    "start_time": "2025-02-23T20:25:40.629Z"
   },
   {
    "duration": 3,
    "start_time": "2025-02-23T20:28:53.381Z"
   },
   {
    "duration": 18,
    "start_time": "2025-02-23T20:30:42.374Z"
   },
   {
    "duration": 90,
    "start_time": "2025-02-23T20:35:27.438Z"
   },
   {
    "duration": 72,
    "start_time": "2025-02-23T20:35:35.778Z"
   },
   {
    "duration": 79,
    "start_time": "2025-02-23T20:35:38.874Z"
   },
   {
    "duration": 17,
    "start_time": "2025-02-23T20:36:00.699Z"
   },
   {
    "duration": 20,
    "start_time": "2025-02-23T20:36:27.112Z"
   },
   {
    "duration": 19,
    "start_time": "2025-02-23T20:36:33.057Z"
   },
   {
    "duration": 8,
    "start_time": "2025-02-23T20:42:48.769Z"
   },
   {
    "duration": 10,
    "start_time": "2025-02-23T20:42:53.027Z"
   },
   {
    "duration": 26,
    "start_time": "2025-02-23T21:00:20.421Z"
   },
   {
    "duration": 70,
    "start_time": "2025-02-23T21:00:33.174Z"
   },
   {
    "duration": 30,
    "start_time": "2025-02-23T21:00:49.826Z"
   },
   {
    "duration": 5,
    "start_time": "2025-02-23T21:14:07.914Z"
   },
   {
    "duration": 1005,
    "start_time": "2025-02-23T21:14:09.446Z"
   },
   {
    "duration": 21,
    "start_time": "2025-02-23T21:14:10.525Z"
   },
   {
    "duration": 3,
    "start_time": "2025-02-23T21:18:24.103Z"
   },
   {
    "duration": 1010,
    "start_time": "2025-02-23T21:18:24.891Z"
   },
   {
    "duration": 5,
    "start_time": "2025-02-23T21:20:10.491Z"
   },
   {
    "duration": 4,
    "start_time": "2025-02-23T21:21:48.563Z"
   },
   {
    "duration": 148,
    "start_time": "2025-02-23T21:21:50.024Z"
   },
   {
    "duration": 139,
    "start_time": "2025-02-23T21:22:51.714Z"
   },
   {
    "duration": 21,
    "start_time": "2025-02-23T21:22:54.467Z"
   },
   {
    "duration": 3,
    "start_time": "2025-02-23T21:24:10.349Z"
   },
   {
    "duration": 153,
    "start_time": "2025-02-23T21:24:10.972Z"
   },
   {
    "duration": 21,
    "start_time": "2025-02-23T21:24:12.289Z"
   },
   {
    "duration": 3,
    "start_time": "2025-02-23T21:24:55.214Z"
   },
   {
    "duration": 143,
    "start_time": "2025-02-23T21:24:55.804Z"
   },
   {
    "duration": 22,
    "start_time": "2025-02-23T21:24:56.688Z"
   },
   {
    "duration": 5,
    "start_time": "2025-02-23T21:25:31.434Z"
   },
   {
    "duration": 21,
    "start_time": "2025-02-23T21:25:40.795Z"
   },
   {
    "duration": 3,
    "start_time": "2025-02-23T21:29:37.708Z"
   },
   {
    "duration": 146,
    "start_time": "2025-02-23T21:29:38.154Z"
   },
   {
    "duration": 28,
    "start_time": "2025-02-23T21:29:38.870Z"
   },
   {
    "duration": 3,
    "start_time": "2025-02-23T21:30:00.676Z"
   },
   {
    "duration": 143,
    "start_time": "2025-02-23T21:30:01.150Z"
   },
   {
    "duration": 22,
    "start_time": "2025-02-23T21:30:01.820Z"
   },
   {
    "duration": 4,
    "start_time": "2025-02-23T21:31:26.091Z"
   },
   {
    "duration": 3,
    "start_time": "2025-02-23T21:31:26.098Z"
   },
   {
    "duration": 4,
    "start_time": "2025-02-23T21:31:26.102Z"
   },
   {
    "duration": 392,
    "start_time": "2025-02-23T21:31:26.108Z"
   },
   {
    "duration": 129,
    "start_time": "2025-02-23T21:31:26.502Z"
   },
   {
    "duration": 18,
    "start_time": "2025-02-23T21:31:26.634Z"
   },
   {
    "duration": 21,
    "start_time": "2025-02-23T21:31:26.653Z"
   },
   {
    "duration": 13,
    "start_time": "2025-02-23T21:31:26.676Z"
   },
   {
    "duration": 6,
    "start_time": "2025-02-23T21:31:26.691Z"
   },
   {
    "duration": 21,
    "start_time": "2025-02-23T21:31:26.699Z"
   },
   {
    "duration": 39,
    "start_time": "2025-02-23T21:31:26.724Z"
   },
   {
    "duration": 18,
    "start_time": "2025-02-23T21:31:26.765Z"
   },
   {
    "duration": 23,
    "start_time": "2025-02-23T21:31:26.785Z"
   },
   {
    "duration": 9,
    "start_time": "2025-02-23T21:31:26.809Z"
   },
   {
    "duration": 11,
    "start_time": "2025-02-23T21:31:26.820Z"
   },
   {
    "duration": 48,
    "start_time": "2025-02-23T21:31:26.832Z"
   },
   {
    "duration": 21,
    "start_time": "2025-02-23T21:31:26.882Z"
   },
   {
    "duration": 28,
    "start_time": "2025-02-23T21:31:26.905Z"
   },
   {
    "duration": 18,
    "start_time": "2025-02-23T21:31:26.935Z"
   },
   {
    "duration": 85,
    "start_time": "2025-02-23T21:31:26.954Z"
   },
   {
    "duration": 40,
    "start_time": "2025-02-23T21:31:27.041Z"
   },
   {
    "duration": 16,
    "start_time": "2025-02-23T21:31:27.082Z"
   },
   {
    "duration": 18,
    "start_time": "2025-02-23T21:31:27.100Z"
   },
   {
    "duration": 28,
    "start_time": "2025-02-23T21:31:27.120Z"
   },
   {
    "duration": 4,
    "start_time": "2025-02-23T21:31:27.174Z"
   },
   {
    "duration": 155,
    "start_time": "2025-02-23T21:31:27.180Z"
   },
   {
    "duration": 22,
    "start_time": "2025-02-23T21:31:27.336Z"
   },
   {
    "duration": 16,
    "start_time": "2025-02-23T21:31:27.360Z"
   },
   {
    "duration": 3,
    "start_time": "2025-02-23T21:33:15.218Z"
   },
   {
    "duration": 10,
    "start_time": "2025-02-23T21:33:15.222Z"
   },
   {
    "duration": 28,
    "start_time": "2025-02-23T21:33:15.234Z"
   },
   {
    "duration": 431,
    "start_time": "2025-02-23T21:33:15.263Z"
   },
   {
    "duration": 115,
    "start_time": "2025-02-23T21:33:15.696Z"
   },
   {
    "duration": 17,
    "start_time": "2025-02-23T21:33:15.813Z"
   },
   {
    "duration": 20,
    "start_time": "2025-02-23T21:33:15.831Z"
   },
   {
    "duration": 26,
    "start_time": "2025-02-23T21:33:15.852Z"
   },
   {
    "duration": 5,
    "start_time": "2025-02-23T21:33:15.880Z"
   },
   {
    "duration": 5,
    "start_time": "2025-02-23T21:33:15.887Z"
   },
   {
    "duration": 21,
    "start_time": "2025-02-23T21:33:15.895Z"
   },
   {
    "duration": 15,
    "start_time": "2025-02-23T21:33:15.918Z"
   },
   {
    "duration": 52,
    "start_time": "2025-02-23T21:33:15.935Z"
   },
   {
    "duration": 10,
    "start_time": "2025-02-23T21:33:15.988Z"
   },
   {
    "duration": 11,
    "start_time": "2025-02-23T21:33:16.000Z"
   },
   {
    "duration": 20,
    "start_time": "2025-02-23T21:33:16.013Z"
   },
   {
    "duration": 55,
    "start_time": "2025-02-23T21:33:16.034Z"
   },
   {
    "duration": 27,
    "start_time": "2025-02-23T21:33:16.090Z"
   },
   {
    "duration": 18,
    "start_time": "2025-02-23T21:33:16.119Z"
   },
   {
    "duration": 85,
    "start_time": "2025-02-23T21:33:16.138Z"
   },
   {
    "duration": 23,
    "start_time": "2025-02-23T21:33:16.224Z"
   },
   {
    "duration": 31,
    "start_time": "2025-02-23T21:33:16.249Z"
   },
   {
    "duration": 17,
    "start_time": "2025-02-23T21:33:16.282Z"
   },
   {
    "duration": 26,
    "start_time": "2025-02-23T21:33:16.300Z"
   },
   {
    "duration": 3,
    "start_time": "2025-02-23T21:33:16.328Z"
   },
   {
    "duration": 163,
    "start_time": "2025-02-23T21:33:16.332Z"
   },
   {
    "duration": 21,
    "start_time": "2025-02-23T21:33:16.497Z"
   },
   {
    "duration": 3,
    "start_time": "2025-02-23T21:33:16.519Z"
   },
   {
    "duration": 162,
    "start_time": "2025-02-23T21:33:16.525Z"
   },
   {
    "duration": 23,
    "start_time": "2025-02-23T21:33:16.689Z"
   },
   {
    "duration": 64,
    "start_time": "2025-02-23T21:39:26.052Z"
   },
   {
    "duration": 7,
    "start_time": "2025-02-23T21:39:31.617Z"
   },
   {
    "duration": 8,
    "start_time": "2025-02-23T21:39:46.642Z"
   },
   {
    "duration": 7,
    "start_time": "2025-02-23T21:41:35.164Z"
   },
   {
    "duration": 8,
    "start_time": "2025-02-23T21:41:45.709Z"
   },
   {
    "duration": 17,
    "start_time": "2025-02-23T21:43:25.558Z"
   },
   {
    "duration": 50,
    "start_time": "2025-02-23T21:43:35.997Z"
   },
   {
    "duration": 16,
    "start_time": "2025-02-23T21:43:39.374Z"
   },
   {
    "duration": 7,
    "start_time": "2025-02-23T21:45:59.392Z"
   },
   {
    "duration": 13,
    "start_time": "2025-02-23T21:49:07.415Z"
   },
   {
    "duration": 13,
    "start_time": "2025-02-23T21:49:15.735Z"
   },
   {
    "duration": 15,
    "start_time": "2025-02-23T21:49:24.977Z"
   },
   {
    "duration": 13,
    "start_time": "2025-02-23T21:50:18.497Z"
   },
   {
    "duration": 11,
    "start_time": "2025-02-23T21:50:46.531Z"
   },
   {
    "duration": 12,
    "start_time": "2025-02-23T21:51:13.800Z"
   },
   {
    "duration": 9,
    "start_time": "2025-02-23T21:51:22.451Z"
   },
   {
    "duration": 14,
    "start_time": "2025-02-23T21:51:36.420Z"
   },
   {
    "duration": 8,
    "start_time": "2025-02-23T21:51:58.730Z"
   },
   {
    "duration": 9,
    "start_time": "2025-02-23T21:53:19.785Z"
   },
   {
    "duration": 11,
    "start_time": "2025-02-23T21:57:12.064Z"
   },
   {
    "duration": 7,
    "start_time": "2025-02-23T21:57:36.938Z"
   },
   {
    "duration": 9,
    "start_time": "2025-02-23T21:57:45.316Z"
   },
   {
    "duration": 13,
    "start_time": "2025-02-23T21:58:33.051Z"
   },
   {
    "duration": 13,
    "start_time": "2025-02-23T21:59:05.451Z"
   },
   {
    "duration": 9,
    "start_time": "2025-02-23T21:59:24.827Z"
   },
   {
    "duration": 83,
    "start_time": "2025-02-23T22:03:32.094Z"
   },
   {
    "duration": 4,
    "start_time": "2025-02-23T22:18:27.613Z"
   },
   {
    "duration": 12,
    "start_time": "2025-02-23T22:18:27.618Z"
   },
   {
    "duration": 3,
    "start_time": "2025-02-23T22:18:27.632Z"
   },
   {
    "duration": 387,
    "start_time": "2025-02-23T22:18:27.636Z"
   },
   {
    "duration": 95,
    "start_time": "2025-02-23T22:18:28.026Z"
   },
   {
    "duration": 16,
    "start_time": "2025-02-23T22:18:28.123Z"
   },
   {
    "duration": 21,
    "start_time": "2025-02-23T22:18:28.140Z"
   },
   {
    "duration": 17,
    "start_time": "2025-02-23T22:18:28.163Z"
   },
   {
    "duration": 12,
    "start_time": "2025-02-23T22:18:28.181Z"
   },
   {
    "duration": 19,
    "start_time": "2025-02-23T22:18:28.195Z"
   },
   {
    "duration": 38,
    "start_time": "2025-02-23T22:18:28.217Z"
   },
   {
    "duration": 16,
    "start_time": "2025-02-23T22:18:28.257Z"
   },
   {
    "duration": 23,
    "start_time": "2025-02-23T22:18:28.275Z"
   },
   {
    "duration": 10,
    "start_time": "2025-02-23T22:18:28.300Z"
   },
   {
    "duration": 13,
    "start_time": "2025-02-23T22:18:28.312Z"
   },
   {
    "duration": 49,
    "start_time": "2025-02-23T22:18:28.327Z"
   },
   {
    "duration": 22,
    "start_time": "2025-02-23T22:18:28.378Z"
   },
   {
    "duration": 22,
    "start_time": "2025-02-23T22:18:28.401Z"
   },
   {
    "duration": 17,
    "start_time": "2025-02-23T22:18:28.425Z"
   },
   {
    "duration": 95,
    "start_time": "2025-02-23T22:18:28.444Z"
   },
   {
    "duration": 41,
    "start_time": "2025-02-23T22:18:28.540Z"
   },
   {
    "duration": 16,
    "start_time": "2025-02-23T22:18:28.583Z"
   },
   {
    "duration": 17,
    "start_time": "2025-02-23T22:18:28.600Z"
   },
   {
    "duration": 26,
    "start_time": "2025-02-23T22:18:28.618Z"
   },
   {
    "duration": 4,
    "start_time": "2025-02-23T22:18:28.645Z"
   },
   {
    "duration": 171,
    "start_time": "2025-02-23T22:18:28.650Z"
   },
   {
    "duration": 23,
    "start_time": "2025-02-23T22:18:28.823Z"
   },
   {
    "duration": 4,
    "start_time": "2025-02-23T22:18:28.848Z"
   },
   {
    "duration": 144,
    "start_time": "2025-02-23T22:18:28.876Z"
   },
   {
    "duration": 23,
    "start_time": "2025-02-23T22:18:29.022Z"
   },
   {
    "duration": 32,
    "start_time": "2025-02-23T22:18:29.047Z"
   },
   {
    "duration": 8,
    "start_time": "2025-02-23T22:18:29.081Z"
   },
   {
    "duration": 4,
    "start_time": "2025-02-23T22:19:18.864Z"
   },
   {
    "duration": 8,
    "start_time": "2025-02-23T22:19:18.870Z"
   },
   {
    "duration": 7,
    "start_time": "2025-02-23T22:19:18.879Z"
   },
   {
    "duration": 397,
    "start_time": "2025-02-23T22:19:18.888Z"
   },
   {
    "duration": 93,
    "start_time": "2025-02-23T22:19:19.287Z"
   },
   {
    "duration": 16,
    "start_time": "2025-02-23T22:19:19.381Z"
   },
   {
    "duration": 20,
    "start_time": "2025-02-23T22:19:19.398Z"
   },
   {
    "duration": 12,
    "start_time": "2025-02-23T22:19:19.419Z"
   },
   {
    "duration": 18,
    "start_time": "2025-02-23T22:19:19.433Z"
   },
   {
    "duration": 7,
    "start_time": "2025-02-23T22:19:19.452Z"
   },
   {
    "duration": 35,
    "start_time": "2025-02-23T22:19:19.460Z"
   },
   {
    "duration": 16,
    "start_time": "2025-02-23T22:19:19.497Z"
   },
   {
    "duration": 21,
    "start_time": "2025-02-23T22:19:19.514Z"
   },
   {
    "duration": 8,
    "start_time": "2025-02-23T22:19:19.536Z"
   },
   {
    "duration": 34,
    "start_time": "2025-02-23T22:19:19.546Z"
   },
   {
    "duration": 18,
    "start_time": "2025-02-23T22:19:19.582Z"
   },
   {
    "duration": 19,
    "start_time": "2025-02-23T22:19:19.602Z"
   },
   {
    "duration": 18,
    "start_time": "2025-02-23T22:19:19.623Z"
   },
   {
    "duration": 45,
    "start_time": "2025-02-23T22:19:19.643Z"
   },
   {
    "duration": 62,
    "start_time": "2025-02-23T22:19:19.690Z"
   },
   {
    "duration": 37,
    "start_time": "2025-02-23T22:19:19.753Z"
   },
   {
    "duration": 15,
    "start_time": "2025-02-23T22:19:19.791Z"
   },
   {
    "duration": 17,
    "start_time": "2025-02-23T22:19:19.808Z"
   },
   {
    "duration": 50,
    "start_time": "2025-02-23T22:19:19.829Z"
   },
   {
    "duration": 3,
    "start_time": "2025-02-23T22:19:19.880Z"
   },
   {
    "duration": 149,
    "start_time": "2025-02-23T22:19:19.884Z"
   },
   {
    "duration": 20,
    "start_time": "2025-02-23T22:19:20.035Z"
   },
   {
    "duration": 3,
    "start_time": "2025-02-23T22:19:20.056Z"
   },
   {
    "duration": 143,
    "start_time": "2025-02-23T22:19:20.075Z"
   },
   {
    "duration": 21,
    "start_time": "2025-02-23T22:19:20.220Z"
   },
   {
    "duration": 32,
    "start_time": "2025-02-23T22:19:20.243Z"
   },
   {
    "duration": 8,
    "start_time": "2025-02-23T22:19:20.276Z"
   },
   {
    "duration": 5,
    "start_time": "2025-02-23T22:19:51.314Z"
   },
   {
    "duration": 11,
    "start_time": "2025-02-23T22:19:51.322Z"
   },
   {
    "duration": 6,
    "start_time": "2025-02-23T22:19:51.336Z"
   },
   {
    "duration": 425,
    "start_time": "2025-02-23T22:19:51.344Z"
   },
   {
    "duration": 125,
    "start_time": "2025-02-23T22:19:51.770Z"
   },
   {
    "duration": 15,
    "start_time": "2025-02-23T22:19:51.898Z"
   },
   {
    "duration": 20,
    "start_time": "2025-02-23T22:19:51.915Z"
   },
   {
    "duration": 18,
    "start_time": "2025-02-23T22:19:51.936Z"
   },
   {
    "duration": 29,
    "start_time": "2025-02-23T22:19:51.955Z"
   },
   {
    "duration": 22,
    "start_time": "2025-02-23T22:19:51.986Z"
   },
   {
    "duration": 25,
    "start_time": "2025-02-23T22:19:52.010Z"
   },
   {
    "duration": 16,
    "start_time": "2025-02-23T22:19:52.037Z"
   },
   {
    "duration": 24,
    "start_time": "2025-02-23T22:19:52.054Z"
   },
   {
    "duration": 10,
    "start_time": "2025-02-23T22:19:52.079Z"
   },
   {
    "duration": 17,
    "start_time": "2025-02-23T22:19:52.092Z"
   },
   {
    "duration": 29,
    "start_time": "2025-02-23T22:19:52.111Z"
   },
   {
    "duration": 35,
    "start_time": "2025-02-23T22:19:52.141Z"
   },
   {
    "duration": 20,
    "start_time": "2025-02-23T22:19:52.178Z"
   },
   {
    "duration": 17,
    "start_time": "2025-02-23T22:19:52.200Z"
   },
   {
    "duration": 93,
    "start_time": "2025-02-23T22:19:52.218Z"
   },
   {
    "duration": 23,
    "start_time": "2025-02-23T22:19:52.312Z"
   },
   {
    "duration": 17,
    "start_time": "2025-02-23T22:19:52.336Z"
   },
   {
    "duration": 34,
    "start_time": "2025-02-23T22:19:52.355Z"
   },
   {
    "duration": 27,
    "start_time": "2025-02-23T22:19:52.390Z"
   },
   {
    "duration": 3,
    "start_time": "2025-02-23T22:19:52.419Z"
   },
   {
    "duration": 167,
    "start_time": "2025-02-23T22:19:52.424Z"
   },
   {
    "duration": 22,
    "start_time": "2025-02-23T22:19:52.592Z"
   },
   {
    "duration": 8,
    "start_time": "2025-02-23T22:19:52.615Z"
   },
   {
    "duration": 160,
    "start_time": "2025-02-23T22:19:52.625Z"
   },
   {
    "duration": 22,
    "start_time": "2025-02-23T22:19:52.786Z"
   },
   {
    "duration": 16,
    "start_time": "2025-02-23T22:19:52.809Z"
   },
   {
    "duration": 8,
    "start_time": "2025-02-23T22:19:52.826Z"
   },
   {
    "duration": 3,
    "start_time": "2025-02-23T23:45:37.686Z"
   },
   {
    "duration": 3,
    "start_time": "2025-02-23T23:45:37.691Z"
   },
   {
    "duration": 2,
    "start_time": "2025-02-23T23:45:37.696Z"
   },
   {
    "duration": 422,
    "start_time": "2025-02-23T23:45:37.700Z"
   },
   {
    "duration": 370,
    "start_time": "2025-02-23T23:45:38.124Z"
   },
   {
    "duration": 16,
    "start_time": "2025-02-23T23:45:38.496Z"
   },
   {
    "duration": 21,
    "start_time": "2025-02-23T23:45:38.514Z"
   },
   {
    "duration": 13,
    "start_time": "2025-02-23T23:45:38.537Z"
   },
   {
    "duration": 4,
    "start_time": "2025-02-23T23:45:38.551Z"
   },
   {
    "duration": 6,
    "start_time": "2025-02-23T23:45:38.557Z"
   },
   {
    "duration": 51,
    "start_time": "2025-02-23T23:45:38.564Z"
   },
   {
    "duration": 17,
    "start_time": "2025-02-23T23:45:38.616Z"
   },
   {
    "duration": 23,
    "start_time": "2025-02-23T23:45:38.635Z"
   },
   {
    "duration": 38,
    "start_time": "2025-02-23T23:45:38.660Z"
   },
   {
    "duration": 12,
    "start_time": "2025-02-23T23:45:38.700Z"
   },
   {
    "duration": 29,
    "start_time": "2025-02-23T23:45:38.713Z"
   },
   {
    "duration": 20,
    "start_time": "2025-02-23T23:45:38.744Z"
   },
   {
    "duration": 20,
    "start_time": "2025-02-23T23:45:38.765Z"
   },
   {
    "duration": 37,
    "start_time": "2025-02-23T23:45:38.787Z"
   },
   {
    "duration": 65,
    "start_time": "2025-02-23T23:45:38.826Z"
   },
   {
    "duration": 35,
    "start_time": "2025-02-23T23:45:38.892Z"
   },
   {
    "duration": 14,
    "start_time": "2025-02-23T23:45:38.929Z"
   },
   {
    "duration": 17,
    "start_time": "2025-02-23T23:45:38.945Z"
   },
   {
    "duration": 52,
    "start_time": "2025-02-23T23:45:38.963Z"
   },
   {
    "duration": 4,
    "start_time": "2025-02-23T23:45:39.017Z"
   },
   {
    "duration": 155,
    "start_time": "2025-02-23T23:45:39.023Z"
   },
   {
    "duration": 33,
    "start_time": "2025-02-23T23:45:39.180Z"
   },
   {
    "duration": 3,
    "start_time": "2025-02-23T23:45:39.215Z"
   },
   {
    "duration": 151,
    "start_time": "2025-02-23T23:45:39.219Z"
   },
   {
    "duration": 23,
    "start_time": "2025-02-23T23:45:39.372Z"
   },
   {
    "duration": 91,
    "start_time": "2025-02-23T23:45:39.413Z"
   },
   {
    "duration": 7,
    "start_time": "2025-02-23T23:45:39.506Z"
   },
   {
    "duration": 5,
    "start_time": "2025-02-23T23:49:26.390Z"
   },
   {
    "duration": 13,
    "start_time": "2025-02-23T23:54:24.620Z"
   },
   {
    "duration": 13,
    "start_time": "2025-02-23T23:54:49.930Z"
   },
   {
    "duration": 3,
    "start_time": "2025-02-23T23:55:22.878Z"
   },
   {
    "duration": 3,
    "start_time": "2025-02-23T23:55:22.883Z"
   },
   {
    "duration": 3,
    "start_time": "2025-02-23T23:55:22.888Z"
   },
   {
    "duration": 441,
    "start_time": "2025-02-23T23:55:22.893Z"
   },
   {
    "duration": 113,
    "start_time": "2025-02-23T23:55:23.337Z"
   },
   {
    "duration": 16,
    "start_time": "2025-02-23T23:55:23.451Z"
   },
   {
    "duration": 55,
    "start_time": "2025-02-23T23:55:23.468Z"
   },
   {
    "duration": 14,
    "start_time": "2025-02-23T23:55:23.525Z"
   },
   {
    "duration": 3,
    "start_time": "2025-02-23T23:55:23.541Z"
   },
   {
    "duration": 4,
    "start_time": "2025-02-23T23:55:23.546Z"
   },
   {
    "duration": 18,
    "start_time": "2025-02-23T23:55:23.552Z"
   },
   {
    "duration": 75,
    "start_time": "2025-02-23T23:55:23.572Z"
   },
   {
    "duration": 16,
    "start_time": "2025-02-23T23:55:23.648Z"
   },
   {
    "duration": 12,
    "start_time": "2025-02-23T23:55:23.667Z"
   },
   {
    "duration": 16,
    "start_time": "2025-02-23T23:55:23.680Z"
   },
   {
    "duration": 32,
    "start_time": "2025-02-23T23:55:23.698Z"
   },
   {
    "duration": 8,
    "start_time": "2025-02-23T23:55:23.732Z"
   },
   {
    "duration": 15,
    "start_time": "2025-02-23T23:55:23.741Z"
   },
   {
    "duration": 19,
    "start_time": "2025-02-23T23:55:23.757Z"
   },
   {
    "duration": 115,
    "start_time": "2025-02-23T23:55:23.777Z"
   },
   {
    "duration": 19,
    "start_time": "2025-02-23T23:55:23.893Z"
   },
   {
    "duration": 16,
    "start_time": "2025-02-23T23:55:23.913Z"
   },
   {
    "duration": 64,
    "start_time": "2025-02-23T23:55:23.930Z"
   },
   {
    "duration": 32,
    "start_time": "2025-02-23T23:55:23.995Z"
   },
   {
    "duration": 30,
    "start_time": "2025-02-23T23:55:24.028Z"
   },
   {
    "duration": 15,
    "start_time": "2025-02-23T23:55:24.060Z"
   },
   {
    "duration": 25,
    "start_time": "2025-02-23T23:55:24.076Z"
   },
   {
    "duration": 11,
    "start_time": "2025-02-23T23:55:24.102Z"
   },
   {
    "duration": 154,
    "start_time": "2025-02-23T23:55:24.115Z"
   },
   {
    "duration": 22,
    "start_time": "2025-02-23T23:55:24.271Z"
   },
   {
    "duration": 19,
    "start_time": "2025-02-23T23:55:24.294Z"
   },
   {
    "duration": 148,
    "start_time": "2025-02-23T23:55:24.315Z"
   },
   {
    "duration": 21,
    "start_time": "2025-02-23T23:55:24.465Z"
   },
   {
    "duration": 31,
    "start_time": "2025-02-23T23:55:24.488Z"
   },
   {
    "duration": 7,
    "start_time": "2025-02-23T23:55:24.521Z"
   },
   {
    "duration": 289,
    "start_time": "2025-02-23T23:58:17.138Z"
   },
   {
    "duration": 5,
    "start_time": "2025-02-24T00:07:01.203Z"
   },
   {
    "duration": 21,
    "start_time": "2025-02-24T00:09:29.112Z"
   },
   {
    "duration": 17,
    "start_time": "2025-02-24T00:12:15.550Z"
   },
   {
    "duration": 53,
    "start_time": "2025-02-24T04:55:30.326Z"
   },
   {
    "duration": 3,
    "start_time": "2025-02-24T04:55:38.811Z"
   },
   {
    "duration": 6,
    "start_time": "2025-02-24T04:55:38.816Z"
   },
   {
    "duration": 5,
    "start_time": "2025-02-24T04:55:38.823Z"
   },
   {
    "duration": 427,
    "start_time": "2025-02-24T04:55:38.830Z"
   },
   {
    "duration": 94,
    "start_time": "2025-02-24T04:55:39.259Z"
   },
   {
    "duration": 15,
    "start_time": "2025-02-24T04:55:39.354Z"
   },
   {
    "duration": 19,
    "start_time": "2025-02-24T04:55:39.371Z"
   },
   {
    "duration": 12,
    "start_time": "2025-02-24T04:55:39.391Z"
   },
   {
    "duration": 4,
    "start_time": "2025-02-24T04:55:39.405Z"
   },
   {
    "duration": 4,
    "start_time": "2025-02-24T04:55:39.410Z"
   },
   {
    "duration": 49,
    "start_time": "2025-02-24T04:55:39.416Z"
   },
   {
    "duration": 7,
    "start_time": "2025-02-24T04:55:39.467Z"
   },
   {
    "duration": 17,
    "start_time": "2025-02-24T04:55:39.475Z"
   },
   {
    "duration": 12,
    "start_time": "2025-02-24T04:55:39.493Z"
   },
   {
    "duration": 15,
    "start_time": "2025-02-24T04:55:39.506Z"
   },
   {
    "duration": 53,
    "start_time": "2025-02-24T04:55:39.522Z"
   },
   {
    "duration": 9,
    "start_time": "2025-02-24T04:55:39.576Z"
   },
   {
    "duration": 21,
    "start_time": "2025-02-24T04:55:39.587Z"
   },
   {
    "duration": 463,
    "start_time": "2025-02-24T04:55:39.610Z"
   },
   {
    "duration": 19,
    "start_time": "2025-02-24T04:55:40.075Z"
   },
   {
    "duration": 20,
    "start_time": "2025-02-24T04:55:40.096Z"
   },
   {
    "duration": 44,
    "start_time": "2025-02-24T04:55:40.117Z"
   },
   {
    "duration": 18,
    "start_time": "2025-02-24T04:55:40.164Z"
   },
   {
    "duration": 82,
    "start_time": "2025-02-24T04:55:40.183Z"
   },
   {
    "duration": 22,
    "start_time": "2025-02-24T04:55:40.267Z"
   },
   {
    "duration": 29,
    "start_time": "2025-02-24T04:55:40.291Z"
   },
   {
    "duration": 17,
    "start_time": "2025-02-24T04:55:40.322Z"
   },
   {
    "duration": 39,
    "start_time": "2025-02-24T04:55:40.340Z"
   },
   {
    "duration": 18,
    "start_time": "2025-02-24T04:55:40.381Z"
   },
   {
    "duration": 70,
    "start_time": "2025-02-24T04:55:40.400Z"
   },
   {
    "duration": 162,
    "start_time": "2025-02-24T04:55:40.472Z"
   },
   {
    "duration": 24,
    "start_time": "2025-02-24T04:55:40.636Z"
   },
   {
    "duration": 12,
    "start_time": "2025-02-24T04:55:40.662Z"
   },
   {
    "duration": 150,
    "start_time": "2025-02-24T04:55:40.675Z"
   },
   {
    "duration": 15,
    "start_time": "2025-02-24T04:55:40.827Z"
   },
   {
    "duration": 21,
    "start_time": "2025-02-24T04:55:40.859Z"
   },
   {
    "duration": 18,
    "start_time": "2025-02-24T04:55:40.882Z"
   },
   {
    "duration": 9,
    "start_time": "2025-02-24T04:55:40.902Z"
   },
   {
    "duration": 15,
    "start_time": "2025-02-24T04:57:26.948Z"
   },
   {
    "duration": 84,
    "start_time": "2025-02-24T04:57:37.924Z"
   },
   {
    "duration": 17,
    "start_time": "2025-02-24T04:58:22.184Z"
   },
   {
    "duration": 23,
    "start_time": "2025-02-24T04:58:30.897Z"
   },
   {
    "duration": 15,
    "start_time": "2025-02-24T05:06:00.336Z"
   },
   {
    "duration": 14,
    "start_time": "2025-02-24T05:06:13.049Z"
   },
   {
    "duration": 15,
    "start_time": "2025-02-24T05:06:18.638Z"
   },
   {
    "duration": 14,
    "start_time": "2025-02-24T05:06:27.500Z"
   },
   {
    "duration": 15,
    "start_time": "2025-02-24T05:06:37.818Z"
   },
   {
    "duration": 81,
    "start_time": "2025-02-24T05:06:48.443Z"
   },
   {
    "duration": 15,
    "start_time": "2025-02-24T05:10:21.189Z"
   },
   {
    "duration": 14,
    "start_time": "2025-02-24T05:10:37.762Z"
   },
   {
    "duration": 15,
    "start_time": "2025-02-24T05:10:51.402Z"
   },
   {
    "duration": 100,
    "start_time": "2025-02-24T05:14:20.032Z"
   },
   {
    "duration": 79,
    "start_time": "2025-02-24T05:14:30.700Z"
   },
   {
    "duration": 14,
    "start_time": "2025-02-24T05:14:52.180Z"
   },
   {
    "duration": 98,
    "start_time": "2025-02-24T05:15:11.328Z"
   },
   {
    "duration": 15,
    "start_time": "2025-02-24T05:15:14.435Z"
   },
   {
    "duration": 15,
    "start_time": "2025-02-24T05:20:35.888Z"
   },
   {
    "duration": 16,
    "start_time": "2025-02-24T05:23:35.540Z"
   },
   {
    "duration": 4,
    "start_time": "2025-02-24T05:25:14.042Z"
   },
   {
    "duration": 136,
    "start_time": "2025-02-24T05:25:16.697Z"
   },
   {
    "duration": 21,
    "start_time": "2025-02-24T05:25:17.904Z"
   },
   {
    "duration": 3,
    "start_time": "2025-02-24T05:25:20.927Z"
   },
   {
    "duration": 140,
    "start_time": "2025-02-24T05:25:21.793Z"
   },
   {
    "duration": 14,
    "start_time": "2025-02-24T05:25:26.565Z"
   },
   {
    "duration": 4,
    "start_time": "2025-02-24T05:30:32.053Z"
   },
   {
    "duration": 141,
    "start_time": "2025-02-24T05:30:32.499Z"
   },
   {
    "duration": 23,
    "start_time": "2025-02-24T05:30:32.945Z"
   },
   {
    "duration": 3,
    "start_time": "2025-02-24T05:32:50.870Z"
   },
   {
    "duration": 142,
    "start_time": "2025-02-24T05:32:51.631Z"
   },
   {
    "duration": 20,
    "start_time": "2025-02-24T05:32:56.606Z"
   },
   {
    "duration": 3,
    "start_time": "2025-02-24T05:33:12.652Z"
   },
   {
    "duration": 139,
    "start_time": "2025-02-24T05:33:15.483Z"
   },
   {
    "duration": 15,
    "start_time": "2025-02-24T05:33:34.014Z"
   },
   {
    "duration": 4,
    "start_time": "2025-02-24T05:33:39.582Z"
   },
   {
    "duration": 140,
    "start_time": "2025-02-24T05:33:40.174Z"
   },
   {
    "duration": 23,
    "start_time": "2025-02-24T05:33:41.048Z"
   },
   {
    "duration": 4,
    "start_time": "2025-02-24T05:33:42.280Z"
   },
   {
    "duration": 137,
    "start_time": "2025-02-24T05:33:43.327Z"
   },
   {
    "duration": 14,
    "start_time": "2025-02-24T05:33:45.509Z"
   },
   {
    "duration": 3,
    "start_time": "2025-02-24T05:35:44.312Z"
   },
   {
    "duration": 178,
    "start_time": "2025-02-24T05:35:45.185Z"
   },
   {
    "duration": 14,
    "start_time": "2025-02-24T05:35:46.904Z"
   },
   {
    "duration": 16,
    "start_time": "2025-02-24T05:39:52.089Z"
   },
   {
    "duration": 16,
    "start_time": "2025-02-24T05:39:59.732Z"
   },
   {
    "duration": 4,
    "start_time": "2025-02-24T05:40:22.593Z"
   },
   {
    "duration": 137,
    "start_time": "2025-02-24T05:40:22.911Z"
   },
   {
    "duration": 24,
    "start_time": "2025-02-24T05:40:23.257Z"
   },
   {
    "duration": 4,
    "start_time": "2025-02-24T05:40:25.320Z"
   },
   {
    "duration": 170,
    "start_time": "2025-02-24T05:40:25.725Z"
   },
   {
    "duration": 15,
    "start_time": "2025-02-24T05:40:27.878Z"
   },
   {
    "duration": 19,
    "start_time": "2025-02-24T05:40:33.258Z"
   },
   {
    "duration": 4,
    "start_time": "2025-02-24T06:33:42.501Z"
   },
   {
    "duration": 140,
    "start_time": "2025-02-24T06:33:42.926Z"
   },
   {
    "duration": 23,
    "start_time": "2025-02-24T06:33:43.752Z"
   },
   {
    "duration": 4,
    "start_time": "2025-02-24T06:33:46.255Z"
   },
   {
    "duration": 181,
    "start_time": "2025-02-24T06:33:50.188Z"
   },
   {
    "duration": 14,
    "start_time": "2025-02-24T06:33:53.360Z"
   },
   {
    "duration": 4,
    "start_time": "2025-02-24T06:36:01.788Z"
   },
   {
    "duration": 8,
    "start_time": "2025-02-24T06:36:01.793Z"
   },
   {
    "duration": 4,
    "start_time": "2025-02-24T06:36:01.802Z"
   },
   {
    "duration": 367,
    "start_time": "2025-02-24T06:36:01.808Z"
   },
   {
    "duration": 263,
    "start_time": "2025-02-24T06:36:02.176Z"
   },
   {
    "duration": 18,
    "start_time": "2025-02-24T06:36:02.441Z"
   },
   {
    "duration": 59,
    "start_time": "2025-02-24T06:36:02.461Z"
   },
   {
    "duration": 39,
    "start_time": "2025-02-24T06:36:02.522Z"
   },
   {
    "duration": 26,
    "start_time": "2025-02-24T06:36:02.563Z"
   },
   {
    "duration": 91,
    "start_time": "2025-02-24T06:36:02.590Z"
   },
   {
    "duration": 36,
    "start_time": "2025-02-24T06:36:02.683Z"
   },
   {
    "duration": 5,
    "start_time": "2025-02-24T06:36:02.721Z"
   },
   {
    "duration": 24,
    "start_time": "2025-02-24T06:36:02.727Z"
   },
   {
    "duration": 12,
    "start_time": "2025-02-24T06:36:02.753Z"
   },
   {
    "duration": 19,
    "start_time": "2025-02-24T06:36:02.767Z"
   },
   {
    "duration": 155,
    "start_time": "2025-02-24T06:36:02.787Z"
   },
   {
    "duration": 9,
    "start_time": "2025-02-24T06:36:02.944Z"
   },
   {
    "duration": 11,
    "start_time": "2025-02-24T06:36:02.954Z"
   },
   {
    "duration": 303,
    "start_time": "2025-02-24T06:36:02.967Z"
   },
   {
    "duration": 20,
    "start_time": "2025-02-24T06:36:03.271Z"
   },
   {
    "duration": 19,
    "start_time": "2025-02-24T06:36:03.293Z"
   },
   {
    "duration": 46,
    "start_time": "2025-02-24T06:36:03.314Z"
   },
   {
    "duration": 17,
    "start_time": "2025-02-24T06:36:03.363Z"
   },
   {
    "duration": 83,
    "start_time": "2025-02-24T06:36:03.381Z"
   },
   {
    "duration": 23,
    "start_time": "2025-02-24T06:36:03.465Z"
   },
   {
    "duration": 17,
    "start_time": "2025-02-24T06:36:03.489Z"
   },
   {
    "duration": 16,
    "start_time": "2025-02-24T06:36:03.508Z"
   },
   {
    "duration": 52,
    "start_time": "2025-02-24T06:36:03.526Z"
   },
   {
    "duration": 17,
    "start_time": "2025-02-24T06:36:03.580Z"
   },
   {
    "duration": 37,
    "start_time": "2025-02-24T06:36:03.599Z"
   },
   {
    "duration": 147,
    "start_time": "2025-02-24T06:36:03.637Z"
   },
   {
    "duration": 21,
    "start_time": "2025-02-24T06:36:03.786Z"
   },
   {
    "duration": 6,
    "start_time": "2025-02-24T06:36:03.808Z"
   },
   {
    "duration": 181,
    "start_time": "2025-02-24T06:36:03.816Z"
   },
   {
    "duration": 16,
    "start_time": "2025-02-24T06:36:03.999Z"
   },
   {
    "duration": 22,
    "start_time": "2025-02-24T06:36:04.016Z"
   },
   {
    "duration": 18,
    "start_time": "2025-02-24T06:36:04.058Z"
   },
   {
    "duration": 8,
    "start_time": "2025-02-24T06:36:04.078Z"
   },
   {
    "duration": 4,
    "start_time": "2025-02-24T06:47:30.032Z"
   },
   {
    "duration": 35,
    "start_time": "2025-02-24T06:47:30.038Z"
   },
   {
    "duration": 22,
    "start_time": "2025-02-24T06:47:30.075Z"
   },
   {
    "duration": 476,
    "start_time": "2025-02-24T06:47:30.099Z"
   },
   {
    "duration": 173,
    "start_time": "2025-02-24T06:47:30.578Z"
   },
   {
    "duration": 17,
    "start_time": "2025-02-24T06:47:30.753Z"
   },
   {
    "duration": 23,
    "start_time": "2025-02-24T06:47:30.772Z"
   },
   {
    "duration": 14,
    "start_time": "2025-02-24T06:47:30.796Z"
   },
   {
    "duration": 4,
    "start_time": "2025-02-24T06:47:30.811Z"
   },
   {
    "duration": 28,
    "start_time": "2025-02-24T06:47:30.817Z"
   },
   {
    "duration": 28,
    "start_time": "2025-02-24T06:47:30.848Z"
   },
   {
    "duration": 102,
    "start_time": "2025-02-24T06:47:30.878Z"
   },
   {
    "duration": 24,
    "start_time": "2025-02-24T06:47:30.981Z"
   },
   {
    "duration": 12,
    "start_time": "2025-02-24T06:47:31.007Z"
   },
   {
    "duration": 18,
    "start_time": "2025-02-24T06:47:31.021Z"
   },
   {
    "duration": 33,
    "start_time": "2025-02-24T06:47:31.041Z"
   },
   {
    "duration": 9,
    "start_time": "2025-02-24T06:47:31.076Z"
   },
   {
    "duration": 18,
    "start_time": "2025-02-24T06:47:31.087Z"
   },
   {
    "duration": 351,
    "start_time": "2025-02-24T06:47:31.107Z"
   },
   {
    "duration": 22,
    "start_time": "2025-02-24T06:47:31.459Z"
   },
   {
    "duration": 20,
    "start_time": "2025-02-24T06:47:31.483Z"
   },
   {
    "duration": 53,
    "start_time": "2025-02-24T06:47:31.505Z"
   },
   {
    "duration": 23,
    "start_time": "2025-02-24T06:47:31.561Z"
   },
   {
    "duration": 93,
    "start_time": "2025-02-24T06:47:31.586Z"
   },
   {
    "duration": 25,
    "start_time": "2025-02-24T06:47:31.681Z"
   },
   {
    "duration": 16,
    "start_time": "2025-02-24T06:47:31.707Z"
   },
   {
    "duration": 44,
    "start_time": "2025-02-24T06:47:31.724Z"
   },
   {
    "duration": 28,
    "start_time": "2025-02-24T06:47:31.769Z"
   },
   {
    "duration": 18,
    "start_time": "2025-02-24T06:47:31.800Z"
   },
   {
    "duration": 4,
    "start_time": "2025-02-24T06:47:31.819Z"
   },
   {
    "duration": 170,
    "start_time": "2025-02-24T06:47:31.824Z"
   },
   {
    "duration": 23,
    "start_time": "2025-02-24T06:47:31.996Z"
   },
   {
    "duration": 34,
    "start_time": "2025-02-24T06:47:32.021Z"
   },
   {
    "duration": 9,
    "start_time": "2025-02-24T06:47:32.057Z"
   },
   {
    "duration": 25,
    "start_time": "2025-02-24T06:47:32.068Z"
   },
   {
    "duration": 32,
    "start_time": "2025-02-24T06:47:32.095Z"
   },
   {
    "duration": 50,
    "start_time": "2025-02-24T06:47:32.128Z"
   },
   {
    "duration": 36,
    "start_time": "2025-02-24T06:47:32.179Z"
   },
   {
    "duration": 3,
    "start_time": "2025-02-24T06:48:35.114Z"
   },
   {
    "duration": 176,
    "start_time": "2025-02-24T06:48:35.702Z"
   },
   {
    "duration": 16,
    "start_time": "2025-02-24T06:48:38.066Z"
   },
   {
    "duration": 4,
    "start_time": "2025-02-24T06:49:10.566Z"
   },
   {
    "duration": 117,
    "start_time": "2025-02-24T06:49:11.030Z"
   },
   {
    "duration": 16,
    "start_time": "2025-02-24T06:49:12.276Z"
   },
   {
    "duration": 5,
    "start_time": "2025-02-24T06:50:53.956Z"
   },
   {
    "duration": 152,
    "start_time": "2025-02-24T06:50:54.457Z"
   },
   {
    "duration": 22,
    "start_time": "2025-02-24T06:50:55.043Z"
   },
   {
    "duration": 3,
    "start_time": "2025-02-24T06:50:59.325Z"
   },
   {
    "duration": 142,
    "start_time": "2025-02-24T06:50:59.537Z"
   },
   {
    "duration": 15,
    "start_time": "2025-02-24T06:51:01.147Z"
   },
   {
    "duration": 3,
    "start_time": "2025-02-24T06:51:52.001Z"
   },
   {
    "duration": 152,
    "start_time": "2025-02-24T06:51:52.325Z"
   },
   {
    "duration": 21,
    "start_time": "2025-02-24T06:51:52.701Z"
   },
   {
    "duration": 4,
    "start_time": "2025-02-24T06:51:54.290Z"
   },
   {
    "duration": 139,
    "start_time": "2025-02-24T06:51:54.733Z"
   },
   {
    "duration": 14,
    "start_time": "2025-02-24T06:51:55.971Z"
   },
   {
    "duration": 3,
    "start_time": "2025-02-24T06:52:11.066Z"
   },
   {
    "duration": 142,
    "start_time": "2025-02-24T06:52:11.741Z"
   },
   {
    "duration": 15,
    "start_time": "2025-02-24T06:52:16.414Z"
   },
   {
    "duration": 4,
    "start_time": "2025-02-24T06:52:52.808Z"
   },
   {
    "duration": 133,
    "start_time": "2025-02-24T06:52:53.236Z"
   },
   {
    "duration": 22,
    "start_time": "2025-02-24T06:52:53.759Z"
   },
   {
    "duration": 3,
    "start_time": "2025-02-24T06:52:55.548Z"
   },
   {
    "duration": 137,
    "start_time": "2025-02-24T06:52:55.994Z"
   },
   {
    "duration": 15,
    "start_time": "2025-02-24T06:52:57.248Z"
   },
   {
    "duration": 14,
    "start_time": "2025-02-24T06:53:39.830Z"
   },
   {
    "duration": 4,
    "start_time": "2025-02-24T06:57:11.397Z"
   },
   {
    "duration": 138,
    "start_time": "2025-02-24T06:57:12.074Z"
   },
   {
    "duration": 14,
    "start_time": "2025-02-24T06:57:13.737Z"
   },
   {
    "duration": 73,
    "start_time": "2025-02-24T06:58:16.507Z"
   },
   {
    "duration": 143,
    "start_time": "2025-02-24T06:58:16.901Z"
   },
   {
    "duration": 16,
    "start_time": "2025-02-24T06:58:19.451Z"
   },
   {
    "duration": 3,
    "start_time": "2025-02-24T06:58:27.634Z"
   },
   {
    "duration": 4,
    "start_time": "2025-02-24T06:58:27.639Z"
   },
   {
    "duration": 3,
    "start_time": "2025-02-24T06:58:27.646Z"
   },
   {
    "duration": 415,
    "start_time": "2025-02-24T06:58:27.651Z"
   },
   {
    "duration": 102,
    "start_time": "2025-02-24T06:58:28.068Z"
   },
   {
    "duration": 17,
    "start_time": "2025-02-24T06:58:28.172Z"
   },
   {
    "duration": 76,
    "start_time": "2025-02-24T06:58:28.191Z"
   },
   {
    "duration": 13,
    "start_time": "2025-02-24T06:58:28.269Z"
   },
   {
    "duration": 6,
    "start_time": "2025-02-24T06:58:28.284Z"
   },
   {
    "duration": 8,
    "start_time": "2025-02-24T06:58:28.291Z"
   },
   {
    "duration": 23,
    "start_time": "2025-02-24T06:58:28.300Z"
   },
   {
    "duration": 5,
    "start_time": "2025-02-24T06:58:28.324Z"
   },
   {
    "duration": 44,
    "start_time": "2025-02-24T06:58:28.330Z"
   },
   {
    "duration": 11,
    "start_time": "2025-02-24T06:58:28.377Z"
   },
   {
    "duration": 13,
    "start_time": "2025-02-24T06:58:28.390Z"
   },
   {
    "duration": 27,
    "start_time": "2025-02-24T06:58:28.405Z"
   },
   {
    "duration": 10,
    "start_time": "2025-02-24T06:58:28.458Z"
   },
   {
    "duration": 21,
    "start_time": "2025-02-24T06:58:28.470Z"
   },
   {
    "duration": 312,
    "start_time": "2025-02-24T06:58:28.493Z"
   },
   {
    "duration": 20,
    "start_time": "2025-02-24T06:58:28.807Z"
   },
   {
    "duration": 35,
    "start_time": "2025-02-24T06:58:28.829Z"
   },
   {
    "duration": 22,
    "start_time": "2025-02-24T06:58:28.866Z"
   },
   {
    "duration": 18,
    "start_time": "2025-02-24T06:58:28.890Z"
   },
   {
    "duration": 153,
    "start_time": "2025-02-24T06:58:28.909Z"
   },
   {
    "duration": 24,
    "start_time": "2025-02-24T06:58:29.064Z"
   },
   {
    "duration": 16,
    "start_time": "2025-02-24T06:58:29.090Z"
   },
   {
    "duration": 18,
    "start_time": "2025-02-24T06:58:29.108Z"
   },
   {
    "duration": 56,
    "start_time": "2025-02-24T06:58:29.128Z"
   },
   {
    "duration": 19,
    "start_time": "2025-02-24T06:58:29.186Z"
   },
   {
    "duration": 4,
    "start_time": "2025-02-24T06:58:29.206Z"
   },
   {
    "duration": 174,
    "start_time": "2025-02-24T06:58:29.212Z"
   },
   {
    "duration": 22,
    "start_time": "2025-02-24T06:58:29.387Z"
   },
   {
    "duration": 83,
    "start_time": "2025-02-24T06:58:29.410Z"
   },
   {
    "duration": 0,
    "start_time": "2025-02-24T06:58:29.495Z"
   },
   {
    "duration": 0,
    "start_time": "2025-02-24T06:58:29.495Z"
   },
   {
    "duration": 0,
    "start_time": "2025-02-24T06:58:29.497Z"
   },
   {
    "duration": 0,
    "start_time": "2025-02-24T06:58:29.498Z"
   },
   {
    "duration": 0,
    "start_time": "2025-02-24T06:58:29.499Z"
   },
   {
    "duration": 87,
    "start_time": "2025-02-24T06:58:46.880Z"
   },
   {
    "duration": 69,
    "start_time": "2025-02-24T06:58:47.478Z"
   },
   {
    "duration": 3,
    "start_time": "2025-02-24T06:59:14.631Z"
   },
   {
    "duration": 4,
    "start_time": "2025-02-24T06:59:14.636Z"
   },
   {
    "duration": 4,
    "start_time": "2025-02-24T06:59:14.641Z"
   },
   {
    "duration": 417,
    "start_time": "2025-02-24T06:59:14.647Z"
   },
   {
    "duration": 152,
    "start_time": "2025-02-24T06:59:15.065Z"
   },
   {
    "duration": 16,
    "start_time": "2025-02-24T06:59:15.219Z"
   },
   {
    "duration": 33,
    "start_time": "2025-02-24T06:59:15.237Z"
   },
   {
    "duration": 14,
    "start_time": "2025-02-24T06:59:15.272Z"
   },
   {
    "duration": 6,
    "start_time": "2025-02-24T06:59:15.288Z"
   },
   {
    "duration": 5,
    "start_time": "2025-02-24T06:59:15.296Z"
   },
   {
    "duration": 40,
    "start_time": "2025-02-24T06:59:15.303Z"
   },
   {
    "duration": 15,
    "start_time": "2025-02-24T06:59:15.344Z"
   },
   {
    "duration": 17,
    "start_time": "2025-02-24T06:59:15.360Z"
   },
   {
    "duration": 12,
    "start_time": "2025-02-24T06:59:15.378Z"
   },
   {
    "duration": 13,
    "start_time": "2025-02-24T06:59:15.392Z"
   },
   {
    "duration": 25,
    "start_time": "2025-02-24T06:59:15.407Z"
   },
   {
    "duration": 10,
    "start_time": "2025-02-24T06:59:15.458Z"
   },
   {
    "duration": 15,
    "start_time": "2025-02-24T06:59:15.469Z"
   },
   {
    "duration": 303,
    "start_time": "2025-02-24T06:59:15.487Z"
   },
   {
    "duration": 19,
    "start_time": "2025-02-24T06:59:15.792Z"
   },
   {
    "duration": 19,
    "start_time": "2025-02-24T06:59:15.812Z"
   },
   {
    "duration": 41,
    "start_time": "2025-02-24T06:59:15.833Z"
   },
   {
    "duration": 17,
    "start_time": "2025-02-24T06:59:15.876Z"
   },
   {
    "duration": 85,
    "start_time": "2025-02-24T06:59:15.894Z"
   },
   {
    "duration": 23,
    "start_time": "2025-02-24T06:59:15.980Z"
   },
   {
    "duration": 41,
    "start_time": "2025-02-24T06:59:16.004Z"
   },
   {
    "duration": 22,
    "start_time": "2025-02-24T06:59:16.047Z"
   },
   {
    "duration": 26,
    "start_time": "2025-02-24T06:59:16.071Z"
   },
   {
    "duration": 17,
    "start_time": "2025-02-24T06:59:16.098Z"
   },
   {
    "duration": 4,
    "start_time": "2025-02-24T06:59:16.117Z"
   },
   {
    "duration": 166,
    "start_time": "2025-02-24T06:59:16.122Z"
   },
   {
    "duration": 21,
    "start_time": "2025-02-24T06:59:16.289Z"
   },
   {
    "duration": 82,
    "start_time": "2025-02-24T06:59:16.312Z"
   },
   {
    "duration": 0,
    "start_time": "2025-02-24T06:59:16.396Z"
   },
   {
    "duration": 0,
    "start_time": "2025-02-24T06:59:16.398Z"
   },
   {
    "duration": 0,
    "start_time": "2025-02-24T06:59:16.399Z"
   },
   {
    "duration": 0,
    "start_time": "2025-02-24T06:59:16.400Z"
   },
   {
    "duration": 0,
    "start_time": "2025-02-24T06:59:16.402Z"
   },
   {
    "duration": 109,
    "start_time": "2025-02-24T06:59:23.468Z"
   },
   {
    "duration": 75,
    "start_time": "2025-02-24T06:59:24.442Z"
   },
   {
    "duration": 100,
    "start_time": "2025-02-24T06:59:32.999Z"
   },
   {
    "duration": 3,
    "start_time": "2025-02-24T06:59:46.950Z"
   },
   {
    "duration": 144,
    "start_time": "2025-02-24T06:59:47.726Z"
   },
   {
    "duration": 16,
    "start_time": "2025-02-24T06:59:49.658Z"
   },
   {
    "duration": 4,
    "start_time": "2025-02-24T07:00:18.087Z"
   },
   {
    "duration": 142,
    "start_time": "2025-02-24T07:00:18.604Z"
   },
   {
    "duration": 15,
    "start_time": "2025-02-24T07:00:20.076Z"
   },
   {
    "duration": 4,
    "start_time": "2025-02-24T07:00:41.815Z"
   },
   {
    "duration": 146,
    "start_time": "2025-02-24T07:00:42.443Z"
   },
   {
    "duration": 15,
    "start_time": "2025-02-24T07:00:43.849Z"
   },
   {
    "duration": 23,
    "start_time": "2025-02-24T07:00:47.825Z"
   },
   {
    "duration": 5,
    "start_time": "2025-02-24T07:01:24.253Z"
   },
   {
    "duration": 149,
    "start_time": "2025-02-24T07:01:24.829Z"
   },
   {
    "duration": 23,
    "start_time": "2025-02-24T07:01:26.440Z"
   },
   {
    "duration": 3,
    "start_time": "2025-02-24T07:01:28.386Z"
   },
   {
    "duration": 141,
    "start_time": "2025-02-24T07:01:28.926Z"
   },
   {
    "duration": 14,
    "start_time": "2025-02-24T07:01:30.283Z"
   },
   {
    "duration": 21,
    "start_time": "2025-02-24T07:01:32.257Z"
   },
   {
    "duration": 16,
    "start_time": "2025-02-24T07:04:08.561Z"
   },
   {
    "duration": 4,
    "start_time": "2025-02-24T07:07:24.130Z"
   },
   {
    "duration": 4,
    "start_time": "2025-02-24T07:07:24.135Z"
   },
   {
    "duration": 3,
    "start_time": "2025-02-24T07:07:24.140Z"
   },
   {
    "duration": 424,
    "start_time": "2025-02-24T07:07:24.144Z"
   },
   {
    "duration": 102,
    "start_time": "2025-02-24T07:07:24.570Z"
   },
   {
    "duration": 17,
    "start_time": "2025-02-24T07:07:24.673Z"
   },
   {
    "duration": 63,
    "start_time": "2025-02-24T07:07:24.692Z"
   },
   {
    "duration": 12,
    "start_time": "2025-02-24T07:07:24.758Z"
   },
   {
    "duration": 4,
    "start_time": "2025-02-24T07:07:24.771Z"
   },
   {
    "duration": 21,
    "start_time": "2025-02-24T07:07:24.776Z"
   },
   {
    "duration": 28,
    "start_time": "2025-02-24T07:07:24.798Z"
   },
   {
    "duration": 5,
    "start_time": "2025-02-24T07:07:24.827Z"
   },
   {
    "duration": 27,
    "start_time": "2025-02-24T07:07:24.833Z"
   },
   {
    "duration": 12,
    "start_time": "2025-02-24T07:07:24.861Z"
   },
   {
    "duration": 23,
    "start_time": "2025-02-24T07:07:24.874Z"
   },
   {
    "duration": 70,
    "start_time": "2025-02-24T07:07:24.898Z"
   },
   {
    "duration": 47,
    "start_time": "2025-02-24T07:07:24.970Z"
   },
   {
    "duration": 11,
    "start_time": "2025-02-24T07:07:25.019Z"
   },
   {
    "duration": 313,
    "start_time": "2025-02-24T07:07:25.033Z"
   },
   {
    "duration": 20,
    "start_time": "2025-02-24T07:07:25.348Z"
   },
   {
    "duration": 21,
    "start_time": "2025-02-24T07:07:25.370Z"
   },
   {
    "duration": 23,
    "start_time": "2025-02-24T07:07:25.393Z"
   },
   {
    "duration": 43,
    "start_time": "2025-02-24T07:07:25.417Z"
   },
   {
    "duration": 65,
    "start_time": "2025-02-24T07:07:25.462Z"
   },
   {
    "duration": 40,
    "start_time": "2025-02-24T07:07:25.529Z"
   },
   {
    "duration": 16,
    "start_time": "2025-02-24T07:07:25.571Z"
   },
   {
    "duration": 19,
    "start_time": "2025-02-24T07:07:25.589Z"
   },
   {
    "duration": 51,
    "start_time": "2025-02-24T07:07:25.610Z"
   },
   {
    "duration": 18,
    "start_time": "2025-02-24T07:07:25.662Z"
   },
   {
    "duration": 4,
    "start_time": "2025-02-24T07:07:25.682Z"
   },
   {
    "duration": 157,
    "start_time": "2025-02-24T07:07:25.687Z"
   },
   {
    "duration": 27,
    "start_time": "2025-02-24T07:07:25.846Z"
   },
   {
    "duration": 5,
    "start_time": "2025-02-24T07:07:25.874Z"
   },
   {
    "duration": 174,
    "start_time": "2025-02-24T07:07:25.880Z"
   },
   {
    "duration": 16,
    "start_time": "2025-02-24T07:07:26.056Z"
   },
   {
    "duration": 47,
    "start_time": "2025-02-24T07:07:26.074Z"
   },
   {
    "duration": 18,
    "start_time": "2025-02-24T07:07:26.123Z"
   },
   {
    "duration": 7,
    "start_time": "2025-02-24T07:07:26.143Z"
   },
   {
    "duration": 3,
    "start_time": "2025-02-24T07:09:10.018Z"
   },
   {
    "duration": 138,
    "start_time": "2025-02-24T07:09:12.087Z"
   },
   {
    "duration": 15,
    "start_time": "2025-02-24T07:09:13.429Z"
   },
   {
    "duration": 21,
    "start_time": "2025-02-24T07:09:14.697Z"
   },
   {
    "duration": 4,
    "start_time": "2025-02-24T07:09:45.042Z"
   },
   {
    "duration": 159,
    "start_time": "2025-02-24T07:09:45.517Z"
   },
   {
    "duration": 21,
    "start_time": "2025-02-24T07:09:46.566Z"
   },
   {
    "duration": 4,
    "start_time": "2025-02-24T07:09:56.611Z"
   },
   {
    "duration": 142,
    "start_time": "2025-02-24T07:09:57.051Z"
   },
   {
    "duration": 15,
    "start_time": "2025-02-24T07:09:58.163Z"
   },
   {
    "duration": 6,
    "start_time": "2025-02-24T07:11:03.239Z"
   },
   {
    "duration": 70,
    "start_time": "2025-02-24T07:11:53.064Z"
   },
   {
    "duration": 4,
    "start_time": "2025-02-24T07:12:06.270Z"
   },
   {
    "duration": 3,
    "start_time": "2025-02-24T07:12:08.218Z"
   },
   {
    "duration": 6,
    "start_time": "2025-02-24T07:12:28.842Z"
   },
   {
    "duration": 4,
    "start_time": "2025-02-24T07:13:08.719Z"
   },
   {
    "duration": 141,
    "start_time": "2025-02-24T07:13:08.959Z"
   },
   {
    "duration": 22,
    "start_time": "2025-02-24T07:13:09.170Z"
   },
   {
    "duration": 4,
    "start_time": "2025-02-24T07:13:09.956Z"
   },
   {
    "duration": 141,
    "start_time": "2025-02-24T07:13:10.421Z"
   },
   {
    "duration": 15,
    "start_time": "2025-02-24T07:13:11.815Z"
   },
   {
    "duration": 15,
    "start_time": "2025-02-24T07:13:17.880Z"
   },
   {
    "duration": 3,
    "start_time": "2025-02-24T07:13:59.961Z"
   },
   {
    "duration": 161,
    "start_time": "2025-02-24T07:14:00.457Z"
   },
   {
    "duration": 17,
    "start_time": "2025-02-24T07:14:04.009Z"
   },
   {
    "duration": 4,
    "start_time": "2025-02-24T07:15:16.014Z"
   },
   {
    "duration": 138,
    "start_time": "2025-02-24T07:15:16.460Z"
   },
   {
    "duration": 16,
    "start_time": "2025-02-24T07:15:17.520Z"
   },
   {
    "duration": 3,
    "start_time": "2025-02-24T07:15:34.326Z"
   },
   {
    "duration": 16,
    "start_time": "2025-02-24T07:15:34.331Z"
   },
   {
    "duration": 4,
    "start_time": "2025-02-24T07:15:34.349Z"
   },
   {
    "duration": 420,
    "start_time": "2025-02-24T07:15:34.354Z"
   },
   {
    "duration": 110,
    "start_time": "2025-02-24T07:15:34.776Z"
   },
   {
    "duration": 16,
    "start_time": "2025-02-24T07:15:34.888Z"
   },
   {
    "duration": 20,
    "start_time": "2025-02-24T07:15:34.906Z"
   },
   {
    "duration": 34,
    "start_time": "2025-02-24T07:15:34.928Z"
   },
   {
    "duration": 70,
    "start_time": "2025-02-24T07:15:34.964Z"
   },
   {
    "duration": 13,
    "start_time": "2025-02-24T07:15:35.036Z"
   },
   {
    "duration": 24,
    "start_time": "2025-02-24T07:15:35.053Z"
   },
   {
    "duration": 41,
    "start_time": "2025-02-24T07:15:35.079Z"
   },
   {
    "duration": 30,
    "start_time": "2025-02-24T07:15:35.122Z"
   },
   {
    "duration": 18,
    "start_time": "2025-02-24T07:15:35.155Z"
   },
   {
    "duration": 18,
    "start_time": "2025-02-24T07:15:35.175Z"
   },
   {
    "duration": 29,
    "start_time": "2025-02-24T07:15:35.195Z"
   },
   {
    "duration": 32,
    "start_time": "2025-02-24T07:15:35.226Z"
   },
   {
    "duration": 12,
    "start_time": "2025-02-24T07:15:35.260Z"
   },
   {
    "duration": 320,
    "start_time": "2025-02-24T07:15:35.274Z"
   },
   {
    "duration": 21,
    "start_time": "2025-02-24T07:15:35.596Z"
   },
   {
    "duration": 43,
    "start_time": "2025-02-24T07:15:35.619Z"
   },
   {
    "duration": 22,
    "start_time": "2025-02-24T07:15:35.664Z"
   },
   {
    "duration": 18,
    "start_time": "2025-02-24T07:15:35.688Z"
   },
   {
    "duration": 94,
    "start_time": "2025-02-24T07:15:35.707Z"
   },
   {
    "duration": 24,
    "start_time": "2025-02-24T07:15:35.803Z"
   },
   {
    "duration": 39,
    "start_time": "2025-02-24T07:15:35.829Z"
   },
   {
    "duration": 34,
    "start_time": "2025-02-24T07:15:35.870Z"
   },
   {
    "duration": 30,
    "start_time": "2025-02-24T07:15:35.905Z"
   },
   {
    "duration": 29,
    "start_time": "2025-02-24T07:15:35.938Z"
   },
   {
    "duration": 11,
    "start_time": "2025-02-24T07:15:35.969Z"
   },
   {
    "duration": 166,
    "start_time": "2025-02-24T07:15:35.981Z"
   },
   {
    "duration": 30,
    "start_time": "2025-02-24T07:15:36.149Z"
   },
   {
    "duration": 24,
    "start_time": "2025-02-24T07:15:36.180Z"
   },
   {
    "duration": 154,
    "start_time": "2025-02-24T07:15:36.205Z"
   },
   {
    "duration": 16,
    "start_time": "2025-02-24T07:15:36.361Z"
   },
   {
    "duration": 42,
    "start_time": "2025-02-24T07:15:36.378Z"
   },
   {
    "duration": 38,
    "start_time": "2025-02-24T07:15:36.421Z"
   },
   {
    "duration": 9,
    "start_time": "2025-02-24T07:15:36.461Z"
   },
   {
    "duration": 5,
    "start_time": "2025-02-24T07:29:56.293Z"
   },
   {
    "duration": 5,
    "start_time": "2025-02-24T07:31:46.473Z"
   },
   {
    "duration": 5,
    "start_time": "2025-02-24T07:32:03.819Z"
   },
   {
    "duration": 5,
    "start_time": "2025-02-24T07:32:36.606Z"
   },
   {
    "duration": 74,
    "start_time": "2025-02-24T07:32:53.836Z"
   },
   {
    "duration": 8,
    "start_time": "2025-02-24T07:32:59.090Z"
   },
   {
    "duration": 8,
    "start_time": "2025-02-24T07:33:05.770Z"
   },
   {
    "duration": 8,
    "start_time": "2025-02-24T07:33:10.964Z"
   },
   {
    "duration": 9,
    "start_time": "2025-02-24T07:33:22.625Z"
   },
   {
    "duration": 5,
    "start_time": "2025-02-24T07:33:30.685Z"
   },
   {
    "duration": 3,
    "start_time": "2025-02-24T07:33:36.891Z"
   },
   {
    "duration": 4,
    "start_time": "2025-02-24T07:34:13.360Z"
   },
   {
    "duration": 5,
    "start_time": "2025-02-24T07:34:28.403Z"
   },
   {
    "duration": 5,
    "start_time": "2025-02-24T07:36:12.657Z"
   },
   {
    "duration": 8,
    "start_time": "2025-02-24T07:45:34.413Z"
   },
   {
    "duration": 10,
    "start_time": "2025-02-24T07:45:45.855Z"
   },
   {
    "duration": 9,
    "start_time": "2025-02-24T07:46:26.551Z"
   },
   {
    "duration": 8,
    "start_time": "2025-02-24T07:47:46.322Z"
   },
   {
    "duration": 9,
    "start_time": "2025-02-24T07:48:09.309Z"
   },
   {
    "duration": 6,
    "start_time": "2025-02-24T07:48:39.814Z"
   },
   {
    "duration": 9,
    "start_time": "2025-02-24T07:48:44.618Z"
   },
   {
    "duration": 8,
    "start_time": "2025-02-24T08:02:22.475Z"
   },
   {
    "duration": 10,
    "start_time": "2025-02-24T08:02:32.920Z"
   },
   {
    "duration": 12,
    "start_time": "2025-02-24T08:02:42.654Z"
   },
   {
    "duration": 12,
    "start_time": "2025-02-24T08:02:55.293Z"
   },
   {
    "duration": 12,
    "start_time": "2025-02-24T08:03:05.802Z"
   },
   {
    "duration": 81,
    "start_time": "2025-02-24T08:03:42.097Z"
   },
   {
    "duration": 13,
    "start_time": "2025-02-24T08:03:54.579Z"
   },
   {
    "duration": 3,
    "start_time": "2025-02-24T08:04:40.802Z"
   },
   {
    "duration": 3,
    "start_time": "2025-02-24T08:04:41.203Z"
   },
   {
    "duration": 6,
    "start_time": "2025-02-24T08:05:25.849Z"
   },
   {
    "duration": 13,
    "start_time": "2025-02-24T08:05:27.293Z"
   },
   {
    "duration": 4,
    "start_time": "2025-02-24T08:05:53.182Z"
   },
   {
    "duration": 57,
    "start_time": "2025-02-24T08:05:53.187Z"
   },
   {
    "duration": 16,
    "start_time": "2025-02-24T08:05:53.245Z"
   },
   {
    "duration": 416,
    "start_time": "2025-02-24T08:05:53.263Z"
   },
   {
    "duration": 3,
    "start_time": "2025-02-24T08:05:53.682Z"
   },
   {
    "duration": 104,
    "start_time": "2025-02-24T08:05:53.686Z"
   },
   {
    "duration": 16,
    "start_time": "2025-02-24T08:05:53.792Z"
   },
   {
    "duration": 20,
    "start_time": "2025-02-24T08:05:53.811Z"
   },
   {
    "duration": 30,
    "start_time": "2025-02-24T08:05:53.832Z"
   },
   {
    "duration": 4,
    "start_time": "2025-02-24T08:05:53.864Z"
   },
   {
    "duration": 6,
    "start_time": "2025-02-24T08:05:53.869Z"
   },
   {
    "duration": 22,
    "start_time": "2025-02-24T08:05:53.876Z"
   },
   {
    "duration": 4,
    "start_time": "2025-02-24T08:05:53.900Z"
   },
   {
    "duration": 7,
    "start_time": "2025-02-24T08:05:53.905Z"
   },
   {
    "duration": 44,
    "start_time": "2025-02-24T08:05:53.914Z"
   },
   {
    "duration": 9,
    "start_time": "2025-02-24T08:05:53.960Z"
   },
   {
    "duration": 8,
    "start_time": "2025-02-24T08:05:53.971Z"
   },
   {
    "duration": 8,
    "start_time": "2025-02-24T08:05:53.980Z"
   },
   {
    "duration": 4,
    "start_time": "2025-02-24T08:05:53.990Z"
   },
   {
    "duration": 8,
    "start_time": "2025-02-24T08:05:53.996Z"
   },
   {
    "duration": 5,
    "start_time": "2025-02-24T08:05:54.006Z"
   },
   {
    "duration": 47,
    "start_time": "2025-02-24T08:05:54.013Z"
   },
   {
    "duration": 12,
    "start_time": "2025-02-24T08:05:54.064Z"
   },
   {
    "duration": 10,
    "start_time": "2025-02-24T08:05:54.078Z"
   },
   {
    "duration": 13,
    "start_time": "2025-02-24T08:05:54.090Z"
   },
   {
    "duration": 17,
    "start_time": "2025-02-24T08:05:54.104Z"
   },
   {
    "duration": 36,
    "start_time": "2025-02-24T08:05:54.122Z"
   },
   {
    "duration": 81,
    "start_time": "2025-02-24T08:05:54.160Z"
   },
   {
    "duration": 0,
    "start_time": "2025-02-24T08:05:54.242Z"
   },
   {
    "duration": 0,
    "start_time": "2025-02-24T08:05:54.243Z"
   },
   {
    "duration": 0,
    "start_time": "2025-02-24T08:05:54.244Z"
   },
   {
    "duration": 0,
    "start_time": "2025-02-24T08:05:54.258Z"
   },
   {
    "duration": 0,
    "start_time": "2025-02-24T08:05:54.259Z"
   },
   {
    "duration": 0,
    "start_time": "2025-02-24T08:05:54.261Z"
   },
   {
    "duration": 0,
    "start_time": "2025-02-24T08:05:54.262Z"
   },
   {
    "duration": 0,
    "start_time": "2025-02-24T08:05:54.263Z"
   },
   {
    "duration": 0,
    "start_time": "2025-02-24T08:05:54.264Z"
   },
   {
    "duration": 0,
    "start_time": "2025-02-24T08:05:54.266Z"
   },
   {
    "duration": 0,
    "start_time": "2025-02-24T08:05:54.267Z"
   },
   {
    "duration": 0,
    "start_time": "2025-02-24T08:05:54.268Z"
   },
   {
    "duration": 0,
    "start_time": "2025-02-24T08:05:54.269Z"
   },
   {
    "duration": 0,
    "start_time": "2025-02-24T08:05:54.270Z"
   },
   {
    "duration": 0,
    "start_time": "2025-02-24T08:05:54.272Z"
   },
   {
    "duration": 0,
    "start_time": "2025-02-24T08:05:54.273Z"
   },
   {
    "duration": 0,
    "start_time": "2025-02-24T08:05:54.274Z"
   },
   {
    "duration": 0,
    "start_time": "2025-02-24T08:05:54.275Z"
   },
   {
    "duration": 0,
    "start_time": "2025-02-24T08:05:54.276Z"
   },
   {
    "duration": 0,
    "start_time": "2025-02-24T08:05:54.277Z"
   },
   {
    "duration": 0,
    "start_time": "2025-02-24T08:05:54.278Z"
   },
   {
    "duration": 0,
    "start_time": "2025-02-24T08:05:54.279Z"
   },
   {
    "duration": 3,
    "start_time": "2025-02-24T08:08:33.061Z"
   },
   {
    "duration": 90,
    "start_time": "2025-02-24T08:08:33.066Z"
   },
   {
    "duration": 86,
    "start_time": "2025-02-24T08:08:33.158Z"
   },
   {
    "duration": 440,
    "start_time": "2025-02-24T08:08:33.246Z"
   },
   {
    "duration": 3,
    "start_time": "2025-02-24T08:08:33.688Z"
   },
   {
    "duration": 161,
    "start_time": "2025-02-24T08:08:33.692Z"
   },
   {
    "duration": 18,
    "start_time": "2025-02-24T08:08:33.855Z"
   },
   {
    "duration": 20,
    "start_time": "2025-02-24T08:08:33.875Z"
   },
   {
    "duration": 14,
    "start_time": "2025-02-24T08:08:33.897Z"
   },
   {
    "duration": 11,
    "start_time": "2025-02-24T08:08:33.913Z"
   },
   {
    "duration": 5,
    "start_time": "2025-02-24T08:08:33.927Z"
   },
   {
    "duration": 41,
    "start_time": "2025-02-24T08:08:33.934Z"
   },
   {
    "duration": 5,
    "start_time": "2025-02-24T08:08:33.977Z"
   },
   {
    "duration": 12,
    "start_time": "2025-02-24T08:08:33.984Z"
   },
   {
    "duration": 5,
    "start_time": "2025-02-24T08:08:33.998Z"
   },
   {
    "duration": 9,
    "start_time": "2025-02-24T08:08:34.005Z"
   },
   {
    "duration": 7,
    "start_time": "2025-02-24T08:08:34.016Z"
   },
   {
    "duration": 42,
    "start_time": "2025-02-24T08:08:34.024Z"
   },
   {
    "duration": 14,
    "start_time": "2025-02-24T08:08:34.068Z"
   },
   {
    "duration": 9,
    "start_time": "2025-02-24T08:08:34.083Z"
   },
   {
    "duration": 6,
    "start_time": "2025-02-24T08:08:34.093Z"
   },
   {
    "duration": 9,
    "start_time": "2025-02-24T08:08:34.101Z"
   },
   {
    "duration": 13,
    "start_time": "2025-02-24T08:08:34.112Z"
   },
   {
    "duration": 16,
    "start_time": "2025-02-24T08:08:34.159Z"
   },
   {
    "duration": 12,
    "start_time": "2025-02-24T08:08:34.177Z"
   },
   {
    "duration": 17,
    "start_time": "2025-02-24T08:08:34.191Z"
   },
   {
    "duration": 12,
    "start_time": "2025-02-24T08:08:34.210Z"
   },
   {
    "duration": 125,
    "start_time": "2025-02-24T08:08:34.224Z"
   },
   {
    "duration": 11,
    "start_time": "2025-02-24T08:08:34.353Z"
   },
   {
    "duration": 16,
    "start_time": "2025-02-24T08:08:34.366Z"
   },
   {
    "duration": 328,
    "start_time": "2025-02-24T08:08:34.384Z"
   },
   {
    "duration": 20,
    "start_time": "2025-02-24T08:08:34.714Z"
   },
   {
    "duration": 81,
    "start_time": "2025-02-24T08:08:34.736Z"
   },
   {
    "duration": 21,
    "start_time": "2025-02-24T08:08:34.818Z"
   },
   {
    "duration": 19,
    "start_time": "2025-02-24T08:08:34.841Z"
   },
   {
    "duration": 67,
    "start_time": "2025-02-24T08:08:34.862Z"
   },
   {
    "duration": 55,
    "start_time": "2025-02-24T08:08:34.931Z"
   },
   {
    "duration": 14,
    "start_time": "2025-02-24T08:08:34.988Z"
   },
   {
    "duration": 16,
    "start_time": "2025-02-24T08:08:35.004Z"
   },
   {
    "duration": 37,
    "start_time": "2025-02-24T08:08:35.022Z"
   },
   {
    "duration": 19,
    "start_time": "2025-02-24T08:08:35.061Z"
   },
   {
    "duration": 83,
    "start_time": "2025-02-24T08:08:35.082Z"
   },
   {
    "duration": 211,
    "start_time": "2025-02-24T08:08:35.167Z"
   },
   {
    "duration": 22,
    "start_time": "2025-02-24T08:08:35.379Z"
   },
   {
    "duration": 9,
    "start_time": "2025-02-24T08:08:35.403Z"
   },
   {
    "duration": 160,
    "start_time": "2025-02-24T08:08:35.413Z"
   },
   {
    "duration": 17,
    "start_time": "2025-02-24T08:08:35.575Z"
   },
   {
    "duration": 28,
    "start_time": "2025-02-24T08:08:35.593Z"
   },
   {
    "duration": 38,
    "start_time": "2025-02-24T08:08:35.622Z"
   },
   {
    "duration": 26,
    "start_time": "2025-02-24T08:08:35.662Z"
   },
   {
    "duration": 3,
    "start_time": "2025-02-24T08:16:22.549Z"
   },
   {
    "duration": 11,
    "start_time": "2025-02-24T08:16:22.553Z"
   },
   {
    "duration": 4,
    "start_time": "2025-02-24T08:16:22.565Z"
   },
   {
    "duration": 398,
    "start_time": "2025-02-24T08:16:22.570Z"
   },
   {
    "duration": 2,
    "start_time": "2025-02-24T08:16:22.970Z"
   },
   {
    "duration": 93,
    "start_time": "2025-02-24T08:16:22.974Z"
   },
   {
    "duration": 15,
    "start_time": "2025-02-24T08:16:23.069Z"
   },
   {
    "duration": 20,
    "start_time": "2025-02-24T08:16:23.086Z"
   },
   {
    "duration": 13,
    "start_time": "2025-02-24T08:16:23.107Z"
   },
   {
    "duration": 10,
    "start_time": "2025-02-24T08:16:23.122Z"
   },
   {
    "duration": 25,
    "start_time": "2025-02-24T08:16:23.134Z"
   },
   {
    "duration": 22,
    "start_time": "2025-02-24T08:16:23.161Z"
   },
   {
    "duration": 18,
    "start_time": "2025-02-24T08:16:23.184Z"
   },
   {
    "duration": 34,
    "start_time": "2025-02-24T08:16:23.204Z"
   },
   {
    "duration": 5,
    "start_time": "2025-02-24T08:16:23.240Z"
   },
   {
    "duration": 20,
    "start_time": "2025-02-24T08:16:23.247Z"
   },
   {
    "duration": 11,
    "start_time": "2025-02-24T08:16:23.269Z"
   },
   {
    "duration": 9,
    "start_time": "2025-02-24T08:16:23.282Z"
   },
   {
    "duration": 6,
    "start_time": "2025-02-24T08:16:23.293Z"
   },
   {
    "duration": 9,
    "start_time": "2025-02-24T08:16:23.301Z"
   },
   {
    "duration": 4,
    "start_time": "2025-02-24T08:16:23.311Z"
   },
   {
    "duration": 7,
    "start_time": "2025-02-24T08:16:23.317Z"
   },
   {
    "duration": 12,
    "start_time": "2025-02-24T08:16:23.358Z"
   },
   {
    "duration": 15,
    "start_time": "2025-02-24T08:16:23.372Z"
   },
   {
    "duration": 12,
    "start_time": "2025-02-24T08:16:23.388Z"
   },
   {
    "duration": 13,
    "start_time": "2025-02-24T08:16:23.401Z"
   },
   {
    "duration": 16,
    "start_time": "2025-02-24T08:16:23.416Z"
   },
   {
    "duration": 24,
    "start_time": "2025-02-24T08:16:23.458Z"
   },
   {
    "duration": 9,
    "start_time": "2025-02-24T08:16:23.487Z"
   },
   {
    "duration": 15,
    "start_time": "2025-02-24T08:16:23.497Z"
   },
   {
    "duration": 322,
    "start_time": "2025-02-24T08:16:23.513Z"
   },
   {
    "duration": 26,
    "start_time": "2025-02-24T08:16:23.836Z"
   },
   {
    "duration": 22,
    "start_time": "2025-02-24T08:16:23.864Z"
   },
   {
    "duration": 20,
    "start_time": "2025-02-24T08:16:23.887Z"
   },
   {
    "duration": 23,
    "start_time": "2025-02-24T08:16:23.909Z"
   },
   {
    "duration": 93,
    "start_time": "2025-02-24T08:16:23.934Z"
   },
   {
    "duration": 37,
    "start_time": "2025-02-24T08:16:24.028Z"
   },
   {
    "duration": 16,
    "start_time": "2025-02-24T08:16:24.066Z"
   },
   {
    "duration": 18,
    "start_time": "2025-02-24T08:16:24.083Z"
   },
   {
    "duration": 28,
    "start_time": "2025-02-24T08:16:24.102Z"
   },
   {
    "duration": 43,
    "start_time": "2025-02-24T08:16:24.131Z"
   },
   {
    "duration": 4,
    "start_time": "2025-02-24T08:16:24.175Z"
   },
   {
    "duration": 170,
    "start_time": "2025-02-24T08:16:24.181Z"
   },
   {
    "duration": 25,
    "start_time": "2025-02-24T08:16:24.353Z"
   },
   {
    "duration": 6,
    "start_time": "2025-02-24T08:16:24.380Z"
   },
   {
    "duration": 160,
    "start_time": "2025-02-24T08:16:24.387Z"
   },
   {
    "duration": 22,
    "start_time": "2025-02-24T08:16:24.548Z"
   },
   {
    "duration": 23,
    "start_time": "2025-02-24T08:16:24.571Z"
   },
   {
    "duration": 18,
    "start_time": "2025-02-24T08:16:24.595Z"
   },
   {
    "duration": 8,
    "start_time": "2025-02-24T08:16:24.614Z"
   },
   {
    "duration": 18,
    "start_time": "2025-02-24T08:17:20.482Z"
   },
   {
    "duration": 70,
    "start_time": "2025-02-24T08:17:41.713Z"
   },
   {
    "duration": 6,
    "start_time": "2025-02-24T08:17:53.371Z"
   },
   {
    "duration": 5,
    "start_time": "2025-02-24T08:21:00.646Z"
   },
   {
    "duration": 7,
    "start_time": "2025-02-24T08:21:17.315Z"
   },
   {
    "duration": 6,
    "start_time": "2025-02-24T08:21:22.089Z"
   },
   {
    "duration": 7,
    "start_time": "2025-02-24T08:21:32.463Z"
   },
   {
    "duration": 19,
    "start_time": "2025-02-24T08:22:52.104Z"
   },
   {
    "duration": 22,
    "start_time": "2025-02-24T08:23:02.745Z"
   },
   {
    "duration": 9,
    "start_time": "2025-02-24T09:54:36.643Z"
   },
   {
    "duration": 9,
    "start_time": "2025-02-24T09:54:37.573Z"
   },
   {
    "duration": 12,
    "start_time": "2025-02-24T10:06:59.044Z"
   },
   {
    "duration": 8,
    "start_time": "2025-02-24T10:09:07.118Z"
   },
   {
    "duration": 1228,
    "start_time": "2025-02-24T10:09:26.727Z"
   },
   {
    "duration": 1337,
    "start_time": "2025-02-24T10:10:05.630Z"
   },
   {
    "duration": 22,
    "start_time": "2025-02-24T10:10:13.336Z"
   },
   {
    "duration": 45,
    "start_time": "2025-02-24T10:10:28.564Z"
   },
   {
    "duration": 1387,
    "start_time": "2025-02-24T10:10:59.223Z"
   },
   {
    "duration": 20,
    "start_time": "2025-02-24T10:11:07.108Z"
   },
   {
    "duration": 13,
    "start_time": "2025-02-24T10:11:20.079Z"
   },
   {
    "duration": 8,
    "start_time": "2025-02-24T10:11:41.096Z"
   },
   {
    "duration": 8,
    "start_time": "2025-02-24T10:11:56.295Z"
   },
   {
    "duration": 8,
    "start_time": "2025-02-24T10:11:57.105Z"
   },
   {
    "duration": 7,
    "start_time": "2025-02-24T10:12:01.631Z"
   },
   {
    "duration": 8,
    "start_time": "2025-02-24T10:12:03.302Z"
   },
   {
    "duration": 8,
    "start_time": "2025-02-24T10:12:09.090Z"
   },
   {
    "duration": 7,
    "start_time": "2025-02-24T10:12:09.684Z"
   },
   {
    "duration": 8,
    "start_time": "2025-02-24T10:12:53.321Z"
   },
   {
    "duration": 8,
    "start_time": "2025-02-24T10:12:53.807Z"
   },
   {
    "duration": 9,
    "start_time": "2025-02-24T10:13:32.099Z"
   },
   {
    "duration": 62,
    "start_time": "2025-02-24T10:13:59.753Z"
   },
   {
    "duration": 3,
    "start_time": "2025-02-24T10:14:07.167Z"
   },
   {
    "duration": 25,
    "start_time": "2025-02-24T10:14:07.172Z"
   },
   {
    "duration": 7,
    "start_time": "2025-02-24T10:14:07.198Z"
   },
   {
    "duration": 374,
    "start_time": "2025-02-24T10:14:07.206Z"
   },
   {
    "duration": 3,
    "start_time": "2025-02-24T10:14:07.582Z"
   },
   {
    "duration": 175,
    "start_time": "2025-02-24T10:14:07.586Z"
   },
   {
    "duration": 17,
    "start_time": "2025-02-24T10:14:07.763Z"
   },
   {
    "duration": 19,
    "start_time": "2025-02-24T10:14:07.782Z"
   },
   {
    "duration": 12,
    "start_time": "2025-02-24T10:14:07.803Z"
   },
   {
    "duration": 4,
    "start_time": "2025-02-24T10:14:07.817Z"
   },
   {
    "duration": 5,
    "start_time": "2025-02-24T10:14:07.823Z"
   },
   {
    "duration": 21,
    "start_time": "2025-02-24T10:14:07.858Z"
   },
   {
    "duration": 5,
    "start_time": "2025-02-24T10:14:07.880Z"
   },
   {
    "duration": 7,
    "start_time": "2025-02-24T10:14:07.886Z"
   },
   {
    "duration": 7,
    "start_time": "2025-02-24T10:14:07.894Z"
   },
   {
    "duration": 22,
    "start_time": "2025-02-24T10:14:07.902Z"
   },
   {
    "duration": 7,
    "start_time": "2025-02-24T10:14:07.925Z"
   },
   {
    "duration": 9,
    "start_time": "2025-02-24T10:14:07.957Z"
   },
   {
    "duration": 9,
    "start_time": "2025-02-24T10:14:07.967Z"
   },
   {
    "duration": 9,
    "start_time": "2025-02-24T10:14:07.977Z"
   },
   {
    "duration": 23,
    "start_time": "2025-02-24T10:14:07.987Z"
   },
   {
    "duration": 10,
    "start_time": "2025-02-24T10:14:08.011Z"
   },
   {
    "duration": 15,
    "start_time": "2025-02-24T10:14:08.022Z"
   },
   {
    "duration": 30,
    "start_time": "2025-02-24T10:14:08.038Z"
   },
   {
    "duration": 12,
    "start_time": "2025-02-24T10:14:08.069Z"
   },
   {
    "duration": 12,
    "start_time": "2025-02-24T10:14:08.083Z"
   },
   {
    "duration": 23,
    "start_time": "2025-02-24T10:14:08.097Z"
   },
   {
    "duration": 37,
    "start_time": "2025-02-24T10:14:08.122Z"
   },
   {
    "duration": 8,
    "start_time": "2025-02-24T10:14:08.163Z"
   },
   {
    "duration": 11,
    "start_time": "2025-02-24T10:14:08.173Z"
   },
   {
    "duration": 327,
    "start_time": "2025-02-24T10:14:08.185Z"
   },
   {
    "duration": 22,
    "start_time": "2025-02-24T10:14:08.514Z"
   },
   {
    "duration": 21,
    "start_time": "2025-02-24T10:14:08.537Z"
   },
   {
    "duration": 8,
    "start_time": "2025-02-24T10:14:08.560Z"
   },
   {
    "duration": 9,
    "start_time": "2025-02-24T10:14:08.570Z"
   },
   {
    "duration": 7,
    "start_time": "2025-02-24T10:14:08.580Z"
   },
   {
    "duration": 15,
    "start_time": "2025-02-24T10:14:08.589Z"
   },
   {
    "duration": 12,
    "start_time": "2025-02-24T10:14:08.605Z"
   },
   {
    "duration": 53,
    "start_time": "2025-02-24T10:14:08.619Z"
   },
   {
    "duration": 62,
    "start_time": "2025-02-24T10:14:08.673Z"
   },
   {
    "duration": 41,
    "start_time": "2025-02-24T10:14:08.737Z"
   },
   {
    "duration": 12,
    "start_time": "2025-02-24T10:14:08.779Z"
   },
   {
    "duration": 13,
    "start_time": "2025-02-24T10:14:08.793Z"
   },
   {
    "duration": 22,
    "start_time": "2025-02-24T10:14:08.807Z"
   },
   {
    "duration": 41,
    "start_time": "2025-02-24T10:14:08.831Z"
   },
   {
    "duration": 16,
    "start_time": "2025-02-24T10:14:08.873Z"
   },
   {
    "duration": 4,
    "start_time": "2025-02-24T10:14:08.890Z"
   },
   {
    "duration": 89,
    "start_time": "2025-02-24T10:14:08.896Z"
   },
   {
    "duration": 22,
    "start_time": "2025-02-24T10:14:08.987Z"
   },
   {
    "duration": 62,
    "start_time": "2025-02-24T10:14:09.010Z"
   },
   {
    "duration": 72,
    "start_time": "2025-02-24T10:14:09.075Z"
   },
   {
    "duration": 15,
    "start_time": "2025-02-24T10:14:09.148Z"
   },
   {
    "duration": 42,
    "start_time": "2025-02-24T10:14:09.165Z"
   },
   {
    "duration": 15,
    "start_time": "2025-02-24T10:14:09.208Z"
   },
   {
    "duration": 6,
    "start_time": "2025-02-24T10:14:09.225Z"
   },
   {
    "duration": 8,
    "start_time": "2025-02-24T10:14:45.517Z"
   },
   {
    "duration": 7,
    "start_time": "2025-02-24T10:14:46.070Z"
   },
   {
    "duration": 6,
    "start_time": "2025-02-24T10:18:35.287Z"
   },
   {
    "duration": 7,
    "start_time": "2025-02-24T10:18:36.670Z"
   },
   {
    "duration": 4,
    "start_time": "2025-02-24T10:18:41.569Z"
   },
   {
    "duration": 88,
    "start_time": "2025-02-24T10:18:41.575Z"
   },
   {
    "duration": 11,
    "start_time": "2025-02-24T10:18:41.664Z"
   },
   {
    "duration": 389,
    "start_time": "2025-02-24T10:18:41.676Z"
   },
   {
    "duration": 3,
    "start_time": "2025-02-24T10:18:42.067Z"
   },
   {
    "duration": 91,
    "start_time": "2025-02-24T10:18:42.071Z"
   },
   {
    "duration": 16,
    "start_time": "2025-02-24T10:18:42.163Z"
   },
   {
    "duration": 19,
    "start_time": "2025-02-24T10:18:42.181Z"
   },
   {
    "duration": 12,
    "start_time": "2025-02-24T10:18:42.203Z"
   },
   {
    "duration": 5,
    "start_time": "2025-02-24T10:18:42.216Z"
   },
   {
    "duration": 5,
    "start_time": "2025-02-24T10:18:42.222Z"
   },
   {
    "duration": 49,
    "start_time": "2025-02-24T10:18:42.229Z"
   },
   {
    "duration": 6,
    "start_time": "2025-02-24T10:18:42.279Z"
   },
   {
    "duration": 6,
    "start_time": "2025-02-24T10:18:42.286Z"
   },
   {
    "duration": 6,
    "start_time": "2025-02-24T10:18:42.293Z"
   },
   {
    "duration": 9,
    "start_time": "2025-02-24T10:18:42.300Z"
   },
   {
    "duration": 5,
    "start_time": "2025-02-24T10:18:42.311Z"
   },
   {
    "duration": 46,
    "start_time": "2025-02-24T10:18:42.317Z"
   },
   {
    "duration": 5,
    "start_time": "2025-02-24T10:18:42.365Z"
   },
   {
    "duration": 9,
    "start_time": "2025-02-24T10:18:42.371Z"
   },
   {
    "duration": 5,
    "start_time": "2025-02-24T10:18:42.381Z"
   },
   {
    "duration": 8,
    "start_time": "2025-02-24T10:18:42.388Z"
   },
   {
    "duration": 12,
    "start_time": "2025-02-24T10:18:42.397Z"
   },
   {
    "duration": 52,
    "start_time": "2025-02-24T10:18:42.412Z"
   },
   {
    "duration": 12,
    "start_time": "2025-02-24T10:18:42.465Z"
   },
   {
    "duration": 12,
    "start_time": "2025-02-24T10:18:42.478Z"
   },
   {
    "duration": 12,
    "start_time": "2025-02-24T10:18:42.492Z"
   },
   {
    "duration": 53,
    "start_time": "2025-02-24T10:18:42.506Z"
   },
   {
    "duration": 9,
    "start_time": "2025-02-24T10:18:42.560Z"
   },
   {
    "duration": 14,
    "start_time": "2025-02-24T10:18:42.570Z"
   },
   {
    "duration": 313,
    "start_time": "2025-02-24T10:18:42.586Z"
   },
   {
    "duration": 22,
    "start_time": "2025-02-24T10:18:42.901Z"
   },
   {
    "duration": 8,
    "start_time": "2025-02-24T10:18:42.925Z"
   },
   {
    "duration": 76,
    "start_time": "2025-02-24T10:18:42.935Z"
   },
   {
    "duration": 66,
    "start_time": "2025-02-24T10:18:43.013Z"
   },
   {
    "duration": 10,
    "start_time": "2025-02-24T10:18:43.081Z"
   },
   {
    "duration": 20,
    "start_time": "2025-02-24T10:18:43.092Z"
   },
   {
    "duration": 19,
    "start_time": "2025-02-24T10:18:43.113Z"
   },
   {
    "duration": 67,
    "start_time": "2025-02-24T10:18:43.134Z"
   },
   {
    "duration": 15,
    "start_time": "2025-02-24T10:18:43.203Z"
   },
   {
    "duration": 64,
    "start_time": "2025-02-24T10:18:43.219Z"
   },
   {
    "duration": 21,
    "start_time": "2025-02-24T10:18:43.285Z"
   },
   {
    "duration": 16,
    "start_time": "2025-02-24T10:18:43.308Z"
   },
   {
    "duration": 79,
    "start_time": "2025-02-24T10:18:43.325Z"
   },
   {
    "duration": 27,
    "start_time": "2025-02-24T10:18:43.406Z"
   },
   {
    "duration": 19,
    "start_time": "2025-02-24T10:18:43.434Z"
   },
   {
    "duration": 4,
    "start_time": "2025-02-24T10:18:43.454Z"
   },
   {
    "duration": 151,
    "start_time": "2025-02-24T10:18:43.460Z"
   },
   {
    "duration": 22,
    "start_time": "2025-02-24T10:18:43.613Z"
   },
   {
    "duration": 25,
    "start_time": "2025-02-24T10:18:43.637Z"
   },
   {
    "duration": 152,
    "start_time": "2025-02-24T10:18:43.664Z"
   },
   {
    "duration": 17,
    "start_time": "2025-02-24T10:18:43.818Z"
   },
   {
    "duration": 39,
    "start_time": "2025-02-24T10:18:43.837Z"
   },
   {
    "duration": 18,
    "start_time": "2025-02-24T10:18:43.878Z"
   },
   {
    "duration": 9,
    "start_time": "2025-02-24T10:18:43.897Z"
   },
   {
    "duration": 7,
    "start_time": "2025-02-24T10:26:27.961Z"
   },
   {
    "duration": 5,
    "start_time": "2025-02-24T10:26:28.818Z"
   },
   {
    "duration": 14,
    "start_time": "2025-02-24T10:26:58.784Z"
   },
   {
    "duration": 10,
    "start_time": "2025-02-24T10:27:18.916Z"
   },
   {
    "duration": 5,
    "start_time": "2025-02-24T10:28:41.912Z"
   },
   {
    "duration": 5,
    "start_time": "2025-02-24T10:32:36.450Z"
   },
   {
    "duration": 14,
    "start_time": "2025-02-24T10:32:37.202Z"
   },
   {
    "duration": 24,
    "start_time": "2025-02-24T10:38:26.322Z"
   },
   {
    "duration": 24,
    "start_time": "2025-02-24T10:38:58.196Z"
   },
   {
    "duration": 21,
    "start_time": "2025-02-24T10:39:00.762Z"
   },
   {
    "duration": 22,
    "start_time": "2025-02-24T10:39:07.368Z"
   },
   {
    "duration": 22,
    "start_time": "2025-02-24T10:40:07.958Z"
   },
   {
    "duration": 22,
    "start_time": "2025-02-24T10:40:09.727Z"
   },
   {
    "duration": 3,
    "start_time": "2025-02-24T10:44:34.733Z"
   },
   {
    "duration": 16,
    "start_time": "2025-02-24T10:44:34.738Z"
   },
   {
    "duration": 85,
    "start_time": "2025-02-24T10:44:34.756Z"
   },
   {
    "duration": 443,
    "start_time": "2025-02-24T10:44:34.843Z"
   },
   {
    "duration": 3,
    "start_time": "2025-02-24T10:44:35.288Z"
   },
   {
    "duration": 125,
    "start_time": "2025-02-24T10:44:35.293Z"
   },
   {
    "duration": 17,
    "start_time": "2025-02-24T10:44:35.420Z"
   },
   {
    "duration": 60,
    "start_time": "2025-02-24T10:44:35.439Z"
   },
   {
    "duration": 18,
    "start_time": "2025-02-24T10:44:35.502Z"
   },
   {
    "duration": 9,
    "start_time": "2025-02-24T10:44:35.522Z"
   },
   {
    "duration": 17,
    "start_time": "2025-02-24T10:44:35.533Z"
   },
   {
    "duration": 22,
    "start_time": "2025-02-24T10:44:35.552Z"
   },
   {
    "duration": 8,
    "start_time": "2025-02-24T10:44:35.576Z"
   },
   {
    "duration": 152,
    "start_time": "2025-02-24T10:44:35.585Z"
   },
   {
    "duration": 20,
    "start_time": "2025-02-24T10:44:35.739Z"
   },
   {
    "duration": 10,
    "start_time": "2025-02-24T10:44:35.760Z"
   },
   {
    "duration": 8,
    "start_time": "2025-02-24T10:44:35.772Z"
   },
   {
    "duration": 13,
    "start_time": "2025-02-24T10:44:35.782Z"
   },
   {
    "duration": 43,
    "start_time": "2025-02-24T10:44:35.796Z"
   },
   {
    "duration": 15,
    "start_time": "2025-02-24T10:44:35.840Z"
   },
   {
    "duration": 29,
    "start_time": "2025-02-24T10:44:35.857Z"
   },
   {
    "duration": 13,
    "start_time": "2025-02-24T10:44:35.887Z"
   },
   {
    "duration": 21,
    "start_time": "2025-02-24T10:44:35.902Z"
   },
   {
    "duration": 22,
    "start_time": "2025-02-24T10:44:35.928Z"
   },
   {
    "duration": 12,
    "start_time": "2025-02-24T10:44:35.951Z"
   },
   {
    "duration": 25,
    "start_time": "2025-02-24T10:44:35.965Z"
   },
   {
    "duration": 15,
    "start_time": "2025-02-24T10:44:35.992Z"
   },
   {
    "duration": 24,
    "start_time": "2025-02-24T10:44:36.009Z"
   },
   {
    "duration": 23,
    "start_time": "2025-02-24T10:44:36.035Z"
   },
   {
    "duration": 13,
    "start_time": "2025-02-24T10:44:36.060Z"
   },
   {
    "duration": 318,
    "start_time": "2025-02-24T10:44:36.074Z"
   },
   {
    "duration": 10,
    "start_time": "2025-02-24T10:44:36.395Z"
   },
   {
    "duration": 10,
    "start_time": "2025-02-24T10:44:36.406Z"
   },
   {
    "duration": 7,
    "start_time": "2025-02-24T10:44:36.418Z"
   },
   {
    "duration": 39,
    "start_time": "2025-02-24T10:44:36.426Z"
   },
   {
    "duration": 5,
    "start_time": "2025-02-24T10:44:36.467Z"
   },
   {
    "duration": 12,
    "start_time": "2025-02-24T10:44:36.474Z"
   },
   {
    "duration": 12,
    "start_time": "2025-02-24T10:44:36.487Z"
   },
   {
    "duration": 6,
    "start_time": "2025-02-24T10:44:36.501Z"
   },
   {
    "duration": 5,
    "start_time": "2025-02-24T10:44:36.509Z"
   },
   {
    "duration": 16,
    "start_time": "2025-02-24T10:44:36.516Z"
   },
   {
    "duration": 21,
    "start_time": "2025-02-24T10:44:36.558Z"
   },
   {
    "duration": 24,
    "start_time": "2025-02-24T10:44:36.580Z"
   },
   {
    "duration": 22,
    "start_time": "2025-02-24T10:44:36.606Z"
   },
   {
    "duration": 46,
    "start_time": "2025-02-24T10:44:36.630Z"
   },
   {
    "duration": 15,
    "start_time": "2025-02-24T10:44:36.678Z"
   },
   {
    "duration": 86,
    "start_time": "2025-02-24T10:44:36.695Z"
   },
   {
    "duration": 22,
    "start_time": "2025-02-24T10:44:36.783Z"
   },
   {
    "duration": 65,
    "start_time": "2025-02-24T10:44:36.807Z"
   },
   {
    "duration": 17,
    "start_time": "2025-02-24T10:44:36.874Z"
   },
   {
    "duration": 28,
    "start_time": "2025-02-24T10:44:36.893Z"
   },
   {
    "duration": 44,
    "start_time": "2025-02-24T10:44:36.923Z"
   },
   {
    "duration": 5,
    "start_time": "2025-02-24T10:44:36.969Z"
   },
   {
    "duration": 163,
    "start_time": "2025-02-24T10:44:36.975Z"
   },
   {
    "duration": 31,
    "start_time": "2025-02-24T10:44:37.140Z"
   },
   {
    "duration": 78,
    "start_time": "2025-02-24T10:44:37.174Z"
   },
   {
    "duration": 160,
    "start_time": "2025-02-24T10:44:37.253Z"
   },
   {
    "duration": 17,
    "start_time": "2025-02-24T10:44:37.415Z"
   },
   {
    "duration": 69,
    "start_time": "2025-02-24T10:44:37.434Z"
   },
   {
    "duration": 17,
    "start_time": "2025-02-24T10:44:37.505Z"
   },
   {
    "duration": 8,
    "start_time": "2025-02-24T10:44:37.524Z"
   },
   {
    "duration": 18,
    "start_time": "2025-02-24T10:45:21.836Z"
   },
   {
    "duration": 60,
    "start_time": "2025-02-24T10:45:22.731Z"
   },
   {
    "duration": 21,
    "start_time": "2025-02-24T10:45:38.429Z"
   },
   {
    "duration": 16,
    "start_time": "2025-02-24T10:59:11.065Z"
   },
   {
    "duration": 15,
    "start_time": "2025-02-24T10:59:25.039Z"
   },
   {
    "duration": 97,
    "start_time": "2025-02-24T10:59:33.479Z"
   },
   {
    "duration": 15,
    "start_time": "2025-02-24T10:59:37.906Z"
   },
   {
    "duration": 81,
    "start_time": "2025-02-24T10:59:41.584Z"
   },
   {
    "duration": 16,
    "start_time": "2025-02-24T10:59:47.910Z"
   },
   {
    "duration": 15,
    "start_time": "2025-02-24T10:59:53.633Z"
   },
   {
    "duration": 15,
    "start_time": "2025-02-24T10:59:59.762Z"
   },
   {
    "duration": 16,
    "start_time": "2025-02-24T11:00:30.997Z"
   },
   {
    "duration": 14,
    "start_time": "2025-02-24T11:00:59.107Z"
   },
   {
    "duration": 96,
    "start_time": "2025-02-24T11:01:14.067Z"
   },
   {
    "duration": 14,
    "start_time": "2025-02-24T11:01:21.259Z"
   },
   {
    "duration": 14,
    "start_time": "2025-02-24T11:01:24.246Z"
   },
   {
    "duration": 17,
    "start_time": "2025-02-24T11:01:31.253Z"
   },
   {
    "duration": 18,
    "start_time": "2025-02-24T11:01:54.780Z"
   },
   {
    "duration": 18,
    "start_time": "2025-02-24T11:01:59.629Z"
   },
   {
    "duration": 3,
    "start_time": "2025-02-24T11:21:04.262Z"
   },
   {
    "duration": 4,
    "start_time": "2025-02-24T11:21:04.267Z"
   },
   {
    "duration": 4,
    "start_time": "2025-02-24T11:21:04.272Z"
   },
   {
    "duration": 405,
    "start_time": "2025-02-24T11:21:04.278Z"
   },
   {
    "duration": 2,
    "start_time": "2025-02-24T11:21:04.685Z"
   },
   {
    "duration": 208,
    "start_time": "2025-02-24T11:21:04.689Z"
   },
   {
    "duration": 16,
    "start_time": "2025-02-24T11:21:04.899Z"
   },
   {
    "duration": 55,
    "start_time": "2025-02-24T11:21:04.917Z"
   },
   {
    "duration": 13,
    "start_time": "2025-02-24T11:21:04.973Z"
   },
   {
    "duration": 4,
    "start_time": "2025-02-24T11:21:04.988Z"
   },
   {
    "duration": 5,
    "start_time": "2025-02-24T11:21:04.993Z"
   },
   {
    "duration": 24,
    "start_time": "2025-02-24T11:21:05.000Z"
   },
   {
    "duration": 34,
    "start_time": "2025-02-24T11:21:05.025Z"
   },
   {
    "duration": 6,
    "start_time": "2025-02-24T11:21:05.060Z"
   },
   {
    "duration": 7,
    "start_time": "2025-02-24T11:21:05.068Z"
   },
   {
    "duration": 9,
    "start_time": "2025-02-24T11:21:05.076Z"
   },
   {
    "duration": 5,
    "start_time": "2025-02-24T11:21:05.086Z"
   },
   {
    "duration": 23,
    "start_time": "2025-02-24T11:21:05.092Z"
   },
   {
    "duration": 5,
    "start_time": "2025-02-24T11:21:05.116Z"
   },
   {
    "duration": 38,
    "start_time": "2025-02-24T11:21:05.122Z"
   },
   {
    "duration": 86,
    "start_time": "2025-02-24T11:21:05.162Z"
   },
   {
    "duration": 70,
    "start_time": "2025-02-24T11:21:05.249Z"
   },
   {
    "duration": 64,
    "start_time": "2025-02-24T11:21:05.320Z"
   },
   {
    "duration": 51,
    "start_time": "2025-02-24T11:21:05.385Z"
   },
   {
    "duration": 16,
    "start_time": "2025-02-24T11:21:05.439Z"
   },
   {
    "duration": 18,
    "start_time": "2025-02-24T11:21:05.457Z"
   },
   {
    "duration": 12,
    "start_time": "2025-02-24T11:21:05.477Z"
   },
   {
    "duration": 129,
    "start_time": "2025-02-24T11:21:05.491Z"
   },
   {
    "duration": 8,
    "start_time": "2025-02-24T11:21:05.621Z"
   },
   {
    "duration": 19,
    "start_time": "2025-02-24T11:21:05.631Z"
   },
   {
    "duration": 289,
    "start_time": "2025-02-24T11:21:05.651Z"
   },
   {
    "duration": 21,
    "start_time": "2025-02-24T11:21:05.941Z"
   },
   {
    "duration": 9,
    "start_time": "2025-02-24T11:21:05.964Z"
   },
   {
    "duration": 31,
    "start_time": "2025-02-24T11:21:05.975Z"
   },
   {
    "duration": 22,
    "start_time": "2025-02-24T11:21:06.008Z"
   },
   {
    "duration": 15,
    "start_time": "2025-02-24T11:21:06.031Z"
   },
   {
    "duration": 5,
    "start_time": "2025-02-24T11:21:06.047Z"
   },
   {
    "duration": 13,
    "start_time": "2025-02-24T11:21:06.053Z"
   },
   {
    "duration": 4,
    "start_time": "2025-02-24T11:21:06.067Z"
   },
   {
    "duration": 6,
    "start_time": "2025-02-24T11:21:06.073Z"
   },
   {
    "duration": 15,
    "start_time": "2025-02-24T11:21:06.080Z"
   },
   {
    "duration": 19,
    "start_time": "2025-02-24T11:21:06.097Z"
   },
   {
    "duration": 51,
    "start_time": "2025-02-24T11:21:06.118Z"
   },
   {
    "duration": 21,
    "start_time": "2025-02-24T11:21:06.171Z"
   },
   {
    "duration": 27,
    "start_time": "2025-02-24T11:21:06.194Z"
   },
   {
    "duration": 36,
    "start_time": "2025-02-24T11:21:06.223Z"
   },
   {
    "duration": 60,
    "start_time": "2025-02-24T11:21:06.261Z"
   },
   {
    "duration": 36,
    "start_time": "2025-02-24T11:21:06.323Z"
   },
   {
    "duration": 17,
    "start_time": "2025-02-24T11:21:06.360Z"
   },
   {
    "duration": 15,
    "start_time": "2025-02-24T11:21:06.379Z"
   },
   {
    "duration": 24,
    "start_time": "2025-02-24T11:21:06.396Z"
   },
   {
    "duration": 45,
    "start_time": "2025-02-24T11:21:06.421Z"
   },
   {
    "duration": 4,
    "start_time": "2025-02-24T11:21:06.467Z"
   },
   {
    "duration": 163,
    "start_time": "2025-02-24T11:21:06.472Z"
   },
   {
    "duration": 30,
    "start_time": "2025-02-24T11:21:06.637Z"
   },
   {
    "duration": 4,
    "start_time": "2025-02-24T11:21:06.668Z"
   },
   {
    "duration": 163,
    "start_time": "2025-02-24T11:21:06.674Z"
   },
   {
    "duration": 25,
    "start_time": "2025-02-24T11:21:06.838Z"
   },
   {
    "duration": 21,
    "start_time": "2025-02-24T11:21:06.865Z"
   },
   {
    "duration": 79,
    "start_time": "2025-02-24T11:21:06.888Z"
   },
   {
    "duration": 17,
    "start_time": "2025-02-24T11:21:06.968Z"
   },
   {
    "duration": 10,
    "start_time": "2025-02-24T11:21:06.987Z"
   },
   {
    "duration": 4,
    "start_time": "2025-02-24T16:00:08.383Z"
   },
   {
    "duration": 426,
    "start_time": "2025-02-24T16:00:08.389Z"
   },
   {
    "duration": 152,
    "start_time": "2025-02-24T16:00:08.816Z"
   },
   {
    "duration": 513,
    "start_time": "2025-02-24T16:00:08.970Z"
   },
   {
    "duration": 3,
    "start_time": "2025-02-24T16:00:09.485Z"
   },
   {
    "duration": 362,
    "start_time": "2025-02-24T16:00:09.489Z"
   },
   {
    "duration": 20,
    "start_time": "2025-02-24T16:00:09.853Z"
   },
   {
    "duration": 190,
    "start_time": "2025-02-24T16:00:09.875Z"
   },
   {
    "duration": 82,
    "start_time": "2025-02-24T16:00:10.069Z"
   },
   {
    "duration": 361,
    "start_time": "2025-02-24T16:00:10.153Z"
   },
   {
    "duration": 14,
    "start_time": "2025-02-24T16:00:10.516Z"
   },
   {
    "duration": 53,
    "start_time": "2025-02-24T16:00:10.532Z"
   },
   {
    "duration": 19,
    "start_time": "2025-02-24T16:00:10.587Z"
   },
   {
    "duration": 35,
    "start_time": "2025-02-24T16:00:10.608Z"
   },
   {
    "duration": 39,
    "start_time": "2025-02-24T16:00:10.645Z"
   },
   {
    "duration": 51,
    "start_time": "2025-02-24T16:00:10.686Z"
   },
   {
    "duration": 18,
    "start_time": "2025-02-24T16:00:10.739Z"
   },
   {
    "duration": 54,
    "start_time": "2025-02-24T16:00:10.759Z"
   },
   {
    "duration": 36,
    "start_time": "2025-02-24T16:00:10.815Z"
   },
   {
    "duration": 131,
    "start_time": "2025-02-24T16:00:10.853Z"
   },
   {
    "duration": 198,
    "start_time": "2025-02-24T16:00:10.986Z"
   },
   {
    "duration": 33,
    "start_time": "2025-02-24T16:00:11.185Z"
   },
   {
    "duration": 47,
    "start_time": "2025-02-24T16:00:11.220Z"
   },
   {
    "duration": 30,
    "start_time": "2025-02-24T16:00:11.271Z"
   },
   {
    "duration": 31,
    "start_time": "2025-02-24T16:00:11.302Z"
   },
   {
    "duration": 38,
    "start_time": "2025-02-24T16:00:11.334Z"
   },
   {
    "duration": 31,
    "start_time": "2025-02-24T16:00:11.373Z"
   },
   {
    "duration": 46,
    "start_time": "2025-02-24T16:00:11.406Z"
   },
   {
    "duration": 60,
    "start_time": "2025-02-24T16:00:11.454Z"
   },
   {
    "duration": 60,
    "start_time": "2025-02-24T16:00:11.515Z"
   },
   {
    "duration": 357,
    "start_time": "2025-02-24T16:00:11.577Z"
   },
   {
    "duration": 20,
    "start_time": "2025-02-24T16:00:11.936Z"
   },
   {
    "duration": 21,
    "start_time": "2025-02-24T16:00:11.958Z"
   },
   {
    "duration": 24,
    "start_time": "2025-02-24T16:00:11.981Z"
   },
   {
    "duration": 47,
    "start_time": "2025-02-24T16:00:12.007Z"
   },
   {
    "duration": 30,
    "start_time": "2025-02-24T16:00:12.056Z"
   },
   {
    "duration": 56,
    "start_time": "2025-02-24T16:00:12.088Z"
   },
   {
    "duration": 45,
    "start_time": "2025-02-24T16:00:12.146Z"
   },
   {
    "duration": 27,
    "start_time": "2025-02-24T16:00:12.193Z"
   },
   {
    "duration": 46,
    "start_time": "2025-02-24T16:00:12.222Z"
   },
   {
    "duration": 36,
    "start_time": "2025-02-24T16:00:12.269Z"
   },
   {
    "duration": 36,
    "start_time": "2025-02-24T16:00:12.307Z"
   },
   {
    "duration": 64,
    "start_time": "2025-02-24T16:00:12.346Z"
   },
   {
    "duration": 31,
    "start_time": "2025-02-24T16:00:12.412Z"
   },
   {
    "duration": 61,
    "start_time": "2025-02-24T16:00:12.445Z"
   },
   {
    "duration": 84,
    "start_time": "2025-02-24T16:00:12.508Z"
   },
   {
    "duration": 91,
    "start_time": "2025-02-24T16:00:12.593Z"
   },
   {
    "duration": 24,
    "start_time": "2025-02-24T16:00:12.686Z"
   },
   {
    "duration": 24,
    "start_time": "2025-02-24T16:00:12.712Z"
   },
   {
    "duration": 45,
    "start_time": "2025-02-24T16:00:12.738Z"
   },
   {
    "duration": 36,
    "start_time": "2025-02-24T16:00:12.785Z"
   },
   {
    "duration": 20,
    "start_time": "2025-02-24T16:00:12.822Z"
   },
   {
    "duration": 107,
    "start_time": "2025-02-24T16:00:12.844Z"
   },
   {
    "duration": 314,
    "start_time": "2025-02-24T16:00:12.953Z"
   },
   {
    "duration": 24,
    "start_time": "2025-02-24T16:00:13.268Z"
   },
   {
    "duration": 46,
    "start_time": "2025-02-24T16:00:13.294Z"
   },
   {
    "duration": 192,
    "start_time": "2025-02-24T16:00:13.342Z"
   },
   {
    "duration": 25,
    "start_time": "2025-02-24T16:00:13.536Z"
   },
   {
    "duration": 31,
    "start_time": "2025-02-24T16:00:13.563Z"
   },
   {
    "duration": 24,
    "start_time": "2025-02-24T16:00:13.596Z"
   },
   {
    "duration": 34,
    "start_time": "2025-02-24T16:00:13.622Z"
   },
   {
    "duration": 9,
    "start_time": "2025-02-24T16:00:13.658Z"
   },
   {
    "duration": 5,
    "start_time": "2025-02-24T17:40:12.275Z"
   },
   {
    "duration": 5,
    "start_time": "2025-02-24T17:40:53.852Z"
   },
   {
    "duration": 4,
    "start_time": "2025-02-24T17:42:52.365Z"
   },
   {
    "duration": 8,
    "start_time": "2025-02-24T17:42:52.371Z"
   },
   {
    "duration": 12,
    "start_time": "2025-02-24T17:42:52.380Z"
   },
   {
    "duration": 422,
    "start_time": "2025-02-24T17:42:52.394Z"
   },
   {
    "duration": 3,
    "start_time": "2025-02-24T17:42:52.818Z"
   },
   {
    "duration": 130,
    "start_time": "2025-02-24T17:42:52.823Z"
   },
   {
    "duration": 17,
    "start_time": "2025-02-24T17:42:52.955Z"
   },
   {
    "duration": 134,
    "start_time": "2025-02-24T17:42:52.973Z"
   },
   {
    "duration": 59,
    "start_time": "2025-02-24T17:42:53.109Z"
   },
   {
    "duration": 18,
    "start_time": "2025-02-24T17:42:53.170Z"
   },
   {
    "duration": 42,
    "start_time": "2025-02-24T17:42:53.190Z"
   },
   {
    "duration": 161,
    "start_time": "2025-02-24T17:42:53.234Z"
   },
   {
    "duration": 113,
    "start_time": "2025-02-24T17:42:53.399Z"
   },
   {
    "duration": 12,
    "start_time": "2025-02-24T17:42:53.513Z"
   },
   {
    "duration": 22,
    "start_time": "2025-02-24T17:42:53.527Z"
   },
   {
    "duration": 17,
    "start_time": "2025-02-24T17:42:53.550Z"
   },
   {
    "duration": 9,
    "start_time": "2025-02-24T17:42:53.569Z"
   },
   {
    "duration": 11,
    "start_time": "2025-02-24T17:42:53.580Z"
   },
   {
    "duration": 29,
    "start_time": "2025-02-24T17:42:53.593Z"
   },
   {
    "duration": 14,
    "start_time": "2025-02-24T17:42:53.624Z"
   },
   {
    "duration": 115,
    "start_time": "2025-02-24T17:42:53.640Z"
   },
   {
    "duration": 16,
    "start_time": "2025-02-24T17:42:53.757Z"
   },
   {
    "duration": 14,
    "start_time": "2025-02-24T17:42:53.775Z"
   },
   {
    "duration": 18,
    "start_time": "2025-02-24T17:42:53.790Z"
   },
   {
    "duration": 13,
    "start_time": "2025-02-24T17:42:53.810Z"
   },
   {
    "duration": 31,
    "start_time": "2025-02-24T17:42:53.825Z"
   },
   {
    "duration": 14,
    "start_time": "2025-02-24T17:42:53.858Z"
   },
   {
    "duration": 28,
    "start_time": "2025-02-24T17:42:53.873Z"
   },
   {
    "duration": 11,
    "start_time": "2025-02-24T17:42:53.903Z"
   },
   {
    "duration": 44,
    "start_time": "2025-02-24T17:42:53.916Z"
   },
   {
    "duration": 410,
    "start_time": "2025-02-24T17:42:53.963Z"
   },
   {
    "duration": 10,
    "start_time": "2025-02-24T17:42:54.375Z"
   },
   {
    "duration": 27,
    "start_time": "2025-02-24T17:42:54.387Z"
   },
   {
    "duration": 24,
    "start_time": "2025-02-24T17:42:54.416Z"
   },
   {
    "duration": 12,
    "start_time": "2025-02-24T17:42:54.442Z"
   },
   {
    "duration": 5,
    "start_time": "2025-02-24T17:42:54.456Z"
   },
   {
    "duration": 5,
    "start_time": "2025-02-24T17:42:54.465Z"
   },
   {
    "duration": 10,
    "start_time": "2025-02-24T17:42:54.471Z"
   },
   {
    "duration": 5,
    "start_time": "2025-02-24T17:42:54.482Z"
   },
   {
    "duration": 12,
    "start_time": "2025-02-24T17:42:54.488Z"
   },
   {
    "duration": 15,
    "start_time": "2025-02-24T17:42:54.501Z"
   },
   {
    "duration": 52,
    "start_time": "2025-02-24T17:42:54.518Z"
   },
   {
    "duration": 22,
    "start_time": "2025-02-24T17:42:54.572Z"
   },
   {
    "duration": 22,
    "start_time": "2025-02-24T17:42:54.595Z"
   },
   {
    "duration": 47,
    "start_time": "2025-02-24T17:42:54.619Z"
   },
   {
    "duration": 18,
    "start_time": "2025-02-24T17:42:54.668Z"
   },
   {
    "duration": 98,
    "start_time": "2025-02-24T17:42:54.688Z"
   },
   {
    "duration": 22,
    "start_time": "2025-02-24T17:42:54.788Z"
   },
   {
    "duration": 18,
    "start_time": "2025-02-24T17:42:54.812Z"
   },
   {
    "duration": 38,
    "start_time": "2025-02-24T17:42:54.831Z"
   },
   {
    "duration": 5,
    "start_time": "2025-02-24T17:42:54.872Z"
   },
   {
    "duration": 36,
    "start_time": "2025-02-24T17:42:54.879Z"
   },
   {
    "duration": 46,
    "start_time": "2025-02-24T17:42:54.917Z"
   },
   {
    "duration": 5,
    "start_time": "2025-02-24T17:42:54.964Z"
   },
   {
    "duration": 159,
    "start_time": "2025-02-24T17:42:54.971Z"
   },
   {
    "duration": 36,
    "start_time": "2025-02-24T17:42:55.132Z"
   },
   {
    "duration": 18,
    "start_time": "2025-02-24T17:42:55.170Z"
   },
   {
    "duration": 187,
    "start_time": "2025-02-24T17:42:55.190Z"
   },
   {
    "duration": 18,
    "start_time": "2025-02-24T17:42:55.379Z"
   },
   {
    "duration": 159,
    "start_time": "2025-02-24T17:42:55.398Z"
   },
   {
    "duration": 28,
    "start_time": "2025-02-24T17:42:55.559Z"
   },
   {
    "duration": 22,
    "start_time": "2025-02-24T17:42:55.589Z"
   },
   {
    "duration": 10,
    "start_time": "2025-02-24T17:42:55.613Z"
   },
   {
    "duration": 1535,
    "start_time": "2025-02-24T17:52:08.392Z"
   },
   {
    "duration": 10,
    "start_time": "2025-02-24T17:52:29.055Z"
   },
   {
    "duration": 25,
    "start_time": "2025-02-24T17:52:55.019Z"
   },
   {
    "duration": 24,
    "start_time": "2025-02-24T17:53:26.849Z"
   },
   {
    "duration": 4,
    "start_time": "2025-02-24T19:15:36.583Z"
   },
   {
    "duration": 44,
    "start_time": "2025-02-24T19:15:36.589Z"
   },
   {
    "duration": 32,
    "start_time": "2025-02-24T19:15:36.635Z"
   },
   {
    "duration": 399,
    "start_time": "2025-02-24T19:15:36.669Z"
   },
   {
    "duration": 3,
    "start_time": "2025-02-24T19:15:37.070Z"
   },
   {
    "duration": 414,
    "start_time": "2025-02-24T19:15:37.075Z"
   },
   {
    "duration": 15,
    "start_time": "2025-02-24T19:15:37.491Z"
   },
   {
    "duration": 38,
    "start_time": "2025-02-24T19:15:37.507Z"
   },
   {
    "duration": 27,
    "start_time": "2025-02-24T19:15:37.547Z"
   },
   {
    "duration": 15,
    "start_time": "2025-02-24T19:15:37.576Z"
   },
   {
    "duration": 9,
    "start_time": "2025-02-24T19:15:37.594Z"
   },
   {
    "duration": 33,
    "start_time": "2025-02-24T19:15:37.604Z"
   },
   {
    "duration": 12,
    "start_time": "2025-02-24T19:15:37.638Z"
   },
   {
    "duration": 13,
    "start_time": "2025-02-24T19:15:37.651Z"
   },
   {
    "duration": 10,
    "start_time": "2025-02-24T19:15:37.665Z"
   },
   {
    "duration": 29,
    "start_time": "2025-02-24T19:15:37.676Z"
   },
   {
    "duration": 35,
    "start_time": "2025-02-24T19:15:37.706Z"
   },
   {
    "duration": 9,
    "start_time": "2025-02-24T19:15:37.742Z"
   },
   {
    "duration": 33,
    "start_time": "2025-02-24T19:15:37.752Z"
   },
   {
    "duration": 25,
    "start_time": "2025-02-24T19:15:37.786Z"
   },
   {
    "duration": 19,
    "start_time": "2025-02-24T19:15:37.812Z"
   },
   {
    "duration": 15,
    "start_time": "2025-02-24T19:15:37.832Z"
   },
   {
    "duration": 20,
    "start_time": "2025-02-24T19:15:37.848Z"
   },
   {
    "duration": 23,
    "start_time": "2025-02-24T19:15:37.869Z"
   },
   {
    "duration": 19,
    "start_time": "2025-02-24T19:15:37.894Z"
   },
   {
    "duration": 43,
    "start_time": "2025-02-24T19:15:37.914Z"
   },
   {
    "duration": 17,
    "start_time": "2025-02-24T19:15:37.958Z"
   },
   {
    "duration": 39,
    "start_time": "2025-02-24T19:15:37.977Z"
   },
   {
    "duration": 8,
    "start_time": "2025-02-24T19:15:38.019Z"
   },
   {
    "duration": 22,
    "start_time": "2025-02-24T19:15:38.029Z"
   },
   {
    "duration": 431,
    "start_time": "2025-02-24T19:15:38.052Z"
   },
   {
    "duration": 10,
    "start_time": "2025-02-24T19:15:38.485Z"
   },
   {
    "duration": 9,
    "start_time": "2025-02-24T19:15:38.496Z"
   },
   {
    "duration": 20,
    "start_time": "2025-02-24T19:15:38.507Z"
   },
   {
    "duration": 18,
    "start_time": "2025-02-24T19:15:38.528Z"
   },
   {
    "duration": 5,
    "start_time": "2025-02-24T19:15:38.547Z"
   },
   {
    "duration": 24,
    "start_time": "2025-02-24T19:15:38.554Z"
   },
   {
    "duration": 14,
    "start_time": "2025-02-24T19:15:38.580Z"
   },
   {
    "duration": 12,
    "start_time": "2025-02-24T19:15:38.595Z"
   },
   {
    "duration": 7,
    "start_time": "2025-02-24T19:15:38.608Z"
   },
   {
    "duration": 22,
    "start_time": "2025-02-24T19:15:38.616Z"
   },
   {
    "duration": 17,
    "start_time": "2025-02-24T19:15:38.639Z"
   },
   {
    "duration": 28,
    "start_time": "2025-02-24T19:15:38.657Z"
   },
   {
    "duration": 24,
    "start_time": "2025-02-24T19:15:38.687Z"
   },
   {
    "duration": 21,
    "start_time": "2025-02-24T19:15:38.713Z"
   },
   {
    "duration": 13,
    "start_time": "2025-02-24T19:15:38.735Z"
   },
   {
    "duration": 55,
    "start_time": "2025-02-24T19:15:38.770Z"
   },
   {
    "duration": 20,
    "start_time": "2025-02-24T19:15:38.826Z"
   },
   {
    "duration": 28,
    "start_time": "2025-02-24T19:15:38.847Z"
   },
   {
    "duration": 15,
    "start_time": "2025-02-24T19:15:38.876Z"
   },
   {
    "duration": 23,
    "start_time": "2025-02-24T19:15:38.893Z"
   },
   {
    "duration": 16,
    "start_time": "2025-02-24T19:15:38.918Z"
   },
   {
    "duration": 3,
    "start_time": "2025-02-24T19:15:38.935Z"
   },
   {
    "duration": 164,
    "start_time": "2025-02-24T19:15:38.940Z"
   },
   {
    "duration": 19,
    "start_time": "2025-02-24T19:15:39.105Z"
   },
   {
    "duration": 3,
    "start_time": "2025-02-24T19:15:39.126Z"
   },
   {
    "duration": 157,
    "start_time": "2025-02-24T19:15:39.131Z"
   },
   {
    "duration": 14,
    "start_time": "2025-02-24T19:15:39.289Z"
   },
   {
    "duration": 54,
    "start_time": "2025-02-24T19:15:39.305Z"
   },
   {
    "duration": 40,
    "start_time": "2025-02-24T19:15:39.360Z"
   },
   {
    "duration": 15,
    "start_time": "2025-02-24T19:15:39.401Z"
   },
   {
    "duration": 24,
    "start_time": "2025-02-24T19:15:39.418Z"
   },
   {
    "duration": 14,
    "start_time": "2025-02-24T19:15:44.382Z"
   },
   {
    "duration": 3,
    "start_time": "2025-02-24T19:21:57.636Z"
   },
   {
    "duration": 16,
    "start_time": "2025-02-24T19:21:57.641Z"
   },
   {
    "duration": 16,
    "start_time": "2025-02-24T19:21:57.659Z"
   },
   {
    "duration": 382,
    "start_time": "2025-02-24T19:21:57.676Z"
   },
   {
    "duration": 3,
    "start_time": "2025-02-24T19:21:58.059Z"
   },
   {
    "duration": 130,
    "start_time": "2025-02-24T19:21:58.069Z"
   },
   {
    "duration": 14,
    "start_time": "2025-02-24T19:21:58.201Z"
   },
   {
    "duration": 21,
    "start_time": "2025-02-24T19:21:58.217Z"
   },
   {
    "duration": 11,
    "start_time": "2025-02-24T19:21:58.241Z"
   },
   {
    "duration": 4,
    "start_time": "2025-02-24T19:21:58.269Z"
   },
   {
    "duration": 4,
    "start_time": "2025-02-24T19:21:58.275Z"
   },
   {
    "duration": 20,
    "start_time": "2025-02-24T19:21:58.281Z"
   },
   {
    "duration": 4,
    "start_time": "2025-02-24T19:21:58.303Z"
   },
   {
    "duration": 6,
    "start_time": "2025-02-24T19:21:58.308Z"
   },
   {
    "duration": 5,
    "start_time": "2025-02-24T19:21:58.315Z"
   },
   {
    "duration": 11,
    "start_time": "2025-02-24T19:21:58.321Z"
   },
   {
    "duration": 39,
    "start_time": "2025-02-24T19:21:58.333Z"
   },
   {
    "duration": 7,
    "start_time": "2025-02-24T19:21:58.374Z"
   },
   {
    "duration": 10,
    "start_time": "2025-02-24T19:21:58.383Z"
   },
   {
    "duration": 21,
    "start_time": "2025-02-24T19:21:58.395Z"
   },
   {
    "duration": 7,
    "start_time": "2025-02-24T19:21:58.418Z"
   },
   {
    "duration": 11,
    "start_time": "2025-02-24T19:21:58.426Z"
   },
   {
    "duration": 14,
    "start_time": "2025-02-24T19:21:58.439Z"
   },
   {
    "duration": 25,
    "start_time": "2025-02-24T19:21:58.456Z"
   },
   {
    "duration": 11,
    "start_time": "2025-02-24T19:21:58.482Z"
   },
   {
    "duration": 17,
    "start_time": "2025-02-24T19:21:58.494Z"
   },
   {
    "duration": 11,
    "start_time": "2025-02-24T19:21:58.513Z"
   },
   {
    "duration": 23,
    "start_time": "2025-02-24T19:21:58.525Z"
   },
   {
    "duration": 23,
    "start_time": "2025-02-24T19:21:58.550Z"
   },
   {
    "duration": 9,
    "start_time": "2025-02-24T19:21:58.575Z"
   },
   {
    "duration": 298,
    "start_time": "2025-02-24T19:21:58.586Z"
   },
   {
    "duration": 8,
    "start_time": "2025-02-24T19:21:58.886Z"
   },
   {
    "duration": 8,
    "start_time": "2025-02-24T19:21:58.896Z"
   },
   {
    "duration": 5,
    "start_time": "2025-02-24T19:21:58.905Z"
   },
   {
    "duration": 10,
    "start_time": "2025-02-24T19:21:58.911Z"
   },
   {
    "duration": 16,
    "start_time": "2025-02-24T19:21:58.923Z"
   },
   {
    "duration": 41,
    "start_time": "2025-02-24T19:21:58.940Z"
   },
   {
    "duration": 26,
    "start_time": "2025-02-24T19:21:58.982Z"
   },
   {
    "duration": 22,
    "start_time": "2025-02-24T19:21:59.009Z"
   },
   {
    "duration": 36,
    "start_time": "2025-02-24T19:21:59.032Z"
   },
   {
    "duration": 19,
    "start_time": "2025-02-24T19:21:59.070Z"
   },
   {
    "duration": 22,
    "start_time": "2025-02-24T19:21:59.091Z"
   },
   {
    "duration": 20,
    "start_time": "2025-02-24T19:21:59.114Z"
   },
   {
    "duration": 36,
    "start_time": "2025-02-24T19:21:59.136Z"
   },
   {
    "duration": 18,
    "start_time": "2025-02-24T19:21:59.173Z"
   },
   {
    "duration": 14,
    "start_time": "2025-02-24T19:21:59.192Z"
   },
   {
    "duration": 75,
    "start_time": "2025-02-24T19:21:59.207Z"
   },
   {
    "duration": 20,
    "start_time": "2025-02-24T19:21:59.284Z"
   },
   {
    "duration": 19,
    "start_time": "2025-02-24T19:21:59.305Z"
   },
   {
    "duration": 15,
    "start_time": "2025-02-24T19:21:59.325Z"
   },
   {
    "duration": 45,
    "start_time": "2025-02-24T19:21:59.342Z"
   },
   {
    "duration": 17,
    "start_time": "2025-02-24T19:21:59.389Z"
   },
   {
    "duration": 3,
    "start_time": "2025-02-24T19:21:59.407Z"
   },
   {
    "duration": 153,
    "start_time": "2025-02-24T19:21:59.411Z"
   },
   {
    "duration": 19,
    "start_time": "2025-02-24T19:21:59.569Z"
   },
   {
    "duration": 12,
    "start_time": "2025-02-24T19:21:59.589Z"
   },
   {
    "duration": 143,
    "start_time": "2025-02-24T19:21:59.603Z"
   },
   {
    "duration": 25,
    "start_time": "2025-02-24T19:21:59.748Z"
   },
   {
    "duration": 18,
    "start_time": "2025-02-24T19:21:59.774Z"
   },
   {
    "duration": 19,
    "start_time": "2025-02-24T19:21:59.793Z"
   },
   {
    "duration": 11,
    "start_time": "2025-02-24T19:21:59.813Z"
   },
   {
    "duration": 6,
    "start_time": "2025-02-24T19:21:59.826Z"
   },
   {
    "duration": 4,
    "start_time": "2025-02-24T19:22:55.934Z"
   },
   {
    "duration": 5,
    "start_time": "2025-02-24T19:25:09.288Z"
   },
   {
    "duration": 3,
    "start_time": "2025-02-24T19:25:14.234Z"
   },
   {
    "duration": 7,
    "start_time": "2025-02-24T19:25:14.239Z"
   },
   {
    "duration": 25,
    "start_time": "2025-02-24T19:25:14.247Z"
   },
   {
    "duration": 410,
    "start_time": "2025-02-24T19:25:14.274Z"
   },
   {
    "duration": 2,
    "start_time": "2025-02-24T19:25:14.686Z"
   },
   {
    "duration": 125,
    "start_time": "2025-02-24T19:25:14.690Z"
   },
   {
    "duration": 15,
    "start_time": "2025-02-24T19:25:14.817Z"
   },
   {
    "duration": 29,
    "start_time": "2025-02-24T19:25:14.834Z"
   },
   {
    "duration": 18,
    "start_time": "2025-02-24T19:25:14.864Z"
   },
   {
    "duration": 6,
    "start_time": "2025-02-24T19:25:14.884Z"
   },
   {
    "duration": 6,
    "start_time": "2025-02-24T19:25:14.892Z"
   },
   {
    "duration": 22,
    "start_time": "2025-02-24T19:25:14.899Z"
   },
   {
    "duration": 24,
    "start_time": "2025-02-24T19:25:14.923Z"
   },
   {
    "duration": 6,
    "start_time": "2025-02-24T19:25:14.948Z"
   },
   {
    "duration": 16,
    "start_time": "2025-02-24T19:25:14.955Z"
   },
   {
    "duration": 9,
    "start_time": "2025-02-24T19:25:14.972Z"
   },
   {
    "duration": 5,
    "start_time": "2025-02-24T19:25:14.983Z"
   },
   {
    "duration": 11,
    "start_time": "2025-02-24T19:25:14.990Z"
   },
   {
    "duration": 5,
    "start_time": "2025-02-24T19:25:15.003Z"
   },
   {
    "duration": 42,
    "start_time": "2025-02-24T19:25:15.009Z"
   },
   {
    "duration": 52,
    "start_time": "2025-02-24T19:25:15.053Z"
   },
   {
    "duration": 40,
    "start_time": "2025-02-24T19:25:15.107Z"
   },
   {
    "duration": 48,
    "start_time": "2025-02-24T19:25:15.149Z"
   },
   {
    "duration": 53,
    "start_time": "2025-02-24T19:25:15.199Z"
   },
   {
    "duration": 38,
    "start_time": "2025-02-24T19:25:15.254Z"
   },
   {
    "duration": 25,
    "start_time": "2025-02-24T19:25:15.293Z"
   },
   {
    "duration": 22,
    "start_time": "2025-02-24T19:25:15.320Z"
   },
   {
    "duration": 37,
    "start_time": "2025-02-24T19:25:15.343Z"
   },
   {
    "duration": 9,
    "start_time": "2025-02-24T19:25:15.384Z"
   },
   {
    "duration": 23,
    "start_time": "2025-02-24T19:25:15.394Z"
   },
   {
    "duration": 317,
    "start_time": "2025-02-24T19:25:15.418Z"
   },
   {
    "duration": 5,
    "start_time": "2025-02-24T19:25:15.737Z"
   },
   {
    "duration": 11,
    "start_time": "2025-02-24T19:25:15.743Z"
   },
   {
    "duration": 20,
    "start_time": "2025-02-24T19:25:15.756Z"
   },
   {
    "duration": 79,
    "start_time": "2025-02-24T19:25:15.777Z"
   },
   {
    "duration": 10,
    "start_time": "2025-02-24T19:25:15.858Z"
   },
   {
    "duration": 11,
    "start_time": "2025-02-24T19:25:15.870Z"
   },
   {
    "duration": 14,
    "start_time": "2025-02-24T19:25:15.883Z"
   },
   {
    "duration": 10,
    "start_time": "2025-02-24T19:25:15.898Z"
   },
   {
    "duration": 6,
    "start_time": "2025-02-24T19:25:15.910Z"
   },
   {
    "duration": 25,
    "start_time": "2025-02-24T19:25:15.918Z"
   },
   {
    "duration": 32,
    "start_time": "2025-02-24T19:25:15.944Z"
   },
   {
    "duration": 21,
    "start_time": "2025-02-24T19:25:15.977Z"
   },
   {
    "duration": 19,
    "start_time": "2025-02-24T19:25:16.000Z"
   },
   {
    "duration": 19,
    "start_time": "2025-02-24T19:25:16.020Z"
   },
   {
    "duration": 44,
    "start_time": "2025-02-24T19:25:16.040Z"
   },
   {
    "duration": 14,
    "start_time": "2025-02-24T19:25:16.086Z"
   },
   {
    "duration": 74,
    "start_time": "2025-02-24T19:25:16.101Z"
   },
   {
    "duration": 23,
    "start_time": "2025-02-24T19:25:16.176Z"
   },
   {
    "duration": 20,
    "start_time": "2025-02-24T19:25:16.201Z"
   },
   {
    "duration": 22,
    "start_time": "2025-02-24T19:25:16.223Z"
   },
   {
    "duration": 44,
    "start_time": "2025-02-24T19:25:16.247Z"
   },
   {
    "duration": 18,
    "start_time": "2025-02-24T19:25:16.293Z"
   },
   {
    "duration": 4,
    "start_time": "2025-02-24T19:25:16.313Z"
   },
   {
    "duration": 157,
    "start_time": "2025-02-24T19:25:16.319Z"
   },
   {
    "duration": 19,
    "start_time": "2025-02-24T19:25:16.478Z"
   },
   {
    "duration": 3,
    "start_time": "2025-02-24T19:25:16.499Z"
   },
   {
    "duration": 159,
    "start_time": "2025-02-24T19:25:16.503Z"
   },
   {
    "duration": 20,
    "start_time": "2025-02-24T19:25:16.663Z"
   },
   {
    "duration": 46,
    "start_time": "2025-02-24T19:25:16.684Z"
   },
   {
    "duration": 19,
    "start_time": "2025-02-24T19:25:16.732Z"
   },
   {
    "duration": 14,
    "start_time": "2025-02-24T19:25:16.752Z"
   },
   {
    "duration": 11,
    "start_time": "2025-02-24T19:25:16.767Z"
   },
   {
    "duration": 14,
    "start_time": "2025-02-24T19:26:34.873Z"
   },
   {
    "duration": 3,
    "start_time": "2025-02-24T19:27:18.416Z"
   },
   {
    "duration": 5,
    "start_time": "2025-02-24T19:27:18.421Z"
   },
   {
    "duration": 4,
    "start_time": "2025-02-24T19:27:18.427Z"
   },
   {
    "duration": 404,
    "start_time": "2025-02-24T19:27:18.433Z"
   },
   {
    "duration": 2,
    "start_time": "2025-02-24T19:27:18.839Z"
   },
   {
    "duration": 126,
    "start_time": "2025-02-24T19:27:18.843Z"
   },
   {
    "duration": 15,
    "start_time": "2025-02-24T19:27:18.971Z"
   },
   {
    "duration": 20,
    "start_time": "2025-02-24T19:27:18.988Z"
   },
   {
    "duration": 12,
    "start_time": "2025-02-24T19:27:19.011Z"
   },
   {
    "duration": 7,
    "start_time": "2025-02-24T19:27:19.024Z"
   },
   {
    "duration": 4,
    "start_time": "2025-02-24T19:27:19.032Z"
   },
   {
    "duration": 45,
    "start_time": "2025-02-24T19:27:19.038Z"
   },
   {
    "duration": 23,
    "start_time": "2025-02-24T19:27:19.085Z"
   },
   {
    "duration": 17,
    "start_time": "2025-02-24T19:27:19.110Z"
   },
   {
    "duration": 5,
    "start_time": "2025-02-24T19:27:19.128Z"
   },
   {
    "duration": 25,
    "start_time": "2025-02-24T19:27:19.134Z"
   },
   {
    "duration": 7,
    "start_time": "2025-02-24T19:27:19.160Z"
   },
   {
    "duration": 8,
    "start_time": "2025-02-24T19:27:19.168Z"
   },
   {
    "duration": 5,
    "start_time": "2025-02-24T19:27:19.178Z"
   },
   {
    "duration": 12,
    "start_time": "2025-02-24T19:27:19.185Z"
   },
   {
    "duration": 5,
    "start_time": "2025-02-24T19:27:19.198Z"
   },
   {
    "duration": 8,
    "start_time": "2025-02-24T19:27:19.205Z"
   },
   {
    "duration": 11,
    "start_time": "2025-02-24T19:27:19.216Z"
   },
   {
    "duration": 42,
    "start_time": "2025-02-24T19:27:19.228Z"
   },
   {
    "duration": 12,
    "start_time": "2025-02-24T19:27:19.272Z"
   },
   {
    "duration": 11,
    "start_time": "2025-02-24T19:27:19.286Z"
   },
   {
    "duration": 23,
    "start_time": "2025-02-24T19:27:19.298Z"
   },
   {
    "duration": 29,
    "start_time": "2025-02-24T19:27:19.323Z"
   },
   {
    "duration": 8,
    "start_time": "2025-02-24T19:27:19.354Z"
   },
   {
    "duration": 14,
    "start_time": "2025-02-24T19:27:19.363Z"
   },
   {
    "duration": 288,
    "start_time": "2025-02-24T19:27:19.379Z"
   },
   {
    "duration": 5,
    "start_time": "2025-02-24T19:27:19.668Z"
   },
   {
    "duration": 22,
    "start_time": "2025-02-24T19:27:19.674Z"
   },
   {
    "duration": 16,
    "start_time": "2025-02-24T19:27:19.697Z"
   },
   {
    "duration": 37,
    "start_time": "2025-02-24T19:27:19.715Z"
   },
   {
    "duration": 28,
    "start_time": "2025-02-24T19:27:19.753Z"
   },
   {
    "duration": 28,
    "start_time": "2025-02-24T19:27:19.782Z"
   },
   {
    "duration": 4,
    "start_time": "2025-02-24T19:27:19.812Z"
   },
   {
    "duration": 8,
    "start_time": "2025-02-24T19:27:19.818Z"
   },
   {
    "duration": 5,
    "start_time": "2025-02-24T19:27:19.828Z"
   },
   {
    "duration": 5,
    "start_time": "2025-02-24T19:27:19.834Z"
   },
   {
    "duration": 31,
    "start_time": "2025-02-24T19:27:19.840Z"
   },
   {
    "duration": 17,
    "start_time": "2025-02-24T19:27:19.872Z"
   },
   {
    "duration": 19,
    "start_time": "2025-02-24T19:27:19.890Z"
   },
   {
    "duration": 21,
    "start_time": "2025-02-24T19:27:19.911Z"
   },
   {
    "duration": 40,
    "start_time": "2025-02-24T19:27:19.933Z"
   },
   {
    "duration": 13,
    "start_time": "2025-02-24T19:27:19.975Z"
   },
   {
    "duration": 57,
    "start_time": "2025-02-24T19:27:19.990Z"
   },
   {
    "duration": 37,
    "start_time": "2025-02-24T19:27:20.048Z"
   },
   {
    "duration": 21,
    "start_time": "2025-02-24T19:27:20.086Z"
   },
   {
    "duration": 22,
    "start_time": "2025-02-24T19:27:20.109Z"
   },
   {
    "duration": 50,
    "start_time": "2025-02-24T19:27:20.133Z"
   },
   {
    "duration": 19,
    "start_time": "2025-02-24T19:27:20.184Z"
   },
   {
    "duration": 3,
    "start_time": "2025-02-24T19:27:20.205Z"
   },
   {
    "duration": 151,
    "start_time": "2025-02-24T19:27:20.210Z"
   },
   {
    "duration": 24,
    "start_time": "2025-02-24T19:27:20.363Z"
   },
   {
    "duration": 9,
    "start_time": "2025-02-24T19:27:20.388Z"
   },
   {
    "duration": 143,
    "start_time": "2025-02-24T19:27:20.399Z"
   },
   {
    "duration": 28,
    "start_time": "2025-02-24T19:27:20.544Z"
   },
   {
    "duration": 19,
    "start_time": "2025-02-24T19:27:20.574Z"
   },
   {
    "duration": 20,
    "start_time": "2025-02-24T19:27:20.594Z"
   },
   {
    "duration": 15,
    "start_time": "2025-02-24T19:27:20.616Z"
   },
   {
    "duration": 16,
    "start_time": "2025-02-24T19:27:20.633Z"
   },
   {
    "duration": 4,
    "start_time": "2025-02-24T19:30:59.523Z"
   },
   {
    "duration": 4,
    "start_time": "2025-02-24T19:31:43.377Z"
   },
   {
    "duration": 81,
    "start_time": "2025-02-24T19:33:30.924Z"
   },
   {
    "duration": 96,
    "start_time": "2025-02-24T19:33:38.686Z"
   },
   {
    "duration": 107,
    "start_time": "2025-02-24T19:33:56.155Z"
   },
   {
    "duration": 6,
    "start_time": "2025-02-24T19:42:32.243Z"
   },
   {
    "duration": 5,
    "start_time": "2025-02-24T19:42:32.910Z"
   },
   {
    "duration": 4,
    "start_time": "2025-02-24T19:42:42.005Z"
   },
   {
    "duration": 5,
    "start_time": "2025-02-24T19:42:42.531Z"
   },
   {
    "duration": 3,
    "start_time": "2025-02-24T19:42:47.144Z"
   },
   {
    "duration": 22,
    "start_time": "2025-02-24T19:42:47.149Z"
   },
   {
    "duration": 9,
    "start_time": "2025-02-24T19:42:47.173Z"
   },
   {
    "duration": 418,
    "start_time": "2025-02-24T19:42:47.183Z"
   },
   {
    "duration": 2,
    "start_time": "2025-02-24T19:42:47.603Z"
   },
   {
    "duration": 137,
    "start_time": "2025-02-24T19:42:47.606Z"
   },
   {
    "duration": 16,
    "start_time": "2025-02-24T19:42:47.744Z"
   },
   {
    "duration": 21,
    "start_time": "2025-02-24T19:42:47.761Z"
   },
   {
    "duration": 22,
    "start_time": "2025-02-24T19:42:47.785Z"
   },
   {
    "duration": 48,
    "start_time": "2025-02-24T19:42:47.809Z"
   },
   {
    "duration": 49,
    "start_time": "2025-02-24T19:42:47.859Z"
   },
   {
    "duration": 29,
    "start_time": "2025-02-24T19:42:47.910Z"
   },
   {
    "duration": 23,
    "start_time": "2025-02-24T19:42:47.941Z"
   },
   {
    "duration": 14,
    "start_time": "2025-02-24T19:42:47.966Z"
   },
   {
    "duration": 7,
    "start_time": "2025-02-24T19:42:47.982Z"
   },
   {
    "duration": 13,
    "start_time": "2025-02-24T19:42:47.990Z"
   },
   {
    "duration": 6,
    "start_time": "2025-02-24T19:42:48.005Z"
   },
   {
    "duration": 9,
    "start_time": "2025-02-24T19:42:48.012Z"
   },
   {
    "duration": 6,
    "start_time": "2025-02-24T19:42:48.022Z"
   },
   {
    "duration": 8,
    "start_time": "2025-02-24T19:42:48.030Z"
   },
   {
    "duration": 41,
    "start_time": "2025-02-24T19:42:48.040Z"
   },
   {
    "duration": 15,
    "start_time": "2025-02-24T19:42:48.082Z"
   },
   {
    "duration": 11,
    "start_time": "2025-02-24T19:42:48.099Z"
   },
   {
    "duration": 21,
    "start_time": "2025-02-24T19:42:48.114Z"
   },
   {
    "duration": 10,
    "start_time": "2025-02-24T19:42:48.136Z"
   },
   {
    "duration": 23,
    "start_time": "2025-02-24T19:42:48.148Z"
   },
   {
    "duration": 11,
    "start_time": "2025-02-24T19:42:48.172Z"
   },
   {
    "duration": 21,
    "start_time": "2025-02-24T19:42:48.184Z"
   },
   {
    "duration": 8,
    "start_time": "2025-02-24T19:42:48.206Z"
   },
   {
    "duration": 10,
    "start_time": "2025-02-24T19:42:48.216Z"
   },
   {
    "duration": 306,
    "start_time": "2025-02-24T19:42:48.227Z"
   },
   {
    "duration": 4,
    "start_time": "2025-02-24T19:42:48.535Z"
   },
   {
    "duration": 10,
    "start_time": "2025-02-24T19:42:48.540Z"
   },
   {
    "duration": 22,
    "start_time": "2025-02-24T19:42:48.552Z"
   },
   {
    "duration": 6,
    "start_time": "2025-02-24T19:42:48.575Z"
   },
   {
    "duration": 10,
    "start_time": "2025-02-24T19:42:48.582Z"
   },
   {
    "duration": 5,
    "start_time": "2025-02-24T19:42:48.594Z"
   },
   {
    "duration": 7,
    "start_time": "2025-02-24T19:42:48.601Z"
   },
   {
    "duration": 10,
    "start_time": "2025-02-24T19:42:48.609Z"
   },
   {
    "duration": 15,
    "start_time": "2025-02-24T19:42:48.620Z"
   },
   {
    "duration": 5,
    "start_time": "2025-02-24T19:42:48.637Z"
   },
   {
    "duration": 32,
    "start_time": "2025-02-24T19:42:48.643Z"
   },
   {
    "duration": 19,
    "start_time": "2025-02-24T19:42:48.676Z"
   },
   {
    "duration": 21,
    "start_time": "2025-02-24T19:42:48.697Z"
   },
   {
    "duration": 20,
    "start_time": "2025-02-24T19:42:48.721Z"
   },
   {
    "duration": 35,
    "start_time": "2025-02-24T19:42:48.742Z"
   },
   {
    "duration": 20,
    "start_time": "2025-02-24T19:42:48.779Z"
   },
   {
    "duration": 18,
    "start_time": "2025-02-24T19:42:48.800Z"
   },
   {
    "duration": 13,
    "start_time": "2025-02-24T19:42:48.820Z"
   },
   {
    "duration": 82,
    "start_time": "2025-02-24T19:42:48.834Z"
   },
   {
    "duration": 18,
    "start_time": "2025-02-24T19:42:48.917Z"
   },
   {
    "duration": 13,
    "start_time": "2025-02-24T19:42:48.937Z"
   },
   {
    "duration": 4,
    "start_time": "2025-02-24T19:42:48.969Z"
   },
   {
    "duration": 33,
    "start_time": "2025-02-24T19:42:48.975Z"
   },
   {
    "duration": 16,
    "start_time": "2025-02-24T19:42:49.009Z"
   },
   {
    "duration": 3,
    "start_time": "2025-02-24T19:42:49.027Z"
   },
   {
    "duration": 154,
    "start_time": "2025-02-24T19:42:49.031Z"
   },
   {
    "duration": 18,
    "start_time": "2025-02-24T19:42:49.187Z"
   },
   {
    "duration": 3,
    "start_time": "2025-02-24T19:42:49.207Z"
   },
   {
    "duration": 174,
    "start_time": "2025-02-24T19:42:49.212Z"
   },
   {
    "duration": 16,
    "start_time": "2025-02-24T19:42:49.387Z"
   },
   {
    "duration": 37,
    "start_time": "2025-02-24T19:42:49.404Z"
   },
   {
    "duration": 31,
    "start_time": "2025-02-24T19:42:49.443Z"
   },
   {
    "duration": 13,
    "start_time": "2025-02-24T19:42:49.476Z"
   },
   {
    "duration": 7,
    "start_time": "2025-02-24T19:42:49.491Z"
   },
   {
    "duration": 3,
    "start_time": "2025-02-24T19:45:18.992Z"
   },
   {
    "duration": 5,
    "start_time": "2025-02-24T19:45:19.516Z"
   },
   {
    "duration": 3,
    "start_time": "2025-02-24T19:45:21.089Z"
   },
   {
    "duration": 3,
    "start_time": "2025-02-24T19:45:25.284Z"
   },
   {
    "duration": 16,
    "start_time": "2025-02-24T19:45:26.837Z"
   },
   {
    "duration": 3,
    "start_time": "2025-02-24T19:45:38.811Z"
   },
   {
    "duration": 6,
    "start_time": "2025-02-24T19:45:38.815Z"
   },
   {
    "duration": 7,
    "start_time": "2025-02-24T19:45:38.822Z"
   },
   {
    "duration": 401,
    "start_time": "2025-02-24T19:45:38.830Z"
   },
   {
    "duration": 2,
    "start_time": "2025-02-24T19:45:39.233Z"
   },
   {
    "duration": 92,
    "start_time": "2025-02-24T19:45:39.237Z"
   },
   {
    "duration": 17,
    "start_time": "2025-02-24T19:45:39.330Z"
   },
   {
    "duration": 37,
    "start_time": "2025-02-24T19:45:39.348Z"
   },
   {
    "duration": 13,
    "start_time": "2025-02-24T19:45:39.386Z"
   },
   {
    "duration": 22,
    "start_time": "2025-02-24T19:45:39.401Z"
   },
   {
    "duration": 6,
    "start_time": "2025-02-24T19:45:39.425Z"
   },
   {
    "duration": 35,
    "start_time": "2025-02-24T19:45:39.432Z"
   },
   {
    "duration": 12,
    "start_time": "2025-02-24T19:45:39.468Z"
   },
   {
    "duration": 8,
    "start_time": "2025-02-24T19:45:39.482Z"
   },
   {
    "duration": 8,
    "start_time": "2025-02-24T19:45:39.491Z"
   },
   {
    "duration": 13,
    "start_time": "2025-02-24T19:45:39.500Z"
   },
   {
    "duration": 6,
    "start_time": "2025-02-24T19:45:39.514Z"
   },
   {
    "duration": 13,
    "start_time": "2025-02-24T19:45:39.522Z"
   },
   {
    "duration": 5,
    "start_time": "2025-02-24T19:45:39.536Z"
   },
   {
    "duration": 28,
    "start_time": "2025-02-24T19:45:39.542Z"
   },
   {
    "duration": 5,
    "start_time": "2025-02-24T19:45:39.572Z"
   },
   {
    "duration": 16,
    "start_time": "2025-02-24T19:45:39.579Z"
   },
   {
    "duration": 13,
    "start_time": "2025-02-24T19:45:39.596Z"
   },
   {
    "duration": 20,
    "start_time": "2025-02-24T19:45:39.610Z"
   },
   {
    "duration": 21,
    "start_time": "2025-02-24T19:45:39.631Z"
   },
   {
    "duration": 26,
    "start_time": "2025-02-24T19:45:39.654Z"
   },
   {
    "duration": 23,
    "start_time": "2025-02-24T19:45:39.681Z"
   },
   {
    "duration": 40,
    "start_time": "2025-02-24T19:45:39.705Z"
   },
   {
    "duration": 8,
    "start_time": "2025-02-24T19:45:39.749Z"
   },
   {
    "duration": 12,
    "start_time": "2025-02-24T19:45:39.758Z"
   },
   {
    "duration": 277,
    "start_time": "2025-02-24T19:45:39.772Z"
   },
   {
    "duration": 5,
    "start_time": "2025-02-24T19:45:40.050Z"
   },
   {
    "duration": 23,
    "start_time": "2025-02-24T19:45:40.056Z"
   },
   {
    "duration": 8,
    "start_time": "2025-02-24T19:45:40.081Z"
   },
   {
    "duration": 8,
    "start_time": "2025-02-24T19:45:40.090Z"
   },
   {
    "duration": 26,
    "start_time": "2025-02-24T19:45:40.099Z"
   },
   {
    "duration": 4,
    "start_time": "2025-02-24T19:45:40.127Z"
   },
   {
    "duration": 6,
    "start_time": "2025-02-24T19:45:40.132Z"
   },
   {
    "duration": 9,
    "start_time": "2025-02-24T19:45:40.139Z"
   },
   {
    "duration": 8,
    "start_time": "2025-02-24T19:45:40.149Z"
   },
   {
    "duration": 13,
    "start_time": "2025-02-24T19:45:40.158Z"
   },
   {
    "duration": 4,
    "start_time": "2025-02-24T19:45:40.172Z"
   },
   {
    "duration": 4,
    "start_time": "2025-02-24T19:45:40.178Z"
   },
   {
    "duration": 4,
    "start_time": "2025-02-24T19:45:40.183Z"
   },
   {
    "duration": 15,
    "start_time": "2025-02-24T19:45:40.188Z"
   },
   {
    "duration": 17,
    "start_time": "2025-02-24T19:45:40.205Z"
   },
   {
    "duration": 52,
    "start_time": "2025-02-24T19:45:40.224Z"
   },
   {
    "duration": 21,
    "start_time": "2025-02-24T19:45:40.278Z"
   },
   {
    "duration": 21,
    "start_time": "2025-02-24T19:45:40.300Z"
   },
   {
    "duration": 15,
    "start_time": "2025-02-24T19:45:40.322Z"
   },
   {
    "duration": 82,
    "start_time": "2025-02-24T19:45:40.339Z"
   },
   {
    "duration": 16,
    "start_time": "2025-02-24T19:45:40.423Z"
   },
   {
    "duration": 34,
    "start_time": "2025-02-24T19:45:40.441Z"
   },
   {
    "duration": 4,
    "start_time": "2025-02-24T19:45:40.477Z"
   },
   {
    "duration": 27,
    "start_time": "2025-02-24T19:45:40.482Z"
   },
   {
    "duration": 18,
    "start_time": "2025-02-24T19:45:40.510Z"
   },
   {
    "duration": 7,
    "start_time": "2025-02-24T19:45:40.529Z"
   },
   {
    "duration": 156,
    "start_time": "2025-02-24T19:45:40.537Z"
   },
   {
    "duration": 21,
    "start_time": "2025-02-24T19:45:40.694Z"
   },
   {
    "duration": 5,
    "start_time": "2025-02-24T19:45:40.716Z"
   },
   {
    "duration": 167,
    "start_time": "2025-02-24T19:45:40.723Z"
   },
   {
    "duration": 14,
    "start_time": "2025-02-24T19:45:40.892Z"
   },
   {
    "duration": 32,
    "start_time": "2025-02-24T19:45:40.907Z"
   },
   {
    "duration": 20,
    "start_time": "2025-02-24T19:45:40.940Z"
   },
   {
    "duration": 24,
    "start_time": "2025-02-24T19:45:40.961Z"
   },
   {
    "duration": 9,
    "start_time": "2025-02-24T19:45:40.987Z"
   },
   {
    "duration": 128,
    "start_time": "2025-02-24T19:50:20.507Z"
   },
   {
    "duration": 129,
    "start_time": "2025-02-24T19:50:23.075Z"
   },
   {
    "duration": 22,
    "start_time": "2025-02-24T19:51:11.912Z"
   },
   {
    "duration": 3,
    "start_time": "2025-02-24T19:51:17.869Z"
   },
   {
    "duration": 142,
    "start_time": "2025-02-24T19:51:19.589Z"
   },
   {
    "duration": 14,
    "start_time": "2025-02-24T19:51:45.593Z"
   },
   {
    "duration": 22,
    "start_time": "2025-02-24T19:51:53.029Z"
   },
   {
    "duration": 3,
    "start_time": "2025-02-24T19:52:04.710Z"
   },
   {
    "duration": 12,
    "start_time": "2025-02-24T19:52:04.715Z"
   },
   {
    "duration": 13,
    "start_time": "2025-02-24T19:52:04.729Z"
   },
   {
    "duration": 427,
    "start_time": "2025-02-24T19:52:04.743Z"
   },
   {
    "duration": 2,
    "start_time": "2025-02-24T19:52:05.172Z"
   },
   {
    "duration": 107,
    "start_time": "2025-02-24T19:52:05.175Z"
   },
   {
    "duration": 18,
    "start_time": "2025-02-24T19:52:05.284Z"
   },
   {
    "duration": 19,
    "start_time": "2025-02-24T19:52:05.303Z"
   },
   {
    "duration": 22,
    "start_time": "2025-02-24T19:52:05.324Z"
   },
   {
    "duration": 22,
    "start_time": "2025-02-24T19:52:05.348Z"
   },
   {
    "duration": 9,
    "start_time": "2025-02-24T19:52:05.372Z"
   },
   {
    "duration": 30,
    "start_time": "2025-02-24T19:52:05.383Z"
   },
   {
    "duration": 16,
    "start_time": "2025-02-24T19:52:05.415Z"
   },
   {
    "duration": 24,
    "start_time": "2025-02-24T19:52:05.433Z"
   },
   {
    "duration": 18,
    "start_time": "2025-02-24T19:52:05.458Z"
   },
   {
    "duration": 19,
    "start_time": "2025-02-24T19:52:05.478Z"
   },
   {
    "duration": 32,
    "start_time": "2025-02-24T19:52:05.499Z"
   },
   {
    "duration": 42,
    "start_time": "2025-02-24T19:52:05.533Z"
   },
   {
    "duration": 19,
    "start_time": "2025-02-24T19:52:05.576Z"
   },
   {
    "duration": 17,
    "start_time": "2025-02-24T19:52:05.596Z"
   },
   {
    "duration": 40,
    "start_time": "2025-02-24T19:52:05.614Z"
   },
   {
    "duration": 22,
    "start_time": "2025-02-24T19:52:05.656Z"
   },
   {
    "duration": 26,
    "start_time": "2025-02-24T19:52:05.679Z"
   },
   {
    "duration": 35,
    "start_time": "2025-02-24T19:52:05.706Z"
   },
   {
    "duration": 36,
    "start_time": "2025-02-24T19:52:05.743Z"
   },
   {
    "duration": 26,
    "start_time": "2025-02-24T19:52:05.780Z"
   },
   {
    "duration": 32,
    "start_time": "2025-02-24T19:52:05.807Z"
   },
   {
    "duration": 57,
    "start_time": "2025-02-24T19:52:05.841Z"
   },
   {
    "duration": 67,
    "start_time": "2025-02-24T19:52:05.901Z"
   },
   {
    "duration": 11,
    "start_time": "2025-02-24T19:52:05.969Z"
   },
   {
    "duration": 298,
    "start_time": "2025-02-24T19:52:05.981Z"
   },
   {
    "duration": 4,
    "start_time": "2025-02-24T19:52:06.281Z"
   },
   {
    "duration": 22,
    "start_time": "2025-02-24T19:52:06.286Z"
   },
   {
    "duration": 31,
    "start_time": "2025-02-24T19:52:06.309Z"
   },
   {
    "duration": 13,
    "start_time": "2025-02-24T19:52:06.341Z"
   },
   {
    "duration": 22,
    "start_time": "2025-02-24T19:52:06.356Z"
   },
   {
    "duration": 22,
    "start_time": "2025-02-24T19:52:06.379Z"
   },
   {
    "duration": 30,
    "start_time": "2025-02-24T19:52:06.403Z"
   },
   {
    "duration": 32,
    "start_time": "2025-02-24T19:52:06.434Z"
   },
   {
    "duration": 7,
    "start_time": "2025-02-24T19:52:06.468Z"
   },
   {
    "duration": 25,
    "start_time": "2025-02-24T19:52:06.476Z"
   },
   {
    "duration": 51,
    "start_time": "2025-02-24T19:52:06.503Z"
   },
   {
    "duration": 28,
    "start_time": "2025-02-24T19:52:06.555Z"
   },
   {
    "duration": 30,
    "start_time": "2025-02-24T19:52:06.584Z"
   },
   {
    "duration": 40,
    "start_time": "2025-02-24T19:52:06.615Z"
   },
   {
    "duration": 29,
    "start_time": "2025-02-24T19:52:06.656Z"
   },
   {
    "duration": 19,
    "start_time": "2025-02-24T19:52:06.687Z"
   },
   {
    "duration": 51,
    "start_time": "2025-02-24T19:52:06.707Z"
   },
   {
    "duration": 24,
    "start_time": "2025-02-24T19:52:06.760Z"
   },
   {
    "duration": 13,
    "start_time": "2025-02-24T19:52:06.786Z"
   },
   {
    "duration": 84,
    "start_time": "2025-02-24T19:52:06.800Z"
   },
   {
    "duration": 19,
    "start_time": "2025-02-24T19:52:06.886Z"
   },
   {
    "duration": 16,
    "start_time": "2025-02-24T19:52:06.907Z"
   },
   {
    "duration": 53,
    "start_time": "2025-02-24T19:52:06.924Z"
   },
   {
    "duration": 42,
    "start_time": "2025-02-24T19:52:06.978Z"
   },
   {
    "duration": 18,
    "start_time": "2025-02-24T19:52:07.022Z"
   },
   {
    "duration": 22,
    "start_time": "2025-02-24T19:52:07.042Z"
   },
   {
    "duration": 152,
    "start_time": "2025-02-24T19:52:07.066Z"
   },
   {
    "duration": 21,
    "start_time": "2025-02-24T19:52:07.220Z"
   },
   {
    "duration": 26,
    "start_time": "2025-02-24T19:52:07.242Z"
   },
   {
    "duration": 171,
    "start_time": "2025-02-24T19:52:07.269Z"
   },
   {
    "duration": 17,
    "start_time": "2025-02-24T19:52:07.442Z"
   },
   {
    "duration": 22,
    "start_time": "2025-02-24T19:52:07.470Z"
   },
   {
    "duration": 27,
    "start_time": "2025-02-24T19:52:07.494Z"
   },
   {
    "duration": 19,
    "start_time": "2025-02-24T19:52:07.522Z"
   },
   {
    "duration": 8,
    "start_time": "2025-02-24T19:52:07.543Z"
   },
   {
    "duration": 4,
    "start_time": "2025-02-25T00:18:27.649Z"
   },
   {
    "duration": 60,
    "start_time": "2025-02-25T00:18:27.655Z"
   },
   {
    "duration": 29,
    "start_time": "2025-02-25T00:18:27.717Z"
   },
   {
    "duration": 436,
    "start_time": "2025-02-25T00:18:27.748Z"
   },
   {
    "duration": 3,
    "start_time": "2025-02-25T00:18:28.185Z"
   },
   {
    "duration": 184,
    "start_time": "2025-02-25T00:18:28.189Z"
   },
   {
    "duration": 16,
    "start_time": "2025-02-25T00:18:28.375Z"
   },
   {
    "duration": 35,
    "start_time": "2025-02-25T00:18:28.393Z"
   },
   {
    "duration": 42,
    "start_time": "2025-02-25T00:18:28.429Z"
   },
   {
    "duration": 74,
    "start_time": "2025-02-25T00:18:28.474Z"
   },
   {
    "duration": 38,
    "start_time": "2025-02-25T00:18:28.550Z"
   },
   {
    "duration": 45,
    "start_time": "2025-02-25T00:18:28.589Z"
   },
   {
    "duration": 54,
    "start_time": "2025-02-25T00:18:28.636Z"
   },
   {
    "duration": 43,
    "start_time": "2025-02-25T00:18:28.692Z"
   },
   {
    "duration": 34,
    "start_time": "2025-02-25T00:18:28.736Z"
   },
   {
    "duration": 56,
    "start_time": "2025-02-25T00:18:28.771Z"
   },
   {
    "duration": 118,
    "start_time": "2025-02-25T00:18:28.828Z"
   },
   {
    "duration": 54,
    "start_time": "2025-02-25T00:18:28.947Z"
   },
   {
    "duration": 117,
    "start_time": "2025-02-25T00:18:29.002Z"
   },
   {
    "duration": 43,
    "start_time": "2025-02-25T00:18:29.120Z"
   },
   {
    "duration": 24,
    "start_time": "2025-02-25T00:18:29.165Z"
   },
   {
    "duration": 80,
    "start_time": "2025-02-25T00:18:29.190Z"
   },
   {
    "duration": 50,
    "start_time": "2025-02-25T00:18:29.271Z"
   },
   {
    "duration": 47,
    "start_time": "2025-02-25T00:18:29.323Z"
   },
   {
    "duration": 27,
    "start_time": "2025-02-25T00:18:29.371Z"
   },
   {
    "duration": 45,
    "start_time": "2025-02-25T00:18:29.399Z"
   },
   {
    "duration": 33,
    "start_time": "2025-02-25T00:18:29.446Z"
   },
   {
    "duration": 133,
    "start_time": "2025-02-25T00:18:29.484Z"
   },
   {
    "duration": 9,
    "start_time": "2025-02-25T00:18:29.619Z"
   },
   {
    "duration": 123,
    "start_time": "2025-02-25T00:18:29.630Z"
   },
   {
    "duration": 389,
    "start_time": "2025-02-25T00:18:29.755Z"
   },
   {
    "duration": 15,
    "start_time": "2025-02-25T00:18:30.145Z"
   },
   {
    "duration": 256,
    "start_time": "2025-02-25T00:18:30.161Z"
   },
   {
    "duration": 30,
    "start_time": "2025-02-25T00:18:30.419Z"
   },
   {
    "duration": 27,
    "start_time": "2025-02-25T00:18:30.451Z"
   },
   {
    "duration": 20,
    "start_time": "2025-02-25T00:18:30.479Z"
   },
   {
    "duration": 11,
    "start_time": "2025-02-25T00:18:30.501Z"
   },
   {
    "duration": 20,
    "start_time": "2025-02-25T00:18:30.514Z"
   },
   {
    "duration": 53,
    "start_time": "2025-02-25T00:18:30.536Z"
   },
   {
    "duration": 18,
    "start_time": "2025-02-25T00:18:30.590Z"
   },
   {
    "duration": 13,
    "start_time": "2025-02-25T00:18:30.610Z"
   },
   {
    "duration": 16,
    "start_time": "2025-02-25T00:18:30.625Z"
   },
   {
    "duration": 47,
    "start_time": "2025-02-25T00:18:30.642Z"
   },
   {
    "duration": 15,
    "start_time": "2025-02-25T00:18:30.690Z"
   },
   {
    "duration": 17,
    "start_time": "2025-02-25T00:18:30.706Z"
   },
   {
    "duration": 26,
    "start_time": "2025-02-25T00:18:30.725Z"
   },
   {
    "duration": 24,
    "start_time": "2025-02-25T00:18:30.753Z"
   },
   {
    "duration": 23,
    "start_time": "2025-02-25T00:18:30.779Z"
   },
   {
    "duration": 111,
    "start_time": "2025-02-25T00:18:30.804Z"
   },
   {
    "duration": 20,
    "start_time": "2025-02-25T00:18:30.916Z"
   },
   {
    "duration": 66,
    "start_time": "2025-02-25T00:18:30.937Z"
   },
   {
    "duration": 20,
    "start_time": "2025-02-25T00:18:31.005Z"
   },
   {
    "duration": 92,
    "start_time": "2025-02-25T00:18:31.027Z"
   },
   {
    "duration": 4,
    "start_time": "2025-02-25T00:18:31.121Z"
   },
   {
    "duration": 44,
    "start_time": "2025-02-25T00:18:31.126Z"
   },
   {
    "duration": 20,
    "start_time": "2025-02-25T00:18:31.171Z"
   },
   {
    "duration": 12,
    "start_time": "2025-02-25T00:18:31.193Z"
   },
   {
    "duration": 158,
    "start_time": "2025-02-25T00:18:31.206Z"
   },
   {
    "duration": 24,
    "start_time": "2025-02-25T00:18:31.366Z"
   },
   {
    "duration": 32,
    "start_time": "2025-02-25T00:18:31.391Z"
   },
   {
    "duration": 168,
    "start_time": "2025-02-25T00:18:31.425Z"
   },
   {
    "duration": 17,
    "start_time": "2025-02-25T00:18:31.595Z"
   },
   {
    "duration": 29,
    "start_time": "2025-02-25T00:18:31.614Z"
   },
   {
    "duration": 112,
    "start_time": "2025-02-25T00:18:31.644Z"
   },
   {
    "duration": 17,
    "start_time": "2025-02-25T00:18:31.757Z"
   },
   {
    "duration": 10,
    "start_time": "2025-02-25T00:18:31.775Z"
   },
   {
    "duration": 5,
    "start_time": "2025-02-25T00:21:29.683Z"
   },
   {
    "duration": 48,
    "start_time": "2025-02-25T06:36:07.031Z"
   },
   {
    "duration": 3,
    "start_time": "2025-02-25T06:36:32.845Z"
   },
   {
    "duration": 16,
    "start_time": "2025-02-25T06:36:32.850Z"
   },
   {
    "duration": 3,
    "start_time": "2025-02-25T06:36:32.867Z"
   },
   {
    "duration": 424,
    "start_time": "2025-02-25T06:36:32.872Z"
   },
   {
    "duration": 3,
    "start_time": "2025-02-25T06:36:33.298Z"
   },
   {
    "duration": 137,
    "start_time": "2025-02-25T06:36:33.302Z"
   },
   {
    "duration": 17,
    "start_time": "2025-02-25T06:36:33.440Z"
   },
   {
    "duration": 24,
    "start_time": "2025-02-25T06:36:33.458Z"
   },
   {
    "duration": 19,
    "start_time": "2025-02-25T06:36:33.483Z"
   },
   {
    "duration": 4,
    "start_time": "2025-02-25T06:36:33.503Z"
   },
   {
    "duration": 5,
    "start_time": "2025-02-25T06:36:33.508Z"
   },
   {
    "duration": 20,
    "start_time": "2025-02-25T06:36:33.514Z"
   },
   {
    "duration": 4,
    "start_time": "2025-02-25T06:36:33.559Z"
   },
   {
    "duration": 20,
    "start_time": "2025-02-25T06:36:33.565Z"
   },
   {
    "duration": 4,
    "start_time": "2025-02-25T06:36:33.587Z"
   },
   {
    "duration": 9,
    "start_time": "2025-02-25T06:36:33.593Z"
   },
   {
    "duration": 5,
    "start_time": "2025-02-25T06:36:33.604Z"
   },
   {
    "duration": 8,
    "start_time": "2025-02-25T06:36:33.610Z"
   },
   {
    "duration": 38,
    "start_time": "2025-02-25T06:36:33.620Z"
   },
   {
    "duration": 19,
    "start_time": "2025-02-25T06:36:33.659Z"
   },
   {
    "duration": 18,
    "start_time": "2025-02-25T06:36:33.680Z"
   },
   {
    "duration": 12,
    "start_time": "2025-02-25T06:36:33.700Z"
   },
   {
    "duration": 18,
    "start_time": "2025-02-25T06:36:33.714Z"
   },
   {
    "duration": 17,
    "start_time": "2025-02-25T06:36:33.734Z"
   },
   {
    "duration": 13,
    "start_time": "2025-02-25T06:36:33.753Z"
   },
   {
    "duration": 18,
    "start_time": "2025-02-25T06:36:33.767Z"
   },
   {
    "duration": 12,
    "start_time": "2025-02-25T06:36:33.787Z"
   },
   {
    "duration": 23,
    "start_time": "2025-02-25T06:36:33.800Z"
   },
   {
    "duration": 36,
    "start_time": "2025-02-25T06:36:33.825Z"
   },
   {
    "duration": 13,
    "start_time": "2025-02-25T06:36:33.863Z"
   },
   {
    "duration": 497,
    "start_time": "2025-02-25T06:36:33.878Z"
   },
   {
    "duration": 6,
    "start_time": "2025-02-25T06:36:34.377Z"
   },
   {
    "duration": 77,
    "start_time": "2025-02-25T06:36:34.384Z"
   },
   {
    "duration": 65,
    "start_time": "2025-02-25T06:36:34.462Z"
   },
   {
    "duration": 68,
    "start_time": "2025-02-25T06:36:34.528Z"
   },
   {
    "duration": 8,
    "start_time": "2025-02-25T06:36:34.598Z"
   },
   {
    "duration": 4,
    "start_time": "2025-02-25T06:36:34.610Z"
   },
   {
    "duration": 5,
    "start_time": "2025-02-25T06:36:34.615Z"
   },
   {
    "duration": 18,
    "start_time": "2025-02-25T06:36:34.622Z"
   },
   {
    "duration": 4,
    "start_time": "2025-02-25T06:36:34.641Z"
   },
   {
    "duration": 12,
    "start_time": "2025-02-25T06:36:34.646Z"
   },
   {
    "duration": 6,
    "start_time": "2025-02-25T06:36:34.659Z"
   },
   {
    "duration": 4,
    "start_time": "2025-02-25T06:36:34.666Z"
   },
   {
    "duration": 4,
    "start_time": "2025-02-25T06:36:34.671Z"
   },
   {
    "duration": 27,
    "start_time": "2025-02-25T06:36:34.676Z"
   },
   {
    "duration": 18,
    "start_time": "2025-02-25T06:36:34.704Z"
   },
   {
    "duration": 41,
    "start_time": "2025-02-25T06:36:34.724Z"
   },
   {
    "duration": 22,
    "start_time": "2025-02-25T06:36:34.766Z"
   },
   {
    "duration": 68,
    "start_time": "2025-02-25T06:36:34.789Z"
   },
   {
    "duration": 14,
    "start_time": "2025-02-25T06:36:34.858Z"
   },
   {
    "duration": 63,
    "start_time": "2025-02-25T06:36:34.874Z"
   },
   {
    "duration": 36,
    "start_time": "2025-02-25T06:36:34.938Z"
   },
   {
    "duration": 14,
    "start_time": "2025-02-25T06:36:34.976Z"
   },
   {
    "duration": 64,
    "start_time": "2025-02-25T06:36:34.991Z"
   },
   {
    "duration": 7,
    "start_time": "2025-02-25T06:36:35.057Z"
   },
   {
    "duration": 26,
    "start_time": "2025-02-25T06:36:35.066Z"
   },
   {
    "duration": 19,
    "start_time": "2025-02-25T06:36:35.094Z"
   },
   {
    "duration": 4,
    "start_time": "2025-02-25T06:36:35.115Z"
   },
   {
    "duration": 186,
    "start_time": "2025-02-25T06:36:35.120Z"
   },
   {
    "duration": 21,
    "start_time": "2025-02-25T06:36:35.308Z"
   },
   {
    "duration": 23,
    "start_time": "2025-02-25T06:36:35.331Z"
   },
   {
    "duration": 266,
    "start_time": "2025-02-25T06:36:35.355Z"
   },
   {
    "duration": 17,
    "start_time": "2025-02-25T06:36:35.623Z"
   },
   {
    "duration": 32,
    "start_time": "2025-02-25T06:36:35.642Z"
   },
   {
    "duration": 36,
    "start_time": "2025-02-25T06:36:35.676Z"
   },
   {
    "duration": 16,
    "start_time": "2025-02-25T06:36:35.714Z"
   },
   {
    "duration": 26,
    "start_time": "2025-02-25T06:36:35.731Z"
   },
   {
    "duration": 23,
    "start_time": "2025-02-25T06:37:07.897Z"
   }
  ],
  "colab": {
   "provenance": []
  },
  "kernelspec": {
   "display_name": "Python 3 (ipykernel)",
   "language": "python",
   "name": "python3"
  },
  "language_info": {
   "codemirror_mode": {
    "name": "ipython",
    "version": 3
   },
   "file_extension": ".py",
   "mimetype": "text/x-python",
   "name": "python",
   "nbconvert_exporter": "python",
   "pygments_lexer": "ipython3",
   "version": "3.9.7"
  },
  "toc": {
   "base_numbering": 1,
   "nav_menu": {
    "height": "26.9886px",
    "width": "160px"
   },
   "number_sections": true,
   "sideBar": true,
   "skip_h1_title": true,
   "title_cell": "Table of Contents",
   "title_sidebar": "Contents",
   "toc_cell": false,
   "toc_position": {
    "height": "calc(100% - 180px)",
    "left": "10px",
    "top": "150px",
    "width": "176.932px"
   },
   "toc_section_display": true,
   "toc_window_display": true
  }
 },
 "nbformat": 4,
 "nbformat_minor": 5
}
