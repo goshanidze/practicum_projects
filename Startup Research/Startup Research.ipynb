{
 "cells": [
  {
   "cell_type": "markdown",
   "metadata": {
    "id": "4mJbK1knrJgz"
   },
   "source": [
    "# Проект: Исследование стартапов\n",
    "- Автор: Горлов Георгий\n",
    "- Дата: 21.03.2025"
   ]
  },
  {
   "cell_type": "markdown",
   "metadata": {
    "id": "P6j0r3worJg0"
   },
   "source": [
    "## Введение\n",
    "### Цели и задачи проекта\n",
    "Цель проекта: для финансовой компании провести исследовательский анализ исторических данных, относящихся к инвестиционному рынку. Выроботать общее понимание, какие данные могут быть полезны для покупики, развития и перепродажи перспективных стартапов.\n",
    "\n",
    "\n",
    "\n",
    "### Содержимое проекта\n",
    "1. [Знакомство с данными: загрузка и первичная предобработка](#1)\n",
    "2. [Предобработка данных, предварительное исследование](#2)\n",
    "3. [Исследовательский анализ объединённых таблиц](#3)\n",
    "4. [Итоговый вывод и рекомендации](#4)\n"
   ]
  },
  {
   "cell_type": "markdown",
   "metadata": {},
   "source": [
    "<a id ='1'></a>\n",
    "## Шаг 1. Знакомство с данными: загрузка и первичная предобработка"
   ]
  },
  {
   "cell_type": "markdown",
   "metadata": {
    "id": "xqr6uttCrJg0"
   },
   "source": [
    "\n",
    "### 1.1. Вывод общей информации, исправление названия столбцов\n",
    "\n",
    "- Загрузите все данные по проекту.\n",
    "- Проверьте названия столбцов.\n",
    "- Выведите информацию, которая необходима вам для принятия решений о предобработке, для каждого из датасетов."
   ]
  },
  {
   "cell_type": "code",
   "execution_count": 1,
   "metadata": {},
   "outputs": [
    {
     "name": "stdout",
     "output_type": "stream",
     "text": [
      "Requirement already satisfied: phik in /opt/conda/lib/python3.9/site-packages (0.12.4)\n",
      "Requirement already satisfied: pandas>=0.25.1 in /opt/conda/lib/python3.9/site-packages (from phik) (1.2.4)\n",
      "Requirement already satisfied: numpy>=1.18.0 in /opt/conda/lib/python3.9/site-packages (from phik) (1.21.1)\n",
      "Requirement already satisfied: joblib>=0.14.1 in /opt/conda/lib/python3.9/site-packages (from phik) (1.1.0)\n",
      "Requirement already satisfied: scipy>=1.5.2 in /opt/conda/lib/python3.9/site-packages (from phik) (1.9.1)\n",
      "Requirement already satisfied: matplotlib>=2.2.3 in /opt/conda/lib/python3.9/site-packages (from phik) (3.3.4)\n",
      "Requirement already satisfied: python-dateutil>=2.1 in /opt/conda/lib/python3.9/site-packages (from matplotlib>=2.2.3->phik) (2.8.1)\n",
      "Requirement already satisfied: pyparsing!=2.0.4,!=2.1.2,!=2.1.6,>=2.0.3 in /opt/conda/lib/python3.9/site-packages (from matplotlib>=2.2.3->phik) (2.4.7)\n",
      "Requirement already satisfied: pillow>=6.2.0 in /opt/conda/lib/python3.9/site-packages (from matplotlib>=2.2.3->phik) (8.4.0)\n",
      "Requirement already satisfied: kiwisolver>=1.0.1 in /opt/conda/lib/python3.9/site-packages (from matplotlib>=2.2.3->phik) (1.4.4)\n",
      "Requirement already satisfied: cycler>=0.10 in /opt/conda/lib/python3.9/site-packages (from matplotlib>=2.2.3->phik) (0.11.0)\n",
      "Requirement already satisfied: pytz>=2017.3 in /opt/conda/lib/python3.9/site-packages (from pandas>=0.25.1->phik) (2021.1)\n",
      "Requirement already satisfied: six>=1.5 in /opt/conda/lib/python3.9/site-packages (from python-dateutil>=2.1->matplotlib>=2.2.3->phik) (1.16.0)\n"
     ]
    }
   ],
   "source": [
    "# Импортируем нужные бибилиотеки для проекта\n",
    "# Принудительно запрещаем вывод предупреждений \n",
    "import warnings\n",
    "warnings.filterwarnings(\"ignore\")\n",
    "\n",
    "# Импортируем библиотеку numpy\n",
    "import numpy as np\n",
    "\n",
    "# Импортируем библиотеку pandas\n",
    "import pandas as pd\n",
    "\n",
    "# Загружаем библиотеки для визуализации данных\n",
    "import matplotlib.pyplot as plt\n",
    "import seaborn as sns\n",
    "\n",
    "# Загружаем библиотеку для расчёта коэффициента корреляции phi_k\n",
    "!pip install phik\n",
    "from phik import phik_matrix"
   ]
  },
  {
   "cell_type": "markdown",
   "metadata": {},
   "source": [
    "Загрузим датасеты `company_and_rounds.csv`, `acquisition.csv`, `people.csv`, `education.csv` и `degrees.csv`"
   ]
  },
  {
   "cell_type": "code",
   "execution_count": 2,
   "metadata": {},
   "outputs": [],
   "source": [
    "# Содержит информацию о компаниях и раундах финансирования\n",
    "car_df = pd.read_csv('https://code.s3.yandex.net/datasets/company_and_rounds.csv')\n",
    "\n",
    "# Содержит информацию о покупках одними компаниями других компаний\n",
    "acq_df = pd.read_csv('https://code.s3.yandex.net/datasets/acquisition.csv')\n",
    "\n",
    "# Содержит информацию о сотрудниках\n",
    "ppl_df = pd.read_csv('https://code.s3.yandex.net/datasets/people.csv')\n",
    "\n",
    "# Содержит информацию об образовании сотрудника\n",
    "education_df = pd.read_csv('https://code.s3.yandex.net/datasets/education.csv')\n",
    "\n",
    "# Содержит информацию о типе образования сотрудника\n",
    "degrees_df = pd.read_csv('https://code.s3.yandex.net/datasets/degrees.csv')"
   ]
  },
  {
   "cell_type": "markdown",
   "metadata": {},
   "source": [
    "Проверим общую информацию о каждом датасете и просмотрим на их данные"
   ]
  },
  {
   "cell_type": "code",
   "execution_count": 3,
   "metadata": {},
   "outputs": [
    {
     "name": "stdout",
     "output_type": "stream",
     "text": [
      "<class 'pandas.core.frame.DataFrame'>\n",
      "RangeIndex: 217774 entries, 0 to 217773\n",
      "Data columns (total 22 columns):\n",
      " #   Column                 Non-Null Count   Dtype  \n",
      "---  ------                 --------------   -----  \n",
      " 0   company  ID            217472 non-null  float64\n",
      " 1   name                   217472 non-null  object \n",
      " 2   category  code         143886 non-null  object \n",
      " 3   status                 217472 non-null  object \n",
      " 4   founded  at            109956 non-null  object \n",
      " 5   closed  at             3449 non-null    object \n",
      " 6   domain                 147159 non-null  object \n",
      " 7   network  username      95534 non-null   object \n",
      " 8   country  code          108607 non-null  object \n",
      " 9   investment  rounds     217472 non-null  float64\n",
      " 10  funding  rounds        217472 non-null  float64\n",
      " 11  funding  total         217472 non-null  float64\n",
      " 12  milestones             217472 non-null  float64\n",
      " 13  funding  round  id     52928 non-null   float64\n",
      " 14  company  id            52928 non-null   float64\n",
      " 15  funded  at             52680 non-null   object \n",
      " 16  funding  round  type   52928 non-null   object \n",
      " 17  raised  amount         52928 non-null   float64\n",
      " 18  pre  money  valuation  52928 non-null   float64\n",
      " 19  participants           52928 non-null   float64\n",
      " 20  is  first  round       52928 non-null   float64\n",
      " 21  is  last  round        52928 non-null   float64\n",
      "dtypes: float64(12), object(10)\n",
      "memory usage: 36.6+ MB\n"
     ]
    },
    {
     "data": {
      "text/html": [
       "<div>\n",
       "<style scoped>\n",
       "    .dataframe tbody tr th:only-of-type {\n",
       "        vertical-align: middle;\n",
       "    }\n",
       "\n",
       "    .dataframe tbody tr th {\n",
       "        vertical-align: top;\n",
       "    }\n",
       "\n",
       "    .dataframe thead th {\n",
       "        text-align: right;\n",
       "    }\n",
       "</style>\n",
       "<table border=\"1\" class=\"dataframe\">\n",
       "  <thead>\n",
       "    <tr style=\"text-align: right;\">\n",
       "      <th></th>\n",
       "      <th>company  ID</th>\n",
       "      <th>name</th>\n",
       "      <th>category  code</th>\n",
       "      <th>status</th>\n",
       "      <th>founded  at</th>\n",
       "      <th>closed  at</th>\n",
       "      <th>domain</th>\n",
       "      <th>network  username</th>\n",
       "      <th>country  code</th>\n",
       "      <th>investment  rounds</th>\n",
       "      <th>...</th>\n",
       "      <th>milestones</th>\n",
       "      <th>funding  round  id</th>\n",
       "      <th>company  id</th>\n",
       "      <th>funded  at</th>\n",
       "      <th>funding  round  type</th>\n",
       "      <th>raised  amount</th>\n",
       "      <th>pre  money  valuation</th>\n",
       "      <th>participants</th>\n",
       "      <th>is  first  round</th>\n",
       "      <th>is  last  round</th>\n",
       "    </tr>\n",
       "  </thead>\n",
       "  <tbody>\n",
       "    <tr>\n",
       "      <th>0</th>\n",
       "      <td>1.0</td>\n",
       "      <td>Wetpaint</td>\n",
       "      <td>web</td>\n",
       "      <td>operating</td>\n",
       "      <td>2005-10-17</td>\n",
       "      <td>NaN</td>\n",
       "      <td>wetpaint-inc.com</td>\n",
       "      <td>BachelrWetpaint</td>\n",
       "      <td>USA</td>\n",
       "      <td>0.0</td>\n",
       "      <td>...</td>\n",
       "      <td>5.0</td>\n",
       "      <td>888.0</td>\n",
       "      <td>1.0</td>\n",
       "      <td>2005-10-01</td>\n",
       "      <td>series-a</td>\n",
       "      <td>5250000.0</td>\n",
       "      <td>0.0</td>\n",
       "      <td>2.0</td>\n",
       "      <td>0.0</td>\n",
       "      <td>1.0</td>\n",
       "    </tr>\n",
       "    <tr>\n",
       "      <th>1</th>\n",
       "      <td>1.0</td>\n",
       "      <td>Wetpaint</td>\n",
       "      <td>web</td>\n",
       "      <td>operating</td>\n",
       "      <td>2005-10-17</td>\n",
       "      <td>NaN</td>\n",
       "      <td>wetpaint-inc.com</td>\n",
       "      <td>BachelrWetpaint</td>\n",
       "      <td>USA</td>\n",
       "      <td>0.0</td>\n",
       "      <td>...</td>\n",
       "      <td>5.0</td>\n",
       "      <td>889.0</td>\n",
       "      <td>1.0</td>\n",
       "      <td>2007-01-01</td>\n",
       "      <td>series-b</td>\n",
       "      <td>9500000.0</td>\n",
       "      <td>0.0</td>\n",
       "      <td>3.0</td>\n",
       "      <td>0.0</td>\n",
       "      <td>0.0</td>\n",
       "    </tr>\n",
       "    <tr>\n",
       "      <th>2</th>\n",
       "      <td>1.0</td>\n",
       "      <td>Wetpaint</td>\n",
       "      <td>web</td>\n",
       "      <td>operating</td>\n",
       "      <td>2005-10-17</td>\n",
       "      <td>NaN</td>\n",
       "      <td>wetpaint-inc.com</td>\n",
       "      <td>BachelrWetpaint</td>\n",
       "      <td>USA</td>\n",
       "      <td>0.0</td>\n",
       "      <td>...</td>\n",
       "      <td>5.0</td>\n",
       "      <td>2312.0</td>\n",
       "      <td>1.0</td>\n",
       "      <td>2008-05-19</td>\n",
       "      <td>series-c+</td>\n",
       "      <td>25000000.0</td>\n",
       "      <td>0.0</td>\n",
       "      <td>4.0</td>\n",
       "      <td>1.0</td>\n",
       "      <td>0.0</td>\n",
       "    </tr>\n",
       "    <tr>\n",
       "      <th>3</th>\n",
       "      <td>10.0</td>\n",
       "      <td>Flektor</td>\n",
       "      <td>games_video</td>\n",
       "      <td>acquired</td>\n",
       "      <td>NaN</td>\n",
       "      <td>NaN</td>\n",
       "      <td>flektor.com</td>\n",
       "      <td>NaN</td>\n",
       "      <td>USA</td>\n",
       "      <td>0.0</td>\n",
       "      <td>...</td>\n",
       "      <td>0.0</td>\n",
       "      <td>NaN</td>\n",
       "      <td>NaN</td>\n",
       "      <td>NaN</td>\n",
       "      <td>NaN</td>\n",
       "      <td>NaN</td>\n",
       "      <td>NaN</td>\n",
       "      <td>NaN</td>\n",
       "      <td>NaN</td>\n",
       "      <td>NaN</td>\n",
       "    </tr>\n",
       "    <tr>\n",
       "      <th>4</th>\n",
       "      <td>100.0</td>\n",
       "      <td>There</td>\n",
       "      <td>games_video</td>\n",
       "      <td>acquired</td>\n",
       "      <td>NaN</td>\n",
       "      <td>NaN</td>\n",
       "      <td>there.com</td>\n",
       "      <td>NaN</td>\n",
       "      <td>USA</td>\n",
       "      <td>0.0</td>\n",
       "      <td>...</td>\n",
       "      <td>4.0</td>\n",
       "      <td>NaN</td>\n",
       "      <td>NaN</td>\n",
       "      <td>NaN</td>\n",
       "      <td>NaN</td>\n",
       "      <td>NaN</td>\n",
       "      <td>NaN</td>\n",
       "      <td>NaN</td>\n",
       "      <td>NaN</td>\n",
       "      <td>NaN</td>\n",
       "    </tr>\n",
       "  </tbody>\n",
       "</table>\n",
       "<p>5 rows × 22 columns</p>\n",
       "</div>"
      ],
      "text/plain": [
       "   company  ID      name category  code     status founded  at closed  at  \\\n",
       "0          1.0  Wetpaint            web  operating  2005-10-17        NaN   \n",
       "1          1.0  Wetpaint            web  operating  2005-10-17        NaN   \n",
       "2          1.0  Wetpaint            web  operating  2005-10-17        NaN   \n",
       "3         10.0   Flektor    games_video   acquired         NaN        NaN   \n",
       "4        100.0     There    games_video   acquired         NaN        NaN   \n",
       "\n",
       "             domain network  username country  code  investment  rounds  ...  \\\n",
       "0  wetpaint-inc.com   BachelrWetpaint           USA                 0.0  ...   \n",
       "1  wetpaint-inc.com   BachelrWetpaint           USA                 0.0  ...   \n",
       "2  wetpaint-inc.com   BachelrWetpaint           USA                 0.0  ...   \n",
       "3       flektor.com               NaN           USA                 0.0  ...   \n",
       "4         there.com               NaN           USA                 0.0  ...   \n",
       "\n",
       "   milestones  funding  round  id  company  id  funded  at  \\\n",
       "0         5.0               888.0          1.0  2005-10-01   \n",
       "1         5.0               889.0          1.0  2007-01-01   \n",
       "2         5.0              2312.0          1.0  2008-05-19   \n",
       "3         0.0                 NaN          NaN         NaN   \n",
       "4         4.0                 NaN          NaN         NaN   \n",
       "\n",
       "   funding  round  type raised  amount pre  money  valuation  participants  \\\n",
       "0              series-a      5250000.0                   0.0           2.0   \n",
       "1              series-b      9500000.0                   0.0           3.0   \n",
       "2             series-c+     25000000.0                   0.0           4.0   \n",
       "3                   NaN            NaN                   NaN           NaN   \n",
       "4                   NaN            NaN                   NaN           NaN   \n",
       "\n",
       "   is  first  round  is  last  round  \n",
       "0               0.0              1.0  \n",
       "1               0.0              0.0  \n",
       "2               1.0              0.0  \n",
       "3               NaN              NaN  \n",
       "4               NaN              NaN  \n",
       "\n",
       "[5 rows x 22 columns]"
      ]
     },
     "execution_count": 3,
     "metadata": {},
     "output_type": "execute_result"
    }
   ],
   "source": [
    "# Рассмотрим информацию о датасете company_and_rounds\n",
    "car_df.info()\n",
    "car_df.head()"
   ]
  },
  {
   "cell_type": "code",
   "execution_count": 4,
   "metadata": {},
   "outputs": [
    {
     "name": "stdout",
     "output_type": "stream",
     "text": [
      "<class 'pandas.core.frame.DataFrame'>\n",
      "RangeIndex: 9407 entries, 0 to 9406\n",
      "Data columns (total 6 columns):\n",
      " #   Column                Non-Null Count  Dtype \n",
      "---  ------                --------------  ----- \n",
      " 0   id                    9407 non-null   int64 \n",
      " 1   acquiring_company_id  9407 non-null   int64 \n",
      " 2   acquired_company_id   9407 non-null   int64 \n",
      " 3   term_code             1831 non-null   object\n",
      " 4   price_amount          9407 non-null   int64 \n",
      " 5   acquired_at           9378 non-null   object\n",
      "dtypes: int64(4), object(2)\n",
      "memory usage: 441.1+ KB\n"
     ]
    },
    {
     "data": {
      "text/html": [
       "<div>\n",
       "<style scoped>\n",
       "    .dataframe tbody tr th:only-of-type {\n",
       "        vertical-align: middle;\n",
       "    }\n",
       "\n",
       "    .dataframe tbody tr th {\n",
       "        vertical-align: top;\n",
       "    }\n",
       "\n",
       "    .dataframe thead th {\n",
       "        text-align: right;\n",
       "    }\n",
       "</style>\n",
       "<table border=\"1\" class=\"dataframe\">\n",
       "  <thead>\n",
       "    <tr style=\"text-align: right;\">\n",
       "      <th></th>\n",
       "      <th>id</th>\n",
       "      <th>acquiring_company_id</th>\n",
       "      <th>acquired_company_id</th>\n",
       "      <th>term_code</th>\n",
       "      <th>price_amount</th>\n",
       "      <th>acquired_at</th>\n",
       "    </tr>\n",
       "  </thead>\n",
       "  <tbody>\n",
       "    <tr>\n",
       "      <th>0</th>\n",
       "      <td>1</td>\n",
       "      <td>11</td>\n",
       "      <td>10</td>\n",
       "      <td>NaN</td>\n",
       "      <td>20000000</td>\n",
       "      <td>2007-05-30</td>\n",
       "    </tr>\n",
       "    <tr>\n",
       "      <th>1</th>\n",
       "      <td>7</td>\n",
       "      <td>59</td>\n",
       "      <td>72</td>\n",
       "      <td>cash</td>\n",
       "      <td>60000000</td>\n",
       "      <td>2007-07-01</td>\n",
       "    </tr>\n",
       "    <tr>\n",
       "      <th>2</th>\n",
       "      <td>8</td>\n",
       "      <td>24</td>\n",
       "      <td>132</td>\n",
       "      <td>cash</td>\n",
       "      <td>280000000</td>\n",
       "      <td>2007-05-01</td>\n",
       "    </tr>\n",
       "    <tr>\n",
       "      <th>3</th>\n",
       "      <td>9</td>\n",
       "      <td>59</td>\n",
       "      <td>155</td>\n",
       "      <td>cash</td>\n",
       "      <td>100000000</td>\n",
       "      <td>2007-06-01</td>\n",
       "    </tr>\n",
       "    <tr>\n",
       "      <th>4</th>\n",
       "      <td>10</td>\n",
       "      <td>212</td>\n",
       "      <td>215</td>\n",
       "      <td>cash</td>\n",
       "      <td>25000000</td>\n",
       "      <td>2007-07-01</td>\n",
       "    </tr>\n",
       "  </tbody>\n",
       "</table>\n",
       "</div>"
      ],
      "text/plain": [
       "   id  acquiring_company_id  acquired_company_id term_code  price_amount  \\\n",
       "0   1                    11                   10       NaN      20000000   \n",
       "1   7                    59                   72      cash      60000000   \n",
       "2   8                    24                  132      cash     280000000   \n",
       "3   9                    59                  155      cash     100000000   \n",
       "4  10                   212                  215      cash      25000000   \n",
       "\n",
       "  acquired_at  \n",
       "0  2007-05-30  \n",
       "1  2007-07-01  \n",
       "2  2007-05-01  \n",
       "3  2007-06-01  \n",
       "4  2007-07-01  "
      ]
     },
     "execution_count": 4,
     "metadata": {},
     "output_type": "execute_result"
    }
   ],
   "source": [
    "# Рассмотрим информацию о датасете acquisition\n",
    "acq_df.info()\n",
    "acq_df.head()"
   ]
  },
  {
   "cell_type": "markdown",
   "metadata": {},
   "source": [
    "Столбцам `id`, `acquiring_company_id` и `acquired_company_id` можно уменьшит разрядность типа данных `int`. Столбец `acquired_at` можно привести к типу данных `datetime`."
   ]
  },
  {
   "cell_type": "code",
   "execution_count": 5,
   "metadata": {},
   "outputs": [
    {
     "name": "stdout",
     "output_type": "stream",
     "text": [
      "<class 'pandas.core.frame.DataFrame'>\n",
      "RangeIndex: 226709 entries, 0 to 226708\n",
      "Data columns (total 5 columns):\n",
      " #   Column            Non-Null Count   Dtype  \n",
      "---  ------            --------------   -----  \n",
      " 0   id                226709 non-null  int64  \n",
      " 1   first_name        226704 non-null  object \n",
      " 2   last_name         226708 non-null  object \n",
      " 3   company_id        34615 non-null   float64\n",
      " 4   network_username  38867 non-null   object \n",
      "dtypes: float64(1), int64(1), object(3)\n",
      "memory usage: 8.6+ MB\n"
     ]
    },
    {
     "data": {
      "text/html": [
       "<div>\n",
       "<style scoped>\n",
       "    .dataframe tbody tr th:only-of-type {\n",
       "        vertical-align: middle;\n",
       "    }\n",
       "\n",
       "    .dataframe tbody tr th {\n",
       "        vertical-align: top;\n",
       "    }\n",
       "\n",
       "    .dataframe thead th {\n",
       "        text-align: right;\n",
       "    }\n",
       "</style>\n",
       "<table border=\"1\" class=\"dataframe\">\n",
       "  <thead>\n",
       "    <tr style=\"text-align: right;\">\n",
       "      <th></th>\n",
       "      <th>id</th>\n",
       "      <th>first_name</th>\n",
       "      <th>last_name</th>\n",
       "      <th>company_id</th>\n",
       "      <th>network_username</th>\n",
       "    </tr>\n",
       "  </thead>\n",
       "  <tbody>\n",
       "    <tr>\n",
       "      <th>0</th>\n",
       "      <td>10</td>\n",
       "      <td>Mark</td>\n",
       "      <td>Zuckerberg</td>\n",
       "      <td>5.0</td>\n",
       "      <td>NaN</td>\n",
       "    </tr>\n",
       "    <tr>\n",
       "      <th>1</th>\n",
       "      <td>100</td>\n",
       "      <td>Peter</td>\n",
       "      <td>Lester</td>\n",
       "      <td>27.0</td>\n",
       "      <td>NaN</td>\n",
       "    </tr>\n",
       "    <tr>\n",
       "      <th>2</th>\n",
       "      <td>1000</td>\n",
       "      <td>Dr. Steven</td>\n",
       "      <td>E. Saunders</td>\n",
       "      <td>292.0</td>\n",
       "      <td>NaN</td>\n",
       "    </tr>\n",
       "    <tr>\n",
       "      <th>3</th>\n",
       "      <td>10000</td>\n",
       "      <td>Neil</td>\n",
       "      <td>Capel</td>\n",
       "      <td>2526.0</td>\n",
       "      <td>NaN</td>\n",
       "    </tr>\n",
       "    <tr>\n",
       "      <th>4</th>\n",
       "      <td>100000</td>\n",
       "      <td>Sue</td>\n",
       "      <td>Pilsch</td>\n",
       "      <td>NaN</td>\n",
       "      <td>NaN</td>\n",
       "    </tr>\n",
       "  </tbody>\n",
       "</table>\n",
       "</div>"
      ],
      "text/plain": [
       "       id  first_name    last_name  company_id network_username\n",
       "0      10        Mark   Zuckerberg         5.0              NaN\n",
       "1     100       Peter       Lester        27.0              NaN\n",
       "2    1000  Dr. Steven  E. Saunders       292.0              NaN\n",
       "3   10000        Neil        Capel      2526.0              NaN\n",
       "4  100000         Sue       Pilsch         NaN              NaN"
      ]
     },
     "execution_count": 5,
     "metadata": {},
     "output_type": "execute_result"
    }
   ],
   "source": [
    "# Рассмотрим информацию о датасете people.csv\n",
    "ppl_df.info()\n",
    "ppl_df.head()"
   ]
  },
  {
   "cell_type": "code",
   "execution_count": 6,
   "metadata": {
    "colab": {
     "base_uri": "https://localhost:8080/"
    },
    "id": "W_W4jRazrJg0",
    "outputId": "d2409aad-233f-4bb4-ec71-7da96594f9df",
    "scrolled": false,
    "vscode": {
     "languageId": "plaintext"
    }
   },
   "outputs": [
    {
     "name": "stdout",
     "output_type": "stream",
     "text": [
      "<class 'pandas.core.frame.DataFrame'>\n",
      "RangeIndex: 109610 entries, 0 to 109609\n",
      "Data columns (total 4 columns):\n",
      " #   Column        Non-Null Count   Dtype \n",
      "---  ------        --------------   ----- \n",
      " 0   id            109610 non-null  int64 \n",
      " 1   person_id     109610 non-null  int64 \n",
      " 2   instituition  109555 non-null  object\n",
      " 3   graduated_at  58054 non-null   object\n",
      "dtypes: int64(2), object(2)\n",
      "memory usage: 3.3+ MB\n"
     ]
    },
    {
     "data": {
      "text/html": [
       "<div>\n",
       "<style scoped>\n",
       "    .dataframe tbody tr th:only-of-type {\n",
       "        vertical-align: middle;\n",
       "    }\n",
       "\n",
       "    .dataframe tbody tr th {\n",
       "        vertical-align: top;\n",
       "    }\n",
       "\n",
       "    .dataframe thead th {\n",
       "        text-align: right;\n",
       "    }\n",
       "</style>\n",
       "<table border=\"1\" class=\"dataframe\">\n",
       "  <thead>\n",
       "    <tr style=\"text-align: right;\">\n",
       "      <th></th>\n",
       "      <th>id</th>\n",
       "      <th>person_id</th>\n",
       "      <th>instituition</th>\n",
       "      <th>graduated_at</th>\n",
       "    </tr>\n",
       "  </thead>\n",
       "  <tbody>\n",
       "    <tr>\n",
       "      <th>0</th>\n",
       "      <td>1</td>\n",
       "      <td>6117</td>\n",
       "      <td>NaN</td>\n",
       "      <td>NaN</td>\n",
       "    </tr>\n",
       "    <tr>\n",
       "      <th>1</th>\n",
       "      <td>2</td>\n",
       "      <td>6136</td>\n",
       "      <td>Washington University, St. Louis</td>\n",
       "      <td>1990-01-01</td>\n",
       "    </tr>\n",
       "    <tr>\n",
       "      <th>2</th>\n",
       "      <td>3</td>\n",
       "      <td>6136</td>\n",
       "      <td>Boston University</td>\n",
       "      <td>1992-01-01</td>\n",
       "    </tr>\n",
       "    <tr>\n",
       "      <th>3</th>\n",
       "      <td>4</td>\n",
       "      <td>6005</td>\n",
       "      <td>University of Greenwich</td>\n",
       "      <td>2006-01-01</td>\n",
       "    </tr>\n",
       "    <tr>\n",
       "      <th>4</th>\n",
       "      <td>5</td>\n",
       "      <td>5832</td>\n",
       "      <td>Rice University</td>\n",
       "      <td>NaN</td>\n",
       "    </tr>\n",
       "  </tbody>\n",
       "</table>\n",
       "</div>"
      ],
      "text/plain": [
       "   id  person_id                      instituition graduated_at\n",
       "0   1       6117                               NaN          NaN\n",
       "1   2       6136  Washington University, St. Louis   1990-01-01\n",
       "2   3       6136                 Boston University   1992-01-01\n",
       "3   4       6005           University of Greenwich   2006-01-01\n",
       "4   5       5832                   Rice University          NaN"
      ]
     },
     "execution_count": 6,
     "metadata": {},
     "output_type": "execute_result"
    }
   ],
   "source": [
    "# Рассмотрим информацию о датасете education.csv\n",
    "education_df.info()\n",
    "education_df.head()"
   ]
  },
  {
   "cell_type": "markdown",
   "metadata": {
    "id": "2Tm4Pk__Felf"
   },
   "source": [
    "**Снизить разрядность первых столбцов, привести столбец с датами к корректному типу данных**"
   ]
  },
  {
   "cell_type": "code",
   "execution_count": 7,
   "metadata": {},
   "outputs": [
    {
     "name": "stdout",
     "output_type": "stream",
     "text": [
      "<class 'pandas.core.frame.DataFrame'>\n",
      "RangeIndex: 109610 entries, 0 to 109609\n",
      "Data columns (total 4 columns):\n",
      " #   Column       Non-Null Count   Dtype \n",
      "---  ------       --------------   ----- \n",
      " 0   id           109610 non-null  int64 \n",
      " 1   object_id    109610 non-null  object\n",
      " 2   degree_type  98392 non-null   object\n",
      " 3   subject      81298 non-null   object\n",
      "dtypes: int64(1), object(3)\n",
      "memory usage: 3.3+ MB\n"
     ]
    },
    {
     "data": {
      "text/html": [
       "<div>\n",
       "<style scoped>\n",
       "    .dataframe tbody tr th:only-of-type {\n",
       "        vertical-align: middle;\n",
       "    }\n",
       "\n",
       "    .dataframe tbody tr th {\n",
       "        vertical-align: top;\n",
       "    }\n",
       "\n",
       "    .dataframe thead th {\n",
       "        text-align: right;\n",
       "    }\n",
       "</style>\n",
       "<table border=\"1\" class=\"dataframe\">\n",
       "  <thead>\n",
       "    <tr style=\"text-align: right;\">\n",
       "      <th></th>\n",
       "      <th>id</th>\n",
       "      <th>object_id</th>\n",
       "      <th>degree_type</th>\n",
       "      <th>subject</th>\n",
       "    </tr>\n",
       "  </thead>\n",
       "  <tbody>\n",
       "    <tr>\n",
       "      <th>0</th>\n",
       "      <td>1</td>\n",
       "      <td>p:6117</td>\n",
       "      <td>MBA</td>\n",
       "      <td>NaN</td>\n",
       "    </tr>\n",
       "    <tr>\n",
       "      <th>1</th>\n",
       "      <td>2</td>\n",
       "      <td>p:6136</td>\n",
       "      <td>BA</td>\n",
       "      <td>English, French</td>\n",
       "    </tr>\n",
       "    <tr>\n",
       "      <th>2</th>\n",
       "      <td>3</td>\n",
       "      <td>p:6136</td>\n",
       "      <td>MS</td>\n",
       "      <td>Mass Communication</td>\n",
       "    </tr>\n",
       "    <tr>\n",
       "      <th>3</th>\n",
       "      <td>4</td>\n",
       "      <td>p:6005</td>\n",
       "      <td>MS</td>\n",
       "      <td>Internet Technology</td>\n",
       "    </tr>\n",
       "    <tr>\n",
       "      <th>4</th>\n",
       "      <td>5</td>\n",
       "      <td>p:5832</td>\n",
       "      <td>BCS</td>\n",
       "      <td>Computer Science, Psychology</td>\n",
       "    </tr>\n",
       "  </tbody>\n",
       "</table>\n",
       "</div>"
      ],
      "text/plain": [
       "   id object_id degree_type                       subject\n",
       "0   1    p:6117         MBA                           NaN\n",
       "1   2    p:6136          BA               English, French\n",
       "2   3    p:6136          MS            Mass Communication\n",
       "3   4    p:6005          MS           Internet Technology\n",
       "4   5    p:5832         BCS  Computer Science, Psychology"
      ]
     },
     "execution_count": 7,
     "metadata": {},
     "output_type": "execute_result"
    }
   ],
   "source": [
    "# Рассмотрим информацию о датасете degrees.csv\n",
    "degrees_df.info()\n",
    "degrees_df.head()"
   ]
  },
  {
   "cell_type": "markdown",
   "metadata": {
    "id": "2Tm4Pk__Felf"
   },
   "source": [
    "**Снизить разрядность первого столбца**"
   ]
  },
  {
   "cell_type": "markdown",
   "metadata": {
    "id": "mg2gEwh0rJg0"
   },
   "source": [
    "### 1.2. Смена типов и анализ пропусков\n",
    "\n",
    "- Обработайте типы данных в столбцах, которые хранят значения даты и времени, если это необходимо.\n",
    "- Оцените полноту данных — сделайте предварительный вывод, достаточно ли данных для решения задач проекта."
   ]
  },
  {
   "cell_type": "markdown",
   "metadata": {},
   "source": [
    "Заменим пробелы на нижние подчеркивание в названиях столбцов в датасете company_and_rounds.\n"
   ]
  },
  {
   "cell_type": "code",
   "execution_count": 8,
   "metadata": {},
   "outputs": [
    {
     "data": {
      "text/plain": [
       "Index(['company  ID', 'name', 'category  code', 'status', 'founded  at',\n",
       "       'closed  at', 'domain', 'network  username', 'country  code',\n",
       "       'investment  rounds', 'funding  rounds', 'funding  total', 'milestones',\n",
       "       'funding  round  id', 'company  id', 'funded  at',\n",
       "       'funding  round  type', 'raised  amount', 'pre  money  valuation',\n",
       "       'participants', 'is  first  round', 'is  last  round'],\n",
       "      dtype='object')"
      ]
     },
     "execution_count": 8,
     "metadata": {},
     "output_type": "execute_result"
    }
   ],
   "source": [
    "car_df.columns"
   ]
  },
  {
   "cell_type": "code",
   "execution_count": 9,
   "metadata": {
    "scrolled": true
   },
   "outputs": [
    {
     "data": {
      "text/plain": [
       "Index(['company_ID', 'name', 'category_code', 'status', 'founded_at',\n",
       "       'closed_at', 'domain', 'network_username', 'country_code',\n",
       "       'investment_rounds', 'funding_rounds', 'funding_total', 'milestones',\n",
       "       'funding_round_id', 'company_id', 'funded_at', 'funding_round_type',\n",
       "       'raised_amount', 'pre_money_valuation', 'participants',\n",
       "       'is_first_round', 'is_last_round'],\n",
       "      dtype='object')"
      ]
     },
     "execution_count": 9,
     "metadata": {},
     "output_type": "execute_result"
    }
   ],
   "source": [
    "# Заменяем двойные пробелы на подчеркивания\n",
    "car_df.columns = car_df.columns.str.replace('  ',' ').str.replace(' ','_')\n",
    "car_df.columns"
   ]
  },
  {
   "cell_type": "markdown",
   "metadata": {},
   "source": [
    "Поменяем в датасетах тип данных у столбцов, содержащих дату:"
   ]
  },
  {
   "cell_type": "code",
   "execution_count": 10,
   "metadata": {},
   "outputs": [
    {
     "name": "stdout",
     "output_type": "stream",
     "text": [
      "<class 'pandas.core.frame.DataFrame'>\n",
      "RangeIndex: 217774 entries, 0 to 217773\n",
      "Data columns (total 22 columns):\n",
      " #   Column               Non-Null Count   Dtype         \n",
      "---  ------               --------------   -----         \n",
      " 0   company_ID           217472 non-null  float64       \n",
      " 1   name                 217472 non-null  object        \n",
      " 2   category_code        143886 non-null  object        \n",
      " 3   status               217472 non-null  object        \n",
      " 4   founded_at           109956 non-null  datetime64[ns]\n",
      " 5   closed_at            3449 non-null    datetime64[ns]\n",
      " 6   domain               147159 non-null  object        \n",
      " 7   network_username     95534 non-null   object        \n",
      " 8   country_code         108607 non-null  object        \n",
      " 9   investment_rounds    217472 non-null  float64       \n",
      " 10  funding_rounds       217472 non-null  float64       \n",
      " 11  funding_total        217472 non-null  float64       \n",
      " 12  milestones           217472 non-null  float64       \n",
      " 13  funding_round_id     52928 non-null   float64       \n",
      " 14  company_id           52928 non-null   float64       \n",
      " 15  funded_at            52680 non-null   datetime64[ns]\n",
      " 16  funding_round_type   52928 non-null   object        \n",
      " 17  raised_amount        52928 non-null   float64       \n",
      " 18  pre_money_valuation  52928 non-null   float64       \n",
      " 19  participants         52928 non-null   float64       \n",
      " 20  is_first_round       52928 non-null   float64       \n",
      " 21  is_last_round        52928 non-null   float64       \n",
      "dtypes: datetime64[ns](3), float64(12), object(7)\n",
      "memory usage: 36.6+ MB\n"
     ]
    }
   ],
   "source": [
    "# Приводим столбцы с датой в датасете company_and_rounds к корректному типу данных \n",
    "for column in car_df[['founded_at','closed_at','funded_at']]:\n",
    "    car_df[column] = pd.to_datetime(car_df[column],format = '%Y-%m-%d')\n",
    "car_df.info()"
   ]
  },
  {
   "cell_type": "code",
   "execution_count": 11,
   "metadata": {},
   "outputs": [
    {
     "name": "stdout",
     "output_type": "stream",
     "text": [
      "<class 'pandas.core.frame.DataFrame'>\n",
      "RangeIndex: 9407 entries, 0 to 9406\n",
      "Data columns (total 6 columns):\n",
      " #   Column                Non-Null Count  Dtype         \n",
      "---  ------                --------------  -----         \n",
      " 0   id                    9407 non-null   int64         \n",
      " 1   acquiring_company_id  9407 non-null   int64         \n",
      " 2   acquired_company_id   9407 non-null   int64         \n",
      " 3   term_code             1831 non-null   object        \n",
      " 4   price_amount          9407 non-null   int64         \n",
      " 5   acquired_at           9378 non-null   datetime64[ns]\n",
      "dtypes: datetime64[ns](1), int64(4), object(1)\n",
      "memory usage: 441.1+ KB\n"
     ]
    }
   ],
   "source": [
    "# Приводим столбцы с датой в датасете acquisition к корректному типу данных \n",
    "for column in acq_df[['acquired_at']]:\n",
    "    acq_df[column] = pd.to_datetime(acq_df[column],format = '%Y-%m-%d')\n",
    "acq_df.info()"
   ]
  },
  {
   "cell_type": "code",
   "execution_count": 12,
   "metadata": {},
   "outputs": [
    {
     "name": "stdout",
     "output_type": "stream",
     "text": [
      "<class 'pandas.core.frame.DataFrame'>\n",
      "RangeIndex: 109610 entries, 0 to 109609\n",
      "Data columns (total 4 columns):\n",
      " #   Column        Non-Null Count   Dtype         \n",
      "---  ------        --------------   -----         \n",
      " 0   id            109610 non-null  int64         \n",
      " 1   person_id     109610 non-null  int64         \n",
      " 2   instituition  109555 non-null  object        \n",
      " 3   graduated_at  58054 non-null   datetime64[ns]\n",
      "dtypes: datetime64[ns](1), int64(2), object(1)\n",
      "memory usage: 3.3+ MB\n"
     ]
    }
   ],
   "source": [
    "# Приводим столбцы с датой в датасете education к корректному типу данных \n",
    "for column in education_df[['graduated_at']]:\n",
    "    education_df[column] = pd.to_datetime(education_df[column],format = '%Y-%m-%d')\n",
    "education_df.info()"
   ]
  },
  {
   "cell_type": "markdown",
   "metadata": {},
   "source": [
    "___\n",
    "Количество отсутствующих данных умеренное. Только в датасете `company_and_rounds` 9 столбцов заполнены примерно на 1/4 от всех строк датасета. Столбец `closed_at` в этом же датасете хранит  информацию о закрытии компании и пропуски в ней могут говорить о том, что компании ещё не закрылись. В некоторых датасетах количество пропусков незначительно, в других присутствуют столбцы с отсутствующими значениями больше 50% от всех строк. В целом, провести анализ по такому количеству имеющихся данных возможно. Но результат анализа таких данных может быть неоднозначным.\n",
    "___"
   ]
  },
  {
   "cell_type": "markdown",
   "metadata": {
    "id": "u60cHsn6rJg1"
   },
   "source": [
    "<a id='2'></a>\n",
    "## Шаг 2. Предобработка данных, предварительное исследование"
   ]
  },
  {
   "cell_type": "markdown",
   "metadata": {
    "id": "g2bHIIjcrJg1"
   },
   "source": [
    "\n",
    "### 2.1. Раунды финансирования по годам\n",
    "\n",
    "Задание необходимо выполнить без объединения и дополнительной предобработки на основе датасета `company_and_rounds.csv`.\n",
    "\n",
    "- Составьте сводную таблицу по годам, в которой на основании столбца `raised_amount` для каждого года указан:\n",
    "    - типичный размер средств, выделяемый в рамках одного раунда;\n",
    "    - общее количество раундов финансирования за этот год.\n",
    "    \n",
    "- Оставьте в таблице информацию только для тех лет, для которых есть информация о более чем 50 раундах финансирования.\n",
    "- На основе получившейся таблицы постройте график, который будет отражать динамику типичного размера средств, которые стартапы получали в рамках одного раунда финансирования.\n",
    "\n",
    "На основе полученных данных ответьте на вопросы:\n",
    "\n",
    "- В каком году типичный размер собранных в рамках одного раунда средств был максимален?\n",
    "- Какая тенденция по количеству раундов и выделяемых в рамках каждого раунда средств наблюдалась в 2013 году?"
   ]
  },
  {
   "cell_type": "code",
   "execution_count": 13,
   "metadata": {
    "id": "Cf5IjfOQrJg1",
    "vscode": {
     "languageId": "plaintext"
    }
   },
   "outputs": [
    {
     "data": {
      "text/html": [
       "<div>\n",
       "<style scoped>\n",
       "    .dataframe tbody tr th:only-of-type {\n",
       "        vertical-align: middle;\n",
       "    }\n",
       "\n",
       "    .dataframe tbody tr th {\n",
       "        vertical-align: top;\n",
       "    }\n",
       "\n",
       "    .dataframe thead th {\n",
       "        text-align: right;\n",
       "    }\n",
       "</style>\n",
       "<table border=\"1\" class=\"dataframe\">\n",
       "  <thead>\n",
       "    <tr style=\"text-align: right;\">\n",
       "      <th></th>\n",
       "      <th>company_ID</th>\n",
       "      <th>name</th>\n",
       "      <th>category_code</th>\n",
       "      <th>status</th>\n",
       "      <th>founded_at</th>\n",
       "      <th>closed_at</th>\n",
       "      <th>domain</th>\n",
       "      <th>network_username</th>\n",
       "      <th>country_code</th>\n",
       "      <th>investment_rounds</th>\n",
       "      <th>...</th>\n",
       "      <th>milestones</th>\n",
       "      <th>funding_round_id</th>\n",
       "      <th>company_id</th>\n",
       "      <th>funded_at</th>\n",
       "      <th>funding_round_type</th>\n",
       "      <th>raised_amount</th>\n",
       "      <th>pre_money_valuation</th>\n",
       "      <th>participants</th>\n",
       "      <th>is_first_round</th>\n",
       "      <th>is_last_round</th>\n",
       "    </tr>\n",
       "  </thead>\n",
       "  <tbody>\n",
       "    <tr>\n",
       "      <th>0</th>\n",
       "      <td>1.0</td>\n",
       "      <td>Wetpaint</td>\n",
       "      <td>web</td>\n",
       "      <td>operating</td>\n",
       "      <td>2005-10-17</td>\n",
       "      <td>NaT</td>\n",
       "      <td>wetpaint-inc.com</td>\n",
       "      <td>BachelrWetpaint</td>\n",
       "      <td>USA</td>\n",
       "      <td>0.0</td>\n",
       "      <td>...</td>\n",
       "      <td>5.0</td>\n",
       "      <td>888.0</td>\n",
       "      <td>1.0</td>\n",
       "      <td>2005-10-01</td>\n",
       "      <td>series-a</td>\n",
       "      <td>5250000.0</td>\n",
       "      <td>0.0</td>\n",
       "      <td>2.0</td>\n",
       "      <td>0.0</td>\n",
       "      <td>1.0</td>\n",
       "    </tr>\n",
       "    <tr>\n",
       "      <th>1</th>\n",
       "      <td>1.0</td>\n",
       "      <td>Wetpaint</td>\n",
       "      <td>web</td>\n",
       "      <td>operating</td>\n",
       "      <td>2005-10-17</td>\n",
       "      <td>NaT</td>\n",
       "      <td>wetpaint-inc.com</td>\n",
       "      <td>BachelrWetpaint</td>\n",
       "      <td>USA</td>\n",
       "      <td>0.0</td>\n",
       "      <td>...</td>\n",
       "      <td>5.0</td>\n",
       "      <td>889.0</td>\n",
       "      <td>1.0</td>\n",
       "      <td>2007-01-01</td>\n",
       "      <td>series-b</td>\n",
       "      <td>9500000.0</td>\n",
       "      <td>0.0</td>\n",
       "      <td>3.0</td>\n",
       "      <td>0.0</td>\n",
       "      <td>0.0</td>\n",
       "    </tr>\n",
       "    <tr>\n",
       "      <th>2</th>\n",
       "      <td>1.0</td>\n",
       "      <td>Wetpaint</td>\n",
       "      <td>web</td>\n",
       "      <td>operating</td>\n",
       "      <td>2005-10-17</td>\n",
       "      <td>NaT</td>\n",
       "      <td>wetpaint-inc.com</td>\n",
       "      <td>BachelrWetpaint</td>\n",
       "      <td>USA</td>\n",
       "      <td>0.0</td>\n",
       "      <td>...</td>\n",
       "      <td>5.0</td>\n",
       "      <td>2312.0</td>\n",
       "      <td>1.0</td>\n",
       "      <td>2008-05-19</td>\n",
       "      <td>series-c+</td>\n",
       "      <td>25000000.0</td>\n",
       "      <td>0.0</td>\n",
       "      <td>4.0</td>\n",
       "      <td>1.0</td>\n",
       "      <td>0.0</td>\n",
       "    </tr>\n",
       "    <tr>\n",
       "      <th>3</th>\n",
       "      <td>10.0</td>\n",
       "      <td>Flektor</td>\n",
       "      <td>games_video</td>\n",
       "      <td>acquired</td>\n",
       "      <td>NaT</td>\n",
       "      <td>NaT</td>\n",
       "      <td>flektor.com</td>\n",
       "      <td>NaN</td>\n",
       "      <td>USA</td>\n",
       "      <td>0.0</td>\n",
       "      <td>...</td>\n",
       "      <td>0.0</td>\n",
       "      <td>NaN</td>\n",
       "      <td>NaN</td>\n",
       "      <td>NaT</td>\n",
       "      <td>NaN</td>\n",
       "      <td>NaN</td>\n",
       "      <td>NaN</td>\n",
       "      <td>NaN</td>\n",
       "      <td>NaN</td>\n",
       "      <td>NaN</td>\n",
       "    </tr>\n",
       "    <tr>\n",
       "      <th>4</th>\n",
       "      <td>100.0</td>\n",
       "      <td>There</td>\n",
       "      <td>games_video</td>\n",
       "      <td>acquired</td>\n",
       "      <td>NaT</td>\n",
       "      <td>NaT</td>\n",
       "      <td>there.com</td>\n",
       "      <td>NaN</td>\n",
       "      <td>USA</td>\n",
       "      <td>0.0</td>\n",
       "      <td>...</td>\n",
       "      <td>4.0</td>\n",
       "      <td>NaN</td>\n",
       "      <td>NaN</td>\n",
       "      <td>NaT</td>\n",
       "      <td>NaN</td>\n",
       "      <td>NaN</td>\n",
       "      <td>NaN</td>\n",
       "      <td>NaN</td>\n",
       "      <td>NaN</td>\n",
       "      <td>NaN</td>\n",
       "    </tr>\n",
       "  </tbody>\n",
       "</table>\n",
       "<p>5 rows × 22 columns</p>\n",
       "</div>"
      ],
      "text/plain": [
       "   company_ID      name category_code     status founded_at closed_at  \\\n",
       "0         1.0  Wetpaint           web  operating 2005-10-17       NaT   \n",
       "1         1.0  Wetpaint           web  operating 2005-10-17       NaT   \n",
       "2         1.0  Wetpaint           web  operating 2005-10-17       NaT   \n",
       "3        10.0   Flektor   games_video   acquired        NaT       NaT   \n",
       "4       100.0     There   games_video   acquired        NaT       NaT   \n",
       "\n",
       "             domain network_username country_code  investment_rounds  ...  \\\n",
       "0  wetpaint-inc.com  BachelrWetpaint          USA                0.0  ...   \n",
       "1  wetpaint-inc.com  BachelrWetpaint          USA                0.0  ...   \n",
       "2  wetpaint-inc.com  BachelrWetpaint          USA                0.0  ...   \n",
       "3       flektor.com              NaN          USA                0.0  ...   \n",
       "4         there.com              NaN          USA                0.0  ...   \n",
       "\n",
       "   milestones  funding_round_id  company_id  funded_at  funding_round_type  \\\n",
       "0         5.0             888.0         1.0 2005-10-01            series-a   \n",
       "1         5.0             889.0         1.0 2007-01-01            series-b   \n",
       "2         5.0            2312.0         1.0 2008-05-19           series-c+   \n",
       "3         0.0               NaN         NaN        NaT                 NaN   \n",
       "4         4.0               NaN         NaN        NaT                 NaN   \n",
       "\n",
       "  raised_amount pre_money_valuation  participants  is_first_round  \\\n",
       "0     5250000.0                 0.0           2.0             0.0   \n",
       "1     9500000.0                 0.0           3.0             0.0   \n",
       "2    25000000.0                 0.0           4.0             1.0   \n",
       "3           NaN                 NaN           NaN             NaN   \n",
       "4           NaN                 NaN           NaN             NaN   \n",
       "\n",
       "   is_last_round  \n",
       "0            1.0  \n",
       "1            0.0  \n",
       "2            0.0  \n",
       "3            NaN  \n",
       "4            NaN  \n",
       "\n",
       "[5 rows x 22 columns]"
      ]
     },
     "execution_count": 13,
     "metadata": {},
     "output_type": "execute_result"
    }
   ],
   "source": [
    "# Выведем первые строки датасета\n",
    "car_df.head()"
   ]
  },
  {
   "cell_type": "code",
   "execution_count": 14,
   "metadata": {
    "id": "8Fbz6KmzFdYP"
   },
   "outputs": [
    {
     "data": {
      "text/html": [
       "<div>\n",
       "<style scoped>\n",
       "    .dataframe tbody tr th:only-of-type {\n",
       "        vertical-align: middle;\n",
       "    }\n",
       "\n",
       "    .dataframe tbody tr th {\n",
       "        vertical-align: top;\n",
       "    }\n",
       "\n",
       "    .dataframe thead tr th {\n",
       "        text-align: left;\n",
       "    }\n",
       "\n",
       "    .dataframe thead tr:last-of-type th {\n",
       "        text-align: right;\n",
       "    }\n",
       "</style>\n",
       "<table border=\"1\" class=\"dataframe\">\n",
       "  <thead>\n",
       "    <tr>\n",
       "      <th></th>\n",
       "      <th colspan=\"2\" halign=\"left\">raised_amount</th>\n",
       "    </tr>\n",
       "    <tr>\n",
       "      <th></th>\n",
       "      <th>count</th>\n",
       "      <th>median</th>\n",
       "    </tr>\n",
       "    <tr>\n",
       "      <th>funded_at</th>\n",
       "      <th></th>\n",
       "      <th></th>\n",
       "    </tr>\n",
       "  </thead>\n",
       "  <tbody>\n",
       "    <tr>\n",
       "      <th>1960.0</th>\n",
       "      <td>9</td>\n",
       "      <td>0.0</td>\n",
       "    </tr>\n",
       "    <tr>\n",
       "      <th>1973.0</th>\n",
       "      <td>1</td>\n",
       "      <td>0.0</td>\n",
       "    </tr>\n",
       "    <tr>\n",
       "      <th>1974.0</th>\n",
       "      <td>2</td>\n",
       "      <td>0.0</td>\n",
       "    </tr>\n",
       "    <tr>\n",
       "      <th>1984.0</th>\n",
       "      <td>3</td>\n",
       "      <td>41000.0</td>\n",
       "    </tr>\n",
       "    <tr>\n",
       "      <th>1985.0</th>\n",
       "      <td>1</td>\n",
       "      <td>0.0</td>\n",
       "    </tr>\n",
       "    <tr>\n",
       "      <th>1987.0</th>\n",
       "      <td>2</td>\n",
       "      <td>1250000.0</td>\n",
       "    </tr>\n",
       "    <tr>\n",
       "      <th>1989.0</th>\n",
       "      <td>1</td>\n",
       "      <td>15000.0</td>\n",
       "    </tr>\n",
       "    <tr>\n",
       "      <th>1990.0</th>\n",
       "      <td>1</td>\n",
       "      <td>1000000.0</td>\n",
       "    </tr>\n",
       "    <tr>\n",
       "      <th>1992.0</th>\n",
       "      <td>1</td>\n",
       "      <td>2000000.0</td>\n",
       "    </tr>\n",
       "    <tr>\n",
       "      <th>1993.0</th>\n",
       "      <td>2</td>\n",
       "      <td>62500.0</td>\n",
       "    </tr>\n",
       "    <tr>\n",
       "      <th>1994.0</th>\n",
       "      <td>2</td>\n",
       "      <td>6700000.0</td>\n",
       "    </tr>\n",
       "    <tr>\n",
       "      <th>1995.0</th>\n",
       "      <td>7</td>\n",
       "      <td>2000000.0</td>\n",
       "    </tr>\n",
       "    <tr>\n",
       "      <th>1996.0</th>\n",
       "      <td>7</td>\n",
       "      <td>12500.0</td>\n",
       "    </tr>\n",
       "    <tr>\n",
       "      <th>1997.0</th>\n",
       "      <td>9</td>\n",
       "      <td>3300000.0</td>\n",
       "    </tr>\n",
       "    <tr>\n",
       "      <th>1998.0</th>\n",
       "      <td>29</td>\n",
       "      <td>100000.0</td>\n",
       "    </tr>\n",
       "    <tr>\n",
       "      <th>1999.0</th>\n",
       "      <td>76</td>\n",
       "      <td>2000000.0</td>\n",
       "    </tr>\n",
       "    <tr>\n",
       "      <th>2000.0</th>\n",
       "      <td>125</td>\n",
       "      <td>4200000.0</td>\n",
       "    </tr>\n",
       "    <tr>\n",
       "      <th>2001.0</th>\n",
       "      <td>96</td>\n",
       "      <td>3000000.0</td>\n",
       "    </tr>\n",
       "    <tr>\n",
       "      <th>2002.0</th>\n",
       "      <td>116</td>\n",
       "      <td>4200000.0</td>\n",
       "    </tr>\n",
       "    <tr>\n",
       "      <th>2003.0</th>\n",
       "      <td>159</td>\n",
       "      <td>3000000.0</td>\n",
       "    </tr>\n",
       "    <tr>\n",
       "      <th>2004.0</th>\n",
       "      <td>291</td>\n",
       "      <td>5000000.0</td>\n",
       "    </tr>\n",
       "    <tr>\n",
       "      <th>2005.0</th>\n",
       "      <td>1633</td>\n",
       "      <td>5500000.0</td>\n",
       "    </tr>\n",
       "    <tr>\n",
       "      <th>2006.0</th>\n",
       "      <td>2436</td>\n",
       "      <td>5000000.0</td>\n",
       "    </tr>\n",
       "    <tr>\n",
       "      <th>2007.0</th>\n",
       "      <td>3279</td>\n",
       "      <td>3973320.0</td>\n",
       "    </tr>\n",
       "    <tr>\n",
       "      <th>2008.0</th>\n",
       "      <td>3774</td>\n",
       "      <td>3110000.0</td>\n",
       "    </tr>\n",
       "    <tr>\n",
       "      <th>2009.0</th>\n",
       "      <td>4151</td>\n",
       "      <td>2000000.0</td>\n",
       "    </tr>\n",
       "    <tr>\n",
       "      <th>2010.0</th>\n",
       "      <td>6221</td>\n",
       "      <td>1602500.0</td>\n",
       "    </tr>\n",
       "    <tr>\n",
       "      <th>2011.0</th>\n",
       "      <td>9204</td>\n",
       "      <td>1200000.0</td>\n",
       "    </tr>\n",
       "    <tr>\n",
       "      <th>2012.0</th>\n",
       "      <td>9970</td>\n",
       "      <td>1000000.0</td>\n",
       "    </tr>\n",
       "    <tr>\n",
       "      <th>2013.0</th>\n",
       "      <td>11072</td>\n",
       "      <td>1200000.0</td>\n",
       "    </tr>\n",
       "  </tbody>\n",
       "</table>\n",
       "</div>"
      ],
      "text/plain": [
       "          raised_amount           \n",
       "                  count     median\n",
       "funded_at                         \n",
       "1960.0                9        0.0\n",
       "1973.0                1        0.0\n",
       "1974.0                2        0.0\n",
       "1984.0                3    41000.0\n",
       "1985.0                1        0.0\n",
       "1987.0                2  1250000.0\n",
       "1989.0                1    15000.0\n",
       "1990.0                1  1000000.0\n",
       "1992.0                1  2000000.0\n",
       "1993.0                2    62500.0\n",
       "1994.0                2  6700000.0\n",
       "1995.0                7  2000000.0\n",
       "1996.0                7    12500.0\n",
       "1997.0                9  3300000.0\n",
       "1998.0               29   100000.0\n",
       "1999.0               76  2000000.0\n",
       "2000.0              125  4200000.0\n",
       "2001.0               96  3000000.0\n",
       "2002.0              116  4200000.0\n",
       "2003.0              159  3000000.0\n",
       "2004.0              291  5000000.0\n",
       "2005.0             1633  5500000.0\n",
       "2006.0             2436  5000000.0\n",
       "2007.0             3279  3973320.0\n",
       "2008.0             3774  3110000.0\n",
       "2009.0             4151  2000000.0\n",
       "2010.0             6221  1602500.0\n",
       "2011.0             9204  1200000.0\n",
       "2012.0             9970  1000000.0\n",
       "2013.0            11072  1200000.0"
      ]
     },
     "execution_count": 14,
     "metadata": {},
     "output_type": "execute_result"
    }
   ],
   "source": [
    "# Создадим сводную таблицу с количество инвестиционных ранудов  и объемом финансирования\n",
    "pivot = car_df.pivot_table(index = car_df['funded_at'].dt.year, \n",
    "                           values = ['raised_amount','investment_rounds'],aggfunc = {'raised_amount':['median','count']})\n",
    "pivot"
   ]
  },
  {
   "cell_type": "code",
   "execution_count": 15,
   "metadata": {
    "scrolled": false
   },
   "outputs": [],
   "source": [
    "# Отбираем года, где было больше 50 инвестиционных раундов\n",
    "filltered_pivot = pivot[pivot['raised_amount']['count'] > 50]\n",
    "#filltered_pivot['invest_per_round'] = filltered_pivot['raised_amount']/filltered_pivot['investment_rounds']\n"
   ]
  },
  {
   "cell_type": "code",
   "execution_count": 16,
   "metadata": {},
   "outputs": [
    {
     "data": {
      "text/html": [
       "<div>\n",
       "<style scoped>\n",
       "    .dataframe tbody tr th:only-of-type {\n",
       "        vertical-align: middle;\n",
       "    }\n",
       "\n",
       "    .dataframe tbody tr th {\n",
       "        vertical-align: top;\n",
       "    }\n",
       "\n",
       "    .dataframe thead tr th {\n",
       "        text-align: left;\n",
       "    }\n",
       "\n",
       "    .dataframe thead tr:last-of-type th {\n",
       "        text-align: right;\n",
       "    }\n",
       "</style>\n",
       "<table border=\"1\" class=\"dataframe\">\n",
       "  <thead>\n",
       "    <tr>\n",
       "      <th></th>\n",
       "      <th colspan=\"2\" halign=\"left\">raised_amount</th>\n",
       "    </tr>\n",
       "    <tr>\n",
       "      <th></th>\n",
       "      <th>count</th>\n",
       "      <th>median</th>\n",
       "    </tr>\n",
       "    <tr>\n",
       "      <th>funded_at</th>\n",
       "      <th></th>\n",
       "      <th></th>\n",
       "    </tr>\n",
       "  </thead>\n",
       "  <tbody>\n",
       "    <tr>\n",
       "      <th>1999.0</th>\n",
       "      <td>76</td>\n",
       "      <td>2000000.0</td>\n",
       "    </tr>\n",
       "    <tr>\n",
       "      <th>2000.0</th>\n",
       "      <td>125</td>\n",
       "      <td>4200000.0</td>\n",
       "    </tr>\n",
       "    <tr>\n",
       "      <th>2001.0</th>\n",
       "      <td>96</td>\n",
       "      <td>3000000.0</td>\n",
       "    </tr>\n",
       "    <tr>\n",
       "      <th>2002.0</th>\n",
       "      <td>116</td>\n",
       "      <td>4200000.0</td>\n",
       "    </tr>\n",
       "    <tr>\n",
       "      <th>2003.0</th>\n",
       "      <td>159</td>\n",
       "      <td>3000000.0</td>\n",
       "    </tr>\n",
       "    <tr>\n",
       "      <th>2004.0</th>\n",
       "      <td>291</td>\n",
       "      <td>5000000.0</td>\n",
       "    </tr>\n",
       "    <tr>\n",
       "      <th>2005.0</th>\n",
       "      <td>1633</td>\n",
       "      <td>5500000.0</td>\n",
       "    </tr>\n",
       "    <tr>\n",
       "      <th>2006.0</th>\n",
       "      <td>2436</td>\n",
       "      <td>5000000.0</td>\n",
       "    </tr>\n",
       "    <tr>\n",
       "      <th>2007.0</th>\n",
       "      <td>3279</td>\n",
       "      <td>3973320.0</td>\n",
       "    </tr>\n",
       "    <tr>\n",
       "      <th>2008.0</th>\n",
       "      <td>3774</td>\n",
       "      <td>3110000.0</td>\n",
       "    </tr>\n",
       "    <tr>\n",
       "      <th>2009.0</th>\n",
       "      <td>4151</td>\n",
       "      <td>2000000.0</td>\n",
       "    </tr>\n",
       "    <tr>\n",
       "      <th>2010.0</th>\n",
       "      <td>6221</td>\n",
       "      <td>1602500.0</td>\n",
       "    </tr>\n",
       "    <tr>\n",
       "      <th>2011.0</th>\n",
       "      <td>9204</td>\n",
       "      <td>1200000.0</td>\n",
       "    </tr>\n",
       "    <tr>\n",
       "      <th>2012.0</th>\n",
       "      <td>9970</td>\n",
       "      <td>1000000.0</td>\n",
       "    </tr>\n",
       "    <tr>\n",
       "      <th>2013.0</th>\n",
       "      <td>11072</td>\n",
       "      <td>1200000.0</td>\n",
       "    </tr>\n",
       "  </tbody>\n",
       "</table>\n",
       "</div>"
      ],
      "text/plain": [
       "          raised_amount           \n",
       "                  count     median\n",
       "funded_at                         \n",
       "1999.0               76  2000000.0\n",
       "2000.0              125  4200000.0\n",
       "2001.0               96  3000000.0\n",
       "2002.0              116  4200000.0\n",
       "2003.0              159  3000000.0\n",
       "2004.0              291  5000000.0\n",
       "2005.0             1633  5500000.0\n",
       "2006.0             2436  5000000.0\n",
       "2007.0             3279  3973320.0\n",
       "2008.0             3774  3110000.0\n",
       "2009.0             4151  2000000.0\n",
       "2010.0             6221  1602500.0\n",
       "2011.0             9204  1200000.0\n",
       "2012.0             9970  1000000.0\n",
       "2013.0            11072  1200000.0"
      ]
     },
     "execution_count": 16,
     "metadata": {},
     "output_type": "execute_result"
    }
   ],
   "source": [
    "filltered_pivot"
   ]
  },
  {
   "cell_type": "code",
   "execution_count": 17,
   "metadata": {
    "id": "Z92DzKMMFdKW",
    "scrolled": false
   },
   "outputs": [
    {
     "data": {
      "image/png": "[encoded data removed]",
      "text/plain": [
       "<Figure size 720x432 with 1 Axes>"
      ]
     },
     "metadata": {
      "needs_background": "light"
     },
     "output_type": "display_data"
    }
   ],
   "source": [
    "# Создадим столбчатую диаграмму с объемами финансирования по годам\n",
    "filltered_pivot['raised_amount']['median'].plot(kind='bar',title='Как менялся размер средств финансирования стартапов',\n",
    "                               figsize=(10,6),\n",
    "                              xlabel='Год',\n",
    "                              rot = 0,\n",
    "                              ylabel='Сумма финансирования, $',\n",
    "                              legend=True,\n",
    "                                )\n",
    "\n",
    "plt.ticklabel_format(axis='y', style='plain') \n",
    "plt.tight_layout()\n",
    "plt.grid(axis='y')\n",
    "plt.show()"
   ]
  },
  {
   "cell_type": "code",
   "execution_count": 18,
   "metadata": {},
   "outputs": [],
   "source": [
    "new_filltered_pivot=filltered_pivot.reset_index()\n",
    "# Создадим скользящую среднюю для отображения на диаграмме\n",
    "new_filltered_pivot['moving_average'] = new_filltered_pivot['raised_amount']['median'].rolling(window=2).mean()"
   ]
  },
  {
   "cell_type": "code",
   "execution_count": 19,
   "metadata": {},
   "outputs": [
    {
     "data": {
      "text/plain": [
       "<matplotlib.legend.Legend at 0x7fa044036070>"
      ]
     },
     "execution_count": 19,
     "metadata": {},
     "output_type": "execute_result"
    },
    {
     "data": {
      "image/png": "[encoded data removed]",
      "text/plain": [
       "<Figure size 720x432 with 1 Axes>"
      ]
     },
     "metadata": {
      "needs_background": "light"
     },
     "output_type": "display_data"
    }
   ],
   "source": [
    "# Создадим схожий график, имеющий скользящую среднюю\n",
    "plt.figure(figsize=(10,6))\n",
    "plt.bar(new_filltered_pivot['funded_at'],new_filltered_pivot['raised_amount']['median'],label = 'Сумма финансирования, $')\n",
    "plt.plot(new_filltered_pivot['funded_at'],new_filltered_pivot['moving_average'],\n",
    "         color='red', marker='o', label='Скользящая средняя')\n",
    "\n",
    "plt.xlabel('Год')\n",
    "plt.ylabel('Сумма финансирования, $')\n",
    "plt.title('Как менялся размер средств финансирования стартапов')\n",
    "plt.ticklabel_format(axis='y', style='plain')\n",
    "plt.tight_layout()\n",
    "plt.grid(axis='y')\n",
    "plt.legend()"
   ]
  },
  {
   "cell_type": "markdown",
   "metadata": {},
   "source": [
    "___\n",
    "- В 2005 году был наибольший типичный  размер финансирования в рамках одного раунда - 5.500.000.0 долларов.\n",
    "- В 2007 году началась тенденция на сокрящение суммы финансирования. При этом количество инвестиционных раундов продолжало увеличиватся.\n",
    "- В рамках тенденции, в 2013 году типичный размер финанансирования увеличился на 20%, в сравнении с предыдущем годом. В 2012 году типичный размер финансирования состовлял 1.000.000 долларов, а в 2013 - 1.200.000 долларов.\n",
    "___"
   ]
  },
  {
   "cell_type": "markdown",
   "metadata": {
    "id": "45if1en1rJg2"
   },
   "source": [
    "\n",
    "### 2.2. Люди и их образование\n",
    "\n",
    "Заказчик хочет понять, зависит ли полнота сведений о сотрудниках (например, об их образовании) от размера компаний.\n",
    "\n",
    "- Оцените, насколько информация об образовании сотрудников полна. Используя датасеты `people.csv` и `education.csv`, разделите все компании на несколько групп по количеству сотрудников и оцените среднюю долю сотрудников без информации об образовании в каждой из групп. Обоснуйте выбранные границы групп.\n",
    "- Оцените, возможно ли для выполнения задания присоединить к этим таблицам ещё и таблицу `degrees.csv`."
   ]
  },
  {
   "cell_type": "code",
   "execution_count": 20,
   "metadata": {},
   "outputs": [
    {
     "data": {
      "text/html": [
       "<div>\n",
       "<style scoped>\n",
       "    .dataframe tbody tr th:only-of-type {\n",
       "        vertical-align: middle;\n",
       "    }\n",
       "\n",
       "    .dataframe tbody tr th {\n",
       "        vertical-align: top;\n",
       "    }\n",
       "\n",
       "    .dataframe thead th {\n",
       "        text-align: right;\n",
       "    }\n",
       "</style>\n",
       "<table border=\"1\" class=\"dataframe\">\n",
       "  <thead>\n",
       "    <tr style=\"text-align: right;\">\n",
       "      <th></th>\n",
       "      <th>id</th>\n",
       "      <th>first_name</th>\n",
       "      <th>last_name</th>\n",
       "      <th>company_id</th>\n",
       "      <th>network_username</th>\n",
       "    </tr>\n",
       "  </thead>\n",
       "  <tbody>\n",
       "    <tr>\n",
       "      <th>0</th>\n",
       "      <td>10</td>\n",
       "      <td>Mark</td>\n",
       "      <td>Zuckerberg</td>\n",
       "      <td>5.0</td>\n",
       "      <td>NaN</td>\n",
       "    </tr>\n",
       "    <tr>\n",
       "      <th>1</th>\n",
       "      <td>100</td>\n",
       "      <td>Peter</td>\n",
       "      <td>Lester</td>\n",
       "      <td>27.0</td>\n",
       "      <td>NaN</td>\n",
       "    </tr>\n",
       "    <tr>\n",
       "      <th>2</th>\n",
       "      <td>1000</td>\n",
       "      <td>Dr. Steven</td>\n",
       "      <td>E. Saunders</td>\n",
       "      <td>292.0</td>\n",
       "      <td>NaN</td>\n",
       "    </tr>\n",
       "    <tr>\n",
       "      <th>3</th>\n",
       "      <td>10000</td>\n",
       "      <td>Neil</td>\n",
       "      <td>Capel</td>\n",
       "      <td>2526.0</td>\n",
       "      <td>NaN</td>\n",
       "    </tr>\n",
       "    <tr>\n",
       "      <th>4</th>\n",
       "      <td>100000</td>\n",
       "      <td>Sue</td>\n",
       "      <td>Pilsch</td>\n",
       "      <td>NaN</td>\n",
       "      <td>NaN</td>\n",
       "    </tr>\n",
       "    <tr>\n",
       "      <th>...</th>\n",
       "      <td>...</td>\n",
       "      <td>...</td>\n",
       "      <td>...</td>\n",
       "      <td>...</td>\n",
       "      <td>...</td>\n",
       "    </tr>\n",
       "    <tr>\n",
       "      <th>226704</th>\n",
       "      <td>99999</td>\n",
       "      <td>Ramon</td>\n",
       "      <td>Peypoch</td>\n",
       "      <td>NaN</td>\n",
       "      <td>NaN</td>\n",
       "    </tr>\n",
       "    <tr>\n",
       "      <th>226705</th>\n",
       "      <td>174088</td>\n",
       "      <td>Dr. Ray</td>\n",
       "      <td>Woods</td>\n",
       "      <td>188200.0</td>\n",
       "      <td>network</td>\n",
       "    </tr>\n",
       "    <tr>\n",
       "      <th>226706</th>\n",
       "      <td>118386</td>\n",
       "      <td>Ricardo</td>\n",
       "      <td>Durand</td>\n",
       "      <td>143419.0</td>\n",
       "      <td>itechsocialnet</td>\n",
       "    </tr>\n",
       "    <tr>\n",
       "      <th>226707</th>\n",
       "      <td>175827</td>\n",
       "      <td>mahesh</td>\n",
       "      <td>kumar</td>\n",
       "      <td>NaN</td>\n",
       "      <td>socialnethubs</td>\n",
       "    </tr>\n",
       "    <tr>\n",
       "      <th>226708</th>\n",
       "      <td>178190</td>\n",
       "      <td>Alex</td>\n",
       "      <td>Smith</td>\n",
       "      <td>NaN</td>\n",
       "      <td>esocialnetlike</td>\n",
       "    </tr>\n",
       "  </tbody>\n",
       "</table>\n",
       "<p>226709 rows × 5 columns</p>\n",
       "</div>"
      ],
      "text/plain": [
       "            id  first_name    last_name  company_id network_username\n",
       "0           10        Mark   Zuckerberg         5.0              NaN\n",
       "1          100       Peter       Lester        27.0              NaN\n",
       "2         1000  Dr. Steven  E. Saunders       292.0              NaN\n",
       "3        10000        Neil        Capel      2526.0              NaN\n",
       "4       100000         Sue       Pilsch         NaN              NaN\n",
       "...        ...         ...          ...         ...              ...\n",
       "226704   99999       Ramon      Peypoch         NaN              NaN\n",
       "226705  174088     Dr. Ray        Woods    188200.0          network\n",
       "226706  118386     Ricardo       Durand    143419.0   itechsocialnet\n",
       "226707  175827      mahesh        kumar         NaN    socialnethubs\n",
       "226708  178190        Alex        Smith         NaN   esocialnetlike\n",
       "\n",
       "[226709 rows x 5 columns]"
      ]
     },
     "execution_count": 20,
     "metadata": {},
     "output_type": "execute_result"
    }
   ],
   "source": [
    "ppl_df"
   ]
  },
  {
   "cell_type": "code",
   "execution_count": 21,
   "metadata": {},
   "outputs": [
    {
     "data": {
      "text/html": [
       "<div>\n",
       "<style scoped>\n",
       "    .dataframe tbody tr th:only-of-type {\n",
       "        vertical-align: middle;\n",
       "    }\n",
       "\n",
       "    .dataframe tbody tr th {\n",
       "        vertical-align: top;\n",
       "    }\n",
       "\n",
       "    .dataframe thead th {\n",
       "        text-align: right;\n",
       "    }\n",
       "</style>\n",
       "<table border=\"1\" class=\"dataframe\">\n",
       "  <thead>\n",
       "    <tr style=\"text-align: right;\">\n",
       "      <th></th>\n",
       "      <th>id</th>\n",
       "      <th>person_id</th>\n",
       "      <th>instituition</th>\n",
       "      <th>graduated_at</th>\n",
       "    </tr>\n",
       "  </thead>\n",
       "  <tbody>\n",
       "    <tr>\n",
       "      <th>0</th>\n",
       "      <td>1</td>\n",
       "      <td>6117</td>\n",
       "      <td>NaN</td>\n",
       "      <td>NaT</td>\n",
       "    </tr>\n",
       "    <tr>\n",
       "      <th>1</th>\n",
       "      <td>2</td>\n",
       "      <td>6136</td>\n",
       "      <td>Washington University, St. Louis</td>\n",
       "      <td>1990-01-01</td>\n",
       "    </tr>\n",
       "    <tr>\n",
       "      <th>2</th>\n",
       "      <td>3</td>\n",
       "      <td>6136</td>\n",
       "      <td>Boston University</td>\n",
       "      <td>1992-01-01</td>\n",
       "    </tr>\n",
       "    <tr>\n",
       "      <th>3</th>\n",
       "      <td>4</td>\n",
       "      <td>6005</td>\n",
       "      <td>University of Greenwich</td>\n",
       "      <td>2006-01-01</td>\n",
       "    </tr>\n",
       "    <tr>\n",
       "      <th>4</th>\n",
       "      <td>5</td>\n",
       "      <td>5832</td>\n",
       "      <td>Rice University</td>\n",
       "      <td>NaT</td>\n",
       "    </tr>\n",
       "    <tr>\n",
       "      <th>...</th>\n",
       "      <td>...</td>\n",
       "      <td>...</td>\n",
       "      <td>...</td>\n",
       "      <td>...</td>\n",
       "    </tr>\n",
       "    <tr>\n",
       "      <th>109605</th>\n",
       "      <td>109606</td>\n",
       "      <td>268589</td>\n",
       "      <td>American Institute of Certtified Public Accoun...</td>\n",
       "      <td>NaT</td>\n",
       "    </tr>\n",
       "    <tr>\n",
       "      <th>109606</th>\n",
       "      <td>109607</td>\n",
       "      <td>268527</td>\n",
       "      <td>South China University of Technology</td>\n",
       "      <td>NaT</td>\n",
       "    </tr>\n",
       "    <tr>\n",
       "      <th>109607</th>\n",
       "      <td>109608</td>\n",
       "      <td>268527</td>\n",
       "      <td>Clarkson University</td>\n",
       "      <td>NaT</td>\n",
       "    </tr>\n",
       "    <tr>\n",
       "      <th>109608</th>\n",
       "      <td>109609</td>\n",
       "      <td>268528</td>\n",
       "      <td>Colorado State University</td>\n",
       "      <td>NaT</td>\n",
       "    </tr>\n",
       "    <tr>\n",
       "      <th>109609</th>\n",
       "      <td>109610</td>\n",
       "      <td>268528</td>\n",
       "      <td>University of San Diego School of Law</td>\n",
       "      <td>NaT</td>\n",
       "    </tr>\n",
       "  </tbody>\n",
       "</table>\n",
       "<p>109610 rows × 4 columns</p>\n",
       "</div>"
      ],
      "text/plain": [
       "            id  person_id                                       instituition  \\\n",
       "0            1       6117                                                NaN   \n",
       "1            2       6136                   Washington University, St. Louis   \n",
       "2            3       6136                                  Boston University   \n",
       "3            4       6005                            University of Greenwich   \n",
       "4            5       5832                                    Rice University   \n",
       "...        ...        ...                                                ...   \n",
       "109605  109606     268589  American Institute of Certtified Public Accoun...   \n",
       "109606  109607     268527               South China University of Technology   \n",
       "109607  109608     268527                                Clarkson University   \n",
       "109608  109609     268528                          Colorado State University   \n",
       "109609  109610     268528              University of San Diego School of Law   \n",
       "\n",
       "       graduated_at  \n",
       "0               NaT  \n",
       "1        1990-01-01  \n",
       "2        1992-01-01  \n",
       "3        2006-01-01  \n",
       "4               NaT  \n",
       "...             ...  \n",
       "109605          NaT  \n",
       "109606          NaT  \n",
       "109607          NaT  \n",
       "109608          NaT  \n",
       "109609          NaT  \n",
       "\n",
       "[109610 rows x 4 columns]"
      ]
     },
     "execution_count": 21,
     "metadata": {},
     "output_type": "execute_result"
    }
   ],
   "source": [
    "education_df"
   ]
  },
  {
   "cell_type": "code",
   "execution_count": 22,
   "metadata": {},
   "outputs": [
    {
     "data": {
      "text/html": [
       "<div>\n",
       "<style scoped>\n",
       "    .dataframe tbody tr th:only-of-type {\n",
       "        vertical-align: middle;\n",
       "    }\n",
       "\n",
       "    .dataframe tbody tr th {\n",
       "        vertical-align: top;\n",
       "    }\n",
       "\n",
       "    .dataframe thead th {\n",
       "        text-align: right;\n",
       "    }\n",
       "</style>\n",
       "<table border=\"1\" class=\"dataframe\">\n",
       "  <thead>\n",
       "    <tr style=\"text-align: right;\">\n",
       "      <th></th>\n",
       "      <th>id</th>\n",
       "      <th>object_id</th>\n",
       "      <th>degree_type</th>\n",
       "      <th>subject</th>\n",
       "    </tr>\n",
       "  </thead>\n",
       "  <tbody>\n",
       "    <tr>\n",
       "      <th>0</th>\n",
       "      <td>1</td>\n",
       "      <td>p:6117</td>\n",
       "      <td>MBA</td>\n",
       "      <td>NaN</td>\n",
       "    </tr>\n",
       "    <tr>\n",
       "      <th>1</th>\n",
       "      <td>2</td>\n",
       "      <td>p:6136</td>\n",
       "      <td>BA</td>\n",
       "      <td>English, French</td>\n",
       "    </tr>\n",
       "    <tr>\n",
       "      <th>2</th>\n",
       "      <td>3</td>\n",
       "      <td>p:6136</td>\n",
       "      <td>MS</td>\n",
       "      <td>Mass Communication</td>\n",
       "    </tr>\n",
       "    <tr>\n",
       "      <th>3</th>\n",
       "      <td>4</td>\n",
       "      <td>p:6005</td>\n",
       "      <td>MS</td>\n",
       "      <td>Internet Technology</td>\n",
       "    </tr>\n",
       "    <tr>\n",
       "      <th>4</th>\n",
       "      <td>5</td>\n",
       "      <td>p:5832</td>\n",
       "      <td>BCS</td>\n",
       "      <td>Computer Science, Psychology</td>\n",
       "    </tr>\n",
       "    <tr>\n",
       "      <th>...</th>\n",
       "      <td>...</td>\n",
       "      <td>...</td>\n",
       "      <td>...</td>\n",
       "      <td>...</td>\n",
       "    </tr>\n",
       "    <tr>\n",
       "      <th>109605</th>\n",
       "      <td>109606</td>\n",
       "      <td>p:268589</td>\n",
       "      <td>CPA</td>\n",
       "      <td>NaN</td>\n",
       "    </tr>\n",
       "    <tr>\n",
       "      <th>109606</th>\n",
       "      <td>109607</td>\n",
       "      <td>p:268527</td>\n",
       "      <td>MS &amp; BS</td>\n",
       "      <td>Engineering</td>\n",
       "    </tr>\n",
       "    <tr>\n",
       "      <th>109607</th>\n",
       "      <td>109608</td>\n",
       "      <td>p:268527</td>\n",
       "      <td>PhD</td>\n",
       "      <td>Engineering</td>\n",
       "    </tr>\n",
       "    <tr>\n",
       "      <th>109608</th>\n",
       "      <td>109609</td>\n",
       "      <td>p:268528</td>\n",
       "      <td>B.S.</td>\n",
       "      <td>Electrical Engineering</td>\n",
       "    </tr>\n",
       "    <tr>\n",
       "      <th>109609</th>\n",
       "      <td>109610</td>\n",
       "      <td>p:268528</td>\n",
       "      <td>J.D.</td>\n",
       "      <td>NaN</td>\n",
       "    </tr>\n",
       "  </tbody>\n",
       "</table>\n",
       "<p>109610 rows × 4 columns</p>\n",
       "</div>"
      ],
      "text/plain": [
       "            id object_id degree_type                       subject\n",
       "0            1    p:6117         MBA                           NaN\n",
       "1            2    p:6136          BA               English, French\n",
       "2            3    p:6136          MS            Mass Communication\n",
       "3            4    p:6005          MS           Internet Technology\n",
       "4            5    p:5832         BCS  Computer Science, Psychology\n",
       "...        ...       ...         ...                           ...\n",
       "109605  109606  p:268589         CPA                           NaN\n",
       "109606  109607  p:268527     MS & BS                   Engineering\n",
       "109607  109608  p:268527         PhD                   Engineering\n",
       "109608  109609  p:268528        B.S.        Electrical Engineering\n",
       "109609  109610  p:268528        J.D.                           NaN\n",
       "\n",
       "[109610 rows x 4 columns]"
      ]
     },
     "execution_count": 22,
     "metadata": {},
     "output_type": "execute_result"
    }
   ],
   "source": [
    "degrees_df"
   ]
  },
  {
   "cell_type": "markdown",
   "metadata": {},
   "source": [
    "\n",
    "Присоединение таблицы `degrees` возможно для выполнения задания. Для этого нужно привести данные `object_id` сотрудников из таблицы `degrees` к похожему виду из столбцов `people` и `education`. При этом стоит заметить, что данны датасета `degrees` имеют уточняющий характер и новой важной информации могут не нести.\n"
   ]
  },
  {
   "cell_type": "code",
   "execution_count": 23,
   "metadata": {},
   "outputs": [],
   "source": [
    "#degrees_df['object_id'] = degrees_df['object_id'].str.replace('p:','').astype('int64')"
   ]
  },
  {
   "cell_type": "code",
   "execution_count": 24,
   "metadata": {},
   "outputs": [
    {
     "data": {
      "text/html": [
       "<div>\n",
       "<style scoped>\n",
       "    .dataframe tbody tr th:only-of-type {\n",
       "        vertical-align: middle;\n",
       "    }\n",
       "\n",
       "    .dataframe tbody tr th {\n",
       "        vertical-align: top;\n",
       "    }\n",
       "\n",
       "    .dataframe thead th {\n",
       "        text-align: right;\n",
       "    }\n",
       "</style>\n",
       "<table border=\"1\" class=\"dataframe\">\n",
       "  <thead>\n",
       "    <tr style=\"text-align: right;\">\n",
       "      <th></th>\n",
       "      <th>id_people</th>\n",
       "      <th>first_name</th>\n",
       "      <th>last_name</th>\n",
       "      <th>company_id</th>\n",
       "      <th>network_username</th>\n",
       "      <th>id__education</th>\n",
       "      <th>person_id</th>\n",
       "      <th>instituition</th>\n",
       "      <th>graduated_at</th>\n",
       "    </tr>\n",
       "  </thead>\n",
       "  <tbody>\n",
       "    <tr>\n",
       "      <th>0</th>\n",
       "      <td>10</td>\n",
       "      <td>Mark</td>\n",
       "      <td>Zuckerberg</td>\n",
       "      <td>5.0</td>\n",
       "      <td>NaN</td>\n",
       "      <td>2415.0</td>\n",
       "      <td>10.0</td>\n",
       "      <td>Harvard University</td>\n",
       "      <td>NaT</td>\n",
       "    </tr>\n",
       "    <tr>\n",
       "      <th>1</th>\n",
       "      <td>100</td>\n",
       "      <td>Peter</td>\n",
       "      <td>Lester</td>\n",
       "      <td>27.0</td>\n",
       "      <td>NaN</td>\n",
       "      <td>NaN</td>\n",
       "      <td>NaN</td>\n",
       "      <td>NaN</td>\n",
       "      <td>NaT</td>\n",
       "    </tr>\n",
       "    <tr>\n",
       "      <th>2</th>\n",
       "      <td>1000</td>\n",
       "      <td>Dr. Steven</td>\n",
       "      <td>E. Saunders</td>\n",
       "      <td>292.0</td>\n",
       "      <td>NaN</td>\n",
       "      <td>NaN</td>\n",
       "      <td>NaN</td>\n",
       "      <td>NaN</td>\n",
       "      <td>NaT</td>\n",
       "    </tr>\n",
       "    <tr>\n",
       "      <th>3</th>\n",
       "      <td>10000</td>\n",
       "      <td>Neil</td>\n",
       "      <td>Capel</td>\n",
       "      <td>2526.0</td>\n",
       "      <td>NaN</td>\n",
       "      <td>NaN</td>\n",
       "      <td>NaN</td>\n",
       "      <td>NaN</td>\n",
       "      <td>NaT</td>\n",
       "    </tr>\n",
       "    <tr>\n",
       "      <th>4</th>\n",
       "      <td>100000</td>\n",
       "      <td>Sue</td>\n",
       "      <td>Pilsch</td>\n",
       "      <td>NaN</td>\n",
       "      <td>NaN</td>\n",
       "      <td>NaN</td>\n",
       "      <td>NaN</td>\n",
       "      <td>NaN</td>\n",
       "      <td>NaT</td>\n",
       "    </tr>\n",
       "    <tr>\n",
       "      <th>...</th>\n",
       "      <td>...</td>\n",
       "      <td>...</td>\n",
       "      <td>...</td>\n",
       "      <td>...</td>\n",
       "      <td>...</td>\n",
       "      <td>...</td>\n",
       "      <td>...</td>\n",
       "      <td>...</td>\n",
       "      <td>...</td>\n",
       "    </tr>\n",
       "    <tr>\n",
       "      <th>267689</th>\n",
       "      <td>99999</td>\n",
       "      <td>Ramon</td>\n",
       "      <td>Peypoch</td>\n",
       "      <td>NaN</td>\n",
       "      <td>NaN</td>\n",
       "      <td>NaN</td>\n",
       "      <td>NaN</td>\n",
       "      <td>NaN</td>\n",
       "      <td>NaT</td>\n",
       "    </tr>\n",
       "    <tr>\n",
       "      <th>267690</th>\n",
       "      <td>174088</td>\n",
       "      <td>Dr. Ray</td>\n",
       "      <td>Woods</td>\n",
       "      <td>188200.0</td>\n",
       "      <td>network</td>\n",
       "      <td>25958.0</td>\n",
       "      <td>174088.0</td>\n",
       "      <td>Sydney University Medical School</td>\n",
       "      <td>1982-01-01</td>\n",
       "    </tr>\n",
       "    <tr>\n",
       "      <th>267691</th>\n",
       "      <td>118386</td>\n",
       "      <td>Ricardo</td>\n",
       "      <td>Durand</td>\n",
       "      <td>143419.0</td>\n",
       "      <td>itechsocialnet</td>\n",
       "      <td>18871.0</td>\n",
       "      <td>118386.0</td>\n",
       "      <td>ESCS</td>\n",
       "      <td>2004-01-01</td>\n",
       "    </tr>\n",
       "    <tr>\n",
       "      <th>267692</th>\n",
       "      <td>175827</td>\n",
       "      <td>mahesh</td>\n",
       "      <td>kumar</td>\n",
       "      <td>NaN</td>\n",
       "      <td>socialnethubs</td>\n",
       "      <td>NaN</td>\n",
       "      <td>NaN</td>\n",
       "      <td>NaN</td>\n",
       "      <td>NaT</td>\n",
       "    </tr>\n",
       "    <tr>\n",
       "      <th>267693</th>\n",
       "      <td>178190</td>\n",
       "      <td>Alex</td>\n",
       "      <td>Smith</td>\n",
       "      <td>NaN</td>\n",
       "      <td>esocialnetlike</td>\n",
       "      <td>NaN</td>\n",
       "      <td>NaN</td>\n",
       "      <td>NaN</td>\n",
       "      <td>NaT</td>\n",
       "    </tr>\n",
       "  </tbody>\n",
       "</table>\n",
       "<p>267694 rows × 9 columns</p>\n",
       "</div>"
      ],
      "text/plain": [
       "        id_people  first_name    last_name  company_id network_username  \\\n",
       "0              10        Mark   Zuckerberg         5.0              NaN   \n",
       "1             100       Peter       Lester        27.0              NaN   \n",
       "2            1000  Dr. Steven  E. Saunders       292.0              NaN   \n",
       "3           10000        Neil        Capel      2526.0              NaN   \n",
       "4          100000         Sue       Pilsch         NaN              NaN   \n",
       "...           ...         ...          ...         ...              ...   \n",
       "267689      99999       Ramon      Peypoch         NaN              NaN   \n",
       "267690     174088     Dr. Ray        Woods    188200.0          network   \n",
       "267691     118386     Ricardo       Durand    143419.0   itechsocialnet   \n",
       "267692     175827      mahesh        kumar         NaN    socialnethubs   \n",
       "267693     178190        Alex        Smith         NaN   esocialnetlike   \n",
       "\n",
       "        id__education  person_id                      instituition  \\\n",
       "0              2415.0       10.0                Harvard University   \n",
       "1                 NaN        NaN                               NaN   \n",
       "2                 NaN        NaN                               NaN   \n",
       "3                 NaN        NaN                               NaN   \n",
       "4                 NaN        NaN                               NaN   \n",
       "...               ...        ...                               ...   \n",
       "267689            NaN        NaN                               NaN   \n",
       "267690        25958.0   174088.0  Sydney University Medical School   \n",
       "267691        18871.0   118386.0                              ESCS   \n",
       "267692            NaN        NaN                               NaN   \n",
       "267693            NaN        NaN                               NaN   \n",
       "\n",
       "       graduated_at  \n",
       "0               NaT  \n",
       "1               NaT  \n",
       "2               NaT  \n",
       "3               NaT  \n",
       "4               NaT  \n",
       "...             ...  \n",
       "267689          NaT  \n",
       "267690   1982-01-01  \n",
       "267691   2004-01-01  \n",
       "267692          NaT  \n",
       "267693          NaT  \n",
       "\n",
       "[267694 rows x 9 columns]"
      ]
     },
     "execution_count": 24,
     "metadata": {},
     "output_type": "execute_result"
    }
   ],
   "source": [
    "merged_df = ppl_df.merge(education_df,left_on='id',right_on='person_id',how='left',suffixes = ('_people','__education'))\n",
    "merged_df\n"
   ]
  },
  {
   "cell_type": "code",
   "execution_count": 25,
   "metadata": {},
   "outputs": [
    {
     "name": "stdout",
     "output_type": "stream",
     "text": [
      "Доля пропущенных значений в столбце об институте составляет 59.28 %\n"
     ]
    }
   ],
   "source": [
    "# Доля пропущенных значений в столбце с информацией об институте\n",
    "a = round(100*merged_df['instituition'].isna().mean(),2)\n",
    "print(f'Доля пропущенных значений в столбце об институте составляет {a} %')"
   ]
  },
  {
   "cell_type": "code",
   "execution_count": 26,
   "metadata": {},
   "outputs": [
    {
     "data": {
      "text/html": [
       "<div>\n",
       "<style scoped>\n",
       "    .dataframe tbody tr th:only-of-type {\n",
       "        vertical-align: middle;\n",
       "    }\n",
       "\n",
       "    .dataframe tbody tr th {\n",
       "        vertical-align: top;\n",
       "    }\n",
       "\n",
       "    .dataframe thead th {\n",
       "        text-align: right;\n",
       "    }\n",
       "</style>\n",
       "<table border=\"1\" class=\"dataframe\">\n",
       "  <thead>\n",
       "    <tr style=\"text-align: right;\">\n",
       "      <th></th>\n",
       "      <th>company_id</th>\n",
       "      <th>id_people</th>\n",
       "    </tr>\n",
       "  </thead>\n",
       "  <tbody>\n",
       "    <tr>\n",
       "      <th>0</th>\n",
       "      <td>1.0</td>\n",
       "      <td>2</td>\n",
       "    </tr>\n",
       "    <tr>\n",
       "      <th>1</th>\n",
       "      <td>2.0</td>\n",
       "      <td>1</td>\n",
       "    </tr>\n",
       "    <tr>\n",
       "      <th>2</th>\n",
       "      <td>3.0</td>\n",
       "      <td>3</td>\n",
       "    </tr>\n",
       "    <tr>\n",
       "      <th>3</th>\n",
       "      <td>4.0</td>\n",
       "      <td>13</td>\n",
       "    </tr>\n",
       "    <tr>\n",
       "      <th>4</th>\n",
       "      <td>5.0</td>\n",
       "      <td>61</td>\n",
       "    </tr>\n",
       "    <tr>\n",
       "      <th>...</th>\n",
       "      <td>...</td>\n",
       "      <td>...</td>\n",
       "    </tr>\n",
       "    <tr>\n",
       "      <th>22917</th>\n",
       "      <td>285897.0</td>\n",
       "      <td>2</td>\n",
       "    </tr>\n",
       "    <tr>\n",
       "      <th>22918</th>\n",
       "      <td>285953.0</td>\n",
       "      <td>1</td>\n",
       "    </tr>\n",
       "    <tr>\n",
       "      <th>22919</th>\n",
       "      <td>285972.0</td>\n",
       "      <td>2</td>\n",
       "    </tr>\n",
       "    <tr>\n",
       "      <th>22920</th>\n",
       "      <td>285996.0</td>\n",
       "      <td>1</td>\n",
       "    </tr>\n",
       "    <tr>\n",
       "      <th>22921</th>\n",
       "      <td>286091.0</td>\n",
       "      <td>6</td>\n",
       "    </tr>\n",
       "  </tbody>\n",
       "</table>\n",
       "<p>22922 rows × 2 columns</p>\n",
       "</div>"
      ],
      "text/plain": [
       "       company_id  id_people\n",
       "0             1.0          2\n",
       "1             2.0          1\n",
       "2             3.0          3\n",
       "3             4.0         13\n",
       "4             5.0         61\n",
       "...           ...        ...\n",
       "22917    285897.0          2\n",
       "22918    285953.0          1\n",
       "22919    285972.0          2\n",
       "22920    285996.0          1\n",
       "22921    286091.0          6\n",
       "\n",
       "[22922 rows x 2 columns]"
      ]
     },
     "execution_count": 26,
     "metadata": {},
     "output_type": "execute_result"
    }
   ],
   "source": [
    "# Оценим количество компаний по численности сотрудников\n",
    "workers_info = merged_df.groupby('company_id')['id_people'].nunique().reset_index()\n",
    "workers_info"
   ]
  },
  {
   "cell_type": "code",
   "execution_count": 27,
   "metadata": {},
   "outputs": [],
   "source": [
    "# Создадим столбец-маркер для строк с сотрудниками без информации о образовании\n",
    "merged_df['no_institution'] = merged_df['instituition'].isna().astype('int64')"
   ]
  },
  {
   "cell_type": "code",
   "execution_count": 28,
   "metadata": {},
   "outputs": [
    {
     "data": {
      "text/html": [
       "<div>\n",
       "<style scoped>\n",
       "    .dataframe tbody tr th:only-of-type {\n",
       "        vertical-align: middle;\n",
       "    }\n",
       "\n",
       "    .dataframe tbody tr th {\n",
       "        vertical-align: top;\n",
       "    }\n",
       "\n",
       "    .dataframe thead th {\n",
       "        text-align: right;\n",
       "    }\n",
       "</style>\n",
       "<table border=\"1\" class=\"dataframe\">\n",
       "  <thead>\n",
       "    <tr style=\"text-align: right;\">\n",
       "      <th></th>\n",
       "      <th>company_id</th>\n",
       "      <th>workers_count</th>\n",
       "      <th>no_education</th>\n",
       "    </tr>\n",
       "  </thead>\n",
       "  <tbody>\n",
       "    <tr>\n",
       "      <th>0</th>\n",
       "      <td>1.0</td>\n",
       "      <td>2</td>\n",
       "      <td>1</td>\n",
       "    </tr>\n",
       "    <tr>\n",
       "      <th>1</th>\n",
       "      <td>2.0</td>\n",
       "      <td>1</td>\n",
       "      <td>0</td>\n",
       "    </tr>\n",
       "    <tr>\n",
       "      <th>2</th>\n",
       "      <td>3.0</td>\n",
       "      <td>3</td>\n",
       "      <td>1</td>\n",
       "    </tr>\n",
       "    <tr>\n",
       "      <th>3</th>\n",
       "      <td>4.0</td>\n",
       "      <td>13</td>\n",
       "      <td>1</td>\n",
       "    </tr>\n",
       "    <tr>\n",
       "      <th>4</th>\n",
       "      <td>5.0</td>\n",
       "      <td>61</td>\n",
       "      <td>16</td>\n",
       "    </tr>\n",
       "    <tr>\n",
       "      <th>...</th>\n",
       "      <td>...</td>\n",
       "      <td>...</td>\n",
       "      <td>...</td>\n",
       "    </tr>\n",
       "    <tr>\n",
       "      <th>22917</th>\n",
       "      <td>285897.0</td>\n",
       "      <td>2</td>\n",
       "      <td>0</td>\n",
       "    </tr>\n",
       "    <tr>\n",
       "      <th>22918</th>\n",
       "      <td>285953.0</td>\n",
       "      <td>1</td>\n",
       "      <td>1</td>\n",
       "    </tr>\n",
       "    <tr>\n",
       "      <th>22919</th>\n",
       "      <td>285972.0</td>\n",
       "      <td>2</td>\n",
       "      <td>1</td>\n",
       "    </tr>\n",
       "    <tr>\n",
       "      <th>22920</th>\n",
       "      <td>285996.0</td>\n",
       "      <td>1</td>\n",
       "      <td>0</td>\n",
       "    </tr>\n",
       "    <tr>\n",
       "      <th>22921</th>\n",
       "      <td>286091.0</td>\n",
       "      <td>6</td>\n",
       "      <td>2</td>\n",
       "    </tr>\n",
       "  </tbody>\n",
       "</table>\n",
       "<p>22922 rows × 3 columns</p>\n",
       "</div>"
      ],
      "text/plain": [
       "       company_id  workers_count  no_education\n",
       "0             1.0              2             1\n",
       "1             2.0              1             0\n",
       "2             3.0              3             1\n",
       "3             4.0             13             1\n",
       "4             5.0             61            16\n",
       "...           ...            ...           ...\n",
       "22917    285897.0              2             0\n",
       "22918    285953.0              1             1\n",
       "22919    285972.0              2             1\n",
       "22920    285996.0              1             0\n",
       "22921    286091.0              6             2\n",
       "\n",
       "[22922 rows x 3 columns]"
      ]
     },
     "execution_count": 28,
     "metadata": {},
     "output_type": "execute_result"
    }
   ],
   "source": [
    "# Сгруппируем данные и покажем количество сотрудников и количество сотрудников без информации об образовании\n",
    "workers_info = merged_df.groupby('company_id').agg(workers_count=('id_people', 'nunique'),\n",
    "                                                    no_education=('no_institution', 'sum')).reset_index()\n",
    "workers_info"
   ]
  },
  {
   "cell_type": "code",
   "execution_count": 29,
   "metadata": {},
   "outputs": [
    {
     "data": {
      "text/html": [
       "<div>\n",
       "<style scoped>\n",
       "    .dataframe tbody tr th:only-of-type {\n",
       "        vertical-align: middle;\n",
       "    }\n",
       "\n",
       "    .dataframe tbody tr th {\n",
       "        vertical-align: top;\n",
       "    }\n",
       "\n",
       "    .dataframe thead th {\n",
       "        text-align: right;\n",
       "    }\n",
       "</style>\n",
       "<table border=\"1\" class=\"dataframe\">\n",
       "  <thead>\n",
       "    <tr style=\"text-align: right;\">\n",
       "      <th></th>\n",
       "      <th>company_id</th>\n",
       "      <th>workers_count</th>\n",
       "      <th>no_education</th>\n",
       "      <th>no_education_share</th>\n",
       "    </tr>\n",
       "  </thead>\n",
       "  <tbody>\n",
       "    <tr>\n",
       "      <th>0</th>\n",
       "      <td>1.0</td>\n",
       "      <td>2</td>\n",
       "      <td>1</td>\n",
       "      <td>0.50</td>\n",
       "    </tr>\n",
       "    <tr>\n",
       "      <th>1</th>\n",
       "      <td>2.0</td>\n",
       "      <td>1</td>\n",
       "      <td>0</td>\n",
       "      <td>0.00</td>\n",
       "    </tr>\n",
       "    <tr>\n",
       "      <th>2</th>\n",
       "      <td>3.0</td>\n",
       "      <td>3</td>\n",
       "      <td>1</td>\n",
       "      <td>0.33</td>\n",
       "    </tr>\n",
       "    <tr>\n",
       "      <th>3</th>\n",
       "      <td>4.0</td>\n",
       "      <td>13</td>\n",
       "      <td>1</td>\n",
       "      <td>0.08</td>\n",
       "    </tr>\n",
       "    <tr>\n",
       "      <th>4</th>\n",
       "      <td>5.0</td>\n",
       "      <td>61</td>\n",
       "      <td>16</td>\n",
       "      <td>0.26</td>\n",
       "    </tr>\n",
       "    <tr>\n",
       "      <th>...</th>\n",
       "      <td>...</td>\n",
       "      <td>...</td>\n",
       "      <td>...</td>\n",
       "      <td>...</td>\n",
       "    </tr>\n",
       "    <tr>\n",
       "      <th>22917</th>\n",
       "      <td>285897.0</td>\n",
       "      <td>2</td>\n",
       "      <td>0</td>\n",
       "      <td>0.00</td>\n",
       "    </tr>\n",
       "    <tr>\n",
       "      <th>22918</th>\n",
       "      <td>285953.0</td>\n",
       "      <td>1</td>\n",
       "      <td>1</td>\n",
       "      <td>1.00</td>\n",
       "    </tr>\n",
       "    <tr>\n",
       "      <th>22919</th>\n",
       "      <td>285972.0</td>\n",
       "      <td>2</td>\n",
       "      <td>1</td>\n",
       "      <td>0.50</td>\n",
       "    </tr>\n",
       "    <tr>\n",
       "      <th>22920</th>\n",
       "      <td>285996.0</td>\n",
       "      <td>1</td>\n",
       "      <td>0</td>\n",
       "      <td>0.00</td>\n",
       "    </tr>\n",
       "    <tr>\n",
       "      <th>22921</th>\n",
       "      <td>286091.0</td>\n",
       "      <td>6</td>\n",
       "      <td>2</td>\n",
       "      <td>0.33</td>\n",
       "    </tr>\n",
       "  </tbody>\n",
       "</table>\n",
       "<p>22922 rows × 4 columns</p>\n",
       "</div>"
      ],
      "text/plain": [
       "       company_id  workers_count  no_education  no_education_share\n",
       "0             1.0              2             1                0.50\n",
       "1             2.0              1             0                0.00\n",
       "2             3.0              3             1                0.33\n",
       "3             4.0             13             1                0.08\n",
       "4             5.0             61            16                0.26\n",
       "...           ...            ...           ...                 ...\n",
       "22917    285897.0              2             0                0.00\n",
       "22918    285953.0              1             1                1.00\n",
       "22919    285972.0              2             1                0.50\n",
       "22920    285996.0              1             0                0.00\n",
       "22921    286091.0              6             2                0.33\n",
       "\n",
       "[22922 rows x 4 columns]"
      ]
     },
     "execution_count": 29,
     "metadata": {},
     "output_type": "execute_result"
    }
   ],
   "source": [
    "# Вычисляем долю сотрудников с пропущенными данными об образовании в каждой компании\n",
    "workers_info['no_education_share'] = round(workers_info['no_education']/workers_info['workers_count'],2)\n",
    "workers_info"
   ]
  },
  {
   "cell_type": "code",
   "execution_count": 30,
   "metadata": {
    "scrolled": true
   },
   "outputs": [
    {
     "data": {
      "text/plain": [
       "workers_count\n",
       "1                18117\n",
       "2                 2709\n",
       "3                  921\n",
       "4                  450\n",
       "5                  237\n",
       "6                  138\n",
       "7                  100\n",
       "8                   59\n",
       "9                   46\n",
       "11                  30\n",
       "10                  25\n",
       "13                  17\n",
       "12                  16\n",
       "14                   8\n",
       "17                   5\n",
       "16                   4\n",
       "15                   3\n",
       "18                   3\n",
       "19                   3\n",
       "20                   3\n",
       "23                   3\n",
       "29                   2\n",
       "56                   2\n",
       "21                   2\n",
       "22                   2\n",
       "25                   2\n",
       "26                   1\n",
       "51                   1\n",
       "150                  1\n",
       "138                  1\n",
       "72                   1\n",
       "63                   1\n",
       "61                   1\n",
       "48                   1\n",
       "47                   1\n",
       "39                   1\n",
       "36                   1\n",
       "35                   1\n",
       "32                   1\n",
       "31                   1\n",
       "244                  1\n",
       "dtype: int64"
      ]
     },
     "execution_count": 30,
     "metadata": {},
     "output_type": "execute_result"
    }
   ],
   "source": [
    "# Посмотрим на распредение компаний по количеству сотрудников\n",
    "workers_info[['workers_count']].value_counts()"
   ]
  },
  {
   "cell_type": "markdown",
   "metadata": {},
   "source": [
    "Группы были выбраны с учётом того, что большая часть компаний, по данным, состоят из одного человека. Также частым явлением является компания из 2 или 3 человек. С ростом численности человек в  компании уменьшается само количество компаний. Компаний,где численность число сотрудников 12+, несопастовимо меньше. Поэтому было решено категоризировать компании следующим образом: "
   ]
  },
  {
   "cell_type": "code",
   "execution_count": 31,
   "metadata": {},
   "outputs": [
    {
     "data": {
      "text/html": [
       "<div>\n",
       "<style scoped>\n",
       "    .dataframe tbody tr th:only-of-type {\n",
       "        vertical-align: middle;\n",
       "    }\n",
       "\n",
       "    .dataframe tbody tr th {\n",
       "        vertical-align: top;\n",
       "    }\n",
       "\n",
       "    .dataframe thead th {\n",
       "        text-align: right;\n",
       "    }\n",
       "</style>\n",
       "<table border=\"1\" class=\"dataframe\">\n",
       "  <thead>\n",
       "    <tr style=\"text-align: right;\">\n",
       "      <th></th>\n",
       "      <th>company_id</th>\n",
       "      <th>workers_count</th>\n",
       "      <th>no_education</th>\n",
       "      <th>no_education_share</th>\n",
       "      <th>company_size</th>\n",
       "    </tr>\n",
       "  </thead>\n",
       "  <tbody>\n",
       "    <tr>\n",
       "      <th>0</th>\n",
       "      <td>1.0</td>\n",
       "      <td>2</td>\n",
       "      <td>1</td>\n",
       "      <td>0.50</td>\n",
       "      <td>2</td>\n",
       "    </tr>\n",
       "    <tr>\n",
       "      <th>1</th>\n",
       "      <td>2.0</td>\n",
       "      <td>1</td>\n",
       "      <td>0</td>\n",
       "      <td>0.00</td>\n",
       "      <td>1</td>\n",
       "    </tr>\n",
       "    <tr>\n",
       "      <th>2</th>\n",
       "      <td>3.0</td>\n",
       "      <td>3</td>\n",
       "      <td>1</td>\n",
       "      <td>0.33</td>\n",
       "      <td>3</td>\n",
       "    </tr>\n",
       "    <tr>\n",
       "      <th>3</th>\n",
       "      <td>4.0</td>\n",
       "      <td>13</td>\n",
       "      <td>1</td>\n",
       "      <td>0.08</td>\n",
       "      <td>11-25</td>\n",
       "    </tr>\n",
       "    <tr>\n",
       "      <th>4</th>\n",
       "      <td>5.0</td>\n",
       "      <td>61</td>\n",
       "      <td>16</td>\n",
       "      <td>0.26</td>\n",
       "      <td>26+</td>\n",
       "    </tr>\n",
       "    <tr>\n",
       "      <th>...</th>\n",
       "      <td>...</td>\n",
       "      <td>...</td>\n",
       "      <td>...</td>\n",
       "      <td>...</td>\n",
       "      <td>...</td>\n",
       "    </tr>\n",
       "    <tr>\n",
       "      <th>22917</th>\n",
       "      <td>285897.0</td>\n",
       "      <td>2</td>\n",
       "      <td>0</td>\n",
       "      <td>0.00</td>\n",
       "      <td>2</td>\n",
       "    </tr>\n",
       "    <tr>\n",
       "      <th>22918</th>\n",
       "      <td>285953.0</td>\n",
       "      <td>1</td>\n",
       "      <td>1</td>\n",
       "      <td>1.00</td>\n",
       "      <td>1</td>\n",
       "    </tr>\n",
       "    <tr>\n",
       "      <th>22919</th>\n",
       "      <td>285972.0</td>\n",
       "      <td>2</td>\n",
       "      <td>1</td>\n",
       "      <td>0.50</td>\n",
       "      <td>2</td>\n",
       "    </tr>\n",
       "    <tr>\n",
       "      <th>22920</th>\n",
       "      <td>285996.0</td>\n",
       "      <td>1</td>\n",
       "      <td>0</td>\n",
       "      <td>0.00</td>\n",
       "      <td>1</td>\n",
       "    </tr>\n",
       "    <tr>\n",
       "      <th>22921</th>\n",
       "      <td>286091.0</td>\n",
       "      <td>6</td>\n",
       "      <td>2</td>\n",
       "      <td>0.33</td>\n",
       "      <td>6-10</td>\n",
       "    </tr>\n",
       "  </tbody>\n",
       "</table>\n",
       "<p>22922 rows × 5 columns</p>\n",
       "</div>"
      ],
      "text/plain": [
       "       company_id  workers_count  no_education  no_education_share  \\\n",
       "0             1.0              2             1                0.50   \n",
       "1             2.0              1             0                0.00   \n",
       "2             3.0              3             1                0.33   \n",
       "3             4.0             13             1                0.08   \n",
       "4             5.0             61            16                0.26   \n",
       "...           ...            ...           ...                 ...   \n",
       "22917    285897.0              2             0                0.00   \n",
       "22918    285953.0              1             1                1.00   \n",
       "22919    285972.0              2             1                0.50   \n",
       "22920    285996.0              1             0                0.00   \n",
       "22921    286091.0              6             2                0.33   \n",
       "\n",
       "      company_size  \n",
       "0                2  \n",
       "1                1  \n",
       "2                3  \n",
       "3            11-25  \n",
       "4              26+  \n",
       "...            ...  \n",
       "22917            2  \n",
       "22918            1  \n",
       "22919            2  \n",
       "22920            1  \n",
       "22921         6-10  \n",
       "\n",
       "[22922 rows x 5 columns]"
      ]
     },
     "execution_count": 31,
     "metadata": {},
     "output_type": "execute_result"
    }
   ],
   "source": [
    "# Категоризируем данные\n",
    "workers_info['company_size'] = pd.cut(workers_info['workers_count'], bins=[0, 1, 2, 3, 5, 10, 25, float('inf')], \n",
    "                                          labels=['1', '2', '3', '4-5', '6-10', '11-25', '26+'])\n",
    "workers_info"
   ]
  },
  {
   "cell_type": "code",
   "execution_count": 32,
   "metadata": {},
   "outputs": [
    {
     "data": {
      "text/html": [
       "<div>\n",
       "<style scoped>\n",
       "    .dataframe tbody tr th:only-of-type {\n",
       "        vertical-align: middle;\n",
       "    }\n",
       "\n",
       "    .dataframe tbody tr th {\n",
       "        vertical-align: top;\n",
       "    }\n",
       "\n",
       "    .dataframe thead th {\n",
       "        text-align: right;\n",
       "    }\n",
       "</style>\n",
       "<table border=\"1\" class=\"dataframe\">\n",
       "  <thead>\n",
       "    <tr style=\"text-align: right;\">\n",
       "      <th></th>\n",
       "      <th>unqiue_company</th>\n",
       "      <th>avg_no_education_share</th>\n",
       "      <th>workers_count</th>\n",
       "    </tr>\n",
       "    <tr>\n",
       "      <th>company_size</th>\n",
       "      <th></th>\n",
       "      <th></th>\n",
       "      <th></th>\n",
       "    </tr>\n",
       "  </thead>\n",
       "  <tbody>\n",
       "    <tr>\n",
       "      <th>1</th>\n",
       "      <td>18117</td>\n",
       "      <td>0.463377</td>\n",
       "      <td>18117</td>\n",
       "    </tr>\n",
       "    <tr>\n",
       "      <th>2</th>\n",
       "      <td>2709</td>\n",
       "      <td>0.466962</td>\n",
       "      <td>5418</td>\n",
       "    </tr>\n",
       "    <tr>\n",
       "      <th>3</th>\n",
       "      <td>921</td>\n",
       "      <td>0.487818</td>\n",
       "      <td>2763</td>\n",
       "    </tr>\n",
       "    <tr>\n",
       "      <th>4-5</th>\n",
       "      <td>687</td>\n",
       "      <td>0.497962</td>\n",
       "      <td>2985</td>\n",
       "    </tr>\n",
       "    <tr>\n",
       "      <th>6-10</th>\n",
       "      <td>368</td>\n",
       "      <td>0.532853</td>\n",
       "      <td>2664</td>\n",
       "    </tr>\n",
       "    <tr>\n",
       "      <th>11-25</th>\n",
       "      <td>101</td>\n",
       "      <td>0.459406</td>\n",
       "      <td>1425</td>\n",
       "    </tr>\n",
       "    <tr>\n",
       "      <th>26+</th>\n",
       "      <td>19</td>\n",
       "      <td>0.268421</td>\n",
       "      <td>1243</td>\n",
       "    </tr>\n",
       "  </tbody>\n",
       "</table>\n",
       "</div>"
      ],
      "text/plain": [
       "              unqiue_company  avg_no_education_share  workers_count\n",
       "company_size                                                       \n",
       "1                      18117                0.463377          18117\n",
       "2                       2709                0.466962           5418\n",
       "3                        921                0.487818           2763\n",
       "4-5                      687                0.497962           2985\n",
       "6-10                     368                0.532853           2664\n",
       "11-25                    101                0.459406           1425\n",
       "26+                       19                0.268421           1243"
      ]
     },
     "execution_count": 32,
     "metadata": {},
     "output_type": "execute_result"
    }
   ],
   "source": [
    "# Создадим сводную таблицу по категориям компаний\n",
    "new_workers_info =  workers_info.pivot_table(index='company_size',values=['workers_count','no_education_share','company_id']\n",
    "                        , aggfunc = {'workers_count':'sum',\n",
    "                                    'no_education_share':'mean',\n",
    "                                    'company_id':'nunique'})\n",
    "new_workers_info.columns = ['unqiue_company','avg_no_education_share','workers_count']\n",
    "new_workers_info"
   ]
  },
  {
   "cell_type": "markdown",
   "metadata": {},
   "source": [
    "___\n",
    "- Над большей частью стартапов работают команды из одного человека.\n",
    "- Присоединение таблицы degrees возможно для выполнения задания. Для этого нужно привести данные object_id сотрудников из таблицы degrees к похожему виду из столбцов people и education. При этом стоит заметить, что данны датасета degrees имеют уточняющий характер и новой важной информации могут не нести.\n",
    "- Если судить по данным, если над стартапом работают больше 25 человек,то пропусков в информации об образовании у людей будет меньше. Вероятнее всего, если стартапу требуется команда из 25+ человек, предпочтительнее будет, если над ним будут работать люди с подтверждённым образованием. Энутзиасты же или небольшие команды, работающие над небольшими проектами, могут начинать свои проекты без надобности в подтверждённом образовании.\n",
    "___\n"
   ]
  },
  {
   "cell_type": "markdown",
   "metadata": {
    "id": "Lz7qjM32xglW"
   },
   "source": [
    "### 2.3. Объединять или не объединять — вот в чём вопрос\n",
    "\n",
    "Некоторые названия столбцов встречаются в датасетах чаще других. В результате предварительной проверки датасетов было выяснено, что столбец `company_id` подходит для объединения данных.\n",
    "\n",
    "- Установите, подходит ли для объединения данных столбец `network_username`, который встречается в нескольких датасетах. Нам необходимо понимать, дублируется ли для разных датасетов информация в столбцах с таким названием, и если да — то насколько часто.\n",
    "- Оцените, можно ли использовать столбцы с именем `network_username` для объединения данных."
   ]
  },
  {
   "cell_type": "markdown",
   "metadata": {},
   "source": [
    "Столбец `network_username` встречается в датасетах `company_and_rounds` и `people`, также как и столбец `company_id`. Узнаем, сколько уникальных значений хранит столбец `network_username` в обоих датасетах."
   ]
  },
  {
   "cell_type": "code",
   "execution_count": 33,
   "metadata": {},
   "outputs": [
    {
     "name": "stdout",
     "output_type": "stream",
     "text": [
      "38421 уникальных значений в столбце network_username в датасете people\n",
      "79571 уникальных значений в столбце network_username в датасете company_and_rounds\n"
     ]
    }
   ],
   "source": [
    "a = ppl_df['network_username'].nunique()\n",
    "b = car_df['network_username'].nunique()\n",
    "\n",
    "print(f'{a} уникальных значений в столбце network_username в датасете people')\n",
    "print(f'{b} уникальных значений в столбце network_username в датасете company_and_rounds')"
   ]
  },
  {
   "cell_type": "markdown",
   "metadata": {},
   "source": [
    "Количество уникальных значений в датасетах в столбце `network_username` отличается почти в 2 раза. При размер датасетов примерно одинаковый. Это может говорить о том, что в датасете `people` есть существенный объем пропусков по этому столбцу\n"
   ]
  },
  {
   "cell_type": "markdown",
   "metadata": {},
   "source": [
    "Посмотрим на то, сколько пропусков в столбце `network_username` в обоих датасетах"
   ]
  },
  {
   "cell_type": "code",
   "execution_count": 34,
   "metadata": {},
   "outputs": [
    {
     "data": {
      "text/plain": [
       "187842"
      ]
     },
     "execution_count": 34,
     "metadata": {},
     "output_type": "execute_result"
    }
   ],
   "source": [
    "# Количество пропусков в столбце network_username датасета people\n",
    "ppl_df['network_username'].isna().sum()"
   ]
  },
  {
   "cell_type": "code",
   "execution_count": 35,
   "metadata": {},
   "outputs": [
    {
     "data": {
      "text/plain": [
       "122240"
      ]
     },
     "execution_count": 35,
     "metadata": {},
     "output_type": "execute_result"
    }
   ],
   "source": [
    "# Количество пропусков в столбце network_username датасета comapny_and_rounds\n",
    "car_df['network_username'].isna().sum()"
   ]
  },
  {
   "cell_type": "markdown",
   "metadata": {},
   "source": [
    "Существенное количество пропусков в обоих столбцах датасетов. Проверим столбцы на дубликаты."
   ]
  },
  {
   "cell_type": "code",
   "execution_count": 36,
   "metadata": {},
   "outputs": [
    {
     "data": {
      "text/plain": [
       "188287"
      ]
     },
     "execution_count": 36,
     "metadata": {},
     "output_type": "execute_result"
    }
   ],
   "source": [
    "# Дулбликаты в датасете people\n",
    "ppl_df['network_username'].duplicated().sum()"
   ]
  },
  {
   "cell_type": "code",
   "execution_count": 37,
   "metadata": {},
   "outputs": [
    {
     "data": {
      "text/plain": [
       "138202"
      ]
     },
     "execution_count": 37,
     "metadata": {},
     "output_type": "execute_result"
    }
   ],
   "source": [
    "# # Дулбликаты в датасете company_and_rounds\n",
    "car_df['network_username'].duplicated().sum()"
   ]
  },
  {
   "cell_type": "markdown",
   "metadata": {},
   "source": [
    "Большое количество дубликатов по всем данным в датасетах `people` и `company_and_rounds`. Попробуем визуализировать узнать количество пересечений уникальных значений в датасетах по столбцу `network_username`"
   ]
  },
  {
   "cell_type": "code",
   "execution_count": 38,
   "metadata": {},
   "outputs": [],
   "source": [
    "# Усталавниваем нужную для визуализации библиотеку matplotlib-venn\n",
    "!pip install matplotlib-venn -q\n",
    "from matplotlib_venn import venn2, venn3 #(venn3 - Это если сразу три кругляшка построить)\n",
    "import matplotlib.pyplot as plt"
   ]
  },
  {
   "cell_type": "code",
   "execution_count": 39,
   "metadata": {},
   "outputs": [
    {
     "data": {
      "image/png": "[encoded data removed]",
      "text/plain": [
       "<Figure size 432x288 with 1 Axes>"
      ]
     },
     "metadata": {},
     "output_type": "display_data"
    }
   ],
   "source": [
    "# Строим диаграмму Венна\n",
    "venn2([set(ppl_df['network_username'].unique()), set(car_df['network_username'].unique())], set_labels=('People username', 'Company username'))\n",
    "\n",
    "# Отображаем график\n",
    "plt.title(\"Пересечение пользователей Company Users и Fund Users\")\n",
    "#plt.figure(figsize=(12,6))\n",
    "plt.show() "
   ]
  },
  {
   "cell_type": "markdown",
   "metadata": {},
   "source": [
    "___\n",
    "Количество дубликатов в датасете `company_and_rounds` меньше, чем в `people`. В обоих датасетах количество дубликатов существенное, но если в `company_and_rounds` дубликаты могут означать участие одних и тех же пользователей в  разных раундах финансирования, то дубликаты в `people` вызывает вопросы. \n",
    "\n",
    "Количество пересечений уникальных значений невелико - 2200. Помимо этого, сам характер данных столбца `network_username` для каждого датасета разный. Если в `people` столбец указывает никнейм **человека** в социальных сетях, то в `company_and_rounds` это никнейм **компании**. Конечно, отдельная личность может проводить инвестиционные действия в отношении каких либо стартапов, потому могут возникать пересечения в данных. Также и человек может выбрать для своего никнейма название какой либо компании. Но в датасете `people` хранится информация о людях\\сотрудниках, а в `company_and_rounds` о инвестиционных действиях компаний. При объединении этих датасетов мы получим некорректный датасет.\n",
    "___"
   ]
  },
  {
   "cell_type": "markdown",
   "metadata": {
    "id": "EHcODomVrJg1"
   },
   "source": [
    "\n",
    "### 2.4. Проблемный датасет и причина возникновения пропусков\n",
    "\n",
    "Во время собственного анализа данных у заказчика больше всего вопросов возникло к датасету `company_and_rounds.csv`. В нём много пропусков как раз в информации о раундах, которая заказчику важна.\n",
    "\n",
    "- Любым удобным способом приведите данные в вид, который позволит в дальнейшем проводить анализ в разрезе отдельных компаний. Обратите внимание на структуру датасета, порядок и названия столбцов, проанализируйте значения.\n",
    "\n",
    "По гипотезе заказчика данные по компаниям из этой таблицы раньше хранились иначе, более удобным для исследования образом.\n",
    "\n",
    "- Максимальным образом сохраняя данные, сохранив их связность и исключив возможные возникающие при этом ошибки, подготовьте данные так, чтобы удобно было отобрать компании по параметрам и рассчитать показатели из расчёта на одну компанию без промежуточных агрегаций."
   ]
  },
  {
   "cell_type": "code",
   "execution_count": 40,
   "metadata": {},
   "outputs": [
    {
     "data": {
      "text/plain": [
       "company_ID                302\n",
       "name                      302\n",
       "category_code           73888\n",
       "status                    302\n",
       "founded_at             107818\n",
       "closed_at              214325\n",
       "domain                  70615\n",
       "network_username       122240\n",
       "country_code           109167\n",
       "investment_rounds         302\n",
       "funding_rounds            302\n",
       "funding_total             302\n",
       "milestones                302\n",
       "funding_round_id       164846\n",
       "company_id             164846\n",
       "funded_at              165094\n",
       "funding_round_type     164846\n",
       "raised_amount          164846\n",
       "pre_money_valuation    164846\n",
       "participants           164846\n",
       "is_first_round         164846\n",
       "is_last_round          164846\n",
       "dtype: int64"
      ]
     },
     "execution_count": 40,
     "metadata": {},
     "output_type": "execute_result"
    }
   ],
   "source": [
    "# Проверим количество пустых значений\n",
    "car_df.isna().sum()"
   ]
  },
  {
   "cell_type": "code",
   "execution_count": 41,
   "metadata": {
    "id": "oSk7xqu_FbaN",
    "scrolled": false
   },
   "outputs": [
    {
     "name": "stdout",
     "output_type": "stream",
     "text": [
      "company_ID                             1.0\n",
      "name                              Wetpaint\n",
      "category_code                          web\n",
      "status                           operating\n",
      "founded_at             2005-10-17 00:00:00\n",
      "closed_at                              NaT\n",
      "domain                    wetpaint-inc.com\n",
      "network_username           BachelrWetpaint\n",
      "country_code                           USA\n",
      "investment_rounds                      0.0\n",
      "funding_rounds                         3.0\n",
      "funding_total                   39750000.0\n",
      "milestones                             5.0\n",
      "funding_round_id                     888.0\n",
      "company_id                             1.0\n",
      "funded_at              2005-10-01 00:00:00\n",
      "funding_round_type                series-a\n",
      "raised_amount                    5250000.0\n",
      "pre_money_valuation                    0.0\n",
      "participants                           2.0\n",
      "is_first_round                         0.0\n",
      "is_last_round                          1.0\n",
      "Name: 0, dtype: object\n",
      "\n",
      "company_ID                             1.0\n",
      "name                              Wetpaint\n",
      "category_code                          web\n",
      "status                           operating\n",
      "founded_at             2005-10-17 00:00:00\n",
      "closed_at                              NaT\n",
      "domain                    wetpaint-inc.com\n",
      "network_username           BachelrWetpaint\n",
      "country_code                           USA\n",
      "investment_rounds                      0.0\n",
      "funding_rounds                         3.0\n",
      "funding_total                   39750000.0\n",
      "milestones                             5.0\n",
      "funding_round_id                     889.0\n",
      "company_id                             1.0\n",
      "funded_at              2007-01-01 00:00:00\n",
      "funding_round_type                series-b\n",
      "raised_amount                    9500000.0\n",
      "pre_money_valuation                    0.0\n",
      "participants                           3.0\n",
      "is_first_round                         0.0\n",
      "is_last_round                          0.0\n",
      "Name: 1, dtype: object\n",
      "\n",
      "company_ID                             1.0\n",
      "name                              Wetpaint\n",
      "category_code                          web\n",
      "status                           operating\n",
      "founded_at             2005-10-17 00:00:00\n",
      "closed_at                              NaT\n",
      "domain                    wetpaint-inc.com\n",
      "network_username           BachelrWetpaint\n",
      "country_code                           USA\n",
      "investment_rounds                      0.0\n",
      "funding_rounds                         3.0\n",
      "funding_total                   39750000.0\n",
      "milestones                             5.0\n",
      "funding_round_id                    2312.0\n",
      "company_id                             1.0\n",
      "funded_at              2008-05-19 00:00:00\n",
      "funding_round_type               series-c+\n",
      "raised_amount                   25000000.0\n",
      "pre_money_valuation                    0.0\n",
      "participants                           4.0\n",
      "is_first_round                         1.0\n",
      "is_last_round                          0.0\n",
      "Name: 2, dtype: object\n",
      "\n"
     ]
    }
   ],
   "source": [
    "# Исследуем первые три строки датасета company_and_rounds\n",
    "for i in range(3):\n",
    "    print(car_df.loc[i])\n",
    "    print()"
   ]
  },
  {
   "cell_type": "markdown",
   "metadata": {
    "id": "9BY9lTUcFbJ-"
   },
   "source": [
    "После анализа первых строк датасета, можно сделать предположение, что датасет `company_and_rounds` состоит из двух датасетов:\n",
    "- первый датасет начинается со столбца `company_ID` и заканчивается на `milestones`. Это датасет, который хранил общую информацию о компаниях и ее раундах инвестирования и финансирования, `founded_at` является столбцом с датой открытия компании, следом за ней `closed_at` - указывает дату закрытия. Также указана общая сумма, которую  компания финансировала и т.д.\n",
    "- второй датасет начинается со столбца `funding_round_id` и заканчивается на `is_last_round`. Датасет хранил информацию о самих финансированиях. Какой раунд финансирования, какая сумма, является ли раунд финансирования первым или последним, тип раунда финансирования.\n",
    "\n",
    "Попробуем раздлить данный датасет на два  отдельных."
   ]
  },
  {
   "cell_type": "code",
   "execution_count": 42,
   "metadata": {},
   "outputs": [
    {
     "data": {
      "text/html": [
       "<div>\n",
       "<style scoped>\n",
       "    .dataframe tbody tr th:only-of-type {\n",
       "        vertical-align: middle;\n",
       "    }\n",
       "\n",
       "    .dataframe tbody tr th {\n",
       "        vertical-align: top;\n",
       "    }\n",
       "\n",
       "    .dataframe thead th {\n",
       "        text-align: right;\n",
       "    }\n",
       "</style>\n",
       "<table border=\"1\" class=\"dataframe\">\n",
       "  <thead>\n",
       "    <tr style=\"text-align: right;\">\n",
       "      <th></th>\n",
       "      <th>company_ID</th>\n",
       "      <th>name</th>\n",
       "      <th>category_code</th>\n",
       "      <th>status</th>\n",
       "      <th>founded_at</th>\n",
       "      <th>closed_at</th>\n",
       "      <th>domain</th>\n",
       "      <th>network_username</th>\n",
       "      <th>country_code</th>\n",
       "      <th>investment_rounds</th>\n",
       "      <th>funding_rounds</th>\n",
       "      <th>funding_total</th>\n",
       "      <th>milestones</th>\n",
       "    </tr>\n",
       "  </thead>\n",
       "  <tbody>\n",
       "    <tr>\n",
       "      <th>0</th>\n",
       "      <td>1.0</td>\n",
       "      <td>Wetpaint</td>\n",
       "      <td>web</td>\n",
       "      <td>operating</td>\n",
       "      <td>2005-10-17</td>\n",
       "      <td>NaT</td>\n",
       "      <td>wetpaint-inc.com</td>\n",
       "      <td>BachelrWetpaint</td>\n",
       "      <td>USA</td>\n",
       "      <td>0.0</td>\n",
       "      <td>3.0</td>\n",
       "      <td>39750000.0</td>\n",
       "      <td>5.0</td>\n",
       "    </tr>\n",
       "    <tr>\n",
       "      <th>1</th>\n",
       "      <td>1.0</td>\n",
       "      <td>Wetpaint</td>\n",
       "      <td>web</td>\n",
       "      <td>operating</td>\n",
       "      <td>2005-10-17</td>\n",
       "      <td>NaT</td>\n",
       "      <td>wetpaint-inc.com</td>\n",
       "      <td>BachelrWetpaint</td>\n",
       "      <td>USA</td>\n",
       "      <td>0.0</td>\n",
       "      <td>3.0</td>\n",
       "      <td>39750000.0</td>\n",
       "      <td>5.0</td>\n",
       "    </tr>\n",
       "    <tr>\n",
       "      <th>2</th>\n",
       "      <td>1.0</td>\n",
       "      <td>Wetpaint</td>\n",
       "      <td>web</td>\n",
       "      <td>operating</td>\n",
       "      <td>2005-10-17</td>\n",
       "      <td>NaT</td>\n",
       "      <td>wetpaint-inc.com</td>\n",
       "      <td>BachelrWetpaint</td>\n",
       "      <td>USA</td>\n",
       "      <td>0.0</td>\n",
       "      <td>3.0</td>\n",
       "      <td>39750000.0</td>\n",
       "      <td>5.0</td>\n",
       "    </tr>\n",
       "    <tr>\n",
       "      <th>3</th>\n",
       "      <td>10.0</td>\n",
       "      <td>Flektor</td>\n",
       "      <td>games_video</td>\n",
       "      <td>acquired</td>\n",
       "      <td>NaT</td>\n",
       "      <td>NaT</td>\n",
       "      <td>flektor.com</td>\n",
       "      <td>NaN</td>\n",
       "      <td>USA</td>\n",
       "      <td>0.0</td>\n",
       "      <td>0.0</td>\n",
       "      <td>0.0</td>\n",
       "      <td>0.0</td>\n",
       "    </tr>\n",
       "    <tr>\n",
       "      <th>4</th>\n",
       "      <td>100.0</td>\n",
       "      <td>There</td>\n",
       "      <td>games_video</td>\n",
       "      <td>acquired</td>\n",
       "      <td>NaT</td>\n",
       "      <td>NaT</td>\n",
       "      <td>there.com</td>\n",
       "      <td>NaN</td>\n",
       "      <td>USA</td>\n",
       "      <td>0.0</td>\n",
       "      <td>0.0</td>\n",
       "      <td>0.0</td>\n",
       "      <td>4.0</td>\n",
       "    </tr>\n",
       "    <tr>\n",
       "      <th>...</th>\n",
       "      <td>...</td>\n",
       "      <td>...</td>\n",
       "      <td>...</td>\n",
       "      <td>...</td>\n",
       "      <td>...</td>\n",
       "      <td>...</td>\n",
       "      <td>...</td>\n",
       "      <td>...</td>\n",
       "      <td>...</td>\n",
       "      <td>...</td>\n",
       "      <td>...</td>\n",
       "      <td>...</td>\n",
       "      <td>...</td>\n",
       "    </tr>\n",
       "    <tr>\n",
       "      <th>217769</th>\n",
       "      <td>NaN</td>\n",
       "      <td>NaN</td>\n",
       "      <td>NaN</td>\n",
       "      <td>NaN</td>\n",
       "      <td>NaT</td>\n",
       "      <td>NaT</td>\n",
       "      <td>NaN</td>\n",
       "      <td>NaN</td>\n",
       "      <td>NaN</td>\n",
       "      <td>NaN</td>\n",
       "      <td>NaN</td>\n",
       "      <td>NaN</td>\n",
       "      <td>NaN</td>\n",
       "    </tr>\n",
       "    <tr>\n",
       "      <th>217770</th>\n",
       "      <td>NaN</td>\n",
       "      <td>NaN</td>\n",
       "      <td>NaN</td>\n",
       "      <td>NaN</td>\n",
       "      <td>NaT</td>\n",
       "      <td>NaT</td>\n",
       "      <td>NaN</td>\n",
       "      <td>NaN</td>\n",
       "      <td>NaN</td>\n",
       "      <td>NaN</td>\n",
       "      <td>NaN</td>\n",
       "      <td>NaN</td>\n",
       "      <td>NaN</td>\n",
       "    </tr>\n",
       "    <tr>\n",
       "      <th>217771</th>\n",
       "      <td>NaN</td>\n",
       "      <td>NaN</td>\n",
       "      <td>NaN</td>\n",
       "      <td>NaN</td>\n",
       "      <td>NaT</td>\n",
       "      <td>NaT</td>\n",
       "      <td>NaN</td>\n",
       "      <td>NaN</td>\n",
       "      <td>NaN</td>\n",
       "      <td>NaN</td>\n",
       "      <td>NaN</td>\n",
       "      <td>NaN</td>\n",
       "      <td>NaN</td>\n",
       "    </tr>\n",
       "    <tr>\n",
       "      <th>217772</th>\n",
       "      <td>NaN</td>\n",
       "      <td>NaN</td>\n",
       "      <td>NaN</td>\n",
       "      <td>NaN</td>\n",
       "      <td>NaT</td>\n",
       "      <td>NaT</td>\n",
       "      <td>NaN</td>\n",
       "      <td>NaN</td>\n",
       "      <td>NaN</td>\n",
       "      <td>NaN</td>\n",
       "      <td>NaN</td>\n",
       "      <td>NaN</td>\n",
       "      <td>NaN</td>\n",
       "    </tr>\n",
       "    <tr>\n",
       "      <th>217773</th>\n",
       "      <td>NaN</td>\n",
       "      <td>NaN</td>\n",
       "      <td>NaN</td>\n",
       "      <td>NaN</td>\n",
       "      <td>NaT</td>\n",
       "      <td>NaT</td>\n",
       "      <td>NaN</td>\n",
       "      <td>NaN</td>\n",
       "      <td>NaN</td>\n",
       "      <td>NaN</td>\n",
       "      <td>NaN</td>\n",
       "      <td>NaN</td>\n",
       "      <td>NaN</td>\n",
       "    </tr>\n",
       "  </tbody>\n",
       "</table>\n",
       "<p>217774 rows × 13 columns</p>\n",
       "</div>"
      ],
      "text/plain": [
       "        company_ID      name category_code     status founded_at closed_at  \\\n",
       "0              1.0  Wetpaint           web  operating 2005-10-17       NaT   \n",
       "1              1.0  Wetpaint           web  operating 2005-10-17       NaT   \n",
       "2              1.0  Wetpaint           web  operating 2005-10-17       NaT   \n",
       "3             10.0   Flektor   games_video   acquired        NaT       NaT   \n",
       "4            100.0     There   games_video   acquired        NaT       NaT   \n",
       "...            ...       ...           ...        ...        ...       ...   \n",
       "217769         NaN       NaN           NaN        NaN        NaT       NaT   \n",
       "217770         NaN       NaN           NaN        NaN        NaT       NaT   \n",
       "217771         NaN       NaN           NaN        NaN        NaT       NaT   \n",
       "217772         NaN       NaN           NaN        NaN        NaT       NaT   \n",
       "217773         NaN       NaN           NaN        NaN        NaT       NaT   \n",
       "\n",
       "                  domain network_username country_code  investment_rounds  \\\n",
       "0       wetpaint-inc.com  BachelrWetpaint          USA                0.0   \n",
       "1       wetpaint-inc.com  BachelrWetpaint          USA                0.0   \n",
       "2       wetpaint-inc.com  BachelrWetpaint          USA                0.0   \n",
       "3            flektor.com              NaN          USA                0.0   \n",
       "4              there.com              NaN          USA                0.0   \n",
       "...                  ...              ...          ...                ...   \n",
       "217769               NaN              NaN          NaN                NaN   \n",
       "217770               NaN              NaN          NaN                NaN   \n",
       "217771               NaN              NaN          NaN                NaN   \n",
       "217772               NaN              NaN          NaN                NaN   \n",
       "217773               NaN              NaN          NaN                NaN   \n",
       "\n",
       "        funding_rounds  funding_total  milestones  \n",
       "0                  3.0     39750000.0         5.0  \n",
       "1                  3.0     39750000.0         5.0  \n",
       "2                  3.0     39750000.0         5.0  \n",
       "3                  0.0            0.0         0.0  \n",
       "4                  0.0            0.0         4.0  \n",
       "...                ...            ...         ...  \n",
       "217769             NaN            NaN         NaN  \n",
       "217770             NaN            NaN         NaN  \n",
       "217771             NaN            NaN         NaN  \n",
       "217772             NaN            NaN         NaN  \n",
       "217773             NaN            NaN         NaN  \n",
       "\n",
       "[217774 rows x 13 columns]"
      ]
     },
     "execution_count": 42,
     "metadata": {},
     "output_type": "execute_result"
    }
   ],
   "source": [
    "# Создадим новый датасет company\n",
    "company_df = car_df.iloc[:,0:13]\n",
    "company_df"
   ]
  },
  {
   "cell_type": "code",
   "execution_count": 43,
   "metadata": {},
   "outputs": [
    {
     "data": {
      "text/html": [
       "<div>\n",
       "<style scoped>\n",
       "    .dataframe tbody tr th:only-of-type {\n",
       "        vertical-align: middle;\n",
       "    }\n",
       "\n",
       "    .dataframe tbody tr th {\n",
       "        vertical-align: top;\n",
       "    }\n",
       "\n",
       "    .dataframe thead th {\n",
       "        text-align: right;\n",
       "    }\n",
       "</style>\n",
       "<table border=\"1\" class=\"dataframe\">\n",
       "  <thead>\n",
       "    <tr style=\"text-align: right;\">\n",
       "      <th></th>\n",
       "      <th>funding_round_id</th>\n",
       "      <th>company_id</th>\n",
       "      <th>funded_at</th>\n",
       "      <th>funding_round_type</th>\n",
       "      <th>raised_amount</th>\n",
       "      <th>pre_money_valuation</th>\n",
       "      <th>participants</th>\n",
       "      <th>is_first_round</th>\n",
       "      <th>is_last_round</th>\n",
       "    </tr>\n",
       "  </thead>\n",
       "  <tbody>\n",
       "    <tr>\n",
       "      <th>0</th>\n",
       "      <td>888.0</td>\n",
       "      <td>1.0</td>\n",
       "      <td>2005-10-01</td>\n",
       "      <td>series-a</td>\n",
       "      <td>5250000.0</td>\n",
       "      <td>0.0</td>\n",
       "      <td>2.0</td>\n",
       "      <td>0.0</td>\n",
       "      <td>1.0</td>\n",
       "    </tr>\n",
       "    <tr>\n",
       "      <th>1</th>\n",
       "      <td>889.0</td>\n",
       "      <td>1.0</td>\n",
       "      <td>2007-01-01</td>\n",
       "      <td>series-b</td>\n",
       "      <td>9500000.0</td>\n",
       "      <td>0.0</td>\n",
       "      <td>3.0</td>\n",
       "      <td>0.0</td>\n",
       "      <td>0.0</td>\n",
       "    </tr>\n",
       "    <tr>\n",
       "      <th>2</th>\n",
       "      <td>2312.0</td>\n",
       "      <td>1.0</td>\n",
       "      <td>2008-05-19</td>\n",
       "      <td>series-c+</td>\n",
       "      <td>25000000.0</td>\n",
       "      <td>0.0</td>\n",
       "      <td>4.0</td>\n",
       "      <td>1.0</td>\n",
       "      <td>0.0</td>\n",
       "    </tr>\n",
       "    <tr>\n",
       "      <th>3</th>\n",
       "      <td>NaN</td>\n",
       "      <td>NaN</td>\n",
       "      <td>NaT</td>\n",
       "      <td>NaN</td>\n",
       "      <td>NaN</td>\n",
       "      <td>NaN</td>\n",
       "      <td>NaN</td>\n",
       "      <td>NaN</td>\n",
       "      <td>NaN</td>\n",
       "    </tr>\n",
       "    <tr>\n",
       "      <th>4</th>\n",
       "      <td>NaN</td>\n",
       "      <td>NaN</td>\n",
       "      <td>NaT</td>\n",
       "      <td>NaN</td>\n",
       "      <td>NaN</td>\n",
       "      <td>NaN</td>\n",
       "      <td>NaN</td>\n",
       "      <td>NaN</td>\n",
       "      <td>NaN</td>\n",
       "    </tr>\n",
       "    <tr>\n",
       "      <th>...</th>\n",
       "      <td>...</td>\n",
       "      <td>...</td>\n",
       "      <td>...</td>\n",
       "      <td>...</td>\n",
       "      <td>...</td>\n",
       "      <td>...</td>\n",
       "      <td>...</td>\n",
       "      <td>...</td>\n",
       "      <td>...</td>\n",
       "    </tr>\n",
       "    <tr>\n",
       "      <th>217769</th>\n",
       "      <td>56454.0</td>\n",
       "      <td>282847.0</td>\n",
       "      <td>2011-01-31</td>\n",
       "      <td>other</td>\n",
       "      <td>5500000.0</td>\n",
       "      <td>0.0</td>\n",
       "      <td>0.0</td>\n",
       "      <td>1.0</td>\n",
       "      <td>1.0</td>\n",
       "    </tr>\n",
       "    <tr>\n",
       "      <th>217770</th>\n",
       "      <td>56542.0</td>\n",
       "      <td>55477.0</td>\n",
       "      <td>2011-01-13</td>\n",
       "      <td>venture</td>\n",
       "      <td>10633300.0</td>\n",
       "      <td>0.0</td>\n",
       "      <td>0.0</td>\n",
       "      <td>0.0</td>\n",
       "      <td>1.0</td>\n",
       "    </tr>\n",
       "    <tr>\n",
       "      <th>217771</th>\n",
       "      <td>56543.0</td>\n",
       "      <td>55477.0</td>\n",
       "      <td>2012-05-31</td>\n",
       "      <td>venture</td>\n",
       "      <td>2125720.0</td>\n",
       "      <td>0.0</td>\n",
       "      <td>0.0</td>\n",
       "      <td>1.0</td>\n",
       "      <td>0.0</td>\n",
       "    </tr>\n",
       "    <tr>\n",
       "      <th>217772</th>\n",
       "      <td>56928.0</td>\n",
       "      <td>283492.0</td>\n",
       "      <td>2013-12-03</td>\n",
       "      <td>venture</td>\n",
       "      <td>3602480.0</td>\n",
       "      <td>0.0</td>\n",
       "      <td>5.0</td>\n",
       "      <td>1.0</td>\n",
       "      <td>1.0</td>\n",
       "    </tr>\n",
       "    <tr>\n",
       "      <th>217773</th>\n",
       "      <td>57063.0</td>\n",
       "      <td>284191.0</td>\n",
       "      <td>2013-12-04</td>\n",
       "      <td>venture</td>\n",
       "      <td>7000000.0</td>\n",
       "      <td>0.0</td>\n",
       "      <td>4.0</td>\n",
       "      <td>1.0</td>\n",
       "      <td>1.0</td>\n",
       "    </tr>\n",
       "  </tbody>\n",
       "</table>\n",
       "<p>217774 rows × 9 columns</p>\n",
       "</div>"
      ],
      "text/plain": [
       "        funding_round_id  company_id  funded_at funding_round_type  \\\n",
       "0                  888.0         1.0 2005-10-01           series-a   \n",
       "1                  889.0         1.0 2007-01-01           series-b   \n",
       "2                 2312.0         1.0 2008-05-19          series-c+   \n",
       "3                    NaN         NaN        NaT                NaN   \n",
       "4                    NaN         NaN        NaT                NaN   \n",
       "...                  ...         ...        ...                ...   \n",
       "217769           56454.0    282847.0 2011-01-31              other   \n",
       "217770           56542.0     55477.0 2011-01-13            venture   \n",
       "217771           56543.0     55477.0 2012-05-31            venture   \n",
       "217772           56928.0    283492.0 2013-12-03            venture   \n",
       "217773           57063.0    284191.0 2013-12-04            venture   \n",
       "\n",
       "        raised_amount  pre_money_valuation  participants  is_first_round  \\\n",
       "0           5250000.0                  0.0           2.0             0.0   \n",
       "1           9500000.0                  0.0           3.0             0.0   \n",
       "2          25000000.0                  0.0           4.0             1.0   \n",
       "3                 NaN                  NaN           NaN             NaN   \n",
       "4                 NaN                  NaN           NaN             NaN   \n",
       "...               ...                  ...           ...             ...   \n",
       "217769      5500000.0                  0.0           0.0             1.0   \n",
       "217770     10633300.0                  0.0           0.0             0.0   \n",
       "217771      2125720.0                  0.0           0.0             1.0   \n",
       "217772      3602480.0                  0.0           5.0             1.0   \n",
       "217773      7000000.0                  0.0           4.0             1.0   \n",
       "\n",
       "        is_last_round  \n",
       "0                 1.0  \n",
       "1                 0.0  \n",
       "2                 0.0  \n",
       "3                 NaN  \n",
       "4                 NaN  \n",
       "...               ...  \n",
       "217769            1.0  \n",
       "217770            1.0  \n",
       "217771            0.0  \n",
       "217772            1.0  \n",
       "217773            1.0  \n",
       "\n",
       "[217774 rows x 9 columns]"
      ]
     },
     "execution_count": 43,
     "metadata": {},
     "output_type": "execute_result"
    }
   ],
   "source": [
    "# Создадим новый датасет rounds\n",
    "rounds_df = car_df.iloc[:,13:]\n",
    "rounds_df"
   ]
  },
  {
   "cell_type": "markdown",
   "metadata": {},
   "source": [
    "Проверим датасет `company_df` на полные дубликаты и удалим их"
   ]
  },
  {
   "cell_type": "code",
   "execution_count": 44,
   "metadata": {},
   "outputs": [
    {
     "name": "stdout",
     "output_type": "stream",
     "text": [
      "Количество полных дубликатов - 21220\n"
     ]
    }
   ],
   "source": [
    "print(f'Количество полных дубликатов - {company_df.duplicated().sum()}')"
   ]
  },
  {
   "cell_type": "code",
   "execution_count": 45,
   "metadata": {},
   "outputs": [
    {
     "data": {
      "text/html": [
       "<div>\n",
       "<style scoped>\n",
       "    .dataframe tbody tr th:only-of-type {\n",
       "        vertical-align: middle;\n",
       "    }\n",
       "\n",
       "    .dataframe tbody tr th {\n",
       "        vertical-align: top;\n",
       "    }\n",
       "\n",
       "    .dataframe thead th {\n",
       "        text-align: right;\n",
       "    }\n",
       "</style>\n",
       "<table border=\"1\" class=\"dataframe\">\n",
       "  <thead>\n",
       "    <tr style=\"text-align: right;\">\n",
       "      <th></th>\n",
       "      <th>company_ID</th>\n",
       "      <th>name</th>\n",
       "      <th>category_code</th>\n",
       "      <th>status</th>\n",
       "      <th>founded_at</th>\n",
       "      <th>closed_at</th>\n",
       "      <th>domain</th>\n",
       "      <th>network_username</th>\n",
       "      <th>country_code</th>\n",
       "      <th>investment_rounds</th>\n",
       "      <th>funding_rounds</th>\n",
       "      <th>funding_total</th>\n",
       "      <th>milestones</th>\n",
       "    </tr>\n",
       "  </thead>\n",
       "  <tbody>\n",
       "    <tr>\n",
       "      <th>0</th>\n",
       "      <td>1.0</td>\n",
       "      <td>Wetpaint</td>\n",
       "      <td>web</td>\n",
       "      <td>operating</td>\n",
       "      <td>2005-10-17</td>\n",
       "      <td>NaT</td>\n",
       "      <td>wetpaint-inc.com</td>\n",
       "      <td>BachelrWetpaint</td>\n",
       "      <td>USA</td>\n",
       "      <td>0.0</td>\n",
       "      <td>3.0</td>\n",
       "      <td>39750000.0</td>\n",
       "      <td>5.0</td>\n",
       "    </tr>\n",
       "    <tr>\n",
       "      <th>3</th>\n",
       "      <td>10.0</td>\n",
       "      <td>Flektor</td>\n",
       "      <td>games_video</td>\n",
       "      <td>acquired</td>\n",
       "      <td>NaT</td>\n",
       "      <td>NaT</td>\n",
       "      <td>flektor.com</td>\n",
       "      <td>NaN</td>\n",
       "      <td>USA</td>\n",
       "      <td>0.0</td>\n",
       "      <td>0.0</td>\n",
       "      <td>0.0</td>\n",
       "      <td>0.0</td>\n",
       "    </tr>\n",
       "    <tr>\n",
       "      <th>4</th>\n",
       "      <td>100.0</td>\n",
       "      <td>There</td>\n",
       "      <td>games_video</td>\n",
       "      <td>acquired</td>\n",
       "      <td>NaT</td>\n",
       "      <td>NaT</td>\n",
       "      <td>there.com</td>\n",
       "      <td>NaN</td>\n",
       "      <td>USA</td>\n",
       "      <td>0.0</td>\n",
       "      <td>0.0</td>\n",
       "      <td>0.0</td>\n",
       "      <td>4.0</td>\n",
       "    </tr>\n",
       "    <tr>\n",
       "      <th>5</th>\n",
       "      <td>10000.0</td>\n",
       "      <td>MYWEBBO</td>\n",
       "      <td>network_hosting</td>\n",
       "      <td>operating</td>\n",
       "      <td>2008-07-26</td>\n",
       "      <td>NaT</td>\n",
       "      <td>mywebbo.com</td>\n",
       "      <td>NaN</td>\n",
       "      <td>NaN</td>\n",
       "      <td>0.0</td>\n",
       "      <td>0.0</td>\n",
       "      <td>0.0</td>\n",
       "      <td>0.0</td>\n",
       "    </tr>\n",
       "    <tr>\n",
       "      <th>6</th>\n",
       "      <td>10001.0</td>\n",
       "      <td>THE Movie Streamer</td>\n",
       "      <td>games_video</td>\n",
       "      <td>operating</td>\n",
       "      <td>2008-07-26</td>\n",
       "      <td>NaT</td>\n",
       "      <td>themoviestreamer.com</td>\n",
       "      <td>NaN</td>\n",
       "      <td>NaN</td>\n",
       "      <td>0.0</td>\n",
       "      <td>0.0</td>\n",
       "      <td>0.0</td>\n",
       "      <td>0.0</td>\n",
       "    </tr>\n",
       "    <tr>\n",
       "      <th>...</th>\n",
       "      <td>...</td>\n",
       "      <td>...</td>\n",
       "      <td>...</td>\n",
       "      <td>...</td>\n",
       "      <td>...</td>\n",
       "      <td>...</td>\n",
       "      <td>...</td>\n",
       "      <td>...</td>\n",
       "      <td>...</td>\n",
       "      <td>...</td>\n",
       "      <td>...</td>\n",
       "      <td>...</td>\n",
       "      <td>...</td>\n",
       "    </tr>\n",
       "    <tr>\n",
       "      <th>217463</th>\n",
       "      <td>3429.0</td>\n",
       "      <td>Zend Technologies</td>\n",
       "      <td>software</td>\n",
       "      <td>operating</td>\n",
       "      <td>1999-01-01</td>\n",
       "      <td>NaT</td>\n",
       "      <td>zend.com</td>\n",
       "      <td>networkzend</td>\n",
       "      <td>USA</td>\n",
       "      <td>0.0</td>\n",
       "      <td>4.0</td>\n",
       "      <td>44000000.0</td>\n",
       "      <td>6.0</td>\n",
       "    </tr>\n",
       "    <tr>\n",
       "      <th>217467</th>\n",
       "      <td>7748.0</td>\n",
       "      <td>Flowgram</td>\n",
       "      <td>web</td>\n",
       "      <td>closed</td>\n",
       "      <td>2007-06-01</td>\n",
       "      <td>2008-06-11</td>\n",
       "      <td>flowgram.com</td>\n",
       "      <td>network</td>\n",
       "      <td>USA</td>\n",
       "      <td>0.0</td>\n",
       "      <td>1.0</td>\n",
       "      <td>1300000.0</td>\n",
       "      <td>3.0</td>\n",
       "    </tr>\n",
       "    <tr>\n",
       "      <th>217468</th>\n",
       "      <td>174536.0</td>\n",
       "      <td>Pphotonet</td>\n",
       "      <td>games_video</td>\n",
       "      <td>operating</td>\n",
       "      <td>2012-05-01</td>\n",
       "      <td>NaT</td>\n",
       "      <td>pPhotonet.co</td>\n",
       "      <td>pPhotonet</td>\n",
       "      <td>NaN</td>\n",
       "      <td>0.0</td>\n",
       "      <td>0.0</td>\n",
       "      <td>0.0</td>\n",
       "      <td>0.0</td>\n",
       "    </tr>\n",
       "    <tr>\n",
       "      <th>217469</th>\n",
       "      <td>43233.0</td>\n",
       "      <td>Photonet</td>\n",
       "      <td>photo_video</td>\n",
       "      <td>acquired</td>\n",
       "      <td>2010-03-01</td>\n",
       "      <td>NaT</td>\n",
       "      <td>Photonet.com</td>\n",
       "      <td>Photonet</td>\n",
       "      <td>USA</td>\n",
       "      <td>0.0</td>\n",
       "      <td>3.0</td>\n",
       "      <td>57500000.0</td>\n",
       "      <td>3.0</td>\n",
       "    </tr>\n",
       "    <tr>\n",
       "      <th>217472</th>\n",
       "      <td>NaN</td>\n",
       "      <td>NaN</td>\n",
       "      <td>NaN</td>\n",
       "      <td>NaN</td>\n",
       "      <td>NaT</td>\n",
       "      <td>NaT</td>\n",
       "      <td>NaN</td>\n",
       "      <td>NaN</td>\n",
       "      <td>NaN</td>\n",
       "      <td>NaN</td>\n",
       "      <td>NaN</td>\n",
       "      <td>NaN</td>\n",
       "      <td>NaN</td>\n",
       "    </tr>\n",
       "  </tbody>\n",
       "</table>\n",
       "<p>196554 rows × 13 columns</p>\n",
       "</div>"
      ],
      "text/plain": [
       "        company_ID                name    category_code     status founded_at  \\\n",
       "0              1.0            Wetpaint              web  operating 2005-10-17   \n",
       "3             10.0             Flektor      games_video   acquired        NaT   \n",
       "4            100.0               There      games_video   acquired        NaT   \n",
       "5          10000.0             MYWEBBO  network_hosting  operating 2008-07-26   \n",
       "6          10001.0  THE Movie Streamer      games_video  operating 2008-07-26   \n",
       "...            ...                 ...              ...        ...        ...   \n",
       "217463      3429.0   Zend Technologies         software  operating 1999-01-01   \n",
       "217467      7748.0            Flowgram              web     closed 2007-06-01   \n",
       "217468    174536.0           Pphotonet      games_video  operating 2012-05-01   \n",
       "217469     43233.0            Photonet      photo_video   acquired 2010-03-01   \n",
       "217472         NaN                 NaN              NaN        NaN        NaT   \n",
       "\n",
       "        closed_at                domain network_username country_code  \\\n",
       "0             NaT      wetpaint-inc.com  BachelrWetpaint          USA   \n",
       "3             NaT           flektor.com              NaN          USA   \n",
       "4             NaT             there.com              NaN          USA   \n",
       "5             NaT           mywebbo.com              NaN          NaN   \n",
       "6             NaT  themoviestreamer.com              NaN          NaN   \n",
       "...           ...                   ...              ...          ...   \n",
       "217463        NaT              zend.com      networkzend          USA   \n",
       "217467 2008-06-11          flowgram.com          network          USA   \n",
       "217468        NaT          pPhotonet.co        pPhotonet          NaN   \n",
       "217469        NaT          Photonet.com         Photonet          USA   \n",
       "217472        NaT                   NaN              NaN          NaN   \n",
       "\n",
       "        investment_rounds  funding_rounds  funding_total  milestones  \n",
       "0                     0.0             3.0     39750000.0         5.0  \n",
       "3                     0.0             0.0            0.0         0.0  \n",
       "4                     0.0             0.0            0.0         4.0  \n",
       "5                     0.0             0.0            0.0         0.0  \n",
       "6                     0.0             0.0            0.0         0.0  \n",
       "...                   ...             ...            ...         ...  \n",
       "217463                0.0             4.0     44000000.0         6.0  \n",
       "217467                0.0             1.0      1300000.0         3.0  \n",
       "217468                0.0             0.0            0.0         0.0  \n",
       "217469                0.0             3.0     57500000.0         3.0  \n",
       "217472                NaN             NaN            NaN         NaN  \n",
       "\n",
       "[196554 rows x 13 columns]"
      ]
     },
     "execution_count": 45,
     "metadata": {},
     "output_type": "execute_result"
    }
   ],
   "source": [
    "# Удаляем полные дубликаты\n",
    "company_df = company_df.drop_duplicates()\n",
    "company_df"
   ]
  },
  {
   "cell_type": "code",
   "execution_count": 46,
   "metadata": {},
   "outputs": [
    {
     "data": {
      "text/html": [
       "<div>\n",
       "<style scoped>\n",
       "    .dataframe tbody tr th:only-of-type {\n",
       "        vertical-align: middle;\n",
       "    }\n",
       "\n",
       "    .dataframe tbody tr th {\n",
       "        vertical-align: top;\n",
       "    }\n",
       "\n",
       "    .dataframe thead th {\n",
       "        text-align: right;\n",
       "    }\n",
       "</style>\n",
       "<table border=\"1\" class=\"dataframe\">\n",
       "  <thead>\n",
       "    <tr style=\"text-align: right;\">\n",
       "      <th></th>\n",
       "      <th>index</th>\n",
       "      <th>company_ID</th>\n",
       "      <th>name</th>\n",
       "      <th>category_code</th>\n",
       "      <th>status</th>\n",
       "      <th>founded_at</th>\n",
       "      <th>closed_at</th>\n",
       "      <th>domain</th>\n",
       "      <th>network_username</th>\n",
       "      <th>country_code</th>\n",
       "      <th>investment_rounds</th>\n",
       "      <th>funding_rounds</th>\n",
       "      <th>funding_total</th>\n",
       "      <th>milestones</th>\n",
       "    </tr>\n",
       "  </thead>\n",
       "  <tbody>\n",
       "    <tr>\n",
       "      <th>0</th>\n",
       "      <td>0</td>\n",
       "      <td>1.0</td>\n",
       "      <td>Wetpaint</td>\n",
       "      <td>web</td>\n",
       "      <td>operating</td>\n",
       "      <td>2005-10-17</td>\n",
       "      <td>NaT</td>\n",
       "      <td>wetpaint-inc.com</td>\n",
       "      <td>BachelrWetpaint</td>\n",
       "      <td>USA</td>\n",
       "      <td>0.0</td>\n",
       "      <td>3.0</td>\n",
       "      <td>39750000.0</td>\n",
       "      <td>5.0</td>\n",
       "    </tr>\n",
       "    <tr>\n",
       "      <th>1</th>\n",
       "      <td>3</td>\n",
       "      <td>10.0</td>\n",
       "      <td>Flektor</td>\n",
       "      <td>games_video</td>\n",
       "      <td>acquired</td>\n",
       "      <td>NaT</td>\n",
       "      <td>NaT</td>\n",
       "      <td>flektor.com</td>\n",
       "      <td>NaN</td>\n",
       "      <td>USA</td>\n",
       "      <td>0.0</td>\n",
       "      <td>0.0</td>\n",
       "      <td>0.0</td>\n",
       "      <td>0.0</td>\n",
       "    </tr>\n",
       "    <tr>\n",
       "      <th>2</th>\n",
       "      <td>4</td>\n",
       "      <td>100.0</td>\n",
       "      <td>There</td>\n",
       "      <td>games_video</td>\n",
       "      <td>acquired</td>\n",
       "      <td>NaT</td>\n",
       "      <td>NaT</td>\n",
       "      <td>there.com</td>\n",
       "      <td>NaN</td>\n",
       "      <td>USA</td>\n",
       "      <td>0.0</td>\n",
       "      <td>0.0</td>\n",
       "      <td>0.0</td>\n",
       "      <td>4.0</td>\n",
       "    </tr>\n",
       "    <tr>\n",
       "      <th>3</th>\n",
       "      <td>5</td>\n",
       "      <td>10000.0</td>\n",
       "      <td>MYWEBBO</td>\n",
       "      <td>network_hosting</td>\n",
       "      <td>operating</td>\n",
       "      <td>2008-07-26</td>\n",
       "      <td>NaT</td>\n",
       "      <td>mywebbo.com</td>\n",
       "      <td>NaN</td>\n",
       "      <td>NaN</td>\n",
       "      <td>0.0</td>\n",
       "      <td>0.0</td>\n",
       "      <td>0.0</td>\n",
       "      <td>0.0</td>\n",
       "    </tr>\n",
       "    <tr>\n",
       "      <th>4</th>\n",
       "      <td>6</td>\n",
       "      <td>10001.0</td>\n",
       "      <td>THE Movie Streamer</td>\n",
       "      <td>games_video</td>\n",
       "      <td>operating</td>\n",
       "      <td>2008-07-26</td>\n",
       "      <td>NaT</td>\n",
       "      <td>themoviestreamer.com</td>\n",
       "      <td>NaN</td>\n",
       "      <td>NaN</td>\n",
       "      <td>0.0</td>\n",
       "      <td>0.0</td>\n",
       "      <td>0.0</td>\n",
       "      <td>0.0</td>\n",
       "    </tr>\n",
       "    <tr>\n",
       "      <th>...</th>\n",
       "      <td>...</td>\n",
       "      <td>...</td>\n",
       "      <td>...</td>\n",
       "      <td>...</td>\n",
       "      <td>...</td>\n",
       "      <td>...</td>\n",
       "      <td>...</td>\n",
       "      <td>...</td>\n",
       "      <td>...</td>\n",
       "      <td>...</td>\n",
       "      <td>...</td>\n",
       "      <td>...</td>\n",
       "      <td>...</td>\n",
       "      <td>...</td>\n",
       "    </tr>\n",
       "    <tr>\n",
       "      <th>196549</th>\n",
       "      <td>217463</td>\n",
       "      <td>3429.0</td>\n",
       "      <td>Zend Technologies</td>\n",
       "      <td>software</td>\n",
       "      <td>operating</td>\n",
       "      <td>1999-01-01</td>\n",
       "      <td>NaT</td>\n",
       "      <td>zend.com</td>\n",
       "      <td>networkzend</td>\n",
       "      <td>USA</td>\n",
       "      <td>0.0</td>\n",
       "      <td>4.0</td>\n",
       "      <td>44000000.0</td>\n",
       "      <td>6.0</td>\n",
       "    </tr>\n",
       "    <tr>\n",
       "      <th>196550</th>\n",
       "      <td>217467</td>\n",
       "      <td>7748.0</td>\n",
       "      <td>Flowgram</td>\n",
       "      <td>web</td>\n",
       "      <td>closed</td>\n",
       "      <td>2007-06-01</td>\n",
       "      <td>2008-06-11</td>\n",
       "      <td>flowgram.com</td>\n",
       "      <td>network</td>\n",
       "      <td>USA</td>\n",
       "      <td>0.0</td>\n",
       "      <td>1.0</td>\n",
       "      <td>1300000.0</td>\n",
       "      <td>3.0</td>\n",
       "    </tr>\n",
       "    <tr>\n",
       "      <th>196551</th>\n",
       "      <td>217468</td>\n",
       "      <td>174536.0</td>\n",
       "      <td>Pphotonet</td>\n",
       "      <td>games_video</td>\n",
       "      <td>operating</td>\n",
       "      <td>2012-05-01</td>\n",
       "      <td>NaT</td>\n",
       "      <td>pPhotonet.co</td>\n",
       "      <td>pPhotonet</td>\n",
       "      <td>NaN</td>\n",
       "      <td>0.0</td>\n",
       "      <td>0.0</td>\n",
       "      <td>0.0</td>\n",
       "      <td>0.0</td>\n",
       "    </tr>\n",
       "    <tr>\n",
       "      <th>196552</th>\n",
       "      <td>217469</td>\n",
       "      <td>43233.0</td>\n",
       "      <td>Photonet</td>\n",
       "      <td>photo_video</td>\n",
       "      <td>acquired</td>\n",
       "      <td>2010-03-01</td>\n",
       "      <td>NaT</td>\n",
       "      <td>Photonet.com</td>\n",
       "      <td>Photonet</td>\n",
       "      <td>USA</td>\n",
       "      <td>0.0</td>\n",
       "      <td>3.0</td>\n",
       "      <td>57500000.0</td>\n",
       "      <td>3.0</td>\n",
       "    </tr>\n",
       "    <tr>\n",
       "      <th>196553</th>\n",
       "      <td>217472</td>\n",
       "      <td>NaN</td>\n",
       "      <td>NaN</td>\n",
       "      <td>NaN</td>\n",
       "      <td>NaN</td>\n",
       "      <td>NaT</td>\n",
       "      <td>NaT</td>\n",
       "      <td>NaN</td>\n",
       "      <td>NaN</td>\n",
       "      <td>NaN</td>\n",
       "      <td>NaN</td>\n",
       "      <td>NaN</td>\n",
       "      <td>NaN</td>\n",
       "      <td>NaN</td>\n",
       "    </tr>\n",
       "  </tbody>\n",
       "</table>\n",
       "<p>196554 rows × 14 columns</p>\n",
       "</div>"
      ],
      "text/plain": [
       "         index  company_ID                name    category_code     status  \\\n",
       "0            0         1.0            Wetpaint              web  operating   \n",
       "1            3        10.0             Flektor      games_video   acquired   \n",
       "2            4       100.0               There      games_video   acquired   \n",
       "3            5     10000.0             MYWEBBO  network_hosting  operating   \n",
       "4            6     10001.0  THE Movie Streamer      games_video  operating   \n",
       "...        ...         ...                 ...              ...        ...   \n",
       "196549  217463      3429.0   Zend Technologies         software  operating   \n",
       "196550  217467      7748.0            Flowgram              web     closed   \n",
       "196551  217468    174536.0           Pphotonet      games_video  operating   \n",
       "196552  217469     43233.0            Photonet      photo_video   acquired   \n",
       "196553  217472         NaN                 NaN              NaN        NaN   \n",
       "\n",
       "       founded_at  closed_at                domain network_username  \\\n",
       "0      2005-10-17        NaT      wetpaint-inc.com  BachelrWetpaint   \n",
       "1             NaT        NaT           flektor.com              NaN   \n",
       "2             NaT        NaT             there.com              NaN   \n",
       "3      2008-07-26        NaT           mywebbo.com              NaN   \n",
       "4      2008-07-26        NaT  themoviestreamer.com              NaN   \n",
       "...           ...        ...                   ...              ...   \n",
       "196549 1999-01-01        NaT              zend.com      networkzend   \n",
       "196550 2007-06-01 2008-06-11          flowgram.com          network   \n",
       "196551 2012-05-01        NaT          pPhotonet.co        pPhotonet   \n",
       "196552 2010-03-01        NaT          Photonet.com         Photonet   \n",
       "196553        NaT        NaT                   NaN              NaN   \n",
       "\n",
       "       country_code  investment_rounds  funding_rounds  funding_total  \\\n",
       "0               USA                0.0             3.0     39750000.0   \n",
       "1               USA                0.0             0.0            0.0   \n",
       "2               USA                0.0             0.0            0.0   \n",
       "3               NaN                0.0             0.0            0.0   \n",
       "4               NaN                0.0             0.0            0.0   \n",
       "...             ...                ...             ...            ...   \n",
       "196549          USA                0.0             4.0     44000000.0   \n",
       "196550          USA                0.0             1.0      1300000.0   \n",
       "196551          NaN                0.0             0.0            0.0   \n",
       "196552          USA                0.0             3.0     57500000.0   \n",
       "196553          NaN                NaN             NaN            NaN   \n",
       "\n",
       "        milestones  \n",
       "0              5.0  \n",
       "1              0.0  \n",
       "2              4.0  \n",
       "3              0.0  \n",
       "4              0.0  \n",
       "...            ...  \n",
       "196549         6.0  \n",
       "196550         3.0  \n",
       "196551         0.0  \n",
       "196552         3.0  \n",
       "196553         NaN  \n",
       "\n",
       "[196554 rows x 14 columns]"
      ]
     },
     "execution_count": 46,
     "metadata": {},
     "output_type": "execute_result"
    }
   ],
   "source": [
    "# Сбросим индексы датасета\n",
    "company_df = company_df.reset_index()\n",
    "company_df"
   ]
  },
  {
   "cell_type": "markdown",
   "metadata": {},
   "source": [
    "Уберем столбец со старыми индексами"
   ]
  },
  {
   "cell_type": "code",
   "execution_count": 47,
   "metadata": {},
   "outputs": [
    {
     "data": {
      "text/html": [
       "<div>\n",
       "<style scoped>\n",
       "    .dataframe tbody tr th:only-of-type {\n",
       "        vertical-align: middle;\n",
       "    }\n",
       "\n",
       "    .dataframe tbody tr th {\n",
       "        vertical-align: top;\n",
       "    }\n",
       "\n",
       "    .dataframe thead th {\n",
       "        text-align: right;\n",
       "    }\n",
       "</style>\n",
       "<table border=\"1\" class=\"dataframe\">\n",
       "  <thead>\n",
       "    <tr style=\"text-align: right;\">\n",
       "      <th></th>\n",
       "      <th>company_ID</th>\n",
       "      <th>name</th>\n",
       "      <th>category_code</th>\n",
       "      <th>status</th>\n",
       "      <th>founded_at</th>\n",
       "      <th>closed_at</th>\n",
       "      <th>domain</th>\n",
       "      <th>network_username</th>\n",
       "      <th>country_code</th>\n",
       "      <th>investment_rounds</th>\n",
       "      <th>funding_rounds</th>\n",
       "      <th>funding_total</th>\n",
       "      <th>milestones</th>\n",
       "    </tr>\n",
       "  </thead>\n",
       "  <tbody>\n",
       "    <tr>\n",
       "      <th>0</th>\n",
       "      <td>1.0</td>\n",
       "      <td>Wetpaint</td>\n",
       "      <td>web</td>\n",
       "      <td>operating</td>\n",
       "      <td>2005-10-17</td>\n",
       "      <td>NaT</td>\n",
       "      <td>wetpaint-inc.com</td>\n",
       "      <td>BachelrWetpaint</td>\n",
       "      <td>USA</td>\n",
       "      <td>0.0</td>\n",
       "      <td>3.0</td>\n",
       "      <td>39750000.0</td>\n",
       "      <td>5.0</td>\n",
       "    </tr>\n",
       "    <tr>\n",
       "      <th>1</th>\n",
       "      <td>10.0</td>\n",
       "      <td>Flektor</td>\n",
       "      <td>games_video</td>\n",
       "      <td>acquired</td>\n",
       "      <td>NaT</td>\n",
       "      <td>NaT</td>\n",
       "      <td>flektor.com</td>\n",
       "      <td>NaN</td>\n",
       "      <td>USA</td>\n",
       "      <td>0.0</td>\n",
       "      <td>0.0</td>\n",
       "      <td>0.0</td>\n",
       "      <td>0.0</td>\n",
       "    </tr>\n",
       "    <tr>\n",
       "      <th>2</th>\n",
       "      <td>100.0</td>\n",
       "      <td>There</td>\n",
       "      <td>games_video</td>\n",
       "      <td>acquired</td>\n",
       "      <td>NaT</td>\n",
       "      <td>NaT</td>\n",
       "      <td>there.com</td>\n",
       "      <td>NaN</td>\n",
       "      <td>USA</td>\n",
       "      <td>0.0</td>\n",
       "      <td>0.0</td>\n",
       "      <td>0.0</td>\n",
       "      <td>4.0</td>\n",
       "    </tr>\n",
       "    <tr>\n",
       "      <th>3</th>\n",
       "      <td>10000.0</td>\n",
       "      <td>MYWEBBO</td>\n",
       "      <td>network_hosting</td>\n",
       "      <td>operating</td>\n",
       "      <td>2008-07-26</td>\n",
       "      <td>NaT</td>\n",
       "      <td>mywebbo.com</td>\n",
       "      <td>NaN</td>\n",
       "      <td>NaN</td>\n",
       "      <td>0.0</td>\n",
       "      <td>0.0</td>\n",
       "      <td>0.0</td>\n",
       "      <td>0.0</td>\n",
       "    </tr>\n",
       "    <tr>\n",
       "      <th>4</th>\n",
       "      <td>10001.0</td>\n",
       "      <td>THE Movie Streamer</td>\n",
       "      <td>games_video</td>\n",
       "      <td>operating</td>\n",
       "      <td>2008-07-26</td>\n",
       "      <td>NaT</td>\n",
       "      <td>themoviestreamer.com</td>\n",
       "      <td>NaN</td>\n",
       "      <td>NaN</td>\n",
       "      <td>0.0</td>\n",
       "      <td>0.0</td>\n",
       "      <td>0.0</td>\n",
       "      <td>0.0</td>\n",
       "    </tr>\n",
       "    <tr>\n",
       "      <th>...</th>\n",
       "      <td>...</td>\n",
       "      <td>...</td>\n",
       "      <td>...</td>\n",
       "      <td>...</td>\n",
       "      <td>...</td>\n",
       "      <td>...</td>\n",
       "      <td>...</td>\n",
       "      <td>...</td>\n",
       "      <td>...</td>\n",
       "      <td>...</td>\n",
       "      <td>...</td>\n",
       "      <td>...</td>\n",
       "      <td>...</td>\n",
       "    </tr>\n",
       "    <tr>\n",
       "      <th>196549</th>\n",
       "      <td>3429.0</td>\n",
       "      <td>Zend Technologies</td>\n",
       "      <td>software</td>\n",
       "      <td>operating</td>\n",
       "      <td>1999-01-01</td>\n",
       "      <td>NaT</td>\n",
       "      <td>zend.com</td>\n",
       "      <td>networkzend</td>\n",
       "      <td>USA</td>\n",
       "      <td>0.0</td>\n",
       "      <td>4.0</td>\n",
       "      <td>44000000.0</td>\n",
       "      <td>6.0</td>\n",
       "    </tr>\n",
       "    <tr>\n",
       "      <th>196550</th>\n",
       "      <td>7748.0</td>\n",
       "      <td>Flowgram</td>\n",
       "      <td>web</td>\n",
       "      <td>closed</td>\n",
       "      <td>2007-06-01</td>\n",
       "      <td>2008-06-11</td>\n",
       "      <td>flowgram.com</td>\n",
       "      <td>network</td>\n",
       "      <td>USA</td>\n",
       "      <td>0.0</td>\n",
       "      <td>1.0</td>\n",
       "      <td>1300000.0</td>\n",
       "      <td>3.0</td>\n",
       "    </tr>\n",
       "    <tr>\n",
       "      <th>196551</th>\n",
       "      <td>174536.0</td>\n",
       "      <td>Pphotonet</td>\n",
       "      <td>games_video</td>\n",
       "      <td>operating</td>\n",
       "      <td>2012-05-01</td>\n",
       "      <td>NaT</td>\n",
       "      <td>pPhotonet.co</td>\n",
       "      <td>pPhotonet</td>\n",
       "      <td>NaN</td>\n",
       "      <td>0.0</td>\n",
       "      <td>0.0</td>\n",
       "      <td>0.0</td>\n",
       "      <td>0.0</td>\n",
       "    </tr>\n",
       "    <tr>\n",
       "      <th>196552</th>\n",
       "      <td>43233.0</td>\n",
       "      <td>Photonet</td>\n",
       "      <td>photo_video</td>\n",
       "      <td>acquired</td>\n",
       "      <td>2010-03-01</td>\n",
       "      <td>NaT</td>\n",
       "      <td>Photonet.com</td>\n",
       "      <td>Photonet</td>\n",
       "      <td>USA</td>\n",
       "      <td>0.0</td>\n",
       "      <td>3.0</td>\n",
       "      <td>57500000.0</td>\n",
       "      <td>3.0</td>\n",
       "    </tr>\n",
       "    <tr>\n",
       "      <th>196553</th>\n",
       "      <td>NaN</td>\n",
       "      <td>NaN</td>\n",
       "      <td>NaN</td>\n",
       "      <td>NaN</td>\n",
       "      <td>NaT</td>\n",
       "      <td>NaT</td>\n",
       "      <td>NaN</td>\n",
       "      <td>NaN</td>\n",
       "      <td>NaN</td>\n",
       "      <td>NaN</td>\n",
       "      <td>NaN</td>\n",
       "      <td>NaN</td>\n",
       "      <td>NaN</td>\n",
       "    </tr>\n",
       "  </tbody>\n",
       "</table>\n",
       "<p>196554 rows × 13 columns</p>\n",
       "</div>"
      ],
      "text/plain": [
       "        company_ID                name    category_code     status founded_at  \\\n",
       "0              1.0            Wetpaint              web  operating 2005-10-17   \n",
       "1             10.0             Flektor      games_video   acquired        NaT   \n",
       "2            100.0               There      games_video   acquired        NaT   \n",
       "3          10000.0             MYWEBBO  network_hosting  operating 2008-07-26   \n",
       "4          10001.0  THE Movie Streamer      games_video  operating 2008-07-26   \n",
       "...            ...                 ...              ...        ...        ...   \n",
       "196549      3429.0   Zend Technologies         software  operating 1999-01-01   \n",
       "196550      7748.0            Flowgram              web     closed 2007-06-01   \n",
       "196551    174536.0           Pphotonet      games_video  operating 2012-05-01   \n",
       "196552     43233.0            Photonet      photo_video   acquired 2010-03-01   \n",
       "196553         NaN                 NaN              NaN        NaN        NaT   \n",
       "\n",
       "        closed_at                domain network_username country_code  \\\n",
       "0             NaT      wetpaint-inc.com  BachelrWetpaint          USA   \n",
       "1             NaT           flektor.com              NaN          USA   \n",
       "2             NaT             there.com              NaN          USA   \n",
       "3             NaT           mywebbo.com              NaN          NaN   \n",
       "4             NaT  themoviestreamer.com              NaN          NaN   \n",
       "...           ...                   ...              ...          ...   \n",
       "196549        NaT              zend.com      networkzend          USA   \n",
       "196550 2008-06-11          flowgram.com          network          USA   \n",
       "196551        NaT          pPhotonet.co        pPhotonet          NaN   \n",
       "196552        NaT          Photonet.com         Photonet          USA   \n",
       "196553        NaT                   NaN              NaN          NaN   \n",
       "\n",
       "        investment_rounds  funding_rounds  funding_total  milestones  \n",
       "0                     0.0             3.0     39750000.0         5.0  \n",
       "1                     0.0             0.0            0.0         0.0  \n",
       "2                     0.0             0.0            0.0         4.0  \n",
       "3                     0.0             0.0            0.0         0.0  \n",
       "4                     0.0             0.0            0.0         0.0  \n",
       "...                   ...             ...            ...         ...  \n",
       "196549                0.0             4.0     44000000.0         6.0  \n",
       "196550                0.0             1.0      1300000.0         3.0  \n",
       "196551                0.0             0.0            0.0         0.0  \n",
       "196552                0.0             3.0     57500000.0         3.0  \n",
       "196553                NaN             NaN            NaN         NaN  \n",
       "\n",
       "[196554 rows x 13 columns]"
      ]
     },
     "execution_count": 47,
     "metadata": {},
     "output_type": "execute_result"
    }
   ],
   "source": [
    "company_df = company_df.iloc[:,1:]\n",
    "company_df"
   ]
  },
  {
   "cell_type": "markdown",
   "metadata": {},
   "source": [
    "___\n",
    "После исследования датасета `company_and_rounds` получилось образовать два датасета `company` и `rounds`. \n",
    "___"
   ]
  },
  {
   "cell_type": "markdown",
   "metadata": {
    "id": "bmVYhphNrJg2"
   },
   "source": [
    "<a id='3'></a>\n",
    "## Шаг 3. Исследовательский анализ объединённых таблиц\n",
    "\n",
    "> Приступите к шагу 3 после проверки ревьюера.\n",
    "\n",
    "<big>Студентам нужно чётко сказать - проверять дальше или не проверять.</big>"
   ]
  },
  {
   "cell_type": "markdown",
   "metadata": {
    "id": "3Di6tCT3rJg2"
   },
   "source": [
    "\n",
    "### 3.1. Объединение данных\n",
    "\n",
    "Объедините данные для ответа на вопросы заказчика, которые касаются интересующих его компаний. Заказчика прежде всего интересуют те компании, которые меняли или готовы менять владельцев. Получение инвестиций или финансирования, по мнению заказчика, означает интерес к покупке или продаже компании.\n",
    "\n",
    "В качестве основы для объединённой таблицы возьмите данные из обработанного датасета `company_and_rounds.csv` — выберите только те компании, у которых указаны значения `funding_rounds` или `investment_rounds` больше нуля, или те, у которых в колонке `status` указано `acquired`. В результирующей таблице должно получиться порядка 40 тысяч компаний.\n",
    "\n",
    "Проверьте полноту и корректность получившейся таблицы. Далее работайте только с этими данными."
   ]
  },
  {
   "cell_type": "code",
   "execution_count": 48,
   "metadata": {
    "id": "kuV1b5MXFg3_"
   },
   "outputs": [
    {
     "data": {
      "text/html": [
       "<div>\n",
       "<style scoped>\n",
       "    .dataframe tbody tr th:only-of-type {\n",
       "        vertical-align: middle;\n",
       "    }\n",
       "\n",
       "    .dataframe tbody tr th {\n",
       "        vertical-align: top;\n",
       "    }\n",
       "\n",
       "    .dataframe thead th {\n",
       "        text-align: right;\n",
       "    }\n",
       "</style>\n",
       "<table border=\"1\" class=\"dataframe\">\n",
       "  <thead>\n",
       "    <tr style=\"text-align: right;\">\n",
       "      <th></th>\n",
       "      <th>company_ID</th>\n",
       "      <th>name</th>\n",
       "      <th>category_code</th>\n",
       "      <th>status</th>\n",
       "      <th>founded_at</th>\n",
       "      <th>closed_at</th>\n",
       "      <th>domain</th>\n",
       "      <th>network_username</th>\n",
       "      <th>country_code</th>\n",
       "      <th>investment_rounds</th>\n",
       "      <th>funding_rounds</th>\n",
       "      <th>funding_total</th>\n",
       "      <th>milestones</th>\n",
       "    </tr>\n",
       "  </thead>\n",
       "  <tbody>\n",
       "    <tr>\n",
       "      <th>0</th>\n",
       "      <td>1.0</td>\n",
       "      <td>Wetpaint</td>\n",
       "      <td>web</td>\n",
       "      <td>operating</td>\n",
       "      <td>2005-10-17</td>\n",
       "      <td>NaT</td>\n",
       "      <td>wetpaint-inc.com</td>\n",
       "      <td>BachelrWetpaint</td>\n",
       "      <td>USA</td>\n",
       "      <td>0.0</td>\n",
       "      <td>3.0</td>\n",
       "      <td>39750000.0</td>\n",
       "      <td>5.0</td>\n",
       "    </tr>\n",
       "    <tr>\n",
       "      <th>1</th>\n",
       "      <td>10.0</td>\n",
       "      <td>Flektor</td>\n",
       "      <td>games_video</td>\n",
       "      <td>acquired</td>\n",
       "      <td>NaT</td>\n",
       "      <td>NaT</td>\n",
       "      <td>flektor.com</td>\n",
       "      <td>NaN</td>\n",
       "      <td>USA</td>\n",
       "      <td>0.0</td>\n",
       "      <td>0.0</td>\n",
       "      <td>0.0</td>\n",
       "      <td>0.0</td>\n",
       "    </tr>\n",
       "    <tr>\n",
       "      <th>2</th>\n",
       "      <td>100.0</td>\n",
       "      <td>There</td>\n",
       "      <td>games_video</td>\n",
       "      <td>acquired</td>\n",
       "      <td>NaT</td>\n",
       "      <td>NaT</td>\n",
       "      <td>there.com</td>\n",
       "      <td>NaN</td>\n",
       "      <td>USA</td>\n",
       "      <td>0.0</td>\n",
       "      <td>0.0</td>\n",
       "      <td>0.0</td>\n",
       "      <td>4.0</td>\n",
       "    </tr>\n",
       "    <tr>\n",
       "      <th>13</th>\n",
       "      <td>1001.0</td>\n",
       "      <td>FriendFeed</td>\n",
       "      <td>web</td>\n",
       "      <td>acquired</td>\n",
       "      <td>2007-10-01</td>\n",
       "      <td>NaT</td>\n",
       "      <td>friendfeed.com</td>\n",
       "      <td>friendfeed</td>\n",
       "      <td>USA</td>\n",
       "      <td>0.0</td>\n",
       "      <td>1.0</td>\n",
       "      <td>5000000.0</td>\n",
       "      <td>3.0</td>\n",
       "    </tr>\n",
       "    <tr>\n",
       "      <th>18</th>\n",
       "      <td>10014.0</td>\n",
       "      <td>Mobclix</td>\n",
       "      <td>mobile</td>\n",
       "      <td>acquired</td>\n",
       "      <td>2008-03-01</td>\n",
       "      <td>NaT</td>\n",
       "      <td>mobclix.com</td>\n",
       "      <td>mobclix</td>\n",
       "      <td>USA</td>\n",
       "      <td>0.0</td>\n",
       "      <td>1.0</td>\n",
       "      <td>0.0</td>\n",
       "      <td>4.0</td>\n",
       "    </tr>\n",
       "    <tr>\n",
       "      <th>...</th>\n",
       "      <td>...</td>\n",
       "      <td>...</td>\n",
       "      <td>...</td>\n",
       "      <td>...</td>\n",
       "      <td>...</td>\n",
       "      <td>...</td>\n",
       "      <td>...</td>\n",
       "      <td>...</td>\n",
       "      <td>...</td>\n",
       "      <td>...</td>\n",
       "      <td>...</td>\n",
       "      <td>...</td>\n",
       "      <td>...</td>\n",
       "    </tr>\n",
       "    <tr>\n",
       "      <th>196544</th>\n",
       "      <td>1344.0</td>\n",
       "      <td>Vobile</td>\n",
       "      <td>web</td>\n",
       "      <td>operating</td>\n",
       "      <td>2005-01-01</td>\n",
       "      <td>NaT</td>\n",
       "      <td>vobileinc.com</td>\n",
       "      <td>networkmobile</td>\n",
       "      <td>USA</td>\n",
       "      <td>0.0</td>\n",
       "      <td>1.0</td>\n",
       "      <td>10000000.0</td>\n",
       "      <td>0.0</td>\n",
       "    </tr>\n",
       "    <tr>\n",
       "      <th>196545</th>\n",
       "      <td>142181.0</td>\n",
       "      <td>Stop Being Watched</td>\n",
       "      <td>software</td>\n",
       "      <td>operating</td>\n",
       "      <td>2010-06-10</td>\n",
       "      <td>NaT</td>\n",
       "      <td>stopbeingwatched.com</td>\n",
       "      <td>SBWinfonetwork</td>\n",
       "      <td>USA</td>\n",
       "      <td>0.0</td>\n",
       "      <td>1.0</td>\n",
       "      <td>500000.0</td>\n",
       "      <td>1.0</td>\n",
       "    </tr>\n",
       "    <tr>\n",
       "      <th>196549</th>\n",
       "      <td>3429.0</td>\n",
       "      <td>Zend Technologies</td>\n",
       "      <td>software</td>\n",
       "      <td>operating</td>\n",
       "      <td>1999-01-01</td>\n",
       "      <td>NaT</td>\n",
       "      <td>zend.com</td>\n",
       "      <td>networkzend</td>\n",
       "      <td>USA</td>\n",
       "      <td>0.0</td>\n",
       "      <td>4.0</td>\n",
       "      <td>44000000.0</td>\n",
       "      <td>6.0</td>\n",
       "    </tr>\n",
       "    <tr>\n",
       "      <th>196550</th>\n",
       "      <td>7748.0</td>\n",
       "      <td>Flowgram</td>\n",
       "      <td>web</td>\n",
       "      <td>closed</td>\n",
       "      <td>2007-06-01</td>\n",
       "      <td>2008-06-11</td>\n",
       "      <td>flowgram.com</td>\n",
       "      <td>network</td>\n",
       "      <td>USA</td>\n",
       "      <td>0.0</td>\n",
       "      <td>1.0</td>\n",
       "      <td>1300000.0</td>\n",
       "      <td>3.0</td>\n",
       "    </tr>\n",
       "    <tr>\n",
       "      <th>196552</th>\n",
       "      <td>43233.0</td>\n",
       "      <td>Photonet</td>\n",
       "      <td>photo_video</td>\n",
       "      <td>acquired</td>\n",
       "      <td>2010-03-01</td>\n",
       "      <td>NaT</td>\n",
       "      <td>Photonet.com</td>\n",
       "      <td>Photonet</td>\n",
       "      <td>USA</td>\n",
       "      <td>0.0</td>\n",
       "      <td>3.0</td>\n",
       "      <td>57500000.0</td>\n",
       "      <td>3.0</td>\n",
       "    </tr>\n",
       "  </tbody>\n",
       "</table>\n",
       "<p>40747 rows × 13 columns</p>\n",
       "</div>"
      ],
      "text/plain": [
       "        company_ID                name category_code     status founded_at  \\\n",
       "0              1.0            Wetpaint           web  operating 2005-10-17   \n",
       "1             10.0             Flektor   games_video   acquired        NaT   \n",
       "2            100.0               There   games_video   acquired        NaT   \n",
       "13          1001.0          FriendFeed           web   acquired 2007-10-01   \n",
       "18         10014.0             Mobclix        mobile   acquired 2008-03-01   \n",
       "...            ...                 ...           ...        ...        ...   \n",
       "196544      1344.0              Vobile           web  operating 2005-01-01   \n",
       "196545    142181.0  Stop Being Watched      software  operating 2010-06-10   \n",
       "196549      3429.0   Zend Technologies      software  operating 1999-01-01   \n",
       "196550      7748.0            Flowgram           web     closed 2007-06-01   \n",
       "196552     43233.0            Photonet   photo_video   acquired 2010-03-01   \n",
       "\n",
       "        closed_at                domain network_username country_code  \\\n",
       "0             NaT      wetpaint-inc.com  BachelrWetpaint          USA   \n",
       "1             NaT           flektor.com              NaN          USA   \n",
       "2             NaT             there.com              NaN          USA   \n",
       "13            NaT        friendfeed.com       friendfeed          USA   \n",
       "18            NaT           mobclix.com          mobclix          USA   \n",
       "...           ...                   ...              ...          ...   \n",
       "196544        NaT         vobileinc.com    networkmobile          USA   \n",
       "196545        NaT  stopbeingwatched.com   SBWinfonetwork          USA   \n",
       "196549        NaT              zend.com      networkzend          USA   \n",
       "196550 2008-06-11          flowgram.com          network          USA   \n",
       "196552        NaT          Photonet.com         Photonet          USA   \n",
       "\n",
       "        investment_rounds  funding_rounds  funding_total  milestones  \n",
       "0                     0.0             3.0     39750000.0         5.0  \n",
       "1                     0.0             0.0            0.0         0.0  \n",
       "2                     0.0             0.0            0.0         4.0  \n",
       "13                    0.0             1.0      5000000.0         3.0  \n",
       "18                    0.0             1.0            0.0         4.0  \n",
       "...                   ...             ...            ...         ...  \n",
       "196544                0.0             1.0     10000000.0         0.0  \n",
       "196545                0.0             1.0       500000.0         1.0  \n",
       "196549                0.0             4.0     44000000.0         6.0  \n",
       "196550                0.0             1.0      1300000.0         3.0  \n",
       "196552                0.0             3.0     57500000.0         3.0  \n",
       "\n",
       "[40747 rows x 13 columns]"
      ]
     },
     "execution_count": 48,
     "metadata": {},
     "output_type": "execute_result"
    }
   ],
   "source": [
    "# Фильтруем датасет по указанным условиям\n",
    "filtered_company = company_df[(company_df['funding_rounds'] > 0) | \n",
    "                               (company_df['investment_rounds'] > 0) | (company_df['status'] == 'acquired')]\n",
    "filtered_company"
   ]
  },
  {
   "cell_type": "markdown",
   "metadata": {},
   "source": [
    "Проверим полученный датасет: посмотрим на общую информацию и количество пропущенных значений в столбцах"
   ]
  },
  {
   "cell_type": "code",
   "execution_count": 49,
   "metadata": {},
   "outputs": [
    {
     "name": "stdout",
     "output_type": "stream",
     "text": [
      "<class 'pandas.core.frame.DataFrame'>\n",
      "Int64Index: 40747 entries, 0 to 196552\n",
      "Data columns (total 13 columns):\n",
      " #   Column             Non-Null Count  Dtype         \n",
      "---  ------             --------------  -----         \n",
      " 0   company_ID         40747 non-null  float64       \n",
      " 1   name               40747 non-null  object        \n",
      " 2   category_code      35315 non-null  object        \n",
      " 3   status             40747 non-null  object        \n",
      " 4   founded_at         27807 non-null  datetime64[ns]\n",
      " 5   closed_at          2128 non-null   datetime64[ns]\n",
      " 6   domain             35754 non-null  object        \n",
      " 7   network_username   20850 non-null  object        \n",
      " 8   country_code       34742 non-null  object        \n",
      " 9   investment_rounds  40747 non-null  float64       \n",
      " 10  funding_rounds     40747 non-null  float64       \n",
      " 11  funding_total      40747 non-null  float64       \n",
      " 12  milestones         40747 non-null  float64       \n",
      "dtypes: datetime64[ns](2), float64(5), object(6)\n",
      "memory usage: 4.4+ MB\n"
     ]
    }
   ],
   "source": [
    "# Проверим общую информацию о полученном датасете\n",
    "filtered_company.info()"
   ]
  },
  {
   "cell_type": "code",
   "execution_count": 50,
   "metadata": {},
   "outputs": [
    {
     "data": {
      "text/plain": [
       "company_ID               0\n",
       "name                     0\n",
       "category_code         5432\n",
       "status                   0\n",
       "founded_at           12940\n",
       "closed_at            38619\n",
       "domain                4993\n",
       "network_username     19897\n",
       "country_code          6005\n",
       "investment_rounds        0\n",
       "funding_rounds           0\n",
       "funding_total            0\n",
       "milestones               0\n",
       "dtype: int64"
      ]
     },
     "execution_count": 50,
     "metadata": {},
     "output_type": "execute_result"
    }
   ],
   "source": [
    "# Количество пропущенных значений \n",
    "filtered_company.isna().sum()\n"
   ]
  },
  {
   "cell_type": "code",
   "execution_count": 51,
   "metadata": {},
   "outputs": [
    {
     "data": {
      "text/plain": [
       "company_ID           0.000000\n",
       "name                 0.000000\n",
       "category_code        0.133310\n",
       "status               0.000000\n",
       "founded_at           0.317569\n",
       "closed_at            0.947775\n",
       "domain               0.122537\n",
       "network_username     0.488306\n",
       "country_code         0.147373\n",
       "investment_rounds    0.000000\n",
       "funding_rounds       0.000000\n",
       "funding_total        0.000000\n",
       "milestones           0.000000\n",
       "dtype: float64"
      ]
     },
     "execution_count": 51,
     "metadata": {},
     "output_type": "execute_result"
    }
   ],
   "source": [
    "# Количество пропущенных значений в относительном виде\n",
    "filtered_company.isna().mean()"
   ]
  },
  {
   "cell_type": "code",
   "execution_count": 52,
   "metadata": {},
   "outputs": [
    {
     "data": {
      "text/plain": [
       "40747"
      ]
     },
     "execution_count": 52,
     "metadata": {},
     "output_type": "execute_result"
    }
   ],
   "source": [
    "filtered_company['name'].nunique()"
   ]
  },
  {
   "cell_type": "markdown",
   "metadata": {
    "id": "93v3fEX5FgtP"
   },
   "source": [
    "Получилось отфильтровать датасет по указанным условиям. В датасете 40747. В столбце `closed_at` процент пропущенных значений состовляет почти 95%. Это может говорить о том, что почти все компании продолжают свою работу. Также возможны и другие причины пропущенных значений. Процент пропусков в столбце `network_username` в почти 49%, а в `founded_at` - почти 32%. Столбцы `category_code`,`domain` и `country_code` имеют процент пропусков меньше 15%."
   ]
  },
  {
   "cell_type": "markdown",
   "metadata": {
    "id": "DFHINkV3rJg2"
   },
   "source": [
    "\n",
    "### 3.2. Анализ выбросов\n",
    "\n",
    "Заказчика интересует обычный для рассматриваемого периода размер средств, который предоставлялся компаниям.\n",
    "\n",
    "- По предобработанному столбцу `funding_total` графическим способом оцените, какой размер общего финансирования для одной компании будет типичным, а какой — выбивающимся.\n",
    "- В процессе расчёта значений обратите внимание, например, на показатели, возвращаемые методом `.describe()`, — объясните их. Применимы ли к таким данным обычные способы нахождения типичных значений?"
   ]
  },
  {
   "cell_type": "code",
   "execution_count": 53,
   "metadata": {},
   "outputs": [
    {
     "data": {
      "text/html": [
       "<div>\n",
       "<style scoped>\n",
       "    .dataframe tbody tr th:only-of-type {\n",
       "        vertical-align: middle;\n",
       "    }\n",
       "\n",
       "    .dataframe tbody tr th {\n",
       "        vertical-align: top;\n",
       "    }\n",
       "\n",
       "    .dataframe thead th {\n",
       "        text-align: right;\n",
       "    }\n",
       "</style>\n",
       "<table border=\"1\" class=\"dataframe\">\n",
       "  <thead>\n",
       "    <tr style=\"text-align: right;\">\n",
       "      <th></th>\n",
       "      <th>company_ID</th>\n",
       "      <th>investment_rounds</th>\n",
       "      <th>funding_rounds</th>\n",
       "      <th>funding_total</th>\n",
       "      <th>milestones</th>\n",
       "    </tr>\n",
       "  </thead>\n",
       "  <tbody>\n",
       "    <tr>\n",
       "      <th>count</th>\n",
       "      <td>40747.000000</td>\n",
       "      <td>40747.000000</td>\n",
       "      <td>40747.000000</td>\n",
       "      <td>4.074700e+04</td>\n",
       "      <td>40747.000000</td>\n",
       "    </tr>\n",
       "    <tr>\n",
       "      <th>mean</th>\n",
       "      <td>110555.896140</td>\n",
       "      <td>0.150833</td>\n",
       "      <td>1.291531</td>\n",
       "      <td>1.013561e+07</td>\n",
       "      <td>0.803151</td>\n",
       "    </tr>\n",
       "    <tr>\n",
       "      <th>std</th>\n",
       "      <td>90388.070107</td>\n",
       "      <td>3.123291</td>\n",
       "      <td>1.264604</td>\n",
       "      <td>5.646436e+07</td>\n",
       "      <td>1.003431</td>\n",
       "    </tr>\n",
       "    <tr>\n",
       "      <th>min</th>\n",
       "      <td>1.000000</td>\n",
       "      <td>0.000000</td>\n",
       "      <td>0.000000</td>\n",
       "      <td>0.000000e+00</td>\n",
       "      <td>0.000000</td>\n",
       "    </tr>\n",
       "    <tr>\n",
       "      <th>25%</th>\n",
       "      <td>33863.500000</td>\n",
       "      <td>0.000000</td>\n",
       "      <td>1.000000</td>\n",
       "      <td>0.000000e+00</td>\n",
       "      <td>0.000000</td>\n",
       "    </tr>\n",
       "    <tr>\n",
       "      <th>50%</th>\n",
       "      <td>69583.000000</td>\n",
       "      <td>0.000000</td>\n",
       "      <td>1.000000</td>\n",
       "      <td>6.000000e+05</td>\n",
       "      <td>1.000000</td>\n",
       "    </tr>\n",
       "    <tr>\n",
       "      <th>75%</th>\n",
       "      <td>184744.500000</td>\n",
       "      <td>0.000000</td>\n",
       "      <td>2.000000</td>\n",
       "      <td>5.650650e+06</td>\n",
       "      <td>1.000000</td>\n",
       "    </tr>\n",
       "    <tr>\n",
       "      <th>max</th>\n",
       "      <td>286215.000000</td>\n",
       "      <td>478.000000</td>\n",
       "      <td>15.000000</td>\n",
       "      <td>5.700000e+09</td>\n",
       "      <td>9.000000</td>\n",
       "    </tr>\n",
       "  </tbody>\n",
       "</table>\n",
       "</div>"
      ],
      "text/plain": [
       "          company_ID  investment_rounds  funding_rounds  funding_total  \\\n",
       "count   40747.000000       40747.000000    40747.000000   4.074700e+04   \n",
       "mean   110555.896140           0.150833        1.291531   1.013561e+07   \n",
       "std     90388.070107           3.123291        1.264604   5.646436e+07   \n",
       "min         1.000000           0.000000        0.000000   0.000000e+00   \n",
       "25%     33863.500000           0.000000        1.000000   0.000000e+00   \n",
       "50%     69583.000000           0.000000        1.000000   6.000000e+05   \n",
       "75%    184744.500000           0.000000        2.000000   5.650650e+06   \n",
       "max    286215.000000         478.000000       15.000000   5.700000e+09   \n",
       "\n",
       "         milestones  \n",
       "count  40747.000000  \n",
       "mean       0.803151  \n",
       "std        1.003431  \n",
       "min        0.000000  \n",
       "25%        0.000000  \n",
       "50%        1.000000  \n",
       "75%        1.000000  \n",
       "max        9.000000  "
      ]
     },
     "execution_count": 53,
     "metadata": {},
     "output_type": "execute_result"
    }
   ],
   "source": [
    "# Примерним метод describe для оценки разброса значений\n",
    "filtered_company.describe()"
   ]
  },
  {
   "cell_type": "markdown",
   "metadata": {},
   "source": [
    "В датасете во всех столбцах с типом `float64` значения имеют большоке количество цифр после запятой. Изменим формат отображения"
   ]
  },
  {
   "cell_type": "code",
   "execution_count": 54,
   "metadata": {},
   "outputs": [],
   "source": [
    "# Меняем формат отображения десятичных чисел\n",
    "pd.set_option('display.float_format', '{:.2f}'.format)"
   ]
  },
  {
   "cell_type": "code",
   "execution_count": 55,
   "metadata": {
    "scrolled": true
   },
   "outputs": [
    {
     "data": {
      "text/html": [
       "<div>\n",
       "<style scoped>\n",
       "    .dataframe tbody tr th:only-of-type {\n",
       "        vertical-align: middle;\n",
       "    }\n",
       "\n",
       "    .dataframe tbody tr th {\n",
       "        vertical-align: top;\n",
       "    }\n",
       "\n",
       "    .dataframe thead th {\n",
       "        text-align: right;\n",
       "    }\n",
       "</style>\n",
       "<table border=\"1\" class=\"dataframe\">\n",
       "  <thead>\n",
       "    <tr style=\"text-align: right;\">\n",
       "      <th></th>\n",
       "      <th>company_ID</th>\n",
       "      <th>investment_rounds</th>\n",
       "      <th>funding_rounds</th>\n",
       "      <th>funding_total</th>\n",
       "      <th>milestones</th>\n",
       "    </tr>\n",
       "  </thead>\n",
       "  <tbody>\n",
       "    <tr>\n",
       "      <th>count</th>\n",
       "      <td>40747.00</td>\n",
       "      <td>40747.00</td>\n",
       "      <td>40747.00</td>\n",
       "      <td>40747.00</td>\n",
       "      <td>40747.00</td>\n",
       "    </tr>\n",
       "    <tr>\n",
       "      <th>mean</th>\n",
       "      <td>110555.90</td>\n",
       "      <td>0.15</td>\n",
       "      <td>1.29</td>\n",
       "      <td>10135609.64</td>\n",
       "      <td>0.80</td>\n",
       "    </tr>\n",
       "    <tr>\n",
       "      <th>std</th>\n",
       "      <td>90388.07</td>\n",
       "      <td>3.12</td>\n",
       "      <td>1.26</td>\n",
       "      <td>56464359.98</td>\n",
       "      <td>1.00</td>\n",
       "    </tr>\n",
       "    <tr>\n",
       "      <th>min</th>\n",
       "      <td>1.00</td>\n",
       "      <td>0.00</td>\n",
       "      <td>0.00</td>\n",
       "      <td>0.00</td>\n",
       "      <td>0.00</td>\n",
       "    </tr>\n",
       "    <tr>\n",
       "      <th>25%</th>\n",
       "      <td>33863.50</td>\n",
       "      <td>0.00</td>\n",
       "      <td>1.00</td>\n",
       "      <td>0.00</td>\n",
       "      <td>0.00</td>\n",
       "    </tr>\n",
       "    <tr>\n",
       "      <th>50%</th>\n",
       "      <td>69583.00</td>\n",
       "      <td>0.00</td>\n",
       "      <td>1.00</td>\n",
       "      <td>600000.00</td>\n",
       "      <td>1.00</td>\n",
       "    </tr>\n",
       "    <tr>\n",
       "      <th>75%</th>\n",
       "      <td>184744.50</td>\n",
       "      <td>0.00</td>\n",
       "      <td>2.00</td>\n",
       "      <td>5650650.00</td>\n",
       "      <td>1.00</td>\n",
       "    </tr>\n",
       "    <tr>\n",
       "      <th>max</th>\n",
       "      <td>286215.00</td>\n",
       "      <td>478.00</td>\n",
       "      <td>15.00</td>\n",
       "      <td>5700000000.00</td>\n",
       "      <td>9.00</td>\n",
       "    </tr>\n",
       "  </tbody>\n",
       "</table>\n",
       "</div>"
      ],
      "text/plain": [
       "       company_ID  investment_rounds  funding_rounds  funding_total  \\\n",
       "count    40747.00           40747.00        40747.00       40747.00   \n",
       "mean    110555.90               0.15            1.29    10135609.64   \n",
       "std      90388.07               3.12            1.26    56464359.98   \n",
       "min          1.00               0.00            0.00           0.00   \n",
       "25%      33863.50               0.00            1.00           0.00   \n",
       "50%      69583.00               0.00            1.00      600000.00   \n",
       "75%     184744.50               0.00            2.00     5650650.00   \n",
       "max     286215.00             478.00           15.00  5700000000.00   \n",
       "\n",
       "       milestones  \n",
       "count    40747.00  \n",
       "mean         0.80  \n",
       "std          1.00  \n",
       "min          0.00  \n",
       "25%          0.00  \n",
       "50%          1.00  \n",
       "75%          1.00  \n",
       "max          9.00  "
      ]
     },
     "execution_count": 55,
     "metadata": {},
     "output_type": "execute_result"
    }
   ],
   "source": [
    "# Заново осмотрим данные\n",
    "filtered_company.describe()"
   ]
  },
  {
   "cell_type": "markdown",
   "metadata": {},
   "source": [
    "Привели десятичные значения к корректному формату. Можно отметить макисмальное число в столбце `funding_total`. Оно почти в 10 раз больше медианного значения в этом столбце. Аномальным его назвать  тоже нельзя. Вполне вероятно, что какая-нибудь компания за всё своё время могла вложиться в финансирование и инвестрирование на сумму в 5 миллиардов 700 миллионов долларов. Также непонятна информация с квартилями. 25% квартиль столбца `funding_total` составляет 0 долларов. Это может говорить о большом количестве нулевых значений в столбце. Посмотрим как часто повторяются значения в `fundint_total`"
   ]
  },
  {
   "cell_type": "code",
   "execution_count": 56,
   "metadata": {},
   "outputs": [
    {
     "data": {
      "text/plain": [
       "0.00           12873\n",
       "1000000.00       698\n",
       "500000.00        523\n",
       "100000.00        480\n",
       "2000000.00       455\n",
       "               ...  \n",
       "11653200.00        1\n",
       "1918090.00         1\n",
       "1250200.00         1\n",
       "2101770.00         1\n",
       "3993020.00         1\n",
       "Name: funding_total, Length: 9483, dtype: int64"
      ]
     },
     "execution_count": 56,
     "metadata": {},
     "output_type": "execute_result"
    }
   ],
   "source": [
    "# Посмотрим на количество повторяющихся значений\n",
    "filtered_company['funding_total'].value_counts()"
   ]
  },
  {
   "cell_type": "markdown",
   "metadata": {},
   "source": [
    "12783 - столько нулевых значений в столбце. Возникновение подобных значений может быть разным. Возможно, компания никогда не проводила финансирование или причина появления нулевого значения имеет характер другого типа. Подобные значения будут сильно влиять на анализ данных."
   ]
  },
  {
   "cell_type": "code",
   "execution_count": 57,
   "metadata": {
    "id": "8jm75fKXrJg2",
    "vscode": {
     "languageId": "plaintext"
    }
   },
   "outputs": [
    {
     "data": {
      "image/png": "[encoded data removed]",
      "text/plain": [
       "<Figure size 864x432 with 1 Axes>"
      ]
     },
     "metadata": {
      "needs_background": "light"
     },
     "output_type": "display_data"
    }
   ],
   "source": [
    "# Строим диаграмму размаха значений\n",
    "boxplot = filtered_company.boxplot(column = 'funding_total',\n",
    "                        grid=True,\n",
    "                        figsize = (12,6),\n",
    "                        )\n",
    "\n",
    "boxplot.set_title('Типичный размер финансирования')\n",
    "boxplot.set_ylabel('Размер финансирования, $')\n",
    "plt.ticklabel_format(axis='y', style='plain')\n",
    "plt.tight_layout()"
   ]
  },
  {
   "cell_type": "markdown",
   "metadata": {},
   "source": [
    "По диаграмме мало, что можно сказать из-за большого числа выбросов. Уберем их"
   ]
  },
  {
   "cell_type": "code",
   "execution_count": 58,
   "metadata": {
    "id": "S1jrfr7rFhcw",
    "scrolled": false
   },
   "outputs": [
    {
     "data": {
      "image/png": "[encoded data removed]",
      "text/plain": [
       "<Figure size 864x432 with 1 Axes>"
      ]
     },
     "metadata": {
      "needs_background": "light"
     },
     "output_type": "display_data"
    }
   ],
   "source": [
    "# Строим диаграмму размаха значений без выбросов\n",
    "boxplot = filtered_company.boxplot(column = 'funding_total',\n",
    "                        grid=True,\n",
    "                        figsize = (12,6),\n",
    "                        showfliers = False)\n",
    "\n",
    "boxplot.set_title('Типичный размер финансирования')\n",
    "boxplot.set_ylabel('Размер финансирования, $')\n",
    "plt.ticklabel_format(axis='y', style='plain')\n",
    "plt.tight_layout()"
   ]
  },
  {
   "cell_type": "markdown",
   "metadata": {},
   "source": [
    "Можно заметить правосимметричное распределение данных. Основной объем данных о суммах финансирования находится в диапозоне от 0 до ~5.700.000 долларов. Медианное значение находится на отметке ~500.000. Построим гистограмму, чтобы увидеть точнее разброс данных.  "
   ]
  },
  {
   "cell_type": "markdown",
   "metadata": {},
   "source": [
    "Отфильтруем данные для построения гистрограммы по по верхнему квартилю, а также уберем нулевые значения `funding_total`"
   ]
  },
  {
   "cell_type": "code",
   "execution_count": 59,
   "metadata": {},
   "outputs": [
    {
     "data": {
      "image/png": "[encoded data removed]",
      "text/plain": [
       "<Figure size 864x432 with 1 Axes>"
      ]
     },
     "metadata": {
      "needs_background": "light"
     },
     "output_type": "display_data"
    }
   ],
   "source": [
    "# Строим диаграмму по отфилтрованным данным\n",
    "new_filtered_company = filtered_company[(filtered_company['funding_total'] > 0.00)&\n",
    "                                        (filtered_company['funding_total'] <= filtered_company['funding_total'].quantile(0.75))]\n",
    "hist = new_filtered_company.hist(column = 'funding_total',\n",
    "                        figsize = (12,6),\n",
    "                        edgecolor = 'black',\n",
    "                        bins=50)\n",
    "plt.title('Типичный размер финансирования')\n",
    "plt.xlabel('Размер финансирования')\n",
    "plt.ylabel('Частота')\n",
    "plt.ticklabel_format(axis='x', style='plain')\n",
    "plt.tight_layout()"
   ]
  },
  {
   "cell_type": "code",
   "execution_count": 60,
   "metadata": {},
   "outputs": [
    {
     "data": {
      "image/png": "[encoded data removed]",
      "text/plain": [
       "<Figure size 864x432 with 1 Axes>"
      ]
     },
     "metadata": {
      "needs_background": "light"
     },
     "output_type": "display_data"
    }
   ],
   "source": [
    "# Заново посмотрим на диаграмму размаха\n",
    "boxplot = new_filtered_company.boxplot(column = 'funding_total',\n",
    "                        grid=True,\n",
    "                        figsize = (12,6),\n",
    "                        showfliers = True)\n",
    "\n",
    "boxplot.set_title('Типичный размер финансирования')\n",
    "boxplot.set_ylabel('Размер финансирования, $')\n",
    "plt.ticklabel_format(axis='y', style='plain')\n",
    "plt.tight_layout()"
   ]
  },
  {
   "cell_type": "code",
   "execution_count": 61,
   "metadata": {},
   "outputs": [
    {
     "data": {
      "text/html": [
       "<div>\n",
       "<style scoped>\n",
       "    .dataframe tbody tr th:only-of-type {\n",
       "        vertical-align: middle;\n",
       "    }\n",
       "\n",
       "    .dataframe tbody tr th {\n",
       "        vertical-align: top;\n",
       "    }\n",
       "\n",
       "    .dataframe thead th {\n",
       "        text-align: right;\n",
       "    }\n",
       "</style>\n",
       "<table border=\"1\" class=\"dataframe\">\n",
       "  <thead>\n",
       "    <tr style=\"text-align: right;\">\n",
       "      <th></th>\n",
       "      <th>funding_total</th>\n",
       "    </tr>\n",
       "  </thead>\n",
       "  <tbody>\n",
       "    <tr>\n",
       "      <th>count</th>\n",
       "      <td>17687.00</td>\n",
       "    </tr>\n",
       "    <tr>\n",
       "      <th>mean</th>\n",
       "      <td>1440703.66</td>\n",
       "    </tr>\n",
       "    <tr>\n",
       "      <th>std</th>\n",
       "      <td>1507659.71</td>\n",
       "    </tr>\n",
       "    <tr>\n",
       "      <th>min</th>\n",
       "      <td>291.00</td>\n",
       "    </tr>\n",
       "    <tr>\n",
       "      <th>25%</th>\n",
       "      <td>230000.00</td>\n",
       "    </tr>\n",
       "    <tr>\n",
       "      <th>50%</th>\n",
       "      <td>900000.00</td>\n",
       "    </tr>\n",
       "    <tr>\n",
       "      <th>75%</th>\n",
       "      <td>2211000.00</td>\n",
       "    </tr>\n",
       "    <tr>\n",
       "      <th>max</th>\n",
       "      <td>5650000.00</td>\n",
       "    </tr>\n",
       "  </tbody>\n",
       "</table>\n",
       "</div>"
      ],
      "text/plain": [
       "       funding_total\n",
       "count       17687.00\n",
       "mean      1440703.66\n",
       "std       1507659.71\n",
       "min           291.00\n",
       "25%        230000.00\n",
       "50%        900000.00\n",
       "75%       2211000.00\n",
       "max       5650000.00"
      ]
     },
     "execution_count": 61,
     "metadata": {},
     "output_type": "execute_result"
    }
   ],
   "source": [
    "# Посмотрим на разброс данных через метод describe\n",
    "new_filtered_company[['funding_total']].describe()"
   ]
  },
  {
   "cell_type": "markdown",
   "metadata": {},
   "source": [
    "___\n",
    "По основному объему данныx можно сделать следующие выводы:\n",
    "- Чаще всего размер общего финансирования для компании состовляет 900.000 тыс. долларов\n",
    "- Основной объем данных приходится на отрезок 230.000 - 2.211.000 долларов.\n",
    "- Наибольшим размером общего финансирования , рамках отфильтрованных от больших и искажающих анализ значений, является 5.650.000 долларов\n",
    "- Наименьшим размером общего финансирования является 291 доллар.\n",
    "___\n",
    "Выводы основаны на данных, отфильтрованных от нулевых и больших, искажающих анализ значений. Выбросы которые демонстрируются на диаграмме размаха по отфильтрованному датасету `new_filtered_company` не являются таковыми. Основная задача была найти наиболее типичный размером общего финансирования, что трудно сделать без дополнительной фильтрации."
   ]
  },
  {
   "cell_type": "markdown",
   "metadata": {
    "id": "JqkRAQrIrJg2"
   },
   "source": [
    "\n",
    "### 3.3. Куплены забесплатно?\n",
    "\n",
    "- Исследуйте компании, которые были проданы за ноль или за один доллар, и при этом известно, что у них был ненулевой общий объём финансирования.\n",
    "\n",
    "- Рассчитайте аналитически верхнюю и нижнюю границу выбросов для столбца `funding_total` и укажите, каким процентилям границы соответствуют."
   ]
  },
  {
   "cell_type": "code",
   "execution_count": 62,
   "metadata": {
    "id": "wJHXCBwwrJg2",
    "vscode": {
     "languageId": "plaintext"
    }
   },
   "outputs": [
    {
     "data": {
      "text/html": [
       "<div>\n",
       "<style scoped>\n",
       "    .dataframe tbody tr th:only-of-type {\n",
       "        vertical-align: middle;\n",
       "    }\n",
       "\n",
       "    .dataframe tbody tr th {\n",
       "        vertical-align: top;\n",
       "    }\n",
       "\n",
       "    .dataframe thead th {\n",
       "        text-align: right;\n",
       "    }\n",
       "</style>\n",
       "<table border=\"1\" class=\"dataframe\">\n",
       "  <thead>\n",
       "    <tr style=\"text-align: right;\">\n",
       "      <th></th>\n",
       "      <th>company_ID</th>\n",
       "      <th>name</th>\n",
       "      <th>category_code</th>\n",
       "      <th>status</th>\n",
       "      <th>founded_at</th>\n",
       "      <th>closed_at</th>\n",
       "      <th>domain</th>\n",
       "      <th>network_username</th>\n",
       "      <th>country_code</th>\n",
       "      <th>investment_rounds</th>\n",
       "      <th>funding_rounds</th>\n",
       "      <th>funding_total</th>\n",
       "      <th>milestones</th>\n",
       "    </tr>\n",
       "  </thead>\n",
       "  <tbody>\n",
       "    <tr>\n",
       "      <th>0</th>\n",
       "      <td>1.00</td>\n",
       "      <td>Wetpaint</td>\n",
       "      <td>web</td>\n",
       "      <td>operating</td>\n",
       "      <td>2005-10-17</td>\n",
       "      <td>NaT</td>\n",
       "      <td>wetpaint-inc.com</td>\n",
       "      <td>BachelrWetpaint</td>\n",
       "      <td>USA</td>\n",
       "      <td>0.00</td>\n",
       "      <td>3.00</td>\n",
       "      <td>39750000.00</td>\n",
       "      <td>5.00</td>\n",
       "    </tr>\n",
       "    <tr>\n",
       "      <th>1</th>\n",
       "      <td>10.00</td>\n",
       "      <td>Flektor</td>\n",
       "      <td>games_video</td>\n",
       "      <td>acquired</td>\n",
       "      <td>NaT</td>\n",
       "      <td>NaT</td>\n",
       "      <td>flektor.com</td>\n",
       "      <td>NaN</td>\n",
       "      <td>USA</td>\n",
       "      <td>0.00</td>\n",
       "      <td>0.00</td>\n",
       "      <td>0.00</td>\n",
       "      <td>0.00</td>\n",
       "    </tr>\n",
       "    <tr>\n",
       "      <th>2</th>\n",
       "      <td>100.00</td>\n",
       "      <td>There</td>\n",
       "      <td>games_video</td>\n",
       "      <td>acquired</td>\n",
       "      <td>NaT</td>\n",
       "      <td>NaT</td>\n",
       "      <td>there.com</td>\n",
       "      <td>NaN</td>\n",
       "      <td>USA</td>\n",
       "      <td>0.00</td>\n",
       "      <td>0.00</td>\n",
       "      <td>0.00</td>\n",
       "      <td>4.00</td>\n",
       "    </tr>\n",
       "    <tr>\n",
       "      <th>13</th>\n",
       "      <td>1001.00</td>\n",
       "      <td>FriendFeed</td>\n",
       "      <td>web</td>\n",
       "      <td>acquired</td>\n",
       "      <td>2007-10-01</td>\n",
       "      <td>NaT</td>\n",
       "      <td>friendfeed.com</td>\n",
       "      <td>friendfeed</td>\n",
       "      <td>USA</td>\n",
       "      <td>0.00</td>\n",
       "      <td>1.00</td>\n",
       "      <td>5000000.00</td>\n",
       "      <td>3.00</td>\n",
       "    </tr>\n",
       "    <tr>\n",
       "      <th>18</th>\n",
       "      <td>10014.00</td>\n",
       "      <td>Mobclix</td>\n",
       "      <td>mobile</td>\n",
       "      <td>acquired</td>\n",
       "      <td>2008-03-01</td>\n",
       "      <td>NaT</td>\n",
       "      <td>mobclix.com</td>\n",
       "      <td>mobclix</td>\n",
       "      <td>USA</td>\n",
       "      <td>0.00</td>\n",
       "      <td>1.00</td>\n",
       "      <td>0.00</td>\n",
       "      <td>4.00</td>\n",
       "    </tr>\n",
       "    <tr>\n",
       "      <th>...</th>\n",
       "      <td>...</td>\n",
       "      <td>...</td>\n",
       "      <td>...</td>\n",
       "      <td>...</td>\n",
       "      <td>...</td>\n",
       "      <td>...</td>\n",
       "      <td>...</td>\n",
       "      <td>...</td>\n",
       "      <td>...</td>\n",
       "      <td>...</td>\n",
       "      <td>...</td>\n",
       "      <td>...</td>\n",
       "      <td>...</td>\n",
       "    </tr>\n",
       "    <tr>\n",
       "      <th>196544</th>\n",
       "      <td>1344.00</td>\n",
       "      <td>Vobile</td>\n",
       "      <td>web</td>\n",
       "      <td>operating</td>\n",
       "      <td>2005-01-01</td>\n",
       "      <td>NaT</td>\n",
       "      <td>vobileinc.com</td>\n",
       "      <td>networkmobile</td>\n",
       "      <td>USA</td>\n",
       "      <td>0.00</td>\n",
       "      <td>1.00</td>\n",
       "      <td>10000000.00</td>\n",
       "      <td>0.00</td>\n",
       "    </tr>\n",
       "    <tr>\n",
       "      <th>196545</th>\n",
       "      <td>142181.00</td>\n",
       "      <td>Stop Being Watched</td>\n",
       "      <td>software</td>\n",
       "      <td>operating</td>\n",
       "      <td>2010-06-10</td>\n",
       "      <td>NaT</td>\n",
       "      <td>stopbeingwatched.com</td>\n",
       "      <td>SBWinfonetwork</td>\n",
       "      <td>USA</td>\n",
       "      <td>0.00</td>\n",
       "      <td>1.00</td>\n",
       "      <td>500000.00</td>\n",
       "      <td>1.00</td>\n",
       "    </tr>\n",
       "    <tr>\n",
       "      <th>196549</th>\n",
       "      <td>3429.00</td>\n",
       "      <td>Zend Technologies</td>\n",
       "      <td>software</td>\n",
       "      <td>operating</td>\n",
       "      <td>1999-01-01</td>\n",
       "      <td>NaT</td>\n",
       "      <td>zend.com</td>\n",
       "      <td>networkzend</td>\n",
       "      <td>USA</td>\n",
       "      <td>0.00</td>\n",
       "      <td>4.00</td>\n",
       "      <td>44000000.00</td>\n",
       "      <td>6.00</td>\n",
       "    </tr>\n",
       "    <tr>\n",
       "      <th>196550</th>\n",
       "      <td>7748.00</td>\n",
       "      <td>Flowgram</td>\n",
       "      <td>web</td>\n",
       "      <td>closed</td>\n",
       "      <td>2007-06-01</td>\n",
       "      <td>2008-06-11</td>\n",
       "      <td>flowgram.com</td>\n",
       "      <td>network</td>\n",
       "      <td>USA</td>\n",
       "      <td>0.00</td>\n",
       "      <td>1.00</td>\n",
       "      <td>1300000.00</td>\n",
       "      <td>3.00</td>\n",
       "    </tr>\n",
       "    <tr>\n",
       "      <th>196552</th>\n",
       "      <td>43233.00</td>\n",
       "      <td>Photonet</td>\n",
       "      <td>photo_video</td>\n",
       "      <td>acquired</td>\n",
       "      <td>2010-03-01</td>\n",
       "      <td>NaT</td>\n",
       "      <td>Photonet.com</td>\n",
       "      <td>Photonet</td>\n",
       "      <td>USA</td>\n",
       "      <td>0.00</td>\n",
       "      <td>3.00</td>\n",
       "      <td>57500000.00</td>\n",
       "      <td>3.00</td>\n",
       "    </tr>\n",
       "  </tbody>\n",
       "</table>\n",
       "<p>40747 rows × 13 columns</p>\n",
       "</div>"
      ],
      "text/plain": [
       "        company_ID                name category_code     status founded_at  \\\n",
       "0             1.00            Wetpaint           web  operating 2005-10-17   \n",
       "1            10.00             Flektor   games_video   acquired        NaT   \n",
       "2           100.00               There   games_video   acquired        NaT   \n",
       "13         1001.00          FriendFeed           web   acquired 2007-10-01   \n",
       "18        10014.00             Mobclix        mobile   acquired 2008-03-01   \n",
       "...            ...                 ...           ...        ...        ...   \n",
       "196544     1344.00              Vobile           web  operating 2005-01-01   \n",
       "196545   142181.00  Stop Being Watched      software  operating 2010-06-10   \n",
       "196549     3429.00   Zend Technologies      software  operating 1999-01-01   \n",
       "196550     7748.00            Flowgram           web     closed 2007-06-01   \n",
       "196552    43233.00            Photonet   photo_video   acquired 2010-03-01   \n",
       "\n",
       "        closed_at                domain network_username country_code  \\\n",
       "0             NaT      wetpaint-inc.com  BachelrWetpaint          USA   \n",
       "1             NaT           flektor.com              NaN          USA   \n",
       "2             NaT             there.com              NaN          USA   \n",
       "13            NaT        friendfeed.com       friendfeed          USA   \n",
       "18            NaT           mobclix.com          mobclix          USA   \n",
       "...           ...                   ...              ...          ...   \n",
       "196544        NaT         vobileinc.com    networkmobile          USA   \n",
       "196545        NaT  stopbeingwatched.com   SBWinfonetwork          USA   \n",
       "196549        NaT              zend.com      networkzend          USA   \n",
       "196550 2008-06-11          flowgram.com          network          USA   \n",
       "196552        NaT          Photonet.com         Photonet          USA   \n",
       "\n",
       "        investment_rounds  funding_rounds  funding_total  milestones  \n",
       "0                    0.00            3.00    39750000.00        5.00  \n",
       "1                    0.00            0.00           0.00        0.00  \n",
       "2                    0.00            0.00           0.00        4.00  \n",
       "13                   0.00            1.00     5000000.00        3.00  \n",
       "18                   0.00            1.00           0.00        4.00  \n",
       "...                   ...             ...            ...         ...  \n",
       "196544               0.00            1.00    10000000.00        0.00  \n",
       "196545               0.00            1.00      500000.00        1.00  \n",
       "196549               0.00            4.00    44000000.00        6.00  \n",
       "196550               0.00            1.00     1300000.00        3.00  \n",
       "196552               0.00            3.00    57500000.00        3.00  \n",
       "\n",
       "[40747 rows x 13 columns]"
      ]
     },
     "execution_count": 62,
     "metadata": {},
     "output_type": "execute_result"
    }
   ],
   "source": [
    "# Посмотрим на данные датасета filtered_company\n",
    "filtered_company"
   ]
  },
  {
   "cell_type": "code",
   "execution_count": 63,
   "metadata": {},
   "outputs": [
    {
     "data": {
      "text/html": [
       "<div>\n",
       "<style scoped>\n",
       "    .dataframe tbody tr th:only-of-type {\n",
       "        vertical-align: middle;\n",
       "    }\n",
       "\n",
       "    .dataframe tbody tr th {\n",
       "        vertical-align: top;\n",
       "    }\n",
       "\n",
       "    .dataframe thead th {\n",
       "        text-align: right;\n",
       "    }\n",
       "</style>\n",
       "<table border=\"1\" class=\"dataframe\">\n",
       "  <thead>\n",
       "    <tr style=\"text-align: right;\">\n",
       "      <th></th>\n",
       "      <th>id</th>\n",
       "      <th>acquiring_company_id</th>\n",
       "      <th>acquired_company_id</th>\n",
       "      <th>term_code</th>\n",
       "      <th>price_amount</th>\n",
       "      <th>acquired_at</th>\n",
       "    </tr>\n",
       "  </thead>\n",
       "  <tbody>\n",
       "    <tr>\n",
       "      <th>0</th>\n",
       "      <td>1</td>\n",
       "      <td>11</td>\n",
       "      <td>10</td>\n",
       "      <td>NaN</td>\n",
       "      <td>20000000</td>\n",
       "      <td>2007-05-30</td>\n",
       "    </tr>\n",
       "    <tr>\n",
       "      <th>1</th>\n",
       "      <td>7</td>\n",
       "      <td>59</td>\n",
       "      <td>72</td>\n",
       "      <td>cash</td>\n",
       "      <td>60000000</td>\n",
       "      <td>2007-07-01</td>\n",
       "    </tr>\n",
       "    <tr>\n",
       "      <th>2</th>\n",
       "      <td>8</td>\n",
       "      <td>24</td>\n",
       "      <td>132</td>\n",
       "      <td>cash</td>\n",
       "      <td>280000000</td>\n",
       "      <td>2007-05-01</td>\n",
       "    </tr>\n",
       "    <tr>\n",
       "      <th>3</th>\n",
       "      <td>9</td>\n",
       "      <td>59</td>\n",
       "      <td>155</td>\n",
       "      <td>cash</td>\n",
       "      <td>100000000</td>\n",
       "      <td>2007-06-01</td>\n",
       "    </tr>\n",
       "    <tr>\n",
       "      <th>4</th>\n",
       "      <td>10</td>\n",
       "      <td>212</td>\n",
       "      <td>215</td>\n",
       "      <td>cash</td>\n",
       "      <td>25000000</td>\n",
       "      <td>2007-07-01</td>\n",
       "    </tr>\n",
       "    <tr>\n",
       "      <th>...</th>\n",
       "      <td>...</td>\n",
       "      <td>...</td>\n",
       "      <td>...</td>\n",
       "      <td>...</td>\n",
       "      <td>...</td>\n",
       "      <td>...</td>\n",
       "    </tr>\n",
       "    <tr>\n",
       "      <th>9402</th>\n",
       "      <td>10525</td>\n",
       "      <td>267859</td>\n",
       "      <td>285995</td>\n",
       "      <td>stock</td>\n",
       "      <td>222000000</td>\n",
       "      <td>2013-12-11</td>\n",
       "    </tr>\n",
       "    <tr>\n",
       "      <th>9403</th>\n",
       "      <td>10526</td>\n",
       "      <td>285493</td>\n",
       "      <td>286006</td>\n",
       "      <td>NaN</td>\n",
       "      <td>0</td>\n",
       "      <td>2013-12-09</td>\n",
       "    </tr>\n",
       "    <tr>\n",
       "      <th>9404</th>\n",
       "      <td>10527</td>\n",
       "      <td>223792</td>\n",
       "      <td>220208</td>\n",
       "      <td>NaN</td>\n",
       "      <td>26000000000</td>\n",
       "      <td>2007-07-03</td>\n",
       "    </tr>\n",
       "    <tr>\n",
       "      <th>9405</th>\n",
       "      <td>10528</td>\n",
       "      <td>227620</td>\n",
       "      <td>286176</td>\n",
       "      <td>cash</td>\n",
       "      <td>52400000</td>\n",
       "      <td>2013-12-12</td>\n",
       "    </tr>\n",
       "    <tr>\n",
       "      <th>9406</th>\n",
       "      <td>10529</td>\n",
       "      <td>53</td>\n",
       "      <td>92846</td>\n",
       "      <td>NaN</td>\n",
       "      <td>42600000</td>\n",
       "      <td>2013-12-12</td>\n",
       "    </tr>\n",
       "  </tbody>\n",
       "</table>\n",
       "<p>9407 rows × 6 columns</p>\n",
       "</div>"
      ],
      "text/plain": [
       "         id  acquiring_company_id  acquired_company_id term_code  \\\n",
       "0         1                    11                   10       NaN   \n",
       "1         7                    59                   72      cash   \n",
       "2         8                    24                  132      cash   \n",
       "3         9                    59                  155      cash   \n",
       "4        10                   212                  215      cash   \n",
       "...     ...                   ...                  ...       ...   \n",
       "9402  10525                267859               285995     stock   \n",
       "9403  10526                285493               286006       NaN   \n",
       "9404  10527                223792               220208       NaN   \n",
       "9405  10528                227620               286176      cash   \n",
       "9406  10529                    53                92846       NaN   \n",
       "\n",
       "      price_amount acquired_at  \n",
       "0         20000000  2007-05-30  \n",
       "1         60000000  2007-07-01  \n",
       "2        280000000  2007-05-01  \n",
       "3        100000000  2007-06-01  \n",
       "4         25000000  2007-07-01  \n",
       "...            ...         ...  \n",
       "9402     222000000  2013-12-11  \n",
       "9403             0  2013-12-09  \n",
       "9404   26000000000  2007-07-03  \n",
       "9405      52400000  2013-12-12  \n",
       "9406      42600000  2013-12-12  \n",
       "\n",
       "[9407 rows x 6 columns]"
      ]
     },
     "execution_count": 63,
     "metadata": {},
     "output_type": "execute_result"
    }
   ],
   "source": [
    "# Посмотрим на данные датасета acquisition\n",
    "acq_df"
   ]
  },
  {
   "cell_type": "code",
   "execution_count": 64,
   "metadata": {},
   "outputs": [
    {
     "data": {
      "text/html": [
       "<div>\n",
       "<style scoped>\n",
       "    .dataframe tbody tr th:only-of-type {\n",
       "        vertical-align: middle;\n",
       "    }\n",
       "\n",
       "    .dataframe tbody tr th {\n",
       "        vertical-align: top;\n",
       "    }\n",
       "\n",
       "    .dataframe thead th {\n",
       "        text-align: right;\n",
       "    }\n",
       "</style>\n",
       "<table border=\"1\" class=\"dataframe\">\n",
       "  <thead>\n",
       "    <tr style=\"text-align: right;\">\n",
       "      <th></th>\n",
       "      <th>company_ID</th>\n",
       "      <th>name</th>\n",
       "      <th>category_code</th>\n",
       "      <th>status</th>\n",
       "      <th>founded_at</th>\n",
       "      <th>closed_at</th>\n",
       "      <th>domain</th>\n",
       "      <th>network_username</th>\n",
       "      <th>country_code</th>\n",
       "      <th>investment_rounds</th>\n",
       "      <th>funding_rounds</th>\n",
       "      <th>funding_total</th>\n",
       "      <th>milestones</th>\n",
       "      <th>id</th>\n",
       "      <th>acquiring_company_id</th>\n",
       "      <th>acquired_company_id</th>\n",
       "      <th>term_code</th>\n",
       "      <th>price_amount</th>\n",
       "      <th>acquired_at</th>\n",
       "    </tr>\n",
       "  </thead>\n",
       "  <tbody>\n",
       "    <tr>\n",
       "      <th>0</th>\n",
       "      <td>1.00</td>\n",
       "      <td>Wetpaint</td>\n",
       "      <td>web</td>\n",
       "      <td>operating</td>\n",
       "      <td>2005-10-17</td>\n",
       "      <td>NaT</td>\n",
       "      <td>wetpaint-inc.com</td>\n",
       "      <td>BachelrWetpaint</td>\n",
       "      <td>USA</td>\n",
       "      <td>0.00</td>\n",
       "      <td>3.00</td>\n",
       "      <td>39750000.00</td>\n",
       "      <td>5.00</td>\n",
       "      <td>NaN</td>\n",
       "      <td>NaN</td>\n",
       "      <td>NaN</td>\n",
       "      <td>NaN</td>\n",
       "      <td>NaN</td>\n",
       "      <td>NaT</td>\n",
       "    </tr>\n",
       "    <tr>\n",
       "      <th>1</th>\n",
       "      <td>10.00</td>\n",
       "      <td>Flektor</td>\n",
       "      <td>games_video</td>\n",
       "      <td>acquired</td>\n",
       "      <td>NaT</td>\n",
       "      <td>NaT</td>\n",
       "      <td>flektor.com</td>\n",
       "      <td>NaN</td>\n",
       "      <td>USA</td>\n",
       "      <td>0.00</td>\n",
       "      <td>0.00</td>\n",
       "      <td>0.00</td>\n",
       "      <td>0.00</td>\n",
       "      <td>1.00</td>\n",
       "      <td>11.00</td>\n",
       "      <td>10.00</td>\n",
       "      <td>NaN</td>\n",
       "      <td>20000000.00</td>\n",
       "      <td>2007-05-30</td>\n",
       "    </tr>\n",
       "    <tr>\n",
       "      <th>2</th>\n",
       "      <td>100.00</td>\n",
       "      <td>There</td>\n",
       "      <td>games_video</td>\n",
       "      <td>acquired</td>\n",
       "      <td>NaT</td>\n",
       "      <td>NaT</td>\n",
       "      <td>there.com</td>\n",
       "      <td>NaN</td>\n",
       "      <td>USA</td>\n",
       "      <td>0.00</td>\n",
       "      <td>0.00</td>\n",
       "      <td>0.00</td>\n",
       "      <td>4.00</td>\n",
       "      <td>20.00</td>\n",
       "      <td>377.00</td>\n",
       "      <td>100.00</td>\n",
       "      <td>cash</td>\n",
       "      <td>0.00</td>\n",
       "      <td>2005-05-29</td>\n",
       "    </tr>\n",
       "    <tr>\n",
       "      <th>3</th>\n",
       "      <td>1001.00</td>\n",
       "      <td>FriendFeed</td>\n",
       "      <td>web</td>\n",
       "      <td>acquired</td>\n",
       "      <td>2007-10-01</td>\n",
       "      <td>NaT</td>\n",
       "      <td>friendfeed.com</td>\n",
       "      <td>friendfeed</td>\n",
       "      <td>USA</td>\n",
       "      <td>0.00</td>\n",
       "      <td>1.00</td>\n",
       "      <td>5000000.00</td>\n",
       "      <td>3.00</td>\n",
       "      <td>1901.00</td>\n",
       "      <td>5.00</td>\n",
       "      <td>1001.00</td>\n",
       "      <td>cash_and_stock</td>\n",
       "      <td>47500000.00</td>\n",
       "      <td>2009-08-10</td>\n",
       "    </tr>\n",
       "    <tr>\n",
       "      <th>4</th>\n",
       "      <td>10014.00</td>\n",
       "      <td>Mobclix</td>\n",
       "      <td>mobile</td>\n",
       "      <td>acquired</td>\n",
       "      <td>2008-03-01</td>\n",
       "      <td>NaT</td>\n",
       "      <td>mobclix.com</td>\n",
       "      <td>mobclix</td>\n",
       "      <td>USA</td>\n",
       "      <td>0.00</td>\n",
       "      <td>1.00</td>\n",
       "      <td>0.00</td>\n",
       "      <td>4.00</td>\n",
       "      <td>3878.00</td>\n",
       "      <td>23054.00</td>\n",
       "      <td>10014.00</td>\n",
       "      <td>NaN</td>\n",
       "      <td>0.00</td>\n",
       "      <td>2010-09-30</td>\n",
       "    </tr>\n",
       "    <tr>\n",
       "      <th>...</th>\n",
       "      <td>...</td>\n",
       "      <td>...</td>\n",
       "      <td>...</td>\n",
       "      <td>...</td>\n",
       "      <td>...</td>\n",
       "      <td>...</td>\n",
       "      <td>...</td>\n",
       "      <td>...</td>\n",
       "      <td>...</td>\n",
       "      <td>...</td>\n",
       "      <td>...</td>\n",
       "      <td>...</td>\n",
       "      <td>...</td>\n",
       "      <td>...</td>\n",
       "      <td>...</td>\n",
       "      <td>...</td>\n",
       "      <td>...</td>\n",
       "      <td>...</td>\n",
       "      <td>...</td>\n",
       "    </tr>\n",
       "    <tr>\n",
       "      <th>40885</th>\n",
       "      <td>1344.00</td>\n",
       "      <td>Vobile</td>\n",
       "      <td>web</td>\n",
       "      <td>operating</td>\n",
       "      <td>2005-01-01</td>\n",
       "      <td>NaT</td>\n",
       "      <td>vobileinc.com</td>\n",
       "      <td>networkmobile</td>\n",
       "      <td>USA</td>\n",
       "      <td>0.00</td>\n",
       "      <td>1.00</td>\n",
       "      <td>10000000.00</td>\n",
       "      <td>0.00</td>\n",
       "      <td>NaN</td>\n",
       "      <td>NaN</td>\n",
       "      <td>NaN</td>\n",
       "      <td>NaN</td>\n",
       "      <td>NaN</td>\n",
       "      <td>NaT</td>\n",
       "    </tr>\n",
       "    <tr>\n",
       "      <th>40886</th>\n",
       "      <td>142181.00</td>\n",
       "      <td>Stop Being Watched</td>\n",
       "      <td>software</td>\n",
       "      <td>operating</td>\n",
       "      <td>2010-06-10</td>\n",
       "      <td>NaT</td>\n",
       "      <td>stopbeingwatched.com</td>\n",
       "      <td>SBWinfonetwork</td>\n",
       "      <td>USA</td>\n",
       "      <td>0.00</td>\n",
       "      <td>1.00</td>\n",
       "      <td>500000.00</td>\n",
       "      <td>1.00</td>\n",
       "      <td>NaN</td>\n",
       "      <td>NaN</td>\n",
       "      <td>NaN</td>\n",
       "      <td>NaN</td>\n",
       "      <td>NaN</td>\n",
       "      <td>NaT</td>\n",
       "    </tr>\n",
       "    <tr>\n",
       "      <th>40887</th>\n",
       "      <td>3429.00</td>\n",
       "      <td>Zend Technologies</td>\n",
       "      <td>software</td>\n",
       "      <td>operating</td>\n",
       "      <td>1999-01-01</td>\n",
       "      <td>NaT</td>\n",
       "      <td>zend.com</td>\n",
       "      <td>networkzend</td>\n",
       "      <td>USA</td>\n",
       "      <td>0.00</td>\n",
       "      <td>4.00</td>\n",
       "      <td>44000000.00</td>\n",
       "      <td>6.00</td>\n",
       "      <td>NaN</td>\n",
       "      <td>NaN</td>\n",
       "      <td>NaN</td>\n",
       "      <td>NaN</td>\n",
       "      <td>NaN</td>\n",
       "      <td>NaT</td>\n",
       "    </tr>\n",
       "    <tr>\n",
       "      <th>40888</th>\n",
       "      <td>7748.00</td>\n",
       "      <td>Flowgram</td>\n",
       "      <td>web</td>\n",
       "      <td>closed</td>\n",
       "      <td>2007-06-01</td>\n",
       "      <td>2008-06-11</td>\n",
       "      <td>flowgram.com</td>\n",
       "      <td>network</td>\n",
       "      <td>USA</td>\n",
       "      <td>0.00</td>\n",
       "      <td>1.00</td>\n",
       "      <td>1300000.00</td>\n",
       "      <td>3.00</td>\n",
       "      <td>NaN</td>\n",
       "      <td>NaN</td>\n",
       "      <td>NaN</td>\n",
       "      <td>NaN</td>\n",
       "      <td>NaN</td>\n",
       "      <td>NaT</td>\n",
       "    </tr>\n",
       "    <tr>\n",
       "      <th>40889</th>\n",
       "      <td>43233.00</td>\n",
       "      <td>Photonet</td>\n",
       "      <td>photo_video</td>\n",
       "      <td>acquired</td>\n",
       "      <td>2010-03-01</td>\n",
       "      <td>NaT</td>\n",
       "      <td>Photonet.com</td>\n",
       "      <td>Photonet</td>\n",
       "      <td>USA</td>\n",
       "      <td>0.00</td>\n",
       "      <td>3.00</td>\n",
       "      <td>57500000.00</td>\n",
       "      <td>3.00</td>\n",
       "      <td>6968.00</td>\n",
       "      <td>5.00</td>\n",
       "      <td>43233.00</td>\n",
       "      <td>cash_and_stock</td>\n",
       "      <td>1010470000.00</td>\n",
       "      <td>2012-04-09</td>\n",
       "    </tr>\n",
       "  </tbody>\n",
       "</table>\n",
       "<p>40890 rows × 19 columns</p>\n",
       "</div>"
      ],
      "text/plain": [
       "       company_ID                name category_code     status founded_at  \\\n",
       "0            1.00            Wetpaint           web  operating 2005-10-17   \n",
       "1           10.00             Flektor   games_video   acquired        NaT   \n",
       "2          100.00               There   games_video   acquired        NaT   \n",
       "3         1001.00          FriendFeed           web   acquired 2007-10-01   \n",
       "4        10014.00             Mobclix        mobile   acquired 2008-03-01   \n",
       "...           ...                 ...           ...        ...        ...   \n",
       "40885     1344.00              Vobile           web  operating 2005-01-01   \n",
       "40886   142181.00  Stop Being Watched      software  operating 2010-06-10   \n",
       "40887     3429.00   Zend Technologies      software  operating 1999-01-01   \n",
       "40888     7748.00            Flowgram           web     closed 2007-06-01   \n",
       "40889    43233.00            Photonet   photo_video   acquired 2010-03-01   \n",
       "\n",
       "       closed_at                domain network_username country_code  \\\n",
       "0            NaT      wetpaint-inc.com  BachelrWetpaint          USA   \n",
       "1            NaT           flektor.com              NaN          USA   \n",
       "2            NaT             there.com              NaN          USA   \n",
       "3            NaT        friendfeed.com       friendfeed          USA   \n",
       "4            NaT           mobclix.com          mobclix          USA   \n",
       "...          ...                   ...              ...          ...   \n",
       "40885        NaT         vobileinc.com    networkmobile          USA   \n",
       "40886        NaT  stopbeingwatched.com   SBWinfonetwork          USA   \n",
       "40887        NaT              zend.com      networkzend          USA   \n",
       "40888 2008-06-11          flowgram.com          network          USA   \n",
       "40889        NaT          Photonet.com         Photonet          USA   \n",
       "\n",
       "       investment_rounds  funding_rounds  funding_total  milestones      id  \\\n",
       "0                   0.00            3.00    39750000.00        5.00     NaN   \n",
       "1                   0.00            0.00           0.00        0.00    1.00   \n",
       "2                   0.00            0.00           0.00        4.00   20.00   \n",
       "3                   0.00            1.00     5000000.00        3.00 1901.00   \n",
       "4                   0.00            1.00           0.00        4.00 3878.00   \n",
       "...                  ...             ...            ...         ...     ...   \n",
       "40885               0.00            1.00    10000000.00        0.00     NaN   \n",
       "40886               0.00            1.00      500000.00        1.00     NaN   \n",
       "40887               0.00            4.00    44000000.00        6.00     NaN   \n",
       "40888               0.00            1.00     1300000.00        3.00     NaN   \n",
       "40889               0.00            3.00    57500000.00        3.00 6968.00   \n",
       "\n",
       "       acquiring_company_id  acquired_company_id       term_code  \\\n",
       "0                       NaN                  NaN             NaN   \n",
       "1                     11.00                10.00             NaN   \n",
       "2                    377.00               100.00            cash   \n",
       "3                      5.00              1001.00  cash_and_stock   \n",
       "4                  23054.00             10014.00             NaN   \n",
       "...                     ...                  ...             ...   \n",
       "40885                   NaN                  NaN             NaN   \n",
       "40886                   NaN                  NaN             NaN   \n",
       "40887                   NaN                  NaN             NaN   \n",
       "40888                   NaN                  NaN             NaN   \n",
       "40889                  5.00             43233.00  cash_and_stock   \n",
       "\n",
       "       price_amount acquired_at  \n",
       "0               NaN         NaT  \n",
       "1       20000000.00  2007-05-30  \n",
       "2              0.00  2005-05-29  \n",
       "3       47500000.00  2009-08-10  \n",
       "4              0.00  2010-09-30  \n",
       "...             ...         ...  \n",
       "40885           NaN         NaT  \n",
       "40886           NaN         NaT  \n",
       "40887           NaN         NaT  \n",
       "40888           NaN         NaT  \n",
       "40889 1010470000.00  2012-04-09  \n",
       "\n",
       "[40890 rows x 19 columns]"
      ]
     },
     "execution_count": 64,
     "metadata": {},
     "output_type": "execute_result"
    }
   ],
   "source": [
    "# Объеденим датасеты для дальшей для дальнейшего анализа\n",
    "acquired_filtered_company = pd.merge(filtered_company,acq_df,left_on='company_ID',right_on='acquired_company_id',how='left')\n",
    "acquired_filtered_company"
   ]
  },
  {
   "cell_type": "code",
   "execution_count": 65,
   "metadata": {},
   "outputs": [],
   "source": [
    "# Отфильтруем по требуемой цене продажи \n",
    "acquired_filtered_company = acquired_filtered_company[(acquired_filtered_company['price_amount']==0)|\n",
    "                                                      (acquired_filtered_company['price_amount']==1)]\n"
   ]
  },
  {
   "cell_type": "code",
   "execution_count": 66,
   "metadata": {},
   "outputs": [
    {
     "data": {
      "text/plain": [
       "array([0., 1.])"
      ]
     },
     "execution_count": 66,
     "metadata": {},
     "output_type": "execute_result"
    }
   ],
   "source": [
    "# Проверим уникальные значения в столбце price_amount\n",
    "acquired_filtered_company['price_amount'].unique()"
   ]
  },
  {
   "cell_type": "code",
   "execution_count": 67,
   "metadata": {},
   "outputs": [],
   "source": [
    "# Отфильтруем по ненулевому общему объёму финансирования\n",
    "acquired_filtered_company = acquired_filtered_company[(acquired_filtered_company['funding_total'] > 0)]\n"
   ]
  },
  {
   "cell_type": "code",
   "execution_count": 68,
   "metadata": {},
   "outputs": [
    {
     "data": {
      "text/html": [
       "<div>\n",
       "<style scoped>\n",
       "    .dataframe tbody tr th:only-of-type {\n",
       "        vertical-align: middle;\n",
       "    }\n",
       "\n",
       "    .dataframe tbody tr th {\n",
       "        vertical-align: top;\n",
       "    }\n",
       "\n",
       "    .dataframe thead th {\n",
       "        text-align: right;\n",
       "    }\n",
       "</style>\n",
       "<table border=\"1\" class=\"dataframe\">\n",
       "  <thead>\n",
       "    <tr style=\"text-align: right;\">\n",
       "      <th></th>\n",
       "      <th>company_ID</th>\n",
       "      <th>name</th>\n",
       "      <th>category_code</th>\n",
       "      <th>status</th>\n",
       "      <th>founded_at</th>\n",
       "      <th>closed_at</th>\n",
       "      <th>domain</th>\n",
       "      <th>network_username</th>\n",
       "      <th>country_code</th>\n",
       "      <th>investment_rounds</th>\n",
       "      <th>funding_rounds</th>\n",
       "      <th>funding_total</th>\n",
       "      <th>milestones</th>\n",
       "      <th>id</th>\n",
       "      <th>acquiring_company_id</th>\n",
       "      <th>acquired_company_id</th>\n",
       "      <th>term_code</th>\n",
       "      <th>price_amount</th>\n",
       "      <th>acquired_at</th>\n",
       "    </tr>\n",
       "  </thead>\n",
       "  <tbody>\n",
       "    <tr>\n",
       "      <th>25</th>\n",
       "      <td>10054.00</td>\n",
       "      <td>Jumptap</td>\n",
       "      <td>mobile</td>\n",
       "      <td>acquired</td>\n",
       "      <td>2005-01-01</td>\n",
       "      <td>NaT</td>\n",
       "      <td>jumptap.com</td>\n",
       "      <td>jumptap</td>\n",
       "      <td>USA</td>\n",
       "      <td>0.00</td>\n",
       "      <td>7.00</td>\n",
       "      <td>121500000.00</td>\n",
       "      <td>3.00</td>\n",
       "      <td>9288.00</td>\n",
       "      <td>23283.00</td>\n",
       "      <td>10054.00</td>\n",
       "      <td>cash_and_stock</td>\n",
       "      <td>0.00</td>\n",
       "      <td>2013-08-13</td>\n",
       "    </tr>\n",
       "    <tr>\n",
       "      <th>63</th>\n",
       "      <td>101312.00</td>\n",
       "      <td>SideTour</td>\n",
       "      <td>web</td>\n",
       "      <td>acquired</td>\n",
       "      <td>2011-06-01</td>\n",
       "      <td>NaT</td>\n",
       "      <td>sidetour.com</td>\n",
       "      <td>sidetour</td>\n",
       "      <td>USA</td>\n",
       "      <td>0.00</td>\n",
       "      <td>3.00</td>\n",
       "      <td>4000000.00</td>\n",
       "      <td>2.00</td>\n",
       "      <td>9653.00</td>\n",
       "      <td>11391.00</td>\n",
       "      <td>101312.00</td>\n",
       "      <td>NaN</td>\n",
       "      <td>0.00</td>\n",
       "      <td>2013-09-18</td>\n",
       "    </tr>\n",
       "    <tr>\n",
       "      <th>66</th>\n",
       "      <td>101340.00</td>\n",
       "      <td>ChoicePass</td>\n",
       "      <td>enterprise</td>\n",
       "      <td>acquired</td>\n",
       "      <td>2011-07-01</td>\n",
       "      <td>NaT</td>\n",
       "      <td>choicepass.com</td>\n",
       "      <td>choicepass</td>\n",
       "      <td>USA</td>\n",
       "      <td>0.00</td>\n",
       "      <td>1.00</td>\n",
       "      <td>250000.00</td>\n",
       "      <td>1.00</td>\n",
       "      <td>7272.00</td>\n",
       "      <td>1972.00</td>\n",
       "      <td>101340.00</td>\n",
       "      <td>NaN</td>\n",
       "      <td>0.00</td>\n",
       "      <td>2012-06-18</td>\n",
       "    </tr>\n",
       "    <tr>\n",
       "      <th>67</th>\n",
       "      <td>10137.00</td>\n",
       "      <td>Producteev</td>\n",
       "      <td>software</td>\n",
       "      <td>acquired</td>\n",
       "      <td>2008-07-08</td>\n",
       "      <td>NaT</td>\n",
       "      <td>producteev.com</td>\n",
       "      <td>producteev</td>\n",
       "      <td>USA</td>\n",
       "      <td>0.00</td>\n",
       "      <td>3.00</td>\n",
       "      <td>1310000.00</td>\n",
       "      <td>2.00</td>\n",
       "      <td>8254.00</td>\n",
       "      <td>757.00</td>\n",
       "      <td>10137.00</td>\n",
       "      <td>cash_and_stock</td>\n",
       "      <td>0.00</td>\n",
       "      <td>2012-11-05</td>\n",
       "    </tr>\n",
       "    <tr>\n",
       "      <th>68</th>\n",
       "      <td>10139.00</td>\n",
       "      <td>TradeCard</td>\n",
       "      <td>enterprise</td>\n",
       "      <td>acquired</td>\n",
       "      <td>1999-01-01</td>\n",
       "      <td>NaT</td>\n",
       "      <td>tradecard.com</td>\n",
       "      <td>TradeCard</td>\n",
       "      <td>USA</td>\n",
       "      <td>0.00</td>\n",
       "      <td>2.00</td>\n",
       "      <td>44925000.00</td>\n",
       "      <td>1.00</td>\n",
       "      <td>9326.00</td>\n",
       "      <td>44008.00</td>\n",
       "      <td>10139.00</td>\n",
       "      <td>NaN</td>\n",
       "      <td>0.00</td>\n",
       "      <td>2013-04-01</td>\n",
       "    </tr>\n",
       "    <tr>\n",
       "      <th>...</th>\n",
       "      <td>...</td>\n",
       "      <td>...</td>\n",
       "      <td>...</td>\n",
       "      <td>...</td>\n",
       "      <td>...</td>\n",
       "      <td>...</td>\n",
       "      <td>...</td>\n",
       "      <td>...</td>\n",
       "      <td>...</td>\n",
       "      <td>...</td>\n",
       "      <td>...</td>\n",
       "      <td>...</td>\n",
       "      <td>...</td>\n",
       "      <td>...</td>\n",
       "      <td>...</td>\n",
       "      <td>...</td>\n",
       "      <td>...</td>\n",
       "      <td>...</td>\n",
       "      <td>...</td>\n",
       "    </tr>\n",
       "    <tr>\n",
       "      <th>40834</th>\n",
       "      <td>99.00</td>\n",
       "      <td>Amie Street</td>\n",
       "      <td>web</td>\n",
       "      <td>acquired</td>\n",
       "      <td>2011-07-04</td>\n",
       "      <td>NaT</td>\n",
       "      <td>amiestreet.com</td>\n",
       "      <td>amiestreet_logs</td>\n",
       "      <td>USA</td>\n",
       "      <td>0.00</td>\n",
       "      <td>2.00</td>\n",
       "      <td>3900000.00</td>\n",
       "      <td>0.00</td>\n",
       "      <td>7024.00</td>\n",
       "      <td>317.00</td>\n",
       "      <td>99.00</td>\n",
       "      <td>NaN</td>\n",
       "      <td>0.00</td>\n",
       "      <td>2010-09-22</td>\n",
       "    </tr>\n",
       "    <tr>\n",
       "      <th>40836</th>\n",
       "      <td>9905.00</td>\n",
       "      <td>UBmatrix</td>\n",
       "      <td>software</td>\n",
       "      <td>acquired</td>\n",
       "      <td>2005-01-01</td>\n",
       "      <td>NaT</td>\n",
       "      <td>ubmatrix.com</td>\n",
       "      <td>NaN</td>\n",
       "      <td>USA</td>\n",
       "      <td>0.00</td>\n",
       "      <td>2.00</td>\n",
       "      <td>5172350.00</td>\n",
       "      <td>0.00</td>\n",
       "      <td>3381.00</td>\n",
       "      <td>41119.00</td>\n",
       "      <td>9905.00</td>\n",
       "      <td>NaN</td>\n",
       "      <td>0.00</td>\n",
       "      <td>2010-06-24</td>\n",
       "    </tr>\n",
       "    <tr>\n",
       "      <th>40840</th>\n",
       "      <td>992.00</td>\n",
       "      <td>wunderloop</td>\n",
       "      <td>advertising</td>\n",
       "      <td>acquired</td>\n",
       "      <td>1999-01-01</td>\n",
       "      <td>NaT</td>\n",
       "      <td>wunderloop.com</td>\n",
       "      <td>NaN</td>\n",
       "      <td>USA</td>\n",
       "      <td>0.00</td>\n",
       "      <td>1.00</td>\n",
       "      <td>10000000.00</td>\n",
       "      <td>1.00</td>\n",
       "      <td>9916.00</td>\n",
       "      <td>19182.00</td>\n",
       "      <td>992.00</td>\n",
       "      <td>NaN</td>\n",
       "      <td>0.00</td>\n",
       "      <td>2010-07-02</td>\n",
       "    </tr>\n",
       "    <tr>\n",
       "      <th>40854</th>\n",
       "      <td>997.00</td>\n",
       "      <td>Zimbra</td>\n",
       "      <td>enterprise</td>\n",
       "      <td>acquired</td>\n",
       "      <td>2003-01-01</td>\n",
       "      <td>NaT</td>\n",
       "      <td>zimbra.com</td>\n",
       "      <td>zimbra</td>\n",
       "      <td>USA</td>\n",
       "      <td>0.00</td>\n",
       "      <td>1.00</td>\n",
       "      <td>14500000.00</td>\n",
       "      <td>3.00</td>\n",
       "      <td>9121.00</td>\n",
       "      <td>415.00</td>\n",
       "      <td>997.00</td>\n",
       "      <td>NaN</td>\n",
       "      <td>0.00</td>\n",
       "      <td>2013-07-15</td>\n",
       "    </tr>\n",
       "    <tr>\n",
       "      <th>40872</th>\n",
       "      <td>153326.00</td>\n",
       "      <td>Yoke</td>\n",
       "      <td>web</td>\n",
       "      <td>acquired</td>\n",
       "      <td>NaT</td>\n",
       "      <td>NaT</td>\n",
       "      <td>apps.socialnet.com::yokeapp</td>\n",
       "      <td>NaN</td>\n",
       "      <td>NaN</td>\n",
       "      <td>0.00</td>\n",
       "      <td>1.00</td>\n",
       "      <td>500000.00</td>\n",
       "      <td>1.00</td>\n",
       "      <td>7948.00</td>\n",
       "      <td>2352.00</td>\n",
       "      <td>153326.00</td>\n",
       "      <td>NaN</td>\n",
       "      <td>0.00</td>\n",
       "      <td>2012-09-11</td>\n",
       "    </tr>\n",
       "  </tbody>\n",
       "</table>\n",
       "<p>1618 rows × 19 columns</p>\n",
       "</div>"
      ],
      "text/plain": [
       "       company_ID         name category_code    status founded_at closed_at  \\\n",
       "25       10054.00      Jumptap        mobile  acquired 2005-01-01       NaT   \n",
       "63      101312.00     SideTour           web  acquired 2011-06-01       NaT   \n",
       "66      101340.00   ChoicePass    enterprise  acquired 2011-07-01       NaT   \n",
       "67       10137.00   Producteev      software  acquired 2008-07-08       NaT   \n",
       "68       10139.00    TradeCard    enterprise  acquired 1999-01-01       NaT   \n",
       "...           ...          ...           ...       ...        ...       ...   \n",
       "40834       99.00  Amie Street           web  acquired 2011-07-04       NaT   \n",
       "40836     9905.00     UBmatrix      software  acquired 2005-01-01       NaT   \n",
       "40840      992.00   wunderloop   advertising  acquired 1999-01-01       NaT   \n",
       "40854      997.00       Zimbra    enterprise  acquired 2003-01-01       NaT   \n",
       "40872   153326.00         Yoke           web  acquired        NaT       NaT   \n",
       "\n",
       "                            domain network_username country_code  \\\n",
       "25                     jumptap.com          jumptap          USA   \n",
       "63                    sidetour.com         sidetour          USA   \n",
       "66                  choicepass.com       choicepass          USA   \n",
       "67                  producteev.com       producteev          USA   \n",
       "68                   tradecard.com        TradeCard          USA   \n",
       "...                            ...              ...          ...   \n",
       "40834               amiestreet.com  amiestreet_logs          USA   \n",
       "40836                 ubmatrix.com              NaN          USA   \n",
       "40840               wunderloop.com              NaN          USA   \n",
       "40854                   zimbra.com           zimbra          USA   \n",
       "40872  apps.socialnet.com::yokeapp              NaN          NaN   \n",
       "\n",
       "       investment_rounds  funding_rounds  funding_total  milestones      id  \\\n",
       "25                  0.00            7.00   121500000.00        3.00 9288.00   \n",
       "63                  0.00            3.00     4000000.00        2.00 9653.00   \n",
       "66                  0.00            1.00      250000.00        1.00 7272.00   \n",
       "67                  0.00            3.00     1310000.00        2.00 8254.00   \n",
       "68                  0.00            2.00    44925000.00        1.00 9326.00   \n",
       "...                  ...             ...            ...         ...     ...   \n",
       "40834               0.00            2.00     3900000.00        0.00 7024.00   \n",
       "40836               0.00            2.00     5172350.00        0.00 3381.00   \n",
       "40840               0.00            1.00    10000000.00        1.00 9916.00   \n",
       "40854               0.00            1.00    14500000.00        3.00 9121.00   \n",
       "40872               0.00            1.00      500000.00        1.00 7948.00   \n",
       "\n",
       "       acquiring_company_id  acquired_company_id       term_code  \\\n",
       "25                 23283.00             10054.00  cash_and_stock   \n",
       "63                 11391.00            101312.00             NaN   \n",
       "66                  1972.00            101340.00             NaN   \n",
       "67                   757.00             10137.00  cash_and_stock   \n",
       "68                 44008.00             10139.00             NaN   \n",
       "...                     ...                  ...             ...   \n",
       "40834                317.00                99.00             NaN   \n",
       "40836              41119.00              9905.00             NaN   \n",
       "40840              19182.00               992.00             NaN   \n",
       "40854                415.00               997.00             NaN   \n",
       "40872               2352.00            153326.00             NaN   \n",
       "\n",
       "       price_amount acquired_at  \n",
       "25             0.00  2013-08-13  \n",
       "63             0.00  2013-09-18  \n",
       "66             0.00  2012-06-18  \n",
       "67             0.00  2012-11-05  \n",
       "68             0.00  2013-04-01  \n",
       "...             ...         ...  \n",
       "40834          0.00  2010-09-22  \n",
       "40836          0.00  2010-06-24  \n",
       "40840          0.00  2010-07-02  \n",
       "40854          0.00  2013-07-15  \n",
       "40872          0.00  2012-09-11  \n",
       "\n",
       "[1618 rows x 19 columns]"
      ]
     },
     "execution_count": 68,
     "metadata": {},
     "output_type": "execute_result"
    }
   ],
   "source": [
    "# Проверим данные\n",
    "acquired_filtered_company"
   ]
  },
  {
   "cell_type": "code",
   "execution_count": 69,
   "metadata": {},
   "outputs": [
    {
     "data": {
      "text/html": [
       "<div>\n",
       "<style scoped>\n",
       "    .dataframe tbody tr th:only-of-type {\n",
       "        vertical-align: middle;\n",
       "    }\n",
       "\n",
       "    .dataframe tbody tr th {\n",
       "        vertical-align: top;\n",
       "    }\n",
       "\n",
       "    .dataframe thead th {\n",
       "        text-align: right;\n",
       "    }\n",
       "</style>\n",
       "<table border=\"1\" class=\"dataframe\">\n",
       "  <thead>\n",
       "    <tr style=\"text-align: right;\">\n",
       "      <th></th>\n",
       "      <th>company_ID</th>\n",
       "      <th>investment_rounds</th>\n",
       "      <th>funding_rounds</th>\n",
       "      <th>funding_total</th>\n",
       "      <th>milestones</th>\n",
       "      <th>id</th>\n",
       "      <th>acquiring_company_id</th>\n",
       "      <th>acquired_company_id</th>\n",
       "      <th>price_amount</th>\n",
       "    </tr>\n",
       "  </thead>\n",
       "  <tbody>\n",
       "    <tr>\n",
       "      <th>count</th>\n",
       "      <td>1618.00</td>\n",
       "      <td>1618.00</td>\n",
       "      <td>1618.00</td>\n",
       "      <td>1618.00</td>\n",
       "      <td>1618.00</td>\n",
       "      <td>1618.00</td>\n",
       "      <td>1618.00</td>\n",
       "      <td>1618.00</td>\n",
       "      <td>1618.00</td>\n",
       "    </tr>\n",
       "    <tr>\n",
       "      <th>mean</th>\n",
       "      <td>39632.81</td>\n",
       "      <td>0.01</td>\n",
       "      <td>1.89</td>\n",
       "      <td>18152961.94</td>\n",
       "      <td>1.46</td>\n",
       "      <td>6303.87</td>\n",
       "      <td>46063.28</td>\n",
       "      <td>39632.81</td>\n",
       "      <td>0.00</td>\n",
       "    </tr>\n",
       "    <tr>\n",
       "      <th>std</th>\n",
       "      <td>44615.51</td>\n",
       "      <td>0.12</td>\n",
       "      <td>1.24</td>\n",
       "      <td>144503027.47</td>\n",
       "      <td>1.23</td>\n",
       "      <td>2980.14</td>\n",
       "      <td>68220.70</td>\n",
       "      <td>44615.51</td>\n",
       "      <td>0.00</td>\n",
       "    </tr>\n",
       "    <tr>\n",
       "      <th>min</th>\n",
       "      <td>9.00</td>\n",
       "      <td>0.00</td>\n",
       "      <td>1.00</td>\n",
       "      <td>3750.00</td>\n",
       "      <td>0.00</td>\n",
       "      <td>14.00</td>\n",
       "      <td>5.00</td>\n",
       "      <td>9.00</td>\n",
       "      <td>0.00</td>\n",
       "    </tr>\n",
       "    <tr>\n",
       "      <th>25%</th>\n",
       "      <td>10491.75</td>\n",
       "      <td>0.00</td>\n",
       "      <td>1.00</td>\n",
       "      <td>2000000.00</td>\n",
       "      <td>0.00</td>\n",
       "      <td>3912.25</td>\n",
       "      <td>2720.25</td>\n",
       "      <td>10491.75</td>\n",
       "      <td>0.00</td>\n",
       "    </tr>\n",
       "    <tr>\n",
       "      <th>50%</th>\n",
       "      <td>27868.50</td>\n",
       "      <td>0.00</td>\n",
       "      <td>1.00</td>\n",
       "      <td>6000000.00</td>\n",
       "      <td>1.00</td>\n",
       "      <td>6799.00</td>\n",
       "      <td>18183.50</td>\n",
       "      <td>27868.50</td>\n",
       "      <td>0.00</td>\n",
       "    </tr>\n",
       "    <tr>\n",
       "      <th>75%</th>\n",
       "      <td>49818.75</td>\n",
       "      <td>0.00</td>\n",
       "      <td>2.00</td>\n",
       "      <td>15500000.00</td>\n",
       "      <td>2.00</td>\n",
       "      <td>8842.25</td>\n",
       "      <td>52739.75</td>\n",
       "      <td>49818.75</td>\n",
       "      <td>0.00</td>\n",
       "    </tr>\n",
       "    <tr>\n",
       "      <th>max</th>\n",
       "      <td>268806.00</td>\n",
       "      <td>3.00</td>\n",
       "      <td>12.00</td>\n",
       "      <td>5700000000.00</td>\n",
       "      <td>6.00</td>\n",
       "      <td>10513.00</td>\n",
       "      <td>284510.00</td>\n",
       "      <td>268806.00</td>\n",
       "      <td>0.00</td>\n",
       "    </tr>\n",
       "  </tbody>\n",
       "</table>\n",
       "</div>"
      ],
      "text/plain": [
       "       company_ID  investment_rounds  funding_rounds  funding_total  \\\n",
       "count     1618.00            1618.00         1618.00        1618.00   \n",
       "mean     39632.81               0.01            1.89    18152961.94   \n",
       "std      44615.51               0.12            1.24   144503027.47   \n",
       "min          9.00               0.00            1.00        3750.00   \n",
       "25%      10491.75               0.00            1.00     2000000.00   \n",
       "50%      27868.50               0.00            1.00     6000000.00   \n",
       "75%      49818.75               0.00            2.00    15500000.00   \n",
       "max     268806.00               3.00           12.00  5700000000.00   \n",
       "\n",
       "       milestones       id  acquiring_company_id  acquired_company_id  \\\n",
       "count     1618.00  1618.00               1618.00              1618.00   \n",
       "mean         1.46  6303.87              46063.28             39632.81   \n",
       "std          1.23  2980.14              68220.70             44615.51   \n",
       "min          0.00    14.00                  5.00                 9.00   \n",
       "25%          0.00  3912.25               2720.25             10491.75   \n",
       "50%          1.00  6799.00              18183.50             27868.50   \n",
       "75%          2.00  8842.25              52739.75             49818.75   \n",
       "max          6.00 10513.00             284510.00            268806.00   \n",
       "\n",
       "       price_amount  \n",
       "count       1618.00  \n",
       "mean           0.00  \n",
       "std            0.00  \n",
       "min            0.00  \n",
       "25%            0.00  \n",
       "50%            0.00  \n",
       "75%            0.00  \n",
       "max            0.00  "
      ]
     },
     "execution_count": 69,
     "metadata": {},
     "output_type": "execute_result"
    }
   ],
   "source": [
    "# Получим краткое статистическое описание данных через метод describe \n",
    "acquired_filtered_company.describe()"
   ]
  },
  {
   "cell_type": "markdown",
   "metadata": {},
   "source": [
    "Всего получилось 1618 строк датасета, подходящих под требуемые условия. Продолжим анализ."
   ]
  },
  {
   "cell_type": "code",
   "execution_count": 70,
   "metadata": {},
   "outputs": [
    {
     "data": {
      "text/plain": [
       "13500000.0"
      ]
     },
     "execution_count": 70,
     "metadata": {},
     "output_type": "execute_result"
    }
   ],
   "source": [
    "# Начнём рассчитывать аналитические верхнюю и нижнюю границу выбросов для столбца funding_total\n",
    "q1 = acquired_filtered_company['funding_total'].quantile(0.25)\n",
    "q3 = acquired_filtered_company['funding_total'].quantile(0.75)\n",
    "IQR = (q3 - q1) # межквартильный размах\n",
    "IQR"
   ]
  },
  {
   "cell_type": "code",
   "execution_count": 71,
   "metadata": {},
   "outputs": [
    {
     "name": "stdout",
     "output_type": "stream",
     "text": [
      "Нижняя граница - -18250000.0, Верхняя граница - 35750000.0\n"
     ]
    }
   ],
   "source": [
    "# Нижняя граница \n",
    "bot_border = q1 - 1.5*IQR\n",
    "# Верхняя граница\n",
    "top_border = q3 + 1.5*IQR\n",
    "print(f'Нижняя граница - {bot_border}, Верхняя граница - {top_border}')"
   ]
  },
  {
   "cell_type": "markdown",
   "metadata": {},
   "source": [
    "Так как нижняя граница не может быть отрицательным числом, то возьмем за нижнюю границу значение 0. Также попробуем высчитать процентиль для верхней границы"
   ]
  },
  {
   "cell_type": "code",
   "execution_count": 72,
   "metadata": {},
   "outputs": [
    {
     "data": {
      "text/plain": [
       "0"
      ]
     },
     "execution_count": 72,
     "metadata": {},
     "output_type": "execute_result"
    }
   ],
   "source": [
    "# Берем за нижнюю границу значение 0\n",
    "bot_border = max(0, bot_border)\n",
    "bot_border"
   ]
  },
  {
   "cell_type": "code",
   "execution_count": 73,
   "metadata": {},
   "outputs": [],
   "source": [
    "# Выберем все значения в столбце, которые меньше или равны верхней границы\n",
    "new_value = acquired_filtered_company[acquired_filtered_company['funding_total'] <= top_border]"
   ]
  },
  {
   "cell_type": "code",
   "execution_count": 74,
   "metadata": {},
   "outputs": [],
   "source": [
    "# Количество значений, которые меньше верхней границы\n",
    "a = new_value['funding_total'].count()"
   ]
  },
  {
   "cell_type": "code",
   "execution_count": 75,
   "metadata": {},
   "outputs": [
    {
     "data": {
      "text/plain": [
       "90.91470951792337"
      ]
     },
     "execution_count": 75,
     "metadata": {},
     "output_type": "execute_result"
    }
   ],
   "source": [
    "# Считаем процентиль для верхней границы\n",
    "top_border_percentile = (a/acquired_filtered_company['funding_total'].count())*100\n",
    "top_border_percentile"
   ]
  },
  {
   "cell_type": "markdown",
   "metadata": {},
   "source": [
    "___\n",
    "- Расчёт границ выбросов показывает, что нижняя граница находится на отметке -18.250.000.0. Отрицательное значение может быть связано с большим разбросом данных.\n",
    "- Из-за того, что нижняя граница, посчитаная с помощью межквартильного размаха, оказалась с отрицательным значением, было решено заменить значение нижней границы на значение 0\n",
    "- Верхняя граница находится на отметке 35.750.000.0 и приимерно соответствует 90% - 91% процентилю\n",
    "- 1618 компаний были приобретены за 0 или 1 доллар.\n",
    "___"
   ]
  },
  {
   "cell_type": "markdown",
   "metadata": {
    "id": "mEiWpROjrJg2"
   },
   "source": [
    "\n",
    "### 3.4. Цены стартапов по категориям\n",
    "\n",
    "Категории стартапов с типично высокими ценами покупки стартапов и значительным разбросом цен могут быть привлекательными для крупных инвесторов, которые готовы к высоким рискам ради потенциально больших доходов. Среди категорий стартапов выделите категории стартапов, характеризующиеся:\n",
    "\n",
    "- типично высокими ценами;\n",
    "- и наибольшим разбросом цен за стартап.\n",
    "\n",
    "Объясните, почему решили составить топ именно из такого числа категорий и почему рассчитывали именно так."
   ]
  },
  {
   "cell_type": "code",
   "execution_count": 76,
   "metadata": {},
   "outputs": [],
   "source": [
    "# Создаем новый датасет\n",
    "acquired_company = pd.merge(filtered_company,acq_df,left_on='company_ID',right_on='acquired_company_id',how='left')"
   ]
  },
  {
   "cell_type": "code",
   "execution_count": 77,
   "metadata": {},
   "outputs": [
    {
     "data": {
      "text/html": [
       "<div>\n",
       "<style scoped>\n",
       "    .dataframe tbody tr th:only-of-type {\n",
       "        vertical-align: middle;\n",
       "    }\n",
       "\n",
       "    .dataframe tbody tr th {\n",
       "        vertical-align: top;\n",
       "    }\n",
       "\n",
       "    .dataframe thead th {\n",
       "        text-align: right;\n",
       "    }\n",
       "</style>\n",
       "<table border=\"1\" class=\"dataframe\">\n",
       "  <thead>\n",
       "    <tr style=\"text-align: right;\">\n",
       "      <th></th>\n",
       "      <th>company_ID</th>\n",
       "      <th>name</th>\n",
       "      <th>category_code</th>\n",
       "      <th>status</th>\n",
       "      <th>founded_at</th>\n",
       "      <th>closed_at</th>\n",
       "      <th>domain</th>\n",
       "      <th>network_username</th>\n",
       "      <th>country_code</th>\n",
       "      <th>investment_rounds</th>\n",
       "      <th>funding_rounds</th>\n",
       "      <th>funding_total</th>\n",
       "      <th>milestones</th>\n",
       "      <th>id</th>\n",
       "      <th>acquiring_company_id</th>\n",
       "      <th>acquired_company_id</th>\n",
       "      <th>term_code</th>\n",
       "      <th>price_amount</th>\n",
       "      <th>acquired_at</th>\n",
       "    </tr>\n",
       "  </thead>\n",
       "  <tbody>\n",
       "    <tr>\n",
       "      <th>0</th>\n",
       "      <td>1.00</td>\n",
       "      <td>Wetpaint</td>\n",
       "      <td>web</td>\n",
       "      <td>operating</td>\n",
       "      <td>2005-10-17</td>\n",
       "      <td>NaT</td>\n",
       "      <td>wetpaint-inc.com</td>\n",
       "      <td>BachelrWetpaint</td>\n",
       "      <td>USA</td>\n",
       "      <td>0.00</td>\n",
       "      <td>3.00</td>\n",
       "      <td>39750000.00</td>\n",
       "      <td>5.00</td>\n",
       "      <td>NaN</td>\n",
       "      <td>NaN</td>\n",
       "      <td>NaN</td>\n",
       "      <td>NaN</td>\n",
       "      <td>NaN</td>\n",
       "      <td>NaT</td>\n",
       "    </tr>\n",
       "    <tr>\n",
       "      <th>1</th>\n",
       "      <td>10.00</td>\n",
       "      <td>Flektor</td>\n",
       "      <td>games_video</td>\n",
       "      <td>acquired</td>\n",
       "      <td>NaT</td>\n",
       "      <td>NaT</td>\n",
       "      <td>flektor.com</td>\n",
       "      <td>NaN</td>\n",
       "      <td>USA</td>\n",
       "      <td>0.00</td>\n",
       "      <td>0.00</td>\n",
       "      <td>0.00</td>\n",
       "      <td>0.00</td>\n",
       "      <td>1.00</td>\n",
       "      <td>11.00</td>\n",
       "      <td>10.00</td>\n",
       "      <td>NaN</td>\n",
       "      <td>20000000.00</td>\n",
       "      <td>2007-05-30</td>\n",
       "    </tr>\n",
       "    <tr>\n",
       "      <th>2</th>\n",
       "      <td>100.00</td>\n",
       "      <td>There</td>\n",
       "      <td>games_video</td>\n",
       "      <td>acquired</td>\n",
       "      <td>NaT</td>\n",
       "      <td>NaT</td>\n",
       "      <td>there.com</td>\n",
       "      <td>NaN</td>\n",
       "      <td>USA</td>\n",
       "      <td>0.00</td>\n",
       "      <td>0.00</td>\n",
       "      <td>0.00</td>\n",
       "      <td>4.00</td>\n",
       "      <td>20.00</td>\n",
       "      <td>377.00</td>\n",
       "      <td>100.00</td>\n",
       "      <td>cash</td>\n",
       "      <td>0.00</td>\n",
       "      <td>2005-05-29</td>\n",
       "    </tr>\n",
       "    <tr>\n",
       "      <th>3</th>\n",
       "      <td>1001.00</td>\n",
       "      <td>FriendFeed</td>\n",
       "      <td>web</td>\n",
       "      <td>acquired</td>\n",
       "      <td>2007-10-01</td>\n",
       "      <td>NaT</td>\n",
       "      <td>friendfeed.com</td>\n",
       "      <td>friendfeed</td>\n",
       "      <td>USA</td>\n",
       "      <td>0.00</td>\n",
       "      <td>1.00</td>\n",
       "      <td>5000000.00</td>\n",
       "      <td>3.00</td>\n",
       "      <td>1901.00</td>\n",
       "      <td>5.00</td>\n",
       "      <td>1001.00</td>\n",
       "      <td>cash_and_stock</td>\n",
       "      <td>47500000.00</td>\n",
       "      <td>2009-08-10</td>\n",
       "    </tr>\n",
       "    <tr>\n",
       "      <th>4</th>\n",
       "      <td>10014.00</td>\n",
       "      <td>Mobclix</td>\n",
       "      <td>mobile</td>\n",
       "      <td>acquired</td>\n",
       "      <td>2008-03-01</td>\n",
       "      <td>NaT</td>\n",
       "      <td>mobclix.com</td>\n",
       "      <td>mobclix</td>\n",
       "      <td>USA</td>\n",
       "      <td>0.00</td>\n",
       "      <td>1.00</td>\n",
       "      <td>0.00</td>\n",
       "      <td>4.00</td>\n",
       "      <td>3878.00</td>\n",
       "      <td>23054.00</td>\n",
       "      <td>10014.00</td>\n",
       "      <td>NaN</td>\n",
       "      <td>0.00</td>\n",
       "      <td>2010-09-30</td>\n",
       "    </tr>\n",
       "    <tr>\n",
       "      <th>...</th>\n",
       "      <td>...</td>\n",
       "      <td>...</td>\n",
       "      <td>...</td>\n",
       "      <td>...</td>\n",
       "      <td>...</td>\n",
       "      <td>...</td>\n",
       "      <td>...</td>\n",
       "      <td>...</td>\n",
       "      <td>...</td>\n",
       "      <td>...</td>\n",
       "      <td>...</td>\n",
       "      <td>...</td>\n",
       "      <td>...</td>\n",
       "      <td>...</td>\n",
       "      <td>...</td>\n",
       "      <td>...</td>\n",
       "      <td>...</td>\n",
       "      <td>...</td>\n",
       "      <td>...</td>\n",
       "    </tr>\n",
       "    <tr>\n",
       "      <th>40885</th>\n",
       "      <td>1344.00</td>\n",
       "      <td>Vobile</td>\n",
       "      <td>web</td>\n",
       "      <td>operating</td>\n",
       "      <td>2005-01-01</td>\n",
       "      <td>NaT</td>\n",
       "      <td>vobileinc.com</td>\n",
       "      <td>networkmobile</td>\n",
       "      <td>USA</td>\n",
       "      <td>0.00</td>\n",
       "      <td>1.00</td>\n",
       "      <td>10000000.00</td>\n",
       "      <td>0.00</td>\n",
       "      <td>NaN</td>\n",
       "      <td>NaN</td>\n",
       "      <td>NaN</td>\n",
       "      <td>NaN</td>\n",
       "      <td>NaN</td>\n",
       "      <td>NaT</td>\n",
       "    </tr>\n",
       "    <tr>\n",
       "      <th>40886</th>\n",
       "      <td>142181.00</td>\n",
       "      <td>Stop Being Watched</td>\n",
       "      <td>software</td>\n",
       "      <td>operating</td>\n",
       "      <td>2010-06-10</td>\n",
       "      <td>NaT</td>\n",
       "      <td>stopbeingwatched.com</td>\n",
       "      <td>SBWinfonetwork</td>\n",
       "      <td>USA</td>\n",
       "      <td>0.00</td>\n",
       "      <td>1.00</td>\n",
       "      <td>500000.00</td>\n",
       "      <td>1.00</td>\n",
       "      <td>NaN</td>\n",
       "      <td>NaN</td>\n",
       "      <td>NaN</td>\n",
       "      <td>NaN</td>\n",
       "      <td>NaN</td>\n",
       "      <td>NaT</td>\n",
       "    </tr>\n",
       "    <tr>\n",
       "      <th>40887</th>\n",
       "      <td>3429.00</td>\n",
       "      <td>Zend Technologies</td>\n",
       "      <td>software</td>\n",
       "      <td>operating</td>\n",
       "      <td>1999-01-01</td>\n",
       "      <td>NaT</td>\n",
       "      <td>zend.com</td>\n",
       "      <td>networkzend</td>\n",
       "      <td>USA</td>\n",
       "      <td>0.00</td>\n",
       "      <td>4.00</td>\n",
       "      <td>44000000.00</td>\n",
       "      <td>6.00</td>\n",
       "      <td>NaN</td>\n",
       "      <td>NaN</td>\n",
       "      <td>NaN</td>\n",
       "      <td>NaN</td>\n",
       "      <td>NaN</td>\n",
       "      <td>NaT</td>\n",
       "    </tr>\n",
       "    <tr>\n",
       "      <th>40888</th>\n",
       "      <td>7748.00</td>\n",
       "      <td>Flowgram</td>\n",
       "      <td>web</td>\n",
       "      <td>closed</td>\n",
       "      <td>2007-06-01</td>\n",
       "      <td>2008-06-11</td>\n",
       "      <td>flowgram.com</td>\n",
       "      <td>network</td>\n",
       "      <td>USA</td>\n",
       "      <td>0.00</td>\n",
       "      <td>1.00</td>\n",
       "      <td>1300000.00</td>\n",
       "      <td>3.00</td>\n",
       "      <td>NaN</td>\n",
       "      <td>NaN</td>\n",
       "      <td>NaN</td>\n",
       "      <td>NaN</td>\n",
       "      <td>NaN</td>\n",
       "      <td>NaT</td>\n",
       "    </tr>\n",
       "    <tr>\n",
       "      <th>40889</th>\n",
       "      <td>43233.00</td>\n",
       "      <td>Photonet</td>\n",
       "      <td>photo_video</td>\n",
       "      <td>acquired</td>\n",
       "      <td>2010-03-01</td>\n",
       "      <td>NaT</td>\n",
       "      <td>Photonet.com</td>\n",
       "      <td>Photonet</td>\n",
       "      <td>USA</td>\n",
       "      <td>0.00</td>\n",
       "      <td>3.00</td>\n",
       "      <td>57500000.00</td>\n",
       "      <td>3.00</td>\n",
       "      <td>6968.00</td>\n",
       "      <td>5.00</td>\n",
       "      <td>43233.00</td>\n",
       "      <td>cash_and_stock</td>\n",
       "      <td>1010470000.00</td>\n",
       "      <td>2012-04-09</td>\n",
       "    </tr>\n",
       "  </tbody>\n",
       "</table>\n",
       "<p>40890 rows × 19 columns</p>\n",
       "</div>"
      ],
      "text/plain": [
       "       company_ID                name category_code     status founded_at  \\\n",
       "0            1.00            Wetpaint           web  operating 2005-10-17   \n",
       "1           10.00             Flektor   games_video   acquired        NaT   \n",
       "2          100.00               There   games_video   acquired        NaT   \n",
       "3         1001.00          FriendFeed           web   acquired 2007-10-01   \n",
       "4        10014.00             Mobclix        mobile   acquired 2008-03-01   \n",
       "...           ...                 ...           ...        ...        ...   \n",
       "40885     1344.00              Vobile           web  operating 2005-01-01   \n",
       "40886   142181.00  Stop Being Watched      software  operating 2010-06-10   \n",
       "40887     3429.00   Zend Technologies      software  operating 1999-01-01   \n",
       "40888     7748.00            Flowgram           web     closed 2007-06-01   \n",
       "40889    43233.00            Photonet   photo_video   acquired 2010-03-01   \n",
       "\n",
       "       closed_at                domain network_username country_code  \\\n",
       "0            NaT      wetpaint-inc.com  BachelrWetpaint          USA   \n",
       "1            NaT           flektor.com              NaN          USA   \n",
       "2            NaT             there.com              NaN          USA   \n",
       "3            NaT        friendfeed.com       friendfeed          USA   \n",
       "4            NaT           mobclix.com          mobclix          USA   \n",
       "...          ...                   ...              ...          ...   \n",
       "40885        NaT         vobileinc.com    networkmobile          USA   \n",
       "40886        NaT  stopbeingwatched.com   SBWinfonetwork          USA   \n",
       "40887        NaT              zend.com      networkzend          USA   \n",
       "40888 2008-06-11          flowgram.com          network          USA   \n",
       "40889        NaT          Photonet.com         Photonet          USA   \n",
       "\n",
       "       investment_rounds  funding_rounds  funding_total  milestones      id  \\\n",
       "0                   0.00            3.00    39750000.00        5.00     NaN   \n",
       "1                   0.00            0.00           0.00        0.00    1.00   \n",
       "2                   0.00            0.00           0.00        4.00   20.00   \n",
       "3                   0.00            1.00     5000000.00        3.00 1901.00   \n",
       "4                   0.00            1.00           0.00        4.00 3878.00   \n",
       "...                  ...             ...            ...         ...     ...   \n",
       "40885               0.00            1.00    10000000.00        0.00     NaN   \n",
       "40886               0.00            1.00      500000.00        1.00     NaN   \n",
       "40887               0.00            4.00    44000000.00        6.00     NaN   \n",
       "40888               0.00            1.00     1300000.00        3.00     NaN   \n",
       "40889               0.00            3.00    57500000.00        3.00 6968.00   \n",
       "\n",
       "       acquiring_company_id  acquired_company_id       term_code  \\\n",
       "0                       NaN                  NaN             NaN   \n",
       "1                     11.00                10.00             NaN   \n",
       "2                    377.00               100.00            cash   \n",
       "3                      5.00              1001.00  cash_and_stock   \n",
       "4                  23054.00             10014.00             NaN   \n",
       "...                     ...                  ...             ...   \n",
       "40885                   NaN                  NaN             NaN   \n",
       "40886                   NaN                  NaN             NaN   \n",
       "40887                   NaN                  NaN             NaN   \n",
       "40888                   NaN                  NaN             NaN   \n",
       "40889                  5.00             43233.00  cash_and_stock   \n",
       "\n",
       "       price_amount acquired_at  \n",
       "0               NaN         NaT  \n",
       "1       20000000.00  2007-05-30  \n",
       "2              0.00  2005-05-29  \n",
       "3       47500000.00  2009-08-10  \n",
       "4              0.00  2010-09-30  \n",
       "...             ...         ...  \n",
       "40885           NaN         NaT  \n",
       "40886           NaN         NaT  \n",
       "40887           NaN         NaT  \n",
       "40888           NaN         NaT  \n",
       "40889 1010470000.00  2012-04-09  \n",
       "\n",
       "[40890 rows x 19 columns]"
      ]
     },
     "execution_count": 77,
     "metadata": {},
     "output_type": "execute_result"
    }
   ],
   "source": [
    "acquired_company"
   ]
  },
  {
   "cell_type": "code",
   "execution_count": 78,
   "metadata": {},
   "outputs": [
    {
     "data": {
      "text/plain": [
       "count            9390.00\n",
       "mean        393988145.31\n",
       "std       26846244613.76\n",
       "min                 0.00\n",
       "25%                 0.00\n",
       "50%                 0.00\n",
       "75%             23625.50\n",
       "max     2600000000000.00\n",
       "Name: price_amount, dtype: float64"
      ]
     },
     "execution_count": 78,
     "metadata": {},
     "output_type": "execute_result"
    }
   ],
   "source": [
    "# Посмотрим на статистическую информацию по столбцу price_amount\n",
    "acquired_company['price_amount'].describe()"
   ]
  },
  {
   "cell_type": "markdown",
   "metadata": {},
   "source": [
    "Из-за больших значений, искажающих анализ, отфильтруем данные про 90% процентилю по столбу `price_amount`, а также исключим цену в размере меньше единицы"
   ]
  },
  {
   "cell_type": "code",
   "execution_count": 79,
   "metadata": {},
   "outputs": [],
   "source": [
    "# Фильтруем данные по 90% процентилю\n",
    "acquired_company = acquired_company[(acquired_company['price_amount'] < acquired_company['price_amount'].quantile(0.9))&(acquired_company['price_amount'] > 1)]"
   ]
  },
  {
   "cell_type": "code",
   "execution_count": 80,
   "metadata": {
    "scrolled": true
   },
   "outputs": [
    {
     "data": {
      "text/plain": [
       "count        1530.00\n",
       "mean     30135297.04\n",
       "std      30687941.12\n",
       "min            11.00\n",
       "25%       5000000.00\n",
       "50%      20000000.00\n",
       "75%      47875000.00\n",
       "max     117500000.00\n",
       "Name: price_amount, dtype: float64"
      ]
     },
     "execution_count": 80,
     "metadata": {},
     "output_type": "execute_result"
    }
   ],
   "source": [
    "acquired_company['price_amount'].describe()"
   ]
  },
  {
   "cell_type": "code",
   "execution_count": 81,
   "metadata": {
    "id": "eF1aULm5FjfY"
   },
   "outputs": [
    {
     "data": {
      "text/html": [
       "<div>\n",
       "<style scoped>\n",
       "    .dataframe tbody tr th:only-of-type {\n",
       "        vertical-align: middle;\n",
       "    }\n",
       "\n",
       "    .dataframe tbody tr th {\n",
       "        vertical-align: top;\n",
       "    }\n",
       "\n",
       "    .dataframe thead th {\n",
       "        text-align: right;\n",
       "    }\n",
       "</style>\n",
       "<table border=\"1\" class=\"dataframe\">\n",
       "  <thead>\n",
       "    <tr style=\"text-align: right;\">\n",
       "      <th></th>\n",
       "      <th>typical_price_total</th>\n",
       "      <th>std_price_total</th>\n",
       "      <th>companys_in_category</th>\n",
       "    </tr>\n",
       "    <tr>\n",
       "      <th>category_code</th>\n",
       "      <th></th>\n",
       "      <th></th>\n",
       "      <th></th>\n",
       "    </tr>\n",
       "  </thead>\n",
       "  <tbody>\n",
       "    <tr>\n",
       "      <th>fashion</th>\n",
       "      <td>97500000.00</td>\n",
       "      <td>NaN</td>\n",
       "      <td>1</td>\n",
       "    </tr>\n",
       "    <tr>\n",
       "      <th>analytics</th>\n",
       "      <td>80000000.00</td>\n",
       "      <td>NaN</td>\n",
       "      <td>1</td>\n",
       "    </tr>\n",
       "    <tr>\n",
       "      <th>health</th>\n",
       "      <td>74500000.00</td>\n",
       "      <td>45218681.61</td>\n",
       "      <td>4</td>\n",
       "    </tr>\n",
       "    <tr>\n",
       "      <th>messaging</th>\n",
       "      <td>57500000.00</td>\n",
       "      <td>53674171.32</td>\n",
       "      <td>4</td>\n",
       "    </tr>\n",
       "    <tr>\n",
       "      <th>cleantech</th>\n",
       "      <td>51190000.00</td>\n",
       "      <td>34454635.54</td>\n",
       "      <td>14</td>\n",
       "    </tr>\n",
       "    <tr>\n",
       "      <th>photo_video</th>\n",
       "      <td>45000000.00</td>\n",
       "      <td>10593826.82</td>\n",
       "      <td>4</td>\n",
       "    </tr>\n",
       "    <tr>\n",
       "      <th>automotive</th>\n",
       "      <td>43000000.00</td>\n",
       "      <td>NaN</td>\n",
       "      <td>1</td>\n",
       "    </tr>\n",
       "    <tr>\n",
       "      <th>finance</th>\n",
       "      <td>40575000.00</td>\n",
       "      <td>37563868.82</td>\n",
       "      <td>8</td>\n",
       "    </tr>\n",
       "    <tr>\n",
       "      <th>real_estate</th>\n",
       "      <td>40000000.00</td>\n",
       "      <td>24758836.81</td>\n",
       "      <td>3</td>\n",
       "    </tr>\n",
       "    <tr>\n",
       "      <th>security</th>\n",
       "      <td>36000000.00</td>\n",
       "      <td>31914008.06</td>\n",
       "      <td>13</td>\n",
       "    </tr>\n",
       "    <tr>\n",
       "      <th>news</th>\n",
       "      <td>35500000.00</td>\n",
       "      <td>31701340.67</td>\n",
       "      <td>6</td>\n",
       "    </tr>\n",
       "    <tr>\n",
       "      <th>hospitality</th>\n",
       "      <td>32450000.00</td>\n",
       "      <td>25336534.89</td>\n",
       "      <td>4</td>\n",
       "    </tr>\n",
       "    <tr>\n",
       "      <th>semiconductor</th>\n",
       "      <td>30200000.00</td>\n",
       "      <td>31184221.14</td>\n",
       "      <td>38</td>\n",
       "    </tr>\n",
       "    <tr>\n",
       "      <th>biotech</th>\n",
       "      <td>27950000.00</td>\n",
       "      <td>31645943.42</td>\n",
       "      <td>112</td>\n",
       "    </tr>\n",
       "    <tr>\n",
       "      <th>social</th>\n",
       "      <td>26500000.00</td>\n",
       "      <td>28223807.92</td>\n",
       "      <td>3</td>\n",
       "    </tr>\n",
       "    <tr>\n",
       "      <th>advertising</th>\n",
       "      <td>26350000.00</td>\n",
       "      <td>27636364.97</td>\n",
       "      <td>54</td>\n",
       "    </tr>\n",
       "    <tr>\n",
       "      <th>games_video</th>\n",
       "      <td>26300000.00</td>\n",
       "      <td>30602793.69</td>\n",
       "      <td>56</td>\n",
       "    </tr>\n",
       "    <tr>\n",
       "      <th>mobile</th>\n",
       "      <td>26200000.00</td>\n",
       "      <td>32314743.08</td>\n",
       "      <td>79</td>\n",
       "    </tr>\n",
       "    <tr>\n",
       "      <th>network_hosting</th>\n",
       "      <td>26150000.00</td>\n",
       "      <td>32743294.32</td>\n",
       "      <td>34</td>\n",
       "    </tr>\n",
       "    <tr>\n",
       "      <th>medical</th>\n",
       "      <td>25750000.00</td>\n",
       "      <td>6010407.64</td>\n",
       "      <td>2</td>\n",
       "    </tr>\n",
       "    <tr>\n",
       "      <th>software</th>\n",
       "      <td>25000000.00</td>\n",
       "      <td>28330299.36</td>\n",
       "      <td>276</td>\n",
       "    </tr>\n",
       "    <tr>\n",
       "      <th>enterprise</th>\n",
       "      <td>22500000.00</td>\n",
       "      <td>29638414.88</td>\n",
       "      <td>69</td>\n",
       "    </tr>\n",
       "    <tr>\n",
       "      <th>other</th>\n",
       "      <td>22000000.00</td>\n",
       "      <td>26823115.04</td>\n",
       "      <td>45</td>\n",
       "    </tr>\n",
       "    <tr>\n",
       "      <th>consulting</th>\n",
       "      <td>21500000.00</td>\n",
       "      <td>24544668.61</td>\n",
       "      <td>23</td>\n",
       "    </tr>\n",
       "    <tr>\n",
       "      <th>web</th>\n",
       "      <td>20000000.00</td>\n",
       "      <td>32954676.54</td>\n",
       "      <td>168</td>\n",
       "    </tr>\n",
       "    <tr>\n",
       "      <th>hardware</th>\n",
       "      <td>20000000.00</td>\n",
       "      <td>28210288.05</td>\n",
       "      <td>44</td>\n",
       "    </tr>\n",
       "    <tr>\n",
       "      <th>transportation</th>\n",
       "      <td>20000000.00</td>\n",
       "      <td>NaN</td>\n",
       "      <td>1</td>\n",
       "    </tr>\n",
       "    <tr>\n",
       "      <th>public_relations</th>\n",
       "      <td>17750000.00</td>\n",
       "      <td>34950721.28</td>\n",
       "      <td>40</td>\n",
       "    </tr>\n",
       "    <tr>\n",
       "      <th>manufacturing</th>\n",
       "      <td>16300000.00</td>\n",
       "      <td>23692735.16</td>\n",
       "      <td>7</td>\n",
       "    </tr>\n",
       "    <tr>\n",
       "      <th>local</th>\n",
       "      <td>16140200.00</td>\n",
       "      <td>NaN</td>\n",
       "      <td>1</td>\n",
       "    </tr>\n",
       "    <tr>\n",
       "      <th>ecommerce</th>\n",
       "      <td>12650000.00</td>\n",
       "      <td>36626701.36</td>\n",
       "      <td>24</td>\n",
       "    </tr>\n",
       "    <tr>\n",
       "      <th>search</th>\n",
       "      <td>10000000.00</td>\n",
       "      <td>46690623.54</td>\n",
       "      <td>13</td>\n",
       "    </tr>\n",
       "    <tr>\n",
       "      <th>education</th>\n",
       "      <td>10000000.00</td>\n",
       "      <td>17469542.64</td>\n",
       "      <td>5</td>\n",
       "    </tr>\n",
       "    <tr>\n",
       "      <th>travel</th>\n",
       "      <td>3500000.00</td>\n",
       "      <td>2121320.34</td>\n",
       "      <td>2</td>\n",
       "    </tr>\n",
       "    <tr>\n",
       "      <th>music</th>\n",
       "      <td>2930000.00</td>\n",
       "      <td>2729432.18</td>\n",
       "      <td>2</td>\n",
       "    </tr>\n",
       "  </tbody>\n",
       "</table>\n",
       "</div>"
      ],
      "text/plain": [
       "                  typical_price_total  std_price_total  companys_in_category\n",
       "category_code                                                               \n",
       "fashion                   97500000.00              NaN                     1\n",
       "analytics                 80000000.00              NaN                     1\n",
       "health                    74500000.00      45218681.61                     4\n",
       "messaging                 57500000.00      53674171.32                     4\n",
       "cleantech                 51190000.00      34454635.54                    14\n",
       "photo_video               45000000.00      10593826.82                     4\n",
       "automotive                43000000.00              NaN                     1\n",
       "finance                   40575000.00      37563868.82                     8\n",
       "real_estate               40000000.00      24758836.81                     3\n",
       "security                  36000000.00      31914008.06                    13\n",
       "news                      35500000.00      31701340.67                     6\n",
       "hospitality               32450000.00      25336534.89                     4\n",
       "semiconductor             30200000.00      31184221.14                    38\n",
       "biotech                   27950000.00      31645943.42                   112\n",
       "social                    26500000.00      28223807.92                     3\n",
       "advertising               26350000.00      27636364.97                    54\n",
       "games_video               26300000.00      30602793.69                    56\n",
       "mobile                    26200000.00      32314743.08                    79\n",
       "network_hosting           26150000.00      32743294.32                    34\n",
       "medical                   25750000.00       6010407.64                     2\n",
       "software                  25000000.00      28330299.36                   276\n",
       "enterprise                22500000.00      29638414.88                    69\n",
       "other                     22000000.00      26823115.04                    45\n",
       "consulting                21500000.00      24544668.61                    23\n",
       "web                       20000000.00      32954676.54                   168\n",
       "hardware                  20000000.00      28210288.05                    44\n",
       "transportation            20000000.00              NaN                     1\n",
       "public_relations          17750000.00      34950721.28                    40\n",
       "manufacturing             16300000.00      23692735.16                     7\n",
       "local                     16140200.00              NaN                     1\n",
       "ecommerce                 12650000.00      36626701.36                    24\n",
       "search                    10000000.00      46690623.54                    13\n",
       "education                 10000000.00      17469542.64                     5\n",
       "travel                     3500000.00       2121320.34                     2\n",
       "music                      2930000.00       2729432.18                     2"
      ]
     },
     "execution_count": 81,
     "metadata": {},
     "output_type": "execute_result"
    }
   ],
   "source": [
    "# Сгруппируем компании по категориям и проведём подсчёт значений\n",
    "grouped_filtered_company = acquired_company.groupby('category_code').agg(\n",
    "                            typical_price_total=('price_amount','median'),\n",
    "                            std_price_total=('price_amount','std'),\n",
    "                            companys_in_category = ('name','count')).sort_values(\n",
    "    by=['typical_price_total','std_price_total'],ascending=[False,False])\n",
    "grouped_filtered_company"
   ]
  },
  {
   "cell_type": "code",
   "execution_count": 82,
   "metadata": {},
   "outputs": [],
   "source": [
    "# Создадим новый столбец для сложения значений из столбцов typical_funding_total и std_funding_total\n",
    "grouped_filtered_company['combined'] = grouped_filtered_company['typical_price_total'] + grouped_filtered_company['std_price_total']"
   ]
  },
  {
   "cell_type": "code",
   "execution_count": 83,
   "metadata": {},
   "outputs": [
    {
     "data": {
      "text/html": [
       "<div>\n",
       "<style scoped>\n",
       "    .dataframe tbody tr th:only-of-type {\n",
       "        vertical-align: middle;\n",
       "    }\n",
       "\n",
       "    .dataframe tbody tr th {\n",
       "        vertical-align: top;\n",
       "    }\n",
       "\n",
       "    .dataframe thead th {\n",
       "        text-align: right;\n",
       "    }\n",
       "</style>\n",
       "<table border=\"1\" class=\"dataframe\">\n",
       "  <thead>\n",
       "    <tr style=\"text-align: right;\">\n",
       "      <th></th>\n",
       "      <th>typical_price_total</th>\n",
       "      <th>std_price_total</th>\n",
       "      <th>companys_in_category</th>\n",
       "    </tr>\n",
       "    <tr>\n",
       "      <th>category_code</th>\n",
       "      <th></th>\n",
       "      <th></th>\n",
       "      <th></th>\n",
       "    </tr>\n",
       "  </thead>\n",
       "  <tbody>\n",
       "    <tr>\n",
       "      <th>semiconductor</th>\n",
       "      <td>30200000.00</td>\n",
       "      <td>31184221.14</td>\n",
       "      <td>38</td>\n",
       "    </tr>\n",
       "    <tr>\n",
       "      <th>biotech</th>\n",
       "      <td>27950000.00</td>\n",
       "      <td>31645943.42</td>\n",
       "      <td>112</td>\n",
       "    </tr>\n",
       "    <tr>\n",
       "      <th>advertising</th>\n",
       "      <td>26350000.00</td>\n",
       "      <td>27636364.97</td>\n",
       "      <td>54</td>\n",
       "    </tr>\n",
       "    <tr>\n",
       "      <th>games_video</th>\n",
       "      <td>26300000.00</td>\n",
       "      <td>30602793.69</td>\n",
       "      <td>56</td>\n",
       "    </tr>\n",
       "    <tr>\n",
       "      <th>mobile</th>\n",
       "      <td>26200000.00</td>\n",
       "      <td>32314743.08</td>\n",
       "      <td>79</td>\n",
       "    </tr>\n",
       "    <tr>\n",
       "      <th>network_hosting</th>\n",
       "      <td>26150000.00</td>\n",
       "      <td>32743294.32</td>\n",
       "      <td>34</td>\n",
       "    </tr>\n",
       "    <tr>\n",
       "      <th>software</th>\n",
       "      <td>25000000.00</td>\n",
       "      <td>28330299.36</td>\n",
       "      <td>276</td>\n",
       "    </tr>\n",
       "    <tr>\n",
       "      <th>enterprise</th>\n",
       "      <td>22500000.00</td>\n",
       "      <td>29638414.88</td>\n",
       "      <td>69</td>\n",
       "    </tr>\n",
       "    <tr>\n",
       "      <th>other</th>\n",
       "      <td>22000000.00</td>\n",
       "      <td>26823115.04</td>\n",
       "      <td>45</td>\n",
       "    </tr>\n",
       "    <tr>\n",
       "      <th>consulting</th>\n",
       "      <td>21500000.00</td>\n",
       "      <td>24544668.61</td>\n",
       "      <td>23</td>\n",
       "    </tr>\n",
       "    <tr>\n",
       "      <th>web</th>\n",
       "      <td>20000000.00</td>\n",
       "      <td>32954676.54</td>\n",
       "      <td>168</td>\n",
       "    </tr>\n",
       "    <tr>\n",
       "      <th>hardware</th>\n",
       "      <td>20000000.00</td>\n",
       "      <td>28210288.05</td>\n",
       "      <td>44</td>\n",
       "    </tr>\n",
       "    <tr>\n",
       "      <th>public_relations</th>\n",
       "      <td>17750000.00</td>\n",
       "      <td>34950721.28</td>\n",
       "      <td>40</td>\n",
       "    </tr>\n",
       "    <tr>\n",
       "      <th>ecommerce</th>\n",
       "      <td>12650000.00</td>\n",
       "      <td>36626701.36</td>\n",
       "      <td>24</td>\n",
       "    </tr>\n",
       "  </tbody>\n",
       "</table>\n",
       "</div>"
      ],
      "text/plain": [
       "                  typical_price_total  std_price_total  companys_in_category\n",
       "category_code                                                               \n",
       "semiconductor             30200000.00      31184221.14                    38\n",
       "biotech                   27950000.00      31645943.42                   112\n",
       "advertising               26350000.00      27636364.97                    54\n",
       "games_video               26300000.00      30602793.69                    56\n",
       "mobile                    26200000.00      32314743.08                    79\n",
       "network_hosting           26150000.00      32743294.32                    34\n",
       "software                  25000000.00      28330299.36                   276\n",
       "enterprise                22500000.00      29638414.88                    69\n",
       "other                     22000000.00      26823115.04                    45\n",
       "consulting                21500000.00      24544668.61                    23\n",
       "web                       20000000.00      32954676.54                   168\n",
       "hardware                  20000000.00      28210288.05                    44\n",
       "public_relations          17750000.00      34950721.28                    40\n",
       "ecommerce                 12650000.00      36626701.36                    24"
      ]
     },
     "execution_count": 83,
     "metadata": {},
     "output_type": "execute_result"
    }
   ],
   "source": [
    "# Отфильтруем датасет по количеству компаний в категории\n",
    "grouped_filtered_company = grouped_filtered_company[grouped_filtered_company['companys_in_category'] > 15]\n",
    "grouped_filtered_company.loc[:,['typical_price_total','std_price_total','companys_in_category']]"
   ]
  },
  {
   "cell_type": "markdown",
   "metadata": {},
   "source": [
    "Для того, чтобы вывести самые привлекательные компании было решено сложить два столбца `typical_funding_total` и `std_funding_total`, чтобы не пропустить высокие значения в одному из двух столбцов для каждой категории. Это позволило наиболее точно соблюсти условия отбора компаний по категориям, а не единичное выполнение одного из условий. Так, самым привлекательным является категория полупроводников - `semiconductor`. Категориями с самым большим числом компаний оказались `software` - 276 компаний, `web` - 168 компаний и `biotech` - 112 компаний"
   ]
  },
  {
   "cell_type": "markdown",
   "metadata": {
    "id": "ADOfyVY_rJg3"
   },
   "source": [
    "\n",
    "### 3.5. Сколько раундов продержится стартап перед покупкой\n",
    "\n",
    "- Необходимо проанализировать столбец `funding_rounds`. Исследуйте значения столбца. Заказчика интересует типичное значение количества раундов для каждого возможного статуса стартапа.\n",
    "- Постройте график, который отображает, сколько в среднем раундов финансирования проходило для стартапов из каждой группы. Сделайте выводы."
   ]
  },
  {
   "cell_type": "code",
   "execution_count": 84,
   "metadata": {},
   "outputs": [
    {
     "data": {
      "text/plain": [
       "array(['operating', 'acquired', 'closed', 'ipo'], dtype=object)"
      ]
     },
     "execution_count": 84,
     "metadata": {},
     "output_type": "execute_result"
    }
   ],
   "source": [
    "# Посмотри на уникальные значения столбца status\n",
    "filtered_company['status'].unique()"
   ]
  },
  {
   "cell_type": "code",
   "execution_count": 85,
   "metadata": {
    "id": "hgXMPC4WrJg3",
    "vscode": {
     "languageId": "plaintext"
    }
   },
   "outputs": [
    {
     "data": {
      "text/plain": [
       "16"
      ]
     },
     "execution_count": 85,
     "metadata": {},
     "output_type": "execute_result"
    }
   ],
   "source": [
    "# Посмотри на количество уникальных значений столбца funding_rounds \n",
    "filtered_company['funding_rounds'].nunique()"
   ]
  },
  {
   "cell_type": "code",
   "execution_count": 86,
   "metadata": {
    "id": "pV3e7kw5Fj1Y"
   },
   "outputs": [
    {
     "data": {
      "text/plain": [
       "array([ 3.,  0.,  1.,  5.,  2.,  7.,  4.,  6.,  8., 10.,  9., 13., 11.,\n",
       "       15., 14., 12.])"
      ]
     },
     "execution_count": 86,
     "metadata": {},
     "output_type": "execute_result"
    }
   ],
   "source": [
    "# Посмотри на уникальные значения столбца funding_rounds \n",
    "filtered_company['funding_rounds'].unique()"
   ]
  },
  {
   "cell_type": "code",
   "execution_count": 87,
   "metadata": {},
   "outputs": [
    {
     "data": {
      "text/html": [
       "<div>\n",
       "<style scoped>\n",
       "    .dataframe tbody tr th:only-of-type {\n",
       "        vertical-align: middle;\n",
       "    }\n",
       "\n",
       "    .dataframe tbody tr th {\n",
       "        vertical-align: top;\n",
       "    }\n",
       "\n",
       "    .dataframe thead th {\n",
       "        text-align: right;\n",
       "    }\n",
       "</style>\n",
       "<table border=\"1\" class=\"dataframe\">\n",
       "  <thead>\n",
       "    <tr style=\"text-align: right;\">\n",
       "      <th></th>\n",
       "      <th>status</th>\n",
       "      <th>median</th>\n",
       "      <th>mean</th>\n",
       "    </tr>\n",
       "  </thead>\n",
       "  <tbody>\n",
       "    <tr>\n",
       "      <th>0</th>\n",
       "      <td>ipo</td>\n",
       "      <td>1.00</td>\n",
       "      <td>1.93</td>\n",
       "    </tr>\n",
       "    <tr>\n",
       "      <th>1</th>\n",
       "      <td>operating</td>\n",
       "      <td>1.00</td>\n",
       "      <td>1.52</td>\n",
       "    </tr>\n",
       "    <tr>\n",
       "      <th>2</th>\n",
       "      <td>closed</td>\n",
       "      <td>1.00</td>\n",
       "      <td>1.38</td>\n",
       "    </tr>\n",
       "    <tr>\n",
       "      <th>3</th>\n",
       "      <td>acquired</td>\n",
       "      <td>0.00</td>\n",
       "      <td>0.52</td>\n",
       "    </tr>\n",
       "  </tbody>\n",
       "</table>\n",
       "</div>"
      ],
      "text/plain": [
       "      status  median  mean\n",
       "0        ipo    1.00  1.93\n",
       "1  operating    1.00  1.52\n",
       "2     closed    1.00  1.38\n",
       "3   acquired    0.00  0.52"
      ]
     },
     "execution_count": 87,
     "metadata": {},
     "output_type": "execute_result"
    }
   ],
   "source": [
    "# Сгруппируем данные по статусу компании и посчитаем среднее количество раундов финансирования\n",
    "typical_rounds = filtered_company.groupby('status')['funding_rounds'].agg(['median',\n",
    "                                                                           'mean']).sort_values(by='mean',ascending=False).reset_index()\n",
    "typical_rounds"
   ]
  },
  {
   "cell_type": "code",
   "execution_count": 88,
   "metadata": {},
   "outputs": [
    {
     "data": {
      "text/plain": [
       "<matplotlib.legend.Legend at 0x7fa07bd636d0>"
      ]
     },
     "execution_count": 88,
     "metadata": {},
     "output_type": "execute_result"
    },
    {
     "data": {
      "image/png": "[encoded data removed]",
      "text/plain": [
       "<Figure size 720x432 with 1 Axes>"
      ]
     },
     "metadata": {
      "needs_background": "light"
     },
     "output_type": "display_data"
    }
   ],
   "source": [
    "# Построим столбчатую диаграмму по данным среднего количества раундов относительно статуса компании\n",
    "plt.figure(figsize=(10,6))\n",
    "\n",
    "plt.bar(typical_rounds['status'],typical_rounds['mean'], label = 'Среднее количество раундов финансирования')\n",
    "\n",
    "plt.xlabel('Статус компании')\n",
    "plt.ylabel('Среднее количество раундов')\n",
    "plt.title('Среднее количество раундов отностительно статуса компании')\n",
    "\n",
    "plt.tight_layout()\n",
    "plt.grid(axis='y')\n",
    "plt.legend()"
   ]
  },
  {
   "cell_type": "markdown",
   "metadata": {},
   "source": [
    "___\n",
    "По столбчатой диаграмме можно увидеть,что для компаний, находящиеся в статусе IPO - первичное публичное размещение акций, проходило в среднем 2 рануда финансирования. Возможно, выход на IPO увеличивает уверенность инвесторов в стартапе, что приводит к увеличению финансирования.\n",
    "\n",
    "Наименьшое количество раундов в среднем имеют компании в статусе acquired - то есть проданные компании. Возможно, это связано напрямую с покупкой самой компании\\стартапа. Купленные компании не финансируются или не привлекают стороние инвестиции. Скорее всего такие компании уже финансируются напрямую их материнской компанией. \n",
    "\n",
    "Типичным количеством раундов финансирования для компаний является 1 раунд финансирования. Купленные компании чаще всего вовсе не финансируются.\n",
    "___"
   ]
  },
  {
   "cell_type": "markdown",
   "metadata": {
    "id": "VAFEZ2HBrJg3"
   },
   "source": [
    "<a id='4'></a>\n",
    "## Шаг 4. Итоговый вывод и рекомендации\n",
    "\n",
    "Опишите, что было сделано в проекте, какие были сделаны выводы, подкрепляют ли они друг друга или заставляют сомневаться в полученных результатах."
   ]
  },
  {
   "cell_type": "markdown",
   "metadata": {},
   "source": [
    "В ходе исследования проанализировали данные о компаниях\\стартапах.Для работы над проектом было предоставлено 5 датасетов:\n",
    "о сотрудниках, о компаниях купившие другие компании\\стартапы, об образовании, о степени образолвания и основной датасет изначально хранивший общую информацию о компаниях и раундов ее финансирования. Требовалось проанализировать имеющуюся информацию, чтобы понять, какие компании\\стартапы будут привликательнее всего для их покупки, развития и дальнейшей перепродажи. \n",
    "\n",
    "Данные были неполны, поэтому выводы должны быть восприняты критически. \n",
    "\n",
    "В процессе работы основной датасет `company_and_rounds` подвергся значительному агрегированию. Помимо изменения типов данных некоторых столбцов, датасет был разделён на два отдельных датасета для комфортной работы над данными.\n",
    "\n",
    "\n",
    "Результаты исследовательского анализа:\n",
    "- Была отмечена тенденция на сокрящение суммы финансирования. При этом количество инвестиционных раундов продолжало увеличиватся. \n",
    "- Над большинством стартапов работают команды из одного человека.\n",
    "- Чем больше становится команда, тем нужнее становятся люди с подтвержденным образованием.\n",
    "- Чаще всего размер общего финансирования для компании состовляет 900.000 тыс. долларов\n",
    "- Основной объем данных о финансировании приходится на отрезок 230.000 - 2.211.000 долларов.\n",
    "- 1618 компаний были приобретены за 0 или 1 доллар, при ненулевом объёме финансирования.\n",
    "- Самой привлекательной, относительно наибольшего размаха финансирования и типичной высокой ценой, категорией компаний является `semiconductor` или разработка полупроводников. Также привлекательны могут быть компании занимающиеся биотехнологиями, программным обеспечением или Web-технологиями.\n",
    "- Компании или стартапы, вышедшие на IPO, получают в среднем больше раундов финансирования. Купленные компании или стартапы финансирования практически не имеют.\n",
    "- Чаще всего компании участвуют в одном раунде финансирования\n",
    "- Наибольшей суммой финасирования компании является 5.700.000.000 долларов\n",
    " \n",
    " \n",
    "Проанализированные данные не предоставляют возможности создать идеальную формулу по выбору компаний для покупки, развития и перепродажи.В качестве отправной точки, возможно, стоить обратить внимание на компании относящиеся к разработке полупроводников. Выход компании на IPO увеличивает финансирование и интерес инвесторов к компании. Покупка компаний, которые планируют выход на IPO может быть как выгодной, так и рискованной стратегией."
   ]
  }
 ],
 "metadata": {
  "ExecuteTimeLog": [
   {
    "duration": 74,
    "start_time": "2025-03-19T12:27:27.278Z"
   },
   {
    "duration": 5411,
    "start_time": "2025-03-19T12:29:33.710Z"
   },
   {
    "duration": 6376,
    "start_time": "2025-03-19T12:29:41.848Z"
   },
   {
    "duration": 47,
    "start_time": "2025-03-20T05:30:06.137Z"
   },
   {
    "duration": 4606,
    "start_time": "2025-03-20T05:30:21.732Z"
   },
   {
    "duration": 2044,
    "start_time": "2025-03-20T05:30:26.340Z"
   },
   {
    "duration": 117,
    "start_time": "2025-03-20T05:30:28.385Z"
   },
   {
    "duration": 16,
    "start_time": "2025-03-20T05:35:41.148Z"
   },
   {
    "duration": 47,
    "start_time": "2025-03-20T05:54:52.020Z"
   },
   {
    "duration": 121,
    "start_time": "2025-03-20T05:59:50.527Z"
   },
   {
    "duration": 24,
    "start_time": "2025-03-20T06:08:33.169Z"
   },
   {
    "duration": 29,
    "start_time": "2025-03-20T06:15:00.015Z"
   },
   {
    "duration": 47,
    "start_time": "2025-03-20T11:43:17.406Z"
   },
   {
    "duration": 5,
    "start_time": "2025-03-20T11:43:22.392Z"
   },
   {
    "duration": 4934,
    "start_time": "2025-03-20T11:43:30.192Z"
   },
   {
    "duration": 3354,
    "start_time": "2025-03-20T11:43:35.128Z"
   },
   {
    "duration": 136,
    "start_time": "2025-03-20T11:43:38.484Z"
   },
   {
    "duration": 17,
    "start_time": "2025-03-20T11:43:38.622Z"
   },
   {
    "duration": 51,
    "start_time": "2025-03-20T11:43:38.658Z"
   },
   {
    "duration": 24,
    "start_time": "2025-03-20T11:43:38.710Z"
   },
   {
    "duration": 30,
    "start_time": "2025-03-20T11:43:38.769Z"
   },
   {
    "duration": 5,
    "start_time": "2025-03-20T11:43:38.801Z"
   },
   {
    "duration": 109,
    "start_time": "2025-03-20T11:43:44.207Z"
   },
   {
    "duration": 4,
    "start_time": "2025-03-20T11:43:50.527Z"
   },
   {
    "duration": 4,
    "start_time": "2025-03-20T11:59:01.109Z"
   },
   {
    "duration": 3,
    "start_time": "2025-03-20T11:59:04.038Z"
   },
   {
    "duration": 17,
    "start_time": "2025-03-20T11:59:18.654Z"
   },
   {
    "duration": 4,
    "start_time": "2025-03-20T12:00:26.527Z"
   },
   {
    "duration": 4,
    "start_time": "2025-03-20T12:00:28.711Z"
   },
   {
    "duration": 5,
    "start_time": "2025-03-20T12:00:32.519Z"
   },
   {
    "duration": 6,
    "start_time": "2025-03-20T12:00:39.614Z"
   },
   {
    "duration": 10,
    "start_time": "2025-03-20T12:07:51.970Z"
   },
   {
    "duration": 5,
    "start_time": "2025-03-20T12:08:06.574Z"
   },
   {
    "duration": 6,
    "start_time": "2025-03-20T12:08:18.222Z"
   },
   {
    "duration": 10,
    "start_time": "2025-03-20T12:08:23.864Z"
   },
   {
    "duration": 6,
    "start_time": "2025-03-20T12:08:25.518Z"
   },
   {
    "duration": 3791,
    "start_time": "2025-03-20T12:08:34.229Z"
   },
   {
    "duration": 3568,
    "start_time": "2025-03-20T12:08:38.022Z"
   },
   {
    "duration": 149,
    "start_time": "2025-03-20T12:08:41.593Z"
   },
   {
    "duration": 29,
    "start_time": "2025-03-20T12:08:41.743Z"
   },
   {
    "duration": 48,
    "start_time": "2025-03-20T12:08:41.774Z"
   },
   {
    "duration": 50,
    "start_time": "2025-03-20T12:08:41.823Z"
   },
   {
    "duration": 29,
    "start_time": "2025-03-20T12:08:41.875Z"
   },
   {
    "duration": 21,
    "start_time": "2025-03-20T12:08:41.906Z"
   },
   {
    "duration": 6,
    "start_time": "2025-03-20T12:08:41.929Z"
   },
   {
    "duration": 3910,
    "start_time": "2025-03-20T12:40:11.319Z"
   },
   {
    "duration": 5233,
    "start_time": "2025-03-20T12:40:15.232Z"
   },
   {
    "duration": 132,
    "start_time": "2025-03-20T12:40:20.467Z"
   },
   {
    "duration": 17,
    "start_time": "2025-03-20T12:40:20.601Z"
   },
   {
    "duration": 70,
    "start_time": "2025-03-20T12:40:20.620Z"
   },
   {
    "duration": 36,
    "start_time": "2025-03-20T12:40:20.692Z"
   },
   {
    "duration": 47,
    "start_time": "2025-03-20T12:40:20.730Z"
   },
   {
    "duration": 5,
    "start_time": "2025-03-20T12:40:20.779Z"
   },
   {
    "duration": 22,
    "start_time": "2025-03-20T12:40:20.786Z"
   },
   {
    "duration": 117,
    "start_time": "2025-03-20T12:40:20.811Z"
   },
   {
    "duration": 5,
    "start_time": "2025-03-20T12:45:48.389Z"
   },
   {
    "duration": 6,
    "start_time": "2025-03-20T12:45:51.485Z"
   },
   {
    "duration": 9,
    "start_time": "2025-03-20T12:46:13.705Z"
   },
   {
    "duration": 9,
    "start_time": "2025-03-20T12:48:18.316Z"
   },
   {
    "duration": 20,
    "start_time": "2025-03-20T12:48:33.551Z"
   },
   {
    "duration": 4,
    "start_time": "2025-03-20T12:50:20.612Z"
   },
   {
    "duration": 6,
    "start_time": "2025-03-20T12:50:37.804Z"
   },
   {
    "duration": 12,
    "start_time": "2025-03-20T12:50:44.925Z"
   },
   {
    "duration": 11,
    "start_time": "2025-03-20T12:50:51.092Z"
   },
   {
    "duration": 10,
    "start_time": "2025-03-20T12:51:00.901Z"
   },
   {
    "duration": 15,
    "start_time": "2025-03-20T12:51:03.876Z"
   },
   {
    "duration": 9,
    "start_time": "2025-03-20T12:51:08.052Z"
   },
   {
    "duration": 9,
    "start_time": "2025-03-20T12:51:22.052Z"
   },
   {
    "duration": 5,
    "start_time": "2025-03-20T12:51:30.932Z"
   },
   {
    "duration": 18,
    "start_time": "2025-03-20T12:51:59.156Z"
   },
   {
    "duration": 5,
    "start_time": "2025-03-20T12:52:07.766Z"
   },
   {
    "duration": 4,
    "start_time": "2025-03-20T12:57:07.933Z"
   },
   {
    "duration": 8,
    "start_time": "2025-03-20T12:57:24.620Z"
   },
   {
    "duration": 11,
    "start_time": "2025-03-20T12:57:44.100Z"
   },
   {
    "duration": 14,
    "start_time": "2025-03-20T12:58:09.084Z"
   },
   {
    "duration": 3885,
    "start_time": "2025-03-20T13:00:46.441Z"
   },
   {
    "duration": 3642,
    "start_time": "2025-03-20T13:00:50.328Z"
   },
   {
    "duration": 140,
    "start_time": "2025-03-20T13:00:53.972Z"
   },
   {
    "duration": 16,
    "start_time": "2025-03-20T13:00:54.114Z"
   },
   {
    "duration": 71,
    "start_time": "2025-03-20T13:00:54.132Z"
   },
   {
    "duration": 24,
    "start_time": "2025-03-20T13:00:54.205Z"
   },
   {
    "duration": 45,
    "start_time": "2025-03-20T13:00:54.230Z"
   },
   {
    "duration": 62,
    "start_time": "2025-03-20T13:00:54.277Z"
   },
   {
    "duration": 20,
    "start_time": "2025-03-20T13:00:54.340Z"
   },
   {
    "duration": 51,
    "start_time": "2025-03-20T18:26:35.164Z"
   },
   {
    "duration": 4838,
    "start_time": "2025-03-20T18:26:53.076Z"
   },
   {
    "duration": 2293,
    "start_time": "2025-03-20T18:26:57.917Z"
   },
   {
    "duration": 124,
    "start_time": "2025-03-20T18:27:00.212Z"
   },
   {
    "duration": 140,
    "start_time": "2025-03-20T18:27:00.338Z"
   },
   {
    "duration": 162,
    "start_time": "2025-03-20T18:27:00.480Z"
   },
   {
    "duration": 27,
    "start_time": "2025-03-20T18:27:00.644Z"
   },
   {
    "duration": 44,
    "start_time": "2025-03-20T18:27:00.673Z"
   },
   {
    "duration": 5,
    "start_time": "2025-03-20T18:27:00.719Z"
   },
   {
    "duration": 52,
    "start_time": "2025-03-20T18:27:00.725Z"
   },
   {
    "duration": 1591,
    "start_time": "2025-03-20T18:27:00.779Z"
   },
   {
    "duration": 0,
    "start_time": "2025-03-20T18:27:02.372Z"
   },
   {
    "duration": 2387,
    "start_time": "2025-03-20T18:27:44.191Z"
   },
   {
    "duration": 1377,
    "start_time": "2025-03-20T18:28:09.045Z"
   },
   {
    "duration": 1388,
    "start_time": "2025-03-20T18:29:10.101Z"
   },
   {
    "duration": 1648,
    "start_time": "2025-03-20T18:29:18.132Z"
   },
   {
    "duration": 1295,
    "start_time": "2025-03-20T18:29:26.826Z"
   },
   {
    "duration": 1356,
    "start_time": "2025-03-20T18:29:52.126Z"
   },
   {
    "duration": 1603,
    "start_time": "2025-03-20T18:30:09.057Z"
   },
   {
    "duration": 6,
    "start_time": "2025-03-20T18:30:25.482Z"
   },
   {
    "duration": 5,
    "start_time": "2025-03-20T18:30:32.313Z"
   },
   {
    "duration": 1388,
    "start_time": "2025-03-20T18:30:50.870Z"
   },
   {
    "duration": 5,
    "start_time": "2025-03-20T18:31:15.377Z"
   },
   {
    "duration": 1318,
    "start_time": "2025-03-20T18:31:33.634Z"
   },
   {
    "duration": 1380,
    "start_time": "2025-03-20T18:31:38.757Z"
   },
   {
    "duration": 10,
    "start_time": "2025-03-20T18:31:45.078Z"
   },
   {
    "duration": 1381,
    "start_time": "2025-03-20T18:31:56.165Z"
   },
   {
    "duration": 1564,
    "start_time": "2025-03-20T18:32:26.287Z"
   },
   {
    "duration": 11,
    "start_time": "2025-03-20T18:32:51.783Z"
   },
   {
    "duration": 8,
    "start_time": "2025-03-20T18:32:58.790Z"
   },
   {
    "duration": 4,
    "start_time": "2025-03-20T18:35:12.155Z"
   },
   {
    "duration": 9,
    "start_time": "2025-03-20T18:35:17.967Z"
   },
   {
    "duration": 9,
    "start_time": "2025-03-20T18:35:20.912Z"
   },
   {
    "duration": 10,
    "start_time": "2025-03-20T18:35:28.265Z"
   },
   {
    "duration": 9,
    "start_time": "2025-03-20T18:35:37.549Z"
   },
   {
    "duration": 4,
    "start_time": "2025-03-20T18:35:48.191Z"
   },
   {
    "duration": 9,
    "start_time": "2025-03-20T18:45:33.022Z"
   },
   {
    "duration": 10,
    "start_time": "2025-03-20T18:45:42.859Z"
   },
   {
    "duration": 5,
    "start_time": "2025-03-20T18:45:57.242Z"
   },
   {
    "duration": 12,
    "start_time": "2025-03-20T18:46:02.251Z"
   },
   {
    "duration": 3,
    "start_time": "2025-03-20T18:46:13.442Z"
   },
   {
    "duration": 24,
    "start_time": "2025-03-20T18:46:16.436Z"
   },
   {
    "duration": 1380,
    "start_time": "2025-03-20T18:46:44.505Z"
   },
   {
    "duration": 32,
    "start_time": "2025-03-20T18:47:04.495Z"
   },
   {
    "duration": 10,
    "start_time": "2025-03-20T18:47:31.068Z"
   },
   {
    "duration": 16,
    "start_time": "2025-03-20T18:47:39.354Z"
   },
   {
    "duration": 13,
    "start_time": "2025-03-20T18:49:16.510Z"
   },
   {
    "duration": 13,
    "start_time": "2025-03-20T18:49:32.404Z"
   },
   {
    "duration": 123,
    "start_time": "2025-03-20T18:49:44.296Z"
   },
   {
    "duration": 85,
    "start_time": "2025-03-20T18:49:52.570Z"
   },
   {
    "duration": 26,
    "start_time": "2025-03-20T18:53:00.702Z"
   },
   {
    "duration": 94,
    "start_time": "2025-03-20T18:53:16.336Z"
   },
   {
    "duration": 6,
    "start_time": "2025-03-20T18:53:20.975Z"
   },
   {
    "duration": 4,
    "start_time": "2025-03-20T18:53:27.540Z"
   },
   {
    "duration": 4,
    "start_time": "2025-03-20T18:53:33.833Z"
   },
   {
    "duration": 4,
    "start_time": "2025-03-20T18:53:42.814Z"
   },
   {
    "duration": 12,
    "start_time": "2025-03-20T18:53:48.943Z"
   },
   {
    "duration": 11,
    "start_time": "2025-03-20T18:54:33.721Z"
   },
   {
    "duration": 84,
    "start_time": "2025-03-20T18:54:41.206Z"
   },
   {
    "duration": 6,
    "start_time": "2025-03-20T18:55:42.215Z"
   },
   {
    "duration": 13,
    "start_time": "2025-03-20T18:55:45.363Z"
   },
   {
    "duration": 19,
    "start_time": "2025-03-20T18:55:51.128Z"
   },
   {
    "duration": 12,
    "start_time": "2025-03-20T18:55:55.947Z"
   },
   {
    "duration": 12,
    "start_time": "2025-03-20T18:55:58.747Z"
   },
   {
    "duration": 52,
    "start_time": "2025-03-20T18:56:12.198Z"
   },
   {
    "duration": 83,
    "start_time": "2025-03-20T18:56:51.015Z"
   },
   {
    "duration": 71,
    "start_time": "2025-03-20T18:56:59.351Z"
   },
   {
    "duration": 99,
    "start_time": "2025-03-20T18:57:20.831Z"
   },
   {
    "duration": 41,
    "start_time": "2025-03-20T19:08:38.732Z"
   },
   {
    "duration": 13,
    "start_time": "2025-03-20T19:15:29.785Z"
   },
   {
    "duration": 11,
    "start_time": "2025-03-20T19:15:34.450Z"
   },
   {
    "duration": 27,
    "start_time": "2025-03-20T19:16:45.442Z"
   },
   {
    "duration": 108,
    "start_time": "2025-03-20T19:24:07.582Z"
   },
   {
    "duration": 1404,
    "start_time": "2025-03-20T19:24:28.116Z"
   },
   {
    "duration": 1580,
    "start_time": "2025-03-20T19:24:40.632Z"
   },
   {
    "duration": 17,
    "start_time": "2025-03-20T19:24:54.998Z"
   },
   {
    "duration": 12,
    "start_time": "2025-03-20T19:27:29.624Z"
   },
   {
    "duration": 32,
    "start_time": "2025-03-20T19:28:00.330Z"
   },
   {
    "duration": 8,
    "start_time": "2025-03-20T21:29:41.842Z"
   },
   {
    "duration": 25,
    "start_time": "2025-03-20T21:29:45.979Z"
   },
   {
    "duration": 60,
    "start_time": "2025-03-20T22:01:53.954Z"
   },
   {
    "duration": 33,
    "start_time": "2025-03-20T22:01:59.047Z"
   },
   {
    "duration": 32,
    "start_time": "2025-03-20T22:02:23.423Z"
   },
   {
    "duration": 9,
    "start_time": "2025-03-20T22:11:43.718Z"
   },
   {
    "duration": 188,
    "start_time": "2025-03-20T22:19:37.963Z"
   },
   {
    "duration": 129,
    "start_time": "2025-03-20T22:20:41.751Z"
   },
   {
    "duration": 119,
    "start_time": "2025-03-20T22:20:55.026Z"
   },
   {
    "duration": 132,
    "start_time": "2025-03-20T22:21:09.612Z"
   },
   {
    "duration": 152,
    "start_time": "2025-03-20T22:22:26.284Z"
   },
   {
    "duration": 217,
    "start_time": "2025-03-20T22:25:14.572Z"
   },
   {
    "duration": 338,
    "start_time": "2025-03-20T22:25:39.516Z"
   },
   {
    "duration": 24,
    "start_time": "2025-03-20T22:27:42.381Z"
   },
   {
    "duration": 33,
    "start_time": "2025-03-20T22:28:21.097Z"
   },
   {
    "duration": 9,
    "start_time": "2025-03-20T22:29:37.570Z"
   },
   {
    "duration": 292,
    "start_time": "2025-03-20T22:29:54.107Z"
   },
   {
    "duration": 11,
    "start_time": "2025-03-20T22:32:56.002Z"
   },
   {
    "duration": 262,
    "start_time": "2025-03-20T22:33:12.846Z"
   },
   {
    "duration": 33,
    "start_time": "2025-03-20T22:35:04.907Z"
   },
   {
    "duration": 1512,
    "start_time": "2025-03-20T22:35:08.519Z"
   },
   {
    "duration": 10,
    "start_time": "2025-03-20T22:35:30.194Z"
   },
   {
    "duration": 138,
    "start_time": "2025-03-20T22:35:52.861Z"
   },
   {
    "duration": 249,
    "start_time": "2025-03-20T22:36:03.169Z"
   },
   {
    "duration": 31,
    "start_time": "2025-03-20T22:36:22.061Z"
   },
   {
    "duration": 9,
    "start_time": "2025-03-20T22:36:36.349Z"
   },
   {
    "duration": 240,
    "start_time": "2025-03-20T22:36:57.377Z"
   },
   {
    "duration": 31,
    "start_time": "2025-03-20T22:37:56.865Z"
   },
   {
    "duration": 12,
    "start_time": "2025-03-20T22:38:49.320Z"
   },
   {
    "duration": 30,
    "start_time": "2025-03-20T22:38:58.419Z"
   },
   {
    "duration": 11,
    "start_time": "2025-03-20T22:39:00.943Z"
   },
   {
    "duration": 240,
    "start_time": "2025-03-20T22:39:10.973Z"
   },
   {
    "duration": 273,
    "start_time": "2025-03-20T22:39:12.783Z"
   },
   {
    "duration": 277,
    "start_time": "2025-03-20T22:39:40.988Z"
   },
   {
    "duration": 10,
    "start_time": "2025-03-20T22:45:08.711Z"
   },
   {
    "duration": 1485,
    "start_time": "2025-03-20T22:45:17.076Z"
   },
   {
    "duration": 285,
    "start_time": "2025-03-20T22:45:30.085Z"
   },
   {
    "duration": 47,
    "start_time": "2025-03-21T11:56:19.725Z"
   },
   {
    "duration": 5140,
    "start_time": "2025-03-21T11:56:26.435Z"
   },
   {
    "duration": 2548,
    "start_time": "2025-03-21T11:56:31.577Z"
   },
   {
    "duration": 119,
    "start_time": "2025-03-21T11:56:34.127Z"
   },
   {
    "duration": 15,
    "start_time": "2025-03-21T11:56:34.256Z"
   },
   {
    "duration": 59,
    "start_time": "2025-03-21T11:56:34.272Z"
   },
   {
    "duration": 19,
    "start_time": "2025-03-21T11:56:34.332Z"
   },
   {
    "duration": 22,
    "start_time": "2025-03-21T11:56:34.352Z"
   },
   {
    "duration": 106,
    "start_time": "2025-03-21T11:56:34.375Z"
   },
   {
    "duration": 25,
    "start_time": "2025-03-21T11:56:34.483Z"
   },
   {
    "duration": 211,
    "start_time": "2025-03-21T11:56:34.510Z"
   },
   {
    "duration": 12,
    "start_time": "2025-03-21T11:56:34.722Z"
   },
   {
    "duration": 32,
    "start_time": "2025-03-21T11:56:34.736Z"
   },
   {
    "duration": 33,
    "start_time": "2025-03-21T11:56:34.769Z"
   },
   {
    "duration": 33,
    "start_time": "2025-03-21T11:56:34.804Z"
   },
   {
    "duration": 8,
    "start_time": "2025-03-21T11:56:34.839Z"
   },
   {
    "duration": 308,
    "start_time": "2025-03-21T11:56:34.856Z"
   },
   {
    "duration": 98,
    "start_time": "2025-03-21T11:57:17.526Z"
   },
   {
    "duration": 291,
    "start_time": "2025-03-21T11:57:24.531Z"
   },
   {
    "duration": 261,
    "start_time": "2025-03-21T11:57:41.056Z"
   },
   {
    "duration": 295,
    "start_time": "2025-03-21T11:58:00.436Z"
   },
   {
    "duration": 278,
    "start_time": "2025-03-21T11:59:18.550Z"
   },
   {
    "duration": 285,
    "start_time": "2025-03-21T11:59:59.433Z"
   },
   {
    "duration": 280,
    "start_time": "2025-03-21T12:00:23.832Z"
   },
   {
    "duration": 368,
    "start_time": "2025-03-21T12:00:43.532Z"
   },
   {
    "duration": 16,
    "start_time": "2025-03-21T12:44:52.664Z"
   },
   {
    "duration": 108,
    "start_time": "2025-03-21T12:45:02.757Z"
   },
   {
    "duration": 11,
    "start_time": "2025-03-21T12:45:05.406Z"
   },
   {
    "duration": 9,
    "start_time": "2025-03-21T12:47:01.280Z"
   },
   {
    "duration": 8,
    "start_time": "2025-03-21T12:54:16.019Z"
   },
   {
    "duration": 5,
    "start_time": "2025-03-21T12:54:21.622Z"
   },
   {
    "duration": 11,
    "start_time": "2025-03-21T13:00:28.244Z"
   },
   {
    "duration": 8,
    "start_time": "2025-03-21T13:00:34.612Z"
   },
   {
    "duration": 8,
    "start_time": "2025-03-21T13:00:45.573Z"
   },
   {
    "duration": 8,
    "start_time": "2025-03-21T13:01:00.929Z"
   },
   {
    "duration": 8,
    "start_time": "2025-03-21T13:01:13.689Z"
   },
   {
    "duration": 11,
    "start_time": "2025-03-21T13:01:17.947Z"
   },
   {
    "duration": 8,
    "start_time": "2025-03-21T13:01:43.220Z"
   },
   {
    "duration": 5,
    "start_time": "2025-03-21T13:01:46.644Z"
   },
   {
    "duration": 4,
    "start_time": "2025-03-21T13:01:52.222Z"
   },
   {
    "duration": 3,
    "start_time": "2025-03-21T13:01:59.189Z"
   },
   {
    "duration": 5,
    "start_time": "2025-03-21T13:02:08.013Z"
   },
   {
    "duration": 12,
    "start_time": "2025-03-21T13:03:06.535Z"
   },
   {
    "duration": 113,
    "start_time": "2025-03-21T13:04:21.007Z"
   },
   {
    "duration": 44,
    "start_time": "2025-03-21T13:04:27.048Z"
   },
   {
    "duration": 8,
    "start_time": "2025-03-21T13:04:33.177Z"
   },
   {
    "duration": 10,
    "start_time": "2025-03-21T13:04:36.702Z"
   },
   {
    "duration": 61,
    "start_time": "2025-03-21T13:06:40.876Z"
   },
   {
    "duration": 5,
    "start_time": "2025-03-21T13:06:43.123Z"
   },
   {
    "duration": 8,
    "start_time": "2025-03-21T13:14:38.114Z"
   },
   {
    "duration": 74,
    "start_time": "2025-03-21T13:14:48.607Z"
   },
   {
    "duration": 81,
    "start_time": "2025-03-21T13:16:04.845Z"
   },
   {
    "duration": 54,
    "start_time": "2025-03-21T13:16:54.382Z"
   },
   {
    "duration": 48,
    "start_time": "2025-03-21T13:16:58.665Z"
   },
   {
    "duration": 50,
    "start_time": "2025-03-21T13:17:59.340Z"
   },
   {
    "duration": 4,
    "start_time": "2025-03-21T13:18:01.521Z"
   },
   {
    "duration": 175,
    "start_time": "2025-03-21T13:18:05.255Z"
   },
   {
    "duration": 3678,
    "start_time": "2025-03-21T13:19:04.220Z"
   },
   {
    "duration": 1979,
    "start_time": "2025-03-21T13:19:07.900Z"
   },
   {
    "duration": 105,
    "start_time": "2025-03-21T13:19:09.880Z"
   },
   {
    "duration": 13,
    "start_time": "2025-03-21T13:19:09.986Z"
   },
   {
    "duration": 69,
    "start_time": "2025-03-21T13:19:10.001Z"
   },
   {
    "duration": 20,
    "start_time": "2025-03-21T13:19:10.071Z"
   },
   {
    "duration": 22,
    "start_time": "2025-03-21T13:19:10.092Z"
   },
   {
    "duration": 4,
    "start_time": "2025-03-21T13:19:10.115Z"
   },
   {
    "duration": 4,
    "start_time": "2025-03-21T13:19:10.121Z"
   },
   {
    "duration": 217,
    "start_time": "2025-03-21T13:19:10.128Z"
   },
   {
    "duration": 15,
    "start_time": "2025-03-21T13:19:10.347Z"
   },
   {
    "duration": 25,
    "start_time": "2025-03-21T13:19:10.363Z"
   },
   {
    "duration": 21,
    "start_time": "2025-03-21T13:19:10.389Z"
   },
   {
    "duration": 47,
    "start_time": "2025-03-21T13:19:10.411Z"
   },
   {
    "duration": 8,
    "start_time": "2025-03-21T13:19:10.459Z"
   },
   {
    "duration": 389,
    "start_time": "2025-03-21T13:19:10.468Z"
   },
   {
    "duration": 11,
    "start_time": "2025-03-21T13:19:10.859Z"
   },
   {
    "duration": 89,
    "start_time": "2025-03-21T13:19:10.871Z"
   },
   {
    "duration": 11,
    "start_time": "2025-03-21T13:19:10.961Z"
   },
   {
    "duration": 73,
    "start_time": "2025-03-21T13:19:10.973Z"
   },
   {
    "duration": 10,
    "start_time": "2025-03-21T13:19:11.047Z"
   },
   {
    "duration": 76,
    "start_time": "2025-03-21T13:19:11.058Z"
   },
   {
    "duration": 111,
    "start_time": "2025-03-21T13:19:11.136Z"
   },
   {
    "duration": 104,
    "start_time": "2025-03-21T13:30:23.935Z"
   },
   {
    "duration": 14,
    "start_time": "2025-03-21T13:30:35.483Z"
   },
   {
    "duration": 96,
    "start_time": "2025-03-21T13:32:00.403Z"
   },
   {
    "duration": 95,
    "start_time": "2025-03-21T13:36:00.364Z"
   },
   {
    "duration": 72,
    "start_time": "2025-03-21T13:36:06.895Z"
   },
   {
    "duration": 88,
    "start_time": "2025-03-21T13:38:56.107Z"
   },
   {
    "duration": 142,
    "start_time": "2025-03-21T13:40:08.636Z"
   },
   {
    "duration": 194,
    "start_time": "2025-03-21T13:41:34.487Z"
   },
   {
    "duration": 211,
    "start_time": "2025-03-21T13:41:38.231Z"
   },
   {
    "duration": 3650,
    "start_time": "2025-03-21T13:41:44.938Z"
   },
   {
    "duration": 1739,
    "start_time": "2025-03-21T13:41:48.590Z"
   },
   {
    "duration": 102,
    "start_time": "2025-03-21T13:41:50.330Z"
   },
   {
    "duration": 13,
    "start_time": "2025-03-21T13:41:50.434Z"
   },
   {
    "duration": 42,
    "start_time": "2025-03-21T13:41:50.448Z"
   },
   {
    "duration": 18,
    "start_time": "2025-03-21T13:41:50.491Z"
   },
   {
    "duration": 22,
    "start_time": "2025-03-21T13:41:50.511Z"
   },
   {
    "duration": 4,
    "start_time": "2025-03-21T13:41:50.555Z"
   },
   {
    "duration": 21,
    "start_time": "2025-03-21T13:41:50.560Z"
   },
   {
    "duration": 201,
    "start_time": "2025-03-21T13:41:50.583Z"
   },
   {
    "duration": 14,
    "start_time": "2025-03-21T13:41:50.785Z"
   },
   {
    "duration": 25,
    "start_time": "2025-03-21T13:41:50.800Z"
   },
   {
    "duration": 40,
    "start_time": "2025-03-21T13:41:50.826Z"
   },
   {
    "duration": 32,
    "start_time": "2025-03-21T13:41:50.868Z"
   },
   {
    "duration": 8,
    "start_time": "2025-03-21T13:41:50.901Z"
   },
   {
    "duration": 362,
    "start_time": "2025-03-21T13:41:50.910Z"
   },
   {
    "duration": 11,
    "start_time": "2025-03-21T13:41:51.274Z"
   },
   {
    "duration": 22,
    "start_time": "2025-03-21T13:41:51.286Z"
   },
   {
    "duration": 23,
    "start_time": "2025-03-21T13:41:51.309Z"
   },
   {
    "duration": 80,
    "start_time": "2025-03-21T13:41:51.333Z"
   },
   {
    "duration": 5,
    "start_time": "2025-03-21T13:41:51.414Z"
   },
   {
    "duration": 130,
    "start_time": "2025-03-21T13:41:51.420Z"
   },
   {
    "duration": 124,
    "start_time": "2025-03-21T13:41:51.552Z"
   },
   {
    "duration": 83,
    "start_time": "2025-03-21T13:42:24.899Z"
   },
   {
    "duration": 56,
    "start_time": "2025-03-21T13:42:28.003Z"
   },
   {
    "duration": 150,
    "start_time": "2025-03-21T13:42:46.671Z"
   },
   {
    "duration": 3725,
    "start_time": "2025-03-21T13:42:54.061Z"
   },
   {
    "duration": 1511,
    "start_time": "2025-03-21T13:42:57.788Z"
   },
   {
    "duration": 91,
    "start_time": "2025-03-21T13:42:59.301Z"
   },
   {
    "duration": 13,
    "start_time": "2025-03-21T13:42:59.394Z"
   },
   {
    "duration": 97,
    "start_time": "2025-03-21T13:42:59.408Z"
   },
   {
    "duration": 18,
    "start_time": "2025-03-21T13:42:59.507Z"
   },
   {
    "duration": 21,
    "start_time": "2025-03-21T13:42:59.526Z"
   },
   {
    "duration": 22,
    "start_time": "2025-03-21T13:42:59.548Z"
   },
   {
    "duration": 147,
    "start_time": "2025-03-21T13:42:59.571Z"
   },
   {
    "duration": 193,
    "start_time": "2025-03-21T13:42:59.720Z"
   },
   {
    "duration": 11,
    "start_time": "2025-03-21T13:42:59.914Z"
   },
   {
    "duration": 39,
    "start_time": "2025-03-21T13:42:59.927Z"
   },
   {
    "duration": 19,
    "start_time": "2025-03-21T13:42:59.967Z"
   },
   {
    "duration": 29,
    "start_time": "2025-03-21T13:42:59.987Z"
   },
   {
    "duration": 9,
    "start_time": "2025-03-21T13:43:00.017Z"
   },
   {
    "duration": 437,
    "start_time": "2025-03-21T13:43:00.028Z"
   },
   {
    "duration": 10,
    "start_time": "2025-03-21T13:43:00.466Z"
   },
   {
    "duration": 42,
    "start_time": "2025-03-21T13:43:00.477Z"
   },
   {
    "duration": 17,
    "start_time": "2025-03-21T13:43:00.520Z"
   },
   {
    "duration": 100,
    "start_time": "2025-03-21T13:43:00.538Z"
   },
   {
    "duration": 5,
    "start_time": "2025-03-21T13:43:00.639Z"
   },
   {
    "duration": 101,
    "start_time": "2025-03-21T13:43:00.645Z"
   },
   {
    "duration": 58,
    "start_time": "2025-03-21T13:43:00.748Z"
   },
   {
    "duration": 108,
    "start_time": "2025-03-21T13:44:49.154Z"
   },
   {
    "duration": 11,
    "start_time": "2025-03-21T13:44:55.419Z"
   },
   {
    "duration": 10,
    "start_time": "2025-03-21T13:45:14.186Z"
   },
   {
    "duration": 3719,
    "start_time": "2025-03-21T13:45:24.131Z"
   },
   {
    "duration": 1855,
    "start_time": "2025-03-21T13:45:27.852Z"
   },
   {
    "duration": 102,
    "start_time": "2025-03-21T13:45:29.709Z"
   },
   {
    "duration": 15,
    "start_time": "2025-03-21T13:45:29.813Z"
   },
   {
    "duration": 55,
    "start_time": "2025-03-21T13:45:29.829Z"
   },
   {
    "duration": 20,
    "start_time": "2025-03-21T13:45:29.885Z"
   },
   {
    "duration": 23,
    "start_time": "2025-03-21T13:45:29.906Z"
   },
   {
    "duration": 4,
    "start_time": "2025-03-21T13:45:29.930Z"
   },
   {
    "duration": 23,
    "start_time": "2025-03-21T13:45:29.935Z"
   },
   {
    "duration": 216,
    "start_time": "2025-03-21T13:45:29.960Z"
   },
   {
    "duration": 11,
    "start_time": "2025-03-21T13:45:30.178Z"
   },
   {
    "duration": 67,
    "start_time": "2025-03-21T13:45:30.191Z"
   },
   {
    "duration": 43,
    "start_time": "2025-03-21T13:45:30.259Z"
   },
   {
    "duration": 65,
    "start_time": "2025-03-21T13:45:30.304Z"
   },
   {
    "duration": 21,
    "start_time": "2025-03-21T13:45:30.371Z"
   },
   {
    "duration": 383,
    "start_time": "2025-03-21T13:45:30.393Z"
   },
   {
    "duration": 12,
    "start_time": "2025-03-21T13:45:30.778Z"
   },
   {
    "duration": 16,
    "start_time": "2025-03-21T13:45:30.791Z"
   },
   {
    "duration": 11,
    "start_time": "2025-03-21T13:45:30.808Z"
   },
   {
    "duration": 86,
    "start_time": "2025-03-21T13:45:30.820Z"
   },
   {
    "duration": 5,
    "start_time": "2025-03-21T13:45:30.907Z"
   },
   {
    "duration": 79,
    "start_time": "2025-03-21T13:45:30.913Z"
   },
   {
    "duration": 68,
    "start_time": "2025-03-21T13:45:30.994Z"
   },
   {
    "duration": 101,
    "start_time": "2025-03-21T13:50:07.817Z"
   },
   {
    "duration": 3598,
    "start_time": "2025-03-21T13:50:14.423Z"
   },
   {
    "duration": 1923,
    "start_time": "2025-03-21T13:50:18.023Z"
   },
   {
    "duration": 101,
    "start_time": "2025-03-21T13:50:19.948Z"
   },
   {
    "duration": 16,
    "start_time": "2025-03-21T13:50:20.051Z"
   },
   {
    "duration": 51,
    "start_time": "2025-03-21T13:50:20.068Z"
   },
   {
    "duration": 19,
    "start_time": "2025-03-21T13:50:20.120Z"
   },
   {
    "duration": 48,
    "start_time": "2025-03-21T13:50:20.140Z"
   },
   {
    "duration": 4,
    "start_time": "2025-03-21T13:50:20.189Z"
   },
   {
    "duration": 13,
    "start_time": "2025-03-21T13:50:20.194Z"
   },
   {
    "duration": 220,
    "start_time": "2025-03-21T13:50:20.209Z"
   },
   {
    "duration": 14,
    "start_time": "2025-03-21T13:50:20.430Z"
   },
   {
    "duration": 39,
    "start_time": "2025-03-21T13:50:20.446Z"
   },
   {
    "duration": 34,
    "start_time": "2025-03-21T13:50:20.486Z"
   },
   {
    "duration": 34,
    "start_time": "2025-03-21T13:50:20.522Z"
   },
   {
    "duration": 7,
    "start_time": "2025-03-21T13:50:20.558Z"
   },
   {
    "duration": 403,
    "start_time": "2025-03-21T13:50:20.566Z"
   },
   {
    "duration": 11,
    "start_time": "2025-03-21T13:50:20.971Z"
   },
   {
    "duration": 59,
    "start_time": "2025-03-21T13:50:20.984Z"
   },
   {
    "duration": 41,
    "start_time": "2025-03-21T13:50:21.044Z"
   },
   {
    "duration": 15,
    "start_time": "2025-03-21T13:50:21.086Z"
   },
   {
    "duration": 102,
    "start_time": "2025-03-21T13:50:21.102Z"
   },
   {
    "duration": 74,
    "start_time": "2025-03-21T13:51:09.789Z"
   },
   {
    "duration": 93,
    "start_time": "2025-03-21T13:51:23.080Z"
   },
   {
    "duration": 95,
    "start_time": "2025-03-21T13:51:25.108Z"
   },
   {
    "duration": 96,
    "start_time": "2025-03-21T13:51:26.436Z"
   },
   {
    "duration": 18,
    "start_time": "2025-03-21T13:54:12.253Z"
   },
   {
    "duration": 15,
    "start_time": "2025-03-21T13:54:34.831Z"
   },
   {
    "duration": 14,
    "start_time": "2025-03-21T13:54:51.005Z"
   },
   {
    "duration": 13,
    "start_time": "2025-03-21T13:55:20.678Z"
   },
   {
    "duration": 15,
    "start_time": "2025-03-21T13:55:24.726Z"
   },
   {
    "duration": 14,
    "start_time": "2025-03-21T13:55:28.848Z"
   },
   {
    "duration": 15,
    "start_time": "2025-03-21T13:55:33.560Z"
   },
   {
    "duration": 15,
    "start_time": "2025-03-21T13:55:41.964Z"
   },
   {
    "duration": 14,
    "start_time": "2025-03-21T13:55:45.595Z"
   },
   {
    "duration": 15,
    "start_time": "2025-03-21T13:57:30.729Z"
   },
   {
    "duration": 14,
    "start_time": "2025-03-21T14:01:35.869Z"
   },
   {
    "duration": 1971,
    "start_time": "2025-03-21T14:04:18.719Z"
   },
   {
    "duration": 14,
    "start_time": "2025-03-21T14:04:30.676Z"
   },
   {
    "duration": 68,
    "start_time": "2025-03-21T14:19:12.689Z"
   },
   {
    "duration": 50,
    "start_time": "2025-03-21T14:20:08.655Z"
   },
   {
    "duration": 9,
    "start_time": "2025-03-21T14:20:15.777Z"
   },
   {
    "duration": 7,
    "start_time": "2025-03-21T14:20:21.128Z"
   },
   {
    "duration": 6,
    "start_time": "2025-03-21T14:20:31.249Z"
   },
   {
    "duration": 5,
    "start_time": "2025-03-21T14:20:52.440Z"
   },
   {
    "duration": 5,
    "start_time": "2025-03-21T14:20:55.770Z"
   },
   {
    "duration": 72,
    "start_time": "2025-03-21T14:21:34.872Z"
   },
   {
    "duration": 16,
    "start_time": "2025-03-21T14:21:51.425Z"
   },
   {
    "duration": 13,
    "start_time": "2025-03-21T14:22:29.246Z"
   },
   {
    "duration": 54,
    "start_time": "2025-03-21T14:23:12.688Z"
   },
   {
    "duration": 54,
    "start_time": "2025-03-21T14:23:17.224Z"
   },
   {
    "duration": 7,
    "start_time": "2025-03-21T14:23:29.232Z"
   },
   {
    "duration": 20,
    "start_time": "2025-03-21T14:23:36.836Z"
   },
   {
    "duration": 8,
    "start_time": "2025-03-21T14:23:41.000Z"
   },
   {
    "duration": 12,
    "start_time": "2025-03-21T14:23:50.434Z"
   },
   {
    "duration": 9,
    "start_time": "2025-03-21T14:23:53.083Z"
   },
   {
    "duration": 9,
    "start_time": "2025-03-21T14:23:57.202Z"
   },
   {
    "duration": 13,
    "start_time": "2025-03-21T14:24:05.007Z"
   },
   {
    "duration": 8,
    "start_time": "2025-03-21T14:24:07.311Z"
   },
   {
    "duration": 57,
    "start_time": "2025-03-21T14:24:21.274Z"
   },
   {
    "duration": 69,
    "start_time": "2025-03-21T14:24:29.958Z"
   },
   {
    "duration": 70,
    "start_time": "2025-03-21T14:25:05.352Z"
   },
   {
    "duration": 16,
    "start_time": "2025-03-21T14:25:38.088Z"
   },
   {
    "duration": 23,
    "start_time": "2025-03-21T14:26:52.732Z"
   },
   {
    "duration": 23,
    "start_time": "2025-03-21T14:27:12.351Z"
   },
   {
    "duration": 16,
    "start_time": "2025-03-21T14:27:55.564Z"
   },
   {
    "duration": 62,
    "start_time": "2025-03-21T14:28:12.914Z"
   },
   {
    "duration": 7,
    "start_time": "2025-03-21T14:30:01.692Z"
   },
   {
    "duration": 7,
    "start_time": "2025-03-21T14:30:33.590Z"
   },
   {
    "duration": 21,
    "start_time": "2025-03-21T14:32:07.978Z"
   },
   {
    "duration": 1691,
    "start_time": "2025-03-21T14:32:47.590Z"
   },
   {
    "duration": 17,
    "start_time": "2025-03-21T14:33:05.574Z"
   },
   {
    "duration": 25,
    "start_time": "2025-03-21T14:33:12.060Z"
   },
   {
    "duration": 16,
    "start_time": "2025-03-21T14:33:21.089Z"
   },
   {
    "duration": 21,
    "start_time": "2025-03-21T14:33:25.556Z"
   },
   {
    "duration": 19,
    "start_time": "2025-03-21T14:34:17.008Z"
   },
   {
    "duration": 20,
    "start_time": "2025-03-21T14:37:03.131Z"
   },
   {
    "duration": 91,
    "start_time": "2025-03-21T14:44:24.530Z"
   },
   {
    "duration": 23,
    "start_time": "2025-03-21T14:44:27.129Z"
   },
   {
    "duration": 23,
    "start_time": "2025-03-21T14:44:38.088Z"
   },
   {
    "duration": 24,
    "start_time": "2025-03-21T14:45:33.212Z"
   },
   {
    "duration": 34,
    "start_time": "2025-03-21T14:54:29.870Z"
   },
   {
    "duration": 3,
    "start_time": "2025-03-21T14:55:54.368Z"
   },
   {
    "duration": 2,
    "start_time": "2025-03-21T14:57:42.970Z"
   },
   {
    "duration": 12,
    "start_time": "2025-03-21T14:59:04.020Z"
   },
   {
    "duration": 36,
    "start_time": "2025-03-21T14:59:08.874Z"
   },
   {
    "duration": 3,
    "start_time": "2025-03-21T14:59:11.165Z"
   },
   {
    "duration": 37,
    "start_time": "2025-03-21T14:59:20.993Z"
   },
   {
    "duration": 3,
    "start_time": "2025-03-21T14:59:22.916Z"
   },
   {
    "duration": 13,
    "start_time": "2025-03-21T14:59:25.350Z"
   },
   {
    "duration": 14,
    "start_time": "2025-03-21T14:59:35.314Z"
   },
   {
    "duration": 107,
    "start_time": "2025-03-21T15:02:09.624Z"
   },
   {
    "duration": 15,
    "start_time": "2025-03-21T15:15:57.706Z"
   },
   {
    "duration": 13,
    "start_time": "2025-03-21T15:16:01.247Z"
   },
   {
    "duration": 14,
    "start_time": "2025-03-21T15:16:10.305Z"
   },
   {
    "duration": 15,
    "start_time": "2025-03-21T15:16:38.184Z"
   },
   {
    "duration": 15,
    "start_time": "2025-03-21T15:16:44.513Z"
   },
   {
    "duration": 24,
    "start_time": "2025-03-21T15:16:48.206Z"
   },
   {
    "duration": 83,
    "start_time": "2025-03-21T15:19:59.671Z"
   },
   {
    "duration": 36,
    "start_time": "2025-03-21T15:20:04.525Z"
   },
   {
    "duration": 38,
    "start_time": "2025-03-21T15:20:19.715Z"
   },
   {
    "duration": 44,
    "start_time": "2025-03-21T15:20:56.856Z"
   },
   {
    "duration": 49,
    "start_time": "2025-03-21T15:21:05.297Z"
   },
   {
    "duration": 41,
    "start_time": "2025-03-21T15:21:31.902Z"
   },
   {
    "duration": 8,
    "start_time": "2025-03-21T15:21:44.947Z"
   },
   {
    "duration": 38,
    "start_time": "2025-03-21T15:21:59.395Z"
   },
   {
    "duration": 9,
    "start_time": "2025-03-21T15:22:35.546Z"
   },
   {
    "duration": 12,
    "start_time": "2025-03-21T15:22:59.541Z"
   },
   {
    "duration": 9,
    "start_time": "2025-03-21T15:23:59.996Z"
   },
   {
    "duration": 74,
    "start_time": "2025-03-21T15:24:05.942Z"
   },
   {
    "duration": 69,
    "start_time": "2025-03-21T15:24:13.903Z"
   },
   {
    "duration": 64,
    "start_time": "2025-03-21T15:24:20.706Z"
   },
   {
    "duration": 14,
    "start_time": "2025-03-21T15:24:39.394Z"
   },
   {
    "duration": 14,
    "start_time": "2025-03-21T15:30:06.509Z"
   },
   {
    "duration": 13,
    "start_time": "2025-03-21T15:30:19.019Z"
   },
   {
    "duration": 45,
    "start_time": "2025-03-21T15:30:20.616Z"
   },
   {
    "duration": 47,
    "start_time": "2025-03-21T15:32:03.297Z"
   },
   {
    "duration": 12,
    "start_time": "2025-03-21T15:33:19.552Z"
   },
   {
    "duration": 12,
    "start_time": "2025-03-21T15:33:34.568Z"
   },
   {
    "duration": 3,
    "start_time": "2025-03-21T15:33:43.077Z"
   },
   {
    "duration": 16,
    "start_time": "2025-03-21T15:33:54.584Z"
   },
   {
    "duration": 5,
    "start_time": "2025-03-21T15:36:57.372Z"
   },
   {
    "duration": 14,
    "start_time": "2025-03-21T15:42:58.837Z"
   },
   {
    "duration": 3,
    "start_time": "2025-03-21T15:43:01.361Z"
   },
   {
    "duration": 17,
    "start_time": "2025-03-21T15:43:03.621Z"
   },
   {
    "duration": 17,
    "start_time": "2025-03-21T15:44:41.857Z"
   },
   {
    "duration": 17,
    "start_time": "2025-03-21T15:45:18.945Z"
   },
   {
    "duration": 623,
    "start_time": "2025-03-21T15:47:05.791Z"
   },
   {
    "duration": 15,
    "start_time": "2025-03-21T15:47:25.521Z"
   },
   {
    "duration": 20,
    "start_time": "2025-03-21T15:47:33.532Z"
   },
   {
    "duration": 21,
    "start_time": "2025-03-21T15:55:25.414Z"
   },
   {
    "duration": 19,
    "start_time": "2025-03-21T15:55:29.537Z"
   },
   {
    "duration": 19,
    "start_time": "2025-03-21T15:55:33.137Z"
   },
   {
    "duration": 3744,
    "start_time": "2025-03-21T16:49:37.010Z"
   },
   {
    "duration": 1711,
    "start_time": "2025-03-21T16:49:40.756Z"
   },
   {
    "duration": 102,
    "start_time": "2025-03-21T16:49:42.469Z"
   },
   {
    "duration": 13,
    "start_time": "2025-03-21T16:49:42.573Z"
   },
   {
    "duration": 38,
    "start_time": "2025-03-21T16:49:42.588Z"
   },
   {
    "duration": 35,
    "start_time": "2025-03-21T16:49:42.627Z"
   },
   {
    "duration": 22,
    "start_time": "2025-03-21T16:49:42.664Z"
   },
   {
    "duration": 15,
    "start_time": "2025-03-21T16:49:42.688Z"
   },
   {
    "duration": 8,
    "start_time": "2025-03-21T16:49:42.704Z"
   },
   {
    "duration": 210,
    "start_time": "2025-03-21T16:49:42.716Z"
   },
   {
    "duration": 13,
    "start_time": "2025-03-21T16:49:42.928Z"
   },
   {
    "duration": 124,
    "start_time": "2025-03-21T16:49:42.942Z"
   },
   {
    "duration": 21,
    "start_time": "2025-03-21T16:49:43.068Z"
   },
   {
    "duration": 39,
    "start_time": "2025-03-21T16:49:43.091Z"
   },
   {
    "duration": 8,
    "start_time": "2025-03-21T16:49:43.132Z"
   },
   {
    "duration": 326,
    "start_time": "2025-03-21T16:49:43.142Z"
   },
   {
    "duration": 12,
    "start_time": "2025-03-21T16:49:43.470Z"
   },
   {
    "duration": 10,
    "start_time": "2025-03-21T16:49:43.484Z"
   },
   {
    "duration": 9,
    "start_time": "2025-03-21T16:49:43.496Z"
   },
   {
    "duration": 2,
    "start_time": "2025-03-21T16:49:43.507Z"
   },
   {
    "duration": 115,
    "start_time": "2025-03-21T16:49:43.511Z"
   },
   {
    "duration": 14,
    "start_time": "2025-03-21T16:49:43.628Z"
   },
   {
    "duration": 48,
    "start_time": "2025-03-21T16:49:43.644Z"
   },
   {
    "duration": 13,
    "start_time": "2025-03-21T16:49:43.693Z"
   },
   {
    "duration": 67,
    "start_time": "2025-03-21T16:49:43.707Z"
   },
   {
    "duration": 11,
    "start_time": "2025-03-21T16:49:43.775Z"
   },
   {
    "duration": 3,
    "start_time": "2025-03-21T16:49:43.787Z"
   },
   {
    "duration": 116,
    "start_time": "2025-03-21T16:49:43.792Z"
   },
   {
    "duration": 0,
    "start_time": "2025-03-21T16:49:43.909Z"
   },
   {
    "duration": 11,
    "start_time": "2025-03-21T16:50:01.661Z"
   },
   {
    "duration": 3610,
    "start_time": "2025-03-21T16:50:27.111Z"
   },
   {
    "duration": 1600,
    "start_time": "2025-03-21T16:50:30.723Z"
   },
   {
    "duration": 115,
    "start_time": "2025-03-21T16:50:32.327Z"
   },
   {
    "duration": 18,
    "start_time": "2025-03-21T16:50:32.443Z"
   },
   {
    "duration": 82,
    "start_time": "2025-03-21T16:50:32.462Z"
   },
   {
    "duration": 20,
    "start_time": "2025-03-21T16:50:32.545Z"
   },
   {
    "duration": 30,
    "start_time": "2025-03-21T16:50:32.566Z"
   },
   {
    "duration": 14,
    "start_time": "2025-03-21T16:50:32.598Z"
   },
   {
    "duration": 13,
    "start_time": "2025-03-21T16:50:32.616Z"
   },
   {
    "duration": 225,
    "start_time": "2025-03-21T16:50:32.631Z"
   },
   {
    "duration": 12,
    "start_time": "2025-03-21T16:50:32.858Z"
   },
   {
    "duration": 35,
    "start_time": "2025-03-21T16:50:32.872Z"
   },
   {
    "duration": 19,
    "start_time": "2025-03-21T16:50:32.909Z"
   },
   {
    "duration": 119,
    "start_time": "2025-03-21T16:50:32.929Z"
   },
   {
    "duration": 7,
    "start_time": "2025-03-21T16:50:33.050Z"
   },
   {
    "duration": 389,
    "start_time": "2025-03-21T16:50:33.058Z"
   },
   {
    "duration": 15,
    "start_time": "2025-03-21T16:50:33.449Z"
   },
   {
    "duration": 14,
    "start_time": "2025-03-21T16:50:33.465Z"
   },
   {
    "duration": 8,
    "start_time": "2025-03-21T16:50:33.480Z"
   },
   {
    "duration": 5,
    "start_time": "2025-03-21T16:50:33.489Z"
   },
   {
    "duration": 104,
    "start_time": "2025-03-21T16:50:33.495Z"
   },
   {
    "duration": 13,
    "start_time": "2025-03-21T16:50:33.601Z"
   },
   {
    "duration": 57,
    "start_time": "2025-03-21T16:50:33.615Z"
   },
   {
    "duration": 12,
    "start_time": "2025-03-21T16:50:33.673Z"
   },
   {
    "duration": 80,
    "start_time": "2025-03-21T16:50:33.687Z"
   },
   {
    "duration": 11,
    "start_time": "2025-03-21T16:50:33.768Z"
   },
   {
    "duration": 14,
    "start_time": "2025-03-21T16:50:33.783Z"
   },
   {
    "duration": 106,
    "start_time": "2025-03-21T16:50:33.799Z"
   },
   {
    "duration": 0,
    "start_time": "2025-03-21T16:50:33.907Z"
   },
   {
    "duration": 1430,
    "start_time": "2025-03-21T16:50:54.707Z"
   },
   {
    "duration": 16,
    "start_time": "2025-03-21T16:51:25.958Z"
   },
   {
    "duration": 19,
    "start_time": "2025-03-21T16:51:39.973Z"
   },
   {
    "duration": 5,
    "start_time": "2025-03-21T17:01:52.288Z"
   },
   {
    "duration": 26,
    "start_time": "2025-03-21T17:02:00.884Z"
   },
   {
    "duration": 22,
    "start_time": "2025-03-21T17:02:10.774Z"
   },
   {
    "duration": 5,
    "start_time": "2025-03-21T17:02:15.248Z"
   },
   {
    "duration": 19,
    "start_time": "2025-03-21T17:02:19.454Z"
   },
   {
    "duration": 4,
    "start_time": "2025-03-21T17:03:23.479Z"
   },
   {
    "duration": 17,
    "start_time": "2025-03-21T17:03:55.917Z"
   },
   {
    "duration": 4,
    "start_time": "2025-03-21T17:04:15.580Z"
   },
   {
    "duration": 39,
    "start_time": "2025-03-21T17:17:32.461Z"
   },
   {
    "duration": 128,
    "start_time": "2025-03-21T17:22:29.511Z"
   },
   {
    "duration": 103,
    "start_time": "2025-03-21T17:22:35.133Z"
   },
   {
    "duration": 12,
    "start_time": "2025-03-21T17:26:53.034Z"
   },
   {
    "duration": 14,
    "start_time": "2025-03-21T17:27:04.313Z"
   },
   {
    "duration": 4,
    "start_time": "2025-03-21T17:36:50.854Z"
   },
   {
    "duration": 46,
    "start_time": "2025-03-21T17:37:53.863Z"
   },
   {
    "duration": 3798,
    "start_time": "2025-03-21T17:38:02.539Z"
   },
   {
    "duration": 2015,
    "start_time": "2025-03-21T17:38:06.339Z"
   },
   {
    "duration": 105,
    "start_time": "2025-03-21T17:38:08.355Z"
   },
   {
    "duration": 14,
    "start_time": "2025-03-21T17:38:08.462Z"
   },
   {
    "duration": 148,
    "start_time": "2025-03-21T17:38:08.477Z"
   },
   {
    "duration": 78,
    "start_time": "2025-03-21T17:38:08.627Z"
   },
   {
    "duration": 23,
    "start_time": "2025-03-21T17:38:08.706Z"
   },
   {
    "duration": 4,
    "start_time": "2025-03-21T17:38:08.730Z"
   },
   {
    "duration": 5,
    "start_time": "2025-03-21T17:38:08.735Z"
   },
   {
    "duration": 194,
    "start_time": "2025-03-21T17:38:08.742Z"
   },
   {
    "duration": 19,
    "start_time": "2025-03-21T17:38:08.937Z"
   },
   {
    "duration": 23,
    "start_time": "2025-03-21T17:38:08.957Z"
   },
   {
    "duration": 29,
    "start_time": "2025-03-21T17:38:08.982Z"
   },
   {
    "duration": 31,
    "start_time": "2025-03-21T17:38:09.013Z"
   },
   {
    "duration": 17,
    "start_time": "2025-03-21T17:38:09.046Z"
   },
   {
    "duration": 383,
    "start_time": "2025-03-21T17:38:09.065Z"
   },
   {
    "duration": 15,
    "start_time": "2025-03-21T17:38:09.450Z"
   },
   {
    "duration": 24,
    "start_time": "2025-03-21T17:38:09.467Z"
   },
   {
    "duration": 8,
    "start_time": "2025-03-21T17:38:09.493Z"
   },
   {
    "duration": 4,
    "start_time": "2025-03-21T17:38:09.502Z"
   },
   {
    "duration": 92,
    "start_time": "2025-03-21T17:38:09.507Z"
   },
   {
    "duration": 12,
    "start_time": "2025-03-21T17:38:09.600Z"
   },
   {
    "duration": 50,
    "start_time": "2025-03-21T17:38:09.614Z"
   },
   {
    "duration": 12,
    "start_time": "2025-03-21T17:38:09.665Z"
   },
   {
    "duration": 59,
    "start_time": "2025-03-21T17:38:09.678Z"
   },
   {
    "duration": 19,
    "start_time": "2025-03-21T17:38:09.738Z"
   },
   {
    "duration": 3,
    "start_time": "2025-03-21T17:38:09.758Z"
   },
   {
    "duration": 21,
    "start_time": "2025-03-21T17:38:09.764Z"
   },
   {
    "duration": 18,
    "start_time": "2025-03-21T17:38:09.786Z"
   },
   {
    "duration": 16,
    "start_time": "2025-03-21T17:38:09.806Z"
   },
   {
    "duration": 49,
    "start_time": "2025-03-21T17:38:09.823Z"
   },
   {
    "duration": 11,
    "start_time": "2025-03-21T17:38:09.874Z"
   },
   {
    "duration": 14,
    "start_time": "2025-03-21T17:38:09.887Z"
   },
   {
    "duration": 4,
    "start_time": "2025-03-21T17:38:09.902Z"
   },
   {
    "duration": 45,
    "start_time": "2025-03-21T17:38:58.386Z"
   },
   {
    "duration": 3670,
    "start_time": "2025-03-21T17:39:12.474Z"
   },
   {
    "duration": 1815,
    "start_time": "2025-03-21T17:39:16.145Z"
   },
   {
    "duration": 111,
    "start_time": "2025-03-21T17:39:17.962Z"
   },
   {
    "duration": 15,
    "start_time": "2025-03-21T17:39:18.075Z"
   },
   {
    "duration": 41,
    "start_time": "2025-03-21T17:39:18.092Z"
   },
   {
    "duration": 37,
    "start_time": "2025-03-21T17:39:18.135Z"
   },
   {
    "duration": 24,
    "start_time": "2025-03-21T17:39:18.173Z"
   },
   {
    "duration": 5,
    "start_time": "2025-03-21T17:39:18.199Z"
   },
   {
    "duration": 121,
    "start_time": "2025-03-21T17:39:18.206Z"
   },
   {
    "duration": 203,
    "start_time": "2025-03-21T17:39:18.329Z"
   },
   {
    "duration": 23,
    "start_time": "2025-03-21T17:39:18.533Z"
   },
   {
    "duration": 139,
    "start_time": "2025-03-21T17:39:18.557Z"
   },
   {
    "duration": 21,
    "start_time": "2025-03-21T17:39:18.698Z"
   },
   {
    "duration": 32,
    "start_time": "2025-03-21T17:39:18.720Z"
   },
   {
    "duration": 8,
    "start_time": "2025-03-21T17:39:18.753Z"
   },
   {
    "duration": 403,
    "start_time": "2025-03-21T17:39:18.762Z"
   },
   {
    "duration": 12,
    "start_time": "2025-03-21T17:39:19.167Z"
   },
   {
    "duration": 19,
    "start_time": "2025-03-21T17:39:19.181Z"
   },
   {
    "duration": 90,
    "start_time": "2025-03-21T17:39:19.201Z"
   },
   {
    "duration": 2,
    "start_time": "2025-03-21T17:39:19.293Z"
   },
   {
    "duration": 85,
    "start_time": "2025-03-21T17:39:19.296Z"
   },
   {
    "duration": 13,
    "start_time": "2025-03-21T17:39:19.383Z"
   },
   {
    "duration": 41,
    "start_time": "2025-03-21T17:39:19.397Z"
   },
   {
    "duration": 21,
    "start_time": "2025-03-21T17:39:19.439Z"
   },
   {
    "duration": 52,
    "start_time": "2025-03-21T17:39:19.461Z"
   },
   {
    "duration": 11,
    "start_time": "2025-03-21T17:39:19.515Z"
   },
   {
    "duration": 7,
    "start_time": "2025-03-21T17:39:19.527Z"
   },
   {
    "duration": 30,
    "start_time": "2025-03-21T17:39:19.537Z"
   },
   {
    "duration": 19,
    "start_time": "2025-03-21T17:39:19.568Z"
   },
   {
    "duration": 17,
    "start_time": "2025-03-21T17:39:19.589Z"
   },
   {
    "duration": 52,
    "start_time": "2025-03-21T17:39:19.607Z"
   },
   {
    "duration": 11,
    "start_time": "2025-03-21T17:39:19.660Z"
   },
   {
    "duration": 16,
    "start_time": "2025-03-21T17:39:19.672Z"
   },
   {
    "duration": 3,
    "start_time": "2025-03-21T17:39:19.689Z"
   },
   {
    "duration": 3677,
    "start_time": "2025-03-21T17:42:30.976Z"
   },
   {
    "duration": 1623,
    "start_time": "2025-03-21T17:42:34.655Z"
   },
   {
    "duration": 104,
    "start_time": "2025-03-21T17:42:36.279Z"
   },
   {
    "duration": 14,
    "start_time": "2025-03-21T17:42:36.384Z"
   },
   {
    "duration": 51,
    "start_time": "2025-03-21T17:42:36.399Z"
   },
   {
    "duration": 29,
    "start_time": "2025-03-21T17:42:36.451Z"
   },
   {
    "duration": 229,
    "start_time": "2025-03-21T17:42:36.481Z"
   },
   {
    "duration": 13,
    "start_time": "2025-03-21T17:42:36.712Z"
   },
   {
    "duration": 6,
    "start_time": "2025-03-21T17:42:36.727Z"
   },
   {
    "duration": 219,
    "start_time": "2025-03-21T17:42:36.736Z"
   },
   {
    "duration": 13,
    "start_time": "2025-03-21T17:42:36.957Z"
   },
   {
    "duration": 52,
    "start_time": "2025-03-21T17:42:36.972Z"
   },
   {
    "duration": 25,
    "start_time": "2025-03-21T17:42:37.026Z"
   },
   {
    "duration": 32,
    "start_time": "2025-03-21T17:42:37.053Z"
   },
   {
    "duration": 23,
    "start_time": "2025-03-21T17:42:37.086Z"
   },
   {
    "duration": 364,
    "start_time": "2025-03-21T17:42:37.110Z"
   },
   {
    "duration": 12,
    "start_time": "2025-03-21T17:42:37.476Z"
   },
   {
    "duration": 26,
    "start_time": "2025-03-21T17:42:37.489Z"
   },
   {
    "duration": 10,
    "start_time": "2025-03-21T17:42:37.516Z"
   },
   {
    "duration": 3,
    "start_time": "2025-03-21T17:42:37.527Z"
   },
   {
    "duration": 95,
    "start_time": "2025-03-21T17:42:37.531Z"
   },
   {
    "duration": 13,
    "start_time": "2025-03-21T17:42:37.627Z"
   },
   {
    "duration": 56,
    "start_time": "2025-03-21T17:42:37.642Z"
   },
   {
    "duration": 22,
    "start_time": "2025-03-21T17:42:37.700Z"
   },
   {
    "duration": 70,
    "start_time": "2025-03-21T17:42:37.723Z"
   },
   {
    "duration": 11,
    "start_time": "2025-03-21T17:42:37.794Z"
   },
   {
    "duration": 4,
    "start_time": "2025-03-21T17:42:37.806Z"
   },
   {
    "duration": 16,
    "start_time": "2025-03-21T17:42:37.812Z"
   },
   {
    "duration": 34,
    "start_time": "2025-03-21T17:42:37.830Z"
   },
   {
    "duration": 17,
    "start_time": "2025-03-21T17:42:37.866Z"
   },
   {
    "duration": 37,
    "start_time": "2025-03-21T17:42:37.884Z"
   },
   {
    "duration": 12,
    "start_time": "2025-03-21T17:42:37.922Z"
   },
   {
    "duration": 25,
    "start_time": "2025-03-21T17:42:37.935Z"
   },
   {
    "duration": 4,
    "start_time": "2025-03-21T17:42:37.961Z"
   },
   {
    "duration": 11,
    "start_time": "2025-03-21T17:44:25.175Z"
   },
   {
    "duration": 11,
    "start_time": "2025-03-21T17:44:32.732Z"
   },
   {
    "duration": 171,
    "start_time": "2025-03-21T17:48:38.794Z"
   },
   {
    "duration": 62,
    "start_time": "2025-03-21T17:49:28.357Z"
   },
   {
    "duration": 161,
    "start_time": "2025-03-21T17:52:42.315Z"
   },
   {
    "duration": 1362,
    "start_time": "2025-03-21T18:00:54.303Z"
   },
   {
    "duration": 11,
    "start_time": "2025-03-21T18:01:02.475Z"
   },
   {
    "duration": 1282,
    "start_time": "2025-03-21T18:01:14.053Z"
   },
   {
    "duration": 1474,
    "start_time": "2025-03-21T18:01:27.962Z"
   },
   {
    "duration": 1285,
    "start_time": "2025-03-21T18:01:31.685Z"
   },
   {
    "duration": 1266,
    "start_time": "2025-03-21T18:02:22.259Z"
   },
   {
    "duration": 16,
    "start_time": "2025-03-21T18:02:32.180Z"
   },
   {
    "duration": 9,
    "start_time": "2025-03-21T18:02:46.190Z"
   },
   {
    "duration": 67,
    "start_time": "2025-03-21T18:02:53.287Z"
   },
   {
    "duration": 101,
    "start_time": "2025-03-21T18:02:58.119Z"
   },
   {
    "duration": 5,
    "start_time": "2025-03-21T18:04:19.925Z"
   },
   {
    "duration": 1388,
    "start_time": "2025-03-21T18:05:45.090Z"
   },
   {
    "duration": 20,
    "start_time": "2025-03-21T18:05:54.141Z"
   },
   {
    "duration": 19,
    "start_time": "2025-03-21T18:06:14.747Z"
   },
   {
    "duration": 86,
    "start_time": "2025-03-21T18:07:04.120Z"
   },
   {
    "duration": 1586,
    "start_time": "2025-03-21T18:07:07.116Z"
   },
   {
    "duration": 5,
    "start_time": "2025-03-21T18:07:59.302Z"
   },
   {
    "duration": 5,
    "start_time": "2025-03-21T18:08:02.034Z"
   },
   {
    "duration": 6,
    "start_time": "2025-03-21T18:08:08.412Z"
   },
   {
    "duration": 5,
    "start_time": "2025-03-21T18:08:12.753Z"
   },
   {
    "duration": 6,
    "start_time": "2025-03-21T18:08:15.393Z"
   },
   {
    "duration": 106,
    "start_time": "2025-03-21T18:08:41.131Z"
   },
   {
    "duration": 4,
    "start_time": "2025-03-21T18:08:46.090Z"
   },
   {
    "duration": 3,
    "start_time": "2025-03-21T18:08:50.625Z"
   },
   {
    "duration": 6,
    "start_time": "2025-03-21T18:09:00.624Z"
   },
   {
    "duration": 6,
    "start_time": "2025-03-21T18:09:08.294Z"
   },
   {
    "duration": 86,
    "start_time": "2025-03-21T18:33:11.766Z"
   },
   {
    "duration": 83,
    "start_time": "2025-03-21T18:33:17.317Z"
   },
   {
    "duration": 27,
    "start_time": "2025-03-21T18:34:22.118Z"
   },
   {
    "duration": 40,
    "start_time": "2025-03-21T18:34:34.426Z"
   },
   {
    "duration": 3,
    "start_time": "2025-03-21T18:34:57.024Z"
   },
   {
    "duration": 25,
    "start_time": "2025-03-21T18:36:46.491Z"
   },
   {
    "duration": 3605,
    "start_time": "2025-03-21T18:43:25.839Z"
   },
   {
    "duration": 1752,
    "start_time": "2025-03-21T18:43:29.446Z"
   },
   {
    "duration": 107,
    "start_time": "2025-03-21T18:43:31.199Z"
   },
   {
    "duration": 14,
    "start_time": "2025-03-21T18:43:31.308Z"
   },
   {
    "duration": 45,
    "start_time": "2025-03-21T18:43:31.324Z"
   },
   {
    "duration": 27,
    "start_time": "2025-03-21T18:43:31.371Z"
   },
   {
    "duration": 22,
    "start_time": "2025-03-21T18:43:31.399Z"
   },
   {
    "duration": 5,
    "start_time": "2025-03-21T18:43:31.422Z"
   },
   {
    "duration": 29,
    "start_time": "2025-03-21T18:43:31.428Z"
   },
   {
    "duration": 311,
    "start_time": "2025-03-21T18:43:31.459Z"
   },
   {
    "duration": 13,
    "start_time": "2025-03-21T18:43:31.771Z"
   },
   {
    "duration": 57,
    "start_time": "2025-03-21T18:43:31.785Z"
   },
   {
    "duration": 20,
    "start_time": "2025-03-21T18:43:31.844Z"
   },
   {
    "duration": 46,
    "start_time": "2025-03-21T18:43:31.865Z"
   },
   {
    "duration": 8,
    "start_time": "2025-03-21T18:43:31.912Z"
   },
   {
    "duration": 344,
    "start_time": "2025-03-21T18:43:31.921Z"
   },
   {
    "duration": 12,
    "start_time": "2025-03-21T18:43:32.267Z"
   },
   {
    "duration": 17,
    "start_time": "2025-03-21T18:43:32.280Z"
   },
   {
    "duration": 12,
    "start_time": "2025-03-21T18:43:32.298Z"
   },
   {
    "duration": 13,
    "start_time": "2025-03-21T18:43:32.311Z"
   },
   {
    "duration": 87,
    "start_time": "2025-03-21T18:43:32.325Z"
   },
   {
    "duration": 13,
    "start_time": "2025-03-21T18:43:32.413Z"
   },
   {
    "duration": 96,
    "start_time": "2025-03-21T18:43:32.427Z"
   },
   {
    "duration": 82,
    "start_time": "2025-03-21T18:43:32.525Z"
   },
   {
    "duration": 77,
    "start_time": "2025-03-21T18:43:32.608Z"
   },
   {
    "duration": 11,
    "start_time": "2025-03-21T18:43:32.686Z"
   },
   {
    "duration": 13,
    "start_time": "2025-03-21T18:43:32.699Z"
   },
   {
    "duration": 143,
    "start_time": "2025-03-21T18:43:32.715Z"
   },
   {
    "duration": 110,
    "start_time": "2025-03-21T18:43:32.860Z"
   },
   {
    "duration": 16,
    "start_time": "2025-03-21T18:43:32.972Z"
   },
   {
    "duration": 33,
    "start_time": "2025-03-21T18:43:32.990Z"
   },
   {
    "duration": 11,
    "start_time": "2025-03-21T18:43:33.025Z"
   },
   {
    "duration": 33,
    "start_time": "2025-03-21T18:43:33.037Z"
   },
   {
    "duration": 32,
    "start_time": "2025-03-21T18:43:33.071Z"
   },
   {
    "duration": 29,
    "start_time": "2025-03-21T18:43:33.105Z"
   },
   {
    "duration": 98,
    "start_time": "2025-03-21T18:43:33.135Z"
   },
   {
    "duration": 6,
    "start_time": "2025-03-21T18:43:33.234Z"
   },
   {
    "duration": 52,
    "start_time": "2025-03-21T18:43:33.242Z"
   },
   {
    "duration": 26,
    "start_time": "2025-03-21T18:43:33.296Z"
   },
   {
    "duration": 3582,
    "start_time": "2025-03-21T18:45:56.815Z"
   },
   {
    "duration": 1683,
    "start_time": "2025-03-21T18:46:00.399Z"
   },
   {
    "duration": 102,
    "start_time": "2025-03-21T18:46:02.084Z"
   },
   {
    "duration": 15,
    "start_time": "2025-03-21T18:46:02.189Z"
   },
   {
    "duration": 61,
    "start_time": "2025-03-21T18:46:02.205Z"
   },
   {
    "duration": 19,
    "start_time": "2025-03-21T18:46:02.267Z"
   },
   {
    "duration": 38,
    "start_time": "2025-03-21T18:46:02.288Z"
   },
   {
    "duration": 14,
    "start_time": "2025-03-21T18:46:02.327Z"
   },
   {
    "duration": 55,
    "start_time": "2025-03-21T18:46:02.343Z"
   },
   {
    "duration": 200,
    "start_time": "2025-03-21T18:46:02.400Z"
   },
   {
    "duration": 12,
    "start_time": "2025-03-21T18:46:02.602Z"
   },
   {
    "duration": 72,
    "start_time": "2025-03-21T18:46:02.615Z"
   },
   {
    "duration": 35,
    "start_time": "2025-03-21T18:46:02.689Z"
   },
   {
    "duration": 53,
    "start_time": "2025-03-21T18:46:02.726Z"
   },
   {
    "duration": 83,
    "start_time": "2025-03-21T18:46:02.780Z"
   },
   {
    "duration": 444,
    "start_time": "2025-03-21T18:46:02.864Z"
   },
   {
    "duration": 11,
    "start_time": "2025-03-21T18:46:03.310Z"
   },
   {
    "duration": 18,
    "start_time": "2025-03-21T18:46:03.322Z"
   },
   {
    "duration": 24,
    "start_time": "2025-03-21T18:46:03.341Z"
   },
   {
    "duration": 22,
    "start_time": "2025-03-21T18:46:03.366Z"
   },
   {
    "duration": 89,
    "start_time": "2025-03-21T18:46:03.389Z"
   },
   {
    "duration": 13,
    "start_time": "2025-03-21T18:46:03.479Z"
   },
   {
    "duration": 165,
    "start_time": "2025-03-21T18:46:03.493Z"
   },
   {
    "duration": 13,
    "start_time": "2025-03-21T18:46:03.659Z"
   },
   {
    "duration": 78,
    "start_time": "2025-03-21T18:46:03.673Z"
   },
   {
    "duration": 11,
    "start_time": "2025-03-21T18:46:03.753Z"
   },
   {
    "duration": 38,
    "start_time": "2025-03-21T18:46:03.765Z"
   },
   {
    "duration": 36,
    "start_time": "2025-03-21T18:46:03.806Z"
   },
   {
    "duration": 59,
    "start_time": "2025-03-21T18:46:03.844Z"
   },
   {
    "duration": 18,
    "start_time": "2025-03-21T18:46:03.905Z"
   },
   {
    "duration": 28,
    "start_time": "2025-03-21T18:46:03.925Z"
   },
   {
    "duration": 14,
    "start_time": "2025-03-21T18:46:03.954Z"
   },
   {
    "duration": 32,
    "start_time": "2025-03-21T18:46:03.969Z"
   },
   {
    "duration": 33,
    "start_time": "2025-03-21T18:46:04.003Z"
   },
   {
    "duration": 45,
    "start_time": "2025-03-21T18:46:04.037Z"
   },
   {
    "duration": 70,
    "start_time": "2025-03-21T18:46:04.084Z"
   },
   {
    "duration": 6,
    "start_time": "2025-03-21T18:46:04.156Z"
   },
   {
    "duration": 59,
    "start_time": "2025-03-21T18:46:04.164Z"
   },
   {
    "duration": 24,
    "start_time": "2025-03-21T18:46:04.225Z"
   },
   {
    "duration": 21,
    "start_time": "2025-03-21T18:53:31.901Z"
   },
   {
    "duration": 3762,
    "start_time": "2025-03-21T18:53:49.540Z"
   },
   {
    "duration": 1731,
    "start_time": "2025-03-21T18:53:53.304Z"
   },
   {
    "duration": 99,
    "start_time": "2025-03-21T18:53:55.036Z"
   },
   {
    "duration": 23,
    "start_time": "2025-03-21T18:53:55.137Z"
   },
   {
    "duration": 34,
    "start_time": "2025-03-21T18:53:55.161Z"
   },
   {
    "duration": 18,
    "start_time": "2025-03-21T18:53:55.197Z"
   },
   {
    "duration": 41,
    "start_time": "2025-03-21T18:53:55.216Z"
   },
   {
    "duration": 3,
    "start_time": "2025-03-21T18:53:55.258Z"
   },
   {
    "duration": 25,
    "start_time": "2025-03-21T18:53:55.262Z"
   },
   {
    "duration": 195,
    "start_time": "2025-03-21T18:53:55.289Z"
   },
   {
    "duration": 13,
    "start_time": "2025-03-21T18:53:55.486Z"
   },
   {
    "duration": 26,
    "start_time": "2025-03-21T18:53:55.501Z"
   },
   {
    "duration": 109,
    "start_time": "2025-03-21T18:53:55.529Z"
   },
   {
    "duration": 32,
    "start_time": "2025-03-21T18:53:55.640Z"
   },
   {
    "duration": 9,
    "start_time": "2025-03-21T18:53:55.674Z"
   },
   {
    "duration": 378,
    "start_time": "2025-03-21T18:53:55.684Z"
   },
   {
    "duration": 12,
    "start_time": "2025-03-21T18:53:56.063Z"
   },
   {
    "duration": 16,
    "start_time": "2025-03-21T18:53:56.076Z"
   },
   {
    "duration": 14,
    "start_time": "2025-03-21T18:53:56.094Z"
   },
   {
    "duration": 4,
    "start_time": "2025-03-21T18:53:56.110Z"
   },
   {
    "duration": 88,
    "start_time": "2025-03-21T18:53:56.115Z"
   },
   {
    "duration": 12,
    "start_time": "2025-03-21T18:53:56.205Z"
   },
   {
    "duration": 51,
    "start_time": "2025-03-21T18:53:56.218Z"
   },
   {
    "duration": 11,
    "start_time": "2025-03-21T18:53:56.271Z"
   },
   {
    "duration": 64,
    "start_time": "2025-03-21T18:53:56.283Z"
   },
   {
    "duration": 11,
    "start_time": "2025-03-21T18:53:56.349Z"
   },
   {
    "duration": 3,
    "start_time": "2025-03-21T18:53:56.362Z"
   },
   {
    "duration": 15,
    "start_time": "2025-03-21T18:53:56.367Z"
   },
   {
    "duration": 17,
    "start_time": "2025-03-21T18:53:56.384Z"
   },
   {
    "duration": 17,
    "start_time": "2025-03-21T18:53:56.403Z"
   },
   {
    "duration": 48,
    "start_time": "2025-03-21T18:53:56.422Z"
   },
   {
    "duration": 49,
    "start_time": "2025-03-21T18:53:56.472Z"
   },
   {
    "duration": 12,
    "start_time": "2025-03-21T18:53:56.522Z"
   },
   {
    "duration": 12,
    "start_time": "2025-03-21T18:53:56.535Z"
   },
   {
    "duration": 115,
    "start_time": "2025-03-21T18:53:56.548Z"
   },
   {
    "duration": 77,
    "start_time": "2025-03-21T18:53:56.665Z"
   },
   {
    "duration": 16,
    "start_time": "2025-03-21T18:53:56.744Z"
   },
   {
    "duration": 36,
    "start_time": "2025-03-21T18:53:56.761Z"
   },
   {
    "duration": 184,
    "start_time": "2025-03-21T18:53:56.799Z"
   },
   {
    "duration": 3952,
    "start_time": "2025-03-21T19:52:25.930Z"
   },
   {
    "duration": 2557,
    "start_time": "2025-03-21T19:52:29.884Z"
   },
   {
    "duration": 121,
    "start_time": "2025-03-21T19:52:32.443Z"
   },
   {
    "duration": 17,
    "start_time": "2025-03-21T19:52:32.566Z"
   },
   {
    "duration": 50,
    "start_time": "2025-03-21T19:52:32.584Z"
   },
   {
    "duration": 35,
    "start_time": "2025-03-21T19:52:32.635Z"
   },
   {
    "duration": 71,
    "start_time": "2025-03-21T19:52:32.672Z"
   },
   {
    "duration": 4,
    "start_time": "2025-03-21T19:52:32.744Z"
   },
   {
    "duration": 6,
    "start_time": "2025-03-21T19:52:32.750Z"
   },
   {
    "duration": 228,
    "start_time": "2025-03-21T19:52:32.758Z"
   },
   {
    "duration": 16,
    "start_time": "2025-03-21T19:52:32.988Z"
   },
   {
    "duration": 48,
    "start_time": "2025-03-21T19:52:33.006Z"
   },
   {
    "duration": 27,
    "start_time": "2025-03-21T19:52:33.056Z"
   },
   {
    "duration": 36,
    "start_time": "2025-03-21T19:52:33.085Z"
   },
   {
    "duration": 34,
    "start_time": "2025-03-21T19:52:33.123Z"
   },
   {
    "duration": 424,
    "start_time": "2025-03-21T19:52:33.159Z"
   },
   {
    "duration": 13,
    "start_time": "2025-03-21T19:52:33.585Z"
   },
   {
    "duration": 42,
    "start_time": "2025-03-21T19:52:33.600Z"
   },
   {
    "duration": 11,
    "start_time": "2025-03-21T19:52:33.644Z"
   },
   {
    "duration": 134,
    "start_time": "2025-03-21T19:52:33.656Z"
   },
   {
    "duration": 99,
    "start_time": "2025-03-21T19:52:33.791Z"
   },
   {
    "duration": 16,
    "start_time": "2025-03-21T19:52:33.892Z"
   },
   {
    "duration": 53,
    "start_time": "2025-03-21T19:52:33.910Z"
   },
   {
    "duration": 16,
    "start_time": "2025-03-21T19:52:33.965Z"
   },
   {
    "duration": 98,
    "start_time": "2025-03-21T19:52:33.982Z"
   },
   {
    "duration": 12,
    "start_time": "2025-03-21T19:52:34.082Z"
   },
   {
    "duration": 3,
    "start_time": "2025-03-21T19:52:34.096Z"
   },
   {
    "duration": 33,
    "start_time": "2025-03-21T19:52:34.102Z"
   },
   {
    "duration": 27,
    "start_time": "2025-03-21T19:52:34.137Z"
   },
   {
    "duration": 18,
    "start_time": "2025-03-21T19:52:34.166Z"
   },
   {
    "duration": 28,
    "start_time": "2025-03-21T19:52:34.186Z"
   },
   {
    "duration": 13,
    "start_time": "2025-03-21T19:52:34.215Z"
   },
   {
    "duration": 19,
    "start_time": "2025-03-21T19:52:34.255Z"
   },
   {
    "duration": 21,
    "start_time": "2025-03-21T19:52:34.276Z"
   },
   {
    "duration": 42,
    "start_time": "2025-03-21T19:52:34.298Z"
   },
   {
    "duration": 78,
    "start_time": "2025-03-21T19:52:34.342Z"
   },
   {
    "duration": 6,
    "start_time": "2025-03-21T19:52:34.421Z"
   },
   {
    "duration": 51,
    "start_time": "2025-03-21T19:52:34.429Z"
   },
   {
    "duration": 28,
    "start_time": "2025-03-21T19:52:34.482Z"
   },
   {
    "duration": 101,
    "start_time": "2025-03-22T11:56:48.475Z"
   },
   {
    "duration": 43,
    "start_time": "2025-03-22T11:56:57.536Z"
   },
   {
    "duration": 6,
    "start_time": "2025-03-22T12:13:42.459Z"
   },
   {
    "duration": 4700,
    "start_time": "2025-03-22T12:13:49.958Z"
   },
   {
    "duration": 2600,
    "start_time": "2025-03-22T12:13:54.660Z"
   },
   {
    "duration": 135,
    "start_time": "2025-03-22T12:13:57.261Z"
   },
   {
    "duration": 14,
    "start_time": "2025-03-22T12:13:57.398Z"
   },
   {
    "duration": 57,
    "start_time": "2025-03-22T12:13:57.413Z"
   },
   {
    "duration": 22,
    "start_time": "2025-03-22T12:13:57.471Z"
   },
   {
    "duration": 52,
    "start_time": "2025-03-22T12:13:57.494Z"
   },
   {
    "duration": 4,
    "start_time": "2025-03-22T12:13:57.547Z"
   },
   {
    "duration": 7,
    "start_time": "2025-03-22T12:13:57.553Z"
   },
   {
    "duration": 232,
    "start_time": "2025-03-22T12:13:57.563Z"
   },
   {
    "duration": 14,
    "start_time": "2025-03-22T12:13:57.796Z"
   },
   {
    "duration": 42,
    "start_time": "2025-03-22T12:13:57.811Z"
   },
   {
    "duration": 23,
    "start_time": "2025-03-22T12:13:57.855Z"
   },
   {
    "duration": 58,
    "start_time": "2025-03-22T12:13:57.880Z"
   },
   {
    "duration": 1496,
    "start_time": "2025-03-22T12:13:57.940Z"
   },
   {
    "duration": 0,
    "start_time": "2025-03-22T12:13:59.438Z"
   },
   {
    "duration": 0,
    "start_time": "2025-03-22T12:13:59.439Z"
   },
   {
    "duration": 0,
    "start_time": "2025-03-22T12:13:59.440Z"
   },
   {
    "duration": 0,
    "start_time": "2025-03-22T12:13:59.441Z"
   },
   {
    "duration": 0,
    "start_time": "2025-03-22T12:13:59.442Z"
   },
   {
    "duration": 0,
    "start_time": "2025-03-22T12:13:59.443Z"
   },
   {
    "duration": 0,
    "start_time": "2025-03-22T12:13:59.444Z"
   },
   {
    "duration": 0,
    "start_time": "2025-03-22T12:13:59.445Z"
   },
   {
    "duration": 0,
    "start_time": "2025-03-22T12:13:59.446Z"
   },
   {
    "duration": 0,
    "start_time": "2025-03-22T12:13:59.447Z"
   },
   {
    "duration": 0,
    "start_time": "2025-03-22T12:13:59.449Z"
   },
   {
    "duration": 0,
    "start_time": "2025-03-22T12:13:59.450Z"
   },
   {
    "duration": 0,
    "start_time": "2025-03-22T12:13:59.451Z"
   },
   {
    "duration": 0,
    "start_time": "2025-03-22T12:13:59.451Z"
   },
   {
    "duration": 0,
    "start_time": "2025-03-22T12:13:59.453Z"
   },
   {
    "duration": 0,
    "start_time": "2025-03-22T12:13:59.454Z"
   },
   {
    "duration": 0,
    "start_time": "2025-03-22T12:13:59.455Z"
   },
   {
    "duration": 0,
    "start_time": "2025-03-22T12:13:59.456Z"
   },
   {
    "duration": 0,
    "start_time": "2025-03-22T12:13:59.457Z"
   },
   {
    "duration": 0,
    "start_time": "2025-03-22T12:13:59.458Z"
   },
   {
    "duration": 0,
    "start_time": "2025-03-22T12:13:59.460Z"
   },
   {
    "duration": 0,
    "start_time": "2025-03-22T12:13:59.460Z"
   },
   {
    "duration": 0,
    "start_time": "2025-03-22T12:13:59.461Z"
   },
   {
    "duration": 0,
    "start_time": "2025-03-22T12:13:59.463Z"
   },
   {
    "duration": 1382,
    "start_time": "2025-03-22T12:17:38.638Z"
   },
   {
    "duration": 12,
    "start_time": "2025-03-22T12:17:53.360Z"
   },
   {
    "duration": 415,
    "start_time": "2025-03-22T12:18:16.274Z"
   },
   {
    "duration": 332,
    "start_time": "2025-03-22T12:19:11.004Z"
   },
   {
    "duration": 3678,
    "start_time": "2025-03-22T14:57:50.265Z"
   },
   {
    "duration": 2007,
    "start_time": "2025-03-22T14:57:53.945Z"
   },
   {
    "duration": 136,
    "start_time": "2025-03-22T14:57:55.953Z"
   },
   {
    "duration": 16,
    "start_time": "2025-03-22T14:57:56.091Z"
   },
   {
    "duration": 78,
    "start_time": "2025-03-22T14:57:56.108Z"
   },
   {
    "duration": 22,
    "start_time": "2025-03-22T14:57:56.188Z"
   },
   {
    "duration": 57,
    "start_time": "2025-03-22T14:57:56.212Z"
   },
   {
    "duration": 6,
    "start_time": "2025-03-22T14:57:56.271Z"
   },
   {
    "duration": 10,
    "start_time": "2025-03-22T14:57:56.279Z"
   },
   {
    "duration": 281,
    "start_time": "2025-03-22T14:57:56.292Z"
   },
   {
    "duration": 14,
    "start_time": "2025-03-22T14:57:56.575Z"
   },
   {
    "duration": 48,
    "start_time": "2025-03-22T14:57:56.590Z"
   },
   {
    "duration": 24,
    "start_time": "2025-03-22T14:57:56.640Z"
   },
   {
    "duration": 39,
    "start_time": "2025-03-22T14:57:56.666Z"
   },
   {
    "duration": 27,
    "start_time": "2025-03-22T14:57:56.706Z"
   },
   {
    "duration": 465,
    "start_time": "2025-03-22T14:57:56.734Z"
   },
   {
    "duration": 12,
    "start_time": "2025-03-22T14:57:57.201Z"
   },
   {
    "duration": 34,
    "start_time": "2025-03-22T14:57:57.214Z"
   },
   {
    "duration": 23,
    "start_time": "2025-03-22T14:57:57.250Z"
   },
   {
    "duration": 15,
    "start_time": "2025-03-22T14:57:57.275Z"
   },
   {
    "duration": 113,
    "start_time": "2025-03-22T14:57:57.292Z"
   },
   {
    "duration": 28,
    "start_time": "2025-03-22T14:57:57.407Z"
   },
   {
    "duration": 39,
    "start_time": "2025-03-22T14:57:57.444Z"
   },
   {
    "duration": 15,
    "start_time": "2025-03-22T14:57:57.484Z"
   },
   {
    "duration": 74,
    "start_time": "2025-03-22T14:57:57.501Z"
   },
   {
    "duration": 12,
    "start_time": "2025-03-22T14:57:57.577Z"
   },
   {
    "duration": 3,
    "start_time": "2025-03-22T14:57:57.590Z"
   },
   {
    "duration": 49,
    "start_time": "2025-03-22T14:57:57.596Z"
   },
   {
    "duration": 20,
    "start_time": "2025-03-22T14:57:57.647Z"
   },
   {
    "duration": 18,
    "start_time": "2025-03-22T14:57:57.669Z"
   },
   {
    "duration": 25,
    "start_time": "2025-03-22T14:57:57.688Z"
   },
   {
    "duration": 33,
    "start_time": "2025-03-22T14:57:57.715Z"
   },
   {
    "duration": 73,
    "start_time": "2025-03-22T14:57:57.750Z"
   },
   {
    "duration": 16,
    "start_time": "2025-03-22T14:57:57.825Z"
   },
   {
    "duration": 19,
    "start_time": "2025-03-22T14:57:57.842Z"
   },
   {
    "duration": 97,
    "start_time": "2025-03-22T14:57:57.863Z"
   },
   {
    "duration": 6,
    "start_time": "2025-03-22T14:57:57.962Z"
   },
   {
    "duration": 48,
    "start_time": "2025-03-22T14:57:57.970Z"
   },
   {
    "duration": 41,
    "start_time": "2025-03-22T14:57:58.020Z"
   },
   {
    "duration": 375,
    "start_time": "2025-03-22T15:03:36.289Z"
   },
   {
    "duration": 354,
    "start_time": "2025-03-22T15:05:37.145Z"
   },
   {
    "duration": 224,
    "start_time": "2025-03-22T15:17:10.459Z"
   },
   {
    "duration": 326,
    "start_time": "2025-03-22T15:17:22.537Z"
   },
   {
    "duration": 12,
    "start_time": "2025-03-22T15:30:01.381Z"
   },
   {
    "duration": 10,
    "start_time": "2025-03-22T15:30:09.032Z"
   },
   {
    "duration": 300,
    "start_time": "2025-03-22T15:31:27.646Z"
   },
   {
    "duration": 285,
    "start_time": "2025-03-22T15:31:38.285Z"
   },
   {
    "duration": 214,
    "start_time": "2025-03-22T15:31:43.439Z"
   },
   {
    "duration": 210,
    "start_time": "2025-03-22T15:31:47.609Z"
   },
   {
    "duration": 206,
    "start_time": "2025-03-22T15:31:50.802Z"
   },
   {
    "duration": 223,
    "start_time": "2025-03-22T15:32:06.019Z"
   },
   {
    "duration": 190,
    "start_time": "2025-03-22T15:32:11.577Z"
   },
   {
    "duration": 365,
    "start_time": "2025-03-22T15:33:04.359Z"
   },
   {
    "duration": 379,
    "start_time": "2025-03-22T15:33:10.873Z"
   },
   {
    "duration": 27,
    "start_time": "2025-03-22T15:33:34.083Z"
   },
   {
    "duration": 391,
    "start_time": "2025-03-22T15:33:43.303Z"
   },
   {
    "duration": 370,
    "start_time": "2025-03-22T15:34:21.484Z"
   },
   {
    "duration": 6,
    "start_time": "2025-03-22T15:34:39.175Z"
   },
   {
    "duration": 385,
    "start_time": "2025-03-22T15:34:40.168Z"
   },
   {
    "duration": 304,
    "start_time": "2025-03-22T15:34:54.242Z"
   },
   {
    "duration": 109,
    "start_time": "2025-03-22T15:35:49.798Z"
   },
   {
    "duration": 372,
    "start_time": "2025-03-22T15:35:56.487Z"
   },
   {
    "duration": 348,
    "start_time": "2025-03-22T15:36:01.923Z"
   },
   {
    "duration": 12,
    "start_time": "2025-03-22T15:37:42.546Z"
   },
   {
    "duration": 6,
    "start_time": "2025-03-22T15:37:45.070Z"
   },
   {
    "duration": 101,
    "start_time": "2025-03-22T15:37:47.440Z"
   },
   {
    "duration": 128,
    "start_time": "2025-03-22T15:37:57.559Z"
   },
   {
    "duration": 233,
    "start_time": "2025-03-22T15:38:19.115Z"
   },
   {
    "duration": 224,
    "start_time": "2025-03-22T15:38:45.150Z"
   },
   {
    "duration": 400,
    "start_time": "2025-03-22T15:39:11.259Z"
   },
   {
    "duration": 13,
    "start_time": "2025-03-22T15:40:27.387Z"
   },
   {
    "duration": 1359,
    "start_time": "2025-03-22T15:42:22.865Z"
   },
   {
    "duration": 14,
    "start_time": "2025-03-22T15:42:37.784Z"
   },
   {
    "duration": 6,
    "start_time": "2025-03-22T15:42:40.543Z"
   },
   {
    "duration": 364,
    "start_time": "2025-03-22T15:42:42.399Z"
   },
   {
    "duration": 1250,
    "start_time": "2025-03-22T15:42:48.431Z"
   },
   {
    "duration": 96,
    "start_time": "2025-03-22T15:43:32.960Z"
   },
   {
    "duration": 1408,
    "start_time": "2025-03-22T15:44:18.000Z"
   },
   {
    "duration": 6,
    "start_time": "2025-03-22T15:45:27.285Z"
   },
   {
    "duration": 16,
    "start_time": "2025-03-22T15:45:33.824Z"
   },
   {
    "duration": 10,
    "start_time": "2025-03-22T15:45:42.851Z"
   },
   {
    "duration": 6,
    "start_time": "2025-03-22T15:47:47.544Z"
   },
   {
    "duration": 7,
    "start_time": "2025-03-22T15:47:49.444Z"
   },
   {
    "duration": 356,
    "start_time": "2025-03-22T15:47:50.229Z"
   },
   {
    "duration": 6,
    "start_time": "2025-03-22T15:48:11.597Z"
   },
   {
    "duration": 5,
    "start_time": "2025-03-22T15:48:12.373Z"
   },
   {
    "duration": 452,
    "start_time": "2025-03-22T15:48:12.999Z"
   },
   {
    "duration": 146,
    "start_time": "2025-03-22T15:48:33.381Z"
   },
   {
    "duration": 1524,
    "start_time": "2025-03-22T15:50:59.845Z"
   },
   {
    "duration": 7,
    "start_time": "2025-03-22T15:51:22.338Z"
   },
   {
    "duration": 1570,
    "start_time": "2025-03-22T15:51:25.384Z"
   },
   {
    "duration": 6,
    "start_time": "2025-03-22T15:51:46.211Z"
   },
   {
    "duration": 6,
    "start_time": "2025-03-22T15:51:54.571Z"
   },
   {
    "duration": 363,
    "start_time": "2025-03-22T15:51:55.944Z"
   },
   {
    "duration": 1509,
    "start_time": "2025-03-22T15:52:00.572Z"
   },
   {
    "duration": 3548,
    "start_time": "2025-03-22T15:52:07.765Z"
   },
   {
    "duration": 3046,
    "start_time": "2025-03-22T15:52:11.315Z"
   },
   {
    "duration": 131,
    "start_time": "2025-03-22T15:52:14.363Z"
   },
   {
    "duration": 16,
    "start_time": "2025-03-22T15:52:14.496Z"
   },
   {
    "duration": 68,
    "start_time": "2025-03-22T15:52:14.513Z"
   },
   {
    "duration": 22,
    "start_time": "2025-03-22T15:52:14.582Z"
   },
   {
    "duration": 52,
    "start_time": "2025-03-22T15:52:14.605Z"
   },
   {
    "duration": 4,
    "start_time": "2025-03-22T15:52:14.658Z"
   },
   {
    "duration": 6,
    "start_time": "2025-03-22T15:52:14.664Z"
   },
   {
    "duration": 243,
    "start_time": "2025-03-22T15:52:14.672Z"
   },
   {
    "duration": 26,
    "start_time": "2025-03-22T15:52:14.917Z"
   },
   {
    "duration": 137,
    "start_time": "2025-03-22T15:52:14.945Z"
   },
   {
    "duration": 33,
    "start_time": "2025-03-22T15:52:15.084Z"
   },
   {
    "duration": 65,
    "start_time": "2025-03-22T15:52:15.119Z"
   },
   {
    "duration": 6,
    "start_time": "2025-03-22T15:52:15.186Z"
   },
   {
    "duration": 27,
    "start_time": "2025-03-22T15:52:15.194Z"
   },
   {
    "duration": 445,
    "start_time": "2025-03-22T15:52:15.222Z"
   },
   {
    "duration": 1594,
    "start_time": "2025-03-22T15:52:15.669Z"
   },
   {
    "duration": 0,
    "start_time": "2025-03-22T15:52:17.265Z"
   },
   {
    "duration": 0,
    "start_time": "2025-03-22T15:52:17.266Z"
   },
   {
    "duration": 0,
    "start_time": "2025-03-22T15:52:17.267Z"
   },
   {
    "duration": 0,
    "start_time": "2025-03-22T15:52:17.268Z"
   },
   {
    "duration": 0,
    "start_time": "2025-03-22T15:52:17.269Z"
   },
   {
    "duration": 0,
    "start_time": "2025-03-22T15:52:17.271Z"
   },
   {
    "duration": 0,
    "start_time": "2025-03-22T15:52:17.272Z"
   },
   {
    "duration": 1,
    "start_time": "2025-03-22T15:52:17.272Z"
   },
   {
    "duration": 0,
    "start_time": "2025-03-22T15:52:17.273Z"
   },
   {
    "duration": 0,
    "start_time": "2025-03-22T15:52:17.274Z"
   },
   {
    "duration": 0,
    "start_time": "2025-03-22T15:52:17.275Z"
   },
   {
    "duration": 0,
    "start_time": "2025-03-22T15:52:17.276Z"
   },
   {
    "duration": 0,
    "start_time": "2025-03-22T15:52:17.277Z"
   },
   {
    "duration": 0,
    "start_time": "2025-03-22T15:52:17.278Z"
   },
   {
    "duration": 0,
    "start_time": "2025-03-22T15:52:17.279Z"
   },
   {
    "duration": 0,
    "start_time": "2025-03-22T15:52:17.281Z"
   },
   {
    "duration": 0,
    "start_time": "2025-03-22T15:52:17.281Z"
   },
   {
    "duration": 0,
    "start_time": "2025-03-22T15:52:17.282Z"
   },
   {
    "duration": 0,
    "start_time": "2025-03-22T15:52:17.283Z"
   },
   {
    "duration": 0,
    "start_time": "2025-03-22T15:52:17.284Z"
   },
   {
    "duration": 0,
    "start_time": "2025-03-22T15:52:17.286Z"
   },
   {
    "duration": 0,
    "start_time": "2025-03-22T15:52:17.287Z"
   },
   {
    "duration": 1,
    "start_time": "2025-03-22T15:52:17.329Z"
   },
   {
    "duration": 0,
    "start_time": "2025-03-22T15:52:17.330Z"
   },
   {
    "duration": 1431,
    "start_time": "2025-03-22T15:52:57.290Z"
   },
   {
    "duration": 194,
    "start_time": "2025-03-22T15:53:15.180Z"
   },
   {
    "duration": 7,
    "start_time": "2025-03-22T15:53:37.571Z"
   },
   {
    "duration": 158,
    "start_time": "2025-03-22T15:53:39.867Z"
   },
   {
    "duration": 12,
    "start_time": "2025-03-22T15:54:52.009Z"
   },
   {
    "duration": 6,
    "start_time": "2025-03-22T15:55:25.801Z"
   },
   {
    "duration": 356,
    "start_time": "2025-03-22T15:55:32.633Z"
   },
   {
    "duration": 21,
    "start_time": "2025-03-22T15:55:38.627Z"
   },
   {
    "duration": 11,
    "start_time": "2025-03-22T15:55:48.434Z"
   },
   {
    "duration": 17,
    "start_time": "2025-03-22T15:55:50.772Z"
   },
   {
    "duration": 341,
    "start_time": "2025-03-22T15:56:00.926Z"
   },
   {
    "duration": 7,
    "start_time": "2025-03-22T15:56:08.003Z"
   },
   {
    "duration": 464,
    "start_time": "2025-03-22T15:56:16.304Z"
   },
   {
    "duration": 373,
    "start_time": "2025-03-22T15:56:38.488Z"
   },
   {
    "duration": 8,
    "start_time": "2025-03-22T15:56:58.739Z"
   },
   {
    "duration": 6,
    "start_time": "2025-03-22T15:57:42.179Z"
   },
   {
    "duration": 5,
    "start_time": "2025-03-22T15:57:55.845Z"
   },
   {
    "duration": 334,
    "start_time": "2025-03-22T15:57:56.834Z"
   },
   {
    "duration": 8,
    "start_time": "2025-03-22T15:57:59.246Z"
   },
   {
    "duration": 16,
    "start_time": "2025-03-22T15:58:01.038Z"
   },
   {
    "duration": 10,
    "start_time": "2025-03-22T15:58:07.477Z"
   },
   {
    "duration": 17,
    "start_time": "2025-03-22T15:58:11.977Z"
   },
   {
    "duration": 370,
    "start_time": "2025-03-22T15:58:13.897Z"
   },
   {
    "duration": 350,
    "start_time": "2025-03-22T15:58:52.144Z"
   },
   {
    "duration": 348,
    "start_time": "2025-03-22T16:00:09.616Z"
   },
   {
    "duration": 7,
    "start_time": "2025-03-22T16:00:38.089Z"
   },
   {
    "duration": 13,
    "start_time": "2025-03-22T16:00:39.254Z"
   },
   {
    "duration": 6,
    "start_time": "2025-03-22T16:00:51.709Z"
   },
   {
    "duration": 6,
    "start_time": "2025-03-22T16:00:55.221Z"
   },
   {
    "duration": 348,
    "start_time": "2025-03-22T16:00:56.903Z"
   },
   {
    "duration": 8,
    "start_time": "2025-03-22T16:03:24.595Z"
   },
   {
    "duration": 392,
    "start_time": "2025-03-22T16:03:25.258Z"
   },
   {
    "duration": 5,
    "start_time": "2025-03-22T16:07:34.618Z"
   },
   {
    "duration": 7,
    "start_time": "2025-03-22T16:07:35.343Z"
   },
   {
    "duration": 411,
    "start_time": "2025-03-22T16:08:30.342Z"
   },
   {
    "duration": 388,
    "start_time": "2025-03-22T16:09:16.627Z"
   },
   {
    "duration": 385,
    "start_time": "2025-03-22T16:09:27.481Z"
   },
   {
    "duration": 5,
    "start_time": "2025-03-22T16:10:08.067Z"
   },
   {
    "duration": 482,
    "start_time": "2025-03-22T16:10:08.970Z"
   },
   {
    "duration": 10,
    "start_time": "2025-03-22T16:10:14.740Z"
   },
   {
    "duration": 360,
    "start_time": "2025-03-22T16:10:18.320Z"
   },
   {
    "duration": 305,
    "start_time": "2025-03-22T16:10:27.334Z"
   },
   {
    "duration": 10,
    "start_time": "2025-03-22T16:13:59.040Z"
   },
   {
    "duration": 21,
    "start_time": "2025-03-22T16:14:10.722Z"
   },
   {
    "duration": 14,
    "start_time": "2025-03-22T16:14:52.930Z"
   },
   {
    "duration": 401,
    "start_time": "2025-03-22T16:14:54.623Z"
   },
   {
    "duration": 9,
    "start_time": "2025-03-22T16:15:04.487Z"
   },
   {
    "duration": 370,
    "start_time": "2025-03-22T16:15:05.127Z"
   },
   {
    "duration": 8,
    "start_time": "2025-03-22T16:15:14.294Z"
   },
   {
    "duration": 367,
    "start_time": "2025-03-22T16:15:16.411Z"
   },
   {
    "duration": 9,
    "start_time": "2025-03-22T16:15:30.908Z"
   },
   {
    "duration": 355,
    "start_time": "2025-03-22T16:15:32.923Z"
   },
   {
    "duration": 372,
    "start_time": "2025-03-22T16:16:34.396Z"
   },
   {
    "duration": 14,
    "start_time": "2025-03-22T16:31:15.574Z"
   },
   {
    "duration": 12,
    "start_time": "2025-03-22T16:31:16.988Z"
   },
   {
    "duration": 11,
    "start_time": "2025-03-22T16:31:18.602Z"
   },
   {
    "duration": 111,
    "start_time": "2025-03-22T16:31:22.551Z"
   },
   {
    "duration": 126,
    "start_time": "2025-03-22T16:36:27.923Z"
   },
   {
    "duration": 27,
    "start_time": "2025-03-22T16:37:23.923Z"
   },
   {
    "duration": 19,
    "start_time": "2025-03-22T16:38:51.117Z"
   },
   {
    "duration": 16,
    "start_time": "2025-03-22T16:39:17.011Z"
   },
   {
    "duration": 97,
    "start_time": "2025-03-22T16:39:33.653Z"
   },
   {
    "duration": 27,
    "start_time": "2025-03-22T16:40:03.419Z"
   },
   {
    "duration": 43,
    "start_time": "2025-03-22T16:41:20.781Z"
   },
   {
    "duration": 43,
    "start_time": "2025-03-22T16:42:17.444Z"
   },
   {
    "duration": 43,
    "start_time": "2025-03-22T16:42:21.113Z"
   },
   {
    "duration": 58,
    "start_time": "2025-03-22T16:42:24.642Z"
   },
   {
    "duration": 15,
    "start_time": "2025-03-22T16:44:45.677Z"
   },
   {
    "duration": 60,
    "start_time": "2025-03-22T16:44:50.549Z"
   },
   {
    "duration": 66,
    "start_time": "2025-03-22T16:45:06.515Z"
   },
   {
    "duration": 14,
    "start_time": "2025-03-22T16:46:33.509Z"
   },
   {
    "duration": 5,
    "start_time": "2025-03-22T16:46:53.991Z"
   },
   {
    "duration": 12,
    "start_time": "2025-03-22T16:49:27.191Z"
   },
   {
    "duration": 10,
    "start_time": "2025-03-22T16:49:31.151Z"
   },
   {
    "duration": 22,
    "start_time": "2025-03-22T16:49:44.251Z"
   },
   {
    "duration": 9,
    "start_time": "2025-03-22T16:49:50.310Z"
   },
   {
    "duration": 19,
    "start_time": "2025-03-22T16:50:23.335Z"
   },
   {
    "duration": 13,
    "start_time": "2025-03-22T16:50:28.313Z"
   },
   {
    "duration": 11,
    "start_time": "2025-03-22T16:50:31.675Z"
   },
   {
    "duration": 10,
    "start_time": "2025-03-22T16:50:38.302Z"
   },
   {
    "duration": 12,
    "start_time": "2025-03-22T16:50:40.221Z"
   },
   {
    "duration": 19,
    "start_time": "2025-03-22T17:14:35.700Z"
   },
   {
    "duration": 11,
    "start_time": "2025-03-22T17:15:59.082Z"
   },
   {
    "duration": 12,
    "start_time": "2025-03-22T17:16:07.604Z"
   },
   {
    "duration": 328,
    "start_time": "2025-03-22T17:16:43.375Z"
   },
   {
    "duration": 5,
    "start_time": "2025-03-22T17:17:21.965Z"
   },
   {
    "duration": 317,
    "start_time": "2025-03-22T17:17:30.260Z"
   },
   {
    "duration": 5,
    "start_time": "2025-03-22T17:17:59.659Z"
   },
   {
    "duration": 4,
    "start_time": "2025-03-22T17:18:03.654Z"
   },
   {
    "duration": 8,
    "start_time": "2025-03-22T17:18:10.988Z"
   },
   {
    "duration": 22,
    "start_time": "2025-03-22T17:22:25.614Z"
   },
   {
    "duration": 19,
    "start_time": "2025-03-22T17:23:10.292Z"
   },
   {
    "duration": 3701,
    "start_time": "2025-03-22T17:29:58.007Z"
   },
   {
    "duration": 1847,
    "start_time": "2025-03-22T17:30:01.710Z"
   },
   {
    "duration": 133,
    "start_time": "2025-03-22T17:30:03.559Z"
   },
   {
    "duration": 17,
    "start_time": "2025-03-22T17:30:03.694Z"
   },
   {
    "duration": 106,
    "start_time": "2025-03-22T17:30:03.712Z"
   },
   {
    "duration": 28,
    "start_time": "2025-03-22T17:30:03.820Z"
   },
   {
    "duration": 27,
    "start_time": "2025-03-22T17:30:03.850Z"
   },
   {
    "duration": 4,
    "start_time": "2025-03-22T17:30:03.879Z"
   },
   {
    "duration": 6,
    "start_time": "2025-03-22T17:30:03.884Z"
   },
   {
    "duration": 296,
    "start_time": "2025-03-22T17:30:03.893Z"
   },
   {
    "duration": 14,
    "start_time": "2025-03-22T17:30:04.191Z"
   },
   {
    "duration": 69,
    "start_time": "2025-03-22T17:30:04.206Z"
   },
   {
    "duration": 26,
    "start_time": "2025-03-22T17:30:04.277Z"
   },
   {
    "duration": 52,
    "start_time": "2025-03-22T17:30:04.304Z"
   },
   {
    "duration": 5,
    "start_time": "2025-03-22T17:30:04.357Z"
   },
   {
    "duration": 34,
    "start_time": "2025-03-22T17:30:04.363Z"
   },
   {
    "duration": 447,
    "start_time": "2025-03-22T17:30:04.398Z"
   },
   {
    "duration": 9,
    "start_time": "2025-03-22T17:30:04.847Z"
   },
   {
    "duration": 415,
    "start_time": "2025-03-22T17:30:04.857Z"
   },
   {
    "duration": 12,
    "start_time": "2025-03-22T17:30:05.274Z"
   },
   {
    "duration": 23,
    "start_time": "2025-03-22T17:30:05.288Z"
   },
   {
    "duration": 16,
    "start_time": "2025-03-22T17:30:05.313Z"
   },
   {
    "duration": 10,
    "start_time": "2025-03-22T17:30:05.338Z"
   },
   {
    "duration": 106,
    "start_time": "2025-03-22T17:30:05.351Z"
   },
   {
    "duration": 16,
    "start_time": "2025-03-22T17:30:05.459Z"
   },
   {
    "duration": 101,
    "start_time": "2025-03-22T17:30:05.476Z"
   },
   {
    "duration": 15,
    "start_time": "2025-03-22T17:30:05.579Z"
   },
   {
    "duration": 72,
    "start_time": "2025-03-22T17:30:05.598Z"
   },
   {
    "duration": 14,
    "start_time": "2025-03-22T17:30:05.671Z"
   },
   {
    "duration": 102,
    "start_time": "2025-03-22T17:30:05.686Z"
   },
   {
    "duration": 32,
    "start_time": "2025-03-22T17:30:05.790Z"
   },
   {
    "duration": 123,
    "start_time": "2025-03-22T17:30:05.823Z"
   },
   {
    "duration": 0,
    "start_time": "2025-03-22T17:30:05.948Z"
   },
   {
    "duration": 0,
    "start_time": "2025-03-22T17:30:05.950Z"
   },
   {
    "duration": 0,
    "start_time": "2025-03-22T17:30:05.952Z"
   },
   {
    "duration": 0,
    "start_time": "2025-03-22T17:30:05.953Z"
   },
   {
    "duration": 0,
    "start_time": "2025-03-22T17:30:05.955Z"
   },
   {
    "duration": 0,
    "start_time": "2025-03-22T17:30:05.956Z"
   },
   {
    "duration": 0,
    "start_time": "2025-03-22T17:30:05.957Z"
   },
   {
    "duration": 0,
    "start_time": "2025-03-22T17:30:05.959Z"
   },
   {
    "duration": 0,
    "start_time": "2025-03-22T17:30:05.960Z"
   },
   {
    "duration": 0,
    "start_time": "2025-03-22T17:30:05.962Z"
   },
   {
    "duration": 24,
    "start_time": "2025-03-22T17:30:46.824Z"
   },
   {
    "duration": 1349,
    "start_time": "2025-03-22T20:03:56.639Z"
   },
   {
    "duration": 13,
    "start_time": "2025-03-22T20:04:08.936Z"
   },
   {
    "duration": 45,
    "start_time": "2025-03-22T20:24:48.029Z"
   },
   {
    "duration": 9,
    "start_time": "2025-03-22T20:37:35.266Z"
   },
   {
    "duration": 8983,
    "start_time": "2025-03-22T20:37:56.485Z"
   },
   {
    "duration": 87,
    "start_time": "2025-03-22T20:38:08.962Z"
   },
   {
    "duration": 88,
    "start_time": "2025-03-22T20:38:39.765Z"
   },
   {
    "duration": 3905,
    "start_time": "2025-03-22T20:41:07.660Z"
   },
   {
    "duration": 2140,
    "start_time": "2025-03-22T20:41:11.567Z"
   },
   {
    "duration": 153,
    "start_time": "2025-03-22T20:41:13.709Z"
   },
   {
    "duration": 15,
    "start_time": "2025-03-22T20:41:13.864Z"
   },
   {
    "duration": 67,
    "start_time": "2025-03-22T20:41:13.881Z"
   },
   {
    "duration": 41,
    "start_time": "2025-03-22T20:41:13.950Z"
   },
   {
    "duration": 72,
    "start_time": "2025-03-22T20:41:13.994Z"
   },
   {
    "duration": 4,
    "start_time": "2025-03-22T20:41:14.068Z"
   },
   {
    "duration": 5,
    "start_time": "2025-03-22T20:41:14.074Z"
   },
   {
    "duration": 245,
    "start_time": "2025-03-22T20:41:14.081Z"
   },
   {
    "duration": 26,
    "start_time": "2025-03-22T20:41:14.328Z"
   },
   {
    "duration": 31,
    "start_time": "2025-03-22T20:41:14.355Z"
   },
   {
    "duration": 40,
    "start_time": "2025-03-22T20:41:14.387Z"
   },
   {
    "duration": 44,
    "start_time": "2025-03-22T20:41:14.429Z"
   },
   {
    "duration": 6,
    "start_time": "2025-03-22T20:41:14.475Z"
   },
   {
    "duration": 22,
    "start_time": "2025-03-22T20:41:14.482Z"
   },
   {
    "duration": 458,
    "start_time": "2025-03-22T20:41:14.506Z"
   },
   {
    "duration": 8,
    "start_time": "2025-03-22T20:41:14.966Z"
   },
   {
    "duration": 409,
    "start_time": "2025-03-22T20:41:14.976Z"
   },
   {
    "duration": 13,
    "start_time": "2025-03-22T20:41:15.387Z"
   },
   {
    "duration": 42,
    "start_time": "2025-03-22T20:41:15.401Z"
   },
   {
    "duration": 19,
    "start_time": "2025-03-22T20:41:15.444Z"
   },
   {
    "duration": 8,
    "start_time": "2025-03-22T20:41:15.464Z"
   },
   {
    "duration": 113,
    "start_time": "2025-03-22T20:41:15.473Z"
   },
   {
    "duration": 15,
    "start_time": "2025-03-22T20:41:15.587Z"
   },
   {
    "duration": 62,
    "start_time": "2025-03-22T20:41:15.604Z"
   },
   {
    "duration": 16,
    "start_time": "2025-03-22T20:41:15.667Z"
   },
   {
    "duration": 86,
    "start_time": "2025-03-22T20:41:15.686Z"
   },
   {
    "duration": 13,
    "start_time": "2025-03-22T20:41:15.774Z"
   },
   {
    "duration": 21,
    "start_time": "2025-03-22T20:41:15.789Z"
   },
   {
    "duration": 96,
    "start_time": "2025-03-22T20:41:15.811Z"
   },
   {
    "duration": 50,
    "start_time": "2025-03-22T20:41:15.909Z"
   },
   {
    "duration": 42,
    "start_time": "2025-03-22T20:41:15.961Z"
   },
   {
    "duration": 41,
    "start_time": "2025-03-22T20:41:16.004Z"
   },
   {
    "duration": 15,
    "start_time": "2025-03-22T20:41:16.056Z"
   },
   {
    "duration": 15,
    "start_time": "2025-03-22T20:41:16.073Z"
   },
   {
    "duration": 16,
    "start_time": "2025-03-22T20:41:16.090Z"
   },
   {
    "duration": 29,
    "start_time": "2025-03-22T20:41:16.108Z"
   },
   {
    "duration": 2626,
    "start_time": "2025-03-22T20:41:16.139Z"
   },
   {
    "duration": 87,
    "start_time": "2025-03-22T20:41:18.767Z"
   },
   {
    "duration": 109,
    "start_time": "2025-03-22T20:41:18.855Z"
   },
   {
    "duration": 10,
    "start_time": "2025-03-22T20:41:18.966Z"
   },
   {
    "duration": 43,
    "start_time": "2025-03-22T20:41:18.978Z"
   },
   {
    "duration": 46,
    "start_time": "2025-03-22T20:41:19.022Z"
   },
   {
    "duration": 121,
    "start_time": "2025-03-22T20:44:07.963Z"
   },
   {
    "duration": 169,
    "start_time": "2025-03-22T20:44:20.617Z"
   },
   {
    "duration": 38,
    "start_time": "2025-03-22T20:49:37.554Z"
   },
   {
    "duration": 41,
    "start_time": "2025-03-22T20:49:44.860Z"
   },
   {
    "duration": 2644,
    "start_time": "2025-03-22T20:53:19.822Z"
   },
   {
    "duration": 180,
    "start_time": "2025-03-22T20:53:24.051Z"
   },
   {
    "duration": 3800,
    "start_time": "2025-03-22T20:53:53.217Z"
   },
   {
    "duration": 2993,
    "start_time": "2025-03-22T20:53:57.019Z"
   },
   {
    "duration": 155,
    "start_time": "2025-03-22T20:54:00.014Z"
   },
   {
    "duration": 17,
    "start_time": "2025-03-22T20:54:00.171Z"
   },
   {
    "duration": 123,
    "start_time": "2025-03-22T20:54:00.189Z"
   },
   {
    "duration": 25,
    "start_time": "2025-03-22T20:54:00.314Z"
   },
   {
    "duration": 86,
    "start_time": "2025-03-22T20:54:00.340Z"
   },
   {
    "duration": 29,
    "start_time": "2025-03-22T20:54:00.428Z"
   },
   {
    "duration": 131,
    "start_time": "2025-03-22T20:54:00.459Z"
   },
   {
    "duration": 319,
    "start_time": "2025-03-22T20:54:00.593Z"
   },
   {
    "duration": 21,
    "start_time": "2025-03-22T20:54:00.913Z"
   },
   {
    "duration": 45,
    "start_time": "2025-03-22T20:54:00.935Z"
   },
   {
    "duration": 25,
    "start_time": "2025-03-22T20:54:00.982Z"
   },
   {
    "duration": 63,
    "start_time": "2025-03-22T20:54:01.009Z"
   },
   {
    "duration": 7,
    "start_time": "2025-03-22T20:54:01.073Z"
   },
   {
    "duration": 30,
    "start_time": "2025-03-22T20:54:01.081Z"
   },
   {
    "duration": 497,
    "start_time": "2025-03-22T20:54:01.113Z"
   },
   {
    "duration": 24,
    "start_time": "2025-03-22T20:54:01.612Z"
   },
   {
    "duration": 404,
    "start_time": "2025-03-22T20:54:01.644Z"
   },
   {
    "duration": 16,
    "start_time": "2025-03-22T20:54:02.049Z"
   },
   {
    "duration": 23,
    "start_time": "2025-03-22T20:54:02.067Z"
   },
   {
    "duration": 21,
    "start_time": "2025-03-22T20:54:02.091Z"
   },
   {
    "duration": 15,
    "start_time": "2025-03-22T20:54:02.113Z"
   },
   {
    "duration": 144,
    "start_time": "2025-03-22T20:54:02.133Z"
   },
   {
    "duration": 17,
    "start_time": "2025-03-22T20:54:02.279Z"
   },
   {
    "duration": 128,
    "start_time": "2025-03-22T20:54:02.298Z"
   },
   {
    "duration": 34,
    "start_time": "2025-03-22T20:54:02.427Z"
   },
   {
    "duration": 190,
    "start_time": "2025-03-22T20:54:02.472Z"
   },
   {
    "duration": 20,
    "start_time": "2025-03-22T20:54:02.664Z"
   },
   {
    "duration": 20,
    "start_time": "2025-03-22T20:54:02.687Z"
   },
   {
    "duration": 41,
    "start_time": "2025-03-22T20:54:02.709Z"
   },
   {
    "duration": 24,
    "start_time": "2025-03-22T20:54:02.753Z"
   },
   {
    "duration": 106,
    "start_time": "2025-03-22T20:54:02.778Z"
   },
   {
    "duration": 12,
    "start_time": "2025-03-22T20:54:02.885Z"
   },
   {
    "duration": 13,
    "start_time": "2025-03-22T20:54:02.898Z"
   },
   {
    "duration": 51,
    "start_time": "2025-03-22T20:54:02.913Z"
   },
   {
    "duration": 28,
    "start_time": "2025-03-22T20:54:02.965Z"
   },
   {
    "duration": 2703,
    "start_time": "2025-03-22T20:54:02.994Z"
   },
   {
    "duration": 124,
    "start_time": "2025-03-22T20:54:05.699Z"
   },
   {
    "duration": 0,
    "start_time": "2025-03-22T20:54:05.825Z"
   },
   {
    "duration": 0,
    "start_time": "2025-03-22T20:54:05.830Z"
   },
   {
    "duration": 0,
    "start_time": "2025-03-22T20:54:05.832Z"
   },
   {
    "duration": 0,
    "start_time": "2025-03-22T20:54:05.833Z"
   },
   {
    "duration": 2557,
    "start_time": "2025-03-22T20:54:15.160Z"
   },
   {
    "duration": 167,
    "start_time": "2025-03-22T20:54:20.409Z"
   },
   {
    "duration": 2583,
    "start_time": "2025-03-22T20:55:24.604Z"
   },
   {
    "duration": 168,
    "start_time": "2025-03-22T20:56:55.740Z"
   },
   {
    "duration": 15,
    "start_time": "2025-03-22T21:51:30.068Z"
   },
   {
    "duration": 9,
    "start_time": "2025-03-22T21:51:37.319Z"
   },
   {
    "duration": 64,
    "start_time": "2025-03-22T21:51:46.315Z"
   },
   {
    "duration": 40,
    "start_time": "2025-03-22T21:51:50.946Z"
   },
   {
    "duration": 275,
    "start_time": "2025-03-22T21:51:55.481Z"
   },
   {
    "duration": 72,
    "start_time": "2025-03-22T21:52:23.076Z"
   },
   {
    "duration": 7,
    "start_time": "2025-03-22T21:52:53.261Z"
   },
   {
    "duration": 5,
    "start_time": "2025-03-22T21:53:20.582Z"
   },
   {
    "duration": 105,
    "start_time": "2025-03-22T21:55:02.635Z"
   },
   {
    "duration": 241,
    "start_time": "2025-03-22T21:55:18.530Z"
   },
   {
    "duration": 291,
    "start_time": "2025-03-22T21:58:36.306Z"
   },
   {
    "duration": 269,
    "start_time": "2025-03-22T21:59:37.283Z"
   },
   {
    "duration": 289,
    "start_time": "2025-03-22T22:00:00.545Z"
   },
   {
    "duration": 31,
    "start_time": "2025-03-22T22:01:17.782Z"
   },
   {
    "duration": 403,
    "start_time": "2025-03-22T22:10:20.816Z"
   },
   {
    "duration": 355,
    "start_time": "2025-03-22T22:10:30.010Z"
   },
   {
    "duration": 341,
    "start_time": "2025-03-22T22:11:41.495Z"
   },
   {
    "duration": 3,
    "start_time": "2025-03-22T22:12:03.871Z"
   },
   {
    "duration": 363,
    "start_time": "2025-03-22T22:12:51.724Z"
   },
   {
    "duration": 29,
    "start_time": "2025-03-22T22:13:37.283Z"
   },
   {
    "duration": 54,
    "start_time": "2025-03-22T22:13:43.839Z"
   },
   {
    "duration": 27,
    "start_time": "2025-03-22T22:17:36.850Z"
   },
   {
    "duration": 33,
    "start_time": "2025-03-22T22:19:57.133Z"
   },
   {
    "duration": 37,
    "start_time": "2025-03-22T22:20:32.826Z"
   },
   {
    "duration": 92,
    "start_time": "2025-03-22T22:25:33.610Z"
   },
   {
    "duration": 9,
    "start_time": "2025-03-22T22:25:41.675Z"
   },
   {
    "duration": 21,
    "start_time": "2025-03-22T22:25:48.195Z"
   },
   {
    "duration": 94,
    "start_time": "2025-03-22T22:26:07.600Z"
   },
   {
    "duration": 148,
    "start_time": "2025-03-22T22:26:12.235Z"
   },
   {
    "duration": 45,
    "start_time": "2025-03-22T22:26:32.210Z"
   },
   {
    "duration": 26,
    "start_time": "2025-03-22T22:26:37.947Z"
   },
   {
    "duration": 41,
    "start_time": "2025-03-22T22:27:35.543Z"
   },
   {
    "duration": 3606,
    "start_time": "2025-03-22T22:28:44.299Z"
   },
   {
    "duration": 2356,
    "start_time": "2025-03-22T22:28:47.907Z"
   },
   {
    "duration": 135,
    "start_time": "2025-03-22T22:28:50.265Z"
   },
   {
    "duration": 15,
    "start_time": "2025-03-22T22:28:50.402Z"
   },
   {
    "duration": 54,
    "start_time": "2025-03-22T22:28:50.436Z"
   },
   {
    "duration": 22,
    "start_time": "2025-03-22T22:28:50.491Z"
   },
   {
    "duration": 52,
    "start_time": "2025-03-22T22:28:50.514Z"
   },
   {
    "duration": 4,
    "start_time": "2025-03-22T22:28:50.567Z"
   },
   {
    "duration": 5,
    "start_time": "2025-03-22T22:28:50.573Z"
   },
   {
    "duration": 240,
    "start_time": "2025-03-22T22:28:50.580Z"
   },
   {
    "duration": 32,
    "start_time": "2025-03-22T22:28:50.821Z"
   },
   {
    "duration": 28,
    "start_time": "2025-03-22T22:28:50.858Z"
   },
   {
    "duration": 24,
    "start_time": "2025-03-22T22:28:50.887Z"
   },
   {
    "duration": 50,
    "start_time": "2025-03-22T22:28:50.912Z"
   },
   {
    "duration": 4,
    "start_time": "2025-03-22T22:28:50.964Z"
   },
   {
    "duration": 8,
    "start_time": "2025-03-22T22:28:50.970Z"
   },
   {
    "duration": 408,
    "start_time": "2025-03-22T22:28:50.979Z"
   },
   {
    "duration": 16,
    "start_time": "2025-03-22T22:28:51.388Z"
   },
   {
    "duration": 372,
    "start_time": "2025-03-22T22:28:51.406Z"
   },
   {
    "duration": 11,
    "start_time": "2025-03-22T22:28:51.779Z"
   },
   {
    "duration": 9,
    "start_time": "2025-03-22T22:28:51.792Z"
   },
   {
    "duration": 43,
    "start_time": "2025-03-22T22:28:51.803Z"
   },
   {
    "duration": 4,
    "start_time": "2025-03-22T22:28:51.853Z"
   },
   {
    "duration": 104,
    "start_time": "2025-03-22T22:28:51.859Z"
   },
   {
    "duration": 14,
    "start_time": "2025-03-22T22:28:51.964Z"
   },
   {
    "duration": 67,
    "start_time": "2025-03-22T22:28:51.979Z"
   },
   {
    "duration": 15,
    "start_time": "2025-03-22T22:28:52.053Z"
   },
   {
    "duration": 80,
    "start_time": "2025-03-22T22:28:52.071Z"
   },
   {
    "duration": 15,
    "start_time": "2025-03-22T22:28:52.154Z"
   },
   {
    "duration": 9,
    "start_time": "2025-03-22T22:28:52.171Z"
   },
   {
    "duration": 17,
    "start_time": "2025-03-22T22:28:52.181Z"
   },
   {
    "duration": 20,
    "start_time": "2025-03-22T22:28:52.199Z"
   },
   {
    "duration": 77,
    "start_time": "2025-03-22T22:28:52.220Z"
   },
   {
    "duration": 12,
    "start_time": "2025-03-22T22:28:52.299Z"
   },
   {
    "duration": 13,
    "start_time": "2025-03-22T22:28:52.312Z"
   },
   {
    "duration": 30,
    "start_time": "2025-03-22T22:28:52.327Z"
   },
   {
    "duration": 16,
    "start_time": "2025-03-22T22:28:52.358Z"
   },
   {
    "duration": 2495,
    "start_time": "2025-03-22T22:28:52.376Z"
   },
   {
    "duration": 151,
    "start_time": "2025-03-22T22:28:54.873Z"
   },
   {
    "duration": 88,
    "start_time": "2025-03-22T22:28:55.025Z"
   },
   {
    "duration": 23,
    "start_time": "2025-03-22T22:28:55.114Z"
   },
   {
    "duration": 49,
    "start_time": "2025-03-22T22:28:55.140Z"
   },
   {
    "duration": 27,
    "start_time": "2025-03-22T22:28:55.191Z"
   },
   {
    "duration": 317,
    "start_time": "2025-03-22T22:28:55.220Z"
   },
   {
    "duration": 275,
    "start_time": "2025-03-22T22:28:55.540Z"
   },
   {
    "duration": 55,
    "start_time": "2025-03-22T22:28:55.816Z"
   },
   {
    "duration": 38,
    "start_time": "2025-03-22T22:28:55.872Z"
   },
   {
    "duration": 64,
    "start_time": "2025-03-22T22:28:55.911Z"
   },
   {
    "duration": 23,
    "start_time": "2025-03-22T22:28:55.976Z"
   },
   {
    "duration": 34,
    "start_time": "2025-03-22T22:28:56.001Z"
   },
   {
    "duration": 28,
    "start_time": "2025-03-22T22:31:52.417Z"
   },
   {
    "duration": 252,
    "start_time": "2025-03-22T22:44:56.465Z"
   },
   {
    "duration": 169,
    "start_time": "2025-03-22T22:45:17.488Z"
   },
   {
    "duration": 162,
    "start_time": "2025-03-22T22:45:30.388Z"
   },
   {
    "duration": 122,
    "start_time": "2025-03-22T22:45:56.741Z"
   },
   {
    "duration": 216,
    "start_time": "2025-03-22T22:46:09.681Z"
   },
   {
    "duration": 148,
    "start_time": "2025-03-22T22:47:06.555Z"
   },
   {
    "duration": 162,
    "start_time": "2025-03-22T22:47:32.135Z"
   },
   {
    "duration": 151,
    "start_time": "2025-03-22T22:48:03.550Z"
   },
   {
    "duration": 152,
    "start_time": "2025-03-22T22:48:07.706Z"
   },
   {
    "duration": 136,
    "start_time": "2025-03-22T22:48:15.890Z"
   },
   {
    "duration": 325,
    "start_time": "2025-03-22T22:48:58.781Z"
   },
   {
    "duration": 306,
    "start_time": "2025-03-22T22:49:50.583Z"
   },
   {
    "duration": 306,
    "start_time": "2025-03-22T22:49:55.575Z"
   },
   {
    "duration": 310,
    "start_time": "2025-03-22T22:52:16.973Z"
   },
   {
    "duration": 9,
    "start_time": "2025-03-22T22:53:28.597Z"
   },
   {
    "duration": 30,
    "start_time": "2025-03-22T22:53:34.948Z"
   },
   {
    "duration": 8,
    "start_time": "2025-03-22T22:54:34.712Z"
   },
   {
    "duration": 13,
    "start_time": "2025-03-22T22:54:46.604Z"
   },
   {
    "duration": 38,
    "start_time": "2025-03-22T22:55:56.016Z"
   },
   {
    "duration": 3,
    "start_time": "2025-03-22T23:04:02.868Z"
   },
   {
    "duration": 41,
    "start_time": "2025-03-22T23:04:14.410Z"
   },
   {
    "duration": 21,
    "start_time": "2025-03-22T23:06:56.071Z"
   },
   {
    "duration": 148,
    "start_time": "2025-03-22T23:35:29.415Z"
   },
   {
    "duration": 183,
    "start_time": "2025-03-22T23:35:53.940Z"
   },
   {
    "duration": 217,
    "start_time": "2025-03-22T23:36:14.146Z"
   },
   {
    "duration": 166,
    "start_time": "2025-03-22T23:37:05.455Z"
   },
   {
    "duration": 237,
    "start_time": "2025-03-22T23:37:08.484Z"
   },
   {
    "duration": 3747,
    "start_time": "2025-03-22T23:37:46.754Z"
   },
   {
    "duration": 2987,
    "start_time": "2025-03-22T23:37:50.503Z"
   },
   {
    "duration": 158,
    "start_time": "2025-03-22T23:37:53.491Z"
   },
   {
    "duration": 18,
    "start_time": "2025-03-22T23:37:53.656Z"
   },
   {
    "duration": 47,
    "start_time": "2025-03-22T23:37:53.675Z"
   },
   {
    "duration": 40,
    "start_time": "2025-03-22T23:37:53.724Z"
   },
   {
    "duration": 30,
    "start_time": "2025-03-22T23:37:53.765Z"
   },
   {
    "duration": 4,
    "start_time": "2025-03-22T23:37:53.797Z"
   },
   {
    "duration": 5,
    "start_time": "2025-03-22T23:37:53.802Z"
   },
   {
    "duration": 259,
    "start_time": "2025-03-22T23:37:53.833Z"
   },
   {
    "duration": 15,
    "start_time": "2025-03-22T23:37:54.094Z"
   },
   {
    "duration": 59,
    "start_time": "2025-03-22T23:37:54.111Z"
   },
   {
    "duration": 24,
    "start_time": "2025-03-22T23:37:54.172Z"
   },
   {
    "duration": 58,
    "start_time": "2025-03-22T23:37:54.198Z"
   },
   {
    "duration": 4,
    "start_time": "2025-03-22T23:37:54.258Z"
   },
   {
    "duration": 26,
    "start_time": "2025-03-22T23:37:54.263Z"
   },
   {
    "duration": 404,
    "start_time": "2025-03-22T23:37:54.290Z"
   },
   {
    "duration": 8,
    "start_time": "2025-03-22T23:37:54.695Z"
   },
   {
    "duration": 375,
    "start_time": "2025-03-22T23:37:54.704Z"
   },
   {
    "duration": 13,
    "start_time": "2025-03-22T23:37:55.080Z"
   },
   {
    "duration": 88,
    "start_time": "2025-03-22T23:37:55.094Z"
   },
   {
    "duration": 17,
    "start_time": "2025-03-22T23:37:55.183Z"
   },
   {
    "duration": 63,
    "start_time": "2025-03-22T23:37:55.202Z"
   },
   {
    "duration": 117,
    "start_time": "2025-03-22T23:37:55.266Z"
   },
   {
    "duration": 15,
    "start_time": "2025-03-22T23:37:55.384Z"
   },
   {
    "duration": 64,
    "start_time": "2025-03-22T23:37:55.401Z"
   },
   {
    "duration": 15,
    "start_time": "2025-03-22T23:37:55.467Z"
   },
   {
    "duration": 73,
    "start_time": "2025-03-22T23:37:55.486Z"
   },
   {
    "duration": 14,
    "start_time": "2025-03-22T23:37:55.561Z"
   },
   {
    "duration": 6,
    "start_time": "2025-03-22T23:37:55.577Z"
   },
   {
    "duration": 15,
    "start_time": "2025-03-22T23:37:55.585Z"
   },
   {
    "duration": 57,
    "start_time": "2025-03-22T23:37:55.601Z"
   },
   {
    "duration": 42,
    "start_time": "2025-03-22T23:37:55.659Z"
   },
   {
    "duration": 11,
    "start_time": "2025-03-22T23:37:55.703Z"
   },
   {
    "duration": 39,
    "start_time": "2025-03-22T23:37:55.716Z"
   },
   {
    "duration": 15,
    "start_time": "2025-03-22T23:37:55.756Z"
   },
   {
    "duration": 17,
    "start_time": "2025-03-22T23:37:55.773Z"
   },
   {
    "duration": 2563,
    "start_time": "2025-03-22T23:37:55.792Z"
   },
   {
    "duration": 152,
    "start_time": "2025-03-22T23:37:58.357Z"
   },
   {
    "duration": 103,
    "start_time": "2025-03-22T23:37:58.511Z"
   },
   {
    "duration": 17,
    "start_time": "2025-03-22T23:37:58.617Z"
   },
   {
    "duration": 48,
    "start_time": "2025-03-22T23:37:58.637Z"
   },
   {
    "duration": 27,
    "start_time": "2025-03-22T23:37:58.687Z"
   },
   {
    "duration": 295,
    "start_time": "2025-03-22T23:37:58.715Z"
   },
   {
    "duration": 299,
    "start_time": "2025-03-22T23:37:59.012Z"
   },
   {
    "duration": 60,
    "start_time": "2025-03-22T23:37:59.313Z"
   },
   {
    "duration": 60,
    "start_time": "2025-03-22T23:37:59.374Z"
   },
   {
    "duration": 53,
    "start_time": "2025-03-22T23:37:59.435Z"
   },
   {
    "duration": 24,
    "start_time": "2025-03-22T23:37:59.489Z"
   },
   {
    "duration": 47,
    "start_time": "2025-03-22T23:37:59.515Z"
   },
   {
    "duration": 38,
    "start_time": "2025-03-22T23:37:59.564Z"
   },
   {
    "duration": 54,
    "start_time": "2025-03-22T23:37:59.603Z"
   },
   {
    "duration": 3,
    "start_time": "2025-03-22T23:37:59.658Z"
   },
   {
    "duration": 44,
    "start_time": "2025-03-22T23:37:59.663Z"
   },
   {
    "duration": 369,
    "start_time": "2025-03-22T23:37:59.709Z"
   },
   {
    "duration": 317,
    "start_time": "2025-03-22T23:38:00.080Z"
   },
   {
    "duration": 305,
    "start_time": "2025-03-22T23:38:00.398Z"
   },
   {
    "duration": 173,
    "start_time": "2025-03-22T23:39:00.513Z"
   },
   {
    "duration": 253,
    "start_time": "2025-03-22T23:39:13.122Z"
   },
   {
    "duration": 173,
    "start_time": "2025-03-22T23:44:04.200Z"
   },
   {
    "duration": 197,
    "start_time": "2025-03-22T23:44:13.950Z"
   },
   {
    "duration": 185,
    "start_time": "2025-03-22T23:45:39.975Z"
   },
   {
    "duration": 334,
    "start_time": "2025-03-22T23:46:14.082Z"
   },
   {
    "duration": 328,
    "start_time": "2025-03-22T23:46:20.162Z"
   },
   {
    "duration": 316,
    "start_time": "2025-03-22T23:47:20.639Z"
   },
   {
    "duration": 180,
    "start_time": "2025-03-22T23:47:43.402Z"
   },
   {
    "duration": 165,
    "start_time": "2025-03-22T23:47:55.855Z"
   },
   {
    "duration": 179,
    "start_time": "2025-03-22T23:48:16.239Z"
   },
   {
    "duration": 179,
    "start_time": "2025-03-22T23:48:21.781Z"
   },
   {
    "duration": 261,
    "start_time": "2025-03-22T23:49:17.743Z"
   },
   {
    "duration": 19,
    "start_time": "2025-03-22T23:55:04.439Z"
   },
   {
    "duration": 249,
    "start_time": "2025-03-22T23:55:40.542Z"
   },
   {
    "duration": 19,
    "start_time": "2025-03-22T23:56:19.685Z"
   },
   {
    "duration": 321,
    "start_time": "2025-03-22T23:56:43.060Z"
   },
   {
    "duration": 334,
    "start_time": "2025-03-22T23:57:11.686Z"
   },
   {
    "duration": 289,
    "start_time": "2025-03-22T23:57:34.023Z"
   },
   {
    "duration": 296,
    "start_time": "2025-03-22T23:57:44.025Z"
   },
   {
    "duration": 424,
    "start_time": "2025-03-22T23:57:53.848Z"
   },
   {
    "duration": 357,
    "start_time": "2025-03-22T23:58:17.825Z"
   },
   {
    "duration": 15,
    "start_time": "2025-03-23T00:02:57.368Z"
   },
   {
    "duration": 365,
    "start_time": "2025-03-23T00:04:48.687Z"
   },
   {
    "duration": 5,
    "start_time": "2025-03-23T00:06:07.142Z"
   },
   {
    "duration": 7,
    "start_time": "2025-03-23T00:07:01.167Z"
   },
   {
    "duration": 56,
    "start_time": "2025-03-23T10:59:27.977Z"
   },
   {
    "duration": 4617,
    "start_time": "2025-03-23T10:59:34.585Z"
   },
   {
    "duration": 2168,
    "start_time": "2025-03-23T10:59:39.204Z"
   },
   {
    "duration": 138,
    "start_time": "2025-03-23T10:59:41.373Z"
   },
   {
    "duration": 25,
    "start_time": "2025-03-23T10:59:41.512Z"
   },
   {
    "duration": 69,
    "start_time": "2025-03-23T10:59:41.538Z"
   },
   {
    "duration": 28,
    "start_time": "2025-03-23T10:59:41.608Z"
   },
   {
    "duration": 27,
    "start_time": "2025-03-23T10:59:41.637Z"
   },
   {
    "duration": 3,
    "start_time": "2025-03-23T10:59:41.666Z"
   },
   {
    "duration": 4,
    "start_time": "2025-03-23T10:59:41.671Z"
   },
   {
    "duration": 236,
    "start_time": "2025-03-23T10:59:41.677Z"
   },
   {
    "duration": 19,
    "start_time": "2025-03-23T10:59:41.914Z"
   },
   {
    "duration": 28,
    "start_time": "2025-03-23T10:59:41.935Z"
   },
   {
    "duration": 24,
    "start_time": "2025-03-23T10:59:41.964Z"
   },
   {
    "duration": 64,
    "start_time": "2025-03-23T10:59:41.991Z"
   },
   {
    "duration": 4,
    "start_time": "2025-03-23T10:59:42.057Z"
   },
   {
    "duration": 81,
    "start_time": "2025-03-23T10:59:42.062Z"
   },
   {
    "duration": 436,
    "start_time": "2025-03-23T10:59:42.145Z"
   },
   {
    "duration": 8,
    "start_time": "2025-03-23T10:59:42.583Z"
   },
   {
    "duration": 375,
    "start_time": "2025-03-23T10:59:42.592Z"
   },
   {
    "duration": 13,
    "start_time": "2025-03-23T10:59:42.969Z"
   },
   {
    "duration": 12,
    "start_time": "2025-03-23T10:59:42.983Z"
   },
   {
    "duration": 13,
    "start_time": "2025-03-23T10:59:42.996Z"
   },
   {
    "duration": 2,
    "start_time": "2025-03-23T10:59:43.010Z"
   },
   {
    "duration": 113,
    "start_time": "2025-03-23T10:59:43.030Z"
   },
   {
    "duration": 16,
    "start_time": "2025-03-23T10:59:43.145Z"
   },
   {
    "duration": 42,
    "start_time": "2025-03-23T10:59:43.162Z"
   },
   {
    "duration": 28,
    "start_time": "2025-03-23T10:59:43.205Z"
   },
   {
    "duration": 62,
    "start_time": "2025-03-23T10:59:43.234Z"
   },
   {
    "duration": 13,
    "start_time": "2025-03-23T10:59:43.297Z"
   },
   {
    "duration": 19,
    "start_time": "2025-03-23T10:59:43.311Z"
   },
   {
    "duration": 15,
    "start_time": "2025-03-23T10:59:43.332Z"
   },
   {
    "duration": 19,
    "start_time": "2025-03-23T10:59:43.349Z"
   },
   {
    "duration": 65,
    "start_time": "2025-03-23T10:59:43.370Z"
   },
   {
    "duration": 12,
    "start_time": "2025-03-23T10:59:43.436Z"
   },
   {
    "duration": 13,
    "start_time": "2025-03-23T10:59:43.450Z"
   },
   {
    "duration": 13,
    "start_time": "2025-03-23T10:59:43.465Z"
   },
   {
    "duration": 101,
    "start_time": "2025-03-23T10:59:43.479Z"
   },
   {
    "duration": 7752,
    "start_time": "2025-03-23T10:59:43.582Z"
   },
   {
    "duration": 174,
    "start_time": "2025-03-23T10:59:51.336Z"
   },
   {
    "duration": 84,
    "start_time": "2025-03-23T10:59:51.511Z"
   },
   {
    "duration": 7,
    "start_time": "2025-03-23T10:59:51.599Z"
   },
   {
    "duration": 51,
    "start_time": "2025-03-23T10:59:51.607Z"
   },
   {
    "duration": 32,
    "start_time": "2025-03-23T10:59:51.660Z"
   },
   {
    "duration": 259,
    "start_time": "2025-03-23T10:59:51.693Z"
   },
   {
    "duration": 261,
    "start_time": "2025-03-23T10:59:51.953Z"
   },
   {
    "duration": 48,
    "start_time": "2025-03-23T10:59:52.215Z"
   },
   {
    "duration": 38,
    "start_time": "2025-03-23T10:59:52.265Z"
   },
   {
    "duration": 59,
    "start_time": "2025-03-23T10:59:52.304Z"
   },
   {
    "duration": 22,
    "start_time": "2025-03-23T10:59:52.365Z"
   },
   {
    "duration": 35,
    "start_time": "2025-03-23T10:59:52.389Z"
   },
   {
    "duration": 41,
    "start_time": "2025-03-23T10:59:52.426Z"
   },
   {
    "duration": 31,
    "start_time": "2025-03-23T10:59:52.469Z"
   },
   {
    "duration": 2,
    "start_time": "2025-03-23T10:59:52.502Z"
   },
   {
    "duration": 37,
    "start_time": "2025-03-23T10:59:52.505Z"
   },
   {
    "duration": 7,
    "start_time": "2025-03-23T10:59:52.543Z"
   },
   {
    "duration": 346,
    "start_time": "2025-03-23T10:59:52.551Z"
   },
   {
    "duration": 288,
    "start_time": "2025-03-23T10:59:52.899Z"
   },
   {
    "duration": 358,
    "start_time": "2025-03-23T10:59:53.189Z"
   },
   {
    "duration": 336,
    "start_time": "2025-03-23T11:00:05.729Z"
   },
   {
    "duration": 302,
    "start_time": "2025-03-23T11:01:48.151Z"
   },
   {
    "duration": 354,
    "start_time": "2025-03-23T11:02:27.912Z"
   },
   {
    "duration": 266,
    "start_time": "2025-03-23T11:06:52.066Z"
   },
   {
    "duration": 9,
    "start_time": "2025-03-23T11:10:46.155Z"
   },
   {
    "duration": 12,
    "start_time": "2025-03-23T11:10:55.552Z"
   },
   {
    "duration": 97,
    "start_time": "2025-03-23T11:30:59.078Z"
   },
   {
    "duration": 19,
    "start_time": "2025-03-23T11:31:07.224Z"
   },
   {
    "duration": 3447,
    "start_time": "2025-03-23T11:35:49.289Z"
   },
   {
    "duration": 1830,
    "start_time": "2025-03-23T11:35:52.738Z"
   },
   {
    "duration": 127,
    "start_time": "2025-03-23T11:35:54.569Z"
   },
   {
    "duration": 31,
    "start_time": "2025-03-23T11:35:54.698Z"
   },
   {
    "duration": 46,
    "start_time": "2025-03-23T11:35:54.731Z"
   },
   {
    "duration": 55,
    "start_time": "2025-03-23T11:35:54.779Z"
   },
   {
    "duration": 30,
    "start_time": "2025-03-23T11:35:54.836Z"
   },
   {
    "duration": 42,
    "start_time": "2025-03-23T11:35:54.868Z"
   },
   {
    "duration": 7,
    "start_time": "2025-03-23T11:35:54.912Z"
   },
   {
    "duration": 224,
    "start_time": "2025-03-23T11:35:54.921Z"
   },
   {
    "duration": 14,
    "start_time": "2025-03-23T11:35:55.147Z"
   },
   {
    "duration": 28,
    "start_time": "2025-03-23T11:35:55.162Z"
   },
   {
    "duration": 71,
    "start_time": "2025-03-23T11:35:55.192Z"
   },
   {
    "duration": 38,
    "start_time": "2025-03-23T11:35:55.265Z"
   },
   {
    "duration": 46,
    "start_time": "2025-03-23T11:35:55.304Z"
   },
   {
    "duration": 9,
    "start_time": "2025-03-23T11:35:55.352Z"
   },
   {
    "duration": 416,
    "start_time": "2025-03-23T11:35:55.363Z"
   },
   {
    "duration": 8,
    "start_time": "2025-03-23T11:35:55.780Z"
   },
   {
    "duration": 357,
    "start_time": "2025-03-23T11:35:55.790Z"
   },
   {
    "duration": 15,
    "start_time": "2025-03-23T11:35:56.149Z"
   },
   {
    "duration": 12,
    "start_time": "2025-03-23T11:35:56.166Z"
   },
   {
    "duration": 24,
    "start_time": "2025-03-23T11:35:56.180Z"
   },
   {
    "duration": 3,
    "start_time": "2025-03-23T11:35:56.229Z"
   },
   {
    "duration": 115,
    "start_time": "2025-03-23T11:35:56.234Z"
   },
   {
    "duration": 16,
    "start_time": "2025-03-23T11:35:56.351Z"
   },
   {
    "duration": 67,
    "start_time": "2025-03-23T11:35:56.369Z"
   },
   {
    "duration": 18,
    "start_time": "2025-03-23T11:35:56.437Z"
   },
   {
    "duration": 84,
    "start_time": "2025-03-23T11:35:56.461Z"
   },
   {
    "duration": 16,
    "start_time": "2025-03-23T11:35:56.547Z"
   },
   {
    "duration": 9,
    "start_time": "2025-03-23T11:35:56.565Z"
   },
   {
    "duration": 60,
    "start_time": "2025-03-23T11:35:56.576Z"
   },
   {
    "duration": 22,
    "start_time": "2025-03-23T11:35:56.638Z"
   },
   {
    "duration": 71,
    "start_time": "2025-03-23T11:35:56.662Z"
   },
   {
    "duration": 14,
    "start_time": "2025-03-23T11:35:56.735Z"
   },
   {
    "duration": 21,
    "start_time": "2025-03-23T11:35:56.751Z"
   },
   {
    "duration": 15,
    "start_time": "2025-03-23T11:35:56.774Z"
   },
   {
    "duration": 52,
    "start_time": "2025-03-23T11:35:56.791Z"
   },
   {
    "duration": 2323,
    "start_time": "2025-03-23T11:35:56.845Z"
   },
   {
    "duration": 140,
    "start_time": "2025-03-23T11:35:59.170Z"
   },
   {
    "duration": 89,
    "start_time": "2025-03-23T11:35:59.311Z"
   },
   {
    "duration": 6,
    "start_time": "2025-03-23T11:35:59.402Z"
   },
   {
    "duration": 49,
    "start_time": "2025-03-23T11:35:59.409Z"
   },
   {
    "duration": 26,
    "start_time": "2025-03-23T11:35:59.460Z"
   },
   {
    "duration": 254,
    "start_time": "2025-03-23T11:35:59.488Z"
   },
   {
    "duration": 251,
    "start_time": "2025-03-23T11:35:59.743Z"
   },
   {
    "duration": 56,
    "start_time": "2025-03-23T11:35:59.995Z"
   },
   {
    "duration": 37,
    "start_time": "2025-03-23T11:36:00.053Z"
   },
   {
    "duration": 57,
    "start_time": "2025-03-23T11:36:00.091Z"
   },
   {
    "duration": 50,
    "start_time": "2025-03-23T11:36:00.150Z"
   },
   {
    "duration": 19,
    "start_time": "2025-03-23T11:36:00.202Z"
   },
   {
    "duration": 40,
    "start_time": "2025-03-23T11:36:00.223Z"
   },
   {
    "duration": 112,
    "start_time": "2025-03-23T11:36:00.264Z"
   },
   {
    "duration": 3,
    "start_time": "2025-03-23T11:36:00.377Z"
   },
   {
    "duration": 38,
    "start_time": "2025-03-23T11:36:00.381Z"
   },
   {
    "duration": 7,
    "start_time": "2025-03-23T11:36:00.420Z"
   },
   {
    "duration": 363,
    "start_time": "2025-03-23T11:36:00.428Z"
   },
   {
    "duration": 300,
    "start_time": "2025-03-23T11:36:00.793Z"
   },
   {
    "duration": 401,
    "start_time": "2025-03-23T11:36:01.095Z"
   },
   {
    "duration": 263,
    "start_time": "2025-03-23T11:36:01.498Z"
   },
   {
    "duration": 11,
    "start_time": "2025-03-23T11:36:01.763Z"
   },
   {
    "duration": 62,
    "start_time": "2025-03-23T11:36:01.776Z"
   },
   {
    "duration": 12,
    "start_time": "2025-03-23T11:43:24.969Z"
   },
   {
    "duration": 12,
    "start_time": "2025-03-23T11:49:59.343Z"
   },
   {
    "duration": 53,
    "start_time": "2025-03-23T11:55:17.338Z"
   },
   {
    "duration": 44,
    "start_time": "2025-03-23T11:59:16.236Z"
   },
   {
    "duration": 7,
    "start_time": "2025-03-23T11:59:36.205Z"
   },
   {
    "duration": 27,
    "start_time": "2025-03-23T12:00:48.969Z"
   },
   {
    "duration": 5,
    "start_time": "2025-03-23T12:01:03.698Z"
   },
   {
    "duration": 24,
    "start_time": "2025-03-23T12:01:05.215Z"
   },
   {
    "duration": 85,
    "start_time": "2025-03-23T12:06:25.016Z"
   },
   {
    "duration": 97,
    "start_time": "2025-03-23T12:07:16.657Z"
   },
   {
    "duration": 7,
    "start_time": "2025-03-23T12:09:48.297Z"
   },
   {
    "duration": 6,
    "start_time": "2025-03-23T12:15:09.628Z"
   },
   {
    "duration": 6,
    "start_time": "2025-03-23T12:15:49.536Z"
   },
   {
    "duration": 6,
    "start_time": "2025-03-23T12:19:04.445Z"
   },
   {
    "duration": 3,
    "start_time": "2025-03-23T12:22:56.369Z"
   },
   {
    "duration": 4,
    "start_time": "2025-03-23T12:28:57.070Z"
   },
   {
    "duration": 3,
    "start_time": "2025-03-23T12:29:16.260Z"
   },
   {
    "duration": 3,
    "start_time": "2025-03-23T12:29:23.426Z"
   },
   {
    "duration": 4,
    "start_time": "2025-03-23T12:30:13.127Z"
   },
   {
    "duration": 3,
    "start_time": "2025-03-23T12:30:22.025Z"
   },
   {
    "duration": 3,
    "start_time": "2025-03-23T12:30:34.321Z"
   },
   {
    "duration": 3,
    "start_time": "2025-03-23T12:30:54.062Z"
   },
   {
    "duration": 5,
    "start_time": "2025-03-23T12:35:47.571Z"
   },
   {
    "duration": 5,
    "start_time": "2025-03-23T12:35:51.833Z"
   },
   {
    "duration": 5,
    "start_time": "2025-03-23T12:35:58.577Z"
   },
   {
    "duration": 6,
    "start_time": "2025-03-23T12:36:17.251Z"
   },
   {
    "duration": 5,
    "start_time": "2025-03-23T12:36:25.206Z"
   },
   {
    "duration": 5,
    "start_time": "2025-03-23T12:36:36.714Z"
   },
   {
    "duration": 6,
    "start_time": "2025-03-23T12:36:48.272Z"
   },
   {
    "duration": 5,
    "start_time": "2025-03-23T12:36:53.283Z"
   },
   {
    "duration": 5,
    "start_time": "2025-03-23T12:36:57.924Z"
   },
   {
    "duration": 4,
    "start_time": "2025-03-23T12:39:18.211Z"
   },
   {
    "duration": 4,
    "start_time": "2025-03-23T12:39:30.487Z"
   },
   {
    "duration": 3,
    "start_time": "2025-03-23T12:39:46.224Z"
   },
   {
    "duration": 4,
    "start_time": "2025-03-23T12:41:12.074Z"
   },
   {
    "duration": 3,
    "start_time": "2025-03-23T12:41:23.467Z"
   },
   {
    "duration": 18,
    "start_time": "2025-03-23T13:50:27.055Z"
   },
   {
    "duration": 6,
    "start_time": "2025-03-23T13:52:04.770Z"
   },
   {
    "duration": 5,
    "start_time": "2025-03-23T13:52:50.158Z"
   },
   {
    "duration": 6,
    "start_time": "2025-03-23T13:53:33.163Z"
   },
   {
    "duration": 4,
    "start_time": "2025-03-23T13:53:40.756Z"
   },
   {
    "duration": 106,
    "start_time": "2025-03-23T13:57:38.546Z"
   },
   {
    "duration": 20,
    "start_time": "2025-03-23T13:58:13.120Z"
   },
   {
    "duration": 19,
    "start_time": "2025-03-23T13:58:24.120Z"
   },
   {
    "duration": 25,
    "start_time": "2025-03-23T13:59:12.103Z"
   },
   {
    "duration": 25,
    "start_time": "2025-03-23T13:59:19.630Z"
   },
   {
    "duration": 21,
    "start_time": "2025-03-23T14:00:10.518Z"
   },
   {
    "duration": 20,
    "start_time": "2025-03-23T14:01:05.929Z"
   },
   {
    "duration": 19,
    "start_time": "2025-03-23T14:02:27.179Z"
   },
   {
    "duration": 19,
    "start_time": "2025-03-23T14:08:50.629Z"
   },
   {
    "duration": 22,
    "start_time": "2025-03-23T14:08:55.419Z"
   },
   {
    "duration": 19,
    "start_time": "2025-03-23T14:09:06.332Z"
   },
   {
    "duration": 29,
    "start_time": "2025-03-23T14:09:12.892Z"
   },
   {
    "duration": 20,
    "start_time": "2025-03-23T14:11:59.993Z"
   },
   {
    "duration": 19,
    "start_time": "2025-03-23T14:12:52.867Z"
   },
   {
    "duration": 20,
    "start_time": "2025-03-23T14:12:56.112Z"
   },
   {
    "duration": 21,
    "start_time": "2025-03-23T14:13:02.154Z"
   },
   {
    "duration": 18,
    "start_time": "2025-03-23T14:18:59.895Z"
   },
   {
    "duration": 4,
    "start_time": "2025-03-23T14:25:16.438Z"
   },
   {
    "duration": 1434,
    "start_time": "2025-03-23T14:25:37.747Z"
   },
   {
    "duration": 4,
    "start_time": "2025-03-23T14:25:51.273Z"
   },
   {
    "duration": 10,
    "start_time": "2025-03-23T14:26:34.623Z"
   },
   {
    "duration": 21,
    "start_time": "2025-03-23T14:28:18.358Z"
   },
   {
    "duration": 36,
    "start_time": "2025-03-23T14:29:32.126Z"
   },
   {
    "duration": 7,
    "start_time": "2025-03-23T14:29:35.178Z"
   },
   {
    "duration": 4,
    "start_time": "2025-03-23T14:29:36.630Z"
   },
   {
    "duration": 10,
    "start_time": "2025-03-23T14:29:39.253Z"
   },
   {
    "duration": 10,
    "start_time": "2025-03-23T14:29:57.248Z"
   },
   {
    "duration": 9,
    "start_time": "2025-03-23T14:30:05.241Z"
   },
   {
    "duration": 9,
    "start_time": "2025-03-23T14:30:16.022Z"
   },
   {
    "duration": 24,
    "start_time": "2025-03-23T14:30:25.856Z"
   },
   {
    "duration": 20,
    "start_time": "2025-03-23T14:31:01.128Z"
   },
   {
    "duration": 5,
    "start_time": "2025-03-23T14:32:25.081Z"
   },
   {
    "duration": 20,
    "start_time": "2025-03-23T14:32:27.502Z"
   },
   {
    "duration": 3,
    "start_time": "2025-03-23T14:38:26.360Z"
   },
   {
    "duration": 10,
    "start_time": "2025-03-23T14:39:17.436Z"
   },
   {
    "duration": 1456,
    "start_time": "2025-03-23T14:40:18.707Z"
   },
   {
    "duration": 128,
    "start_time": "2025-03-23T14:40:32.078Z"
   },
   {
    "duration": 194,
    "start_time": "2025-03-23T14:40:42.595Z"
   },
   {
    "duration": 95,
    "start_time": "2025-03-23T14:40:50.616Z"
   },
   {
    "duration": 16,
    "start_time": "2025-03-23T14:41:37.940Z"
   },
   {
    "duration": 1454,
    "start_time": "2025-03-23T14:41:48.730Z"
   },
   {
    "duration": 1519,
    "start_time": "2025-03-23T14:42:00.580Z"
   },
   {
    "duration": 12,
    "start_time": "2025-03-23T14:42:06.309Z"
   },
   {
    "duration": 97,
    "start_time": "2025-03-23T14:42:57.120Z"
   },
   {
    "duration": 14,
    "start_time": "2025-03-23T14:43:05.548Z"
   },
   {
    "duration": 10,
    "start_time": "2025-03-23T14:44:06.026Z"
   },
   {
    "duration": 9,
    "start_time": "2025-03-23T14:45:32.555Z"
   },
   {
    "duration": 9,
    "start_time": "2025-03-23T14:53:43.558Z"
   },
   {
    "duration": 12,
    "start_time": "2025-03-23T14:54:07.631Z"
   },
   {
    "duration": 10,
    "start_time": "2025-03-23T15:06:18.291Z"
   },
   {
    "duration": 10,
    "start_time": "2025-03-23T15:06:21.242Z"
   },
   {
    "duration": 26,
    "start_time": "2025-03-23T15:06:29.579Z"
   },
   {
    "duration": 6,
    "start_time": "2025-03-23T15:07:01.285Z"
   },
   {
    "duration": 6,
    "start_time": "2025-03-23T15:07:08.813Z"
   },
   {
    "duration": 20,
    "start_time": "2025-03-23T15:07:24.362Z"
   },
   {
    "duration": 5,
    "start_time": "2025-03-23T15:07:46.907Z"
   },
   {
    "duration": 5,
    "start_time": "2025-03-23T15:10:32.952Z"
   },
   {
    "duration": 11,
    "start_time": "2025-03-23T15:12:15.733Z"
   },
   {
    "duration": 13,
    "start_time": "2025-03-23T15:14:22.518Z"
   },
   {
    "duration": 15,
    "start_time": "2025-03-23T15:17:57.886Z"
   },
   {
    "duration": 15,
    "start_time": "2025-03-23T15:18:08.788Z"
   },
   {
    "duration": 91,
    "start_time": "2025-03-23T15:18:58.369Z"
   },
   {
    "duration": 271,
    "start_time": "2025-03-23T15:19:12.414Z"
   },
   {
    "duration": 104,
    "start_time": "2025-03-23T15:19:26.726Z"
   },
   {
    "duration": 301,
    "start_time": "2025-03-23T15:20:18.698Z"
   },
   {
    "duration": 311,
    "start_time": "2025-03-23T15:20:24.183Z"
   },
   {
    "duration": 306,
    "start_time": "2025-03-23T15:21:56.975Z"
   },
   {
    "duration": 299,
    "start_time": "2025-03-23T15:22:07.911Z"
   },
   {
    "duration": 270,
    "start_time": "2025-03-23T15:22:26.549Z"
   },
   {
    "duration": 14,
    "start_time": "2025-03-23T15:23:42.118Z"
   },
   {
    "duration": 16,
    "start_time": "2025-03-23T15:24:06.553Z"
   },
   {
    "duration": 332,
    "start_time": "2025-03-23T15:24:08.983Z"
   },
   {
    "duration": 3500,
    "start_time": "2025-03-23T16:28:54.595Z"
   },
   {
    "duration": 2060,
    "start_time": "2025-03-23T16:28:58.097Z"
   },
   {
    "duration": 121,
    "start_time": "2025-03-23T16:29:00.158Z"
   },
   {
    "duration": 15,
    "start_time": "2025-03-23T16:29:00.281Z"
   },
   {
    "duration": 55,
    "start_time": "2025-03-23T16:29:00.297Z"
   },
   {
    "duration": 21,
    "start_time": "2025-03-23T16:29:00.354Z"
   },
   {
    "duration": 30,
    "start_time": "2025-03-23T16:29:00.377Z"
   },
   {
    "duration": 4,
    "start_time": "2025-03-23T16:29:00.409Z"
   },
   {
    "duration": 11,
    "start_time": "2025-03-23T16:29:00.430Z"
   },
   {
    "duration": 222,
    "start_time": "2025-03-23T16:29:00.443Z"
   },
   {
    "duration": 14,
    "start_time": "2025-03-23T16:29:00.667Z"
   },
   {
    "duration": 184,
    "start_time": "2025-03-23T16:29:00.683Z"
   },
   {
    "duration": 24,
    "start_time": "2025-03-23T16:29:00.869Z"
   },
   {
    "duration": 40,
    "start_time": "2025-03-23T16:29:00.895Z"
   },
   {
    "duration": 4,
    "start_time": "2025-03-23T16:29:00.937Z"
   },
   {
    "duration": 12,
    "start_time": "2025-03-23T16:29:00.943Z"
   },
   {
    "duration": 444,
    "start_time": "2025-03-23T16:29:00.956Z"
   },
   {
    "duration": 10,
    "start_time": "2025-03-23T16:29:01.402Z"
   },
   {
    "duration": 411,
    "start_time": "2025-03-23T16:29:01.413Z"
   },
   {
    "duration": 12,
    "start_time": "2025-03-23T16:29:01.825Z"
   },
   {
    "duration": 149,
    "start_time": "2025-03-23T16:29:01.839Z"
   },
   {
    "duration": 87,
    "start_time": "2025-03-23T16:29:01.989Z"
   },
   {
    "duration": 28,
    "start_time": "2025-03-23T16:29:02.077Z"
   },
   {
    "duration": 116,
    "start_time": "2025-03-23T16:29:02.106Z"
   },
   {
    "duration": 15,
    "start_time": "2025-03-23T16:29:02.224Z"
   },
   {
    "duration": 119,
    "start_time": "2025-03-23T16:29:02.240Z"
   },
   {
    "duration": 16,
    "start_time": "2025-03-23T16:29:02.360Z"
   },
   {
    "duration": 84,
    "start_time": "2025-03-23T16:29:02.380Z"
   },
   {
    "duration": 17,
    "start_time": "2025-03-23T16:29:02.466Z"
   },
   {
    "duration": 31,
    "start_time": "2025-03-23T16:29:02.484Z"
   },
   {
    "duration": 32,
    "start_time": "2025-03-23T16:29:02.516Z"
   },
   {
    "duration": 42,
    "start_time": "2025-03-23T16:29:02.550Z"
   },
   {
    "duration": 58,
    "start_time": "2025-03-23T16:29:02.594Z"
   },
   {
    "duration": 12,
    "start_time": "2025-03-23T16:29:02.653Z"
   },
   {
    "duration": 235,
    "start_time": "2025-03-23T16:29:02.667Z"
   },
   {
    "duration": 13,
    "start_time": "2025-03-23T16:29:02.904Z"
   },
   {
    "duration": 57,
    "start_time": "2025-03-23T16:29:02.919Z"
   },
   {
    "duration": 2430,
    "start_time": "2025-03-23T16:29:02.978Z"
   },
   {
    "duration": 157,
    "start_time": "2025-03-23T16:29:05.410Z"
   },
   {
    "duration": 86,
    "start_time": "2025-03-23T16:29:05.569Z"
   },
   {
    "duration": 47,
    "start_time": "2025-03-23T16:29:05.657Z"
   },
   {
    "duration": 93,
    "start_time": "2025-03-23T16:29:05.706Z"
   },
   {
    "duration": 42,
    "start_time": "2025-03-23T16:29:05.801Z"
   },
   {
    "duration": 338,
    "start_time": "2025-03-23T16:29:05.845Z"
   },
   {
    "duration": 260,
    "start_time": "2025-03-23T16:29:06.185Z"
   },
   {
    "duration": 3441,
    "start_time": "2025-03-23T16:30:13.488Z"
   },
   {
    "duration": 2226,
    "start_time": "2025-03-23T16:30:16.931Z"
   },
   {
    "duration": 122,
    "start_time": "2025-03-23T16:30:19.160Z"
   },
   {
    "duration": 15,
    "start_time": "2025-03-23T16:30:19.284Z"
   },
   {
    "duration": 88,
    "start_time": "2025-03-23T16:30:19.300Z"
   },
   {
    "duration": 24,
    "start_time": "2025-03-23T16:30:19.390Z"
   },
   {
    "duration": 28,
    "start_time": "2025-03-23T16:30:19.416Z"
   },
   {
    "duration": 6,
    "start_time": "2025-03-23T16:30:19.445Z"
   },
   {
    "duration": 5,
    "start_time": "2025-03-23T16:30:19.453Z"
   },
   {
    "duration": 243,
    "start_time": "2025-03-23T16:30:19.462Z"
   },
   {
    "duration": 23,
    "start_time": "2025-03-23T16:30:19.707Z"
   },
   {
    "duration": 34,
    "start_time": "2025-03-23T16:30:19.731Z"
   },
   {
    "duration": 25,
    "start_time": "2025-03-23T16:30:19.766Z"
   },
   {
    "duration": 53,
    "start_time": "2025-03-23T16:30:19.792Z"
   },
   {
    "duration": 5,
    "start_time": "2025-03-23T16:30:19.847Z"
   },
   {
    "duration": 61,
    "start_time": "2025-03-23T16:30:19.853Z"
   },
   {
    "duration": 437,
    "start_time": "2025-03-23T16:30:19.915Z"
   },
   {
    "duration": 8,
    "start_time": "2025-03-23T16:30:20.353Z"
   },
   {
    "duration": 393,
    "start_time": "2025-03-23T16:30:20.363Z"
   },
   {
    "duration": 14,
    "start_time": "2025-03-23T16:30:20.758Z"
   },
   {
    "duration": 72,
    "start_time": "2025-03-23T16:30:20.773Z"
   },
   {
    "duration": 11,
    "start_time": "2025-03-23T16:30:20.846Z"
   },
   {
    "duration": 13,
    "start_time": "2025-03-23T16:30:20.858Z"
   },
   {
    "duration": 100,
    "start_time": "2025-03-23T16:30:20.872Z"
   },
   {
    "duration": 15,
    "start_time": "2025-03-23T16:30:20.974Z"
   },
   {
    "duration": 58,
    "start_time": "2025-03-23T16:30:20.991Z"
   },
   {
    "duration": 16,
    "start_time": "2025-03-23T16:30:21.050Z"
   },
   {
    "duration": 72,
    "start_time": "2025-03-23T16:30:21.071Z"
   },
   {
    "duration": 13,
    "start_time": "2025-03-23T16:30:21.145Z"
   },
   {
    "duration": 10,
    "start_time": "2025-03-23T16:30:21.160Z"
   },
   {
    "duration": 16,
    "start_time": "2025-03-23T16:30:21.171Z"
   },
   {
    "duration": 44,
    "start_time": "2025-03-23T16:30:21.188Z"
   },
   {
    "duration": 39,
    "start_time": "2025-03-23T16:30:21.234Z"
   },
   {
    "duration": 11,
    "start_time": "2025-03-23T16:30:21.275Z"
   },
   {
    "duration": 18,
    "start_time": "2025-03-23T16:30:21.288Z"
   },
   {
    "duration": 33,
    "start_time": "2025-03-23T16:30:21.307Z"
   },
   {
    "duration": 26,
    "start_time": "2025-03-23T16:30:21.342Z"
   },
   {
    "duration": 2347,
    "start_time": "2025-03-23T16:30:21.369Z"
   },
   {
    "duration": 145,
    "start_time": "2025-03-23T16:30:23.719Z"
   },
   {
    "duration": 85,
    "start_time": "2025-03-23T16:30:23.866Z"
   },
   {
    "duration": 7,
    "start_time": "2025-03-23T16:30:23.953Z"
   },
   {
    "duration": 68,
    "start_time": "2025-03-23T16:30:23.962Z"
   },
   {
    "duration": 31,
    "start_time": "2025-03-23T16:30:24.032Z"
   },
   {
    "duration": 262,
    "start_time": "2025-03-23T16:30:24.064Z"
   },
   {
    "duration": 253,
    "start_time": "2025-03-23T16:30:24.330Z"
   },
   {
    "duration": 53,
    "start_time": "2025-03-23T16:30:24.585Z"
   },
   {
    "duration": 39,
    "start_time": "2025-03-23T16:30:24.640Z"
   },
   {
    "duration": 203,
    "start_time": "2025-03-23T16:30:24.680Z"
   },
   {
    "duration": 24,
    "start_time": "2025-03-23T16:30:24.885Z"
   },
   {
    "duration": 19,
    "start_time": "2025-03-23T16:30:24.911Z"
   },
   {
    "duration": 18,
    "start_time": "2025-03-23T16:30:24.932Z"
   },
   {
    "duration": 14,
    "start_time": "2025-03-23T16:30:24.952Z"
   },
   {
    "duration": 28,
    "start_time": "2025-03-23T16:30:24.967Z"
   },
   {
    "duration": 3,
    "start_time": "2025-03-23T16:30:24.996Z"
   },
   {
    "duration": 64,
    "start_time": "2025-03-23T16:30:25.000Z"
   },
   {
    "duration": 6,
    "start_time": "2025-03-23T16:30:25.066Z"
   },
   {
    "duration": 318,
    "start_time": "2025-03-23T16:30:25.073Z"
   },
   {
    "duration": 281,
    "start_time": "2025-03-23T16:30:25.393Z"
   },
   {
    "duration": 377,
    "start_time": "2025-03-23T16:30:25.676Z"
   },
   {
    "duration": 224,
    "start_time": "2025-03-23T16:30:26.054Z"
   },
   {
    "duration": 12,
    "start_time": "2025-03-23T16:30:26.280Z"
   },
   {
    "duration": 50,
    "start_time": "2025-03-23T16:30:26.294Z"
   },
   {
    "duration": 19,
    "start_time": "2025-03-23T16:30:26.346Z"
   },
   {
    "duration": 53,
    "start_time": "2025-03-23T16:30:26.366Z"
   },
   {
    "duration": 26,
    "start_time": "2025-03-23T16:30:26.421Z"
   },
   {
    "duration": 4,
    "start_time": "2025-03-23T16:30:26.448Z"
   },
   {
    "duration": 5,
    "start_time": "2025-03-23T16:30:26.454Z"
   },
   {
    "duration": 21,
    "start_time": "2025-03-23T16:30:26.461Z"
   },
   {
    "duration": 7,
    "start_time": "2025-03-23T16:30:26.483Z"
   },
   {
    "duration": 111,
    "start_time": "2025-03-23T16:30:26.491Z"
   },
   {
    "duration": 3,
    "start_time": "2025-03-23T16:30:26.604Z"
   },
   {
    "duration": 23,
    "start_time": "2025-03-23T16:30:26.609Z"
   },
   {
    "duration": 5,
    "start_time": "2025-03-23T16:30:26.633Z"
   },
   {
    "duration": 20,
    "start_time": "2025-03-23T16:30:26.640Z"
   },
   {
    "duration": 3,
    "start_time": "2025-03-23T16:30:26.662Z"
   },
   {
    "duration": 12,
    "start_time": "2025-03-23T16:30:26.666Z"
   },
   {
    "duration": 144,
    "start_time": "2025-03-23T16:30:26.679Z"
   },
   {
    "duration": 5,
    "start_time": "2025-03-23T16:30:26.824Z"
   },
   {
    "duration": 4,
    "start_time": "2025-03-23T16:30:26.830Z"
   },
   {
    "duration": 15,
    "start_time": "2025-03-23T16:30:26.835Z"
   },
   {
    "duration": 283,
    "start_time": "2025-03-23T16:30:26.851Z"
   },
   {
    "duration": 46,
    "start_time": "2025-03-23T22:43:52.596Z"
   },
   {
    "duration": 4606,
    "start_time": "2025-03-23T22:43:57.847Z"
   },
   {
    "duration": 1847,
    "start_time": "2025-03-23T22:44:02.455Z"
   },
   {
    "duration": 124,
    "start_time": "2025-03-23T22:44:04.304Z"
   },
   {
    "duration": 16,
    "start_time": "2025-03-23T22:44:04.430Z"
   },
   {
    "duration": 50,
    "start_time": "2025-03-23T22:44:04.462Z"
   },
   {
    "duration": 25,
    "start_time": "2025-03-23T22:44:04.514Z"
   },
   {
    "duration": 30,
    "start_time": "2025-03-23T22:44:04.562Z"
   },
   {
    "duration": 18,
    "start_time": "2025-03-23T22:44:04.594Z"
   },
   {
    "duration": 28,
    "start_time": "2025-03-23T22:44:04.613Z"
   },
   {
    "duration": 214,
    "start_time": "2025-03-23T22:44:04.643Z"
   },
   {
    "duration": 14,
    "start_time": "2025-03-23T22:44:04.861Z"
   },
   {
    "duration": 52,
    "start_time": "2025-03-23T22:44:04.876Z"
   },
   {
    "duration": 23,
    "start_time": "2025-03-23T22:44:04.930Z"
   },
   {
    "duration": 48,
    "start_time": "2025-03-23T22:44:04.962Z"
   },
   {
    "duration": 14,
    "start_time": "2025-03-23T22:44:05.011Z"
   },
   {
    "duration": 24,
    "start_time": "2025-03-23T22:44:05.027Z"
   },
   {
    "duration": 470,
    "start_time": "2025-03-23T22:44:05.053Z"
   },
   {
    "duration": 8,
    "start_time": "2025-03-23T22:44:05.525Z"
   },
   {
    "duration": 366,
    "start_time": "2025-03-23T22:44:05.535Z"
   },
   {
    "duration": 15,
    "start_time": "2025-03-23T22:44:05.903Z"
   },
   {
    "duration": 15,
    "start_time": "2025-03-23T22:44:05.919Z"
   },
   {
    "duration": 31,
    "start_time": "2025-03-23T22:44:05.936Z"
   },
   {
    "duration": 27,
    "start_time": "2025-03-23T22:44:05.969Z"
   },
   {
    "duration": 109,
    "start_time": "2025-03-23T22:44:05.998Z"
   },
   {
    "duration": 16,
    "start_time": "2025-03-23T22:44:06.109Z"
   },
   {
    "duration": 60,
    "start_time": "2025-03-23T22:44:06.126Z"
   },
   {
    "duration": 16,
    "start_time": "2025-03-23T22:44:06.188Z"
   },
   {
    "duration": 71,
    "start_time": "2025-03-23T22:44:06.208Z"
   },
   {
    "duration": 13,
    "start_time": "2025-03-23T22:44:06.281Z"
   },
   {
    "duration": 18,
    "start_time": "2025-03-23T22:44:06.296Z"
   },
   {
    "duration": 15,
    "start_time": "2025-03-23T22:44:06.316Z"
   },
   {
    "duration": 40,
    "start_time": "2025-03-23T22:44:06.333Z"
   },
   {
    "duration": 45,
    "start_time": "2025-03-23T22:44:06.375Z"
   },
   {
    "duration": 12,
    "start_time": "2025-03-23T22:44:06.422Z"
   },
   {
    "duration": 34,
    "start_time": "2025-03-23T22:44:06.435Z"
   },
   {
    "duration": 47,
    "start_time": "2025-03-23T22:44:06.470Z"
   },
   {
    "duration": 26,
    "start_time": "2025-03-23T22:44:06.519Z"
   },
   {
    "duration": 7787,
    "start_time": "2025-03-23T22:44:06.546Z"
   },
   {
    "duration": 162,
    "start_time": "2025-03-23T22:44:14.336Z"
   },
   {
    "duration": 82,
    "start_time": "2025-03-23T22:44:14.500Z"
   },
   {
    "duration": 6,
    "start_time": "2025-03-23T22:44:14.584Z"
   },
   {
    "duration": 45,
    "start_time": "2025-03-23T22:44:14.592Z"
   },
   {
    "duration": 46,
    "start_time": "2025-03-23T22:44:14.638Z"
   },
   {
    "duration": 342,
    "start_time": "2025-03-23T22:44:14.685Z"
   },
   {
    "duration": 290,
    "start_time": "2025-03-23T22:44:15.028Z"
   },
   {
    "duration": 57,
    "start_time": "2025-03-23T22:44:15.319Z"
   },
   {
    "duration": 39,
    "start_time": "2025-03-23T22:44:15.378Z"
   },
   {
    "duration": 62,
    "start_time": "2025-03-23T22:44:15.418Z"
   },
   {
    "duration": 24,
    "start_time": "2025-03-23T22:44:15.481Z"
   },
   {
    "duration": 40,
    "start_time": "2025-03-23T22:44:15.507Z"
   },
   {
    "duration": 25,
    "start_time": "2025-03-23T22:44:15.548Z"
   },
   {
    "duration": 15,
    "start_time": "2025-03-23T22:44:15.574Z"
   },
   {
    "duration": 30,
    "start_time": "2025-03-23T22:44:15.591Z"
   },
   {
    "duration": 2,
    "start_time": "2025-03-23T22:44:15.623Z"
   },
   {
    "duration": 55,
    "start_time": "2025-03-23T22:44:15.627Z"
   },
   {
    "duration": 8,
    "start_time": "2025-03-23T22:44:15.684Z"
   },
   {
    "duration": 349,
    "start_time": "2025-03-23T22:44:15.694Z"
   },
   {
    "duration": 274,
    "start_time": "2025-03-23T22:44:16.045Z"
   },
   {
    "duration": 374,
    "start_time": "2025-03-23T22:44:16.321Z"
   },
   {
    "duration": 282,
    "start_time": "2025-03-23T22:44:16.697Z"
   },
   {
    "duration": 14,
    "start_time": "2025-03-23T22:44:16.981Z"
   },
   {
    "duration": 17,
    "start_time": "2025-03-23T22:44:16.997Z"
   },
   {
    "duration": 21,
    "start_time": "2025-03-23T22:44:17.016Z"
   },
   {
    "duration": 55,
    "start_time": "2025-03-23T22:44:17.063Z"
   },
   {
    "duration": 47,
    "start_time": "2025-03-23T22:44:17.120Z"
   },
   {
    "duration": 5,
    "start_time": "2025-03-23T22:44:17.169Z"
   },
   {
    "duration": 84,
    "start_time": "2025-03-23T22:44:17.176Z"
   },
   {
    "duration": 35,
    "start_time": "2025-03-23T22:44:17.262Z"
   },
   {
    "duration": 7,
    "start_time": "2025-03-23T22:44:17.299Z"
   },
   {
    "duration": 95,
    "start_time": "2025-03-23T22:44:17.307Z"
   },
   {
    "duration": 3,
    "start_time": "2025-03-23T22:44:17.404Z"
   },
   {
    "duration": 8,
    "start_time": "2025-03-23T22:44:17.408Z"
   },
   {
    "duration": 6,
    "start_time": "2025-03-23T22:44:17.418Z"
   },
   {
    "duration": 61,
    "start_time": "2025-03-23T22:44:17.425Z"
   },
   {
    "duration": 5,
    "start_time": "2025-03-23T22:44:17.489Z"
   },
   {
    "duration": 11,
    "start_time": "2025-03-23T22:44:17.496Z"
   },
   {
    "duration": 8,
    "start_time": "2025-03-23T22:44:17.509Z"
   },
   {
    "duration": 45,
    "start_time": "2025-03-23T22:44:17.519Z"
   },
   {
    "duration": 5,
    "start_time": "2025-03-23T22:44:17.566Z"
   },
   {
    "duration": 15,
    "start_time": "2025-03-23T22:44:17.574Z"
   },
   {
    "duration": 344,
    "start_time": "2025-03-23T22:44:17.591Z"
   },
   {
    "duration": 7,
    "start_time": "2025-03-23T22:45:11.102Z"
   },
   {
    "duration": 7,
    "start_time": "2025-03-23T22:46:32.335Z"
   },
   {
    "duration": 7,
    "start_time": "2025-03-23T22:46:42.781Z"
   },
   {
    "duration": 31,
    "start_time": "2025-03-23T22:46:50.855Z"
   },
   {
    "duration": 28,
    "start_time": "2025-03-23T22:48:19.225Z"
   },
   {
    "duration": 6,
    "start_time": "2025-03-23T22:52:59.379Z"
   },
   {
    "duration": 4,
    "start_time": "2025-03-23T23:01:50.689Z"
   },
   {
    "duration": 10,
    "start_time": "2025-03-23T23:03:08.712Z"
   },
   {
    "duration": 106,
    "start_time": "2025-03-23T23:03:15.432Z"
   },
   {
    "duration": 6,
    "start_time": "2025-03-23T23:03:20.696Z"
   },
   {
    "duration": 10,
    "start_time": "2025-03-23T23:03:27.159Z"
   },
   {
    "duration": 15,
    "start_time": "2025-03-23T23:03:32.971Z"
   },
   {
    "duration": 10,
    "start_time": "2025-03-23T23:03:50.949Z"
   },
   {
    "duration": 15,
    "start_time": "2025-03-23T23:04:16.310Z"
   },
   {
    "duration": 13,
    "start_time": "2025-03-23T23:04:23.821Z"
   },
   {
    "duration": 13,
    "start_time": "2025-03-23T23:04:40.354Z"
   },
   {
    "duration": 11,
    "start_time": "2025-03-23T23:04:45.688Z"
   },
   {
    "duration": 5,
    "start_time": "2025-03-23T23:05:17.412Z"
   },
   {
    "duration": 9,
    "start_time": "2025-03-23T23:05:32.741Z"
   },
   {
    "duration": 4,
    "start_time": "2025-03-23T23:05:39.701Z"
   },
   {
    "duration": 5,
    "start_time": "2025-03-23T23:05:41.757Z"
   },
   {
    "duration": 4,
    "start_time": "2025-03-23T23:06:01.005Z"
   },
   {
    "duration": 3,
    "start_time": "2025-03-23T23:06:02.090Z"
   },
   {
    "duration": 9,
    "start_time": "2025-03-23T23:06:14.085Z"
   },
   {
    "duration": 10,
    "start_time": "2025-03-23T23:06:30.181Z"
   },
   {
    "duration": 6,
    "start_time": "2025-03-23T23:06:31.211Z"
   },
   {
    "duration": 7,
    "start_time": "2025-03-23T23:06:31.783Z"
   },
   {
    "duration": 5,
    "start_time": "2025-03-23T23:07:31.006Z"
   },
   {
    "duration": 9,
    "start_time": "2025-03-23T23:09:57.163Z"
   },
   {
    "duration": 4,
    "start_time": "2025-03-23T23:10:30.698Z"
   },
   {
    "duration": 51,
    "start_time": "2025-03-23T23:22:27.287Z"
   },
   {
    "duration": 89,
    "start_time": "2025-03-23T23:23:07.264Z"
   },
   {
    "duration": 81,
    "start_time": "2025-03-23T23:23:13.068Z"
   },
   {
    "duration": 32,
    "start_time": "2025-03-23T23:23:20.897Z"
   },
   {
    "duration": 33,
    "start_time": "2025-03-23T23:23:30.601Z"
   },
   {
    "duration": 23,
    "start_time": "2025-03-23T23:24:22.809Z"
   },
   {
    "duration": 24,
    "start_time": "2025-03-23T23:27:57.582Z"
   },
   {
    "duration": 27,
    "start_time": "2025-03-23T23:28:18.068Z"
   },
   {
    "duration": 1443,
    "start_time": "2025-03-23T23:32:59.040Z"
   },
   {
    "duration": 5,
    "start_time": "2025-03-23T23:33:06.588Z"
   },
   {
    "duration": 1465,
    "start_time": "2025-03-23T23:33:25.933Z"
   },
   {
    "duration": 34,
    "start_time": "2025-03-23T23:35:46.395Z"
   },
   {
    "duration": 26,
    "start_time": "2025-03-23T23:35:54.760Z"
   },
   {
    "duration": 7,
    "start_time": "2025-03-23T23:36:19.654Z"
   },
   {
    "duration": 7,
    "start_time": "2025-03-23T23:36:25.026Z"
   },
   {
    "duration": 9,
    "start_time": "2025-03-23T23:36:43.306Z"
   },
   {
    "duration": 22,
    "start_time": "2025-03-23T23:40:45.554Z"
   },
   {
    "duration": 9,
    "start_time": "2025-03-23T23:40:52.257Z"
   },
   {
    "duration": 7,
    "start_time": "2025-03-23T23:41:28.729Z"
   },
   {
    "duration": 8,
    "start_time": "2025-03-23T23:41:29.971Z"
   },
   {
    "duration": 10,
    "start_time": "2025-03-23T23:43:17.504Z"
   },
   {
    "duration": 16,
    "start_time": "2025-03-23T23:45:18.615Z"
   },
   {
    "duration": 21,
    "start_time": "2025-03-23T23:45:32.047Z"
   },
   {
    "duration": 6,
    "start_time": "2025-03-23T23:47:17.134Z"
   },
   {
    "duration": 7,
    "start_time": "2025-03-23T23:47:19.586Z"
   },
   {
    "duration": 18,
    "start_time": "2025-03-23T23:47:24.599Z"
   },
   {
    "duration": 107,
    "start_time": "2025-03-23T23:47:38.971Z"
   },
   {
    "duration": 5,
    "start_time": "2025-03-23T23:47:42.926Z"
   },
   {
    "duration": 7,
    "start_time": "2025-03-23T23:47:45.971Z"
   },
   {
    "duration": 5,
    "start_time": "2025-03-23T23:47:55.453Z"
   },
   {
    "duration": 7,
    "start_time": "2025-03-23T23:47:57.742Z"
   },
   {
    "duration": 5,
    "start_time": "2025-03-23T23:48:30.130Z"
   },
   {
    "duration": 5,
    "start_time": "2025-03-23T23:48:36.211Z"
   },
   {
    "duration": 5,
    "start_time": "2025-03-23T23:48:55.519Z"
   },
   {
    "duration": 7,
    "start_time": "2025-03-23T23:48:58.408Z"
   },
   {
    "duration": 4,
    "start_time": "2025-03-23T23:49:05.990Z"
   },
   {
    "duration": 8,
    "start_time": "2025-03-23T23:49:07.380Z"
   },
   {
    "duration": 7,
    "start_time": "2025-03-23T23:49:08.352Z"
   },
   {
    "duration": 3734,
    "start_time": "2025-03-23T23:49:20.958Z"
   },
   {
    "duration": 2288,
    "start_time": "2025-03-23T23:49:24.694Z"
   },
   {
    "duration": 131,
    "start_time": "2025-03-23T23:49:26.984Z"
   },
   {
    "duration": 18,
    "start_time": "2025-03-23T23:49:27.117Z"
   },
   {
    "duration": 68,
    "start_time": "2025-03-23T23:49:27.136Z"
   },
   {
    "duration": 25,
    "start_time": "2025-03-23T23:49:27.206Z"
   },
   {
    "duration": 58,
    "start_time": "2025-03-23T23:49:27.233Z"
   },
   {
    "duration": 4,
    "start_time": "2025-03-23T23:49:27.293Z"
   },
   {
    "duration": 18,
    "start_time": "2025-03-23T23:49:27.299Z"
   },
   {
    "duration": 296,
    "start_time": "2025-03-23T23:49:27.319Z"
   },
   {
    "duration": 18,
    "start_time": "2025-03-23T23:49:27.617Z"
   },
   {
    "duration": 50,
    "start_time": "2025-03-23T23:49:27.636Z"
   },
   {
    "duration": 27,
    "start_time": "2025-03-23T23:49:27.688Z"
   },
   {
    "duration": 70,
    "start_time": "2025-03-23T23:49:27.717Z"
   },
   {
    "duration": 5,
    "start_time": "2025-03-23T23:49:27.789Z"
   },
   {
    "duration": 17,
    "start_time": "2025-03-23T23:49:27.796Z"
   },
   {
    "duration": 510,
    "start_time": "2025-03-23T23:49:27.815Z"
   },
   {
    "duration": 10,
    "start_time": "2025-03-23T23:49:28.327Z"
   },
   {
    "duration": 399,
    "start_time": "2025-03-23T23:49:28.339Z"
   },
   {
    "duration": 24,
    "start_time": "2025-03-23T23:49:28.739Z"
   },
   {
    "duration": 14,
    "start_time": "2025-03-23T23:49:28.764Z"
   },
   {
    "duration": 13,
    "start_time": "2025-03-23T23:49:28.779Z"
   },
   {
    "duration": 19,
    "start_time": "2025-03-23T23:49:28.793Z"
   },
   {
    "duration": 121,
    "start_time": "2025-03-23T23:49:28.814Z"
   },
   {
    "duration": 25,
    "start_time": "2025-03-23T23:49:28.937Z"
   },
   {
    "duration": 92,
    "start_time": "2025-03-23T23:49:28.964Z"
   },
   {
    "duration": 17,
    "start_time": "2025-03-23T23:49:29.057Z"
   },
   {
    "duration": 65,
    "start_time": "2025-03-23T23:49:29.079Z"
   },
   {
    "duration": 28,
    "start_time": "2025-03-23T23:49:29.146Z"
   },
   {
    "duration": 9,
    "start_time": "2025-03-23T23:49:29.176Z"
   },
   {
    "duration": 21,
    "start_time": "2025-03-23T23:49:29.187Z"
   },
   {
    "duration": 21,
    "start_time": "2025-03-23T23:49:29.209Z"
   },
   {
    "duration": 44,
    "start_time": "2025-03-23T23:49:29.262Z"
   },
   {
    "duration": 12,
    "start_time": "2025-03-23T23:49:29.308Z"
   },
   {
    "duration": 45,
    "start_time": "2025-03-23T23:49:29.322Z"
   },
   {
    "duration": 16,
    "start_time": "2025-03-23T23:49:29.369Z"
   },
   {
    "duration": 25,
    "start_time": "2025-03-23T23:49:29.386Z"
   },
   {
    "duration": 2527,
    "start_time": "2025-03-23T23:49:29.412Z"
   },
   {
    "duration": 167,
    "start_time": "2025-03-23T23:49:31.941Z"
   },
   {
    "duration": 96,
    "start_time": "2025-03-23T23:49:32.110Z"
   },
   {
    "duration": 8,
    "start_time": "2025-03-23T23:49:32.208Z"
   },
   {
    "duration": 68,
    "start_time": "2025-03-23T23:49:32.218Z"
   },
   {
    "duration": 30,
    "start_time": "2025-03-23T23:49:32.288Z"
   },
   {
    "duration": 325,
    "start_time": "2025-03-23T23:49:32.319Z"
   },
   {
    "duration": 317,
    "start_time": "2025-03-23T23:49:32.647Z"
   },
   {
    "duration": 47,
    "start_time": "2025-03-23T23:49:32.966Z"
   },
   {
    "duration": 62,
    "start_time": "2025-03-23T23:49:33.015Z"
   },
   {
    "duration": 78,
    "start_time": "2025-03-23T23:49:33.079Z"
   },
   {
    "duration": 27,
    "start_time": "2025-03-23T23:49:33.158Z"
   },
   {
    "duration": 41,
    "start_time": "2025-03-23T23:49:33.187Z"
   },
   {
    "duration": 30,
    "start_time": "2025-03-23T23:49:33.230Z"
   },
   {
    "duration": 30,
    "start_time": "2025-03-23T23:49:33.261Z"
   },
   {
    "duration": 41,
    "start_time": "2025-03-23T23:49:33.292Z"
   },
   {
    "duration": 3,
    "start_time": "2025-03-23T23:49:33.335Z"
   },
   {
    "duration": 36,
    "start_time": "2025-03-23T23:49:33.339Z"
   },
   {
    "duration": 10,
    "start_time": "2025-03-23T23:49:33.377Z"
   },
   {
    "duration": 356,
    "start_time": "2025-03-23T23:49:33.389Z"
   },
   {
    "duration": 285,
    "start_time": "2025-03-23T23:49:33.747Z"
   },
   {
    "duration": 421,
    "start_time": "2025-03-23T23:49:34.034Z"
   },
   {
    "duration": 250,
    "start_time": "2025-03-23T23:49:34.457Z"
   },
   {
    "duration": 14,
    "start_time": "2025-03-23T23:49:34.708Z"
   },
   {
    "duration": 40,
    "start_time": "2025-03-23T23:49:34.724Z"
   },
   {
    "duration": 13,
    "start_time": "2025-03-23T23:49:34.766Z"
   },
   {
    "duration": 93,
    "start_time": "2025-03-23T23:49:34.781Z"
   },
   {
    "duration": 25,
    "start_time": "2025-03-23T23:49:34.876Z"
   },
   {
    "duration": 5,
    "start_time": "2025-03-23T23:49:34.903Z"
   },
   {
    "duration": 109,
    "start_time": "2025-03-23T23:49:34.910Z"
   },
   {
    "duration": 114,
    "start_time": "2025-03-23T23:49:35.021Z"
   },
   {
    "duration": 39,
    "start_time": "2025-03-23T23:49:35.137Z"
   },
   {
    "duration": 22,
    "start_time": "2025-03-23T23:49:35.178Z"
   },
   {
    "duration": 21,
    "start_time": "2025-03-23T23:49:35.202Z"
   },
   {
    "duration": 15,
    "start_time": "2025-03-23T23:49:35.225Z"
   },
   {
    "duration": 6,
    "start_time": "2025-03-23T23:49:35.241Z"
   },
   {
    "duration": 4,
    "start_time": "2025-03-23T23:49:35.249Z"
   },
   {
    "duration": 22,
    "start_time": "2025-03-23T23:49:35.255Z"
   },
   {
    "duration": 55,
    "start_time": "2025-03-23T23:49:35.279Z"
   },
   {
    "duration": 26,
    "start_time": "2025-03-23T23:49:35.335Z"
   },
   {
    "duration": 11,
    "start_time": "2025-03-23T23:49:35.364Z"
   },
   {
    "duration": 42,
    "start_time": "2025-03-23T23:49:35.377Z"
   },
   {
    "duration": 8,
    "start_time": "2025-03-23T23:49:35.421Z"
   },
   {
    "duration": 38,
    "start_time": "2025-03-23T23:49:35.431Z"
   },
   {
    "duration": 67,
    "start_time": "2025-03-23T23:49:35.475Z"
   },
   {
    "duration": 13,
    "start_time": "2025-03-23T23:49:35.544Z"
   },
   {
    "duration": 31,
    "start_time": "2025-03-23T23:49:35.559Z"
   },
   {
    "duration": 24,
    "start_time": "2025-03-23T23:49:35.592Z"
   },
   {
    "duration": 28,
    "start_time": "2025-03-23T23:49:35.618Z"
   },
   {
    "duration": 15,
    "start_time": "2025-03-23T23:49:35.647Z"
   },
   {
    "duration": 314,
    "start_time": "2025-03-23T23:49:35.663Z"
   },
   {
    "duration": 7,
    "start_time": "2025-03-23T23:49:47.633Z"
   },
   {
    "duration": 9,
    "start_time": "2025-03-23T23:49:49.879Z"
   },
   {
    "duration": 8,
    "start_time": "2025-03-23T23:49:52.476Z"
   },
   {
    "duration": 9,
    "start_time": "2025-03-23T23:49:54.429Z"
   },
   {
    "duration": 22,
    "start_time": "2025-03-23T23:49:55.593Z"
   },
   {
    "duration": 3,
    "start_time": "2025-03-23T23:53:09.814Z"
   },
   {
    "duration": 10,
    "start_time": "2025-03-23T23:53:10.807Z"
   },
   {
    "duration": 10,
    "start_time": "2025-03-23T23:56:15.237Z"
   },
   {
    "duration": 3615,
    "start_time": "2025-03-23T23:57:19.116Z"
   },
   {
    "duration": 2488,
    "start_time": "2025-03-23T23:57:22.733Z"
   },
   {
    "duration": 126,
    "start_time": "2025-03-23T23:57:25.223Z"
   },
   {
    "duration": 24,
    "start_time": "2025-03-23T23:57:25.352Z"
   },
   {
    "duration": 54,
    "start_time": "2025-03-23T23:57:25.378Z"
   },
   {
    "duration": 39,
    "start_time": "2025-03-23T23:57:25.434Z"
   },
   {
    "duration": 28,
    "start_time": "2025-03-23T23:57:25.475Z"
   },
   {
    "duration": 16,
    "start_time": "2025-03-23T23:57:25.504Z"
   },
   {
    "duration": 34,
    "start_time": "2025-03-23T23:57:25.522Z"
   },
   {
    "duration": 247,
    "start_time": "2025-03-23T23:57:25.559Z"
   },
   {
    "duration": 15,
    "start_time": "2025-03-23T23:57:25.808Z"
   },
   {
    "duration": 52,
    "start_time": "2025-03-23T23:57:25.825Z"
   },
   {
    "duration": 24,
    "start_time": "2025-03-23T23:57:25.879Z"
   },
   {
    "duration": 58,
    "start_time": "2025-03-23T23:57:25.905Z"
   },
   {
    "duration": 6,
    "start_time": "2025-03-23T23:57:25.965Z"
   },
   {
    "duration": 91,
    "start_time": "2025-03-23T23:57:25.972Z"
   },
   {
    "duration": 455,
    "start_time": "2025-03-23T23:57:26.064Z"
   },
   {
    "duration": 9,
    "start_time": "2025-03-23T23:57:26.520Z"
   },
   {
    "duration": 363,
    "start_time": "2025-03-23T23:57:26.530Z"
   },
   {
    "duration": 14,
    "start_time": "2025-03-23T23:57:26.894Z"
   },
   {
    "duration": 19,
    "start_time": "2025-03-23T23:57:26.909Z"
   },
   {
    "duration": 107,
    "start_time": "2025-03-23T23:57:26.929Z"
   },
   {
    "duration": 143,
    "start_time": "2025-03-23T23:57:27.037Z"
   },
   {
    "duration": 104,
    "start_time": "2025-03-23T23:57:27.182Z"
   },
   {
    "duration": 16,
    "start_time": "2025-03-23T23:57:27.288Z"
   },
   {
    "duration": 66,
    "start_time": "2025-03-23T23:57:27.306Z"
   },
   {
    "duration": 21,
    "start_time": "2025-03-23T23:57:27.375Z"
   },
   {
    "duration": 83,
    "start_time": "2025-03-23T23:57:27.401Z"
   },
   {
    "duration": 18,
    "start_time": "2025-03-23T23:57:27.486Z"
   },
   {
    "duration": 77,
    "start_time": "2025-03-23T23:57:27.507Z"
   },
   {
    "duration": 18,
    "start_time": "2025-03-23T23:57:27.586Z"
   },
   {
    "duration": 21,
    "start_time": "2025-03-23T23:57:27.606Z"
   },
   {
    "duration": 55,
    "start_time": "2025-03-23T23:57:27.629Z"
   },
   {
    "duration": 22,
    "start_time": "2025-03-23T23:57:27.685Z"
   },
   {
    "duration": 33,
    "start_time": "2025-03-23T23:57:27.708Z"
   },
   {
    "duration": 31,
    "start_time": "2025-03-23T23:57:27.742Z"
   },
   {
    "duration": 35,
    "start_time": "2025-03-23T23:57:27.774Z"
   },
   {
    "duration": 2409,
    "start_time": "2025-03-23T23:57:27.810Z"
   },
   {
    "duration": 164,
    "start_time": "2025-03-23T23:57:30.221Z"
   },
   {
    "duration": 93,
    "start_time": "2025-03-23T23:57:30.387Z"
   },
   {
    "duration": 6,
    "start_time": "2025-03-23T23:57:30.482Z"
   },
   {
    "duration": 68,
    "start_time": "2025-03-23T23:57:30.490Z"
   },
   {
    "duration": 27,
    "start_time": "2025-03-23T23:57:30.560Z"
   },
   {
    "duration": 384,
    "start_time": "2025-03-23T23:57:30.589Z"
   },
   {
    "duration": 288,
    "start_time": "2025-03-23T23:57:30.975Z"
   },
   {
    "duration": 48,
    "start_time": "2025-03-23T23:57:31.264Z"
   },
   {
    "duration": 67,
    "start_time": "2025-03-23T23:57:31.314Z"
   },
   {
    "duration": 72,
    "start_time": "2025-03-23T23:57:31.383Z"
   },
   {
    "duration": 52,
    "start_time": "2025-03-23T23:57:31.457Z"
   },
   {
    "duration": 83,
    "start_time": "2025-03-23T23:57:31.511Z"
   },
   {
    "duration": 30,
    "start_time": "2025-03-23T23:57:31.595Z"
   },
   {
    "duration": 16,
    "start_time": "2025-03-23T23:57:31.627Z"
   },
   {
    "duration": 37,
    "start_time": "2025-03-23T23:57:31.644Z"
   },
   {
    "duration": 2,
    "start_time": "2025-03-23T23:57:31.683Z"
   },
   {
    "duration": 37,
    "start_time": "2025-03-23T23:57:31.686Z"
   },
   {
    "duration": 7,
    "start_time": "2025-03-23T23:57:31.725Z"
   },
   {
    "duration": 318,
    "start_time": "2025-03-23T23:57:31.733Z"
   },
   {
    "duration": 276,
    "start_time": "2025-03-23T23:57:32.063Z"
   },
   {
    "duration": 399,
    "start_time": "2025-03-23T23:57:32.363Z"
   },
   {
    "duration": 253,
    "start_time": "2025-03-23T23:57:32.764Z"
   },
   {
    "duration": 15,
    "start_time": "2025-03-23T23:57:33.019Z"
   },
   {
    "duration": 116,
    "start_time": "2025-03-23T23:57:33.035Z"
   },
   {
    "duration": 46,
    "start_time": "2025-03-23T23:57:33.153Z"
   },
   {
    "duration": 72,
    "start_time": "2025-03-23T23:57:33.200Z"
   },
   {
    "duration": 21,
    "start_time": "2025-03-23T23:57:33.274Z"
   },
   {
    "duration": 18,
    "start_time": "2025-03-23T23:57:33.297Z"
   },
   {
    "duration": 21,
    "start_time": "2025-03-23T23:57:33.316Z"
   },
   {
    "duration": 116,
    "start_time": "2025-03-23T23:57:33.338Z"
   },
   {
    "duration": 31,
    "start_time": "2025-03-23T23:57:33.456Z"
   },
   {
    "duration": 68,
    "start_time": "2025-03-23T23:57:33.488Z"
   },
   {
    "duration": 29,
    "start_time": "2025-03-23T23:57:33.558Z"
   },
   {
    "duration": 14,
    "start_time": "2025-03-23T23:57:33.589Z"
   },
   {
    "duration": 11,
    "start_time": "2025-03-23T23:57:33.605Z"
   },
   {
    "duration": 3,
    "start_time": "2025-03-23T23:57:33.618Z"
   },
   {
    "duration": 5,
    "start_time": "2025-03-23T23:57:33.623Z"
   },
   {
    "duration": 39,
    "start_time": "2025-03-23T23:57:33.630Z"
   },
   {
    "duration": 24,
    "start_time": "2025-03-23T23:57:33.671Z"
   },
   {
    "duration": 10,
    "start_time": "2025-03-23T23:57:33.697Z"
   },
   {
    "duration": 20,
    "start_time": "2025-03-23T23:57:33.709Z"
   },
   {
    "duration": 38,
    "start_time": "2025-03-23T23:57:33.731Z"
   },
   {
    "duration": 42,
    "start_time": "2025-03-23T23:57:33.770Z"
   },
   {
    "duration": 5,
    "start_time": "2025-03-23T23:57:33.817Z"
   },
   {
    "duration": 14,
    "start_time": "2025-03-23T23:57:33.824Z"
   },
   {
    "duration": 8,
    "start_time": "2025-03-23T23:57:33.839Z"
   },
   {
    "duration": 18,
    "start_time": "2025-03-23T23:57:33.849Z"
   },
   {
    "duration": 26,
    "start_time": "2025-03-23T23:57:33.868Z"
   },
   {
    "duration": 12,
    "start_time": "2025-03-23T23:57:33.895Z"
   },
   {
    "duration": 20,
    "start_time": "2025-03-23T23:57:33.909Z"
   },
   {
    "duration": 310,
    "start_time": "2025-03-23T23:57:33.931Z"
   },
   {
    "duration": 10,
    "start_time": "2025-03-23T23:59:53.139Z"
   },
   {
    "duration": 10,
    "start_time": "2025-03-23T23:59:59.617Z"
   },
   {
    "duration": 12,
    "start_time": "2025-03-24T00:02:48.689Z"
   },
   {
    "duration": 11,
    "start_time": "2025-03-24T00:03:48.733Z"
   },
   {
    "duration": 1871,
    "start_time": "2025-03-24T00:29:41.065Z"
   },
   {
    "duration": 10,
    "start_time": "2025-03-24T00:29:55.709Z"
   },
   {
    "duration": 14,
    "start_time": "2025-03-24T00:30:07.455Z"
   },
   {
    "duration": 6,
    "start_time": "2025-03-24T00:30:26.261Z"
   },
   {
    "duration": 9,
    "start_time": "2025-03-24T00:30:32.555Z"
   },
   {
    "duration": 4,
    "start_time": "2025-03-24T00:31:44.061Z"
   },
   {
    "duration": 26,
    "start_time": "2025-03-24T00:32:14.669Z"
   },
   {
    "duration": 25,
    "start_time": "2025-03-24T00:33:17.772Z"
   },
   {
    "duration": 19,
    "start_time": "2025-03-24T00:33:29.745Z"
   },
   {
    "duration": 3601,
    "start_time": "2025-03-24T00:51:46.710Z"
   },
   {
    "duration": 2174,
    "start_time": "2025-03-24T00:51:50.313Z"
   },
   {
    "duration": 122,
    "start_time": "2025-03-24T00:51:52.488Z"
   },
   {
    "duration": 15,
    "start_time": "2025-03-24T00:51:52.612Z"
   },
   {
    "duration": 60,
    "start_time": "2025-03-24T00:51:52.629Z"
   },
   {
    "duration": 24,
    "start_time": "2025-03-24T00:51:52.691Z"
   },
   {
    "duration": 30,
    "start_time": "2025-03-24T00:51:52.716Z"
   },
   {
    "duration": 4,
    "start_time": "2025-03-24T00:51:52.763Z"
   },
   {
    "duration": 11,
    "start_time": "2025-03-24T00:51:52.768Z"
   },
   {
    "duration": 239,
    "start_time": "2025-03-24T00:51:52.782Z"
   },
   {
    "duration": 15,
    "start_time": "2025-03-24T00:51:53.023Z"
   },
   {
    "duration": 43,
    "start_time": "2025-03-24T00:51:53.040Z"
   },
   {
    "duration": 25,
    "start_time": "2025-03-24T00:51:53.085Z"
   },
   {
    "duration": 74,
    "start_time": "2025-03-24T00:51:53.111Z"
   },
   {
    "duration": 5,
    "start_time": "2025-03-24T00:51:53.186Z"
   },
   {
    "duration": 24,
    "start_time": "2025-03-24T00:51:53.192Z"
   },
   {
    "duration": 408,
    "start_time": "2025-03-24T00:51:53.218Z"
   },
   {
    "duration": 9,
    "start_time": "2025-03-24T00:51:53.627Z"
   },
   {
    "duration": 463,
    "start_time": "2025-03-24T00:51:53.638Z"
   },
   {
    "duration": 12,
    "start_time": "2025-03-24T00:51:54.103Z"
   },
   {
    "duration": 10,
    "start_time": "2025-03-24T00:51:54.116Z"
   },
   {
    "duration": 8,
    "start_time": "2025-03-24T00:51:54.128Z"
   },
   {
    "duration": 25,
    "start_time": "2025-03-24T00:51:54.137Z"
   },
   {
    "duration": 103,
    "start_time": "2025-03-24T00:51:54.164Z"
   },
   {
    "duration": 15,
    "start_time": "2025-03-24T00:51:54.269Z"
   },
   {
    "duration": 53,
    "start_time": "2025-03-24T00:51:54.286Z"
   },
   {
    "duration": 25,
    "start_time": "2025-03-24T00:51:54.340Z"
   },
   {
    "duration": 57,
    "start_time": "2025-03-24T00:51:54.369Z"
   },
   {
    "duration": 12,
    "start_time": "2025-03-24T00:51:54.428Z"
   },
   {
    "duration": 26,
    "start_time": "2025-03-24T00:51:54.442Z"
   },
   {
    "duration": 25,
    "start_time": "2025-03-24T00:51:54.470Z"
   },
   {
    "duration": 21,
    "start_time": "2025-03-24T00:51:54.497Z"
   },
   {
    "duration": 62,
    "start_time": "2025-03-24T00:51:54.519Z"
   },
   {
    "duration": 12,
    "start_time": "2025-03-24T00:51:54.583Z"
   },
   {
    "duration": 27,
    "start_time": "2025-03-24T00:51:54.596Z"
   },
   {
    "duration": 15,
    "start_time": "2025-03-24T00:51:54.624Z"
   },
   {
    "duration": 52,
    "start_time": "2025-03-24T00:51:54.640Z"
   },
   {
    "duration": 2395,
    "start_time": "2025-03-24T00:51:54.694Z"
   },
   {
    "duration": 154,
    "start_time": "2025-03-24T00:51:57.091Z"
   },
   {
    "duration": 83,
    "start_time": "2025-03-24T00:51:57.246Z"
   },
   {
    "duration": 120,
    "start_time": "2025-03-24T00:51:57.331Z"
   },
   {
    "duration": 134,
    "start_time": "2025-03-24T00:51:57.453Z"
   },
   {
    "duration": 26,
    "start_time": "2025-03-24T00:51:57.589Z"
   },
   {
    "duration": 288,
    "start_time": "2025-03-24T00:51:57.616Z"
   },
   {
    "duration": 296,
    "start_time": "2025-03-24T00:51:57.906Z"
   },
   {
    "duration": 44,
    "start_time": "2025-03-24T00:51:58.203Z"
   },
   {
    "duration": 52,
    "start_time": "2025-03-24T00:51:58.249Z"
   },
   {
    "duration": 42,
    "start_time": "2025-03-24T00:51:58.303Z"
   },
   {
    "duration": 56,
    "start_time": "2025-03-24T00:51:58.346Z"
   },
   {
    "duration": 21,
    "start_time": "2025-03-24T00:51:58.404Z"
   },
   {
    "duration": 40,
    "start_time": "2025-03-24T00:51:58.426Z"
   },
   {
    "duration": 27,
    "start_time": "2025-03-24T00:51:58.468Z"
   },
   {
    "duration": 29,
    "start_time": "2025-03-24T00:51:58.497Z"
   },
   {
    "duration": 2,
    "start_time": "2025-03-24T00:51:58.528Z"
   },
   {
    "duration": 39,
    "start_time": "2025-03-24T00:51:58.532Z"
   },
   {
    "duration": 7,
    "start_time": "2025-03-24T00:51:58.572Z"
   },
   {
    "duration": 360,
    "start_time": "2025-03-24T00:51:58.581Z"
   },
   {
    "duration": 283,
    "start_time": "2025-03-24T00:51:58.943Z"
   },
   {
    "duration": 367,
    "start_time": "2025-03-24T00:51:59.228Z"
   },
   {
    "duration": 282,
    "start_time": "2025-03-24T00:51:59.596Z"
   },
   {
    "duration": 15,
    "start_time": "2025-03-24T00:51:59.880Z"
   },
   {
    "duration": 19,
    "start_time": "2025-03-24T00:51:59.896Z"
   },
   {
    "duration": 40,
    "start_time": "2025-03-24T00:51:59.916Z"
   },
   {
    "duration": 71,
    "start_time": "2025-03-24T00:51:59.957Z"
   },
   {
    "duration": 26,
    "start_time": "2025-03-24T00:52:00.031Z"
   },
   {
    "duration": 10,
    "start_time": "2025-03-24T00:52:00.059Z"
   },
   {
    "duration": 56,
    "start_time": "2025-03-24T00:52:00.072Z"
   },
   {
    "duration": 239,
    "start_time": "2025-03-24T00:52:00.130Z"
   },
   {
    "duration": 100,
    "start_time": "2025-03-24T00:52:00.370Z"
   },
   {
    "duration": 36,
    "start_time": "2025-03-24T00:52:00.471Z"
   },
   {
    "duration": 48,
    "start_time": "2025-03-24T00:52:00.509Z"
   },
   {
    "duration": 61,
    "start_time": "2025-03-24T00:52:00.559Z"
   },
   {
    "duration": 18,
    "start_time": "2025-03-24T00:52:00.622Z"
   },
   {
    "duration": 7,
    "start_time": "2025-03-24T00:52:00.642Z"
   },
   {
    "duration": 13,
    "start_time": "2025-03-24T00:52:00.651Z"
   },
   {
    "duration": 69,
    "start_time": "2025-03-24T00:52:00.665Z"
   },
   {
    "duration": 24,
    "start_time": "2025-03-24T00:52:00.736Z"
   },
   {
    "duration": 9,
    "start_time": "2025-03-24T00:52:00.762Z"
   },
   {
    "duration": 34,
    "start_time": "2025-03-24T00:52:00.772Z"
   },
   {
    "duration": 13,
    "start_time": "2025-03-24T00:52:00.808Z"
   },
   {
    "duration": 37,
    "start_time": "2025-03-24T00:52:00.822Z"
   },
   {
    "duration": 5,
    "start_time": "2025-03-24T00:52:00.864Z"
   },
   {
    "duration": 28,
    "start_time": "2025-03-24T00:52:00.871Z"
   },
   {
    "duration": 33,
    "start_time": "2025-03-24T00:52:00.900Z"
   },
   {
    "duration": 15,
    "start_time": "2025-03-24T00:52:00.934Z"
   },
   {
    "duration": 34,
    "start_time": "2025-03-24T00:52:00.951Z"
   },
   {
    "duration": 45,
    "start_time": "2025-03-24T00:52:00.987Z"
   },
   {
    "duration": 307,
    "start_time": "2025-03-24T00:52:01.034Z"
   },
   {
    "duration": 3630,
    "start_time": "2025-03-24T00:54:47.845Z"
   },
   {
    "duration": 2077,
    "start_time": "2025-03-24T00:54:51.477Z"
   },
   {
    "duration": 121,
    "start_time": "2025-03-24T00:54:53.555Z"
   },
   {
    "duration": 18,
    "start_time": "2025-03-24T00:54:53.678Z"
   },
   {
    "duration": 101,
    "start_time": "2025-03-24T00:54:53.697Z"
   },
   {
    "duration": 25,
    "start_time": "2025-03-24T00:54:53.800Z"
   },
   {
    "duration": 46,
    "start_time": "2025-03-24T00:54:53.827Z"
   },
   {
    "duration": 4,
    "start_time": "2025-03-24T00:54:53.875Z"
   },
   {
    "duration": 14,
    "start_time": "2025-03-24T00:54:53.880Z"
   },
   {
    "duration": 229,
    "start_time": "2025-03-24T00:54:53.896Z"
   },
   {
    "duration": 15,
    "start_time": "2025-03-24T00:54:54.127Z"
   },
   {
    "duration": 40,
    "start_time": "2025-03-24T00:54:54.144Z"
   },
   {
    "duration": 91,
    "start_time": "2025-03-24T00:54:54.186Z"
   },
   {
    "duration": 37,
    "start_time": "2025-03-24T00:54:54.279Z"
   },
   {
    "duration": 5,
    "start_time": "2025-03-24T00:54:54.318Z"
   },
   {
    "duration": 37,
    "start_time": "2025-03-24T00:54:54.324Z"
   },
   {
    "duration": 449,
    "start_time": "2025-03-24T00:54:54.363Z"
   },
   {
    "duration": 9,
    "start_time": "2025-03-24T00:54:54.813Z"
   },
   {
    "duration": 353,
    "start_time": "2025-03-24T00:54:54.824Z"
   },
   {
    "duration": 14,
    "start_time": "2025-03-24T00:54:55.179Z"
   },
   {
    "duration": 11,
    "start_time": "2025-03-24T00:54:55.194Z"
   },
   {
    "duration": 27,
    "start_time": "2025-03-24T00:54:55.207Z"
   },
   {
    "duration": 2,
    "start_time": "2025-03-24T00:54:55.235Z"
   },
   {
    "duration": 182,
    "start_time": "2025-03-24T00:54:55.239Z"
   },
   {
    "duration": 101,
    "start_time": "2025-03-24T00:54:55.423Z"
   },
   {
    "duration": 62,
    "start_time": "2025-03-24T00:54:55.526Z"
   },
   {
    "duration": 16,
    "start_time": "2025-03-24T00:54:55.589Z"
   },
   {
    "duration": 78,
    "start_time": "2025-03-24T00:54:55.609Z"
   },
   {
    "duration": 30,
    "start_time": "2025-03-24T00:54:55.689Z"
   },
   {
    "duration": 8,
    "start_time": "2025-03-24T00:54:55.721Z"
   },
   {
    "duration": 21,
    "start_time": "2025-03-24T00:54:55.731Z"
   },
   {
    "duration": 28,
    "start_time": "2025-03-24T00:54:55.761Z"
   },
   {
    "duration": 41,
    "start_time": "2025-03-24T00:54:55.791Z"
   },
   {
    "duration": 30,
    "start_time": "2025-03-24T00:54:55.833Z"
   },
   {
    "duration": 29,
    "start_time": "2025-03-24T00:54:55.864Z"
   },
   {
    "duration": 45,
    "start_time": "2025-03-24T00:54:55.895Z"
   },
   {
    "duration": 27,
    "start_time": "2025-03-24T00:54:55.942Z"
   },
   {
    "duration": 2436,
    "start_time": "2025-03-24T00:54:55.970Z"
   },
   {
    "duration": 154,
    "start_time": "2025-03-24T00:54:58.408Z"
   },
   {
    "duration": 80,
    "start_time": "2025-03-24T00:54:58.564Z"
   },
   {
    "duration": 20,
    "start_time": "2025-03-24T00:54:58.646Z"
   },
   {
    "duration": 42,
    "start_time": "2025-03-24T00:54:58.667Z"
   },
   {
    "duration": 28,
    "start_time": "2025-03-24T00:54:58.711Z"
   },
   {
    "duration": 286,
    "start_time": "2025-03-24T00:54:58.741Z"
   },
   {
    "duration": 285,
    "start_time": "2025-03-24T00:54:59.029Z"
   },
   {
    "duration": 55,
    "start_time": "2025-03-24T00:54:59.316Z"
   },
   {
    "duration": 40,
    "start_time": "2025-03-24T00:54:59.373Z"
   },
   {
    "duration": 57,
    "start_time": "2025-03-24T00:54:59.415Z"
   },
   {
    "duration": 24,
    "start_time": "2025-03-24T00:54:59.474Z"
   },
   {
    "duration": 24,
    "start_time": "2025-03-24T00:54:59.499Z"
   },
   {
    "duration": 39,
    "start_time": "2025-03-24T00:54:59.524Z"
   },
   {
    "duration": 18,
    "start_time": "2025-03-24T00:54:59.564Z"
   },
   {
    "duration": 29,
    "start_time": "2025-03-24T00:54:59.583Z"
   },
   {
    "duration": 2,
    "start_time": "2025-03-24T00:54:59.614Z"
   },
   {
    "duration": 49,
    "start_time": "2025-03-24T00:54:59.618Z"
   },
   {
    "duration": 60,
    "start_time": "2025-03-24T00:54:59.669Z"
   },
   {
    "duration": 305,
    "start_time": "2025-03-24T00:54:59.730Z"
   },
   {
    "duration": 279,
    "start_time": "2025-03-24T00:55:00.038Z"
   },
   {
    "duration": 367,
    "start_time": "2025-03-24T00:55:00.319Z"
   },
   {
    "duration": 220,
    "start_time": "2025-03-24T00:55:00.688Z"
   },
   {
    "duration": 54,
    "start_time": "2025-03-24T00:55:00.909Z"
   },
   {
    "duration": 18,
    "start_time": "2025-03-24T00:55:00.964Z"
   },
   {
    "duration": 33,
    "start_time": "2025-03-24T00:55:00.983Z"
   },
   {
    "duration": 57,
    "start_time": "2025-03-24T00:55:01.017Z"
   },
   {
    "duration": 24,
    "start_time": "2025-03-24T00:55:01.076Z"
   },
   {
    "duration": 6,
    "start_time": "2025-03-24T00:55:01.102Z"
   },
   {
    "duration": 15,
    "start_time": "2025-03-24T00:55:01.109Z"
   },
   {
    "duration": 122,
    "start_time": "2025-03-24T00:55:01.125Z"
   },
   {
    "duration": 123,
    "start_time": "2025-03-24T00:55:01.261Z"
   },
   {
    "duration": 7,
    "start_time": "2025-03-24T00:55:01.386Z"
   },
   {
    "duration": 56,
    "start_time": "2025-03-24T00:55:01.394Z"
   },
   {
    "duration": 8,
    "start_time": "2025-03-24T00:55:01.452Z"
   },
   {
    "duration": 18,
    "start_time": "2025-03-24T00:55:01.461Z"
   },
   {
    "duration": 22,
    "start_time": "2025-03-24T00:55:01.481Z"
   },
   {
    "duration": 42,
    "start_time": "2025-03-24T00:55:01.504Z"
   },
   {
    "duration": 34,
    "start_time": "2025-03-24T00:55:01.547Z"
   },
   {
    "duration": 24,
    "start_time": "2025-03-24T00:55:01.583Z"
   },
   {
    "duration": 24,
    "start_time": "2025-03-24T00:55:01.608Z"
   },
   {
    "duration": 129,
    "start_time": "2025-03-24T00:55:01.634Z"
   },
   {
    "duration": 7,
    "start_time": "2025-03-24T00:55:01.765Z"
   },
   {
    "duration": 33,
    "start_time": "2025-03-24T00:55:01.774Z"
   },
   {
    "duration": 27,
    "start_time": "2025-03-24T00:55:01.812Z"
   },
   {
    "duration": 11,
    "start_time": "2025-03-24T00:55:01.840Z"
   },
   {
    "duration": 53,
    "start_time": "2025-03-24T00:55:01.852Z"
   },
   {
    "duration": 29,
    "start_time": "2025-03-24T00:55:01.907Z"
   },
   {
    "duration": 5,
    "start_time": "2025-03-24T00:55:01.937Z"
   },
   {
    "duration": 35,
    "start_time": "2025-03-24T00:55:01.943Z"
   },
   {
    "duration": 285,
    "start_time": "2025-03-24T00:55:01.979Z"
   }
  ],
  "colab": {
   "provenance": []
  },
  "kernelspec": {
   "display_name": "Python 3 (ipykernel)",
   "language": "python",
   "name": "python3"
  },
  "language_info": {
   "codemirror_mode": {
    "name": "ipython",
    "version": 3
   },
   "file_extension": ".py",
   "mimetype": "text/x-python",
   "name": "python",
   "nbconvert_exporter": "python",
   "pygments_lexer": "ipython3",
   "version": "3.9.7"
  },
  "toc": {
   "base_numbering": 1,
   "nav_menu": {
    "height": "496.165px",
    "width": "284.162px"
   },
   "number_sections": true,
   "sideBar": true,
   "skip_h1_title": true,
   "title_cell": "Table of Contents",
   "title_sidebar": "Contents",
   "toc_cell": false,
   "toc_position": {
    "height": "calc(100% - 180px)",
    "left": "10px",
    "top": "150px",
    "width": "224.247px"
   },
   "toc_section_display": true,
   "toc_window_display": true
  }
 },
 "nbformat": 4,
 "nbformat_minor": 1
}
