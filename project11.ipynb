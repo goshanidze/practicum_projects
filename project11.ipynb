{
  "metadata": {
    "kernelspec": {
      "name": "xpython",
      "display_name": "Python 3.13 (XPython)",
      "language": "python"
    },
    "language_info": {
      "file_extension": ".py",
      "mimetype": "text/x-python",
      "name": "python",
      "version": "3.13.1"
    },
    "ExecuteTimeLog": [
      {
        "duration": 376,
        "start_time": "2025-05-18T19:45:45.506Z"
      },
      {
        "duration": 3,
        "start_time": "2025-05-18T19:47:26.209Z"
      },
      {
        "duration": 62,
        "start_time": "2025-05-18T19:47:28.647Z"
      },
      {
        "duration": 2,
        "start_time": "2025-05-18T19:47:35.699Z"
      },
      {
        "duration": 1999,
        "start_time": "2025-05-18T19:47:36.536Z"
      },
      {
        "duration": 17,
        "start_time": "2025-05-18T19:50:20.405Z"
      },
      {
        "duration": 216,
        "start_time": "2025-05-18T19:54:38.865Z"
      },
      {
        "duration": 11,
        "start_time": "2025-05-18T19:54:52.114Z"
      },
      {
        "duration": 213,
        "start_time": "2025-05-18T19:55:10.430Z"
      },
      {
        "duration": 115,
        "start_time": "2025-05-18T19:55:29.339Z"
      },
      {
        "duration": 10,
        "start_time": "2025-05-18T19:59:51.681Z"
      },
      {
        "duration": 10,
        "start_time": "2025-05-18T20:00:03.574Z"
      },
      {
        "duration": 551,
        "start_time": "2025-05-18T20:00:08.813Z"
      },
      {
        "duration": 10,
        "start_time": "2025-05-18T20:00:13.714Z"
      },
      {
        "duration": 14,
        "start_time": "2025-05-18T20:00:46.354Z"
      },
      {
        "duration": 4,
        "start_time": "2025-05-18T20:03:28.110Z"
      },
      {
        "duration": 6,
        "start_time": "2025-05-18T20:05:00.538Z"
      },
      {
        "duration": 3,
        "start_time": "2025-05-18T20:05:03.895Z"
      },
      {
        "duration": 462,
        "start_time": "2025-05-18T20:05:05.667Z"
      },
      {
        "duration": 456,
        "start_time": "2025-05-18T20:05:31.854Z"
      },
      {
        "duration": 91,
        "start_time": "2025-05-18T20:06:38.672Z"
      },
      {
        "duration": 511,
        "start_time": "2025-05-18T20:06:44.789Z"
      },
      {
        "duration": 10,
        "start_time": "2025-05-18T20:06:50.463Z"
      },
      {
        "duration": 107,
        "start_time": "2025-05-18T20:08:23.120Z"
      },
      {
        "duration": 36,
        "start_time": "2025-05-18T20:08:35.086Z"
      },
      {
        "duration": 437,
        "start_time": "2025-05-18T20:09:30.549Z"
      },
      {
        "duration": 2047,
        "start_time": "2025-05-18T20:09:30.988Z"
      },
      {
        "duration": 30,
        "start_time": "2025-05-18T20:09:33.037Z"
      },
      {
        "duration": 593,
        "start_time": "2025-05-18T20:09:33.069Z"
      },
      {
        "duration": 9,
        "start_time": "2025-05-18T20:09:33.663Z"
      },
      {
        "duration": 53,
        "start_time": "2025-05-18T20:09:33.674Z"
      },
      {
        "duration": 589,
        "start_time": "2025-05-18T20:09:33.729Z"
      },
      {
        "duration": 0,
        "start_time": "2025-05-18T20:09:34.320Z"
      },
      {
        "duration": 8,
        "start_time": "2025-05-18T20:23:17.788Z"
      },
      {
        "duration": 16,
        "start_time": "2025-05-18T20:23:41.081Z"
      },
      {
        "duration": 166,
        "start_time": "2025-05-18T20:23:54.089Z"
      },
      {
        "duration": 8,
        "start_time": "2025-05-18T20:23:59.942Z"
      },
      {
        "duration": 450,
        "start_time": "2025-05-18T20:27:09.194Z"
      },
      {
        "duration": 189,
        "start_time": "2025-05-18T20:28:25.432Z"
      },
      {
        "duration": 10,
        "start_time": "2025-05-18T20:28:26.838Z"
      },
      {
        "duration": 2,
        "start_time": "2025-05-18T20:28:31.308Z"
      },
      {
        "duration": 104,
        "start_time": "2025-05-18T20:31:28.286Z"
      },
      {
        "duration": 576,
        "start_time": "2025-05-18T20:31:49.797Z"
      },
      {
        "duration": 517,
        "start_time": "2025-05-18T20:33:57.362Z"
      },
      {
        "duration": 5,
        "start_time": "2025-05-18T20:37:53.117Z"
      },
      {
        "duration": 11,
        "start_time": "2025-05-18T20:38:00.436Z"
      },
      {
        "duration": 489,
        "start_time": "2025-05-18T20:39:43.896Z"
      },
      {
        "duration": 526,
        "start_time": "2025-05-18T20:40:14.260Z"
      },
      {
        "duration": 20,
        "start_time": "2025-05-18T21:29:14.330Z"
      },
      {
        "duration": 47,
        "start_time": "2025-05-18T21:29:22.414Z"
      },
      {
        "duration": 6,
        "start_time": "2025-05-18T21:29:27.543Z"
      },
      {
        "duration": 133,
        "start_time": "2025-05-18T21:35:47.958Z"
      },
      {
        "duration": 182,
        "start_time": "2025-05-18T21:35:57.324Z"
      },
      {
        "duration": 249,
        "start_time": "2025-05-18T21:36:17.593Z"
      },
      {
        "duration": 191,
        "start_time": "2025-05-18T21:36:26.079Z"
      },
      {
        "duration": 190,
        "start_time": "2025-05-18T21:36:39.562Z"
      },
      {
        "duration": 25,
        "start_time": "2025-05-18T21:37:08.723Z"
      },
      {
        "duration": 4,
        "start_time": "2025-05-18T21:37:09.939Z"
      },
      {
        "duration": 157,
        "start_time": "2025-05-18T21:37:11.742Z"
      },
      {
        "duration": 147,
        "start_time": "2025-05-18T21:37:39.599Z"
      },
      {
        "duration": 153,
        "start_time": "2025-05-18T21:37:44.724Z"
      },
      {
        "duration": 151,
        "start_time": "2025-05-18T21:37:54.393Z"
      },
      {
        "duration": 150,
        "start_time": "2025-05-18T21:38:00.624Z"
      },
      {
        "duration": 179,
        "start_time": "2025-05-18T21:38:04.150Z"
      },
      {
        "duration": 159,
        "start_time": "2025-05-18T21:38:22.105Z"
      },
      {
        "duration": 37,
        "start_time": "2025-05-18T21:38:55.198Z"
      },
      {
        "duration": 6,
        "start_time": "2025-05-18T21:38:55.791Z"
      },
      {
        "duration": 171,
        "start_time": "2025-05-18T21:38:57.063Z"
      },
      {
        "duration": 28,
        "start_time": "2025-05-18T21:39:04.171Z"
      },
      {
        "duration": 4,
        "start_time": "2025-05-18T21:39:05.500Z"
      },
      {
        "duration": 260,
        "start_time": "2025-05-18T21:39:06.928Z"
      },
      {
        "duration": 10,
        "start_time": "2025-05-18T21:44:43.974Z"
      },
      {
        "duration": 14,
        "start_time": "2025-05-18T21:47:08.529Z"
      },
      {
        "duration": 11,
        "start_time": "2025-05-18T21:47:18.294Z"
      },
      {
        "duration": 10,
        "start_time": "2025-05-18T21:47:33.457Z"
      },
      {
        "duration": 8,
        "start_time": "2025-05-18T21:47:44.003Z"
      },
      {
        "duration": 8,
        "start_time": "2025-05-18T21:47:51.329Z"
      },
      {
        "duration": 10,
        "start_time": "2025-05-18T21:47:59.423Z"
      },
      {
        "duration": 9,
        "start_time": "2025-05-18T21:48:01.736Z"
      },
      {
        "duration": 9,
        "start_time": "2025-05-18T21:48:10.581Z"
      },
      {
        "duration": 9,
        "start_time": "2025-05-18T21:48:13.199Z"
      },
      {
        "duration": 11,
        "start_time": "2025-05-18T21:48:23.554Z"
      },
      {
        "duration": 15,
        "start_time": "2025-05-18T21:48:34.685Z"
      },
      {
        "duration": 173,
        "start_time": "2025-05-18T21:52:03.375Z"
      },
      {
        "duration": 10,
        "start_time": "2025-05-18T22:17:56.744Z"
      },
      {
        "duration": 59,
        "start_time": "2025-05-18T22:18:14.689Z"
      },
      {
        "duration": 8,
        "start_time": "2025-05-18T22:18:21.067Z"
      },
      {
        "duration": 10,
        "start_time": "2025-05-18T22:19:27.220Z"
      },
      {
        "duration": 4,
        "start_time": "2025-05-18T22:20:09.557Z"
      },
      {
        "duration": 4,
        "start_time": "2025-05-18T22:20:14.128Z"
      },
      {
        "duration": 65,
        "start_time": "2025-05-18T22:20:33.983Z"
      },
      {
        "duration": 4,
        "start_time": "2025-05-18T22:21:16.342Z"
      },
      {
        "duration": 11,
        "start_time": "2025-05-18T22:24:53.851Z"
      },
      {
        "duration": 11,
        "start_time": "2025-05-18T22:25:05.459Z"
      },
      {
        "duration": 69,
        "start_time": "2025-05-18T22:25:25.121Z"
      },
      {
        "duration": 11,
        "start_time": "2025-05-18T22:25:25.944Z"
      },
      {
        "duration": 493,
        "start_time": "2025-05-18T22:25:30.514Z"
      },
      {
        "duration": 89,
        "start_time": "2025-05-18T22:38:13.665Z"
      },
      {
        "duration": 13,
        "start_time": "2025-05-18T22:38:23.397Z"
      },
      {
        "duration": 17,
        "start_time": "2025-05-18T22:38:35.776Z"
      },
      {
        "duration": 157,
        "start_time": "2025-05-18T22:49:30.672Z"
      },
      {
        "duration": 156,
        "start_time": "2025-05-18T22:50:01.122Z"
      },
      {
        "duration": 155,
        "start_time": "2025-05-18T22:50:07.392Z"
      },
      {
        "duration": 167,
        "start_time": "2025-05-18T22:55:08.002Z"
      },
      {
        "duration": 67,
        "start_time": "2025-05-18T22:55:26.902Z"
      },
      {
        "duration": 59,
        "start_time": "2025-05-18T22:55:36.758Z"
      },
      {
        "duration": 219,
        "start_time": "2025-05-18T22:55:39.036Z"
      },
      {
        "duration": 16,
        "start_time": "2025-05-18T22:58:57.961Z"
      },
      {
        "duration": 9,
        "start_time": "2025-05-18T23:00:38.103Z"
      },
      {
        "duration": 5,
        "start_time": "2025-05-18T23:00:48.049Z"
      },
      {
        "duration": 4,
        "start_time": "2025-05-18T23:00:52.638Z"
      },
      {
        "duration": 6,
        "start_time": "2025-05-18T23:02:06.441Z"
      },
      {
        "duration": 6,
        "start_time": "2025-05-18T23:02:10.273Z"
      },
      {
        "duration": 4,
        "start_time": "2025-05-18T23:02:25.155Z"
      },
      {
        "duration": 5,
        "start_time": "2025-05-18T23:02:26.942Z"
      },
      {
        "duration": 5,
        "start_time": "2025-05-18T23:02:29.328Z"
      },
      {
        "duration": 5,
        "start_time": "2025-05-18T23:02:39.660Z"
      },
      {
        "duration": 6,
        "start_time": "2025-05-18T23:02:41.022Z"
      },
      {
        "duration": 5,
        "start_time": "2025-05-18T23:02:46.659Z"
      },
      {
        "duration": 4,
        "start_time": "2025-05-18T23:02:48.129Z"
      },
      {
        "duration": 6,
        "start_time": "2025-05-18T23:02:51.903Z"
      },
      {
        "duration": 7,
        "start_time": "2025-05-18T23:02:54.424Z"
      },
      {
        "duration": 4,
        "start_time": "2025-05-18T23:03:09.011Z"
      },
      {
        "duration": 5,
        "start_time": "2025-05-18T23:03:10.232Z"
      },
      {
        "duration": 3,
        "start_time": "2025-05-18T23:04:02.215Z"
      },
      {
        "duration": 4,
        "start_time": "2025-05-18T23:04:08.196Z"
      },
      {
        "duration": 2,
        "start_time": "2025-05-18T23:04:43.985Z"
      },
      {
        "duration": 4,
        "start_time": "2025-05-18T23:04:45.034Z"
      },
      {
        "duration": 4,
        "start_time": "2025-05-18T23:05:21.118Z"
      },
      {
        "duration": 4,
        "start_time": "2025-05-18T23:06:16.421Z"
      },
      {
        "duration": 3,
        "start_time": "2025-05-18T23:06:34.598Z"
      },
      {
        "duration": 4,
        "start_time": "2025-05-18T23:06:36.207Z"
      },
      {
        "duration": 3,
        "start_time": "2025-05-18T23:06:49.984Z"
      },
      {
        "duration": 4,
        "start_time": "2025-05-18T23:06:51.253Z"
      },
      {
        "duration": 5,
        "start_time": "2025-05-18T23:09:37.543Z"
      },
      {
        "duration": 4,
        "start_time": "2025-05-18T23:09:38.954Z"
      },
      {
        "duration": 3,
        "start_time": "2025-05-18T23:09:41.521Z"
      },
      {
        "duration": 3,
        "start_time": "2025-05-18T23:09:42.345Z"
      },
      {
        "duration": 4,
        "start_time": "2025-05-18T23:09:55.389Z"
      },
      {
        "duration": 4,
        "start_time": "2025-05-18T23:09:56.173Z"
      },
      {
        "duration": 3,
        "start_time": "2025-05-18T23:09:59.944Z"
      },
      {
        "duration": 5,
        "start_time": "2025-05-18T23:10:01.535Z"
      },
      {
        "duration": 76,
        "start_time": "2025-05-18T23:13:40.456Z"
      },
      {
        "duration": 112,
        "start_time": "2025-05-18T23:13:48.833Z"
      },
      {
        "duration": 67,
        "start_time": "2025-05-18T23:13:51.115Z"
      },
      {
        "duration": 125,
        "start_time": "2025-05-18T23:14:22.437Z"
      },
      {
        "duration": 124,
        "start_time": "2025-05-18T23:14:27.969Z"
      },
      {
        "duration": 71,
        "start_time": "2025-05-18T23:14:30.172Z"
      },
      {
        "duration": 73,
        "start_time": "2025-05-18T23:15:52.234Z"
      },
      {
        "duration": 74,
        "start_time": "2025-05-18T23:17:36.818Z"
      },
      {
        "duration": 5,
        "start_time": "2025-05-18T23:20:51.326Z"
      },
      {
        "duration": 7,
        "start_time": "2025-05-18T23:21:27.801Z"
      },
      {
        "duration": 7,
        "start_time": "2025-05-18T23:22:03.476Z"
      },
      {
        "duration": 17,
        "start_time": "2025-05-18T23:29:16.560Z"
      },
      {
        "duration": 9,
        "start_time": "2025-05-18T23:30:13.932Z"
      },
      {
        "duration": 85,
        "start_time": "2025-05-18T23:30:23.720Z"
      },
      {
        "duration": 160,
        "start_time": "2025-05-18T23:30:43.610Z"
      },
      {
        "duration": 84,
        "start_time": "2025-05-18T23:31:13.663Z"
      },
      {
        "duration": 112,
        "start_time": "2025-05-18T23:31:20.117Z"
      },
      {
        "duration": 86,
        "start_time": "2025-05-18T23:31:26.113Z"
      },
      {
        "duration": 84,
        "start_time": "2025-05-18T23:32:31.228Z"
      },
      {
        "duration": 85,
        "start_time": "2025-05-18T23:32:39.767Z"
      },
      {
        "duration": 85,
        "start_time": "2025-05-18T23:32:42.844Z"
      },
      {
        "duration": 87,
        "start_time": "2025-05-18T23:32:45.906Z"
      },
      {
        "duration": 90,
        "start_time": "2025-05-18T23:34:11.033Z"
      },
      {
        "duration": 83,
        "start_time": "2025-05-18T23:34:13.198Z"
      },
      {
        "duration": 89,
        "start_time": "2025-05-18T23:34:28.828Z"
      },
      {
        "duration": 122,
        "start_time": "2025-05-18T23:34:52.432Z"
      },
      {
        "duration": 85,
        "start_time": "2025-05-18T23:34:59.624Z"
      },
      {
        "duration": 130,
        "start_time": "2025-05-18T23:36:46.432Z"
      },
      {
        "duration": 96,
        "start_time": "2025-05-18T23:36:49.989Z"
      },
      {
        "duration": 97,
        "start_time": "2025-05-18T23:37:13.347Z"
      },
      {
        "duration": 88,
        "start_time": "2025-05-18T23:37:23.144Z"
      },
      {
        "duration": 80,
        "start_time": "2025-05-18T23:38:28.569Z"
      },
      {
        "duration": 87,
        "start_time": "2025-05-18T23:38:50.204Z"
      },
      {
        "duration": 81,
        "start_time": "2025-05-18T23:39:23.058Z"
      },
      {
        "duration": 82,
        "start_time": "2025-05-18T23:40:10.157Z"
      },
      {
        "duration": 79,
        "start_time": "2025-05-18T23:40:16.232Z"
      },
      {
        "duration": 83,
        "start_time": "2025-05-18T23:40:24.163Z"
      },
      {
        "duration": 75,
        "start_time": "2025-05-18T23:40:25.813Z"
      },
      {
        "duration": 85,
        "start_time": "2025-05-18T23:52:32.180Z"
      },
      {
        "duration": 613,
        "start_time": "2025-05-18T23:52:37.754Z"
      },
      {
        "duration": 6,
        "start_time": "2025-05-18T23:53:53.374Z"
      },
      {
        "duration": 35,
        "start_time": "2025-05-18T23:58:59.949Z"
      },
      {
        "duration": 34,
        "start_time": "2025-05-18T23:59:26.292Z"
      },
      {
        "duration": 9,
        "start_time": "2025-05-19T00:02:26.415Z"
      },
      {
        "duration": 5,
        "start_time": "2025-05-19T00:02:39.600Z"
      },
      {
        "duration": 5,
        "start_time": "2025-05-19T00:06:14.585Z"
      },
      {
        "duration": 5,
        "start_time": "2025-05-19T00:06:39.419Z"
      },
      {
        "duration": 5,
        "start_time": "2025-05-19T00:06:40.567Z"
      },
      {
        "duration": 21,
        "start_time": "2025-05-19T00:12:55.516Z"
      },
      {
        "duration": 4,
        "start_time": "2025-05-19T00:12:59.942Z"
      },
      {
        "duration": 21,
        "start_time": "2025-05-19T00:13:44.505Z"
      },
      {
        "duration": 4,
        "start_time": "2025-05-19T00:13:45.952Z"
      },
      {
        "duration": 1173,
        "start_time": "2025-05-19T00:14:40.006Z"
      },
      {
        "duration": 23,
        "start_time": "2025-05-19T00:14:54.244Z"
      },
      {
        "duration": 1245,
        "start_time": "2025-05-19T00:14:54.919Z"
      },
      {
        "duration": 3,
        "start_time": "2025-05-19T00:15:14.272Z"
      },
      {
        "duration": 2,
        "start_time": "2025-05-19T00:15:17.684Z"
      },
      {
        "duration": 3,
        "start_time": "2025-05-19T00:15:21.839Z"
      },
      {
        "duration": 5,
        "start_time": "2025-05-19T00:15:59.346Z"
      },
      {
        "duration": 22,
        "start_time": "2025-05-19T00:16:02.061Z"
      },
      {
        "duration": 6,
        "start_time": "2025-05-19T00:16:02.919Z"
      },
      {
        "duration": 4,
        "start_time": "2025-05-19T00:16:14.730Z"
      },
      {
        "duration": 4,
        "start_time": "2025-05-19T00:16:19.026Z"
      },
      {
        "duration": 1039,
        "start_time": "2025-05-19T00:16:27.643Z"
      },
      {
        "duration": 1118,
        "start_time": "2025-05-19T00:17:06.456Z"
      },
      {
        "duration": 1128,
        "start_time": "2025-05-19T00:17:19.555Z"
      },
      {
        "duration": 1127,
        "start_time": "2025-05-19T00:18:20.816Z"
      },
      {
        "duration": 5,
        "start_time": "2025-05-19T00:18:40.929Z"
      },
      {
        "duration": 24,
        "start_time": "2025-05-19T00:19:36.644Z"
      },
      {
        "duration": 6,
        "start_time": "2025-05-19T00:19:37.929Z"
      },
      {
        "duration": 69,
        "start_time": "2025-05-19T00:23:09.820Z"
      },
      {
        "duration": 61,
        "start_time": "2025-05-19T00:23:59.040Z"
      },
      {
        "duration": 44,
        "start_time": "2025-05-19T00:24:32.448Z"
      },
      {
        "duration": 44,
        "start_time": "2025-05-19T00:25:30.518Z"
      },
      {
        "duration": 52,
        "start_time": "2025-05-19T00:25:50.032Z"
      },
      {
        "duration": 60,
        "start_time": "2025-05-19T00:26:06.430Z"
      },
      {
        "duration": 56,
        "start_time": "2025-05-19T00:26:44.791Z"
      },
      {
        "duration": 37,
        "start_time": "2025-05-19T00:27:05.492Z"
      },
      {
        "duration": 33,
        "start_time": "2025-05-19T00:27:23.146Z"
      },
      {
        "duration": 34,
        "start_time": "2025-05-19T00:27:55.487Z"
      },
      {
        "duration": 36,
        "start_time": "2025-05-19T00:29:26.564Z"
      },
      {
        "duration": 35,
        "start_time": "2025-05-19T00:29:27.252Z"
      },
      {
        "duration": 36,
        "start_time": "2025-05-19T00:29:36.329Z"
      },
      {
        "duration": 35,
        "start_time": "2025-05-19T00:29:37.282Z"
      },
      {
        "duration": 35,
        "start_time": "2025-05-19T00:29:42.170Z"
      },
      {
        "duration": 36,
        "start_time": "2025-05-19T00:29:43.641Z"
      },
      {
        "duration": 36,
        "start_time": "2025-05-19T00:29:51.306Z"
      },
      {
        "duration": 35,
        "start_time": "2025-05-19T00:29:52.834Z"
      },
      {
        "duration": 35,
        "start_time": "2025-05-19T00:29:57.063Z"
      },
      {
        "duration": 35,
        "start_time": "2025-05-19T00:30:13.197Z"
      },
      {
        "duration": 38,
        "start_time": "2025-05-19T00:30:16.644Z"
      },
      {
        "duration": 35,
        "start_time": "2025-05-19T00:30:18.202Z"
      },
      {
        "duration": 36,
        "start_time": "2025-05-19T00:30:18.936Z"
      },
      {
        "duration": 3,
        "start_time": "2025-05-19T00:31:54.346Z"
      },
      {
        "duration": 3,
        "start_time": "2025-05-19T00:32:10.725Z"
      },
      {
        "duration": 4,
        "start_time": "2025-05-19T00:32:53.233Z"
      },
      {
        "duration": 4,
        "start_time": "2025-05-19T00:33:14.484Z"
      },
      {
        "duration": 54,
        "start_time": "2025-05-19T00:44:09.513Z"
      },
      {
        "duration": 51,
        "start_time": "2025-05-19T00:47:15.422Z"
      },
      {
        "duration": 53,
        "start_time": "2025-05-19T01:01:09.716Z"
      },
      {
        "duration": 415,
        "start_time": "2025-05-19T01:08:00.256Z"
      },
      {
        "duration": 2048,
        "start_time": "2025-05-19T01:08:00.673Z"
      },
      {
        "duration": 16,
        "start_time": "2025-05-19T01:08:02.722Z"
      },
      {
        "duration": 622,
        "start_time": "2025-05-19T01:08:02.740Z"
      },
      {
        "duration": 10,
        "start_time": "2025-05-19T01:08:03.363Z"
      },
      {
        "duration": 52,
        "start_time": "2025-05-19T01:08:03.374Z"
      },
      {
        "duration": 187,
        "start_time": "2025-05-19T01:08:03.428Z"
      },
      {
        "duration": 9,
        "start_time": "2025-05-19T01:08:03.617Z"
      },
      {
        "duration": 238,
        "start_time": "2025-05-19T01:08:03.627Z"
      },
      {
        "duration": 548,
        "start_time": "2025-05-19T01:08:03.868Z"
      },
      {
        "duration": 5,
        "start_time": "2025-05-19T01:08:04.417Z"
      },
      {
        "duration": 507,
        "start_time": "2025-05-19T01:08:04.424Z"
      },
      {
        "duration": 39,
        "start_time": "2025-05-19T01:08:04.933Z"
      },
      {
        "duration": 4,
        "start_time": "2025-05-19T01:08:04.974Z"
      },
      {
        "duration": 172,
        "start_time": "2025-05-19T01:08:04.980Z"
      },
      {
        "duration": 14,
        "start_time": "2025-05-19T01:08:05.154Z"
      },
      {
        "duration": 26,
        "start_time": "2025-05-19T01:08:05.169Z"
      },
      {
        "duration": 72,
        "start_time": "2025-05-19T01:08:05.197Z"
      },
      {
        "duration": 4,
        "start_time": "2025-05-19T01:08:05.271Z"
      },
      {
        "duration": 553,
        "start_time": "2025-05-19T01:08:05.276Z"
      },
      {
        "duration": 447,
        "start_time": "2025-05-19T01:08:05.831Z"
      },
      {
        "duration": 174,
        "start_time": "2025-05-19T01:08:06.280Z"
      },
      {
        "duration": 109,
        "start_time": "2025-05-19T01:08:06.456Z"
      },
      {
        "duration": 6,
        "start_time": "2025-05-19T01:08:06.567Z"
      },
      {
        "duration": 47,
        "start_time": "2025-05-19T01:08:06.574Z"
      },
      {
        "duration": 15,
        "start_time": "2025-05-19T01:08:06.623Z"
      },
      {
        "duration": 6,
        "start_time": "2025-05-19T01:08:06.639Z"
      },
      {
        "duration": 73,
        "start_time": "2025-05-19T01:08:06.648Z"
      },
      {
        "duration": 8,
        "start_time": "2025-05-19T01:08:06.723Z"
      },
      {
        "duration": 106,
        "start_time": "2025-05-19T01:08:06.733Z"
      },
      {
        "duration": 102,
        "start_time": "2025-05-19T01:08:06.841Z"
      },
      {
        "duration": 90,
        "start_time": "2025-05-19T01:08:06.945Z"
      },
      {
        "duration": 161,
        "start_time": "2025-05-19T01:08:07.037Z"
      },
      {
        "duration": 501,
        "start_time": "2025-05-19T01:08:07.199Z"
      },
      {
        "duration": 6,
        "start_time": "2025-05-19T01:08:07.702Z"
      },
      {
        "duration": 40,
        "start_time": "2025-05-19T01:08:07.709Z"
      },
      {
        "duration": 34,
        "start_time": "2025-05-19T01:08:07.763Z"
      },
      {
        "duration": 47,
        "start_time": "2025-05-19T01:08:07.799Z"
      },
      {
        "duration": 113,
        "start_time": "2025-05-19T01:08:07.847Z"
      },
      {
        "duration": 34,
        "start_time": "2025-05-19T01:08:07.961Z"
      },
      {
        "duration": 97,
        "start_time": "2025-05-19T01:08:07.997Z"
      },
      {
        "duration": 59,
        "start_time": "2025-05-19T01:08:08.096Z"
      },
      {
        "duration": 54,
        "start_time": "2025-05-19T10:45:24.492Z"
      },
      {
        "duration": 394,
        "start_time": "2025-05-19T10:45:34.150Z"
      },
      {
        "duration": 2620,
        "start_time": "2025-05-19T10:45:34.546Z"
      },
      {
        "duration": 17,
        "start_time": "2025-05-19T10:45:37.168Z"
      },
      {
        "duration": 675,
        "start_time": "2025-05-19T10:45:37.188Z"
      },
      {
        "duration": 10,
        "start_time": "2025-05-19T10:45:37.864Z"
      },
      {
        "duration": 53,
        "start_time": "2025-05-19T10:45:37.875Z"
      },
      {
        "duration": 198,
        "start_time": "2025-05-19T10:45:37.930Z"
      },
      {
        "duration": 10,
        "start_time": "2025-05-19T10:45:38.130Z"
      },
      {
        "duration": 477,
        "start_time": "2025-05-19T10:45:38.142Z"
      },
      {
        "duration": 592,
        "start_time": "2025-05-19T10:45:38.622Z"
      },
      {
        "duration": 6,
        "start_time": "2025-05-19T10:45:39.215Z"
      },
      {
        "duration": 568,
        "start_time": "2025-05-19T10:45:39.222Z"
      },
      {
        "duration": 55,
        "start_time": "2025-05-19T10:45:39.792Z"
      },
      {
        "duration": 6,
        "start_time": "2025-05-19T10:45:39.849Z"
      },
      {
        "duration": 266,
        "start_time": "2025-05-19T10:45:39.857Z"
      },
      {
        "duration": 16,
        "start_time": "2025-05-19T10:45:40.126Z"
      },
      {
        "duration": 17,
        "start_time": "2025-05-19T10:45:40.144Z"
      },
      {
        "duration": 100,
        "start_time": "2025-05-19T10:45:40.163Z"
      },
      {
        "duration": 4,
        "start_time": "2025-05-19T10:45:40.265Z"
      },
      {
        "duration": 649,
        "start_time": "2025-05-19T10:45:40.271Z"
      },
      {
        "duration": 447,
        "start_time": "2025-05-19T10:45:40.923Z"
      },
      {
        "duration": 197,
        "start_time": "2025-05-19T10:45:41.373Z"
      },
      {
        "duration": 37,
        "start_time": "2025-05-19T10:45:41.572Z"
      },
      {
        "duration": 8,
        "start_time": "2025-05-19T10:45:41.610Z"
      },
      {
        "duration": 13,
        "start_time": "2025-05-19T10:45:41.619Z"
      },
      {
        "duration": 24,
        "start_time": "2025-05-19T10:45:41.633Z"
      },
      {
        "duration": 25,
        "start_time": "2025-05-19T10:45:41.658Z"
      },
      {
        "duration": 100,
        "start_time": "2025-05-19T10:45:41.688Z"
      },
      {
        "duration": 17,
        "start_time": "2025-05-19T10:45:41.790Z"
      },
      {
        "duration": 109,
        "start_time": "2025-05-19T10:45:41.809Z"
      },
      {
        "duration": 174,
        "start_time": "2025-05-19T10:45:41.920Z"
      },
      {
        "duration": 89,
        "start_time": "2025-05-19T10:45:42.104Z"
      },
      {
        "duration": 109,
        "start_time": "2025-05-19T10:45:42.195Z"
      },
      {
        "duration": 486,
        "start_time": "2025-05-19T10:45:42.306Z"
      },
      {
        "duration": 10,
        "start_time": "2025-05-19T10:45:42.794Z"
      },
      {
        "duration": 88,
        "start_time": "2025-05-19T10:45:42.805Z"
      },
      {
        "duration": 36,
        "start_time": "2025-05-19T10:45:42.896Z"
      },
      {
        "duration": 6,
        "start_time": "2025-05-19T10:45:42.934Z"
      },
      {
        "duration": 56,
        "start_time": "2025-05-19T10:45:42.942Z"
      },
      {
        "duration": 35,
        "start_time": "2025-05-19T10:45:43.000Z"
      },
      {
        "duration": 4,
        "start_time": "2025-05-19T10:45:43.037Z"
      },
      {
        "duration": 87,
        "start_time": "2025-05-19T10:45:43.044Z"
      },
      {
        "duration": 81,
        "start_time": "2025-05-19T11:18:09.591Z"
      },
      {
        "duration": 97,
        "start_time": "2025-05-19T11:18:20.570Z"
      },
      {
        "duration": 79,
        "start_time": "2025-05-19T11:18:31.126Z"
      },
      {
        "duration": 84,
        "start_time": "2025-05-19T11:19:54.374Z"
      },
      {
        "duration": 76,
        "start_time": "2025-05-19T11:50:35.407Z"
      },
      {
        "duration": 72,
        "start_time": "2025-05-19T11:50:39.160Z"
      },
      {
        "duration": 424,
        "start_time": "2025-05-19T11:54:04.945Z"
      },
      {
        "duration": 2186,
        "start_time": "2025-05-19T11:54:05.371Z"
      },
      {
        "duration": 22,
        "start_time": "2025-05-19T11:54:07.560Z"
      },
      {
        "duration": 873,
        "start_time": "2025-05-19T11:54:07.584Z"
      },
      {
        "duration": 14,
        "start_time": "2025-05-19T11:54:08.461Z"
      },
      {
        "duration": 75,
        "start_time": "2025-05-19T11:54:08.477Z"
      },
      {
        "duration": 321,
        "start_time": "2025-05-19T11:54:08.554Z"
      },
      {
        "duration": 11,
        "start_time": "2025-05-19T11:54:08.877Z"
      },
      {
        "duration": 281,
        "start_time": "2025-05-19T11:54:08.890Z"
      },
      {
        "duration": 657,
        "start_time": "2025-05-19T11:54:09.172Z"
      },
      {
        "duration": 6,
        "start_time": "2025-05-19T11:54:09.832Z"
      },
      {
        "duration": 611,
        "start_time": "2025-05-19T11:54:09.840Z"
      },
      {
        "duration": 35,
        "start_time": "2025-05-19T11:54:10.453Z"
      },
      {
        "duration": 5,
        "start_time": "2025-05-19T11:54:10.507Z"
      },
      {
        "duration": 319,
        "start_time": "2025-05-19T11:54:10.514Z"
      },
      {
        "duration": 10,
        "start_time": "2025-05-19T11:54:10.836Z"
      },
      {
        "duration": 36,
        "start_time": "2025-05-19T11:54:10.848Z"
      },
      {
        "duration": 75,
        "start_time": "2025-05-19T11:54:10.885Z"
      },
      {
        "duration": 4,
        "start_time": "2025-05-19T11:54:10.962Z"
      },
      {
        "duration": 629,
        "start_time": "2025-05-19T11:54:10.968Z"
      },
      {
        "duration": 473,
        "start_time": "2025-05-19T11:54:11.599Z"
      },
      {
        "duration": 187,
        "start_time": "2025-05-19T11:54:12.074Z"
      },
      {
        "duration": 97,
        "start_time": "2025-05-19T11:54:12.264Z"
      },
      {
        "duration": 6,
        "start_time": "2025-05-19T11:54:12.362Z"
      },
      {
        "duration": 16,
        "start_time": "2025-05-19T11:54:12.370Z"
      },
      {
        "duration": 15,
        "start_time": "2025-05-19T11:54:12.388Z"
      },
      {
        "duration": 8,
        "start_time": "2025-05-19T11:54:12.405Z"
      },
      {
        "duration": 91,
        "start_time": "2025-05-19T11:54:12.415Z"
      },
      {
        "duration": 7,
        "start_time": "2025-05-19T11:54:12.508Z"
      },
      {
        "duration": 223,
        "start_time": "2025-05-19T11:54:12.517Z"
      },
      {
        "duration": 144,
        "start_time": "2025-05-19T11:54:12.742Z"
      },
      {
        "duration": 101,
        "start_time": "2025-05-19T11:54:12.888Z"
      },
      {
        "duration": 169,
        "start_time": "2025-05-19T11:54:12.992Z"
      },
      {
        "duration": 577,
        "start_time": "2025-05-19T11:54:13.162Z"
      },
      {
        "duration": 7,
        "start_time": "2025-05-19T11:54:13.741Z"
      },
      {
        "duration": 157,
        "start_time": "2025-05-19T11:54:13.750Z"
      },
      {
        "duration": 42,
        "start_time": "2025-05-19T11:54:13.909Z"
      },
      {
        "duration": 6,
        "start_time": "2025-05-19T11:54:13.953Z"
      },
      {
        "duration": 113,
        "start_time": "2025-05-19T11:54:13.961Z"
      },
      {
        "duration": 40,
        "start_time": "2025-05-19T11:54:14.076Z"
      },
      {
        "duration": 4,
        "start_time": "2025-05-19T11:54:14.120Z"
      },
      {
        "duration": 86,
        "start_time": "2025-05-19T11:54:14.125Z"
      },
      {
        "duration": 887,
        "start_time": "2025-05-25T12:05:02.434Z"
      },
      {
        "duration": 15,
        "start_time": "2025-05-25T12:08:07.660Z"
      }
    ],
    "colab": {
      "provenance": []
    },
    "toc": {
      "base_numbering": 1,
      "nav_menu": {},
      "number_sections": true,
      "sideBar": true,
      "skip_h1_title": true,
      "title_cell": "Table of Contents",
      "title_sidebar": "Contents",
      "toc_cell": false,
      "toc_position": {
        "height": "calc(100% - 180px)",
        "left": "10px",
        "top": "150px",
        "width": "349.091px"
      },
      "toc_section_display": true,
      "toc_window_display": true
    }
  },
  "nbformat_minor": 4,
  "nbformat": 4,
  "cells": [
    {
      "cell_type": "markdown",
      "source": "# Разработка A/B-тестирования и анализ результатов",
      "metadata": {
        "id": "u98L9TgH0eMk"
      }
    },
    {
      "cell_type": "markdown",
      "source": "## Описание данных\n\nВы будете работать с тремя таблицами:\n\n- `sessions_project_history.csv` — таблица с историческими данными по сессиям пользователей на период с 2025-08-15 по 2025-09-23. Путь к файлу: `/datasets/sessions_project_history.csv`.\n\n- `sessions_project_test_part.csv` — таблица с данными за первый день проведения A/B-теста, то есть за 2025-10-14. Путь к файлу: `/datasets/sessions_project_test_part.csv`.\n\n- `sessions_project_test.csv` — таблица с данными за весь период проведения A/B-теста, то есть с 2025-10-14 по 2025-11-02. Путь к файлу: `/datasets/sessions_project_test.csv`.\n\nУ этих таблиц почти совпадает структура и содержание колонок, различаются лишь периоды наблюдения.\n\nПоля таблиц `sessions_project_history.csv`, `sessions_project_test.csv`, `sessions_project_test_part.csv`:\n\n- `user_id` — идентификатор пользователя;\n\n- `session_id` — идентификатор сессии в приложении;\n\n- `session_date` — дата сессии;\n\n- `session_start_ts` — дата и время начала сессии;\n\n- `install_date` — дата установки приложения;\n\n- `session_number` — порядковый номер сессии для конкретного пользователя;\n\n- `registration_flag` — является ли пользователь зарегистрированным;\n\n- `page_counter` — количество просмотренных страниц во время сессии;\n\n- `region` — регион пользователя;\n\n- `device` — тип устройства пользователя;\n\n- `test_group` — тестовая группа (в таблице с историческими данными этого столбца нет).\n\n\n## Что нужно сделать\nВаши задачи: рассчитать параметры теста, оценить корректность его проведения и проанализировать результаты эксперимента.",
      "metadata": {
        "id": "LJBRALHs0eMf"
      }
    },
    {
      "cell_type": "markdown",
      "source": "### 1. Работа с историческими данными (EDA)",
      "metadata": {
        "id": "UpOucjID0eMl"
      }
    },
    {
      "cell_type": "markdown",
      "source": "#### 1.1. Загрузка исторических данных\nНа первом этапе поработайте с историческими данными приложения:\n\n- Импортируйте библиотеку pandas.\n\n- Считайте и сохраните в датафрейм `sessions_history` CSV-файл с историческими данными о сессиях пользователей `sessions_project_history.csv`.\n\nВыведите на экран первые пять строк полученного датафрейма.",
      "metadata": {
        "id": "8iJMtL-30eMl"
      }
    },
    {
      "cell_type": "code",
      "source": "# Импортируем библиотеку pandas\nimport pandas as pd",
      "metadata": {
        "id": "6TPR2-1RPboT"
      },
      "outputs": [],
      "execution_count": 1
    },
    {
      "cell_type": "code",
      "source": "# Создаем датафрейм sessions_history\nsessions_history = pd.read_csv('https://code.s3.yandex.net/datasets/sessions_project_history.csv')",
      "metadata": {},
      "outputs": [],
      "execution_count": 2
    },
    {
      "cell_type": "code",
      "source": "# Выводим первые 5 строк датафрейма\nsessions_history.head()",
      "metadata": {},
      "outputs": [
        {
          "data": {
            "text/html": [
              "<div>\n",
              "<style scoped>\n",
              "    .dataframe tbody tr th:only-of-type {\n",
              "        vertical-align: middle;\n",
              "    }\n",
              "\n",
              "    .dataframe tbody tr th {\n",
              "        vertical-align: top;\n",
              "    }\n",
              "\n",
              "    .dataframe thead th {\n",
              "        text-align: right;\n",
              "    }\n",
              "</style>\n",
              "<table border=\"1\" class=\"dataframe\">\n",
              "  <thead>\n",
              "    <tr style=\"text-align: right;\">\n",
              "      <th></th>\n",
              "      <th>user_id</th>\n",
              "      <th>session_id</th>\n",
              "      <th>session_date</th>\n",
              "      <th>session_start_ts</th>\n",
              "      <th>install_date</th>\n",
              "      <th>session_number</th>\n",
              "      <th>registration_flag</th>\n",
              "      <th>page_counter</th>\n",
              "      <th>region</th>\n",
              "      <th>device</th>\n",
              "    </tr>\n",
              "  </thead>\n",
              "  <tbody>\n",
              "    <tr>\n",
              "      <th>0</th>\n",
              "      <td>E302123B7000BFE4</td>\n",
              "      <td>F9AF61A0C2023832</td>\n",
              "      <td>2025-08-15</td>\n",
              "      <td>2025-08-15 17:47:35</td>\n",
              "      <td>2025-08-15</td>\n",
              "      <td>1</td>\n",
              "      <td>0</td>\n",
              "      <td>3</td>\n",
              "      <td>CIS</td>\n",
              "      <td>iPhone</td>\n",
              "    </tr>\n",
              "    <tr>\n",
              "      <th>1</th>\n",
              "      <td>2530F72E221829FB</td>\n",
              "      <td>85003A206CBDAC6F</td>\n",
              "      <td>2025-08-15</td>\n",
              "      <td>2025-08-15 16:42:14</td>\n",
              "      <td>2025-08-15</td>\n",
              "      <td>1</td>\n",
              "      <td>0</td>\n",
              "      <td>4</td>\n",
              "      <td>MENA</td>\n",
              "      <td>Android</td>\n",
              "    </tr>\n",
              "    <tr>\n",
              "      <th>2</th>\n",
              "      <td>876E020A4FC512F5</td>\n",
              "      <td>3677423E49D72DEE</td>\n",
              "      <td>2025-08-15</td>\n",
              "      <td>2025-08-15 12:30:00</td>\n",
              "      <td>2025-08-15</td>\n",
              "      <td>1</td>\n",
              "      <td>0</td>\n",
              "      <td>4</td>\n",
              "      <td>EU</td>\n",
              "      <td>PC</td>\n",
              "    </tr>\n",
              "    <tr>\n",
              "      <th>3</th>\n",
              "      <td>2640B349E1D81584</td>\n",
              "      <td>956B45F5915CA225</td>\n",
              "      <td>2025-08-15</td>\n",
              "      <td>2025-08-15 15:31:31</td>\n",
              "      <td>2025-08-15</td>\n",
              "      <td>1</td>\n",
              "      <td>0</td>\n",
              "      <td>4</td>\n",
              "      <td>CIS</td>\n",
              "      <td>Android</td>\n",
              "    </tr>\n",
              "    <tr>\n",
              "      <th>4</th>\n",
              "      <td>94E1CBFAEF1F5EE9</td>\n",
              "      <td>83BF0DA35F9F1F40</td>\n",
              "      <td>2025-08-15</td>\n",
              "      <td>2025-08-15 21:33:53</td>\n",
              "      <td>2025-08-15</td>\n",
              "      <td>1</td>\n",
              "      <td>0</td>\n",
              "      <td>3</td>\n",
              "      <td>CIS</td>\n",
              "      <td>Android</td>\n",
              "    </tr>\n",
              "  </tbody>\n",
              "</table>\n",
              "</div>"
            ],
            "text/plain": [
              "            user_id        session_id session_date     session_start_ts  \\\n",
              "0  E302123B7000BFE4  F9AF61A0C2023832   2025-08-15  2025-08-15 17:47:35   \n",
              "1  2530F72E221829FB  85003A206CBDAC6F   2025-08-15  2025-08-15 16:42:14   \n",
              "2  876E020A4FC512F5  3677423E49D72DEE   2025-08-15  2025-08-15 12:30:00   \n",
              "3  2640B349E1D81584  956B45F5915CA225   2025-08-15  2025-08-15 15:31:31   \n",
              "4  94E1CBFAEF1F5EE9  83BF0DA35F9F1F40   2025-08-15  2025-08-15 21:33:53   \n",
              "\n",
              "  install_date  session_number  registration_flag  page_counter region  \\\n",
              "0   2025-08-15               1                  0             3    CIS   \n",
              "1   2025-08-15               1                  0             4   MENA   \n",
              "2   2025-08-15               1                  0             4     EU   \n",
              "3   2025-08-15               1                  0             4    CIS   \n",
              "4   2025-08-15               1                  0             3    CIS   \n",
              "\n",
              "    device  \n",
              "0   iPhone  \n",
              "1  Android  \n",
              "2       PC  \n",
              "3  Android  \n",
              "4  Android  "
            ]
          },
          "execution_count": 3,
          "metadata": {},
          "output_type": "execute_result"
        }
      ],
      "execution_count": 3
    },
    {
      "cell_type": "markdown",
      "source": "#### 1.2. Знакомство с данными\n- Для каждого уникального пользователя `user_id` рассчитайте количество уникальных сессий `session_id`.\n\n- Выведите на экран все данные из таблицы `sessions_history` для одного пользователя с наибольшим количеством сессий. Если таких пользователей несколько, выберите любого из них.\n\n- Изучите таблицу для одного пользователя, чтобы лучше понять логику формирования каждого столбца данных.\n\n",
      "metadata": {
        "id": "qTDoiODz0eMo"
      }
    },
    {
      "cell_type": "code",
      "source": "# Группируем данные для поиска уникальный сессий\nsession_id_gp = sessions_history.groupby('user_id')['session_id'].nunique().reset_index().sort_values(by='session_id',ascending = False)",
      "metadata": {
        "id": "PWZO9vTIPbPN"
      },
      "outputs": [],
      "execution_count": 4
    },
    {
      "cell_type": "code",
      "source": "# Смотрим на сгруппированные данные\nsession_id_gp",
      "metadata": {},
      "outputs": [
        {
          "data": {
            "text/html": [
              "<div>\n",
              "<style scoped>\n",
              "    .dataframe tbody tr th:only-of-type {\n",
              "        vertical-align: middle;\n",
              "    }\n",
              "\n",
              "    .dataframe tbody tr th {\n",
              "        vertical-align: top;\n",
              "    }\n",
              "\n",
              "    .dataframe thead th {\n",
              "        text-align: right;\n",
              "    }\n",
              "</style>\n",
              "<table border=\"1\" class=\"dataframe\">\n",
              "  <thead>\n",
              "    <tr style=\"text-align: right;\">\n",
              "      <th></th>\n",
              "      <th>user_id</th>\n",
              "      <th>session_id</th>\n",
              "    </tr>\n",
              "  </thead>\n",
              "  <tbody>\n",
              "    <tr>\n",
              "      <th>8948</th>\n",
              "      <td>10E0DEFC1ABDBBE0</td>\n",
              "      <td>10</td>\n",
              "    </tr>\n",
              "    <tr>\n",
              "      <th>55627</th>\n",
              "      <td>6A73CB5566BB494D</td>\n",
              "      <td>10</td>\n",
              "    </tr>\n",
              "    <tr>\n",
              "      <th>72346</th>\n",
              "      <td>8A60431A825D035B</td>\n",
              "      <td>9</td>\n",
              "    </tr>\n",
              "    <tr>\n",
              "      <th>109383</th>\n",
              "      <td>D11541BAC141FB94</td>\n",
              "      <td>9</td>\n",
              "    </tr>\n",
              "    <tr>\n",
              "      <th>47956</th>\n",
              "      <td>5BCFE7C4DCC148E9</td>\n",
              "      <td>9</td>\n",
              "    </tr>\n",
              "    <tr>\n",
              "      <th>...</th>\n",
              "      <td>...</td>\n",
              "      <td>...</td>\n",
              "    </tr>\n",
              "    <tr>\n",
              "      <th>15859</th>\n",
              "      <td>1DF13BB1953B3497</td>\n",
              "      <td>1</td>\n",
              "    </tr>\n",
              "    <tr>\n",
              "      <th>51449</th>\n",
              "      <td>628502A3CE7E0A3C</td>\n",
              "      <td>1</td>\n",
              "    </tr>\n",
              "    <tr>\n",
              "      <th>15853</th>\n",
              "      <td>1DEEF40DEFBD0C65</td>\n",
              "      <td>1</td>\n",
              "    </tr>\n",
              "    <tr>\n",
              "      <th>89905</th>\n",
              "      <td>AC08479B7472C628</td>\n",
              "      <td>1</td>\n",
              "    </tr>\n",
              "    <tr>\n",
              "      <th>72184</th>\n",
              "      <td>8A0882B6715D9EE5</td>\n",
              "      <td>1</td>\n",
              "    </tr>\n",
              "  </tbody>\n",
              "</table>\n",
              "<p>134039 rows × 2 columns</p>\n",
              "</div>"
            ],
            "text/plain": [
              "                 user_id  session_id\n",
              "8948    10E0DEFC1ABDBBE0          10\n",
              "55627   6A73CB5566BB494D          10\n",
              "72346   8A60431A825D035B           9\n",
              "109383  D11541BAC141FB94           9\n",
              "47956   5BCFE7C4DCC148E9           9\n",
              "...                  ...         ...\n",
              "15859   1DF13BB1953B3497           1\n",
              "51449   628502A3CE7E0A3C           1\n",
              "15853   1DEEF40DEFBD0C65           1\n",
              "89905   AC08479B7472C628           1\n",
              "72184   8A0882B6715D9EE5           1\n",
              "\n",
              "[134039 rows x 2 columns]"
            ]
          },
          "execution_count": 5,
          "metadata": {},
          "output_type": "execute_result"
        }
      ],
      "execution_count": 5
    },
    {
      "cell_type": "code",
      "source": "# Выводим все данные для одно из пользователей с максимальным количеством сессий\nsessions_history[sessions_history['user_id']=='10E0DEFC1ABDBBE0']",
      "metadata": {},
      "outputs": [
        {
          "data": {
            "text/html": [
              "<div>\n",
              "<style scoped>\n",
              "    .dataframe tbody tr th:only-of-type {\n",
              "        vertical-align: middle;\n",
              "    }\n",
              "\n",
              "    .dataframe tbody tr th {\n",
              "        vertical-align: top;\n",
              "    }\n",
              "\n",
              "    .dataframe thead th {\n",
              "        text-align: right;\n",
              "    }\n",
              "</style>\n",
              "<table border=\"1\" class=\"dataframe\">\n",
              "  <thead>\n",
              "    <tr style=\"text-align: right;\">\n",
              "      <th></th>\n",
              "      <th>user_id</th>\n",
              "      <th>session_id</th>\n",
              "      <th>session_date</th>\n",
              "      <th>session_start_ts</th>\n",
              "      <th>install_date</th>\n",
              "      <th>session_number</th>\n",
              "      <th>registration_flag</th>\n",
              "      <th>page_counter</th>\n",
              "      <th>region</th>\n",
              "      <th>device</th>\n",
              "    </tr>\n",
              "  </thead>\n",
              "  <tbody>\n",
              "    <tr>\n",
              "      <th>115558</th>\n",
              "      <td>10E0DEFC1ABDBBE0</td>\n",
              "      <td>B8F0423BBFFCF5DC</td>\n",
              "      <td>2025-08-14</td>\n",
              "      <td>2025-08-14 13:57:39</td>\n",
              "      <td>2025-08-14</td>\n",
              "      <td>1</td>\n",
              "      <td>0</td>\n",
              "      <td>4</td>\n",
              "      <td>CIS</td>\n",
              "      <td>Android</td>\n",
              "    </tr>\n",
              "    <tr>\n",
              "      <th>191751</th>\n",
              "      <td>10E0DEFC1ABDBBE0</td>\n",
              "      <td>87CA2FA549473837</td>\n",
              "      <td>2025-08-15</td>\n",
              "      <td>2025-08-15 16:42:10</td>\n",
              "      <td>2025-08-14</td>\n",
              "      <td>2</td>\n",
              "      <td>0</td>\n",
              "      <td>3</td>\n",
              "      <td>CIS</td>\n",
              "      <td>Android</td>\n",
              "    </tr>\n",
              "    <tr>\n",
              "      <th>239370</th>\n",
              "      <td>10E0DEFC1ABDBBE0</td>\n",
              "      <td>4ADD8011DCDCE318</td>\n",
              "      <td>2025-08-16</td>\n",
              "      <td>2025-08-16 19:53:21</td>\n",
              "      <td>2025-08-14</td>\n",
              "      <td>3</td>\n",
              "      <td>0</td>\n",
              "      <td>3</td>\n",
              "      <td>CIS</td>\n",
              "      <td>Android</td>\n",
              "    </tr>\n",
              "    <tr>\n",
              "      <th>274629</th>\n",
              "      <td>10E0DEFC1ABDBBE0</td>\n",
              "      <td>DF0FD0E09BF1F3D7</td>\n",
              "      <td>2025-08-17</td>\n",
              "      <td>2025-08-17 15:03:43</td>\n",
              "      <td>2025-08-14</td>\n",
              "      <td>4</td>\n",
              "      <td>0</td>\n",
              "      <td>1</td>\n",
              "      <td>CIS</td>\n",
              "      <td>Android</td>\n",
              "    </tr>\n",
              "    <tr>\n",
              "      <th>302501</th>\n",
              "      <td>10E0DEFC1ABDBBE0</td>\n",
              "      <td>3C221774B4DE6885</td>\n",
              "      <td>2025-08-18</td>\n",
              "      <td>2025-08-18 17:29:14</td>\n",
              "      <td>2025-08-14</td>\n",
              "      <td>5</td>\n",
              "      <td>0</td>\n",
              "      <td>4</td>\n",
              "      <td>CIS</td>\n",
              "      <td>Android</td>\n",
              "    </tr>\n",
              "    <tr>\n",
              "      <th>325557</th>\n",
              "      <td>10E0DEFC1ABDBBE0</td>\n",
              "      <td>031BD7A67048105B</td>\n",
              "      <td>2025-08-19</td>\n",
              "      <td>2025-08-19 13:23:55</td>\n",
              "      <td>2025-08-14</td>\n",
              "      <td>6</td>\n",
              "      <td>0</td>\n",
              "      <td>2</td>\n",
              "      <td>CIS</td>\n",
              "      <td>Android</td>\n",
              "    </tr>\n",
              "    <tr>\n",
              "      <th>345336</th>\n",
              "      <td>10E0DEFC1ABDBBE0</td>\n",
              "      <td>FF4315CF4AD4B100</td>\n",
              "      <td>2025-08-20</td>\n",
              "      <td>2025-08-20 19:31:54</td>\n",
              "      <td>2025-08-14</td>\n",
              "      <td>7</td>\n",
              "      <td>0</td>\n",
              "      <td>2</td>\n",
              "      <td>CIS</td>\n",
              "      <td>Android</td>\n",
              "    </tr>\n",
              "    <tr>\n",
              "      <th>377532</th>\n",
              "      <td>10E0DEFC1ABDBBE0</td>\n",
              "      <td>4045FEA0747203B4</td>\n",
              "      <td>2025-08-22</td>\n",
              "      <td>2025-08-22 17:54:13</td>\n",
              "      <td>2025-08-14</td>\n",
              "      <td>8</td>\n",
              "      <td>0</td>\n",
              "      <td>2</td>\n",
              "      <td>CIS</td>\n",
              "      <td>Android</td>\n",
              "    </tr>\n",
              "    <tr>\n",
              "      <th>403538</th>\n",
              "      <td>10E0DEFC1ABDBBE0</td>\n",
              "      <td>344B086C421C7F37</td>\n",
              "      <td>2025-08-24</td>\n",
              "      <td>2025-08-24 14:46:13</td>\n",
              "      <td>2025-08-14</td>\n",
              "      <td>9</td>\n",
              "      <td>0</td>\n",
              "      <td>2</td>\n",
              "      <td>CIS</td>\n",
              "      <td>Android</td>\n",
              "    </tr>\n",
              "    <tr>\n",
              "      <th>414743</th>\n",
              "      <td>10E0DEFC1ABDBBE0</td>\n",
              "      <td>054F20BA371E4C9D</td>\n",
              "      <td>2025-08-25</td>\n",
              "      <td>2025-08-25 18:36:41</td>\n",
              "      <td>2025-08-14</td>\n",
              "      <td>10</td>\n",
              "      <td>0</td>\n",
              "      <td>3</td>\n",
              "      <td>CIS</td>\n",
              "      <td>Android</td>\n",
              "    </tr>\n",
              "  </tbody>\n",
              "</table>\n",
              "</div>"
            ],
            "text/plain": [
              "                 user_id        session_id session_date     session_start_ts  \\\n",
              "115558  10E0DEFC1ABDBBE0  B8F0423BBFFCF5DC   2025-08-14  2025-08-14 13:57:39   \n",
              "191751  10E0DEFC1ABDBBE0  87CA2FA549473837   2025-08-15  2025-08-15 16:42:10   \n",
              "239370  10E0DEFC1ABDBBE0  4ADD8011DCDCE318   2025-08-16  2025-08-16 19:53:21   \n",
              "274629  10E0DEFC1ABDBBE0  DF0FD0E09BF1F3D7   2025-08-17  2025-08-17 15:03:43   \n",
              "302501  10E0DEFC1ABDBBE0  3C221774B4DE6885   2025-08-18  2025-08-18 17:29:14   \n",
              "325557  10E0DEFC1ABDBBE0  031BD7A67048105B   2025-08-19  2025-08-19 13:23:55   \n",
              "345336  10E0DEFC1ABDBBE0  FF4315CF4AD4B100   2025-08-20  2025-08-20 19:31:54   \n",
              "377532  10E0DEFC1ABDBBE0  4045FEA0747203B4   2025-08-22  2025-08-22 17:54:13   \n",
              "403538  10E0DEFC1ABDBBE0  344B086C421C7F37   2025-08-24  2025-08-24 14:46:13   \n",
              "414743  10E0DEFC1ABDBBE0  054F20BA371E4C9D   2025-08-25  2025-08-25 18:36:41   \n",
              "\n",
              "       install_date  session_number  registration_flag  page_counter region  \\\n",
              "115558   2025-08-14               1                  0             4    CIS   \n",
              "191751   2025-08-14               2                  0             3    CIS   \n",
              "239370   2025-08-14               3                  0             3    CIS   \n",
              "274629   2025-08-14               4                  0             1    CIS   \n",
              "302501   2025-08-14               5                  0             4    CIS   \n",
              "325557   2025-08-14               6                  0             2    CIS   \n",
              "345336   2025-08-14               7                  0             2    CIS   \n",
              "377532   2025-08-14               8                  0             2    CIS   \n",
              "403538   2025-08-14               9                  0             2    CIS   \n",
              "414743   2025-08-14              10                  0             3    CIS   \n",
              "\n",
              "         device  \n",
              "115558  Android  \n",
              "191751  Android  \n",
              "239370  Android  \n",
              "274629  Android  \n",
              "302501  Android  \n",
              "325557  Android  \n",
              "345336  Android  \n",
              "377532  Android  \n",
              "403538  Android  \n",
              "414743  Android  "
            ]
          },
          "execution_count": 6,
          "metadata": {},
          "output_type": "execute_result"
        }
      ],
      "execution_count": 6
    },
    {
      "cell_type": "markdown",
      "source": "Промежуточный вывод:\n- Наибольшее количество сессий среди всех пользователей - 10 сессий. Столько сессий имеют только 2 пользователя.\n- Все сессии одного из пользователей  с наибольшим количеством сессий были произведены с мобильного устройства на операционной системе Android. \n- В 4 сессиях этого пользователя из 10 были просмотрены только 2 страницы.",
      "metadata": {}
    },
    {
      "cell_type": "markdown",
      "source": "#### 1.3. Анализ числа регистраций\nОдна из важнейших метрик продукта — число зарегистрированных пользователей. Используя исторические данные, визуализируйте, как менялось число регистраций в приложении за время его существования.\n\n- Агрегируйте исторические данные и рассчитайте число уникальных пользователей и число зарегистрированных пользователей для каждого дня наблюдения. Для простоты считайте, что у пользователя в течение дня бывает одна сессия максимум и статус регистрации в течение одного дня не может измениться.\n\n- Постройте линейные графики общего числа пользователей и общего числа зарегистрированных пользователей по дням. Отобразите их на одном графике.\n\n- Постройте отдельный линейный график доли зарегистрированных пользователей от всех пользователей по дням.\n\n- На обоих графиках должны быть заголовок, подписанные оси X и Y, сетка и легенда.",
      "metadata": {
        "id": "CmcGpJTP0eMq"
      }
    },
    {
      "cell_type": "code",
      "source": "# Сгруппируем данные для поиска нужных данных\ndf_grp = sessions_history.groupby('session_date').agg({'user_id':'nunique','registration_flag':'sum'}).reset_index()",
      "metadata": {
        "id": "tN_6Ml3EPatS"
      },
      "outputs": [],
      "execution_count": 7
    },
    {
      "cell_type": "code",
      "source": "# Посмотрим на данные\ndf_grp",
      "metadata": {
        "scrolled": true
      },
      "outputs": [
        {
          "data": {
            "text/html": [
              "<div>\n",
              "<style scoped>\n",
              "    .dataframe tbody tr th:only-of-type {\n",
              "        vertical-align: middle;\n",
              "    }\n",
              "\n",
              "    .dataframe tbody tr th {\n",
              "        vertical-align: top;\n",
              "    }\n",
              "\n",
              "    .dataframe thead th {\n",
              "        text-align: right;\n",
              "    }\n",
              "</style>\n",
              "<table border=\"1\" class=\"dataframe\">\n",
              "  <thead>\n",
              "    <tr style=\"text-align: right;\">\n",
              "      <th></th>\n",
              "      <th>session_date</th>\n",
              "      <th>user_id</th>\n",
              "      <th>registration_flag</th>\n",
              "    </tr>\n",
              "  </thead>\n",
              "  <tbody>\n",
              "    <tr>\n",
              "      <th>0</th>\n",
              "      <td>2025-08-11</td>\n",
              "      <td>3919</td>\n",
              "      <td>169</td>\n",
              "    </tr>\n",
              "    <tr>\n",
              "      <th>1</th>\n",
              "      <td>2025-08-12</td>\n",
              "      <td>6056</td>\n",
              "      <td>336</td>\n",
              "    </tr>\n",
              "    <tr>\n",
              "      <th>2</th>\n",
              "      <td>2025-08-13</td>\n",
              "      <td>8489</td>\n",
              "      <td>464</td>\n",
              "    </tr>\n",
              "    <tr>\n",
              "      <th>3</th>\n",
              "      <td>2025-08-14</td>\n",
              "      <td>10321</td>\n",
              "      <td>625</td>\n",
              "    </tr>\n",
              "    <tr>\n",
              "      <th>4</th>\n",
              "      <td>2025-08-15</td>\n",
              "      <td>14065</td>\n",
              "      <td>840</td>\n",
              "    </tr>\n",
              "    <tr>\n",
              "      <th>5</th>\n",
              "      <td>2025-08-16</td>\n",
              "      <td>12205</td>\n",
              "      <td>916</td>\n",
              "    </tr>\n",
              "    <tr>\n",
              "      <th>6</th>\n",
              "      <td>2025-08-17</td>\n",
              "      <td>11200</td>\n",
              "      <td>833</td>\n",
              "    </tr>\n",
              "    <tr>\n",
              "      <th>7</th>\n",
              "      <td>2025-08-18</td>\n",
              "      <td>10839</td>\n",
              "      <td>860</td>\n",
              "    </tr>\n",
              "    <tr>\n",
              "      <th>8</th>\n",
              "      <td>2025-08-19</td>\n",
              "      <td>12118</td>\n",
              "      <td>831</td>\n",
              "    </tr>\n",
              "    <tr>\n",
              "      <th>9</th>\n",
              "      <td>2025-08-20</td>\n",
              "      <td>13514</td>\n",
              "      <td>1008</td>\n",
              "    </tr>\n",
              "    <tr>\n",
              "      <th>10</th>\n",
              "      <td>2025-08-21</td>\n",
              "      <td>15051</td>\n",
              "      <td>1063</td>\n",
              "    </tr>\n",
              "    <tr>\n",
              "      <th>11</th>\n",
              "      <td>2025-08-22</td>\n",
              "      <td>17563</td>\n",
              "      <td>1251</td>\n",
              "    </tr>\n",
              "    <tr>\n",
              "      <th>12</th>\n",
              "      <td>2025-08-23</td>\n",
              "      <td>16082</td>\n",
              "      <td>1253</td>\n",
              "    </tr>\n",
              "    <tr>\n",
              "      <th>13</th>\n",
              "      <td>2025-08-24</td>\n",
              "      <td>13683</td>\n",
              "      <td>1181</td>\n",
              "    </tr>\n",
              "    <tr>\n",
              "      <th>14</th>\n",
              "      <td>2025-08-25</td>\n",
              "      <td>13635</td>\n",
              "      <td>1060</td>\n",
              "    </tr>\n",
              "    <tr>\n",
              "      <th>15</th>\n",
              "      <td>2025-08-26</td>\n",
              "      <td>13289</td>\n",
              "      <td>1050</td>\n",
              "    </tr>\n",
              "    <tr>\n",
              "      <th>16</th>\n",
              "      <td>2025-08-27</td>\n",
              "      <td>14766</td>\n",
              "      <td>1076</td>\n",
              "    </tr>\n",
              "    <tr>\n",
              "      <th>17</th>\n",
              "      <td>2025-08-28</td>\n",
              "      <td>15388</td>\n",
              "      <td>1175</td>\n",
              "    </tr>\n",
              "    <tr>\n",
              "      <th>18</th>\n",
              "      <td>2025-08-29</td>\n",
              "      <td>16873</td>\n",
              "      <td>1174</td>\n",
              "    </tr>\n",
              "    <tr>\n",
              "      <th>19</th>\n",
              "      <td>2025-08-30</td>\n",
              "      <td>14891</td>\n",
              "      <td>1165</td>\n",
              "    </tr>\n",
              "    <tr>\n",
              "      <th>20</th>\n",
              "      <td>2025-08-31</td>\n",
              "      <td>13266</td>\n",
              "      <td>1105</td>\n",
              "    </tr>\n",
              "    <tr>\n",
              "      <th>21</th>\n",
              "      <td>2025-09-01</td>\n",
              "      <td>12685</td>\n",
              "      <td>1028</td>\n",
              "    </tr>\n",
              "    <tr>\n",
              "      <th>22</th>\n",
              "      <td>2025-09-02</td>\n",
              "      <td>12672</td>\n",
              "      <td>1039</td>\n",
              "    </tr>\n",
              "    <tr>\n",
              "      <th>23</th>\n",
              "      <td>2025-09-03</td>\n",
              "      <td>12777</td>\n",
              "      <td>1035</td>\n",
              "    </tr>\n",
              "    <tr>\n",
              "      <th>24</th>\n",
              "      <td>2025-09-04</td>\n",
              "      <td>13683</td>\n",
              "      <td>1007</td>\n",
              "    </tr>\n",
              "    <tr>\n",
              "      <th>25</th>\n",
              "      <td>2025-09-05</td>\n",
              "      <td>15324</td>\n",
              "      <td>1030</td>\n",
              "    </tr>\n",
              "    <tr>\n",
              "      <th>26</th>\n",
              "      <td>2025-09-06</td>\n",
              "      <td>13078</td>\n",
              "      <td>1023</td>\n",
              "    </tr>\n",
              "    <tr>\n",
              "      <th>27</th>\n",
              "      <td>2025-09-07</td>\n",
              "      <td>12367</td>\n",
              "      <td>1069</td>\n",
              "    </tr>\n",
              "    <tr>\n",
              "      <th>28</th>\n",
              "      <td>2025-09-08</td>\n",
              "      <td>11826</td>\n",
              "      <td>1009</td>\n",
              "    </tr>\n",
              "    <tr>\n",
              "      <th>29</th>\n",
              "      <td>2025-09-09</td>\n",
              "      <td>11780</td>\n",
              "      <td>980</td>\n",
              "    </tr>\n",
              "    <tr>\n",
              "      <th>30</th>\n",
              "      <td>2025-09-10</td>\n",
              "      <td>12526</td>\n",
              "      <td>1015</td>\n",
              "    </tr>\n",
              "    <tr>\n",
              "      <th>31</th>\n",
              "      <td>2025-09-11</td>\n",
              "      <td>8623</td>\n",
              "      <td>824</td>\n",
              "    </tr>\n",
              "    <tr>\n",
              "      <th>32</th>\n",
              "      <td>2025-09-12</td>\n",
              "      <td>6436</td>\n",
              "      <td>669</td>\n",
              "    </tr>\n",
              "    <tr>\n",
              "      <th>33</th>\n",
              "      <td>2025-09-13</td>\n",
              "      <td>5183</td>\n",
              "      <td>537</td>\n",
              "    </tr>\n",
              "    <tr>\n",
              "      <th>34</th>\n",
              "      <td>2025-09-14</td>\n",
              "      <td>4364</td>\n",
              "      <td>440</td>\n",
              "    </tr>\n",
              "    <tr>\n",
              "      <th>35</th>\n",
              "      <td>2025-09-15</td>\n",
              "      <td>3698</td>\n",
              "      <td>383</td>\n",
              "    </tr>\n",
              "    <tr>\n",
              "      <th>36</th>\n",
              "      <td>2025-09-16</td>\n",
              "      <td>3032</td>\n",
              "      <td>286</td>\n",
              "    </tr>\n",
              "    <tr>\n",
              "      <th>37</th>\n",
              "      <td>2025-09-17</td>\n",
              "      <td>2548</td>\n",
              "      <td>272</td>\n",
              "    </tr>\n",
              "    <tr>\n",
              "      <th>38</th>\n",
              "      <td>2025-09-18</td>\n",
              "      <td>1952</td>\n",
              "      <td>201</td>\n",
              "    </tr>\n",
              "    <tr>\n",
              "      <th>39</th>\n",
              "      <td>2025-09-19</td>\n",
              "      <td>1418</td>\n",
              "      <td>132</td>\n",
              "    </tr>\n",
              "    <tr>\n",
              "      <th>40</th>\n",
              "      <td>2025-09-20</td>\n",
              "      <td>1100</td>\n",
              "      <td>107</td>\n",
              "    </tr>\n",
              "    <tr>\n",
              "      <th>41</th>\n",
              "      <td>2025-09-21</td>\n",
              "      <td>776</td>\n",
              "      <td>87</td>\n",
              "    </tr>\n",
              "    <tr>\n",
              "      <th>42</th>\n",
              "      <td>2025-09-22</td>\n",
              "      <td>546</td>\n",
              "      <td>68</td>\n",
              "    </tr>\n",
              "    <tr>\n",
              "      <th>43</th>\n",
              "      <td>2025-09-23</td>\n",
              "      <td>317</td>\n",
              "      <td>32</td>\n",
              "    </tr>\n",
              "  </tbody>\n",
              "</table>\n",
              "</div>"
            ],
            "text/plain": [
              "   session_date  user_id  registration_flag\n",
              "0    2025-08-11     3919                169\n",
              "1    2025-08-12     6056                336\n",
              "2    2025-08-13     8489                464\n",
              "3    2025-08-14    10321                625\n",
              "4    2025-08-15    14065                840\n",
              "5    2025-08-16    12205                916\n",
              "6    2025-08-17    11200                833\n",
              "7    2025-08-18    10839                860\n",
              "8    2025-08-19    12118                831\n",
              "9    2025-08-20    13514               1008\n",
              "10   2025-08-21    15051               1063\n",
              "11   2025-08-22    17563               1251\n",
              "12   2025-08-23    16082               1253\n",
              "13   2025-08-24    13683               1181\n",
              "14   2025-08-25    13635               1060\n",
              "15   2025-08-26    13289               1050\n",
              "16   2025-08-27    14766               1076\n",
              "17   2025-08-28    15388               1175\n",
              "18   2025-08-29    16873               1174\n",
              "19   2025-08-30    14891               1165\n",
              "20   2025-08-31    13266               1105\n",
              "21   2025-09-01    12685               1028\n",
              "22   2025-09-02    12672               1039\n",
              "23   2025-09-03    12777               1035\n",
              "24   2025-09-04    13683               1007\n",
              "25   2025-09-05    15324               1030\n",
              "26   2025-09-06    13078               1023\n",
              "27   2025-09-07    12367               1069\n",
              "28   2025-09-08    11826               1009\n",
              "29   2025-09-09    11780                980\n",
              "30   2025-09-10    12526               1015\n",
              "31   2025-09-11     8623                824\n",
              "32   2025-09-12     6436                669\n",
              "33   2025-09-13     5183                537\n",
              "34   2025-09-14     4364                440\n",
              "35   2025-09-15     3698                383\n",
              "36   2025-09-16     3032                286\n",
              "37   2025-09-17     2548                272\n",
              "38   2025-09-18     1952                201\n",
              "39   2025-09-19     1418                132\n",
              "40   2025-09-20     1100                107\n",
              "41   2025-09-21      776                 87\n",
              "42   2025-09-22      546                 68\n",
              "43   2025-09-23      317                 32"
            ]
          },
          "execution_count": 8,
          "metadata": {},
          "output_type": "execute_result"
        }
      ],
      "execution_count": 8
    },
    {
      "cell_type": "code",
      "source": "# Импортируем библиотеку визуализации данных \nimport matplotlib.pyplot as plt",
      "metadata": {},
      "outputs": [],
      "execution_count": 9
    },
    {
      "cell_type": "code",
      "source": "# Строим график уникальных пользователей и числа зарегистрированных пользователей в день\nx = df_grp.session_date.unique()\ny_a = df_grp['user_id']\ny_b = df_grp['registration_flag']\n\nplt.figure(figsize=(15, 8))\nplt.plot(x, y_a, label ='Количество уникальных пользователей в день')\nplt.plot(x, y_b,label ='Количество регистраций в день')\n\nplt.xlabel(\"Дата\")\nplt.ylabel(\"Количество\")\nplt.legend()\nplt.title('Уникальных пользователей и число зарегистрированных пользователей')\nplt.xticks(rotation=45)\nplt.show()",
      "metadata": {},
      "outputs": [
        {
          "data": {
            "image/png": "[encoded data removed]",
            "text/plain": [
              "<Figure size 1080x576 with 1 Axes>"
            ]
          },
          "metadata": {
            "needs_background": "light"
          },
          "output_type": "display_data"
        }
      ],
      "execution_count": 10
    },
    {
      "cell_type": "code",
      "source": "# Высчитываем долю зарегистрированных пользователей от всех пользователей по дням\ndf_grp['registration_share'] = df_grp['registration_flag']/df_grp['user_id']",
      "metadata": {},
      "outputs": [],
      "execution_count": 11
    },
    {
      "cell_type": "code",
      "source": "# Строим график доли зарегистрированных пользователей от всех пользователей по дням\nx = df_grp.session_date.unique()\ny = df_grp['registration_share']\n\nplt.figure(figsize=(15, 8))\nplt.plot(x, y, label ='Доли зарегистрированных пользователей')\n\nplt.xlabel(\"Дата\")\nplt.ylabel(\"Доля\")\nplt.legend()\nplt.title('Доли зарегистрированных пользователей от всех пользователей по дням')\nplt.xticks(rotation=45)\nplt.show()",
      "metadata": {},
      "outputs": [
        {
          "data": {
            "image/png": "[encoded data removed]",
            "text/plain": [
              "<Figure size 1080x576 with 1 Axes>"
            ]
          },
          "metadata": {
            "needs_background": "light"
          },
          "output_type": "display_data"
        }
      ],
      "execution_count": 12
    },
    {
      "cell_type": "markdown",
      "source": "Промежуточный вывод:\n- На основе исторических данных можно увидеть, что пиковые значения уникальных пользователей за день приходились на конец рабочей недели -  с четверга по субботу.\n- При это количество регистраций показывает отностиельно равномерное распределение, без резких скачков в значениях \n- Можно отметить скачкообразный рост доли зарегистрированных пользователей от всех пользователей по дням в течение всего исторического отрезка",
      "metadata": {}
    },
    {
      "cell_type": "markdown",
      "source": "#### 1.4. Анализ числа просмотренных страниц\nДругая важная метрика продукта — число просмотренных страниц в приложении. Чем больше страниц просмотрено, тем сильнее пользователь увлечён контентом, а значит, выше шансы на то, что он зарегистрируется и оплатит подписку.\n\n- Найдите количество сессий для каждого значения количества просмотренных страниц. Например: одну страницу просмотрели в 29160 сессиях, две страницы в 105536 сессиях и так далее.\n\n- Постройте столбчатую диаграмму, где по оси X будет число просмотренных страниц, по оси Y — количество сессий.\n\n- На диаграмме должны быть заголовок, подписанные оси X и Y.",
      "metadata": {
        "id": "UR7D7RhF0eMr"
      }
    },
    {
      "cell_type": "code",
      "source": "# Группируем данные и находим нужные значения\nuniq_page_counter = sessions_history.groupby('page_counter')['session_id'].count()",
      "metadata": {
        "id": "cb6hPlVzPaSf"
      },
      "outputs": [],
      "execution_count": 13
    },
    {
      "cell_type": "code",
      "source": "# Проверяем полученные данные\nuniq_page_counter",
      "metadata": {},
      "outputs": [
        {
          "data": {
            "text/plain": [
              "page_counter\n",
              "1     29160\n",
              "2    105536\n",
              "3    166690\n",
              "4    105569\n",
              "5     26288\n",
              "6      2589\n",
              "7        92\n",
              "Name: session_id, dtype: int64"
            ]
          },
          "execution_count": 14,
          "metadata": {},
          "output_type": "execute_result"
        }
      ],
      "execution_count": 14
    },
    {
      "cell_type": "code",
      "source": "# Строим график\nplt.figure(figsize=(12, 6))\n\nuniq_page_counter.plot(\n                kind='bar',\n                alpha=0.75,\n                edgecolor='black',\n)\n\n\nplt.title('Количество сессий для каждого значения количества просмотренных страниц')\nplt.xlabel('Количество страниц')\nplt.ylabel('Количество сессий')\n\nplt.grid(axis='y')\n\nplt.xticks(rotation=0)\nplt.show() ",
      "metadata": {},
      "outputs": [
        {
          "data": {
            "image/png": "[encoded data removed]",
            "text/plain": [
              "<Figure size 864x432 with 1 Axes>"
            ]
          },
          "metadata": {
            "needs_background": "light"
          },
          "output_type": "display_data"
        }
      ],
      "execution_count": 15
    },
    {
      "cell_type": "markdown",
      "source": "Промежуточный вывод:\n- Большинство сессий ограничивалось просмотрами только трех страниц.\n- Сессий с просмотрами семи страниц всего 92-е",
      "metadata": {}
    },
    {
      "cell_type": "markdown",
      "source": "#### 1.5. Доля пользователей, просмотревших более четырёх страниц\nПродуктовая команда продукта считает, что сессии, в рамках которых пользователь просмотрел 4 и более страниц, говорят об удовлетворённости контентом и алгоритмами рекомендаций. Этот показатель является важной прокси-метрикой для продукта.\n\n- В датафрейме `sessions_history` создайте дополнительный столбец `good_session`. В него войдёт значение `1`, если за одну сессию было просмотрено 4 и более страниц, и значение `0`, если было просмотрено меньше.\n\n- Постройте график со средним значением доли успешных сессий ко всем сессиям по дням за весь период наблюдения.",
      "metadata": {
        "id": "xDltSpVP0eMr"
      }
    },
    {
      "cell_type": "code",
      "source": "# Добавляем новый столбец\nsessions_history['good_session'] = 0\nsessions_history.loc[sessions_history['page_counter']>=4,'good_session'] = 1",
      "metadata": {
        "id": "iygaPfixPYMW"
      },
      "outputs": [],
      "execution_count": 16
    },
    {
      "cell_type": "code",
      "source": "# Проверяем данные\nsessions_history",
      "metadata": {
        "scrolled": true
      },
      "outputs": [
        {
          "data": {
            "text/html": [
              "<div>\n",
              "<style scoped>\n",
              "    .dataframe tbody tr th:only-of-type {\n",
              "        vertical-align: middle;\n",
              "    }\n",
              "\n",
              "    .dataframe tbody tr th {\n",
              "        vertical-align: top;\n",
              "    }\n",
              "\n",
              "    .dataframe thead th {\n",
              "        text-align: right;\n",
              "    }\n",
              "</style>\n",
              "<table border=\"1\" class=\"dataframe\">\n",
              "  <thead>\n",
              "    <tr style=\"text-align: right;\">\n",
              "      <th></th>\n",
              "      <th>user_id</th>\n",
              "      <th>session_id</th>\n",
              "      <th>session_date</th>\n",
              "      <th>session_start_ts</th>\n",
              "      <th>install_date</th>\n",
              "      <th>session_number</th>\n",
              "      <th>registration_flag</th>\n",
              "      <th>page_counter</th>\n",
              "      <th>region</th>\n",
              "      <th>device</th>\n",
              "      <th>good_session</th>\n",
              "    </tr>\n",
              "  </thead>\n",
              "  <tbody>\n",
              "    <tr>\n",
              "      <th>0</th>\n",
              "      <td>E302123B7000BFE4</td>\n",
              "      <td>F9AF61A0C2023832</td>\n",
              "      <td>2025-08-15</td>\n",
              "      <td>2025-08-15 17:47:35</td>\n",
              "      <td>2025-08-15</td>\n",
              "      <td>1</td>\n",
              "      <td>0</td>\n",
              "      <td>3</td>\n",
              "      <td>CIS</td>\n",
              "      <td>iPhone</td>\n",
              "      <td>0</td>\n",
              "    </tr>\n",
              "    <tr>\n",
              "      <th>1</th>\n",
              "      <td>2530F72E221829FB</td>\n",
              "      <td>85003A206CBDAC6F</td>\n",
              "      <td>2025-08-15</td>\n",
              "      <td>2025-08-15 16:42:14</td>\n",
              "      <td>2025-08-15</td>\n",
              "      <td>1</td>\n",
              "      <td>0</td>\n",
              "      <td>4</td>\n",
              "      <td>MENA</td>\n",
              "      <td>Android</td>\n",
              "      <td>1</td>\n",
              "    </tr>\n",
              "    <tr>\n",
              "      <th>2</th>\n",
              "      <td>876E020A4FC512F5</td>\n",
              "      <td>3677423E49D72DEE</td>\n",
              "      <td>2025-08-15</td>\n",
              "      <td>2025-08-15 12:30:00</td>\n",
              "      <td>2025-08-15</td>\n",
              "      <td>1</td>\n",
              "      <td>0</td>\n",
              "      <td>4</td>\n",
              "      <td>EU</td>\n",
              "      <td>PC</td>\n",
              "      <td>1</td>\n",
              "    </tr>\n",
              "    <tr>\n",
              "      <th>3</th>\n",
              "      <td>2640B349E1D81584</td>\n",
              "      <td>956B45F5915CA225</td>\n",
              "      <td>2025-08-15</td>\n",
              "      <td>2025-08-15 15:31:31</td>\n",
              "      <td>2025-08-15</td>\n",
              "      <td>1</td>\n",
              "      <td>0</td>\n",
              "      <td>4</td>\n",
              "      <td>CIS</td>\n",
              "      <td>Android</td>\n",
              "      <td>1</td>\n",
              "    </tr>\n",
              "    <tr>\n",
              "      <th>4</th>\n",
              "      <td>94E1CBFAEF1F5EE9</td>\n",
              "      <td>83BF0DA35F9F1F40</td>\n",
              "      <td>2025-08-15</td>\n",
              "      <td>2025-08-15 21:33:53</td>\n",
              "      <td>2025-08-15</td>\n",
              "      <td>1</td>\n",
              "      <td>0</td>\n",
              "      <td>3</td>\n",
              "      <td>CIS</td>\n",
              "      <td>Android</td>\n",
              "      <td>0</td>\n",
              "    </tr>\n",
              "    <tr>\n",
              "      <th>...</th>\n",
              "      <td>...</td>\n",
              "      <td>...</td>\n",
              "      <td>...</td>\n",
              "      <td>...</td>\n",
              "      <td>...</td>\n",
              "      <td>...</td>\n",
              "      <td>...</td>\n",
              "      <td>...</td>\n",
              "      <td>...</td>\n",
              "      <td>...</td>\n",
              "      <td>...</td>\n",
              "    </tr>\n",
              "    <tr>\n",
              "      <th>435919</th>\n",
              "      <td>769BC199AF26FEF8</td>\n",
              "      <td>914903B51D69C5EA</td>\n",
              "      <td>2025-09-17</td>\n",
              "      <td>2025-09-17 21:33:57</td>\n",
              "      <td>2025-09-04</td>\n",
              "      <td>3</td>\n",
              "      <td>1</td>\n",
              "      <td>3</td>\n",
              "      <td>CIS</td>\n",
              "      <td>PC</td>\n",
              "      <td>0</td>\n",
              "    </tr>\n",
              "    <tr>\n",
              "      <th>435920</th>\n",
              "      <td>599DED39F3CD2ADE</td>\n",
              "      <td>66ADBE343C94DCDA</td>\n",
              "      <td>2025-09-17</td>\n",
              "      <td>2025-09-17 17:11:46</td>\n",
              "      <td>2025-09-04</td>\n",
              "      <td>4</td>\n",
              "      <td>0</td>\n",
              "      <td>4</td>\n",
              "      <td>MENA</td>\n",
              "      <td>iPhone</td>\n",
              "      <td>1</td>\n",
              "    </tr>\n",
              "    <tr>\n",
              "      <th>435921</th>\n",
              "      <td>1FA20C4BC94E64B2</td>\n",
              "      <td>C4CCD7E81733665F</td>\n",
              "      <td>2025-09-17</td>\n",
              "      <td>2025-09-17 19:36:55</td>\n",
              "      <td>2025-09-04</td>\n",
              "      <td>4</td>\n",
              "      <td>0</td>\n",
              "      <td>4</td>\n",
              "      <td>CIS</td>\n",
              "      <td>Android</td>\n",
              "      <td>1</td>\n",
              "    </tr>\n",
              "    <tr>\n",
              "      <th>435922</th>\n",
              "      <td>88E5FC3016A7A0AD</td>\n",
              "      <td>6834FB4914B56200</td>\n",
              "      <td>2025-09-17</td>\n",
              "      <td>2025-09-17 22:13:33</td>\n",
              "      <td>2025-09-04</td>\n",
              "      <td>5</td>\n",
              "      <td>0</td>\n",
              "      <td>4</td>\n",
              "      <td>MENA</td>\n",
              "      <td>PC</td>\n",
              "      <td>1</td>\n",
              "    </tr>\n",
              "    <tr>\n",
              "      <th>435923</th>\n",
              "      <td>5CC144801F7B0D1D</td>\n",
              "      <td>8CC9E67AFF5D9CA8</td>\n",
              "      <td>2025-09-17</td>\n",
              "      <td>2025-09-17 15:23:46</td>\n",
              "      <td>2025-09-04</td>\n",
              "      <td>3</td>\n",
              "      <td>0</td>\n",
              "      <td>2</td>\n",
              "      <td>MENA</td>\n",
              "      <td>iPhone</td>\n",
              "      <td>0</td>\n",
              "    </tr>\n",
              "  </tbody>\n",
              "</table>\n",
              "<p>435924 rows × 11 columns</p>\n",
              "</div>"
            ],
            "text/plain": [
              "                 user_id        session_id session_date     session_start_ts  \\\n",
              "0       E302123B7000BFE4  F9AF61A0C2023832   2025-08-15  2025-08-15 17:47:35   \n",
              "1       2530F72E221829FB  85003A206CBDAC6F   2025-08-15  2025-08-15 16:42:14   \n",
              "2       876E020A4FC512F5  3677423E49D72DEE   2025-08-15  2025-08-15 12:30:00   \n",
              "3       2640B349E1D81584  956B45F5915CA225   2025-08-15  2025-08-15 15:31:31   \n",
              "4       94E1CBFAEF1F5EE9  83BF0DA35F9F1F40   2025-08-15  2025-08-15 21:33:53   \n",
              "...                  ...               ...          ...                  ...   \n",
              "435919  769BC199AF26FEF8  914903B51D69C5EA   2025-09-17  2025-09-17 21:33:57   \n",
              "435920  599DED39F3CD2ADE  66ADBE343C94DCDA   2025-09-17  2025-09-17 17:11:46   \n",
              "435921  1FA20C4BC94E64B2  C4CCD7E81733665F   2025-09-17  2025-09-17 19:36:55   \n",
              "435922  88E5FC3016A7A0AD  6834FB4914B56200   2025-09-17  2025-09-17 22:13:33   \n",
              "435923  5CC144801F7B0D1D  8CC9E67AFF5D9CA8   2025-09-17  2025-09-17 15:23:46   \n",
              "\n",
              "       install_date  session_number  registration_flag  page_counter region  \\\n",
              "0        2025-08-15               1                  0             3    CIS   \n",
              "1        2025-08-15               1                  0             4   MENA   \n",
              "2        2025-08-15               1                  0             4     EU   \n",
              "3        2025-08-15               1                  0             4    CIS   \n",
              "4        2025-08-15               1                  0             3    CIS   \n",
              "...             ...             ...                ...           ...    ...   \n",
              "435919   2025-09-04               3                  1             3    CIS   \n",
              "435920   2025-09-04               4                  0             4   MENA   \n",
              "435921   2025-09-04               4                  0             4    CIS   \n",
              "435922   2025-09-04               5                  0             4   MENA   \n",
              "435923   2025-09-04               3                  0             2   MENA   \n",
              "\n",
              "         device  good_session  \n",
              "0        iPhone             0  \n",
              "1       Android             1  \n",
              "2            PC             1  \n",
              "3       Android             1  \n",
              "4       Android             0  \n",
              "...         ...           ...  \n",
              "435919       PC             0  \n",
              "435920   iPhone             1  \n",
              "435921  Android             1  \n",
              "435922       PC             1  \n",
              "435923   iPhone             0  \n",
              "\n",
              "[435924 rows x 11 columns]"
            ]
          },
          "execution_count": 17,
          "metadata": {},
          "output_type": "execute_result"
        }
      ],
      "execution_count": 17
    },
    {
      "cell_type": "code",
      "source": "# Группируем данные и образуем нужные столбцы\ndf_agg = sessions_history.groupby('session_date').agg(session_count = ('session_id','count'),\n                                                      good_session_count = ('good_session','sum')).reset_index()\n",
      "metadata": {},
      "outputs": [],
      "execution_count": 18
    },
    {
      "cell_type": "code",
      "source": "# Находим долю хороших сессий\ndf_agg['good_session_share'] = df_agg['good_session_count']/df_agg['session_count']",
      "metadata": {
        "scrolled": true
      },
      "outputs": [],
      "execution_count": 19
    },
    {
      "cell_type": "code",
      "source": "x = df_agg.session_date.unique()\ny = df_agg['good_session_share']\n\nplt.figure(figsize=(15, 8))\nplt.plot(x, y, label ='Доли хороших сессий')\n\nplt.xlabel(\"Дата\")\nplt.ylabel(\"Доля\")\nplt.legend()\nplt.title('Доля пользователей, просмотревших более четырёх страниц')\nplt.xticks(rotation=45)\nplt.show()",
      "metadata": {},
      "outputs": [
        {
          "data": {
            "image/png": "[encoded data removed]",
            "text/plain": [
              "<Figure size 1080x576 with 1 Axes>"
            ]
          },
          "metadata": {
            "needs_background": "light"
          },
          "output_type": "display_data"
        }
      ],
      "execution_count": 20
    },
    {
      "cell_type": "markdown",
      "source": "Промежуточный вывод:\n- Не смотря на резкие перепады на графике, значение доли успешных сессий или сессий с 4 и более просмотрами остаётся в диапазоне от 30% до 32%\n",
      "metadata": {}
    },
    {
      "cell_type": "markdown",
      "source": "### 2. Подготовка к тесту\nПри планировании теста необходимо проделать несколько важных шагов:\n\n- Определиться с целевой метрикой.\n\n- Рассчитать необходимый размер выборки.\n\n- Исходя из текущих значений трафика, рассчитать необходимую длительность проведения теста.",
      "metadata": {
        "id": "21JcG77Y0eMt"
      }
    },
    {
      "cell_type": "markdown",
      "source": "",
      "metadata": {}
    },
    {
      "cell_type": "markdown",
      "source": "#### 2.1. Расчёт размера выборки\nВ рамках курса вам уже приходилось рассчитывать размеры выборки, используя онлайн-калькуляторы. В этом задании предлагаем воспользоваться готовым кодом и рассчитать необходимое для вашего дизайна эксперимента количество пользователей.\n\nДля этого установите в коде ниже следующие параметры:\n\n- Уровень значимости — 0.05.\n\n- Вероятность ошибки второго рода — 0.2.\n\n- Мощность теста.\n\n- Минимальный детектируемый эффект, или MDE, — 3%. Обратите внимание, что здесь нужно указать десятичную дробь, а не процент.\n\nПри расчёте размера выборки мы будем использовать метод `solve_power()` из класса `power.NormalIndPower` модуля `statsmodels.stats`.\n\nЗапустите ячейку и изучите полученное значение.",
      "metadata": {
        "id": "uzaeln270eMt"
      }
    },
    {
      "cell_type": "code",
      "source": "from statsmodels.stats.power import NormalIndPower\n\n# Задаём параметры\nalpha = 0.05  # Уровень значимости\nbeta = 0.2 # Ошибка второго рода, часто 1 - мощность\npower = 0.8  # Мощность теста\nmde = 0.03 # Минимальный детектируемый эффект\n\n# Инициализируем класс NormalIndPower\npower_analysis = NormalIndPower()\n\n# Рассчитываем размер выборки\nsample_size = power_analysis.solve_power(\n    effect_size = mde,\n    power = power,\n    alpha = alpha,\n    ratio = 1 # Равномерное распределение выборок\n)\n\nprint(f\"Необходимый размер выборки для каждой группы: {int(sample_size)}\")",
      "metadata": {
        "id": "zSxJyPGPNdaI",
        "scrolled": true
      },
      "outputs": [
        {
          "name": "stdout",
          "output_type": "stream",
          "text": "Необходимый размер выборки для каждой группы: 4360\n"
        }
      ],
      "execution_count": 2
    },
    {
      "cell_type": "markdown",
      "source": "#### 2.1. Расчёт длительности A/B-теста\n\nИспользуйте данные о количестве пользователей в каждой выборке и среднем количестве пользователей приложения. Рассчитайте длительность теста, разделив одно на другое.\n\n- Рассчитайте среднее количество уникальных пользователей приложения в день.\n\n- Определите длительность теста, исходя из рассчитанного значения размера выборок и среднего дневного трафика приложения. Количество дней округлите в большую сторону.",
      "metadata": {
        "id": "qLEv4RoV0eMu"
      }
    },
    {
      "cell_type": "code",
      "source": "from math import ceil\n\n# Среднее количество пользователей приложения в день по историческим данным\navg_daily_users = round(sessions_history['user_id'].nunique()/sessions_history['session_date'].nunique())\n\n# Рассчитываем длительность теста в днях как отношение размера выборки к среднему числу пользователей\ntest_duration = ceil((17441*2)/avg_daily_users)\n\nprint(f\"Рассчитанная длительность A/B-теста при текущем уровене трафика в {avg_daily_users} пользователей в день составит {test_duration} дней\")",
      "metadata": {
        "id": "KZDRbryDOGHa"
      },
      "outputs": [
        {
          "name": "stdout",
          "output_type": "stream",
          "text": "Рассчитанная длительность A/B-теста при текущем уровене трафика в 3046 пользователей в день составит 12 дней\n"
        }
      ],
      "execution_count": 22
    },
    {
      "cell_type": "markdown",
      "source": "### 3. Мониторинг А/В-теста",
      "metadata": {
        "id": "ZuvtAdha0eMv"
      }
    },
    {
      "cell_type": "markdown",
      "source": "#### 3.1. Проверка распределения пользователей\n\nA/B-тест успешно запущен, и уже доступны данные за первые три дня. На этом этапе нужно убедиться, что всё идёт хорошо: пользователи разделены правильным образом, а интересующие вас метрики корректно считаются.\n\n- Считайте и сохраните в датафрейм `sessions_test_part` CSV-файл с историческими данными о сессиях пользователей `sessions_project_test_part.csv`.\n\n- Рассчитайте количество уникальных пользователей в каждой из экспериментальных групп для одного дня наблюдения.\n\n- Рассчитайте и выведите на экран процентную разницу в количестве пользователей в группах A и B. Постройте любую удобную визуализацию, на которой можно было бы увидеть возможное различие двух групп.\n\nДля расчёта процентной разницы воспользуйтесь формулой:\n$$P = 100 \\cdot  \\frac{|A − B|}{A}$$",
      "metadata": {
        "id": "jq5sE3Ya0eMv"
      }
    },
    {
      "cell_type": "code",
      "source": "# Сохраняем новый датафрейм\nsessions_test_part = pd.read_csv('https://code.s3.yandex.net/datasets/sessions_project_test_part.csv')",
      "metadata": {
        "id": "G1bqIzDJOUiz"
      },
      "outputs": [],
      "execution_count": 23
    },
    {
      "cell_type": "code",
      "source": "# Группируем данные\ntest_grp = sessions_test_part.groupby('test_group')['user_id'].nunique().T",
      "metadata": {},
      "outputs": [],
      "execution_count": 24
    },
    {
      "cell_type": "code",
      "source": "# Проверяем данные\ntest_grp",
      "metadata": {},
      "outputs": [
        {
          "data": {
            "text/plain": [
              "test_group\n",
              "A    1477\n",
              "B    1466\n",
              "Name: user_id, dtype: int64"
            ]
          },
          "execution_count": 25,
          "metadata": {},
          "output_type": "execute_result"
        }
      ],
      "execution_count": 25
    },
    {
      "cell_type": "code",
      "source": "# Расчитываем процентную разницу\nP = 100 * abs(test_grp['A'] - test_grp['B'])/test_grp['A']",
      "metadata": {},
      "outputs": [],
      "execution_count": 26
    },
    {
      "cell_type": "code",
      "source": "# Выводим значение\nP",
      "metadata": {},
      "outputs": [
        {
          "data": {
            "text/plain": [
              "0.7447528774542993"
            ]
          },
          "execution_count": 27,
          "metadata": {},
          "output_type": "execute_result"
        }
      ],
      "execution_count": 27
    },
    {
      "cell_type": "code",
      "source": "# Строим круговую диаграмму для визуализации разницы между группами\ntest_grp.plot(\n    kind='pie' ,\n    title='Разница в количестве между тестируемыми группами',\n    autopct='%d%%',\n    ylabel= '',\n    colors=['red','green']\n)\n\nplt.show()",
      "metadata": {},
      "outputs": [
        {
          "data": {
            "image/png": "[encoded data removed]",
            "text/plain": [
              "<Figure size 432x288 with 1 Axes>"
            ]
          },
          "metadata": {},
          "output_type": "display_data"
        }
      ],
      "execution_count": 28
    },
    {
      "cell_type": "markdown",
      "source": "Промежуточный вывод:\n- Разница пользователей в тестируемых группах состовляет менее 1% при допустимых 10-15% ",
      "metadata": {}
    },
    {
      "cell_type": "markdown",
      "source": "#### 3.2. Проверка пересечений пользователей\nПомимо проверки равенства количества пользователей в группах полезно убедиться в том, что группы независимы. Для этого нужно убедиться, что никто из пользователей случайно не попал в обе группы одновременно.\n\n- Рассчитайте количество пользователей, которые встречаются одновременно в группах A и B, или убедитесь, что таких нет.",
      "metadata": {
        "id": "sgpNY5bv0eM0"
      }
    },
    {
      "cell_type": "code",
      "source": "#Проверяем пересечение пользователей в группах\na_group = sessions_test_part[sessions_test_part['test_group']=='A']['user_id']\nb_group = sessions_test_part[sessions_test_part['test_group']=='B']['user_id']\n#Создаем список пересекающихся пользователей\nintersection = list(set(a_group) & set(b_group))\nprint(intersection) ",
      "metadata": {
        "id": "E72ozN9FOX1u"
      },
      "outputs": [
        {
          "name": "stdout",
          "output_type": "stream",
          "text": "[]\n"
        }
      ],
      "execution_count": 29
    },
    {
      "cell_type": "markdown",
      "source": "Промежуточный вывод:\n- Среди выборок нет пересекающихся пользователей. Критерий независимости выполняется",
      "metadata": {}
    },
    {
      "cell_type": "markdown",
      "source": "#### 3.3. Равномерность разделения пользователей по устройствам\nПолезно также убедиться в том, что пользователи равномерно распределены по всем доступным категориальным переменным — типам устройства и регионам.\n\nПостройте две диаграммы:\n\n- доля каждого типа устройства для пользователей из группы A,\n\n- доля каждого типа устройства для пользователей из группы B.\n\nПостарайтесь добавить на диаграммы все необходимые подписи, пояснения и заголовки, которые позволят сделать вывод о том, совпадает ли распределение устройств в группах A и B.\n",
      "metadata": {
        "id": "6RvkNLrg0eM1"
      }
    },
    {
      "cell_type": "code",
      "source": "# Круговая диаграмма долей каждого устройства группы А\ndevice_share_a = sessions_test_part[sessions_test_part['test_group']=='A'].groupby('device')['user_id'].nunique()\ndevice_share_a.plot(\n    kind='pie' ,\n    title='Доля каждого типа устройства для пользователей из группы A',\n    autopct='%d%%',\n    ylabel= '',\n    colors=['red','green','lightblue','yellow']\n)\n\nplt.show()",
      "metadata": {
        "id": "x_IP6PUNPWHC"
      },
      "outputs": [
        {
          "data": {
            "image/png": "[encoded data removed]",
            "text/plain": [
              "<Figure size 432x288 with 1 Axes>"
            ]
          },
          "metadata": {},
          "output_type": "display_data"
        }
      ],
      "execution_count": 30
    },
    {
      "cell_type": "code",
      "source": "# Круговая диаграмма долей каждого устройства группы В\ndevice_share_b = sessions_test_part[sessions_test_part['test_group']=='B'].groupby('device')['user_id'].nunique()\ndevice_share_b.plot(\n    kind='pie' ,\n    title='Доля каждого типа устройства для пользователей из группы В',\n    autopct='%d%%',\n    ylabel= '',\n    colors=['red','green','lightblue','yellow']\n)\n\nplt.show()",
      "metadata": {},
      "outputs": [
        {
          "data": {
            "image/png": "[encoded data removed]",
            "text/plain": [
              "<Figure size 432x288 with 1 Axes>"
            ]
          },
          "metadata": {},
          "output_type": "display_data"
        }
      ],
      "execution_count": 31
    },
    {
      "cell_type": "markdown",
      "source": "Промежуточный вывод:\n- Разница между тестируемыми группами по категориальному параметру типа устройств минимален и не превышает допустимых значений.",
      "metadata": {}
    },
    {
      "cell_type": "markdown",
      "source": "#### 3.4. Равномерность распределения пользователей по регионам\nТеперь убедитесь, что пользователи равномерно распределены по регионам.\n\nПостройте две диаграммы:\n\n- доля каждого региона для пользователей из группы A,\n\n- доля каждого региона для пользователей из группы B.\n\nПостарайтесь добавить на диаграммы все необходимые подписи, пояснения и заголовки, которые позволят сделать вывод о том, совпадает ли распределение регионов в группах A и B. Постарайтесь использовать другой тип диаграммы, не тот, что в прошлом задании.\n",
      "metadata": {
        "id": "gAgmP6vo0eM1"
      }
    },
    {
      "cell_type": "markdown",
      "source": "",
      "metadata": {}
    },
    {
      "cell_type": "code",
      "source": "# Круговая диаграмма долей каждого региона группы А\ndevice_share_a = sessions_test_part[sessions_test_part['test_group']=='A'].groupby('region')['user_id'].nunique()\ndevice_share_a.plot(\n    kind='pie' ,\n    title='Доля каждого региона для пользователей из группы A',\n    autopct='%d%%',\n    ylabel= '',\n    colors=['red','green','lightblue']\n)\n\nplt.show()",
      "metadata": {
        "id": "3hAq-FG4OdYM"
      },
      "outputs": [
        {
          "data": {
            "image/png": "[encoded data removed]",
            "text/plain": [
              "<Figure size 432x288 with 1 Axes>"
            ]
          },
          "metadata": {},
          "output_type": "display_data"
        }
      ],
      "execution_count": 32
    },
    {
      "cell_type": "code",
      "source": "# Круговая диаграмма долей каждого региона группы В\ndevice_share_b = sessions_test_part[sessions_test_part['test_group']=='B'].groupby('region')['user_id'].nunique()\ndevice_share_b.plot(\n    kind='pie' ,\n    title='Доля каждого региона для пользователей из группы В',\n    autopct='%d%%',\n    ylabel= '',\n    colors=['red','green','lightblue','yellow']\n)\n\nplt.show()",
      "metadata": {},
      "outputs": [
        {
          "data": {
            "image/png": "[encoded data removed]",
            "text/plain": [
              "<Figure size 432x288 with 1 Axes>"
            ]
          },
          "metadata": {},
          "output_type": "display_data"
        }
      ],
      "execution_count": 33
    },
    {
      "cell_type": "markdown",
      "source": "Промежуточный вывод:\n- Разница между тестируемыми группами по категориальному параметру региона пользователя минимален и не превышает допустимых значений.",
      "metadata": {}
    },
    {
      "cell_type": "markdown",
      "source": "#### 3.5. Вывод после проверки A/B-теста\n\nНа основе проведённого анализа A/B-теста сформулируйте и запишите свои выводы. В выводе обязательно укажите:\n\n- Были ли обнаружено различие в количестве пользователей в двух группах.\n\n- Являются ли выборки независимыми. Было ли обнаружено пересечение пользователей из тестовой и контрольной групп.\n\n- Сохраняется ли равномерное распределение пользователей тестовой и контрольной групп по категориальным переменным: устройствам и регионам.\n\nСделайте заключение о том, корректно ли проходит A/B-тест или наблюдаются какие-либо нарушения.",
      "metadata": {
        "id": "X2WSZ-sDrSUi"
      }
    },
    {
      "cell_type": "markdown",
      "source": "На основе мониторинга тестирования можно сделать следующие выводы:\n- Разница в количестве пользователей в тестируемых группах не превышает одного процента и состовляет 0.74%. В группе А - 1477 пол., в группе В - 1466 пол.\n- Пересечений между группами обнаружено не было.\n- Прослеживается равномерное распределение пользователей тестируемых групп. Разница между группами по категориальным переменным наблюдается, но остаётся в рамках нормы и не превышает 1-2%  \n\nВ связи с выше перечисленными наблюдениями можно сделать вывод, что проводимый A/B-тест проходит успешно.",
      "metadata": {
        "id": "dDELHlAcOi8d"
      }
    },
    {
      "cell_type": "markdown",
      "source": "### 4. Проверка результатов A/B-теста\n\nA/B-тест завершён, и у вас есть результаты за все дни проведения эксперимента. Необходимо убедиться в корректности теста и верно интерпретировать результаты.",
      "metadata": {
        "id": "nudRr_BQ0eM2"
      }
    },
    {
      "cell_type": "markdown",
      "source": "#### 4.1. Получение результатов теста и подсчёт основной метрики\n\n- Считайте и сохраните в датафрейм `sessions_test` CSV-файл с историческими данными о сессиях пользователей `sessions_project_test.csv`.\n\n- В датафрейме `sessions_test` создайте дополнительный столбец `good_session`. В него войдёт значение `1`, если за одну сессию было просмотрено 4 и более страниц, и значение `0`, если просмотрено меньше.",
      "metadata": {
        "id": "JVve-YBB0eM2"
      }
    },
    {
      "cell_type": "code",
      "source": "# Сохраняем новый датафрейм\nsessions_test = pd.read_csv('https://code.s3.yandex.net/datasets/sessions_project_test.csv')",
      "metadata": {
        "id": "EqRlwMtKPTir"
      },
      "outputs": [],
      "execution_count": 34
    },
    {
      "cell_type": "code",
      "source": "# Создаём новый столбец \"good_session\"\nsessions_test['good_session'] = 0\nsessions_test.loc[sessions_test['page_counter']>=4,'good_session'] = 1",
      "metadata": {},
      "outputs": [],
      "execution_count": 35
    },
    {
      "cell_type": "markdown",
      "source": "#### 4.2. Проверка корректности результатов теста\n\nПрежде чем приступать к анализу ключевых продуктовых метрик, необходимо убедиться, что тест проведён корректно и вы будете сравнивать две сопоставимые группы.\n\n- Рассчитайте количество уникальных сессий для каждого дня и обеих тестовых групп, используя группировку.\n\n- Проверьте, что количество уникальных дневных сессий в двух выборках не различается или различия не статистически значимы. Используйте статистический тест, который позволит сделать вывод о равенстве средних двух выборок.\n\n- В качестве ответа выведите на экран полученное значение p-value и интерпретируйте его.",
      "metadata": {
        "id": "aeYhrMYy0eM2"
      }
    },
    {
      "cell_type": "code",
      "source": "# количество уникальных сессий для каждого дня в группе А\nsession_count_a = sessions_test[sessions_test['test_group']=='A'].groupby('session_date')['session_id'].nunique()\nsession_count_a",
      "metadata": {
        "id": "5NUlcltkTTSU"
      },
      "outputs": [
        {
          "data": {
            "text/plain": [
              "session_date\n",
              "2025-10-14    1502\n",
              "2025-10-15    2235\n",
              "2025-10-16    3280\n",
              "2025-10-17    4089\n",
              "2025-10-18    5013\n",
              "2025-10-19    6535\n",
              "2025-10-20    5837\n",
              "2025-10-21    3927\n",
              "2025-10-22    3083\n",
              "2025-10-23    2470\n",
              "2025-10-24    2090\n",
              "2025-10-25    1897\n",
              "2025-10-26    1669\n",
              "2025-10-27    1454\n",
              "2025-10-28    1279\n",
              "2025-10-29    1068\n",
              "2025-10-30     887\n",
              "2025-10-31     644\n",
              "2025-11-01     434\n",
              "2025-11-02     158\n",
              "Name: session_id, dtype: int64"
            ]
          },
          "execution_count": 36,
          "metadata": {},
          "output_type": "execute_result"
        }
      ],
      "execution_count": 36
    },
    {
      "cell_type": "code",
      "source": "# количество уникальных сессий для каждого дня в группе В\nsession_count_b = sessions_test[sessions_test['test_group']=='B'].groupby('session_date')['session_id'].nunique()\nsession_count_b",
      "metadata": {},
      "outputs": [
        {
          "data": {
            "text/plain": [
              "session_date\n",
              "2025-10-14    1628\n",
              "2025-10-15    2283\n",
              "2025-10-16    3241\n",
              "2025-10-17    4054\n",
              "2025-10-18    5059\n",
              "2025-10-19    6779\n",
              "2025-10-20    6089\n",
              "2025-10-21    3981\n",
              "2025-10-22    3111\n",
              "2025-10-23    2548\n",
              "2025-10-24    2068\n",
              "2025-10-25    1814\n",
              "2025-10-26    1692\n",
              "2025-10-27    1517\n",
              "2025-10-28    1289\n",
              "2025-10-29    1131\n",
              "2025-10-30     876\n",
              "2025-10-31     669\n",
              "2025-11-01     465\n",
              "2025-11-02     160\n",
              "Name: session_id, dtype: int64"
            ]
          },
          "execution_count": 37,
          "metadata": {},
          "output_type": "execute_result"
        }
      ],
      "execution_count": 37
    },
    {
      "cell_type": "code",
      "source": "# Статистический тест для проверки различий в тестовых группах\nfrom scipy.stats import ttest_ind\ntest_result = ttest_ind(\n    session_count_a,\n    session_count_b,\n    alternative='two-sided' \n)\n\n# Фиксируем уровень значимости\nalpha = 0.05\n\nif test_result.pvalue > alpha:\n    print(f'pvalue={test_result.pvalue} > {alpha}')\n    print('Отличий либо слишком мало, либо нет совсем')\nelse:\n    print(f'pvalue={test_result.pvalue} < {alpha}')\n    print('Присутствуют отличия в данных между тестируемыми группами') ",
      "metadata": {},
      "outputs": [
        {
          "name": "stdout",
          "output_type": "stream",
          "text": "pvalue=0.938219304859116 > 0.05\n,Отличий либо слишком мало, либо нет совсем\n"
        }
      ],
      "execution_count": 38
    },
    {
      "cell_type": "markdown",
      "source": "#### 4.3. Сравнение доли успешных сессий\n\nКогда вы убедились, что количество сессий в обеих выборках не различалось, можно переходить к анализу ключевой метрики — доли успешных сессий.\n\nИспользуйте созданный на первом шаге задания столбец `good_session` и рассчитайте долю успешных сессий для выборок A и B, а также разницу в этом показателе. Полученный вывод отобразите на экране.",
      "metadata": {
        "id": "7kwRxzg70eM3"
      }
    },
    {
      "cell_type": "code",
      "source": "group_a = sessions_test[sessions_test['test_group']=='A']\nall_sessions = group_a['session_id'].nunique()\ngood_group_a = group_a[group_a['good_session']==1]['session_id'].count()\ngood_session_share_a = good_group_a/all_sessions*100\ngood_session_share_a",
      "metadata": {
        "id": "Uku-V1CpPRCz"
      },
      "outputs": [
        {
          "data": {
            "text/plain": [
              "30.772335573449578"
            ]
          },
          "execution_count": 39,
          "metadata": {},
          "output_type": "execute_result"
        }
      ],
      "execution_count": 39
    },
    {
      "cell_type": "code",
      "source": "group_b = sessions_test[sessions_test['test_group']=='B']\nall_sessions = group_b['session_id'].nunique()\ngood_group_b = group_b[group_b['good_session']==1]['session_id'].count()\ngood_session_share_b = good_group_b/all_sessions*100\ngood_session_share_b",
      "metadata": {},
      "outputs": [
        {
          "data": {
            "text/plain": [
              "31.828992745867524"
            ]
          },
          "execution_count": 40,
          "metadata": {},
          "output_type": "execute_result"
        }
      ],
      "execution_count": 40
    },
    {
      "cell_type": "code",
      "source": "dif = round(good_session_share_b - good_session_share_a,1)\nprint(f'Разница в долях успешных сессий между группами состовляет {dif}% в пользу тестовой группы ')",
      "metadata": {},
      "outputs": [
        {
          "name": "stdout",
          "output_type": "stream",
          "text": "Разница в долях успешных сессий между группами состовляет 1.1% в пользу тестовой группы \n"
        }
      ],
      "execution_count": 41
    },
    {
      "cell_type": "markdown",
      "source": "#### 4.4. Насколько статистически значимо изменение ключевой метрики\n\nНа предыдущем шаге вы убедились, что количество успешных сессий в тестовой выборке примерно на 1.1% выше, чем в контрольной, но делать выводы только на основе этого значения будет некорректно. Для принятия решения всегда необходимо отвечать на вопрос: является ли это изменение статистически значимым.\n\n- Используя статистический тест, рассчитайте, является ли изменение в метрике доли успешных сессий статистически значимым.\n\n- Выведите на экран полученное значение p-value и свои выводы о статистической значимости. Напомним, что уровень значимости в эксперименте был выбран на уровне 0.05.",
      "metadata": {
        "id": "9fMFuja10eM4"
      }
    },
    {
      "cell_type": "code",
      "source": "# Проведём Z-тест пропорций  и попробуем выяснить является ли изменение в метрике доли успешных сессий статистически значимым\nfrom statsmodels.stats.proportion import proportions_ztest\n\n\nn_a = sessions_test[ \n    sessions_test.test_group=='A'\n].shape[0] \n\nn_b = sessions_test[ \n    sessions_test.test_group=='B'\n].shape[0]\n\nm_a = sessions_test[ \n    (sessions_test.test_group=='A')&(sessions_test.good_session==1)\n].shape[0] \n\nm_b = sessions_test[ \n    (sessions_test.test_group=='B')&(sessions_test.good_session==1)\n].shape[0]\n\n\n\nstat_ztest, p_value_ztest = proportions_ztest( \n    [m_a,m_b],\n    [n_a,n_b],\n\talternative='smaller'\n)\n\nalpha = 0.05\n\nprint(f'pvalue={p_value_ztest}') \n\nif p_value_ztest > alpha:\n    print('Нововведение не показало эффекта')\n    text_interpretation = 'не изменилось' \nelse:\n    print('Нововведение показало эффект')\n    text_interpretation = 'сократилось'",
      "metadata": {
        "id": "gFvhRGwlPLS0"
      },
      "outputs": [
        {
          "name": "stdout",
          "output_type": "stream",
          "text": "pvalue=0.0001574739988036123\n,Нововведение показало эффект\n"
        }
      ],
      "execution_count": 42
    },
    {
      "cell_type": "markdown",
      "source": "#### 4.5. Вывод по результатам A/B-эксперимента\n\nНа основе проведённого анализа результатов теста сформулируйте и запишите свои выводы для команды разработки приложения. В выводе обязательно укажите:\n\n- Характеристики проведённого эксперимента, количество задействованных пользователей и длительность эксперимента.\n\n- Повлияло ли внедрение нового алгоритма рекомендаций на рост ключевой метрики и как.\n\n- Каким получилось значение p-value для оценки статистической значимости выявленного эффекта.\n\n- Стоит ли внедрять новоовведение в приложение.",
      "metadata": {
        "id": "GnJrkY9Q63zS"
      }
    },
    {
      "cell_type": "markdown",
      "source": "После проведения A/B-теста нового алгоритма рекомендаций можно подвести следующие итоги:\n- Продолжительность теста состовляла 12 дней. Для каждой тестируемой группы потребовалось 17441 пользователь или 34882 пользователя в сумме.\n- В обеих тестируемых группах удалось соблюсти равновмерное распределение данных по категориальным параметрам.\n- Наблюдается эффект от нового алгоритма рекомендаций. Процент успешних сессий в тестовой группе, в которых пользователи просматривают 4 и больше страниц, увеличился на 1.1% по сравнению с пользователями из контрольной группы со старым алгоритмом.\n- Был проведен Z-тест пропорций, который бы дал возможность оценить статистическую значимость увеличению процента успешных сессий.\n- Внедрение нововведения ненамного увеличит процент успешных сессий. Новый алгоритм рекомендаций стоит внедрить в приложение.",
      "metadata": {
        "id": "rri8KRIgPMrW"
      }
    }
  ]
}
