{
 "cells": [
  {
   "cell_type": "markdown",
   "id": "e06910dd",
   "metadata": {
    "id": "e06910dd"
   },
   "source": [
    "# Анализ рынка заведений Москвы\n",
    "\n",
    "- Автор: Горлов Георгий\n",
    "- Дата: 16.03.2025"
   ]
  },
  {
   "cell_type": "markdown",
   "id": "4149134c",
   "metadata": {
    "id": "4149134c"
   },
   "source": [
    "### Цели и задачи проекта\n",
    "\n",
    "Цель проекта: провести для инвесторов из фонда *Shut Up and Take My Money* исследовательский анализ рынка заведений общественного питания Москвы. Датасет составлен на основе данных сервисов Яндекс Карты и Яндекс Бизнес на лето 2022 года."
   ]
  },
  {
   "cell_type": "markdown",
   "id": "728986ea",
   "metadata": {
    "id": "728986ea"
   },
   "source": [
    "### Описание данных"
   ]
  },
  {
   "cell_type": "markdown",
   "id": "3fe7c2e3",
   "metadata": {},
   "source": [
    "Файл `rest_info.csv` содержит информацию о заведениях общественного питания."
   ]
  },
  {
   "cell_type": "markdown",
   "id": "36d0251b",
   "metadata": {},
   "source": [
    "Файл `rest_price.csv` содержит информацию о среднем чеке в заведениях общественного питания."
   ]
  },
  {
   "cell_type": "markdown",
   "id": "4fecaf95",
   "metadata": {
    "id": "4fecaf95"
   },
   "source": [
    "### Содержимое проекта\n",
    "\n",
    "1. [Загрузка и знакомство с данными](#1)\n",
    "2. [Предобработка данных](#2)\n",
    "3. [Исследовательский  данных](#3)\n",
    "4. [Итоговый вывод и рекомендации](#4)\n",
    "\n",
    "\n",
    "---"
   ]
  },
  {
   "cell_type": "markdown",
   "id": "6f7d21d6",
   "metadata": {
    "id": "6f7d21d6"
   },
   "source": [
    "<a id='1'></a>\n",
    "## 1. Загрузка данных и знакомство с ними\n",
    "\n",
    "- Загрузите данные о заведениях общественного питания Москвы. Путь к файлам: `/datasets/rest_info.csv` и `/datasets/rest_price.csv`."
   ]
  },
  {
   "cell_type": "markdown",
   "id": "18b5dfff",
   "metadata": {
    "id": "18b5dfff"
   },
   "source": [
    "- Познакомьтесь с данными и изучите общую информацию о них."
   ]
  },
  {
   "cell_type": "code",
   "execution_count": 1,
   "id": "f68a7419",
   "metadata": {
    "id": "f68a7419"
   },
   "outputs": [
    {
     "name": "stdout",
     "output_type": "stream",
     "text": [
      "Requirement already satisfied: phik in /opt/conda/lib/python3.9/site-packages (0.12.4)\n",
      "Requirement already satisfied: numpy>=1.18.0 in /opt/conda/lib/python3.9/site-packages (from phik) (1.21.1)\n",
      "Requirement already satisfied: joblib>=0.14.1 in /opt/conda/lib/python3.9/site-packages (from phik) (1.1.0)\n",
      "Requirement already satisfied: pandas>=0.25.1 in /opt/conda/lib/python3.9/site-packages (from phik) (1.2.4)\n",
      "Requirement already satisfied: matplotlib>=2.2.3 in /opt/conda/lib/python3.9/site-packages (from phik) (3.3.4)\n",
      "Requirement already satisfied: scipy>=1.5.2 in /opt/conda/lib/python3.9/site-packages (from phik) (1.9.1)\n",
      "Requirement already satisfied: kiwisolver>=1.0.1 in /opt/conda/lib/python3.9/site-packages (from matplotlib>=2.2.3->phik) (1.4.4)\n",
      "Requirement already satisfied: cycler>=0.10 in /opt/conda/lib/python3.9/site-packages (from matplotlib>=2.2.3->phik) (0.11.0)\n",
      "Requirement already satisfied: python-dateutil>=2.1 in /opt/conda/lib/python3.9/site-packages (from matplotlib>=2.2.3->phik) (2.8.1)\n",
      "Requirement already satisfied: pillow>=6.2.0 in /opt/conda/lib/python3.9/site-packages (from matplotlib>=2.2.3->phik) (8.4.0)\n",
      "Requirement already satisfied: pyparsing!=2.0.4,!=2.1.2,!=2.1.6,>=2.0.3 in /opt/conda/lib/python3.9/site-packages (from matplotlib>=2.2.3->phik) (2.4.7)\n",
      "Requirement already satisfied: pytz>=2017.3 in /opt/conda/lib/python3.9/site-packages (from pandas>=0.25.1->phik) (2021.1)\n",
      "Requirement already satisfied: six>=1.5 in /opt/conda/lib/python3.9/site-packages (from python-dateutil>=2.1->matplotlib>=2.2.3->phik) (1.16.0)\n"
     ]
    }
   ],
   "source": [
    "# Принудительно запрещаем вывод предупреждений \n",
    "import warnings\n",
    "warnings.filterwarnings(\"ignore\")\n",
    "\n",
    "# Импортируем библиотеку numpy\n",
    "import numpy as np\n",
    "\n",
    "# Импортируем библиотеки\n",
    "import pandas as pd\n",
    "\n",
    "# Загружаем библиотеки для визуализации данных\n",
    "import matplotlib.pyplot as plt\n",
    "import seaborn as sns\n",
    "\n",
    "# Загружаем библиотеку для расчёта коэффициента корреляции phi_k\n",
    "!pip install phik\n",
    "from phik import phik_matrix"
   ]
  },
  {
   "cell_type": "code",
   "execution_count": 2,
   "id": "dd415c80",
   "metadata": {
    "id": "dd415c80"
   },
   "outputs": [],
   "source": [
    "# Выгружаем данные в переменные info_df и price_df\n",
    "info_df = pd.read_csv('https://code.s3.yandex.net/datasets/rest_info.csv')\n",
    "price_df = pd.read_csv('https://code.s3.yandex.net/datasets/rest_price.csv')"
   ]
  },
  {
   "cell_type": "code",
   "execution_count": 3,
   "id": "3158ad37",
   "metadata": {
    "id": "3158ad37"
   },
   "outputs": [
    {
     "data": {
      "text/html": [
       "<div>\n",
       "<style scoped>\n",
       "    .dataframe tbody tr th:only-of-type {\n",
       "        vertical-align: middle;\n",
       "    }\n",
       "\n",
       "    .dataframe tbody tr th {\n",
       "        vertical-align: top;\n",
       "    }\n",
       "\n",
       "    .dataframe thead th {\n",
       "        text-align: right;\n",
       "    }\n",
       "</style>\n",
       "<table border=\"1\" class=\"dataframe\">\n",
       "  <thead>\n",
       "    <tr style=\"text-align: right;\">\n",
       "      <th></th>\n",
       "      <th>id</th>\n",
       "      <th>name</th>\n",
       "      <th>category</th>\n",
       "      <th>address</th>\n",
       "      <th>district</th>\n",
       "      <th>hours</th>\n",
       "      <th>rating</th>\n",
       "      <th>chain</th>\n",
       "      <th>seats</th>\n",
       "    </tr>\n",
       "  </thead>\n",
       "  <tbody>\n",
       "    <tr>\n",
       "      <th>0</th>\n",
       "      <td>0c3e3439a8c64ea5bf6ecd6ca6ae19f0</td>\n",
       "      <td>WoWфли</td>\n",
       "      <td>кафе</td>\n",
       "      <td>Москва, улица Дыбенко, 7/1</td>\n",
       "      <td>Северный административный округ</td>\n",
       "      <td>ежедневно, 10:00–22:00</td>\n",
       "      <td>5.0</td>\n",
       "      <td>0</td>\n",
       "      <td>NaN</td>\n",
       "    </tr>\n",
       "    <tr>\n",
       "      <th>1</th>\n",
       "      <td>045780ada3474c57a2112e505d74b633</td>\n",
       "      <td>Четыре комнаты</td>\n",
       "      <td>ресторан</td>\n",
       "      <td>Москва, улица Дыбенко, 36, корп. 1</td>\n",
       "      <td>Северный административный округ</td>\n",
       "      <td>ежедневно, 10:00–22:00</td>\n",
       "      <td>4.5</td>\n",
       "      <td>0</td>\n",
       "      <td>4.0</td>\n",
       "    </tr>\n",
       "    <tr>\n",
       "      <th>2</th>\n",
       "      <td>1070b6b59144425896c65889347fcff6</td>\n",
       "      <td>Хазри</td>\n",
       "      <td>кафе</td>\n",
       "      <td>Москва, Клязьминская улица, 15</td>\n",
       "      <td>Северный административный округ</td>\n",
       "      <td>пн-чт 11:00–02:00; пт,сб 11:00–05:00; вс 11:00...</td>\n",
       "      <td>4.6</td>\n",
       "      <td>0</td>\n",
       "      <td>45.0</td>\n",
       "    </tr>\n",
       "    <tr>\n",
       "      <th>3</th>\n",
       "      <td>03ac7cd772104f65b58b349dc59f03ee</td>\n",
       "      <td>Dormouse Coffee Shop</td>\n",
       "      <td>кофейня</td>\n",
       "      <td>Москва, улица Маршала Федоренко, 12</td>\n",
       "      <td>Северный административный округ</td>\n",
       "      <td>ежедневно, 09:00–22:00</td>\n",
       "      <td>5.0</td>\n",
       "      <td>0</td>\n",
       "      <td>NaN</td>\n",
       "    </tr>\n",
       "    <tr>\n",
       "      <th>4</th>\n",
       "      <td>a163aada139c4c7f87b0b1c0b466a50f</td>\n",
       "      <td>Иль Марко</td>\n",
       "      <td>пиццерия</td>\n",
       "      <td>Москва, Правобережная улица, 1Б</td>\n",
       "      <td>Северный административный округ</td>\n",
       "      <td>ежедневно, 10:00–22:00</td>\n",
       "      <td>5.0</td>\n",
       "      <td>1</td>\n",
       "      <td>148.0</td>\n",
       "    </tr>\n",
       "  </tbody>\n",
       "</table>\n",
       "</div>"
      ],
      "text/plain": [
       "                                 id                  name  category  \\\n",
       "0  0c3e3439a8c64ea5bf6ecd6ca6ae19f0                WoWфли      кафе   \n",
       "1  045780ada3474c57a2112e505d74b633        Четыре комнаты  ресторан   \n",
       "2  1070b6b59144425896c65889347fcff6                 Хазри      кафе   \n",
       "3  03ac7cd772104f65b58b349dc59f03ee  Dormouse Coffee Shop   кофейня   \n",
       "4  a163aada139c4c7f87b0b1c0b466a50f             Иль Марко  пиццерия   \n",
       "\n",
       "                               address                         district  \\\n",
       "0           Москва, улица Дыбенко, 7/1  Северный административный округ   \n",
       "1   Москва, улица Дыбенко, 36, корп. 1  Северный административный округ   \n",
       "2       Москва, Клязьминская улица, 15  Северный административный округ   \n",
       "3  Москва, улица Маршала Федоренко, 12  Северный административный округ   \n",
       "4      Москва, Правобережная улица, 1Б  Северный административный округ   \n",
       "\n",
       "                                               hours  rating  chain  seats  \n",
       "0                             ежедневно, 10:00–22:00     5.0      0    NaN  \n",
       "1                             ежедневно, 10:00–22:00     4.5      0    4.0  \n",
       "2  пн-чт 11:00–02:00; пт,сб 11:00–05:00; вс 11:00...     4.6      0   45.0  \n",
       "3                             ежедневно, 09:00–22:00     5.0      0    NaN  \n",
       "4                             ежедневно, 10:00–22:00     5.0      1  148.0  "
      ]
     },
     "execution_count": 3,
     "metadata": {},
     "output_type": "execute_result"
    }
   ],
   "source": [
    "# Выведем первцые 5 строк таблицы info_df\n",
    "info_df.head()"
   ]
  },
  {
   "cell_type": "code",
   "execution_count": 4,
   "id": "6add72d0",
   "metadata": {},
   "outputs": [
    {
     "data": {
      "text/html": [
       "<div>\n",
       "<style scoped>\n",
       "    .dataframe tbody tr th:only-of-type {\n",
       "        vertical-align: middle;\n",
       "    }\n",
       "\n",
       "    .dataframe tbody tr th {\n",
       "        vertical-align: top;\n",
       "    }\n",
       "\n",
       "    .dataframe thead th {\n",
       "        text-align: right;\n",
       "    }\n",
       "</style>\n",
       "<table border=\"1\" class=\"dataframe\">\n",
       "  <thead>\n",
       "    <tr style=\"text-align: right;\">\n",
       "      <th></th>\n",
       "      <th>id</th>\n",
       "      <th>name</th>\n",
       "      <th>category</th>\n",
       "      <th>address</th>\n",
       "      <th>district</th>\n",
       "      <th>hours</th>\n",
       "      <th>rating</th>\n",
       "      <th>chain</th>\n",
       "      <th>seats</th>\n",
       "    </tr>\n",
       "  </thead>\n",
       "  <tbody>\n",
       "    <tr>\n",
       "      <th>8401</th>\n",
       "      <td>0342ad1a45ed41ba89dcba246a8267e5</td>\n",
       "      <td>Суши Мания</td>\n",
       "      <td>кафе</td>\n",
       "      <td>Москва, Профсоюзная улица, 56</td>\n",
       "      <td>Юго-Западный административный округ</td>\n",
       "      <td>ежедневно, 09:00–02:00</td>\n",
       "      <td>4.4</td>\n",
       "      <td>0</td>\n",
       "      <td>86.0</td>\n",
       "    </tr>\n",
       "    <tr>\n",
       "      <th>8402</th>\n",
       "      <td>ee6bb7c3650e47bd8186fca08eda1091</td>\n",
       "      <td>Миславнес</td>\n",
       "      <td>кафе</td>\n",
       "      <td>Москва, Пролетарский проспект, 19, корп. 1</td>\n",
       "      <td>Южный административный округ</td>\n",
       "      <td>ежедневно, 08:00–22:00</td>\n",
       "      <td>4.8</td>\n",
       "      <td>0</td>\n",
       "      <td>150.0</td>\n",
       "    </tr>\n",
       "    <tr>\n",
       "      <th>8403</th>\n",
       "      <td>62e8c64d4c89467aba608e39ef87616b</td>\n",
       "      <td>Самовар</td>\n",
       "      <td>кафе</td>\n",
       "      <td>Москва, Люблинская улица, 112А, стр. 1</td>\n",
       "      <td>Юго-Восточный административный округ</td>\n",
       "      <td>ежедневно, круглосуточно</td>\n",
       "      <td>3.9</td>\n",
       "      <td>0</td>\n",
       "      <td>150.0</td>\n",
       "    </tr>\n",
       "    <tr>\n",
       "      <th>8404</th>\n",
       "      <td>06a0db5ecd4842d48cd6350aa923e297</td>\n",
       "      <td>Чайхана Sabr</td>\n",
       "      <td>кафе</td>\n",
       "      <td>Москва, Люблинская улица, 112А, стр. 1</td>\n",
       "      <td>Юго-Восточный административный округ</td>\n",
       "      <td>ежедневно, круглосуточно</td>\n",
       "      <td>4.2</td>\n",
       "      <td>1</td>\n",
       "      <td>150.0</td>\n",
       "    </tr>\n",
       "    <tr>\n",
       "      <th>8405</th>\n",
       "      <td>9d56f8f7a7f74df1a925bc0fd2de8aae</td>\n",
       "      <td>Kebab Time</td>\n",
       "      <td>кафе</td>\n",
       "      <td>Москва, Россошанский проезд, 6</td>\n",
       "      <td>Южный административный округ</td>\n",
       "      <td>ежедневно, круглосуточно</td>\n",
       "      <td>3.9</td>\n",
       "      <td>0</td>\n",
       "      <td>12.0</td>\n",
       "    </tr>\n",
       "  </tbody>\n",
       "</table>\n",
       "</div>"
      ],
      "text/plain": [
       "                                    id          name category  \\\n",
       "8401  0342ad1a45ed41ba89dcba246a8267e5    Суши Мания     кафе   \n",
       "8402  ee6bb7c3650e47bd8186fca08eda1091     Миславнес     кафе   \n",
       "8403  62e8c64d4c89467aba608e39ef87616b       Самовар     кафе   \n",
       "8404  06a0db5ecd4842d48cd6350aa923e297  Чайхана Sabr     кафе   \n",
       "8405  9d56f8f7a7f74df1a925bc0fd2de8aae    Kebab Time     кафе   \n",
       "\n",
       "                                         address  \\\n",
       "8401               Москва, Профсоюзная улица, 56   \n",
       "8402  Москва, Пролетарский проспект, 19, корп. 1   \n",
       "8403      Москва, Люблинская улица, 112А, стр. 1   \n",
       "8404      Москва, Люблинская улица, 112А, стр. 1   \n",
       "8405              Москва, Россошанский проезд, 6   \n",
       "\n",
       "                                  district                     hours  rating  \\\n",
       "8401   Юго-Западный административный округ    ежедневно, 09:00–02:00     4.4   \n",
       "8402          Южный административный округ    ежедневно, 08:00–22:00     4.8   \n",
       "8403  Юго-Восточный административный округ  ежедневно, круглосуточно     3.9   \n",
       "8404  Юго-Восточный административный округ  ежедневно, круглосуточно     4.2   \n",
       "8405          Южный административный округ  ежедневно, круглосуточно     3.9   \n",
       "\n",
       "      chain  seats  \n",
       "8401      0   86.0  \n",
       "8402      0  150.0  \n",
       "8403      0  150.0  \n",
       "8404      1  150.0  \n",
       "8405      0   12.0  "
      ]
     },
     "execution_count": 4,
     "metadata": {},
     "output_type": "execute_result"
    }
   ],
   "source": [
    "# Выведем последние 5 строк таблицы info_df\n",
    "info_df.tail()"
   ]
  },
  {
   "cell_type": "code",
   "execution_count": 5,
   "id": "b912a66f",
   "metadata": {},
   "outputs": [
    {
     "name": "stdout",
     "output_type": "stream",
     "text": [
      "<class 'pandas.core.frame.DataFrame'>\n",
      "RangeIndex: 8406 entries, 0 to 8405\n",
      "Data columns (total 9 columns):\n",
      " #   Column    Non-Null Count  Dtype  \n",
      "---  ------    --------------  -----  \n",
      " 0   id        8406 non-null   object \n",
      " 1   name      8406 non-null   object \n",
      " 2   category  8406 non-null   object \n",
      " 3   address   8406 non-null   object \n",
      " 4   district  8406 non-null   object \n",
      " 5   hours     7870 non-null   object \n",
      " 6   rating    8406 non-null   float64\n",
      " 7   chain     8406 non-null   int64  \n",
      " 8   seats     4795 non-null   float64\n",
      "dtypes: float64(2), int64(1), object(6)\n",
      "memory usage: 591.2+ KB\n"
     ]
    }
   ],
   "source": [
    "# Выведем общую информацию о таблице info_df\n",
    "info_df.info()"
   ]
  },
  {
   "cell_type": "markdown",
   "id": "3455f5dd",
   "metadata": {},
   "source": [
    "**Осмотрим датасет** `rest_price.csv`"
   ]
  },
  {
   "cell_type": "code",
   "execution_count": 6,
   "id": "fe458c81",
   "metadata": {},
   "outputs": [
    {
     "data": {
      "text/html": [
       "<div>\n",
       "<style scoped>\n",
       "    .dataframe tbody tr th:only-of-type {\n",
       "        vertical-align: middle;\n",
       "    }\n",
       "\n",
       "    .dataframe tbody tr th {\n",
       "        vertical-align: top;\n",
       "    }\n",
       "\n",
       "    .dataframe thead th {\n",
       "        text-align: right;\n",
       "    }\n",
       "</style>\n",
       "<table border=\"1\" class=\"dataframe\">\n",
       "  <thead>\n",
       "    <tr style=\"text-align: right;\">\n",
       "      <th></th>\n",
       "      <th>id</th>\n",
       "      <th>price</th>\n",
       "      <th>avg_bill</th>\n",
       "      <th>middle_avg_bill</th>\n",
       "      <th>middle_coffee_cup</th>\n",
       "    </tr>\n",
       "  </thead>\n",
       "  <tbody>\n",
       "    <tr>\n",
       "      <th>0</th>\n",
       "      <td>045780ada3474c57a2112e505d74b633</td>\n",
       "      <td>выше среднего</td>\n",
       "      <td>Средний счёт:1500–1600 ₽</td>\n",
       "      <td>1550.0</td>\n",
       "      <td>NaN</td>\n",
       "    </tr>\n",
       "    <tr>\n",
       "      <th>1</th>\n",
       "      <td>1070b6b59144425896c65889347fcff6</td>\n",
       "      <td>средние</td>\n",
       "      <td>Средний счёт:от 1000 ₽</td>\n",
       "      <td>1000.0</td>\n",
       "      <td>NaN</td>\n",
       "    </tr>\n",
       "    <tr>\n",
       "      <th>2</th>\n",
       "      <td>03ac7cd772104f65b58b349dc59f03ee</td>\n",
       "      <td>NaN</td>\n",
       "      <td>Цена чашки капучино:155–185 ₽</td>\n",
       "      <td>NaN</td>\n",
       "      <td>170.0</td>\n",
       "    </tr>\n",
       "    <tr>\n",
       "      <th>3</th>\n",
       "      <td>a163aada139c4c7f87b0b1c0b466a50f</td>\n",
       "      <td>средние</td>\n",
       "      <td>Средний счёт:400–600 ₽</td>\n",
       "      <td>500.0</td>\n",
       "      <td>NaN</td>\n",
       "    </tr>\n",
       "    <tr>\n",
       "      <th>4</th>\n",
       "      <td>8a343546b24e4a499ad96eb7d0797a8a</td>\n",
       "      <td>средние</td>\n",
       "      <td>NaN</td>\n",
       "      <td>NaN</td>\n",
       "      <td>NaN</td>\n",
       "    </tr>\n",
       "  </tbody>\n",
       "</table>\n",
       "</div>"
      ],
      "text/plain": [
       "                                 id          price  \\\n",
       "0  045780ada3474c57a2112e505d74b633  выше среднего   \n",
       "1  1070b6b59144425896c65889347fcff6        средние   \n",
       "2  03ac7cd772104f65b58b349dc59f03ee            NaN   \n",
       "3  a163aada139c4c7f87b0b1c0b466a50f        средние   \n",
       "4  8a343546b24e4a499ad96eb7d0797a8a        средние   \n",
       "\n",
       "                        avg_bill  middle_avg_bill  middle_coffee_cup  \n",
       "0       Средний счёт:1500–1600 ₽           1550.0                NaN  \n",
       "1         Средний счёт:от 1000 ₽           1000.0                NaN  \n",
       "2  Цена чашки капучино:155–185 ₽              NaN              170.0  \n",
       "3         Средний счёт:400–600 ₽            500.0                NaN  \n",
       "4                            NaN              NaN                NaN  "
      ]
     },
     "execution_count": 6,
     "metadata": {},
     "output_type": "execute_result"
    }
   ],
   "source": [
    "# Выведем первцые 5 строк таблицы price_df\n",
    "price_df.head()"
   ]
  },
  {
   "cell_type": "code",
   "execution_count": 7,
   "id": "7d4a6bf9",
   "metadata": {},
   "outputs": [
    {
     "data": {
      "text/html": [
       "<div>\n",
       "<style scoped>\n",
       "    .dataframe tbody tr th:only-of-type {\n",
       "        vertical-align: middle;\n",
       "    }\n",
       "\n",
       "    .dataframe tbody tr th {\n",
       "        vertical-align: top;\n",
       "    }\n",
       "\n",
       "    .dataframe thead th {\n",
       "        text-align: right;\n",
       "    }\n",
       "</style>\n",
       "<table border=\"1\" class=\"dataframe\">\n",
       "  <thead>\n",
       "    <tr style=\"text-align: right;\">\n",
       "      <th></th>\n",
       "      <th>id</th>\n",
       "      <th>price</th>\n",
       "      <th>avg_bill</th>\n",
       "      <th>middle_avg_bill</th>\n",
       "      <th>middle_coffee_cup</th>\n",
       "    </tr>\n",
       "  </thead>\n",
       "  <tbody>\n",
       "    <tr>\n",
       "      <th>4053</th>\n",
       "      <td>962800540173458486f3c465437c2d8b</td>\n",
       "      <td>средние</td>\n",
       "      <td>Цена бокала пива:от 140 ₽</td>\n",
       "      <td>NaN</td>\n",
       "      <td>NaN</td>\n",
       "    </tr>\n",
       "    <tr>\n",
       "      <th>4054</th>\n",
       "      <td>4277890d659341848d7051cbf2e51f51</td>\n",
       "      <td>выше среднего</td>\n",
       "      <td>Средний счёт:1000–1500 ₽</td>\n",
       "      <td>1250.0</td>\n",
       "      <td>NaN</td>\n",
       "    </tr>\n",
       "    <tr>\n",
       "      <th>4055</th>\n",
       "      <td>026cbc478f9b4c3294a83458dcd89982</td>\n",
       "      <td>средние</td>\n",
       "      <td>NaN</td>\n",
       "      <td>NaN</td>\n",
       "      <td>NaN</td>\n",
       "    </tr>\n",
       "    <tr>\n",
       "      <th>4056</th>\n",
       "      <td>71cc394927204d45b81c3a91edb47955</td>\n",
       "      <td>NaN</td>\n",
       "      <td>Средний счёт:50–250 ₽</td>\n",
       "      <td>150.0</td>\n",
       "      <td>NaN</td>\n",
       "    </tr>\n",
       "    <tr>\n",
       "      <th>4057</th>\n",
       "      <td>62e8c64d4c89467aba608e39ef87616b</td>\n",
       "      <td>NaN</td>\n",
       "      <td>Средний счёт:от 150 ₽</td>\n",
       "      <td>150.0</td>\n",
       "      <td>NaN</td>\n",
       "    </tr>\n",
       "  </tbody>\n",
       "</table>\n",
       "</div>"
      ],
      "text/plain": [
       "                                    id          price  \\\n",
       "4053  962800540173458486f3c465437c2d8b        средние   \n",
       "4054  4277890d659341848d7051cbf2e51f51  выше среднего   \n",
       "4055  026cbc478f9b4c3294a83458dcd89982        средние   \n",
       "4056  71cc394927204d45b81c3a91edb47955            NaN   \n",
       "4057  62e8c64d4c89467aba608e39ef87616b            NaN   \n",
       "\n",
       "                       avg_bill  middle_avg_bill  middle_coffee_cup  \n",
       "4053  Цена бокала пива:от 140 ₽              NaN                NaN  \n",
       "4054   Средний счёт:1000–1500 ₽           1250.0                NaN  \n",
       "4055                        NaN              NaN                NaN  \n",
       "4056      Средний счёт:50–250 ₽            150.0                NaN  \n",
       "4057      Средний счёт:от 150 ₽            150.0                NaN  "
      ]
     },
     "execution_count": 7,
     "metadata": {},
     "output_type": "execute_result"
    }
   ],
   "source": [
    "# Выведем последние 5 строк таблицы price_df\n",
    "price_df.tail()"
   ]
  },
  {
   "cell_type": "code",
   "execution_count": 8,
   "id": "166a3871",
   "metadata": {},
   "outputs": [
    {
     "name": "stdout",
     "output_type": "stream",
     "text": [
      "<class 'pandas.core.frame.DataFrame'>\n",
      "RangeIndex: 4058 entries, 0 to 4057\n",
      "Data columns (total 5 columns):\n",
      " #   Column             Non-Null Count  Dtype  \n",
      "---  ------             --------------  -----  \n",
      " 0   id                 4058 non-null   object \n",
      " 1   price              3315 non-null   object \n",
      " 2   avg_bill           3816 non-null   object \n",
      " 3   middle_avg_bill    3149 non-null   float64\n",
      " 4   middle_coffee_cup  535 non-null    float64\n",
      "dtypes: float64(2), object(3)\n",
      "memory usage: 158.6+ KB\n"
     ]
    }
   ],
   "source": [
    "# Выведем общую информацию о таблице price_df\n",
    "price_df.info()"
   ]
  },
  {
   "cell_type": "markdown",
   "id": "2c614a62",
   "metadata": {
    "id": "2c614a62"
   },
   "source": [
    "---\n",
    "\n",
    "### Промежуточный вывод\n",
    "Датасет `rest_info.csv` содержит в себе 9 столбцов и 8406 строк, в которох содержится общая информация о заведениях общественного питания.\n",
    "\n",
    "- Названия столбцов приведены в удобном виде.\n",
    "- Большая часть данных датасета хранится в формате `object`. Это можно объяснить сочитанием числовых и строковох значений в таких столюцах, как `address`,`hours` и `id`. Столбцы `name`, `category` и `district`, по первичному анализу, соответствуют своему типу данных. Столбец `rating` также соответствует своему типу данных. Столбец `chain` можно оптимизировать, уменьшив размерность целочисленного типа данных.\n",
    "- Пропуски имеются в столбцах `hours` и `seats`. Столбец `seats` вероятно имеет тип данных `float64` имеено из-за пропусков.\n",
    "- Значения столбцах, на первый взгляд, соответствуют своему описанию.\n",
    "\n",
    "Датасет `rest_price.csv` содержит в себе 5 столбцов и 4058 строк, в которых содержится информация о ценах в заведении:\n",
    "- Названия столбцов приведены в удобном виде.\n",
    "- Тип данных столбцов `id`,`price` и `avg_bill` соответствует информации, хранящейся в них. \n",
    "- Столбцы `middle_avg_bill` и `middle_coffee_cup` вероятно имеют тип данных `float64` из-за пропусков.\n",
    "- Значения столбцах, на первый взгляд, соответствуют своему описанию.\n",
    "\n",
    "\n",
    "После первичного осмотра датасета можно сделать выводы:\n",
    "\n",
    "Датасет `rest_info.csv` имеет умеренное количество пропусков. Данные соответствуют описанию и выглядят корректно. Возможно существует связь между пропусками в столбцах `hours` и `seats`. \n",
    "\n",
    "Датасет `rest_price.csv` имеет большее количество пропусков. Данные также соответствуют описанию и выглядят корректно. Некоторые из них, возможно, связаны со спецификой заполнения столбцов `middle_avg_bill` и `middle_coffee_cup`, которые зависят от значений в столбце `avg_bill`.\n",
    "\n",
    "Разница в количестве строк может говорить об отсутствие  информации в `rest_price.csv` для некоторых заведений из `rest_info.csv`"
   ]
  },
  {
   "cell_type": "markdown",
   "id": "8a8d1491",
   "metadata": {
    "id": "8a8d1491"
   },
   "source": [
    "### Подготовка единого датафрейма\n",
    "\n",
    "- Объедините данные двух датасетов в один, с которым вы и продолжите работу."
   ]
  },
  {
   "cell_type": "code",
   "execution_count": 9,
   "id": "3408e303",
   "metadata": {
    "id": "3408e303"
   },
   "outputs": [],
   "source": [
    "# Объединим два датасета и создадим копию датасета\n",
    "df = pd.merge(info_df,price_df,on='id',how='left')\n",
    "df_copy = df.copy()"
   ]
  },
  {
   "cell_type": "code",
   "execution_count": 10,
   "id": "5695950b",
   "metadata": {
    "id": "5695950b"
   },
   "outputs": [
    {
     "data": {
      "text/html": [
       "<div>\n",
       "<style scoped>\n",
       "    .dataframe tbody tr th:only-of-type {\n",
       "        vertical-align: middle;\n",
       "    }\n",
       "\n",
       "    .dataframe tbody tr th {\n",
       "        vertical-align: top;\n",
       "    }\n",
       "\n",
       "    .dataframe thead th {\n",
       "        text-align: right;\n",
       "    }\n",
       "</style>\n",
       "<table border=\"1\" class=\"dataframe\">\n",
       "  <thead>\n",
       "    <tr style=\"text-align: right;\">\n",
       "      <th></th>\n",
       "      <th>id</th>\n",
       "      <th>name</th>\n",
       "      <th>category</th>\n",
       "      <th>address</th>\n",
       "      <th>district</th>\n",
       "      <th>hours</th>\n",
       "      <th>rating</th>\n",
       "      <th>chain</th>\n",
       "      <th>seats</th>\n",
       "      <th>price</th>\n",
       "      <th>avg_bill</th>\n",
       "      <th>middle_avg_bill</th>\n",
       "      <th>middle_coffee_cup</th>\n",
       "    </tr>\n",
       "  </thead>\n",
       "  <tbody>\n",
       "    <tr>\n",
       "      <th>0</th>\n",
       "      <td>0c3e3439a8c64ea5bf6ecd6ca6ae19f0</td>\n",
       "      <td>WoWфли</td>\n",
       "      <td>кафе</td>\n",
       "      <td>Москва, улица Дыбенко, 7/1</td>\n",
       "      <td>Северный административный округ</td>\n",
       "      <td>ежедневно, 10:00–22:00</td>\n",
       "      <td>5.0</td>\n",
       "      <td>0</td>\n",
       "      <td>NaN</td>\n",
       "      <td>NaN</td>\n",
       "      <td>NaN</td>\n",
       "      <td>NaN</td>\n",
       "      <td>NaN</td>\n",
       "    </tr>\n",
       "    <tr>\n",
       "      <th>1</th>\n",
       "      <td>045780ada3474c57a2112e505d74b633</td>\n",
       "      <td>Четыре комнаты</td>\n",
       "      <td>ресторан</td>\n",
       "      <td>Москва, улица Дыбенко, 36, корп. 1</td>\n",
       "      <td>Северный административный округ</td>\n",
       "      <td>ежедневно, 10:00–22:00</td>\n",
       "      <td>4.5</td>\n",
       "      <td>0</td>\n",
       "      <td>4.0</td>\n",
       "      <td>выше среднего</td>\n",
       "      <td>Средний счёт:1500–1600 ₽</td>\n",
       "      <td>1550.0</td>\n",
       "      <td>NaN</td>\n",
       "    </tr>\n",
       "    <tr>\n",
       "      <th>2</th>\n",
       "      <td>1070b6b59144425896c65889347fcff6</td>\n",
       "      <td>Хазри</td>\n",
       "      <td>кафе</td>\n",
       "      <td>Москва, Клязьминская улица, 15</td>\n",
       "      <td>Северный административный округ</td>\n",
       "      <td>пн-чт 11:00–02:00; пт,сб 11:00–05:00; вс 11:00...</td>\n",
       "      <td>4.6</td>\n",
       "      <td>0</td>\n",
       "      <td>45.0</td>\n",
       "      <td>средние</td>\n",
       "      <td>Средний счёт:от 1000 ₽</td>\n",
       "      <td>1000.0</td>\n",
       "      <td>NaN</td>\n",
       "    </tr>\n",
       "    <tr>\n",
       "      <th>3</th>\n",
       "      <td>03ac7cd772104f65b58b349dc59f03ee</td>\n",
       "      <td>Dormouse Coffee Shop</td>\n",
       "      <td>кофейня</td>\n",
       "      <td>Москва, улица Маршала Федоренко, 12</td>\n",
       "      <td>Северный административный округ</td>\n",
       "      <td>ежедневно, 09:00–22:00</td>\n",
       "      <td>5.0</td>\n",
       "      <td>0</td>\n",
       "      <td>NaN</td>\n",
       "      <td>NaN</td>\n",
       "      <td>Цена чашки капучино:155–185 ₽</td>\n",
       "      <td>NaN</td>\n",
       "      <td>170.0</td>\n",
       "    </tr>\n",
       "    <tr>\n",
       "      <th>4</th>\n",
       "      <td>a163aada139c4c7f87b0b1c0b466a50f</td>\n",
       "      <td>Иль Марко</td>\n",
       "      <td>пиццерия</td>\n",
       "      <td>Москва, Правобережная улица, 1Б</td>\n",
       "      <td>Северный административный округ</td>\n",
       "      <td>ежедневно, 10:00–22:00</td>\n",
       "      <td>5.0</td>\n",
       "      <td>1</td>\n",
       "      <td>148.0</td>\n",
       "      <td>средние</td>\n",
       "      <td>Средний счёт:400–600 ₽</td>\n",
       "      <td>500.0</td>\n",
       "      <td>NaN</td>\n",
       "    </tr>\n",
       "    <tr>\n",
       "      <th>...</th>\n",
       "      <td>...</td>\n",
       "      <td>...</td>\n",
       "      <td>...</td>\n",
       "      <td>...</td>\n",
       "      <td>...</td>\n",
       "      <td>...</td>\n",
       "      <td>...</td>\n",
       "      <td>...</td>\n",
       "      <td>...</td>\n",
       "      <td>...</td>\n",
       "      <td>...</td>\n",
       "      <td>...</td>\n",
       "      <td>...</td>\n",
       "    </tr>\n",
       "    <tr>\n",
       "      <th>8401</th>\n",
       "      <td>0342ad1a45ed41ba89dcba246a8267e5</td>\n",
       "      <td>Суши Мания</td>\n",
       "      <td>кафе</td>\n",
       "      <td>Москва, Профсоюзная улица, 56</td>\n",
       "      <td>Юго-Западный административный округ</td>\n",
       "      <td>ежедневно, 09:00–02:00</td>\n",
       "      <td>4.4</td>\n",
       "      <td>0</td>\n",
       "      <td>86.0</td>\n",
       "      <td>NaN</td>\n",
       "      <td>NaN</td>\n",
       "      <td>NaN</td>\n",
       "      <td>NaN</td>\n",
       "    </tr>\n",
       "    <tr>\n",
       "      <th>8402</th>\n",
       "      <td>ee6bb7c3650e47bd8186fca08eda1091</td>\n",
       "      <td>Миславнес</td>\n",
       "      <td>кафе</td>\n",
       "      <td>Москва, Пролетарский проспект, 19, корп. 1</td>\n",
       "      <td>Южный административный округ</td>\n",
       "      <td>ежедневно, 08:00–22:00</td>\n",
       "      <td>4.8</td>\n",
       "      <td>0</td>\n",
       "      <td>150.0</td>\n",
       "      <td>NaN</td>\n",
       "      <td>NaN</td>\n",
       "      <td>NaN</td>\n",
       "      <td>NaN</td>\n",
       "    </tr>\n",
       "    <tr>\n",
       "      <th>8403</th>\n",
       "      <td>62e8c64d4c89467aba608e39ef87616b</td>\n",
       "      <td>Самовар</td>\n",
       "      <td>кафе</td>\n",
       "      <td>Москва, Люблинская улица, 112А, стр. 1</td>\n",
       "      <td>Юго-Восточный административный округ</td>\n",
       "      <td>ежедневно, круглосуточно</td>\n",
       "      <td>3.9</td>\n",
       "      <td>0</td>\n",
       "      <td>150.0</td>\n",
       "      <td>NaN</td>\n",
       "      <td>Средний счёт:от 150 ₽</td>\n",
       "      <td>150.0</td>\n",
       "      <td>NaN</td>\n",
       "    </tr>\n",
       "    <tr>\n",
       "      <th>8404</th>\n",
       "      <td>06a0db5ecd4842d48cd6350aa923e297</td>\n",
       "      <td>Чайхана Sabr</td>\n",
       "      <td>кафе</td>\n",
       "      <td>Москва, Люблинская улица, 112А, стр. 1</td>\n",
       "      <td>Юго-Восточный административный округ</td>\n",
       "      <td>ежедневно, круглосуточно</td>\n",
       "      <td>4.2</td>\n",
       "      <td>1</td>\n",
       "      <td>150.0</td>\n",
       "      <td>NaN</td>\n",
       "      <td>NaN</td>\n",
       "      <td>NaN</td>\n",
       "      <td>NaN</td>\n",
       "    </tr>\n",
       "    <tr>\n",
       "      <th>8405</th>\n",
       "      <td>9d56f8f7a7f74df1a925bc0fd2de8aae</td>\n",
       "      <td>Kebab Time</td>\n",
       "      <td>кафе</td>\n",
       "      <td>Москва, Россошанский проезд, 6</td>\n",
       "      <td>Южный административный округ</td>\n",
       "      <td>ежедневно, круглосуточно</td>\n",
       "      <td>3.9</td>\n",
       "      <td>0</td>\n",
       "      <td>12.0</td>\n",
       "      <td>NaN</td>\n",
       "      <td>NaN</td>\n",
       "      <td>NaN</td>\n",
       "      <td>NaN</td>\n",
       "    </tr>\n",
       "  </tbody>\n",
       "</table>\n",
       "<p>8406 rows × 13 columns</p>\n",
       "</div>"
      ],
      "text/plain": [
       "                                    id                  name  category  \\\n",
       "0     0c3e3439a8c64ea5bf6ecd6ca6ae19f0                WoWфли      кафе   \n",
       "1     045780ada3474c57a2112e505d74b633        Четыре комнаты  ресторан   \n",
       "2     1070b6b59144425896c65889347fcff6                 Хазри      кафе   \n",
       "3     03ac7cd772104f65b58b349dc59f03ee  Dormouse Coffee Shop   кофейня   \n",
       "4     a163aada139c4c7f87b0b1c0b466a50f             Иль Марко  пиццерия   \n",
       "...                                ...                   ...       ...   \n",
       "8401  0342ad1a45ed41ba89dcba246a8267e5            Суши Мания      кафе   \n",
       "8402  ee6bb7c3650e47bd8186fca08eda1091             Миславнес      кафе   \n",
       "8403  62e8c64d4c89467aba608e39ef87616b               Самовар      кафе   \n",
       "8404  06a0db5ecd4842d48cd6350aa923e297          Чайхана Sabr      кафе   \n",
       "8405  9d56f8f7a7f74df1a925bc0fd2de8aae            Kebab Time      кафе   \n",
       "\n",
       "                                         address  \\\n",
       "0                     Москва, улица Дыбенко, 7/1   \n",
       "1             Москва, улица Дыбенко, 36, корп. 1   \n",
       "2                 Москва, Клязьминская улица, 15   \n",
       "3            Москва, улица Маршала Федоренко, 12   \n",
       "4                Москва, Правобережная улица, 1Б   \n",
       "...                                          ...   \n",
       "8401               Москва, Профсоюзная улица, 56   \n",
       "8402  Москва, Пролетарский проспект, 19, корп. 1   \n",
       "8403      Москва, Люблинская улица, 112А, стр. 1   \n",
       "8404      Москва, Люблинская улица, 112А, стр. 1   \n",
       "8405              Москва, Россошанский проезд, 6   \n",
       "\n",
       "                                  district  \\\n",
       "0          Северный административный округ   \n",
       "1          Северный административный округ   \n",
       "2          Северный административный округ   \n",
       "3          Северный административный округ   \n",
       "4          Северный административный округ   \n",
       "...                                    ...   \n",
       "8401   Юго-Западный административный округ   \n",
       "8402          Южный административный округ   \n",
       "8403  Юго-Восточный административный округ   \n",
       "8404  Юго-Восточный административный округ   \n",
       "8405          Южный административный округ   \n",
       "\n",
       "                                                  hours  rating  chain  seats  \\\n",
       "0                                ежедневно, 10:00–22:00     5.0      0    NaN   \n",
       "1                                ежедневно, 10:00–22:00     4.5      0    4.0   \n",
       "2     пн-чт 11:00–02:00; пт,сб 11:00–05:00; вс 11:00...     4.6      0   45.0   \n",
       "3                                ежедневно, 09:00–22:00     5.0      0    NaN   \n",
       "4                                ежедневно, 10:00–22:00     5.0      1  148.0   \n",
       "...                                                 ...     ...    ...    ...   \n",
       "8401                             ежедневно, 09:00–02:00     4.4      0   86.0   \n",
       "8402                             ежедневно, 08:00–22:00     4.8      0  150.0   \n",
       "8403                           ежедневно, круглосуточно     3.9      0  150.0   \n",
       "8404                           ежедневно, круглосуточно     4.2      1  150.0   \n",
       "8405                           ежедневно, круглосуточно     3.9      0   12.0   \n",
       "\n",
       "              price                       avg_bill  middle_avg_bill  \\\n",
       "0               NaN                            NaN              NaN   \n",
       "1     выше среднего       Средний счёт:1500–1600 ₽           1550.0   \n",
       "2           средние         Средний счёт:от 1000 ₽           1000.0   \n",
       "3               NaN  Цена чашки капучино:155–185 ₽              NaN   \n",
       "4           средние         Средний счёт:400–600 ₽            500.0   \n",
       "...             ...                            ...              ...   \n",
       "8401            NaN                            NaN              NaN   \n",
       "8402            NaN                            NaN              NaN   \n",
       "8403            NaN          Средний счёт:от 150 ₽            150.0   \n",
       "8404            NaN                            NaN              NaN   \n",
       "8405            NaN                            NaN              NaN   \n",
       "\n",
       "      middle_coffee_cup  \n",
       "0                   NaN  \n",
       "1                   NaN  \n",
       "2                   NaN  \n",
       "3                 170.0  \n",
       "4                   NaN  \n",
       "...                 ...  \n",
       "8401                NaN  \n",
       "8402                NaN  \n",
       "8403                NaN  \n",
       "8404                NaN  \n",
       "8405                NaN  \n",
       "\n",
       "[8406 rows x 13 columns]"
      ]
     },
     "metadata": {},
     "output_type": "display_data"
    }
   ],
   "source": [
    "# Выведем первые и последние 5 строк объединенного датасета\n",
    "display(df)"
   ]
  },
  {
   "cell_type": "markdown",
   "id": "fe52c91a",
   "metadata": {
    "id": "6577c71c"
   },
   "source": [
    "Проведем \"левосторонее\" объединение датасетов, чтобы не потерять информацию о заведениях."
   ]
  },
  {
   "cell_type": "markdown",
   "id": "956e82e2",
   "metadata": {
    "id": "956e82e2"
   },
   "source": [
    "<a id='2'></a>\n",
    "## 2. Предобработка данных\n",
    "\n",
    "Подготовьте данные к исследовательскому анализу:\n",
    "\n",
    "- Изучите корректность типов данных и при необходимости проведите их преобразование."
   ]
  },
  {
   "cell_type": "code",
   "execution_count": 11,
   "id": "67956690",
   "metadata": {
    "id": "67956690"
   },
   "outputs": [
    {
     "name": "stdout",
     "output_type": "stream",
     "text": [
      "<class 'pandas.core.frame.DataFrame'>\n",
      "Int64Index: 8406 entries, 0 to 8405\n",
      "Data columns (total 13 columns):\n",
      " #   Column             Non-Null Count  Dtype  \n",
      "---  ------             --------------  -----  \n",
      " 0   id                 8406 non-null   object \n",
      " 1   name               8406 non-null   object \n",
      " 2   category           8406 non-null   object \n",
      " 3   address            8406 non-null   object \n",
      " 4   district           8406 non-null   object \n",
      " 5   hours              7870 non-null   object \n",
      " 6   rating             8406 non-null   float64\n",
      " 7   chain              8406 non-null   int64  \n",
      " 8   seats              4795 non-null   float64\n",
      " 9   price              3315 non-null   object \n",
      " 10  avg_bill           3816 non-null   object \n",
      " 11  middle_avg_bill    3149 non-null   float64\n",
      " 12  middle_coffee_cup  535 non-null    float64\n",
      "dtypes: float64(4), int64(1), object(8)\n",
      "memory usage: 919.4+ KB\n"
     ]
    }
   ],
   "source": [
    "# Ещё раз вглянем на тип данных столбцов и создадим копию \n",
    "df.info()"
   ]
  },
  {
   "cell_type": "code",
   "execution_count": 12,
   "id": "b5f2a94d",
   "metadata": {
    "id": "b5f2a94d"
   },
   "outputs": [],
   "source": [
    "# Оптимизируем целочисленный тип данных в столбце chain\n",
    "df['chain'] = pd.to_numeric(df['chain'],downcast = 'integer')"
   ]
  },
  {
   "cell_type": "code",
   "execution_count": 13,
   "id": "620d2f08",
   "metadata": {
    "id": "620d2f08"
   },
   "outputs": [
    {
     "data": {
      "text/plain": [
       "0       0\n",
       "1       0\n",
       "2       0\n",
       "3       0\n",
       "4       1\n",
       "       ..\n",
       "8401    0\n",
       "8402    0\n",
       "8403    0\n",
       "8404    1\n",
       "8405    0\n",
       "Name: chain, Length: 8406, dtype: int8"
      ]
     },
     "execution_count": 13,
     "metadata": {},
     "output_type": "execute_result"
    }
   ],
   "source": [
    "# Проверим тип данных столбца\n",
    "df['chain']"
   ]
  },
  {
   "cell_type": "markdown",
   "id": "4b7ee469",
   "metadata": {
    "id": "4b7ee469"
   },
   "source": [
    "- Изучите пропущенные значения в данных: посчитайте их количество в каждом столбце датафрейме, изучите данные с пропущенными значениями и предположите гипотезы их появления. Проведите обработку пропущенных значений: вы можете заменить пропуски на определённое значение, удалить строки с пропусками или оставить их как есть."
   ]
  },
  {
   "cell_type": "code",
   "execution_count": 14,
   "id": "3d8840ca",
   "metadata": {
    "id": "3d8840ca"
   },
   "outputs": [
    {
     "data": {
      "text/plain": [
       "id                      0\n",
       "name                    0\n",
       "category                0\n",
       "address                 0\n",
       "district                0\n",
       "hours                 536\n",
       "rating                  0\n",
       "chain                   0\n",
       "seats                3611\n",
       "price                5091\n",
       "avg_bill             4590\n",
       "middle_avg_bill      5257\n",
       "middle_coffee_cup    7871\n",
       "dtype: int64"
      ]
     },
     "execution_count": 14,
     "metadata": {},
     "output_type": "execute_result"
    }
   ],
   "source": [
    "# Находим количество пустых строк во всех столбцах\n",
    "df.isna().sum()"
   ]
  },
  {
   "cell_type": "code",
   "execution_count": 15,
   "id": "fbfbbaa3",
   "metadata": {},
   "outputs": [
    {
     "data": {
      "text/plain": [
       "id                   8406\n",
       "name                 8406\n",
       "category             8406\n",
       "address              8406\n",
       "district             8406\n",
       "hours                7870\n",
       "rating               8406\n",
       "chain                8406\n",
       "seats                4795\n",
       "price                3315\n",
       "avg_bill             3816\n",
       "middle_avg_bill      3149\n",
       "middle_coffee_cup     535\n",
       "dtype: int64"
      ]
     },
     "execution_count": 15,
     "metadata": {},
     "output_type": "execute_result"
    }
   ],
   "source": [
    "# Находим количество непустых строк во всех столбцах\n",
    "df.notna().sum()"
   ]
  },
  {
   "cell_type": "code",
   "execution_count": 16,
   "id": "2ea145ca",
   "metadata": {
    "id": "2ea145ca"
   },
   "outputs": [
    {
     "data": {
      "text/plain": [
       "id                   0.000000\n",
       "name                 0.000000\n",
       "category             0.000000\n",
       "address              0.000000\n",
       "district             0.000000\n",
       "hours                0.063764\n",
       "rating               0.000000\n",
       "chain                0.000000\n",
       "seats                0.429574\n",
       "price                0.605639\n",
       "avg_bill             0.546039\n",
       "middle_avg_bill      0.625387\n",
       "middle_coffee_cup    0.936355\n",
       "dtype: float64"
      ]
     },
     "execution_count": 16,
     "metadata": {},
     "output_type": "execute_result"
    }
   ],
   "source": [
    "# Находим процент пустых строк от всех строк в датасете\n",
    "df.isna().sum()/df.shape[0]"
   ]
  },
  {
   "cell_type": "markdown",
   "id": "cb7f5dc5",
   "metadata": {
    "id": "d9e7c358"
   },
   "source": [
    "В датафрейме пропуски обнаружены в столбцах `hours`,`seats`,`price`,`avg_bill`,`middle_avg_bill` и `middle_coffe_cup`. Наибольшее количество пропусков в столбце состовляет 7871 пропуск или 93% - это столбец `middle_coffe_cup`. Наименьшее количество пропусков относится к столбцу `hours` - 536 пропусков или 6% от всех строк.\n",
    "\n",
    "Столбцы `avg_bill`,`middle_avg_bill` и `middle_coffe_cup` тесно связаны. Значения в `middle_avg_bill` и `middle_coffe_cup` зависят от строковых выраженний в `avg_bill`. Когда числовое значение из столбца `avg_bill` расчитывается для одного из столбцов, в другом появляется пропуск. Помимо этого, некоторые пропуски в столбцах могут иметь технический или иного вида характер.\n",
    "\n",
    "Если учесть то, что пропуски отстутствуют в столбце категорий, то имеется возможность проверить соответсвие пропусков в `middle_coffe_cup`. Возможно, что 535 непустых строк в `middle_coffe_cup` говорит, о том, что в датасете 535 заведений категории \"кофейня\". \n",
    "\n",
    "Возможно, пустые значений в столбце `hours` могут указывать на закрытые или неработающие заведения.\n",
    "\n",
    "Также есть возможность заполнить пропуски столбца `price` на основе числовых значений столбцов `middle_avg_bill` и `middle_coffe_cup`."
   ]
  },
  {
   "cell_type": "code",
   "execution_count": 17,
   "id": "98348461",
   "metadata": {},
   "outputs": [
    {
     "name": "stdout",
     "output_type": "stream",
     "text": [
      "name\n",
      "Кафе                           189\n",
      "Шоколадница                    120\n",
      "Домино'с Пицца                  76\n",
      "Додо Пицца                      74\n",
      "One Price Coffee                71\n",
      "                              ... \n",
      "Нуш донер                        1\n",
      "But First Coffee                 1\n",
      "Пироги по-домашнему, Халяль      1\n",
      "Кофеварня                        1\n",
      "Pizza Sole                       1\n",
      "Name: name, Length: 5614, dtype: int64\n",
      "5614\n",
      "\n",
      "category\n",
      "кафе               2378\n",
      "ресторан           2043\n",
      "кофейня            1413\n",
      "бар,паб             765\n",
      "пиццерия            633\n",
      "быстрое питание     603\n",
      "столовая            315\n",
      "булочная            256\n",
      "Name: category, dtype: int64\n",
      "8\n",
      "\n",
      "address\n",
      "Москва, проспект Вернадского, 86В       28\n",
      "Москва, Усачёва улица, 26               26\n",
      "Москва, площадь Киевского Вокзала, 2    20\n",
      "Москва, Ярцевская улица, 19             20\n",
      "Москва, Пресненская набережная, 2       16\n",
      "                                        ..\n",
      "Москва, улица Корнейчука, 44             1\n",
      "Москва, Мясницкая улица, 24/7с1          1\n",
      "Москва, Новоясеневский проспект, 2Б      1\n",
      "Москва, Левобережная улица, 4к10         1\n",
      "Москва, улица Куусинена, 4, корп. 1      1\n",
      "Name: address, Length: 5753, dtype: int64\n",
      "5753\n",
      "\n",
      "district\n",
      "Центральный административный округ         2242\n",
      "Северный административный округ             900\n",
      "Южный административный округ                892\n",
      "Северо-Восточный административный округ     891\n",
      "Западный административный округ             851\n",
      "Восточный административный округ            798\n",
      "Юго-Восточный административный округ        714\n",
      "Юго-Западный административный округ         709\n",
      "Северо-Западный административный округ      409\n",
      "Name: district, dtype: int64\n",
      "9\n",
      "\n",
      "hours\n",
      "ежедневно, 10:00–22:00                                                  759\n",
      "ежедневно, круглосуточно                                                730\n",
      "ежедневно, 11:00–23:00                                                  396\n",
      "ежедневно, 10:00–23:00                                                  310\n",
      "ежедневно, 12:00–00:00                                                  254\n",
      "                                                                       ... \n",
      "пн-чт 13:00–00:00; пт,сб 13:00–03:00; вс 13:00–00:00                      1\n",
      "пн,вт 12:00–00:00; ср-пт 12:00–06:00; сб 15:00–06:00; вс 12:00–00:00      1\n",
      "пн-чт 11:00–21:45; пт,сб 11:00–22:45; вс 11:00–21:45                      1\n",
      "пн-чт 12:00–00:00; пт,сб 12:00–05:00                                      1\n",
      "пн-пт 12:00–00:00; сб,вс 12:00–01:00                                      1\n",
      "Name: hours, Length: 1307, dtype: int64\n",
      "1307\n",
      "\n",
      "price\n",
      "средние          2117\n",
      "выше среднего     564\n",
      "высокие           478\n",
      "низкие            156\n",
      "Name: price, dtype: int64\n",
      "4\n",
      "\n",
      "rating\n",
      "4.3    1513\n",
      "4.4    1351\n",
      "4.2    1041\n",
      "4.1     785\n",
      "4.5     623\n",
      "4.0     499\n",
      "4.7     440\n",
      "4.6     422\n",
      "3.9     252\n",
      "4.9     243\n",
      "4.8     215\n",
      "3.8     188\n",
      "3.7     147\n",
      "5.0     105\n",
      "3.6      76\n",
      "3.5      72\n",
      "3.4      68\n",
      "3.3      54\n",
      "3.2      41\n",
      "3.1      37\n",
      "2.9      31\n",
      "2.8      30\n",
      "3.0      24\n",
      "2.6      15\n",
      "1.1      14\n",
      "2.5      14\n",
      "2.3      14\n",
      "2.2      13\n",
      "2.4      11\n",
      "2.7      11\n",
      "1.3      11\n",
      "1.4      11\n",
      "1.0      10\n",
      "1.7       6\n",
      "2.1       4\n",
      "2.0       4\n",
      "1.9       4\n",
      "1.6       2\n",
      "1.8       2\n",
      "1.5       2\n",
      "1.2       1\n",
      "Name: rating, dtype: int64\n",
      "41\n",
      "\n",
      "chain\n",
      "0    5201\n",
      "1    3205\n",
      "Name: chain, dtype: int64\n",
      "2\n",
      "\n",
      "seats\n",
      "40.0     253\n",
      "100.0    213\n",
      "60.0     175\n",
      "50.0     168\n",
      "80.0     160\n",
      "        ... \n",
      "600.0      1\n",
      "268.0      1\n",
      "61.0       1\n",
      "236.0      1\n",
      "33.0       1\n",
      "Name: seats, Length: 229, dtype: int64\n",
      "229\n",
      "\n",
      "avg_bill\n",
      "Средний счёт:1000–1500 ₽         241\n",
      "Средний счёт:1500–2000 ₽         120\n",
      "Средний счёт:300–500 ₽            90\n",
      "Средний счёт:500–1000 ₽           78\n",
      "Средний счёт:1500–2500 ₽          68\n",
      "                                ... \n",
      "Средний счёт:280–290 ₽             1\n",
      "Цена чашки капучино:180–300 ₽      1\n",
      "Цена бокала пива:300–500 ₽         1\n",
      "Цена чашки капучино:230–320 ₽      1\n",
      "Цена бокала пива:190–450 ₽         1\n",
      "Name: avg_bill, Length: 897, dtype: int64\n",
      "897\n",
      "\n",
      "middle_avg_bill\n",
      "1250.0    247\n",
      "1000.0    175\n",
      "300.0     148\n",
      "1500.0    146\n",
      "400.0     134\n",
      "         ... \n",
      "545.0       1\n",
      "6000.0      1\n",
      "345.0       1\n",
      "1060.0      1\n",
      "30.0        1\n",
      "Name: middle_avg_bill, Length: 230, dtype: int64\n",
      "230\n",
      "\n",
      "middle_coffee_cup\n",
      "256.0    43\n",
      "60.0     33\n",
      "95.0     32\n",
      "150.0    24\n",
      "170.0    18\n",
      "         ..\n",
      "320.0     1\n",
      "227.0     1\n",
      "137.0     1\n",
      "172.0     1\n",
      "259.0     1\n",
      "Name: middle_coffee_cup, Length: 96, dtype: int64\n",
      "96\n",
      "\n"
     ]
    }
   ],
   "source": [
    "# Проверим значения в столбцах датасета\n",
    "\n",
    "for column in ['name','category','address','district','hours','price','rating','chain','seats','avg_bill','middle_avg_bill',\n",
    "              'middle_coffee_cup']:\n",
    "    print(column)\n",
    "    print(df[column].value_counts())\n",
    "    print(df[column].nunique())\n",
    "    print()"
   ]
  },
  {
   "cell_type": "markdown",
   "id": "f4f8c721",
   "metadata": {},
   "source": [
    "В датасете 1413 кофейни, заполенных строк в столбце `middle_coffee_cup` - 535. Посмотрим на строки, относящиеся к кофейням и имеещим пропуски в столбце `middle_coffee_cup`.\n"
   ]
  },
  {
   "cell_type": "code",
   "execution_count": 18,
   "id": "3f1cdc33",
   "metadata": {},
   "outputs": [
    {
     "data": {
      "text/html": [
       "<div>\n",
       "<style scoped>\n",
       "    .dataframe tbody tr th:only-of-type {\n",
       "        vertical-align: middle;\n",
       "    }\n",
       "\n",
       "    .dataframe tbody tr th {\n",
       "        vertical-align: top;\n",
       "    }\n",
       "\n",
       "    .dataframe thead th {\n",
       "        text-align: right;\n",
       "    }\n",
       "</style>\n",
       "<table border=\"1\" class=\"dataframe\">\n",
       "  <thead>\n",
       "    <tr style=\"text-align: right;\">\n",
       "      <th></th>\n",
       "      <th>id</th>\n",
       "      <th>name</th>\n",
       "      <th>category</th>\n",
       "      <th>address</th>\n",
       "      <th>district</th>\n",
       "      <th>hours</th>\n",
       "      <th>rating</th>\n",
       "      <th>chain</th>\n",
       "      <th>seats</th>\n",
       "      <th>price</th>\n",
       "      <th>avg_bill</th>\n",
       "      <th>middle_avg_bill</th>\n",
       "      <th>middle_coffee_cup</th>\n",
       "    </tr>\n",
       "  </thead>\n",
       "  <tbody>\n",
       "    <tr>\n",
       "      <th>25</th>\n",
       "      <td>f8b3518cd2874826a9b1cceb006039bc</td>\n",
       "      <td>В парке вкуснее</td>\n",
       "      <td>кофейня</td>\n",
       "      <td>Москва, парк Левобережный</td>\n",
       "      <td>Северный административный округ</td>\n",
       "      <td>ежедневно, 10:00–21:00</td>\n",
       "      <td>4.3</td>\n",
       "      <td>1</td>\n",
       "      <td>NaN</td>\n",
       "      <td>NaN</td>\n",
       "      <td>NaN</td>\n",
       "      <td>NaN</td>\n",
       "      <td>NaN</td>\n",
       "    </tr>\n",
       "    <tr>\n",
       "      <th>45</th>\n",
       "      <td>f0bfd0d682c24a2b825338e8bc6043e6</td>\n",
       "      <td>9 Bar Coffee</td>\n",
       "      <td>кофейня</td>\n",
       "      <td>Москва, Коровинское шоссе, 41, стр. 1</td>\n",
       "      <td>Северный административный округ</td>\n",
       "      <td>пн-пт 08:00–18:00</td>\n",
       "      <td>4.0</td>\n",
       "      <td>1</td>\n",
       "      <td>46.0</td>\n",
       "      <td>NaN</td>\n",
       "      <td>NaN</td>\n",
       "      <td>NaN</td>\n",
       "      <td>NaN</td>\n",
       "    </tr>\n",
       "    <tr>\n",
       "      <th>46</th>\n",
       "      <td>bab2d0dc722a45a3b20307527c7337cc</td>\n",
       "      <td>CofeFest</td>\n",
       "      <td>кофейня</td>\n",
       "      <td>Москва, улица Маршала Федоренко, 6с1</td>\n",
       "      <td>Северный административный округ</td>\n",
       "      <td>пн-пт 09:00–19:00</td>\n",
       "      <td>3.6</td>\n",
       "      <td>1</td>\n",
       "      <td>NaN</td>\n",
       "      <td>NaN</td>\n",
       "      <td>NaN</td>\n",
       "      <td>NaN</td>\n",
       "      <td>NaN</td>\n",
       "    </tr>\n",
       "    <tr>\n",
       "      <th>52</th>\n",
       "      <td>21b43cd94da04e29ab21858a4f05fdef</td>\n",
       "      <td>Cofix</td>\n",
       "      <td>кофейня</td>\n",
       "      <td>Москва, улица Дыбенко, 7/1</td>\n",
       "      <td>Северный административный округ</td>\n",
       "      <td>ежедневно, 08:00–22:00</td>\n",
       "      <td>3.8</td>\n",
       "      <td>1</td>\n",
       "      <td>NaN</td>\n",
       "      <td>NaN</td>\n",
       "      <td>NaN</td>\n",
       "      <td>NaN</td>\n",
       "      <td>NaN</td>\n",
       "    </tr>\n",
       "    <tr>\n",
       "      <th>53</th>\n",
       "      <td>b79fa454cbe748e892b2e81d4680808b</td>\n",
       "      <td>Royal Coffee</td>\n",
       "      <td>кофейня</td>\n",
       "      <td>Москва, Правобережная улица, 1Б</td>\n",
       "      <td>Северный административный округ</td>\n",
       "      <td>ежедневно, 10:00–22:00</td>\n",
       "      <td>3.1</td>\n",
       "      <td>0</td>\n",
       "      <td>148.0</td>\n",
       "      <td>NaN</td>\n",
       "      <td>NaN</td>\n",
       "      <td>NaN</td>\n",
       "      <td>NaN</td>\n",
       "    </tr>\n",
       "    <tr>\n",
       "      <th>...</th>\n",
       "      <td>...</td>\n",
       "      <td>...</td>\n",
       "      <td>...</td>\n",
       "      <td>...</td>\n",
       "      <td>...</td>\n",
       "      <td>...</td>\n",
       "      <td>...</td>\n",
       "      <td>...</td>\n",
       "      <td>...</td>\n",
       "      <td>...</td>\n",
       "      <td>...</td>\n",
       "      <td>...</td>\n",
       "      <td>...</td>\n",
       "    </tr>\n",
       "    <tr>\n",
       "      <th>8332</th>\n",
       "      <td>f016e6b9ea5247f18791e4129d920bc3</td>\n",
       "      <td>Хлеб</td>\n",
       "      <td>кофейня</td>\n",
       "      <td>Москва, Саратовская улица, 22</td>\n",
       "      <td>Юго-Восточный административный округ</td>\n",
       "      <td>ежедневно, 08:30–20:00</td>\n",
       "      <td>4.2</td>\n",
       "      <td>0</td>\n",
       "      <td>NaN</td>\n",
       "      <td>NaN</td>\n",
       "      <td>NaN</td>\n",
       "      <td>NaN</td>\n",
       "      <td>NaN</td>\n",
       "    </tr>\n",
       "    <tr>\n",
       "      <th>8341</th>\n",
       "      <td>144d0545e8244beabd4fb9543269b3eb</td>\n",
       "      <td>Среда Питания</td>\n",
       "      <td>кофейня</td>\n",
       "      <td>Москва, Новохохловская улица, 49</td>\n",
       "      <td>Юго-Восточный административный округ</td>\n",
       "      <td>пн-пт 07:00–20:00; сб,вс 09:00–19:00</td>\n",
       "      <td>4.4</td>\n",
       "      <td>0</td>\n",
       "      <td>NaN</td>\n",
       "      <td>средние</td>\n",
       "      <td>Средний счёт:200–400 ₽</td>\n",
       "      <td>300.0</td>\n",
       "      <td>NaN</td>\n",
       "    </tr>\n",
       "    <tr>\n",
       "      <th>8356</th>\n",
       "      <td>97c827ed8645494e8cb01c6d38876f50</td>\n",
       "      <td>Назис Пури</td>\n",
       "      <td>кофейня</td>\n",
       "      <td>Москва, Люблинская улица, 61</td>\n",
       "      <td>Юго-Восточный административный округ</td>\n",
       "      <td>ежедневно, 09:00–22:00</td>\n",
       "      <td>4.5</td>\n",
       "      <td>0</td>\n",
       "      <td>NaN</td>\n",
       "      <td>NaN</td>\n",
       "      <td>NaN</td>\n",
       "      <td>NaN</td>\n",
       "      <td>NaN</td>\n",
       "    </tr>\n",
       "    <tr>\n",
       "      <th>8376</th>\n",
       "      <td>e9ba6b4d4f2b47b795d1eeb8df1588a9</td>\n",
       "      <td>Шоколад имбирь корица</td>\n",
       "      <td>кофейня</td>\n",
       "      <td>Москва, Грайвороновская улица, 23</td>\n",
       "      <td>Юго-Восточный административный округ</td>\n",
       "      <td>пн-пт 09:30–19:30</td>\n",
       "      <td>4.1</td>\n",
       "      <td>0</td>\n",
       "      <td>NaN</td>\n",
       "      <td>NaN</td>\n",
       "      <td>NaN</td>\n",
       "      <td>NaN</td>\n",
       "      <td>NaN</td>\n",
       "    </tr>\n",
       "    <tr>\n",
       "      <th>8400</th>\n",
       "      <td>7f54f18753414d97abdddea3a2a48511</td>\n",
       "      <td>Практика Кофе</td>\n",
       "      <td>кофейня</td>\n",
       "      <td>Москва, Чонгарский бульвар, 26А, корп. 1</td>\n",
       "      <td>Юго-Западный административный округ</td>\n",
       "      <td>пн-пт 08:00–22:00; сб,вс 09:00–22:00</td>\n",
       "      <td>4.4</td>\n",
       "      <td>0</td>\n",
       "      <td>55.0</td>\n",
       "      <td>NaN</td>\n",
       "      <td>NaN</td>\n",
       "      <td>NaN</td>\n",
       "      <td>NaN</td>\n",
       "    </tr>\n",
       "  </tbody>\n",
       "</table>\n",
       "<p>892 rows × 13 columns</p>\n",
       "</div>"
      ],
      "text/plain": [
       "                                    id                   name category  \\\n",
       "25    f8b3518cd2874826a9b1cceb006039bc        В парке вкуснее  кофейня   \n",
       "45    f0bfd0d682c24a2b825338e8bc6043e6           9 Bar Coffee  кофейня   \n",
       "46    bab2d0dc722a45a3b20307527c7337cc               CofeFest  кофейня   \n",
       "52    21b43cd94da04e29ab21858a4f05fdef                  Cofix  кофейня   \n",
       "53    b79fa454cbe748e892b2e81d4680808b           Royal Coffee  кофейня   \n",
       "...                                ...                    ...      ...   \n",
       "8332  f016e6b9ea5247f18791e4129d920bc3                   Хлеб  кофейня   \n",
       "8341  144d0545e8244beabd4fb9543269b3eb          Среда Питания  кофейня   \n",
       "8356  97c827ed8645494e8cb01c6d38876f50             Назис Пури  кофейня   \n",
       "8376  e9ba6b4d4f2b47b795d1eeb8df1588a9  Шоколад имбирь корица  кофейня   \n",
       "8400  7f54f18753414d97abdddea3a2a48511          Практика Кофе  кофейня   \n",
       "\n",
       "                                       address  \\\n",
       "25                   Москва, парк Левобережный   \n",
       "45       Москва, Коровинское шоссе, 41, стр. 1   \n",
       "46        Москва, улица Маршала Федоренко, 6с1   \n",
       "52                  Москва, улица Дыбенко, 7/1   \n",
       "53             Москва, Правобережная улица, 1Б   \n",
       "...                                        ...   \n",
       "8332             Москва, Саратовская улица, 22   \n",
       "8341          Москва, Новохохловская улица, 49   \n",
       "8356              Москва, Люблинская улица, 61   \n",
       "8376         Москва, Грайвороновская улица, 23   \n",
       "8400  Москва, Чонгарский бульвар, 26А, корп. 1   \n",
       "\n",
       "                                  district  \\\n",
       "25         Северный административный округ   \n",
       "45         Северный административный округ   \n",
       "46         Северный административный округ   \n",
       "52         Северный административный округ   \n",
       "53         Северный административный округ   \n",
       "...                                    ...   \n",
       "8332  Юго-Восточный административный округ   \n",
       "8341  Юго-Восточный административный округ   \n",
       "8356  Юго-Восточный административный округ   \n",
       "8376  Юго-Восточный административный округ   \n",
       "8400   Юго-Западный административный округ   \n",
       "\n",
       "                                     hours  rating  chain  seats    price  \\\n",
       "25                  ежедневно, 10:00–21:00     4.3      1    NaN      NaN   \n",
       "45                       пн-пт 08:00–18:00     4.0      1   46.0      NaN   \n",
       "46                       пн-пт 09:00–19:00     3.6      1    NaN      NaN   \n",
       "52                  ежедневно, 08:00–22:00     3.8      1    NaN      NaN   \n",
       "53                  ежедневно, 10:00–22:00     3.1      0  148.0      NaN   \n",
       "...                                    ...     ...    ...    ...      ...   \n",
       "8332                ежедневно, 08:30–20:00     4.2      0    NaN      NaN   \n",
       "8341  пн-пт 07:00–20:00; сб,вс 09:00–19:00     4.4      0    NaN  средние   \n",
       "8356                ежедневно, 09:00–22:00     4.5      0    NaN      NaN   \n",
       "8376                     пн-пт 09:30–19:30     4.1      0    NaN      NaN   \n",
       "8400  пн-пт 08:00–22:00; сб,вс 09:00–22:00     4.4      0   55.0      NaN   \n",
       "\n",
       "                    avg_bill  middle_avg_bill  middle_coffee_cup  \n",
       "25                       NaN              NaN                NaN  \n",
       "45                       NaN              NaN                NaN  \n",
       "46                       NaN              NaN                NaN  \n",
       "52                       NaN              NaN                NaN  \n",
       "53                       NaN              NaN                NaN  \n",
       "...                      ...              ...                ...  \n",
       "8332                     NaN              NaN                NaN  \n",
       "8341  Средний счёт:200–400 ₽            300.0                NaN  \n",
       "8356                     NaN              NaN                NaN  \n",
       "8376                     NaN              NaN                NaN  \n",
       "8400                     NaN              NaN                NaN  \n",
       "\n",
       "[892 rows x 13 columns]"
      ]
     },
     "execution_count": 18,
     "metadata": {},
     "output_type": "execute_result"
    }
   ],
   "source": [
    "# Посмотрим на строки, относящиеся к кофейням и имеещим пропуски в столбце middle_coffee_cup\n",
    "df.loc[(df['category'] == 'кофейня') & (df['middle_coffee_cup'].isna())]"
   ]
  },
  {
   "cell_type": "markdown",
   "id": "272343ab",
   "metadata": {},
   "source": [
    "Получили 892 строк. 1413 кофейни из которых 535 оцениваются по цене чашки капучинно. Итого должно быть 521 искомых строк. Вероятнее всего в поиск попали строки с отсутствующим значением `avg_bill`. Нельзя уверенно сказать, требуется ли изменения для данных строк. "
   ]
  },
  {
   "cell_type": "code",
   "execution_count": 19,
   "id": "85ac0f63",
   "metadata": {},
   "outputs": [
    {
     "data": {
      "text/html": [
       "<div>\n",
       "<style scoped>\n",
       "    .dataframe tbody tr th:only-of-type {\n",
       "        vertical-align: middle;\n",
       "    }\n",
       "\n",
       "    .dataframe tbody tr th {\n",
       "        vertical-align: top;\n",
       "    }\n",
       "\n",
       "    .dataframe thead th {\n",
       "        text-align: right;\n",
       "    }\n",
       "</style>\n",
       "<table border=\"1\" class=\"dataframe\">\n",
       "  <thead>\n",
       "    <tr style=\"text-align: right;\">\n",
       "      <th></th>\n",
       "      <th>id</th>\n",
       "      <th>name</th>\n",
       "      <th>category</th>\n",
       "      <th>address</th>\n",
       "      <th>district</th>\n",
       "      <th>hours</th>\n",
       "      <th>rating</th>\n",
       "      <th>chain</th>\n",
       "      <th>seats</th>\n",
       "      <th>price</th>\n",
       "      <th>avg_bill</th>\n",
       "      <th>middle_avg_bill</th>\n",
       "      <th>middle_coffee_cup</th>\n",
       "    </tr>\n",
       "  </thead>\n",
       "  <tbody>\n",
       "    <tr>\n",
       "      <th>38</th>\n",
       "      <td>3746fe879e5b43629512095693ce4113</td>\n",
       "      <td>Ижора</td>\n",
       "      <td>булочная</td>\n",
       "      <td>Москва, Ижорский проезд, 5А</td>\n",
       "      <td>Северный административный округ</td>\n",
       "      <td>NaN</td>\n",
       "      <td>4.4</td>\n",
       "      <td>0</td>\n",
       "      <td>NaN</td>\n",
       "      <td>NaN</td>\n",
       "      <td>NaN</td>\n",
       "      <td>NaN</td>\n",
       "      <td>NaN</td>\n",
       "    </tr>\n",
       "    <tr>\n",
       "      <th>40</th>\n",
       "      <td>e5f4ff8c7196472eac2c980fc6b2e9b2</td>\n",
       "      <td>Кафе</td>\n",
       "      <td>кафе</td>\n",
       "      <td>Москва, Ижорская улица, 18, стр. 1</td>\n",
       "      <td>Северный административный округ</td>\n",
       "      <td>NaN</td>\n",
       "      <td>3.7</td>\n",
       "      <td>0</td>\n",
       "      <td>NaN</td>\n",
       "      <td>NaN</td>\n",
       "      <td>NaN</td>\n",
       "      <td>NaN</td>\n",
       "      <td>NaN</td>\n",
       "    </tr>\n",
       "    <tr>\n",
       "      <th>44</th>\n",
       "      <td>0cb57ea286804a0fbff91ae2cc868d48</td>\n",
       "      <td>Кафетерий</td>\n",
       "      <td>кафе</td>\n",
       "      <td>Москва, Ангарская улица, 24А</td>\n",
       "      <td>Северный административный округ</td>\n",
       "      <td>NaN</td>\n",
       "      <td>3.8</td>\n",
       "      <td>1</td>\n",
       "      <td>8.0</td>\n",
       "      <td>NaN</td>\n",
       "      <td>NaN</td>\n",
       "      <td>NaN</td>\n",
       "      <td>NaN</td>\n",
       "    </tr>\n",
       "    <tr>\n",
       "      <th>56</th>\n",
       "      <td>2b2b60640efb494b8ed4aa3b1313f1cd</td>\n",
       "      <td>Рыба из тандыра</td>\n",
       "      <td>быстрое питание</td>\n",
       "      <td>Москва, Коровинское шоссе, 46, стр. 5</td>\n",
       "      <td>Северный административный округ</td>\n",
       "      <td>NaN</td>\n",
       "      <td>1.5</td>\n",
       "      <td>0</td>\n",
       "      <td>NaN</td>\n",
       "      <td>NaN</td>\n",
       "      <td>NaN</td>\n",
       "      <td>NaN</td>\n",
       "      <td>NaN</td>\n",
       "    </tr>\n",
       "    <tr>\n",
       "      <th>108</th>\n",
       "      <td>a9ad4bd7e15c4b8cb6295c745e5a11c1</td>\n",
       "      <td>Кафе</td>\n",
       "      <td>бар,паб</td>\n",
       "      <td>Москва, МКАД, 82-й километр, вл18</td>\n",
       "      <td>Северо-Восточный административный округ</td>\n",
       "      <td>NaN</td>\n",
       "      <td>4.2</td>\n",
       "      <td>0</td>\n",
       "      <td>NaN</td>\n",
       "      <td>NaN</td>\n",
       "      <td>NaN</td>\n",
       "      <td>NaN</td>\n",
       "      <td>NaN</td>\n",
       "    </tr>\n",
       "    <tr>\n",
       "      <th>...</th>\n",
       "      <td>...</td>\n",
       "      <td>...</td>\n",
       "      <td>...</td>\n",
       "      <td>...</td>\n",
       "      <td>...</td>\n",
       "      <td>...</td>\n",
       "      <td>...</td>\n",
       "      <td>...</td>\n",
       "      <td>...</td>\n",
       "      <td>...</td>\n",
       "      <td>...</td>\n",
       "      <td>...</td>\n",
       "      <td>...</td>\n",
       "    </tr>\n",
       "    <tr>\n",
       "      <th>8236</th>\n",
       "      <td>4c48d06135d744a5a9d05e56d48d3818</td>\n",
       "      <td>1у</td>\n",
       "      <td>кафе</td>\n",
       "      <td>Москва, Нагатинская набережная, 40/1к1</td>\n",
       "      <td>Южный административный округ</td>\n",
       "      <td>NaN</td>\n",
       "      <td>3.4</td>\n",
       "      <td>0</td>\n",
       "      <td>NaN</td>\n",
       "      <td>NaN</td>\n",
       "      <td>NaN</td>\n",
       "      <td>NaN</td>\n",
       "      <td>NaN</td>\n",
       "    </tr>\n",
       "    <tr>\n",
       "      <th>8375</th>\n",
       "      <td>f2cca1ec4a9348a686f0b9e86dba4e7b</td>\n",
       "      <td>Улица Гурьянова 55</td>\n",
       "      <td>кафе</td>\n",
       "      <td>Москва, улица Гурьянова, 55</td>\n",
       "      <td>Юго-Восточный административный округ</td>\n",
       "      <td>NaN</td>\n",
       "      <td>4.5</td>\n",
       "      <td>0</td>\n",
       "      <td>NaN</td>\n",
       "      <td>NaN</td>\n",
       "      <td>NaN</td>\n",
       "      <td>NaN</td>\n",
       "      <td>NaN</td>\n",
       "    </tr>\n",
       "    <tr>\n",
       "      <th>8378</th>\n",
       "      <td>7cbd1c883e8a4b8e93ef33dfc4cc1c14</td>\n",
       "      <td>Восточно-грузинская кухня</td>\n",
       "      <td>быстрое питание</td>\n",
       "      <td>Москва, Зеленодольская улица, 32, корп. 3</td>\n",
       "      <td>Юго-Восточный административный округ</td>\n",
       "      <td>NaN</td>\n",
       "      <td>4.3</td>\n",
       "      <td>0</td>\n",
       "      <td>120.0</td>\n",
       "      <td>NaN</td>\n",
       "      <td>NaN</td>\n",
       "      <td>NaN</td>\n",
       "      <td>NaN</td>\n",
       "    </tr>\n",
       "    <tr>\n",
       "      <th>8381</th>\n",
       "      <td>ba0d8f9430004985a42e2a5cd6554b9e</td>\n",
       "      <td>Аэлита</td>\n",
       "      <td>кафе</td>\n",
       "      <td>Москва, Ферганская улица, 8, корп. 2, стр. 1</td>\n",
       "      <td>Юго-Восточный административный округ</td>\n",
       "      <td>NaN</td>\n",
       "      <td>3.8</td>\n",
       "      <td>0</td>\n",
       "      <td>30.0</td>\n",
       "      <td>NaN</td>\n",
       "      <td>NaN</td>\n",
       "      <td>NaN</td>\n",
       "      <td>NaN</td>\n",
       "    </tr>\n",
       "    <tr>\n",
       "      <th>8395</th>\n",
       "      <td>cec883ba5b3d4f18a5a8c543d3997627</td>\n",
       "      <td>Истира Запрафка</td>\n",
       "      <td>кафе</td>\n",
       "      <td>Москва, Юго-Восточный административный округ, ...</td>\n",
       "      <td>Юго-Восточный административный округ</td>\n",
       "      <td>NaN</td>\n",
       "      <td>2.9</td>\n",
       "      <td>0</td>\n",
       "      <td>NaN</td>\n",
       "      <td>NaN</td>\n",
       "      <td>NaN</td>\n",
       "      <td>NaN</td>\n",
       "      <td>NaN</td>\n",
       "    </tr>\n",
       "  </tbody>\n",
       "</table>\n",
       "<p>536 rows × 13 columns</p>\n",
       "</div>"
      ],
      "text/plain": [
       "                                    id                       name  \\\n",
       "38    3746fe879e5b43629512095693ce4113                      Ижора   \n",
       "40    e5f4ff8c7196472eac2c980fc6b2e9b2                       Кафе   \n",
       "44    0cb57ea286804a0fbff91ae2cc868d48                  Кафетерий   \n",
       "56    2b2b60640efb494b8ed4aa3b1313f1cd            Рыба из тандыра   \n",
       "108   a9ad4bd7e15c4b8cb6295c745e5a11c1                       Кафе   \n",
       "...                                ...                        ...   \n",
       "8236  4c48d06135d744a5a9d05e56d48d3818                         1у   \n",
       "8375  f2cca1ec4a9348a686f0b9e86dba4e7b         Улица Гурьянова 55   \n",
       "8378  7cbd1c883e8a4b8e93ef33dfc4cc1c14  Восточно-грузинская кухня   \n",
       "8381  ba0d8f9430004985a42e2a5cd6554b9e                     Аэлита   \n",
       "8395  cec883ba5b3d4f18a5a8c543d3997627            Истира Запрафка   \n",
       "\n",
       "             category                                            address  \\\n",
       "38           булочная                        Москва, Ижорский проезд, 5А   \n",
       "40               кафе                 Москва, Ижорская улица, 18, стр. 1   \n",
       "44               кафе                       Москва, Ангарская улица, 24А   \n",
       "56    быстрое питание              Москва, Коровинское шоссе, 46, стр. 5   \n",
       "108           бар,паб                  Москва, МКАД, 82-й километр, вл18   \n",
       "...               ...                                                ...   \n",
       "8236             кафе             Москва, Нагатинская набережная, 40/1к1   \n",
       "8375             кафе                        Москва, улица Гурьянова, 55   \n",
       "8378  быстрое питание          Москва, Зеленодольская улица, 32, корп. 3   \n",
       "8381             кафе       Москва, Ферганская улица, 8, корп. 2, стр. 1   \n",
       "8395             кафе  Москва, Юго-Восточный административный округ, ...   \n",
       "\n",
       "                                     district hours  rating  chain  seats  \\\n",
       "38            Северный административный округ   NaN     4.4      0    NaN   \n",
       "40            Северный административный округ   NaN     3.7      0    NaN   \n",
       "44            Северный административный округ   NaN     3.8      1    8.0   \n",
       "56            Северный административный округ   NaN     1.5      0    NaN   \n",
       "108   Северо-Восточный административный округ   NaN     4.2      0    NaN   \n",
       "...                                       ...   ...     ...    ...    ...   \n",
       "8236             Южный административный округ   NaN     3.4      0    NaN   \n",
       "8375     Юго-Восточный административный округ   NaN     4.5      0    NaN   \n",
       "8378     Юго-Восточный административный округ   NaN     4.3      0  120.0   \n",
       "8381     Юго-Восточный административный округ   NaN     3.8      0   30.0   \n",
       "8395     Юго-Восточный административный округ   NaN     2.9      0    NaN   \n",
       "\n",
       "     price avg_bill  middle_avg_bill  middle_coffee_cup  \n",
       "38     NaN      NaN              NaN                NaN  \n",
       "40     NaN      NaN              NaN                NaN  \n",
       "44     NaN      NaN              NaN                NaN  \n",
       "56     NaN      NaN              NaN                NaN  \n",
       "108    NaN      NaN              NaN                NaN  \n",
       "...    ...      ...              ...                ...  \n",
       "8236   NaN      NaN              NaN                NaN  \n",
       "8375   NaN      NaN              NaN                NaN  \n",
       "8378   NaN      NaN              NaN                NaN  \n",
       "8381   NaN      NaN              NaN                NaN  \n",
       "8395   NaN      NaN              NaN                NaN  \n",
       "\n",
       "[536 rows x 13 columns]"
      ]
     },
     "execution_count": 19,
     "metadata": {},
     "output_type": "execute_result"
    }
   ],
   "source": [
    "# Посмотрим на строки с пропусками в столбце hours\n",
    "df.loc[df['hours'].isna()]"
   ]
  },
  {
   "cell_type": "markdown",
   "id": "41d0cc81",
   "metadata": {},
   "source": [
    "Ни чем не примичательные строки датасета. Утверждать, что показанные заведения закрыты невозможно."
   ]
  },
  {
   "cell_type": "code",
   "execution_count": 20,
   "id": "950d5f86",
   "metadata": {},
   "outputs": [
    {
     "data": {
      "text/plain": [
       "id                      0\n",
       "name                    0\n",
       "category                0\n",
       "address                 0\n",
       "district                0\n",
       "hours                 536\n",
       "rating                  0\n",
       "chain                   0\n",
       "seats                3611\n",
       "price                5091\n",
       "avg_bill             4590\n",
       "middle_avg_bill      5257\n",
       "middle_coffee_cup    7871\n",
       "dtype: int64"
      ]
     },
     "execution_count": 20,
     "metadata": {},
     "output_type": "execute_result"
    }
   ],
   "source": [
    "df.isna().sum()"
   ]
  },
  {
   "cell_type": "code",
   "execution_count": 21,
   "id": "d9ea4d96",
   "metadata": {},
   "outputs": [],
   "source": [
    "# Заменим пропуски в стобце price\n",
    "def category_price(df):\n",
    "        if pd.isna(df['price']):\n",
    "                if df['middle_avg_bill'] < 500:\n",
    "                    return 'низкие'\n",
    "                elif df['middle_avg_bill'] >=500 and df['middle_avg_bill'] < 1000:\n",
    "                    return 'средние'\n",
    "                elif df['middle_avg_bill'] >=1000 and df['middle_avg_bill'] < 2000:\n",
    "                    return 'выше среднего'\n",
    "                elif df['middle_avg_bill'] >=2000:\n",
    "                    return 'высокие'\n",
    "        else:\n",
    "            return df['price']\n",
    "df['price']=df.apply(category_price, axis = 1)\n"
   ]
  },
  {
   "cell_type": "code",
   "execution_count": 22,
   "id": "81240c9e",
   "metadata": {},
   "outputs": [
    {
     "data": {
      "text/plain": [
       "id                      0\n",
       "name                    0\n",
       "category                0\n",
       "address                 0\n",
       "district                0\n",
       "hours                 536\n",
       "rating                  0\n",
       "chain                   0\n",
       "seats                3611\n",
       "price                4621\n",
       "avg_bill             4590\n",
       "middle_avg_bill      5257\n",
       "middle_coffee_cup    7871\n",
       "dtype: int64"
      ]
     },
     "execution_count": 22,
     "metadata": {},
     "output_type": "execute_result"
    }
   ],
   "source": [
    "# Смотрим на количество пропусков в столбце\n",
    "df.isna().sum()"
   ]
  },
  {
   "cell_type": "code",
   "execution_count": 23,
   "id": "31693047",
   "metadata": {
    "scrolled": false
   },
   "outputs": [
    {
     "data": {
      "text/html": [
       "<div>\n",
       "<style scoped>\n",
       "    .dataframe tbody tr th:only-of-type {\n",
       "        vertical-align: middle;\n",
       "    }\n",
       "\n",
       "    .dataframe tbody tr th {\n",
       "        vertical-align: top;\n",
       "    }\n",
       "\n",
       "    .dataframe thead th {\n",
       "        text-align: right;\n",
       "    }\n",
       "</style>\n",
       "<table border=\"1\" class=\"dataframe\">\n",
       "  <thead>\n",
       "    <tr style=\"text-align: right;\">\n",
       "      <th></th>\n",
       "      <th>id</th>\n",
       "      <th>name</th>\n",
       "      <th>category</th>\n",
       "      <th>address</th>\n",
       "      <th>district</th>\n",
       "      <th>hours</th>\n",
       "      <th>rating</th>\n",
       "      <th>chain</th>\n",
       "      <th>seats</th>\n",
       "      <th>price</th>\n",
       "      <th>avg_bill</th>\n",
       "      <th>middle_avg_bill</th>\n",
       "      <th>middle_coffee_cup</th>\n",
       "    </tr>\n",
       "  </thead>\n",
       "  <tbody>\n",
       "    <tr>\n",
       "      <th>0</th>\n",
       "      <td>0c3e3439a8c64ea5bf6ecd6ca6ae19f0</td>\n",
       "      <td>WoWфли</td>\n",
       "      <td>кафе</td>\n",
       "      <td>Москва, улица Дыбенко, 7/1</td>\n",
       "      <td>Северный административный округ</td>\n",
       "      <td>ежедневно, 10:00–22:00</td>\n",
       "      <td>5.0</td>\n",
       "      <td>0</td>\n",
       "      <td>NaN</td>\n",
       "      <td>None</td>\n",
       "      <td>NaN</td>\n",
       "      <td>NaN</td>\n",
       "      <td>NaN</td>\n",
       "    </tr>\n",
       "    <tr>\n",
       "      <th>3</th>\n",
       "      <td>03ac7cd772104f65b58b349dc59f03ee</td>\n",
       "      <td>Dormouse Coffee Shop</td>\n",
       "      <td>кофейня</td>\n",
       "      <td>Москва, улица Маршала Федоренко, 12</td>\n",
       "      <td>Северный административный округ</td>\n",
       "      <td>ежедневно, 09:00–22:00</td>\n",
       "      <td>5.0</td>\n",
       "      <td>0</td>\n",
       "      <td>NaN</td>\n",
       "      <td>None</td>\n",
       "      <td>Цена чашки капучино:155–185 ₽</td>\n",
       "      <td>NaN</td>\n",
       "      <td>170.0</td>\n",
       "    </tr>\n",
       "    <tr>\n",
       "      <th>11</th>\n",
       "      <td>53ac103717c142f29907080db1f0ce58</td>\n",
       "      <td>Шашлык Шефф</td>\n",
       "      <td>кафе</td>\n",
       "      <td>Москва, улица Маршала Федоренко, 10с1</td>\n",
       "      <td>Северный административный округ</td>\n",
       "      <td>ежедневно, 10:00–21:00</td>\n",
       "      <td>4.9</td>\n",
       "      <td>0</td>\n",
       "      <td>NaN</td>\n",
       "      <td>None</td>\n",
       "      <td>NaN</td>\n",
       "      <td>NaN</td>\n",
       "      <td>NaN</td>\n",
       "    </tr>\n",
       "    <tr>\n",
       "      <th>13</th>\n",
       "      <td>aea18265b0a0415893f1e796b82568fe</td>\n",
       "      <td>Буханка</td>\n",
       "      <td>булочная</td>\n",
       "      <td>Москва, Базовская улица, 15, корп. 1</td>\n",
       "      <td>Северный административный округ</td>\n",
       "      <td>ежедневно, 08:00–22:00</td>\n",
       "      <td>4.8</td>\n",
       "      <td>1</td>\n",
       "      <td>180.0</td>\n",
       "      <td>None</td>\n",
       "      <td>NaN</td>\n",
       "      <td>NaN</td>\n",
       "      <td>NaN</td>\n",
       "    </tr>\n",
       "    <tr>\n",
       "      <th>19</th>\n",
       "      <td>feec6bedccae44cb877d99c13f9aa5d7</td>\n",
       "      <td>Пекарня</td>\n",
       "      <td>булочная</td>\n",
       "      <td>Москва, Ижорский проезд, 5</td>\n",
       "      <td>Северный административный округ</td>\n",
       "      <td>ежедневно, круглосуточно</td>\n",
       "      <td>4.4</td>\n",
       "      <td>1</td>\n",
       "      <td>NaN</td>\n",
       "      <td>None</td>\n",
       "      <td>NaN</td>\n",
       "      <td>NaN</td>\n",
       "      <td>NaN</td>\n",
       "    </tr>\n",
       "    <tr>\n",
       "      <th>...</th>\n",
       "      <td>...</td>\n",
       "      <td>...</td>\n",
       "      <td>...</td>\n",
       "      <td>...</td>\n",
       "      <td>...</td>\n",
       "      <td>...</td>\n",
       "      <td>...</td>\n",
       "      <td>...</td>\n",
       "      <td>...</td>\n",
       "      <td>...</td>\n",
       "      <td>...</td>\n",
       "      <td>...</td>\n",
       "      <td>...</td>\n",
       "    </tr>\n",
       "    <tr>\n",
       "      <th>8400</th>\n",
       "      <td>7f54f18753414d97abdddea3a2a48511</td>\n",
       "      <td>Практика Кофе</td>\n",
       "      <td>кофейня</td>\n",
       "      <td>Москва, Чонгарский бульвар, 26А, корп. 1</td>\n",
       "      <td>Юго-Западный административный округ</td>\n",
       "      <td>пн-пт 08:00–22:00; сб,вс 09:00–22:00</td>\n",
       "      <td>4.4</td>\n",
       "      <td>0</td>\n",
       "      <td>55.0</td>\n",
       "      <td>None</td>\n",
       "      <td>NaN</td>\n",
       "      <td>NaN</td>\n",
       "      <td>NaN</td>\n",
       "    </tr>\n",
       "    <tr>\n",
       "      <th>8401</th>\n",
       "      <td>0342ad1a45ed41ba89dcba246a8267e5</td>\n",
       "      <td>Суши Мания</td>\n",
       "      <td>кафе</td>\n",
       "      <td>Москва, Профсоюзная улица, 56</td>\n",
       "      <td>Юго-Западный административный округ</td>\n",
       "      <td>ежедневно, 09:00–02:00</td>\n",
       "      <td>4.4</td>\n",
       "      <td>0</td>\n",
       "      <td>86.0</td>\n",
       "      <td>None</td>\n",
       "      <td>NaN</td>\n",
       "      <td>NaN</td>\n",
       "      <td>NaN</td>\n",
       "    </tr>\n",
       "    <tr>\n",
       "      <th>8402</th>\n",
       "      <td>ee6bb7c3650e47bd8186fca08eda1091</td>\n",
       "      <td>Миславнес</td>\n",
       "      <td>кафе</td>\n",
       "      <td>Москва, Пролетарский проспект, 19, корп. 1</td>\n",
       "      <td>Южный административный округ</td>\n",
       "      <td>ежедневно, 08:00–22:00</td>\n",
       "      <td>4.8</td>\n",
       "      <td>0</td>\n",
       "      <td>150.0</td>\n",
       "      <td>None</td>\n",
       "      <td>NaN</td>\n",
       "      <td>NaN</td>\n",
       "      <td>NaN</td>\n",
       "    </tr>\n",
       "    <tr>\n",
       "      <th>8404</th>\n",
       "      <td>06a0db5ecd4842d48cd6350aa923e297</td>\n",
       "      <td>Чайхана Sabr</td>\n",
       "      <td>кафе</td>\n",
       "      <td>Москва, Люблинская улица, 112А, стр. 1</td>\n",
       "      <td>Юго-Восточный административный округ</td>\n",
       "      <td>ежедневно, круглосуточно</td>\n",
       "      <td>4.2</td>\n",
       "      <td>1</td>\n",
       "      <td>150.0</td>\n",
       "      <td>None</td>\n",
       "      <td>NaN</td>\n",
       "      <td>NaN</td>\n",
       "      <td>NaN</td>\n",
       "    </tr>\n",
       "    <tr>\n",
       "      <th>8405</th>\n",
       "      <td>9d56f8f7a7f74df1a925bc0fd2de8aae</td>\n",
       "      <td>Kebab Time</td>\n",
       "      <td>кафе</td>\n",
       "      <td>Москва, Россошанский проезд, 6</td>\n",
       "      <td>Южный административный округ</td>\n",
       "      <td>ежедневно, круглосуточно</td>\n",
       "      <td>3.9</td>\n",
       "      <td>0</td>\n",
       "      <td>12.0</td>\n",
       "      <td>None</td>\n",
       "      <td>NaN</td>\n",
       "      <td>NaN</td>\n",
       "      <td>NaN</td>\n",
       "    </tr>\n",
       "  </tbody>\n",
       "</table>\n",
       "<p>4621 rows × 13 columns</p>\n",
       "</div>"
      ],
      "text/plain": [
       "                                    id                  name  category  \\\n",
       "0     0c3e3439a8c64ea5bf6ecd6ca6ae19f0                WoWфли      кафе   \n",
       "3     03ac7cd772104f65b58b349dc59f03ee  Dormouse Coffee Shop   кофейня   \n",
       "11    53ac103717c142f29907080db1f0ce58           Шашлык Шефф      кафе   \n",
       "13    aea18265b0a0415893f1e796b82568fe               Буханка  булочная   \n",
       "19    feec6bedccae44cb877d99c13f9aa5d7               Пекарня  булочная   \n",
       "...                                ...                   ...       ...   \n",
       "8400  7f54f18753414d97abdddea3a2a48511         Практика Кофе   кофейня   \n",
       "8401  0342ad1a45ed41ba89dcba246a8267e5            Суши Мания      кафе   \n",
       "8402  ee6bb7c3650e47bd8186fca08eda1091             Миславнес      кафе   \n",
       "8404  06a0db5ecd4842d48cd6350aa923e297          Чайхана Sabr      кафе   \n",
       "8405  9d56f8f7a7f74df1a925bc0fd2de8aae            Kebab Time      кафе   \n",
       "\n",
       "                                         address  \\\n",
       "0                     Москва, улица Дыбенко, 7/1   \n",
       "3            Москва, улица Маршала Федоренко, 12   \n",
       "11         Москва, улица Маршала Федоренко, 10с1   \n",
       "13          Москва, Базовская улица, 15, корп. 1   \n",
       "19                    Москва, Ижорский проезд, 5   \n",
       "...                                          ...   \n",
       "8400    Москва, Чонгарский бульвар, 26А, корп. 1   \n",
       "8401               Москва, Профсоюзная улица, 56   \n",
       "8402  Москва, Пролетарский проспект, 19, корп. 1   \n",
       "8404      Москва, Люблинская улица, 112А, стр. 1   \n",
       "8405              Москва, Россошанский проезд, 6   \n",
       "\n",
       "                                  district  \\\n",
       "0          Северный административный округ   \n",
       "3          Северный административный округ   \n",
       "11         Северный административный округ   \n",
       "13         Северный административный округ   \n",
       "19         Северный административный округ   \n",
       "...                                    ...   \n",
       "8400   Юго-Западный административный округ   \n",
       "8401   Юго-Западный административный округ   \n",
       "8402          Южный административный округ   \n",
       "8404  Юго-Восточный административный округ   \n",
       "8405          Южный административный округ   \n",
       "\n",
       "                                     hours  rating  chain  seats price  \\\n",
       "0                   ежедневно, 10:00–22:00     5.0      0    NaN  None   \n",
       "3                   ежедневно, 09:00–22:00     5.0      0    NaN  None   \n",
       "11                  ежедневно, 10:00–21:00     4.9      0    NaN  None   \n",
       "13                  ежедневно, 08:00–22:00     4.8      1  180.0  None   \n",
       "19                ежедневно, круглосуточно     4.4      1    NaN  None   \n",
       "...                                    ...     ...    ...    ...   ...   \n",
       "8400  пн-пт 08:00–22:00; сб,вс 09:00–22:00     4.4      0   55.0  None   \n",
       "8401                ежедневно, 09:00–02:00     4.4      0   86.0  None   \n",
       "8402                ежедневно, 08:00–22:00     4.8      0  150.0  None   \n",
       "8404              ежедневно, круглосуточно     4.2      1  150.0  None   \n",
       "8405              ежедневно, круглосуточно     3.9      0   12.0  None   \n",
       "\n",
       "                           avg_bill  middle_avg_bill  middle_coffee_cup  \n",
       "0                               NaN              NaN                NaN  \n",
       "3     Цена чашки капучино:155–185 ₽              NaN              170.0  \n",
       "11                              NaN              NaN                NaN  \n",
       "13                              NaN              NaN                NaN  \n",
       "19                              NaN              NaN                NaN  \n",
       "...                             ...              ...                ...  \n",
       "8400                            NaN              NaN                NaN  \n",
       "8401                            NaN              NaN                NaN  \n",
       "8402                            NaN              NaN                NaN  \n",
       "8404                            NaN              NaN                NaN  \n",
       "8405                            NaN              NaN                NaN  \n",
       "\n",
       "[4621 rows x 13 columns]"
      ]
     },
     "execution_count": 23,
     "metadata": {},
     "output_type": "execute_result"
    }
   ],
   "source": [
    "# Посмотрим на строки с пропущенными значениями\n",
    "df[df['price'].isna()]"
   ]
  },
  {
   "cell_type": "code",
   "execution_count": 24,
   "id": "62955f90",
   "metadata": {},
   "outputs": [
    {
     "data": {
      "text/html": [
       "<div>\n",
       "<style scoped>\n",
       "    .dataframe tbody tr th:only-of-type {\n",
       "        vertical-align: middle;\n",
       "    }\n",
       "\n",
       "    .dataframe tbody tr th {\n",
       "        vertical-align: top;\n",
       "    }\n",
       "\n",
       "    .dataframe thead th {\n",
       "        text-align: right;\n",
       "    }\n",
       "</style>\n",
       "<table border=\"1\" class=\"dataframe\">\n",
       "  <thead>\n",
       "    <tr style=\"text-align: right;\">\n",
       "      <th></th>\n",
       "      <th>id</th>\n",
       "      <th>name</th>\n",
       "      <th>category</th>\n",
       "      <th>address</th>\n",
       "      <th>district</th>\n",
       "      <th>hours</th>\n",
       "      <th>rating</th>\n",
       "      <th>chain</th>\n",
       "      <th>seats</th>\n",
       "      <th>price</th>\n",
       "      <th>avg_bill</th>\n",
       "      <th>middle_avg_bill</th>\n",
       "      <th>middle_coffee_cup</th>\n",
       "    </tr>\n",
       "  </thead>\n",
       "  <tbody>\n",
       "    <tr>\n",
       "      <th>0</th>\n",
       "      <td>0c3e3439a8c64ea5bf6ecd6ca6ae19f0</td>\n",
       "      <td>WoWфли</td>\n",
       "      <td>кафе</td>\n",
       "      <td>Москва, улица Дыбенко, 7/1</td>\n",
       "      <td>Северный административный округ</td>\n",
       "      <td>ежедневно, 10:00–22:00</td>\n",
       "      <td>5.0</td>\n",
       "      <td>0</td>\n",
       "      <td>NaN</td>\n",
       "      <td>без категории</td>\n",
       "      <td>NaN</td>\n",
       "      <td>NaN</td>\n",
       "      <td>NaN</td>\n",
       "    </tr>\n",
       "    <tr>\n",
       "      <th>1</th>\n",
       "      <td>045780ada3474c57a2112e505d74b633</td>\n",
       "      <td>Четыре комнаты</td>\n",
       "      <td>ресторан</td>\n",
       "      <td>Москва, улица Дыбенко, 36, корп. 1</td>\n",
       "      <td>Северный административный округ</td>\n",
       "      <td>ежедневно, 10:00–22:00</td>\n",
       "      <td>4.5</td>\n",
       "      <td>0</td>\n",
       "      <td>4.0</td>\n",
       "      <td>выше среднего</td>\n",
       "      <td>Средний счёт:1500–1600 ₽</td>\n",
       "      <td>1550.0</td>\n",
       "      <td>NaN</td>\n",
       "    </tr>\n",
       "    <tr>\n",
       "      <th>2</th>\n",
       "      <td>1070b6b59144425896c65889347fcff6</td>\n",
       "      <td>Хазри</td>\n",
       "      <td>кафе</td>\n",
       "      <td>Москва, Клязьминская улица, 15</td>\n",
       "      <td>Северный административный округ</td>\n",
       "      <td>пн-чт 11:00–02:00; пт,сб 11:00–05:00; вс 11:00...</td>\n",
       "      <td>4.6</td>\n",
       "      <td>0</td>\n",
       "      <td>45.0</td>\n",
       "      <td>средние</td>\n",
       "      <td>Средний счёт:от 1000 ₽</td>\n",
       "      <td>1000.0</td>\n",
       "      <td>NaN</td>\n",
       "    </tr>\n",
       "    <tr>\n",
       "      <th>3</th>\n",
       "      <td>03ac7cd772104f65b58b349dc59f03ee</td>\n",
       "      <td>Dormouse Coffee Shop</td>\n",
       "      <td>кофейня</td>\n",
       "      <td>Москва, улица Маршала Федоренко, 12</td>\n",
       "      <td>Северный административный округ</td>\n",
       "      <td>ежедневно, 09:00–22:00</td>\n",
       "      <td>5.0</td>\n",
       "      <td>0</td>\n",
       "      <td>NaN</td>\n",
       "      <td>без категории</td>\n",
       "      <td>Цена чашки капучино:155–185 ₽</td>\n",
       "      <td>NaN</td>\n",
       "      <td>170.0</td>\n",
       "    </tr>\n",
       "    <tr>\n",
       "      <th>4</th>\n",
       "      <td>a163aada139c4c7f87b0b1c0b466a50f</td>\n",
       "      <td>Иль Марко</td>\n",
       "      <td>пиццерия</td>\n",
       "      <td>Москва, Правобережная улица, 1Б</td>\n",
       "      <td>Северный административный округ</td>\n",
       "      <td>ежедневно, 10:00–22:00</td>\n",
       "      <td>5.0</td>\n",
       "      <td>1</td>\n",
       "      <td>148.0</td>\n",
       "      <td>средние</td>\n",
       "      <td>Средний счёт:400–600 ₽</td>\n",
       "      <td>500.0</td>\n",
       "      <td>NaN</td>\n",
       "    </tr>\n",
       "  </tbody>\n",
       "</table>\n",
       "</div>"
      ],
      "text/plain": [
       "                                 id                  name  category  \\\n",
       "0  0c3e3439a8c64ea5bf6ecd6ca6ae19f0                WoWфли      кафе   \n",
       "1  045780ada3474c57a2112e505d74b633        Четыре комнаты  ресторан   \n",
       "2  1070b6b59144425896c65889347fcff6                 Хазри      кафе   \n",
       "3  03ac7cd772104f65b58b349dc59f03ee  Dormouse Coffee Shop   кофейня   \n",
       "4  a163aada139c4c7f87b0b1c0b466a50f             Иль Марко  пиццерия   \n",
       "\n",
       "                               address                         district  \\\n",
       "0           Москва, улица Дыбенко, 7/1  Северный административный округ   \n",
       "1   Москва, улица Дыбенко, 36, корп. 1  Северный административный округ   \n",
       "2       Москва, Клязьминская улица, 15  Северный административный округ   \n",
       "3  Москва, улица Маршала Федоренко, 12  Северный административный округ   \n",
       "4      Москва, Правобережная улица, 1Б  Северный административный округ   \n",
       "\n",
       "                                               hours  rating  chain  seats  \\\n",
       "0                             ежедневно, 10:00–22:00     5.0      0    NaN   \n",
       "1                             ежедневно, 10:00–22:00     4.5      0    4.0   \n",
       "2  пн-чт 11:00–02:00; пт,сб 11:00–05:00; вс 11:00...     4.6      0   45.0   \n",
       "3                             ежедневно, 09:00–22:00     5.0      0    NaN   \n",
       "4                             ежедневно, 10:00–22:00     5.0      1  148.0   \n",
       "\n",
       "           price                       avg_bill  middle_avg_bill  \\\n",
       "0  без категории                            NaN              NaN   \n",
       "1  выше среднего       Средний счёт:1500–1600 ₽           1550.0   \n",
       "2        средние         Средний счёт:от 1000 ₽           1000.0   \n",
       "3  без категории  Цена чашки капучино:155–185 ₽              NaN   \n",
       "4        средние         Средний счёт:400–600 ₽            500.0   \n",
       "\n",
       "   middle_coffee_cup  \n",
       "0                NaN  \n",
       "1                NaN  \n",
       "2                NaN  \n",
       "3              170.0  \n",
       "4                NaN  "
      ]
     },
     "execution_count": 24,
     "metadata": {},
     "output_type": "execute_result"
    }
   ],
   "source": [
    "# Заполним оставшиеся пустые строки по столбцу price\n",
    "df['price'] = df['price'].fillna('без категории')\n",
    "df.head()"
   ]
  },
  {
   "cell_type": "code",
   "execution_count": 25,
   "id": "9616ead2",
   "metadata": {},
   "outputs": [
    {
     "data": {
      "text/plain": [
       "id                      0\n",
       "name                    0\n",
       "category                0\n",
       "address                 0\n",
       "district                0\n",
       "hours                 536\n",
       "rating                  0\n",
       "chain                   0\n",
       "seats                3611\n",
       "price                   0\n",
       "avg_bill             4590\n",
       "middle_avg_bill      5257\n",
       "middle_coffee_cup    7871\n",
       "dtype: int64"
      ]
     },
     "execution_count": 25,
     "metadata": {},
     "output_type": "execute_result"
    }
   ],
   "source": [
    "df.isna().sum()"
   ]
  },
  {
   "cell_type": "markdown",
   "id": "c4d5f04d",
   "metadata": {
    "id": "c4d5f04d"
   },
   "source": [
    "- Проверьте данные на явные и неявные дубликаты, например поля с названием и адресом заведения. Для оптимизации проверки нормализуйте данные в текстовых столбцах, например с названием заведения."
   ]
  },
  {
   "cell_type": "code",
   "execution_count": 26,
   "id": "95b15cd0",
   "metadata": {
    "id": "95b15cd0"
   },
   "outputs": [
    {
     "data": {
      "text/html": [
       "<div>\n",
       "<style scoped>\n",
       "    .dataframe tbody tr th:only-of-type {\n",
       "        vertical-align: middle;\n",
       "    }\n",
       "\n",
       "    .dataframe tbody tr th {\n",
       "        vertical-align: top;\n",
       "    }\n",
       "\n",
       "    .dataframe thead th {\n",
       "        text-align: right;\n",
       "    }\n",
       "</style>\n",
       "<table border=\"1\" class=\"dataframe\">\n",
       "  <thead>\n",
       "    <tr style=\"text-align: right;\">\n",
       "      <th></th>\n",
       "      <th>id</th>\n",
       "      <th>name</th>\n",
       "      <th>category</th>\n",
       "      <th>address</th>\n",
       "      <th>district</th>\n",
       "      <th>hours</th>\n",
       "      <th>rating</th>\n",
       "      <th>chain</th>\n",
       "      <th>seats</th>\n",
       "      <th>price</th>\n",
       "      <th>avg_bill</th>\n",
       "      <th>middle_avg_bill</th>\n",
       "      <th>middle_coffee_cup</th>\n",
       "    </tr>\n",
       "  </thead>\n",
       "  <tbody>\n",
       "    <tr>\n",
       "      <th>0</th>\n",
       "      <td>0c3e3439a8c64ea5bf6ecd6ca6ae19f0</td>\n",
       "      <td>wowфли</td>\n",
       "      <td>кафе</td>\n",
       "      <td>москва, улица дыбенко, 7/1</td>\n",
       "      <td>северный административный округ</td>\n",
       "      <td>ежедневно, 10:00–22:00</td>\n",
       "      <td>5.0</td>\n",
       "      <td>0</td>\n",
       "      <td>NaN</td>\n",
       "      <td>без категории</td>\n",
       "      <td>NaN</td>\n",
       "      <td>NaN</td>\n",
       "      <td>NaN</td>\n",
       "    </tr>\n",
       "    <tr>\n",
       "      <th>1</th>\n",
       "      <td>045780ada3474c57a2112e505d74b633</td>\n",
       "      <td>четыре комнаты</td>\n",
       "      <td>ресторан</td>\n",
       "      <td>москва, улица дыбенко, 36, корп. 1</td>\n",
       "      <td>северный административный округ</td>\n",
       "      <td>ежедневно, 10:00–22:00</td>\n",
       "      <td>4.5</td>\n",
       "      <td>0</td>\n",
       "      <td>4.0</td>\n",
       "      <td>выше среднего</td>\n",
       "      <td>средний счёт:1500–1600 ₽</td>\n",
       "      <td>1550.0</td>\n",
       "      <td>NaN</td>\n",
       "    </tr>\n",
       "    <tr>\n",
       "      <th>2</th>\n",
       "      <td>1070b6b59144425896c65889347fcff6</td>\n",
       "      <td>хазри</td>\n",
       "      <td>кафе</td>\n",
       "      <td>москва, клязьминская улица, 15</td>\n",
       "      <td>северный административный округ</td>\n",
       "      <td>пн-чт 11:00–02:00; пт,сб 11:00–05:00; вс 11:00...</td>\n",
       "      <td>4.6</td>\n",
       "      <td>0</td>\n",
       "      <td>45.0</td>\n",
       "      <td>средние</td>\n",
       "      <td>средний счёт:от 1000 ₽</td>\n",
       "      <td>1000.0</td>\n",
       "      <td>NaN</td>\n",
       "    </tr>\n",
       "    <tr>\n",
       "      <th>3</th>\n",
       "      <td>03ac7cd772104f65b58b349dc59f03ee</td>\n",
       "      <td>dormouse coffee shop</td>\n",
       "      <td>кофейня</td>\n",
       "      <td>москва, улица маршала федоренко, 12</td>\n",
       "      <td>северный административный округ</td>\n",
       "      <td>ежедневно, 09:00–22:00</td>\n",
       "      <td>5.0</td>\n",
       "      <td>0</td>\n",
       "      <td>NaN</td>\n",
       "      <td>без категории</td>\n",
       "      <td>цена чашки капучино:155–185 ₽</td>\n",
       "      <td>NaN</td>\n",
       "      <td>170.0</td>\n",
       "    </tr>\n",
       "    <tr>\n",
       "      <th>4</th>\n",
       "      <td>a163aada139c4c7f87b0b1c0b466a50f</td>\n",
       "      <td>иль марко</td>\n",
       "      <td>пиццерия</td>\n",
       "      <td>москва, правобережная улица, 1б</td>\n",
       "      <td>северный административный округ</td>\n",
       "      <td>ежедневно, 10:00–22:00</td>\n",
       "      <td>5.0</td>\n",
       "      <td>1</td>\n",
       "      <td>148.0</td>\n",
       "      <td>средние</td>\n",
       "      <td>средний счёт:400–600 ₽</td>\n",
       "      <td>500.0</td>\n",
       "      <td>NaN</td>\n",
       "    </tr>\n",
       "    <tr>\n",
       "      <th>...</th>\n",
       "      <td>...</td>\n",
       "      <td>...</td>\n",
       "      <td>...</td>\n",
       "      <td>...</td>\n",
       "      <td>...</td>\n",
       "      <td>...</td>\n",
       "      <td>...</td>\n",
       "      <td>...</td>\n",
       "      <td>...</td>\n",
       "      <td>...</td>\n",
       "      <td>...</td>\n",
       "      <td>...</td>\n",
       "      <td>...</td>\n",
       "    </tr>\n",
       "    <tr>\n",
       "      <th>8401</th>\n",
       "      <td>0342ad1a45ed41ba89dcba246a8267e5</td>\n",
       "      <td>суши мания</td>\n",
       "      <td>кафе</td>\n",
       "      <td>москва, профсоюзная улица, 56</td>\n",
       "      <td>юго-западный административный округ</td>\n",
       "      <td>ежедневно, 09:00–02:00</td>\n",
       "      <td>4.4</td>\n",
       "      <td>0</td>\n",
       "      <td>86.0</td>\n",
       "      <td>без категории</td>\n",
       "      <td>NaN</td>\n",
       "      <td>NaN</td>\n",
       "      <td>NaN</td>\n",
       "    </tr>\n",
       "    <tr>\n",
       "      <th>8402</th>\n",
       "      <td>ee6bb7c3650e47bd8186fca08eda1091</td>\n",
       "      <td>миславнес</td>\n",
       "      <td>кафе</td>\n",
       "      <td>москва, пролетарский проспект, 19, корп. 1</td>\n",
       "      <td>южный административный округ</td>\n",
       "      <td>ежедневно, 08:00–22:00</td>\n",
       "      <td>4.8</td>\n",
       "      <td>0</td>\n",
       "      <td>150.0</td>\n",
       "      <td>без категории</td>\n",
       "      <td>NaN</td>\n",
       "      <td>NaN</td>\n",
       "      <td>NaN</td>\n",
       "    </tr>\n",
       "    <tr>\n",
       "      <th>8403</th>\n",
       "      <td>62e8c64d4c89467aba608e39ef87616b</td>\n",
       "      <td>самовар</td>\n",
       "      <td>кафе</td>\n",
       "      <td>москва, люблинская улица, 112а, стр. 1</td>\n",
       "      <td>юго-восточный административный округ</td>\n",
       "      <td>ежедневно, круглосуточно</td>\n",
       "      <td>3.9</td>\n",
       "      <td>0</td>\n",
       "      <td>150.0</td>\n",
       "      <td>низкие</td>\n",
       "      <td>средний счёт:от 150 ₽</td>\n",
       "      <td>150.0</td>\n",
       "      <td>NaN</td>\n",
       "    </tr>\n",
       "    <tr>\n",
       "      <th>8404</th>\n",
       "      <td>06a0db5ecd4842d48cd6350aa923e297</td>\n",
       "      <td>чайхана sabr</td>\n",
       "      <td>кафе</td>\n",
       "      <td>москва, люблинская улица, 112а, стр. 1</td>\n",
       "      <td>юго-восточный административный округ</td>\n",
       "      <td>ежедневно, круглосуточно</td>\n",
       "      <td>4.2</td>\n",
       "      <td>1</td>\n",
       "      <td>150.0</td>\n",
       "      <td>без категории</td>\n",
       "      <td>NaN</td>\n",
       "      <td>NaN</td>\n",
       "      <td>NaN</td>\n",
       "    </tr>\n",
       "    <tr>\n",
       "      <th>8405</th>\n",
       "      <td>9d56f8f7a7f74df1a925bc0fd2de8aae</td>\n",
       "      <td>kebab time</td>\n",
       "      <td>кафе</td>\n",
       "      <td>москва, россошанский проезд, 6</td>\n",
       "      <td>южный административный округ</td>\n",
       "      <td>ежедневно, круглосуточно</td>\n",
       "      <td>3.9</td>\n",
       "      <td>0</td>\n",
       "      <td>12.0</td>\n",
       "      <td>без категории</td>\n",
       "      <td>NaN</td>\n",
       "      <td>NaN</td>\n",
       "      <td>NaN</td>\n",
       "    </tr>\n",
       "  </tbody>\n",
       "</table>\n",
       "<p>8406 rows × 13 columns</p>\n",
       "</div>"
      ],
      "text/plain": [
       "                                    id                  name  category  \\\n",
       "0     0c3e3439a8c64ea5bf6ecd6ca6ae19f0                wowфли      кафе   \n",
       "1     045780ada3474c57a2112e505d74b633        четыре комнаты  ресторан   \n",
       "2     1070b6b59144425896c65889347fcff6                 хазри      кафе   \n",
       "3     03ac7cd772104f65b58b349dc59f03ee  dormouse coffee shop   кофейня   \n",
       "4     a163aada139c4c7f87b0b1c0b466a50f             иль марко  пиццерия   \n",
       "...                                ...                   ...       ...   \n",
       "8401  0342ad1a45ed41ba89dcba246a8267e5            суши мания      кафе   \n",
       "8402  ee6bb7c3650e47bd8186fca08eda1091             миславнес      кафе   \n",
       "8403  62e8c64d4c89467aba608e39ef87616b               самовар      кафе   \n",
       "8404  06a0db5ecd4842d48cd6350aa923e297          чайхана sabr      кафе   \n",
       "8405  9d56f8f7a7f74df1a925bc0fd2de8aae            kebab time      кафе   \n",
       "\n",
       "                                         address  \\\n",
       "0                     москва, улица дыбенко, 7/1   \n",
       "1             москва, улица дыбенко, 36, корп. 1   \n",
       "2                 москва, клязьминская улица, 15   \n",
       "3            москва, улица маршала федоренко, 12   \n",
       "4                москва, правобережная улица, 1б   \n",
       "...                                          ...   \n",
       "8401               москва, профсоюзная улица, 56   \n",
       "8402  москва, пролетарский проспект, 19, корп. 1   \n",
       "8403      москва, люблинская улица, 112а, стр. 1   \n",
       "8404      москва, люблинская улица, 112а, стр. 1   \n",
       "8405              москва, россошанский проезд, 6   \n",
       "\n",
       "                                  district  \\\n",
       "0          северный административный округ   \n",
       "1          северный административный округ   \n",
       "2          северный административный округ   \n",
       "3          северный административный округ   \n",
       "4          северный административный округ   \n",
       "...                                    ...   \n",
       "8401   юго-западный административный округ   \n",
       "8402          южный административный округ   \n",
       "8403  юго-восточный административный округ   \n",
       "8404  юго-восточный административный округ   \n",
       "8405          южный административный округ   \n",
       "\n",
       "                                                  hours  rating  chain  seats  \\\n",
       "0                                ежедневно, 10:00–22:00     5.0      0    NaN   \n",
       "1                                ежедневно, 10:00–22:00     4.5      0    4.0   \n",
       "2     пн-чт 11:00–02:00; пт,сб 11:00–05:00; вс 11:00...     4.6      0   45.0   \n",
       "3                                ежедневно, 09:00–22:00     5.0      0    NaN   \n",
       "4                                ежедневно, 10:00–22:00     5.0      1  148.0   \n",
       "...                                                 ...     ...    ...    ...   \n",
       "8401                             ежедневно, 09:00–02:00     4.4      0   86.0   \n",
       "8402                             ежедневно, 08:00–22:00     4.8      0  150.0   \n",
       "8403                           ежедневно, круглосуточно     3.9      0  150.0   \n",
       "8404                           ежедневно, круглосуточно     4.2      1  150.0   \n",
       "8405                           ежедневно, круглосуточно     3.9      0   12.0   \n",
       "\n",
       "              price                       avg_bill  middle_avg_bill  \\\n",
       "0     без категории                            NaN              NaN   \n",
       "1     выше среднего       средний счёт:1500–1600 ₽           1550.0   \n",
       "2           средние         средний счёт:от 1000 ₽           1000.0   \n",
       "3     без категории  цена чашки капучино:155–185 ₽              NaN   \n",
       "4           средние         средний счёт:400–600 ₽            500.0   \n",
       "...             ...                            ...              ...   \n",
       "8401  без категории                            NaN              NaN   \n",
       "8402  без категории                            NaN              NaN   \n",
       "8403         низкие          средний счёт:от 150 ₽            150.0   \n",
       "8404  без категории                            NaN              NaN   \n",
       "8405  без категории                            NaN              NaN   \n",
       "\n",
       "      middle_coffee_cup  \n",
       "0                   NaN  \n",
       "1                   NaN  \n",
       "2                   NaN  \n",
       "3                 170.0  \n",
       "4                   NaN  \n",
       "...                 ...  \n",
       "8401                NaN  \n",
       "8402                NaN  \n",
       "8403                NaN  \n",
       "8404                NaN  \n",
       "8405                NaN  \n",
       "\n",
       "[8406 rows x 13 columns]"
      ]
     },
     "metadata": {},
     "output_type": "display_data"
    }
   ],
   "source": [
    "# Приводим строковые значения в столбцах к общему регистру\n",
    "for column in ['name','category','address','district','price','avg_bill']:\n",
    "    df[column] = df[column].str.lower()\n",
    "display(df)"
   ]
  },
  {
   "cell_type": "code",
   "execution_count": 27,
   "id": "a4ced980",
   "metadata": {},
   "outputs": [
    {
     "name": "stdout",
     "output_type": "stream",
     "text": [
      "id\n",
      "0 \n",
      "\n",
      "name\n",
      "2894 \n",
      "\n",
      "category\n",
      "8398 \n",
      "\n",
      "address\n",
      "2654 \n",
      "\n",
      "district\n",
      "8397 \n",
      "\n",
      "hours\n",
      "7098 \n",
      "\n",
      "rating\n",
      "8365 \n",
      "\n",
      "chain\n",
      "8404 \n",
      "\n",
      "seats\n",
      "8176 \n",
      "\n",
      "price\n",
      "8401 \n",
      "\n",
      "avg_bill\n",
      "7508 \n",
      "\n",
      "middle_avg_bill\n",
      "8175 \n",
      "\n",
      "middle_coffee_cup\n",
      "8309 \n",
      "\n"
     ]
    }
   ],
   "source": [
    "# Проверяем количество дубликатов для полей датасета\n",
    "def check_duplicates(df):\n",
    "    for column in df.columns:\n",
    "        print(column)\n",
    "        print(df.duplicated(subset=column).sum(),'\\n')\n",
    "check_duplicates(df)"
   ]
  },
  {
   "cell_type": "code",
   "execution_count": 28,
   "id": "0769b681",
   "metadata": {
    "id": "0769b681"
   },
   "outputs": [
    {
     "data": {
      "text/plain": [
       "0"
      ]
     },
     "execution_count": 28,
     "metadata": {},
     "output_type": "execute_result"
    }
   ],
   "source": [
    "# Проверяем общее количество дубликатов\n",
    "df.duplicated().sum()"
   ]
  },
  {
   "cell_type": "code",
   "execution_count": 29,
   "id": "eb6e42f7",
   "metadata": {},
   "outputs": [
    {
     "name": "stdout",
     "output_type": "stream",
     "text": [
      "Уникальные значения в столбце category:\n",
      "['бар,паб' 'булочная' 'быстрое питание' 'кафе' 'кофейня' 'пиццерия'\n",
      " 'ресторан' 'столовая']\n",
      "\n",
      "Уникальные значения в столбце district:\n",
      "['восточный административный округ' 'западный административный округ'\n",
      " 'северный административный округ'\n",
      " 'северо-восточный административный округ'\n",
      " 'северо-западный административный округ'\n",
      " 'центральный административный округ'\n",
      " 'юго-восточный административный округ'\n",
      " 'юго-западный административный округ' 'южный административный округ']\n",
      "\n",
      "Уникальные значения в столбце price:\n",
      "['без категории' 'высокие' 'выше среднего' 'низкие' 'средние']\n",
      "\n",
      "Уникальные значения в столбце chain:\n",
      "[0 1]\n",
      "\n"
     ]
    }
   ],
   "source": [
    "# Проверяем категориальные значения у столбцов\n",
    "for column in ['category', 'district','price','chain']:\n",
    "    print(f'Уникальные значения в столбце {column}:')\n",
    "    print(df[column].sort_values().unique())\n",
    "    print()"
   ]
  },
  {
   "cell_type": "code",
   "execution_count": 30,
   "id": "f3f7cdfe",
   "metadata": {},
   "outputs": [],
   "source": [
    "# Удалим дубликаты в датасете \n",
    "df.drop_duplicates( subset = ['name','address'],keep='first', inplace=True) "
   ]
  },
  {
   "cell_type": "code",
   "execution_count": 31,
   "id": "7fc08cd2",
   "metadata": {
    "scrolled": false
   },
   "outputs": [
    {
     "name": "stdout",
     "output_type": "stream",
     "text": [
      "id\n",
      "0 \n",
      "\n",
      "name\n",
      "2890 \n",
      "\n",
      "category\n",
      "8394 \n",
      "\n",
      "address\n",
      "2650 \n",
      "\n",
      "district\n",
      "8393 \n",
      "\n",
      "hours\n",
      "7095 \n",
      "\n",
      "rating\n",
      "8361 \n",
      "\n",
      "chain\n",
      "8400 \n",
      "\n",
      "seats\n",
      "8172 \n",
      "\n",
      "price\n",
      "8397 \n",
      "\n",
      "avg_bill\n",
      "7504 \n",
      "\n",
      "middle_avg_bill\n",
      "8171 \n",
      "\n",
      "middle_coffee_cup\n",
      "8305 \n",
      "\n"
     ]
    }
   ],
   "source": [
    "# Проверим данные\n",
    "check_duplicates(df)"
   ]
  },
  {
   "cell_type": "code",
   "execution_count": 32,
   "id": "630b3933",
   "metadata": {},
   "outputs": [
    {
     "data": {
      "text/html": [
       "<div>\n",
       "<style scoped>\n",
       "    .dataframe tbody tr th:only-of-type {\n",
       "        vertical-align: middle;\n",
       "    }\n",
       "\n",
       "    .dataframe tbody tr th {\n",
       "        vertical-align: top;\n",
       "    }\n",
       "\n",
       "    .dataframe thead th {\n",
       "        text-align: right;\n",
       "    }\n",
       "</style>\n",
       "<table border=\"1\" class=\"dataframe\">\n",
       "  <thead>\n",
       "    <tr style=\"text-align: right;\">\n",
       "      <th></th>\n",
       "      <th>id</th>\n",
       "      <th>name</th>\n",
       "      <th>category</th>\n",
       "      <th>address</th>\n",
       "      <th>district</th>\n",
       "      <th>hours</th>\n",
       "      <th>rating</th>\n",
       "      <th>chain</th>\n",
       "      <th>seats</th>\n",
       "      <th>price</th>\n",
       "      <th>avg_bill</th>\n",
       "      <th>middle_avg_bill</th>\n",
       "      <th>middle_coffee_cup</th>\n",
       "    </tr>\n",
       "  </thead>\n",
       "  <tbody>\n",
       "    <tr>\n",
       "      <th>0</th>\n",
       "      <td>0c3e3439a8c64ea5bf6ecd6ca6ae19f0</td>\n",
       "      <td>wowфли</td>\n",
       "      <td>кафе</td>\n",
       "      <td>москва, улица дыбенко, 7/1</td>\n",
       "      <td>северный административный округ</td>\n",
       "      <td>ежедневно, 10:00–22:00</td>\n",
       "      <td>5.0</td>\n",
       "      <td>0</td>\n",
       "      <td>NaN</td>\n",
       "      <td>без категории</td>\n",
       "      <td>NaN</td>\n",
       "      <td>NaN</td>\n",
       "      <td>NaN</td>\n",
       "    </tr>\n",
       "    <tr>\n",
       "      <th>1</th>\n",
       "      <td>045780ada3474c57a2112e505d74b633</td>\n",
       "      <td>четыре комнаты</td>\n",
       "      <td>ресторан</td>\n",
       "      <td>москва, улица дыбенко, 36, корп. 1</td>\n",
       "      <td>северный административный округ</td>\n",
       "      <td>ежедневно, 10:00–22:00</td>\n",
       "      <td>4.5</td>\n",
       "      <td>0</td>\n",
       "      <td>4.0</td>\n",
       "      <td>выше среднего</td>\n",
       "      <td>средний счёт:1500–1600 ₽</td>\n",
       "      <td>1550.0</td>\n",
       "      <td>NaN</td>\n",
       "    </tr>\n",
       "    <tr>\n",
       "      <th>2</th>\n",
       "      <td>1070b6b59144425896c65889347fcff6</td>\n",
       "      <td>хазри</td>\n",
       "      <td>кафе</td>\n",
       "      <td>москва, клязьминская улица, 15</td>\n",
       "      <td>северный административный округ</td>\n",
       "      <td>пн-чт 11:00–02:00; пт,сб 11:00–05:00; вс 11:00...</td>\n",
       "      <td>4.6</td>\n",
       "      <td>0</td>\n",
       "      <td>45.0</td>\n",
       "      <td>средние</td>\n",
       "      <td>средний счёт:от 1000 ₽</td>\n",
       "      <td>1000.0</td>\n",
       "      <td>NaN</td>\n",
       "    </tr>\n",
       "    <tr>\n",
       "      <th>3</th>\n",
       "      <td>03ac7cd772104f65b58b349dc59f03ee</td>\n",
       "      <td>dormouse coffee shop</td>\n",
       "      <td>кофейня</td>\n",
       "      <td>москва, улица маршала федоренко, 12</td>\n",
       "      <td>северный административный округ</td>\n",
       "      <td>ежедневно, 09:00–22:00</td>\n",
       "      <td>5.0</td>\n",
       "      <td>0</td>\n",
       "      <td>NaN</td>\n",
       "      <td>без категории</td>\n",
       "      <td>цена чашки капучино:155–185 ₽</td>\n",
       "      <td>NaN</td>\n",
       "      <td>170.0</td>\n",
       "    </tr>\n",
       "    <tr>\n",
       "      <th>4</th>\n",
       "      <td>a163aada139c4c7f87b0b1c0b466a50f</td>\n",
       "      <td>иль марко</td>\n",
       "      <td>пиццерия</td>\n",
       "      <td>москва, правобережная улица, 1б</td>\n",
       "      <td>северный административный округ</td>\n",
       "      <td>ежедневно, 10:00–22:00</td>\n",
       "      <td>5.0</td>\n",
       "      <td>1</td>\n",
       "      <td>148.0</td>\n",
       "      <td>средние</td>\n",
       "      <td>средний счёт:400–600 ₽</td>\n",
       "      <td>500.0</td>\n",
       "      <td>NaN</td>\n",
       "    </tr>\n",
       "    <tr>\n",
       "      <th>...</th>\n",
       "      <td>...</td>\n",
       "      <td>...</td>\n",
       "      <td>...</td>\n",
       "      <td>...</td>\n",
       "      <td>...</td>\n",
       "      <td>...</td>\n",
       "      <td>...</td>\n",
       "      <td>...</td>\n",
       "      <td>...</td>\n",
       "      <td>...</td>\n",
       "      <td>...</td>\n",
       "      <td>...</td>\n",
       "      <td>...</td>\n",
       "    </tr>\n",
       "    <tr>\n",
       "      <th>8401</th>\n",
       "      <td>0342ad1a45ed41ba89dcba246a8267e5</td>\n",
       "      <td>суши мания</td>\n",
       "      <td>кафе</td>\n",
       "      <td>москва, профсоюзная улица, 56</td>\n",
       "      <td>юго-западный административный округ</td>\n",
       "      <td>ежедневно, 09:00–02:00</td>\n",
       "      <td>4.4</td>\n",
       "      <td>0</td>\n",
       "      <td>86.0</td>\n",
       "      <td>без категории</td>\n",
       "      <td>NaN</td>\n",
       "      <td>NaN</td>\n",
       "      <td>NaN</td>\n",
       "    </tr>\n",
       "    <tr>\n",
       "      <th>8402</th>\n",
       "      <td>ee6bb7c3650e47bd8186fca08eda1091</td>\n",
       "      <td>миславнес</td>\n",
       "      <td>кафе</td>\n",
       "      <td>москва, пролетарский проспект, 19, корп. 1</td>\n",
       "      <td>южный административный округ</td>\n",
       "      <td>ежедневно, 08:00–22:00</td>\n",
       "      <td>4.8</td>\n",
       "      <td>0</td>\n",
       "      <td>150.0</td>\n",
       "      <td>без категории</td>\n",
       "      <td>NaN</td>\n",
       "      <td>NaN</td>\n",
       "      <td>NaN</td>\n",
       "    </tr>\n",
       "    <tr>\n",
       "      <th>8403</th>\n",
       "      <td>62e8c64d4c89467aba608e39ef87616b</td>\n",
       "      <td>самовар</td>\n",
       "      <td>кафе</td>\n",
       "      <td>москва, люблинская улица, 112а, стр. 1</td>\n",
       "      <td>юго-восточный административный округ</td>\n",
       "      <td>ежедневно, круглосуточно</td>\n",
       "      <td>3.9</td>\n",
       "      <td>0</td>\n",
       "      <td>150.0</td>\n",
       "      <td>низкие</td>\n",
       "      <td>средний счёт:от 150 ₽</td>\n",
       "      <td>150.0</td>\n",
       "      <td>NaN</td>\n",
       "    </tr>\n",
       "    <tr>\n",
       "      <th>8404</th>\n",
       "      <td>06a0db5ecd4842d48cd6350aa923e297</td>\n",
       "      <td>чайхана sabr</td>\n",
       "      <td>кафе</td>\n",
       "      <td>москва, люблинская улица, 112а, стр. 1</td>\n",
       "      <td>юго-восточный административный округ</td>\n",
       "      <td>ежедневно, круглосуточно</td>\n",
       "      <td>4.2</td>\n",
       "      <td>1</td>\n",
       "      <td>150.0</td>\n",
       "      <td>без категории</td>\n",
       "      <td>NaN</td>\n",
       "      <td>NaN</td>\n",
       "      <td>NaN</td>\n",
       "    </tr>\n",
       "    <tr>\n",
       "      <th>8405</th>\n",
       "      <td>9d56f8f7a7f74df1a925bc0fd2de8aae</td>\n",
       "      <td>kebab time</td>\n",
       "      <td>кафе</td>\n",
       "      <td>москва, россошанский проезд, 6</td>\n",
       "      <td>южный административный округ</td>\n",
       "      <td>ежедневно, круглосуточно</td>\n",
       "      <td>3.9</td>\n",
       "      <td>0</td>\n",
       "      <td>12.0</td>\n",
       "      <td>без категории</td>\n",
       "      <td>NaN</td>\n",
       "      <td>NaN</td>\n",
       "      <td>NaN</td>\n",
       "    </tr>\n",
       "  </tbody>\n",
       "</table>\n",
       "<p>8402 rows × 13 columns</p>\n",
       "</div>"
      ],
      "text/plain": [
       "                                    id                  name  category  \\\n",
       "0     0c3e3439a8c64ea5bf6ecd6ca6ae19f0                wowфли      кафе   \n",
       "1     045780ada3474c57a2112e505d74b633        четыре комнаты  ресторан   \n",
       "2     1070b6b59144425896c65889347fcff6                 хазри      кафе   \n",
       "3     03ac7cd772104f65b58b349dc59f03ee  dormouse coffee shop   кофейня   \n",
       "4     a163aada139c4c7f87b0b1c0b466a50f             иль марко  пиццерия   \n",
       "...                                ...                   ...       ...   \n",
       "8401  0342ad1a45ed41ba89dcba246a8267e5            суши мания      кафе   \n",
       "8402  ee6bb7c3650e47bd8186fca08eda1091             миславнес      кафе   \n",
       "8403  62e8c64d4c89467aba608e39ef87616b               самовар      кафе   \n",
       "8404  06a0db5ecd4842d48cd6350aa923e297          чайхана sabr      кафе   \n",
       "8405  9d56f8f7a7f74df1a925bc0fd2de8aae            kebab time      кафе   \n",
       "\n",
       "                                         address  \\\n",
       "0                     москва, улица дыбенко, 7/1   \n",
       "1             москва, улица дыбенко, 36, корп. 1   \n",
       "2                 москва, клязьминская улица, 15   \n",
       "3            москва, улица маршала федоренко, 12   \n",
       "4                москва, правобережная улица, 1б   \n",
       "...                                          ...   \n",
       "8401               москва, профсоюзная улица, 56   \n",
       "8402  москва, пролетарский проспект, 19, корп. 1   \n",
       "8403      москва, люблинская улица, 112а, стр. 1   \n",
       "8404      москва, люблинская улица, 112а, стр. 1   \n",
       "8405              москва, россошанский проезд, 6   \n",
       "\n",
       "                                  district  \\\n",
       "0          северный административный округ   \n",
       "1          северный административный округ   \n",
       "2          северный административный округ   \n",
       "3          северный административный округ   \n",
       "4          северный административный округ   \n",
       "...                                    ...   \n",
       "8401   юго-западный административный округ   \n",
       "8402          южный административный округ   \n",
       "8403  юго-восточный административный округ   \n",
       "8404  юго-восточный административный округ   \n",
       "8405          южный административный округ   \n",
       "\n",
       "                                                  hours  rating  chain  seats  \\\n",
       "0                                ежедневно, 10:00–22:00     5.0      0    NaN   \n",
       "1                                ежедневно, 10:00–22:00     4.5      0    4.0   \n",
       "2     пн-чт 11:00–02:00; пт,сб 11:00–05:00; вс 11:00...     4.6      0   45.0   \n",
       "3                                ежедневно, 09:00–22:00     5.0      0    NaN   \n",
       "4                                ежедневно, 10:00–22:00     5.0      1  148.0   \n",
       "...                                                 ...     ...    ...    ...   \n",
       "8401                             ежедневно, 09:00–02:00     4.4      0   86.0   \n",
       "8402                             ежедневно, 08:00–22:00     4.8      0  150.0   \n",
       "8403                           ежедневно, круглосуточно     3.9      0  150.0   \n",
       "8404                           ежедневно, круглосуточно     4.2      1  150.0   \n",
       "8405                           ежедневно, круглосуточно     3.9      0   12.0   \n",
       "\n",
       "              price                       avg_bill  middle_avg_bill  \\\n",
       "0     без категории                            NaN              NaN   \n",
       "1     выше среднего       средний счёт:1500–1600 ₽           1550.0   \n",
       "2           средние         средний счёт:от 1000 ₽           1000.0   \n",
       "3     без категории  цена чашки капучино:155–185 ₽              NaN   \n",
       "4           средние         средний счёт:400–600 ₽            500.0   \n",
       "...             ...                            ...              ...   \n",
       "8401  без категории                            NaN              NaN   \n",
       "8402  без категории                            NaN              NaN   \n",
       "8403         низкие          средний счёт:от 150 ₽            150.0   \n",
       "8404  без категории                            NaN              NaN   \n",
       "8405  без категории                            NaN              NaN   \n",
       "\n",
       "      middle_coffee_cup  \n",
       "0                   NaN  \n",
       "1                   NaN  \n",
       "2                   NaN  \n",
       "3                 170.0  \n",
       "4                   NaN  \n",
       "...                 ...  \n",
       "8401                NaN  \n",
       "8402                NaN  \n",
       "8403                NaN  \n",
       "8404                NaN  \n",
       "8405                NaN  \n",
       "\n",
       "[8402 rows x 13 columns]"
      ]
     },
     "metadata": {},
     "output_type": "display_data"
    }
   ],
   "source": [
    "display(df)"
   ]
  },
  {
   "cell_type": "markdown",
   "id": "4c0563f2",
   "metadata": {
    "id": "4c0563f2"
   },
   "source": [
    "- Для дальнейшей работы создайте столбец `is_24_7` с обозначением того, что заведение работает ежедневно и круглосуточно, то есть 24/7:\n",
    "  - логическое значение `True` — если заведение работает ежедневно и круглосуточно;\n",
    "  - логическое значение `False` — в противоположном случае."
   ]
  },
  {
   "cell_type": "code",
   "execution_count": 33,
   "id": "03fdfe45",
   "metadata": {},
   "outputs": [
    {
     "data": {
      "text/plain": [
       "array(['ежедневно, 10:00–22:00',\n",
       "       'пн-чт 11:00–02:00; пт,сб 11:00–05:00; вс 11:00–02:00',\n",
       "       'ежедневно, 09:00–22:00', ...,\n",
       "       'пн-пт 08:30–21:30; сб,вс 09:00–21:30',\n",
       "       'пн-чт 13:00–22:00; пт,сб 13:00–22:30; вс 13:00–22:00',\n",
       "       'пн-сб 10:30–21:30'], dtype=object)"
      ]
     },
     "execution_count": 33,
     "metadata": {},
     "output_type": "execute_result"
    }
   ],
   "source": [
    "# Смотрим на уникальные значения в столбце hours и ищем подходящие значения\n",
    "df['hours'].unique()"
   ]
  },
  {
   "cell_type": "code",
   "execution_count": 34,
   "id": "d8a8a963",
   "metadata": {
    "id": "d8a8a963"
   },
   "outputs": [],
   "source": [
    "#  Создаем новый категориальный столбец для обозначения круглосуточных заведений\n",
    "df['is_24_7'] = (df['hours'].str.contains('ежедневно', case=False, na=False))&(df['hours'].str.contains('круглосуточно', case=False, na=False))"
   ]
  },
  {
   "cell_type": "code",
   "execution_count": 35,
   "id": "42d1e685",
   "metadata": {
    "id": "42d1e685"
   },
   "outputs": [
    {
     "data": {
      "text/html": [
       "<div>\n",
       "<style scoped>\n",
       "    .dataframe tbody tr th:only-of-type {\n",
       "        vertical-align: middle;\n",
       "    }\n",
       "\n",
       "    .dataframe tbody tr th {\n",
       "        vertical-align: top;\n",
       "    }\n",
       "\n",
       "    .dataframe thead th {\n",
       "        text-align: right;\n",
       "    }\n",
       "</style>\n",
       "<table border=\"1\" class=\"dataframe\">\n",
       "  <thead>\n",
       "    <tr style=\"text-align: right;\">\n",
       "      <th></th>\n",
       "      <th>id</th>\n",
       "      <th>name</th>\n",
       "      <th>category</th>\n",
       "      <th>address</th>\n",
       "      <th>district</th>\n",
       "      <th>hours</th>\n",
       "      <th>rating</th>\n",
       "      <th>chain</th>\n",
       "      <th>seats</th>\n",
       "      <th>price</th>\n",
       "      <th>avg_bill</th>\n",
       "      <th>middle_avg_bill</th>\n",
       "      <th>middle_coffee_cup</th>\n",
       "      <th>is_24_7</th>\n",
       "    </tr>\n",
       "  </thead>\n",
       "  <tbody>\n",
       "    <tr>\n",
       "      <th>10</th>\n",
       "      <td>ac32978af97641bfacf996e7f5a50ee5</td>\n",
       "      <td>great room bar</td>\n",
       "      <td>бар,паб</td>\n",
       "      <td>москва, левобережная улица, 12</td>\n",
       "      <td>северный административный округ</td>\n",
       "      <td>ежедневно, круглосуточно</td>\n",
       "      <td>4.5</td>\n",
       "      <td>0</td>\n",
       "      <td>102.0</td>\n",
       "      <td>средние</td>\n",
       "      <td>цена бокала пива:250–350 ₽</td>\n",
       "      <td>NaN</td>\n",
       "      <td>NaN</td>\n",
       "      <td>True</td>\n",
       "    </tr>\n",
       "    <tr>\n",
       "      <th>17</th>\n",
       "      <td>b55465d0869648a295ad1d85ed9b5c4f</td>\n",
       "      <td>чайхана беш-бармак</td>\n",
       "      <td>ресторан</td>\n",
       "      <td>москва, ленинградское шоссе, 71б, стр. 2</td>\n",
       "      <td>северный административный округ</td>\n",
       "      <td>ежедневно, круглосуточно</td>\n",
       "      <td>4.4</td>\n",
       "      <td>0</td>\n",
       "      <td>96.0</td>\n",
       "      <td>средние</td>\n",
       "      <td>средний счёт:350–500 ₽</td>\n",
       "      <td>425.0</td>\n",
       "      <td>NaN</td>\n",
       "      <td>True</td>\n",
       "    </tr>\n",
       "    <tr>\n",
       "      <th>19</th>\n",
       "      <td>feec6bedccae44cb877d99c13f9aa5d7</td>\n",
       "      <td>пекарня</td>\n",
       "      <td>булочная</td>\n",
       "      <td>москва, ижорский проезд, 5</td>\n",
       "      <td>северный административный округ</td>\n",
       "      <td>ежедневно, круглосуточно</td>\n",
       "      <td>4.4</td>\n",
       "      <td>1</td>\n",
       "      <td>NaN</td>\n",
       "      <td>без категории</td>\n",
       "      <td>NaN</td>\n",
       "      <td>NaN</td>\n",
       "      <td>NaN</td>\n",
       "      <td>True</td>\n",
       "    </tr>\n",
       "    <tr>\n",
       "      <th>24</th>\n",
       "      <td>0f5d22f5377340d0a81a9328e6ebdcac</td>\n",
       "      <td>drive café</td>\n",
       "      <td>кафе</td>\n",
       "      <td>москва, улица дыбенко, 9ас1</td>\n",
       "      <td>северный административный округ</td>\n",
       "      <td>ежедневно, круглосуточно</td>\n",
       "      <td>4.0</td>\n",
       "      <td>1</td>\n",
       "      <td>NaN</td>\n",
       "      <td>без категории</td>\n",
       "      <td>NaN</td>\n",
       "      <td>NaN</td>\n",
       "      <td>NaN</td>\n",
       "      <td>True</td>\n",
       "    </tr>\n",
       "    <tr>\n",
       "      <th>49</th>\n",
       "      <td>a8bbd74669074068ab44bc567022ee27</td>\n",
       "      <td>2u-ту-ю</td>\n",
       "      <td>пиццерия</td>\n",
       "      <td>москва, ижорская улица, 8а</td>\n",
       "      <td>северный административный округ</td>\n",
       "      <td>ежедневно, круглосуточно</td>\n",
       "      <td>2.7</td>\n",
       "      <td>0</td>\n",
       "      <td>NaN</td>\n",
       "      <td>средние</td>\n",
       "      <td>средний счёт:900 ₽</td>\n",
       "      <td>900.0</td>\n",
       "      <td>NaN</td>\n",
       "      <td>True</td>\n",
       "    </tr>\n",
       "    <tr>\n",
       "      <th>...</th>\n",
       "      <td>...</td>\n",
       "      <td>...</td>\n",
       "      <td>...</td>\n",
       "      <td>...</td>\n",
       "      <td>...</td>\n",
       "      <td>...</td>\n",
       "      <td>...</td>\n",
       "      <td>...</td>\n",
       "      <td>...</td>\n",
       "      <td>...</td>\n",
       "      <td>...</td>\n",
       "      <td>...</td>\n",
       "      <td>...</td>\n",
       "      <td>...</td>\n",
       "    </tr>\n",
       "    <tr>\n",
       "      <th>8394</th>\n",
       "      <td>03c53ed5236948179947b46b7338d18d</td>\n",
       "      <td>намангале</td>\n",
       "      <td>кафе</td>\n",
       "      <td>москва, ферганская улица, вл17-21</td>\n",
       "      <td>юго-восточный административный округ</td>\n",
       "      <td>ежедневно, круглосуточно</td>\n",
       "      <td>4.3</td>\n",
       "      <td>0</td>\n",
       "      <td>NaN</td>\n",
       "      <td>без категории</td>\n",
       "      <td>NaN</td>\n",
       "      <td>NaN</td>\n",
       "      <td>NaN</td>\n",
       "      <td>True</td>\n",
       "    </tr>\n",
       "    <tr>\n",
       "      <th>8399</th>\n",
       "      <td>71cc394927204d45b81c3a91edb47955</td>\n",
       "      <td>пекарня, кафе-гриль</td>\n",
       "      <td>булочная</td>\n",
       "      <td>москва, болотниковская улица, 52, корп. 2</td>\n",
       "      <td>юго-западный административный округ</td>\n",
       "      <td>ежедневно, круглосуточно</td>\n",
       "      <td>4.2</td>\n",
       "      <td>0</td>\n",
       "      <td>50.0</td>\n",
       "      <td>низкие</td>\n",
       "      <td>средний счёт:50–250 ₽</td>\n",
       "      <td>150.0</td>\n",
       "      <td>NaN</td>\n",
       "      <td>True</td>\n",
       "    </tr>\n",
       "    <tr>\n",
       "      <th>8403</th>\n",
       "      <td>62e8c64d4c89467aba608e39ef87616b</td>\n",
       "      <td>самовар</td>\n",
       "      <td>кафе</td>\n",
       "      <td>москва, люблинская улица, 112а, стр. 1</td>\n",
       "      <td>юго-восточный административный округ</td>\n",
       "      <td>ежедневно, круглосуточно</td>\n",
       "      <td>3.9</td>\n",
       "      <td>0</td>\n",
       "      <td>150.0</td>\n",
       "      <td>низкие</td>\n",
       "      <td>средний счёт:от 150 ₽</td>\n",
       "      <td>150.0</td>\n",
       "      <td>NaN</td>\n",
       "      <td>True</td>\n",
       "    </tr>\n",
       "    <tr>\n",
       "      <th>8404</th>\n",
       "      <td>06a0db5ecd4842d48cd6350aa923e297</td>\n",
       "      <td>чайхана sabr</td>\n",
       "      <td>кафе</td>\n",
       "      <td>москва, люблинская улица, 112а, стр. 1</td>\n",
       "      <td>юго-восточный административный округ</td>\n",
       "      <td>ежедневно, круглосуточно</td>\n",
       "      <td>4.2</td>\n",
       "      <td>1</td>\n",
       "      <td>150.0</td>\n",
       "      <td>без категории</td>\n",
       "      <td>NaN</td>\n",
       "      <td>NaN</td>\n",
       "      <td>NaN</td>\n",
       "      <td>True</td>\n",
       "    </tr>\n",
       "    <tr>\n",
       "      <th>8405</th>\n",
       "      <td>9d56f8f7a7f74df1a925bc0fd2de8aae</td>\n",
       "      <td>kebab time</td>\n",
       "      <td>кафе</td>\n",
       "      <td>москва, россошанский проезд, 6</td>\n",
       "      <td>южный административный округ</td>\n",
       "      <td>ежедневно, круглосуточно</td>\n",
       "      <td>3.9</td>\n",
       "      <td>0</td>\n",
       "      <td>12.0</td>\n",
       "      <td>без категории</td>\n",
       "      <td>NaN</td>\n",
       "      <td>NaN</td>\n",
       "      <td>NaN</td>\n",
       "      <td>True</td>\n",
       "    </tr>\n",
       "  </tbody>\n",
       "</table>\n",
       "<p>730 rows × 14 columns</p>\n",
       "</div>"
      ],
      "text/plain": [
       "                                    id                 name  category  \\\n",
       "10    ac32978af97641bfacf996e7f5a50ee5       great room bar   бар,паб   \n",
       "17    b55465d0869648a295ad1d85ed9b5c4f   чайхана беш-бармак  ресторан   \n",
       "19    feec6bedccae44cb877d99c13f9aa5d7              пекарня  булочная   \n",
       "24    0f5d22f5377340d0a81a9328e6ebdcac           drive café      кафе   \n",
       "49    a8bbd74669074068ab44bc567022ee27              2u-ту-ю  пиццерия   \n",
       "...                                ...                  ...       ...   \n",
       "8394  03c53ed5236948179947b46b7338d18d            намангале      кафе   \n",
       "8399  71cc394927204d45b81c3a91edb47955  пекарня, кафе-гриль  булочная   \n",
       "8403  62e8c64d4c89467aba608e39ef87616b              самовар      кафе   \n",
       "8404  06a0db5ecd4842d48cd6350aa923e297         чайхана sabr      кафе   \n",
       "8405  9d56f8f7a7f74df1a925bc0fd2de8aae           kebab time      кафе   \n",
       "\n",
       "                                        address  \\\n",
       "10               москва, левобережная улица, 12   \n",
       "17     москва, ленинградское шоссе, 71б, стр. 2   \n",
       "19                   москва, ижорский проезд, 5   \n",
       "24                  москва, улица дыбенко, 9ас1   \n",
       "49                   москва, ижорская улица, 8а   \n",
       "...                                         ...   \n",
       "8394          москва, ферганская улица, вл17-21   \n",
       "8399  москва, болотниковская улица, 52, корп. 2   \n",
       "8403     москва, люблинская улица, 112а, стр. 1   \n",
       "8404     москва, люблинская улица, 112а, стр. 1   \n",
       "8405             москва, россошанский проезд, 6   \n",
       "\n",
       "                                  district                     hours  rating  \\\n",
       "10         северный административный округ  ежедневно, круглосуточно     4.5   \n",
       "17         северный административный округ  ежедневно, круглосуточно     4.4   \n",
       "19         северный административный округ  ежедневно, круглосуточно     4.4   \n",
       "24         северный административный округ  ежедневно, круглосуточно     4.0   \n",
       "49         северный административный округ  ежедневно, круглосуточно     2.7   \n",
       "...                                    ...                       ...     ...   \n",
       "8394  юго-восточный административный округ  ежедневно, круглосуточно     4.3   \n",
       "8399   юго-западный административный округ  ежедневно, круглосуточно     4.2   \n",
       "8403  юго-восточный административный округ  ежедневно, круглосуточно     3.9   \n",
       "8404  юго-восточный административный округ  ежедневно, круглосуточно     4.2   \n",
       "8405          южный административный округ  ежедневно, круглосуточно     3.9   \n",
       "\n",
       "      chain  seats          price                    avg_bill  \\\n",
       "10        0  102.0        средние  цена бокала пива:250–350 ₽   \n",
       "17        0   96.0        средние      средний счёт:350–500 ₽   \n",
       "19        1    NaN  без категории                         NaN   \n",
       "24        1    NaN  без категории                         NaN   \n",
       "49        0    NaN        средние          средний счёт:900 ₽   \n",
       "...     ...    ...            ...                         ...   \n",
       "8394      0    NaN  без категории                         NaN   \n",
       "8399      0   50.0         низкие       средний счёт:50–250 ₽   \n",
       "8403      0  150.0         низкие       средний счёт:от 150 ₽   \n",
       "8404      1  150.0  без категории                         NaN   \n",
       "8405      0   12.0  без категории                         NaN   \n",
       "\n",
       "      middle_avg_bill  middle_coffee_cup  is_24_7  \n",
       "10                NaN                NaN     True  \n",
       "17              425.0                NaN     True  \n",
       "19                NaN                NaN     True  \n",
       "24                NaN                NaN     True  \n",
       "49              900.0                NaN     True  \n",
       "...               ...                ...      ...  \n",
       "8394              NaN                NaN     True  \n",
       "8399            150.0                NaN     True  \n",
       "8403            150.0                NaN     True  \n",
       "8404              NaN                NaN     True  \n",
       "8405              NaN                NaN     True  \n",
       "\n",
       "[730 rows x 14 columns]"
      ]
     },
     "execution_count": 35,
     "metadata": {},
     "output_type": "execute_result"
    }
   ],
   "source": [
    "# Выводим все круглосуточные заведения\n",
    "df[df['is_24_7']]"
   ]
  },
  {
   "cell_type": "code",
   "execution_count": 36,
   "id": "b0e00af4",
   "metadata": {},
   "outputs": [
    {
     "data": {
      "text/plain": [
       "id                   0.000000\n",
       "name                 0.000000\n",
       "category             0.000000\n",
       "address              0.000000\n",
       "district             0.000000\n",
       "hours                0.063764\n",
       "rating               0.000000\n",
       "chain                0.000000\n",
       "seats                0.429574\n",
       "price                0.605639\n",
       "avg_bill             0.546039\n",
       "middle_avg_bill      0.625387\n",
       "middle_coffee_cup    0.936355\n",
       "dtype: float64"
      ]
     },
     "execution_count": 36,
     "metadata": {},
     "output_type": "execute_result"
    }
   ],
   "source": [
    "df_copy.isna().mean()"
   ]
  },
  {
   "cell_type": "code",
   "execution_count": 37,
   "id": "0034a231",
   "metadata": {},
   "outputs": [
    {
     "data": {
      "text/plain": [
       "8406"
      ]
     },
     "execution_count": 37,
     "metadata": {},
     "output_type": "execute_result"
    }
   ],
   "source": [
    "df_copy.shape[0]\n"
   ]
  },
  {
   "cell_type": "code",
   "execution_count": 38,
   "id": "6811518e",
   "metadata": {},
   "outputs": [
    {
     "data": {
      "text/plain": [
       "8402"
      ]
     },
     "execution_count": 38,
     "metadata": {},
     "output_type": "execute_result"
    }
   ],
   "source": [
    "df.shape[0]"
   ]
  },
  {
   "cell_type": "markdown",
   "id": "562f30ab",
   "metadata": {
    "id": "562f30ab"
   },
   "source": [
    "---\n",
    "\n",
    "### Промежуточный вывод\n",
    "\n",
    "После предобработки данных напишите промежуточный вывод о проведённой работе. Отразите количество или долю отфильтрованных данных, если вы что-то удаляли."
   ]
  },
  {
   "cell_type": "markdown",
   "id": "2b812c25",
   "metadata": {
    "id": "4e587ce1"
   },
   "source": [
    "По итогам предобратоки можно сказать, что количество пропусков осталось умеренным. Столбцы `middle_coffee_cup` и `middle_avg_bill` остались с пропусками в силу специфики заполнения их значений по столбцу `avg_bill`. Также остались нетронутыми пропуски в столбце `seats`. Столбец `price` удалось полностью заполнить благодоря категоризации по значениям в столбце `middle_avg_bill`, а также заменой оставшихся пустых значений категорией `без категории`.\n",
    "\n",
    "В результате предобработки данных были выполнены следующие действия:\n",
    "\n",
    "- Все строковые значения в столбцах приведены к общему виду.\n",
    "- Изучены пропуски в данных. Пропуски обнаружились в столбцах `price` - 60% пропусков,`seats` - 43% пропусков,`avg_bill` - 54% пропусков,`middle_avg_bill`- 62% пропусков и `middle_coffee_cup` - 93% пропусков. В столбце `price` удалось заполнить все пустые значенния\n",
    "- Данные проверили на явные и неявные дубликаты — были удалены дубликаты в столбцах `name` и `address`. Первоначальный датасет хранил 8406 строк. Очищенный датасет хранит 4168. Доля отфильтрованных данных - 50% или 4238 удаленных строк\n"
   ]
  },
  {
   "cell_type": "markdown",
   "id": "6953e84c",
   "metadata": {
    "id": "6953e84c"
   },
   "source": [
    "<a id='3'></a>\n",
    "## 3. Исследовательский анализ данных\n",
    "Проведите исследовательский анализ исходных данных.\n",
    "\n",
    "При исследовании данных используйте визуализации. Проверьте, что для каждого случая подобран оптимальный тип визуализации с корректным оформлением. У графика должен быть заголовок, понятные подписи по осям, при необходимости легенда, а его размер является оптимальным для изучения.\n",
    "\n",
    "После исследования каждого пункта оставляйте небольшой комментарий с выводом или обсуждением результата. В конце шага обобщите результаты, выделив, по вашему мнению, самые важные."
   ]
  },
  {
   "cell_type": "markdown",
   "id": "8555d840",
   "metadata": {
    "id": "8555d840"
   },
   "source": [
    "---\n",
    "\n",
    "### Задача 1\n",
    "\n",
    "Какие категории заведений представлены в данных? Исследуйте количество объектов общественного питания по каждой категории. Результат сопроводите подходящей визуализацией."
   ]
  },
  {
   "cell_type": "code",
   "execution_count": 39,
   "id": "fdd38536",
   "metadata": {},
   "outputs": [
    {
     "data": {
      "text/plain": [
       "кафе               2376\n",
       "ресторан           2042\n",
       "кофейня            1413\n",
       "бар,паб             764\n",
       "пиццерия            633\n",
       "быстрое питание     603\n",
       "столовая            315\n",
       "булочная            256\n",
       "Name: category, dtype: int64"
      ]
     },
     "execution_count": 39,
     "metadata": {},
     "output_type": "execute_result"
    }
   ],
   "source": [
    "# Считаем значения для каждой категории\n",
    "df['category'].value_counts()"
   ]
  },
  {
   "cell_type": "code",
   "execution_count": 40,
   "id": "ef2bffe9",
   "metadata": {
    "id": "ef2bffe9"
   },
   "outputs": [
    {
     "data": {
      "image/png": "[encoded data removed]",
      "text/plain": [
       "<Figure size 864x432 with 1 Axes>"
      ]
     },
     "metadata": {
      "needs_background": "light"
     },
     "output_type": "display_data"
    }
   ],
   "source": [
    "# Столбчатая диаграмма количества заведений по категориям \n",
    "df['category'].value_counts().plot(kind = 'bar',\n",
    "                                  rot = 0,\n",
    "                                  legend = False,\n",
    "                                  title = 'Количество заведений по категориям',\n",
    "                                  figsize = (12,6))\n",
    "plt.xlabel('Категории')\n",
    "plt.ylabel('Количество')\n",
    "plt.grid(axis='y')\n",
    "plt.show()"
   ]
  },
  {
   "cell_type": "markdown",
   "id": "5ff943e3",
   "metadata": {
    "id": "71ab5e91"
   },
   "source": [
    "По столбчатой диаграмме видно, что на 2022 год, в Москве больше всего заведений категории \"ресторан\" - 1103 заведения. После идут, примерно на одном уровне, кофейни и кафе. Самое малое количество заведений в категории \"булочная\" - всего 54 заведения."
   ]
  },
  {
   "cell_type": "markdown",
   "id": "6821e1d0",
   "metadata": {
    "id": "6821e1d0"
   },
   "source": [
    "---\n",
    "\n",
    "### Задача 2\n",
    "\n",
    "Какие административные районы Москвы присутствуют в данных? Исследуйте распределение количества заведений по административным районам Москвы, а также отдельно распределение заведений каждой категории в Центральном административном округе Москвы. Результат сопроводите подходящими визуализациями."
   ]
  },
  {
   "cell_type": "code",
   "execution_count": 41,
   "id": "b2d7c46f",
   "metadata": {},
   "outputs": [
    {
     "data": {
      "text/plain": [
       "центральный административный округ         2242\n",
       "северный административный округ             898\n",
       "южный административный округ                892\n",
       "северо-восточный административный округ     890\n",
       "западный административный округ             850\n",
       "восточный административный округ            798\n",
       "юго-восточный административный округ        714\n",
       "юго-западный административный округ         709\n",
       "северо-западный административный округ      409\n",
       "Name: district, dtype: int64"
      ]
     },
     "execution_count": 41,
     "metadata": {},
     "output_type": "execute_result"
    }
   ],
   "source": [
    "# Количество заведений по административным районам\n",
    "df['district'].value_counts()"
   ]
  },
  {
   "cell_type": "code",
   "execution_count": 42,
   "id": "e62f31be",
   "metadata": {
    "id": "e62f31be"
   },
   "outputs": [
    {
     "data": {
      "image/png": "[encoded data removed]",
      "text/plain": [
       "<Figure size 864x504 with 1 Axes>"
      ]
     },
     "metadata": {
      "needs_background": "light"
     },
     "output_type": "display_data"
    }
   ],
   "source": [
    "# Столбчатая диаграмма количества заведений по административным районам\n",
    "df['district'].value_counts().sort_values().plot(kind = 'barh',\n",
    "                                  rot = 0,\n",
    "                                  legend = False,\n",
    "                                  title = 'Количество заведений по районам Москвы',\n",
    "                                  figsize = (12,7)\n",
    "                                  )\n",
    "plt.ylabel('Районы')\n",
    "plt.xlabel('Количество')\n",
    "plt.tight_layout()\n",
    "plt.grid(axis='x')\n",
    "plt.show()"
   ]
  },
  {
   "cell_type": "code",
   "execution_count": 43,
   "id": "899d7a20",
   "metadata": {},
   "outputs": [
    {
     "data": {
      "text/plain": [
       "ресторан           670\n",
       "кафе               464\n",
       "кофейня            428\n",
       "бар,паб            364\n",
       "пиццерия           113\n",
       "быстрое питание     87\n",
       "столовая            66\n",
       "булочная            50\n",
       "Name: category, dtype: int64"
      ]
     },
     "execution_count": 43,
     "metadata": {},
     "output_type": "execute_result"
    }
   ],
   "source": [
    "# Посмотрим на количество заведений по категориям в центральном административном округе\n",
    "df[df['district']=='центральный административный округ']['category'].value_counts()"
   ]
  },
  {
   "cell_type": "code",
   "execution_count": 44,
   "id": "0a290cd1",
   "metadata": {
    "id": "0a290cd1"
   },
   "outputs": [
    {
     "data": {
      "image/png": "[encoded data removed]",
      "text/plain": [
       "<Figure size 720x432 with 1 Axes>"
      ]
     },
     "metadata": {
      "needs_background": "light"
     },
     "output_type": "display_data"
    }
   ],
   "source": [
    "# Столбчатая диаграмма количества заведений по категориям в центральном административном округе\n",
    "df[df['district']=='центральный административный округ']['category'].value_counts().sort_values().plot(kind = 'barh',\n",
    "legend = False,\n",
    "title = 'Распределение заведений каждой категории в Центральном административном округе Москвы',\n",
    "figsize = (10,6))\n",
    "plt.ylabel('Категории')\n",
    "plt.xlabel('Количество')\n",
    "plt.tight_layout()\n",
    "plt.grid(axis='x')\n",
    "plt.show()"
   ]
  },
  {
   "cell_type": "markdown",
   "id": "68a2d162",
   "metadata": {
    "id": "41f1654a"
   },
   "source": [
    "По диаграммам видно, что заведений большая часть заведений находится в центральном административном округе Москвы. В самом округе большее всего заведений категории \"ресторан\" - 428 заведений. За ним следуют категории \"бар,паб\" - 261 и \"кофейня\" - 254, находящиеся примерно на одному уровне и с небольшым отстованием заведения категории \"кафе\" - 225 заведений данной категории."
   ]
  },
  {
   "cell_type": "markdown",
   "id": "7c824f58",
   "metadata": {
    "id": "7c824f58"
   },
   "source": [
    "---\n",
    "\n",
    "### Задача 3\n",
    "\n",
    "Изучите соотношение сетевых и несетевых заведений в целом по всем данным и в разрезе категорий заведения. Каких заведений больше — сетевых или несетевых? Какие категории заведений чаще являются сетевыми? Исследуйте данные, ответьте на вопросы и постройте необходимые визуализации."
   ]
  },
  {
   "cell_type": "code",
   "execution_count": 45,
   "id": "ef442d1a",
   "metadata": {
    "id": "ef442d1a"
   },
   "outputs": [
    {
     "data": {
      "text/plain": [
       "0    5199\n",
       "1    3203\n",
       "Name: chain, dtype: int64"
      ]
     },
     "execution_count": 45,
     "metadata": {},
     "output_type": "execute_result"
    }
   ],
   "source": [
    "# Общее количество сетевых и несетевых\n",
    "df['chain'].value_counts()"
   ]
  },
  {
   "cell_type": "code",
   "execution_count": 46,
   "id": "2a5a60b5",
   "metadata": {},
   "outputs": [
    {
     "data": {
      "image/png": "[encoded data removed]",
      "text/plain": [
       "<Figure size 720x432 with 1 Axes>"
      ]
     },
     "metadata": {
      "needs_background": "light"
     },
     "output_type": "display_data"
    }
   ],
   "source": [
    "# Соотношение сетевых заведений и несетевых\n",
    "df['chain'].value_counts().plot(kind = 'bar',\n",
    "                                legend = False,\n",
    "                                figsize = (10,6),\n",
    "                                rot = 0,\n",
    "                               title = 'Соотношение сетевых и несетевых заведений')\n",
    "plt.xlabel('Несетвые/сетевые заведения')\n",
    "plt.ylabel('Количество')\n",
    "plt.tight_layout()\n",
    "plt.grid(axis='y')\n",
    "plt.show()"
   ]
  },
  {
   "cell_type": "code",
   "execution_count": 47,
   "id": "847ebb3c",
   "metadata": {},
   "outputs": [
    {
     "data": {
      "text/plain": [
       "category\n",
       "бар,паб            168\n",
       "булочная           157\n",
       "быстрое питание    232\n",
       "кафе               779\n",
       "кофейня            720\n",
       "пиццерия           330\n",
       "ресторан           729\n",
       "столовая            88\n",
       "dtype: int64"
      ]
     },
     "execution_count": 47,
     "metadata": {},
     "output_type": "execute_result"
    }
   ],
   "source": [
    "chain_df = df[df['chain']==1].groupby('category').size()\n",
    "chain_df"
   ]
  },
  {
   "cell_type": "code",
   "execution_count": 48,
   "id": "13fc7582",
   "metadata": {
    "scrolled": false
   },
   "outputs": [
    {
     "data": {
      "text/plain": [
       "category\n",
       "бар,паб             764\n",
       "булочная            256\n",
       "быстрое питание     603\n",
       "кафе               2376\n",
       "кофейня            1413\n",
       "пиццерия            633\n",
       "ресторан           2042\n",
       "столовая            315\n",
       "dtype: int64"
      ]
     },
     "execution_count": 48,
     "metadata": {},
     "output_type": "execute_result"
    }
   ],
   "source": [
    "# Группируем значения по категориям заведений\n",
    "grouped_df = df.groupby('category').size()\n",
    "grouped_df"
   ]
  },
  {
   "cell_type": "code",
   "execution_count": 49,
   "id": "8c6cb6a1",
   "metadata": {},
   "outputs": [
    {
     "data": {
      "text/plain": [
       "category\n",
       "бар,паб            0.22\n",
       "булочная           0.61\n",
       "быстрое питание    0.38\n",
       "кафе               0.33\n",
       "кофейня            0.51\n",
       "пиццерия           0.52\n",
       "ресторан           0.36\n",
       "столовая           0.28\n",
       "dtype: float64"
      ]
     },
     "execution_count": 49,
     "metadata": {},
     "output_type": "execute_result"
    }
   ],
   "source": [
    "chain_share = round(chain_df/grouped_df,2)\n",
    "chain_share"
   ]
  },
  {
   "cell_type": "code",
   "execution_count": 50,
   "id": "0de29fa2",
   "metadata": {
    "id": "0de29fa2",
    "scrolled": false
   },
   "outputs": [
    {
     "data": {
      "image/png": "[encoded data removed]",
      "text/plain": [
       "<Figure size 864x504 with 1 Axes>"
      ]
     },
     "metadata": {
      "needs_background": "light"
     },
     "output_type": "display_data"
    }
   ],
   "source": [
    "# Столбчатая диаграмма соотношения категории заведения и его типа: сетевой или несетевой\n",
    "chain_share.sort_values(ascending=False).plot(kind = 'bar',\n",
    "                legend =True,\n",
    "                xlabel = 'Категории',\n",
    "               ylabel = 'Доля',\n",
    "               title = 'Доля сетевых заведений по категориям',\n",
    "               figsize = (12,7),rot = 0)\n",
    "plt.tight_layout()\n",
    "plt.grid(axis='y')\n",
    "plt.show()"
   ]
  },
  {
   "cell_type": "markdown",
   "id": "3e167fcf",
   "metadata": {
    "id": "a139bd72"
   },
   "source": [
    "По диаграммам видно, что количество несетевых заведений больше, чем сетевых. В разрезе по категориям ситуация примерно схожая.\n",
    "Несетевые рестораны имеют большее количество, чем сетевые. Это относится и к столовым, кофейням, кафе, заведениям быстрого питания, баром\\пабом и булочным. В категории \"пиццерия\" сетевых заведений больше, чем несетевых. "
   ]
  },
  {
   "cell_type": "markdown",
   "id": "5913c3e3",
   "metadata": {
    "id": "5913c3e3"
   },
   "source": [
    "---\n",
    "\n",
    "### Задача 4\n",
    "\n",
    "Исследуйте количество посадочных мест в заведениях. Встречаются ли в данных аномальные значения или выбросы? Если да, то с чем они могут быть связаны? Приведите для каждой категории заведений наиболее типичное для него количество посадочных мест. Результат сопроводите подходящими визуализациями.\n"
   ]
  },
  {
   "cell_type": "code",
   "execution_count": 51,
   "id": "6cb238d2",
   "metadata": {
    "id": "6cb238d2"
   },
   "outputs": [
    {
     "data": {
      "text/plain": [
       "count    4792.000000\n",
       "mean      108.361436\n",
       "std       122.841130\n",
       "min         0.000000\n",
       "25%        40.000000\n",
       "50%        75.000000\n",
       "75%       140.000000\n",
       "max      1288.000000\n",
       "Name: seats, dtype: float64"
      ]
     },
     "execution_count": 51,
     "metadata": {},
     "output_type": "execute_result"
    }
   ],
   "source": [
    "# Рассмотрим данные распределения значений в столбце seats\n",
    "df['seats'].describe()"
   ]
  },
  {
   "cell_type": "markdown",
   "id": "241ad645",
   "metadata": {},
   "source": [
    "В данных, на первый взгляд, присутствуют аномально высокие и низкие значения. Так, минимальное количество посадочных мест является - 0, а максимальное - 1288. Посмотрим на диаграмму размаха"
   ]
  },
  {
   "cell_type": "code",
   "execution_count": 52,
   "id": "062b55d8",
   "metadata": {
    "id": "062b55d8",
    "scrolled": false
   },
   "outputs": [
    {
     "data": {
      "image/png": "[encoded data removed]",
      "text/plain": [
       "<Figure size 720x432 with 1 Axes>"
      ]
     },
     "metadata": {
      "needs_background": "light"
     },
     "output_type": "display_data"
    }
   ],
   "source": [
    "# Диаграмма размаха с выбросами\n",
    "df.boxplot(column = 'seats',vert = False, figsize = (10,6))\n",
    "plt.title('Распределения значений посадочных мест в заведениях')\n",
    "plt.xlabel('Количество посадочных мест')\n",
    "plt.show()"
   ]
  },
  {
   "cell_type": "code",
   "execution_count": 53,
   "id": "1ff5bfa2",
   "metadata": {},
   "outputs": [
    {
     "data": {
      "image/png": "[encoded data removed]",
      "text/plain": [
       "<Figure size 720x432 with 1 Axes>"
      ]
     },
     "metadata": {
      "needs_background": "light"
     },
     "output_type": "display_data"
    }
   ],
   "source": [
    "# Диаграмма размаха без выбросов\n",
    "df.boxplot(column = 'seats',vert = False, figsize = (10,6), showfliers = False)\n",
    "plt.title('Распределения значений посадочных мест в заведениях')\n",
    "plt.xlabel('Количество посадочных мест')\n",
    "plt.show()"
   ]
  },
  {
   "cell_type": "markdown",
   "id": "053cd34a",
   "metadata": {},
   "source": [
    "На диграмме видно, что основное количество данных находится в промежутке от 80 до 150. Также видно препологаемые выбросы. Посмотрим на гистрограмму для столбца `seats` "
   ]
  },
  {
   "cell_type": "code",
   "execution_count": 54,
   "id": "8e05b1e0",
   "metadata": {},
   "outputs": [
    {
     "data": {
      "image/png": "[encoded data removed]",
      "text/plain": [
       "<Figure size 720x432 with 1 Axes>"
      ]
     },
     "metadata": {
      "needs_background": "light"
     },
     "output_type": "display_data"
    }
   ],
   "source": [
    "# Строим гистрограмму распределения значений столбца seats по всем данным\n",
    "df['seats'].plot(kind = 'hist',\n",
    "                edgecolor = 'black',\n",
    "                bins = 30,\n",
    "                figsize = (10,6),\n",
    "                title = 'Распределения значений посадочных мест в заведениях')\n",
    "plt.xlabel('Количество мест')\n",
    "plt.ylabel('Частота')\n",
    "plt.tight_layout()\n",
    "plt.grid(axis='y')"
   ]
  },
  {
   "cell_type": "markdown",
   "id": "8b1d50b6",
   "metadata": {},
   "source": [
    "Можем увидеть правоасимметричное распределение данных. Также видно, что \"хвост\" гистограммы заканчивается приблизительно на 500-ом значении \"корзинки\" количества мест. Эти данные можно не относить к выбросам. А вот следующие \"корзинки\" можно считать выбросами."
   ]
  },
  {
   "cell_type": "code",
   "execution_count": 55,
   "id": "ceadf25b",
   "metadata": {
    "id": "ceadf25b",
    "scrolled": false
   },
   "outputs": [
    {
     "data": {
      "image/png": "[encoded data removed]",
      "text/plain": [
       "<Figure size 720x432 with 1 Axes>"
      ]
     },
     "metadata": {
      "needs_background": "light"
     },
     "output_type": "display_data"
    }
   ],
   "source": [
    "# Сгруппируем по категориям и найдем медианное значение 'seats' для категорий заведений\n",
    "typical_seats = df.groupby('category')['seats'].median()\n",
    "\n",
    "# Сортируем по убыванию количества мест\n",
    "typical_seats.sort_values().plot(kind='barh',\n",
    "                         rot=0,\n",
    "                         title='Типичное количество мест для разных категорий заведений',\n",
    "                         xlabel = 'Категории',\n",
    "                         ylabel = 'Количество',\n",
    "                         figsize = (10,6))\n",
    "plt.grid(axis = 'x')\n",
    "plt.show()"
   ]
  },
  {
   "cell_type": "markdown",
   "id": "851b358c",
   "metadata": {},
   "source": [
    "В процессе анализа данных по столбцу `seats` были обнаружены аномальные значения и выбросы. Чаще всего в заведениях находится 80-100 посадочных мест. Сгруппированные по категориям медианные значения посадочных мест отражены в столбчатой диаграмме. Рестораны, булочные, и бары\\пабы имеют медианное значение количество мест больше 80. Столовые и кофейни имеют около 80 посадочных мест. Самое малое медианное количество мест относится к пиццериям."
   ]
  },
  {
   "cell_type": "markdown",
   "id": "8ed065ea",
   "metadata": {
    "id": "8ed065ea"
   },
   "source": [
    "---\n",
    "\n",
    "### Задача 5\n",
    "\n",
    "Исследуйте рейтинг заведений. Визуализируйте распределение средних рейтингов по категориям заведений. Сильно ли различаются усреднённые рейтинги для разных типов общепита?"
   ]
  },
  {
   "cell_type": "code",
   "execution_count": 56,
   "id": "cc3b936a",
   "metadata": {},
   "outputs": [
    {
     "data": {
      "text/html": [
       "<div>\n",
       "<style scoped>\n",
       "    .dataframe tbody tr th:only-of-type {\n",
       "        vertical-align: middle;\n",
       "    }\n",
       "\n",
       "    .dataframe tbody tr th {\n",
       "        vertical-align: top;\n",
       "    }\n",
       "\n",
       "    .dataframe thead th {\n",
       "        text-align: right;\n",
       "    }\n",
       "</style>\n",
       "<table border=\"1\" class=\"dataframe\">\n",
       "  <thead>\n",
       "    <tr style=\"text-align: right;\">\n",
       "      <th></th>\n",
       "      <th>category</th>\n",
       "      <th>rating</th>\n",
       "    </tr>\n",
       "  </thead>\n",
       "  <tbody>\n",
       "    <tr>\n",
       "      <th>0</th>\n",
       "      <td>бар,паб</td>\n",
       "      <td>4.387696</td>\n",
       "    </tr>\n",
       "    <tr>\n",
       "      <th>1</th>\n",
       "      <td>булочная</td>\n",
       "      <td>4.268359</td>\n",
       "    </tr>\n",
       "    <tr>\n",
       "      <th>2</th>\n",
       "      <td>быстрое питание</td>\n",
       "      <td>4.050249</td>\n",
       "    </tr>\n",
       "    <tr>\n",
       "      <th>3</th>\n",
       "      <td>кафе</td>\n",
       "      <td>4.124285</td>\n",
       "    </tr>\n",
       "    <tr>\n",
       "      <th>4</th>\n",
       "      <td>кофейня</td>\n",
       "      <td>4.277282</td>\n",
       "    </tr>\n",
       "    <tr>\n",
       "      <th>5</th>\n",
       "      <td>пиццерия</td>\n",
       "      <td>4.301264</td>\n",
       "    </tr>\n",
       "    <tr>\n",
       "      <th>6</th>\n",
       "      <td>ресторан</td>\n",
       "      <td>4.290402</td>\n",
       "    </tr>\n",
       "    <tr>\n",
       "      <th>7</th>\n",
       "      <td>столовая</td>\n",
       "      <td>4.211429</td>\n",
       "    </tr>\n",
       "  </tbody>\n",
       "</table>\n",
       "</div>"
      ],
      "text/plain": [
       "          category    rating\n",
       "0          бар,паб  4.387696\n",
       "1         булочная  4.268359\n",
       "2  быстрое питание  4.050249\n",
       "3             кафе  4.124285\n",
       "4          кофейня  4.277282\n",
       "5         пиццерия  4.301264\n",
       "6         ресторан  4.290402\n",
       "7         столовая  4.211429"
      ]
     },
     "execution_count": 56,
     "metadata": {},
     "output_type": "execute_result"
    }
   ],
   "source": [
    "# Средние показатели рейтинга по категорим\n",
    "df.groupby('category')['rating'].mean().reset_index()"
   ]
  },
  {
   "cell_type": "code",
   "execution_count": 57,
   "id": "d804a93b",
   "metadata": {},
   "outputs": [
    {
     "data": {
      "text/plain": [
       "array([5. , 4.5, 4.6, 4.4, 4.7, 4.8, 4.3, 4.9, 4.2, 4.1, 4. , 3.8, 3.9,\n",
       "       3.7, 3.6, 2.8, 2.7, 3.1, 1.5, 2. , 1.4, 3.3, 3.5, 3.2, 2.9, 3. ,\n",
       "       3.4, 2.3, 2.2, 2.5, 2.6, 1.7, 1. , 1.1, 2.4, 1.3, 1.2, 2.1, 1.8,\n",
       "       1.9, 1.6])"
      ]
     },
     "execution_count": 57,
     "metadata": {},
     "output_type": "execute_result"
    }
   ],
   "source": [
    "# Уникальные значения столбца rating\n",
    "df['rating'].unique()"
   ]
  },
  {
   "cell_type": "code",
   "execution_count": 58,
   "id": "cc5206f8",
   "metadata": {
    "id": "cc5206f8"
   },
   "outputs": [
    {
     "data": {
      "text/plain": [
       "Text(0.5, 33.0, 'Категории')"
      ]
     },
     "execution_count": 58,
     "metadata": {},
     "output_type": "execute_result"
    },
    {
     "data": {
      "image/png": "[encoded data removed]",
      "text/plain": [
       "<Figure size 720x432 with 1 Axes>"
      ]
     },
     "metadata": {
      "needs_background": "light"
     },
     "output_type": "display_data"
    }
   ],
   "source": [
    "# Строим гистограмму распределения средних рейтингов по категориям\n",
    "df.groupby('category')[['rating']].mean().sort_values(by='rating',ascending = False).plot(kind = 'bar',\n",
    "title = ' Распределение средних рейтингов по категориям заведений',\n",
    "rot = 0,\n",
    "edgecolor = 'black',\n",
    "figsize = (10,6),\n",
    "legend= False\n",
    ")\n",
    "plt.tight_layout()\n",
    "plt.grid(axis='y')\n",
    "plt.ylabel('Средний рейтинг')\n",
    "plt.xlabel('Категории')"
   ]
  },
  {
   "cell_type": "markdown",
   "id": "aa3e0052",
   "metadata": {
    "id": "3e0ec5d7"
   },
   "source": [
    "Судя по гистограмме, в среднем все категории заведений имеют оценку выше 4 баллов. Чаще выставляется оценка 4.3 балла"
   ]
  },
  {
   "cell_type": "markdown",
   "id": "dd9702d9",
   "metadata": {
    "id": "dd9702d9"
   },
   "source": [
    "---\n",
    "\n",
    "### Задача 6\n",
    "\n",
    "Изучите, с какими данными показывают самую сильную корреляцию рейтинги заведений? Постройте и визуализируйте матрицу корреляции рейтинга заведения с разными данными: его категория, положение (административный район Москвы), статус сетевого заведения, количество мест, ценовая категория и признак, является ли заведения круглосуточным. Выберите самую сильную связь и проверьте её."
   ]
  },
  {
   "cell_type": "code",
   "execution_count": 59,
   "id": "1b84425f",
   "metadata": {
    "scrolled": false
   },
   "outputs": [
    {
     "data": {
      "text/plain": [
       "Index(['id', 'name', 'category', 'address', 'district', 'hours', 'rating',\n",
       "       'chain', 'seats', 'price', 'avg_bill', 'middle_avg_bill',\n",
       "       'middle_coffee_cup', 'is_24_7'],\n",
       "      dtype='object')"
      ]
     },
     "execution_count": 59,
     "metadata": {},
     "output_type": "execute_result"
    }
   ],
   "source": [
    "# Выводим названия столбцов датасета\n",
    "df.columns"
   ]
  },
  {
   "cell_type": "code",
   "execution_count": 60,
   "id": "15400eb9",
   "metadata": {
    "id": "15400eb9",
    "scrolled": true
   },
   "outputs": [
    {
     "name": "stdout",
     "output_type": "stream",
     "text": [
      "Корреляционная матрица с коэффициентом phi_k для переменной rating\n"
     ]
    },
    {
     "data": {
      "text/html": [
       "<div>\n",
       "<style scoped>\n",
       "    .dataframe tbody tr th:only-of-type {\n",
       "        vertical-align: middle;\n",
       "    }\n",
       "\n",
       "    .dataframe tbody tr th {\n",
       "        vertical-align: top;\n",
       "    }\n",
       "\n",
       "    .dataframe thead th {\n",
       "        text-align: right;\n",
       "    }\n",
       "</style>\n",
       "<table border=\"1\" class=\"dataframe\">\n",
       "  <thead>\n",
       "    <tr style=\"text-align: right;\">\n",
       "      <th></th>\n",
       "      <th>rating</th>\n",
       "    </tr>\n",
       "  </thead>\n",
       "  <tbody>\n",
       "    <tr>\n",
       "      <th>name</th>\n",
       "      <td>0.489972</td>\n",
       "    </tr>\n",
       "    <tr>\n",
       "      <th>avg_bill</th>\n",
       "      <td>0.453687</td>\n",
       "    </tr>\n",
       "    <tr>\n",
       "      <th>price</th>\n",
       "      <td>0.294943</td>\n",
       "    </tr>\n",
       "    <tr>\n",
       "      <th>district</th>\n",
       "      <td>0.200761</td>\n",
       "    </tr>\n",
       "    <tr>\n",
       "      <th>category</th>\n",
       "      <td>0.189716</td>\n",
       "    </tr>\n",
       "    <tr>\n",
       "      <th>is_24_7</th>\n",
       "      <td>0.150365</td>\n",
       "    </tr>\n",
       "    <tr>\n",
       "      <th>chain</th>\n",
       "      <td>0.107833</td>\n",
       "    </tr>\n",
       "    <tr>\n",
       "      <th>seats</th>\n",
       "      <td>0.000000</td>\n",
       "    </tr>\n",
       "  </tbody>\n",
       "</table>\n",
       "</div>"
      ],
      "text/plain": [
       "            rating\n",
       "name      0.489972\n",
       "avg_bill  0.453687\n",
       "price     0.294943\n",
       "district  0.200761\n",
       "category  0.189716\n",
       "is_24_7   0.150365\n",
       "chain     0.107833\n",
       "seats     0.000000"
      ]
     },
     "execution_count": 60,
     "metadata": {},
     "output_type": "execute_result"
    }
   ],
   "source": [
    "# Строим матрицу корреляции\n",
    "\n",
    "correlation_matrix = df[['name','category', 'district','rating',\n",
    "       'chain', 'seats', 'price','avg_bill', 'is_24_7']].phik_matrix(verbose=False)\n",
    "\n",
    "# Выводим результат\n",
    "print('Корреляционная матрица с коэффициентом phi_k для переменной rating')\n",
    "correlation_matrix.loc[correlation_matrix.index != 'rating'][['rating']].sort_values(by='rating', ascending=False)"
   ]
  },
  {
   "cell_type": "code",
   "execution_count": 61,
   "id": "8f0379af",
   "metadata": {
    "id": "8f0379af"
   },
   "outputs": [
    {
     "data": {
      "image/png": "[encoded data removed]",
      "text/plain": [
       "<Figure size 216x432 with 1 Axes>"
      ]
     },
     "metadata": {
      "needs_background": "light"
     },
     "output_type": "display_data"
    }
   ],
   "source": [
    "# Строим тепловую карту на основе матрицы корреляции\n",
    "plt.figure(figsize=(3,6))\n",
    "data_heatmap = correlation_matrix.loc[correlation_matrix.index != 'rating'][['rating']].sort_values(by='rating', ascending=False)\n",
    "sns.heatmap(data_heatmap,\n",
    "            annot=True, \n",
    "            fmt='.2f', \n",
    "            cmap='coolwarm', \n",
    "            linewidths=0.5,\n",
    "            cbar=False \n",
    "           )\n",
    "\n",
    "\n",
    "plt.title('Показатели коррреляции рейтинга заведения с другими данными')\n",
    "plt.xlabel('Зависимость рейтинга заведений от его других показателей')\n",
    "\n",
    "\n",
    "plt.show() "
   ]
  },
  {
   "cell_type": "markdown",
   "id": "941a16f5",
   "metadata": {},
   "source": [
    "По тепловой карте можно заметить положительную корреляцию у рейтига с названием заведения и его средним чеком заведения. Слабовыраженная положительная корреляция у рейтинга с ценовой категорией, расположением заведения относительно округа, категорией заведения и тем, работает ли заведения круглосуточно. Является ли заведение сетевым или нет и количество мест совершенно не влияет на его рейтинг."
   ]
  },
  {
   "cell_type": "markdown",
   "id": "370de703",
   "metadata": {
    "id": "370de703"
   },
   "source": [
    "---\n",
    "\n",
    "### Задача 7\n",
    "\n",
    "Сгруппируйте данные по названиям заведений и найдите топ-15 популярных сетей в Москве. Для них посчитайте значения среднего рейтинга. Под популярностью понимается количество заведений этой сети в регионе. К какой категории заведений они относятся? Результат сопроводите подходящими визуализациями."
   ]
  },
  {
   "cell_type": "code",
   "execution_count": 62,
   "id": "5d828a9a",
   "metadata": {
    "id": "5d828a9a",
    "scrolled": false
   },
   "outputs": [
    {
     "data": {
      "text/html": [
       "<div>\n",
       "<style scoped>\n",
       "    .dataframe tbody tr th:only-of-type {\n",
       "        vertical-align: middle;\n",
       "    }\n",
       "\n",
       "    .dataframe tbody tr th {\n",
       "        vertical-align: top;\n",
       "    }\n",
       "\n",
       "    .dataframe thead th {\n",
       "        text-align: right;\n",
       "    }\n",
       "</style>\n",
       "<table border=\"1\" class=\"dataframe\">\n",
       "  <thead>\n",
       "    <tr style=\"text-align: right;\">\n",
       "      <th></th>\n",
       "      <th>id</th>\n",
       "      <th>rating</th>\n",
       "    </tr>\n",
       "    <tr>\n",
       "      <th>name</th>\n",
       "      <th></th>\n",
       "      <th></th>\n",
       "    </tr>\n",
       "  </thead>\n",
       "  <tbody>\n",
       "    <tr>\n",
       "      <th>кафе</th>\n",
       "      <td>188</td>\n",
       "      <td>3.884574</td>\n",
       "    </tr>\n",
       "    <tr>\n",
       "      <th>шоколадница</th>\n",
       "      <td>120</td>\n",
       "      <td>4.177500</td>\n",
       "    </tr>\n",
       "    <tr>\n",
       "      <th>домино'с пицца</th>\n",
       "      <td>77</td>\n",
       "      <td>4.171429</td>\n",
       "    </tr>\n",
       "    <tr>\n",
       "      <th>додо пицца</th>\n",
       "      <td>74</td>\n",
       "      <td>4.286486</td>\n",
       "    </tr>\n",
       "    <tr>\n",
       "      <th>one price coffee</th>\n",
       "      <td>72</td>\n",
       "      <td>4.069444</td>\n",
       "    </tr>\n",
       "    <tr>\n",
       "      <th>яндекс лавка</th>\n",
       "      <td>69</td>\n",
       "      <td>3.872464</td>\n",
       "    </tr>\n",
       "    <tr>\n",
       "      <th>cofix</th>\n",
       "      <td>65</td>\n",
       "      <td>4.075385</td>\n",
       "    </tr>\n",
       "    <tr>\n",
       "      <th>prime</th>\n",
       "      <td>50</td>\n",
       "      <td>4.116000</td>\n",
       "    </tr>\n",
       "    <tr>\n",
       "      <th>хинкальная</th>\n",
       "      <td>44</td>\n",
       "      <td>4.322727</td>\n",
       "    </tr>\n",
       "    <tr>\n",
       "      <th>шаурма</th>\n",
       "      <td>43</td>\n",
       "      <td>3.909302</td>\n",
       "    </tr>\n",
       "    <tr>\n",
       "      <th>кофепорт</th>\n",
       "      <td>42</td>\n",
       "      <td>4.147619</td>\n",
       "    </tr>\n",
       "    <tr>\n",
       "      <th>кулинарная лавка братьев караваевых</th>\n",
       "      <td>39</td>\n",
       "      <td>4.394872</td>\n",
       "    </tr>\n",
       "    <tr>\n",
       "      <th>теремок</th>\n",
       "      <td>38</td>\n",
       "      <td>4.123684</td>\n",
       "    </tr>\n",
       "    <tr>\n",
       "      <th>чайхана</th>\n",
       "      <td>37</td>\n",
       "      <td>3.924324</td>\n",
       "    </tr>\n",
       "    <tr>\n",
       "      <th>ресторан</th>\n",
       "      <td>34</td>\n",
       "      <td>4.314706</td>\n",
       "    </tr>\n",
       "  </tbody>\n",
       "</table>\n",
       "</div>"
      ],
      "text/plain": [
       "                                      id    rating\n",
       "name                                              \n",
       "кафе                                 188  3.884574\n",
       "шоколадница                          120  4.177500\n",
       "домино'с пицца                        77  4.171429\n",
       "додо пицца                            74  4.286486\n",
       "one price coffee                      72  4.069444\n",
       "яндекс лавка                          69  3.872464\n",
       "cofix                                 65  4.075385\n",
       "prime                                 50  4.116000\n",
       "хинкальная                            44  4.322727\n",
       "шаурма                                43  3.909302\n",
       "кофепорт                              42  4.147619\n",
       "кулинарная лавка братьев караваевых   39  4.394872\n",
       "теремок                               38  4.123684\n",
       "чайхана                               37  3.924324\n",
       "ресторан                              34  4.314706"
      ]
     },
     "execution_count": 62,
     "metadata": {},
     "output_type": "execute_result"
    }
   ],
   "source": [
    "# Находим 15 самых популярных заведений в Москве\n",
    "df.groupby(['name']).agg({'id':'count','rating':'mean'}).sort_values(by = 'id',ascending = False).head(15)"
   ]
  },
  {
   "cell_type": "code",
   "execution_count": 63,
   "id": "ce8156cb",
   "metadata": {
    "scrolled": false
   },
   "outputs": [
    {
     "data": {
      "image/png": "[encoded data removed]",
      "text/plain": [
       "<Figure size 864x576 with 2 Axes>"
      ]
     },
     "metadata": {
      "needs_background": "light"
     },
     "output_type": "display_data"
    }
   ],
   "source": [
    "# Строим столбчатую диаграмму для топ-15 популярных заведений\n",
    "top_15_mean = df[df['chain']==1].groupby(['name']).agg({'id':'count','rating':'mean'}).sort_values(by = 'id',ascending = True).tail(15)\n",
    "axes = top_15_mean.plot.barh(title=['График топ-15 популярных сетей в Москве','График со значениями среднего рейтинга для топ-15 заведений'],\n",
    "               rot=0,\n",
    "                legend = False,\n",
    "                figsize=(12,8),\n",
    "                subplots =True,\n",
    "                sharex=False,\n",
    "                sharey = True)\n",
    "plt.tight_layout()\n",
    "\n",
    "axes[0].set_ylabel('Количество заведений')\n",
    "axes[1].set_ylabel('Средний рейтинг')\n",
    "\n",
    "axes[0].grid(which='major')\n",
    "axes[1].grid(which='major')\n"
   ]
  },
  {
   "cell_type": "code",
   "execution_count": 64,
   "id": "42a84331",
   "metadata": {},
   "outputs": [
    {
     "data": {
      "image/png": "[encoded data removed]",
      "text/plain": [
       "<Figure size 720x432 with 1 Axes>"
      ]
     },
     "metadata": {
      "needs_background": "light"
     },
     "output_type": "display_data"
    }
   ],
   "source": [
    "# Находим топ-15 сетевых заведений по среднему значению рейтинга \n",
    "df[df['chain']==1].groupby('name')['rating'].mean().sort_values(ascending=True).tail(15).plot.barh(legend =False,\n",
    "                                                                                                   figsize=(10,6),\n",
    "                                                                                                   xlabel='Названия заведений',\n",
    "                                                                                                   ylabel='Средний рейтинг')\n",
    "plt.tight_layout()\n",
    "plt.title('график со значениями среднего рейтинга для топ15 сетевых заведений')\n",
    "plt.grid(axis='x')"
   ]
  },
  {
   "cell_type": "markdown",
   "id": "eb0c2933",
   "metadata": {},
   "source": [
    "По графикам видно,что самой популярной сетью заведений является \"Шоколадница\" с 120 заведениями в Москве. Следом за ней, с отстованием почти в треть по количеству заведений следуют пиццерии \"Домино'с пицца\" и \"Додо пицца\", \"One price coffe\",\"Яндекс Лавка\" и \"Cofix\". В среднем их средний рейтинг выше 4. При этом заведением с самым высоким средним рейтингом является \"Раковарня \"Клешни и хвосты\"."
   ]
  },
  {
   "cell_type": "markdown",
   "id": "85a90a94",
   "metadata": {
    "id": "85a90a94"
   },
   "source": [
    "---\n",
    "\n",
    "### Задача 8\n",
    "\n",
    "Изучите вариацию среднего чека заведения (столбец `middle_avg_bill`) в зависимости от района Москвы. Проанализируйте цены в Центральном административном округе и других. Как удалённость от центра влияет на цены в заведениях? Результат сопроводите подходящими визуализациями.\n"
   ]
  },
  {
   "cell_type": "code",
   "execution_count": 65,
   "id": "e86dcee6",
   "metadata": {
    "id": "5fb4ffc6"
   },
   "outputs": [
    {
     "data": {
      "text/html": [
       "<div>\n",
       "<style scoped>\n",
       "    .dataframe tbody tr th:only-of-type {\n",
       "        vertical-align: middle;\n",
       "    }\n",
       "\n",
       "    .dataframe tbody tr th {\n",
       "        vertical-align: top;\n",
       "    }\n",
       "\n",
       "    .dataframe thead tr th {\n",
       "        text-align: left;\n",
       "    }\n",
       "\n",
       "    .dataframe thead tr:last-of-type th {\n",
       "        text-align: right;\n",
       "    }\n",
       "</style>\n",
       "<table border=\"1\" class=\"dataframe\">\n",
       "  <thead>\n",
       "    <tr>\n",
       "      <th></th>\n",
       "      <th colspan=\"2\" halign=\"left\">middle_avg_bill</th>\n",
       "    </tr>\n",
       "    <tr>\n",
       "      <th></th>\n",
       "      <th>nunique</th>\n",
       "      <th>mean</th>\n",
       "    </tr>\n",
       "    <tr>\n",
       "      <th>district</th>\n",
       "      <th></th>\n",
       "      <th></th>\n",
       "    </tr>\n",
       "  </thead>\n",
       "  <tbody>\n",
       "    <tr>\n",
       "      <th>центральный административный округ</th>\n",
       "      <td>120</td>\n",
       "      <td>1191.057547</td>\n",
       "    </tr>\n",
       "    <tr>\n",
       "      <th>южный административный округ</th>\n",
       "      <td>86</td>\n",
       "      <td>834.398089</td>\n",
       "    </tr>\n",
       "    <tr>\n",
       "      <th>северный административный округ</th>\n",
       "      <td>83</td>\n",
       "      <td>927.959627</td>\n",
       "    </tr>\n",
       "    <tr>\n",
       "      <th>северо-восточный административный округ</th>\n",
       "      <td>83</td>\n",
       "      <td>716.611296</td>\n",
       "    </tr>\n",
       "    <tr>\n",
       "      <th>западный административный округ</th>\n",
       "      <td>74</td>\n",
       "      <td>1053.225490</td>\n",
       "    </tr>\n",
       "    <tr>\n",
       "      <th>восточный административный округ</th>\n",
       "      <td>72</td>\n",
       "      <td>820.626923</td>\n",
       "    </tr>\n",
       "    <tr>\n",
       "      <th>юго-восточный административный округ</th>\n",
       "      <td>67</td>\n",
       "      <td>654.097938</td>\n",
       "    </tr>\n",
       "    <tr>\n",
       "      <th>юго-западный административный округ</th>\n",
       "      <td>64</td>\n",
       "      <td>792.561702</td>\n",
       "    </tr>\n",
       "    <tr>\n",
       "      <th>северо-западный административный округ</th>\n",
       "      <td>59</td>\n",
       "      <td>822.222930</td>\n",
       "    </tr>\n",
       "  </tbody>\n",
       "</table>\n",
       "</div>"
      ],
      "text/plain": [
       "                                        middle_avg_bill             \n",
       "                                                nunique         mean\n",
       "district                                                            \n",
       "центральный административный округ                  120  1191.057547\n",
       "южный административный округ                         86   834.398089\n",
       "северный административный округ                      83   927.959627\n",
       "северо-восточный административный округ              83   716.611296\n",
       "западный административный округ                      74  1053.225490\n",
       "восточный административный округ                     72   820.626923\n",
       "юго-восточный административный округ                 67   654.097938\n",
       "юго-западный административный округ                  64   792.561702\n",
       "северо-западный административный округ               59   822.222930"
      ]
     },
     "execution_count": 65,
     "metadata": {},
     "output_type": "execute_result"
    }
   ],
   "source": [
    "# Общее информация о вариациях значений среднего чека\n",
    "df.groupby('district').agg({'middle_avg_bill':['nunique','mean']}).sort_values(by = ('middle_avg_bill','nunique'),ascending = False)"
   ]
  },
  {
   "cell_type": "code",
   "execution_count": 66,
   "id": "9b5e00a5",
   "metadata": {
    "id": "9b5e00a5"
   },
   "outputs": [
    {
     "data": {
      "text/html": [
       "<div>\n",
       "<style scoped>\n",
       "    .dataframe tbody tr th:only-of-type {\n",
       "        vertical-align: middle;\n",
       "    }\n",
       "\n",
       "    .dataframe tbody tr th {\n",
       "        vertical-align: top;\n",
       "    }\n",
       "\n",
       "    .dataframe thead th {\n",
       "        text-align: right;\n",
       "    }\n",
       "</style>\n",
       "<table border=\"1\" class=\"dataframe\">\n",
       "  <thead>\n",
       "    <tr style=\"text-align: right;\">\n",
       "      <th></th>\n",
       "      <th>middle_avg_bill</th>\n",
       "    </tr>\n",
       "    <tr>\n",
       "      <th>district</th>\n",
       "      <th></th>\n",
       "    </tr>\n",
       "  </thead>\n",
       "  <tbody>\n",
       "    <tr>\n",
       "      <th>центральный административный округ</th>\n",
       "      <td>120</td>\n",
       "    </tr>\n",
       "    <tr>\n",
       "      <th>южный административный округ</th>\n",
       "      <td>86</td>\n",
       "    </tr>\n",
       "    <tr>\n",
       "      <th>северный административный округ</th>\n",
       "      <td>83</td>\n",
       "    </tr>\n",
       "    <tr>\n",
       "      <th>северо-восточный административный округ</th>\n",
       "      <td>83</td>\n",
       "    </tr>\n",
       "    <tr>\n",
       "      <th>западный административный округ</th>\n",
       "      <td>74</td>\n",
       "    </tr>\n",
       "    <tr>\n",
       "      <th>восточный административный округ</th>\n",
       "      <td>72</td>\n",
       "    </tr>\n",
       "    <tr>\n",
       "      <th>юго-восточный административный округ</th>\n",
       "      <td>67</td>\n",
       "    </tr>\n",
       "    <tr>\n",
       "      <th>юго-западный административный округ</th>\n",
       "      <td>64</td>\n",
       "    </tr>\n",
       "    <tr>\n",
       "      <th>северо-западный административный округ</th>\n",
       "      <td>59</td>\n",
       "    </tr>\n",
       "  </tbody>\n",
       "</table>\n",
       "</div>"
      ],
      "text/plain": [
       "                                         middle_avg_bill\n",
       "district                                                \n",
       "центральный административный округ                   120\n",
       "южный административный округ                          86\n",
       "северный административный округ                       83\n",
       "северо-восточный административный округ               83\n",
       "западный административный округ                       74\n",
       "восточный административный округ                      72\n",
       "юго-восточный административный округ                  67\n",
       "юго-западный административный округ                   64\n",
       "северо-западный административный округ                59"
      ]
     },
     "metadata": {},
     "output_type": "display_data"
    }
   ],
   "source": [
    "# Находим вариации значений\n",
    "district_mab = df.pivot_table(values='middle_avg_bill',index = 'district',aggfunc=\n",
    "                              'nunique').sort_values(by='middle_avg_bill',ascending=False)\n",
    "district_mab_mean = df.pivot_table(values='middle_avg_bill',index = 'district',aggfunc=\n",
    "                              'mean').sort_values(by='middle_avg_bill',ascending=False)\n",
    "display(district_mab)"
   ]
  },
  {
   "cell_type": "markdown",
   "id": "c150bd4f",
   "metadata": {
    "id": "c150bd4f"
   },
   "source": [
    "---\n"
   ]
  },
  {
   "cell_type": "code",
   "execution_count": 67,
   "id": "5ee8b279",
   "metadata": {
    "id": "5ee8b279"
   },
   "outputs": [
    {
     "data": {
      "image/png": "[encoded data removed]",
      "text/plain": [
       "<Figure size 720x432 with 1 Axes>"
      ]
     },
     "metadata": {
      "needs_background": "light"
     },
     "output_type": "display_data"
    },
    {
     "data": {
      "image/png": "[encoded data removed]",
      "text/plain": [
       "<Figure size 720x432 with 1 Axes>"
      ]
     },
     "metadata": {
      "needs_background": "light"
     },
     "output_type": "display_data"
    }
   ],
   "source": [
    "# Строим столбчатую диаграмму вариаций значений по округам\n",
    "district_mab.sort_values(by='middle_avg_bill',ascending=True).plot(kind='barh',\n",
    "                 figsize=(10,6),\n",
    "                 title='Вариация среднего чека заведения в зависимости от района Москвы.Уникальное значение',\n",
    "                 ylabel = 'Количество вариаций',\n",
    "                 xlabel = 'Округи')\n",
    "plt.tight_layout()\n",
    "plt.grid(axis='x')\n",
    "district_mab_mean.sort_values(by='middle_avg_bill',ascending=True).plot(kind='barh',\n",
    "                 figsize=(10,6),\n",
    "                 title='Вариация среднего чека заведения в зависимости от района Москвы.Среднее значение',\n",
    "                 ylabel = 'Среднее значение',\n",
    "                 xlabel = 'Округи')\n",
    "plt.tight_layout()\n",
    "plt.grid(axis='x')"
   ]
  },
  {
   "cell_type": "markdown",
   "id": "456f082e",
   "metadata": {
    "id": "c6a666d9"
   },
   "source": [
    "По таблице с вариациями и диаграмме видно, что центральный административный округ имеет большее количество вариаций среднего чека по сравнению с остальным округами- 120 вариаций.За ним идут южный, северный и северо-восточный округа. В самом конце можно заметить,что восточные направления имеют меньшее количество вариаций и меньшее среднее значение."
   ]
  },
  {
   "cell_type": "markdown",
   "id": "f2c54e9a",
   "metadata": {
    "id": "f2c54e9a"
   },
   "source": [
    "---\n",
    "\n",
    "### Промежуточный вывод\n",
    "\n",
    "Обобщите полученные результаты, выделив, по вашему мнению, самые важные."
   ]
  },
  {
   "cell_type": "markdown",
   "id": "bc2035f0",
   "metadata": {
    "id": "c8869609"
   },
   "source": [
    "По результат исследовательского анализа данных, можно сделать вывод: \n",
    "- Рестораны являеются самой многочисленной категорией заведений в Москве и её округах. \n",
    "- Самым популярным заведением является кофейня \"Шоколадница\". \n",
    "- Чем восточнее и южнее находятся от Москвы заведения, тем меньше среднее значение среднего чека и меньше вариаций значений. \n",
    "- В среднем, все категории заведений получают рейтинг 4+.\n",
    "- Большая часть заведений в среднем имеет от 80 до 100 посадочных мест."
   ]
  },
  {
   "cell_type": "markdown",
   "id": "480f3422",
   "metadata": {
    "id": "480f3422"
   },
   "source": [
    "<a id='4'></a>\n",
    "## 4. Итоговый вывод и рекомендации\n",
    "\n",
    "По результатам проведённого исследовательского анализа данных сформулируйте итоговый вывод и рекомендации для заказчика. Старайтесь акцентировать внимание на ключевых моментах исследования.\n",
    "\n",
    "При составлении вывода придерживайтесь такой структуры:\n",
    "\n",
    "1. Общий обзор проделанной работы.\n",
    "2. Ответы на исследовательские вопросы, или главные выводы.\n",
    "3. Рекомендации на основе анализа данных."
   ]
  },
  {
   "cell_type": "markdown",
   "id": "e54f740a",
   "metadata": {},
   "source": [
    "В ходе исследования проанализировали данные о заведениях общественного питания Москвы за 2022 год. Данные включали информацию о заведениях, местоположение, время работы, а также информацию о среднем чеке в заведениях. Требовалось проанализировать имеющуюся информацию, чтобы найти идеальную формулу для открытия заведения общественного питания. \n",
    "\n",
    "Результаты исследовательского анализа:\n",
    "- Самой распространенной категорией заведений является ресторан. \n",
    "- В центральном административном округе Москвы находится самое наибольшее число заведений — 2242 заведение!\n",
    "- Большая часть заведений являются несетевыми.\n",
    "- Заведения общественного питания в среднем имеют 80-100 посадочных мест.\n",
    "- Все категории заведений имеют в среднем оценку 4+.\n",
    "- Основная часть положительных оценок заведений (4-4,5) относится к заведениям со средним чеком заведений (1000-1500 руб.).\n",
    "- При том, что ресторан — самая частая категория заведений в Москве, самым популярным заведением является кофейня «Шоколадница».\n",
    "- Несмотря на это, самым высокооценным заведением является \"Раковарня \"Клешни и хвосты\" со средним рейтингом 4.90 против 4.17 у \"Шоколадницы\"\n",
    " \n",
    "Также существует связь между расположением заведения и его средним чеком. Так, чем восточнее и южнее располагается заведение, тем меньше средний чек заведения и его вариация.\n",
    " \n",
    "В качестве рекомендаций стоит обратить на северные и западные районы Москвы. Лучше всего центральный. Для категории заведения стоит лучше всего подойдёт ресторан либо кофейня. Также не стоит забывать о среднем чеке заведения. Лучше будет, если заведение будет среднеценового сегмента. Так оно многовероятнее будет получать высокие оценки от гостей."
   ]
  }
 ],
 "metadata": {
  "ExecuteTimeLog": [
   {
    "duration": 3971,
    "start_time": "2025-03-15T21:32:08.082Z"
   },
   {
    "duration": 281,
    "start_time": "2025-03-15T21:34:43.047Z"
   },
   {
    "duration": 17,
    "start_time": "2025-03-15T21:37:49.477Z"
   },
   {
    "duration": 14,
    "start_time": "2025-03-15T21:38:57.763Z"
   },
   {
    "duration": 123,
    "start_time": "2025-03-15T21:41:22.546Z"
   },
   {
    "duration": 11,
    "start_time": "2025-03-15T21:41:28.515Z"
   },
   {
    "duration": 4008,
    "start_time": "2025-03-15T21:44:12.299Z"
   },
   {
    "duration": 193,
    "start_time": "2025-03-15T21:44:16.309Z"
   },
   {
    "duration": 120,
    "start_time": "2025-03-15T21:44:16.504Z"
   },
   {
    "duration": 1,
    "start_time": "2025-03-15T21:44:16.625Z"
   },
   {
    "duration": 16,
    "start_time": "2025-03-15T21:44:23.329Z"
   },
   {
    "duration": 15,
    "start_time": "2025-03-15T21:44:27.817Z"
   },
   {
    "duration": 9,
    "start_time": "2025-03-15T22:07:09.751Z"
   },
   {
    "duration": 11,
    "start_time": "2025-03-15T22:07:58.033Z"
   },
   {
    "duration": 11,
    "start_time": "2025-03-15T22:09:41.339Z"
   },
   {
    "duration": 13,
    "start_time": "2025-03-15T22:09:53.040Z"
   },
   {
    "duration": 13,
    "start_time": "2025-03-15T22:10:22.872Z"
   },
   {
    "duration": 94,
    "start_time": "2025-03-15T22:14:31.157Z"
   },
   {
    "duration": 89,
    "start_time": "2025-03-15T22:43:34.592Z"
   },
   {
    "duration": 11,
    "start_time": "2025-03-15T22:43:44.026Z"
   },
   {
    "duration": 9,
    "start_time": "2025-03-15T22:44:40.938Z"
   },
   {
    "duration": 26,
    "start_time": "2025-03-15T22:44:50.472Z"
   },
   {
    "duration": 22,
    "start_time": "2025-03-15T22:50:32.584Z"
   },
   {
    "duration": 18,
    "start_time": "2025-03-15T22:50:44.624Z"
   },
   {
    "duration": 11,
    "start_time": "2025-03-15T22:51:06.056Z"
   },
   {
    "duration": 22,
    "start_time": "2025-03-15T22:51:08.293Z"
   },
   {
    "duration": 45,
    "start_time": "2025-03-16T12:08:39.729Z"
   },
   {
    "duration": 4713,
    "start_time": "2025-03-16T12:08:47.474Z"
   },
   {
    "duration": 155,
    "start_time": "2025-03-16T12:08:52.189Z"
   },
   {
    "duration": 16,
    "start_time": "2025-03-16T12:08:52.345Z"
   },
   {
    "duration": 13,
    "start_time": "2025-03-16T12:08:52.362Z"
   },
   {
    "duration": 25,
    "start_time": "2025-03-16T12:08:52.376Z"
   },
   {
    "duration": 9,
    "start_time": "2025-03-16T12:08:52.402Z"
   },
   {
    "duration": 18,
    "start_time": "2025-03-16T12:08:52.412Z"
   },
   {
    "duration": 116,
    "start_time": "2025-03-16T12:08:52.432Z"
   },
   {
    "duration": 12,
    "start_time": "2025-03-16T12:08:52.549Z"
   },
   {
    "duration": 21,
    "start_time": "2025-03-16T12:08:52.563Z"
   },
   {
    "duration": 13,
    "start_time": "2025-03-16T12:08:52.585Z"
   },
   {
    "duration": 5,
    "start_time": "2025-03-16T12:12:05.412Z"
   },
   {
    "duration": 4,
    "start_time": "2025-03-16T12:12:08.026Z"
   },
   {
    "duration": 4,
    "start_time": "2025-03-16T12:12:09.998Z"
   },
   {
    "duration": 21,
    "start_time": "2025-03-16T12:12:11.070Z"
   },
   {
    "duration": 108,
    "start_time": "2025-03-16T12:12:31.063Z"
   },
   {
    "duration": 4,
    "start_time": "2025-03-16T12:12:50.545Z"
   },
   {
    "duration": 4,
    "start_time": "2025-03-16T12:13:01.782Z"
   },
   {
    "duration": 5,
    "start_time": "2025-03-16T12:13:15.126Z"
   },
   {
    "duration": 9,
    "start_time": "2025-03-16T12:28:09.138Z"
   },
   {
    "duration": 8,
    "start_time": "2025-03-16T12:28:25.877Z"
   },
   {
    "duration": 24,
    "start_time": "2025-03-16T12:28:56.663Z"
   },
   {
    "duration": 22,
    "start_time": "2025-03-16T12:29:05.912Z"
   },
   {
    "duration": 10,
    "start_time": "2025-03-16T12:29:20.837Z"
   },
   {
    "duration": 11,
    "start_time": "2025-03-16T12:29:45.689Z"
   },
   {
    "duration": 11,
    "start_time": "2025-03-16T12:30:09.432Z"
   },
   {
    "duration": 81,
    "start_time": "2025-03-16T12:31:50.058Z"
   },
   {
    "duration": 20,
    "start_time": "2025-03-16T12:32:11.672Z"
   },
   {
    "duration": 16,
    "start_time": "2025-03-16T12:32:48.980Z"
   },
   {
    "duration": 12,
    "start_time": "2025-03-16T12:33:01.010Z"
   },
   {
    "duration": 12,
    "start_time": "2025-03-16T12:33:04.281Z"
   },
   {
    "duration": 9,
    "start_time": "2025-03-16T12:33:57.226Z"
   },
   {
    "duration": 11,
    "start_time": "2025-03-16T12:34:23.052Z"
   },
   {
    "duration": 10,
    "start_time": "2025-03-16T12:34:39.625Z"
   },
   {
    "duration": 10,
    "start_time": "2025-03-16T12:34:47.691Z"
   },
   {
    "duration": 98,
    "start_time": "2025-03-16T13:05:30.006Z"
   },
   {
    "duration": 10,
    "start_time": "2025-03-16T13:05:36.032Z"
   },
   {
    "duration": 10,
    "start_time": "2025-03-16T13:06:09.302Z"
   },
   {
    "duration": 9,
    "start_time": "2025-03-16T13:06:24.475Z"
   },
   {
    "duration": 13,
    "start_time": "2025-03-16T13:06:59.763Z"
   },
   {
    "duration": 16,
    "start_time": "2025-03-16T13:07:08.804Z"
   },
   {
    "duration": 11,
    "start_time": "2025-03-16T13:07:13.974Z"
   },
   {
    "duration": 11,
    "start_time": "2025-03-16T13:07:16.648Z"
   },
   {
    "duration": 12,
    "start_time": "2025-03-16T13:07:34.248Z"
   },
   {
    "duration": 13,
    "start_time": "2025-03-16T13:08:29.320Z"
   },
   {
    "duration": 29,
    "start_time": "2025-03-16T13:09:55.546Z"
   },
   {
    "duration": 8,
    "start_time": "2025-03-16T13:10:44.090Z"
   },
   {
    "duration": 28,
    "start_time": "2025-03-16T13:11:07.483Z"
   },
   {
    "duration": 25,
    "start_time": "2025-03-16T13:11:28.000Z"
   },
   {
    "duration": 5,
    "start_time": "2025-03-16T13:12:44.296Z"
   },
   {
    "duration": 27,
    "start_time": "2025-03-16T13:13:01.023Z"
   },
   {
    "duration": 1139,
    "start_time": "2025-03-16T13:18:04.710Z"
   },
   {
    "duration": 1113,
    "start_time": "2025-03-16T13:18:30.030Z"
   },
   {
    "duration": 1135,
    "start_time": "2025-03-16T13:19:01.761Z"
   },
   {
    "duration": 1030,
    "start_time": "2025-03-16T13:19:49.325Z"
   },
   {
    "duration": 1192,
    "start_time": "2025-03-16T13:19:59.842Z"
   },
   {
    "duration": 51,
    "start_time": "2025-03-16T13:22:55.343Z"
   },
   {
    "duration": 45,
    "start_time": "2025-03-16T13:23:25.998Z"
   },
   {
    "duration": 3623,
    "start_time": "2025-03-16T13:31:56.820Z"
   },
   {
    "duration": 191,
    "start_time": "2025-03-16T13:32:00.445Z"
   },
   {
    "duration": 16,
    "start_time": "2025-03-16T13:32:00.638Z"
   },
   {
    "duration": 21,
    "start_time": "2025-03-16T13:32:00.656Z"
   },
   {
    "duration": 25,
    "start_time": "2025-03-16T13:32:00.679Z"
   },
   {
    "duration": 9,
    "start_time": "2025-03-16T13:32:00.705Z"
   },
   {
    "duration": 25,
    "start_time": "2025-03-16T13:32:00.715Z"
   },
   {
    "duration": 16,
    "start_time": "2025-03-16T13:32:00.742Z"
   },
   {
    "duration": 16,
    "start_time": "2025-03-16T13:32:00.759Z"
   },
   {
    "duration": 24,
    "start_time": "2025-03-16T13:32:00.777Z"
   },
   {
    "duration": 30,
    "start_time": "2025-03-16T13:32:00.802Z"
   },
   {
    "duration": 11,
    "start_time": "2025-03-16T13:32:00.833Z"
   },
   {
    "duration": 39,
    "start_time": "2025-03-16T13:32:00.846Z"
   },
   {
    "duration": 42,
    "start_time": "2025-03-16T13:32:00.886Z"
   },
   {
    "duration": 8,
    "start_time": "2025-03-16T13:32:00.930Z"
   },
   {
    "duration": 16,
    "start_time": "2025-03-16T13:32:00.939Z"
   },
   {
    "duration": 10,
    "start_time": "2025-03-16T13:33:44.440Z"
   },
   {
    "duration": 8,
    "start_time": "2025-03-16T13:44:50.046Z"
   },
   {
    "duration": 9,
    "start_time": "2025-03-16T13:46:00.271Z"
   },
   {
    "duration": 111,
    "start_time": "2025-03-16T13:46:07.042Z"
   },
   {
    "duration": 22,
    "start_time": "2025-03-16T13:46:38.945Z"
   },
   {
    "duration": 19,
    "start_time": "2025-03-16T13:48:19.733Z"
   },
   {
    "duration": 14,
    "start_time": "2025-03-16T13:48:38.571Z"
   },
   {
    "duration": 14,
    "start_time": "2025-03-16T13:49:06.046Z"
   },
   {
    "duration": 12,
    "start_time": "2025-03-16T13:49:10.859Z"
   },
   {
    "duration": 13,
    "start_time": "2025-03-16T13:49:24.643Z"
   },
   {
    "duration": 12,
    "start_time": "2025-03-16T13:50:08.349Z"
   },
   {
    "duration": 12,
    "start_time": "2025-03-16T13:50:10.990Z"
   },
   {
    "duration": 6,
    "start_time": "2025-03-16T13:51:01.881Z"
   },
   {
    "duration": 4,
    "start_time": "2025-03-16T13:51:44.060Z"
   },
   {
    "duration": 6,
    "start_time": "2025-03-16T13:51:47.418Z"
   },
   {
    "duration": 21,
    "start_time": "2025-03-16T13:51:51.714Z"
   },
   {
    "duration": 16,
    "start_time": "2025-03-16T14:04:42.879Z"
   },
   {
    "duration": 9,
    "start_time": "2025-03-16T14:58:15.374Z"
   },
   {
    "duration": 10,
    "start_time": "2025-03-16T14:59:11.617Z"
   },
   {
    "duration": 9,
    "start_time": "2025-03-16T14:59:21.042Z"
   },
   {
    "duration": 6,
    "start_time": "2025-03-16T15:02:15.328Z"
   },
   {
    "duration": 103,
    "start_time": "2025-03-16T15:11:31.570Z"
   },
   {
    "duration": 21,
    "start_time": "2025-03-16T15:11:44.797Z"
   },
   {
    "duration": 28,
    "start_time": "2025-03-16T15:12:03.037Z"
   },
   {
    "duration": 18,
    "start_time": "2025-03-16T15:12:11.248Z"
   },
   {
    "duration": 21,
    "start_time": "2025-03-16T15:12:29.550Z"
   },
   {
    "duration": 19,
    "start_time": "2025-03-16T15:13:36.089Z"
   },
   {
    "duration": 47,
    "start_time": "2025-03-16T15:14:16.277Z"
   },
   {
    "duration": 21,
    "start_time": "2025-03-16T15:14:34.233Z"
   },
   {
    "duration": 37,
    "start_time": "2025-03-16T15:15:53.590Z"
   },
   {
    "duration": 64,
    "start_time": "2025-03-16T15:15:57.102Z"
   },
   {
    "duration": 21,
    "start_time": "2025-03-16T15:15:57.877Z"
   },
   {
    "duration": 49,
    "start_time": "2025-03-16T15:16:27.235Z"
   },
   {
    "duration": 47,
    "start_time": "2025-03-16T15:16:29.648Z"
   },
   {
    "duration": 21,
    "start_time": "2025-03-16T15:16:30.445Z"
   },
   {
    "duration": 96,
    "start_time": "2025-03-16T15:18:32.410Z"
   },
   {
    "duration": 84,
    "start_time": "2025-03-16T15:18:40.726Z"
   },
   {
    "duration": 36,
    "start_time": "2025-03-16T15:18:58.661Z"
   },
   {
    "duration": 18,
    "start_time": "2025-03-16T15:21:08.423Z"
   },
   {
    "duration": 208,
    "start_time": "2025-03-16T15:21:21.874Z"
   },
   {
    "duration": 3360,
    "start_time": "2025-03-16T15:21:22.083Z"
   },
   {
    "duration": 277,
    "start_time": "2025-03-16T15:21:25.445Z"
   },
   {
    "duration": 15,
    "start_time": "2025-03-16T15:21:25.724Z"
   },
   {
    "duration": 16,
    "start_time": "2025-03-16T15:21:25.741Z"
   },
   {
    "duration": 19,
    "start_time": "2025-03-16T15:21:25.759Z"
   },
   {
    "duration": 9,
    "start_time": "2025-03-16T15:21:25.779Z"
   },
   {
    "duration": 9,
    "start_time": "2025-03-16T15:21:25.789Z"
   },
   {
    "duration": 31,
    "start_time": "2025-03-16T15:21:25.799Z"
   },
   {
    "duration": 22,
    "start_time": "2025-03-16T15:21:25.833Z"
   },
   {
    "duration": 25,
    "start_time": "2025-03-16T15:21:25.857Z"
   },
   {
    "duration": 13,
    "start_time": "2025-03-16T15:21:25.883Z"
   },
   {
    "duration": 35,
    "start_time": "2025-03-16T15:21:25.897Z"
   },
   {
    "duration": 6,
    "start_time": "2025-03-16T15:21:25.933Z"
   },
   {
    "duration": 9,
    "start_time": "2025-03-16T15:21:25.940Z"
   },
   {
    "duration": 23,
    "start_time": "2025-03-16T15:21:25.950Z"
   },
   {
    "duration": 55,
    "start_time": "2025-03-16T15:21:25.975Z"
   },
   {
    "duration": 21,
    "start_time": "2025-03-16T15:21:26.031Z"
   },
   {
    "duration": 15,
    "start_time": "2025-03-16T15:21:26.054Z"
   },
   {
    "duration": 39,
    "start_time": "2025-03-16T15:21:26.070Z"
   },
   {
    "duration": 38,
    "start_time": "2025-03-16T15:21:26.110Z"
   },
   {
    "duration": 83,
    "start_time": "2025-03-16T15:22:28.967Z"
   },
   {
    "duration": 41,
    "start_time": "2025-03-16T15:22:30.879Z"
   },
   {
    "duration": 23,
    "start_time": "2025-03-16T15:22:34.236Z"
   },
   {
    "duration": 104,
    "start_time": "2025-03-16T15:23:56.447Z"
   },
   {
    "duration": 10,
    "start_time": "2025-03-16T15:24:01.414Z"
   },
   {
    "duration": 12,
    "start_time": "2025-03-16T15:24:05.302Z"
   },
   {
    "duration": 10,
    "start_time": "2025-03-16T15:24:33.751Z"
   },
   {
    "duration": 7,
    "start_time": "2025-03-16T15:25:47.780Z"
   },
   {
    "duration": 250,
    "start_time": "2025-03-16T15:26:33.720Z"
   },
   {
    "duration": 3325,
    "start_time": "2025-03-16T15:26:33.972Z"
   },
   {
    "duration": 185,
    "start_time": "2025-03-16T15:26:37.299Z"
   },
   {
    "duration": 22,
    "start_time": "2025-03-16T15:26:37.486Z"
   },
   {
    "duration": 41,
    "start_time": "2025-03-16T15:26:37.510Z"
   },
   {
    "duration": 56,
    "start_time": "2025-03-16T15:26:37.553Z"
   },
   {
    "duration": 14,
    "start_time": "2025-03-16T15:26:37.611Z"
   },
   {
    "duration": 25,
    "start_time": "2025-03-16T15:26:37.626Z"
   },
   {
    "duration": 19,
    "start_time": "2025-03-16T15:26:37.652Z"
   },
   {
    "duration": 16,
    "start_time": "2025-03-16T15:26:37.674Z"
   },
   {
    "duration": 27,
    "start_time": "2025-03-16T15:26:37.692Z"
   },
   {
    "duration": 13,
    "start_time": "2025-03-16T15:26:37.720Z"
   },
   {
    "duration": 16,
    "start_time": "2025-03-16T15:26:37.734Z"
   },
   {
    "duration": 8,
    "start_time": "2025-03-16T15:26:37.751Z"
   },
   {
    "duration": 21,
    "start_time": "2025-03-16T15:26:37.760Z"
   },
   {
    "duration": 32,
    "start_time": "2025-03-16T15:26:37.782Z"
   },
   {
    "duration": 54,
    "start_time": "2025-03-16T15:26:37.816Z"
   },
   {
    "duration": 25,
    "start_time": "2025-03-16T15:26:37.871Z"
   },
   {
    "duration": 16,
    "start_time": "2025-03-16T15:26:37.897Z"
   },
   {
    "duration": 48,
    "start_time": "2025-03-16T15:26:37.930Z"
   },
   {
    "duration": 28,
    "start_time": "2025-03-16T15:26:37.980Z"
   },
   {
    "duration": 27,
    "start_time": "2025-03-16T15:26:38.009Z"
   },
   {
    "duration": 42,
    "start_time": "2025-03-16T15:26:38.038Z"
   },
   {
    "duration": 4,
    "start_time": "2025-03-16T15:27:18.644Z"
   },
   {
    "duration": 101,
    "start_time": "2025-03-16T15:33:25.689Z"
   },
   {
    "duration": 16,
    "start_time": "2025-03-16T15:33:33.597Z"
   },
   {
    "duration": 18,
    "start_time": "2025-03-16T15:55:55.809Z"
   },
   {
    "duration": 19,
    "start_time": "2025-03-16T15:56:21.395Z"
   },
   {
    "duration": 193,
    "start_time": "2025-03-16T15:58:56.590Z"
   },
   {
    "duration": 3395,
    "start_time": "2025-03-16T15:58:56.785Z"
   },
   {
    "duration": 321,
    "start_time": "2025-03-16T15:59:00.182Z"
   },
   {
    "duration": 16,
    "start_time": "2025-03-16T15:59:00.505Z"
   },
   {
    "duration": 12,
    "start_time": "2025-03-16T15:59:00.523Z"
   },
   {
    "duration": 23,
    "start_time": "2025-03-16T15:59:00.536Z"
   },
   {
    "duration": 112,
    "start_time": "2025-03-16T15:59:00.560Z"
   },
   {
    "duration": 67,
    "start_time": "2025-03-16T15:59:00.674Z"
   },
   {
    "duration": 23,
    "start_time": "2025-03-16T15:59:00.743Z"
   },
   {
    "duration": 87,
    "start_time": "2025-03-16T15:59:00.768Z"
   },
   {
    "duration": 32,
    "start_time": "2025-03-16T15:59:00.856Z"
   },
   {
    "duration": 14,
    "start_time": "2025-03-16T15:59:00.890Z"
   },
   {
    "duration": 5,
    "start_time": "2025-03-16T15:59:00.905Z"
   },
   {
    "duration": 4,
    "start_time": "2025-03-16T15:59:00.912Z"
   },
   {
    "duration": 17,
    "start_time": "2025-03-16T15:59:00.930Z"
   },
   {
    "duration": 18,
    "start_time": "2025-03-16T15:59:00.949Z"
   },
   {
    "duration": 51,
    "start_time": "2025-03-16T15:59:00.968Z"
   },
   {
    "duration": 28,
    "start_time": "2025-03-16T15:59:01.021Z"
   },
   {
    "duration": 20,
    "start_time": "2025-03-16T15:59:01.051Z"
   },
   {
    "duration": 78,
    "start_time": "2025-03-16T15:59:01.073Z"
   },
   {
    "duration": 22,
    "start_time": "2025-03-16T15:59:01.152Z"
   },
   {
    "duration": 27,
    "start_time": "2025-03-16T15:59:01.175Z"
   },
   {
    "duration": 24,
    "start_time": "2025-03-16T15:59:01.204Z"
   },
   {
    "duration": 77,
    "start_time": "2025-03-16T15:59:01.230Z"
   },
   {
    "duration": 0,
    "start_time": "2025-03-16T15:59:01.309Z"
   },
   {
    "duration": 30,
    "start_time": "2025-03-16T15:59:16.599Z"
   },
   {
    "duration": 18,
    "start_time": "2025-03-16T15:59:32.272Z"
   },
   {
    "duration": 146,
    "start_time": "2025-03-16T16:02:13.978Z"
   },
   {
    "duration": 16,
    "start_time": "2025-03-16T16:02:30.324Z"
   },
   {
    "duration": 8,
    "start_time": "2025-03-16T16:33:12.087Z"
   },
   {
    "duration": 8,
    "start_time": "2025-03-16T16:33:17.385Z"
   },
   {
    "duration": 9,
    "start_time": "2025-03-16T16:36:42.187Z"
   },
   {
    "duration": 16,
    "start_time": "2025-03-16T17:04:11.457Z"
   },
   {
    "duration": 15,
    "start_time": "2025-03-16T17:04:17.109Z"
   },
   {
    "duration": 1545,
    "start_time": "2025-03-16T17:04:45.933Z"
   },
   {
    "duration": 25,
    "start_time": "2025-03-16T17:05:03.819Z"
   },
   {
    "duration": 32,
    "start_time": "2025-03-16T17:05:26.450Z"
   },
   {
    "duration": 23,
    "start_time": "2025-03-16T17:05:34.971Z"
   },
   {
    "duration": 22,
    "start_time": "2025-03-16T17:08:08.049Z"
   },
   {
    "duration": 51,
    "start_time": "2025-03-16T17:09:53.381Z"
   },
   {
    "duration": 21,
    "start_time": "2025-03-16T17:09:54.992Z"
   },
   {
    "duration": 42,
    "start_time": "2025-03-16T17:10:06.753Z"
   },
   {
    "duration": 21,
    "start_time": "2025-03-16T17:10:08.119Z"
   },
   {
    "duration": 14,
    "start_time": "2025-03-16T17:12:02.262Z"
   },
   {
    "duration": 17,
    "start_time": "2025-03-16T17:12:22.729Z"
   },
   {
    "duration": 5,
    "start_time": "2025-03-16T17:12:34.540Z"
   },
   {
    "duration": 53,
    "start_time": "2025-03-16T17:13:03.465Z"
   },
   {
    "duration": 21,
    "start_time": "2025-03-16T17:13:06.400Z"
   },
   {
    "duration": 22,
    "start_time": "2025-03-16T17:13:12.959Z"
   },
   {
    "duration": 5,
    "start_time": "2025-03-16T17:13:15.080Z"
   },
   {
    "duration": 44,
    "start_time": "2025-03-16T17:14:19.052Z"
   },
   {
    "duration": 23,
    "start_time": "2025-03-16T17:14:20.312Z"
   },
   {
    "duration": 25,
    "start_time": "2025-03-16T17:14:27.838Z"
   },
   {
    "duration": 23,
    "start_time": "2025-03-16T17:14:28.643Z"
   },
   {
    "duration": 6,
    "start_time": "2025-03-16T17:14:31.490Z"
   },
   {
    "duration": 51,
    "start_time": "2025-03-16T17:14:58.003Z"
   },
   {
    "duration": 23,
    "start_time": "2025-03-16T17:15:00.023Z"
   },
   {
    "duration": 23,
    "start_time": "2025-03-16T17:15:04.433Z"
   },
   {
    "duration": 5,
    "start_time": "2025-03-16T17:15:06.237Z"
   },
   {
    "duration": 4,
    "start_time": "2025-03-16T17:15:06.980Z"
   },
   {
    "duration": 52,
    "start_time": "2025-03-16T17:15:09.294Z"
   },
   {
    "duration": 22,
    "start_time": "2025-03-16T17:15:11.247Z"
   },
   {
    "duration": 4,
    "start_time": "2025-03-16T17:15:13.579Z"
   },
   {
    "duration": 189,
    "start_time": "2025-03-16T17:15:27.192Z"
   },
   {
    "duration": 3357,
    "start_time": "2025-03-16T17:15:27.384Z"
   },
   {
    "duration": 245,
    "start_time": "2025-03-16T17:15:30.743Z"
   },
   {
    "duration": 15,
    "start_time": "2025-03-16T17:15:30.990Z"
   },
   {
    "duration": 33,
    "start_time": "2025-03-16T17:15:31.006Z"
   },
   {
    "duration": 80,
    "start_time": "2025-03-16T17:15:31.041Z"
   },
   {
    "duration": 35,
    "start_time": "2025-03-16T17:15:31.122Z"
   },
   {
    "duration": 43,
    "start_time": "2025-03-16T17:15:31.158Z"
   },
   {
    "duration": 30,
    "start_time": "2025-03-16T17:15:31.202Z"
   },
   {
    "duration": 26,
    "start_time": "2025-03-16T17:15:31.234Z"
   },
   {
    "duration": 33,
    "start_time": "2025-03-16T17:15:31.261Z"
   },
   {
    "duration": 16,
    "start_time": "2025-03-16T17:15:31.295Z"
   },
   {
    "duration": 8,
    "start_time": "2025-03-16T17:15:31.312Z"
   },
   {
    "duration": 31,
    "start_time": "2025-03-16T17:15:31.321Z"
   },
   {
    "duration": 28,
    "start_time": "2025-03-16T17:15:31.354Z"
   },
   {
    "duration": 39,
    "start_time": "2025-03-16T17:15:31.383Z"
   },
   {
    "duration": 80,
    "start_time": "2025-03-16T17:15:31.424Z"
   },
   {
    "duration": 21,
    "start_time": "2025-03-16T17:15:31.506Z"
   },
   {
    "duration": 16,
    "start_time": "2025-03-16T17:15:31.530Z"
   },
   {
    "duration": 47,
    "start_time": "2025-03-16T17:15:31.548Z"
   },
   {
    "duration": 38,
    "start_time": "2025-03-16T17:15:31.597Z"
   },
   {
    "duration": 5,
    "start_time": "2025-03-16T17:15:31.637Z"
   },
   {
    "duration": 7,
    "start_time": "2025-03-16T17:15:31.643Z"
   },
   {
    "duration": 9,
    "start_time": "2025-03-16T17:15:31.652Z"
   },
   {
    "duration": 38,
    "start_time": "2025-03-16T17:15:31.663Z"
   },
   {
    "duration": 34,
    "start_time": "2025-03-16T17:15:31.702Z"
   },
   {
    "duration": 15,
    "start_time": "2025-03-16T17:15:31.737Z"
   },
   {
    "duration": 9,
    "start_time": "2025-03-16T17:15:31.755Z"
   },
   {
    "duration": 18,
    "start_time": "2025-03-16T17:15:31.765Z"
   },
   {
    "duration": 22,
    "start_time": "2025-03-16T17:15:31.784Z"
   },
   {
    "duration": 42,
    "start_time": "2025-03-16T17:15:31.808Z"
   },
   {
    "duration": 9,
    "start_time": "2025-03-16T17:22:42.175Z"
   },
   {
    "duration": 7,
    "start_time": "2025-03-16T17:32:23.041Z"
   },
   {
    "duration": 31,
    "start_time": "2025-03-16T17:32:39.085Z"
   },
   {
    "duration": 8,
    "start_time": "2025-03-16T17:34:04.588Z"
   },
   {
    "duration": 5,
    "start_time": "2025-03-16T17:34:19.882Z"
   },
   {
    "duration": 7,
    "start_time": "2025-03-16T17:34:27.869Z"
   },
   {
    "duration": 23,
    "start_time": "2025-03-16T17:34:53.240Z"
   },
   {
    "duration": 7,
    "start_time": "2025-03-16T17:34:59.048Z"
   },
   {
    "duration": 100,
    "start_time": "2025-03-16T17:41:54.100Z"
   },
   {
    "duration": 9,
    "start_time": "2025-03-16T17:41:58.592Z"
   },
   {
    "duration": 29,
    "start_time": "2025-03-16T17:50:23.955Z"
   },
   {
    "duration": 1039,
    "start_time": "2025-03-16T17:51:03.277Z"
   },
   {
    "duration": 1008,
    "start_time": "2025-03-16T17:51:31.311Z"
   },
   {
    "duration": 23,
    "start_time": "2025-03-16T17:51:40.199Z"
   },
   {
    "duration": 9,
    "start_time": "2025-03-16T17:52:18.288Z"
   },
   {
    "duration": 10,
    "start_time": "2025-03-16T17:52:45.180Z"
   },
   {
    "duration": 11,
    "start_time": "2025-03-16T17:54:51.812Z"
   },
   {
    "duration": 13,
    "start_time": "2025-03-16T17:54:56.911Z"
   },
   {
    "duration": 10,
    "start_time": "2025-03-16T17:55:02.118Z"
   },
   {
    "duration": 1044,
    "start_time": "2025-03-16T17:55:12.798Z"
   },
   {
    "duration": 5,
    "start_time": "2025-03-16T17:55:21.066Z"
   },
   {
    "duration": 1145,
    "start_time": "2025-03-16T17:55:32.818Z"
   },
   {
    "duration": 13,
    "start_time": "2025-03-16T17:55:41.539Z"
   },
   {
    "duration": 4,
    "start_time": "2025-03-16T17:55:52.161Z"
   },
   {
    "duration": 5,
    "start_time": "2025-03-16T17:56:01.470Z"
   },
   {
    "duration": 1088,
    "start_time": "2025-03-16T17:56:43.395Z"
   },
   {
    "duration": 5,
    "start_time": "2025-03-16T17:57:35.791Z"
   },
   {
    "duration": 1094,
    "start_time": "2025-03-16T17:58:13.280Z"
   },
   {
    "duration": 11,
    "start_time": "2025-03-16T17:59:58.020Z"
   },
   {
    "duration": 11,
    "start_time": "2025-03-16T18:00:12.171Z"
   },
   {
    "duration": 6,
    "start_time": "2025-03-16T18:00:57.022Z"
   },
   {
    "duration": 1075,
    "start_time": "2025-03-16T18:06:22.733Z"
   },
   {
    "duration": 12,
    "start_time": "2025-03-16T18:06:47.920Z"
   },
   {
    "duration": 25,
    "start_time": "2025-03-16T18:07:33.079Z"
   },
   {
    "duration": 10,
    "start_time": "2025-03-16T18:08:05.568Z"
   },
   {
    "duration": 20,
    "start_time": "2025-03-16T18:08:48.906Z"
   },
   {
    "duration": 9,
    "start_time": "2025-03-16T18:08:58.474Z"
   },
   {
    "duration": 89,
    "start_time": "2025-03-16T18:09:16.299Z"
   },
   {
    "duration": 148,
    "start_time": "2025-03-16T18:09:24.524Z"
   },
   {
    "duration": 13,
    "start_time": "2025-03-16T18:09:31.440Z"
   },
   {
    "duration": 7,
    "start_time": "2025-03-16T18:09:39.402Z"
   },
   {
    "duration": 25,
    "start_time": "2025-03-16T18:09:54.703Z"
   },
   {
    "duration": 90,
    "start_time": "2025-03-16T18:10:47.719Z"
   },
   {
    "duration": 8,
    "start_time": "2025-03-16T18:11:11.122Z"
   },
   {
    "duration": 9,
    "start_time": "2025-03-16T18:11:20.457Z"
   },
   {
    "duration": 15,
    "start_time": "2025-03-16T18:13:20.047Z"
   },
   {
    "duration": 12,
    "start_time": "2025-03-16T18:13:22.253Z"
   },
   {
    "duration": 10,
    "start_time": "2025-03-16T18:13:30.841Z"
   },
   {
    "duration": 9,
    "start_time": "2025-03-16T18:13:52.279Z"
   },
   {
    "duration": 3,
    "start_time": "2025-03-16T18:23:55.461Z"
   },
   {
    "duration": 7,
    "start_time": "2025-03-16T18:29:22.277Z"
   },
   {
    "duration": 82,
    "start_time": "2025-03-16T18:30:33.830Z"
   },
   {
    "duration": 22,
    "start_time": "2025-03-16T18:32:57.595Z"
   },
   {
    "duration": 22,
    "start_time": "2025-03-16T18:33:20.556Z"
   },
   {
    "duration": 18,
    "start_time": "2025-03-16T18:34:32.795Z"
   },
   {
    "duration": 3,
    "start_time": "2025-03-16T18:35:15.347Z"
   },
   {
    "duration": 17,
    "start_time": "2025-03-16T18:36:36.414Z"
   },
   {
    "duration": 16,
    "start_time": "2025-03-16T18:44:25.435Z"
   },
   {
    "duration": 11,
    "start_time": "2025-03-16T18:45:08.256Z"
   },
   {
    "duration": 10,
    "start_time": "2025-03-16T18:45:13.628Z"
   },
   {
    "duration": 21,
    "start_time": "2025-03-16T18:45:22.175Z"
   },
   {
    "duration": 205,
    "start_time": "2025-03-16T18:46:29.765Z"
   },
   {
    "duration": 3223,
    "start_time": "2025-03-16T18:46:29.972Z"
   },
   {
    "duration": 209,
    "start_time": "2025-03-16T18:46:33.196Z"
   },
   {
    "duration": 17,
    "start_time": "2025-03-16T18:46:33.407Z"
   },
   {
    "duration": 73,
    "start_time": "2025-03-16T18:46:33.426Z"
   },
   {
    "duration": 35,
    "start_time": "2025-03-16T18:46:33.501Z"
   },
   {
    "duration": 10,
    "start_time": "2025-03-16T18:46:33.538Z"
   },
   {
    "duration": 24,
    "start_time": "2025-03-16T18:46:33.549Z"
   },
   {
    "duration": 22,
    "start_time": "2025-03-16T18:46:33.575Z"
   },
   {
    "duration": 17,
    "start_time": "2025-03-16T18:46:33.600Z"
   },
   {
    "duration": 32,
    "start_time": "2025-03-16T18:46:33.618Z"
   },
   {
    "duration": 12,
    "start_time": "2025-03-16T18:46:33.652Z"
   },
   {
    "duration": 3,
    "start_time": "2025-03-16T18:46:33.665Z"
   },
   {
    "duration": 23,
    "start_time": "2025-03-16T18:46:33.670Z"
   },
   {
    "duration": 10,
    "start_time": "2025-03-16T18:46:33.694Z"
   },
   {
    "duration": 45,
    "start_time": "2025-03-16T18:46:33.706Z"
   },
   {
    "duration": 41,
    "start_time": "2025-03-16T18:46:33.752Z"
   },
   {
    "duration": 22,
    "start_time": "2025-03-16T18:46:33.795Z"
   },
   {
    "duration": 19,
    "start_time": "2025-03-16T18:46:33.819Z"
   },
   {
    "duration": 59,
    "start_time": "2025-03-16T18:46:33.840Z"
   },
   {
    "duration": 30,
    "start_time": "2025-03-16T18:46:33.900Z"
   },
   {
    "duration": 24,
    "start_time": "2025-03-16T18:46:33.931Z"
   },
   {
    "duration": 62,
    "start_time": "2025-03-16T18:46:33.956Z"
   },
   {
    "duration": 33,
    "start_time": "2025-03-16T18:46:34.020Z"
   },
   {
    "duration": 5,
    "start_time": "2025-03-16T18:46:34.055Z"
   },
   {
    "duration": 20,
    "start_time": "2025-03-16T18:46:34.061Z"
   },
   {
    "duration": 18,
    "start_time": "2025-03-16T18:46:34.083Z"
   },
   {
    "duration": 34,
    "start_time": "2025-03-16T18:46:34.103Z"
   },
   {
    "duration": 30,
    "start_time": "2025-03-16T18:46:34.139Z"
   },
   {
    "duration": 31,
    "start_time": "2025-03-16T18:46:34.171Z"
   },
   {
    "duration": 19,
    "start_time": "2025-03-16T18:46:34.204Z"
   },
   {
    "duration": 27,
    "start_time": "2025-03-16T18:46:34.225Z"
   },
   {
    "duration": 38,
    "start_time": "2025-03-16T18:46:34.253Z"
   },
   {
    "duration": 36,
    "start_time": "2025-03-16T18:47:00.186Z"
   },
   {
    "duration": 21,
    "start_time": "2025-03-16T18:47:02.469Z"
   },
   {
    "duration": 64,
    "start_time": "2025-03-16T18:47:06.702Z"
   },
   {
    "duration": 21,
    "start_time": "2025-03-16T18:47:08.078Z"
   },
   {
    "duration": 8,
    "start_time": "2025-03-16T18:47:12.529Z"
   },
   {
    "duration": 255,
    "start_time": "2025-03-16T18:47:17.909Z"
   },
   {
    "duration": 3171,
    "start_time": "2025-03-16T18:47:18.166Z"
   },
   {
    "duration": 207,
    "start_time": "2025-03-16T18:47:21.339Z"
   },
   {
    "duration": 16,
    "start_time": "2025-03-16T18:47:21.548Z"
   },
   {
    "duration": 11,
    "start_time": "2025-03-16T18:47:21.565Z"
   },
   {
    "duration": 16,
    "start_time": "2025-03-16T18:47:21.577Z"
   },
   {
    "duration": 9,
    "start_time": "2025-03-16T18:47:21.594Z"
   },
   {
    "duration": 28,
    "start_time": "2025-03-16T18:47:21.604Z"
   },
   {
    "duration": 13,
    "start_time": "2025-03-16T18:47:21.633Z"
   },
   {
    "duration": 15,
    "start_time": "2025-03-16T18:47:21.648Z"
   },
   {
    "duration": 19,
    "start_time": "2025-03-16T18:47:21.665Z"
   },
   {
    "duration": 12,
    "start_time": "2025-03-16T18:47:21.686Z"
   },
   {
    "duration": 38,
    "start_time": "2025-03-16T18:47:21.699Z"
   },
   {
    "duration": 16,
    "start_time": "2025-03-16T18:47:21.738Z"
   },
   {
    "duration": 11,
    "start_time": "2025-03-16T18:47:21.755Z"
   },
   {
    "duration": 11,
    "start_time": "2025-03-16T18:47:21.768Z"
   },
   {
    "duration": 37,
    "start_time": "2025-03-16T18:47:21.780Z"
   },
   {
    "duration": 26,
    "start_time": "2025-03-16T18:47:21.818Z"
   },
   {
    "duration": 14,
    "start_time": "2025-03-16T18:47:21.845Z"
   },
   {
    "duration": 44,
    "start_time": "2025-03-16T18:47:21.861Z"
   },
   {
    "duration": 40,
    "start_time": "2025-03-16T18:47:21.906Z"
   },
   {
    "duration": 10,
    "start_time": "2025-03-16T18:47:21.947Z"
   },
   {
    "duration": 24,
    "start_time": "2025-03-16T18:47:21.959Z"
   },
   {
    "duration": 19,
    "start_time": "2025-03-16T18:47:21.985Z"
   },
   {
    "duration": 9,
    "start_time": "2025-03-16T18:47:22.006Z"
   },
   {
    "duration": 8,
    "start_time": "2025-03-16T18:47:22.016Z"
   },
   {
    "duration": 11,
    "start_time": "2025-03-16T18:47:22.030Z"
   },
   {
    "duration": 28,
    "start_time": "2025-03-16T18:47:22.044Z"
   },
   {
    "duration": 14,
    "start_time": "2025-03-16T18:47:22.074Z"
   },
   {
    "duration": 41,
    "start_time": "2025-03-16T18:47:22.090Z"
   },
   {
    "duration": 10,
    "start_time": "2025-03-16T18:47:22.133Z"
   },
   {
    "duration": 52,
    "start_time": "2025-03-16T18:47:22.145Z"
   },
   {
    "duration": 28,
    "start_time": "2025-03-16T18:47:22.199Z"
   },
   {
    "duration": 17,
    "start_time": "2025-03-16T18:48:45.358Z"
   },
   {
    "duration": 258,
    "start_time": "2025-03-16T18:48:51.702Z"
   },
   {
    "duration": 3310,
    "start_time": "2025-03-16T18:48:51.962Z"
   },
   {
    "duration": 217,
    "start_time": "2025-03-16T18:48:55.274Z"
   },
   {
    "duration": 15,
    "start_time": "2025-03-16T18:48:55.493Z"
   },
   {
    "duration": 10,
    "start_time": "2025-03-16T18:48:55.510Z"
   },
   {
    "duration": 17,
    "start_time": "2025-03-16T18:48:55.522Z"
   },
   {
    "duration": 8,
    "start_time": "2025-03-16T18:48:55.540Z"
   },
   {
    "duration": 8,
    "start_time": "2025-03-16T18:48:55.550Z"
   },
   {
    "duration": 10,
    "start_time": "2025-03-16T18:48:55.560Z"
   },
   {
    "duration": 16,
    "start_time": "2025-03-16T18:48:55.572Z"
   },
   {
    "duration": 49,
    "start_time": "2025-03-16T18:48:55.590Z"
   },
   {
    "duration": 13,
    "start_time": "2025-03-16T18:48:55.641Z"
   },
   {
    "duration": 3,
    "start_time": "2025-03-16T18:48:55.655Z"
   },
   {
    "duration": 4,
    "start_time": "2025-03-16T18:48:55.660Z"
   },
   {
    "duration": 9,
    "start_time": "2025-03-16T18:48:55.665Z"
   },
   {
    "duration": 10,
    "start_time": "2025-03-16T18:48:55.675Z"
   },
   {
    "duration": 75,
    "start_time": "2025-03-16T18:48:55.686Z"
   },
   {
    "duration": 22,
    "start_time": "2025-03-16T18:48:55.762Z"
   },
   {
    "duration": 15,
    "start_time": "2025-03-16T18:48:55.786Z"
   },
   {
    "duration": 38,
    "start_time": "2025-03-16T18:48:55.803Z"
   },
   {
    "duration": 44,
    "start_time": "2025-03-16T18:48:55.842Z"
   },
   {
    "duration": 19,
    "start_time": "2025-03-16T18:48:55.888Z"
   },
   {
    "duration": 24,
    "start_time": "2025-03-16T18:48:55.909Z"
   },
   {
    "duration": 21,
    "start_time": "2025-03-16T18:48:55.935Z"
   },
   {
    "duration": 6,
    "start_time": "2025-03-16T18:48:55.958Z"
   },
   {
    "duration": 20,
    "start_time": "2025-03-16T18:48:55.965Z"
   },
   {
    "duration": 7,
    "start_time": "2025-03-16T18:48:55.987Z"
   },
   {
    "duration": 10,
    "start_time": "2025-03-16T18:48:55.997Z"
   },
   {
    "duration": 42,
    "start_time": "2025-03-16T18:48:56.008Z"
   },
   {
    "duration": 12,
    "start_time": "2025-03-16T18:48:56.052Z"
   },
   {
    "duration": 14,
    "start_time": "2025-03-16T18:48:56.066Z"
   },
   {
    "duration": 8,
    "start_time": "2025-03-16T18:48:56.081Z"
   },
   {
    "duration": 9,
    "start_time": "2025-03-16T18:48:56.091Z"
   },
   {
    "duration": 22,
    "start_time": "2025-03-16T18:48:56.130Z"
   },
   {
    "duration": 113,
    "start_time": "2025-03-16T18:53:35.060Z"
   },
   {
    "duration": 3,
    "start_time": "2025-03-16T18:54:04.547Z"
   },
   {
    "duration": 19,
    "start_time": "2025-03-16T18:54:11.393Z"
   },
   {
    "duration": 8,
    "start_time": "2025-03-16T18:54:49.626Z"
   },
   {
    "duration": 2692,
    "start_time": "2025-03-16T18:57:05.700Z"
   },
   {
    "duration": 21,
    "start_time": "2025-03-16T18:57:21.291Z"
   },
   {
    "duration": 85,
    "start_time": "2025-03-16T18:57:36.558Z"
   },
   {
    "duration": 22,
    "start_time": "2025-03-16T18:57:39.109Z"
   },
   {
    "duration": 189,
    "start_time": "2025-03-16T18:57:51.183Z"
   },
   {
    "duration": 3474,
    "start_time": "2025-03-16T18:57:51.374Z"
   },
   {
    "duration": 176,
    "start_time": "2025-03-16T18:57:54.850Z"
   },
   {
    "duration": 15,
    "start_time": "2025-03-16T18:57:55.028Z"
   },
   {
    "duration": 22,
    "start_time": "2025-03-16T18:57:55.044Z"
   },
   {
    "duration": 18,
    "start_time": "2025-03-16T18:57:55.067Z"
   },
   {
    "duration": 9,
    "start_time": "2025-03-16T18:57:55.087Z"
   },
   {
    "duration": 45,
    "start_time": "2025-03-16T18:57:55.098Z"
   },
   {
    "duration": 16,
    "start_time": "2025-03-16T18:57:55.144Z"
   },
   {
    "duration": 54,
    "start_time": "2025-03-16T18:57:55.162Z"
   },
   {
    "duration": 26,
    "start_time": "2025-03-16T18:57:55.218Z"
   },
   {
    "duration": 12,
    "start_time": "2025-03-16T18:57:55.245Z"
   },
   {
    "duration": 4,
    "start_time": "2025-03-16T18:57:55.258Z"
   },
   {
    "duration": 5,
    "start_time": "2025-03-16T18:57:55.263Z"
   },
   {
    "duration": 8,
    "start_time": "2025-03-16T18:57:55.269Z"
   },
   {
    "duration": 9,
    "start_time": "2025-03-16T18:57:55.278Z"
   },
   {
    "duration": 74,
    "start_time": "2025-03-16T18:57:55.289Z"
   },
   {
    "duration": 21,
    "start_time": "2025-03-16T18:57:55.365Z"
   },
   {
    "duration": 16,
    "start_time": "2025-03-16T18:57:55.387Z"
   },
   {
    "duration": 79,
    "start_time": "2025-03-16T18:57:55.405Z"
   },
   {
    "duration": 0,
    "start_time": "2025-03-16T18:57:55.485Z"
   },
   {
    "duration": 0,
    "start_time": "2025-03-16T18:57:55.486Z"
   },
   {
    "duration": 0,
    "start_time": "2025-03-16T18:57:55.487Z"
   },
   {
    "duration": 0,
    "start_time": "2025-03-16T18:57:55.489Z"
   },
   {
    "duration": 0,
    "start_time": "2025-03-16T18:57:55.489Z"
   },
   {
    "duration": 0,
    "start_time": "2025-03-16T18:57:55.490Z"
   },
   {
    "duration": 0,
    "start_time": "2025-03-16T18:57:55.491Z"
   },
   {
    "duration": 0,
    "start_time": "2025-03-16T18:57:55.492Z"
   },
   {
    "duration": 0,
    "start_time": "2025-03-16T18:57:55.493Z"
   },
   {
    "duration": 0,
    "start_time": "2025-03-16T18:57:55.494Z"
   },
   {
    "duration": 0,
    "start_time": "2025-03-16T18:57:55.495Z"
   },
   {
    "duration": 0,
    "start_time": "2025-03-16T18:57:55.496Z"
   },
   {
    "duration": 0,
    "start_time": "2025-03-16T18:57:55.497Z"
   },
   {
    "duration": 0,
    "start_time": "2025-03-16T18:57:55.498Z"
   },
   {
    "duration": 0,
    "start_time": "2025-03-16T18:57:55.498Z"
   },
   {
    "duration": 0,
    "start_time": "2025-03-16T18:57:55.499Z"
   },
   {
    "duration": 0,
    "start_time": "2025-03-16T18:57:55.500Z"
   },
   {
    "duration": 230,
    "start_time": "2025-03-16T18:58:17.641Z"
   },
   {
    "duration": 3395,
    "start_time": "2025-03-16T18:58:17.872Z"
   },
   {
    "duration": 241,
    "start_time": "2025-03-16T18:58:21.269Z"
   },
   {
    "duration": 17,
    "start_time": "2025-03-16T18:58:21.512Z"
   },
   {
    "duration": 10,
    "start_time": "2025-03-16T18:58:21.531Z"
   },
   {
    "duration": 13,
    "start_time": "2025-03-16T18:58:21.543Z"
   },
   {
    "duration": 9,
    "start_time": "2025-03-16T18:58:21.557Z"
   },
   {
    "duration": 26,
    "start_time": "2025-03-16T18:58:21.567Z"
   },
   {
    "duration": 10,
    "start_time": "2025-03-16T18:58:21.595Z"
   },
   {
    "duration": 34,
    "start_time": "2025-03-16T18:58:21.608Z"
   },
   {
    "duration": 24,
    "start_time": "2025-03-16T18:58:21.644Z"
   },
   {
    "duration": 14,
    "start_time": "2025-03-16T18:58:21.670Z"
   },
   {
    "duration": 5,
    "start_time": "2025-03-16T18:58:21.686Z"
   },
   {
    "duration": 5,
    "start_time": "2025-03-16T18:58:21.692Z"
   },
   {
    "duration": 9,
    "start_time": "2025-03-16T18:58:21.731Z"
   },
   {
    "duration": 20,
    "start_time": "2025-03-16T18:58:21.742Z"
   },
   {
    "duration": 38,
    "start_time": "2025-03-16T18:58:21.763Z"
   },
   {
    "duration": 40,
    "start_time": "2025-03-16T18:58:21.803Z"
   },
   {
    "duration": 15,
    "start_time": "2025-03-16T18:58:21.845Z"
   },
   {
    "duration": 14,
    "start_time": "2025-03-16T18:58:21.862Z"
   },
   {
    "duration": 69,
    "start_time": "2025-03-16T18:58:21.878Z"
   },
   {
    "duration": 21,
    "start_time": "2025-03-16T18:58:21.948Z"
   },
   {
    "duration": 7,
    "start_time": "2025-03-16T18:58:21.971Z"
   },
   {
    "duration": 20,
    "start_time": "2025-03-16T18:58:21.979Z"
   },
   {
    "duration": 42,
    "start_time": "2025-03-16T18:58:22.001Z"
   },
   {
    "duration": 9,
    "start_time": "2025-03-16T18:58:22.045Z"
   },
   {
    "duration": 2508,
    "start_time": "2025-03-16T18:58:22.055Z"
   },
   {
    "duration": 20,
    "start_time": "2025-03-16T18:58:24.566Z"
   },
   {
    "duration": 6,
    "start_time": "2025-03-16T18:58:24.587Z"
   },
   {
    "duration": 10,
    "start_time": "2025-03-16T18:58:24.594Z"
   },
   {
    "duration": 48,
    "start_time": "2025-03-16T18:58:24.605Z"
   },
   {
    "duration": 20,
    "start_time": "2025-03-16T18:58:24.655Z"
   },
   {
    "duration": 15,
    "start_time": "2025-03-16T18:58:24.676Z"
   },
   {
    "duration": 9,
    "start_time": "2025-03-16T18:58:24.692Z"
   },
   {
    "duration": 35,
    "start_time": "2025-03-16T18:58:24.702Z"
   },
   {
    "duration": 22,
    "start_time": "2025-03-16T18:58:24.739Z"
   },
   {
    "duration": 8,
    "start_time": "2025-03-16T18:58:52.104Z"
   },
   {
    "duration": 102,
    "start_time": "2025-03-16T19:03:47.105Z"
   },
   {
    "duration": 10,
    "start_time": "2025-03-16T19:03:53.282Z"
   },
   {
    "duration": 184,
    "start_time": "2025-03-16T19:03:59.088Z"
   },
   {
    "duration": 3313,
    "start_time": "2025-03-16T19:03:59.274Z"
   },
   {
    "duration": 265,
    "start_time": "2025-03-16T19:04:02.588Z"
   },
   {
    "duration": 15,
    "start_time": "2025-03-16T19:04:02.855Z"
   },
   {
    "duration": 72,
    "start_time": "2025-03-16T19:04:02.872Z"
   },
   {
    "duration": 18,
    "start_time": "2025-03-16T19:04:02.946Z"
   },
   {
    "duration": 9,
    "start_time": "2025-03-16T19:04:02.965Z"
   },
   {
    "duration": 33,
    "start_time": "2025-03-16T19:04:02.976Z"
   },
   {
    "duration": 26,
    "start_time": "2025-03-16T19:04:03.010Z"
   },
   {
    "duration": 106,
    "start_time": "2025-03-16T19:04:03.039Z"
   },
   {
    "duration": 0,
    "start_time": "2025-03-16T19:04:03.147Z"
   },
   {
    "duration": 0,
    "start_time": "2025-03-16T19:04:03.148Z"
   },
   {
    "duration": 0,
    "start_time": "2025-03-16T19:04:03.149Z"
   },
   {
    "duration": 0,
    "start_time": "2025-03-16T19:04:03.150Z"
   },
   {
    "duration": 0,
    "start_time": "2025-03-16T19:04:03.151Z"
   },
   {
    "duration": 0,
    "start_time": "2025-03-16T19:04:03.152Z"
   },
   {
    "duration": 0,
    "start_time": "2025-03-16T19:04:03.153Z"
   },
   {
    "duration": 0,
    "start_time": "2025-03-16T19:04:03.154Z"
   },
   {
    "duration": 0,
    "start_time": "2025-03-16T19:04:03.155Z"
   },
   {
    "duration": 0,
    "start_time": "2025-03-16T19:04:03.155Z"
   },
   {
    "duration": 1,
    "start_time": "2025-03-16T19:04:03.156Z"
   },
   {
    "duration": 0,
    "start_time": "2025-03-16T19:04:03.157Z"
   },
   {
    "duration": 0,
    "start_time": "2025-03-16T19:04:03.158Z"
   },
   {
    "duration": 0,
    "start_time": "2025-03-16T19:04:03.160Z"
   },
   {
    "duration": 0,
    "start_time": "2025-03-16T19:04:03.160Z"
   },
   {
    "duration": 0,
    "start_time": "2025-03-16T19:04:03.161Z"
   },
   {
    "duration": 0,
    "start_time": "2025-03-16T19:04:03.162Z"
   },
   {
    "duration": 0,
    "start_time": "2025-03-16T19:04:03.163Z"
   },
   {
    "duration": 0,
    "start_time": "2025-03-16T19:04:03.164Z"
   },
   {
    "duration": 0,
    "start_time": "2025-03-16T19:04:03.165Z"
   },
   {
    "duration": 0,
    "start_time": "2025-03-16T19:04:03.166Z"
   },
   {
    "duration": 0,
    "start_time": "2025-03-16T19:04:03.167Z"
   },
   {
    "duration": 0,
    "start_time": "2025-03-16T19:04:03.168Z"
   },
   {
    "duration": 221,
    "start_time": "2025-03-16T19:04:56.850Z"
   },
   {
    "duration": 3284,
    "start_time": "2025-03-16T19:04:57.072Z"
   },
   {
    "duration": 219,
    "start_time": "2025-03-16T19:05:00.359Z"
   },
   {
    "duration": 15,
    "start_time": "2025-03-16T19:05:00.581Z"
   },
   {
    "duration": 13,
    "start_time": "2025-03-16T19:05:00.598Z"
   },
   {
    "duration": 24,
    "start_time": "2025-03-16T19:05:00.612Z"
   },
   {
    "duration": 17,
    "start_time": "2025-03-16T19:05:00.637Z"
   },
   {
    "duration": 38,
    "start_time": "2025-03-16T19:05:00.656Z"
   },
   {
    "duration": 24,
    "start_time": "2025-03-16T19:05:00.695Z"
   },
   {
    "duration": 19,
    "start_time": "2025-03-16T19:05:00.722Z"
   },
   {
    "duration": 26,
    "start_time": "2025-03-16T19:05:00.743Z"
   },
   {
    "duration": 69,
    "start_time": "2025-03-16T19:05:00.771Z"
   },
   {
    "duration": 90,
    "start_time": "2025-03-16T19:05:00.841Z"
   },
   {
    "duration": 17,
    "start_time": "2025-03-16T19:05:00.932Z"
   },
   {
    "duration": 15,
    "start_time": "2025-03-16T19:05:00.950Z"
   },
   {
    "duration": 25,
    "start_time": "2025-03-16T19:05:00.967Z"
   },
   {
    "duration": 51,
    "start_time": "2025-03-16T19:05:00.993Z"
   },
   {
    "duration": 22,
    "start_time": "2025-03-16T19:05:01.045Z"
   },
   {
    "duration": 20,
    "start_time": "2025-03-16T19:05:01.069Z"
   },
   {
    "duration": 21,
    "start_time": "2025-03-16T19:05:01.091Z"
   },
   {
    "duration": 237,
    "start_time": "2025-03-16T19:05:01.131Z"
   },
   {
    "duration": 17,
    "start_time": "2025-03-16T19:05:01.370Z"
   },
   {
    "duration": 27,
    "start_time": "2025-03-16T19:05:01.389Z"
   },
   {
    "duration": 20,
    "start_time": "2025-03-16T19:05:01.418Z"
   },
   {
    "duration": 26,
    "start_time": "2025-03-16T19:05:01.440Z"
   },
   {
    "duration": 93,
    "start_time": "2025-03-16T19:05:01.467Z"
   },
   {
    "duration": 31,
    "start_time": "2025-03-16T19:05:01.562Z"
   },
   {
    "duration": 31,
    "start_time": "2025-03-16T19:05:01.595Z"
   },
   {
    "duration": 34,
    "start_time": "2025-03-16T19:05:01.628Z"
   },
   {
    "duration": 17,
    "start_time": "2025-03-16T19:05:01.663Z"
   },
   {
    "duration": 27,
    "start_time": "2025-03-16T19:05:01.681Z"
   },
   {
    "duration": 23,
    "start_time": "2025-03-16T19:05:01.710Z"
   },
   {
    "duration": 33,
    "start_time": "2025-03-16T19:05:01.735Z"
   },
   {
    "duration": 1344,
    "start_time": "2025-03-16T19:27:09.022Z"
   },
   {
    "duration": 6,
    "start_time": "2025-03-16T19:27:16.714Z"
   },
   {
    "duration": 1322,
    "start_time": "2025-03-16T19:30:52.108Z"
   },
   {
    "duration": 165,
    "start_time": "2025-03-16T19:31:02.231Z"
   },
   {
    "duration": 125,
    "start_time": "2025-03-16T19:31:16.715Z"
   },
   {
    "duration": 88,
    "start_time": "2025-03-16T19:31:20.922Z"
   },
   {
    "duration": 80,
    "start_time": "2025-03-16T19:31:25.039Z"
   },
   {
    "duration": 168,
    "start_time": "2025-03-16T19:31:31.748Z"
   },
   {
    "duration": 172,
    "start_time": "2025-03-16T19:37:48.223Z"
   },
   {
    "duration": 217,
    "start_time": "2025-03-16T19:44:54.163Z"
   },
   {
    "duration": 220,
    "start_time": "2025-03-16T19:45:02.630Z"
   },
   {
    "duration": 238,
    "start_time": "2025-03-16T19:45:08.184Z"
   },
   {
    "duration": 224,
    "start_time": "2025-03-16T19:45:14.645Z"
   },
   {
    "duration": 6,
    "start_time": "2025-03-16T19:45:38.066Z"
   },
   {
    "duration": 326,
    "start_time": "2025-03-16T19:45:46.773Z"
   },
   {
    "duration": 387,
    "start_time": "2025-03-16T19:47:35.427Z"
   },
   {
    "duration": 354,
    "start_time": "2025-03-16T19:47:39.368Z"
   },
   {
    "duration": 351,
    "start_time": "2025-03-16T19:47:50.686Z"
   },
   {
    "duration": 318,
    "start_time": "2025-03-16T19:47:54.892Z"
   },
   {
    "duration": 344,
    "start_time": "2025-03-16T19:48:03.272Z"
   },
   {
    "duration": 95,
    "start_time": "2025-03-16T19:48:22.581Z"
   },
   {
    "duration": 15,
    "start_time": "2025-03-16T19:48:45.770Z"
   },
   {
    "duration": 10,
    "start_time": "2025-03-16T19:49:16.597Z"
   },
   {
    "duration": 359,
    "start_time": "2025-03-16T19:49:22.304Z"
   },
   {
    "duration": 359,
    "start_time": "2025-03-16T19:49:54.022Z"
   },
   {
    "duration": 370,
    "start_time": "2025-03-16T19:49:58.296Z"
   },
   {
    "duration": 382,
    "start_time": "2025-03-16T19:50:01.474Z"
   },
   {
    "duration": 335,
    "start_time": "2025-03-16T19:50:18.127Z"
   },
   {
    "duration": 6,
    "start_time": "2025-03-16T19:54:24.943Z"
   },
   {
    "duration": 5,
    "start_time": "2025-03-16T19:54:57.327Z"
   },
   {
    "duration": 1130,
    "start_time": "2025-03-16T19:55:00.379Z"
   },
   {
    "duration": 5,
    "start_time": "2025-03-16T19:55:15.675Z"
   },
   {
    "duration": 1143,
    "start_time": "2025-03-16T19:55:16.409Z"
   },
   {
    "duration": 424,
    "start_time": "2025-03-16T19:55:38.806Z"
   },
   {
    "duration": 345,
    "start_time": "2025-03-16T19:59:55.207Z"
   },
   {
    "duration": 351,
    "start_time": "2025-03-16T20:00:16.640Z"
   },
   {
    "duration": 6,
    "start_time": "2025-03-16T20:05:40.866Z"
   },
   {
    "duration": 98,
    "start_time": "2025-03-16T20:05:53.543Z"
   },
   {
    "duration": 345,
    "start_time": "2025-03-16T20:05:57.648Z"
   },
   {
    "duration": 6,
    "start_time": "2025-03-16T20:06:08.709Z"
   },
   {
    "duration": 347,
    "start_time": "2025-03-16T20:11:18.330Z"
   },
   {
    "duration": 372,
    "start_time": "2025-03-16T20:11:22.566Z"
   },
   {
    "duration": 172,
    "start_time": "2025-03-16T20:11:42.880Z"
   },
   {
    "duration": 16,
    "start_time": "2025-03-16T20:19:08.182Z"
   },
   {
    "duration": 18,
    "start_time": "2025-03-16T20:19:47.445Z"
   },
   {
    "duration": 16,
    "start_time": "2025-03-16T20:20:11.866Z"
   },
   {
    "duration": 7,
    "start_time": "2025-03-16T20:20:42.021Z"
   },
   {
    "duration": 7,
    "start_time": "2025-03-16T20:21:05.311Z"
   },
   {
    "duration": 321,
    "start_time": "2025-03-16T20:23:59.999Z"
   },
   {
    "duration": 332,
    "start_time": "2025-03-16T20:24:10.300Z"
   },
   {
    "duration": 338,
    "start_time": "2025-03-16T20:24:26.821Z"
   },
   {
    "duration": 349,
    "start_time": "2025-03-16T20:24:48.072Z"
   },
   {
    "duration": 8,
    "start_time": "2025-03-16T20:26:07.908Z"
   },
   {
    "duration": 6,
    "start_time": "2025-03-16T20:32:09.922Z"
   },
   {
    "duration": 363,
    "start_time": "2025-03-16T20:34:33.679Z"
   },
   {
    "duration": 87,
    "start_time": "2025-03-16T20:34:42.492Z"
   },
   {
    "duration": 238,
    "start_time": "2025-03-16T20:34:46.642Z"
   },
   {
    "duration": 274,
    "start_time": "2025-03-16T20:39:43.372Z"
   },
   {
    "duration": 126,
    "start_time": "2025-03-16T20:40:00.453Z"
   },
   {
    "duration": 264,
    "start_time": "2025-03-16T20:40:04.617Z"
   },
   {
    "duration": 239,
    "start_time": "2025-03-16T20:40:17.543Z"
   },
   {
    "duration": 248,
    "start_time": "2025-03-16T20:40:23.637Z"
   },
   {
    "duration": 210,
    "start_time": "2025-03-16T20:40:30.868Z"
   },
   {
    "duration": 5,
    "start_time": "2025-03-16T20:43:03.594Z"
   },
   {
    "duration": 8,
    "start_time": "2025-03-16T20:43:10.455Z"
   },
   {
    "duration": 11,
    "start_time": "2025-03-16T20:43:35.053Z"
   },
   {
    "duration": 244,
    "start_time": "2025-03-16T20:46:01.553Z"
   },
   {
    "duration": 7,
    "start_time": "2025-03-16T20:47:03.397Z"
   },
   {
    "duration": 9,
    "start_time": "2025-03-16T20:47:19.269Z"
   },
   {
    "duration": 91,
    "start_time": "2025-03-16T20:47:22.703Z"
   },
   {
    "duration": 219,
    "start_time": "2025-03-16T20:47:30.811Z"
   },
   {
    "duration": 250,
    "start_time": "2025-03-16T20:47:43.654Z"
   },
   {
    "duration": 258,
    "start_time": "2025-03-16T20:47:51.426Z"
   },
   {
    "duration": 329,
    "start_time": "2025-03-16T20:48:03.551Z"
   },
   {
    "duration": 247,
    "start_time": "2025-03-16T20:48:24.620Z"
   },
   {
    "duration": 229,
    "start_time": "2025-03-16T20:48:31.419Z"
   },
   {
    "duration": 11,
    "start_time": "2025-03-16T20:56:47.329Z"
   },
   {
    "duration": 130,
    "start_time": "2025-03-16T21:01:03.358Z"
   },
   {
    "duration": 126,
    "start_time": "2025-03-16T21:14:12.289Z"
   },
   {
    "duration": 139,
    "start_time": "2025-03-16T21:15:34.970Z"
   },
   {
    "duration": 147,
    "start_time": "2025-03-16T21:15:49.834Z"
   },
   {
    "duration": 182,
    "start_time": "2025-03-16T21:17:10.195Z"
   },
   {
    "duration": 157,
    "start_time": "2025-03-16T21:17:14.257Z"
   },
   {
    "duration": 164,
    "start_time": "2025-03-16T21:18:26.253Z"
   },
   {
    "duration": 272,
    "start_time": "2025-03-16T21:18:46.431Z"
   },
   {
    "duration": 384,
    "start_time": "2025-03-16T21:19:21.427Z"
   },
   {
    "duration": 117,
    "start_time": "2025-03-16T21:21:06.179Z"
   },
   {
    "duration": 180,
    "start_time": "2025-03-16T21:22:36.023Z"
   },
   {
    "duration": 303,
    "start_time": "2025-03-16T21:22:50.482Z"
   },
   {
    "duration": 13,
    "start_time": "2025-03-16T21:27:43.010Z"
   },
   {
    "duration": 13,
    "start_time": "2025-03-16T21:29:21.772Z"
   },
   {
    "duration": 793,
    "start_time": "2025-03-16T21:29:38.722Z"
   },
   {
    "duration": 15,
    "start_time": "2025-03-16T21:29:50.430Z"
   },
   {
    "duration": 11,
    "start_time": "2025-03-16T21:31:19.082Z"
   },
   {
    "duration": 9,
    "start_time": "2025-03-16T21:32:57.799Z"
   },
   {
    "duration": 9,
    "start_time": "2025-03-16T21:34:02.388Z"
   },
   {
    "duration": 139,
    "start_time": "2025-03-16T21:38:42.418Z"
   },
   {
    "duration": 12,
    "start_time": "2025-03-16T21:39:02.683Z"
   },
   {
    "duration": 135,
    "start_time": "2025-03-16T21:39:25.931Z"
   },
   {
    "duration": 132,
    "start_time": "2025-03-16T21:39:38.094Z"
   },
   {
    "duration": 145,
    "start_time": "2025-03-16T21:40:10.751Z"
   },
   {
    "duration": 145,
    "start_time": "2025-03-16T21:40:25.813Z"
   },
   {
    "duration": 7,
    "start_time": "2025-03-16T21:48:36.149Z"
   },
   {
    "duration": 7,
    "start_time": "2025-03-16T21:49:53.491Z"
   },
   {
    "duration": 8,
    "start_time": "2025-03-16T21:50:06.064Z"
   },
   {
    "duration": 8,
    "start_time": "2025-03-16T21:50:11.144Z"
   },
   {
    "duration": 334,
    "start_time": "2025-03-16T21:52:05.291Z"
   },
   {
    "duration": 116,
    "start_time": "2025-03-16T21:53:19.803Z"
   },
   {
    "duration": 216,
    "start_time": "2025-03-16T21:53:22.295Z"
   },
   {
    "duration": 148,
    "start_time": "2025-03-16T21:57:13.399Z"
   },
   {
    "duration": 13,
    "start_time": "2025-03-16T21:58:07.057Z"
   },
   {
    "duration": 13,
    "start_time": "2025-03-16T21:58:15.044Z"
   },
   {
    "duration": 148,
    "start_time": "2025-03-16T21:58:20.355Z"
   },
   {
    "duration": 112,
    "start_time": "2025-03-16T22:00:11.675Z"
   },
   {
    "duration": 143,
    "start_time": "2025-03-16T22:00:16.938Z"
   },
   {
    "duration": 159,
    "start_time": "2025-03-16T22:00:21.758Z"
   },
   {
    "duration": 155,
    "start_time": "2025-03-16T22:00:25.100Z"
   },
   {
    "duration": 143,
    "start_time": "2025-03-16T22:00:28.782Z"
   },
   {
    "duration": 160,
    "start_time": "2025-03-16T22:00:32.432Z"
   },
   {
    "duration": 141,
    "start_time": "2025-03-16T22:00:37.274Z"
   },
   {
    "duration": 153,
    "start_time": "2025-03-16T22:00:42.884Z"
   },
   {
    "duration": 146,
    "start_time": "2025-03-16T22:01:14.395Z"
   },
   {
    "duration": 154,
    "start_time": "2025-03-16T22:01:29.740Z"
   },
   {
    "duration": 155,
    "start_time": "2025-03-16T22:01:33.761Z"
   },
   {
    "duration": 273,
    "start_time": "2025-03-16T22:01:54.918Z"
   },
   {
    "duration": 7,
    "start_time": "2025-03-16T22:04:27.700Z"
   },
   {
    "duration": 11,
    "start_time": "2025-03-16T22:04:53.229Z"
   },
   {
    "duration": 10,
    "start_time": "2025-03-16T22:05:02.154Z"
   },
   {
    "duration": 183,
    "start_time": "2025-03-16T22:05:08.119Z"
   },
   {
    "duration": 13,
    "start_time": "2025-03-16T22:06:03.880Z"
   },
   {
    "duration": 171,
    "start_time": "2025-03-16T22:06:11.670Z"
   },
   {
    "duration": 170,
    "start_time": "2025-03-16T22:07:13.798Z"
   },
   {
    "duration": 169,
    "start_time": "2025-03-16T22:07:30.219Z"
   },
   {
    "duration": 172,
    "start_time": "2025-03-16T22:07:36.169Z"
   },
   {
    "duration": 160,
    "start_time": "2025-03-16T22:07:42.949Z"
   },
   {
    "duration": 166,
    "start_time": "2025-03-16T22:07:47.874Z"
   },
   {
    "duration": 171,
    "start_time": "2025-03-16T22:10:35.372Z"
   },
   {
    "duration": 165,
    "start_time": "2025-03-16T22:10:40.619Z"
   },
   {
    "duration": 173,
    "start_time": "2025-03-16T22:10:47.207Z"
   },
   {
    "duration": 174,
    "start_time": "2025-03-16T22:10:52.462Z"
   },
   {
    "duration": 163,
    "start_time": "2025-03-16T22:11:12.155Z"
   },
   {
    "duration": 10,
    "start_time": "2025-03-16T22:12:29.078Z"
   },
   {
    "duration": 10,
    "start_time": "2025-03-16T22:13:09.667Z"
   },
   {
    "duration": 4,
    "start_time": "2025-03-16T22:13:12.554Z"
   },
   {
    "duration": 10,
    "start_time": "2025-03-16T22:13:31.443Z"
   },
   {
    "duration": 5,
    "start_time": "2025-03-16T22:13:37.553Z"
   },
   {
    "duration": 171,
    "start_time": "2025-03-16T22:14:58.119Z"
   },
   {
    "duration": 155,
    "start_time": "2025-03-16T22:15:58.033Z"
   },
   {
    "duration": 265,
    "start_time": "2025-03-16T22:16:02.766Z"
   },
   {
    "duration": 143,
    "start_time": "2025-03-16T22:16:14.746Z"
   },
   {
    "duration": 169,
    "start_time": "2025-03-16T22:16:51.538Z"
   },
   {
    "duration": 169,
    "start_time": "2025-03-16T22:18:13.385Z"
   },
   {
    "duration": 10,
    "start_time": "2025-03-16T22:23:01.300Z"
   },
   {
    "duration": 9,
    "start_time": "2025-03-16T22:23:59.472Z"
   },
   {
    "duration": 4,
    "start_time": "2025-03-16T22:24:04.707Z"
   },
   {
    "duration": 11,
    "start_time": "2025-03-16T22:26:02.539Z"
   },
   {
    "duration": 4,
    "start_time": "2025-03-16T22:26:17.935Z"
   },
   {
    "duration": 4,
    "start_time": "2025-03-16T22:26:18.908Z"
   },
   {
    "duration": 229,
    "start_time": "2025-03-16T22:29:42.644Z"
   },
   {
    "duration": 3256,
    "start_time": "2025-03-16T22:29:42.875Z"
   },
   {
    "duration": 202,
    "start_time": "2025-03-16T22:29:46.133Z"
   },
   {
    "duration": 16,
    "start_time": "2025-03-16T22:29:46.337Z"
   },
   {
    "duration": 10,
    "start_time": "2025-03-16T22:29:46.354Z"
   },
   {
    "duration": 14,
    "start_time": "2025-03-16T22:29:46.366Z"
   },
   {
    "duration": 9,
    "start_time": "2025-03-16T22:29:46.381Z"
   },
   {
    "duration": 9,
    "start_time": "2025-03-16T22:29:46.391Z"
   },
   {
    "duration": 12,
    "start_time": "2025-03-16T22:29:46.430Z"
   },
   {
    "duration": 10,
    "start_time": "2025-03-16T22:29:46.444Z"
   },
   {
    "duration": 23,
    "start_time": "2025-03-16T22:29:46.455Z"
   },
   {
    "duration": 12,
    "start_time": "2025-03-16T22:29:46.480Z"
   },
   {
    "duration": 12,
    "start_time": "2025-03-16T22:29:46.493Z"
   },
   {
    "duration": 5,
    "start_time": "2025-03-16T22:29:46.530Z"
   },
   {
    "duration": 9,
    "start_time": "2025-03-16T22:29:46.536Z"
   },
   {
    "duration": 10,
    "start_time": "2025-03-16T22:29:46.546Z"
   },
   {
    "duration": 56,
    "start_time": "2025-03-16T22:29:46.557Z"
   },
   {
    "duration": 36,
    "start_time": "2025-03-16T22:29:46.615Z"
   },
   {
    "duration": 15,
    "start_time": "2025-03-16T22:29:46.653Z"
   },
   {
    "duration": 17,
    "start_time": "2025-03-16T22:29:46.669Z"
   },
   {
    "duration": 69,
    "start_time": "2025-03-16T22:29:46.687Z"
   },
   {
    "duration": 8,
    "start_time": "2025-03-16T22:29:46.758Z"
   },
   {
    "duration": 22,
    "start_time": "2025-03-16T22:29:46.767Z"
   },
   {
    "duration": 15,
    "start_time": "2025-03-16T22:29:46.790Z"
   },
   {
    "duration": 8,
    "start_time": "2025-03-16T22:29:46.830Z"
   },
   {
    "duration": 6,
    "start_time": "2025-03-16T22:29:46.839Z"
   },
   {
    "duration": 9,
    "start_time": "2025-03-16T22:29:46.847Z"
   },
   {
    "duration": 30,
    "start_time": "2025-03-16T22:29:46.860Z"
   },
   {
    "duration": 40,
    "start_time": "2025-03-16T22:29:46.891Z"
   },
   {
    "duration": 16,
    "start_time": "2025-03-16T22:29:46.932Z"
   },
   {
    "duration": 9,
    "start_time": "2025-03-16T22:29:46.949Z"
   },
   {
    "duration": 10,
    "start_time": "2025-03-16T22:29:46.959Z"
   },
   {
    "duration": 22,
    "start_time": "2025-03-16T22:29:46.971Z"
   },
   {
    "duration": 39,
    "start_time": "2025-03-16T22:29:46.994Z"
   },
   {
    "duration": 182,
    "start_time": "2025-03-16T22:29:47.034Z"
   },
   {
    "duration": 13,
    "start_time": "2025-03-16T22:29:47.217Z"
   },
   {
    "duration": 387,
    "start_time": "2025-03-16T22:29:47.232Z"
   },
   {
    "duration": 14,
    "start_time": "2025-03-16T22:29:47.621Z"
   },
   {
    "duration": 283,
    "start_time": "2025-03-16T22:29:47.636Z"
   },
   {
    "duration": 13,
    "start_time": "2025-03-16T22:29:47.920Z"
   },
   {
    "duration": 240,
    "start_time": "2025-03-16T22:29:47.934Z"
   },
   {
    "duration": 10,
    "start_time": "2025-03-16T22:29:48.175Z"
   },
   {
    "duration": 252,
    "start_time": "2025-03-16T22:29:48.186Z"
   },
   {
    "duration": 8,
    "start_time": "2025-03-16T22:29:48.440Z"
   },
   {
    "duration": 128,
    "start_time": "2025-03-16T22:29:48.449Z"
   },
   {
    "duration": 125,
    "start_time": "2025-03-16T22:29:48.578Z"
   },
   {
    "duration": 426,
    "start_time": "2025-03-16T22:29:48.704Z"
   },
   {
    "duration": 144,
    "start_time": "2025-03-16T22:29:49.131Z"
   },
   {
    "duration": 9,
    "start_time": "2025-03-16T22:29:49.277Z"
   },
   {
    "duration": 44,
    "start_time": "2025-03-16T22:29:49.288Z"
   },
   {
    "duration": 175,
    "start_time": "2025-03-16T22:29:49.333Z"
   },
   {
    "duration": 5,
    "start_time": "2025-03-16T22:29:49.509Z"
   },
   {
    "duration": 0,
    "start_time": "2025-03-16T22:33:23.217Z"
   },
   {
    "duration": 0,
    "start_time": "2025-03-16T22:33:23.218Z"
   },
   {
    "duration": 244,
    "start_time": "2025-03-16T22:33:36.528Z"
   },
   {
    "duration": 3258,
    "start_time": "2025-03-16T22:33:36.774Z"
   },
   {
    "duration": 206,
    "start_time": "2025-03-16T22:33:40.033Z"
   },
   {
    "duration": 16,
    "start_time": "2025-03-16T22:33:40.242Z"
   },
   {
    "duration": 11,
    "start_time": "2025-03-16T22:33:40.259Z"
   },
   {
    "duration": 14,
    "start_time": "2025-03-16T22:33:40.272Z"
   },
   {
    "duration": 9,
    "start_time": "2025-03-16T22:33:40.288Z"
   },
   {
    "duration": 10,
    "start_time": "2025-03-16T22:33:40.331Z"
   },
   {
    "duration": 11,
    "start_time": "2025-03-16T22:33:40.343Z"
   },
   {
    "duration": 11,
    "start_time": "2025-03-16T22:33:40.357Z"
   },
   {
    "duration": 21,
    "start_time": "2025-03-16T22:33:40.370Z"
   },
   {
    "duration": 46,
    "start_time": "2025-03-16T22:33:40.393Z"
   },
   {
    "duration": 4,
    "start_time": "2025-03-16T22:33:40.441Z"
   },
   {
    "duration": 9,
    "start_time": "2025-03-16T22:33:40.447Z"
   },
   {
    "duration": 8,
    "start_time": "2025-03-16T22:33:40.458Z"
   },
   {
    "duration": 10,
    "start_time": "2025-03-16T22:33:40.468Z"
   },
   {
    "duration": 75,
    "start_time": "2025-03-16T22:33:40.480Z"
   },
   {
    "duration": 23,
    "start_time": "2025-03-16T22:33:40.557Z"
   },
   {
    "duration": 16,
    "start_time": "2025-03-16T22:33:40.582Z"
   },
   {
    "duration": 37,
    "start_time": "2025-03-16T22:33:40.599Z"
   },
   {
    "duration": 47,
    "start_time": "2025-03-16T22:33:40.638Z"
   },
   {
    "duration": 7,
    "start_time": "2025-03-16T22:33:40.686Z"
   },
   {
    "duration": 40,
    "start_time": "2025-03-16T22:33:40.695Z"
   },
   {
    "duration": 14,
    "start_time": "2025-03-16T22:33:40.737Z"
   },
   {
    "duration": 7,
    "start_time": "2025-03-16T22:33:40.753Z"
   },
   {
    "duration": 18,
    "start_time": "2025-03-16T22:33:40.762Z"
   },
   {
    "duration": 9,
    "start_time": "2025-03-16T22:33:40.782Z"
   },
   {
    "duration": 45,
    "start_time": "2025-03-16T22:33:40.794Z"
   },
   {
    "duration": 13,
    "start_time": "2025-03-16T22:33:40.840Z"
   },
   {
    "duration": 14,
    "start_time": "2025-03-16T22:33:40.855Z"
   },
   {
    "duration": 8,
    "start_time": "2025-03-16T22:33:40.871Z"
   },
   {
    "duration": 11,
    "start_time": "2025-03-16T22:33:40.880Z"
   },
   {
    "duration": 48,
    "start_time": "2025-03-16T22:33:40.892Z"
   },
   {
    "duration": 5,
    "start_time": "2025-03-16T22:33:40.941Z"
   },
   {
    "duration": 182,
    "start_time": "2025-03-16T22:33:40.948Z"
   },
   {
    "duration": 6,
    "start_time": "2025-03-16T22:33:41.131Z"
   },
   {
    "duration": 427,
    "start_time": "2025-03-16T22:33:41.138Z"
   },
   {
    "duration": 8,
    "start_time": "2025-03-16T22:33:41.567Z"
   },
   {
    "duration": 324,
    "start_time": "2025-03-16T22:33:41.576Z"
   },
   {
    "duration": 6,
    "start_time": "2025-03-16T22:33:41.902Z"
   },
   {
    "duration": 257,
    "start_time": "2025-03-16T22:33:41.909Z"
   },
   {
    "duration": 11,
    "start_time": "2025-03-16T22:33:42.168Z"
   },
   {
    "duration": 243,
    "start_time": "2025-03-16T22:33:42.181Z"
   },
   {
    "duration": 9,
    "start_time": "2025-03-16T22:33:42.430Z"
   },
   {
    "duration": 132,
    "start_time": "2025-03-16T22:33:42.440Z"
   },
   {
    "duration": 127,
    "start_time": "2025-03-16T22:33:42.573Z"
   },
   {
    "duration": 420,
    "start_time": "2025-03-16T22:33:42.701Z"
   },
   {
    "duration": 148,
    "start_time": "2025-03-16T22:33:43.123Z"
   },
   {
    "duration": 9,
    "start_time": "2025-03-16T22:33:43.273Z"
   },
   {
    "duration": 14,
    "start_time": "2025-03-16T22:33:43.283Z"
   },
   {
    "duration": 174,
    "start_time": "2025-03-16T22:33:43.298Z"
   },
   {
    "duration": 4,
    "start_time": "2025-03-16T22:33:43.474Z"
   },
   {
    "duration": 189,
    "start_time": "2025-03-16T22:38:31.292Z"
   },
   {
    "duration": 3284,
    "start_time": "2025-03-16T22:38:31.483Z"
   },
   {
    "duration": 217,
    "start_time": "2025-03-16T22:38:34.769Z"
   },
   {
    "duration": 16,
    "start_time": "2025-03-16T22:38:34.988Z"
   },
   {
    "duration": 12,
    "start_time": "2025-03-16T22:38:35.005Z"
   },
   {
    "duration": 32,
    "start_time": "2025-03-16T22:38:35.018Z"
   },
   {
    "duration": 9,
    "start_time": "2025-03-16T22:38:35.052Z"
   },
   {
    "duration": 20,
    "start_time": "2025-03-16T22:38:35.063Z"
   },
   {
    "duration": 39,
    "start_time": "2025-03-16T22:38:35.085Z"
   },
   {
    "duration": 16,
    "start_time": "2025-03-16T22:38:35.126Z"
   },
   {
    "duration": 21,
    "start_time": "2025-03-16T22:38:35.144Z"
   },
   {
    "duration": 13,
    "start_time": "2025-03-16T22:38:35.167Z"
   },
   {
    "duration": 21,
    "start_time": "2025-03-16T22:38:35.181Z"
   },
   {
    "duration": 7,
    "start_time": "2025-03-16T22:38:35.204Z"
   },
   {
    "duration": 12,
    "start_time": "2025-03-16T22:38:35.212Z"
   },
   {
    "duration": 12,
    "start_time": "2025-03-16T22:38:35.225Z"
   },
   {
    "duration": 38,
    "start_time": "2025-03-16T22:38:35.238Z"
   },
   {
    "duration": 21,
    "start_time": "2025-03-16T22:38:35.277Z"
   },
   {
    "duration": 40,
    "start_time": "2025-03-16T22:38:35.299Z"
   },
   {
    "duration": 27,
    "start_time": "2025-03-16T22:38:35.341Z"
   },
   {
    "duration": 50,
    "start_time": "2025-03-16T22:38:35.369Z"
   },
   {
    "duration": 9,
    "start_time": "2025-03-16T22:38:35.421Z"
   },
   {
    "duration": 43,
    "start_time": "2025-03-16T22:38:35.432Z"
   },
   {
    "duration": 31,
    "start_time": "2025-03-16T22:38:35.477Z"
   },
   {
    "duration": 56,
    "start_time": "2025-03-16T22:38:35.509Z"
   },
   {
    "duration": 9,
    "start_time": "2025-03-16T22:38:35.567Z"
   },
   {
    "duration": 10,
    "start_time": "2025-03-16T22:38:35.577Z"
   },
   {
    "duration": 30,
    "start_time": "2025-03-16T22:38:35.591Z"
   },
   {
    "duration": 23,
    "start_time": "2025-03-16T22:38:35.622Z"
   },
   {
    "duration": 20,
    "start_time": "2025-03-16T22:38:35.647Z"
   },
   {
    "duration": 9,
    "start_time": "2025-03-16T22:38:35.669Z"
   },
   {
    "duration": 31,
    "start_time": "2025-03-16T22:38:35.679Z"
   },
   {
    "duration": 21,
    "start_time": "2025-03-16T22:38:35.711Z"
   },
   {
    "duration": 31,
    "start_time": "2025-03-16T22:38:35.734Z"
   },
   {
    "duration": 204,
    "start_time": "2025-03-16T22:38:35.766Z"
   },
   {
    "duration": 7,
    "start_time": "2025-03-16T22:38:35.971Z"
   },
   {
    "duration": 388,
    "start_time": "2025-03-16T22:38:35.979Z"
   },
   {
    "duration": 8,
    "start_time": "2025-03-16T22:38:36.368Z"
   },
   {
    "duration": 325,
    "start_time": "2025-03-16T22:38:36.377Z"
   },
   {
    "duration": 6,
    "start_time": "2025-03-16T22:38:36.704Z"
   },
   {
    "duration": 254,
    "start_time": "2025-03-16T22:38:36.711Z"
   },
   {
    "duration": 9,
    "start_time": "2025-03-16T22:38:36.967Z"
   },
   {
    "duration": 227,
    "start_time": "2025-03-16T22:38:36.978Z"
   },
   {
    "duration": 8,
    "start_time": "2025-03-16T22:38:37.206Z"
   },
   {
    "duration": 129,
    "start_time": "2025-03-16T22:38:37.215Z"
   },
   {
    "duration": 125,
    "start_time": "2025-03-16T22:38:37.345Z"
   },
   {
    "duration": 443,
    "start_time": "2025-03-16T22:38:37.471Z"
   },
   {
    "duration": 156,
    "start_time": "2025-03-16T22:38:37.915Z"
   },
   {
    "duration": 10,
    "start_time": "2025-03-16T22:38:38.072Z"
   },
   {
    "duration": 91,
    "start_time": "2025-03-16T22:38:38.083Z"
   },
   {
    "duration": 162,
    "start_time": "2025-03-16T22:38:38.175Z"
   },
   {
    "duration": 4,
    "start_time": "2025-03-16T22:38:38.339Z"
   },
   {
    "duration": 81,
    "start_time": "2025-03-16T22:38:38.344Z"
   },
   {
    "duration": 0,
    "start_time": "2025-03-16T22:38:38.427Z"
   },
   {
    "duration": 215,
    "start_time": "2025-03-16T22:44:18.355Z"
   },
   {
    "duration": 3232,
    "start_time": "2025-03-16T22:44:18.572Z"
   },
   {
    "duration": 212,
    "start_time": "2025-03-16T22:44:21.806Z"
   },
   {
    "duration": 17,
    "start_time": "2025-03-16T22:44:22.021Z"
   },
   {
    "duration": 11,
    "start_time": "2025-03-16T22:44:22.040Z"
   },
   {
    "duration": 13,
    "start_time": "2025-03-16T22:44:22.053Z"
   },
   {
    "duration": 8,
    "start_time": "2025-03-16T22:44:22.067Z"
   },
   {
    "duration": 9,
    "start_time": "2025-03-16T22:44:22.076Z"
   },
   {
    "duration": 45,
    "start_time": "2025-03-16T22:44:22.086Z"
   },
   {
    "duration": 12,
    "start_time": "2025-03-16T22:44:22.133Z"
   },
   {
    "duration": 22,
    "start_time": "2025-03-16T22:44:22.146Z"
   },
   {
    "duration": 13,
    "start_time": "2025-03-16T22:44:22.169Z"
   },
   {
    "duration": 3,
    "start_time": "2025-03-16T22:44:22.184Z"
   },
   {
    "duration": 9,
    "start_time": "2025-03-16T22:44:22.188Z"
   },
   {
    "duration": 37,
    "start_time": "2025-03-16T22:44:22.198Z"
   },
   {
    "duration": 10,
    "start_time": "2025-03-16T22:44:22.236Z"
   },
   {
    "duration": 95,
    "start_time": "2025-03-16T22:44:22.247Z"
   },
   {
    "duration": 22,
    "start_time": "2025-03-16T22:44:22.344Z"
   },
   {
    "duration": 15,
    "start_time": "2025-03-16T22:44:22.367Z"
   },
   {
    "duration": 14,
    "start_time": "2025-03-16T22:44:22.384Z"
   },
   {
    "duration": 70,
    "start_time": "2025-03-16T22:44:22.400Z"
   },
   {
    "duration": 8,
    "start_time": "2025-03-16T22:44:22.471Z"
   },
   {
    "duration": 20,
    "start_time": "2025-03-16T22:44:22.480Z"
   },
   {
    "duration": 31,
    "start_time": "2025-03-16T22:44:22.501Z"
   },
   {
    "duration": 8,
    "start_time": "2025-03-16T22:44:22.533Z"
   },
   {
    "duration": 7,
    "start_time": "2025-03-16T22:44:22.542Z"
   },
   {
    "duration": 10,
    "start_time": "2025-03-16T22:44:22.550Z"
   },
   {
    "duration": 30,
    "start_time": "2025-03-16T22:44:22.563Z"
   },
   {
    "duration": 47,
    "start_time": "2025-03-16T22:44:22.594Z"
   },
   {
    "duration": 17,
    "start_time": "2025-03-16T22:44:22.642Z"
   },
   {
    "duration": 9,
    "start_time": "2025-03-16T22:44:22.660Z"
   },
   {
    "duration": 9,
    "start_time": "2025-03-16T22:44:22.671Z"
   },
   {
    "duration": 48,
    "start_time": "2025-03-16T22:44:22.682Z"
   },
   {
    "duration": 6,
    "start_time": "2025-03-16T22:44:22.731Z"
   },
   {
    "duration": 179,
    "start_time": "2025-03-16T22:44:22.738Z"
   },
   {
    "duration": 6,
    "start_time": "2025-03-16T22:44:22.918Z"
   },
   {
    "duration": 410,
    "start_time": "2025-03-16T22:44:22.930Z"
   },
   {
    "duration": 8,
    "start_time": "2025-03-16T22:44:23.342Z"
   },
   {
    "duration": 351,
    "start_time": "2025-03-16T22:44:23.351Z"
   },
   {
    "duration": 6,
    "start_time": "2025-03-16T22:44:23.704Z"
   },
   {
    "duration": 264,
    "start_time": "2025-03-16T22:44:23.711Z"
   },
   {
    "duration": 10,
    "start_time": "2025-03-16T22:44:23.976Z"
   },
   {
    "duration": 238,
    "start_time": "2025-03-16T22:44:23.987Z"
   },
   {
    "duration": 10,
    "start_time": "2025-03-16T22:44:24.227Z"
   },
   {
    "duration": 132,
    "start_time": "2025-03-16T22:44:24.239Z"
   },
   {
    "duration": 124,
    "start_time": "2025-03-16T22:44:24.373Z"
   },
   {
    "duration": 419,
    "start_time": "2025-03-16T22:44:24.499Z"
   },
   {
    "duration": 155,
    "start_time": "2025-03-16T22:44:24.920Z"
   },
   {
    "duration": 10,
    "start_time": "2025-03-16T22:44:25.077Z"
   },
   {
    "duration": 7,
    "start_time": "2025-03-16T22:44:25.088Z"
   },
   {
    "duration": 181,
    "start_time": "2025-03-16T22:44:25.096Z"
   },
   {
    "duration": 4,
    "start_time": "2025-03-16T22:44:25.278Z"
   },
   {
    "duration": 7,
    "start_time": "2025-03-16T22:46:12.320Z"
   },
   {
    "duration": 242,
    "start_time": "2025-03-16T22:46:12.329Z"
   },
   {
    "duration": 3196,
    "start_time": "2025-03-16T22:46:12.572Z"
   },
   {
    "duration": 215,
    "start_time": "2025-03-16T22:46:15.770Z"
   },
   {
    "duration": 15,
    "start_time": "2025-03-16T22:46:15.987Z"
   },
   {
    "duration": 43,
    "start_time": "2025-03-16T22:46:16.003Z"
   },
   {
    "duration": 16,
    "start_time": "2025-03-16T22:46:16.047Z"
   },
   {
    "duration": 8,
    "start_time": "2025-03-16T22:46:16.064Z"
   },
   {
    "duration": 12,
    "start_time": "2025-03-16T22:46:16.073Z"
   },
   {
    "duration": 10,
    "start_time": "2025-03-16T22:46:16.088Z"
   },
   {
    "duration": 13,
    "start_time": "2025-03-16T22:46:16.100Z"
   },
   {
    "duration": 32,
    "start_time": "2025-03-16T22:46:16.115Z"
   },
   {
    "duration": 12,
    "start_time": "2025-03-16T22:46:16.148Z"
   },
   {
    "duration": 73,
    "start_time": "2025-03-16T22:46:16.162Z"
   },
   {
    "duration": 4,
    "start_time": "2025-03-16T22:46:16.237Z"
   },
   {
    "duration": 7,
    "start_time": "2025-03-16T22:46:16.242Z"
   },
   {
    "duration": 85,
    "start_time": "2025-03-16T22:46:16.250Z"
   },
   {
    "duration": 37,
    "start_time": "2025-03-16T22:46:16.336Z"
   },
   {
    "duration": 20,
    "start_time": "2025-03-16T22:46:16.374Z"
   },
   {
    "duration": 36,
    "start_time": "2025-03-16T22:46:16.396Z"
   },
   {
    "duration": 16,
    "start_time": "2025-03-16T22:46:16.433Z"
   },
   {
    "duration": 45,
    "start_time": "2025-03-16T22:46:16.450Z"
   },
   {
    "duration": 7,
    "start_time": "2025-03-16T22:46:16.496Z"
   },
   {
    "duration": 42,
    "start_time": "2025-03-16T22:46:16.504Z"
   },
   {
    "duration": 14,
    "start_time": "2025-03-16T22:46:16.547Z"
   },
   {
    "duration": 34,
    "start_time": "2025-03-16T22:46:16.562Z"
   },
   {
    "duration": 8,
    "start_time": "2025-03-16T22:46:16.598Z"
   },
   {
    "duration": 10,
    "start_time": "2025-03-16T22:46:16.610Z"
   },
   {
    "duration": 30,
    "start_time": "2025-03-16T22:46:16.622Z"
   },
   {
    "duration": 18,
    "start_time": "2025-03-16T22:46:16.654Z"
   },
   {
    "duration": 15,
    "start_time": "2025-03-16T22:46:16.674Z"
   },
   {
    "duration": 9,
    "start_time": "2025-03-16T22:46:16.690Z"
   },
   {
    "duration": 33,
    "start_time": "2025-03-16T22:46:16.700Z"
   },
   {
    "duration": 27,
    "start_time": "2025-03-16T22:46:16.734Z"
   },
   {
    "duration": 10,
    "start_time": "2025-03-16T22:46:16.762Z"
   },
   {
    "duration": 178,
    "start_time": "2025-03-16T22:46:16.774Z"
   },
   {
    "duration": 7,
    "start_time": "2025-03-16T22:46:16.953Z"
   },
   {
    "duration": 401,
    "start_time": "2025-03-16T22:46:16.961Z"
   },
   {
    "duration": 7,
    "start_time": "2025-03-16T22:46:17.364Z"
   },
   {
    "duration": 324,
    "start_time": "2025-03-16T22:46:17.373Z"
   },
   {
    "duration": 6,
    "start_time": "2025-03-16T22:46:17.698Z"
   },
   {
    "duration": 276,
    "start_time": "2025-03-16T22:46:17.705Z"
   },
   {
    "duration": 9,
    "start_time": "2025-03-16T22:46:17.983Z"
   },
   {
    "duration": 253,
    "start_time": "2025-03-16T22:46:17.993Z"
   },
   {
    "duration": 8,
    "start_time": "2025-03-16T22:46:18.247Z"
   },
   {
    "duration": 171,
    "start_time": "2025-03-16T22:46:18.256Z"
   },
   {
    "duration": 124,
    "start_time": "2025-03-16T22:46:18.428Z"
   },
   {
    "duration": 406,
    "start_time": "2025-03-16T22:46:18.553Z"
   },
   {
    "duration": 149,
    "start_time": "2025-03-16T22:46:18.961Z"
   },
   {
    "duration": 10,
    "start_time": "2025-03-16T22:46:19.112Z"
   },
   {
    "duration": 4,
    "start_time": "2025-03-16T22:46:19.130Z"
   },
   {
    "duration": 175,
    "start_time": "2025-03-16T22:46:19.135Z"
   },
   {
    "duration": 3,
    "start_time": "2025-03-16T22:46:19.312Z"
   },
   {
    "duration": 0,
    "start_time": "2025-03-16T22:48:22.085Z"
   },
   {
    "duration": 0,
    "start_time": "2025-03-16T22:48:22.086Z"
   },
   {
    "duration": 53237,
    "start_time": "2025-03-16T22:51:13.224Z"
   },
   {
    "duration": 0,
    "start_time": "2025-03-16T22:52:06.463Z"
   },
   {
    "duration": 226144,
    "start_time": "2025-03-16T22:52:10.916Z"
   },
   {
    "duration": 17,
    "start_time": "2025-03-16T22:57:33.513Z"
   },
   {
    "duration": 309,
    "start_time": "2025-03-16T22:58:57.196Z"
   },
   {
    "duration": 276,
    "start_time": "2025-03-16T22:59:23.694Z"
   },
   {
    "duration": 319,
    "start_time": "2025-03-16T22:59:33.915Z"
   },
   {
    "duration": 297,
    "start_time": "2025-03-16T23:00:45.416Z"
   },
   {
    "duration": 283,
    "start_time": "2025-03-16T23:01:30.294Z"
   },
   {
    "duration": 110,
    "start_time": "2025-03-16T23:05:37.996Z"
   },
   {
    "duration": 403,
    "start_time": "2025-03-16T23:06:11.239Z"
   },
   {
    "duration": 302,
    "start_time": "2025-03-16T23:06:32.431Z"
   },
   {
    "duration": 124,
    "start_time": "2025-03-16T23:06:48.542Z"
   },
   {
    "duration": 160,
    "start_time": "2025-03-16T23:07:35.245Z"
   },
   {
    "duration": 168,
    "start_time": "2025-03-16T23:08:00.134Z"
   },
   {
    "duration": 1540,
    "start_time": "2025-03-16T23:10:21.701Z"
   },
   {
    "duration": 4215,
    "start_time": "2025-03-16T23:10:49.387Z"
   },
   {
    "duration": 168,
    "start_time": "2025-03-16T23:12:12.728Z"
   },
   {
    "duration": 346,
    "start_time": "2025-03-16T23:13:00.299Z"
   },
   {
    "duration": 850,
    "start_time": "2025-03-16T23:13:54.416Z"
   },
   {
    "duration": 936,
    "start_time": "2025-03-16T23:14:00.590Z"
   },
   {
    "duration": 14,
    "start_time": "2025-03-16T23:30:12.157Z"
   },
   {
    "duration": 27,
    "start_time": "2025-03-16T23:30:23.997Z"
   },
   {
    "duration": 15,
    "start_time": "2025-03-16T23:30:28.540Z"
   },
   {
    "duration": 17,
    "start_time": "2025-03-16T23:31:08.164Z"
   },
   {
    "duration": 22,
    "start_time": "2025-03-16T23:31:12.377Z"
   },
   {
    "duration": 17,
    "start_time": "2025-03-16T23:31:32.611Z"
   },
   {
    "duration": 16,
    "start_time": "2025-03-16T23:31:49.691Z"
   },
   {
    "duration": 165,
    "start_time": "2025-03-16T23:34:37.309Z"
   },
   {
    "duration": 171,
    "start_time": "2025-03-16T23:34:43.127Z"
   },
   {
    "duration": 12,
    "start_time": "2025-03-16T23:47:37.828Z"
   },
   {
    "duration": 13,
    "start_time": "2025-03-16T23:48:04.427Z"
   },
   {
    "duration": 16,
    "start_time": "2025-03-16T23:48:21.430Z"
   },
   {
    "duration": 16,
    "start_time": "2025-03-16T23:48:25.641Z"
   },
   {
    "duration": 13,
    "start_time": "2025-03-16T23:48:30.041Z"
   },
   {
    "duration": 15,
    "start_time": "2025-03-16T23:48:45.151Z"
   },
   {
    "duration": 13,
    "start_time": "2025-03-16T23:49:10.749Z"
   },
   {
    "duration": 13,
    "start_time": "2025-03-16T23:49:20.960Z"
   },
   {
    "duration": 7,
    "start_time": "2025-03-16T23:51:13.244Z"
   },
   {
    "duration": 5469,
    "start_time": "2025-03-16T23:52:25.371Z"
   },
   {
    "duration": 4446,
    "start_time": "2025-03-16T23:52:49.566Z"
   },
   {
    "duration": 4292,
    "start_time": "2025-03-16T23:52:56.443Z"
   },
   {
    "duration": 5502,
    "start_time": "2025-03-16T23:53:08.110Z"
   },
   {
    "duration": 4,
    "start_time": "2025-03-16T23:53:43.238Z"
   },
   {
    "duration": 5,
    "start_time": "2025-03-16T23:53:53.115Z"
   },
   {
    "duration": 5,
    "start_time": "2025-03-16T23:54:03.791Z"
   },
   {
    "duration": 5,
    "start_time": "2025-03-16T23:54:04.747Z"
   },
   {
    "duration": 5,
    "start_time": "2025-03-16T23:54:10.892Z"
   },
   {
    "duration": 110,
    "start_time": "2025-03-16T23:54:21.154Z"
   },
   {
    "duration": 17,
    "start_time": "2025-03-16T23:54:26.482Z"
   },
   {
    "duration": 18,
    "start_time": "2025-03-16T23:54:41.591Z"
   },
   {
    "duration": 18,
    "start_time": "2025-03-16T23:54:47.476Z"
   },
   {
    "duration": 10,
    "start_time": "2025-03-16T23:56:28.774Z"
   },
   {
    "duration": 13,
    "start_time": "2025-03-16T23:58:44.082Z"
   },
   {
    "duration": 12,
    "start_time": "2025-03-16T23:58:54.949Z"
   },
   {
    "duration": 10,
    "start_time": "2025-03-16T23:59:42.309Z"
   },
   {
    "duration": 10,
    "start_time": "2025-03-17T00:00:06.957Z"
   },
   {
    "duration": 12,
    "start_time": "2025-03-17T00:00:22.613Z"
   },
   {
    "duration": 16,
    "start_time": "2025-03-17T00:00:36.730Z"
   },
   {
    "duration": 12,
    "start_time": "2025-03-17T00:00:51.798Z"
   },
   {
    "duration": 85,
    "start_time": "2025-03-17T00:01:17.119Z"
   },
   {
    "duration": 14,
    "start_time": "2025-03-17T00:01:21.804Z"
   },
   {
    "duration": 10,
    "start_time": "2025-03-17T00:04:13.967Z"
   },
   {
    "duration": 9,
    "start_time": "2025-03-17T00:04:27.025Z"
   },
   {
    "duration": 187,
    "start_time": "2025-03-17T00:04:31.586Z"
   },
   {
    "duration": 175,
    "start_time": "2025-03-17T00:04:42.072Z"
   },
   {
    "duration": 8,
    "start_time": "2025-03-17T00:04:59.530Z"
   },
   {
    "duration": 9,
    "start_time": "2025-03-17T00:05:12.662Z"
   },
   {
    "duration": 175,
    "start_time": "2025-03-17T00:05:14.495Z"
   },
   {
    "duration": 11,
    "start_time": "2025-03-17T00:05:23.685Z"
   },
   {
    "duration": 173,
    "start_time": "2025-03-17T00:05:25.562Z"
   },
   {
    "duration": 200,
    "start_time": "2025-03-17T00:07:18.609Z"
   },
   {
    "duration": 198,
    "start_time": "2025-03-17T00:07:26.781Z"
   },
   {
    "duration": 209,
    "start_time": "2025-03-17T00:07:49.523Z"
   },
   {
    "duration": 9,
    "start_time": "2025-03-17T00:08:32.595Z"
   },
   {
    "duration": 208,
    "start_time": "2025-03-17T00:08:34.324Z"
   },
   {
    "duration": 12,
    "start_time": "2025-03-17T00:08:58.726Z"
   },
   {
    "duration": 14,
    "start_time": "2025-03-17T00:17:59.877Z"
   },
   {
    "duration": 12,
    "start_time": "2025-03-17T00:18:31.566Z"
   },
   {
    "duration": 208,
    "start_time": "2025-03-17T00:20:42.694Z"
   },
   {
    "duration": 18,
    "start_time": "2025-03-17T00:20:48.750Z"
   },
   {
    "duration": 402,
    "start_time": "2025-03-17T00:20:50.976Z"
   },
   {
    "duration": 400,
    "start_time": "2025-03-17T00:21:29.464Z"
   },
   {
    "duration": 425,
    "start_time": "2025-03-17T00:24:07.052Z"
   },
   {
    "duration": 663,
    "start_time": "2025-03-17T00:24:31.009Z"
   },
   {
    "duration": 4,
    "start_time": "2025-03-17T00:47:16.702Z"
   },
   {
    "duration": 9,
    "start_time": "2025-03-17T01:12:04.557Z"
   },
   {
    "duration": 201,
    "start_time": "2025-03-17T01:12:04.567Z"
   },
   {
    "duration": 3592,
    "start_time": "2025-03-17T01:12:04.769Z"
   },
   {
    "duration": 247,
    "start_time": "2025-03-17T01:12:08.363Z"
   },
   {
    "duration": 15,
    "start_time": "2025-03-17T01:12:08.612Z"
   },
   {
    "duration": 11,
    "start_time": "2025-03-17T01:12:08.629Z"
   },
   {
    "duration": 40,
    "start_time": "2025-03-17T01:12:08.641Z"
   },
   {
    "duration": 23,
    "start_time": "2025-03-17T01:12:08.683Z"
   },
   {
    "duration": 11,
    "start_time": "2025-03-17T01:12:08.707Z"
   },
   {
    "duration": 15,
    "start_time": "2025-03-17T01:12:08.721Z"
   },
   {
    "duration": 10,
    "start_time": "2025-03-17T01:12:08.738Z"
   },
   {
    "duration": 29,
    "start_time": "2025-03-17T01:12:08.750Z"
   },
   {
    "duration": 12,
    "start_time": "2025-03-17T01:12:08.780Z"
   },
   {
    "duration": 3,
    "start_time": "2025-03-17T01:12:08.794Z"
   },
   {
    "duration": 78,
    "start_time": "2025-03-17T01:12:08.799Z"
   },
   {
    "duration": 70,
    "start_time": "2025-03-17T01:12:08.879Z"
   },
   {
    "duration": 10,
    "start_time": "2025-03-17T01:12:08.951Z"
   },
   {
    "duration": 38,
    "start_time": "2025-03-17T01:12:08.962Z"
   },
   {
    "duration": 30,
    "start_time": "2025-03-17T01:12:09.002Z"
   },
   {
    "duration": 16,
    "start_time": "2025-03-17T01:12:09.033Z"
   },
   {
    "duration": 22,
    "start_time": "2025-03-17T01:12:09.050Z"
   },
   {
    "duration": 56,
    "start_time": "2025-03-17T01:12:09.074Z"
   },
   {
    "duration": 8,
    "start_time": "2025-03-17T01:12:09.132Z"
   },
   {
    "duration": 26,
    "start_time": "2025-03-17T01:12:09.141Z"
   },
   {
    "duration": 14,
    "start_time": "2025-03-17T01:12:09.169Z"
   },
   {
    "duration": 16,
    "start_time": "2025-03-17T01:12:09.185Z"
   },
   {
    "duration": 22,
    "start_time": "2025-03-17T01:12:09.203Z"
   },
   {
    "duration": 11,
    "start_time": "2025-03-17T01:12:09.233Z"
   },
   {
    "duration": 30,
    "start_time": "2025-03-17T01:12:09.246Z"
   },
   {
    "duration": 23,
    "start_time": "2025-03-17T01:12:09.278Z"
   },
   {
    "duration": 37,
    "start_time": "2025-03-17T01:12:09.303Z"
   },
   {
    "duration": 11,
    "start_time": "2025-03-17T01:12:09.342Z"
   },
   {
    "duration": 11,
    "start_time": "2025-03-17T01:12:09.355Z"
   },
   {
    "duration": 21,
    "start_time": "2025-03-17T01:12:09.367Z"
   },
   {
    "duration": 5,
    "start_time": "2025-03-17T01:12:09.390Z"
   },
   {
    "duration": 180,
    "start_time": "2025-03-17T01:12:09.430Z"
   },
   {
    "duration": 6,
    "start_time": "2025-03-17T01:12:09.612Z"
   },
   {
    "duration": 396,
    "start_time": "2025-03-17T01:12:09.620Z"
   },
   {
    "duration": 13,
    "start_time": "2025-03-17T01:12:10.017Z"
   },
   {
    "duration": 380,
    "start_time": "2025-03-17T01:12:10.031Z"
   },
   {
    "duration": 6,
    "start_time": "2025-03-17T01:12:10.412Z"
   },
   {
    "duration": 254,
    "start_time": "2025-03-17T01:12:10.419Z"
   },
   {
    "duration": 9,
    "start_time": "2025-03-17T01:12:10.675Z"
   },
   {
    "duration": 281,
    "start_time": "2025-03-17T01:12:10.686Z"
   },
   {
    "duration": 7,
    "start_time": "2025-03-17T01:12:10.969Z"
   },
   {
    "duration": 132,
    "start_time": "2025-03-17T01:12:10.978Z"
   },
   {
    "duration": 127,
    "start_time": "2025-03-17T01:12:11.111Z"
   },
   {
    "duration": 426,
    "start_time": "2025-03-17T01:12:11.240Z"
   },
   {
    "duration": 149,
    "start_time": "2025-03-17T01:12:11.667Z"
   },
   {
    "duration": 13,
    "start_time": "2025-03-17T01:12:11.817Z"
   },
   {
    "duration": 6,
    "start_time": "2025-03-17T01:12:11.832Z"
   },
   {
    "duration": 185,
    "start_time": "2025-03-17T01:12:11.840Z"
   },
   {
    "duration": 4,
    "start_time": "2025-03-17T01:12:12.029Z"
   },
   {
    "duration": 76,
    "start_time": "2025-03-17T01:12:12.034Z"
   },
   {
    "duration": 311,
    "start_time": "2025-03-17T01:12:12.111Z"
   },
   {
    "duration": 888,
    "start_time": "2025-03-17T01:12:12.429Z"
   },
   {
    "duration": 21,
    "start_time": "2025-03-17T01:12:13.318Z"
   },
   {
    "duration": 12,
    "start_time": "2025-03-17T01:12:13.341Z"
   },
   {
    "duration": 17,
    "start_time": "2025-03-17T01:12:13.354Z"
   },
   {
    "duration": 802,
    "start_time": "2025-03-17T01:12:13.373Z"
   },
   {
    "duration": 8,
    "start_time": "2025-03-17T05:21:14.994Z"
   },
   {
    "duration": 218,
    "start_time": "2025-03-17T05:21:15.004Z"
   },
   {
    "duration": 3718,
    "start_time": "2025-03-17T05:21:15.224Z"
   },
   {
    "duration": 265,
    "start_time": "2025-03-17T05:21:18.945Z"
   },
   {
    "duration": 18,
    "start_time": "2025-03-17T05:21:19.213Z"
   },
   {
    "duration": 12,
    "start_time": "2025-03-17T05:21:19.232Z"
   },
   {
    "duration": 15,
    "start_time": "2025-03-17T05:21:19.246Z"
   },
   {
    "duration": 14,
    "start_time": "2025-03-17T05:21:19.263Z"
   },
   {
    "duration": 10,
    "start_time": "2025-03-17T05:21:19.279Z"
   },
   {
    "duration": 12,
    "start_time": "2025-03-17T05:21:19.290Z"
   },
   {
    "duration": 12,
    "start_time": "2025-03-17T05:21:19.304Z"
   },
   {
    "duration": 58,
    "start_time": "2025-03-17T05:21:19.317Z"
   },
   {
    "duration": 14,
    "start_time": "2025-03-17T05:21:19.377Z"
   },
   {
    "duration": 4,
    "start_time": "2025-03-17T05:21:19.395Z"
   },
   {
    "duration": 11,
    "start_time": "2025-03-17T05:21:19.401Z"
   },
   {
    "duration": 11,
    "start_time": "2025-03-17T05:21:19.413Z"
   },
   {
    "duration": 10,
    "start_time": "2025-03-17T05:21:19.425Z"
   },
   {
    "duration": 75,
    "start_time": "2025-03-17T05:21:19.437Z"
   },
   {
    "duration": 23,
    "start_time": "2025-03-17T05:21:19.514Z"
   },
   {
    "duration": 45,
    "start_time": "2025-03-17T05:21:19.539Z"
   },
   {
    "duration": 18,
    "start_time": "2025-03-17T05:21:19.586Z"
   },
   {
    "duration": 50,
    "start_time": "2025-03-17T05:21:19.605Z"
   },
   {
    "duration": 21,
    "start_time": "2025-03-17T05:21:19.657Z"
   },
   {
    "duration": 26,
    "start_time": "2025-03-17T05:21:19.679Z"
   },
   {
    "duration": 20,
    "start_time": "2025-03-17T05:21:19.707Z"
   },
   {
    "duration": 10,
    "start_time": "2025-03-17T05:21:19.730Z"
   },
   {
    "duration": 36,
    "start_time": "2025-03-17T05:21:19.741Z"
   },
   {
    "duration": 11,
    "start_time": "2025-03-17T05:21:19.779Z"
   },
   {
    "duration": 31,
    "start_time": "2025-03-17T05:21:19.791Z"
   },
   {
    "duration": 14,
    "start_time": "2025-03-17T05:21:19.823Z"
   },
   {
    "duration": 44,
    "start_time": "2025-03-17T05:21:19.839Z"
   },
   {
    "duration": 9,
    "start_time": "2025-03-17T05:21:19.886Z"
   },
   {
    "duration": 21,
    "start_time": "2025-03-17T05:21:19.897Z"
   },
   {
    "duration": 21,
    "start_time": "2025-03-17T05:21:19.920Z"
   },
   {
    "duration": 6,
    "start_time": "2025-03-17T05:21:19.943Z"
   },
   {
    "duration": 175,
    "start_time": "2025-03-17T05:21:19.973Z"
   },
   {
    "duration": 6,
    "start_time": "2025-03-17T05:21:20.149Z"
   },
   {
    "duration": 444,
    "start_time": "2025-03-17T05:21:20.156Z"
   },
   {
    "duration": 7,
    "start_time": "2025-03-17T05:21:20.602Z"
   },
   {
    "duration": 349,
    "start_time": "2025-03-17T05:21:20.611Z"
   },
   {
    "duration": 5,
    "start_time": "2025-03-17T05:21:20.973Z"
   },
   {
    "duration": 247,
    "start_time": "2025-03-17T05:21:20.979Z"
   },
   {
    "duration": 11,
    "start_time": "2025-03-17T05:21:21.227Z"
   },
   {
    "duration": 236,
    "start_time": "2025-03-17T05:21:21.239Z"
   },
   {
    "duration": 8,
    "start_time": "2025-03-17T05:21:21.477Z"
   },
   {
    "duration": 143,
    "start_time": "2025-03-17T05:21:21.486Z"
   },
   {
    "duration": 134,
    "start_time": "2025-03-17T05:21:21.630Z"
   },
   {
    "duration": 417,
    "start_time": "2025-03-17T05:21:21.772Z"
   },
   {
    "duration": 161,
    "start_time": "2025-03-17T05:21:22.190Z"
   },
   {
    "duration": 10,
    "start_time": "2025-03-17T05:21:22.353Z"
   },
   {
    "duration": 5,
    "start_time": "2025-03-17T05:21:22.373Z"
   },
   {
    "duration": 196,
    "start_time": "2025-03-17T05:21:22.379Z"
   },
   {
    "duration": 4,
    "start_time": "2025-03-17T05:21:22.576Z"
   },
   {
    "duration": 17,
    "start_time": "2025-03-17T05:21:22.582Z"
   },
   {
    "duration": 320,
    "start_time": "2025-03-17T05:21:22.600Z"
   },
   {
    "duration": 974,
    "start_time": "2025-03-17T05:21:22.921Z"
   },
   {
    "duration": 27,
    "start_time": "2025-03-17T05:21:23.899Z"
   },
   {
    "duration": 18,
    "start_time": "2025-03-17T05:21:23.928Z"
   },
   {
    "duration": 20,
    "start_time": "2025-03-17T05:21:23.973Z"
   },
   {
    "duration": 838,
    "start_time": "2025-03-17T05:21:23.995Z"
   },
   {
    "duration": 6,
    "start_time": "2025-03-17T05:28:15.030Z"
   },
   {
    "duration": 7,
    "start_time": "2025-03-17T05:28:18.379Z"
   },
   {
    "duration": 84,
    "start_time": "2025-03-17T11:09:42.888Z"
   },
   {
    "duration": 87,
    "start_time": "2025-03-17T11:09:49.120Z"
   },
   {
    "duration": 42,
    "start_time": "2025-03-17T12:00:51.201Z"
   },
   {
    "duration": 4771,
    "start_time": "2025-03-17T12:01:05.930Z"
   },
   {
    "duration": 314,
    "start_time": "2025-03-17T12:01:10.703Z"
   },
   {
    "duration": 17,
    "start_time": "2025-03-17T12:01:11.019Z"
   },
   {
    "duration": 69,
    "start_time": "2025-03-17T12:01:11.038Z"
   },
   {
    "duration": 15,
    "start_time": "2025-03-17T12:01:11.109Z"
   },
   {
    "duration": 11,
    "start_time": "2025-03-17T12:01:11.126Z"
   },
   {
    "duration": 10,
    "start_time": "2025-03-17T12:01:11.139Z"
   },
   {
    "duration": 11,
    "start_time": "2025-03-17T12:01:11.150Z"
   },
   {
    "duration": 13,
    "start_time": "2025-03-17T12:01:11.163Z"
   },
   {
    "duration": 32,
    "start_time": "2025-03-17T12:01:11.180Z"
   },
   {
    "duration": 16,
    "start_time": "2025-03-17T12:01:11.229Z"
   },
   {
    "duration": 5,
    "start_time": "2025-03-17T12:01:11.247Z"
   },
   {
    "duration": 7,
    "start_time": "2025-03-17T12:01:11.254Z"
   },
   {
    "duration": 19,
    "start_time": "2025-03-17T12:01:11.262Z"
   },
   {
    "duration": 17,
    "start_time": "2025-03-17T12:01:11.283Z"
   },
   {
    "duration": 74,
    "start_time": "2025-03-17T12:01:11.301Z"
   },
   {
    "duration": 54,
    "start_time": "2025-03-17T12:01:11.377Z"
   },
   {
    "duration": 32,
    "start_time": "2025-03-17T12:01:11.433Z"
   },
   {
    "duration": 20,
    "start_time": "2025-03-17T12:01:11.468Z"
   },
   {
    "duration": 148,
    "start_time": "2025-03-17T12:01:11.490Z"
   },
   {
    "duration": 10,
    "start_time": "2025-03-17T12:01:11.639Z"
   },
   {
    "duration": 23,
    "start_time": "2025-03-17T12:01:11.650Z"
   },
   {
    "duration": 15,
    "start_time": "2025-03-17T12:01:11.675Z"
   },
   {
    "duration": 20,
    "start_time": "2025-03-17T12:01:11.692Z"
   },
   {
    "duration": 24,
    "start_time": "2025-03-17T12:01:11.714Z"
   },
   {
    "duration": 20,
    "start_time": "2025-03-17T12:01:11.740Z"
   },
   {
    "duration": 40,
    "start_time": "2025-03-17T12:01:11.761Z"
   },
   {
    "duration": 34,
    "start_time": "2025-03-17T12:01:11.806Z"
   },
   {
    "duration": 28,
    "start_time": "2025-03-17T12:01:11.842Z"
   },
   {
    "duration": 76,
    "start_time": "2025-03-17T12:01:11.871Z"
   },
   {
    "duration": 20,
    "start_time": "2025-03-17T12:01:11.949Z"
   },
   {
    "duration": 31,
    "start_time": "2025-03-17T12:01:11.970Z"
   },
   {
    "duration": 7,
    "start_time": "2025-03-17T12:01:12.003Z"
   },
   {
    "duration": 172,
    "start_time": "2025-03-17T12:01:12.011Z"
   },
   {
    "duration": 8,
    "start_time": "2025-03-17T12:01:12.185Z"
   },
   {
    "duration": 352,
    "start_time": "2025-03-17T12:01:12.195Z"
   },
   {
    "duration": 9,
    "start_time": "2025-03-17T12:01:12.549Z"
   },
   {
    "duration": 332,
    "start_time": "2025-03-17T12:01:12.559Z"
   },
   {
    "duration": 6,
    "start_time": "2025-03-17T12:01:12.892Z"
   },
   {
    "duration": 267,
    "start_time": "2025-03-17T12:01:12.899Z"
   },
   {
    "duration": 10,
    "start_time": "2025-03-17T12:01:13.167Z"
   },
   {
    "duration": 244,
    "start_time": "2025-03-17T12:01:13.178Z"
   },
   {
    "duration": 12,
    "start_time": "2025-03-17T12:01:13.424Z"
   },
   {
    "duration": 146,
    "start_time": "2025-03-17T12:01:13.438Z"
   },
   {
    "duration": 128,
    "start_time": "2025-03-17T12:01:13.586Z"
   },
   {
    "duration": 416,
    "start_time": "2025-03-17T12:01:13.716Z"
   },
   {
    "duration": 160,
    "start_time": "2025-03-17T12:01:14.134Z"
   },
   {
    "duration": 11,
    "start_time": "2025-03-17T12:01:14.296Z"
   },
   {
    "duration": 4,
    "start_time": "2025-03-17T12:01:14.309Z"
   },
   {
    "duration": 241,
    "start_time": "2025-03-17T12:01:14.330Z"
   },
   {
    "duration": 4,
    "start_time": "2025-03-17T12:01:14.572Z"
   },
   {
    "duration": 35,
    "start_time": "2025-03-17T12:01:14.577Z"
   },
   {
    "duration": 319,
    "start_time": "2025-03-17T12:01:14.614Z"
   },
   {
    "duration": 957,
    "start_time": "2025-03-17T12:01:14.935Z"
   },
   {
    "duration": 20,
    "start_time": "2025-03-17T12:01:15.894Z"
   },
   {
    "duration": 59,
    "start_time": "2025-03-17T12:01:15.915Z"
   },
   {
    "duration": 19,
    "start_time": "2025-03-17T12:01:15.975Z"
   },
   {
    "duration": 759,
    "start_time": "2025-03-17T12:01:15.995Z"
   },
   {
    "duration": 10,
    "start_time": "2025-03-17T12:24:26.213Z"
   },
   {
    "duration": 10,
    "start_time": "2025-03-17T12:27:39.508Z"
   },
   {
    "duration": 23,
    "start_time": "2025-03-17T12:49:56.195Z"
   },
   {
    "duration": 16,
    "start_time": "2025-03-17T12:52:09.962Z"
   },
   {
    "duration": 10,
    "start_time": "2025-03-17T12:53:07.538Z"
   },
   {
    "duration": 3440,
    "start_time": "2025-03-17T13:04:15.185Z"
   },
   {
    "duration": 688,
    "start_time": "2025-03-17T13:04:18.627Z"
   },
   {
    "duration": 16,
    "start_time": "2025-03-17T13:04:19.316Z"
   },
   {
    "duration": 11,
    "start_time": "2025-03-17T13:04:19.334Z"
   },
   {
    "duration": 50,
    "start_time": "2025-03-17T13:04:19.347Z"
   },
   {
    "duration": 34,
    "start_time": "2025-03-17T13:04:19.399Z"
   },
   {
    "duration": 16,
    "start_time": "2025-03-17T13:04:19.435Z"
   },
   {
    "duration": 33,
    "start_time": "2025-03-17T13:04:19.452Z"
   },
   {
    "duration": 16,
    "start_time": "2025-03-17T13:04:19.486Z"
   },
   {
    "duration": 35,
    "start_time": "2025-03-17T13:04:19.504Z"
   },
   {
    "duration": 13,
    "start_time": "2025-03-17T13:04:19.541Z"
   },
   {
    "duration": 5,
    "start_time": "2025-03-17T13:04:19.556Z"
   },
   {
    "duration": 7,
    "start_time": "2025-03-17T13:04:19.562Z"
   },
   {
    "duration": 9,
    "start_time": "2025-03-17T13:04:19.571Z"
   },
   {
    "duration": 9,
    "start_time": "2025-03-17T13:04:19.582Z"
   },
   {
    "duration": 41,
    "start_time": "2025-03-17T13:04:19.593Z"
   },
   {
    "duration": 52,
    "start_time": "2025-03-17T13:04:19.635Z"
   },
   {
    "duration": 43,
    "start_time": "2025-03-17T13:04:19.688Z"
   },
   {
    "duration": 20,
    "start_time": "2025-03-17T13:04:19.733Z"
   },
   {
    "duration": 9,
    "start_time": "2025-03-17T13:04:19.754Z"
   },
   {
    "duration": 132,
    "start_time": "2025-03-17T13:04:19.765Z"
   },
   {
    "duration": 9,
    "start_time": "2025-03-17T13:04:19.899Z"
   },
   {
    "duration": 36,
    "start_time": "2025-03-17T13:04:19.910Z"
   },
   {
    "duration": 15,
    "start_time": "2025-03-17T13:04:19.948Z"
   },
   {
    "duration": 15,
    "start_time": "2025-03-17T13:04:19.964Z"
   },
   {
    "duration": 7,
    "start_time": "2025-03-17T13:04:19.981Z"
   },
   {
    "duration": 14,
    "start_time": "2025-03-17T13:04:19.989Z"
   },
   {
    "duration": 61,
    "start_time": "2025-03-17T13:04:20.007Z"
   },
   {
    "duration": 25,
    "start_time": "2025-03-17T13:04:20.069Z"
   },
   {
    "duration": 38,
    "start_time": "2025-03-17T13:04:20.095Z"
   },
   {
    "duration": 5,
    "start_time": "2025-03-17T13:04:20.134Z"
   },
   {
    "duration": 16,
    "start_time": "2025-03-17T13:04:20.141Z"
   },
   {
    "duration": 22,
    "start_time": "2025-03-17T13:04:20.159Z"
   },
   {
    "duration": 7,
    "start_time": "2025-03-17T13:04:20.183Z"
   },
   {
    "duration": 195,
    "start_time": "2025-03-17T13:04:20.191Z"
   },
   {
    "duration": 7,
    "start_time": "2025-03-17T13:04:20.388Z"
   },
   {
    "duration": 457,
    "start_time": "2025-03-17T13:04:20.397Z"
   },
   {
    "duration": 8,
    "start_time": "2025-03-17T13:04:20.856Z"
   },
   {
    "duration": 327,
    "start_time": "2025-03-17T13:04:20.865Z"
   },
   {
    "duration": 5,
    "start_time": "2025-03-17T13:04:21.194Z"
   },
   {
    "duration": 368,
    "start_time": "2025-03-17T13:04:21.200Z"
   },
   {
    "duration": 9,
    "start_time": "2025-03-17T13:04:21.570Z"
   },
   {
    "duration": 224,
    "start_time": "2025-03-17T13:04:21.581Z"
   },
   {
    "duration": 9,
    "start_time": "2025-03-17T13:04:21.806Z"
   },
   {
    "duration": 142,
    "start_time": "2025-03-17T13:04:21.830Z"
   },
   {
    "duration": 137,
    "start_time": "2025-03-17T13:04:21.974Z"
   },
   {
    "duration": 438,
    "start_time": "2025-03-17T13:04:22.113Z"
   },
   {
    "duration": 152,
    "start_time": "2025-03-17T13:04:22.553Z"
   },
   {
    "duration": 10,
    "start_time": "2025-03-17T13:04:22.706Z"
   },
   {
    "duration": 4,
    "start_time": "2025-03-17T13:04:22.729Z"
   },
   {
    "duration": 185,
    "start_time": "2025-03-17T13:04:22.735Z"
   },
   {
    "duration": 9,
    "start_time": "2025-03-17T13:04:22.922Z"
   },
   {
    "duration": 23,
    "start_time": "2025-03-17T13:04:22.932Z"
   },
   {
    "duration": 288,
    "start_time": "2025-03-17T13:04:22.956Z"
   },
   {
    "duration": 991,
    "start_time": "2025-03-17T13:04:23.245Z"
   },
   {
    "duration": 22,
    "start_time": "2025-03-17T13:04:24.238Z"
   },
   {
    "duration": 110,
    "start_time": "2025-03-17T13:04:24.262Z"
   },
   {
    "duration": 20,
    "start_time": "2025-03-17T13:04:24.373Z"
   },
   {
    "duration": 750,
    "start_time": "2025-03-17T13:04:24.395Z"
   },
   {
    "duration": 5037,
    "start_time": "2025-03-17T15:40:12.992Z"
   },
   {
    "duration": 236,
    "start_time": "2025-03-17T15:40:18.031Z"
   },
   {
    "duration": 20,
    "start_time": "2025-03-17T15:40:18.269Z"
   },
   {
    "duration": 13,
    "start_time": "2025-03-17T15:40:18.291Z"
   },
   {
    "duration": 16,
    "start_time": "2025-03-17T15:40:18.306Z"
   },
   {
    "duration": 9,
    "start_time": "2025-03-17T15:40:18.323Z"
   },
   {
    "duration": 45,
    "start_time": "2025-03-17T15:40:18.333Z"
   },
   {
    "duration": 11,
    "start_time": "2025-03-17T15:40:18.380Z"
   },
   {
    "duration": 13,
    "start_time": "2025-03-17T15:40:18.393Z"
   },
   {
    "duration": 22,
    "start_time": "2025-03-17T15:40:18.408Z"
   },
   {
    "duration": 14,
    "start_time": "2025-03-17T15:40:18.432Z"
   },
   {
    "duration": 27,
    "start_time": "2025-03-17T15:40:18.447Z"
   },
   {
    "duration": 9,
    "start_time": "2025-03-17T15:40:18.476Z"
   },
   {
    "duration": 16,
    "start_time": "2025-03-17T15:40:18.487Z"
   },
   {
    "duration": 16,
    "start_time": "2025-03-17T15:40:18.505Z"
   },
   {
    "duration": 11,
    "start_time": "2025-03-17T15:40:18.523Z"
   },
   {
    "duration": 69,
    "start_time": "2025-03-17T15:40:18.536Z"
   },
   {
    "duration": 26,
    "start_time": "2025-03-17T15:40:18.606Z"
   },
   {
    "duration": 46,
    "start_time": "2025-03-17T15:40:18.634Z"
   },
   {
    "duration": 10,
    "start_time": "2025-03-17T15:40:18.682Z"
   },
   {
    "duration": 137,
    "start_time": "2025-03-17T15:40:18.694Z"
   },
   {
    "duration": 11,
    "start_time": "2025-03-17T15:40:18.832Z"
   },
   {
    "duration": 37,
    "start_time": "2025-03-17T15:40:18.845Z"
   },
   {
    "duration": 16,
    "start_time": "2025-03-17T15:40:18.884Z"
   },
   {
    "duration": 29,
    "start_time": "2025-03-17T15:40:18.901Z"
   },
   {
    "duration": 67,
    "start_time": "2025-03-17T15:40:18.933Z"
   },
   {
    "duration": 7,
    "start_time": "2025-03-17T15:40:19.002Z"
   },
   {
    "duration": 33,
    "start_time": "2025-03-17T15:40:19.014Z"
   },
   {
    "duration": 23,
    "start_time": "2025-03-17T15:40:19.067Z"
   },
   {
    "duration": 42,
    "start_time": "2025-03-17T15:40:19.093Z"
   },
   {
    "duration": 32,
    "start_time": "2025-03-17T15:40:19.138Z"
   },
   {
    "duration": 32,
    "start_time": "2025-03-17T15:40:19.172Z"
   },
   {
    "duration": 39,
    "start_time": "2025-03-17T15:40:19.206Z"
   },
   {
    "duration": 8,
    "start_time": "2025-03-17T15:40:19.246Z"
   },
   {
    "duration": 189,
    "start_time": "2025-03-17T15:40:19.256Z"
   },
   {
    "duration": 8,
    "start_time": "2025-03-17T15:40:19.447Z"
   },
   {
    "duration": 402,
    "start_time": "2025-03-17T15:40:19.456Z"
   },
   {
    "duration": 11,
    "start_time": "2025-03-17T15:40:19.859Z"
   },
   {
    "duration": 326,
    "start_time": "2025-03-17T15:40:19.875Z"
   },
   {
    "duration": 5,
    "start_time": "2025-03-17T15:40:20.203Z"
   },
   {
    "duration": 301,
    "start_time": "2025-03-17T15:40:20.209Z"
   },
   {
    "duration": 11,
    "start_time": "2025-03-17T15:40:20.511Z"
   },
   {
    "duration": 259,
    "start_time": "2025-03-17T15:40:20.523Z"
   },
   {
    "duration": 11,
    "start_time": "2025-03-17T15:40:20.783Z"
   },
   {
    "duration": 186,
    "start_time": "2025-03-17T15:40:20.795Z"
   },
   {
    "duration": 129,
    "start_time": "2025-03-17T15:40:20.983Z"
   },
   {
    "duration": 486,
    "start_time": "2025-03-17T15:40:21.114Z"
   },
   {
    "duration": 178,
    "start_time": "2025-03-17T15:40:21.603Z"
   },
   {
    "duration": 11,
    "start_time": "2025-03-17T15:40:21.783Z"
   },
   {
    "duration": 9,
    "start_time": "2025-03-17T15:40:21.796Z"
   },
   {
    "duration": 229,
    "start_time": "2025-03-17T15:40:21.807Z"
   },
   {
    "duration": 5,
    "start_time": "2025-03-17T15:40:22.038Z"
   },
   {
    "duration": 38,
    "start_time": "2025-03-17T15:40:22.044Z"
   },
   {
    "duration": 325,
    "start_time": "2025-03-17T15:40:22.083Z"
   },
   {
    "duration": 1072,
    "start_time": "2025-03-17T15:40:22.409Z"
   },
   {
    "duration": 23,
    "start_time": "2025-03-17T15:40:23.483Z"
   },
   {
    "duration": 72,
    "start_time": "2025-03-17T15:40:23.508Z"
   },
   {
    "duration": 24,
    "start_time": "2025-03-17T15:40:23.582Z"
   },
   {
    "duration": 919,
    "start_time": "2025-03-17T15:40:23.608Z"
   },
   {
    "duration": 7,
    "start_time": "2025-03-17T15:41:08.395Z"
   },
   {
    "duration": 22,
    "start_time": "2025-03-17T15:42:05.858Z"
   },
   {
    "duration": 19,
    "start_time": "2025-03-17T15:42:17.356Z"
   },
   {
    "duration": 15,
    "start_time": "2025-03-17T15:42:20.296Z"
   },
   {
    "duration": 23,
    "start_time": "2025-03-17T15:42:24.662Z"
   },
   {
    "duration": 15,
    "start_time": "2025-03-17T15:42:31.489Z"
   },
   {
    "duration": 24,
    "start_time": "2025-03-17T15:42:36.088Z"
   },
   {
    "duration": 26,
    "start_time": "2025-03-17T15:42:44.127Z"
   },
   {
    "duration": 84,
    "start_time": "2025-03-17T15:43:31.443Z"
   },
   {
    "duration": 84,
    "start_time": "2025-03-17T15:43:35.069Z"
   },
   {
    "duration": 82,
    "start_time": "2025-03-17T15:43:38.599Z"
   },
   {
    "duration": 26,
    "start_time": "2025-03-17T15:43:44.680Z"
   },
   {
    "duration": 48,
    "start_time": "2025-03-17T15:44:16.492Z"
   },
   {
    "duration": 22,
    "start_time": "2025-03-17T15:45:50.218Z"
   },
   {
    "duration": 16,
    "start_time": "2025-03-17T15:45:51.462Z"
   },
   {
    "duration": 30,
    "start_time": "2025-03-17T15:59:49.764Z"
   },
   {
    "duration": 18,
    "start_time": "2025-03-17T15:59:52.599Z"
   },
   {
    "duration": 3760,
    "start_time": "2025-03-17T16:02:03.210Z"
   },
   {
    "duration": 270,
    "start_time": "2025-03-17T16:02:06.972Z"
   },
   {
    "duration": 16,
    "start_time": "2025-03-17T16:02:07.244Z"
   },
   {
    "duration": 18,
    "start_time": "2025-03-17T16:02:07.262Z"
   },
   {
    "duration": 26,
    "start_time": "2025-03-17T16:02:07.281Z"
   },
   {
    "duration": 9,
    "start_time": "2025-03-17T16:02:07.309Z"
   },
   {
    "duration": 11,
    "start_time": "2025-03-17T16:02:07.320Z"
   },
   {
    "duration": 16,
    "start_time": "2025-03-17T16:02:07.333Z"
   },
   {
    "duration": 23,
    "start_time": "2025-03-17T16:02:07.351Z"
   },
   {
    "duration": 26,
    "start_time": "2025-03-17T16:02:07.376Z"
   },
   {
    "duration": 16,
    "start_time": "2025-03-17T16:02:07.403Z"
   },
   {
    "duration": 4,
    "start_time": "2025-03-17T16:02:07.420Z"
   },
   {
    "duration": 5,
    "start_time": "2025-03-17T16:02:07.426Z"
   },
   {
    "duration": 40,
    "start_time": "2025-03-17T16:02:07.433Z"
   },
   {
    "duration": 9,
    "start_time": "2025-03-17T16:02:07.475Z"
   },
   {
    "duration": 18,
    "start_time": "2025-03-17T16:02:07.485Z"
   },
   {
    "duration": 73,
    "start_time": "2025-03-17T16:02:07.505Z"
   },
   {
    "duration": 24,
    "start_time": "2025-03-17T16:02:07.580Z"
   },
   {
    "duration": 23,
    "start_time": "2025-03-17T16:02:07.605Z"
   },
   {
    "duration": 9,
    "start_time": "2025-03-17T16:02:07.630Z"
   },
   {
    "duration": 159,
    "start_time": "2025-03-17T16:02:07.640Z"
   },
   {
    "duration": 9,
    "start_time": "2025-03-17T16:02:07.801Z"
   },
   {
    "duration": 29,
    "start_time": "2025-03-17T16:02:07.812Z"
   },
   {
    "duration": 25,
    "start_time": "2025-03-17T16:02:07.843Z"
   },
   {
    "duration": 9,
    "start_time": "2025-03-17T16:02:07.870Z"
   },
   {
    "duration": 67,
    "start_time": "2025-03-17T16:02:07.881Z"
   },
   {
    "duration": 33,
    "start_time": "2025-03-17T16:02:07.950Z"
   },
   {
    "duration": 16,
    "start_time": "2025-03-17T16:02:07.987Z"
   },
   {
    "duration": 29,
    "start_time": "2025-03-17T16:02:08.005Z"
   },
   {
    "duration": 41,
    "start_time": "2025-03-17T16:02:08.037Z"
   },
   {
    "duration": 28,
    "start_time": "2025-03-17T16:02:08.079Z"
   },
   {
    "duration": 5,
    "start_time": "2025-03-17T16:02:08.108Z"
   },
   {
    "duration": 18,
    "start_time": "2025-03-17T16:02:08.115Z"
   },
   {
    "duration": 54,
    "start_time": "2025-03-17T16:02:08.134Z"
   },
   {
    "duration": 7,
    "start_time": "2025-03-17T16:02:08.189Z"
   },
   {
    "duration": 192,
    "start_time": "2025-03-17T16:02:08.197Z"
   },
   {
    "duration": 7,
    "start_time": "2025-03-17T16:02:08.390Z"
   },
   {
    "duration": 395,
    "start_time": "2025-03-17T16:02:08.399Z"
   },
   {
    "duration": 8,
    "start_time": "2025-03-17T16:02:08.795Z"
   },
   {
    "duration": 334,
    "start_time": "2025-03-17T16:02:08.805Z"
   },
   {
    "duration": 5,
    "start_time": "2025-03-17T16:02:09.141Z"
   },
   {
    "duration": 258,
    "start_time": "2025-03-17T16:02:09.147Z"
   },
   {
    "duration": 10,
    "start_time": "2025-03-17T16:02:09.407Z"
   },
   {
    "duration": 227,
    "start_time": "2025-03-17T16:02:09.419Z"
   },
   {
    "duration": 19,
    "start_time": "2025-03-17T16:02:09.648Z"
   },
   {
    "duration": 126,
    "start_time": "2025-03-17T16:02:09.669Z"
   },
   {
    "duration": 132,
    "start_time": "2025-03-17T16:02:09.797Z"
   },
   {
    "duration": 447,
    "start_time": "2025-03-17T16:02:09.931Z"
   },
   {
    "duration": 154,
    "start_time": "2025-03-17T16:02:10.380Z"
   },
   {
    "duration": 10,
    "start_time": "2025-03-17T16:02:10.536Z"
   },
   {
    "duration": 6,
    "start_time": "2025-03-17T16:02:10.548Z"
   },
   {
    "duration": 194,
    "start_time": "2025-03-17T16:02:10.568Z"
   },
   {
    "duration": 12,
    "start_time": "2025-03-17T16:02:10.763Z"
   },
   {
    "duration": 68,
    "start_time": "2025-03-17T16:02:10.777Z"
   },
   {
    "duration": 325,
    "start_time": "2025-03-17T16:02:10.846Z"
   },
   {
    "duration": 1006,
    "start_time": "2025-03-17T16:02:11.172Z"
   },
   {
    "duration": 27,
    "start_time": "2025-03-17T16:02:12.180Z"
   },
   {
    "duration": 17,
    "start_time": "2025-03-17T16:02:12.208Z"
   },
   {
    "duration": 45,
    "start_time": "2025-03-17T16:02:12.228Z"
   },
   {
    "duration": 760,
    "start_time": "2025-03-17T16:02:12.274Z"
   },
   {
    "duration": 1064,
    "start_time": "2025-03-17T16:03:04.315Z"
   },
   {
    "duration": 9,
    "start_time": "2025-03-17T16:03:15.122Z"
   },
   {
    "duration": 1173,
    "start_time": "2025-03-17T16:03:34.576Z"
   },
   {
    "duration": 9,
    "start_time": "2025-03-17T16:03:57.253Z"
   },
   {
    "duration": 28,
    "start_time": "2025-03-17T16:05:04.118Z"
   },
   {
    "duration": 22,
    "start_time": "2025-03-17T16:05:05.568Z"
   },
   {
    "duration": 13,
    "start_time": "2025-03-17T16:05:30.819Z"
   },
   {
    "duration": 3738,
    "start_time": "2025-03-17T16:06:52.577Z"
   },
   {
    "duration": 301,
    "start_time": "2025-03-17T16:06:56.317Z"
   },
   {
    "duration": 17,
    "start_time": "2025-03-17T16:06:56.619Z"
   },
   {
    "duration": 11,
    "start_time": "2025-03-17T16:06:56.638Z"
   },
   {
    "duration": 17,
    "start_time": "2025-03-17T16:06:56.651Z"
   },
   {
    "duration": 10,
    "start_time": "2025-03-17T16:06:56.670Z"
   },
   {
    "duration": 22,
    "start_time": "2025-03-17T16:06:56.682Z"
   },
   {
    "duration": 15,
    "start_time": "2025-03-17T16:06:56.706Z"
   },
   {
    "duration": 13,
    "start_time": "2025-03-17T16:06:56.723Z"
   },
   {
    "duration": 38,
    "start_time": "2025-03-17T16:06:56.738Z"
   },
   {
    "duration": 15,
    "start_time": "2025-03-17T16:06:56.778Z"
   },
   {
    "duration": 4,
    "start_time": "2025-03-17T16:06:56.795Z"
   },
   {
    "duration": 5,
    "start_time": "2025-03-17T16:06:56.801Z"
   },
   {
    "duration": 10,
    "start_time": "2025-03-17T16:06:56.808Z"
   },
   {
    "duration": 54,
    "start_time": "2025-03-17T16:06:56.819Z"
   },
   {
    "duration": 19,
    "start_time": "2025-03-17T16:06:56.874Z"
   },
   {
    "duration": 53,
    "start_time": "2025-03-17T16:06:56.894Z"
   },
   {
    "duration": 38,
    "start_time": "2025-03-17T16:06:56.949Z"
   },
   {
    "duration": 23,
    "start_time": "2025-03-17T16:06:56.989Z"
   },
   {
    "duration": 9,
    "start_time": "2025-03-17T16:06:57.013Z"
   },
   {
    "duration": 150,
    "start_time": "2025-03-17T16:06:57.024Z"
   },
   {
    "duration": 15,
    "start_time": "2025-03-17T16:06:57.177Z"
   },
   {
    "duration": 32,
    "start_time": "2025-03-17T16:06:57.194Z"
   },
   {
    "duration": 44,
    "start_time": "2025-03-17T16:06:57.228Z"
   },
   {
    "duration": 9,
    "start_time": "2025-03-17T16:06:57.274Z"
   },
   {
    "duration": 49,
    "start_time": "2025-03-17T16:06:57.285Z"
   },
   {
    "duration": 59,
    "start_time": "2025-03-17T16:06:57.336Z"
   },
   {
    "duration": 24,
    "start_time": "2025-03-17T16:06:57.401Z"
   },
   {
    "duration": 57,
    "start_time": "2025-03-17T16:06:57.427Z"
   },
   {
    "duration": 4,
    "start_time": "2025-03-17T16:06:57.485Z"
   },
   {
    "duration": 0,
    "start_time": "2025-03-17T16:06:57.492Z"
   },
   {
    "duration": 0,
    "start_time": "2025-03-17T16:06:57.493Z"
   },
   {
    "duration": 0,
    "start_time": "2025-03-17T16:06:57.494Z"
   },
   {
    "duration": 0,
    "start_time": "2025-03-17T16:06:57.495Z"
   },
   {
    "duration": 0,
    "start_time": "2025-03-17T16:06:57.496Z"
   },
   {
    "duration": 0,
    "start_time": "2025-03-17T16:06:57.497Z"
   },
   {
    "duration": 0,
    "start_time": "2025-03-17T16:06:57.498Z"
   },
   {
    "duration": 0,
    "start_time": "2025-03-17T16:06:57.499Z"
   },
   {
    "duration": 0,
    "start_time": "2025-03-17T16:06:57.500Z"
   },
   {
    "duration": 0,
    "start_time": "2025-03-17T16:06:57.501Z"
   },
   {
    "duration": 0,
    "start_time": "2025-03-17T16:06:57.502Z"
   },
   {
    "duration": 0,
    "start_time": "2025-03-17T16:06:57.504Z"
   },
   {
    "duration": 0,
    "start_time": "2025-03-17T16:06:57.505Z"
   },
   {
    "duration": 0,
    "start_time": "2025-03-17T16:06:57.506Z"
   },
   {
    "duration": 0,
    "start_time": "2025-03-17T16:06:57.507Z"
   },
   {
    "duration": 0,
    "start_time": "2025-03-17T16:06:57.508Z"
   },
   {
    "duration": 0,
    "start_time": "2025-03-17T16:06:57.509Z"
   },
   {
    "duration": 0,
    "start_time": "2025-03-17T16:06:57.510Z"
   },
   {
    "duration": 0,
    "start_time": "2025-03-17T16:06:57.511Z"
   },
   {
    "duration": 0,
    "start_time": "2025-03-17T16:06:57.512Z"
   },
   {
    "duration": 0,
    "start_time": "2025-03-17T16:06:57.513Z"
   },
   {
    "duration": 0,
    "start_time": "2025-03-17T16:06:57.514Z"
   },
   {
    "duration": 0,
    "start_time": "2025-03-17T16:06:57.515Z"
   },
   {
    "duration": 0,
    "start_time": "2025-03-17T16:06:57.516Z"
   },
   {
    "duration": 0,
    "start_time": "2025-03-17T16:06:57.517Z"
   },
   {
    "duration": 0,
    "start_time": "2025-03-17T16:06:57.518Z"
   },
   {
    "duration": 0,
    "start_time": "2025-03-17T16:06:57.519Z"
   },
   {
    "duration": 0,
    "start_time": "2025-03-17T16:06:57.568Z"
   },
   {
    "duration": 0,
    "start_time": "2025-03-17T16:06:57.573Z"
   },
   {
    "duration": 0,
    "start_time": "2025-03-17T16:06:57.573Z"
   },
   {
    "duration": 71,
    "start_time": "2025-03-17T16:07:32.079Z"
   },
   {
    "duration": 27,
    "start_time": "2025-03-17T16:07:36.200Z"
   },
   {
    "duration": 7,
    "start_time": "2025-03-17T16:08:58.645Z"
   },
   {
    "duration": 26,
    "start_time": "2025-03-17T16:08:59.638Z"
   },
   {
    "duration": 24,
    "start_time": "2025-03-17T16:09:15.512Z"
   },
   {
    "duration": 10,
    "start_time": "2025-03-17T16:10:20.521Z"
   },
   {
    "duration": 23,
    "start_time": "2025-03-17T16:10:23.519Z"
   },
   {
    "duration": 22,
    "start_time": "2025-03-17T16:10:28.923Z"
   },
   {
    "duration": 22,
    "start_time": "2025-03-17T16:13:30.766Z"
   },
   {
    "duration": 11,
    "start_time": "2025-03-17T16:13:33.775Z"
   },
   {
    "duration": 78,
    "start_time": "2025-03-17T16:26:28.818Z"
   },
   {
    "duration": 11,
    "start_time": "2025-03-17T16:27:54.513Z"
   },
   {
    "duration": 4,
    "start_time": "2025-03-17T16:30:36.518Z"
   },
   {
    "duration": 5,
    "start_time": "2025-03-17T16:30:39.568Z"
   },
   {
    "duration": 4,
    "start_time": "2025-03-17T16:30:41.548Z"
   },
   {
    "duration": 4,
    "start_time": "2025-03-17T16:30:42.725Z"
   },
   {
    "duration": 4,
    "start_time": "2025-03-17T16:30:52.254Z"
   },
   {
    "duration": 4,
    "start_time": "2025-03-17T16:30:53.416Z"
   },
   {
    "duration": 111,
    "start_time": "2025-03-17T16:35:18.584Z"
   },
   {
    "duration": 3855,
    "start_time": "2025-03-17T16:35:34.627Z"
   },
   {
    "duration": 323,
    "start_time": "2025-03-17T16:35:38.485Z"
   },
   {
    "duration": 19,
    "start_time": "2025-03-17T16:35:38.810Z"
   },
   {
    "duration": 12,
    "start_time": "2025-03-17T16:35:38.831Z"
   },
   {
    "duration": 16,
    "start_time": "2025-03-17T16:35:38.845Z"
   },
   {
    "duration": 9,
    "start_time": "2025-03-17T16:35:38.863Z"
   },
   {
    "duration": 10,
    "start_time": "2025-03-17T16:35:38.874Z"
   },
   {
    "duration": 68,
    "start_time": "2025-03-17T16:35:38.886Z"
   },
   {
    "duration": 29,
    "start_time": "2025-03-17T16:35:38.956Z"
   },
   {
    "duration": 46,
    "start_time": "2025-03-17T16:35:38.989Z"
   },
   {
    "duration": 21,
    "start_time": "2025-03-17T16:35:39.037Z"
   },
   {
    "duration": 7,
    "start_time": "2025-03-17T16:35:39.060Z"
   },
   {
    "duration": 15,
    "start_time": "2025-03-17T16:35:39.068Z"
   },
   {
    "duration": 14,
    "start_time": "2025-03-17T16:35:39.084Z"
   },
   {
    "duration": 11,
    "start_time": "2025-03-17T16:35:39.100Z"
   },
   {
    "duration": 15,
    "start_time": "2025-03-17T16:35:39.112Z"
   },
   {
    "duration": 66,
    "start_time": "2025-03-17T16:35:39.129Z"
   },
   {
    "duration": 26,
    "start_time": "2025-03-17T16:35:39.197Z"
   },
   {
    "duration": 22,
    "start_time": "2025-03-17T16:35:39.224Z"
   },
   {
    "duration": 11,
    "start_time": "2025-03-17T16:35:39.267Z"
   },
   {
    "duration": 133,
    "start_time": "2025-03-17T16:35:39.279Z"
   },
   {
    "duration": 9,
    "start_time": "2025-03-17T16:35:39.414Z"
   },
   {
    "duration": 43,
    "start_time": "2025-03-17T16:35:39.425Z"
   },
   {
    "duration": 16,
    "start_time": "2025-03-17T16:35:39.470Z"
   },
   {
    "duration": 18,
    "start_time": "2025-03-17T16:35:39.488Z"
   },
   {
    "duration": 62,
    "start_time": "2025-03-17T16:35:39.507Z"
   },
   {
    "duration": 32,
    "start_time": "2025-03-17T16:35:39.570Z"
   },
   {
    "duration": 15,
    "start_time": "2025-03-17T16:35:39.606Z"
   },
   {
    "duration": 57,
    "start_time": "2025-03-17T16:35:39.622Z"
   },
   {
    "duration": 10,
    "start_time": "2025-03-17T16:35:39.680Z"
   },
   {
    "duration": 43,
    "start_time": "2025-03-17T16:35:39.692Z"
   },
   {
    "duration": 22,
    "start_time": "2025-03-17T16:35:39.737Z"
   },
   {
    "duration": 17,
    "start_time": "2025-03-17T16:35:39.760Z"
   },
   {
    "duration": 15,
    "start_time": "2025-03-17T16:35:39.779Z"
   },
   {
    "duration": 23,
    "start_time": "2025-03-17T16:35:39.795Z"
   },
   {
    "duration": 11,
    "start_time": "2025-03-17T16:35:39.820Z"
   },
   {
    "duration": 4,
    "start_time": "2025-03-17T16:35:39.833Z"
   },
   {
    "duration": 29,
    "start_time": "2025-03-17T16:35:39.839Z"
   },
   {
    "duration": 7,
    "start_time": "2025-03-17T16:35:39.870Z"
   },
   {
    "duration": 204,
    "start_time": "2025-03-17T16:35:39.879Z"
   },
   {
    "duration": 8,
    "start_time": "2025-03-17T16:35:40.084Z"
   },
   {
    "duration": 419,
    "start_time": "2025-03-17T16:35:40.093Z"
   },
   {
    "duration": 8,
    "start_time": "2025-03-17T16:35:40.514Z"
   },
   {
    "duration": 326,
    "start_time": "2025-03-17T16:35:40.524Z"
   },
   {
    "duration": 5,
    "start_time": "2025-03-17T16:35:40.852Z"
   },
   {
    "duration": 262,
    "start_time": "2025-03-17T16:35:40.868Z"
   },
   {
    "duration": 11,
    "start_time": "2025-03-17T16:35:41.131Z"
   },
   {
    "duration": 243,
    "start_time": "2025-03-17T16:35:41.144Z"
   },
   {
    "duration": 8,
    "start_time": "2025-03-17T16:35:41.389Z"
   },
   {
    "duration": 152,
    "start_time": "2025-03-17T16:35:41.398Z"
   },
   {
    "duration": 138,
    "start_time": "2025-03-17T16:35:41.552Z"
   },
   {
    "duration": 483,
    "start_time": "2025-03-17T16:35:41.692Z"
   },
   {
    "duration": 205,
    "start_time": "2025-03-17T16:35:42.178Z"
   },
   {
    "duration": 11,
    "start_time": "2025-03-17T16:35:42.385Z"
   },
   {
    "duration": 6,
    "start_time": "2025-03-17T16:35:42.398Z"
   },
   {
    "duration": 213,
    "start_time": "2025-03-17T16:35:42.406Z"
   },
   {
    "duration": 5,
    "start_time": "2025-03-17T16:35:42.621Z"
   },
   {
    "duration": 17,
    "start_time": "2025-03-17T16:35:42.628Z"
   },
   {
    "duration": 348,
    "start_time": "2025-03-17T16:35:42.648Z"
   },
   {
    "duration": 685,
    "start_time": "2025-03-17T16:35:42.998Z"
   },
   {
    "duration": 23,
    "start_time": "2025-03-17T16:35:43.686Z"
   },
   {
    "duration": 15,
    "start_time": "2025-03-17T16:35:43.711Z"
   },
   {
    "duration": 46,
    "start_time": "2025-03-17T16:35:43.728Z"
   },
   {
    "duration": 669,
    "start_time": "2025-03-17T16:35:43.776Z"
   },
   {
    "duration": 14,
    "start_time": "2025-03-17T17:17:38.173Z"
   },
   {
    "duration": 13,
    "start_time": "2025-03-17T17:18:30.249Z"
   },
   {
    "duration": 870,
    "start_time": "2025-03-17T17:20:23.252Z"
   },
   {
    "duration": 855,
    "start_time": "2025-03-17T17:20:36.013Z"
   },
   {
    "duration": 769,
    "start_time": "2025-03-17T17:21:07.446Z"
   },
   {
    "duration": 749,
    "start_time": "2025-03-17T17:21:22.057Z"
   },
   {
    "duration": 10,
    "start_time": "2025-03-17T17:23:02.174Z"
   },
   {
    "duration": 785,
    "start_time": "2025-03-17T17:23:11.961Z"
   },
   {
    "duration": 136,
    "start_time": "2025-03-17T17:23:21.649Z"
   },
   {
    "duration": 11,
    "start_time": "2025-03-17T17:23:24.244Z"
   },
   {
    "duration": 13,
    "start_time": "2025-03-17T17:24:50.733Z"
   },
   {
    "duration": 17,
    "start_time": "2025-03-17T17:25:01.342Z"
   },
   {
    "duration": 4,
    "start_time": "2025-03-17T17:25:22.253Z"
   },
   {
    "duration": 23,
    "start_time": "2025-03-17T17:25:25.216Z"
   },
   {
    "duration": 7,
    "start_time": "2025-03-17T17:25:51.546Z"
   },
   {
    "duration": 15,
    "start_time": "2025-03-17T17:25:59.044Z"
   },
   {
    "duration": 1060,
    "start_time": "2025-03-17T17:26:50.464Z"
   },
   {
    "duration": 281,
    "start_time": "2025-03-17T17:27:49.025Z"
   },
   {
    "duration": 264,
    "start_time": "2025-03-17T17:28:20.903Z"
   },
   {
    "duration": 10,
    "start_time": "2025-03-17T17:29:01.699Z"
   },
   {
    "duration": 11,
    "start_time": "2025-03-17T17:29:10.523Z"
   },
   {
    "duration": 11,
    "start_time": "2025-03-17T17:29:20.866Z"
   },
   {
    "duration": 10,
    "start_time": "2025-03-17T17:29:35.916Z"
   },
   {
    "duration": 13,
    "start_time": "2025-03-17T17:29:57.126Z"
   },
   {
    "duration": 6,
    "start_time": "2025-03-17T17:30:01.439Z"
   },
   {
    "duration": 13,
    "start_time": "2025-03-17T17:30:18.603Z"
   },
   {
    "duration": 16,
    "start_time": "2025-03-17T17:30:51.757Z"
   },
   {
    "duration": 14,
    "start_time": "2025-03-17T17:30:55.160Z"
   },
   {
    "duration": 42,
    "start_time": "2025-03-17T17:31:15.659Z"
   },
   {
    "duration": 20,
    "start_time": "2025-03-17T17:31:33.223Z"
   },
   {
    "duration": 18,
    "start_time": "2025-03-17T17:31:48.229Z"
   },
   {
    "duration": 16,
    "start_time": "2025-03-17T17:32:13.641Z"
   },
   {
    "duration": 12,
    "start_time": "2025-03-17T17:32:28.633Z"
   },
   {
    "duration": 6,
    "start_time": "2025-03-17T17:37:01.060Z"
   },
   {
    "duration": 17,
    "start_time": "2025-03-17T17:37:06.661Z"
   },
   {
    "duration": 7,
    "start_time": "2025-03-17T17:37:14.437Z"
   },
   {
    "duration": 11,
    "start_time": "2025-03-17T17:39:02.827Z"
   },
   {
    "duration": 14,
    "start_time": "2025-03-17T17:39:37.546Z"
   },
   {
    "duration": 13,
    "start_time": "2025-03-17T17:40:27.215Z"
   },
   {
    "duration": 13,
    "start_time": "2025-03-17T17:40:38.327Z"
   },
   {
    "duration": 6,
    "start_time": "2025-03-17T17:41:08.568Z"
   },
   {
    "duration": 6,
    "start_time": "2025-03-17T17:41:21.109Z"
   },
   {
    "duration": 6,
    "start_time": "2025-03-17T17:41:34.085Z"
   },
   {
    "duration": 7,
    "start_time": "2025-03-17T17:41:41.011Z"
   },
   {
    "duration": 8,
    "start_time": "2025-03-17T17:43:39.124Z"
   },
   {
    "duration": 10,
    "start_time": "2025-03-17T17:43:55.280Z"
   },
   {
    "duration": 5,
    "start_time": "2025-03-17T17:45:14.912Z"
   },
   {
    "duration": 7,
    "start_time": "2025-03-17T17:45:27.564Z"
   },
   {
    "duration": 213,
    "start_time": "2025-03-17T17:46:08.725Z"
   },
   {
    "duration": 23,
    "start_time": "2025-03-17T17:47:40.683Z"
   },
   {
    "duration": 18,
    "start_time": "2025-03-17T17:47:52.775Z"
   },
   {
    "duration": 9,
    "start_time": "2025-03-17T17:48:19.199Z"
   },
   {
    "duration": 22,
    "start_time": "2025-03-17T17:48:24.391Z"
   },
   {
    "duration": 10,
    "start_time": "2025-03-17T17:48:48.419Z"
   },
   {
    "duration": 6,
    "start_time": "2025-03-17T17:49:52.552Z"
   },
   {
    "duration": 7,
    "start_time": "2025-03-17T17:50:04.488Z"
   },
   {
    "duration": 218,
    "start_time": "2025-03-17T17:50:09.112Z"
   },
   {
    "duration": 321,
    "start_time": "2025-03-17T17:50:38.265Z"
   },
   {
    "duration": 360,
    "start_time": "2025-03-17T17:52:28.099Z"
   },
   {
    "duration": 142,
    "start_time": "2025-03-17T17:53:57.496Z"
   },
   {
    "duration": 195,
    "start_time": "2025-03-17T17:55:32.492Z"
   },
   {
    "duration": 187,
    "start_time": "2025-03-17T17:55:44.612Z"
   },
   {
    "duration": 7,
    "start_time": "2025-03-17T17:56:42.185Z"
   },
   {
    "duration": 211,
    "start_time": "2025-03-17T17:57:12.997Z"
   },
   {
    "duration": 219,
    "start_time": "2025-03-17T17:57:24.356Z"
   },
   {
    "duration": 222,
    "start_time": "2025-03-17T17:57:46.899Z"
   },
   {
    "duration": 193,
    "start_time": "2025-03-17T17:58:12.099Z"
   },
   {
    "duration": 315,
    "start_time": "2025-03-17T17:58:43.043Z"
   },
   {
    "duration": 317,
    "start_time": "2025-03-17T17:59:04.288Z"
   },
   {
    "duration": 15,
    "start_time": "2025-03-17T17:59:45.919Z"
   },
   {
    "duration": 13,
    "start_time": "2025-03-17T17:59:52.880Z"
   },
   {
    "duration": 438,
    "start_time": "2025-03-17T18:00:04.642Z"
   },
   {
    "duration": 329,
    "start_time": "2025-03-17T18:00:15.015Z"
   },
   {
    "duration": 186,
    "start_time": "2025-03-17T18:08:49.490Z"
   },
   {
    "duration": 192,
    "start_time": "2025-03-17T18:09:14.199Z"
   },
   {
    "duration": 1244,
    "start_time": "2025-03-17T18:09:28.841Z"
   },
   {
    "duration": 833,
    "start_time": "2025-03-17T18:11:18.566Z"
   },
   {
    "duration": 9863,
    "start_time": "2025-03-17T18:11:50.280Z"
   },
   {
    "duration": 55284,
    "start_time": "2025-03-17T18:14:14.136Z"
   },
   {
    "duration": 55361,
    "start_time": "2025-03-17T18:15:53.527Z"
   },
   {
    "duration": 10236,
    "start_time": "2025-03-17T18:17:40.573Z"
   },
   {
    "duration": 298,
    "start_time": "2025-03-17T18:20:58.397Z"
   },
   {
    "duration": 275,
    "start_time": "2025-03-17T18:21:04.616Z"
   },
   {
    "duration": 317,
    "start_time": "2025-03-17T18:21:09.874Z"
   },
   {
    "duration": 9848,
    "start_time": "2025-03-17T18:22:12.261Z"
   },
   {
    "duration": 298,
    "start_time": "2025-03-17T18:22:25.378Z"
   },
   {
    "duration": 299,
    "start_time": "2025-03-17T18:23:21.389Z"
   },
   {
    "duration": 22,
    "start_time": "2025-03-17T18:30:30.163Z"
   },
   {
    "duration": 81,
    "start_time": "2025-03-17T18:32:05.835Z"
   },
   {
    "duration": 3892,
    "start_time": "2025-03-17T18:32:19.329Z"
   },
   {
    "duration": 197,
    "start_time": "2025-03-17T18:32:23.223Z"
   },
   {
    "duration": 17,
    "start_time": "2025-03-17T18:32:23.421Z"
   },
   {
    "duration": 19,
    "start_time": "2025-03-17T18:32:23.440Z"
   },
   {
    "duration": 16,
    "start_time": "2025-03-17T18:32:23.461Z"
   },
   {
    "duration": 21,
    "start_time": "2025-03-17T18:32:23.479Z"
   },
   {
    "duration": 16,
    "start_time": "2025-03-17T18:32:23.502Z"
   },
   {
    "duration": 27,
    "start_time": "2025-03-17T18:32:23.519Z"
   },
   {
    "duration": 17,
    "start_time": "2025-03-17T18:32:23.548Z"
   },
   {
    "duration": 41,
    "start_time": "2025-03-17T18:32:23.568Z"
   },
   {
    "duration": 22,
    "start_time": "2025-03-17T18:32:23.611Z"
   },
   {
    "duration": 5,
    "start_time": "2025-03-17T18:32:23.635Z"
   },
   {
    "duration": 6,
    "start_time": "2025-03-17T18:32:23.641Z"
   },
   {
    "duration": 26,
    "start_time": "2025-03-17T18:32:23.648Z"
   },
   {
    "duration": 21,
    "start_time": "2025-03-17T18:32:23.675Z"
   },
   {
    "duration": 15,
    "start_time": "2025-03-17T18:32:23.698Z"
   },
   {
    "duration": 67,
    "start_time": "2025-03-17T18:32:23.714Z"
   },
   {
    "duration": 27,
    "start_time": "2025-03-17T18:32:23.782Z"
   },
   {
    "duration": 23,
    "start_time": "2025-03-17T18:32:23.811Z"
   },
   {
    "duration": 37,
    "start_time": "2025-03-17T18:32:23.836Z"
   },
   {
    "duration": 142,
    "start_time": "2025-03-17T18:32:23.875Z"
   },
   {
    "duration": 9,
    "start_time": "2025-03-17T18:32:24.019Z"
   },
   {
    "duration": 28,
    "start_time": "2025-03-17T18:32:24.030Z"
   },
   {
    "duration": 36,
    "start_time": "2025-03-17T18:32:24.068Z"
   },
   {
    "duration": 19,
    "start_time": "2025-03-17T18:32:24.105Z"
   },
   {
    "duration": 58,
    "start_time": "2025-03-17T18:32:24.126Z"
   },
   {
    "duration": 31,
    "start_time": "2025-03-17T18:32:24.186Z"
   },
   {
    "duration": 15,
    "start_time": "2025-03-17T18:32:24.220Z"
   },
   {
    "duration": 53,
    "start_time": "2025-03-17T18:32:24.237Z"
   },
   {
    "duration": 9,
    "start_time": "2025-03-17T18:32:24.292Z"
   },
   {
    "duration": 34,
    "start_time": "2025-03-17T18:32:24.303Z"
   },
   {
    "duration": 47,
    "start_time": "2025-03-17T18:32:24.338Z"
   },
   {
    "duration": 6,
    "start_time": "2025-03-17T18:32:24.386Z"
   },
   {
    "duration": 24,
    "start_time": "2025-03-17T18:32:24.393Z"
   },
   {
    "duration": 54,
    "start_time": "2025-03-17T18:32:24.419Z"
   },
   {
    "duration": 15,
    "start_time": "2025-03-17T18:32:24.475Z"
   },
   {
    "duration": 12,
    "start_time": "2025-03-17T18:32:24.492Z"
   },
   {
    "duration": 17,
    "start_time": "2025-03-17T18:32:24.506Z"
   },
   {
    "duration": 9,
    "start_time": "2025-03-17T18:32:24.525Z"
   },
   {
    "duration": 207,
    "start_time": "2025-03-17T18:32:24.535Z"
   },
   {
    "duration": 7,
    "start_time": "2025-03-17T18:32:24.744Z"
   },
   {
    "duration": 399,
    "start_time": "2025-03-17T18:32:24.752Z"
   },
   {
    "duration": 17,
    "start_time": "2025-03-17T18:32:25.152Z"
   },
   {
    "duration": 318,
    "start_time": "2025-03-17T18:32:25.171Z"
   },
   {
    "duration": 6,
    "start_time": "2025-03-17T18:32:25.491Z"
   },
   {
    "duration": 325,
    "start_time": "2025-03-17T18:32:25.499Z"
   },
   {
    "duration": 10,
    "start_time": "2025-03-17T18:32:25.826Z"
   },
   {
    "duration": 6,
    "start_time": "2025-03-17T18:32:25.838Z"
   },
   {
    "duration": 6,
    "start_time": "2025-03-17T18:32:25.868Z"
   },
   {
    "duration": 321,
    "start_time": "2025-03-17T18:32:25.876Z"
   },
   {
    "duration": 9,
    "start_time": "2025-03-17T18:32:26.199Z"
   },
   {
    "duration": 149,
    "start_time": "2025-03-17T18:32:26.210Z"
   },
   {
    "duration": 144,
    "start_time": "2025-03-17T18:32:26.361Z"
   },
   {
    "duration": 488,
    "start_time": "2025-03-17T18:32:26.506Z"
   },
   {
    "duration": 161,
    "start_time": "2025-03-17T18:32:26.996Z"
   },
   {
    "duration": 16,
    "start_time": "2025-03-17T18:32:27.159Z"
   },
   {
    "duration": 5,
    "start_time": "2025-03-17T18:32:27.176Z"
   },
   {
    "duration": 396,
    "start_time": "2025-03-17T18:32:27.182Z"
   },
   {
    "duration": 5,
    "start_time": "2025-03-17T18:32:27.581Z"
   },
   {
    "duration": 193122,
    "start_time": "2025-03-17T18:32:27.588Z"
   },
   {
    "duration": 265,
    "start_time": "2025-03-17T18:35:40.711Z"
   },
   {
    "duration": 25,
    "start_time": "2025-03-17T18:35:40.979Z"
   },
   {
    "duration": 16,
    "start_time": "2025-03-17T18:35:41.006Z"
   },
   {
    "duration": 52,
    "start_time": "2025-03-17T18:35:41.024Z"
   },
   {
    "duration": 791,
    "start_time": "2025-03-17T18:35:41.078Z"
   },
   {
    "duration": 12,
    "start_time": "2025-03-17T19:16:24.753Z"
   },
   {
    "duration": 11,
    "start_time": "2025-03-17T19:16:35.984Z"
   },
   {
    "duration": 199,
    "start_time": "2025-03-17T19:18:06.316Z"
   },
   {
    "duration": 30,
    "start_time": "2025-03-17T19:18:12.873Z"
   },
   {
    "duration": 18,
    "start_time": "2025-03-17T19:18:35.705Z"
   },
   {
    "duration": 19,
    "start_time": "2025-03-17T19:19:05.701Z"
   },
   {
    "duration": 27,
    "start_time": "2025-03-17T19:19:12.081Z"
   },
   {
    "duration": 17,
    "start_time": "2025-03-17T19:19:15.020Z"
   },
   {
    "duration": 258,
    "start_time": "2025-03-17T19:20:21.005Z"
   },
   {
    "duration": 249,
    "start_time": "2025-03-17T19:20:55.171Z"
   },
   {
    "duration": 247,
    "start_time": "2025-03-17T19:21:18.439Z"
   },
   {
    "duration": 262,
    "start_time": "2025-03-17T19:21:28.924Z"
   },
   {
    "duration": 216,
    "start_time": "2025-03-17T19:21:42.704Z"
   },
   {
    "duration": 283,
    "start_time": "2025-03-17T19:21:48.881Z"
   },
   {
    "duration": 223,
    "start_time": "2025-03-17T19:22:06.797Z"
   },
   {
    "duration": 231,
    "start_time": "2025-03-17T19:22:12.416Z"
   },
   {
    "duration": 302,
    "start_time": "2025-03-17T19:23:04.917Z"
   },
   {
    "duration": 247,
    "start_time": "2025-03-17T19:23:08.089Z"
   },
   {
    "duration": 12,
    "start_time": "2025-03-17T19:23:24.641Z"
   },
   {
    "duration": 20,
    "start_time": "2025-03-17T19:23:40.245Z"
   },
   {
    "duration": 231,
    "start_time": "2025-03-17T19:25:14.393Z"
   },
   {
    "duration": 223,
    "start_time": "2025-03-17T19:25:22.780Z"
   },
   {
    "duration": 261,
    "start_time": "2025-03-17T19:25:35.745Z"
   },
   {
    "duration": 213,
    "start_time": "2025-03-17T19:25:42.793Z"
   },
   {
    "duration": 228,
    "start_time": "2025-03-17T19:25:51.200Z"
   },
   {
    "duration": 232,
    "start_time": "2025-03-17T19:26:10.056Z"
   },
   {
    "duration": 245,
    "start_time": "2025-03-17T19:26:14.153Z"
   },
   {
    "duration": 251,
    "start_time": "2025-03-17T19:26:49.369Z"
   },
   {
    "duration": 270,
    "start_time": "2025-03-17T19:27:05.965Z"
   },
   {
    "duration": 554,
    "start_time": "2025-03-17T19:27:23.774Z"
   },
   {
    "duration": 379,
    "start_time": "2025-03-17T19:27:30.480Z"
   },
   {
    "duration": 460,
    "start_time": "2025-03-17T19:27:56.171Z"
   },
   {
    "duration": 363,
    "start_time": "2025-03-17T19:28:49.472Z"
   },
   {
    "duration": 359,
    "start_time": "2025-03-17T19:28:55.531Z"
   },
   {
    "duration": 397,
    "start_time": "2025-03-17T19:29:16.741Z"
   },
   {
    "duration": 364,
    "start_time": "2025-03-17T19:31:35.950Z"
   },
   {
    "duration": 370,
    "start_time": "2025-03-17T19:31:49.509Z"
   },
   {
    "duration": 380,
    "start_time": "2025-03-17T19:31:54.721Z"
   },
   {
    "duration": 465,
    "start_time": "2025-03-17T19:32:41.160Z"
   },
   {
    "duration": 582,
    "start_time": "2025-03-17T19:35:47.477Z"
   },
   {
    "duration": 712,
    "start_time": "2025-03-17T19:36:41.258Z"
   },
   {
    "duration": 702,
    "start_time": "2025-03-17T19:38:37.249Z"
   },
   {
    "duration": 588,
    "start_time": "2025-03-17T19:38:54.699Z"
   },
   {
    "duration": 645,
    "start_time": "2025-03-17T19:39:21.972Z"
   },
   {
    "duration": 531,
    "start_time": "2025-03-17T19:39:59.310Z"
   },
   {
    "duration": 551,
    "start_time": "2025-03-17T19:57:20.955Z"
   },
   {
    "duration": 784,
    "start_time": "2025-03-17T19:59:40.937Z"
   },
   {
    "duration": 808,
    "start_time": "2025-03-17T20:00:15.836Z"
   },
   {
    "duration": 613,
    "start_time": "2025-03-17T20:00:43.040Z"
   },
   {
    "duration": 600,
    "start_time": "2025-03-17T20:00:46.832Z"
   },
   {
    "duration": 87,
    "start_time": "2025-03-17T20:01:26.310Z"
   },
   {
    "duration": 634,
    "start_time": "2025-03-17T20:01:38.681Z"
   },
   {
    "duration": 613,
    "start_time": "2025-03-17T20:01:45.733Z"
   },
   {
    "duration": 570,
    "start_time": "2025-03-17T20:01:50.585Z"
   },
   {
    "duration": 722,
    "start_time": "2025-03-17T20:03:42.423Z"
   },
   {
    "duration": 8,
    "start_time": "2025-03-17T20:05:56.291Z"
   },
   {
    "duration": 28,
    "start_time": "2025-03-17T20:06:36.503Z"
   },
   {
    "duration": 11,
    "start_time": "2025-03-17T20:07:42.730Z"
   },
   {
    "duration": 10,
    "start_time": "2025-03-17T20:07:51.340Z"
   },
   {
    "duration": 11,
    "start_time": "2025-03-17T20:07:59.953Z"
   },
   {
    "duration": 10,
    "start_time": "2025-03-17T20:08:16.746Z"
   },
   {
    "duration": 19,
    "start_time": "2025-03-17T20:09:44.463Z"
   },
   {
    "duration": 519,
    "start_time": "2025-03-17T20:14:19.783Z"
   },
   {
    "duration": 381,
    "start_time": "2025-03-17T20:14:26.706Z"
   },
   {
    "duration": 445,
    "start_time": "2025-03-17T20:14:37.362Z"
   },
   {
    "duration": 339,
    "start_time": "2025-03-17T20:14:43.654Z"
   },
   {
    "duration": 249,
    "start_time": "2025-03-17T20:15:29.456Z"
   },
   {
    "duration": 369,
    "start_time": "2025-03-17T20:15:32.563Z"
   },
   {
    "duration": 365,
    "start_time": "2025-03-17T20:15:56.754Z"
   },
   {
    "duration": 391,
    "start_time": "2025-03-17T20:16:01.310Z"
   },
   {
    "duration": 375,
    "start_time": "2025-03-17T20:16:05.783Z"
   },
   {
    "duration": 527,
    "start_time": "2025-03-17T20:18:42.808Z"
   },
   {
    "duration": 4000,
    "start_time": "2025-03-17T20:41:00.207Z"
   },
   {
    "duration": 246,
    "start_time": "2025-03-17T20:41:04.210Z"
   },
   {
    "duration": 19,
    "start_time": "2025-03-17T20:41:04.458Z"
   },
   {
    "duration": 16,
    "start_time": "2025-03-17T20:41:04.480Z"
   },
   {
    "duration": 15,
    "start_time": "2025-03-17T20:41:04.498Z"
   },
   {
    "duration": 10,
    "start_time": "2025-03-17T20:41:04.514Z"
   },
   {
    "duration": 40,
    "start_time": "2025-03-17T20:41:04.526Z"
   },
   {
    "duration": 18,
    "start_time": "2025-03-17T20:41:04.572Z"
   },
   {
    "duration": 27,
    "start_time": "2025-03-17T20:41:04.592Z"
   },
   {
    "duration": 23,
    "start_time": "2025-03-17T20:41:04.621Z"
   },
   {
    "duration": 13,
    "start_time": "2025-03-17T20:41:04.645Z"
   },
   {
    "duration": 10,
    "start_time": "2025-03-17T20:41:04.660Z"
   },
   {
    "duration": 19,
    "start_time": "2025-03-17T20:41:04.671Z"
   },
   {
    "duration": 20,
    "start_time": "2025-03-17T20:41:04.691Z"
   },
   {
    "duration": 9,
    "start_time": "2025-03-17T20:41:04.713Z"
   },
   {
    "duration": 11,
    "start_time": "2025-03-17T20:41:04.724Z"
   },
   {
    "duration": 81,
    "start_time": "2025-03-17T20:41:04.736Z"
   },
   {
    "duration": 25,
    "start_time": "2025-03-17T20:41:04.818Z"
   },
   {
    "duration": 49,
    "start_time": "2025-03-17T20:41:04.845Z"
   },
   {
    "duration": 10,
    "start_time": "2025-03-17T20:41:04.896Z"
   },
   {
    "duration": 145,
    "start_time": "2025-03-17T20:41:04.908Z"
   },
   {
    "duration": 14,
    "start_time": "2025-03-17T20:41:05.055Z"
   },
   {
    "duration": 43,
    "start_time": "2025-03-17T20:41:05.075Z"
   },
   {
    "duration": 21,
    "start_time": "2025-03-17T20:41:05.119Z"
   },
   {
    "duration": 12,
    "start_time": "2025-03-17T20:41:05.142Z"
   },
   {
    "duration": 78,
    "start_time": "2025-03-17T20:41:05.156Z"
   },
   {
    "duration": 34,
    "start_time": "2025-03-17T20:41:05.236Z"
   },
   {
    "duration": 36,
    "start_time": "2025-03-17T20:41:05.277Z"
   },
   {
    "duration": 29,
    "start_time": "2025-03-17T20:41:05.315Z"
   },
   {
    "duration": 9,
    "start_time": "2025-03-17T20:41:05.346Z"
   },
   {
    "duration": 40,
    "start_time": "2025-03-17T20:41:05.357Z"
   },
   {
    "duration": 24,
    "start_time": "2025-03-17T20:41:05.398Z"
   },
   {
    "duration": 5,
    "start_time": "2025-03-17T20:41:05.423Z"
   },
   {
    "duration": 52,
    "start_time": "2025-03-17T20:41:05.429Z"
   },
   {
    "duration": 28,
    "start_time": "2025-03-17T20:41:05.492Z"
   },
   {
    "duration": 11,
    "start_time": "2025-03-17T20:41:05.521Z"
   },
   {
    "duration": 66,
    "start_time": "2025-03-17T20:41:05.533Z"
   },
   {
    "duration": 23,
    "start_time": "2025-03-17T20:41:05.600Z"
   },
   {
    "duration": 7,
    "start_time": "2025-03-17T20:41:05.625Z"
   },
   {
    "duration": 198,
    "start_time": "2025-03-17T20:41:05.634Z"
   },
   {
    "duration": 7,
    "start_time": "2025-03-17T20:41:05.834Z"
   },
   {
    "duration": 391,
    "start_time": "2025-03-17T20:41:05.843Z"
   },
   {
    "duration": 10,
    "start_time": "2025-03-17T20:41:06.236Z"
   },
   {
    "duration": 370,
    "start_time": "2025-03-17T20:41:06.247Z"
   },
   {
    "duration": 6,
    "start_time": "2025-03-17T20:41:06.619Z"
   },
   {
    "duration": 306,
    "start_time": "2025-03-17T20:41:06.627Z"
   },
   {
    "duration": 10,
    "start_time": "2025-03-17T20:41:06.935Z"
   },
   {
    "duration": 50,
    "start_time": "2025-03-17T20:41:06.946Z"
   },
   {
    "duration": 7,
    "start_time": "2025-03-17T20:41:06.997Z"
   },
   {
    "duration": 353,
    "start_time": "2025-03-17T20:41:07.005Z"
   },
   {
    "duration": 16,
    "start_time": "2025-03-17T20:41:07.373Z"
   },
   {
    "duration": 145,
    "start_time": "2025-03-17T20:41:07.391Z"
   },
   {
    "duration": 164,
    "start_time": "2025-03-17T20:41:07.537Z"
   },
   {
    "duration": 480,
    "start_time": "2025-03-17T20:41:07.703Z"
   },
   {
    "duration": 173,
    "start_time": "2025-03-17T20:41:08.185Z"
   },
   {
    "duration": 20,
    "start_time": "2025-03-17T20:41:08.367Z"
   },
   {
    "duration": 7,
    "start_time": "2025-03-17T20:41:08.388Z"
   },
   {
    "duration": 354,
    "start_time": "2025-03-17T20:41:08.397Z"
   },
   {
    "duration": 25,
    "start_time": "2025-03-17T20:41:08.754Z"
   },
   {
    "duration": 210030,
    "start_time": "2025-03-17T20:41:08.788Z"
   },
   {
    "duration": 291,
    "start_time": "2025-03-17T20:44:38.820Z"
   },
   {
    "duration": 22,
    "start_time": "2025-03-17T20:44:39.113Z"
   },
   {
    "duration": 628,
    "start_time": "2025-03-17T20:44:39.136Z"
   },
   {
    "duration": 408,
    "start_time": "2025-03-17T20:44:39.767Z"
   },
   {
    "duration": 23,
    "start_time": "2025-03-17T20:44:40.177Z"
   },
   {
    "duration": 23,
    "start_time": "2025-03-17T20:44:40.202Z"
   },
   {
    "duration": 772,
    "start_time": "2025-03-17T20:44:40.227Z"
   },
   {
    "duration": 4263,
    "start_time": "2025-03-18T05:22:34.060Z"
   },
   {
    "duration": 318,
    "start_time": "2025-03-18T05:22:38.325Z"
   },
   {
    "duration": 17,
    "start_time": "2025-03-18T05:22:38.644Z"
   },
   {
    "duration": 21,
    "start_time": "2025-03-18T05:22:38.662Z"
   },
   {
    "duration": 27,
    "start_time": "2025-03-18T05:22:38.685Z"
   },
   {
    "duration": 10,
    "start_time": "2025-03-18T05:22:38.715Z"
   },
   {
    "duration": 9,
    "start_time": "2025-03-18T05:22:38.727Z"
   },
   {
    "duration": 10,
    "start_time": "2025-03-18T05:22:38.737Z"
   },
   {
    "duration": 39,
    "start_time": "2025-03-18T05:22:38.748Z"
   },
   {
    "duration": 29,
    "start_time": "2025-03-18T05:22:38.789Z"
   },
   {
    "duration": 14,
    "start_time": "2025-03-18T05:22:38.823Z"
   },
   {
    "duration": 4,
    "start_time": "2025-03-18T05:22:38.839Z"
   },
   {
    "duration": 20,
    "start_time": "2025-03-18T05:22:38.845Z"
   },
   {
    "duration": 46,
    "start_time": "2025-03-18T05:22:38.868Z"
   },
   {
    "duration": 10,
    "start_time": "2025-03-18T05:22:38.915Z"
   },
   {
    "duration": 11,
    "start_time": "2025-03-18T05:22:38.927Z"
   },
   {
    "duration": 60,
    "start_time": "2025-03-18T05:22:38.940Z"
   },
   {
    "duration": 38,
    "start_time": "2025-03-18T05:22:39.006Z"
   },
   {
    "duration": 43,
    "start_time": "2025-03-18T05:22:39.046Z"
   },
   {
    "duration": 24,
    "start_time": "2025-03-18T05:22:39.095Z"
   },
   {
    "duration": 139,
    "start_time": "2025-03-18T05:22:39.125Z"
   },
   {
    "duration": 23,
    "start_time": "2025-03-18T05:22:39.266Z"
   },
   {
    "duration": 28,
    "start_time": "2025-03-18T05:22:39.297Z"
   },
   {
    "duration": 15,
    "start_time": "2025-03-18T05:22:39.327Z"
   },
   {
    "duration": 13,
    "start_time": "2025-03-18T05:22:39.344Z"
   },
   {
    "duration": 71,
    "start_time": "2025-03-18T05:22:39.359Z"
   },
   {
    "duration": 41,
    "start_time": "2025-03-18T05:22:39.432Z"
   },
   {
    "duration": 21,
    "start_time": "2025-03-18T05:22:39.474Z"
   },
   {
    "duration": 49,
    "start_time": "2025-03-18T05:22:39.496Z"
   },
   {
    "duration": 7,
    "start_time": "2025-03-18T05:22:39.547Z"
   },
   {
    "duration": 61,
    "start_time": "2025-03-18T05:22:39.555Z"
   },
   {
    "duration": 22,
    "start_time": "2025-03-18T05:22:39.618Z"
   },
   {
    "duration": 6,
    "start_time": "2025-03-18T05:22:39.642Z"
   },
   {
    "duration": 31,
    "start_time": "2025-03-18T05:22:39.650Z"
   },
   {
    "duration": 45,
    "start_time": "2025-03-18T05:22:39.683Z"
   },
   {
    "duration": 16,
    "start_time": "2025-03-18T05:22:39.730Z"
   },
   {
    "duration": 5,
    "start_time": "2025-03-18T05:22:39.748Z"
   },
   {
    "duration": 22,
    "start_time": "2025-03-18T05:22:39.755Z"
   },
   {
    "duration": 26,
    "start_time": "2025-03-18T05:22:39.778Z"
   },
   {
    "duration": 212,
    "start_time": "2025-03-18T05:22:39.805Z"
   },
   {
    "duration": 6,
    "start_time": "2025-03-18T05:22:40.021Z"
   },
   {
    "duration": 389,
    "start_time": "2025-03-18T05:22:40.029Z"
   },
   {
    "duration": 8,
    "start_time": "2025-03-18T05:22:40.419Z"
   },
   {
    "duration": 322,
    "start_time": "2025-03-18T05:22:40.429Z"
   },
   {
    "duration": 20,
    "start_time": "2025-03-18T05:22:40.753Z"
   },
   {
    "duration": 275,
    "start_time": "2025-03-18T05:22:40.777Z"
   },
   {
    "duration": 34,
    "start_time": "2025-03-18T05:22:41.053Z"
   },
   {
    "duration": 8,
    "start_time": "2025-03-18T05:22:41.094Z"
   },
   {
    "duration": 10,
    "start_time": "2025-03-18T05:22:41.103Z"
   },
   {
    "duration": 350,
    "start_time": "2025-03-18T05:22:41.115Z"
   },
   {
    "duration": 28,
    "start_time": "2025-03-18T05:22:41.466Z"
   },
   {
    "duration": 149,
    "start_time": "2025-03-18T05:22:41.502Z"
   },
   {
    "duration": 166,
    "start_time": "2025-03-18T05:22:41.653Z"
   },
   {
    "duration": 505,
    "start_time": "2025-03-18T05:22:41.821Z"
   },
   {
    "duration": 196,
    "start_time": "2025-03-18T05:22:42.332Z"
   },
   {
    "duration": 11,
    "start_time": "2025-03-18T05:22:42.530Z"
   },
   {
    "duration": 33,
    "start_time": "2025-03-18T05:22:42.544Z"
   },
   {
    "duration": 372,
    "start_time": "2025-03-18T05:22:42.585Z"
   },
   {
    "duration": 4,
    "start_time": "2025-03-18T05:22:42.958Z"
   },
   {
    "duration": 264174,
    "start_time": "2025-03-18T05:22:42.964Z"
   },
   {
    "duration": 317,
    "start_time": "2025-03-18T05:27:07.140Z"
   },
   {
    "duration": 34,
    "start_time": "2025-03-18T05:27:07.459Z"
   },
   {
    "duration": 669,
    "start_time": "2025-03-18T05:27:07.501Z"
   },
   {
    "duration": 382,
    "start_time": "2025-03-18T05:27:08.176Z"
   },
   {
    "duration": 24,
    "start_time": "2025-03-18T05:27:08.560Z"
   },
   {
    "duration": 30,
    "start_time": "2025-03-18T05:27:08.586Z"
   },
   {
    "duration": 819,
    "start_time": "2025-03-18T05:27:08.618Z"
   }
  ],
  "colab": {
   "provenance": []
  },
  "kernelspec": {
   "display_name": "Python 3 (ipykernel)",
   "language": "python",
   "name": "python3"
  },
  "language_info": {
   "codemirror_mode": {
    "name": "ipython",
    "version": 3
   },
   "file_extension": ".py",
   "mimetype": "text/x-python",
   "name": "python",
   "nbconvert_exporter": "python",
   "pygments_lexer": "ipython3",
   "version": "3.9.7"
  },
  "toc": {
   "base_numbering": 1,
   "nav_menu": {},
   "number_sections": true,
   "sideBar": true,
   "skip_h1_title": true,
   "title_cell": "Table of Contents",
   "title_sidebar": "Contents",
   "toc_cell": false,
   "toc_position": {
    "height": "calc(100% - 180px)",
    "left": "10px",
    "top": "150px",
    "width": "349.091px"
   },
   "toc_section_display": true,
   "toc_window_display": true
  }
 },
 "nbformat": 4,
 "nbformat_minor": 5
}
